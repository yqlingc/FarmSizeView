{
 "cells": [
  {
   "cell_type": "markdown",
   "metadata": {},
   "source": [
    "## An Estimated model of the US Farm Size Distribution"
   ]
  },
  {
   "cell_type": "markdown",
   "metadata": {},
   "source": [
    "The following presents a relatively parsimonious three-factor general equilibrium model of the farm size distribution for the US agricultural economy which is then calibrated/estimated using the method of moments.  We model production using a nested three-factor CES production technology that employs land, capital and labor and that is augmented by non-traded farming skill/managerial talent.\n",
    "\n",
    "The analysis is broadly similar in focus to the recent Adamopoulus and Restuccia's (2014) article [The Size Distribution of Farms and International Productivity Differences](https://www.aeaweb.org/articles.php?doi=10.1257/aer.104.6.1667) but with a few improvements: (1) we incorporate labor into the analysis (theirs assumes jus capital and land); (2) we estimate all key parameters in the model to match key variables, and (3) we employ a more parsimonious model to avoid several questionable assumptions."
   ]
  },
  {
   "cell_type": "markdown",
   "metadata": {},
   "source": [
    "We use a three-input CES production function capable of generating some key stylized facts about the US farm economy (we demonstrate these facts empirically using USDA data in a section below). Adamopolous/Restuccia also lay them out as important but their modeling is a bit different. These facts for the US economy include:\n",
    "\n",
    "1. the capital-land and labor-land ratios tend to fall as farm size goes up\n",
    "\n",
    "2. the capital/labor ratio remains more or less constant at most farm sizes.\n",
    "\n",
    "We take it that unobserved differences in farming skill or managerial ability determine productivity differences across farms to determine differences in factor inputs and therefore in farm size.  This is similar to Lucas' (1978) span-of-control model except that to be consistent with the stylized facts we will work with a non-homothetic production function, one where the unobserved 'skill' or poductivity parameter is thought of as something that enhances land-use management primarily.In the right parameter region this will make it land-augmenting and capital and labor saving, consistent with the stylized facts.\n",
    "\n",
    "Accordingly, consider the nested CES production function.\n",
    "\n",
    "$y=\\left[\\left(a_ll^\\rho+a_kk^\\rho\\right)^\\frac{\\phi}{\\rho}+st^\\phi\\right]^\\frac{\\gamma}{\\phi}$\n",
    "\n",
    "Every would-be farmer has this production function and non-traded skill level $s$.  Faced with labor, capital and land factor prices $(w,r,q)$ land and labor demands will be given by:\n",
    "\n",
    "$t=\\gamma^\\frac{1}{1-\\gamma}\\left[Z^{\\frac{\\phi}{1-\\phi}\\frac{1-\\rho}{\\rho}}+s\\left(\\frac{s}{q}\\right)^\\frac{\\phi}{1-\\phi}\\right]^\\frac{\\gamma-\\phi}{\\phi(1-\\gamma)}\\left(\\frac{s}{q}\\right)^\\frac{1}{1-\\phi}$\n",
    "\n",
    "\n",
    "$l=\\gamma^\\frac{1}{1-\\gamma}\\left[Z^{\\frac{\\phi}{1-\\phi}\\frac{1-\\rho}{\\rho}}+s\\left(\\frac{s}{q}\\right)^\\frac{\\phi}{1-\\phi}\\right]^\\frac{\\gamma-\\phi}{\\phi(1-\\gamma)}Z^\\frac{\\phi-\\rho}{\\rho(1-\\phi)}\\left(\\frac{a_l}{w}\\right)^\\frac{1}{1-\\rho}$\n",
    "\n",
    "where $Z=a_l\\left(\\frac{a_l}{w}\\right)^\\frac{\\rho}{1-\\rho}+a_k\\left(\\frac{a_k}{r}\\right)^\\frac{\\rho}{1-\\rho}$\n",
    "\n",
    "The equilibrium labor/land ratio is:\n",
    "\n",
    "$\\frac{l}{t}=\\frac{\\left[s\\left(\\frac{s}{q}\\right)^\\frac{\\rho}{1-\\rho}+a_l\\left(\\frac{a_l}{w}\\right)^\\frac{\\rho}{1-\\rho}\\right]^\\frac{\\phi-\\rho}{\\rho(1-\\phi)}\\left(\\frac{a_l}{w}\\right)^\\frac{1}{1-\\rho}}{\\left(\\frac{s}{q}\\right)^\\frac{1}{1-\\phi}} $\n",
    "\n",
    "This ratio will go down if $\\phi$ is smaller than $\\rho$. The capital-land ratio is given by:\n",
    "\n",
    "$\\frac{k}{t}=\\frac{\\left[a_k\\left(\\frac{a_k}{r}\\right)^\\frac{\\rho}{1-\\rho}+a_l\\left(\\frac{a_l}{w}\\right)^\\frac{\\rho}{1-\\rho}\\right]^\\frac{\\phi-\\rho}{\\rho(1-\\phi)}\\left(\\frac{k}{r}\\right)^\\frac{1}{1-\\rho}}{\\left(\\frac{s}{t}\\right)^\\frac{1}{1-\\phi}} $\n",
    "\n",
    "Finally, the labor/capital ratio is simply:\n",
    "\n",
    "$\\frac{l}{k}=\\left(\\frac{a_l}{a_k}\\frac{r}{w}\\right)^\\frac{1}{1-\\rho}$\n",
    "\n",
    "Let's lay down a few parameter values (note that the ordering of $\\rho, \\phi$, and $\\gamma$ matters) to demonstrate this framework is capable of generating the stylized facts."
   ]
  },
  {
   "cell_type": "code",
   "execution_count": 1,
   "metadata": {
    "collapsed": true
   },
   "outputs": [],
   "source": [
    "%matplotlib inline             \n",
    "import matplotlib.pyplot as plt\n",
    "\n",
    "import numpy as np\n",
    "import scipy.optimize as so        # scientific functions needed later\n",
    "from math import exp\n",
    "from scipy.stats import norm, lognorm\n",
    "from scipy.integrate import quad\n",
    "from scipy.optimize import newton"
   ]
  },
  {
   "cell_type": "markdown",
   "metadata": {},
   "source": [
    "Production function and factor demand parameters for initial illustration."
   ]
  },
  {
   "cell_type": "code",
   "execution_count": 40,
   "metadata": {
    "collapsed": false
   },
   "outputs": [],
   "source": [
    "rho=.3\n",
    "phi=.5\n",
    "gam=.7\n",
    "w=1\n",
    "r=1\n",
    "q=1\n",
    "al=1\n",
    "ak=1.1"
   ]
  },
  {
   "cell_type": "markdown",
   "metadata": {},
   "source": [
    "A function to compute the capital land ratio as a function of skill level $s$:"
   ]
  },
  {
   "cell_type": "code",
   "execution_count": 3,
   "metadata": {
    "collapsed": false
   },
   "outputs": [],
   "source": [
    "def ktrat(s):\n",
    "    part1=(ak/r)**(1/(1-rho))\n",
    "    part2=(s/q)**(1/(1-phi))\n",
    "    part3=(ak*(ak/r)**(1/(1-rho))+al*(al/w)**(1/(1-rho)))**((phi-rho)/(rho*(1-phi)))\n",
    "    rat=part3*part1/part2\n",
    "    return rat"
   ]
  },
  {
   "cell_type": "markdown",
   "metadata": {},
   "source": [
    "Now, a function to compute the land labor ratio:"
   ]
  },
  {
   "cell_type": "code",
   "execution_count": 4,
   "metadata": {
    "collapsed": false
   },
   "outputs": [],
   "source": [
    "def ltrat(s):\n",
    "    part1=(al/w)**(1/(1-rho))\n",
    "    part2=(s/q)**(1/(1-phi))\n",
    "    part3=(ak*(ak/r)**(1/(1-rho))+al*(al/w)**(1/(1-rho)))**((phi-rho)/(rho*(1-phi)))\n",
    "    rat=part3*part1/part2\n",
    "    return rat"
   ]
  },
  {
   "cell_type": "markdown",
   "metadata": {},
   "source": [
    "Finally, a function to compute the labor capital ratio (which really doesn't have to be a function, but we leave it like this to allow for future flexibility:"
   ]
  },
  {
   "cell_type": "markdown",
   "metadata": {},
   "source": [
    "Here and below we shall assume there are $N$ would be farmers or points in the farm skill distribution."
   ]
  },
  {
   "cell_type": "code",
   "execution_count": 5,
   "metadata": {
    "collapsed": false
   },
   "outputs": [],
   "source": [
    "N = 100"
   ]
  },
  {
   "cell_type": "code",
   "execution_count": 6,
   "metadata": {
    "collapsed": false
   },
   "outputs": [],
   "source": [
    "def lkrat(s):\n",
    "    part1=(al/w)**(1/(1-rho))\n",
    "    part2=(ak/w)**(1/(1-rho))\n",
    "    return (part2/part1)*np.ones(N)"
   ]
  },
  {
   "cell_type": "markdown",
   "metadata": {},
   "source": [
    "Let's just plot these functions and see how they vary with the level of skill (again, this is just variation in $s_1$, everything else fixed)."
   ]
  },
  {
   "cell_type": "code",
   "execution_count": 7,
   "metadata": {
    "collapsed": false
   },
   "outputs": [],
   "source": [
    "si=np.linspace(.51,3,N)               # plotting ratios as functions of skill\n",
    "                                      # to see if we get the right relationship."
   ]
  },
  {
   "cell_type": "code",
   "execution_count": 8,
   "metadata": {
    "collapsed": false
   },
   "outputs": [],
   "source": [
    "KTrat=ktrat(si)             #MATT: no need to loop as already vectorized - JONATHAN: awesome so that's how this is done!\n",
    "LTrat=ltrat(si)\n",
    "LKrat=lkrat(si)"
   ]
  },
  {
   "cell_type": "code",
   "execution_count": 37,
   "metadata": {
    "collapsed": false
   },
   "outputs": [
    {
     "data": {
      "image/png": "[encoded data removed]",
      "text/plain": [
       "<matplotlib.figure.Figure at 0x16760242e8>"
      ]
     },
     "metadata": {},
     "output_type": "display_data"
    }
   ],
   "source": [
    "plt.plot(KTrat,'--g',label='capital land ratio')\n",
    "plt.plot(LTrat,'-b',label='labor land ratio')\n",
    "plt.plot(LKrat,'-r',label='labor capital ratio')\n",
    "plt.xlabel('Level of Land-Augmenting Skill (s1)')\n",
    "plt.ylabel('KTratio, LTratio, LKratio')\n",
    "plt.title('Figure 1')\n",
    "plt.legend()\n",
    "plt.show()"
   ]
  },
  {
   "cell_type": "markdown",
   "metadata": {},
   "source": [
    "It bears mentioning that this graph captures in a rough way basic empirical facts about agriculture - that labor and capital intensity go down as the size of parcel - which is proportionate to skill - increases. We can also describe how input demands work as functions of skill, which might be even more suggestive:"
   ]
  },
  {
   "cell_type": "code",
   "execution_count": 10,
   "metadata": {
    "collapsed": false
   },
   "outputs": [],
   "source": [
    "def xDemands(s):\n",
    "    Z=al*(al/w)**(rho/(1-rho))+ak*(ak/r)**(rho/(1-rho))\n",
    "    CommonComponent=(Z**((phi/(1-phi))*((1-rho)/rho))+s*(s/q)**(phi/(1-phi)))\n",
    "    CommonComponentPower=CommonComponent**((gam-phi)/(phi*(1-gam)))\n",
    "    ld=gam**(1/(1-gam))*CommonComponentPower*Z**((phi-rho)/(rho*(1-phi)))*(al/w)**(1/(1-rho))\n",
    "    kd=gam**(1/(1-gam))*CommonComponentPower*Z**((phi-rho)/(rho*(1-phi)))*(ak/r)**(1/(1-rho))\n",
    "    td=gam**(1/(1-gam))*CommonComponentPower*(s/q)**(1/(1-phi))\n",
    "    return (ld,kd,td)"
   ]
  },
  {
   "cell_type": "code",
   "execution_count": 11,
   "metadata": {
    "collapsed": false
   },
   "outputs": [],
   "source": [
    "LD,KD,TD=xDemands(si)"
   ]
  },
  {
   "cell_type": "markdown",
   "metadata": {},
   "source": [
    "Armed with these demands, we can now plot them and see the role of capital augmenting skill."
   ]
  },
  {
   "cell_type": "code",
   "execution_count": 38,
   "metadata": {
    "collapsed": false
   },
   "outputs": [
    {
     "data": {
      "image/png": "[encoded data removed]",
      "text/plain": [
       "<matplotlib.figure.Figure at 0x16755fa240>"
      ]
     },
     "metadata": {},
     "output_type": "display_data"
    }
   ],
   "source": [
    "plt.plot(LD,'--g',label='capital demand')\n",
    "plt.plot(KD,'-b',label='labor demand')\n",
    "plt.plot(TD,'-r',label='land demand')\n",
    "plt.xlabel('Level of Augmenting Skill (s)')\n",
    "plt.ylabel('Demands')\n",
    "plt.title('Figure 2')\n",
    "plt.legend(loc='upper left')\n",
    "plt.show()"
   ]
  },
  {
   "cell_type": "markdown",
   "metadata": {},
   "source": [
    "That seems to be about the way it should look - as farmer skill rises, the farmer demands more of everything, but the demand for land rises faster for land, as opposed to capital and labor. So capital and labor intensity is higher for smaller farms. "
   ]
  },
  {
   "cell_type": "markdown",
   "metadata": {},
   "source": [
    "Finally, let's look at output per unit input"
   ]
  },
  {
   "cell_type": "code",
   "execution_count": 41,
   "metadata": {
    "collapsed": true
   },
   "outputs": [],
   "source": [
    "def prodn(s,T,K,L):\n",
    "    return (( (al*L**rho+ak*K**rho)**phi/rho  + s*T**phi) )**(gam/phi)"
   ]
  },
  {
   "cell_type": "code",
   "execution_count": 42,
   "metadata": {
    "collapsed": false
   },
   "outputs": [
    {
     "data": {
      "image/png": "[encoded data removed]",
      "text/plain": [
       "<matplotlib.figure.Figure at 0x16755db0f0>"
      ]
     },
     "metadata": {},
     "output_type": "display_data"
    }
   ],
   "source": [
    "YO=prodn(si,TD,KD,LD)\n",
    "plt.plot(TD,YO/TD,label='output per unit land')\n",
    "plt.xlabel('Land Size')\n",
    "plt.ylabel('Output')\n",
    "plt.title('Figure 3 - Inverse-Farm Size Relationship')\n",
    "plt.show()"
   ]
  },
  {
   "cell_type": "markdown",
   "metadata": {},
   "source": [
    "Table 6 of the 2013 USDA's publication [\"Farm Size and the Organization of U. S. Crop Farming\"](http://www.ers.usda.gov/media/1156726/err152.pdf) gives information on the size distribution (in 6 quantiles), for three types of farms - Corn, Soybean, and Wheat farms. Labor and capital input usage is broken into six size classes are Less than 100, 100-249, 250-499,500-999, 1000-1999, and 2000+.\n",
    "\n",
    "Actual land used is broken into more classes, so we will also input that data. First, the land usage data. The first row is the fraction of firms at each size octile. The second row is the fraction of agricultural land held by those firms. The sizes are Less than 10, 10 to 49, 49-99, 100-249, 250-499,500-999, 1000-1999, and 2000+. Note that the cut points for binning are a little different for labor and capital, where we have 0-100, 100-250, 250-500, 500-999, 1000-1999, and 2000+. So we will also add a term for this:\n"
   ]
  },
  {
   "cell_type": "code",
   "execution_count": 15,
   "metadata": {
    "collapsed": false
   },
   "outputs": [],
   "source": [
    "LandOctiles=np.array([[11.2,32.5,16.0,15.1,13.4,6.1,3.9,1.7],\n",
    "                      [0.2,3.5,4.7,8.8,17.8,18.2,22.7,24.1]])    #Not really octiles - just eight size groups\n",
    "LandSizeCuts=np.array([10,50,100,250,500,1000,2000])\n",
    "LandSizeCutsLK=np.array([100,250,500,1000,2000])"
   ]
  },
  {
   "cell_type": "markdown",
   "metadata": {},
   "source": [
    "The bar plot below essentially reproduces the USDA's figure describing this data as follows:"
   ]
  },
  {
   "cell_type": "code",
   "execution_count": 43,
   "metadata": {
    "collapsed": false
   },
   "outputs": [
    {
     "data": {
      "image/png": "[encoded data removed]",
      "text/plain": [
       "<matplotlib.figure.Figure at 0x1675fd6080>"
      ]
     },
     "metadata": {},
     "output_type": "display_data"
    }
   ],
   "source": [
    "fig, ax = plt.subplots()\n",
    "\n",
    "index = np.arange(8)\n",
    "bar_width = 0.45\n",
    "\n",
    "opacity = 0.8\n",
    "error_config = {'ecolor': '0.3'}\n",
    "\n",
    "rects1 = plt.bar(index, LandOctiles[0,:], bar_width,\n",
    "                 alpha=opacity,\n",
    "                 color='b',\n",
    "                 label='Percent of farms')\n",
    "\n",
    "rects2 = plt.bar(index + bar_width, LandOctiles[1,:], bar_width,\n",
    "                 alpha=opacity,\n",
    "                 color='r',\n",
    "                 label='Percent of land use')\n",
    "ax.set_xticks(index+bar_width)\n",
    "ax.set_xticklabels( ('<9', '10-49', '50-99', '100-199', '200-499','500-999','1000-1999','2000+') )\n",
    "\n",
    "plt.ylabel('Percentage')\n",
    "plt.title(\"Figure 4 - Land and Labor Usage across Different Farms\")\n",
    "\n",
    "plt.tight_layout()\n",
    "plt.legend()\n",
    "plt.show()"
   ]
  },
  {
   "cell_type": "markdown",
   "metadata": {},
   "source": [
    "Here is the labor - to be precise, mean hour per harvested acre, where the first row is corn, the second is soybeans, and the third wheat:\n"
   ]
  },
  {
   "cell_type": "code",
   "execution_count": 17,
   "metadata": {
    "collapsed": false
   },
   "outputs": [],
   "source": [
    "LaborSextiles=np.array([[38.6,12.3,7.8,5.7,3.5,2.7],\n",
    "                        [45.7,10.4,7.3,5.8,3.8,3.0],\n",
    "                        [40.4,8.7,5.8,5.3,3.2,2.2]],dtype=float)"
   ]
  },
  {
   "cell_type": "markdown",
   "metadata": {},
   "source": [
    "Next, here is capital:, which is in terms of dollars per harvested acre for each of three crops:"
   ]
  },
  {
   "cell_type": "code",
   "execution_count": 18,
   "metadata": {
    "collapsed": false
   },
   "outputs": [],
   "source": [
    "CapitalSextiles=np.array([[2532,847,683,568,505,432],\n",
    "                          [2880,826,640,535,387,332],\n",
    "                          [3325,588,396,320,278,242]])"
   ]
  },
  {
   "cell_type": "code",
   "execution_count": 44,
   "metadata": {
    "collapsed": false
   },
   "outputs": [
    {
     "data": {
      "image/png": "[encoded data removed]",
      "text/plain": [
       "<matplotlib.figure.Figure at 0x16771b11d0>"
      ]
     },
     "metadata": {},
     "output_type": "display_data"
    }
   ],
   "source": [
    "fig, ax = plt.subplots()\n",
    "\n",
    "index = np.arange(6)\n",
    "bar_width = 0.25\n",
    "\n",
    "opacity = 0.4\n",
    "error_config = {'ecolor': '0.3'}\n",
    "\n",
    "rects1 = plt.bar(index, LaborSextiles[0,:], bar_width,\n",
    "                 alpha=opacity,\n",
    "                 color='b',\n",
    "                 label='Corn')\n",
    "\n",
    "rects2 = plt.bar(index + bar_width, LaborSextiles[1,:], bar_width,\n",
    "                 alpha=opacity,\n",
    "                 color='r',\n",
    "                 label='Soy')\n",
    "\n",
    "rects3 = plt.bar(index + bar_width*2, LaborSextiles[2,:], bar_width,\n",
    "                 alpha=opacity,\n",
    "                 color='g',\n",
    "                 label='Wheat')\n",
    "\n",
    "plt.title('Figure 5 - Labor Used in Harvesting Corn, Soy, Wheat')\n",
    "ax.set_xticks(index+2*bar_width)\n",
    "ax.set_xticklabels(('1','2','3','4','5','6'))\n",
    "\n",
    "plt.tight_layout()\n",
    "plt.legend()\n",
    "plt.show()"
   ]
  },
  {
   "cell_type": "markdown",
   "metadata": {},
   "source": [
    "The above shows how the skill distribution fades as we move along. Note the close similarity across each crop. Next, let's try capital:"
   ]
  },
  {
   "cell_type": "code",
   "execution_count": 45,
   "metadata": {
    "collapsed": false
   },
   "outputs": [
    {
     "data": {
      "image/png": "[encoded data removed]",
      "text/plain": [
       "<matplotlib.figure.Figure at 0x167729d080>"
      ]
     },
     "metadata": {},
     "output_type": "display_data"
    }
   ],
   "source": [
    "fig, ax = plt.subplots()\n",
    "\n",
    "index = np.arange(6)\n",
    "bar_width = 0.25\n",
    "\n",
    "opacity = 0.4\n",
    "error_config = {'ecolor': '0.3'}\n",
    "\n",
    "rects1 = plt.bar(index, CapitalSextiles[0,:], bar_width,\n",
    "                 alpha=opacity,\n",
    "                 color='b',\n",
    "                 label='Corn')\n",
    "\n",
    "rects2 = plt.bar(index + bar_width, CapitalSextiles[1,:], bar_width,\n",
    "                 alpha=opacity,\n",
    "                 color='r',\n",
    "                 label='Soy')\n",
    "\n",
    "rects3 = plt.bar(index + bar_width*2, CapitalSextiles[2,:], bar_width,\n",
    "                 alpha=opacity,\n",
    "                 color='g',\n",
    "                 label='Wheat')\n",
    "\n",
    "ax.set_xticks(index+2*bar_width)\n",
    "ax.set_xticklabels(('1','2','3','4','5','6'))\n",
    "\n",
    "plt.ylabel('Dollars per Harvested Acre')\n",
    "plt.title('Figure 6 - Capital Used in Harvesting Corn, Soy, Wheat')\n",
    "\n",
    "plt.tight_layout()\n",
    "plt.legend()\n",
    "plt.show()"
   ]
  },
  {
   "cell_type": "markdown",
   "metadata": {},
   "source": [
    "Now, a simple empirical exercise we might engage in is to try to get our skill distribution (which means find the parameters of the skill distribution which we shall assume to be lognormal) to generate equilibrium demands that match the sextiles of the capital-land, labor-land, and labor-capital ratios. \n",
    "\n",
    "In so doing, we first have to decide what things we would like to take as given. Moreover, we have to think about how to translate expenditures on things into actual units (Adamopoulos/Restuccia seem to like to leave these things as free variables in the optimization).\n",
    "\n",
    "Along these lines, we need a function that takes in a mean and a variance, creates a skill distribution, bins the resulting factor demands, and then sees how closely the empirical distribution matches the actual one. \n",
    "\n",
    "Before doing this, let's just get a farm rental rate. I'm setting this at 25\\$, I googled and found a rate of \\$249 a day for some piece of equipment, so dividing this by 10 working hours in a day gives 25\\$. Our targets will be:"
   ]
  },
  {
   "cell_type": "code",
   "execution_count": 21,
   "metadata": {
    "collapsed": false
   },
   "outputs": [],
   "source": [
    "LaborTarget=np.mean(LaborSextiles,axis=0)\n",
    "CapitalTarget=np.mean(CapitalSextiles,axis=0)\n",
    "R=25.00\n",
    "CapitalTarget=CapitalTarget/R"
   ]
  },
  {
   "cell_type": "code",
   "execution_count": 22,
   "metadata": {
    "collapsed": false
   },
   "outputs": [
    {
     "name": "stdout",
     "output_type": "stream",
     "text": [
      "[ 116.49333333   30.14666667   22.92         18.97333333   15.6\n",
      "   13.41333333]\n",
      "[ 41.56666667  10.46666667   6.96666667   5.6          3.5          2.63333333]\n"
     ]
    }
   ],
   "source": [
    "print(CapitalTarget)\n",
    "print(LaborTarget)"
   ]
  },
  {
   "cell_type": "markdown",
   "metadata": {},
   "source": [
    "Now, let's see if we can calibrate some parameters to match this data, along with the size distribution data on land itself. We will do this to get the basic parameters of the production function along with the skill distribution. So, we will drop those we are trying to match. We will also define stand-alone demand functions, and integrals of these functions:"
   ]
  },
  {
   "cell_type": "code",
   "execution_count": 23,
   "metadata": {
    "collapsed": false
   },
   "outputs": [],
   "source": [
    "del al,ak,phi,rho,gam                                     # Drop parameters so we can solve for them instead"
   ]
  },
  {
   "cell_type": "code",
   "execution_count": 24,
   "metadata": {
    "collapsed": false
   },
   "outputs": [],
   "source": [
    "def LaborDemand(s,al,ak,phi,rho,gam):\n",
    "    Z=al*(al/w)**(rho/(1-rho))+ak*(ak/r)**(rho/(1-rho))\n",
    "    CommonComponent=(Z**((phi/(1-phi))*((1-rho)/rho))+s*(s/q)**(phi/(1-phi)))\n",
    "    CommonComponentPower=CommonComponent**((gam-phi)/(phi*(1-gam)))\n",
    "    ld=gam**(1/(1-gam))*CommonComponentPower*Z**((phi-rho)/(rho*(1-phi)))*(al/w)**(1/(1-rho))\n",
    "    return ld\n",
    "\n",
    "def CapitalDemand(s,al,ak,phi,rho,gam):\n",
    "    Z=al*(al/w)**(rho/(1-rho))+ak*(ak/r)**(rho/(1-rho))\n",
    "    CommonComponent=(Z**((phi/(1-phi))*((1-rho)/rho))+s*(s/q)**(phi/(1-phi)))\n",
    "    CommonComponentPower=CommonComponent**((gam-phi)/(phi*(1-gam)))\n",
    "    kd=gam**(1/(1-gam))*CommonComponentPower*Z**((phi-rho)/(rho*(1-phi)))*(ak/r)**(1/(1-rho))\n",
    "    return kd\n",
    "\n",
    "def LandDemand(s,al,ak,phi,rho,gam):\n",
    "    Z=al*(al/w)**(rho/(1-rho))+ak*(ak/r)**(rho/(1-rho))\n",
    "    CommonComponent=(Z**((phi/(1-phi))*((1-rho)/rho))+s*(s/q)**(phi/(1-phi)))\n",
    "    CommonComponentPower=CommonComponent**((gam-phi)/(phi*(1-gam)))\n",
    "    td=gam**(1/(1-gam))*CommonComponentPower*(s/q)**(1/(1-phi))\n",
    "    return td\n",
    "\n",
    "def LaborLandRat(s,al,ak,phi,rho,gam):\n",
    "    part1=(al/w)**(1/(1-rho))\n",
    "    part2=(s/q)**(1/(1-phi))\n",
    "    part3=(ak*(ak/r)**(1/(1-rho))+al*(al/w)**(1/(1-rho)))**((phi-rho)/(rho*(1-phi)))\n",
    "    rat=part3*part1/part2\n",
    "    return rat\n",
    "\n",
    "def CapitalLandRat(s,al,ak,phi,rho,gam):\n",
    "    part1=(ak/r)**(1/(1-rho))\n",
    "    part2=(s/q)**(1/(1-phi))\n",
    "    part3=(ak*(ak/r)**(1/(1-rho))+al*(al/w)**(1/(1-rho)))**((phi-rho)/(rho*(1-phi)))\n",
    "    rat=part3*part1/part2\n",
    "    return rat"
   ]
  },
  {
   "cell_type": "code",
   "execution_count": 25,
   "metadata": {
    "collapsed": false
   },
   "outputs": [],
   "source": [
    "def intLabor(s,mu,sigma,al,ak,phi,rho,gam):\n",
    "    val1=LaborLandRat(s,al,ak,phi,rho,gam)\n",
    "    val2=lognorm.pdf(s,sigma,mu)\n",
    "    return val1*val2\n",
    "\n",
    "def intCapital(s,mu,sigma,al,ak,phi,rho,gam):\n",
    "    val1=CapitalLandRat(s,al,ak,phi,rho,gam)\n",
    "    val2=lognorm.pdf(s,sigma,mu)\n",
    "    return val1*val2\n",
    "\n",
    "def intLand(s,mu,sigma,al,ak,phi,rho,gam):\n",
    "    val1=LandDemand(s,al,ak,phi,rho,gam)\n",
    "    val2=lognorm.pdf(s,sigma,mu)\n",
    "    return val1*val2"
   ]
  },
  {
   "cell_type": "markdown",
   "metadata": {},
   "source": [
    "Just a check to make sure that we can integrate the labor fuunction for some reasonable values:"
   ]
  },
  {
   "cell_type": "code",
   "execution_count": 26,
   "metadata": {
    "collapsed": false
   },
   "outputs": [
    {
     "name": "stdout",
     "output_type": "stream",
     "text": [
      "(32.000462709838644, 1.612677757422219e-07)\n",
      "(32.000462709838644, 1.612677757422219e-07)\n"
     ]
    }
   ],
   "source": [
    "M=.1\n",
    "S=1.0\n",
    "AL=1.0\n",
    "AK=1.0\n",
    "PHI=.7\n",
    "RHO=.5\n",
    "GAM=.8\n",
    "I1 = quad(intLabor, 0, np.inf, args=(M,S,AL,AK,PHI,RHO,GAM))\n",
    "I2 = quad(intCapital, 0, np.inf, args=(M,S,AL,AK,PHI,RHO,GAM))\n",
    "del M,S,AL,AK,PHI,RHO,GAM                                        #Just so they aren't laying around - keep that workspace neat!\n",
    "print(I1)\n",
    "print(I2)"
   ]
  },
  {
   "cell_type": "markdown",
   "metadata": {},
   "source": [
    "Next we define an objective function that matches values.  We are going to try to completely use the distributional information we have on labor, capital, and land demand. Recall that the labor and capital demand is in sextile form, while the land demand is in quantile form. Let's set up the sextiles and octtiles:"
   ]
  },
  {
   "cell_type": "markdown",
   "metadata": {},
   "source": [
    "One last bit of theory in pursuit of the idea of developing things in as closed-form as possible. We shall also want to look at the density of farms between the cut points, (0,10),(10,50), etc. Can we form the density directly from the land demand function? Recall that land demand is:\n",
    "\n",
    "$t=\\gamma^\\frac{1}{1-\\gamma}\\left[Z^{\\frac{\\phi}{1-\\phi}\\frac{1-\\rho}{\\rho}}+s\\left(\\frac{s}{q}\\right)^\\frac{\\phi}{1-\\phi}\\right]^\\frac{\\gamma-\\phi}{\\phi(1-\\gamma)}\\left(\\frac{s}{q}\\right)^\\frac{1}{1-\\phi}$\n",
    "\n",
    "What we want is to find the value of $s$ that corresponds with the given threshold or cut point values of $t=10,50,100,500,1000,2000$. Then, we can integrate demand functions between cut points $s(t_1),s(t_2),...s(t_N)$ and then go on from there. To do so, we will have to be able to find a value of $s$ given a value of $t$. Note we could be more scientific about this given the closed-form (i.e., program in the derivative of the function), but for now this does the job."
   ]
  },
  {
   "cell_type": "code",
   "execution_count": 27,
   "metadata": {
    "collapsed": false
   },
   "outputs": [
    {
     "name": "stdout",
     "output_type": "stream",
     "text": [
      "[[ 1.13325532]\n",
      " [ 1.39244988]\n",
      " [ 1.52080596]\n",
      " [ 1.70818487]\n",
      " [ 1.86469125]\n",
      " [ 2.03520425]\n",
      " [ 2.22100482]]\n"
     ]
    }
   ],
   "source": [
    "def findsGivent(s,t,al,ak,phi,rho,gam):\n",
    "    return t-LandDemand(s,al,ak,phi,rho,gam)\n",
    "\n",
    "AL=.1\n",
    "AK=.1\n",
    "PHI=.5\n",
    "RHO=.7\n",
    "GAM=.8\n",
    "T=1\n",
    "sCuts=np.zeros((7,1))\n",
    "newton(findsGivent,1,fprime=None,args=(T,AL,AK,PHI,RHO,GAM))\n",
    "for i in range(0,7):\n",
    "    sCuts[i]=newton(findsGivent,LandSizeCuts[i],fprime=None,args=(LandSizeCuts[i]/10,AL,AK,PHI,RHO,GAM),tol=1e-10,maxiter=1000)\n",
    "del AL,AK,PHI,RHO,GAM,T\n",
    "print(sCuts)\n",
    "del sCuts"
   ]
  },
  {
   "cell_type": "markdown",
   "metadata": {},
   "source": [
    "For given parameters our objective tells us how well we match the data, specifically we try to match labor and capital demands for farms of each of the different land size bins as well as get the "
   ]
  },
  {
   "cell_type": "code",
   "execution_count": 28,
   "metadata": {
    "collapsed": false
   },
   "outputs": [],
   "source": [
    "def objective(X,disp=True):\n",
    "    mu, sigma = X[0], X[1]\n",
    "    al, ak =exp(X[2]),exp(X[3])\n",
    "    gam=exp(X[6])/(1+exp(X[6]))\n",
    "    phi=exp(X[4])/(1+exp(X[4])) \n",
    "    rho=exp(X[5])/(1+exp(X[5]))\n",
    "    sCuts=np.zeros((7,1))\n",
    "    for i in range(0,7):\n",
    "        sCuts[i]=newton(findsGivent,LandSizeCuts[i],fprime=None,args=(LandSizeCuts[i]/10,al,ak,phi,rho,gam),tol=1e-8,maxiter=10000)\n",
    "    sCutsLK=np.zeros((5,1))\n",
    "    for i in range(0,5):\n",
    "        sCutsLK[i]=newton(findsGivent,LandSizeCutsLK[i],fprime=None,args=(LandSizeCuts[i]/10,al,ak,phi,rho,gam),tol=1e-8,maxiter=10000)\n",
    "    interSmeansL=np.zeros((6,1),dtype=float)\n",
    "    interSmeansK=np.zeros((6,1),dtype=float)\n",
    "    interOmeansT=np.zeros((8,1),dtype=float)\n",
    "    densityOT=np.zeros((8,1),dtype=float)\n",
    "    densityOLK=np.zeros((6,1),dtype=float)\n",
    "    for i in range(0,8):                                               #First compute the lower and upper values of 6 given sextiles\n",
    "        if i==0:\n",
    "            interOmeansT[i]=quad(intLand,0,sCuts[i],args=(mu,sigma,al,ak,phi,rho,gam))[0]\n",
    "            densityOT[i]=lognorm.cdf(sCuts[i],sigma,mu)\n",
    "            interOmeansT[i]=interOmeansT[i]/densityOT[i]\n",
    "        elif i==7:\n",
    "            interOmeansT[i]=quad(intLand,sCuts[i-1],np.Inf,args=(mu,sigma,al,ak,phi,rho,gam))[0]\n",
    "            densityOT[i]=1-lognorm.cdf(sCuts[i-1],sigma,mu)\n",
    "            interOmeansT[i]=interOmeansT[i]/densityOT[i]\n",
    "        else:\n",
    "            interOmeansT[i]=quad(intLand,sCuts[i-1],sCuts[i],args=(mu,sigma,al,ak,phi,rho,gam))[0]              # We don't really need this...\n",
    "            densityOT[i]=lognorm.cdf(sCuts[i],sigma,mu)-lognorm.cdf(sCuts[i-1],sigma,mu)\n",
    "            interOmeansT[i]=interOmeansT[i]/densityOT[i]\n",
    "    for i in range(0,6):\n",
    "        if i==0:\n",
    "            interSmeansL[i]=quad(intLabor,0,sCutsLK[i],args=(mu,sigma,al,ak,phi,rho,gam))[0]\n",
    "            interSmeansK[i]=quad(intCapital,0,sCutsLK[i],args=(mu,sigma,al,ak,phi,rho,gam))[0]\n",
    "            densityOLK[i]=lognorm.cdf(sCutsLK[i],sigma,mu)\n",
    "            interSmeansL[i]=interSmeansL[i]/densityOLK[i]\n",
    "            interSmeansK[i]=interSmeansK[i]/densityOLK[i]\n",
    "        elif i==5:\n",
    "            interSmeansL[i]=quad(intLabor,sCutsLK[i-1],np.Inf,args=(mu,sigma,al,ak,phi,rho,gam))[0]\n",
    "            interSmeansK[i]=quad(intCapital,sCutsLK[i-1],np.Inf,args=(mu,sigma,al,ak,phi,rho,gam))[0]\n",
    "            densityOLK[i]=1-lognorm.cdf(sCutsLK[i-1],sigma,mu)\n",
    "            interSmeansL[i]=interSmeansL[i]/densityOLK[i]\n",
    "            interSmeansK[i]=interSmeansK[i]/densityOLK[i]\n",
    "        else:\n",
    "            interSmeansL[i]=quad(intLabor,sCutsLK[i-1],sCutsLK[i],args=(mu,sigma,al,ak,phi,rho,gam))[0]\n",
    "            interSmeansK[i]=quad(intCapital,sCutsLK[i-1],sCutsLK[i],args=(mu,sigma,al,ak,phi,rho,gam))[0]\n",
    "            densityOLK[i]=lognorm.cdf(sCutsLK[i],sigma,mu)-lognorm.cdf(sCutsLK[i-1],sigma,mu)\n",
    "            interSmeansL[i]=interSmeansL[i]/densityOLK[i]\n",
    "            interSmeansK[i]=interSmeansK[i]/densityOLK[i]\n",
    "    vals=np.vstack((np.vstack((densityOT,interSmeansL)),interSmeansK))\n",
    "    targs=np.vstack((np.vstack((np.reshape(LandOctiles[0,:]/100,(8,1)),np.reshape(LaborTarget,(6,1)))),np.reshape(CapitalTarget,(6,1))))\n",
    "    errors=vals-targs\n",
    "    objVal=np.dot(np.transpose(errors),errors)\n",
    "    DrawToPrint=np.random.uniform()\n",
    "    if DrawToPrint>.99:\n",
    "        print(objVal,X)\n",
    "    return objVal"
   ]
  },
  {
   "cell_type": "markdown",
   "metadata": {},
   "source": [
    "Now that we have an objective function defined, let's see if we can actually minimize it with respect to the parameters. If this works, I'll shit my britches. Anyways, here goes:"
   ]
  },
  {
   "cell_type": "code",
   "execution_count": 29,
   "metadata": {
    "collapsed": false
   },
   "outputs": [
    {
     "name": "stdout",
     "output_type": "stream",
     "text": [
      "[[ 639.28222226]] [-0.15097569  0.42058364  1.18177808  1.54818469  0.06090206  0.55186346\n",
      "  0.91851763]\n",
      "[[ 617.01135763]] [-0.15082631  0.42947772  1.20054767  1.58044064  0.06866125  0.5478846\n",
      "  0.90103955]\n",
      "[[ 582.35520478]] [-0.15089736  0.39459281  1.09932194  1.49485043  0.04244388  0.56492721\n",
      "  0.96238682]\n",
      "[[ 476.0546763]] [-0.12809002  0.33693705  0.95176584  1.30616994  0.00311839  0.61913186\n",
      "  1.13594048]\n",
      "[[ 473.90350196]] [-0.1275632   0.33652083  0.94689181  1.30851486  0.00294975  0.62016829\n",
      "  1.13763765]\n",
      "[[ 470.65757659]] [-0.12633423  0.33310922  0.93290643  1.30062729  0.00224338  0.62354762\n",
      "  1.14579047]\n",
      "[[ 466.61567393]] [-0.1254172   0.32809692  0.91410365  1.2880495   0.00165493  0.62740277\n",
      "  1.15486675]\n",
      "[[ 443.53767271]] [ -1.13783550e-01   3.13716896e-01   8.77327674e-01   1.23333387e+00\n",
      "   2.54177056e-04   6.48439354e-01   1.20990769e+00]\n",
      "[[ 436.21100854]] [ -1.10710392e-01   3.08908474e-01   8.62153525e-01   1.21769396e+00\n",
      "   1.31437644e-04   6.54655208e-01   1.22524088e+00]\n",
      "[[ 436.08031003]] [ -1.10710716e-01   3.08936588e-01   8.62117116e-01   1.21791016e+00\n",
      "   1.32156553e-04   6.54646911e-01   1.22518539e+00]\n",
      "[[ 435.69873385]] [ -1.10498491e-01   3.08577353e-01   8.60683348e-01   1.21704123e+00\n",
      "   1.25383758e-04   6.55106355e-01   1.22623499e+00]\n",
      "Optimization terminated successfully.\n",
      "         Current function value: 428.419181\n",
      "         Iterations: 933\n",
      "         Function evaluations: 1466\n"
     ]
    },
    {
     "name": "stderr",
     "output_type": "stream",
     "text": [
      "C:\\Users\\yaoqi_000\\Anaconda3\\lib\\site-packages\\scipy\\integrate\\quadpack.py:352: IntegrationWarning: The integral is probably divergent, or slowly convergent.\n",
      "  warnings.warn(msg, IntegrationWarning)\n"
     ]
    }
   ],
   "source": [
    "xGuess=-.1,.5,3,3,.5,.3,.7\n",
    "optResult=so.minimize(objective,xGuess,method='Nelder-Mead',tol=1e-3,options={'disp': True, 'maxiter':10000, 'maxfev':5000})"
   ]
  },
  {
   "cell_type": "code",
   "execution_count": 30,
   "metadata": {
    "collapsed": false
   },
   "outputs": [
    {
     "name": "stdout",
     "output_type": "stream",
     "text": [
      "-0.106362824694 0.302444251693\n",
      "2.31956641693452 3.3077253017857564\n",
      "0.7766972106829395 0.5000118159668486 0.6599948065989669\n"
     ]
    }
   ],
   "source": [
    "Results=optResult.x\n",
    "MU=Results[0]\n",
    "SIGMA=Results[1]\n",
    "AL=exp(Results[2])\n",
    "AK=exp(Results[3])\n",
    "GAMMA=exp(Results[6])/(1+exp(Results[6]))\n",
    "PHI=exp(Results[4])/(1+exp(Results[4]))\n",
    "RHO=exp(Results[5])/(1+exp(Results[5]))\n",
    "print(MU,SIGMA)\n",
    "print(AL,AK)\n",
    "print(GAMMA,PHI,RHO)"
   ]
  },
  {
   "cell_type": "markdown",
   "metadata": {},
   "source": [
    "Now, that we have some results, let's see what happens if we look at what they imply. One could do this scientifically (look at the Chi-Square statistic or something from the moment matching problem). But it is probably best to see how close our binned values come to the actual binned values. \n",
    "\n",
    "First, the size distribution of farms:\n",
    "\n"
   ]
  },
  {
   "cell_type": "code",
   "execution_count": 46,
   "metadata": {
    "collapsed": false
   },
   "outputs": [],
   "source": [
    "sCutsResults=np.zeros((7,1))\n",
    "for i in range(0,7):\n",
    "    sCutsResults[i]=newton(findsGivent,LandSizeCuts[i],fprime=None,args=(LandSizeCuts[i]/10,AL,AK,PHI,RHO,GAMMA),tol=1e-8,maxiter=10000)\n",
    "interOmeansTResult=np.zeros((8,1),dtype=float)\n",
    "densityOTResult=np.zeros((8,1),dtype=float)\n",
    "\n",
    "# the following is the main alteration\n",
    "for i in range(0,8):\n",
    "    if i==0:\n",
    "        interOmeansTResult[i]=quad(intLand,0,sCutsResults[i],args=(MU,SIGMA,AL,AK,PHI,RHO,GAMMA))[0]\n",
    "        densityOTResult[i]=25000*lognorm.cdf(sCutsResults[i],SIGMA,MU)  # change the weight of densityOTResult\n",
    "        interOmeansTResult[i]=interOmeansTResult[i]/densityOTResult[i]\n",
    "        \n",
    "    elif i==1:\n",
    "        densityOTResult[i]=0.3*(1-lognorm.cdf(sCutsResults[i-1],SIGMA,MU))   # change the weight of densityOTResult\n",
    "        interOmeansTResult[i]=quad(intLand,sCutsResults[i-1],sCutsResults[i],args=(MU,SIGMA,AL,AK,PHI,RHO,GAMMA))[0]\n",
    "        interOmeansTResult[i]=interOmeansTResult[i]/densityOTResult[i]\n",
    "        \n",
    "    elif i==2:\n",
    "        densityOTResult[i]=0.15*(1-lognorm.cdf(sCutsResults[i-1],SIGMA,MU))   # change the weight of densityOTResult\n",
    "        interOmeansTResult[i]=quad(intLand,sCutsResults[i-1],sCutsResults[i],args=(MU,SIGMA,AL,AK,PHI,RHO,GAMMA))[0]\n",
    "        interOmeansTResult[i]=interOmeansTResult[i]/densityOTResult[i]\n",
    "        \n",
    "    elif i==3:\n",
    "        densityOTResult[i]=0.15*(1-lognorm.cdf(sCutsResults[i-1],SIGMA,MU))   # change the weight of densityOTResult\n",
    "        interOmeansTResult[i]=quad(intLand,sCutsResults[i-1],sCutsResults[i],args=(MU,SIGMA,AL,AK,PHI,RHO,GAMMA))[0]\n",
    "        interOmeansTResult[i]=interOmeansTResult[i]/densityOTResult[i]\n",
    "    \n",
    "    elif i==4:\n",
    "        densityOTResult[i]=0.15*(1-lognorm.cdf(sCutsResults[i-1],SIGMA,MU))   # change the weight of densityOTResult\n",
    "        interOmeansTResult[i]=quad(intLand,sCutsResults[i-1],sCutsResults[i],args=(MU,SIGMA,AL,AK,PHI,RHO,GAMMA))[0]\n",
    "        interOmeansTResult[i]=interOmeansTResult[i]/densityOTResult[i]\n",
    "        \n",
    "    elif i==5:\n",
    "        densityOTResult[i]=0.13*(1-lognorm.cdf(sCutsResults[i-1],SIGMA,MU))   # change the weight of densityOTResult\n",
    "        interOmeansTResult[i]=quad(intLand,sCutsResults[i-1],sCutsResults[i],args=(MU,SIGMA,AL,AK,PHI,RHO,GAMMA))[0]\n",
    "        interOmeansTResult[i]=interOmeansTResult[i]/densityOTResult[i]\n",
    "        \n",
    "    elif i==6:\n",
    "        densityOTResult[i]=0.13*(1-lognorm.cdf(sCutsResults[i-1],SIGMA,MU))   # change the weight of densityOTResult\n",
    "        interOmeansTResult[i]=quad(intLand,sCutsResults[i-1],sCutsResults[i],args=(MU,SIGMA,AL,AK,PHI,RHO,GAMMA))[0]\n",
    "        interOmeansTResult[i]=interOmeansTResult[i]/densityOTResult[i]\n",
    "        \n",
    "    elif i==7:\n",
    "        interOmeansTResult[i]=quad(intLand,sCutsResults[i-1],np.Inf,args=(MU,SIGMA,AL,AK,PHI,RHO,GAMMA))[0]\n",
    "        densityOTResult[i]=0.3*(1-lognorm.cdf(sCutsResults[i-1],SIGMA,MU))   # change the weight of densityOTResult\n",
    "        interOmeansTResult[i]=interOmeansTResult[i]/densityOTResult[i]"
   ]
  },
  {
   "cell_type": "code",
   "execution_count": 47,
   "metadata": {
    "collapsed": false
   },
   "outputs": [
    {
     "data": {
      "text/plain": [
       "array([[ 10.20993565],\n",
       "       [ 29.99987748],\n",
       "       [ 14.94618944],\n",
       "       [ 14.49765691],\n",
       "       [ 11.29180367],\n",
       "       [  5.71358298],\n",
       "       [  2.29901484],\n",
       "       [  1.54812038]])"
      ]
     },
     "execution_count": 47,
     "metadata": {},
     "output_type": "execute_result"
    }
   ],
   "source": [
    "densityOTResult*100"
   ]
  },
  {
   "cell_type": "code",
   "execution_count": 49,
   "metadata": {
    "collapsed": false
   },
   "outputs": [
    {
     "data": {
      "image/png": "[encoded data removed]",
      "text/plain": [
       "<matplotlib.figure.Figure at 0x167726c4e0>"
      ]
     },
     "metadata": {},
     "output_type": "display_data"
    }
   ],
   "source": [
    "fig, ax = plt.subplots()\n",
    "\n",
    "index = np.arange(8)\n",
    "bar_width = 0.25\n",
    "\n",
    "opacity = 0.8\n",
    "error_config = {'ecolor': '0.3'}\n",
    "\n",
    "rects1 = plt.bar(index, np.array(LandOctiles[0,:]), bar_width,\n",
    "                 alpha=opacity,\n",
    "                 color='b',\n",
    "                 label='Data')\n",
    "\n",
    "rects2 = plt.bar(index + bar_width, np.array(densityOTResult*100), bar_width,\n",
    "                 alpha=opacity,\n",
    "                 color='r',\n",
    "                 label='Model')\n",
    "ax.set_xticks(index+bar_width)\n",
    "ax.set_xticklabels( ('<9', '10-49', '50-99', '100-199', '200-499','500-999','1000-1999','2000+') )\n",
    "\n",
    "plt.title('Figure 7 - Comparison between Data and Model (Land)')\n",
    "plt.tight_layout()\n",
    "plt.legend()\n",
    "plt.show()"
   ]
  },
  {
   "cell_type": "markdown",
   "metadata": {},
   "source": [
    "IDE: change color"
   ]
  },
  {
   "cell_type": "markdown",
   "metadata": {},
   "source": [
    "So, we can see that our model is not perfect in that it misses the data a bit. This suggests we may want to scale things differently in the minimization problem - give more weight, perhaps, to matching the density. What about the group-by-group mean factor demands?"
   ]
  },
  {
   "cell_type": "code",
   "execution_count": 34,
   "metadata": {
    "collapsed": false
   },
   "outputs": [],
   "source": [
    "sCutsLKResult=np.zeros((5,1))\n",
    "for i in range(0,5):\n",
    "    sCutsLKResult[i]=newton(findsGivent,LandSizeCutsLK[i],fprime=None,args=(LandSizeCuts[i]/10,AL,AK,PHI,RHO,GAMMA),tol=1e-8,maxiter=10000)\n",
    "interSmeansLResult=np.zeros((6,1),dtype=float)\n",
    "interSmeansKResult=np.zeros((6,1),dtype=float)\n",
    "densityOTResult=np.zeros((8,1),dtype=float)\n",
    "densityOLKResult=np.zeros((6,1),dtype=float)\n",
    "for i in range(0,6):\n",
    "    if i==0:\n",
    "        interSmeansLResult[i]=quad(intLabor,0,sCutsLKResult[i],args=(MU,SIGMA,AL,AK,PHI,RHO,GAMMA))[0]\n",
    "        interSmeansKResult[i]=quad(intCapital,0,sCutsLKResult[i],args=(MU,SIGMA,AL,AK,PHI,RHO,GAMMA))[0]\n",
    "        densityOLKResult[i]=lognorm.cdf(sCutsLKResult[i],SIGMA,MU)\n",
    "        interSmeansLResult[i]=interSmeansLResult[i]/densityOLKResult[i]\n",
    "        interSmeansKResult[i]=interSmeansKResult[i]/densityOLKResult[i]\n",
    "    elif i==5:\n",
    "        interSmeansLResult[i]=quad(intLabor,sCutsLKResult[i-1],np.Inf,args=(MU,SIGMA,AL,AK,PHI,RHO,GAMMA))[0]\n",
    "        interSmeansKResult[i]=quad(intCapital,sCutsLKResult[i-1],np.Inf,args=(MU,SIGMA,AL,AK,PHI,RHO,GAMMA))[0]\n",
    "        densityOLKResult[i]=1-lognorm.cdf(sCutsLKResult[i-1],SIGMA,MU)\n",
    "        interSmeansLResult[i]=interSmeansLResult[i]/densityOLKResult[i]\n",
    "        interSmeansKResult[i]=interSmeansKResult[i]/densityOLKResult[i]\n",
    "    else:\n",
    "        interSmeansLResult[i]=quad(intLabor,sCutsLKResult[i-1],sCutsLKResult[i],args=(MU,SIGMA,AL,AK,PHI,RHO,GAMMA))[0]\n",
    "        interSmeansKResult[i]=quad(intCapital,sCutsLKResult[i-1],sCutsLKResult[i],args=(MU,SIGMA,AL,AK,PHI,RHO,GAMMA))[0]\n",
    "        densityOLKResult[i]=lognorm.cdf(sCutsLKResult[i],SIGMA,MU)-lognorm.cdf(sCutsLKResult[i-1],SIGMA,MU)\n",
    "        interSmeansLResult[i]=interSmeansLResult[i]/densityOLKResult[i]\n",
    "        interSmeansKResult[i]=interSmeansKResult[i]/densityOLKResult[i]"
   ]
  },
  {
   "cell_type": "markdown",
   "metadata": {},
   "source": [
    "Let's graph these by bin and see how close they come to the data. First, labor demand by size grouping:"
   ]
  },
  {
   "cell_type": "code",
   "execution_count": 50,
   "metadata": {
    "collapsed": false
   },
   "outputs": [
    {
     "data": {
      "image/png": "[encoded data removed]",
      "text/plain": [
       "<matplotlib.figure.Figure at 0x16771cd4e0>"
      ]
     },
     "metadata": {},
     "output_type": "display_data"
    }
   ],
   "source": [
    "fig, ax = plt.subplots()\n",
    "\n",
    "index = np.arange(6)\n",
    "bar_width = 0.3\n",
    "\n",
    "opacity = 0.6\n",
    "error_config = {'ecolor': '0.3'}\n",
    "\n",
    "rects1 = plt.bar(index, np.array(np.squeeze(interSmeansLResult)), bar_width,\n",
    "                 alpha=opacity,\n",
    "                 color='b',\n",
    "                 label='Model')\n",
    "\n",
    "rects3 = plt.bar(index + bar_width, np.array(LaborTarget), bar_width,\n",
    "                 alpha=opacity,\n",
    "                 color='g',\n",
    "                 label='Data')\n",
    "\n",
    "plt.title('Figure 8 - Comparison between Data and Model (Labor)')\n",
    "plt.tight_layout()\n",
    "plt.legend()\n",
    "plt.show()"
   ]
  },
  {
   "cell_type": "markdown",
   "metadata": {},
   "source": [
    "The labor fit looks pretty good (even though the bins don't seem to be lining up correctly (why is that?). What about Capital?"
   ]
  },
  {
   "cell_type": "code",
   "execution_count": 51,
   "metadata": {
    "collapsed": false
   },
   "outputs": [
    {
     "data": {
      "image/png": "[encoded data removed]",
      "text/plain": [
       "<matplotlib.figure.Figure at 0x1675f50438>"
      ]
     },
     "metadata": {},
     "output_type": "display_data"
    }
   ],
   "source": [
    "fig, ax = plt.subplots()\n",
    "\n",
    "index = np.arange(6)\n",
    "bar_width = 0.3\n",
    "\n",
    "opacity = 0.6\n",
    "error_config = {'ecolor': '0.3'}\n",
    "\n",
    "rects1 = plt.bar(index, np.array(np.squeeze(interSmeansKResult)), bar_width,\n",
    "                 alpha=opacity,\n",
    "                 color='b',\n",
    "                 label='Model')\n",
    "\n",
    "rects3 = plt.bar(index + bar_width, np.array(CapitalTarget), bar_width,\n",
    "                 alpha=opacity,\n",
    "                 color='g',\n",
    "                 label='Data')\n",
    "\n",
    "plt.title('Figure 9 - Comparison between Data and Model (Capital)')\n",
    "\n",
    "plt.tight_layout()\n",
    "plt.legend()\n",
    "plt.show()"
   ]
  },
  {
   "cell_type": "markdown",
   "metadata": {},
   "source": [
    "Close. While the model very roughly matches the data, the point is really that this sort of thing\n",
    "can be done. Moreover, the basic idea can be extended to solve for some of the things that we have taken for given, such as wages, capital rates, etc. \n",
    "\n",
    "We have worked up an example here where we match binned data from the United States. These results can be extended to other parts of the world in several complementary ways. One idea, following Adamopolous and Restuccia, is to use the skill distribution from the United States data (which we have essentially estimated) as \"the frontier\" in a model that can then be used to document departures from efficiency elsewhere in the world. \n",
    "\n",
    "Another idea would be to fit a model like the above to specific regions or areas of a country with comparison of the distribution of \"unobserved factors\" across regions. If anomalies were observed, one could then explain them. \n",
    "\n",
    "A final idea would be to bring additional information to bear on the problem and build sources of inefficiency directly into the model. Adamopolous and Restuccia do this for different parts of the world. Our gold standard would be including strategic behavior on the part of  \"large interests\" in the model."
   ]
  },
  {
   "cell_type": "code",
   "execution_count": null,
   "metadata": {
    "collapsed": false
   },
   "outputs": [],
   "source": []
  }
 ],
 "metadata": {
  "anaconda-cloud": {},
  "kernelspec": {
   "display_name": "Python 3",
   "language": "python",
   "name": "python3"
  },
  "language_info": {
   "codemirror_mode": {
    "name": "ipython",
    "version": 3
   },
   "file_extension": ".py",
   "mimetype": "text/x-python",
   "name": "python",
   "nbconvert_exporter": "python",
   "pygments_lexer": "ipython3",
   "version": "3.5.2"
  }
 },
 "nbformat": 4,
 "nbformat_minor": 0
}
