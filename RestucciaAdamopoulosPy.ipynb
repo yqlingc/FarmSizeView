


<!DOCTYPE html>
<html lang="en" class="">
  <head prefix="og: http://ogp.me/ns# fb: http://ogp.me/ns/fb# object: http://ogp.me/ns/object# article: http://ogp.me/ns/article# profile: http://ogp.me/ns/profile#">
    <meta charset='utf-8'>
    <meta http-equiv="X-UA-Compatible" content="IE=edge">
    <meta http-equiv="Content-Language" content="en">
    
    
    <title>FarmSizeView/RestucciaAdamopoulosPy.ipynb at master · jhconning/FarmSizeView</title>
    <link rel="search" type="application/opensearchdescription+xml" href="/opensearch.xml" title="GitHub">
    <link rel="fluid-icon" href="https://github.com/fluidicon.png" title="GitHub">
    <link rel="apple-touch-icon" sizes="57x57" href="/apple-touch-icon-114.png">
    <link rel="apple-touch-icon" sizes="114x114" href="/apple-touch-icon-114.png">
    <link rel="apple-touch-icon" sizes="72x72" href="/apple-touch-icon-144.png">
    <link rel="apple-touch-icon" sizes="144x144" href="/apple-touch-icon-144.png">
    <meta property="fb:app_id" content="1401488693436528">

      <meta content="@github" name="twitter:site" /><meta content="summary" name="twitter:card" /><meta content="jhconning/FarmSizeView" name="twitter:title" /><meta content="FarmSizeView - Place where we place Ipython files associated with Farm Size project for viewing" name="twitter:description" /><meta content="https://avatars0.githubusercontent.com/u/5048607?v=3&amp;s=400" name="twitter:image:src" />
      <meta content="GitHub" property="og:site_name" /><meta content="object" property="og:type" /><meta content="https://avatars0.githubusercontent.com/u/5048607?v=3&amp;s=400" property="og:image" /><meta content="jhconning/FarmSizeView" property="og:title" /><meta content="https://github.com/jhconning/FarmSizeView" property="og:url" /><meta content="FarmSizeView - Place where we place Ipython files associated with Farm Size project for viewing" property="og:description" />
      <meta name="browser-stats-url" content="/_stats">
    <link rel="assets" href="https://assets-cdn.github.com/">
    <link rel="conduit-xhr" href="https://ghconduit.com:25035">
    <link rel="xhr-socket" href="/_sockets">
    <meta name="pjax-timeout" content="1000">
    <link rel="sudo-modal" href="/sessions/sudo_modal">

    <meta name="msapplication-TileImage" content="/windows-tile.png">
    <meta name="msapplication-TileColor" content="#ffffff">
    <meta name="selected-link" value="repo_source" data-pjax-transient>
      <meta name="google-analytics" content="UA-3769691-2">

    <meta content="collector.githubapp.com" name="octolytics-host" /><meta content="collector-cdn.github.com" name="octolytics-script-host" /><meta content="github" name="octolytics-app-id" /><meta content="925F7CA9:148B:3A5DC7B:54FA122D" name="octolytics-dimension-request_id" /><meta content="5048607" name="octolytics-actor-id" /><meta content="jhconning" name="octolytics-actor-login" /><meta content="0cadcf3dcfae90544e909d87331b59e7a83a341d1357dda20b15be4ca109dd66" name="octolytics-actor-hash" />
    
    <meta content="Rails, view, blob#show" name="analytics-event" />

    
    <link rel="icon" type="image/x-icon" href="https://assets-cdn.github.com/favicon.ico">


    <meta content="authenticity_token" name="csrf-param" />
<meta content="rynfboCMttYKnWSHunAKBaBtIsyFRPSHI9SalG9DY2nJAccfb/L2H0dI311NSGNB9Y9BlwNV2eGh1AkrrZhshA==" name="csrf-token" />

    <link href="https://assets-cdn.github.com/assets/github-da80844bda1ebe3db6f5d239fc67589443ee7174bb2f224e6b9879a6f4c9f0a4.css" media="all" rel="stylesheet" />
    <link href="https://assets-cdn.github.com/assets/github2-ade0148a562b52311cf36a8e5f019126eb5ef7054bf2a0463ea00c536a358d33.css" media="all" rel="stylesheet" />
    
    


    <meta http-equiv="x-pjax-version" content="bd242553cfdb6482212ea4e7d2459983">

      
  <meta name="description" content="FarmSizeView - Place where we place Ipython files associated with Farm Size project for viewing">
  <meta name="go-import" content="github.com/jhconning/FarmSizeView git https://github.com/jhconning/FarmSizeView.git">

  <meta content="5048607" name="octolytics-dimension-user_id" /><meta content="jhconning" name="octolytics-dimension-user_login" /><meta content="31785007" name="octolytics-dimension-repository_id" /><meta content="jhconning/FarmSizeView" name="octolytics-dimension-repository_nwo" /><meta content="true" name="octolytics-dimension-repository_public" /><meta content="false" name="octolytics-dimension-repository_is_fork" /><meta content="31785007" name="octolytics-dimension-repository_network_root_id" /><meta content="jhconning/FarmSizeView" name="octolytics-dimension-repository_network_root_nwo" />
  <link href="https://github.com/jhconning/FarmSizeView/commits/master.atom" rel="alternate" title="Recent Commits to FarmSizeView:master" type="application/atom+xml">

  </head>


  <body class="logged_in  env-production windows vis-public page-blob">
    <a href="#start-of-content" tabindex="1" class="accessibility-aid js-skip-to-content">Skip to content</a>
    <div class="wrapper">
      
      
      
      


        <div class="header header-logged-in true" role="banner">
  <div class="container clearfix">

    <a class="header-logo-invertocat" href="https://github.com/" data-hotkey="g d" aria-label="Homepage" data-ga-click="Header, go to dashboard, icon:logo">
  <span class="mega-octicon octicon-mark-github"></span>
</a>


      <div class="site-search repo-scope js-site-search" role="search">
          <form accept-charset="UTF-8" action="/jhconning/FarmSizeView/search" class="js-site-search-form" data-global-search-url="/search" data-repo-search-url="/jhconning/FarmSizeView/search" method="get"><div style="margin:0;padding:0;display:inline"><input name="utf8" type="hidden" value="&#x2713;" /></div>
  <input type="text"
    class="js-site-search-field is-clearable"
    data-hotkey="s"
    name="q"
    placeholder="Search"
    data-global-scope-placeholder="Search GitHub"
    data-repo-scope-placeholder="Search"
    tabindex="1"
    autocapitalize="off">
  <div class="scope-badge">This repository</div>
</form>
      </div>
      <ul class="header-nav left" role="navigation">
        <li class="header-nav-item explore">
          <a class="header-nav-link" href="/explore" data-ga-click="Header, go to explore, text:explore">Explore</a>
        </li>
          <li class="header-nav-item">
            <a class="header-nav-link" href="https://gist.github.com" data-ga-click="Header, go to gist, text:gist">Gist</a>
          </li>
          <li class="header-nav-item">
            <a class="header-nav-link" href="/blog" data-ga-click="Header, go to blog, text:blog">Blog</a>
          </li>
        <li class="header-nav-item">
          <a class="header-nav-link" href="https://help.github.com" data-ga-click="Header, go to help, text:help">Help</a>
        </li>
      </ul>

    
<ul class="header-nav user-nav right" id="user-links">
  <li class="header-nav-item dropdown js-menu-container">
    <a class="header-nav-link name" href="/jhconning" data-ga-click="Header, go to profile, text:username">
      <img alt="jhconning" class="avatar" data-user="5048607" height="20" src="https://avatars2.githubusercontent.com/u/5048607?v=3&amp;s=40" width="20" />
      <span class="css-truncate">
        <span class="css-truncate-target">jhconning</span>
      </span>
    </a>
  </li>

  <li class="header-nav-item dropdown js-menu-container">
    <a class="header-nav-link js-menu-target tooltipped tooltipped-s" href="#" aria-label="Create new..." data-ga-click="Header, create new, icon:add">
      <span class="octicon octicon-plus"></span>
      <span class="dropdown-caret"></span>
    </a>

    <div class="dropdown-menu-content js-menu-content">
      
<ul class="dropdown-menu">
  <li>
    <a href="/new" data-ga-click="Header, create new repository, icon:repo"><span class="octicon octicon-repo"></span> New repository</a>
  </li>
  <li>
    <a href="/organizations/new" data-ga-click="Header, create new organization, icon:organization"><span class="octicon octicon-organization"></span> New organization</a>
  </li>


    <li class="dropdown-divider"></li>
    <li class="dropdown-header">
      <span title="jhconning/FarmSizeView">This repository</span>
    </li>
      <li>
        <a href="/jhconning/FarmSizeView/issues/new" data-ga-click="Header, create new issue, icon:issue"><span class="octicon octicon-issue-opened"></span> New issue</a>
      </li>
      <li>
        <a href="/jhconning/FarmSizeView/settings/collaboration" data-ga-click="Header, create new collaborator, icon:person"><span class="octicon octicon-person"></span> New collaborator</a>
      </li>
</ul>

    </div>
  </li>

  <li class="header-nav-item">
        <a href="/notifications" aria-label="You have no unread notifications" class="header-nav-link notification-indicator tooltipped tooltipped-s" data-ga-click="Header, go to notifications, icon:read" data-hotkey="g n">
        <span class="mail-status all-read"></span>
        <span class="octicon octicon-inbox"></span>
</a>
  </li>

  <li class="header-nav-item">
    <a class="header-nav-link tooltipped tooltipped-s" href="/settings/profile" id="account_settings" aria-label="Settings" data-ga-click="Header, go to settings, icon:settings">
      <span class="octicon octicon-gear"></span>
    </a>
  </li>

  <li class="header-nav-item">
    <form accept-charset="UTF-8" action="/logout" class="logout-form" method="post"><div style="margin:0;padding:0;display:inline"><input name="utf8" type="hidden" value="&#x2713;" /><input name="authenticity_token" type="hidden" value="OYgbYsUY5t0UhYB4eaHmV9k9ZJox/G3XzQqFKf85HbZs1/I/SFqWOBJNPZh0SWS67XJEa8a84v09RRoneqT2dg==" /></div>
      <button class="header-nav-link sign-out-button tooltipped tooltipped-s" aria-label="Sign out" data-ga-click="Header, sign out, icon:logout">
        <span class="octicon octicon-sign-out"></span>
      </button>
</form>  </li>

</ul>


    
  </div>
</div>

        

        


      <div id="start-of-content" class="accessibility-aid"></div>
          <div class="site" itemscope itemtype="http://schema.org/WebPage">
    <div id="js-flash-container">
      
    </div>
    <div class="pagehead repohead instapaper_ignore readability-menu">
      <div class="container">
        
<ul class="pagehead-actions">

  <li>
      <form accept-charset="UTF-8" action="/notifications/subscribe" class="js-social-container" data-autosubmit="true" data-remote="true" method="post"><div style="margin:0;padding:0;display:inline"><input name="utf8" type="hidden" value="&#x2713;" /><input name="authenticity_token" type="hidden" value="YNgkUy6uwVqDkmp7BJhMjRbaPzPWqaXgtnVjxs8+FISIIqy9lJuopP+0mkLQbWpogbw9AMsn3ySbJoRBUSuJYA==" /></div>    <input id="repository_id" name="repository_id" type="hidden" value="31785007" />

      <div class="select-menu js-menu-container js-select-menu">
        <a class="social-count js-social-count" href="/jhconning/FarmSizeView/watchers">
          1
        </a>
        <a href="/jhconning/FarmSizeView/subscription"
          class="minibutton select-menu-button with-count js-menu-target" role="button" tabindex="0" aria-haspopup="true">
          <span class="js-select-button">
            <span class="octicon octicon-eye"></span>
            Unwatch
          </span>
        </a>

        <div class="select-menu-modal-holder">
          <div class="select-menu-modal subscription-menu-modal js-menu-content" aria-hidden="true">
            <div class="select-menu-header">
              <span class="select-menu-title">Notifications</span>
              <span class="octicon octicon-x js-menu-close" role="button" aria-label="Close"></span>
            </div>

            <div class="select-menu-list js-navigation-container" role="menu">

              <div class="select-menu-item js-navigation-item " role="menuitem" tabindex="0">
                <span class="select-menu-item-icon octicon octicon-check"></span>
                <div class="select-menu-item-text">
                  <input id="do_included" name="do" type="radio" value="included" />
                  <span class="select-menu-item-heading">Not watching</span>
                  <span class="description">Be notified when participating or @mentioned.</span>
                  <span class="js-select-button-text hidden-select-button-text">
                    <span class="octicon octicon-eye"></span>
                    Watch
                  </span>
                </div>
              </div>

              <div class="select-menu-item js-navigation-item selected" role="menuitem" tabindex="0">
                <span class="select-menu-item-icon octicon octicon octicon-check"></span>
                <div class="select-menu-item-text">
                  <input checked="checked" id="do_subscribed" name="do" type="radio" value="subscribed" />
                  <span class="select-menu-item-heading">Watching</span>
                  <span class="description">Be notified of all conversations.</span>
                  <span class="js-select-button-text hidden-select-button-text">
                    <span class="octicon octicon-eye"></span>
                    Unwatch
                  </span>
                </div>
              </div>

              <div class="select-menu-item js-navigation-item " role="menuitem" tabindex="0">
                <span class="select-menu-item-icon octicon octicon-check"></span>
                <div class="select-menu-item-text">
                  <input id="do_ignore" name="do" type="radio" value="ignore" />
                  <span class="select-menu-item-heading">Ignoring</span>
                  <span class="description">Never be notified.</span>
                  <span class="js-select-button-text hidden-select-button-text">
                    <span class="octicon octicon-mute"></span>
                    Stop ignoring
                  </span>
                </div>
              </div>

            </div>

          </div>
        </div>
      </div>
</form>

  </li>

  <li>
    
  <div class="js-toggler-container js-social-container starring-container ">

    <form accept-charset="UTF-8" action="/jhconning/FarmSizeView/unstar" class="js-toggler-form starred js-unstar-button" data-remote="true" method="post"><div style="margin:0;padding:0;display:inline"><input name="utf8" type="hidden" value="&#x2713;" /><input name="authenticity_token" type="hidden" value="7pUDmiLtIg0oL0lLtdflkQvqPceNT1ZL95pARgJI8a/QRJLnvYxTZpYUAOnNtZaBu7bVH3qelSBNlDdsB077CQ==" /></div>
      <button
        class="minibutton with-count js-toggler-target"
        aria-label="Unstar this repository" title="Unstar jhconning/FarmSizeView">
        <span class="octicon octicon-star"></span>
        Unstar
      </button>
        <a class="social-count js-social-count" href="/jhconning/FarmSizeView/stargazers">
          0
        </a>
</form>
    <form accept-charset="UTF-8" action="/jhconning/FarmSizeView/star" class="js-toggler-form unstarred js-star-button" data-remote="true" method="post"><div style="margin:0;padding:0;display:inline"><input name="utf8" type="hidden" value="&#x2713;" /><input name="authenticity_token" type="hidden" value="zR73MPwH3FTGnTeg0iE+yfZAXpbh6sYvLHaI1Scdzr6pxJpUMBx+p9woyKTeSynDAKg11PKDQwFZ12/UJJYnNw==" /></div>
      <button
        class="minibutton with-count js-toggler-target"
        aria-label="Star this repository" title="Star jhconning/FarmSizeView">
        <span class="octicon octicon-star"></span>
        Star
      </button>
        <a class="social-count js-social-count" href="/jhconning/FarmSizeView/stargazers">
          0
        </a>
</form>  </div>

  </li>

        <li>
          <a href="/jhconning/FarmSizeView/fork" class="minibutton with-count js-toggler-target tooltipped-n" title="Fork your own copy of jhconning/FarmSizeView to your account" aria-label="Fork your own copy of jhconning/FarmSizeView to your account" rel="nofollow" data-method="post">
            <span class="octicon octicon-repo-forked"></span>
            Fork
          </a>
          <a href="/jhconning/FarmSizeView/network" class="social-count">0</a>
        </li>

</ul>

        <h1 itemscope itemtype="http://data-vocabulary.org/Breadcrumb" class="entry-title public">
          <span class="mega-octicon octicon-repo"></span>
          <span class="author"><a href="/jhconning" class="url fn" itemprop="url" rel="author"><span itemprop="title">jhconning</span></a></span><!--
       --><span class="path-divider">/</span><!--
       --><strong><a href="/jhconning/FarmSizeView" class="js-current-repository" data-pjax="#js-repo-pjax-container">FarmSizeView</a></strong>

          <span class="page-context-loader">
            <img alt="" height="16" src="https://assets-cdn.github.com/assets/spinners/octocat-spinner-32-e513294efa576953719e4e2de888dd9cf929b7d62ed8d05f25e731d02452ab6c.gif" width="16" />
          </span>

        </h1>
      </div><!-- /.container -->
    </div><!-- /.repohead -->

    <div class="container">
      <div class="repository-with-sidebar repo-container new-discussion-timeline  ">
        <div class="repository-sidebar clearfix">
            
<nav class="sunken-menu repo-nav js-repo-nav js-sidenav-container-pjax js-octicon-loaders"
     role="navigation"
     data-pjax="#js-repo-pjax-container"
     data-issue-count-url="/jhconning/FarmSizeView/issues/counts">
  <ul class="sunken-menu-group">
    <li class="tooltipped tooltipped-w" aria-label="Code">
      <a href="/jhconning/FarmSizeView" aria-label="Code" class="selected js-selected-navigation-item sunken-menu-item" data-hotkey="g c" data-selected-links="repo_source repo_downloads repo_commits repo_releases repo_tags repo_branches /jhconning/FarmSizeView">
        <span class="octicon octicon-code"></span> <span class="full-word">Code</span>
        <img alt="" class="mini-loader" height="16" src="https://assets-cdn.github.com/assets/spinners/octocat-spinner-32-e513294efa576953719e4e2de888dd9cf929b7d62ed8d05f25e731d02452ab6c.gif" width="16" />
</a>    </li>

      <li class="tooltipped tooltipped-w" aria-label="Issues">
        <a href="/jhconning/FarmSizeView/issues" aria-label="Issues" class="js-selected-navigation-item sunken-menu-item" data-hotkey="g i" data-selected-links="repo_issues repo_labels repo_milestones /jhconning/FarmSizeView/issues">
          <span class="octicon octicon-issue-opened"></span> <span class="full-word">Issues</span>
          <span class="js-issue-replace-counter"></span>
          <img alt="" class="mini-loader" height="16" src="https://assets-cdn.github.com/assets/spinners/octocat-spinner-32-e513294efa576953719e4e2de888dd9cf929b7d62ed8d05f25e731d02452ab6c.gif" width="16" />
</a>      </li>

    <li class="tooltipped tooltipped-w" aria-label="Pull Requests">
      <a href="/jhconning/FarmSizeView/pulls" aria-label="Pull Requests" class="js-selected-navigation-item sunken-menu-item" data-hotkey="g p" data-selected-links="repo_pulls /jhconning/FarmSizeView/pulls">
          <span class="octicon octicon-git-pull-request"></span> <span class="full-word">Pull Requests</span>
          <span class="js-pull-replace-counter"></span>
          <img alt="" class="mini-loader" height="16" src="https://assets-cdn.github.com/assets/spinners/octocat-spinner-32-e513294efa576953719e4e2de888dd9cf929b7d62ed8d05f25e731d02452ab6c.gif" width="16" />
</a>    </li>


      <li class="tooltipped tooltipped-w" aria-label="Wiki">
        <a href="/jhconning/FarmSizeView/wiki" aria-label="Wiki" class="js-selected-navigation-item sunken-menu-item" data-hotkey="g w" data-selected-links="repo_wiki /jhconning/FarmSizeView/wiki">
          <span class="octicon octicon-book"></span> <span class="full-word">Wiki</span>
          <img alt="" class="mini-loader" height="16" src="https://assets-cdn.github.com/assets/spinners/octocat-spinner-32-e513294efa576953719e4e2de888dd9cf929b7d62ed8d05f25e731d02452ab6c.gif" width="16" />
</a>      </li>
  </ul>
  <div class="sunken-menu-separator"></div>
  <ul class="sunken-menu-group">

    <li class="tooltipped tooltipped-w" aria-label="Pulse">
      <a href="/jhconning/FarmSizeView/pulse" aria-label="Pulse" class="js-selected-navigation-item sunken-menu-item" data-selected-links="pulse /jhconning/FarmSizeView/pulse">
        <span class="octicon octicon-pulse"></span> <span class="full-word">Pulse</span>
        <img alt="" class="mini-loader" height="16" src="https://assets-cdn.github.com/assets/spinners/octocat-spinner-32-e513294efa576953719e4e2de888dd9cf929b7d62ed8d05f25e731d02452ab6c.gif" width="16" />
</a>    </li>

    <li class="tooltipped tooltipped-w" aria-label="Graphs">
      <a href="/jhconning/FarmSizeView/graphs" aria-label="Graphs" class="js-selected-navigation-item sunken-menu-item" data-selected-links="repo_graphs repo_contributors /jhconning/FarmSizeView/graphs">
        <span class="octicon octicon-graph"></span> <span class="full-word">Graphs</span>
        <img alt="" class="mini-loader" height="16" src="https://assets-cdn.github.com/assets/spinners/octocat-spinner-32-e513294efa576953719e4e2de888dd9cf929b7d62ed8d05f25e731d02452ab6c.gif" width="16" />
</a>    </li>
  </ul>


    <div class="sunken-menu-separator"></div>
    <ul class="sunken-menu-group">
      <li class="tooltipped tooltipped-w" aria-label="Settings">
        <a href="/jhconning/FarmSizeView/settings" aria-label="Settings" class="js-selected-navigation-item sunken-menu-item" data-selected-links="repo_settings /jhconning/FarmSizeView/settings">
          <span class="octicon octicon-tools"></span> <span class="full-word">Settings</span>
          <img alt="" class="mini-loader" height="16" src="https://assets-cdn.github.com/assets/spinners/octocat-spinner-32-e513294efa576953719e4e2de888dd9cf929b7d62ed8d05f25e731d02452ab6c.gif" width="16" />
</a>      </li>
    </ul>
</nav>

              <div class="only-with-full-nav">
                  
<div class="clone-url open"
  data-protocol-type="http"
  data-url="/users/set_protocol?protocol_selector=http&amp;protocol_type=clone">
  <h3><span class="text-emphasized">HTTPS</span> clone URL</h3>
  <div class="input-group js-zeroclipboard-container">
    <input type="text" class="input-mini input-monospace js-url-field js-zeroclipboard-target"
           value="https://github.com/jhconning/FarmSizeView.git" readonly="readonly">
    <span class="input-group-button">
      <button aria-label="Copy to clipboard" class="js-zeroclipboard minibutton zeroclipboard-button" data-copied-hint="Copied!" type="button"><span class="octicon octicon-clippy"></span></button>
    </span>
  </div>
</div>

  
<div class="clone-url "
  data-protocol-type="ssh"
  data-url="/users/set_protocol?protocol_selector=ssh&amp;protocol_type=clone">
  <h3><span class="text-emphasized">SSH</span> clone URL</h3>
  <div class="input-group js-zeroclipboard-container">
    <input type="text" class="input-mini input-monospace js-url-field js-zeroclipboard-target"
           value="git@github.com:jhconning/FarmSizeView.git" readonly="readonly">
    <span class="input-group-button">
      <button aria-label="Copy to clipboard" class="js-zeroclipboard minibutton zeroclipboard-button" data-copied-hint="Copied!" type="button"><span class="octicon octicon-clippy"></span></button>
    </span>
  </div>
</div>

  
<div class="clone-url "
  data-protocol-type="subversion"
  data-url="/users/set_protocol?protocol_selector=subversion&amp;protocol_type=clone">
  <h3><span class="text-emphasized">Subversion</span> checkout URL</h3>
  <div class="input-group js-zeroclipboard-container">
    <input type="text" class="input-mini input-monospace js-url-field js-zeroclipboard-target"
           value="https://github.com/jhconning/FarmSizeView" readonly="readonly">
    <span class="input-group-button">
      <button aria-label="Copy to clipboard" class="js-zeroclipboard minibutton zeroclipboard-button" data-copied-hint="Copied!" type="button"><span class="octicon octicon-clippy"></span></button>
    </span>
  </div>
</div>



<p class="clone-options">You can clone with
  <a href="#" class="js-clone-selector" data-protocol="http">HTTPS</a>, <a href="#" class="js-clone-selector" data-protocol="ssh">SSH</a>, or <a href="#" class="js-clone-selector" data-protocol="subversion">Subversion</a>.
  <a href="https://help.github.com/articles/which-remote-url-should-i-use" class="help tooltipped tooltipped-n" aria-label="Get help on which URL is right for you.">
    <span class="octicon octicon-question"></span>
  </a>
</p>


  <a href="github-windows://openRepo/https://github.com/jhconning/FarmSizeView" class="minibutton sidebar-button" title="Save jhconning/FarmSizeView to your computer and use it in GitHub Desktop." aria-label="Save jhconning/FarmSizeView to your computer and use it in GitHub Desktop.">
    <span class="octicon octicon-device-desktop"></span>
    Clone in Desktop
  </a>

                <a href="/jhconning/FarmSizeView/archive/master.zip"
                   class="minibutton sidebar-button"
                   aria-label="Download the contents of jhconning/FarmSizeView as a zip file"
                   title="Download the contents of jhconning/FarmSizeView as a zip file"
                   rel="nofollow">
                  <span class="octicon octicon-cloud-download"></span>
                  Download ZIP
                </a>
              </div>
        </div><!-- /.repository-sidebar -->

        <div id="js-repo-pjax-container" class="repository-content context-loader-container" data-pjax-container>
          

<a href="/jhconning/FarmSizeView/blob/64d80455d0dfc0f560c28b2fdec5f909b2c24a09/RestucciaAdamopoulosPy.ipynb" class="hidden js-permalink-shortcut" data-hotkey="y">Permalink</a>

<!-- blob contrib key: blob_contributors:v21:0d73593e2eaead2707158dae8684c21a -->

<div class="file-navigation js-zeroclipboard-container">
  
<div class="select-menu js-menu-container js-select-menu left">
  <span class="minibutton select-menu-button js-menu-target css-truncate" data-hotkey="w"
    data-master-branch="master"
    data-ref="master"
    title="master"
    role="button" aria-label="Switch branches or tags" tabindex="0" aria-haspopup="true">
    <span class="octicon octicon-git-branch"></span>
    <i>branch:</i>
    <span class="js-select-button css-truncate-target">master</span>
  </span>

  <div class="select-menu-modal-holder js-menu-content js-navigation-container" data-pjax aria-hidden="true">

    <div class="select-menu-modal">
      <div class="select-menu-header">
        <span class="select-menu-title">Switch branches/tags</span>
        <span class="octicon octicon-x js-menu-close" role="button" aria-label="Close"></span>
      </div>

      <div class="select-menu-filters">
        <div class="select-menu-text-filter">
          <input type="text" aria-label="Find or create a branch…" id="context-commitish-filter-field" class="js-filterable-field js-navigation-enable" placeholder="Find or create a branch…">
        </div>
        <div class="select-menu-tabs">
          <ul>
            <li class="select-menu-tab">
              <a href="#" data-tab-filter="branches" data-filter-placeholder="Find or create a branch…" class="js-select-menu-tab">Branches</a>
            </li>
            <li class="select-menu-tab">
              <a href="#" data-tab-filter="tags" data-filter-placeholder="Find a tag…" class="js-select-menu-tab">Tags</a>
            </li>
          </ul>
        </div>
      </div>

      <div class="select-menu-list select-menu-tab-bucket js-select-menu-tab-bucket" data-tab-filter="branches">

        <div data-filterable-for="context-commitish-filter-field" data-filterable-type="substring">


            <a class="select-menu-item js-navigation-item js-navigation-open selected"
               href="/jhconning/FarmSizeView/blob/master/RestucciaAdamopoulosPy.ipynb"
               data-name="master"
               data-skip-pjax="true"
               rel="nofollow">
              <span class="select-menu-item-icon octicon octicon-check"></span>
              <span class="select-menu-item-text css-truncate-target" title="master">
                master
              </span>
            </a>
        </div>

          <form accept-charset="UTF-8" action="/jhconning/FarmSizeView/branches" class="js-create-branch select-menu-item select-menu-new-item-form js-navigation-item js-new-item-form" method="post"><div style="margin:0;padding:0;display:inline"><input name="utf8" type="hidden" value="&#x2713;" /><input name="authenticity_token" type="hidden" value="aljRWSiSL1OTayGEx2qLrDWR3d4wGKKW5jctg2J00XzuiQQcPS2ptbhaOYb3dZNBFDcrUsMsJA8Yb1BDQ/+8iw==" /></div>
            <span class="octicon octicon-git-branch select-menu-item-icon"></span>
            <div class="select-menu-item-text">
              <span class="select-menu-item-heading">Create branch: <span class="js-new-item-name"></span></span>
              <span class="description">from ‘master’</span>
            </div>
            <input type="hidden" name="name" id="name" class="js-new-item-value">
            <input type="hidden" name="branch" id="branch" value="master">
            <input type="hidden" name="path" id="path" value="RestucciaAdamopoulosPy.ipynb">
</form>
      </div>

      <div class="select-menu-list select-menu-tab-bucket js-select-menu-tab-bucket" data-tab-filter="tags">
        <div data-filterable-for="context-commitish-filter-field" data-filterable-type="substring">


        </div>

        <div class="select-menu-no-results">Nothing to show</div>
      </div>

    </div>
  </div>
</div>

  <div class="button-group right">
    <a href="/jhconning/FarmSizeView/find/master"
          class="js-show-file-finder minibutton empty-icon tooltipped tooltipped-s"
          data-pjax
          data-hotkey="t"
          aria-label="Quickly jump between files">
      <span class="octicon octicon-list-unordered"></span>
    </a>
    <button aria-label="Copy file path to clipboard" class="js-zeroclipboard minibutton zeroclipboard-button" data-copied-hint="Copied!" type="button"><span class="octicon octicon-clippy"></span></button>
  </div>

  <div class="breadcrumb js-zeroclipboard-target">
    <span class='repo-root js-repo-root'><span itemscope="" itemtype="http://data-vocabulary.org/Breadcrumb"><a href="/jhconning/FarmSizeView" class="" data-branch="master" data-direction="back" data-pjax="true" itemscope="url"><span itemprop="title">FarmSizeView</span></a></span></span><span class="separator">/</span><strong class="final-path">RestucciaAdamopoulosPy.ipynb</strong>
  </div>
</div>


  <div class="commit file-history-tease">
    <div class="file-history-tease-header">
        <img alt="jhconning" class="avatar" data-user="5048607" height="24" src="https://avatars0.githubusercontent.com/u/5048607?v=3&amp;s=48" width="24" />
        <span class="author"><a href="/jhconning" rel="author">jhconning</a></span>
        <time datetime="2015-03-06T19:27:36Z" is="relative-time">Mar 6, 2015</time>
        <div class="commit-title">
            <a href="/jhconning/FarmSizeView/commit/7a613ba3285fd13b8a008a4a0cdc038142c5f5c5" class="message" data-pjax="true" title="Three Farm Size project ipython notebooks to show to Klaus">Three Farm Size project ipython notebooks to show to Klaus</a>
        </div>
    </div>

    <div class="participation">
      <p class="quickstat">
        <a href="#blob_contributors_box" rel="facebox">
          <strong>1</strong>
           contributor
        </a>
      </p>
      
    </div>
    <div id="blob_contributors_box" style="display:none">
      <h2 class="facebox-header">Users who have contributed to this file</h2>
      <ul class="facebox-user-list">
          <li class="facebox-user-list-item">
            <img alt="jhconning" data-user="5048607" height="24" src="https://avatars0.githubusercontent.com/u/5048607?v=3&amp;s=48" width="24" />
            <a href="/jhconning">jhconning</a>
          </li>
      </ul>
    </div>
  </div>

<div class="file">
  <div class="file-header">
    <div class="file-info">
        3031 lines (3030 sloc)
        <span class="file-info-divider"></span>
      165.185 kb
    </div>
    <div class="file-actions">
      <div class="button-group">
        <a href="/jhconning/FarmSizeView/raw/master/RestucciaAdamopoulosPy.ipynb" class="minibutton " id="raw-url">Raw</a>
          <a href="/jhconning/FarmSizeView/blame/master/RestucciaAdamopoulosPy.ipynb" class="minibutton js-update-url-with-hash">Blame</a>
        <a href="/jhconning/FarmSizeView/commits/master/RestucciaAdamopoulosPy.ipynb" class="minibutton " rel="nofollow">History</a>
      </div><!-- /.button-group -->

        <a class="octicon-button tooltipped tooltipped-nw"
           href="github-windows://openRepo/https://github.com/jhconning/FarmSizeView?branch=master&amp;filepath=RestucciaAdamopoulosPy.ipynb" aria-label="Open this file in GitHub for Windows">
            <span class="octicon octicon-device-desktop"></span>
        </a>

            <form accept-charset="UTF-8" action="/jhconning/FarmSizeView/edit/master/RestucciaAdamopoulosPy.ipynb" aria-label="Edit this file" class="tooltipped tooltipped-e inline-form edit-file-form" method="post"><div style="margin:0;padding:0;display:inline"><input name="utf8" type="hidden" value="&#x2713;" /><input name="authenticity_token" type="hidden" value="HdXAHZ1CnFNwz0IdK3Ca8B16Oe1i+C/crXNYg0jZWmZ7NGeJuIobGiPy9GDxvK47axz6zRsF+0Zdmb1Xbeyymw==" /></div>
              <button class="web-edit-button"
                      type="submit"
                      data-hotkey="e"
                      data-disable-with>
                <span class="octicon octicon-pencil"></span>
              </button>
</form>
          <form accept-charset="UTF-8" action="/jhconning/FarmSizeView/delete/master/RestucciaAdamopoulosPy.ipynb" aria-label="Delete this file" class="tooltipped tooltipped-s inline-form delete-file-form" method="post"><div style="margin:0;padding:0;display:inline"><input name="utf8" type="hidden" value="&#x2713;" /><input name="authenticity_token" type="hidden" value="rqPSR3pK8/ocjRvqZVljXyj+ykaHtsQO14lvlz6ST2xC0DgDYU/4l+urP1by4TtBj5JjQmCCVsLRBJ67AoW7HQ==" /></div>
            <button class="web-edit-button"
                    type="submit"
                    data-disable-with>
              <span class="octicon octicon-trashcan "></span>
            </button>
</form>      </a>
    </div><!-- /.actions -->
  </div>
  
  <div class="blob-wrapper data type-text">
      <table class="highlight tab-size-8 js-file-line-container">
      <tr>
        <td id="L1" class="blob-num js-line-number" data-line-number="1"></td>
        <td id="LC1" class="blob-code js-file-line">{</td>
      </tr>
      <tr>
        <td id="L2" class="blob-num js-line-number" data-line-number="2"></td>
        <td id="LC2" class="blob-code js-file-line"> &quot;cells&quot;: [</td>
      </tr>
      <tr>
        <td id="L3" class="blob-num js-line-number" data-line-number="3"></td>
        <td id="LC3" class="blob-code js-file-line">  {</td>
      </tr>
      <tr>
        <td id="L4" class="blob-num js-line-number" data-line-number="4"></td>
        <td id="LC4" class="blob-code js-file-line">   &quot;cell_type&quot;: &quot;markdown&quot;,</td>
      </tr>
      <tr>
        <td id="L5" class="blob-num js-line-number" data-line-number="5"></td>
        <td id="LC5" class="blob-code js-file-line">   &quot;metadata&quot;: {},</td>
      </tr>
      <tr>
        <td id="L6" class="blob-num js-line-number" data-line-number="6"></td>
        <td id="LC6" class="blob-code js-file-line">   &quot;source&quot;: [</td>
      </tr>
      <tr>
        <td id="L7" class="blob-num js-line-number" data-line-number="7"></td>
        <td id="LC7" class="blob-code js-file-line">    &quot;## Adamopoulos and Restuccia AER 2014  (port from MATLAB)&quot;</td>
      </tr>
      <tr>
        <td id="L8" class="blob-num js-line-number" data-line-number="8"></td>
        <td id="LC8" class="blob-code js-file-line">   ]</td>
      </tr>
      <tr>
        <td id="L9" class="blob-num js-line-number" data-line-number="9"></td>
        <td id="LC9" class="blob-code js-file-line">  },</td>
      </tr>
      <tr>
        <td id="L10" class="blob-num js-line-number" data-line-number="10"></td>
        <td id="LC10" class="blob-code js-file-line">  {</td>
      </tr>
      <tr>
        <td id="L11" class="blob-num js-line-number" data-line-number="11"></td>
        <td id="LC11" class="blob-code js-file-line">   &quot;cell_type&quot;: &quot;markdown&quot;,</td>
      </tr>
      <tr>
        <td id="L12" class="blob-num js-line-number" data-line-number="12"></td>
        <td id="LC12" class="blob-code js-file-line">   &quot;metadata&quot;: {},</td>
      </tr>
      <tr>
        <td id="L13" class="blob-num js-line-number" data-line-number="13"></td>
        <td id="LC13" class="blob-code js-file-line">   &quot;source&quot;: [</td>
      </tr>
      <tr>
        <td id="L14" class="blob-num js-line-number" data-line-number="14"></td>
        <td id="LC14" class="blob-code js-file-line">    &quot;Our first Ipython effort. Matt Baker did most of the heavy lifting of porting the A&amp;R model from MATLAB. \n&quot;,</td>
      </tr>
      <tr>
        <td id="L15" class="blob-num js-line-number" data-line-number="15"></td>
        <td id="LC15" class="blob-code js-file-line">    &quot;Their MATLAB code was not very readable (and at times downright cryptic) nor very efficient so we&#39;ve cleaned things up a bit along the way.&quot;</td>
      </tr>
      <tr>
        <td id="L16" class="blob-num js-line-number" data-line-number="16"></td>
        <td id="LC16" class="blob-code js-file-line">   ]</td>
      </tr>
      <tr>
        <td id="L17" class="blob-num js-line-number" data-line-number="17"></td>
        <td id="LC17" class="blob-code js-file-line">  },</td>
      </tr>
      <tr>
        <td id="L18" class="blob-num js-line-number" data-line-number="18"></td>
        <td id="LC18" class="blob-code js-file-line">  {</td>
      </tr>
      <tr>
        <td id="L19" class="blob-num js-line-number" data-line-number="19"></td>
        <td id="LC19" class="blob-code js-file-line">   &quot;cell_type&quot;: &quot;code&quot;,</td>
      </tr>
      <tr>
        <td id="L20" class="blob-num js-line-number" data-line-number="20"></td>
        <td id="LC20" class="blob-code js-file-line">   &quot;execution_count&quot;: 3,</td>
      </tr>
      <tr>
        <td id="L21" class="blob-num js-line-number" data-line-number="21"></td>
        <td id="LC21" class="blob-code js-file-line">   &quot;metadata&quot;: {</td>
      </tr>
      <tr>
        <td id="L22" class="blob-num js-line-number" data-line-number="22"></td>
        <td id="LC22" class="blob-code js-file-line">    &quot;collapsed&quot;: false</td>
      </tr>
      <tr>
        <td id="L23" class="blob-num js-line-number" data-line-number="23"></td>
        <td id="LC23" class="blob-code js-file-line">   },</td>
      </tr>
      <tr>
        <td id="L24" class="blob-num js-line-number" data-line-number="24"></td>
        <td id="LC24" class="blob-code js-file-line">   &quot;outputs&quot;: [</td>
      </tr>
      <tr>
        <td id="L25" class="blob-num js-line-number" data-line-number="25"></td>
        <td id="LC25" class="blob-code js-file-line">    {</td>
      </tr>
      <tr>
        <td id="L26" class="blob-num js-line-number" data-line-number="26"></td>
        <td id="LC26" class="blob-code js-file-line">     &quot;name&quot;: &quot;stdout&quot;,</td>
      </tr>
      <tr>
        <td id="L27" class="blob-num js-line-number" data-line-number="27"></td>
        <td id="LC27" class="blob-code js-file-line">     &quot;output_type&quot;: &quot;stream&quot;,</td>
      </tr>
      <tr>
        <td id="L28" class="blob-num js-line-number" data-line-number="28"></td>
        <td id="LC28" class="blob-code js-file-line">     &quot;text&quot;: [</td>
      </tr>
      <tr>
        <td id="L29" class="blob-num js-line-number" data-line-number="29"></td>
        <td id="LC29" class="blob-code js-file-line">      &quot;Populating the interactive namespace from numpy and matplotlib\n&quot;</td>
      </tr>
      <tr>
        <td id="L30" class="blob-num js-line-number" data-line-number="30"></td>
        <td id="LC30" class="blob-code js-file-line">     ]</td>
      </tr>
      <tr>
        <td id="L31" class="blob-num js-line-number" data-line-number="31"></td>
        <td id="LC31" class="blob-code js-file-line">    }</td>
      </tr>
      <tr>
        <td id="L32" class="blob-num js-line-number" data-line-number="32"></td>
        <td id="LC32" class="blob-code js-file-line">   ],</td>
      </tr>
      <tr>
        <td id="L33" class="blob-num js-line-number" data-line-number="33"></td>
        <td id="LC33" class="blob-code js-file-line">   &quot;source&quot;: [</td>
      </tr>
      <tr>
        <td id="L34" class="blob-num js-line-number" data-line-number="34"></td>
        <td id="LC34" class="blob-code js-file-line">    &quot;%pylab inline     \n&quot;,</td>
      </tr>
      <tr>
        <td id="L35" class="blob-num js-line-number" data-line-number="35"></td>
        <td id="LC35" class="blob-code js-file-line">    &quot;from __future__ import division&quot;</td>
      </tr>
      <tr>
        <td id="L36" class="blob-num js-line-number" data-line-number="36"></td>
        <td id="LC36" class="blob-code js-file-line">   ]</td>
      </tr>
      <tr>
        <td id="L37" class="blob-num js-line-number" data-line-number="37"></td>
        <td id="LC37" class="blob-code js-file-line">  },</td>
      </tr>
      <tr>
        <td id="L38" class="blob-num js-line-number" data-line-number="38"></td>
        <td id="LC38" class="blob-code js-file-line">  {</td>
      </tr>
      <tr>
        <td id="L39" class="blob-num js-line-number" data-line-number="39"></td>
        <td id="LC39" class="blob-code js-file-line">   &quot;cell_type&quot;: &quot;markdown&quot;,</td>
      </tr>
      <tr>
        <td id="L40" class="blob-num js-line-number" data-line-number="40"></td>
        <td id="LC40" class="blob-code js-file-line">   &quot;metadata&quot;: {},</td>
      </tr>
      <tr>
        <td id="L41" class="blob-num js-line-number" data-line-number="41"></td>
        <td id="LC41" class="blob-code js-file-line">   &quot;source&quot;: [</td>
      </tr>
      <tr>
        <td id="L42" class="blob-num js-line-number" data-line-number="42"></td>
        <td id="LC42" class="blob-code js-file-line">    &quot;The model starts with a description as to how the  works. \n&quot;,</td>
      </tr>
      <tr>
        <td id="L43" class="blob-num js-line-number" data-line-number="43"></td>
        <td id="LC43" class="blob-code js-file-line">    &quot;\n&quot;,</td>
      </tr>
      <tr>
        <td id="L44" class="blob-num js-line-number" data-line-number="44"></td>
        <td id="LC44" class="blob-code js-file-line">    &quot;But first output in the non-agricultural sector is modeled this way:&quot;</td>
      </tr>
      <tr>
        <td id="L45" class="blob-num js-line-number" data-line-number="45"></td>
        <td id="LC45" class="blob-code js-file-line">   ]</td>
      </tr>
      <tr>
        <td id="L46" class="blob-num js-line-number" data-line-number="46"></td>
        <td id="LC46" class="blob-code js-file-line">  },</td>
      </tr>
      <tr>
        <td id="L47" class="blob-num js-line-number" data-line-number="47"></td>
        <td id="LC47" class="blob-code js-file-line">  {</td>
      </tr>
      <tr>
        <td id="L48" class="blob-num js-line-number" data-line-number="48"></td>
        <td id="LC48" class="blob-code js-file-line">   &quot;cell_type&quot;: &quot;markdown&quot;,</td>
      </tr>
      <tr>
        <td id="L49" class="blob-num js-line-number" data-line-number="49"></td>
        <td id="LC49" class="blob-code js-file-line">   &quot;metadata&quot;: {},</td>
      </tr>
      <tr>
        <td id="L50" class="blob-num js-line-number" data-line-number="50"></td>
        <td id="LC50" class="blob-code js-file-line">   &quot;source&quot;: [</td>
      </tr>
      <tr>
        <td id="L51" class="blob-num js-line-number" data-line-number="51"></td>
        <td id="LC51" class="blob-code js-file-line">    &quot;Production is Cobb-Douglas: $Y_n=AK_n^\\alpha N_n^{1-\\alpha}$&quot;</td>
      </tr>
      <tr>
        <td id="L52" class="blob-num js-line-number" data-line-number="52"></td>
        <td id="LC52" class="blob-code js-file-line">   ]</td>
      </tr>
      <tr>
        <td id="L53" class="blob-num js-line-number" data-line-number="53"></td>
        <td id="LC53" class="blob-code js-file-line">  },</td>
      </tr>
      <tr>
        <td id="L54" class="blob-num js-line-number" data-line-number="54"></td>
        <td id="LC54" class="blob-code js-file-line">  {</td>
      </tr>
      <tr>
        <td id="L55" class="blob-num js-line-number" data-line-number="55"></td>
        <td id="LC55" class="blob-code js-file-line">   &quot;cell_type&quot;: &quot;markdown&quot;,</td>
      </tr>
      <tr>
        <td id="L56" class="blob-num js-line-number" data-line-number="56"></td>
        <td id="LC56" class="blob-code js-file-line">   &quot;metadata&quot;: {},</td>
      </tr>
      <tr>
        <td id="L57" class="blob-num js-line-number" data-line-number="57"></td>
        <td id="LC57" class="blob-code js-file-line">   &quot;source&quot;: [</td>
      </tr>
      <tr>
        <td id="L58" class="blob-num js-line-number" data-line-number="58"></td>
        <td id="LC58" class="blob-code js-file-line">    &quot;This implies that we have simple expressions for the economy-wide wage $w$ and rental rate on capital $r$:\n&quot;,</td>
      </tr>
      <tr>
        <td id="L59" class="blob-num js-line-number" data-line-number="59"></td>
        <td id="LC59" class="blob-code js-file-line">    &quot;\n&quot;,</td>
      </tr>
      <tr>
        <td id="L60" class="blob-num js-line-number" data-line-number="60"></td>
        <td id="LC60" class="blob-code js-file-line">    &quot;$r=MPK=\\alpha A K^\\alpha_n N^{1-\\alpha}_n$\n&quot;,</td>
      </tr>
      <tr>
        <td id="L61" class="blob-num js-line-number" data-line-number="61"></td>
        <td id="LC61" class="blob-code js-file-line">    &quot;\n&quot;,</td>
      </tr>
      <tr>
        <td id="L62" class="blob-num js-line-number" data-line-number="62"></td>
        <td id="LC62" class="blob-code js-file-line">    &quot;which becomes:\n&quot;,</td>
      </tr>
      <tr>
        <td id="L63" class="blob-num js-line-number" data-line-number="63"></td>
        <td id="LC63" class="blob-code js-file-line">    &quot;\n&quot;,</td>
      </tr>
      <tr>
        <td id="L64" class="blob-num js-line-number" data-line-number="64"></td>
        <td id="LC64" class="blob-code js-file-line">    &quot;$r=\\alpha A \\left(\\frac{K_n}{N_n}\\right)^{\\alpha-1}$\n&quot;,</td>
      </tr>
      <tr>
        <td id="L65" class="blob-num js-line-number" data-line-number="65"></td>
        <td id="LC65" class="blob-code js-file-line">    &quot;\n&quot;,</td>
      </tr>
      <tr>
        <td id="L66" class="blob-num js-line-number" data-line-number="66"></td>
        <td id="LC66" class="blob-code js-file-line">    &quot;while we also have:\n&quot;,</td>
      </tr>
      <tr>
        <td id="L67" class="blob-num js-line-number" data-line-number="67"></td>
        <td id="LC67" class="blob-code js-file-line">    &quot;\n&quot;,</td>
      </tr>
      <tr>
        <td id="L68" class="blob-num js-line-number" data-line-number="68"></td>
        <td id="LC68" class="blob-code js-file-line">    &quot;$w=MPL=(1-\\alpha) A \\left(\\frac{K_n}{N_n}\\right)^{1-\\alpha}$&quot;</td>
      </tr>
      <tr>
        <td id="L69" class="blob-num js-line-number" data-line-number="69"></td>
        <td id="LC69" class="blob-code js-file-line">   ]</td>
      </tr>
      <tr>
        <td id="L70" class="blob-num js-line-number" data-line-number="70"></td>
        <td id="LC70" class="blob-code js-file-line">  },</td>
      </tr>
      <tr>
        <td id="L71" class="blob-num js-line-number" data-line-number="71"></td>
        <td id="LC71" class="blob-code js-file-line">  {</td>
      </tr>
      <tr>
        <td id="L72" class="blob-num js-line-number" data-line-number="72"></td>
        <td id="LC72" class="blob-code js-file-line">   &quot;cell_type&quot;: &quot;markdown&quot;,</td>
      </tr>
      <tr>
        <td id="L73" class="blob-num js-line-number" data-line-number="73"></td>
        <td id="LC73" class="blob-code js-file-line">   &quot;metadata&quot;: {},</td>
      </tr>
      <tr>
        <td id="L74" class="blob-num js-line-number" data-line-number="74"></td>
        <td id="LC74" class="blob-code js-file-line">   &quot;source&quot;: [</td>
      </tr>
      <tr>
        <td id="L75" class="blob-num js-line-number" data-line-number="75"></td>
        <td id="LC75" class="blob-code js-file-line">    &quot;The next part of the model is the agricultural sector. Here, we have heterogeneity in farm managers characterized by a \&quot;skill\&quot; variable $s$. The farm production function is:\n&quot;,</td>
      </tr>
      <tr>
        <td id="L76" class="blob-num js-line-number" data-line-number="76"></td>
        <td id="LC76" class="blob-code js-file-line">    &quot;\n&quot;,</td>
      </tr>
      <tr>
        <td id="L77" class="blob-num js-line-number" data-line-number="77"></td>
        <td id="LC77" class="blob-code js-file-line">    &quot;$y_a=A\\kappa \\left[\\theta k^\\rho+(1-\\theta)(sl)^\\rho \\right]^\\frac{\\gamma}{\\rho}$\n&quot;,</td>
      </tr>
      <tr>
        <td id="L78" class="blob-num js-line-number" data-line-number="78"></td>
        <td id="LC78" class="blob-code js-file-line">    &quot;\n&quot;,</td>
      </tr>
      <tr>
        <td id="L79" class="blob-num js-line-number" data-line-number="79"></td>
        <td id="LC79" class="blob-code js-file-line">    &quot;As Jonathan notes, this is a little different than Lucas&#39;s (1978) span of control, as $s$ here is augmenting $l$ - land - not overall production. That is, $s$ is not outside the brackets.&quot;</td>
      </tr>
      <tr>
        <td id="L80" class="blob-num js-line-number" data-line-number="80"></td>
        <td id="LC80" class="blob-code js-file-line">   ]</td>
      </tr>
      <tr>
        <td id="L81" class="blob-num js-line-number" data-line-number="81"></td>
        <td id="LC81" class="blob-code js-file-line">  },</td>
      </tr>
      <tr>
        <td id="L82" class="blob-num js-line-number" data-line-number="82"></td>
        <td id="LC82" class="blob-code js-file-line">  {</td>
      </tr>
      <tr>
        <td id="L83" class="blob-num js-line-number" data-line-number="83"></td>
        <td id="LC83" class="blob-code js-file-line">   &quot;cell_type&quot;: &quot;markdown&quot;,</td>
      </tr>
      <tr>
        <td id="L84" class="blob-num js-line-number" data-line-number="84"></td>
        <td id="LC84" class="blob-code js-file-line">   &quot;metadata&quot;: {},</td>
      </tr>
      <tr>
        <td id="L85" class="blob-num js-line-number" data-line-number="85"></td>
        <td id="LC85" class="blob-code js-file-line">   &quot;source&quot;: [</td>
      </tr>
      <tr>
        <td id="L86" class="blob-num js-line-number" data-line-number="86"></td>
        <td id="LC86" class="blob-code js-file-line">    &quot;Before getting into solution, we can start the process of coding things up in Julia. Some simple aspects of the calibration involve normalization of $\\kappa$ and $A$ at unity. We also have values of $\\alpha$ and $\\gamma$ set from outside sources:&quot;</td>
      </tr>
      <tr>
        <td id="L87" class="blob-num js-line-number" data-line-number="87"></td>
        <td id="LC87" class="blob-code js-file-line">   ]</td>
      </tr>
      <tr>
        <td id="L88" class="blob-num js-line-number" data-line-number="88"></td>
        <td id="LC88" class="blob-code js-file-line">  },</td>
      </tr>
      <tr>
        <td id="L89" class="blob-num js-line-number" data-line-number="89"></td>
        <td id="LC89" class="blob-code js-file-line">  {</td>
      </tr>
      <tr>
        <td id="L90" class="blob-num js-line-number" data-line-number="90"></td>
        <td id="LC90" class="blob-code js-file-line">   &quot;cell_type&quot;: &quot;code&quot;,</td>
      </tr>
      <tr>
        <td id="L91" class="blob-num js-line-number" data-line-number="91"></td>
        <td id="LC91" class="blob-code js-file-line">   &quot;execution_count&quot;: 4,</td>
      </tr>
      <tr>
        <td id="L92" class="blob-num js-line-number" data-line-number="92"></td>
        <td id="LC92" class="blob-code js-file-line">   &quot;metadata&quot;: {</td>
      </tr>
      <tr>
        <td id="L93" class="blob-num js-line-number" data-line-number="93"></td>
        <td id="LC93" class="blob-code js-file-line">    &quot;collapsed&quot;: false</td>
      </tr>
      <tr>
        <td id="L94" class="blob-num js-line-number" data-line-number="94"></td>
        <td id="LC94" class="blob-code js-file-line">   },</td>
      </tr>
      <tr>
        <td id="L95" class="blob-num js-line-number" data-line-number="95"></td>
        <td id="LC95" class="blob-code js-file-line">   &quot;outputs&quot;: [],</td>
      </tr>
      <tr>
        <td id="L96" class="blob-num js-line-number" data-line-number="96"></td>
        <td id="LC96" class="blob-code js-file-line">   &quot;source&quot;: [</td>
      </tr>
      <tr>
        <td id="L97" class="blob-num js-line-number" data-line-number="97"></td>
        <td id="LC97" class="blob-code js-file-line">    &quot;KAPPA_US=1\n&quot;,</td>
      </tr>
      <tr>
        <td id="L98" class="blob-num js-line-number" data-line-number="98"></td>
        <td id="LC98" class="blob-code js-file-line">    &quot;A_US=1\n&quot;,</td>
      </tr>
      <tr>
        <td id="L99" class="blob-num js-line-number" data-line-number="99"></td>
        <td id="LC99" class="blob-code js-file-line">    &quot;ALPHA=0.33\n&quot;,</td>
      </tr>
      <tr>
        <td id="L100" class="blob-num js-line-number" data-line-number="100"></td>
        <td id="LC100" class="blob-code js-file-line">    &quot;GAMMA=0.54&quot;</td>
      </tr>
      <tr>
        <td id="L101" class="blob-num js-line-number" data-line-number="101"></td>
        <td id="LC101" class="blob-code js-file-line">   ]</td>
      </tr>
      <tr>
        <td id="L102" class="blob-num js-line-number" data-line-number="102"></td>
        <td id="LC102" class="blob-code js-file-line">  },</td>
      </tr>
      <tr>
        <td id="L103" class="blob-num js-line-number" data-line-number="103"></td>
        <td id="LC103" class="blob-code js-file-line">  {</td>
      </tr>
      <tr>
        <td id="L104" class="blob-num js-line-number" data-line-number="104"></td>
        <td id="LC104" class="blob-code js-file-line">   &quot;cell_type&quot;: &quot;markdown&quot;,</td>
      </tr>
      <tr>
        <td id="L105" class="blob-num js-line-number" data-line-number="105"></td>
        <td id="LC105" class="blob-code js-file-line">   &quot;metadata&quot;: {},</td>
      </tr>
      <tr>
        <td id="L106" class="blob-num js-line-number" data-line-number="106"></td>
        <td id="LC106" class="blob-code js-file-line">   &quot;source&quot;: [</td>
      </tr>
      <tr>
        <td id="L107" class="blob-num js-line-number" data-line-number="107"></td>
        <td id="LC107" class="blob-code js-file-line">    &quot;Some additional information that is required are distribution of the size of farms.  This information comes in two pieces. First, there is the fraction of each farm in each size class. Then, there is the distribution of land by size class. These two pieces of information are as follows (duly noting that I&#39;m not exactly sure how these interact in the model at this point):&quot;</td>
      </tr>
      <tr>
        <td id="L108" class="blob-num js-line-number" data-line-number="108"></td>
        <td id="LC108" class="blob-code js-file-line">   ]</td>
      </tr>
      <tr>
        <td id="L109" class="blob-num js-line-number" data-line-number="109"></td>
        <td id="LC109" class="blob-code js-file-line">  },</td>
      </tr>
      <tr>
        <td id="L110" class="blob-num js-line-number" data-line-number="110"></td>
        <td id="LC110" class="blob-code js-file-line">  {</td>
      </tr>
      <tr>
        <td id="L111" class="blob-num js-line-number" data-line-number="111"></td>
        <td id="LC111" class="blob-code js-file-line">   &quot;cell_type&quot;: &quot;code&quot;,</td>
      </tr>
      <tr>
        <td id="L112" class="blob-num js-line-number" data-line-number="112"></td>
        <td id="LC112" class="blob-code js-file-line">   &quot;execution_count&quot;: 5,</td>
      </tr>
      <tr>
        <td id="L113" class="blob-num js-line-number" data-line-number="113"></td>
        <td id="LC113" class="blob-code js-file-line">   &quot;metadata&quot;: {</td>
      </tr>
      <tr>
        <td id="L114" class="blob-num js-line-number" data-line-number="114"></td>
        <td id="LC114" class="blob-code js-file-line">    &quot;collapsed&quot;: false</td>
      </tr>
      <tr>
        <td id="L115" class="blob-num js-line-number" data-line-number="115"></td>
        <td id="LC115" class="blob-code js-file-line">   },</td>
      </tr>
      <tr>
        <td id="L116" class="blob-num js-line-number" data-line-number="116"></td>
        <td id="LC116" class="blob-code js-file-line">   &quot;outputs&quot;: [],</td>
      </tr>
      <tr>
        <td id="L117" class="blob-num js-line-number" data-line-number="117"></td>
        <td id="LC117" class="blob-code js-file-line">   &quot;source&quot;: [</td>
      </tr>
      <tr>
        <td id="L118" class="blob-num js-line-number" data-line-number="118"></td>
        <td id="LC118" class="blob-code js-file-line">    &quot;farm_pdf_data=[.1056, .2813, .0698, .0871, .0794, .0633, .0397, .0310, .0964, .0679, .0420, .0365]&quot;</td>
      </tr>
      <tr>
        <td id="L119" class="blob-num js-line-number" data-line-number="119"></td>
        <td id="LC119" class="blob-code js-file-line">   ]</td>
      </tr>
      <tr>
        <td id="L120" class="blob-num js-line-number" data-line-number="120"></td>
        <td id="LC120" class="blob-code js-file-line">  },</td>
      </tr>
      <tr>
        <td id="L121" class="blob-num js-line-number" data-line-number="121"></td>
        <td id="LC121" class="blob-code js-file-line">  {</td>
      </tr>
      <tr>
        <td id="L122" class="blob-num js-line-number" data-line-number="122"></td>
        <td id="LC122" class="blob-code js-file-line">   &quot;cell_type&quot;: &quot;markdown&quot;,</td>
      </tr>
      <tr>
        <td id="L123" class="blob-num js-line-number" data-line-number="123"></td>
        <td id="LC123" class="blob-code js-file-line">   &quot;metadata&quot;: {},</td>
      </tr>
      <tr>
        <td id="L124" class="blob-num js-line-number" data-line-number="124"></td>
        <td id="LC124" class="blob-code js-file-line">   &quot;source&quot;: [</td>
      </tr>
      <tr>
        <td id="L125" class="blob-num js-line-number" data-line-number="125"></td>
        <td id="LC125" class="blob-code js-file-line">    &quot;As alluded to above, the actual size of the bins are as follows:&quot;</td>
      </tr>
      <tr>
        <td id="L126" class="blob-num js-line-number" data-line-number="126"></td>
        <td id="LC126" class="blob-code js-file-line">   ]</td>
      </tr>
      <tr>
        <td id="L127" class="blob-num js-line-number" data-line-number="127"></td>
        <td id="LC127" class="blob-code js-file-line">  },</td>
      </tr>
      <tr>
        <td id="L128" class="blob-num js-line-number" data-line-number="128"></td>
        <td id="LC128" class="blob-code js-file-line">  {</td>
      </tr>
      <tr>
        <td id="L129" class="blob-num js-line-number" data-line-number="129"></td>
        <td id="LC129" class="blob-code js-file-line">   &quot;cell_type&quot;: &quot;code&quot;,</td>
      </tr>
      <tr>
        <td id="L130" class="blob-num js-line-number" data-line-number="130"></td>
        <td id="LC130" class="blob-code js-file-line">   &quot;execution_count&quot;: 6,</td>
      </tr>
      <tr>
        <td id="L131" class="blob-num js-line-number" data-line-number="131"></td>
        <td id="LC131" class="blob-code js-file-line">   &quot;metadata&quot;: {</td>
      </tr>
      <tr>
        <td id="L132" class="blob-num js-line-number" data-line-number="132"></td>
        <td id="LC132" class="blob-code js-file-line">    &quot;collapsed&quot;: false</td>
      </tr>
      <tr>
        <td id="L133" class="blob-num js-line-number" data-line-number="133"></td>
        <td id="LC133" class="blob-code js-file-line">   },</td>
      </tr>
      <tr>
        <td id="L134" class="blob-num js-line-number" data-line-number="134"></td>
        <td id="LC134" class="blob-code js-file-line">   &quot;outputs&quot;: [],</td>
      </tr>
      <tr>
        <td id="L135" class="blob-num js-line-number" data-line-number="135"></td>
        <td id="LC135" class="blob-code js-file-line">   &quot;source&quot;: [</td>
      </tr>
      <tr>
        <td id="L136" class="blob-num js-line-number" data-line-number="136"></td>
        <td id="LC136" class="blob-code js-file-line">    &quot;land_pdf_data=[.0012, .0173, .0097, .0171, .0220, .0238, .0187, .0176, .0823, .01129, .01384, .05389 ]&quot;</td>
      </tr>
      <tr>
        <td id="L137" class="blob-num js-line-number" data-line-number="137"></td>
        <td id="LC137" class="blob-code js-file-line">   ]</td>
      </tr>
      <tr>
        <td id="L138" class="blob-num js-line-number" data-line-number="138"></td>
        <td id="LC138" class="blob-code js-file-line">  },</td>
      </tr>
      <tr>
        <td id="L139" class="blob-num js-line-number" data-line-number="139"></td>
        <td id="LC139" class="blob-code js-file-line">  {</td>
      </tr>
      <tr>
        <td id="L140" class="blob-num js-line-number" data-line-number="140"></td>
        <td id="LC140" class="blob-code js-file-line">   &quot;cell_type&quot;: &quot;markdown&quot;,</td>
      </tr>
      <tr>
        <td id="L141" class="blob-num js-line-number" data-line-number="141"></td>
        <td id="LC141" class="blob-code js-file-line">   &quot;metadata&quot;: {},</td>
      </tr>
      <tr>
        <td id="L142" class="blob-num js-line-number" data-line-number="142"></td>
        <td id="LC142" class="blob-code js-file-line">   &quot;source&quot;: [</td>
      </tr>
      <tr>
        <td id="L143" class="blob-num js-line-number" data-line-number="143"></td>
        <td id="LC143" class="blob-code js-file-line">    &quot;Some additional calibrated variables include: \n&quot;,</td>
      </tr>
      <tr>
        <td id="L144" class="blob-num js-line-number" data-line-number="144"></td>
        <td id="LC144" class="blob-code js-file-line">    &quot;The average farm size (in the United States), \n&quot;,</td>
      </tr>
      <tr>
        <td id="L145" class="blob-num js-line-number" data-line-number="145"></td>
        <td id="LC145" class="blob-code js-file-line">    &quot;The share of labor in agriculture in the United States, \n&quot;,</td>
      </tr>
      <tr>
        <td id="L146" class="blob-num js-line-number" data-line-number="146"></td>
        <td id="LC146" class="blob-code js-file-line">    &quot;The United States capital labor ratio,\n&quot;,</td>
      </tr>
      <tr>
        <td id="L147" class="blob-num js-line-number" data-line-number="147"></td>
        <td id="LC147" class="blob-code js-file-line">    &quot;The ratio of capital land ratio between smallest and largest farms,\n&quot;,</td>
      </tr>
      <tr>
        <td id="L148" class="blob-num js-line-number" data-line-number="148"></td>
        <td id="LC148" class="blob-code js-file-line">    &quot;The ratio of agricultural to non-agricultural labor productivity, \n&quot;,</td>
      </tr>
      <tr>
        <td id="L149" class="blob-num js-line-number" data-line-number="149"></td>
        <td id="LC149" class="blob-code js-file-line">    &quot;The long-run share of labor in agriculture, \n&quot;,</td>
      </tr>
      <tr>
        <td id="L150" class="blob-num js-line-number" data-line-number="150"></td>
        <td id="LC150" class="blob-code js-file-line">    &quot;And the agricultural land income share. \n&quot;,</td>
      </tr>
      <tr>
        <td id="L151" class="blob-num js-line-number" data-line-number="151"></td>
        <td id="LC151" class="blob-code js-file-line">    &quot;\n&quot;,</td>
      </tr>
      <tr>
        <td id="L152" class="blob-num js-line-number" data-line-number="152"></td>
        <td id="LC152" class="blob-code js-file-line">    &quot;Respectively, these variables are:&quot;</td>
      </tr>
      <tr>
        <td id="L153" class="blob-num js-line-number" data-line-number="153"></td>
        <td id="LC153" class="blob-code js-file-line">   ]</td>
      </tr>
      <tr>
        <td id="L154" class="blob-num js-line-number" data-line-number="154"></td>
        <td id="LC154" class="blob-code js-file-line">  },</td>
      </tr>
      <tr>
        <td id="L155" class="blob-num js-line-number" data-line-number="155"></td>
        <td id="LC155" class="blob-code js-file-line">  {</td>
      </tr>
      <tr>
        <td id="L156" class="blob-num js-line-number" data-line-number="156"></td>
        <td id="LC156" class="blob-code js-file-line">   &quot;cell_type&quot;: &quot;code&quot;,</td>
      </tr>
      <tr>
        <td id="L157" class="blob-num js-line-number" data-line-number="157"></td>
        <td id="LC157" class="blob-code js-file-line">   &quot;execution_count&quot;: 7,</td>
      </tr>
      <tr>
        <td id="L158" class="blob-num js-line-number" data-line-number="158"></td>
        <td id="LC158" class="blob-code js-file-line">   &quot;metadata&quot;: {</td>
      </tr>
      <tr>
        <td id="L159" class="blob-num js-line-number" data-line-number="159"></td>
        <td id="LC159" class="blob-code js-file-line">    &quot;collapsed&quot;: false</td>
      </tr>
      <tr>
        <td id="L160" class="blob-num js-line-number" data-line-number="160"></td>
        <td id="LC160" class="blob-code js-file-line">   },</td>
      </tr>
      <tr>
        <td id="L161" class="blob-num js-line-number" data-line-number="161"></td>
        <td id="LC161" class="blob-code js-file-line">   &quot;outputs&quot;: [],</td>
      </tr>
      <tr>
        <td id="L162" class="blob-num js-line-number" data-line-number="162"></td>
        <td id="LC162" class="blob-code js-file-line">   &quot;source&quot;: [</td>
      </tr>
      <tr>
        <td id="L163" class="blob-num js-line-number" data-line-number="163"></td>
        <td id="LC163" class="blob-code js-file-line">    &quot;AFS_US=169.249\n&quot;,</td>
      </tr>
      <tr>
        <td id="L164" class="blob-num js-line-number" data-line-number="164"></td>
        <td id="LC164" class="blob-code js-file-line">    &quot;Na_US=.025\n&quot;,</td>
      </tr>
      <tr>
        <td id="L165" class="blob-num js-line-number" data-line-number="165"></td>
        <td id="LC165" class="blob-code js-file-line">    &quot;KY_US=2.5\n&quot;,</td>
      </tr>
      <tr>
        <td id="L166" class="blob-num js-line-number" data-line-number="166"></td>
        <td id="LC166" class="blob-code js-file-line">    &quot;kl_min_max_data=84.85\n&quot;,</td>
      </tr>
      <tr>
        <td id="L167" class="blob-num js-line-number" data-line-number="167"></td>
        <td id="LC167" class="blob-code js-file-line">    &quot;paYNan_ratio=1.0/2.0\n&quot;,</td>
      </tr>
      <tr>
        <td id="L168" class="blob-num js-line-number" data-line-number="168"></td>
        <td id="LC168" class="blob-code js-file-line">    &quot;PHI=0.010\n&quot;,</td>
      </tr>
      <tr>
        <td id="L169" class="blob-num js-line-number" data-line-number="169"></td>
        <td id="LC169" class="blob-code js-file-line">    &quot;L_inc_sh=0.18&quot;</td>
      </tr>
      <tr>
        <td id="L170" class="blob-num js-line-number" data-line-number="170"></td>
        <td id="LC170" class="blob-code js-file-line">   ]</td>
      </tr>
      <tr>
        <td id="L171" class="blob-num js-line-number" data-line-number="171"></td>
        <td id="LC171" class="blob-code js-file-line">  },</td>
      </tr>
      <tr>
        <td id="L172" class="blob-num js-line-number" data-line-number="172"></td>
        <td id="LC172" class="blob-code js-file-line">  {</td>
      </tr>
      <tr>
        <td id="L173" class="blob-num js-line-number" data-line-number="173"></td>
        <td id="LC173" class="blob-code js-file-line">   &quot;cell_type&quot;: &quot;markdown&quot;,</td>
      </tr>
      <tr>
        <td id="L174" class="blob-num js-line-number" data-line-number="174"></td>
        <td id="LC174" class="blob-code js-file-line">   &quot;metadata&quot;: {},</td>
      </tr>
      <tr>
        <td id="L175" class="blob-num js-line-number" data-line-number="175"></td>
        <td id="LC175" class="blob-code js-file-line">   &quot;source&quot;: [</td>
      </tr>
      <tr>
        <td id="L176" class="blob-num js-line-number" data-line-number="176"></td>
        <td id="LC176" class="blob-code js-file-line">    &quot;The calibrated variables are then used to determine many of the quantities that are actually used in modeling. For one, we have the mysterious quantity:&quot;</td>
      </tr>
      <tr>
        <td id="L177" class="blob-num js-line-number" data-line-number="177"></td>
        <td id="LC177" class="blob-code js-file-line">   ]</td>
      </tr>
      <tr>
        <td id="L178" class="blob-num js-line-number" data-line-number="178"></td>
        <td id="LC178" class="blob-code js-file-line">  },</td>
      </tr>
      <tr>
        <td id="L179" class="blob-num js-line-number" data-line-number="179"></td>
        <td id="LC179" class="blob-code js-file-line">  {</td>
      </tr>
      <tr>
        <td id="L180" class="blob-num js-line-number" data-line-number="180"></td>
        <td id="LC180" class="blob-code js-file-line">   &quot;cell_type&quot;: &quot;code&quot;,</td>
      </tr>
      <tr>
        <td id="L181" class="blob-num js-line-number" data-line-number="181"></td>
        <td id="LC181" class="blob-code js-file-line">   &quot;execution_count&quot;: 8,</td>
      </tr>
      <tr>
        <td id="L182" class="blob-num js-line-number" data-line-number="182"></td>
        <td id="LC182" class="blob-code js-file-line">   &quot;metadata&quot;: {</td>
      </tr>
      <tr>
        <td id="L183" class="blob-num js-line-number" data-line-number="183"></td>
        <td id="LC183" class="blob-code js-file-line">    &quot;collapsed&quot;: false</td>
      </tr>
      <tr>
        <td id="L184" class="blob-num js-line-number" data-line-number="184"></td>
        <td id="LC184" class="blob-code js-file-line">   },</td>
      </tr>
      <tr>
        <td id="L185" class="blob-num js-line-number" data-line-number="185"></td>
        <td id="LC185" class="blob-code js-file-line">   &quot;outputs&quot;: [],</td>
      </tr>
      <tr>
        <td id="L186" class="blob-num js-line-number" data-line-number="186"></td>
        <td id="LC186" class="blob-code js-file-line">   &quot;source&quot;: [</td>
      </tr>
      <tr>
        <td id="L187" class="blob-num js-line-number" data-line-number="187"></td>
        <td id="LC187" class="blob-code js-file-line">    &quot;rKa_qL_US=GAMMA/L_inc_sh-1&quot;</td>
      </tr>
      <tr>
        <td id="L188" class="blob-num js-line-number" data-line-number="188"></td>
        <td id="LC188" class="blob-code js-file-line">   ]</td>
      </tr>
      <tr>
        <td id="L189" class="blob-num js-line-number" data-line-number="189"></td>
        <td id="LC189" class="blob-code js-file-line">  },</td>
      </tr>
      <tr>
        <td id="L190" class="blob-num js-line-number" data-line-number="190"></td>
        <td id="LC190" class="blob-code js-file-line">  {</td>
      </tr>
      <tr>
        <td id="L191" class="blob-num js-line-number" data-line-number="191"></td>
        <td id="LC191" class="blob-code js-file-line">   &quot;cell_type&quot;: &quot;markdown&quot;,</td>
      </tr>
      <tr>
        <td id="L192" class="blob-num js-line-number" data-line-number="192"></td>
        <td id="LC192" class="blob-code js-file-line">   &quot;metadata&quot;: {},</td>
      </tr>
      <tr>
        <td id="L193" class="blob-num js-line-number" data-line-number="193"></td>
        <td id="LC193" class="blob-code js-file-line">   &quot;source&quot;: [</td>
      </tr>
      <tr>
        <td id="L194" class="blob-num js-line-number" data-line-number="194"></td>
        <td id="LC194" class="blob-code js-file-line">    &quot;Jonathan has pointed out that this is funny little equation results from Euler&#39;s Theorem: total factor payments add up to $\\gamma$ of output, with profits being what is left after this. Accordingly:\n&quot;,</td>
      </tr>
      <tr>
        <td id="L195" class="blob-num js-line-number" data-line-number="195"></td>
        <td id="LC195" class="blob-code js-file-line">    &quot;\n&quot;,</td>
      </tr>
      <tr>
        <td id="L196" class="blob-num js-line-number" data-line-number="196"></td>
        <td id="LC196" class="blob-code js-file-line">    &quot;$rK+qL=\\gamma F_KK+\\gamma F_LN=\\gamma Y_a$\n&quot;,</td>
      </tr>
      <tr>
        <td id="L197" class="blob-num js-line-number" data-line-number="197"></td>
        <td id="LC197" class="blob-code js-file-line">    &quot;\n&quot;,</td>
      </tr>
      <tr>
        <td id="L198" class="blob-num js-line-number" data-line-number="198"></td>
        <td id="LC198" class="blob-code js-file-line">    &quot;This implies:\n&quot;,</td>
      </tr>
      <tr>
        <td id="L199" class="blob-num js-line-number" data-line-number="199"></td>
        <td id="LC199" class="blob-code js-file-line">    &quot;\n&quot;,</td>
      </tr>
      <tr>
        <td id="L200" class="blob-num js-line-number" data-line-number="200"></td>
        <td id="LC200" class="blob-code js-file-line">    &quot;$\\frac{rK}{qL}+1=\\frac{\\gamma Y_a}{qL}$.\n&quot;,</td>
      </tr>
      <tr>
        <td id="L201" class="blob-num js-line-number" data-line-number="201"></td>
        <td id="LC201" class="blob-code js-file-line">    &quot;\n&quot;,</td>
      </tr>
      <tr>
        <td id="L202" class="blob-num js-line-number" data-line-number="202"></td>
        <td id="LC202" class="blob-code js-file-line">    &quot;We then have the above rKa_ql_US as the term $\\frac{rK}{qL}$ in the previous equation:\n&quot;,</td>
      </tr>
      <tr>
        <td id="L203" class="blob-num js-line-number" data-line-number="203"></td>
        <td id="LC203" class="blob-code js-file-line">    &quot;\n&quot;,</td>
      </tr>
      <tr>
        <td id="L204" class="blob-num js-line-number" data-line-number="204"></td>
        <td id="LC204" class="blob-code js-file-line">    &quot;$\\frac{rK}{qL}=\\frac{\\gamma Y_a}{qL}-1$.\n&quot;</td>
      </tr>
      <tr>
        <td id="L205" class="blob-num js-line-number" data-line-number="205"></td>
        <td id="LC205" class="blob-code js-file-line">   ]</td>
      </tr>
      <tr>
        <td id="L206" class="blob-num js-line-number" data-line-number="206"></td>
        <td id="LC206" class="blob-code js-file-line">  },</td>
      </tr>
      <tr>
        <td id="L207" class="blob-num js-line-number" data-line-number="207"></td>
        <td id="LC207" class="blob-code js-file-line">  {</td>
      </tr>
      <tr>
        <td id="L208" class="blob-num js-line-number" data-line-number="208"></td>
        <td id="LC208" class="blob-code js-file-line">   &quot;cell_type&quot;: &quot;markdown&quot;,</td>
      </tr>
      <tr>
        <td id="L209" class="blob-num js-line-number" data-line-number="209"></td>
        <td id="LC209" class="blob-code js-file-line">   &quot;metadata&quot;: {},</td>
      </tr>
      <tr>
        <td id="L210" class="blob-num js-line-number" data-line-number="210"></td>
        <td id="LC210" class="blob-code js-file-line">   &quot;source&quot;: [</td>
      </tr>
      <tr>
        <td id="L211" class="blob-num js-line-number" data-line-number="211"></td>
        <td id="LC211" class="blob-code js-file-line">    &quot;A next equation that is a little fishy is the following \&quot;derived calibration\&quot;:&quot;</td>
      </tr>
      <tr>
        <td id="L212" class="blob-num js-line-number" data-line-number="212"></td>
        <td id="LC212" class="blob-code js-file-line">   ]</td>
      </tr>
      <tr>
        <td id="L213" class="blob-num js-line-number" data-line-number="213"></td>
        <td id="LC213" class="blob-code js-file-line">  },</td>
      </tr>
      <tr>
        <td id="L214" class="blob-num js-line-number" data-line-number="214"></td>
        <td id="LC214" class="blob-code js-file-line">  {</td>
      </tr>
      <tr>
        <td id="L215" class="blob-num js-line-number" data-line-number="215"></td>
        <td id="LC215" class="blob-code js-file-line">   &quot;cell_type&quot;: &quot;code&quot;,</td>
      </tr>
      <tr>
        <td id="L216" class="blob-num js-line-number" data-line-number="216"></td>
        <td id="LC216" class="blob-code js-file-line">   &quot;execution_count&quot;: 9,</td>
      </tr>
      <tr>
        <td id="L217" class="blob-num js-line-number" data-line-number="217"></td>
        <td id="LC217" class="blob-code js-file-line">   &quot;metadata&quot;: {</td>
      </tr>
      <tr>
        <td id="L218" class="blob-num js-line-number" data-line-number="218"></td>
        <td id="LC218" class="blob-code js-file-line">    &quot;collapsed&quot;: false</td>
      </tr>
      <tr>
        <td id="L219" class="blob-num js-line-number" data-line-number="219"></td>
        <td id="LC219" class="blob-code js-file-line">   },</td>
      </tr>
      <tr>
        <td id="L220" class="blob-num js-line-number" data-line-number="220"></td>
        <td id="LC220" class="blob-code js-file-line">   &quot;outputs&quot;: [],</td>
      </tr>
      <tr>
        <td id="L221" class="blob-num js-line-number" data-line-number="221"></td>
        <td id="LC221" class="blob-code js-file-line">   &quot;source&quot;: [</td>
      </tr>
      <tr>
        <td id="L222" class="blob-num js-line-number" data-line-number="222"></td>
        <td id="LC222" class="blob-code js-file-line">    &quot;YN_US=(A_US**(1/(1-ALPHA)))*KY_US**(ALPHA/(1-ALPHA))&quot;</td>
      </tr>
      <tr>
        <td id="L223" class="blob-num js-line-number" data-line-number="223"></td>
        <td id="LC223" class="blob-code js-file-line">   ]</td>
      </tr>
      <tr>
        <td id="L224" class="blob-num js-line-number" data-line-number="224"></td>
        <td id="LC224" class="blob-code js-file-line">  },</td>
      </tr>
      <tr>
        <td id="L225" class="blob-num js-line-number" data-line-number="225"></td>
        <td id="LC225" class="blob-code js-file-line">  {</td>
      </tr>
      <tr>
        <td id="L226" class="blob-num js-line-number" data-line-number="226"></td>
        <td id="LC226" class="blob-code js-file-line">   &quot;cell_type&quot;: &quot;markdown&quot;,</td>
      </tr>
      <tr>
        <td id="L227" class="blob-num js-line-number" data-line-number="227"></td>
        <td id="LC227" class="blob-code js-file-line">   &quot;metadata&quot;: {},</td>
      </tr>
      <tr>
        <td id="L228" class="blob-num js-line-number" data-line-number="228"></td>
        <td id="LC228" class="blob-code js-file-line">   &quot;source&quot;: [</td>
      </tr>
      <tr>
        <td id="L229" class="blob-num js-line-number" data-line-number="229"></td>
        <td id="LC229" class="blob-code js-file-line">    &quot;In terms of nice formatting, I&#39;m thinking this is worker productivity. That is, we have: \n&quot;,</td>
      </tr>
      <tr>
        <td id="L230" class="blob-num js-line-number" data-line-number="230"></td>
        <td id="LC230" class="blob-code js-file-line">    &quot;\n&quot;,</td>
      </tr>
      <tr>
        <td id="L231" class="blob-num js-line-number" data-line-number="231"></td>
        <td id="LC231" class="blob-code js-file-line">    &quot;$\\frac{Y_n}{N_n}=A^{\\frac{1}{1-\\alpha}}\\left(\\frac{K_n}{Y_n}\\right)^\\frac{\\alpha}{1-\\alpha}$&quot;</td>
      </tr>
      <tr>
        <td id="L232" class="blob-num js-line-number" data-line-number="232"></td>
        <td id="LC232" class="blob-code js-file-line">   ]</td>
      </tr>
      <tr>
        <td id="L233" class="blob-num js-line-number" data-line-number="233"></td>
        <td id="LC233" class="blob-code js-file-line">  },</td>
      </tr>
      <tr>
        <td id="L234" class="blob-num js-line-number" data-line-number="234"></td>
        <td id="LC234" class="blob-code js-file-line">  {</td>
      </tr>
      <tr>
        <td id="L235" class="blob-num js-line-number" data-line-number="235"></td>
        <td id="LC235" class="blob-code js-file-line">   &quot;cell_type&quot;: &quot;markdown&quot;,</td>
      </tr>
      <tr>
        <td id="L236" class="blob-num js-line-number" data-line-number="236"></td>
        <td id="LC236" class="blob-code js-file-line">   &quot;metadata&quot;: {},</td>
      </tr>
      <tr>
        <td id="L237" class="blob-num js-line-number" data-line-number="237"></td>
        <td id="LC237" class="blob-code js-file-line">   &quot;source&quot;: [</td>
      </tr>
      <tr>
        <td id="L238" class="blob-num js-line-number" data-line-number="238"></td>
        <td id="LC238" class="blob-code js-file-line">    &quot;The last expression is aggregate labor productivity, but it is hard to see where an expression like this could come from. But first, let&#39;s think about the goal, which is to write labor productivity as a function of the capital-output ratio. If we started with a function like:\n&quot;,</td>
      </tr>
      <tr>
        <td id="L239" class="blob-num js-line-number" data-line-number="239"></td>
        <td id="LC239" class="blob-code js-file-line">    &quot;\n&quot;,</td>
      </tr>
      <tr>
        <td id="L240" class="blob-num js-line-number" data-line-number="240"></td>
        <td id="LC240" class="blob-code js-file-line">    &quot;$Y_n=AK_n^\\alpha N_n^{1-\\alpha}$\n&quot;,</td>
      </tr>
      <tr>
        <td id="L241" class="blob-num js-line-number" data-line-number="241"></td>
        <td id="LC241" class="blob-code js-file-line">    &quot;\n&quot;,</td>
      </tr>
      <tr>
        <td id="L242" class="blob-num js-line-number" data-line-number="242"></td>
        <td id="LC242" class="blob-code js-file-line">    &quot;Now \&quot;solve\&quot; this for $N_n$ and write this as:\n&quot;,</td>
      </tr>
      <tr>
        <td id="L243" class="blob-num js-line-number" data-line-number="243"></td>
        <td id="LC243" class="blob-code js-file-line">    &quot;\n&quot;,</td>
      </tr>
      <tr>
        <td id="L244" class="blob-num js-line-number" data-line-number="244"></td>
        <td id="LC244" class="blob-code js-file-line">    &quot;$Y_n^{\\frac{1}{1-\\alpha}}=A^{\\frac{1}{1-\\alpha}}N_nK_n^{\\frac{\\alpha}{1-\\alpha}}$\n&quot;,</td>
      </tr>
      <tr>
        <td id="L245" class="blob-num js-line-number" data-line-number="245"></td>
        <td id="LC245" class="blob-code js-file-line">    &quot;\n&quot;,</td>
      </tr>
      <tr>
        <td id="L246" class="blob-num js-line-number" data-line-number="246"></td>
        <td id="LC246" class="blob-code js-file-line">    &quot;Now, we note that we can write this as follows:\n&quot;,</td>
      </tr>
      <tr>
        <td id="L247" class="blob-num js-line-number" data-line-number="247"></td>
        <td id="LC247" class="blob-code js-file-line">    &quot;\n&quot;,</td>
      </tr>
      <tr>
        <td id="L248" class="blob-num js-line-number" data-line-number="248"></td>
        <td id="LC248" class="blob-code js-file-line">    &quot;$Y_nY_n^\\frac{\\alpha}{1-\\alpha}=A^\\frac{1}{1-\\alpha}N_nK_n^\\frac{\\alpha}{1-\\alpha}$\n&quot;,</td>
      </tr>
      <tr>
        <td id="L249" class="blob-num js-line-number" data-line-number="249"></td>
        <td id="LC249" class="blob-code js-file-line">    &quot;\n&quot;,</td>
      </tr>
      <tr>
        <td id="L250" class="blob-num js-line-number" data-line-number="250"></td>
        <td id="LC250" class="blob-code js-file-line">    &quot;Now divide through by $Y_n^\\frac{\\alpha}{1-\\alpha}N_n$ to get the desired result.\n&quot;,</td>
      </tr>
      <tr>
        <td id="L251" class="blob-num js-line-number" data-line-number="251"></td>
        <td id="LC251" class="blob-code js-file-line">    &quot;\n&quot;,</td>
      </tr>
      <tr>
        <td id="L252" class="blob-num js-line-number" data-line-number="252"></td>
        <td id="LC252" class="blob-code js-file-line">    &quot;The few quantities of interest are calibrated as follows:&quot;</td>
      </tr>
      <tr>
        <td id="L253" class="blob-num js-line-number" data-line-number="253"></td>
        <td id="LC253" class="blob-code js-file-line">   ]</td>
      </tr>
      <tr>
        <td id="L254" class="blob-num js-line-number" data-line-number="254"></td>
        <td id="LC254" class="blob-code js-file-line">  },</td>
      </tr>
      <tr>
        <td id="L255" class="blob-num js-line-number" data-line-number="255"></td>
        <td id="LC255" class="blob-code js-file-line">  {</td>
      </tr>
      <tr>
        <td id="L256" class="blob-num js-line-number" data-line-number="256"></td>
        <td id="LC256" class="blob-code js-file-line">   &quot;cell_type&quot;: &quot;code&quot;,</td>
      </tr>
      <tr>
        <td id="L257" class="blob-num js-line-number" data-line-number="257"></td>
        <td id="LC257" class="blob-code js-file-line">   &quot;execution_count&quot;: 10,</td>
      </tr>
      <tr>
        <td id="L258" class="blob-num js-line-number" data-line-number="258"></td>
        <td id="LC258" class="blob-code js-file-line">   &quot;metadata&quot;: {</td>
      </tr>
      <tr>
        <td id="L259" class="blob-num js-line-number" data-line-number="259"></td>
        <td id="LC259" class="blob-code js-file-line">    &quot;collapsed&quot;: false</td>
      </tr>
      <tr>
        <td id="L260" class="blob-num js-line-number" data-line-number="260"></td>
        <td id="LC260" class="blob-code js-file-line">   },</td>
      </tr>
      <tr>
        <td id="L261" class="blob-num js-line-number" data-line-number="261"></td>
        <td id="LC261" class="blob-code js-file-line">   &quot;outputs&quot;: [],</td>
      </tr>
      <tr>
        <td id="L262" class="blob-num js-line-number" data-line-number="262"></td>
        <td id="LC262" class="blob-code js-file-line">   &quot;source&quot;: [</td>
      </tr>
      <tr>
        <td id="L263" class="blob-num js-line-number" data-line-number="263"></td>
        <td id="LC263" class="blob-code js-file-line">    &quot;K_US=KY_US*YN_US\n&quot;,</td>
      </tr>
      <tr>
        <td id="L264" class="blob-num js-line-number" data-line-number="264"></td>
        <td id="LC264" class="blob-code js-file-line">    &quot;LN_US=AFS_US*Na_US\n&quot;,</td>
      </tr>
      <tr>
        <td id="L265" class="blob-num js-line-number" data-line-number="265"></td>
        <td id="LC265" class="blob-code js-file-line">    &quot;one_minus_XI=(1-GAMMA)/(1-ALPHA)*paYNan_ratio\n&quot;,</td>
      </tr>
      <tr>
        <td id="L266" class="blob-num js-line-number" data-line-number="266"></td>
        <td id="LC266" class="blob-code js-file-line">    &quot;XI=1-one_minus_XI&quot;</td>
      </tr>
      <tr>
        <td id="L267" class="blob-num js-line-number" data-line-number="267"></td>
        <td id="LC267" class="blob-code js-file-line">   ]</td>
      </tr>
      <tr>
        <td id="L268" class="blob-num js-line-number" data-line-number="268"></td>
        <td id="LC268" class="blob-code js-file-line">  },</td>
      </tr>
      <tr>
        <td id="L269" class="blob-num js-line-number" data-line-number="269"></td>
        <td id="LC269" class="blob-code js-file-line">  {</td>
      </tr>
      <tr>
        <td id="L270" class="blob-num js-line-number" data-line-number="270"></td>
        <td id="LC270" class="blob-code js-file-line">   &quot;cell_type&quot;: &quot;code&quot;,</td>
      </tr>
      <tr>
        <td id="L271" class="blob-num js-line-number" data-line-number="271"></td>
        <td id="LC271" class="blob-code js-file-line">   &quot;execution_count&quot;: 11,</td>
      </tr>
      <tr>
        <td id="L272" class="blob-num js-line-number" data-line-number="272"></td>
        <td id="LC272" class="blob-code js-file-line">   &quot;metadata&quot;: {</td>
      </tr>
      <tr>
        <td id="L273" class="blob-num js-line-number" data-line-number="273"></td>
        <td id="LC273" class="blob-code js-file-line">    &quot;collapsed&quot;: false</td>
      </tr>
      <tr>
        <td id="L274" class="blob-num js-line-number" data-line-number="274"></td>
        <td id="LC274" class="blob-code js-file-line">   },</td>
      </tr>
      <tr>
        <td id="L275" class="blob-num js-line-number" data-line-number="275"></td>
        <td id="LC275" class="blob-code js-file-line">   &quot;outputs&quot;: [</td>
      </tr>
      <tr>
        <td id="L276" class="blob-num js-line-number" data-line-number="276"></td>
        <td id="LC276" class="blob-code js-file-line">    {</td>
      </tr>
      <tr>
        <td id="L277" class="blob-num js-line-number" data-line-number="277"></td>
        <td id="LC277" class="blob-code js-file-line">     &quot;data&quot;: {</td>
      </tr>
      <tr>
        <td id="L278" class="blob-num js-line-number" data-line-number="278"></td>
        <td id="LC278" class="blob-code js-file-line">      &quot;text/plain&quot;: [</td>
      </tr>
      <tr>
        <td id="L279" class="blob-num js-line-number" data-line-number="279"></td>
        <td id="LC279" class="blob-code js-file-line">       &quot;0.34328358208955223&quot;</td>
      </tr>
      <tr>
        <td id="L280" class="blob-num js-line-number" data-line-number="280"></td>
        <td id="LC280" class="blob-code js-file-line">      ]</td>
      </tr>
      <tr>
        <td id="L281" class="blob-num js-line-number" data-line-number="281"></td>
        <td id="LC281" class="blob-code js-file-line">     },</td>
      </tr>
      <tr>
        <td id="L282" class="blob-num js-line-number" data-line-number="282"></td>
        <td id="LC282" class="blob-code js-file-line">     &quot;execution_count&quot;: 11,</td>
      </tr>
      <tr>
        <td id="L283" class="blob-num js-line-number" data-line-number="283"></td>
        <td id="LC283" class="blob-code js-file-line">     &quot;metadata&quot;: {},</td>
      </tr>
      <tr>
        <td id="L284" class="blob-num js-line-number" data-line-number="284"></td>
        <td id="LC284" class="blob-code js-file-line">     &quot;output_type&quot;: &quot;execute_result&quot;</td>
      </tr>
      <tr>
        <td id="L285" class="blob-num js-line-number" data-line-number="285"></td>
        <td id="LC285" class="blob-code js-file-line">    }</td>
      </tr>
      <tr>
        <td id="L286" class="blob-num js-line-number" data-line-number="286"></td>
        <td id="LC286" class="blob-code js-file-line">   ],</td>
      </tr>
      <tr>
        <td id="L287" class="blob-num js-line-number" data-line-number="287"></td>
        <td id="LC287" class="blob-code js-file-line">   &quot;source&quot;: [</td>
      </tr>
      <tr>
        <td id="L288" class="blob-num js-line-number" data-line-number="288"></td>
        <td id="LC288" class="blob-code js-file-line">    &quot;one_minus_XI&quot;</td>
      </tr>
      <tr>
        <td id="L289" class="blob-num js-line-number" data-line-number="289"></td>
        <td id="LC289" class="blob-code js-file-line">   ]</td>
      </tr>
      <tr>
        <td id="L290" class="blob-num js-line-number" data-line-number="290"></td>
        <td id="LC290" class="blob-code js-file-line">  },</td>
      </tr>
      <tr>
        <td id="L291" class="blob-num js-line-number" data-line-number="291"></td>
        <td id="LC291" class="blob-code js-file-line">  {</td>
      </tr>
      <tr>
        <td id="L292" class="blob-num js-line-number" data-line-number="292"></td>
        <td id="LC292" class="blob-code js-file-line">   &quot;cell_type&quot;: &quot;markdown&quot;,</td>
      </tr>
      <tr>
        <td id="L293" class="blob-num js-line-number" data-line-number="293"></td>
        <td id="LC293" class="blob-code js-file-line">   &quot;metadata&quot;: {},</td>
      </tr>
      <tr>
        <td id="L294" class="blob-num js-line-number" data-line-number="294"></td>
        <td id="LC294" class="blob-code js-file-line">   &quot;source&quot;: [</td>
      </tr>
      <tr>
        <td id="L295" class="blob-num js-line-number" data-line-number="295"></td>
        <td id="LC295" class="blob-code js-file-line">    &quot;What is this variable $\\xi$? It is called the \&quot;value productivity ratio\&quot; in the paper. The operative assumption is that working in nonagriculture is subject to a tax. So non-agricultural worker $w(1-\\xi)$. &quot;</td>
      </tr>
      <tr>
        <td id="L296" class="blob-num js-line-number" data-line-number="296"></td>
        <td id="LC296" class="blob-code js-file-line">   ]</td>
      </tr>
      <tr>
        <td id="L297" class="blob-num js-line-number" data-line-number="297"></td>
        <td id="LC297" class="blob-code js-file-line">  },</td>
      </tr>
      <tr>
        <td id="L298" class="blob-num js-line-number" data-line-number="298"></td>
        <td id="LC298" class="blob-code js-file-line">  {</td>
      </tr>
      <tr>
        <td id="L299" class="blob-num js-line-number" data-line-number="299"></td>
        <td id="LC299" class="blob-code js-file-line">   &quot;cell_type&quot;: &quot;markdown&quot;,</td>
      </tr>
      <tr>
        <td id="L300" class="blob-num js-line-number" data-line-number="300"></td>
        <td id="LC300" class="blob-code js-file-line">   &quot;metadata&quot;: {},</td>
      </tr>
      <tr>
        <td id="L301" class="blob-num js-line-number" data-line-number="301"></td>
        <td id="LC301" class="blob-code js-file-line">   &quot;source&quot;: [</td>
      </tr>
      <tr>
        <td id="L302" class="blob-num js-line-number" data-line-number="302"></td>
        <td id="LC302" class="blob-code js-file-line">    &quot;It is a little hard for me to see why this is needed or where it is coming from at the moment. Anyways, we start out with a grid of guesses for $\\mu$ and $\\sigma$, and also provide some other details of the search for the mean and variance:&quot;</td>
      </tr>
      <tr>
        <td id="L303" class="blob-num js-line-number" data-line-number="303"></td>
        <td id="LC303" class="blob-code js-file-line">   ]</td>
      </tr>
      <tr>
        <td id="L304" class="blob-num js-line-number" data-line-number="304"></td>
        <td id="LC304" class="blob-code js-file-line">  },</td>
      </tr>
      <tr>
        <td id="L305" class="blob-num js-line-number" data-line-number="305"></td>
        <td id="LC305" class="blob-code js-file-line">  {</td>
      </tr>
      <tr>
        <td id="L306" class="blob-num js-line-number" data-line-number="306"></td>
        <td id="LC306" class="blob-code js-file-line">   &quot;cell_type&quot;: &quot;code&quot;,</td>
      </tr>
      <tr>
        <td id="L307" class="blob-num js-line-number" data-line-number="307"></td>
        <td id="LC307" class="blob-code js-file-line">   &quot;execution_count&quot;: 12,</td>
      </tr>
      <tr>
        <td id="L308" class="blob-num js-line-number" data-line-number="308"></td>
        <td id="LC308" class="blob-code js-file-line">   &quot;metadata&quot;: {</td>
      </tr>
      <tr>
        <td id="L309" class="blob-num js-line-number" data-line-number="309"></td>
        <td id="LC309" class="blob-code js-file-line">    &quot;collapsed&quot;: false</td>
      </tr>
      <tr>
        <td id="L310" class="blob-num js-line-number" data-line-number="310"></td>
        <td id="LC310" class="blob-code js-file-line">   },</td>
      </tr>
      <tr>
        <td id="L311" class="blob-num js-line-number" data-line-number="311"></td>
        <td id="LC311" class="blob-code js-file-line">   &quot;outputs&quot;: [],</td>
      </tr>
      <tr>
        <td id="L312" class="blob-num js-line-number" data-line-number="312"></td>
        <td id="LC312" class="blob-code js-file-line">   &quot;source&quot;: [</td>
      </tr>
      <tr>
        <td id="L313" class="blob-num js-line-number" data-line-number="313"></td>
        <td id="LC313" class="blob-code js-file-line">    &quot;import numpy as np\n&quot;,</td>
      </tr>
      <tr>
        <td id="L314" class="blob-num js-line-number" data-line-number="314"></td>
        <td id="LC314" class="blob-code js-file-line">    &quot;mean=np.linspace(-1.836,-1.8,20)\n&quot;,</td>
      </tr>
      <tr>
        <td id="L315" class="blob-num js-line-number" data-line-number="315"></td>
        <td id="LC315" class="blob-code js-file-line">    &quot;var=np.linspace(4.6553,4.75,20)\n&quot;,</td>
      </tr>
      <tr>
        <td id="L316" class="blob-num js-line-number" data-line-number="316"></td>
        <td id="LC316" class="blob-code js-file-line">    &quot;DIFF=1000\n&quot;,</td>
      </tr>
      <tr>
        <td id="L317" class="blob-num js-line-number" data-line-number="317"></td>
        <td id="LC317" class="blob-code js-file-line">    &quot;C=np.zeros((12,1))\n&quot;,</td>
      </tr>
      <tr>
        <td id="L318" class="blob-num js-line-number" data-line-number="318"></td>
        <td id="LC318" class="blob-code js-file-line">    &quot;MU_min=0.0\n&quot;,</td>
      </tr>
      <tr>
        <td id="L319" class="blob-num js-line-number" data-line-number="319"></td>
        <td id="LC319" class="blob-code js-file-line">    &quot;SIGMA_min=0.0\n&quot;,</td>
      </tr>
      <tr>
        <td id="L320" class="blob-num js-line-number" data-line-number="320"></td>
        <td id="LC320" class="blob-code js-file-line">    &quot;\n&quot;,</td>
      </tr>
      <tr>
        <td id="L321" class="blob-num js-line-number" data-line-number="321"></td>
        <td id="LC321" class="blob-code js-file-line">    &quot;MU=mean[1]\n&quot;,</td>
      </tr>
      <tr>
        <td id="L322" class="blob-num js-line-number" data-line-number="322"></td>
        <td id="LC322" class="blob-code js-file-line">    &quot;SIGMA=var[1]&quot;</td>
      </tr>
      <tr>
        <td id="L323" class="blob-num js-line-number" data-line-number="323"></td>
        <td id="LC323" class="blob-code js-file-line">   ]</td>
      </tr>
      <tr>
        <td id="L324" class="blob-num js-line-number" data-line-number="324"></td>
        <td id="LC324" class="blob-code js-file-line">  },</td>
      </tr>
      <tr>
        <td id="L325" class="blob-num js-line-number" data-line-number="325"></td>
        <td id="LC325" class="blob-code js-file-line">  {</td>
      </tr>
      <tr>
        <td id="L326" class="blob-num js-line-number" data-line-number="326"></td>
        <td id="LC326" class="blob-code js-file-line">   &quot;cell_type&quot;: &quot;markdown&quot;,</td>
      </tr>
      <tr>
        <td id="L327" class="blob-num js-line-number" data-line-number="327"></td>
        <td id="LC327" class="blob-code js-file-line">   &quot;metadata&quot;: {},</td>
      </tr>
      <tr>
        <td id="L328" class="blob-num js-line-number" data-line-number="328"></td>
        <td id="LC328" class="blob-code js-file-line">   &quot;source&quot;: [</td>
      </tr>
      <tr>
        <td id="L329" class="blob-num js-line-number" data-line-number="329"></td>
        <td id="LC329" class="blob-code js-file-line">    &quot;Actually, the above entries should be looped over, but aren&#39;t in the code, which is presumably operating from the optimum values of $\\mu$ and $\\sigma$. Now, we make a grid of points and approximate a log-normal. First, we need a couple of functions that create a discretized log-normal distribution. While there are probably better ways to do this than following exactly what R/A did,let&#39;s in fact just follow along. First, let&#39;s get the package we need:&quot;</td>
      </tr>
      <tr>
        <td id="L330" class="blob-num js-line-number" data-line-number="330"></td>
        <td id="LC330" class="blob-code js-file-line">   ]</td>
      </tr>
      <tr>
        <td id="L331" class="blob-num js-line-number" data-line-number="331"></td>
        <td id="LC331" class="blob-code js-file-line">  },</td>
      </tr>
      <tr>
        <td id="L332" class="blob-num js-line-number" data-line-number="332"></td>
        <td id="LC332" class="blob-code js-file-line">  {</td>
      </tr>
      <tr>
        <td id="L333" class="blob-num js-line-number" data-line-number="333"></td>
        <td id="LC333" class="blob-code js-file-line">   &quot;cell_type&quot;: &quot;code&quot;,</td>
      </tr>
      <tr>
        <td id="L334" class="blob-num js-line-number" data-line-number="334"></td>
        <td id="LC334" class="blob-code js-file-line">   &quot;execution_count&quot;: 13,</td>
      </tr>
      <tr>
        <td id="L335" class="blob-num js-line-number" data-line-number="335"></td>
        <td id="LC335" class="blob-code js-file-line">   &quot;metadata&quot;: {</td>
      </tr>
      <tr>
        <td id="L336" class="blob-num js-line-number" data-line-number="336"></td>
        <td id="LC336" class="blob-code js-file-line">    &quot;collapsed&quot;: false</td>
      </tr>
      <tr>
        <td id="L337" class="blob-num js-line-number" data-line-number="337"></td>
        <td id="LC337" class="blob-code js-file-line">   },</td>
      </tr>
      <tr>
        <td id="L338" class="blob-num js-line-number" data-line-number="338"></td>
        <td id="LC338" class="blob-code js-file-line">   &quot;outputs&quot;: [],</td>
      </tr>
      <tr>
        <td id="L339" class="blob-num js-line-number" data-line-number="339"></td>
        <td id="LC339" class="blob-code js-file-line">   &quot;source&quot;: [</td>
      </tr>
      <tr>
        <td id="L340" class="blob-num js-line-number" data-line-number="340"></td>
        <td id="LC340" class="blob-code js-file-line">    &quot;from scipy.integrate import quad \n&quot;,</td>
      </tr>
      <tr>
        <td id="L341" class="blob-num js-line-number" data-line-number="341"></td>
        <td id="LC341" class="blob-code js-file-line">    &quot;import math&quot;</td>
      </tr>
      <tr>
        <td id="L342" class="blob-num js-line-number" data-line-number="342"></td>
        <td id="LC342" class="blob-code js-file-line">   ]</td>
      </tr>
      <tr>
        <td id="L343" class="blob-num js-line-number" data-line-number="343"></td>
        <td id="LC343" class="blob-code js-file-line">  },</td>
      </tr>
      <tr>
        <td id="L344" class="blob-num js-line-number" data-line-number="344"></td>
        <td id="LC344" class="blob-code js-file-line">  {</td>
      </tr>
      <tr>
        <td id="L345" class="blob-num js-line-number" data-line-number="345"></td>
        <td id="LC345" class="blob-code js-file-line">   &quot;cell_type&quot;: &quot;markdown&quot;,</td>
      </tr>
      <tr>
        <td id="L346" class="blob-num js-line-number" data-line-number="346"></td>
        <td id="LC346" class="blob-code js-file-line">   &quot;metadata&quot;: {},</td>
      </tr>
      <tr>
        <td id="L347" class="blob-num js-line-number" data-line-number="347"></td>
        <td id="LC347" class="blob-code js-file-line">   &quot;source&quot;: [</td>
      </tr>
      <tr>
        <td id="L348" class="blob-num js-line-number" data-line-number="348"></td>
        <td id="LC348" class="blob-code js-file-line">    &quot;We now build two functions. The first gives a log-normal pdf, while the second gives an approximate value for the cdf at the given point. Not how it might be beneficial to bring in stuff like \&quot;log\&quot; right off the bat, rather than having to use the \&quot;np\&quot; handle every time. Also note how ^ (squared) is instead **. &quot;</td>
      </tr>
      <tr>
        <td id="L349" class="blob-num js-line-number" data-line-number="349"></td>
        <td id="LC349" class="blob-code js-file-line">   ]</td>
      </tr>
      <tr>
        <td id="L350" class="blob-num js-line-number" data-line-number="350"></td>
        <td id="LC350" class="blob-code js-file-line">  },</td>
      </tr>
      <tr>
        <td id="L351" class="blob-num js-line-number" data-line-number="351"></td>
        <td id="LC351" class="blob-code js-file-line">  {</td>
      </tr>
      <tr>
        <td id="L352" class="blob-num js-line-number" data-line-number="352"></td>
        <td id="LC352" class="blob-code js-file-line">   &quot;cell_type&quot;: &quot;code&quot;,</td>
      </tr>
      <tr>
        <td id="L353" class="blob-num js-line-number" data-line-number="353"></td>
        <td id="LC353" class="blob-code js-file-line">   &quot;execution_count&quot;: 14,</td>
      </tr>
      <tr>
        <td id="L354" class="blob-num js-line-number" data-line-number="354"></td>
        <td id="LC354" class="blob-code js-file-line">   &quot;metadata&quot;: {</td>
      </tr>
      <tr>
        <td id="L355" class="blob-num js-line-number" data-line-number="355"></td>
        <td id="LC355" class="blob-code js-file-line">    &quot;collapsed&quot;: false</td>
      </tr>
      <tr>
        <td id="L356" class="blob-num js-line-number" data-line-number="356"></td>
        <td id="LC356" class="blob-code js-file-line">   },</td>
      </tr>
      <tr>
        <td id="L357" class="blob-num js-line-number" data-line-number="357"></td>
        <td id="LC357" class="blob-code js-file-line">   &quot;outputs&quot;: [],</td>
      </tr>
      <tr>
        <td id="L358" class="blob-num js-line-number" data-line-number="358"></td>
        <td id="LC358" class="blob-code js-file-line">   &quot;source&quot;: [</td>
      </tr>
      <tr>
        <td id="L359" class="blob-num js-line-number" data-line-number="359"></td>
        <td id="LC359" class="blob-code js-file-line">    &quot;def lognorm_pdf(x,m,v):\n&quot;,</td>
      </tr>
      <tr>
        <td id="L360" class="blob-num js-line-number" data-line-number="360"></td>
        <td id="LC360" class="blob-code js-file-line">    &quot;    s=np.sqrt(v)\n&quot;,</td>
      </tr>
      <tr>
        <td id="L361" class="blob-num js-line-number" data-line-number="361"></td>
        <td id="LC361" class="blob-code js-file-line">    &quot;    out1=np.divide(1.,np.multiply(x,s*np.sqrt(2.*math.pi)))\n&quot;,</td>
      </tr>
      <tr>
        <td id="L362" class="blob-num js-line-number" data-line-number="362"></td>
        <td id="LC362" class="blob-code js-file-line">    &quot;    out2=np.exp(np.divide((-(np.log(x)-m)**2),(2*v)))\n&quot;,</td>
      </tr>
      <tr>
        <td id="L363" class="blob-num js-line-number" data-line-number="363"></td>
        <td id="LC363" class="blob-code js-file-line">    &quot;    return out1*out2&quot;</td>
      </tr>
      <tr>
        <td id="L364" class="blob-num js-line-number" data-line-number="364"></td>
        <td id="LC364" class="blob-code js-file-line">   ]</td>
      </tr>
      <tr>
        <td id="L365" class="blob-num js-line-number" data-line-number="365"></td>
        <td id="LC365" class="blob-code js-file-line">  },</td>
      </tr>
      <tr>
        <td id="L366" class="blob-num js-line-number" data-line-number="366"></td>
        <td id="LC366" class="blob-code js-file-line">  {</td>
      </tr>
      <tr>
        <td id="L367" class="blob-num js-line-number" data-line-number="367"></td>
        <td id="LC367" class="blob-code js-file-line">   &quot;cell_type&quot;: &quot;markdown&quot;,</td>
      </tr>
      <tr>
        <td id="L368" class="blob-num js-line-number" data-line-number="368"></td>
        <td id="LC368" class="blob-code js-file-line">   &quot;metadata&quot;: {},</td>
      </tr>
      <tr>
        <td id="L369" class="blob-num js-line-number" data-line-number="369"></td>
        <td id="LC369" class="blob-code js-file-line">   &quot;source&quot;: [</td>
      </tr>
      <tr>
        <td id="L370" class="blob-num js-line-number" data-line-number="370"></td>
        <td id="LC370" class="blob-code js-file-line">    &quot;The above might be viewed as a more efficient coding of the lognormal pdf than R/A use. We also need a function that gives an approximation to the integrated lognormal:&quot;</td>
      </tr>
      <tr>
        <td id="L371" class="blob-num js-line-number" data-line-number="371"></td>
        <td id="LC371" class="blob-code js-file-line">   ]</td>
      </tr>
      <tr>
        <td id="L372" class="blob-num js-line-number" data-line-number="372"></td>
        <td id="LC372" class="blob-code js-file-line">  },</td>
      </tr>
      <tr>
        <td id="L373" class="blob-num js-line-number" data-line-number="373"></td>
        <td id="LC373" class="blob-code js-file-line">  {</td>
      </tr>
      <tr>
        <td id="L374" class="blob-num js-line-number" data-line-number="374"></td>
        <td id="LC374" class="blob-code js-file-line">   &quot;cell_type&quot;: &quot;code&quot;,</td>
      </tr>
      <tr>
        <td id="L375" class="blob-num js-line-number" data-line-number="375"></td>
        <td id="LC375" class="blob-code js-file-line">   &quot;execution_count&quot;: 15,</td>
      </tr>
      <tr>
        <td id="L376" class="blob-num js-line-number" data-line-number="376"></td>
        <td id="LC376" class="blob-code js-file-line">   &quot;metadata&quot;: {</td>
      </tr>
      <tr>
        <td id="L377" class="blob-num js-line-number" data-line-number="377"></td>
        <td id="LC377" class="blob-code js-file-line">    &quot;collapsed&quot;: false</td>
      </tr>
      <tr>
        <td id="L378" class="blob-num js-line-number" data-line-number="378"></td>
        <td id="LC378" class="blob-code js-file-line">   },</td>
      </tr>
      <tr>
        <td id="L379" class="blob-num js-line-number" data-line-number="379"></td>
        <td id="LC379" class="blob-code js-file-line">   &quot;outputs&quot;: [],</td>
      </tr>
      <tr>
        <td id="L380" class="blob-num js-line-number" data-line-number="380"></td>
        <td id="LC380" class="blob-code js-file-line">   &quot;source&quot;: [</td>
      </tr>
      <tr>
        <td id="L381" class="blob-num js-line-number" data-line-number="381"></td>
        <td id="LC381" class="blob-code js-file-line">    &quot;def lognorm_discrete(x1,x2,m,v):\n&quot;,</td>
      </tr>
      <tr>
        <td id="L382" class="blob-num js-line-number" data-line-number="382"></td>
        <td id="LC382" class="blob-code js-file-line">    &quot;    out=quad(lognorm_pdf,x1,x2,(m,v))\n&quot;,</td>
      </tr>
      <tr>
        <td id="L383" class="blob-num js-line-number" data-line-number="383"></td>
        <td id="LC383" class="blob-code js-file-line">    &quot;    return out&quot;</td>
      </tr>
      <tr>
        <td id="L384" class="blob-num js-line-number" data-line-number="384"></td>
        <td id="LC384" class="blob-code js-file-line">   ]</td>
      </tr>
      <tr>
        <td id="L385" class="blob-num js-line-number" data-line-number="385"></td>
        <td id="LC385" class="blob-code js-file-line">  },</td>
      </tr>
      <tr>
        <td id="L386" class="blob-num js-line-number" data-line-number="386"></td>
        <td id="LC386" class="blob-code js-file-line">  {</td>
      </tr>
      <tr>
        <td id="L387" class="blob-num js-line-number" data-line-number="387"></td>
        <td id="LC387" class="blob-code js-file-line">   &quot;cell_type&quot;: &quot;markdown&quot;,</td>
      </tr>
      <tr>
        <td id="L388" class="blob-num js-line-number" data-line-number="388"></td>
        <td id="LC388" class="blob-code js-file-line">   &quot;metadata&quot;: {},</td>
      </tr>
      <tr>
        <td id="L389" class="blob-num js-line-number" data-line-number="389"></td>
        <td id="LC389" class="blob-code js-file-line">   &quot;source&quot;: [</td>
      </tr>
      <tr>
        <td id="L390" class="blob-num js-line-number" data-line-number="390"></td>
        <td id="LC390" class="blob-code js-file-line">    &quot;Now, we make a little loop that approximates the log normal we programmed above&quot;</td>
      </tr>
      <tr>
        <td id="L391" class="blob-num js-line-number" data-line-number="391"></td>
        <td id="LC391" class="blob-code js-file-line">   ]</td>
      </tr>
      <tr>
        <td id="L392" class="blob-num js-line-number" data-line-number="392"></td>
        <td id="LC392" class="blob-code js-file-line">  },</td>
      </tr>
      <tr>
        <td id="L393" class="blob-num js-line-number" data-line-number="393"></td>
        <td id="LC393" class="blob-code js-file-line">  {</td>
      </tr>
      <tr>
        <td id="L394" class="blob-num js-line-number" data-line-number="394"></td>
        <td id="LC394" class="blob-code js-file-line">   &quot;cell_type&quot;: &quot;code&quot;,</td>
      </tr>
      <tr>
        <td id="L395" class="blob-num js-line-number" data-line-number="395"></td>
        <td id="LC395" class="blob-code js-file-line">   &quot;execution_count&quot;: 16,</td>
      </tr>
      <tr>
        <td id="L396" class="blob-num js-line-number" data-line-number="396"></td>
        <td id="LC396" class="blob-code js-file-line">   &quot;metadata&quot;: {</td>
      </tr>
      <tr>
        <td id="L397" class="blob-num js-line-number" data-line-number="397"></td>
        <td id="LC397" class="blob-code js-file-line">    &quot;collapsed&quot;: false</td>
      </tr>
      <tr>
        <td id="L398" class="blob-num js-line-number" data-line-number="398"></td>
        <td id="LC398" class="blob-code js-file-line">   },</td>
      </tr>
      <tr>
        <td id="L399" class="blob-num js-line-number" data-line-number="399"></td>
        <td id="LC399" class="blob-code js-file-line">   &quot;outputs&quot;: [],</td>
      </tr>
      <tr>
        <td id="L400" class="blob-num js-line-number" data-line-number="400"></td>
        <td id="LC400" class="blob-code js-file-line">   &quot;source&quot;: [</td>
      </tr>
      <tr>
        <td id="L401" class="blob-num js-line-number" data-line-number="401"></td>
        <td id="LC401" class="blob-code js-file-line">    &quot;s_n=6000\n&quot;,</td>
      </tr>
      <tr>
        <td id="L402" class="blob-num js-line-number" data-line-number="402"></td>
        <td id="LC402" class="blob-code js-file-line">    &quot;s_grid=np.logspace(-5.5,2.,s_n)\n&quot;,</td>
      </tr>
      <tr>
        <td id="L403" class="blob-num js-line-number" data-line-number="403"></td>
        <td id="LC403" class="blob-code js-file-line">    &quot;s_prob=np.zeros((s_n,1))\n&quot;,</td>
      </tr>
      <tr>
        <td id="L404" class="blob-num js-line-number" data-line-number="404"></td>
        <td id="LC404" class="blob-code js-file-line">    &quot;VAR_s=SIGMA**2&quot;</td>
      </tr>
      <tr>
        <td id="L405" class="blob-num js-line-number" data-line-number="405"></td>
        <td id="LC405" class="blob-code js-file-line">   ]</td>
      </tr>
      <tr>
        <td id="L406" class="blob-num js-line-number" data-line-number="406"></td>
        <td id="LC406" class="blob-code js-file-line">  },</td>
      </tr>
      <tr>
        <td id="L407" class="blob-num js-line-number" data-line-number="407"></td>
        <td id="LC407" class="blob-code js-file-line">  {</td>
      </tr>
      <tr>
        <td id="L408" class="blob-num js-line-number" data-line-number="408"></td>
        <td id="LC408" class="blob-code js-file-line">   &quot;cell_type&quot;: &quot;markdown&quot;,</td>
      </tr>
      <tr>
        <td id="L409" class="blob-num js-line-number" data-line-number="409"></td>
        <td id="LC409" class="blob-code js-file-line">   &quot;metadata&quot;: {},</td>
      </tr>
      <tr>
        <td id="L410" class="blob-num js-line-number" data-line-number="410"></td>
        <td id="LC410" class="blob-code js-file-line">   &quot;source&quot;: [</td>
      </tr>
      <tr>
        <td id="L411" class="blob-num js-line-number" data-line-number="411"></td>
        <td id="LC411" class="blob-code js-file-line">    &quot;We do have to endulge a few shenanigans here, mainly because s_grid above is not really a matrix as we would like it to be, but really just an array filled full of a list of numbers. Accordingly, let&#39;s convert it into the same form as the variables we are deriving from it:&quot;</td>
      </tr>
      <tr>
        <td id="L412" class="blob-num js-line-number" data-line-number="412"></td>
        <td id="LC412" class="blob-code js-file-line">   ]</td>
      </tr>
      <tr>
        <td id="L413" class="blob-num js-line-number" data-line-number="413"></td>
        <td id="LC413" class="blob-code js-file-line">  },</td>
      </tr>
      <tr>
        <td id="L414" class="blob-num js-line-number" data-line-number="414"></td>
        <td id="LC414" class="blob-code js-file-line">  {</td>
      </tr>
      <tr>
        <td id="L415" class="blob-num js-line-number" data-line-number="415"></td>
        <td id="LC415" class="blob-code js-file-line">   &quot;cell_type&quot;: &quot;code&quot;,</td>
      </tr>
      <tr>
        <td id="L416" class="blob-num js-line-number" data-line-number="416"></td>
        <td id="LC416" class="blob-code js-file-line">   &quot;execution_count&quot;: 17,</td>
      </tr>
      <tr>
        <td id="L417" class="blob-num js-line-number" data-line-number="417"></td>
        <td id="LC417" class="blob-code js-file-line">   &quot;metadata&quot;: {</td>
      </tr>
      <tr>
        <td id="L418" class="blob-num js-line-number" data-line-number="418"></td>
        <td id="LC418" class="blob-code js-file-line">    &quot;collapsed&quot;: false</td>
      </tr>
      <tr>
        <td id="L419" class="blob-num js-line-number" data-line-number="419"></td>
        <td id="LC419" class="blob-code js-file-line">   },</td>
      </tr>
      <tr>
        <td id="L420" class="blob-num js-line-number" data-line-number="420"></td>
        <td id="LC420" class="blob-code js-file-line">   &quot;outputs&quot;: [</td>
      </tr>
      <tr>
        <td id="L421" class="blob-num js-line-number" data-line-number="421"></td>
        <td id="LC421" class="blob-code js-file-line">    {</td>
      </tr>
      <tr>
        <td id="L422" class="blob-num js-line-number" data-line-number="422"></td>
        <td id="LC422" class="blob-code js-file-line">     &quot;data&quot;: {</td>
      </tr>
      <tr>
        <td id="L423" class="blob-num js-line-number" data-line-number="423"></td>
        <td id="LC423" class="blob-code js-file-line">      &quot;text/plain&quot;: [</td>
      </tr>
      <tr>
        <td id="L424" class="blob-num js-line-number" data-line-number="424"></td>
        <td id="LC424" class="blob-code js-file-line">       &quot;(6000L, 1L)&quot;</td>
      </tr>
      <tr>
        <td id="L425" class="blob-num js-line-number" data-line-number="425"></td>
        <td id="LC425" class="blob-code js-file-line">      ]</td>
      </tr>
      <tr>
        <td id="L426" class="blob-num js-line-number" data-line-number="426"></td>
        <td id="LC426" class="blob-code js-file-line">     },</td>
      </tr>
      <tr>
        <td id="L427" class="blob-num js-line-number" data-line-number="427"></td>
        <td id="LC427" class="blob-code js-file-line">     &quot;execution_count&quot;: 17,</td>
      </tr>
      <tr>
        <td id="L428" class="blob-num js-line-number" data-line-number="428"></td>
        <td id="LC428" class="blob-code js-file-line">     &quot;metadata&quot;: {},</td>
      </tr>
      <tr>
        <td id="L429" class="blob-num js-line-number" data-line-number="429"></td>
        <td id="LC429" class="blob-code js-file-line">     &quot;output_type&quot;: &quot;execute_result&quot;</td>
      </tr>
      <tr>
        <td id="L430" class="blob-num js-line-number" data-line-number="430"></td>
        <td id="LC430" class="blob-code js-file-line">    }</td>
      </tr>
      <tr>
        <td id="L431" class="blob-num js-line-number" data-line-number="431"></td>
        <td id="LC431" class="blob-code js-file-line">   ],</td>
      </tr>
      <tr>
        <td id="L432" class="blob-num js-line-number" data-line-number="432"></td>
        <td id="LC432" class="blob-code js-file-line">   &quot;source&quot;: [</td>
      </tr>
      <tr>
        <td id="L433" class="blob-num js-line-number" data-line-number="433"></td>
        <td id="LC433" class="blob-code js-file-line">    &quot;s_grid=np.asmatrix(s_grid)\n&quot;,</td>
      </tr>
      <tr>
        <td id="L434" class="blob-num js-line-number" data-line-number="434"></td>
        <td id="LC434" class="blob-code js-file-line">    &quot;s_grid=s_grid.T\n&quot;,</td>
      </tr>
      <tr>
        <td id="L435" class="blob-num js-line-number" data-line-number="435"></td>
        <td id="LC435" class="blob-code js-file-line">    &quot;np.shape(s_grid)&quot;</td>
      </tr>
      <tr>
        <td id="L436" class="blob-num js-line-number" data-line-number="436"></td>
        <td id="LC436" class="blob-code js-file-line">   ]</td>
      </tr>
      <tr>
        <td id="L437" class="blob-num js-line-number" data-line-number="437"></td>
        <td id="LC437" class="blob-code js-file-line">  },</td>
      </tr>
      <tr>
        <td id="L438" class="blob-num js-line-number" data-line-number="438"></td>
        <td id="LC438" class="blob-code js-file-line">  {</td>
      </tr>
      <tr>
        <td id="L439" class="blob-num js-line-number" data-line-number="439"></td>
        <td id="LC439" class="blob-code js-file-line">   &quot;cell_type&quot;: &quot;code&quot;,</td>
      </tr>
      <tr>
        <td id="L440" class="blob-num js-line-number" data-line-number="440"></td>
        <td id="LC440" class="blob-code js-file-line">   &quot;execution_count&quot;: 18,</td>
      </tr>
      <tr>
        <td id="L441" class="blob-num js-line-number" data-line-number="441"></td>
        <td id="LC441" class="blob-code js-file-line">   &quot;metadata&quot;: {</td>
      </tr>
      <tr>
        <td id="L442" class="blob-num js-line-number" data-line-number="442"></td>
        <td id="LC442" class="blob-code js-file-line">    &quot;collapsed&quot;: false</td>
      </tr>
      <tr>
        <td id="L443" class="blob-num js-line-number" data-line-number="443"></td>
        <td id="LC443" class="blob-code js-file-line">   },</td>
      </tr>
      <tr>
        <td id="L444" class="blob-num js-line-number" data-line-number="444"></td>
        <td id="LC444" class="blob-code js-file-line">   &quot;outputs&quot;: [</td>
      </tr>
      <tr>
        <td id="L445" class="blob-num js-line-number" data-line-number="445"></td>
        <td id="LC445" class="blob-code js-file-line">    {</td>
      </tr>
      <tr>
        <td id="L446" class="blob-num js-line-number" data-line-number="446"></td>
        <td id="LC446" class="blob-code js-file-line">     &quot;data&quot;: {</td>
      </tr>
      <tr>
        <td id="L447" class="blob-num js-line-number" data-line-number="447"></td>
        <td id="LC447" class="blob-code js-file-line">      &quot;text/plain&quot;: [</td>
      </tr>
      <tr>
        <td id="L448" class="blob-num js-line-number" data-line-number="448"></td>
        <td id="LC448" class="blob-code js-file-line">       &quot;matrix([[  3.16227766e-06]])&quot;</td>
      </tr>
      <tr>
        <td id="L449" class="blob-num js-line-number" data-line-number="449"></td>
        <td id="LC449" class="blob-code js-file-line">      ]</td>
      </tr>
      <tr>
        <td id="L450" class="blob-num js-line-number" data-line-number="450"></td>
        <td id="LC450" class="blob-code js-file-line">     },</td>
      </tr>
      <tr>
        <td id="L451" class="blob-num js-line-number" data-line-number="451"></td>
        <td id="LC451" class="blob-code js-file-line">     &quot;execution_count&quot;: 18,</td>
      </tr>
      <tr>
        <td id="L452" class="blob-num js-line-number" data-line-number="452"></td>
        <td id="LC452" class="blob-code js-file-line">     &quot;metadata&quot;: {},</td>
      </tr>
      <tr>
        <td id="L453" class="blob-num js-line-number" data-line-number="453"></td>
        <td id="LC453" class="blob-code js-file-line">     &quot;output_type&quot;: &quot;execute_result&quot;</td>
      </tr>
      <tr>
        <td id="L454" class="blob-num js-line-number" data-line-number="454"></td>
        <td id="LC454" class="blob-code js-file-line">    }</td>
      </tr>
      <tr>
        <td id="L455" class="blob-num js-line-number" data-line-number="455"></td>
        <td id="LC455" class="blob-code js-file-line">   ],</td>
      </tr>
      <tr>
        <td id="L456" class="blob-num js-line-number" data-line-number="456"></td>
        <td id="LC456" class="blob-code js-file-line">   &quot;source&quot;: [</td>
      </tr>
      <tr>
        <td id="L457" class="blob-num js-line-number" data-line-number="457"></td>
        <td id="LC457" class="blob-code js-file-line">    &quot;s_grid[0]&quot;</td>
      </tr>
      <tr>
        <td id="L458" class="blob-num js-line-number" data-line-number="458"></td>
        <td id="LC458" class="blob-code js-file-line">   ]</td>
      </tr>
      <tr>
        <td id="L459" class="blob-num js-line-number" data-line-number="459"></td>
        <td id="LC459" class="blob-code js-file-line">  },</td>
      </tr>
      <tr>
        <td id="L460" class="blob-num js-line-number" data-line-number="460"></td>
        <td id="LC460" class="blob-code js-file-line">  {</td>
      </tr>
      <tr>
        <td id="L461" class="blob-num js-line-number" data-line-number="461"></td>
        <td id="LC461" class="blob-code js-file-line">   &quot;cell_type&quot;: &quot;markdown&quot;,</td>
      </tr>
      <tr>
        <td id="L462" class="blob-num js-line-number" data-line-number="462"></td>
        <td id="LC462" class="blob-code js-file-line">   &quot;metadata&quot;: {},</td>
      </tr>
      <tr>
        <td id="L463" class="blob-num js-line-number" data-line-number="463"></td>
        <td id="LC463" class="blob-code js-file-line">   &quot;source&quot;: [</td>
      </tr>
      <tr>
        <td id="L464" class="blob-num js-line-number" data-line-number="464"></td>
        <td id="LC464" class="blob-code js-file-line">    &quot;Now, we loop over the above and \&quot;fill in\&quot; the probability grid so that we have a whole probability distribution:\n&quot;</td>
      </tr>
      <tr>
        <td id="L465" class="blob-num js-line-number" data-line-number="465"></td>
        <td id="LC465" class="blob-code js-file-line">   ]</td>
      </tr>
      <tr>
        <td id="L466" class="blob-num js-line-number" data-line-number="466"></td>
        <td id="LC466" class="blob-code js-file-line">  },</td>
      </tr>
      <tr>
        <td id="L467" class="blob-num js-line-number" data-line-number="467"></td>
        <td id="LC467" class="blob-code js-file-line">  {</td>
      </tr>
      <tr>
        <td id="L468" class="blob-num js-line-number" data-line-number="468"></td>
        <td id="LC468" class="blob-code js-file-line">   &quot;cell_type&quot;: &quot;code&quot;,</td>
      </tr>
      <tr>
        <td id="L469" class="blob-num js-line-number" data-line-number="469"></td>
        <td id="LC469" class="blob-code js-file-line">   &quot;execution_count&quot;: 19,</td>
      </tr>
      <tr>
        <td id="L470" class="blob-num js-line-number" data-line-number="470"></td>
        <td id="LC470" class="blob-code js-file-line">   &quot;metadata&quot;: {</td>
      </tr>
      <tr>
        <td id="L471" class="blob-num js-line-number" data-line-number="471"></td>
        <td id="LC471" class="blob-code js-file-line">    &quot;collapsed&quot;: false</td>
      </tr>
      <tr>
        <td id="L472" class="blob-num js-line-number" data-line-number="472"></td>
        <td id="LC472" class="blob-code js-file-line">   },</td>
      </tr>
      <tr>
        <td id="L473" class="blob-num js-line-number" data-line-number="473"></td>
        <td id="LC473" class="blob-code js-file-line">   &quot;outputs&quot;: [],</td>
      </tr>
      <tr>
        <td id="L474" class="blob-num js-line-number" data-line-number="474"></td>
        <td id="LC474" class="blob-code js-file-line">   &quot;source&quot;: [</td>
      </tr>
      <tr>
        <td id="L475" class="blob-num js-line-number" data-line-number="475"></td>
        <td id="LC475" class="blob-code js-file-line">    &quot;for i in range(0,s_n-1):\n&quot;,</td>
      </tr>
      <tr>
        <td id="L476" class="blob-num js-line-number" data-line-number="476"></td>
        <td id="LC476" class="blob-code js-file-line">    &quot;    if i==0:\n&quot;,</td>
      </tr>
      <tr>
        <td id="L477" class="blob-num js-line-number" data-line-number="477"></td>
        <td id="LC477" class="blob-code js-file-line">    &quot;        d=(s_grid[1]-s_grid[0])/2\n&quot;,</td>
      </tr>
      <tr>
        <td id="L478" class="blob-num js-line-number" data-line-number="478"></td>
        <td id="LC478" class="blob-code js-file-line">    &quot;        s_prob[i]=lognorm_discrete(s_grid[i]-d,s_grid[i]+d,MU,VAR_s)[0]\n&quot;,</td>
      </tr>
      <tr>
        <td id="L479" class="blob-num js-line-number" data-line-number="479"></td>
        <td id="LC479" class="blob-code js-file-line">    &quot;    else:\n&quot;,</td>
      </tr>
      <tr>
        <td id="L480" class="blob-num js-line-number" data-line-number="480"></td>
        <td id="LC480" class="blob-code js-file-line">    &quot;        d=(s_grid[i]-s_grid[i-1])/2\n&quot;,</td>
      </tr>
      <tr>
        <td id="L481" class="blob-num js-line-number" data-line-number="481"></td>
        <td id="LC481" class="blob-code js-file-line">    &quot;        s_prob[i]=lognorm_discrete(s_grid[i]-d,s_grid[i]+d,MU,VAR_s)[0]&quot;</td>
      </tr>
      <tr>
        <td id="L482" class="blob-num js-line-number" data-line-number="482"></td>
        <td id="LC482" class="blob-code js-file-line">   ]</td>
      </tr>
      <tr>
        <td id="L483" class="blob-num js-line-number" data-line-number="483"></td>
        <td id="LC483" class="blob-code js-file-line">  },</td>
      </tr>
      <tr>
        <td id="L484" class="blob-num js-line-number" data-line-number="484"></td>
        <td id="LC484" class="blob-code js-file-line">  {</td>
      </tr>
      <tr>
        <td id="L485" class="blob-num js-line-number" data-line-number="485"></td>
        <td id="LC485" class="blob-code js-file-line">   &quot;cell_type&quot;: &quot;markdown&quot;,</td>
      </tr>
      <tr>
        <td id="L486" class="blob-num js-line-number" data-line-number="486"></td>
        <td id="LC486" class="blob-code js-file-line">   &quot;metadata&quot;: {},</td>
      </tr>
      <tr>
        <td id="L487" class="blob-num js-line-number" data-line-number="487"></td>
        <td id="LC487" class="blob-code js-file-line">   &quot;source&quot;: [</td>
      </tr>
      <tr>
        <td id="L488" class="blob-num js-line-number" data-line-number="488"></td>
        <td id="LC488" class="blob-code js-file-line">    &quot;Let&#39;s see what this looks like once we have approximated it. First, we import the plot library, and then just plot the numbers:&quot;</td>
      </tr>
      <tr>
        <td id="L489" class="blob-num js-line-number" data-line-number="489"></td>
        <td id="LC489" class="blob-code js-file-line">   ]</td>
      </tr>
      <tr>
        <td id="L490" class="blob-num js-line-number" data-line-number="490"></td>
        <td id="LC490" class="blob-code js-file-line">  },</td>
      </tr>
      <tr>
        <td id="L491" class="blob-num js-line-number" data-line-number="491"></td>
        <td id="LC491" class="blob-code js-file-line">  {</td>
      </tr>
      <tr>
        <td id="L492" class="blob-num js-line-number" data-line-number="492"></td>
        <td id="LC492" class="blob-code js-file-line">   &quot;cell_type&quot;: &quot;code&quot;,</td>
      </tr>
      <tr>
        <td id="L493" class="blob-num js-line-number" data-line-number="493"></td>
        <td id="LC493" class="blob-code js-file-line">   &quot;execution_count&quot;: 20,</td>
      </tr>
      <tr>
        <td id="L494" class="blob-num js-line-number" data-line-number="494"></td>
        <td id="LC494" class="blob-code js-file-line">   &quot;metadata&quot;: {</td>
      </tr>
      <tr>
        <td id="L495" class="blob-num js-line-number" data-line-number="495"></td>
        <td id="LC495" class="blob-code js-file-line">    &quot;collapsed&quot;: false</td>
      </tr>
      <tr>
        <td id="L496" class="blob-num js-line-number" data-line-number="496"></td>
        <td id="LC496" class="blob-code js-file-line">   },</td>
      </tr>
      <tr>
        <td id="L497" class="blob-num js-line-number" data-line-number="497"></td>
        <td id="LC497" class="blob-code js-file-line">   &quot;outputs&quot;: [</td>
      </tr>
      <tr>
        <td id="L498" class="blob-num js-line-number" data-line-number="498"></td>
        <td id="LC498" class="blob-code js-file-line">    {</td>
      </tr>
      <tr>
        <td id="L499" class="blob-num js-line-number" data-line-number="499"></td>
        <td id="LC499" class="blob-code js-file-line">     &quot;data&quot;: {</td>
      </tr>
      <tr>
        <td id="L500" class="blob-num js-line-number" data-line-number="500"></td>
        <td id="LC500" class="blob-code js-file-line">      &quot;image/png&quot;: [</td>
      </tr>
      <tr>
        <td id="L501" class="blob-num js-line-number" data-line-number="501"></td>
        <td id="LC501" class="blob-code js-file-line">       &quot;iVBORw0KGgoAAAANSUhEUgAAAZUAAAEACAYAAAB78OvLAAAABHNCSVQICAgIfAhkiAAAAAlwSFlz\n&quot;,</td>
      </tr>
      <tr>
        <td id="L502" class="blob-num js-line-number" data-line-number="502"></td>
        <td id="LC502" class="blob-code js-file-line">       &quot;AAALEgAACxIB0t1+/AAAIABJREFUeJzt3XecVOXZ//HP5YoV44oFpNgeMQF9DEURC3GNDbGgiYiI\n&quot;,</td>
      </tr>
      <tr>
        <td id="L503" class="blob-num js-line-number" data-line-number="503"></td>
        <td id="LC503" class="blob-code js-file-line">       &quot;jRA0QdBEjaAShOfR2BJFLIiCAioixvIDQargE4kCKlVEJLpGFlkVBIMFKdfvj/tAhs3uzgKze2bO\n&quot;,</td>
      </tr>
      <tr>
        <td id="L504" class="blob-num js-line-number" data-line-number="504"></td>
        <td id="LC504" class="blob-code js-file-line">       &quot;fN+v17xm5sw5Z65bgWvubu6OiIhIJuwUdwAiIpIcSioiIpIxSioiIpIxSioiIpIxSioiIpIxSioi\n&quot;,</td>
      </tr>
      <tr>
        <td id="L505" class="blob-num js-line-number" data-line-number="505"></td>
        <td id="LC505" class="blob-code js-file-line">       &quot;IpIxaZOKmbU1s8Vm9qGZ9argnIHR5/PMrHm6a82sjplNNrMlZjbJzAqj46eb2dtmNj96PiXlmunR\n&quot;,</td>
      </tr>
      <tr>
        <td id="L506" class="blob-num js-line-number" data-line-number="506"></td>
        <td id="LC506" class="blob-code js-file-line">       &quot;veZEj/12rOgiIpJplSYVMysAHgLaAk2BTmbWpMw57YDD3b0xcBUwqArX9gYmu/sRwNToPcAXwDnu\n&quot;,</td>
      </tr>
      <tr>
        <td id="L507" class="blob-num js-line-number" data-line-number="507"></td>
        <td id="LC507" class="blob-code js-file-line">       &quot;fjRwBfBUylc5cIm7N48eX25nmUVEpJqkq6m0Apa6e7G7rwdGAe3LnHMeMBzA3WcChWZWL821W66J\n&quot;,</td>
      </tr>
      <tr>
        <td id="L508" class="blob-num js-line-number" data-line-number="508"></td>
        <td id="LC508" class="blob-code js-file-line">       &quot;ns+Prp/r7iui44uA3c2sVsp32bYWUEREak66pNIA+DTl/bLoWFXOqV/JtXXdvTR6XQrULee7fwm8\n&quot;,</td>
      </tr>
      <tr>
        <td id="L509" class="blob-num js-line-number" data-line-number="509"></td>
        <td id="LC509" class="blob-code js-file-line">       &quot;EyWkzYZHTV990sQtIiIxSJdUqrqGS1VqEFbe/TysE7PVcTM7ErgLuDrlcGd3PwpoA7Qxs8uqGJuI\n&quot;,</td>
      </tr>
      <tr>
        <td id="L510" class="blob-num js-line-number" data-line-number="510"></td>
        <td id="LC510" class="blob-code js-file-line">       &quot;iNSQndN8XgI0SnnfiFDjqOychtE5tco5XhK9LjWzeu6+wswOBD7ffJKZNQReBC5z9483H3f35dHz\n&quot;,</td>
      </tr>
      <tr>
        <td id="L511" class="blob-num js-line-number" data-line-number="511"></td>
        <td id="LC511" class="blob-code js-file-line">       &quot;WjMbSWheS+1zwcy0kJmIyHZw94x0L6SrqbwNNDazQ8xsF6AjMKbMOWOAywHMrDWwOmraquzaMYSO\n&quot;,</td>
      </tr>
      <tr>
        <td id="L512" class="blob-num js-line-number" data-line-number="512"></td>
        <td id="LC512" class="blob-code js-file-line">       &quot;eKLnl6PrC4FxQC93f3PzF5hZwebRXlEfy7nAgvICdvfEPm677bbYY1D5VL58LF+Sy+ae2d/ildZU\n&quot;,</td>
      </tr>
      <tr>
        <td id="L513" class="blob-num js-line-number" data-line-number="513"></td>
        <td id="LC513" class="blob-code js-file-line">       &quot;3H2DmfUAJgIFwFB3f9/Mro4+H+zu482snZktBb4BulR2bXTru4DRZtYVKAYuio73AP4LuM3MbouO\n&quot;,</td>
      </tr>
      <tr>
        <td id="L514" class="blob-num js-line-number" data-line-number="514"></td>
        <td id="LC514" class="blob-code js-file-line">       &quot;nQ58B0yIEkoBMBl4fMeLL5K/3GHlSiguhlWrYPVqWLsWCgrCY/fdoW5dqFcPGjQI70XSSdf8hbu/\n&quot;,</td>
      </tr>
      <tr>
        <td id="L515" class="blob-num js-line-number" data-line-number="515"></td>
        <td id="LC515" class="blob-code js-file-line">       &quot;Crxa5tjgMu97VPXa6Pgq4LRyjt8O3F5BKMeki1VEKvbRR/D3v8Nbb8GsWbBkSTh+2GGw775QWAi1\n&quot;,</td>
      </tr>
      <tr>
        <td id="L516" class="blob-num js-line-number" data-line-number="516"></td>
        <td id="LC516" class="blob-code js-file-line">       &quot;a8OmTbBhA3z7LZSWwooV8Nln0LAhHHUUtGgBRUXQqhXsumusRZIslDapSPYoKiqKO4RqpfJl1qZN\n&quot;,</td>
      </tr>
      <tr>
        <td id="L517" class="blob-num js-line-number" data-line-number="517"></td>
        <td id="LC517" class="blob-code js-file-line">       &quot;8MYbMGYMvPIKrFkDbdpA69Zw8cXQpAnUqQNWhZb09eth6VJYsABmz4brr4f334ef/Qx++Uto3z7Z\n&quot;,</td>
      </tr>
      <tr>
        <td id="L518" class="blob-num js-line-number" data-line-number="518"></td>
        <td id="LC518" class="blob-code js-file-line">       &quot;//+SXLZMs0y3p8XJzDxJ5RHZHsXFMGwYDB8eah6//CWcey40bw47ZXBhpjVrYMIE+OtfYdKkkLCu\n&quot;,</td>
      </tr>
      <tr>
        <td id="L519" class="blob-num js-line-number" data-line-number="519"></td>
        <td id="LC519" class="blob-code js-file-line">       &quot;vhrOOgt21s/VnGJmeIY66pVURBLizTfhz3+G//s/6NQJrrwyJJKq1ER21LffwujRMHgwLFsG11wD\n&quot;,</td>
      </tr>
      <tr>
        <td id="L520" class="blob-num js-line-number" data-line-number="520"></td>
        <td id="LC520" class="blob-code js-file-line">       &quot;3bvDj35U/d8tO05JpQJKKpKPpk2Dvn2hpCQ0S3XpAnvuGV88c+fCvffCxIkhsfzud6GZTbJXJpOK\n&quot;,</td>
      </tr>
      <tr>
        <td id="L521" class="blob-num js-line-number" data-line-number="521"></td>
        <td id="LC521" class="blob-code js-file-line">       &quot;VikWyVFz50LbtvDrX8Nvfxs63nv0iDehADRrBs88EwYELF8OP/4x3HcfrFsXb1xSM5RURHLMypXQ\n&quot;,</td>
      </tr>
      <tr>
        <td id="L522" class="blob-num js-line-number" data-line-number="522"></td>
        <td id="LC522" class="blob-code js-file-line">       &quot;rVtIKOecEzrML7kk+/oxDj8chgyB11+H116Dpk3hpZfijkqqm5KKSI5wD53vRx4Z5ox88EGomeyy\n&quot;,</td>
      </tr>
      <tr>
        <td id="L523" class="blob-num js-line-number" data-line-number="523"></td>
        <td id="LC523" class="blob-code js-file-line">       &quot;S9yRVa5p0zD67LHH4JZb4IILQlOdJJOSikgO+PRTOO00ePDB8A/0wIGw995xR7VtTj01NNkdfXRo\n&quot;,</td>
      </tr>
      <tr>
        <td id="L524" class="blob-num js-line-number" data-line-number="524"></td>
        <td id="LC524" class="blob-code js-file-line">       &quot;Ihs0KCRKSRYlFZEs5g4jR0LLliGpzJwJx+TwNOBdd4X+/UOT2LBhcPbZYYKlJIeSikiWWrMmDA2+\n&quot;,</td>
      </tr>
      <tr>
        <td id="L525" class="blob-num js-line-number" data-line-number="525"></td>
        <td id="LC525" class="blob-code js-file-line">       &quot;/fYwkurmm8PyKUnQtGmYmNmiRRj2PH583BFJpiipiGShBQvg2GPDUNx33gn/8CZNrVohYY4aFUav\n&quot;,</td>
      </tr>
      <tr>
        <td id="L526" class="blob-num js-line-number" data-line-number="526"></td>
        <td id="LC526" class="blob-code js-file-line">       &quot;3XRTWB5GcpvmqYhkmWeeCXM77rsPLsuTXYNWrgy1sk2bQpLZb7+4I8ovmqcikkAbN4ZkctttMHVq\n&quot;,</td>
      </tr>
      <tr>
        <td id="L527" class="blob-num js-line-number" data-line-number="527"></td>
        <td id="LC527" class="blob-code js-file-line">       &quot;/iQUCAtavvpq6C869liYMyfuiGR7qaYikgXWrg2LPK5bB88/H1YMzlfPPx9m4g8ZEhaqlOqnmopI\n&quot;,</td>
      </tr>
      <tr>
        <td id="L528" class="blob-num js-line-number" data-line-number="528"></td>
        <td id="LC528" class="blob-code js-file-line">       &quot;gpSUhNV+69ULHdb5nFAAOnQItZbf/hYeeijuaGRbKamIxGj+fDj+eOjYER5/PHReS2gGmzEDHn4Y\n&quot;,</td>
      </tr>
      <tr>
        <td id="L529" class="blob-num js-line-number" data-line-number="529"></td>
        <td id="LC529" class="blob-code js-file-line">       &quot;brwx9LVIblDzl0hM3nwTzj8/TGTs2DHuaLLTqlVhBv6BB8JTTynpVhc1f4nkuClT4LzzwrIrSigV\n&quot;,</td>
      </tr>
      <tr>
        <td id="L530" class="blob-num js-line-number" data-line-number="530"></td>
        <td id="LC530" class="blob-code js-file-line">       &quot;q1MnzNH59tuwL8z338cdkaSjpCJSw156KSwA+eKLYVFIqdxuu8ELL8Aee4QFNNeujTsiqYySikgN\n&quot;,</td>
      </tr>
      <tr>
        <td id="L531" class="blob-num js-line-number" data-line-number="531"></td>
        <td id="LC531" class="blob-code js-file-line">       &quot;GjkyjGyaMCHslChVU6tWmL9z8MFw5pmwenXcEUlFlFREashzz8ENN4SmrxYt4o4m9xQUhMEMLVqE\n&quot;,</td>
      </tr>
      <tr>
        <td id="L532" class="blob-num js-line-number" data-line-number="532"></td>
        <td id="LC532" class="blob-code js-file-line">       &quot;xPL113FHJOVRR71IDXjhhbDF7qRJYZVe2X7u4b/l/Pmhxle7dtwR5T5tJ1wBJRXJRv/v/8FVV4UO\n&quot;,</td>
      </tr>
      <tr>
        <td id="L533" class="blob-num js-line-number" data-line-number="533"></td>
        <td id="LC533" class="blob-code js-file-line">       &quot;52bN4o4mGTZtCv9N//EPGDcu9LfI9lNSqYCSimSb8ePhyivDZL6WLeOOJlk2boQuXWDFChgzJnTo\n&quot;,</td>
      </tr>
      <tr>
        <td id="L534" class="blob-num js-line-number" data-line-number="534"></td>
        <td id="LC534" class="blob-code js-file-line">       &quot;y/ZRUqmAkopkkxkzwjyUsWOhdeu4o0mmDRvg0kvhu+9CE2O2bamcKzRPRSTLLVwIv/hFGLGkhFJ9\n&quot;,</td>
      </tr>
      <tr>
        <td id="L535" class="blob-num js-line-number" data-line-number="535"></td>
        <td id="LC535" class="blob-code js-file-line">       &quot;dt4ZRowI81d++1vtJJkNlFREMuyTT+Css+D+++GMM+KOJvl22SXUUubNg759445GVFkUyaAvvgiJ\n&quot;,</td>
      </tr>
      <tr>
        <td id="L536" class="blob-num js-line-number" data-line-number="536"></td>
        <td id="LC536" class="blob-code js-file-line">       &quot;5A9/CBMcpWbUrh067E88EerWhR494o4ofympiGTIN9+EPdcvvBCuvTbuaPLP/vuHIdsnnQQHHAAX\n&quot;,</td>
      </tr>
      <tr>
        <td id="L537" class="blob-num js-line-number" data-line-number="537"></td>
        <td id="LC537" class="blob-code js-file-line">       &quot;XRR3RPlJHfUiGbBxY0gme+8NTz4JlpEuT9ke8+fDaaeF5XBOPDHuaHKDOupFskzv3vDVV/DYY0oo\n&quot;,</td>
      </tr>
      <tr>
        <td id="L538" class="blob-num js-line-number" data-line-number="538"></td>
        <td id="LC538" class="blob-code js-file-line">       &quot;cTv66NB5f+GF8NFHcUeTf5RURHbQY4+FCY4vvhg6jSV+bdvCH/8YmiO1TljNUvOXyA6YMiXMk/jb\n&quot;,</td>
      </tr>
      <tr>
        <td id="L539" class="blob-num js-line-number" data-line-number="539"></td>
        <td id="LC539" class="blob-code js-file-line">       &quot;36Bx47ijkbJ+97swvPvVV7UXS2U0+bECSipSkxYtgqIi+Otfw3bAkn02bgz73NevD4MHq2myIupT\n&quot;,</td>
      </tr>
      <tr>
        <td id="L540" class="blob-num js-line-number" data-line-number="540"></td>
        <td id="LC540" class="blob-code js-file-line">       &quot;EYnZypVw7rnw5z8roWSzggJ49lmYNQsGDIg7mvygmorINtqwIUxubNYM7r037mikKj75JKxs8PTT\n&quot;,</td>
      </tr>
      <tr>
        <td id="L541" class="blob-num js-line-number" data-line-number="541"></td>
        <td id="LC541" class="blob-code js-file-line">       &quot;cOqpcUeTfWq0pmJmbc1ssZl9aGa9KjhnYPT5PDNrnu5aM6tjZpPNbImZTTKzwuj46Wb2tpnNj55P\n&quot;,</td>
      </tr>
      <tr>
        <td id="L542" class="blob-num js-line-number" data-line-number="542"></td>
        <td id="LC542" class="blob-code js-file-line">       &quot;SbmmpZktiO71wI4VW2T73XxzeL7zznjjkKo7+OCwQVrnzvDxx3FHk2yVJhUzKwAeAtoCTYFOZtak\n&quot;,</td>
      </tr>
      <tr>
        <td id="L543" class="blob-num js-line-number" data-line-number="543"></td>
        <td id="LC543" class="blob-code js-file-line">       &quot;zDntgMPdvTFwFTCoCtf2Bia7+xHA1Og9wBfAOe5+NHAF8FTKVw0Cukbf09jMtBGr1LiRI8OSIKNG\n&quot;,</td>
      </tr>
      <tr>
        <td id="L544" class="blob-num js-line-number" data-line-number="544"></td>
        <td id="LC544" class="blob-code js-file-line">       &quot;afHCXHPKKeEHwQUXhD3vpXqkq6m0Apa6e7G7rwdGAe3LnHMeMBzA3WcChWZWL821W66Jns+Prp/r\n&quot;,</td>
      </tr>
      <tr>
        <td id="L545" class="blob-num js-line-number" data-line-number="545"></td>
        <td id="LC545" class="blob-code js-file-line">       &quot;7iui44uA3c2slpkdCOzl7rOiz0ZsvkakpsyZA9ddBy+/DPvuG3c0sj2uvRZ++lPo2lWLT1aXdEml\n&quot;,</td>
      </tr>
      <tr>
        <td id="L546" class="blob-num js-line-number" data-line-number="546"></td>
        <td id="LC546" class="blob-code js-file-line">       &quot;AfBpyvtl0bGqnFO/kmvruntp9LoUqFvOd/8SeCdKSA2i6zcrKScOkWrz5ZfhF+7DD2vnxlxmBo8+\n&quot;,</td>
      </tr>
      <tr>
        <td id="L547" class="blob-num js-line-number" data-line-number="547"></td>
        <td id="LC547" class="blob-code js-file-line">       &quot;Ch9+CH/5S9zRJFO6CnxVc3lVOnisvPu5u5vZVsfN7EjgLuD0Kn7/Fv369dvyuqioiKKiom29hchW\n&quot;,</td>
      </tr>
      <tr>
        <td id="L548" class="blob-num js-line-number" data-line-number="548"></td>
        <td id="LC548" class="blob-code js-file-line">       &quot;NmyAjh3h4ou1nlQS7L57mKh63HGh1nL6Nv8rk/umT5/O9OnTq+Xe6ZJKCdAo5X0jtq4xlHdOw+ic\n&quot;,</td>
      </tr>
      <tr>
        <td id="L549" class="blob-num js-line-number" data-line-number="549"></td>
        <td id="LC549" class="blob-code js-file-line">       &quot;WuUcL4lel5pZPXdfETVtfb75JDNrCLwIXObum7vUSqLry7vXVlKTikgm9O0LO+0Ed9wRdySSKQcd\n&quot;,</td>
      </tr>
      <tr>
        <td id="L550" class="blob-num js-line-number" data-line-number="550"></td>
        <td id="LC550" class="blob-code js-file-line">       &quot;FIYad+oEs2dDw4bpr0mSsj+4+/fvn7F7p2v+epvQKX6Ime0CdATGlDlnDHA5gJm1BlZHTVuVXTuG\n&quot;,</td>
      </tr>
      <tr>
        <td id="L551" class="blob-num js-line-number" data-line-number="551"></td>
        <td id="LC551" class="blob-code js-file-line">       &quot;0BFP9PxydH0hMA7o5e5vbv4Cd/8M+NrMjjMzAy7bfI1IdRo3Dp56Kmy2VVAQdzSSSUVF0LNnqIWu\n&quot;,</td>
      </tr>
      <tr>
        <td id="L552" class="blob-num js-line-number" data-line-number="552"></td>
        <td id="LC552" class="blob-code js-file-line">       &quot;Xx93NMmRdp6KmZ0FDAAKgKHufqeZXQ3g7oOjczaP8voG6OLu71Z0bXS8DjAaOAgoBi5y99Vm1ocw\n&quot;,</td>
      </tr>
      <tr>
        <td id="L553" class="blob-num js-line-number" data-line-number="553"></td>
        <td id="LC553" class="blob-code js-file-line">       &quot;EuzDlBBOd/cvzawlMAzYHRjv7v+xuLjmqUgmffIJtGoVRnuddFLc0Uh12LQpTGJt0iRMZM1XWqal\n&quot;,</td>
      </tr>
      <tr>
        <td id="L554" class="blob-num js-line-number" data-line-number="554"></td>
        <td id="LC554" class="blob-code js-file-line">       &quot;Akoqkik//ABt2kCHDnDjjXFHI9Vp5Upo2TLs1HnBBXFHEw8llQooqUimXHcdFBeH4cNaLyr5Zs2C\n&quot;,</td>
      </tr>
      <tr>
        <td id="L555" class="blob-num js-line-number" data-line-number="555"></td>
        <td id="LC555" class="blob-code js-file-line">       &quot;c86BN9+E//qvuKOpeVr7S6QaPf88jB0Lw4YpoeSLVq3CUvkdOsD338cdTW5TTUUkxZIlYbfAV1+F\n&quot;,</td>
      </tr>
      <tr>
        <td id="L556" class="blob-num js-line-number" data-line-number="556"></td>
        <td id="LC556" class="blob-code js-file-line">       &quot;Y46JOxqpSe6h036ffcKKxvlENRWRavD992EeSv/+Sij5yAyGDIFp0+C55+KOJneppiISufZaWL48\n&quot;,</td>
      </tr>
      <tr>
        <td id="L557" class="blob-num js-line-number" data-line-number="557"></td>
        <td id="LC557" class="blob-code js-file-line">       &quot;NH+p2St/vfNOWIV65kw49NC4o6kZqqmIZNjYsWFL4McfV0LJdy1bQu/ecMklmr+yPVRTkby3fDm0\n&quot;,</td>
      </tr>
      <tr>
        <td id="L558" class="blob-num js-line-number" data-line-number="558"></td>
        <td id="LC558" class="blob-code js-file-line">       &quot;aBF2cNR8FIEwf+Wcc8KeOX/6U9zRVD8NKa6Akopsq40b4Ywz4OSTw3IsIpt9/jk0bw4jRiR/Yy81\n&quot;,</td>
      </tr>
      <tr>
        <td id="L559" class="blob-num js-line-number" data-line-number="559"></td>
        <td id="LC559" class="blob-code js-file-line">       &quot;f4lkyL33hiaOW2+NOxLJNgccAMOHwxVXwBdfxB1N7lBNRfLWW29B+/ZhQcGDDoo7GslWvXvDggXw\n&quot;,</td>
      </tr>
      <tr>
        <td id="L560" class="blob-num js-line-number" data-line-number="560"></td>
        <td id="LC560" class="blob-code js-file-line">       &quot;yivJ7W9TTUVkB61ZEzpiBw1SQpHK/e//hv10Bg6MO5LcoJqK5B33sFf53nuHpCKSzkcfhf1XJk8O\n&quot;,</td>
      </tr>
      <tr>
        <td id="L561" class="blob-num js-line-number" data-line-number="561"></td>
        <td id="LC561" class="blob-code js-file-line">       &quot;nfdJk8mainbZlrwzYgTMnx+avUSq4rDDwoKTnTvD22+Hjb6kfKqpSF4pLoZjj4WpU7UtsGwb97Cp\n&quot;,</td>
      </tr>
      <tr>
        <td id="L562" class="blob-num js-line-number" data-line-number="562"></td>
        <td id="LC562" class="blob-code js-file-line">       &quot;V9268MADcUeTWRpSXAElFanMpk3w859Du3Zw001xRyO56KuvwhbEQ4aEoehJoY56ke0wcGDYb/6G\n&quot;,</td>
      </tr>
      <tr>
        <td id="L563" class="blob-num js-line-number" data-line-number="563"></td>
        <td id="LC563" class="blob-code js-file-line">       &quot;G+KORHLVPvuE1at/9auwD4v8J9VUJC8sWgQ/+1lYzykf98uQzLrhhrAzaFLWiVNNRWQbrF8Pl18O\n&quot;,</td>
      </tr>
      <tr>
        <td id="L564" class="blob-num js-line-number" data-line-number="564"></td>
        <td id="LC564" class="blob-code js-file-line">       &quot;d9yhhCKZcccdYZuEESPijiT7qKYiide/f5joOH58Mn5VSnZYsCD00c2cGUaH5TJ11FdASUXKevtt\n&quot;,</td>
      </tr>
      <tr>
        <td id="L565" class="blob-num js-line-number" data-line-number="565"></td>
        <td id="LC565" class="blob-code js-file-line">       &quot;OPtsePddaNAg7mgkae6/H154AV5/HQoK4o5m+6n5S6QKvvsuNHsNGKCEItXjuutgt93g7rvjjiR7\n&quot;,</td>
      </tr>
      <tr>
        <td id="L566" class="blob-num js-line-number" data-line-number="566"></td>
        <td id="LC566" class="blob-code js-file-line">       &quot;qKYiiXX99VBSAqNGqdlLqs+yZWEPlnHjcnfHUM2oF0lj+vSwJez8+UooUr0aNoQHH4RLLw3NrHvs\n&quot;,</td>
      </tr>
      <tr>
        <td id="L567" class="blob-num js-line-number" data-line-number="567"></td>
        <td id="LC567" class="blob-code js-file-line">       &quot;EXdE8VJNRRLn66/DbPlHHgkTHUVqwiWXhNn2998fdyTbTh31FVBSEYCuXUOn6WOPxR2J5JNVq8KP\n&quot;,</td>
      </tr>
      <tr>
        <td id="L568" class="blob-num js-line-number" data-line-number="568"></td>
        <td id="LC568" class="blob-code js-file-line">       &quot;maefhqKiuKPZNmr+EqnA2LEwbRrMmxd3JJJv6tQJP2S6dAl//n70o7gjiodqKpIYX3wR1mUaNSrM\n&quot;,</td>
      </tr>
      <tr>
        <td id="L569" class="blob-num js-line-number" data-line-number="569"></td>
        <td id="LC569" class="blob-code js-file-line">       &quot;nheJw1VXhXXmhgyJO5KqU/NXBZRU8pc7dOgAhx4atggWicu//hV+3Dz4YJgjlQs0T0WkjJEjYfHi\n&quot;,</td>
      </tr>
      <tr>
        <td id="L570" class="blob-num js-line-number" data-line-number="570"></td>
        <td id="LC570" class="blob-code js-file-line">       &quot;sEufSJz22guefDLUWPJx0UnVVCTnLVsGLVrAhAnhWSQbXH89LF8emmOznWoqIhH3sAx5z55KKJJd\n&quot;,</td>
      </tr>
      <tr>
        <td id="L571" class="blob-num js-line-number" data-line-number="571"></td>
        <td id="LC571" class="blob-code js-file-line">       &quot;7rgjzJN67rm4I6lZqqlITnvkERg+HGbMgJ01llGyzOzZcM45MHcuHHhg3NFUTB31FVBSyS8ffggn\n&quot;,</td>
      </tr>
      <tr>
        <td id="L572" class="blob-num js-line-number" data-line-number="572"></td>
        <td id="LC572" class="blob-code js-file-line">       &quot;nABvvAE//nHc0YiUr2/fMNN+7NjsXd1BzV+S9zZsgCuugD/+UQlFslufPqFv5Ykn4o6kZqimIjnp\n&quot;,</td>
      </tr>
      <tr>
        <td id="L573" class="blob-num js-line-number" data-line-number="573"></td>
        <td id="LC573" class="blob-code js-file-line">       &quot;zjthyhSYPBl20k8jyXILF8Ipp4TmsEMOiTua/1SjNRUza2tmi83sQzPrVcE5A6PP55lZ83TXmlkd\n&quot;,</td>
      </tr>
      <tr>
        <td id="L574" class="blob-num js-line-number" data-line-number="574"></td>
        <td id="LC574" class="blob-code js-file-line">       &quot;M5tsZkvMbJKZFaYcn2Zm/zKzB8t8x/ToXnOix37bX2zJZfPmwX33hWGbSiiSC446Cm66Ca68MkyM\n&quot;,</td>
      </tr>
      <tr>
        <td id="L575" class="blob-num js-line-number" data-line-number="575"></td>
        <td id="LC575" class="blob-code js-file-line">       &quot;TLJK/0qaWQHwENAWaAp0MrMmZc5pBxzu7o2Bq4BBVbi2NzDZ3Y8ApkbvAb4H+gA3lhOOA5e4e/Po\n&quot;,</td>
      </tr>
      <tr>
        <td id="L576" class="blob-num js-line-number" data-line-number="576"></td>
        <td id="LC576" class="blob-code js-file-line">       &quot;8eW2FlZy37p1cNll8Oc/w0EHxR2NSNVdf31oth04MO5Iqle633mtgKXuXuzu64FRQPsy55wHDAdw\n&quot;,</td>
      </tr>
      <tr>
        <td id="L577" class="blob-num js-line-number" data-line-number="577"></td>
        <td id="LC577" class="blob-code js-file-line">       &quot;95lAoZnVS3Ptlmui5/Oj67919xnAugriydJuLqkp/fqFfeYvvzzuSES2TUEBDBsGt98eJuomVbqk\n&quot;,</td>
      </tr>
      <tr>
        <td id="L578" class="blob-num js-line-number" data-line-number="578"></td>
        <td id="LC578" class="blob-code js-file-line">       &quot;0gD4NOX9suhYVc6pX8m1dd29NHpdCtQtc8+KOkaGR01ffdLELQk0Y0b4Szl4cPaOohGpzOGHh1Uf\n&quot;,</td>
      </tr>
      <tr>
        <td id="L579" class="blob-num js-line-number" data-line-number="579"></td>
        <td id="LC579" class="blob-code js-file-line">       &quot;Lr881FqSKF1SqWqvd1X+ilt594t61qvyPZ3d/SigDdDGzC6rYmySAGvXhtFejzwCBxwQdzQi2+83\n&quot;,</td>
      </tr>
      <tr>
        <td id="L580" class="blob-num js-line-number" data-line-number="580"></td>
        <td id="LC580" class="blob-code js-file-line">       &quot;v4F99oG77oo7kuqRbrpYCdAo5X0jQo2jsnMaRufUKud4SfS61MzqufsKMzsQ+DxdoO6+PHpea2Yj\n&quot;,</td>
      </tr>
      <tr>
        <td id="L581" class="blob-num js-line-number" data-line-number="581"></td>
        <td id="LC581" class="blob-code js-file-line">       &quot;Cc1rT5U9r1+/flteFxUVUZRrGxtIuW66CU48ES64IO5IRHaMGQwdGlaAOPtsaN48/TWZNn36dKZP\n&quot;,</td>
      </tr>
      <tr>
        <td id="L582" class="blob-num js-line-number" data-line-number="582"></td>
        <td id="LC582" class="blob-code js-file-line">       &quot;n14t9650SLGZ7Qx8AJwKLAdmAZ3c/f2Uc9oBPdy9nZm1Bga4e+vKrjWze4CV7n63mfUGCt29d8o9\n&quot;,</td>
      </tr>
      <tr>
        <td id="L583" class="blob-num js-line-number" data-line-number="583"></td>
        <td id="LC583" class="blob-code js-file-line">       &quot;rwRaunvP6H0BsI+7f2lmtYBngUnuvtU2TBpSnEwTJ4bF+ebNg8LCuKMRyYynn4a774a334Zdd403\n&quot;,</td>
      </tr>
      <tr>
        <td id="L584" class="blob-num js-line-number" data-line-number="584"></td>
        <td id="LC584" class="blob-code js-file-line">       &quot;lhqdUW9mZwEDgAJgqLvfaWZXA7j74OiczaO8vgG6uPu7FV0bHa8DjAYOAoqBi9x9dfRZMbAXsAuw\n&quot;,</td>
      </tr>
      <tr>
        <td id="L585" class="blob-num js-line-number" data-line-number="585"></td>
        <td id="LC585" class="blob-code js-file-line">       &quot;Gjgd+Cfwf4TaTwEwGbi+bAZRUkmer74Ku+kNGwannhp3NCKZ4w4XXhj6We6+O95YtExLBZRUkqdz\n&quot;,</td>
      </tr>
      <tr>
        <td id="L586" class="blob-num js-line-number" data-line-number="586"></td>
        <td id="LC586" class="blob-code js-file-line">       &quot;Z9h33+QPw5T8tHljueefD827cdF2wpIXnn8+NA3MmRN3JCLVY//9YdCgMAhl7lyoXTvuiHacaiqS\n&quot;,</td>
      </tr>
      <tr>
        <td id="L587" class="blob-num js-line-number" data-line-number="587"></td>
        <td id="LC587" class="blob-code js-file-line">       &quot;lT77DJo1gzFj4Ljj4o5GpHpdeSXsvntIMHFQ81cFlFSSwR3OPTeMitFOjpIP1qwJfYePPQZnnlnz\n&quot;,</td>
      </tr>
      <tr>
        <td id="L588" class="blob-num js-line-number" data-line-number="588"></td>
        <td id="LC588" class="blob-code js-file-line">       &quot;36/mL0m0J54Iq7q++GLckYjUjL33Dn/ur7wybOy1zz5xR7T9VFORrPLxx9CqFUybFhbhE8knPXuG\n&quot;,</td>
      </tr>
      <tr>
        <td id="L589" class="blob-num js-line-number" data-line-number="589"></td>
        <td id="LC589" class="blob-code js-file-line">       &quot;EY9PP12z36v9VCSRNm0Kv9R69VJCkfx0990waxa88ELckWw/JRXJGgMGhP6U3/8+7khE4rHHHjBi\n&quot;,</td>
      </tr>
      <tr>
        <td id="L590" class="blob-num js-line-number" data-line-number="590"></td>
        <td id="LC590" class="blob-code js-file-line">       &quot;BFxzDZSWpj8/G6n5S7LCe+9BURHMnAmHHRZ3NCLxuuWW8Hfi5ZdrZvFUNX9JovzwQ9gj5U9/UkIR\n&quot;,</td>
      </tr>
      <tr>
        <td id="L591" class="blob-num js-line-number" data-line-number="591"></td>
        <td id="LC591" class="blob-code js-file-line">       &quot;AbjtNiguhuHD056adVRTkdj16RMmfo0dqyXtRTabPz8sTfTOO9W/IZ3mqVRASSX3vPUWnH9+SCr1\n&quot;,</td>
      </tr>
      <tr>
        <td id="L592" class="blob-num js-line-number" data-line-number="592"></td>
        <td id="LC592" class="blob-code js-file-line">       &quot;6sUdjUh2ufNOmDIFJk+u3q2z1fwlifDNN6HZ6+GHlVBEyvOHP8C334a/I7lCNRWJTffuYfOtESPi\n&quot;,</td>
      </tr>
      <tr>
        <td id="L593" class="blob-num js-line-number" data-line-number="593"></td>
        <td id="LC593" class="blob-code js-file-line">       &quot;jkQke334IRx/PPz973DEEdXzHWr+qoCSSu6YOBG6dQvtxtojRaRyDz0UJkS+8QbsXA3roKj5S3La\n&quot;,</td>
      </tr>
      <tr>
        <td id="L594" class="blob-num js-line-number" data-line-number="594"></td>
        <td id="LC594" class="blob-code js-file-line">       &quot;qlXQtSs8+aQSikhVdO8Oe+4J99wTdyTpqaYiNe7ii0MfyoABcUcikjv++U9o2TJ03P/0p5m9t2oq\n&quot;,</td>
      </tr>
      <tr>
        <td id="L595" class="blob-num js-line-number" data-line-number="595"></td>
        <td id="LC595" class="blob-code js-file-line">       &quot;krNGjQrbAt95Z9yRiOSWgw6Ce+8Ng1vWrYs7moqppiI1pqQkLGc/fjwcc0zc0YjkHvcwBL9p08z+\n&quot;,</td>
      </tr>
      <tr>
        <td id="L596" class="blob-num js-line-number" data-line-number="596"></td>
        <td id="LC596" class="blob-code js-file-line">       &quot;MFNHfQWUVLKXO7RtG7ZM7ds37mhEcldpaWj+evFFOOGEzNxTzV+Scx55JCzpffPNcUciktvq1oVH\n&quot;,</td>
      </tr>
      <tr>
        <td id="L597" class="blob-num js-line-number" data-line-number="597"></td>
        <td id="LC597" class="blob-code js-file-line">       &quot;H4VLL4Wvv447mv+kmopUuyVLwi+qGTPgxz+OOxqRZOjWDdavh2HDdvxeqqlIzvjhB7jkEujfXwlF\n&quot;,</td>
      </tr>
      <tr>
        <td id="L598" class="blob-num js-line-number" data-line-number="598"></td>
        <td id="LC598" class="blob-code js-file-line">       &quot;JJPuvz9MiBw9Ou5ItqaailSrW24JExy1WKRI5s2eDWefHRadbNRo+++jjvoKKKlkl9dfh06dwmKR\n&quot;,</td>
      </tr>
      <tr>
        <td id="L599" class="blob-num js-line-number" data-line-number="599"></td>
        <td id="LC599" class="blob-code js-file-line">       &quot;BxwQdzQiyXTHHTB1api/sr2LTqr5S7LeV1+F8fRDhyqhiFSn3r1D38pf/hJ3JIFqKpJx7tCxY5g1\n&quot;,</td>
      </tr>
      <tr>
        <td id="L600" class="blob-num js-line-number" data-line-number="600"></td>
        <td id="LC600" class="blob-code js-file-line">       &quot;P3Bg3NGIJN8nn8Cxx4Y19Zo33/brVVORrDZiBLz/Ptx9d9yRiOSHgw8OHfedO4el8uOkmopk1D/+\n&quot;,</td>
      </tr>
      <tr>
        <td id="L601" class="blob-num js-line-number" data-line-number="601"></td>
        <td id="LC601" class="blob-code js-file-line">       &quot;Aa1bw2uvwX//d9zRiOSXSy6BffbZ9v1X1FFfASWVeK1fD23ahM75666LOxqR/LN6NTRrFpLK2WdX\n&quot;,</td>
      </tr>
      <tr>
        <td id="L602" class="blob-num js-line-number" data-line-number="602"></td>
        <td id="LC602" class="blob-code js-file-line">       &quot;/To1f0lWuv32sJR9z55xRyKSnwoLQ/Nzt27w+efxxKCaimTEG29Ahw7w7rtw4IFxRyOS3269FebM\n&quot;,</td>
      </tr>
      <tr>
        <td id="L603" class="blob-num js-line-number" data-line-number="603"></td>
        <td id="LC603" class="blob-code js-file-line">       &quot;gVdeqdowY9VUJKusXh2GDz/2mBKKSDbo1y8M67///pr/btVUZIe4w4UXQoMGGj4skk2Ki6FVKxg3\n&quot;,</td>
      </tr>
      <tr>
        <td id="L604" class="blob-num js-line-number" data-line-number="604"></td>
        <td id="LC604" class="blob-code js-file-line">       &quot;Lgw3roxqKpI1Bg2Cjz8OmweJSPY45JDw9/Pii2HNmpr7XtVUZLvNnQunnx4WtWvcOO5oRKQ83bvD\n&quot;,</td>
      </tr>
      <tr>
        <td id="L605" class="blob-num js-line-number" data-line-number="605"></td>
        <td id="LC605" class="blob-code js-file-line">       &quot;ypVh19WK1t9TTUVit3ZtmDU/YIASikg2u+8+WLwYhgypme9Lm1TMrK2ZLTazD82sVwXnDIw+n2dm\n&quot;,</td>
      </tr>
      <tr>
        <td id="L606" class="blob-num js-line-number" data-line-number="606"></td>
        <td id="LC606" class="blob-code js-file-line">       &quot;zdNda2Z1zGyymS0xs0lmVphyfJqZ/cvMHizzHS3NbEF0rwe2v8iSCddcE3Zx7Nw57khEpDK77QbP\n&quot;,</td>
      </tr>
      <tr>
        <td id="L607" class="blob-num js-line-number" data-line-number="607"></td>
        <td id="LC607" class="blob-code js-file-line">       &quot;PRdWDF+4sPq/r9KkYmYFwENAW6Ap0MnMmpQ5px1wuLs3Bq4CBlXh2t7AZHc/ApgavQf4HugD3FhO\n&quot;,</td>
      </tr>
      <tr>
        <td id="L608" class="blob-num js-line-number" data-line-number="608"></td>
        <td id="LC608" class="blob-code js-file-line">       &quot;OIOArtH3NDaztttYVsmQESPCktsPPpj+XBGJ309+Evo9O3as/mVc0tVUWgFL3b3Y3dcDo4D2Zc45\n&quot;,</td>
      </tr>
      <tr>
        <td id="L609" class="blob-num js-line-number" data-line-number="609"></td>
        <td id="LC609" class="blob-code js-file-line">       &quot;DxgO4O4zgUIzq5fm2i3XRM/nR9d/6+4zgHWpX2BmBwJ7ufus6NCIzddIzfrgA7jhhvDLZ889445G\n&quot;,</td>
      </tr>
      <tr>
        <td id="L610" class="blob-num js-line-number" data-line-number="610"></td>
        <td id="LC610" class="blob-code js-file-line">       &quot;RKrqiivCYpPVvdpFuqTSAPg05f2y6FhVzqlfybV13b00el0K1C1zz7K97Q2i6zcrKScOqWbffw8X\n&quot;,</td>
      </tr>
      <tr>
        <td id="L611" class="blob-num js-line-number" data-line-number="611"></td>
        <td id="LC611" class="blob-code js-file-line">       &quot;XRT2b9C6XiK5xSyMBnv99dBpX13SJZWqDqWqyqgBK+9+0XAtDdnKAb//fahGd+sWdyQisj322iu0\n&quot;,</td>
      </tr>
      <tr>
        <td id="L612" class="blob-num js-line-number" data-line-number="612"></td>
        <td id="LC612" class="blob-code js-file-line">       &quot;MvTsGVodqsPOaT4vAVI3qWzE1jWG8s5pGJ1Tq5zjJdHrUjOr5+4roqatdKvUlETXl3evrfTr12/L\n&quot;,</td>
      </tr>
      <tr>
        <td id="L613" class="blob-num js-line-number" data-line-number="613"></td>
        <td id="LC613" class="blob-code js-file-line">       &quot;66KiIoqKitLcWqriqafCysOzZ2tbYJFc1rw5XHbZdNq0mU63blCrVmbvX+k8FTPbGfgAOBVYDswC\n&quot;,</td>
      </tr>
      <tr>
        <td id="L614" class="blob-num js-line-number" data-line-number="614"></td>
        <td id="LC614" class="blob-code js-file-line">       &quot;Orn7+ynntAN6uHs7M2sNDHD31pVda2b3ACvd/W4z6w0UunvvlHteCbR0954px2YC10b3GQcMdPcJ\n&quot;,</td>
      </tr>
      <tr>
        <td id="L615" class="blob-num js-line-number" data-line-number="615"></td>
        <td id="LC615" class="blob-code js-file-line">       &quot;ZeLVPJVqsGAB/PznWs5eJCncw9JKtWrBk09mdp5KpTUVd99gZj2AiUABMDRKCldHnw929/Fm1s7M\n&quot;,</td>
      </tr>
      <tr>
        <td id="L616" class="blob-num js-line-number" data-line-number="616"></td>
        <td id="LC616" class="blob-code js-file-line">       &quot;lgLfAF0quza69V3AaDPrChQDF23+TjMrBvYCdjGz84HT3X0x0B0YBuwOjC+bUKR6fP11WIblvvuU\n&quot;,</td>
      </tr>
      <tr>
        <td id="L617" class="blob-num js-line-number" data-line-number="617"></td>
        <td id="LC617" class="blob-code js-file-line">       &quot;UESSwgwefTQs4/LEExm+d5J+2aumklnuYeXh/fcPHXwikiyLFsHJJ8OXX2pGvdSA++8Pe18PGBB3\n&quot;,</td>
      </tr>
      <tr>
        <td id="L618" class="blob-num js-line-number" data-line-number="618"></td>
        <td id="LC618" class="blob-code js-file-line">       &quot;JCJSHZo2ha5dM3vPdB31kqfeeCPsMT9zJuy6a9zRiEh1yfR8M9VU5D+UloaVTZ98Mqx0KiJSVUoq\n&quot;,</td>
      </tr>
      <tr>
        <td id="L619" class="blob-num js-line-number" data-line-number="619"></td>
        <td id="LC619" class="blob-code js-file-line">       &quot;spX168NSDl26QLt2cUcjIrlGSUW2cv31oTqcMt1HRKTK1KciWzzxBEyaFPpRCgrijkZEcpGSigDw\n&quot;,</td>
      </tr>
      <tr>
        <td id="L620" class="blob-num js-line-number" data-line-number="620"></td>
        <td id="LC620" class="blob-code js-file-line">       &quot;1lvQu3dYF6iwMO5oRKSmZHqFDDV/CZ99FiY4Dh0KTZqkP19EpCJKKnlu3Tr4xS/gN7+Bc8+NOxoR\n&quot;,</td>
      </tr>
      <tr>
        <td id="L621" class="blob-num js-line-number" data-line-number="621"></td>
        <td id="LC621" class="blob-code js-file-line">       &quot;yXVKKnnMPezgWL9+2BVORGRHqU8ljz38cOiUf/NN2Ek/L0QkA5RU8tSECWGzrRkzoHbtuKMRkaRQ\n&quot;,</td>
      </tr>
      <tr>
        <td id="L622" class="blob-num js-line-number" data-line-number="622"></td>
        <td id="LC622" class="blob-code js-file-line">       &quot;UslDCxfC5ZfDSy/BYYfFHY2IxEmjv2SHlJbCOeeExSJPPDHuaEQkaZRU8sh330H79nDFFdC5c9zR\n&quot;,</td>
      </tr>
      <tr>
        <td id="L623" class="blob-num js-line-number" data-line-number="623"></td>
        <td id="LC623" class="blob-code js-file-line">       &quot;iEgSKankiU2bwnpehx6qJVhEpPqoTyVP9OsH//xn2BJYe8yLSHVRUskDQ4fC00+HpVh22y3uaEQk\n&quot;,</td>
      </tr>
      <tr>
        <td id="L624" class="blob-num js-line-number" data-line-number="624"></td>
        <td id="LC624" class="blob-code js-file-line">       &quot;yZRUEm7cOOjTJ6zpdcABcUcjItkm0y0XSioJNnNm6EcZOxaOOCLuaEQkH6ijPqGWLIHzzw+7Nx53\n&quot;,</td>
      </tr>
      <tr>
        <td id="L625" class="blob-num js-line-number" data-line-number="625"></td>
        <td id="LC625" class="blob-code js-file-line">       &quot;XNzRiEi+UFJJoBUroG3bMGP+7LPjjkZE8omSSsL8619hG+AuXeBXv4o7GhHJN0oqCfLdd3DeeaG5\n&quot;,</td>
      </tr>
      <tr>
        <td id="L626" class="blob-num js-line-number" data-line-number="626"></td>
        <td id="LC626" class="blob-code js-file-line">       &quot;q0+fuKMRkVygZVqkXD/8EDbaatAgrD6suSgiEgcllQTYuBEuvRRq1Qod81rGXkTioiHFOW7TJujW\n&quot;,</td>
      </tr>
      <tr>
        <td id="L627" class="blob-num js-line-number" data-line-number="627"></td>
        <td id="LC627" class="blob-code js-file-line">       &quot;Db76KgwdrlUr7ohEJJ8pqeQwd/j97+GDD2DSJM2WF5H4KankKHe49Vb429/Cel577hl3RCIiSio5\n&quot;,</td>
      </tr>
      <tr>
        <td id="L628" class="blob-num js-line-number" data-line-number="628"></td>
        <td id="LC628" class="blob-code js-file-line">       &quot;aXNCGTcOpk6FwsK4IxKRXKVlWvKcO9xyC7z6akgo++0Xd0QiIv+mpJJD3KF3b5g4MSSUffeNOyIR\n&quot;,</td>
      </tr>
      <tr>
        <td id="L629" class="blob-num js-line-number" data-line-number="629"></td>
        <td id="LC629" class="blob-code js-file-line">       &quot;ka0pqeQId+jVCyZPVkIRkeylpJID3OHGG0OH/JQpSigikr2UVLLcxo1w9dWwcGGoodSpE3dEIiIV\n&quot;,</td>
      </tr>
      <tr>
        <td id="L630" class="blob-num js-line-number" data-line-number="630"></td>
        <td id="LC630" class="blob-code js-file-line">       &quot;U1LJYj/8EGbKr1oVaii1a8cdkYgkTY2v/WVmbc1ssZl9aGa9KjhnYPT5PDNrnu5aM6tjZpPNbImZ\n&quot;,</td>
      </tr>
      <tr>
        <td id="L631" class="blob-num js-line-number" data-line-number="631"></td>
        <td id="LC631" class="blob-code js-file-line">       &quot;TTKzwpTPbo7OX2xmZ6Qcnx4dmxM9Ej3u6ZtvwuKQ69fDK68ooYhIbqg0qZhZAfAQ0BZoCnQysyZl\n&quot;,</td>
      </tr>
      <tr>
        <td id="L632" class="blob-num js-line-number" data-line-number="632"></td>
        <td id="LC632" class="blob-code js-file-line">       &quot;zmkHHO7ujYGrgEFVuLY3MNndjwCmRu8xs6ZAx+j8tsAjZlvyqAOXuHvz6PHlDpU8i61eDWeeCXXr\n&quot;,</td>
      </tr>
      <tr>
        <td id="L633" class="blob-num js-line-number" data-line-number="633"></td>
        <td id="LC633" class="blob-code js-file-line">       &quot;wvPPa6a8iOSOdDWVVsBSdy929/XAKKB9mXPOA4YDuPtMoNDM6qW5dss10fP50ev2wLPuvt7di4Gl\n&quot;,</td>
      </tr>
      <tr>
        <td id="L634" class="blob-num js-line-number" data-line-number="634"></td>
        <td id="LC634" class="blob-code js-file-line">       &quot;QOq+hYlfe3fZMjj5ZGjZMiwOubMaKEUkh6RLKg2AT1PeL4uOVeWc+pVcW9fdS6PXpUDd6HX96LzU\n&quot;,</td>
      </tr>
      <tr>
        <td id="L635" class="blob-num js-line-number" data-line-number="635"></td>
        <td id="LC635" class="blob-code js-file-line">       &quot;a+qnvB8eNX0lcreQ+fPhhBOgc2cYMECrDYtI7kn3O9ireJ+q1CCsvPu5u5tZVb6ns7svN7PawAtm\n&quot;,</td>
      </tr>
      <tr>
        <td id="L636" class="blob-num js-line-number" data-line-number="636"></td>
        <td id="LC636" class="blob-code js-file-line">       &quot;dpm7P1X2pH79+m15XVRURFFRURVuHb/Jk0MyefBB6Ngx7mhEJMmmT5/O9OnTAZgxI7P3TpdUSoBG\n&quot;,</td>
      </tr>
      <tr>
        <td id="L637" class="blob-num js-line-number" data-line-number="637"></td>
        <td id="LC637" class="blob-code js-file-line">       &quot;Ke8bsXVNorxzGkbn1CrneEn0utTM6rn7CjM7EPi8knuVALj78uh5rZmNJDSvVZpUcsWwYWFi4wsv\n&quot;,</td>
      </tr>
      <tr>
        <td id="L638" class="blob-num js-line-number" data-line-number="638"></td>
        <td id="LC638" class="blob-code js-file-line">       &quot;QJs2cUcjIkmX+oP7nntgypT+Gbt3ugaWt4HGZnaIme1C6EQfU+acMcDlAGbWGlgdNW1Vdu0Y4Iro\n&quot;,</td>
      </tr>
      <tr>
        <td id="L639" class="blob-num js-line-number" data-line-number="639"></td>
        <td id="LC639" class="blob-code js-file-line">       &quot;9RXAyynHLzazXczsUKAxMMvMCjaP9jKzWsC5wILtKnEW2bQJbrsN/ud/4PXXlVBEJPdVWlNx9w1m\n&quot;,</td>
      </tr>
      <tr>
        <td id="L640" class="blob-num js-line-number" data-line-number="640"></td>
        <td id="LC640" class="blob-code js-file-line">       &quot;1gOYCBQAQ939fTO7Ovp8sLuPN7N2ZrYU+AboUtm10a3vAkabWVegGLgoumaRmY0GFgEbgO5R89hu\n&quot;,</td>
      </tr>
      <tr>
        <td id="L641" class="blob-num js-line-number" data-line-number="641"></td>
        <td id="LC641" class="blob-code js-file-line">       &quot;wIQooRQAk4HHM/efoeatXQuXXw6lpfDmm2Gkl4hIrjP3qnabZD8z81woz8cfQ/v20KpV2E9+113j\n&quot;,</td>
      </tr>
      <tr>
        <td id="L642" class="blob-num js-line-number" data-line-number="642"></td>
        <td id="LC642" class="blob-code js-file-line">       &quot;jkhE8tU990CvXoa7Z2R0rcYX1bBp0+D448MWwI8/roQiIsmiWRA1xB0GDoQ//QlGjoRTT407IhER\n&quot;,</td>
      </tr>
      <tr>
        <td id="L643" class="blob-num js-line-number" data-line-number="643"></td>
        <td id="LC643" class="blob-code js-file-line">       &quot;bdKVk9asgV//Gv7xj9B/cthhcUckIlI91PxVzebOhWOOgf33h7//XQlFRJJNSaWauIc+k9NPh/79\n&quot;,</td>
      </tr>
      <tr>
        <td id="L644" class="blob-num js-line-number" data-line-number="644"></td>
        <td id="LC644" class="blob-code js-file-line">       &quot;4ZFHtIaXiCSfmr+qwVdfQffusGAB/O1v8JOfxB2RiEjNUE0lw6ZNg2bNYL/9YPZsJRQRyS+qqWTI\n&quot;,</td>
      </tr>
      <tr>
        <td id="L645" class="blob-num js-line-number" data-line-number="645"></td>
        <td id="LC645" class="blob-code js-file-line">       &quot;unXwxz/CM8/AkCFw1llxRyQikp5Gf2Wh+fPD7PhDDgkd8/vvH3dEIiLxUPPXDli3Dvr2DXNOevaE\n&quot;,</td>
      </tr>
      <tr>
        <td id="L646" class="blob-num js-line-number" data-line-number="646"></td>
        <td id="LC646" class="blob-code js-file-line">       &quot;l15SQhFvF+/2AAAHV0lEQVSR/KaaynZ66y3o2hUOPzzUThqU3WVGRCQPKalso7VrQ9/JqFHwwAPQ\n&quot;,</td>
      </tr>
      <tr>
        <td id="L647" class="blob-num js-line-number" data-line-number="647"></td>
        <td id="LC647" class="blob-code js-file-line">       &quot;oUPm2yRFRHKVmr+qyB2eew6aNIFVq2DhQrjoIiUUEclt6qiPwXvvhT6TlSvh2WfhpJPijkhEJDup\n&quot;,</td>
      </tr>
      <tr>
        <td id="L648" class="blob-num js-line-number" data-line-number="648"></td>
        <td id="LC648" class="blob-code js-file-line">       &quot;plKJ1avhhhugqAh+8Qt45x0lFBGRyiiplGPdOhgwAI44IiwG+d570KMH7Kx6nYhIpfTPZIpNm0K/\n&quot;,</td>
      </tr>
      <tr>
        <td id="L649" class="blob-num js-line-number" data-line-number="649"></td>
        <td id="LC649" class="blob-code js-file-line">       &quot;ya23QtOm8NprcNRRcUclIpI7lFQInfATJ0KfPqHTauhQOOWUuKMSEck9eZ1U3OHVV8MqwmvXhomM\n&quot;,</td>
      </tr>
      <tr>
        <td id="L650" class="blob-num js-line-number" data-line-number="650"></td>
        <td id="LC650" class="blob-code js-file-line">       &quot;HTrATmoUFJE8odFfGeAO48eHZPLdd2HeyYUXKpmIiOyovEoqP/wQhgTfd19437cvXHCBkomISKbk\n&quot;,</td>
      </tr>
      <tr>
        <td id="L651" class="blob-num js-line-number" data-line-number="651"></td>
        <td id="LC651" class="blob-code js-file-line">       &quot;RVJZtQoGD4aHHoIjj4R77oEzztDERRGRTEt0Upk3LySTUaPgvPNC/8nRR8cdlYhIciUuqXz7LYwe\n&quot;,</td>
      </tr>
      <tr>
        <td id="L652" class="blob-num js-line-number" data-line-number="652"></td>
        <td id="LC652" class="blob-code js-file-line">       &quot;DY8+CiUl8OtfhyVV6tePOzIRkeRLXFJp1Ahatw5zTc46SxMWRUQqo9Ffabz7Lhx8cNxRiIjkp8SN\n&quot;,</td>
      </tr>
      <tr>
        <td id="L653" class="blob-num js-line-number" data-line-number="653"></td>
        <td id="LC653" class="blob-code js-file-line">       &quot;e1JCERGJT+KSioiIxEdJRUREMkZJRUQkj2W6o15JRUREMkZJRUREMkZJRUREMkZJRUREMkZJRURE\n&quot;,</td>
      </tr>
      <tr>
        <td id="L654" class="blob-num js-line-number" data-line-number="654"></td>
        <td id="LC654" class="blob-code js-file-line">       &quot;MiZtUjGztma22Mw+NLNeFZwzMPp8npk1T3etmdUxs8lmtsTMJplZYcpnN0fnLzazM1KOtzSzBdFn\n&quot;,</td>
      </tr>
      <tr>
        <td id="L655" class="blob-num js-line-number" data-line-number="655"></td>
        <td id="LC655" class="blob-code js-file-line">       &quot;D2x/kUVEZLMaHf1lZgXAQ0BboCnQycyalDmnHXC4uzcGrgIGVeHa3sBkdz8CmBq9x8yaAh2j89sC\n&quot;,</td>
      </tr>
      <tr>
        <td id="L656" class="blob-num js-line-number" data-line-number="656"></td>
        <td id="LC656" class="blob-code js-file-line">       &quot;j5htKfIgoGv0PY3NrO2OFDwXTZ8+Pe4QqpXKl9uSXL4kly3T0tVUWgFL3b3Y3dcDo4D2Zc45DxgO\n&quot;,</td>
      </tr>
      <tr>
        <td id="L657" class="blob-num js-line-number" data-line-number="657"></td>
        <td id="LC657" class="blob-code js-file-line">       &quot;4O4zgUIzq5fm2i3XRM/nR6/bA8+6+3p3LwaWAseZ2YHAXu4+KzpvRMo1eSPpf7BVvtyW5PIluWyZ\n&quot;,</td>
      </tr>
      <tr>
        <td id="L658" class="blob-num js-line-number" data-line-number="658"></td>
        <td id="LC658" class="blob-code js-file-line">       &quot;li6pNAA+TXm/LDpWlXPqV3JtXXcvjV6XAnWj1/Wj88q7V+rxknLiEBGRmKVLKl7F+1SlVc7Ku5+7\n&quot;,</td>
      </tr>
      <tr>
        <td id="L659" class="blob-num js-line-number" data-line-number="659"></td>
        <td id="LC659" class="blob-code js-file-line">       &quot;+zZ8j4iIZDN3r/ABtAYmpLy/GehV5pxHgYtT3i8m1DwqvDY6p170+kBgcfS6N9A75ZoJwHFAPeD9\n&quot;,</td>
      </tr>
      <tr>
        <td id="L660" class="blob-num js-line-number" data-line-number="660"></td>
        <td id="LC660" class="blob-code js-file-line">       &quot;lOOdgEfLidf10EMPPfTY9kdluWBbHun2U3mb0Cl+CLCc0Ineqcw5Y4AewCgzaw2sdvdSM1tZybVj\n&quot;,</td>
      </tr>
      <tr>
        <td id="L661" class="blob-num js-line-number" data-line-number="661"></td>
        <td id="LC661" class="blob-code js-file-line">       &quot;gCuAu6Pnl1OOjzSz+wjNW42BWe7uZva1mR0HzAIuAwaWDdbdteu8iEiMKk0q7r7BzHoAE4ECYKi7\n&quot;,</td>
      </tr>
      <tr>
        <td id="L662" class="blob-num js-line-number" data-line-number="662"></td>
        <td id="LC662" class="blob-code js-file-line">       &quot;v29mV0efD3b38WbWzsyWAt8AXSq7Nrr1XcBoM+sKFAMXRdcsMrPRwCJgA9A9ah4D6A4MA3YHxrv7\n&quot;,</td>
      </tr>
      <tr>
        <td id="L663" class="blob-num js-line-number" data-line-number="663"></td>
        <td id="LC663" class="blob-code js-file-line">       &quot;hIz8FxARkYyxf/+bLSIismMSM6O+KpM0s42ZPWFmpWa2IOVYYiaGmlkjM5tmZu+Z2UIzuzY6nogy\n&quot;,</td>
      </tr>
      <tr>
        <td id="L664" class="blob-num js-line-number" data-line-number="664"></td>
        <td id="LC664" class="blob-code js-file-line">       &quot;mtluZjbTzOaa2SIzuzM6nojyQZhvZmZzzGxs9D5JZSs2s/lR+WZFx5JUvkIz+6uZvR/9+TyuRsqX\n&quot;,</td>
      </tr>
      <tr>
        <td id="L665" class="blob-num js-line-number" data-line-number="665"></td>
        <td id="LC665" class="blob-code js-file-line">       &quot;qc6ZOB+E5rWlwCFALWAu0CTuuKoQdxugObAg5dg9wE3R617AXdHrplG5akXlXMq/a5qzgFbR6/FA\n&quot;,</td>
      </tr>
      <tr>
        <td id="L666" class="blob-num js-line-number" data-line-number="666"></td>
        <td id="LC666" class="blob-code js-file-line">       &quot;27jLFsVSD2gWva4NfAA0SVgZ94iedwbeAk5KWPmuB54BxiTwz+fHQJ0yx5JUvuHAr1L+fO5dE+WL\n&quot;,</td>
      </tr>
      <tr>
        <td id="L667" class="blob-num js-line-number" data-line-number="667"></td>
        <td id="LC667" class="blob-code js-file-line">       &quot;veAZ+o93PFuPNNtqFFk2P6L/galJZTFhHg+Ef5Q3j4zbauQdYWRca8LoudSRcRdTzsi4bHgQBmSc\n&quot;,</td>
      </tr>
      <tr>
        <td id="L668" class="blob-num js-line-number" data-line-number="668"></td>
        <td id="LC668" class="blob-code js-file-line">       &quot;lsQyAnsAs4Ejk1I+oCEwBTgFGJu0P5+EpLJvmWOJKB8hgXxUzvFqL19Smr+qMkkzVyRyYmg0CrA5\n&quot;,</td>
      </tr>
      <tr>
        <td id="L669" class="blob-num js-line-number" data-line-number="669"></td>
        <td id="LC669" class="blob-code js-file-line">       &quot;MJMEldHMdjKzuYRyTHP390hO+e4H/gBsSjmWlLJBGEo7xczeNrNu0bGklO9Q4Asze9LM3jWzx81s\n&quot;,</td>
      </tr>
      <tr>
        <td id="L670" class="blob-num js-line-number" data-line-number="670"></td>
        <td id="LC670" class="blob-code js-file-line">       &quot;T2qgfElJKokcbeDhp0HOl83MagMvANe5+79SP8v1Mrr7JndvRvhV/zMzO6XM5zlZPjM7B/jc3edQ\n&quot;,</td>
      </tr>
      <tr>
        <td id="L671" class="blob-num js-line-number" data-line-number="671"></td>
        <td id="LC671" class="blob-code js-file-line">       &quot;weTmXC1bihPdvTlwFnCNmbVJ/TDHy7cz0AJ4xN1bEEbm9k49obrKl5SkUgI0SnnfiK2zay4ptbB2\n&quot;,</td>
      </tr>
      <tr>
        <td id="L672" class="blob-num js-line-number" data-line-number="672"></td>
        <td id="LC672" class="blob-code js-file-line">       &quot;GhbWPPs8Ol62jA0JZSyJXqceL6mBOKvEzGoREspT7r55PlKiygjg7muAcUBLklG+E4DzzOxj4Fng\n&quot;,</td>
      </tr>
      <tr>
        <td id="L673" class="blob-num js-line-number" data-line-number="673"></td>
        <td id="LC673" class="blob-code js-file-line">       &quot;52b2FMkoGwDu/ln0/AXwEmG9wqSUbxmwzN1nR+//SkgyK6q7fElJKlsmaZrZLoSJlmNijml7bZ4Y\n&quot;,</td>
      </tr>
      <tr>
        <td id="L674" class="blob-num js-line-number" data-line-number="674"></td>
        <td id="LC674" class="blob-code js-file-line">       &quot;Cv85MfRiM9vFzA7l3xNDVwBfRyM7jDAx9OWyN41DFM9QYJG7D0j5KBFlNLP9No+eMbPdgdOBOSSg\n&quot;,</td>
      </tr>
      <tr>
        <td id="L675" class="blob-num js-line-number" data-line-number="675"></td>
        <td id="LC675" class="blob-code js-file-line">       &quot;fO5+i7s3cvdDCe3or7n7ZSSgbABmtoeZ7RW93hM4A1hAQsoXxfWpmR0RHToNeA8YS3WXL+4OpQx2\n&quot;,</td>
      </tr>
      <tr>
        <td id="L676" class="blob-num js-line-number" data-line-number="676"></td>
        <td id="LC676" class="blob-code js-file-line">       &quot;TJ1FGF20FLg57niqGPOzhNUGfiD0CXUB6hA6R5cAk4DClPNvicq3GDgz5XhLwl+IpcDAuMuVEtdJ\n&quot;,</td>
      </tr>
      <tr>
        <td id="L677" class="blob-num js-line-number" data-line-number="677"></td>
        <td id="LC677" class="blob-code js-file-line">       &quot;hPb4uYR/bOcQtjRIRBmB/wbejco3H/hDdDwR5UuJ7WT+PforEWUj9DnMjR4LN/+bkZTyRXH9lDB4\n&quot;,</td>
      </tr>
      <tr>
        <td id="L678" class="blob-num js-line-number" data-line-number="678"></td>
        <td id="LC678" class="blob-code js-file-line">       &quot;ZB7wIqHzvtrLp8mPIiKSMUlp/hIRkSygpCIiIhmjpCIiIhmjpCIiIhmjpCIiIhmjpCIiIhmjpCIi\n&quot;,</td>
      </tr>
      <tr>
        <td id="L679" class="blob-num js-line-number" data-line-number="679"></td>
        <td id="LC679" class="blob-code js-file-line">       &quot;IhmjpCIiIhnz/wGFFHV1AvGYgQAAAABJRU5ErkJggg==\n&quot;</td>
      </tr>
      <tr>
        <td id="L680" class="blob-num js-line-number" data-line-number="680"></td>
        <td id="LC680" class="blob-code js-file-line">      ],</td>
      </tr>
      <tr>
        <td id="L681" class="blob-num js-line-number" data-line-number="681"></td>
        <td id="LC681" class="blob-code js-file-line">      &quot;text/plain&quot;: [</td>
      </tr>
      <tr>
        <td id="L682" class="blob-num js-line-number" data-line-number="682"></td>
        <td id="LC682" class="blob-code js-file-line">       &quot;&lt;matplotlib.figure.Figure at 0xaa78fd0&gt;&quot;</td>
      </tr>
      <tr>
        <td id="L683" class="blob-num js-line-number" data-line-number="683"></td>
        <td id="LC683" class="blob-code js-file-line">      ]</td>
      </tr>
      <tr>
        <td id="L684" class="blob-num js-line-number" data-line-number="684"></td>
        <td id="LC684" class="blob-code js-file-line">     },</td>
      </tr>
      <tr>
        <td id="L685" class="blob-num js-line-number" data-line-number="685"></td>
        <td id="LC685" class="blob-code js-file-line">     &quot;metadata&quot;: {},</td>
      </tr>
      <tr>
        <td id="L686" class="blob-num js-line-number" data-line-number="686"></td>
        <td id="LC686" class="blob-code js-file-line">     &quot;output_type&quot;: &quot;display_data&quot;</td>
      </tr>
      <tr>
        <td id="L687" class="blob-num js-line-number" data-line-number="687"></td>
        <td id="LC687" class="blob-code js-file-line">    }</td>
      </tr>
      <tr>
        <td id="L688" class="blob-num js-line-number" data-line-number="688"></td>
        <td id="LC688" class="blob-code js-file-line">   ],</td>
      </tr>
      <tr>
        <td id="L689" class="blob-num js-line-number" data-line-number="689"></td>
        <td id="LC689" class="blob-code js-file-line">   &quot;source&quot;: [</td>
      </tr>
      <tr>
        <td id="L690" class="blob-num js-line-number" data-line-number="690"></td>
        <td id="LC690" class="blob-code js-file-line">    &quot;import matplotlib.pyplot as plt\n&quot;,</td>
      </tr>
      <tr>
        <td id="L691" class="blob-num js-line-number" data-line-number="691"></td>
        <td id="LC691" class="blob-code js-file-line">    &quot;plt.plot(s_prob)\n&quot;,</td>
      </tr>
      <tr>
        <td id="L692" class="blob-num js-line-number" data-line-number="692"></td>
        <td id="LC692" class="blob-code js-file-line">    &quot;plt.show()&quot;</td>
      </tr>
      <tr>
        <td id="L693" class="blob-num js-line-number" data-line-number="693"></td>
        <td id="LC693" class="blob-code js-file-line">   ]</td>
      </tr>
      <tr>
        <td id="L694" class="blob-num js-line-number" data-line-number="694"></td>
        <td id="LC694" class="blob-code js-file-line">  },</td>
      </tr>
      <tr>
        <td id="L695" class="blob-num js-line-number" data-line-number="695"></td>
        <td id="LC695" class="blob-code js-file-line">  {</td>
      </tr>
      <tr>
        <td id="L696" class="blob-num js-line-number" data-line-number="696"></td>
        <td id="LC696" class="blob-code js-file-line">   &quot;cell_type&quot;: &quot;markdown&quot;,</td>
      </tr>
      <tr>
        <td id="L697" class="blob-num js-line-number" data-line-number="697"></td>
        <td id="LC697" class="blob-code js-file-line">   &quot;metadata&quot;: {},</td>
      </tr>
      <tr>
        <td id="L698" class="blob-num js-line-number" data-line-number="698"></td>
        <td id="LC698" class="blob-code js-file-line">   &quot;source&quot;: [</td>
      </tr>
      <tr>
        <td id="L699" class="blob-num js-line-number" data-line-number="699"></td>
        <td id="LC699" class="blob-code js-file-line">    &quot;I can&#39;t see where I&#39;ve made a mistake, so perhaps that is correct, even though it looks a little goofy. Continuing on, we now get the sum of all the probabilities and see if they sum to unity:&quot;</td>
      </tr>
      <tr>
        <td id="L700" class="blob-num js-line-number" data-line-number="700"></td>
        <td id="LC700" class="blob-code js-file-line">   ]</td>
      </tr>
      <tr>
        <td id="L701" class="blob-num js-line-number" data-line-number="701"></td>
        <td id="LC701" class="blob-code js-file-line">  },</td>
      </tr>
      <tr>
        <td id="L702" class="blob-num js-line-number" data-line-number="702"></td>
        <td id="LC702" class="blob-code js-file-line">  {</td>
      </tr>
      <tr>
        <td id="L703" class="blob-num js-line-number" data-line-number="703"></td>
        <td id="LC703" class="blob-code js-file-line">   &quot;cell_type&quot;: &quot;code&quot;,</td>
      </tr>
      <tr>
        <td id="L704" class="blob-num js-line-number" data-line-number="704"></td>
        <td id="LC704" class="blob-code js-file-line">   &quot;execution_count&quot;: 21,</td>
      </tr>
      <tr>
        <td id="L705" class="blob-num js-line-number" data-line-number="705"></td>
        <td id="LC705" class="blob-code js-file-line">   &quot;metadata&quot;: {</td>
      </tr>
      <tr>
        <td id="L706" class="blob-num js-line-number" data-line-number="706"></td>
        <td id="LC706" class="blob-code js-file-line">    &quot;collapsed&quot;: false</td>
      </tr>
      <tr>
        <td id="L707" class="blob-num js-line-number" data-line-number="707"></td>
        <td id="LC707" class="blob-code js-file-line">   },</td>
      </tr>
      <tr>
        <td id="L708" class="blob-num js-line-number" data-line-number="708"></td>
        <td id="LC708" class="blob-code js-file-line">   &quot;outputs&quot;: [</td>
      </tr>
      <tr>
        <td id="L709" class="blob-num js-line-number" data-line-number="709"></td>
        <td id="LC709" class="blob-code js-file-line">    {</td>
      </tr>
      <tr>
        <td id="L710" class="blob-num js-line-number" data-line-number="710"></td>
        <td id="LC710" class="blob-code js-file-line">     &quot;data&quot;: {</td>
      </tr>
      <tr>
        <td id="L711" class="blob-num js-line-number" data-line-number="711"></td>
        <td id="LC711" class="blob-code js-file-line">      &quot;text/plain&quot;: [</td>
      </tr>
      <tr>
        <td id="L712" class="blob-num js-line-number" data-line-number="712"></td>
        <td id="LC712" class="blob-code js-file-line">       &quot;0.90506654100125528&quot;</td>
      </tr>
      <tr>
        <td id="L713" class="blob-num js-line-number" data-line-number="713"></td>
        <td id="LC713" class="blob-code js-file-line">      ]</td>
      </tr>
      <tr>
        <td id="L714" class="blob-num js-line-number" data-line-number="714"></td>
        <td id="LC714" class="blob-code js-file-line">     },</td>
      </tr>
      <tr>
        <td id="L715" class="blob-num js-line-number" data-line-number="715"></td>
        <td id="LC715" class="blob-code js-file-line">     &quot;execution_count&quot;: 21,</td>
      </tr>
      <tr>
        <td id="L716" class="blob-num js-line-number" data-line-number="716"></td>
        <td id="LC716" class="blob-code js-file-line">     &quot;metadata&quot;: {},</td>
      </tr>
      <tr>
        <td id="L717" class="blob-num js-line-number" data-line-number="717"></td>
        <td id="LC717" class="blob-code js-file-line">     &quot;output_type&quot;: &quot;execute_result&quot;</td>
      </tr>
      <tr>
        <td id="L718" class="blob-num js-line-number" data-line-number="718"></td>
        <td id="LC718" class="blob-code js-file-line">    }</td>
      </tr>
      <tr>
        <td id="L719" class="blob-num js-line-number" data-line-number="719"></td>
        <td id="LC719" class="blob-code js-file-line">   ],</td>
      </tr>
      <tr>
        <td id="L720" class="blob-num js-line-number" data-line-number="720"></td>
        <td id="LC720" class="blob-code js-file-line">   &quot;source&quot;: [</td>
      </tr>
      <tr>
        <td id="L721" class="blob-num js-line-number" data-line-number="721"></td>
        <td id="LC721" class="blob-code js-file-line">    &quot;np.sum(s_prob)&quot;</td>
      </tr>
      <tr>
        <td id="L722" class="blob-num js-line-number" data-line-number="722"></td>
        <td id="LC722" class="blob-code js-file-line">   ]</td>
      </tr>
      <tr>
        <td id="L723" class="blob-num js-line-number" data-line-number="723"></td>
        <td id="LC723" class="blob-code js-file-line">  },</td>
      </tr>
      <tr>
        <td id="L724" class="blob-num js-line-number" data-line-number="724"></td>
        <td id="LC724" class="blob-code js-file-line">  {</td>
      </tr>
      <tr>
        <td id="L725" class="blob-num js-line-number" data-line-number="725"></td>
        <td id="LC725" class="blob-code js-file-line">   &quot;cell_type&quot;: &quot;markdown&quot;,</td>
      </tr>
      <tr>
        <td id="L726" class="blob-num js-line-number" data-line-number="726"></td>
        <td id="LC726" class="blob-code js-file-line">   &quot;metadata&quot;: {},</td>
      </tr>
      <tr>
        <td id="L727" class="blob-num js-line-number" data-line-number="727"></td>
        <td id="LC727" class="blob-code js-file-line">   &quot;source&quot;: [</td>
      </tr>
      <tr>
        <td id="L728" class="blob-num js-line-number" data-line-number="728"></td>
        <td id="LC728" class="blob-code js-file-line">    &quot;Thus, we have to renormalize, even though this is starting to seem a little sketchy...\n&quot;,</td>
      </tr>
      <tr>
        <td id="L729" class="blob-num js-line-number" data-line-number="729"></td>
        <td id="LC729" class="blob-code js-file-line">    &quot;\n&quot;,</td>
      </tr>
      <tr>
        <td id="L730" class="blob-num js-line-number" data-line-number="730"></td>
        <td id="LC730" class="blob-code js-file-line">    &quot;**JC:** XX in the MATLAB code is 0.90539 so ever so slightly off..&quot;</td>
      </tr>
      <tr>
        <td id="L731" class="blob-num js-line-number" data-line-number="731"></td>
        <td id="LC731" class="blob-code js-file-line">   ]</td>
      </tr>
      <tr>
        <td id="L732" class="blob-num js-line-number" data-line-number="732"></td>
        <td id="LC732" class="blob-code js-file-line">  },</td>
      </tr>
      <tr>
        <td id="L733" class="blob-num js-line-number" data-line-number="733"></td>
        <td id="LC733" class="blob-code js-file-line">  {</td>
      </tr>
      <tr>
        <td id="L734" class="blob-num js-line-number" data-line-number="734"></td>
        <td id="LC734" class="blob-code js-file-line">   &quot;cell_type&quot;: &quot;code&quot;,</td>
      </tr>
      <tr>
        <td id="L735" class="blob-num js-line-number" data-line-number="735"></td>
        <td id="LC735" class="blob-code js-file-line">   &quot;execution_count&quot;: 22,</td>
      </tr>
      <tr>
        <td id="L736" class="blob-num js-line-number" data-line-number="736"></td>
        <td id="LC736" class="blob-code js-file-line">   &quot;metadata&quot;: {</td>
      </tr>
      <tr>
        <td id="L737" class="blob-num js-line-number" data-line-number="737"></td>
        <td id="LC737" class="blob-code js-file-line">    &quot;collapsed&quot;: false</td>
      </tr>
      <tr>
        <td id="L738" class="blob-num js-line-number" data-line-number="738"></td>
        <td id="LC738" class="blob-code js-file-line">   },</td>
      </tr>
      <tr>
        <td id="L739" class="blob-num js-line-number" data-line-number="739"></td>
        <td id="LC739" class="blob-code js-file-line">   &quot;outputs&quot;: [],</td>
      </tr>
      <tr>
        <td id="L740" class="blob-num js-line-number" data-line-number="740"></td>
        <td id="LC740" class="blob-code js-file-line">   &quot;source&quot;: [</td>
      </tr>
      <tr>
        <td id="L741" class="blob-num js-line-number" data-line-number="741"></td>
        <td id="LC741" class="blob-code js-file-line">    &quot;XX=sum(s_prob)\n&quot;,</td>
      </tr>
      <tr>
        <td id="L742" class="blob-num js-line-number" data-line-number="742"></td>
        <td id="LC742" class="blob-code js-file-line">    &quot;if XX&lt;1:\n&quot;,</td>
      </tr>
      <tr>
        <td id="L743" class="blob-num js-line-number" data-line-number="743"></td>
        <td id="LC743" class="blob-code js-file-line">    &quot;    s_prob=s_prob+(1-XX)/s_n&quot;</td>
      </tr>
      <tr>
        <td id="L744" class="blob-num js-line-number" data-line-number="744"></td>
        <td id="LC744" class="blob-code js-file-line">   ]</td>
      </tr>
      <tr>
        <td id="L745" class="blob-num js-line-number" data-line-number="745"></td>
        <td id="LC745" class="blob-code js-file-line">  },</td>
      </tr>
      <tr>
        <td id="L746" class="blob-num js-line-number" data-line-number="746"></td>
        <td id="LC746" class="blob-code js-file-line">  {</td>
      </tr>
      <tr>
        <td id="L747" class="blob-num js-line-number" data-line-number="747"></td>
        <td id="LC747" class="blob-code js-file-line">   &quot;cell_type&quot;: &quot;code&quot;,</td>
      </tr>
      <tr>
        <td id="L748" class="blob-num js-line-number" data-line-number="748"></td>
        <td id="LC748" class="blob-code js-file-line">   &quot;execution_count&quot;: 23,</td>
      </tr>
      <tr>
        <td id="L749" class="blob-num js-line-number" data-line-number="749"></td>
        <td id="LC749" class="blob-code js-file-line">   &quot;metadata&quot;: {</td>
      </tr>
      <tr>
        <td id="L750" class="blob-num js-line-number" data-line-number="750"></td>
        <td id="LC750" class="blob-code js-file-line">    &quot;collapsed&quot;: false</td>
      </tr>
      <tr>
        <td id="L751" class="blob-num js-line-number" data-line-number="751"></td>
        <td id="LC751" class="blob-code js-file-line">   },</td>
      </tr>
      <tr>
        <td id="L752" class="blob-num js-line-number" data-line-number="752"></td>
        <td id="LC752" class="blob-code js-file-line">   &quot;outputs&quot;: [</td>
      </tr>
      <tr>
        <td id="L753" class="blob-num js-line-number" data-line-number="753"></td>
        <td id="LC753" class="blob-code js-file-line">    {</td>
      </tr>
      <tr>
        <td id="L754" class="blob-num js-line-number" data-line-number="754"></td>
        <td id="LC754" class="blob-code js-file-line">     &quot;data&quot;: {</td>
      </tr>
      <tr>
        <td id="L755" class="blob-num js-line-number" data-line-number="755"></td>
        <td id="LC755" class="blob-code js-file-line">      &quot;image/png&quot;: [</td>
      </tr>
      <tr>
        <td id="L756" class="blob-num js-line-number" data-line-number="756"></td>
        <td id="LC756" class="blob-code js-file-line">       &quot;iVBORw0KGgoAAAANSUhEUgAAAZUAAAEACAYAAAB78OvLAAAABHNCSVQICAgIfAhkiAAAAAlwSFlz\n&quot;,</td>
      </tr>
      <tr>
        <td id="L757" class="blob-num js-line-number" data-line-number="757"></td>
        <td id="LC757" class="blob-code js-file-line">       &quot;AAALEgAACxIB0t1+/AAAIABJREFUeJzt3Xl8VfWZx/HPYwDFSqWMLQHB0deACq5IC9i6REWNqECx\n&quot;,</td>
      </tr>
      <tr>
        <td id="L758" class="blob-num js-line-number" data-line-number="758"></td>
        <td id="LC758" class="blob-code js-file-line">       &quot;omiRIqMo0s2qUMtUsO0UtHUrCoyDiBtIXRAF0YgEigsoq4gMYI1KhLjiTmV55o/fCV5iknsJJzm5\n&quot;,</td>
      </tr>
      <tr>
        <td id="L759" class="blob-num js-line-number" data-line-number="759"></td>
        <td id="LC759" class="blob-code js-file-line">       &quot;N9/363VeOffc8zv3+WnIc89vO+buiIiIxGGPpAMQEZHcoaQiIiKxUVIREZHYKKmIiEhslFRERCQ2\n&quot;,</td>
      </tr>
      <tr>
        <td id="L760" class="blob-num js-line-number" data-line-number="760"></td>
        <td id="LC760" class="blob-code js-file-line">       &quot;SioiIhKbtEnFzArNbLWZrTWzYVWcc1v0/nIz65SurJm1MLMiM1tjZk+bWfPoeBczWxptK8zsvJQy\n&quot;,</td>
      </tr>
      <tr>
        <td id="L761" class="blob-num js-line-number" data-line-number="761"></td>
        <td id="LC761" class="blob-code js-file-line">       &quot;nc3slehat+5etUVEpDZUm1TMLA8YCxQCHYF+Ztahwjk9gHbu3h64FBiXQdnhQJG7HwzMiV4DvAJ0\n&quot;,</td>
      </tr>
      <tr>
        <td id="L762" class="blob-num js-line-number" data-line-number="762"></td>
        <td id="LC762" class="blob-code js-file-line">       &quot;dvdOwGnA7dF1iK47KPqc9mZWWPNqi4hIbUh3p9IFWOfuJe6+BZgK9KpwTk9gMoC7LwSam1l+mrI7\n&quot;,</td>
      </tr>
      <tr>
        <td id="L763" class="blob-num js-line-number" data-line-number="763"></td>
        <td id="LC763" class="blob-code js-file-line">       &quot;ykQ/e0flv3T37dHxpsDH7r7NzFoBzdx9UfTePeVlRESk/kiXVPYH3k55vT46lsk5rasp29Ldy6L9\n&quot;,</td>
      </tr>
      <tr>
        <td id="L764" class="blob-num js-line-number" data-line-number="764"></td>
        <td id="LC764" class="blob-code js-file-line">       &quot;MqBl+UlRE9irwKvAlSmfsT7lWqWVxCEiIglLl1QyXcPFMjznG9fzsE6Mp7xe5O6HAccAt5rZvhnG\n&quot;,</td>
      </tr>
      <tr>
        <td id="L765" class="blob-num js-line-number" data-line-number="765"></td>
        <td id="LC765" class="blob-code js-file-line">       &quot;ICIiCWuU5v1SoG3K67bsfMdQ2TltonMaV3K8NNovM7N8d98YNW29W/GD3X21mb0OtIuu16aKa+1g\n&quot;,</td>
      </tr>
      <tr>
        <td id="L766" class="blob-num js-line-number" data-line-number="766"></td>
        <td id="LC766" class="blob-code js-file-line">       &quot;ZlrITESkBtw9k5uDtNLdqbxM6BQ/0MyaAOcBMyqcMwO4CMDMugGboqat6srOAAZE+wOA6VH5A82s\n&quot;,</td>
      </tr>
      <tr>
        <td id="L767" class="blob-num js-line-number" data-line-number="767"></td>
        <td id="LC767" class="blob-code js-file-line">       &quot;UbT/70B7YK27bwQ+MbOuZmZA//IyFbl7zm7XXXdd4jGofqpfQ6xfLtfNPd7v4tXeqbj7VjMbCjwF\n&quot;,</td>
      </tr>
      <tr>
        <td id="L768" class="blob-num js-line-number" data-line-number="768"></td>
        <td id="LC768" class="blob-code js-file-line">       &quot;5AET3f01MxscvT/B3WeZWQ8zWwd8Dgysrmx06dHANDMbBJQAfaPjxwHDzWwLsAW41N0/id4bAtxN\n&quot;,</td>
      </tr>
      <tr>
        <td id="L769" class="blob-num js-line-number" data-line-number="769"></td>
        <td id="LC769" class="blob-code js-file-line">       &quot;6MCf5e6zd7/6IiISp3TNX7j7k8CTFY5NqPB6aKZlo+MfAt0rOX4fcF8V11oMHJEuXhERSY5m1GeR\n&quot;,</td>
      </tr>
      <tr>
        <td id="L770" class="blob-num js-line-number" data-line-number="770"></td>
        <td id="LC770" class="blob-code js-file-line">       &quot;goKCpEOoVapfdsvl+uVy3eJmcbenJcnMPJfqIyJSF8wMr6OOehERkYwpqYiISGyUVEREJDZKKiIi\n&quot;,</td>
      </tr>
      <tr>
        <td id="L771" class="blob-num js-line-number" data-line-number="771"></td>
        <td id="LC771" class="blob-code js-file-line">       &quot;EhslFRERiY2SioiIxEZJRUREYqOkIiIisVFSERGR2CipiIhIbJRUREQkNkoqIiISGyUVERGJjZKK\n&quot;,</td>
      </tr>
      <tr>
        <td id="L772" class="blob-num js-line-number" data-line-number="772"></td>
        <td id="LC772" class="blob-code js-file-line">       &quot;iIjERklFRERio6QiIiKxUVIREZHYKKmIiEhslFRERCQ2SioiIhIbJRUREYlNo6QDEJG698UXUFIC\n&quot;,</td>
      </tr>
      <tr>
        <td id="L773" class="blob-num js-line-number" data-line-number="773"></td>
        <td id="LC773" class="blob-code js-file-line">       &quot;b7wBGzfCxx+H7csvYY89IC8P9twT9tsPvvtdaNkS2reH/HwwSzp6qc/M3ZOOITZm5rlUH5E4fPEF\n&quot;,</td>
      </tr>
      <tr>
        <td id="L774" class="blob-num js-line-number" data-line-number="774"></td>
        <td id="LC774" class="blob-code js-file-line">       &quot;PPccLFoEixeHrawM/v3f4aCDoHVr2HffsDVtCtu3w7Zt8K9/wfvvw3vvwYYNsHYtbN4Mhx4KnTvD\n&quot;,</td>
      </tr>
      <tr>
        <td id="L775" class="blob-num js-line-number" data-line-number="775"></td>
        <td id="LC775" class="blob-code js-file-line">       &quot;sceGrV07JZpsZ2a4eyz/F5VURHLQunXw6KPw9NPw4otw1FEhAXTuHLb/+I9wR7KrPvoIXnstJKgX\n&quot;,</td>
      </tr>
      <tr>
        <td id="L776" class="blob-num js-line-number" data-line-number="776"></td>
        <td id="LC776" class="blob-code js-file-line">       &quot;XoDnnw8J5cwzw3bKKSExSXZRUqmCkoo0ZO+8A1OmwNSp8NZb0KcPnHEGFBTAt79dO5/pDqtXw8yZ\n&quot;,</td>
      </tr>
      <tr>
        <td id="L777" class="blob-num js-line-number" data-line-number="777"></td>
        <td id="LC777" class="blob-code js-file-line">       &quot;8MQTsHw59O4N/fuHz61J4pK6p6RSBSUVaWjcYd48uP12eOaZkEj69Qt/0Bsl0GO6YUNIbPfeCx9+\n&quot;,</td>
      </tr>
      <tr>
        <td id="L778" class="blob-num js-line-number" data-line-number="778"></td>
        <td id="LC778" class="blob-code js-file-line">       &quot;CEOGwCWXQIsWdR+LZC7OpJL2e4SZFZrZajNba2bDqjjntuj95WbWKV1ZM2thZkVmtsbMnjaz5tHx\n&quot;,</td>
      </tr>
      <tr>
        <td id="L779" class="blob-num js-line-number" data-line-number="779"></td>
        <td id="LC779" class="blob-code js-file-line">       &quot;U83sZTNbEf08KaVMcXStpdG23+5VXSR7bd0KDzwARx4Z/nAXFMCbb8LEidC9ezIJBaBVK7jySli6\n&quot;,</td>
      </tr>
      <tr>
        <td id="L780" class="blob-num js-line-number" data-line-number="780"></td>
        <td id="LC780" class="blob-code js-file-line">       &quot;FB55BFatCk1tgweHPhnJfdUmFTPLA8YChUBHoJ+ZdahwTg+gnbu3By4FxmVQdjhQ5O4HA3Oi1wDv\n&quot;,</td>
      </tr>
      <tr>
        <td id="L781" class="blob-num js-line-number" data-line-number="781"></td>
        <td id="LC781" class="blob-code js-file-line">       &quot;AWe5+5HAAODelI9y4AJ37xRt79ewziJZa8sWmDQJOnSAcePgL3+BV1+FK66ovSaumurcGSZPDn0w\n&quot;,</td>
      </tr>
      <tr>
        <td id="L782" class="blob-num js-line-number" data-line-number="782"></td>
        <td id="LC782" class="blob-code js-file-line">       &quot;+fmhT2fgQHj99aQjk9qU7k6lC7DO3UvcfQswFehV4ZyewGQAd18INDez/DRld5SJfvaOyi9z943R\n&quot;,</td>
      </tr>
      <tr>
        <td id="L783" class="blob-num js-line-number" data-line-number="783"></td>
        <td id="LC783" class="blob-code js-file-line">       &quot;8VVAUzNrnPJZGmMiDZI7PPYYHH54aFq6806YPx9OP73+j7zKz4dRo8LggQMOgK5dQ5PYxo3py0r2\n&quot;,</td>
      </tr>
      <tr>
        <td id="L784" class="blob-num js-line-number" data-line-number="784"></td>
        <td id="LC784" class="blob-code js-file-line">       &quot;SZdU9gfeTnm9PjqWyTmtqynb0t3Lov0yoGUln30OsDhKSOUmR01fI9LELZIzliyBk0+Ga6+FW26B\n&quot;,</td>
      </tr>
      <tr>
        <td id="L785" class="blob-num js-line-number" data-line-number="785"></td>
        <td id="LC785" class="blob-code js-file-line">       &quot;OXNCc1d9TyYVNW8eksuaNWH48uGHww03hKHLkjvSJZVMe70z+fW2yq4X9azvdNzMDgNGA4NTDl/o\n&quot;,</td>
      </tr>
      <tr>
        <td id="L786" class="blob-num js-line-number" data-line-number="786"></td>
        <td id="LC786" class="blob-code js-file-line">       &quot;7ocDxwPHm1n/DGMTyUqffAJDh0KPHnD++WFk1RlnZF8yqahFi9Bs98ILsGABHHYYzJ6ddFQSl3Td\n&quot;,</td>
      </tr>
      <tr>
        <td id="L787" class="blob-num js-line-number" data-line-number="787"></td>
        <td id="LC787" class="blob-code js-file-line">       &quot;eaVA25TXbQl3HNWd0yY6p3Elx0uj/TIzy3f3jWbWCni3/CQzawM8AvR39zfKj7v7O9HPz8zsAULz\n&quot;,</td>
      </tr>
      <tr>
        <td id="L788" class="blob-num js-line-number" data-line-number="788"></td>
        <td id="LC788" class="blob-code js-file-line">       &quot;WmqfCwAjR47csV9QUEBBQUGaKorUP48+Cj//eUgiq1bl5uip9u1hxgx46im4/HL40Y/g5pvDLH6p\n&quot;,</td>
      </tr>
      <tr>
        <td id="L789" class="blob-num js-line-number" data-line-number="789"></td>
        <td id="LC789" class="blob-code js-file-line">       &quot;XcXFxRQXF9fOxd29yo2QdF4HDgSaAMuADhXO6QHMiva7AS+mKwvcAAyL9ocDo6P95sByoHeFz8gD\n&quot;,</td>
      </tr>
      <tr>
        <td id="L790" class="blob-num js-line-number" data-line-number="790"></td>
        <td id="LC790" class="blob-code js-file-line">       &quot;9ov2GwMPAZdWEq+LZLOyMvcf/9j9kEPc581LOpq689ln7r/+tXvLlu4PPOC+fXvSETUs0d/OavNB\n&quot;,</td>
      </tr>
      <tr>
        <td id="L791" class="blob-num js-line-number" data-line-number="791"></td>
        <td id="LC791" class="blob-code js-file-line">       &quot;plvaeSpmdgZwS/SHfaK7/9nMBkd/wSdE55SP8vocGOjuS6oqGx1vAUwDDgBKgL7uvinqKxkOpA4+\n&quot;,</td>
      </tr>
      <tr>
        <td id="L792" class="blob-num js-line-number" data-line-number="792"></td>
        <td id="LC792" class="blob-code js-file-line">       &quot;PBX4EpgXJZQ8oAi40isEr3kqks1mzgwd2BddFPoe9twz6Yjq3sKFcPHFcMQRMH586IeR2qfJj1VQ\n&quot;,</td>
      </tr>
      <tr>
        <td id="L793" class="blob-num js-line-number" data-line-number="793"></td>
        <td id="LC793" class="blob-code js-file-line">       &quot;UpFs9MUXcNVVMGsW3HMPnHBC0hEl68sv4eqrwwz9e++F449POqLcV6eTH0Wk9qxaBd//fuiUX75c\n&quot;,</td>
      </tr>
      <tr>
        <td id="L794" class="blob-num js-line-number" data-line-number="794"></td>
        <td id="LC794" class="blob-code js-file-line">       &quot;CQXC2mFjx4atb1/4/e/DApeSHXSnIpKQqVNDZ/wNN4RJgfJNGzfChReGNcSmTFEnfm3RnYpIFvvq\n&quot;,</td>
      </tr>
      <tr>
        <td id="L795" class="blob-num js-line-number" data-line-number="795"></td>
        <td id="LC795" class="blob-code js-file-line">       &quot;K/jFL2DECCgqUkKpTn5+GB1WvrrySy8lHZGko6QiUofKyr5ep+vll+Hoo5OOqP5r1AhGjw7Djc88\n&quot;,</td>
      </tr>
      <tr>
        <td id="L796" class="blob-num js-line-number" data-line-number="796"></td>
        <td id="LC796" class="blob-code js-file-line">       &quot;M6wmIPWXkopIHVmxIixRctppYR6KRjbtmj594B//gL/+FX79a/Wz1FfqUxGpAzNnhmauW28NS9NL\n&quot;,</td>
      </tr>
      <tr>
        <td id="L797" class="blob-num js-line-number" data-line-number="797"></td>
        <td id="LC797" class="blob-code js-file-line">       &quot;zX30EfzkJ7D33mGl5mbNko4o+6lPRSRLuIdmm0suCbPHlVB233e+E5Z1adkyDDd+++30ZaTuKKmI\n&quot;,</td>
      </tr>
      <tr>
        <td id="L798" class="blob-num js-line-number" data-line-number="798"></td>
        <td id="LC798" class="blob-code js-file-line">       &quot;1JLt2+FXv4K77grrXHXrlnREuaNx49C3cuGFYUn9ZcuSjkjKqflLpBZ89RUMGAClpeEORf0ntefv\n&quot;,</td>
      </tr>
      <tr>
        <td id="L799" class="blob-num js-line-number" data-line-number="799"></td>
        <td id="LC799" class="blob-code js-file-line">       &quot;fw/Pk3noIc3zqSk1f4nUY599BmefHWaGP/WUEkptO/fc0LdyzjnhmTOSLCUVkRi991549knbtuGb\n&quot;,</td>
      </tr>
      <tr>
        <td id="L800" class="blob-num js-line-number" data-line-number="800"></td>
        <td id="LC800" class="blob-code js-file-line">       &quot;c9OmSUfUMHTvHpa5ueyy8GRMSY6SikhMSktD88upp4b2/qSeE99Q/eAHUFwcFuP8y1+Sjqbh0q+9\n&quot;,</td>
      </tr>
      <tr>
        <td id="L801" class="blob-num js-line-number" data-line-number="801"></td>
        <td id="LC801" class="blob-code js-file-line">       &quot;SAzeegtOOSWM8rrmmqSjabgOOSQ8+OuUU8ITJX/3u6QjaniUVER20xtvhCavX/4yjPaSZLVpE+5Y\n&quot;,</td>
      </tr>
      <tr>
        <td id="L802" class="blob-num js-line-number" data-line-number="802"></td>
        <td id="LC802" class="blob-code js-file-line">       &quot;TjklDJgYOTL7n5aZTZRURHbDunXhj9c114QRSFI/tGr1dWLZsgX+9CcllrqiPhWRGlq9Gk46KSwM\n&quot;,</td>
      </tr>
      <tr>
        <td id="L803" class="blob-num js-line-number" data-line-number="803"></td>
        <td id="LC803" class="blob-code js-file-line">       &quot;qYRS/3zvezB3Ljz5ZHg+i2Yb1A3NUxGpgbVrw8KQf/yjVhmu7z78MKy3duKJoQNfdyzfpHkqIgkq\n&quot;,</td>
      </tr>
      <tr>
        <td id="L804" class="blob-num js-line-number" data-line-number="804"></td>
        <td id="LC804" class="blob-code js-file-line">       &quot;KQnNKtdfr4SSDVq0CI8YePbZ8MAvqV3qUxHZBaWlX/ehDBqUdDSSqe98B55+OtytNG0K116bdES5\n&quot;,</td>
      </tr>
      <tr>
        <td id="L805" class="blob-num js-line-number" data-line-number="805"></td>
        <td id="LC805" class="blob-code js-file-line">       &quot;S0lFJENlZSGhXHYZDB2adDSyq777XZgzJ8wl2ntvjdSrLUoqIhn44IMwa7tfv9DpK9mpVauvE0vT\n&quot;,</td>
      </tr>
      <tr>
        <td id="L806" class="blob-num js-line-number" data-line-number="806"></td>
        <td id="LC806" class="blob-code js-file-line">       &quot;pjB4cNIR5R4lFZE0Pv44dPT26KE2+VxwwAEhsRQUhDuW/v2Tjii3aPSXSDU2b4bCQjj8cPjb3zRy\n&quot;,</td>
      </tr>
      <tr>
        <td id="L807" class="blob-num js-line-number" data-line-number="807"></td>
        <td id="LC807" class="blob-code js-file-line">       &quot;KJe89loYEv6//wtnnZV0NMmKc/SXkopIFbZtCyvgNmkSVsHdQ2Mlc86iReG599Onw49+lHQ0ydGQ\n&quot;,</td>
      </tr>
      <tr>
        <td id="L808" class="blob-num js-line-number" data-line-number="808"></td>
        <td id="LC808" class="blob-code js-file-line">       &quot;YpFa5g5DhsCnn8LkyUoouapLF7j/fujTB1auTDqa3KB/KiKVuO46WLwYHnkE9twz6WikNp12Gtxy\n&quot;,</td>
      </tr>
      <tr>
        <td id="L809" class="blob-num js-line-number" data-line-number="809"></td>
        <td id="LC809" class="blob-code js-file-line">       &quot;C5xxBrz5ZtLRZD911ItUMHYsTJ0aVrtt1izpaKQu9OsXnoVz2mnh//t3v5t0RNlLfSoiKaZNgyuv\n&quot;,</td>
      </tr>
      <tr>
        <td id="L810" class="blob-num js-line-number" data-line-number="810"></td>
        <td id="LC810" class="blob-code js-file-line">       &quot;hH/8Aw46KOlopK797ndfz77fZ5+ko6k76qivgpKK7I5nn4Xzz4dnnoEjj0w6GkmCO1x6KaxfD48/\n&quot;,</td>
      </tr>
      <tr>
        <td id="L811" class="blob-num js-line-number" data-line-number="811"></td>
        <td id="LC811" class="blob-code js-file-line">       &quot;3nAetFanHfVmVmhmq81srZkNq+Kc26L3l5tZp3RlzayFmRWZ2Roze9rMmkfHTzWzl81sRfTzpJQy\n&quot;,</td>
      </tr>
      <tr>
        <td id="L812" class="blob-num js-line-number" data-line-number="812"></td>
        <td id="LC812" class="blob-code js-file-line">       &quot;nc3slehat+5etUV29uqrIaFMm6aE0pCZwbhxYX/IEK1sXBPVJhUzywPGAoVAR6CfmXWocE4PoJ27\n&quot;,</td>
      </tr>
      <tr>
        <td id="L813" class="blob-num js-line-number" data-line-number="813"></td>
        <td id="LC813" class="blob-code js-file-line">       &quot;twcuBcZlUHY4UOTuBwNzotcA7wFnufuRwADg3pSPGgcMij6nvZkV1qzKIjvbuDEMK73ppjAhThq2\n&quot;,</td>
      </tr>
      <tr>
        <td id="L814" class="blob-num js-line-number" data-line-number="814"></td>
        <td id="LC814" class="blob-code js-file-line">       &quot;Ro3Cl4uXXoLRo5OOJvuku1PpAqxz9xJ33wJMBXpVOKcnMBnA3RcCzc0sP03ZHWWin72j8svcfWN0\n&quot;,</td>
      </tr>
      <tr>
        <td id="L815" class="blob-num js-line-number" data-line-number="815"></td>
        <td id="LC815" class="blob-code js-file-line">       &quot;fBXQ1Mwam1kroJm7L4reu6e8jMju+PzzMPFt0CD46U+Tjkbqi2bNYOZMGD8+zFGSzKVLKvsDb6e8\n&quot;,</td>
      </tr>
      <tr>
        <td id="L816" class="blob-num js-line-number" data-line-number="816"></td>
        <td id="LC816" class="blob-code js-file-line">       &quot;Xh8dy+Sc1tWUbenuZdF+GdCyks8+B1gcJaT9o/LlSiuJQ2SXbNsWRv0ccUR40JZIqtat4YknwsKT\n&quot;,</td>
      </tr>
      <tr>
        <td id="L817" class="blob-num js-line-number" data-line-number="817"></td>
        <td id="LC817" class="blob-code js-file-line">       &quot;8+cnHU32SNcNlWmLYiYdPFbZ9dzdzWyn42Z2GDAaODXDz99h5MiRO/YLCgooUHuGVMI9/LH44gt4\n&quot;,</td>
      </tr>
      <tr>
        <td id="L818" class="blob-num js-line-number" data-line-number="818"></td>
        <td id="LC818" class="blob-code js-file-line">       &quot;6CEtvyKVO+KIcKdy7rkwbx4cemjSEcWjuLiY4uLiWrl2uqRSCrRNed2Wne8YKjunTXRO40qOl0b7\n&quot;,</td>
      </tr>
      <tr>
        <td id="L819" class="blob-num js-line-number" data-line-number="819"></td>
        <td id="LC819" class="blob-code js-file-line">       &quot;ZWaW7+4bo6atd8tPMrM2wCNAf3d/I+Uz2lRxrZ2kJhWRqtx6a3jU7IIFYRkWkap07w5jxoQFRV94\n&quot;,</td>
      </tr>
      <tr>
        <td id="L820" class="blob-num js-line-number" data-line-number="820"></td>
        <td id="LC820" class="blob-code js-file-line">       &quot;AVpW1q6SZSp+4R41alRs107X/PUyoVP8QDNrApwHzKhwzgzgIgAz6wZsipq2qis7g9ART/RzelS+\n&quot;,</td>
      </tr>
      <tr>
        <td id="L821" class="blob-num js-line-number" data-line-number="821"></td>
        <td id="LC821" class="blob-code js-file-line">       &quot;OTATGObuL5R/gLtvAD4xs65mZkD/8jIiu+rRR+HGG0ObefPmSUcj2eBnPwurGZ99dri7laqlnadi\n&quot;,</td>
      </tr>
      <tr>
        <td id="L822" class="blob-num js-line-number" data-line-number="822"></td>
        <td id="LC822" class="blob-code js-file-line">       &quot;ZmcAtwB5wER3/7OZDQZw9wnROeWjvD4HBrr7kqrKRsdbANOAA4ASoK+7bzKzEYSRYGtTQjjV3d83\n&quot;,</td>
      </tr>
      <tr>
        <td id="L823" class="blob-num js-line-number" data-line-number="823"></td>
        <td id="LC823" class="blob-code js-file-line">       &quot;s87A3UBTYJa7/6KSWDVPRapVvoDg7NnQuXPS0Ug2cQ+J5auvwooLubQenCY/VkFJRapTWhoWEBw3\n&quot;,</td>
      </tr>
      <tr>
        <td id="L824" class="blob-num js-line-number" data-line-number="824"></td>
        <td id="LC824" class="blob-code js-file-line">       &quot;Dnr2TDoayUabN8PJJ4cmseuvTzqa+GiVYpFd9OWX0Ls3/PznSihSc3vtFZpP77lHQ42rojsVyXnu\n&quot;,</td>
      </tr>
      <tr>
        <td id="L825" class="blob-num js-line-number" data-line-number="825"></td>
        <td id="LC825" class="blob-code js-file-line">       &quot;cOGFYYTXffdppJfsvhUr4JRTwlIu3bolHc3u052KyC4YPRrWrg1P+FNCkTgceSTcdReccw689VbS\n&quot;,</td>
      </tr>
      <tr>
        <td id="L826" class="blob-num js-line-number" data-line-number="826"></td>
        <td id="LC826" class="blob-code js-file-line">       &quot;0dQvDWS5NGmoZsyA22+HhQuhadOko5FccvbZsGZNaE5dsKBhrWpcHTV/Sc5auTI8g/yJJ6Br16Sj\n&quot;,</td>
      </tr>
      <tr>
        <td id="L827" class="blob-num js-line-number" data-line-number="827"></td>
        <td id="LC827" class="blob-code js-file-line">       &quot;kVzkDpdcEp7F8sgjkJeXdEQ1o+YvkTQ++AB69YKbb1ZCkdpjBnfcAR9/DNdem3Q09YOSiuScLVvg\n&quot;,</td>
      </tr>
      <tr>
        <td id="L828" class="blob-num js-line-number" data-line-number="828"></td>
        <td id="LC828" class="blob-code js-file-line">       &quot;Jz8JmxaJlNrWpAk8/HDY7r476WiSp+YvyTlXXBGeNf7YY9nbHCHZZ/VqOOGE0Ax23HFJR7Nr1Pwl\n&quot;,</td>
      </tr>
      <tr>
        <td id="L829" class="blob-num js-line-number" data-line-number="829"></td>
        <td id="LC829" class="blob-code js-file-line">       &quot;UoXx48OaXg88oIQidevQQ8P8lb59G/aIMN2pSM4oLobzzoPnnoN27ZKORhqqv/wlfKlZsAD23jvp\n&quot;,</td>
      </tr>
      <tr>
        <td id="L830" class="blob-num js-line-number" data-line-number="830"></td>
        <td id="LC830" class="blob-code js-file-line">       &quot;aDKjZVqqoKTScP3zn/DDH8L994dJaSJJcYeLLgp9e1OmZMfcKDV/iaT49NMw0mvECCUUSZ4Z/M//\n&quot;,</td>
      </tr>
      <tr>
        <td id="L831" class="blob-num js-line-number" data-line-number="831"></td>
        <td id="LC831" class="blob-code js-file-line">       &quot;hC86DfFxxLpTkay2fTv06QPf+x5MmJAd3wqlYSgtDcPZx40LEyXrM92piER+/3v48EMYO1YJReqX\n&quot;,</td>
      </tr>
      <tr>
        <td id="L832" class="blob-num js-line-number" data-line-number="832"></td>
        <td id="LC832" class="blob-code js-file-line">       &quot;/fcPTxW9+GJYtSrpaOqOkopkralTQx/Kww/r6Y1SP3XrFjrue/YMX34aAjV/SVZavBgKC2HOnLC4\n&quot;,</td>
      </tr>
      <tr>
        <td id="L833" class="blob-num js-line-number" data-line-number="833"></td>
        <td id="LC833" class="blob-code js-file-line">       &quot;n0h99pvfhJWNn3wSGtXDFRfV/CUN2oYN8OMfh85QJRTJBmPGhCdFXn110pHUPiUVySqbN4eEcskl\n&quot;,</td>
      </tr>
      <tr>
        <td id="L834" class="blob-num js-line-number" data-line-number="834"></td>
        <td id="LC834" class="blob-code js-file-line">       &quot;4adINmjUKDTXzpwJkyYlHU3tUvOXZA13+NnPwlMcH3xQHfOSfV57DU48MSwhdOyxSUfzNTV/SYN0\n&quot;,</td>
      </tr>
      <tr>
        <td id="L835" class="blob-num js-line-number" data-line-number="835"></td>
        <td id="LC835" class="blob-code js-file-line">       &quot;003wyith0T4lFMlGHTqEO5Wf/ATWr086mtqhOxXJCk8+CYMGhYdttW2bdDQiu2f06DDc+B//qB8P\n&quot;,</td>
      </tr>
      <tr>
        <td id="L836" class="blob-num js-line-number" data-line-number="836"></td>
        <td id="LC836" class="blob-code js-file-line">       &quot;j9MyLVVQUslN5au/Tp8elmIRyXbucOGFYf/++5O/81bzlzQYH30UxviPGaOEIrnDDCZODI8jvuGG\n&quot;,</td>
      </tr>
      <tr>
        <td id="L837" class="blob-num js-line-number" data-line-number="837"></td>
        <td id="LC837" class="blob-code js-file-line">       &quot;pKOJl+5UpN7auhV69IDDDw/9KSK5Zv36sJTLhAlw1lnJxaHmryooqeSWX/0qNH098UT9nDAmEocX\n&quot;,</td>
      </tr>
      <tr>
        <td id="L838" class="blob-num js-line-number" data-line-number="838"></td>
        <td id="LC838" class="blob-code js-file-line">       &quot;XggLohYXQ8eOycSg5i/JeRMnhs75qVOVUCS3HXss3HhjaOb94IOko9l9ulORemfBAjjnHJg/Hw45\n&quot;,</td>
      </tr>
      <tr>
        <td id="L839" class="blob-num js-line-number" data-line-number="839"></td>
        <td id="LC839" class="blob-code js-file-line">       &quot;JOloROrGVVfB0qUwezY0bly3n63mryooqWS/t94Ki/BNmgSnn550NCJ1Z9u20K/Srh387W91+9l1\n&quot;,</td>
      </tr>
      <tr>
        <td id="L840" class="blob-num js-line-number" data-line-number="840"></td>
        <td id="LC840" class="blob-code js-file-line">       &quot;2vxlZoVmttrM1prZsCrOuS16f7mZdUpX1sxamFmRma0xs6fNrHnK8blm9qmZ/a3CZxRH11oabfvV\n&quot;,</td>
      </tr>
      <tr>
        <td id="L841" class="blob-num js-line-number" data-line-number="841"></td>
        <td id="LC841" class="blob-code js-file-line">       &quot;vNpSH33+eWhbvvpqJRRpePLywpMii4rCunbZqtqkYmZ5wFigEOgI9DOzDhXO6QG0c/f2wKXAuAzK\n&quot;,</td>
      </tr>
      <tr>
        <td id="L842" class="blob-num js-line-number" data-line-number="842"></td>
        <td id="LC842" class="blob-code js-file-line">       &quot;DgeK3P1gYE70GmAzMAK4qpJwHLjA3TtF2/u7Wlmpv7ZvhwED4OijQwe9SEPUvDnMmAH/9V+h+Tcb\n&quot;,</td>
      </tr>
      <tr>
        <td id="L843" class="blob-num js-line-number" data-line-number="843"></td>
        <td id="LC843" class="blob-code js-file-line">       &quot;pbtT6QKsc/cSd98CTAV6VTinJzAZwN0XAs3NLD9N2R1lop+9o/JfuPtzwL+qiEeLc+SoUaPC6sPj\n&quot;,</td>
      </tr>
      <tr>
        <td id="L844" class="blob-num js-line-number" data-line-number="844"></td>
        <td id="LC844" class="blob-code js-file-line">       &quot;xyc/EUwkSQcfDPfeC337QklJ0tHsunRJZX/g7ZTX66NjmZzTupqyLd29LNovA1pWuGZVHSOTo6av\n&quot;,</td>
      </tr>
      <tr>
        <td id="L845" class="blob-num js-line-number" data-line-number="845"></td>
        <td id="LC845" class="blob-code js-file-line">       &quot;EWniliwybRpMngyPPAJ77pl0NCLJO+00GD48NAd/9lnS0eyadIM1M+31zuS7pVV2PXd3M8vkcy50\n&quot;,</td>
      </tr>
      <tr>
        <td id="L846" class="blob-num js-line-number" data-line-number="846"></td>
        <td id="LC846" class="blob-code js-file-line">       &quot;93fMbB/gYTPr7+73Vjxp5MiRO/YLCgooKCjI4NKSlMWLYejQ0I7csuJXC5EG7Je/DAuoXnRRWCds\n&quot;,</td>
      </tr>
      <tr>
        <td id="L847" class="blob-num js-line-number" data-line-number="847"></td>
        <td id="LC847" class="blob-code js-file-line">       &quot;jxgngBQXF1NcXBzfBVOkSyqlQOryfW0JdxzVndMmOqdxJcdLo/0yM8t3941m1gp4N12g7v5O9PMz\n&quot;,</td>
      </tr>
      <tr>
        <td id="L848" class="blob-num js-line-number" data-line-number="848"></td>
        <td id="LC848" class="blob-code js-file-line">       &quot;M3uA0LxWbVKR+m3DBujdO8wmPuqopKMRqV/M4I474OSTYeRIuP76+K5d8Qv3qFGjYrt2utz3MtDe\n&quot;,</td>
      </tr>
      <tr>
        <td id="L849" class="blob-num js-line-number" data-line-number="849"></td>
        <td id="LC849" class="blob-code js-file-line">       &quot;zA40sybAecCMCufMAC4CMLNuwKaoaau6sjOAAdH+AGB6hWvudOdjZnnlo73MrDFwNvBKZlWU+mjz\n&quot;,</td>
      </tr>
      <tr>
        <td id="L850" class="blob-num js-line-number" data-line-number="850"></td>
        <td id="LC850" class="blob-code js-file-line">       &quot;5pBQBg/Ww7ZEqrLnnqFZePLk0EycDdLOUzGzM4BbgDxgorv/2cwGA7j7hOic8lFenwMD3X1JVWWj\n&quot;,</td>
      </tr>
      <tr>
        <td id="L851" class="blob-num js-line-number" data-line-number="851"></td>
        <td id="LC851" class="blob-code js-file-line">       &quot;4y2AacABQAnQ1903Re+VAM2AJsAm4FTgLWA+4e4nDygCrqw4KUXzVLKDe7il37oVHnhAHfMi6Sxd\n&quot;,</td>
      </tr>
      <tr>
        <td id="L852" class="blob-num js-line-number" data-line-number="852"></td>
        <td id="LC852" class="blob-code js-file-line">       &quot;GvpZnnoKjjkm/utr8mMVlFSyw5gx8Pe/hyGTe++ddDQi2eHvf4ff/AYWLYL8/HivHWdS0apKUqce\n&quot;,</td>
      </tr>
      <tr>
        <td id="L853" class="blob-num js-line-number" data-line-number="853"></td>
        <td id="LC853" class="blob-code js-file-line">       &quot;fzzMFl64UAlFZFecey6sXAl9+sDcufV3pKTuVKTOrFwZOh2feAK6dEk6GpHss317eBTxvvvCXXfF\n&quot;,</td>
      </tr>
      <tr>
        <td id="L854" class="blob-num js-line-number" data-line-number="854"></td>
        <td id="LC854" class="blob-code js-file-line">       &quot;13SsVYol67z3XliF9ZZblFBEamqPPeCee2DJErj55qSjqZyav6TWffVV+HZ1/vlwwQVJRyOS3fbZ\n&quot;,</td>
      </tr>
      <tr>
        <td id="L855" class="blob-num js-line-number" data-line-number="855"></td>
        <td id="LC855" class="blob-code js-file-line">       &quot;Jyzlcuyx0L49nH120hHtTM1fUqvcYeBA+PhjePjheCdwiTRkL74YEkpRUVgzb3eo+Uuyxp//HPpS\n&quot;,</td>
      </tr>
      <tr>
        <td id="L856" class="blob-num js-line-number" data-line-number="856"></td>
        <td id="LC856" class="blob-code js-file-line">       &quot;7rtPCUUkTt26we23h2bld95JOpqvqflLas2DD4bZ8i+8AN/6VtLRiOSevn1h3bpwxzJ/fv34d6bm\n&quot;,</td>
      </tr>
      <tr>
        <td id="L857" class="blob-num js-line-number" data-line-number="857"></td>
        <td id="LC857" class="blob-code js-file-line">       &quot;L6kV5c/dLirSEiwitam8iXnTptDEnJe369dQ85fUa2+8ER4HPGmSEopIbTMLD/XatCmsbJw0JRWJ\n&quot;,</td>
      </tr>
      <tr>
        <td id="L858" class="blob-num js-line-number" data-line-number="858"></td>
        <td id="LC858" class="blob-code js-file-line">       &quot;1aZN4ZGov/0tnHlm0tGINAxNmoS7lMceS/6pkWr+kths2RISyaGHwm23JR2NSMOzdi0cdxzcfz90\n&quot;,</td>
      </tr>
      <tr>
        <td id="L859" class="blob-num js-line-number" data-line-number="859"></td>
        <td id="LC859" class="blob-code js-file-line">       &quot;7555Oa39VQUlleS4w+WXw9tvh29LjTQERCQR8+aFJV3mzYMOHdKfD+pTkXroppvg+edh6lQlFJEk\n&quot;,</td>
      </tr>
      <tr>
        <td id="L860" class="blob-num js-line-number" data-line-number="860"></td>
        <td id="LC860" class="blob-code js-file-line">       &quot;nXgi3HhjaDV4N+2TquKnf/6y2x58MCy/8txz0KxZ0tGIyIAB8M9/hv7NuXPrdqixmr9ktxQXh7Hy\n&quot;,</td>
      </tr>
      <tr>
        <td id="L861" class="blob-num js-line-number" data-line-number="861"></td>
        <td id="LC861" class="blob-code js-file-line">       &quot;zzwDRx6ZdDQiUs4dBg2CsrL0TdJq/pJ6YeXKkFCmTFFCEalvzMLk4+3bQ39nXX3fVlKRGlm/Hnr0\n&quot;,</td>
      </tr>
      <tr>
        <td id="L862" class="blob-num js-line-number" data-line-number="862"></td>
        <td id="LC862" class="blob-code js-file-line">       &quot;CCulnnJK0tGISGUaNw4P91qyBP7wh7r5TPWpyC77+OOQUK64Ai68MOloRKQ6++wDM2fCD38IbdrA\n&quot;,</td>
      </tr>
      <tr>
        <td id="L863" class="blob-num js-line-number" data-line-number="863"></td>
        <td id="LC863" class="blob-code js-file-line">       &quot;xRfX7uepT0V2yb/+BWecAR07hic46vnyItnh//4vjAybNCn8G06leSpVUFKpXdu3w09/Cps3h1vq\n&quot;,</td>
      </tr>
      <tr>
        <td id="L864" class="blob-num js-line-number" data-line-number="864"></td>
        <td id="LC864" class="blob-code js-file-line">       &quot;mqwxJCLJKV+Tb9Ys+P73vz6ujnpJxLBh8OabYbauEopI9jn2WLjzzrBc/uuv185nqE9FMjJmTPh2\n&quot;,</td>
      </tr>
      <tr>
        <td id="L865" class="blob-num js-line-number" data-line-number="865"></td>
        <td id="LC865" class="blob-code js-file-line">       &quot;M38+NG2adDQiUlO9esGGDXD66bBgAeTnx3t9JRVJ6847Yfz48Av4b/+WdDQisrsuuyzMti8sDMu5\n&quot;,</td>
      </tr>
      <tr>
        <td id="L866" class="blob-num js-line-number" data-line-number="866"></td>
        <td id="LC866" class="blob-code js-file-line">       &quot;xEl9KlKthx6CX/wi/OK1b590NCISF/fwb3vFCpg/X30qUgeKimDIkNDspYQiklvM4NZbYd99472u\n&quot;,</td>
      </tr>
      <tr>
        <td id="L867" class="blob-num js-line-number" data-line-number="867"></td>
        <td id="LC867" class="blob-code js-file-line">       &quot;kopUauHCMAfl4Yfh6KOTjkZEasMee8APfhDzNeO9nOSCV18No0MmTYLjj086GhHJJkoqspPXXw+d\n&quot;,</td>
      </tr>
      <tr>
        <td id="L868" class="blob-num js-line-number" data-line-number="868"></td>
        <td id="LC868" class="blob-code js-file-line">       &quot;dzfdpCc3isiuS5tUzKzQzFab2VozG1bFObdF7y83s07pyppZCzMrMrM1Zva0mTVPOT7XzD41s79V\n&quot;,</td>
      </tr>
      <tr>
        <td id="L869" class="blob-num js-line-number" data-line-number="869"></td>
        <td id="LC869" class="blob-code js-file-line">       &quot;+IzOZvZKdK1ba15lqcqbb4Z1vH73Oy2/IiI1U21SMbM8YCxQCHQE+plZhwrn9ADauXt74FJgXAZl\n&quot;,</td>
      </tr>
      <tr>
        <td id="L870" class="blob-num js-line-number" data-line-number="870"></td>
        <td id="LC870" class="blob-code js-file-line">       &quot;hwNF7n4wMCd6DbAZGAFcVUk444BB0ee0N7PCXayrVGP9ejj5ZLjyyjDcUESkJtLdqXQB1rl7ibtv\n&quot;,</td>
      </tr>
      <tr>
        <td id="L871" class="blob-num js-line-number" data-line-number="871"></td>
        <td id="LC871" class="blob-code js-file-line">       &quot;AaYCvSqc0xOYDODuC4HmZpafpuyOMtHP3lH5L9z9OeBfqR9gZq2AZu6+KDp0T3kZ2X0bNoQ7lMsu\n&quot;,</td>
      </tr>
      <tr>
        <td id="L872" class="blob-num js-line-number" data-line-number="872"></td>
        <td id="LC872" class="blob-code js-file-line">       &quot;C0MMRaThiHv9vnRJZX/g7ZTX66NjmZzTupqyLd29LNovA1pWuGbFySb7R+XLlVYSh9TAe+9B9+7Q\n&quot;,</td>
      </tr>
      <tr>
        <td id="L873" class="blob-num js-line-number" data-line-number="873"></td>
        <td id="LC873" class="blob-code js-file-line">       &quot;vz9cfXXS0YhItks3oz7TmYSZ5Dqr7Hru7mYW24zFkSNH7tgvKCigoKAgrkvnnA8+CAmlTx8YMSLp\n&quot;,</td>
      </tr>
      <tr>
        <td id="L874" class="blob-num js-line-number" data-line-number="874"></td>
        <td id="LC874" class="blob-code js-file-line">       &quot;aESkrhQXF1NcXAyEpZfilC6plAJtU163Zec7hsrOaROd07iS46XRfpmZ5bv7xqhp690M4mhTxbV2\n&quot;,</td>
      </tr>
      <tr>
        <td id="L875" class="blob-num js-line-number" data-line-number="875"></td>
        <td id="LC875" class="blob-code js-file-line">       &quot;kppUpGoffhjW/jn9dLj++qSjEZG6lPqF+49/hLlzR8V27XTNXy8TOsUPNLMmwHnAjArnzAAuAjCz\n&quot;,</td>
      </tr>
      <tr>
        <td id="L876" class="blob-num js-line-number" data-line-number="876"></td>
        <td id="LC876" class="blob-code js-file-line">       &quot;bsCmqGmrurIzgAHR/gBgeoVr7nTn4+4bgE/MrKuZGdC/kjKSofffD30oJ54YForUM1FEJC7V3qm4\n&quot;,</td>
      </tr>
      <tr>
        <td id="L877" class="blob-num js-line-number" data-line-number="877"></td>
        <td id="LC877" class="blob-code js-file-line">       &quot;+1YzGwo8BeQBE939NTMbHL0/wd1nmVkPM1sHfA4MrK5sdOnRwDQzGwSUAH3LP9PMSoBmQBMz6w2c\n&quot;,</td>
      </tr>
      <tr>
        <td id="L878" class="blob-num js-line-number" data-line-number="878"></td>
        <td id="LC878" class="blob-code js-file-line">       &quot;6u6rgSHA3UBTYJa7z47jP0BD8+67IaGcdRb8938roYg0dHH/DdCCkg1I+Sivc8+FkSOVUEQE/vQn\n&quot;,</td>
      </tr>
      <tr>
        <td id="L879" class="blob-num js-line-number" data-line-number="879"></td>
        <td id="LC879" class="blob-code js-file-line">       &quot;GDFCC0rKLlq/PjR3XXABjBqlhCIitUNJpQF4882QUP7zPzXKS0Rql5JKjluzJiSUn/8crrkm6WhE\n&quot;,</td>
      </tr>
      <tr>
        <td id="L880" class="blob-num js-line-number" data-line-number="880"></td>
        <td id="LC880" class="blob-code js-file-line">       &quot;pL6Ju9VCT37MYYsXhw75P/0JLr446WhEpCFQUslRxcXQty9MmAA//nHS0YhIQ6GkkoOmT4dLLoFp\n&quot;,</td>
      </tr>
      <tr>
        <td id="L881" class="blob-num js-line-number" data-line-number="881"></td>
        <td id="LC881" class="blob-code js-file-line">       &quot;0+Ckk5KORkQaEvWp5Ji774bLL4cnn1RCEZG6pzuVHOEON9wAd9wBc+fCoYcmHZGIZAN11Ms3bN0K\n&quot;,</td>
      </tr>
      <tr>
        <td id="L882" class="blob-num js-line-number" data-line-number="882"></td>
        <td id="LC882" class="blob-code js-file-line">       &quot;Q4fCiy/C88/D/lq/WUQSoqSS5T79NHTIu4fVRr/97aQjEpGGTH0qWeydd+CEE6BtW3j8cSUUEUme\n&quot;,</td>
      </tr>
      <tr>
        <td id="L883" class="blob-num js-line-number" data-line-number="883"></td>
        <td id="LC883" class="blob-code js-file-line">       &quot;kkqWeuUVOPZYOO+8MGy4ceOkIxIRUfNXVpoxIyy5cuut0K9f0tGISDZTR30D5h6Wqx83Dp54Arp0\n&quot;,</td>
      </tr>
      <tr>
        <td id="L884" class="blob-num js-line-number" data-line-number="884"></td>
        <td id="LC884" class="blob-code js-file-line">       &quot;SToiEZGdKalkic8/D0utlJTAokXQunXSEYmIfJP6VLLAW2/BccfBXnvBvHlKKCJSfymp1HNz5kDX\n&quot;,</td>
      </tr>
      <tr>
        <td id="L885" class="blob-num js-line-number" data-line-number="885"></td>
        <td id="LC885" class="blob-code js-file-line">       &quot;rtC/f5gtv9deSUckIlI1NX/VU9u3h/6T22+H++4LT2wUEYmbOuobgPffD3cmn30Wlq9Xc5eIZAs1\n&quot;,</td>
      </tr>
      <tr>
        <td id="L886" class="blob-num js-line-number" data-line-number="886"></td>
        <td id="LC886" class="blob-code js-file-line">       &quot;f9UzL74InTvDEUfAs88qoYhIdtGdSj2xfTvcfDOMGQN33gm9eiUdkYjIrlNSqQdKS2HAANi8GRYu\n&quot;,</td>
      </tr>
      <tr>
        <td id="L887" class="blob-num js-line-number" data-line-number="887"></td>
        <td id="LC887" class="blob-code js-file-line">       &quot;hIMOSjoiEWko4u5TUfNXwh59FI45JjxHvrhYCUVEspvuVBLy2Wfw61+HfpPHHoNu3ZKOSERk9+lO\n&quot;,</td>
      </tr>
      <tr>
        <td id="L888" class="blob-num js-line-number" data-line-number="888"></td>
        <td id="LC888" class="blob-code js-file-line">       &quot;JQHFxXDUUbBlCyxdqoQiIrlDdyp16NNPYdiwsCDk+PFw1llJRyQiEi/dqdSRZ54Jw4Q3b4aVK5VQ\n&quot;,</td>
      </tr>
      <tr>
        <td id="L889" class="blob-num js-line-number" data-line-number="889"></td>
        <td id="LC889" class="blob-code js-file-line">       &quot;RKR+0OTHLPPBB+HupKgoPPeksDDpiEREak/aOxUzKzSz1Wa21syGVXHObdH7y82sU7qyZtbCzIrM\n&quot;,</td>
      </tr>
      <tr>
        <td id="L890" class="blob-num js-line-number" data-line-number="890"></td>
        <td id="LC890" class="blob-code js-file-line">       &quot;bI2ZPW1mzVPe+210/mozOy3leHF0bGm07Vfzate+7dvhrrvgsMNg773DQ7WUUEQk11V7p2JmecBY\n&quot;,</td>
      </tr>
      <tr>
        <td id="L891" class="blob-num js-line-number" data-line-number="891"></td>
        <td id="LC891" class="blob-code js-file-line">       &quot;oDtQCrxkZjPc/bWUc3oA7dy9vZl1BcYB3dKUHQ4UufsNUbIZDgw3s47AeUBHYH/gGTNr7+4OOHCB\n&quot;,</td>
      </tr>
      <tr>
        <td id="L892" class="blob-num js-line-number" data-line-number="892"></td>
        <td id="LC892" class="blob-code js-file-line">       &quot;uy+J9b9ALVixAi6/HLZtgyefhE6d0pcREckF6e5UugDr3L3E3bcAU4GKc717ApMB3H0h0NzM8tOU\n&quot;,</td>
      </tr>
      <tr>
        <td id="L893" class="blob-num js-line-number" data-line-number="893"></td>
        <td id="LC893" class="blob-code js-file-line">       &quot;3VEm+tk72u8FTHH3Le5eAqwDuqZ8Vsytf/HatCkMEz71VPjZz+D555VQRKRhSZdU9gfeTnm9PjqW\n&quot;,</td>
      </tr>
      <tr>
        <td id="L894" class="blob-num js-line-number" data-line-number="894"></td>
        <td id="LC894" class="blob-code js-file-line">       &quot;yTmtqynb0t3Lov0yoGW03zo6L7VM6upXk6OmrxFp4q5TW7bA2LFwyCFh/snKlXDJJbCHhkGISD1X\n&quot;,</td>
      </tr>
      <tr>
        <td id="L895" class="blob-num js-line-number" data-line-number="895"></td>
        <td id="LC895" class="blob-code js-file-line">       &quot;1x31nuF1MgnLKrueu7uZZfI5F7r7O2a2D/CwmfV393szjK9WuIfH+l59NRxwwNcjvEREGqp0SaUU\n&quot;,</td>
      </tr>
      <tr>
        <td id="L896" class="blob-num js-line-number" data-line-number="896"></td>
        <td id="LC896" class="blob-code js-file-line">       &quot;aJvyui0730lUdk6b6JzGlRwvjfbLzCzf3TeaWSvg3WquVQrg7u9EPz8zswcIzWvfSCojR47csV9Q\n&quot;,</td>
      </tr>
      <tr>
        <td id="L897" class="blob-num js-line-number" data-line-number="897"></td>
        <td id="LC897" class="blob-code js-file-line">       &quot;UEBBQUGaKtbMSy/B8OGwcWNYCLKwMP6MLyJSG4qLiykuLgZCM32s3L3KjZB0XgcOBJoAy4AOFc7p\n&quot;,</td>
      </tr>
      <tr>
        <td id="L898" class="blob-num js-line-number" data-line-number="898"></td>
        <td id="LC898" class="blob-code js-file-line">       &quot;AcyK9rsBL6YrC9wADIv2hwOjo/2O0XlNgIOi8gbkAftF5zQGHgIurSRer23Llrn37Onepo37+PHu\n&quot;,</td>
      </tr>
      <tr>
        <td id="L899" class="blob-num js-line-number" data-line-number="899"></td>
        <td id="LC899" class="blob-code js-file-line">       &quot;W7bU+keKiNSaG28MA6G8mlywK1u1dyruvtXMhgJPRX/YJ7r7a2Y2OHp/grvPMrMeZrYO+BwYWF3Z\n&quot;,</td>
      </tr>
      <tr>
        <td id="L900" class="blob-num js-line-number" data-line-number="900"></td>
        <td id="LC900" class="blob-code js-file-line">       &quot;6NKjgWlmNggoAfpGZVaZ2TRgFbAVGOLubmZ7AbPNrHF0rSLgzurTZbxWrYLrroMFC8IdyoMP6tG+\n&quot;,</td>
      </tr>
      <tr>
        <td id="L901" class="blob-num js-line-number" data-line-number="901"></td>
        <td id="LC901" class="blob-code js-file-line">       &quot;IpL94m6TFpBfAAAHRklEQVRhMfdMu03qPzPzuOuzbFl4xsmcOaHvZMgQ+Na3Yv0IEZHE/PWvcNVV\n&quot;,</td>
      </tr>
      <tr>
        <td id="L902" class="blob-num js-line-number" data-line-number="902"></td>
        <td id="LC902" class="blob-code js-file-line">       &quot;hrvHkl40PqkS7mHRx8JCOPPM8CTG118PSUUJRUSkalqmJcW2bWEZ+jFjwpyTa64Jr/fcM+nIRESy\n&quot;,</td>
      </tr>
      <tr>
        <td id="L903" class="blob-num js-line-number" data-line-number="903"></td>
        <td id="LC903" class="blob-code js-file-line">       &quot;g5IK8P77MHEi3HFHeCb8sGHhcb55eUlHJiKSXRp089fixTBwILRvD6tXw8MPwwsvQJ8+Sigi0jBo\n&quot;,</td>
      </tr>
      <tr>
        <td id="L904" class="blob-num js-line-number" data-line-number="904"></td>
        <td id="LC904" class="blob-code js-file-line">       &quot;leLd9NFHMGUKTJoE774bOt7XroX96vXylCIi2aFBJJVt28Js90mTYPZsOP10+MMfwhpduiMREYlP\n&quot;,</td>
      </tr>
      <tr>
        <td id="L905" class="blob-num js-line-number" data-line-number="905"></td>
        <td id="LC905" class="blob-code js-file-line">       &quot;ziYV9zDrfdq0MKekZcvQ1HXHHdCiRdLRiYjkppxLKkuWhCQybRo0aQLnnReWnz/88KQjExHJfTmX\n&quot;,</td>
      </tr>
      <tr>
        <td id="L906" class="blob-num js-line-number" data-line-number="906"></td>
        <td id="LC906" class="blob-code js-file-line">       &quot;VPr2Ddv06XDkkVqPS0SkOuqoT2PtWiUSEZGk5NyQYiUUEZHk5FxSERGR5CipiIhIbJRUREQasLi7\n&quot;,</td>
      </tr>
      <tr>
        <td id="L907" class="blob-num js-line-number" data-line-number="907"></td>
        <td id="LC907" class="blob-code js-file-line">       &quot;DJRUREQkNkoqIiISGyUVERGJjZKKiEgDpj4VERGpt5RUREQkNkoqIiISGyUVEZEG7Pvfj/d65u7x\n&quot;,</td>
      </tr>
      <tr>
        <td id="L908" class="blob-num js-line-number" data-line-number="908"></td>
        <td id="LC908" class="blob-code js-file-line">       &quot;XjFBZua5VB8RkbpgZrh7LF32ulMREZHYKKmIiEhslFRERCQ2SioiIhIbJRUREYlN2qRiZoVmttrM\n&quot;,</td>
      </tr>
      <tr>
        <td id="L909" class="blob-num js-line-number" data-line-number="909"></td>
        <td id="LC909" class="blob-code js-file-line">       &quot;1prZsCrOuS16f7mZdUpX1sxamFmRma0xs6fNrHnKe7+Nzl9tZqelHO9sZq9E791a8yqLiEhtqTap\n&quot;,</td>
      </tr>
      <tr>
        <td id="L910" class="blob-num js-line-number" data-line-number="910"></td>
        <td id="LC910" class="blob-code js-file-line">       &quot;mFkeMBYoBDoC/cysQ4VzegDt3L09cCkwLoOyw4Eidz8YmBO9xsw6AudF5xcCd5jtWJlmHDAo+pz2\n&quot;,</td>
      </tr>
      <tr>
        <td id="L911" class="blob-num js-line-number" data-line-number="911"></td>
        <td id="LC911" class="blob-code js-file-line">       &quot;Zla4OxXPRsXFxUmHUKtUv+yWy/XL5brFLd2dShdgnbuXuPsWYCrQq8I5PYHJAO6+EGhuZvlpyu4o\n&quot;,</td>
      </tr>
      <tr>
        <td id="L912" class="blob-num js-line-number" data-line-number="912"></td>
        <td id="LC912" class="blob-code js-file-line">       &quot;E/3sHe33Aqa4+xZ3LwHWAV3NrBXQzN0XRefdk1Kmwcj1X2zVL7vlcv1yuW5xS5dU9gfeTnm9PjqW\n&quot;,</td>
      </tr>
      <tr>
        <td id="L913" class="blob-num js-line-number" data-line-number="913"></td>
        <td id="LC913" class="blob-code js-file-line">       &quot;yTmtqynb0t3Lov0yoGW03zo6r7JrpR4vrSQOERFJWLqkkun09ExmYlpl14umwGsavIhILnD3Kjeg\n&quot;,</td>
      </tr>
      <tr>
        <td id="L914" class="blob-num js-line-number" data-line-number="914"></td>
        <td id="LC914" class="blob-code js-file-line">       &quot;GzA75fVvgWEVzhkPnJ/yejXhzqPKstE5+dF+K2B1tD8cGJ5SZjbQFcgHXks53g8YX0m8rk2bNm3a\n&quot;,</td>
      </tr>
      <tr>
        <td id="L915" class="blob-num js-line-number" data-line-number="915"></td>
        <td id="LC915" class="blob-code js-file-line">       &quot;dn2rLhfsytaI6r1M6BQ/EHiH0Iner8I5M4ChwFQz6wZscvcyM/ugmrIzgAHAmOjn9JTjD5jZTYTm\n&quot;,</td>
      </tr>
      <tr>
        <td id="L916" class="blob-num js-line-number" data-line-number="916"></td>
        <td id="LC916" class="blob-code js-file-line">       &quot;rfbAInd3M/vEzLoCi4D+wG0Vg41r7RoREamZapOKu281s6HAU0AeMNHdXzOzwdH7E9x9lpn1MLN1\n&quot;,</td>
      </tr>
      <tr>
        <td id="L917" class="blob-num js-line-number" data-line-number="917"></td>
        <td id="LC917" class="blob-code js-file-line">       &quot;wOfAwOrKRpceDUwzs0FACdA3KrPKzKYBq4CtwJCUFSKHAHcDTYFZ7j47lv8CIiISm5xapVhERJKV\n&quot;,</td>
      </tr>
      <tr>
        <td id="L918" class="blob-num js-line-number" data-line-number="918"></td>
        <td id="LC918" class="blob-code js-file-line">       &quot;MzPqM5mkWd+Y2V1mVmZmr6Qcy5mJoWbW1szmmtmrZrbSzH4RHc+JOprZXma20MyWmdkqM/tzdDwn\n&quot;,</td>
      </tr>
      <tr>
        <td id="L919" class="blob-num js-line-number" data-line-number="919"></td>
        <td id="LC919" class="blob-code js-file-line">       &quot;6gdhvpmZLTWzx6PXuVS3EjNbEdVvUXQsl+rX3MweMrPXot/PrnVSv7g6Z5LcCM1r64ADgcbAMqBD\n&quot;,</td>
      </tr>
      <tr>
        <td id="L920" class="blob-num js-line-number" data-line-number="920"></td>
        <td id="LC920" class="blob-code js-file-line">       &quot;0nFlEPfxQCfglZRjNwDXRPvDgNHRfseoXo2jeq7j6zvNRUCXaH8WUJh03aJY8oGjo/19gP8DOuRY\n&quot;,</td>
      </tr>
      <tr>
        <td id="L921" class="blob-num js-line-number" data-line-number="921"></td>
        <td id="LC921" class="blob-code js-file-line">       &quot;HfeOfjYCXgSOy7H6XQncD8zIwd/PN4AWFY7lUv0mAxen/H7uWxf1S7ziMf3HO5adR5rtNIqsPm/R\n&quot;,</td>
      </tr>
      <tr>
        <td id="L922" class="blob-num js-line-number" data-line-number="922"></td>
        <td id="LC922" class="blob-code js-file-line">       &quot;/8DUpLKaMI8Hwh/l8pFxO428I4yM60YYPZc6Mu58KhkZVx82woCM7rlYR2Bv4CXgsFypH9AGeAY4\n&quot;,</td>
      </tr>
      <tr>
        <td id="L923" class="blob-num js-line-number" data-line-number="923"></td>
        <td id="LC923" class="blob-code js-file-line">       &quot;CXg8134/CUnl3yocy4n6ERLIPys5Xuv1y5Xmr0wmaWaLnJwYGo0C7AQsJIfqaGZ7mNkyQj3muvur\n&quot;,</td>
      </tr>
      <tr>
        <td id="L924" class="blob-num js-line-number" data-line-number="924"></td>
        <td id="LC924" class="blob-code js-file-line">       &quot;5E79bgauBranHMuVukEYSvuMmb1sZpdEx3KlfgcB75nZJDNbYmZ3mtm3qIP65UpSycnRBh6+GmR9\n&quot;,</td>
      </tr>
      <tr>
        <td id="L925" class="blob-num js-line-number" data-line-number="925"></td>
        <td id="LC925" class="blob-code js-file-line">       &quot;3cxsH+Bh4Jfu/mnqe9leR3ff7u5HE77Vn2BmJ1V4PyvrZ2ZnAe+6+1KqmNycrXVL8SN37wScAVxh\n&quot;,</td>
      </tr>
      <tr>
        <td id="L926" class="blob-num js-line-number" data-line-number="926"></td>
        <td id="LC926" class="blob-code js-file-line">       &quot;Zsenvpnl9WsEHAPc4e7HEEbmDk89obbqlytJpRRom/K6LTtn12xSZmHtNCysefZudLxiHdsQ6lga\n&quot;,</td>
      </tr>
      <tr>
        <td id="L927" class="blob-num js-line-number" data-line-number="927"></td>
        <td id="LC927" class="blob-code js-file-line">       &quot;7aceL62DODNiZo0JCeVedy+fj5RTdQRw94+BmUBncqN+PwR6mtkbwBTgZDO7l9yoGwDuviH6+R7w\n&quot;,</td>
      </tr>
      <tr>
        <td id="L928" class="blob-num js-line-number" data-line-number="928"></td>
        <td id="LC928" class="blob-code js-file-line">       &quot;KGG9wlyp33pgvbu/FL1+iJBkNtZ2/XIlqeyYpGlmTQgTLWckHFNNlU8MhW9ODD3fzJqY2UF8PTF0\n&quot;,</td>
      </tr>
      <tr>
        <td id="L929" class="blob-num js-line-number" data-line-number="929"></td>
        <td id="LC929" class="blob-code js-file-line">       &quot;I/BJNLLDCBNDp1e8aBKieCYCq9z9lpS3cqKOZrZf+egZM2sKnAosJQfq5+7Xuntbdz+I0I7+rLv3\n&quot;,</td>
      </tr>
      <tr>
        <td id="L930" class="blob-num js-line-number" data-line-number="930"></td>
        <td id="LC930" class="blob-code js-file-line">       &quot;JwfqBmBme5tZs2j/W8BpwCvkSP2iuN42s4OjQ92BV4HHqe36Jd2hFGPH1BmE0UXrgN8mHU+GMU8h\n&quot;,</td>
      </tr>
      <tr>
        <td id="L931" class="blob-num js-line-number" data-line-number="931"></td>
        <td id="LC931" class="blob-code js-file-line">       &quot;rDbwFaFPaCDQgtA5ugZ4Gmiecv61Uf1WA6enHO9M+AexDrgt6XqlxHUcoT1+GeGP7VLCIw1yoo7A\n&quot;,</td>
      </tr>
      <tr>
        <td id="L932" class="blob-num js-line-number" data-line-number="932"></td>
        <td id="LC932" class="blob-code js-file-line">       &quot;EcCSqH4rgKuj4zlRv5TYTuTr0V85UTdCn8OyaFtZ/jcjV+oXxXUUYfDIcuARQud9rddPkx9FRCQ2\n&quot;,</td>
      </tr>
      <tr>
        <td id="L933" class="blob-num js-line-number" data-line-number="933"></td>
        <td id="LC933" class="blob-code js-file-line">       &quot;udL8JSIi9YCSioiIxEZJRUREYqOkIiIisVFSERGR2CipiIhIbJRUREQkNkoqIiISm/8H4CsYSuTP\n&quot;,</td>
      </tr>
      <tr>
        <td id="L934" class="blob-num js-line-number" data-line-number="934"></td>
        <td id="LC934" class="blob-code js-file-line">       &quot;ZaEAAAAASUVORK5CYII=\n&quot;</td>
      </tr>
      <tr>
        <td id="L935" class="blob-num js-line-number" data-line-number="935"></td>
        <td id="LC935" class="blob-code js-file-line">      ],</td>
      </tr>
      <tr>
        <td id="L936" class="blob-num js-line-number" data-line-number="936"></td>
        <td id="LC936" class="blob-code js-file-line">      &quot;text/plain&quot;: [</td>
      </tr>
      <tr>
        <td id="L937" class="blob-num js-line-number" data-line-number="937"></td>
        <td id="LC937" class="blob-code js-file-line">       &quot;&lt;matplotlib.figure.Figure at 0xaa78e80&gt;&quot;</td>
      </tr>
      <tr>
        <td id="L938" class="blob-num js-line-number" data-line-number="938"></td>
        <td id="LC938" class="blob-code js-file-line">      ]</td>
      </tr>
      <tr>
        <td id="L939" class="blob-num js-line-number" data-line-number="939"></td>
        <td id="LC939" class="blob-code js-file-line">     },</td>
      </tr>
      <tr>
        <td id="L940" class="blob-num js-line-number" data-line-number="940"></td>
        <td id="LC940" class="blob-code js-file-line">     &quot;metadata&quot;: {},</td>
      </tr>
      <tr>
        <td id="L941" class="blob-num js-line-number" data-line-number="941"></td>
        <td id="LC941" class="blob-code js-file-line">     &quot;output_type&quot;: &quot;display_data&quot;</td>
      </tr>
      <tr>
        <td id="L942" class="blob-num js-line-number" data-line-number="942"></td>
        <td id="LC942" class="blob-code js-file-line">    }</td>
      </tr>
      <tr>
        <td id="L943" class="blob-num js-line-number" data-line-number="943"></td>
        <td id="LC943" class="blob-code js-file-line">   ],</td>
      </tr>
      <tr>
        <td id="L944" class="blob-num js-line-number" data-line-number="944"></td>
        <td id="LC944" class="blob-code js-file-line">   &quot;source&quot;: [</td>
      </tr>
      <tr>
        <td id="L945" class="blob-num js-line-number" data-line-number="945"></td>
        <td id="LC945" class="blob-code js-file-line">    &quot;plt.plot(s_prob)\n&quot;,</td>
      </tr>
      <tr>
        <td id="L946" class="blob-num js-line-number" data-line-number="946"></td>
        <td id="LC946" class="blob-code js-file-line">    &quot;plt.show()&quot;</td>
      </tr>
      <tr>
        <td id="L947" class="blob-num js-line-number" data-line-number="947"></td>
        <td id="LC947" class="blob-code js-file-line">   ]</td>
      </tr>
      <tr>
        <td id="L948" class="blob-num js-line-number" data-line-number="948"></td>
        <td id="LC948" class="blob-code js-file-line">  },</td>
      </tr>
      <tr>
        <td id="L949" class="blob-num js-line-number" data-line-number="949"></td>
        <td id="LC949" class="blob-code js-file-line">  {</td>
      </tr>
      <tr>
        <td id="L950" class="blob-num js-line-number" data-line-number="950"></td>
        <td id="LC950" class="blob-code js-file-line">   &quot;cell_type&quot;: &quot;markdown&quot;,</td>
      </tr>
      <tr>
        <td id="L951" class="blob-num js-line-number" data-line-number="951"></td>
        <td id="LC951" class="blob-code js-file-line">   &quot;metadata&quot;: {},</td>
      </tr>
      <tr>
        <td id="L952" class="blob-num js-line-number" data-line-number="952"></td>
        <td id="LC952" class="blob-code js-file-line">   &quot;source&quot;: [</td>
      </tr>
      <tr>
        <td id="L953" class="blob-num js-line-number" data-line-number="953"></td>
        <td id="LC953" class="blob-code js-file-line">    &quot;Because I find it perplexing that there is such a large truncation region of the graph, let&#39;s see if we can replicate the results with actual functions. &quot;</td>
      </tr>
      <tr>
        <td id="L954" class="blob-num js-line-number" data-line-number="954"></td>
        <td id="LC954" class="blob-code js-file-line">   ]</td>
      </tr>
      <tr>
        <td id="L955" class="blob-num js-line-number" data-line-number="955"></td>
        <td id="LC955" class="blob-code js-file-line">  },</td>
      </tr>
      <tr>
        <td id="L956" class="blob-num js-line-number" data-line-number="956"></td>
        <td id="LC956" class="blob-code js-file-line">  {</td>
      </tr>
      <tr>
        <td id="L957" class="blob-num js-line-number" data-line-number="957"></td>
        <td id="LC957" class="blob-code js-file-line">   &quot;cell_type&quot;: &quot;code&quot;,</td>
      </tr>
      <tr>
        <td id="L958" class="blob-num js-line-number" data-line-number="958"></td>
        <td id="LC958" class="blob-code js-file-line">   &quot;execution_count&quot;: 24,</td>
      </tr>
      <tr>
        <td id="L959" class="blob-num js-line-number" data-line-number="959"></td>
        <td id="LC959" class="blob-code js-file-line">   &quot;metadata&quot;: {</td>
      </tr>
      <tr>
        <td id="L960" class="blob-num js-line-number" data-line-number="960"></td>
        <td id="LC960" class="blob-code js-file-line">    &quot;collapsed&quot;: false</td>
      </tr>
      <tr>
        <td id="L961" class="blob-num js-line-number" data-line-number="961"></td>
        <td id="LC961" class="blob-code js-file-line">   },</td>
      </tr>
      <tr>
        <td id="L962" class="blob-num js-line-number" data-line-number="962"></td>
        <td id="LC962" class="blob-code js-file-line">   &quot;outputs&quot;: [],</td>
      </tr>
      <tr>
        <td id="L963" class="blob-num js-line-number" data-line-number="963"></td>
        <td id="LC963" class="blob-code js-file-line">   &quot;source&quot;: [</td>
      </tr>
      <tr>
        <td id="L964" class="blob-num js-line-number" data-line-number="964"></td>
        <td id="LC964" class="blob-code js-file-line">    &quot;import scipy.stats as sps&quot;</td>
      </tr>
      <tr>
        <td id="L965" class="blob-num js-line-number" data-line-number="965"></td>
        <td id="LC965" class="blob-code js-file-line">   ]</td>
      </tr>
      <tr>
        <td id="L966" class="blob-num js-line-number" data-line-number="966"></td>
        <td id="LC966" class="blob-code js-file-line">  },</td>
      </tr>
      <tr>
        <td id="L967" class="blob-num js-line-number" data-line-number="967"></td>
        <td id="LC967" class="blob-code js-file-line">  {</td>
      </tr>
      <tr>
        <td id="L968" class="blob-num js-line-number" data-line-number="968"></td>
        <td id="LC968" class="blob-code js-file-line">   &quot;cell_type&quot;: &quot;markdown&quot;,</td>
      </tr>
      <tr>
        <td id="L969" class="blob-num js-line-number" data-line-number="969"></td>
        <td id="LC969" class="blob-code js-file-line">   &quot;metadata&quot;: {},</td>
      </tr>
      <tr>
        <td id="L970" class="blob-num js-line-number" data-line-number="970"></td>
        <td id="LC970" class="blob-code js-file-line">   &quot;source&quot;: [</td>
      </tr>
      <tr>
        <td id="L971" class="blob-num js-line-number" data-line-number="971"></td>
        <td id="LC971" class="blob-code js-file-line">    &quot;Now, in Python, the log-normal is denoted a bit differently than R/A denote it. The python function uses parameters sc, sh, and lo together as follows:\n&quot;,</td>
      </tr>
      <tr>
        <td id="L972" class="blob-num js-line-number" data-line-number="972"></td>
        <td id="LC972" class="blob-code js-file-line">    &quot;\n&quot;,</td>
      </tr>
      <tr>
        <td id="L973" class="blob-num js-line-number" data-line-number="973"></td>
        <td id="LC973" class="blob-code js-file-line">    &quot;$f(x|sh,lo,sc)=\\frac{1}{(x-lo)sh\\sqrt{2\\pi}}e^{\\frac{-(\\ln(x-lo)-ln(sc))^2}{2sh^2}}$\n&quot;,</td>
      </tr>
      <tr>
        <td id="L974" class="blob-num js-line-number" data-line-number="974"></td>
        <td id="LC974" class="blob-code js-file-line">    &quot;\n&quot;,</td>
      </tr>
      <tr>
        <td id="L975" class="blob-num js-line-number" data-line-number="975"></td>
        <td id="LC975" class="blob-code js-file-line">    &quot;So, if the Python function is to correspond with R/A&#39;s function, we need $lo=0$. Moreover, since $\\mu=ln(sc)$, we need $sc=e^\\mu$. Finally, R/A parameterize the variance, where $v=sh^2$. Therefore, we need $sh=\\sqrt{v}$. To check this out:&quot;</td>
      </tr>
      <tr>
        <td id="L976" class="blob-num js-line-number" data-line-number="976"></td>
        <td id="LC976" class="blob-code js-file-line">   ]</td>
      </tr>
      <tr>
        <td id="L977" class="blob-num js-line-number" data-line-number="977"></td>
        <td id="LC977" class="blob-code js-file-line">  },</td>
      </tr>
      <tr>
        <td id="L978" class="blob-num js-line-number" data-line-number="978"></td>
        <td id="LC978" class="blob-code js-file-line">  {</td>
      </tr>
      <tr>
        <td id="L979" class="blob-num js-line-number" data-line-number="979"></td>
        <td id="LC979" class="blob-code js-file-line">   &quot;cell_type&quot;: &quot;code&quot;,</td>
      </tr>
      <tr>
        <td id="L980" class="blob-num js-line-number" data-line-number="980"></td>
        <td id="LC980" class="blob-code js-file-line">   &quot;execution_count&quot;: 25,</td>
      </tr>
      <tr>
        <td id="L981" class="blob-num js-line-number" data-line-number="981"></td>
        <td id="LC981" class="blob-code js-file-line">   &quot;metadata&quot;: {</td>
      </tr>
      <tr>
        <td id="L982" class="blob-num js-line-number" data-line-number="982"></td>
        <td id="LC982" class="blob-code js-file-line">    &quot;collapsed&quot;: false</td>
      </tr>
      <tr>
        <td id="L983" class="blob-num js-line-number" data-line-number="983"></td>
        <td id="LC983" class="blob-code js-file-line">   },</td>
      </tr>
      <tr>
        <td id="L984" class="blob-num js-line-number" data-line-number="984"></td>
        <td id="LC984" class="blob-code js-file-line">   &quot;outputs&quot;: [</td>
      </tr>
      <tr>
        <td id="L985" class="blob-num js-line-number" data-line-number="985"></td>
        <td id="LC985" class="blob-code js-file-line">    {</td>
      </tr>
      <tr>
        <td id="L986" class="blob-num js-line-number" data-line-number="986"></td>
        <td id="LC986" class="blob-code js-file-line">     &quot;name&quot;: &quot;stdout&quot;,</td>
      </tr>
      <tr>
        <td id="L987" class="blob-num js-line-number" data-line-number="987"></td>
        <td id="LC987" class="blob-code js-file-line">     &quot;output_type&quot;: &quot;stream&quot;,</td>
      </tr>
      <tr>
        <td id="L988" class="blob-num js-line-number" data-line-number="988"></td>
        <td id="LC988" class="blob-code js-file-line">     &quot;text&quot;: [</td>
      </tr>
      <tr>
        <td id="L989" class="blob-num js-line-number" data-line-number="989"></td>
        <td id="LC989" class="blob-code js-file-line">      &quot;0.13776596115\n&quot;,</td>
      </tr>
      <tr>
        <td id="L990" class="blob-num js-line-number" data-line-number="990"></td>
        <td id="LC990" class="blob-code js-file-line">      &quot;0.13776596115\n&quot;,</td>
      </tr>
      <tr>
        <td id="L991" class="blob-num js-line-number" data-line-number="991"></td>
        <td id="LC991" class="blob-code js-file-line">      &quot;0.414112858205\n&quot;</td>
      </tr>
      <tr>
        <td id="L992" class="blob-num js-line-number" data-line-number="992"></td>
        <td id="LC992" class="blob-code js-file-line">     ]</td>
      </tr>
      <tr>
        <td id="L993" class="blob-num js-line-number" data-line-number="993"></td>
        <td id="LC993" class="blob-code js-file-line">    }</td>
      </tr>
      <tr>
        <td id="L994" class="blob-num js-line-number" data-line-number="994"></td>
        <td id="LC994" class="blob-code js-file-line">   ],</td>
      </tr>
      <tr>
        <td id="L995" class="blob-num js-line-number" data-line-number="995"></td>
        <td id="LC995" class="blob-code js-file-line">   &quot;source&quot;: [</td>
      </tr>
      <tr>
        <td id="L996" class="blob-num js-line-number" data-line-number="996"></td>
        <td id="LC996" class="blob-code js-file-line">    &quot;print sps.lognorm.pdf(2,np.sqrt(2),0,np.exp(1))\n&quot;,</td>
      </tr>
      <tr>
        <td id="L997" class="blob-num js-line-number" data-line-number="997"></td>
        <td id="LC997" class="blob-code js-file-line">    &quot;print lognorm_pdf(2,1,2)\n&quot;,</td>
      </tr>
      <tr>
        <td id="L998" class="blob-num js-line-number" data-line-number="998"></td>
        <td id="LC998" class="blob-code js-file-line">    &quot;print sps.lognorm.cdf(2,np.sqrt(2),0,np.exp(1))&quot;</td>
      </tr>
      <tr>
        <td id="L999" class="blob-num js-line-number" data-line-number="999"></td>
        <td id="LC999" class="blob-code js-file-line">   ]</td>
      </tr>
      <tr>
        <td id="L1000" class="blob-num js-line-number" data-line-number="1000"></td>
        <td id="LC1000" class="blob-code js-file-line">  },</td>
      </tr>
      <tr>
        <td id="L1001" class="blob-num js-line-number" data-line-number="1001"></td>
        <td id="LC1001" class="blob-code js-file-line">  {</td>
      </tr>
      <tr>
        <td id="L1002" class="blob-num js-line-number" data-line-number="1002"></td>
        <td id="LC1002" class="blob-code js-file-line">   &quot;cell_type&quot;: &quot;markdown&quot;,</td>
      </tr>
      <tr>
        <td id="L1003" class="blob-num js-line-number" data-line-number="1003"></td>
        <td id="LC1003" class="blob-code js-file-line">   &quot;metadata&quot;: {},</td>
      </tr>
      <tr>
        <td id="L1004" class="blob-num js-line-number" data-line-number="1004"></td>
        <td id="LC1004" class="blob-code js-file-line">   &quot;source&quot;: [</td>
      </tr>
      <tr>
        <td id="L1005" class="blob-num js-line-number" data-line-number="1005"></td>
        <td id="LC1005" class="blob-code js-file-line">    &quot;We can also use the lognorm CDF function to perhaps do a bit better than R/A, or at least check their work. We want the mass between the \&quot;slices,\&quot; so:&quot;</td>
      </tr>
      <tr>
        <td id="L1006" class="blob-num js-line-number" data-line-number="1006"></td>
        <td id="LC1006" class="blob-code js-file-line">   ]</td>
      </tr>
      <tr>
        <td id="L1007" class="blob-num js-line-number" data-line-number="1007"></td>
        <td id="LC1007" class="blob-code js-file-line">  },</td>
      </tr>
      <tr>
        <td id="L1008" class="blob-num js-line-number" data-line-number="1008"></td>
        <td id="LC1008" class="blob-code js-file-line">  {</td>
      </tr>
      <tr>
        <td id="L1009" class="blob-num js-line-number" data-line-number="1009"></td>
        <td id="LC1009" class="blob-code js-file-line">   &quot;cell_type&quot;: &quot;code&quot;,</td>
      </tr>
      <tr>
        <td id="L1010" class="blob-num js-line-number" data-line-number="1010"></td>
        <td id="LC1010" class="blob-code js-file-line">   &quot;execution_count&quot;: 26,</td>
      </tr>
      <tr>
        <td id="L1011" class="blob-num js-line-number" data-line-number="1011"></td>
        <td id="LC1011" class="blob-code js-file-line">   &quot;metadata&quot;: {</td>
      </tr>
      <tr>
        <td id="L1012" class="blob-num js-line-number" data-line-number="1012"></td>
        <td id="LC1012" class="blob-code js-file-line">    &quot;collapsed&quot;: false</td>
      </tr>
      <tr>
        <td id="L1013" class="blob-num js-line-number" data-line-number="1013"></td>
        <td id="LC1013" class="blob-code js-file-line">   },</td>
      </tr>
      <tr>
        <td id="L1014" class="blob-num js-line-number" data-line-number="1014"></td>
        <td id="LC1014" class="blob-code js-file-line">   &quot;outputs&quot;: [],</td>
      </tr>
      <tr>
        <td id="L1015" class="blob-num js-line-number" data-line-number="1015"></td>
        <td id="LC1015" class="blob-code js-file-line">   &quot;source&quot;: [</td>
      </tr>
      <tr>
        <td id="L1016" class="blob-num js-line-number" data-line-number="1016"></td>
        <td id="LC1016" class="blob-code js-file-line">    &quot;s_prob2=np.zeros((s_n,1))\n&quot;,</td>
      </tr>
      <tr>
        <td id="L1017" class="blob-num js-line-number" data-line-number="1017"></td>
        <td id="LC1017" class="blob-code js-file-line">    &quot;for i in range(0,s_n-1):\n&quot;,</td>
      </tr>
      <tr>
        <td id="L1018" class="blob-num js-line-number" data-line-number="1018"></td>
        <td id="LC1018" class="blob-code js-file-line">    &quot;    if i==0:\n&quot;,</td>
      </tr>
      <tr>
        <td id="L1019" class="blob-num js-line-number" data-line-number="1019"></td>
        <td id="LC1019" class="blob-code js-file-line">    &quot;        d=(s_grid[1]-s_grid[0])/2\n&quot;,</td>
      </tr>
      <tr>
        <td id="L1020" class="blob-num js-line-number" data-line-number="1020"></td>
        <td id="LC1020" class="blob-code js-file-line">    &quot;        s_prob2[i]=sps.lognorm.cdf(s_grid[i]+d,np.sqrt(VAR_s),0,np.exp(MU))-sps.lognorm.cdf(s_grid[i]-d,np.sqrt(VAR_s),0,np.exp(MU))\n&quot;,</td>
      </tr>
      <tr>
        <td id="L1021" class="blob-num js-line-number" data-line-number="1021"></td>
        <td id="LC1021" class="blob-code js-file-line">    &quot;    else:\n&quot;,</td>
      </tr>
      <tr>
        <td id="L1022" class="blob-num js-line-number" data-line-number="1022"></td>
        <td id="LC1022" class="blob-code js-file-line">    &quot;        d=(s_grid[i]-s_grid[i-1])/2\n&quot;,</td>
      </tr>
      <tr>
        <td id="L1023" class="blob-num js-line-number" data-line-number="1023"></td>
        <td id="LC1023" class="blob-code js-file-line">    &quot;        s_prob2[i]=sps.lognorm.cdf(s_grid[i]+d,np.sqrt(VAR_s),0,np.exp(MU))-sps.lognorm.cdf(s_grid[i]-d,np.sqrt(VAR_s),0,np.exp(MU))\n&quot;</td>
      </tr>
      <tr>
        <td id="L1024" class="blob-num js-line-number" data-line-number="1024"></td>
        <td id="LC1024" class="blob-code js-file-line">   ]</td>
      </tr>
      <tr>
        <td id="L1025" class="blob-num js-line-number" data-line-number="1025"></td>
        <td id="LC1025" class="blob-code js-file-line">  },</td>
      </tr>
      <tr>
        <td id="L1026" class="blob-num js-line-number" data-line-number="1026"></td>
        <td id="LC1026" class="blob-code js-file-line">  {</td>
      </tr>
      <tr>
        <td id="L1027" class="blob-num js-line-number" data-line-number="1027"></td>
        <td id="LC1027" class="blob-code js-file-line">   &quot;cell_type&quot;: &quot;markdown&quot;,</td>
      </tr>
      <tr>
        <td id="L1028" class="blob-num js-line-number" data-line-number="1028"></td>
        <td id="LC1028" class="blob-code js-file-line">   &quot;metadata&quot;: {},</td>
      </tr>
      <tr>
        <td id="L1029" class="blob-num js-line-number" data-line-number="1029"></td>
        <td id="LC1029" class="blob-code js-file-line">   &quot;source&quot;: [</td>
      </tr>
      <tr>
        <td id="L1030" class="blob-num js-line-number" data-line-number="1030"></td>
        <td id="LC1030" class="blob-code js-file-line">    &quot;While we are at it... let&#39;s try something even simpler&quot;</td>
      </tr>
      <tr>
        <td id="L1031" class="blob-num js-line-number" data-line-number="1031"></td>
        <td id="LC1031" class="blob-code js-file-line">   ]</td>
      </tr>
      <tr>
        <td id="L1032" class="blob-num js-line-number" data-line-number="1032"></td>
        <td id="LC1032" class="blob-code js-file-line">  },</td>
      </tr>
      <tr>
        <td id="L1033" class="blob-num js-line-number" data-line-number="1033"></td>
        <td id="LC1033" class="blob-code js-file-line">  {</td>
      </tr>
      <tr>
        <td id="L1034" class="blob-num js-line-number" data-line-number="1034"></td>
        <td id="LC1034" class="blob-code js-file-line">   &quot;cell_type&quot;: &quot;code&quot;,</td>
      </tr>
      <tr>
        <td id="L1035" class="blob-num js-line-number" data-line-number="1035"></td>
        <td id="LC1035" class="blob-code js-file-line">   &quot;execution_count&quot;: 27,</td>
      </tr>
      <tr>
        <td id="L1036" class="blob-num js-line-number" data-line-number="1036"></td>
        <td id="LC1036" class="blob-code js-file-line">   &quot;metadata&quot;: {</td>
      </tr>
      <tr>
        <td id="L1037" class="blob-num js-line-number" data-line-number="1037"></td>
        <td id="LC1037" class="blob-code js-file-line">    &quot;collapsed&quot;: false</td>
      </tr>
      <tr>
        <td id="L1038" class="blob-num js-line-number" data-line-number="1038"></td>
        <td id="LC1038" class="blob-code js-file-line">   },</td>
      </tr>
      <tr>
        <td id="L1039" class="blob-num js-line-number" data-line-number="1039"></td>
        <td id="LC1039" class="blob-code js-file-line">   &quot;outputs&quot;: [</td>
      </tr>
      <tr>
        <td id="L1040" class="blob-num js-line-number" data-line-number="1040"></td>
        <td id="LC1040" class="blob-code js-file-line">    {</td>
      </tr>
      <tr>
        <td id="L1041" class="blob-num js-line-number" data-line-number="1041"></td>
        <td id="LC1041" class="blob-code js-file-line">     &quot;data&quot;: {</td>
      </tr>
      <tr>
        <td id="L1042" class="blob-num js-line-number" data-line-number="1042"></td>
        <td id="LC1042" class="blob-code js-file-line">      &quot;text/plain&quot;: [</td>
      </tr>
      <tr>
        <td id="L1043" class="blob-num js-line-number" data-line-number="1043"></td>
        <td id="LC1043" class="blob-code js-file-line">       &quot;0.1597563777573214&quot;</td>
      </tr>
      <tr>
        <td id="L1044" class="blob-num js-line-number" data-line-number="1044"></td>
        <td id="LC1044" class="blob-code js-file-line">      ]</td>
      </tr>
      <tr>
        <td id="L1045" class="blob-num js-line-number" data-line-number="1045"></td>
        <td id="LC1045" class="blob-code js-file-line">     },</td>
      </tr>
      <tr>
        <td id="L1046" class="blob-num js-line-number" data-line-number="1046"></td>
        <td id="LC1046" class="blob-code js-file-line">     &quot;execution_count&quot;: 27,</td>
      </tr>
      <tr>
        <td id="L1047" class="blob-num js-line-number" data-line-number="1047"></td>
        <td id="LC1047" class="blob-code js-file-line">     &quot;metadata&quot;: {},</td>
      </tr>
      <tr>
        <td id="L1048" class="blob-num js-line-number" data-line-number="1048"></td>
        <td id="LC1048" class="blob-code js-file-line">     &quot;output_type&quot;: &quot;execute_result&quot;</td>
      </tr>
      <tr>
        <td id="L1049" class="blob-num js-line-number" data-line-number="1049"></td>
        <td id="LC1049" class="blob-code js-file-line">    }</td>
      </tr>
      <tr>
        <td id="L1050" class="blob-num js-line-number" data-line-number="1050"></td>
        <td id="LC1050" class="blob-code js-file-line">   ],</td>
      </tr>
      <tr>
        <td id="L1051" class="blob-num js-line-number" data-line-number="1051"></td>
        <td id="LC1051" class="blob-code js-file-line">   &quot;source&quot;: [</td>
      </tr>
      <tr>
        <td id="L1052" class="blob-num js-line-number" data-line-number="1052"></td>
        <td id="LC1052" class="blob-code js-file-line">    &quot;np.exp(MU)&quot;</td>
      </tr>
      <tr>
        <td id="L1053" class="blob-num js-line-number" data-line-number="1053"></td>
        <td id="LC1053" class="blob-code js-file-line">   ]</td>
      </tr>
      <tr>
        <td id="L1054" class="blob-num js-line-number" data-line-number="1054"></td>
        <td id="LC1054" class="blob-code js-file-line">  },</td>
      </tr>
      <tr>
        <td id="L1055" class="blob-num js-line-number" data-line-number="1055"></td>
        <td id="LC1055" class="blob-code js-file-line">  {</td>
      </tr>
      <tr>
        <td id="L1056" class="blob-num js-line-number" data-line-number="1056"></td>
        <td id="LC1056" class="blob-code js-file-line">   &quot;cell_type&quot;: &quot;code&quot;,</td>
      </tr>
      <tr>
        <td id="L1057" class="blob-num js-line-number" data-line-number="1057"></td>
        <td id="LC1057" class="blob-code js-file-line">   &quot;execution_count&quot;: 28,</td>
      </tr>
      <tr>
        <td id="L1058" class="blob-num js-line-number" data-line-number="1058"></td>
        <td id="LC1058" class="blob-code js-file-line">   &quot;metadata&quot;: {</td>
      </tr>
      <tr>
        <td id="L1059" class="blob-num js-line-number" data-line-number="1059"></td>
        <td id="LC1059" class="blob-code js-file-line">    &quot;collapsed&quot;: false</td>
      </tr>
      <tr>
        <td id="L1060" class="blob-num js-line-number" data-line-number="1060"></td>
        <td id="LC1060" class="blob-code js-file-line">   },</td>
      </tr>
      <tr>
        <td id="L1061" class="blob-num js-line-number" data-line-number="1061"></td>
        <td id="LC1061" class="blob-code js-file-line">   &quot;outputs&quot;: [],</td>
      </tr>
      <tr>
        <td id="L1062" class="blob-num js-line-number" data-line-number="1062"></td>
        <td id="LC1062" class="blob-code js-file-line">   &quot;source&quot;: [</td>
      </tr>
      <tr>
        <td id="L1063" class="blob-num js-line-number" data-line-number="1063"></td>
        <td id="LC1063" class="blob-code js-file-line">    &quot;s_prob3=np.zeros((s_n,1))\n&quot;,</td>
      </tr>
      <tr>
        <td id="L1064" class="blob-num js-line-number" data-line-number="1064"></td>
        <td id="LC1064" class="blob-code js-file-line">    &quot;d = s_grid[1:]-s_grid[:-1]\n&quot;,</td>
      </tr>
      <tr>
        <td id="L1065" class="blob-num js-line-number" data-line-number="1065"></td>
        <td id="LC1065" class="blob-code js-file-line">    &quot;C_top = sps.lognorm.cdf(s_grid[1:],np.sqrt(VAR_s),0,np.exp(MU))\n&quot;,</td>
      </tr>
      <tr>
        <td id="L1066" class="blob-num js-line-number" data-line-number="1066"></td>
        <td id="LC1066" class="blob-code js-file-line">    &quot;C_low = sps.lognorm.cdf(s_grid[:-1],np.sqrt(VAR_s),0,np.exp(MU))\n&quot;,</td>
      </tr>
      <tr>
        <td id="L1067" class="blob-num js-line-number" data-line-number="1067"></td>
        <td id="LC1067" class="blob-code js-file-line">    &quot;s_prob3 = C_top - C_low\n&quot;,</td>
      </tr>
      <tr>
        <td id="L1068" class="blob-num js-line-number" data-line-number="1068"></td>
        <td id="LC1068" class="blob-code js-file-line">    &quot;s_prob3 =  np.append(s_prob2[0],s_prob3)\n&quot;</td>
      </tr>
      <tr>
        <td id="L1069" class="blob-num js-line-number" data-line-number="1069"></td>
        <td id="LC1069" class="blob-code js-file-line">   ]</td>
      </tr>
      <tr>
        <td id="L1070" class="blob-num js-line-number" data-line-number="1070"></td>
        <td id="LC1070" class="blob-code js-file-line">  },</td>
      </tr>
      <tr>
        <td id="L1071" class="blob-num js-line-number" data-line-number="1071"></td>
        <td id="LC1071" class="blob-code js-file-line">  {</td>
      </tr>
      <tr>
        <td id="L1072" class="blob-num js-line-number" data-line-number="1072"></td>
        <td id="LC1072" class="blob-code js-file-line">   &quot;cell_type&quot;: &quot;code&quot;,</td>
      </tr>
      <tr>
        <td id="L1073" class="blob-num js-line-number" data-line-number="1073"></td>
        <td id="LC1073" class="blob-code js-file-line">   &quot;execution_count&quot;: 29,</td>
      </tr>
      <tr>
        <td id="L1074" class="blob-num js-line-number" data-line-number="1074"></td>
        <td id="LC1074" class="blob-code js-file-line">   &quot;metadata&quot;: {</td>
      </tr>
      <tr>
        <td id="L1075" class="blob-num js-line-number" data-line-number="1075"></td>
        <td id="LC1075" class="blob-code js-file-line">    &quot;collapsed&quot;: false</td>
      </tr>
      <tr>
        <td id="L1076" class="blob-num js-line-number" data-line-number="1076"></td>
        <td id="LC1076" class="blob-code js-file-line">   },</td>
      </tr>
      <tr>
        <td id="L1077" class="blob-num js-line-number" data-line-number="1077"></td>
        <td id="LC1077" class="blob-code js-file-line">   &quot;outputs&quot;: [</td>
      </tr>
      <tr>
        <td id="L1078" class="blob-num js-line-number" data-line-number="1078"></td>
        <td id="LC1078" class="blob-code js-file-line">    {</td>
      </tr>
      <tr>
        <td id="L1079" class="blob-num js-line-number" data-line-number="1079"></td>
        <td id="LC1079" class="blob-code js-file-line">     &quot;data&quot;: {</td>
      </tr>
      <tr>
        <td id="L1080" class="blob-num js-line-number" data-line-number="1080"></td>
        <td id="LC1080" class="blob-code js-file-line">      &quot;text/plain&quot;: [</td>
      </tr>
      <tr>
        <td id="L1081" class="blob-num js-line-number" data-line-number="1081"></td>
        <td id="LC1081" class="blob-code js-file-line">       &quot;array([  1.65805164e-05,   1.65685468e-05,   1.65923419e-05, ...,\n&quot;,</td>
      </tr>
      <tr>
        <td id="L1082" class="blob-num js-line-number" data-line-number="1082"></td>
        <td id="LC1082" class="blob-code js-file-line">       &quot;         9.50706677e-05,   9.49896307e-05,   9.49086266e-05])&quot;</td>
      </tr>
      <tr>
        <td id="L1083" class="blob-num js-line-number" data-line-number="1083"></td>
        <td id="LC1083" class="blob-code js-file-line">      ]</td>
      </tr>
      <tr>
        <td id="L1084" class="blob-num js-line-number" data-line-number="1084"></td>
        <td id="LC1084" class="blob-code js-file-line">     },</td>
      </tr>
      <tr>
        <td id="L1085" class="blob-num js-line-number" data-line-number="1085"></td>
        <td id="LC1085" class="blob-code js-file-line">     &quot;execution_count&quot;: 29,</td>
      </tr>
      <tr>
        <td id="L1086" class="blob-num js-line-number" data-line-number="1086"></td>
        <td id="LC1086" class="blob-code js-file-line">     &quot;metadata&quot;: {},</td>
      </tr>
      <tr>
        <td id="L1087" class="blob-num js-line-number" data-line-number="1087"></td>
        <td id="LC1087" class="blob-code js-file-line">     &quot;output_type&quot;: &quot;execute_result&quot;</td>
      </tr>
      <tr>
        <td id="L1088" class="blob-num js-line-number" data-line-number="1088"></td>
        <td id="LC1088" class="blob-code js-file-line">    }</td>
      </tr>
      <tr>
        <td id="L1089" class="blob-num js-line-number" data-line-number="1089"></td>
        <td id="LC1089" class="blob-code js-file-line">   ],</td>
      </tr>
      <tr>
        <td id="L1090" class="blob-num js-line-number" data-line-number="1090"></td>
        <td id="LC1090" class="blob-code js-file-line">   &quot;source&quot;: [</td>
      </tr>
      <tr>
        <td id="L1091" class="blob-num js-line-number" data-line-number="1091"></td>
        <td id="LC1091" class="blob-code js-file-line">    &quot;len(s_prob3)\n&quot;,</td>
      </tr>
      <tr>
        <td id="L1092" class="blob-num js-line-number" data-line-number="1092"></td>
        <td id="LC1092" class="blob-code js-file-line">    &quot;s_prob3&quot;</td>
      </tr>
      <tr>
        <td id="L1093" class="blob-num js-line-number" data-line-number="1093"></td>
        <td id="LC1093" class="blob-code js-file-line">   ]</td>
      </tr>
      <tr>
        <td id="L1094" class="blob-num js-line-number" data-line-number="1094"></td>
        <td id="LC1094" class="blob-code js-file-line">  },</td>
      </tr>
      <tr>
        <td id="L1095" class="blob-num js-line-number" data-line-number="1095"></td>
        <td id="LC1095" class="blob-code js-file-line">  {</td>
      </tr>
      <tr>
        <td id="L1096" class="blob-num js-line-number" data-line-number="1096"></td>
        <td id="LC1096" class="blob-code js-file-line">   &quot;cell_type&quot;: &quot;code&quot;,</td>
      </tr>
      <tr>
        <td id="L1097" class="blob-num js-line-number" data-line-number="1097"></td>
        <td id="LC1097" class="blob-code js-file-line">   &quot;execution_count&quot;: 30,</td>
      </tr>
      <tr>
        <td id="L1098" class="blob-num js-line-number" data-line-number="1098"></td>
        <td id="LC1098" class="blob-code js-file-line">   &quot;metadata&quot;: {</td>
      </tr>
      <tr>
        <td id="L1099" class="blob-num js-line-number" data-line-number="1099"></td>
        <td id="LC1099" class="blob-code js-file-line">    &quot;collapsed&quot;: false</td>
      </tr>
      <tr>
        <td id="L1100" class="blob-num js-line-number" data-line-number="1100"></td>
        <td id="LC1100" class="blob-code js-file-line">   },</td>
      </tr>
      <tr>
        <td id="L1101" class="blob-num js-line-number" data-line-number="1101"></td>
        <td id="LC1101" class="blob-code js-file-line">   &quot;outputs&quot;: [</td>
      </tr>
      <tr>
        <td id="L1102" class="blob-num js-line-number" data-line-number="1102"></td>
        <td id="LC1102" class="blob-code js-file-line">    {</td>
      </tr>
      <tr>
        <td id="L1103" class="blob-num js-line-number" data-line-number="1103"></td>
        <td id="LC1103" class="blob-code js-file-line">     &quot;data&quot;: {</td>
      </tr>
      <tr>
        <td id="L1104" class="blob-num js-line-number" data-line-number="1104"></td>
        <td id="LC1104" class="blob-code js-file-line">      &quot;text/plain&quot;: [</td>
      </tr>
      <tr>
        <td id="L1105" class="blob-num js-line-number" data-line-number="1105"></td>
        <td id="LC1105" class="blob-code js-file-line">       &quot;(array([  1.65805164e-05]),\n&quot;,</td>
      </tr>
      <tr>
        <td id="L1106" class="blob-num js-line-number" data-line-number="1106"></td>
        <td id="LC1106" class="blob-code js-file-line">       &quot; array([  1.65566015e-05]),\n&quot;,</td>
      </tr>
      <tr>
        <td id="L1107" class="blob-num js-line-number" data-line-number="1107"></td>
        <td id="LC1107" class="blob-code js-file-line">       &quot; array([  1.65803762e-05]),\n&quot;,</td>
      </tr>
      <tr>
        <td id="L1108" class="blob-num js-line-number" data-line-number="1108"></td>
        <td id="LC1108" class="blob-code js-file-line">       &quot; 1.6580516426216441e-05,\n&quot;,</td>
      </tr>
      <tr>
        <td id="L1109" class="blob-num js-line-number" data-line-number="1109"></td>
        <td id="LC1109" class="blob-code js-file-line">       &quot; 1.6568546826193492e-05)&quot;</td>
      </tr>
      <tr>
        <td id="L1110" class="blob-num js-line-number" data-line-number="1110"></td>
        <td id="LC1110" class="blob-code js-file-line">      ]</td>
      </tr>
      <tr>
        <td id="L1111" class="blob-num js-line-number" data-line-number="1111"></td>
        <td id="LC1111" class="blob-code js-file-line">     },</td>
      </tr>
      <tr>
        <td id="L1112" class="blob-num js-line-number" data-line-number="1112"></td>
        <td id="LC1112" class="blob-code js-file-line">     &quot;execution_count&quot;: 30,</td>
      </tr>
      <tr>
        <td id="L1113" class="blob-num js-line-number" data-line-number="1113"></td>
        <td id="LC1113" class="blob-code js-file-line">     &quot;metadata&quot;: {},</td>
      </tr>
      <tr>
        <td id="L1114" class="blob-num js-line-number" data-line-number="1114"></td>
        <td id="LC1114" class="blob-code js-file-line">     &quot;output_type&quot;: &quot;execute_result&quot;</td>
      </tr>
      <tr>
        <td id="L1115" class="blob-num js-line-number" data-line-number="1115"></td>
        <td id="LC1115" class="blob-code js-file-line">    }</td>
      </tr>
      <tr>
        <td id="L1116" class="blob-num js-line-number" data-line-number="1116"></td>
        <td id="LC1116" class="blob-code js-file-line">   ],</td>
      </tr>
      <tr>
        <td id="L1117" class="blob-num js-line-number" data-line-number="1117"></td>
        <td id="LC1117" class="blob-code js-file-line">   &quot;source&quot;: [</td>
      </tr>
      <tr>
        <td id="L1118" class="blob-num js-line-number" data-line-number="1118"></td>
        <td id="LC1118" class="blob-code js-file-line">    &quot;s_prob2[0],s_prob2[1],s_prob2[2],s_prob3[0],s_prob3[1]&quot;</td>
      </tr>
      <tr>
        <td id="L1119" class="blob-num js-line-number" data-line-number="1119"></td>
        <td id="LC1119" class="blob-code js-file-line">   ]</td>
      </tr>
      <tr>
        <td id="L1120" class="blob-num js-line-number" data-line-number="1120"></td>
        <td id="LC1120" class="blob-code js-file-line">  },</td>
      </tr>
      <tr>
        <td id="L1121" class="blob-num js-line-number" data-line-number="1121"></td>
        <td id="LC1121" class="blob-code js-file-line">  {</td>
      </tr>
      <tr>
        <td id="L1122" class="blob-num js-line-number" data-line-number="1122"></td>
        <td id="LC1122" class="blob-code js-file-line">   &quot;cell_type&quot;: &quot;code&quot;,</td>
      </tr>
      <tr>
        <td id="L1123" class="blob-num js-line-number" data-line-number="1123"></td>
        <td id="LC1123" class="blob-code js-file-line">   &quot;execution_count&quot;: 59,</td>
      </tr>
      <tr>
        <td id="L1124" class="blob-num js-line-number" data-line-number="1124"></td>
        <td id="LC1124" class="blob-code js-file-line">   &quot;metadata&quot;: {</td>
      </tr>
      <tr>
        <td id="L1125" class="blob-num js-line-number" data-line-number="1125"></td>
        <td id="LC1125" class="blob-code js-file-line">    &quot;collapsed&quot;: false</td>
      </tr>
      <tr>
        <td id="L1126" class="blob-num js-line-number" data-line-number="1126"></td>
        <td id="LC1126" class="blob-code js-file-line">   },</td>
      </tr>
      <tr>
        <td id="L1127" class="blob-num js-line-number" data-line-number="1127"></td>
        <td id="LC1127" class="blob-code js-file-line">   &quot;outputs&quot;: [</td>
      </tr>
      <tr>
        <td id="L1128" class="blob-num js-line-number" data-line-number="1128"></td>
        <td id="LC1128" class="blob-code js-file-line">    {</td>
      </tr>
      <tr>
        <td id="L1129" class="blob-num js-line-number" data-line-number="1129"></td>
        <td id="LC1129" class="blob-code js-file-line">     &quot;data&quot;: {</td>
      </tr>
      <tr>
        <td id="L1130" class="blob-num js-line-number" data-line-number="1130"></td>
        <td id="LC1130" class="blob-code js-file-line">      &quot;text/plain&quot;: [</td>
      </tr>
      <tr>
        <td id="L1131" class="blob-num js-line-number" data-line-number="1131"></td>
        <td id="LC1131" class="blob-code js-file-line">       &quot;numpy.ndarray&quot;</td>
      </tr>
      <tr>
        <td id="L1132" class="blob-num js-line-number" data-line-number="1132"></td>
        <td id="LC1132" class="blob-code js-file-line">      ]</td>
      </tr>
      <tr>
        <td id="L1133" class="blob-num js-line-number" data-line-number="1133"></td>
        <td id="LC1133" class="blob-code js-file-line">     },</td>
      </tr>
      <tr>
        <td id="L1134" class="blob-num js-line-number" data-line-number="1134"></td>
        <td id="LC1134" class="blob-code js-file-line">     &quot;execution_count&quot;: 59,</td>
      </tr>
      <tr>
        <td id="L1135" class="blob-num js-line-number" data-line-number="1135"></td>
        <td id="LC1135" class="blob-code js-file-line">     &quot;metadata&quot;: {},</td>
      </tr>
      <tr>
        <td id="L1136" class="blob-num js-line-number" data-line-number="1136"></td>
        <td id="LC1136" class="blob-code js-file-line">     &quot;output_type&quot;: &quot;execute_result&quot;</td>
      </tr>
      <tr>
        <td id="L1137" class="blob-num js-line-number" data-line-number="1137"></td>
        <td id="LC1137" class="blob-code js-file-line">    }</td>
      </tr>
      <tr>
        <td id="L1138" class="blob-num js-line-number" data-line-number="1138"></td>
        <td id="LC1138" class="blob-code js-file-line">   ],</td>
      </tr>
      <tr>
        <td id="L1139" class="blob-num js-line-number" data-line-number="1139"></td>
        <td id="LC1139" class="blob-code js-file-line">   &quot;source&quot;: [</td>
      </tr>
      <tr>
        <td id="L1140" class="blob-num js-line-number" data-line-number="1140"></td>
        <td id="LC1140" class="blob-code js-file-line">    &quot;type(s_prob3)&quot;</td>
      </tr>
      <tr>
        <td id="L1141" class="blob-num js-line-number" data-line-number="1141"></td>
        <td id="LC1141" class="blob-code js-file-line">   ]</td>
      </tr>
      <tr>
        <td id="L1142" class="blob-num js-line-number" data-line-number="1142"></td>
        <td id="LC1142" class="blob-code js-file-line">  },</td>
      </tr>
      <tr>
        <td id="L1143" class="blob-num js-line-number" data-line-number="1143"></td>
        <td id="LC1143" class="blob-code js-file-line">  {</td>
      </tr>
      <tr>
        <td id="L1144" class="blob-num js-line-number" data-line-number="1144"></td>
        <td id="LC1144" class="blob-code js-file-line">   &quot;cell_type&quot;: &quot;code&quot;,</td>
      </tr>
      <tr>
        <td id="L1145" class="blob-num js-line-number" data-line-number="1145"></td>
        <td id="LC1145" class="blob-code js-file-line">   &quot;execution_count&quot;: 31,</td>
      </tr>
      <tr>
        <td id="L1146" class="blob-num js-line-number" data-line-number="1146"></td>
        <td id="LC1146" class="blob-code js-file-line">   &quot;metadata&quot;: {</td>
      </tr>
      <tr>
        <td id="L1147" class="blob-num js-line-number" data-line-number="1147"></td>
        <td id="LC1147" class="blob-code js-file-line">    &quot;collapsed&quot;: false</td>
      </tr>
      <tr>
        <td id="L1148" class="blob-num js-line-number" data-line-number="1148"></td>
        <td id="LC1148" class="blob-code js-file-line">   },</td>
      </tr>
      <tr>
        <td id="L1149" class="blob-num js-line-number" data-line-number="1149"></td>
        <td id="LC1149" class="blob-code js-file-line">   &quot;outputs&quot;: [</td>
      </tr>
      <tr>
        <td id="L1150" class="blob-num js-line-number" data-line-number="1150"></td>
        <td id="LC1150" class="blob-code js-file-line">    {</td>
      </tr>
      <tr>
        <td id="L1151" class="blob-num js-line-number" data-line-number="1151"></td>
        <td id="LC1151" class="blob-code js-file-line">     &quot;data&quot;: {</td>
      </tr>
      <tr>
        <td id="L1152" class="blob-num js-line-number" data-line-number="1152"></td>
        <td id="LC1152" class="blob-code js-file-line">      &quot;image/png&quot;: [</td>
      </tr>
      <tr>
        <td id="L1153" class="blob-num js-line-number" data-line-number="1153"></td>
        <td id="LC1153" class="blob-code js-file-line">       &quot;iVBORw0KGgoAAAANSUhEUgAAAXIAAAEGCAYAAAB4lx7eAAAABHNCSVQICAgIfAhkiAAAAAlwSFlz\n&quot;,</td>
      </tr>
      <tr>
        <td id="L1154" class="blob-num js-line-number" data-line-number="1154"></td>
        <td id="LC1154" class="blob-code js-file-line">       &quot;AAALEgAACxIB0t1+/AAAIABJREFUeJztnXf8FcXV/z8HpAp2BQUVLFiwAIqiiHzFEjGWEPUHUQlq\n&quot;,</td>
      </tr>
      <tr>
        <td id="L1155" class="blob-num js-line-number" data-line-number="1155"></td>
        <td id="LC1155" class="blob-code js-file-line">       &quot;EhUb1lij6KOJjz7Y8mhMLGDBioZoFB8LIIoFlN4hoIIoKCIoCijM74/Z9e7du73c3b3fz/v1uq+7\n&quot;,</td>
      </tr>
      <tr>
        <td id="L1156" class="blob-num js-line-number" data-line-number="1156"></td>
        <td id="LC1156" class="blob-code js-file-line">       &quot;Ozs7c+be3bOzZ86cEaUUCCGEFJcGWQtACCEkHlTkhBBScKjICSGk4FCRE0JIwaEiJ4SQgkNFTggh\n&quot;,</td>
      </tr>
      <tr>
        <td id="L1157" class="blob-num js-line-number" data-line-number="1157"></td>
        <td id="LC1157" class="blob-code js-file-line">       &quot;BSe2IheRR0RkmYhMT0IgEXlVRFaKyEsOx24VkbkiMktELkpSRhGpE5FVIjLZ+FxvOXaNiMwUkeki\n&quot;,</td>
      </tr>
      <tr>
        <td id="L1158" class="blob-num js-line-number" data-line-number="1158"></td>
        <td id="LC1158" class="blob-code js-file-line">       &quot;8qSINDHS7xCR2SIyVUReEJHNjfSjReRDEZlmfB9hpDcTkZeNc2aIyF8c5DhZRDaKSBdjf2cR+ciQ\n&quot;,</td>
      </tr>
      <tr>
        <td id="L1159" class="blob-num js-line-number" data-line-number="1159"></td>
        <td id="LC1159" class="blob-code js-file-line">       &quot;aaaIDLLkvVBEFhj5t3Joz2SjnrGW9C1EZIQhwywR6Rb0d/T47TZYfreRccsjhIREKRXrA6AHgM4A\n&quot;,</td>
      </tr>
      <tr>
        <td id="L1160" class="blob-num js-line-number" data-line-number="1160"></td>
        <td id="LC1160" class="blob-code js-file-line">       &quot;psctyyivF4DjAbxkSz8LwDDL/rYO5w4D0DOKjADqALzokN4OwEIATYz9ZwAMMLaPBtDA2L4NwG3G\n&quot;,</td>
      </tr>
      <tr>
        <td id="L1161" class="blob-num js-line-number" data-line-number="1161"></td>
        <td id="LC1161" class="blob-code js-file-line">       &quot;dicArY3tjgCWGNvNTPkANAIwDsCxlrpaGmnvAuhiydfI2N4UwMcA2lrq2RnAIgBbWcrZAsBMS75t\n&quot;,</td>
      </tr>
      <tr>
        <td id="L1162" class="blob-num js-line-number" data-line-number="1162"></td>
        <td id="LC1162" class="blob-code js-file-line">       &quot;LMceBXC2sb0JgM0T+M++TeK/54cffqJ9YvfIlVJvA1hpTRORXUVklNEbHScie4QobzSA7xwOnQfg\n&quot;,</td>
      </tr>
      <tr>
        <td id="L1163" class="blob-num js-line-number" data-line-number="1163"></td>
        <td id="LC1163" class="blob-code js-file-line">       &quot;Zku+L51ONz6+MrogDmmrAfwIoLmIbAKgOYDPjHJfV0ptNPJ9AKCtkT5FKfWFkT4LQDMRaaSU+kEp\n&quot;,</td>
      </tr>
      <tr>
        <td id="L1164" class="blob-num js-line-number" data-line-number="1164"></td>
        <td id="LC1164" class="blob-code js-file-line">       &quot;9ZaR50cAkwC0sdT1X9APhHWmLEqpH428gH4Q/Ajge0s9nzjIfBqA55VSS4x8XwGA8cbQQyn1iJH+\n&quot;,</td>
      </tr>
      <tr>
        <td id="L1165" class="blob-num js-line-number" data-line-number="1165"></td>
        <td id="LC1165" class="blob-code js-file-line">       &quot;k1JqlXEs8n9GCMmWtGzk/wBwkVLqQABXArg/gTJ3BdBPRCaKyCsisptLPidlHAQF4FDDTPKKiOwN\n&quot;,</td>
      </tr>
      <tr>
        <td id="L1166" class="blob-num js-line-number" data-line-number="1166"></td>
        <td id="LC1166" class="blob-code js-file-line">       &quot;AEqprwEMAfApgKUAvlFKveFw/tkAXnFIPxnARxZlrIUU2QLACQDeNPa7AGijlDLLUJa8bUVkmiHD\n&quot;,</td>
      </tr>
      <tr>
        <td id="L1167" class="blob-num js-line-number" data-line-number="1167"></td>
        <td id="LC1167" class="blob-code js-file-line">       &quot;XYZMXuwOYCsRGWMo5v5GensAX4rIUBGZJCIPikhz41ic/6ypYf55T0ROCnEeISQBNkm6QBFpAeAQ\n&quot;,</td>
      </tr>
      <tr>
        <td id="L1168" class="blob-num js-line-number" data-line-number="1168"></td>
        <td id="LC1168" class="blob-code js-file-line">       &quot;AM+J/KxTGxvHfg3gJofTliilevsU3QTAD0qpriLSB8AjAA4XkV9A92IBYCcAh4nIdwDWKqUOCSH6\n&quot;,</td>
      </tr>
      <tr>
        <td id="L1169" class="blob-num js-line-number" data-line-number="1169"></td>
        <td id="LC1169" class="blob-code js-file-line">       &quot;JAA7KqW+F5HeAEYC6CAiuwK4BNrEsspo1+lKqeGWNl8HYL1S6klrgSLS0ZDtaFv6JgCeAnCPUupj\n&quot;,</td>
      </tr>
      <tr>
        <td id="L1170" class="blob-num js-line-number" data-line-number="1170"></td>
        <td id="LC1170" class="blob-code js-file-line">       &quot;EWkA4E4AA6zZzA2jZ72fiGwP4C0ReU0ptcCjLY0AdAFwJPQbxHsi8j70/90FwIVKqYkicjeAq0Xk\n&quot;,</td>
      </tr>
      <tr>
        <td id="L1171" class="blob-num js-line-number" data-line-number="1171"></td>
        <td id="LC1171" class="blob-code js-file-line">       &quot;vwEciuj/2U5Kqc9FpD2A0SIyXSm10EM+QkiSJGGfgVZy043tzQAsjVleT1TayGcD2NnYFuiesf28\n&quot;,</td>
      </tr>
      <tr>
        <td id="L1172" class="blob-num js-line-number" data-line-number="1172"></td>
        <td id="LC1172" class="blob-code js-file-line">       &quot;oQAO95MxoAyLAGwNoC+Ahyzp/QHcZ9k/E8B4AE1t57cFMBfAIQ5lPwLgbsv+5gC+NOpcBOAHaPNN\n&quot;,</td>
      </tr>
      <tr>
        <td id="L1173" class="blob-num js-line-number" data-line-number="1173"></td>
        <td id="LC1173" class="blob-code js-file-line">       &quot;F4dzHwZwioOsVhv5VQAGW/Yfgn4zaAVgkSW9B4B/Q9vmY/1ntv/g5CTK4ocffoJ9fE0rYb0clFKr\n&quot;,</td>
      </tr>
      <tr>
        <td id="L1174" class="blob-num js-line-number" data-line-number="1174"></td>
        <td id="LC1174" class="blob-code js-file-line">       &quot;ASwSkVOM80VE9vOrx16tQ9pI6IFQQCv6uSHO9a9QpJUY3VEROQiAKKVWGPV0MzxOBMBR0HZviMix\n&quot;,</td>
      </tr>
      <tr>
        <td id="L1175" class="blob-num js-line-number" data-line-number="1175"></td>
        <td id="LC1175" class="blob-code js-file-line">       &quot;0GaIk5RSay1lbQHgZQBXKaXes9VzC/TD7lIzTSm1Sim1rVKqvVKqPYD3AZyglJokIm1EpJlx7pYA\n&quot;,</td>
      </tr>
      <tr>
        <td id="L1176" class="blob-num js-line-number" data-line-number="1176"></td>
        <td id="LC1176" class="blob-code js-file-line">       &quot;ugOY5tPuf0G/mTQ0TCcHA5itlFoGYLGIdDDyHQlgplLqW0T8z4zrw/Ti2caQb2aQcwkhCeGn6eHj\n&quot;,</td>
      </tr>
      <tr>
        <td id="L1177" class="blob-num js-line-number" data-line-number="1177"></td>
        <td id="LC1177" class="blob-code js-file-line">       &quot;5QBtIlgKYD2AxdDeJe0AjAIwBfqmvj7okwXA2wCWQw/oLQZwtJG+OXTvcRp0D3hfh3Mde+QWGdeZ\n&quot;,</td>
      </tr>
      <tr>
        <td id="L1178" class="blob-num js-line-number" data-line-number="1178"></td>
        <td id="LC1178" class="blob-code js-file-line">       &quot;Mhrp5wI419i+AMAMQ+Z3AXSznP9Hox3Tjd/D9CKZD+ATAJONz/1G+vXQA7aTLZ9toHvpG42yzPSz\n&quot;,</td>
      </tr>
      <tr>
        <td id="L1179" class="blob-num js-line-number" data-line-number="1179"></td>
        <td id="LC1179" class="blob-code js-file-line">       &quot;HeQdg5LXylEAphpyTQbwW0u+i432rIfuwf/DcuwKi8wXW9L3BzDRKPMF8/+M+p9Bm9GmGedNM39b\n&quot;,</td>
      </tr>
      <tr>
        <td id="L1180" class="blob-num js-line-number" data-line-number="1180"></td>
        <td id="LC1180" class="blob-code js-file-line">       &quot;fvjhp3ofUco9jK3h5TBZKbWLayZCCCGZ4mda8fJyIIQQkgP8FLnp5XC/UqoLgDUArk5dKkIIIYHx\n&quot;,</td>
      </tr>
      <tr>
        <td id="L1181" class="blob-num js-line-number" data-line-number="1181"></td>
        <td id="LC1181" class="blob-code js-file-line">       &quot;cz9cAu1mNtHYHwGbIhcRLjFECCERUEpFnfdShmePXOnZiVYvh6Pg4JGQtaE/zc+NN96YuQxsH9tX\n&quot;,</td>
      </tr>
      <tr>
        <td id="L1182" class="blob-num js-line-number" data-line-number="1182"></td>
        <td id="LC1182" class="blob-code js-file-line">       &quot;H9tXy21TKtn+b5AJQRcBGC4ijQH8B9orhRBCSE7wVeRKqakAulZBFkIIIRFgPHIf6urqshYhVdi+\n&quot;,</td>
      </tr>
      <tr>
        <td id="L1183" class="blob-num js-line-number" data-line-number="1183"></td>
        <td id="LC1183" class="blob-code js-file-line">       &quot;YlPL7avltiWNpx95oAJEVNL2HkIIqQXefRd44w3ghhsqj4kIVEKDnVTkhBCSEn36ACNHAk4qMklF\n&quot;,</td>
      </tr>
      <tr>
        <td id="L1184" class="blob-num js-line-number" data-line-number="1184"></td>
        <td id="LC1184" class="blob-code js-file-line">       &quot;TtMKIYQUHCpyQggpOFTkhBBScKjICSEkJSQRC7g/VOSEEJIS1fIDoSInhJCCQ0VOCCEFh4qcEJJ7\n&quot;,</td>
      </tr>
      <tr>
        <td id="L1185" class="blob-num js-line-number" data-line-number="1185"></td>
        <td id="LC1185" class="blob-code js-file-line">       &quot;9tkHWLMmaynCQxs5IYQYzJwJLF9emX7vvcBpp1VfnrxBRU4IKSwPPww89VTWUrjDwU5CCCGBoCIn\n&quot;,</td>
      </tr>
      <tr>
        <td id="L1186" class="blob-num js-line-number" data-line-number="1186"></td>
        <td id="LC1186" class="blob-code js-file-line">       &quot;hJCUoI2cEEJ8YLw+DRU5IaQQUGm7Q0VOCKk5Xn4ZmD492TI3bgR++inZMpOCipwQUhiU0vG9/Tj+\n&quot;,</td>
      </tr>
      <tr>
        <td id="L1187" class="blob-num js-line-number" data-line-number="1187"></td>
        <td id="LC1187" class="blob-code js-file-line">       &quot;eODss5Ote+BAYPvtky0zKajICSGF4Ztv9GINQUjaFPPhh8BXXyVbZlJQkRNCCkFYD5D6ZFOnIieE\n&quot;,</td>
      </tr>
      <tr>
        <td id="L1188" class="blob-num js-line-number" data-line-number="1188"></td>
        <td id="LC1188" class="blob-code js-file-line">       &quot;1CTVUOQ//gh8/HH69fhBRU5+ZvlyYOuts5aCEGfy2MO+806gfXv34/QjJ1Vn0SLg66+zloIQd6ql\n&quot;,</td>
      </tr>
      <tr>
        <td id="L1189" class="blob-num js-line-number" data-line-number="1189"></td>
        <td id="LC1189" class="blob-code js-file-line">       &quot;GIPW7Xe/cIo+IYTEIGklmsc3AhMqckJI5vToAcydm2yZYRVvFB/xLN8QrGyStQCEkGKyZIlWljvu\n&quot;,</td>
      </tr>
      <tr>
        <td id="L1190" class="blob-num js-line-number" data-line-number="1190"></td>
        <td id="LC1190" class="blob-code js-file-line">       &quot;GL+sd94Bxo0D9tgjflkmYRV5o0ZamTds6Hw8rNL+4Qdgw4bK9FGjkp9YREVOfibPr44kf+yzj1ZU\n&quot;,</td>
      </tr>
      <tr>
        <td id="L1191" class="blob-num js-line-number" data-line-number="1191"></td>
        <td id="LC1191" class="blob-code js-file-line">       &quot;336btST5pHlz5/QTT0xekdO0UkBEnJ/0hFSTVauA777LWgp37B2T66/XszOTJC+mFSrygpJGzIe8\n&quot;,</td>
      </tr>
      <tr>
        <td id="L1192" class="blob-num js-line-number" data-line-number="1192"></td>
        <td id="LC1192" class="blob-code js-file-line">       &quot;XJQkWdatAz77LGspsuevfwUeeCDZMs2HRZi32TTuMypyQmqc664D2rbNWopkCKMEkzYVetU9fnwy\n&quot;,</td>
      </tr>
      <tr>
        <td id="L1193" class="blob-num js-line-number" data-line-number="1193"></td>
        <td id="LC1193" class="blob-code js-file-line">       &quot;5USFipyQGufLL7OWIBhBFK9bnnHjKo9Vw/3QVMrr1gUvh4qc/EwaA5Mc7KxN6sP/2rMnMGVK9eu9\n&quot;,</td>
      </tr>
      <tr>
        <td id="L1194" class="blob-num js-line-number" data-line-number="1194"></td>
        <td id="LC1194" class="blob-code js-file-line">       &quot;7Tb9nfWYFRU5IaTqRI0iaO/NWh9SXboAU6c6HwtK1Ide1nHKqcgJqXHyNog9bhyw7bbhzwuiZBcu\n&quot;,</td>
      </tr>
      <tr>
        <td id="L1195" class="blob-num js-line-number" data-line-number="1195"></td>
        <td id="LC1195" class="blob-code js-file-line">       &quot;DJc/DF6/Y5geOU0r5GesF8Ps2cCQIfHLfOSR+GWQ/JE308qKFc7paT5wRHSkwrR48sng8memyEXk\n&quot;,</td>
      </tr>
      <tr>
        <td id="L1196" class="blob-num js-line-number" data-line-number="1196"></td>
        <td id="LC1196" class="blob-code js-file-line">       &quot;YxGZJiKTRWRC8mKQsFhvzrvvBq64In6ZDz4YvwxC0sRPCXo9tNavT1YWK08/nV7ZQQg6s1MBqFNK\n&quot;,</td>
      </tr>
      <tr>
        <td id="L1197" class="blob-num js-line-number" data-line-number="1197"></td>
        <td id="LC1197" class="blob-code js-file-line">       &quot;MTYeIeRnqmm2EUnfXzvoOYsXA/36hS8/TB1hCGNayZmljWTBv/+dv1d1kj+iLLYQ5bpauzbd8t2Y\n&quot;,</td>
      </tr>
      <tr>
        <td id="L1198" class="blob-num js-line-number" data-line-number="1198"></td>
        <td id="LC1198" class="blob-code js-file-line">       &quot;MAF4991o52apyBWAN0TkQxH5Q/JikKJwwgnuNk5S/3BTSu3bA6tXJ1uXVRFPnw6cemqlcg6iJI88\n&quot;,</td>
      </tr>
      <tr>
        <td id="L1199" class="blob-num js-line-number" data-line-number="1199"></td>
        <td id="LC1199" class="blob-code js-file-line">       &quot;sjKte/dwsrz1lnN6Vp2coKaV7kqpz0VkWwCvi8gcpdTb5sHBgwf/nLGurg51dXWJCkmisWYN0Lix\n&quot;,</td>
      </tr>
      <tr>
        <td id="L1200" class="blob-num js-line-number" data-line-number="1200"></td>
        <td id="LC1200" class="blob-code js-file-line">       &quot;juqWJHnzgiD5JA3favPa228//b3rruXHZ8woLc7splRHj65MC9O7njpVT/d34rrrgD//2fnY2LFj\n&quot;,</td>
      </tr>
      <tr>
        <td id="L1201" class="blob-num js-line-number" data-line-number="1201"></td>
        <td id="LC1201" class="blob-code js-file-line">       &quot;MXbs2FRs9YEUuVLqc+P7SxH5J4CDADgqcpIfNt8cOP104NFHq1fn3/6mo7vtsAMVfn1g40Y9c9Tq\n&quot;,</td>
      </tr>
      <tr>
        <td id="L1202" class="blob-num js-line-number" data-line-number="1202"></td>
        <td id="LC1202" class="blob-code js-file-line">       &quot;TpjmoKIfN9wA/OlP0c/36lGb13OnTu55Jk1yP2Z2cocMMT1obooioiO+phURaS4iLY3tTQEcA2B6\n&quot;,</td>
      </tr>
      <tr>
        <td id="L1203" class="blob-num js-line-number" data-line-number="1203"></td>
        <td id="LC1203" class="blob-code js-file-line">       &quot;YhKQ1NiwAZgzp7p1nn++juvxr39Vt15SPe69V5vYTFq1Kj9+6aX621SKM2dWRy47XpOH0iJIHVnZ\n&quot;,</td>
      </tr>
      <tr>
        <td id="L1204" class="blob-num js-line-number" data-line-number="1204"></td>
        <td id="LC1204" class="blob-code js-file-line">       &quot;yFsBeFtEpgD4AMC/lVKvJS8KCUO1bXGXXQa89FLw/Fz7s7hs2KBNFG4MH64HvU2UAiZOLO3/5z/6\n&quot;,</td>
      </tr>
      <tr>
        <td id="L1205" class="blob-num js-line-number" data-line-number="1205"></td>
        <td id="LC1205" class="blob-code js-file-line">       &quot;u18/4NNPddxyK3ZF9vrrwWWzn+ulFL/5Rn8//njw8r2IEwsmbXwVuVJqkVKqk/HZRyn1l2oIRvLD\n&quot;,</td>
      </tr>
      <tr>
        <td id="L1206" class="blob-num js-line-number" data-line-number="1206"></td>
        <td id="LC1206" class="blob-code js-file-line">       &quot;xInAXXfpnhipfZ54Ath333DnHHRQadtUZq+/7jwJx67s/vGPyjx77AE8/HB52qefArvvHlympUu1\n&quot;,</td>
      </tr>
      <tr>
        <td id="L1207" class="blob-num js-line-number" data-line-number="1207"></td>
        <td id="LC1207" class="blob-code js-file-line">       &quot;Pfu3v3WuNwjjxxfDRMiZnTVOkIvwp5+8B6bMm5Ruh/WD77/3Pu53HSRxncybB7zxRnna1KnAsmXh\n&quot;,</td>
      </tr>
      <tr>
        <td id="L1208" class="blob-num js-line-number" data-line-number="1208"></td>
        <td id="LC1208" class="blob-code js-file-line">       &quot;yjF75XHkMElKoWftR05yhPViiHthdOgAbBJg2NtpEGvQIO0dQ0hU8tzjveiicPnzbCMnGXD11d69\n&quot;,</td>
      </tr>
      <tr>
        <td id="L1209" class="blob-num js-line-number" data-line-number="1209"></td>
        <td id="LC1209" class="blob-code js-file-line">       &quot;ZLcLRin9ahyGRYuC5XPqqd17LzBtmrMcpLYYMUKbQcJMk/eK4V0EwnZSqMhJGf/939FeCzduBPr3\n&quot;,</td>
      </tr>
      <tr>
        <td id="L1210" class="blob-num js-line-number" data-line-number="1210"></td>
        <td id="LC1210" class="blob-code js-file-line">       &quot;T16eIFB555Ok/peBA4Fzz61efUngpzS/+gr43e9K+3Flz+1gJ8kHv/kN0LdvZfrDDwN//3vwclas\n&quot;,</td>
      </tr>
      <tr>
        <td id="L1211" class="blob-num js-line-number" data-line-number="1211"></td>
        <td id="LC1211" class="blob-code js-file-line">       &quot;SG/llDzdwKSE0xuTyb77AgMGpFe3nyKNG5Ewbu/20Uedo36uWBHOQ8Zk9Gj/Zd/SuE+oyAvC008D\n&quot;,</td>
      </tr>
      <tr>
        <td id="L1212" class="blob-num js-line-number" data-line-number="1212"></td>
        <td id="LC1212" class="blob-code js-file-line">       &quot;zz4LbL99efrll5fvb9xYvm8fHNpmG+Dll6PJYF6Abhe09QL9/e+j1UGSx0uRz5ih44MHIekH9qRJ\n&quot;,</td>
      </tr>
      <tr>
        <td id="L1213" class="blob-num js-line-number" data-line-number="1213"></td>
        <td id="LC1213" class="blob-code js-file-line">       &quot;euaxvfww+CnXlSvDlwlojxc7EwLGfa323A2AirxwfPGF/jYv+gaWf1Ck/MYAnIMXRV3D0axz40Yd\n&quot;,</td>
      </tr>
      <tr>
        <td id="L1214" class="blob-num js-line-number" data-line-number="1214"></td>
        <td id="LC1214" class="blob-code js-file-line">       &quot;A92eToqJUtoWbI7JxO3l+tnITUxlGbQ+p7L8rr2sl2AzSXuCHBV5Dgnzquv2amq/wL/9Vk+fB+Lf\n&quot;,</td>
      </tr>
      <tr>
        <td id="L1215" class="blob-num js-line-number" data-line-number="1215"></td>
        <td id="LC1215" class="blob-code js-file-line">       &quot;qP/6F7D33v51kuLQokVparvf/+h3/cyfH6zOalwveRlY/dWv0i0/aNAsUkUee0x/mxdhz56VeWbO\n&quot;,</td>
      </tr>
      <tr>
        <td id="L1216" class="blob-num js-line-number" data-line-number="1216"></td>
        <td id="LC1216" class="blob-code js-file-line">       &quot;BLp2Bb77zr+8hQsrgwvFwW0kn4q8mJj/m6mAzbc+v/xuLF5c2vZSpH6mOjtOJqKgDw03gkZoPP/8\n&quot;,</td>
      </tr>
      <tr>
        <td id="L1217" class="blob-num js-line-number" data-line-number="1217"></td>
        <td id="LC1217" class="blob-code js-file-line">       &quot;4GVmcR+wR14AnGyYL74Y/PxVq8r3/eyGDz4ItGnjfjyIjZykz/z5/ko3CJ9+Wr7/+eeVeZ59tnL8\n&quot;,</td>
      </tr>
      <tr>
        <td id="L1218" class="blob-num js-line-number" data-line-number="1218"></td>
        <td id="LC1218" class="blob-code js-file-line">       &quot;JWn8FPqwYcnWt3w5cPPNwfKab7Nx6dOn8n5MAiryghJndt1ll3mfO3as82CPWw8q6CDYihXAAQd4\n&quot;,</td>
      </tr>
      <tr>
        <td id="L1219" class="blob-num js-line-number" data-line-number="1219"></td>
        <td id="LC1219" class="blob-code js-file-line">       &quot;5yHB6dAB+OUvkyvP/F+dFGrfvtEGDrN+uHs9HH74ofp1humAhYGKnITGHs0uaHS7OXO8w3zG5ZNP\n&quot;,</td>
      </tr>
      <tr>
        <td id="L1220" class="blob-num js-line-number" data-line-number="1220"></td>
        <td id="LC1220" class="blob-code js-file-line">       &quot;gFGj0is/j/hNp/fCyXtp40b/gTlrgKw42JV8tZW+U31RVjbKA1TkOSaI7bBtW+f0NG+KBx4o33/o\n&quot;,</td>
      </tr>
      <tr>
        <td id="L1221" class="blob-num js-line-number" data-line-number="1221"></td>
        <td id="LC1221" class="blob-code js-file-line">       &quot;ofTrDMIllwDHHZetDNUmzmDe8cdXpk2eHD6eSVTM6+WZZ5It1zqG43ZNfvSR8yo/HTrob3PhiqJA\n&quot;,</td>
      </tr>
      <tr>
        <td id="L1222" class="blob-num js-line-number" data-line-number="1222"></td>
        <td id="LC1222" class="blob-code js-file-line">       &quot;RV5wttjCP09SI/f2m8Leu66WIm/WDHiNgZRzxznnVJrknK49My3I9fLTT+HHAV591bt+ADj2WODM\n&quot;,</td>
      </tr>
      <tr>
        <td id="L1223" class="blob-num js-line-number" data-line-number="1223"></td>
        <td id="LC1223" class="blob-code js-file-line">       &quot;M8OVGxSv8BlpQUVeD0jqApo6tXz/qafKyw9bz5Il5XGt160LNqC2dq3z633WbwRxefRRoGXL+OV8\n&quot;,</td>
      </tr>
      <tr>
        <td id="L1224" class="blob-num js-line-number" data-line-number="1224"></td>
        <td id="LC1224" class="blob-code js-file-line">       &quot;9FHpv7H6+/sR1+f6wQcrH7D2/+S998JdL3ffXTkJLgwDB0Y/t0hQkRcctx7H8uXJl+mG143ZvbsO\n&quot;,</td>
      </tr>
      <tr>
        <td id="L1225" class="blob-num js-line-number" data-line-number="1225"></td>
        <td id="LC1225" class="blob-code js-file-line">       &quot;tuR0/JpryleaadoU+J//CVd3LTF+fDB3UidWrizZdy+8EDjtNL3t5O/vhpO3SpKIAIceWlpT0475\n&quot;,</td>
      </tr>
      <tr>
        <td id="L1226" class="blob-num js-line-number" data-line-number="1226"></td>
        <td id="LC1226" class="blob-code js-file-line">       &quot;8LHy1Vfx6kzCqycsWfiuU5EXFD8f3B12qJ4MXrz7briVhYJOby56VD0n4kxRP/VUvXJ9HLL+/d56\n&quot;,</td>
      </tr>
      <tr>
        <td id="L1227" class="blob-num js-line-number" data-line-number="1227"></td>
        <td id="LC1227" class="blob-code js-file-line">       &quot;C1iwoFyOIOGVo+D1WxfxzY6KPMesXeufJ+ubz4r9Bvjww/L9IEGI4txEYc59//34AZuSxvpwfu+9\n&quot;,</td>
      </tr>
      <tr>
        <td id="L1228" class="blob-num js-line-number" data-line-number="1228"></td>
        <td id="LC1228" class="blob-code js-file-line">       &quot;cOcGcQ3cbrtwy6pFIcx/4GRGs/q0KwU0bBhfprDEdRGkjZyUscMOpfUP7YS5KKql7O0yde1aSu/Y\n&quot;,</td>
      </tr>
      <tr>
        <td id="L1229" class="blob-num js-line-number" data-line-number="1229"></td>
        <td id="LC1229" class="blob-code js-file-line">       &quot;UbsHJkXcNh1ySHJrOabBlCnO6Rs2+MfIfv995/Qvv9RvSG5Uu1Nw6qmVafYHUloyeZUb1bxlsn49\n&quot;,</td>
      </tr>
      <tr>
        <td id="L1230" class="blob-num js-line-number" data-line-number="1230"></td>
        <td id="LC1230" class="blob-code js-file-line">       &quot;MGZMZfpdd8Ur1wsq8oT58stkfVHdYpLfd58e8AtyoXfunJw8Xng9XGbN0q5teSKvPXJARyW88Ua9\n&quot;,</td>
      </tr>
      <tr>
        <td id="L1231" class="blob-num js-line-number" data-line-number="1231"></td>
        <td id="LC1231" class="blob-code js-file-line">       &quot;/eKLpenpf/6zjotiElbReeUXAW6/PVx5QQk6m/GUU0rbzzwDvPJKOvJ4XathpuM78fTTQK9elelX\n&quot;,</td>
      </tr>
      <tr>
        <td id="L1232" class="blob-num js-line-number" data-line-number="1232"></td>
        <td id="LC1232" class="blob-code js-file-line">       &quot;XBGvXC+oyBPmuOPC2So3bCh/xTQHBk3cbrzVq4HBg9PpsUQd7PQrz8zntWCGV1lr1oRzXSsa1sHG\n&quot;,</td>
      </tr>
      <tr>
        <td id="L1233" class="blob-num js-line-number" data-line-number="1233"></td>
        <td id="LC1233" class="blob-code js-file-line">       &quot;++/X08fnzAFOOgn4wx90+oIF6cpgnST0wgvhz3f7X6LKndTkozAEjb/ixttvJyNHGKjIEybsqj5d\n&quot;,</td>
      </tr>
      <tr>
        <td id="L1234" class="blob-num js-line-number" data-line-number="1234"></td>
        <td id="LC1234" class="blob-code js-file-line">       &quot;ugC//nVpf+TIZOWpBkrp3m0Qmz4AbLml/g76wBg3Tg+E+b3yWhfKtbJhg/aQcSJPbwlOs1LNePNJ\n&quot;,</td>
      </tr>
      <tr>
        <td id="L1235" class="blob-num js-line-number" data-line-number="1235"></td>
        <td id="LC1235" class="blob-code js-file-line">       &quot;PbhE9O/x00+Vx955p/w/CeO6SLKFijxjpk3TbmdjxmhFFaY3rFT0HvnYscD/+3/Ox4LO7LMql379\n&quot;,</td>
      </tr>
      <tr>
        <td id="L1236" class="blob-num js-line-number" data-line-number="1236"></td>
        <td id="LC1236" class="blob-code js-file-line">       &quot;gHbtvPMFkdVJYfXsCdTVlac5lWVXPGecoW3CK1cCt91WmX/9ev0gzTNpmBZOOsnd3Gb/Xb/7Lnr8\n&quot;,</td>
      </tr>
      <tr>
        <td id="L1237" class="blob-num js-line-number" data-line-number="1237"></td>
        <td id="LC1237" class="blob-code js-file-line">       &quot;ekAH23IqN2vyZlaLCxV5TujVC7jzzsp0vxsg6g3y1FPAc885H4vi2TB5snsQonXrwpcH6AlD1vZZ\n&quot;,</td>
      </tr>
      <tr>
        <td id="L1238" class="blob-num js-line-number" data-line-number="1238"></td>
        <td id="LC1238" class="blob-code js-file-line">       &quot;t3/4wX/R6OHDtb3SxH7zFsk84yariH4LdOo9DxlSmfbOO9p8MmNGsHpPPll7u0SV01yG8Ntvg5dR\n&quot;,</td>
      </tr>
      <tr>
        <td id="L1239" class="blob-num js-line-number" data-line-number="1239"></td>
        <td id="LC1239" class="blob-code js-file-line">       &quot;DeKaT/IGFXkOMC9+p9ddL0aNih40qZoXstkrs97ka9f6P4TsphLr+bfeCuyyizYTeK1ZunFj6Tx7\n&quot;,</td>
      </tr>
      <tr>
        <td id="L1240" class="blob-num js-line-number" data-line-number="1240"></td>
        <td id="LC1240" class="blob-code js-file-line">       &quot;KFIvD471671lyxPnnef8EHUaXPMLbWD9jW+/PXwoBLu3hlne9OnhyiHhoCLPAebFvmFD+B52VDum\n&quot;,</td>
      </tr>
      <tr>
        <td id="L1241" class="blob-num js-line-number" data-line-number="1241"></td>
        <td id="LC1241" class="blob-code js-file-line">       &quot;tacal6A9W2s+t1C61hv+yCPLj7VuXZl/wQKtyLzqNOv99ls9eGj+xk7Bmu68Uz9kmjQJ3mutJk7X\n&quot;,</td>
      </tr>
      <tr>
        <td id="L1242" class="blob-num js-line-number" data-line-number="1242"></td>
        <td id="LC1242" class="blob-code js-file-line">       &quot;h587YtTyozzshw8v3zcXmbjoougyEX+oyDNizpxKf1+nWBd5sy1aCWuasPrEu9nhP/tMK3D7dHEv\n&quot;,</td>
      </tr>
      <tr>
        <td id="L1243" class="blob-num js-line-number" data-line-number="1243"></td>
        <td id="LC1243" class="blob-code js-file-line">       &quot;7x0v7OtHdurknf/yy0ueEnFsw0mzerV++/Kzmcdd/CHP1xtxh4o8I37xCz0pxUreFPn06ZWLOTth\n&quot;,</td>
      </tr>
      <tr>
        <td id="L1244" class="blob-num js-line-number" data-line-number="1244"></td>
        <td id="LC1244" class="blob-code js-file-line">       &quot;7fV6EWQBWqWA0aMr7fduv8NBB+lvM/yoHatpBXC218+bp8u3r5Rjr/OHH4Devd1lT5N584BNNy09\n&quot;,</td>
      </tr>
      <tr>
        <td id="L1245" class="blob-num js-line-number" data-line-number="1245"></td>
        <td id="LC1245" class="blob-code js-file-line">       &quot;XPbaS3/bZYw7EzLtVYBIOlCRJ0wcxfvjj/kaTR8wwFueOG3187gZNChceda1G60+y0q5z5I0MU0o\n&quot;,</td>
      </tr>
      <tr>
        <td id="L1246" class="blob-num js-line-number" data-line-number="1246"></td>
        <td id="LC1246" class="blob-code js-file-line">       &quot;O+9cnm6Xb8mS8hCpWWKNSWONIBmXuLMaSTZw8eWMcFJi99xTfTm8cFrs1orZ0502zd310I1XXy1N\n&quot;,</td>
      </tr>
      <tr>
        <td id="L1247" class="blob-num js-line-number" data-line-number="1247"></td>
        <td id="LC1247" class="blob-code js-file-line">       &quot;nDrlFKBbN+/8YR4avXqVetf/+If+5J2ga0cSf/LskZLWGw8VeQ7wMkukbVq59dZ0y3fjhx/0tH0A\n&quot;,</td>
      </tr>
      <tr>
        <td id="L1248" class="blob-num js-line-number" data-line-number="1248"></td>
        <td id="LC1248" class="blob-code js-file-line">       &quot;eP5598k8JmFiZcf9zYLa/lu3BhYuBJo3j1cfUJqOHxZ6g1Ry9tlZS1B9aFpJGTc3NquyydKf+frr\n&quot;,</td>
      </tr>
      <tr>
        <td id="L1249" class="blob-num js-line-number" data-line-number="1249"></td>
        <td id="LC1249" class="blob-code js-file-line">       &quot;3Y+FkStufJlqKKSwUelEtEvoRx85H1+2LNqCxIQkDRV5yjRpkqx7GEkeN0W+eLGOkHjggc6uj4Be\n&quot;,</td>
      </tr>
      <tr>
        <td id="L1250" class="blob-num js-line-number" data-line-number="1250"></td>
        <td id="LC1250" class="blob-code js-file-line">       &quot;MzVoQChC0oKmlSqwfr32OFi3Tiv2MNAdLDvOOKM0ld0rbMHKlcDmm1dHJkKcYI+8ijRtGj4KXJaK\n&quot;,</td>
      </tr>
      <tr>
        <td id="L1251" class="blob-num js-line-number" data-line-number="1251"></td>
        <td id="LC1251" class="blob-code js-file-line">       &quot;3M+0kkZ85STau3gxMGFC8Pz2dlpDFCxcWNoeP15/22dR0mWPZE0gRS4iDUVksoiEWLSrfuKniEyb\n&quot;,</td>
      </tr>
      <tr>
        <td id="L1252" class="blob-num js-line-number" data-line-number="1252"></td>
        <td id="LC1252" class="blob-code js-file-line">       &quot;qtWmHDZiYi0TdwFgQCvmgw92Tg/CLbeUtq1mk7PO0t/NmwMrVpTSqchJ1gTtkQ8CMAtAgcIMpcuK\n&quot;,</td>
      </tr>
      <tr>
        <td id="L1253" class="blob-num js-line-number" data-line-number="1253"></td>
        <td id="LC1253" class="blob-code js-file-line">       &quot;FZWr91x1lbP3xdSp4datrM8UxY95m21K28uXA3/9q96eNEnHiXfCDHBFSNL4KnIRaQvgOAAPAaDF\n&quot;,</td>
      </tr>
      <tr>
        <td id="L1254" class="blob-num js-line-number" data-line-number="1254"></td>
        <td id="LC1254" class="blob-code js-file-line">       &quot;1uD444HdditPc1tdpU8f4MQTo9UTdxXxolHEMYHHHwcuvljLfv75wE036UBhS5ZU5s1bFEBSGwTp\n&quot;,</td>
      </tr>
      <tr>
        <td id="L1255" class="blob-num js-line-number" data-line-number="1255"></td>
        <td id="LC1255" class="blob-code js-file-line">       &quot;kd8F4EoAfIGE7lGtWlXZ8zYj/LmdY7J2bcnWGgS30LAkP3zxRWnbHBTt21fPFF2xAth779IM2SRM\n&quot;,</td>
      </tr>
      <tr>
        <td id="L1256" class="blob-num js-line-number" data-line-number="1256"></td>
        <td id="LC1256" class="blob-code js-file-line">       &quot;R4TY8fRaEZHjASxXSk0WkbrqiFRdlNLeJE2beuczPU46dtQzxxo1Kj/et2+w+g4/PJqc9YUsfOrj\n&quot;,</td>
      </tr>
      <tr>
        <td id="L1257" class="blob-num js-line-number" data-line-number="1257"></td>
        <td id="LC1257" class="blob-code js-file-line">       &quot;1mld1amBpWu0caOetTp7dulhTns6SQM/98NDAZwoIscBaApgMxF5TCn1W2umwRajYF1dHersy7lk\n&quot;,</td>
      </tr>
      <tr>
        <td id="L1258" class="blob-num js-line-number" data-line-number="1258"></td>
        <td id="LC1258" class="blob-code js-file-line">       &quot;wFFH6Vddv0US7r0XuOQSfaN5uZA1baqjzy1dqvfN5crS5qGHqlOPE1ko1TRNK0GXoouDXX7roCgA\n&quot;,</td>
      </tr>
      <tr>
        <td id="L1259" class="blob-num js-line-number" data-line-number="1259"></td>
        <td id="LC1259" class="blob-code js-file-line">       &quot;PPJI+WAqoBd7IPWBscYnBZRSgT4AegJ4ySFdVYP165VaubIyDVDq++8r85sx+fw4/3ydr0MH73yA\n&quot;,</td>
      </tr>
      <tr>
        <td id="L1260" class="blob-num js-line-number" data-line-number="1260"></td>
        <td id="LC1260" class="blob-code js-file-line">       &quot;UqtWlcq1lx80nR/vT9Om1a/z6afTK3vnnfX38uWltKVLlbr2Wn39fvNN9r85P1l9oJQKpn/9PmH9\n&quot;,</td>
      </tr>
      <tr>
        <td id="L1261" class="blob-num js-line-number" data-line-number="1261"></td>
        <td id="LC1261" class="blob-code js-file-line">       &quot;yFXCz5HAXHttZS/YdA1zW7Xa3jv68Uf3gDrz5ulevMkXXwBPPBFN1lohi4HHavSa7fTrV936LroI\n&quot;,</td>
      </tr>
      <tr>
        <td id="L1262" class="blob-num js-line-number" data-line-number="1262"></td>
        <td id="LC1262" class="blob-code js-file-line">       &quot;+POf9SIWW2xR3bpJbRJYkSul3lJKRfS9CMaSJaWQoq++WjJjACW/63320Qrm88+Bbbf1Lk9ZHjur\n&quot;,</td>
      </tr>
      <tr>
        <td id="L1263" class="blob-num js-line-number" data-line-number="1263"></td>
        <td id="LC1263" class="blob-code js-file-line">       &quot;VumZel7mkzffLG3fcw/Qv79eF9JcMku5PMacllubPFkvcFxk3NpLgmP+ho8+Wkp7/nn9ffXV1ZeH\n&quot;,</td>
      </tr>
      <tr>
        <td id="L1264" class="blob-num js-line-number" data-line-number="1264"></td>
        <td id="LC1264" class="blob-code js-file-line">       &quot;1Ca5mqL/y1/qkKhK6QD+/fsDjz1WnmfmTP29ww6lNLvCcVo8oFu38hjOfpi90V128c/rFGujSxf9\n&quot;,</td>
      </tr>
      <tr>
        <td id="L1265" class="blob-num js-line-number" data-line-number="1265"></td>
        <td id="LC1265" class="blob-code js-file-line">       &quot;0CEEAK68MmsJSC2Tqyn6XosYjBjhfmzlynKf3UMP1d+mMjbXanTCrddpH6Tyyrt8uXN6Htd8JNWl\n&quot;,</td>
      </tr>
      <tr>
        <td id="L1266" class="blob-num js-line-number" data-line-number="1266"></td>
        <td id="LC1266" class="blob-code js-file-line">       &quot;KBOcSLHJpEcuom3VLVtWpluZOzdYeb/5jf42Fe2kSeXHw6w0/9lnegq202IEbor88suDl0/qF19/\n&quot;,</td>
      </tr>
      <tr>
        <td id="L1267" class="blob-num js-line-number" data-line-number="1267"></td>
        <td id="LC1267" class="blob-code js-file-line">       &quot;nbUEpD5QlR753LnAuefqbXOmojnouGZNqddiV+RmgKmkV3hZvFibXz7+uFI533mnewxxJyZNApo1\n&quot;,</td>
      </tr>
      <tr>
        <td id="L1268" class="blob-num js-line-number" data-line-number="1268"></td>
        <td id="LC1268" class="blob-code js-file-line">       &quot;S1Q8QggJRVUU+YgRJWVsf9Xs0UPbk4HSwrLmwKZSurdtPgSCcMcdpW2lgCefrPSE2GknoK5OLzX2\n&quot;,</td>
      </tr>
      <tr>
        <td id="L1269" class="blob-num js-line-number" data-line-number="1269"></td>
        <td id="LC1269" class="blob-code js-file-line">       &quot;wAPlx5YsAR580Llspx75228zhCkhJFsSM618/bWe7Th/PjBqFHDddTr9k0/KFampDK+5Bth+ez14\n&quot;,</td>
      </tr>
      <tr>
        <td id="L1270" class="blob-num js-line-number" data-line-number="1270"></td>
        <td id="LC1270" class="blob-code js-file-line">       &quot;afaATVuzaVJRCnj66eAy3H67Dlxl5fTTnfO+/75z+rPPek+3t7N2bekBRAghWSAqpo+ZiKipUxX2\n&quot;,</td>
      </tr>
      <tr>
        <td id="L1271" class="blob-num js-line-number" data-line-number="1271"></td>
        <td id="LC1271" class="blob-code js-file-line">       &quot;31+HDv3gA50+bpzubduXNLvlFuBPf6osR6lS3oMO0vGkW7bMV5ChFSuArbfOWgpCSG0gUEolMlsj\n&quot;,</td>
      </tr>
      <tr>
        <td id="L1272" class="blob-num js-line-number" data-line-number="1272"></td>
        <td id="LC1272" class="blob-code js-file-line">       &quot;EUVuzhNq3boUQGinnXRcCas3ycqV7lPbO3YsuRYSQkjtk1NFTgghJCjJKfJc+ZETQggJDxU5IYQU\n&quot;,</td>
      </tr>
      <tr>
        <td id="L1273" class="blob-num js-line-number" data-line-number="1273"></td>
        <td id="LC1273" class="blob-code js-file-line">       &quot;HCpyQggpOFTkhBBScKjICSGk4FCRE0JIwaEiJ4SQgkNFTgghBYeKnBBCCk4qinz48DRKJYQQ4kQq\n&quot;,</td>
      </tr>
      <tr>
        <td id="L1274" class="blob-num js-line-number" data-line-number="1274"></td>
        <td id="LC1274" class="blob-code js-file-line">       &quot;ivy005zTudwVIYQkTyqxVqyRDK2sWQNsumllep8+wD//GUsMQggpGAWItdKvX2Va8+ZAq1aV6Vyk\n&quot;,</td>
      </tr>
      <tr>
        <td id="L1275" class="blob-num js-line-number" data-line-number="1275"></td>
        <td id="LC1275" class="blob-code js-file-line">       &quot;mBBCopOIIv/+e+CII/T2r3+tv5s00d/vv1++wo8Z5taat2HD6HW7mWsuvTR6mYQQUiQSUeTNmukl\n&quot;,</td>
      </tr>
      <tr>
        <td id="L1276" class="blob-num js-line-number" data-line-number="1276"></td>
        <td id="LC1276" class="blob-code js-file-line">       &quot;1QDg+efLjx18MLDnnuVppjXHNL80bly5yk7btvq7c+fK+nbdtbT9hz84y3TddXo5N0IIqXUSM604\n&quot;,</td>
      </tr>
      <tr>
        <td id="L1277" class="blob-num js-line-number" data-line-number="1277"></td>
        <td id="LC1277" class="blob-code js-file-line">       &quot;2b5NBg2qXDfz0kuBCy7Q29ttp5eJA4AxY4A5c4DHHtP7//VfleX99relbTcT/9ZbA7fdFkx2Qggp\n&quot;,</td>
      </tr>
      <tr>
        <td id="L1278" class="blob-num js-line-number" data-line-number="1278"></td>
        <td id="LC1278" class="blob-code js-file-line">       &quot;MokMdjqVMXs28MYbwEUXeZ//+efabt6gATBjRslevn498MwzQP/+lQOnEycCXbvq7TlzKnv8gFbw\n&quot;,</td>
      </tr>
      <tr>
        <td id="L1279" class="blob-num js-line-number" data-line-number="1279"></td>
        <td id="LC1279" class="blob-code js-file-line">       &quot;S5cCbdoEa8fXXwNbbRUsLyGExKcAg5177eWvxAG9AHMDQwrroGfjxlqJA7qXfv/9ertJk1L+oUOB\n&quot;,</td>
      </tr>
      <tr>
        <td id="L1280" class="blob-num js-line-number" data-line-number="1280"></td>
        <td id="LC1280" class="blob-code js-file-line">       &quot;3XbT26aN3soOO1Sm9e7tLEeLFv6yEkJIHinEzM66OmDgQL29//6lXvaZZ5YGSp3cHZ1wyxf0fEII\n&quot;,</td>
      </tr>
      <tr>
        <td id="L1281" class="blob-num js-line-number" data-line-number="1281"></td>
        <td id="LC1281" class="blob-code js-file-line">       &quot;yRuFUOR2WrWqtI03b17aNnvpAPDEE+X50lbYNM8QQqpNIRW5nZkzgWHD9PYBBwDz55eOnX46sGqV\n&quot;,</td>
      </tr>
      <tr>
        <td id="L1282" class="blob-num js-line-number" data-line-number="1282"></td>
        <td id="LC1282" class="blob-code js-file-line">       &quot;Vvx1ddrl0eqa+LvfAbfempyCnz07XH6lgPbtk6mb5J+FC7OWgNQim2QtQBLsvXdpe8OGyuObbaa/\n&quot;,</td>
      </tr>
      <tr>
        <td id="L1283" class="blob-num js-line-number" data-line-number="1283"></td>
        <td id="LC1283" class="blob-code js-file-line">       &quot;x4wppXXtql0ce/TQ+xs3JiPLdtuFP+f++91t9yQ/HHgg8OGH8cpo1y4RUQgpoyZ65FaCKuTf/Kak\n&quot;,</td>
      </tr>
      <tr>
        <td id="L1284" class="blob-num js-line-number" data-line-number="1284"></td>
        <td id="LC1284" class="blob-code js-file-line">       &quot;xK2cckpp+5ZbdE/daSB0+vRo8jnRuHFyZZH0OP30yrT99ivf79TJ+dxttnFOv+++eDIRAhRMkb/+\n&quot;,</td>
      </tr>
      <tr>
        <td id="L1285" class="blob-num js-line-number" data-line-number="1285"></td>
        <td id="LC1285" class="blob-code js-file-line">       &quot;OvDoo955ovasTdPKs8/qAVVAmz0+/RRYsKAyv1NYgRNPjFY3KS6NGpVcYQHnN8IGlrtMRLu6AtrF\n&quot;,</td>
      </tr>
      <tr>
        <td id="L1286" class="blob-num js-line-number" data-line-number="1286"></td>
        <td id="LC1286" class="blob-code js-file-line">       &quot;9vzz05WP1A8KpciPOsrZZ9xKHBPJ3/6mb7QJE/R+u3ba/OIUHyYs9pmrVmK68pMqYT7sr7iiPM18\n&quot;,</td>
      </tr>
      <tr>
        <td id="L1287" class="blob-num js-line-number" data-line-number="1287"></td>
        <td id="LC1287" class="blob-code js-file-line">       &quot;o/r6a2DLLSvPW7q03BXXzENPKZIUhVLkQYjTIz/vPL1t3phhbzR7/qVLS9tur9YAFXnRuOMO5/Qt\n&quot;,</td>
      </tr>
      <tr>
        <td id="L1288" class="blob-num js-line-number" data-line-number="1288"></td>
        <td id="LC1288" class="blob-code js-file-line">       &quot;twRGjgQefriUtueeuiNw7bXleZctAzbJwQjVzjtnLQFJAirykDTw+MXsA51227q1Z9+iBfDmm8nJ\n&quot;,</td>
      </tr>
      <tr>
        <td id="L1289" class="blob-num js-line-number" data-line-number="1289"></td>
        <td id="LC1289" class="blob-code js-file-line">       &quot;RYLz+99HO8/pYSxS/gDfcsvy2cRuD+kog+KEuOGryEWkqYh8ICJTRGSWiPylGoJFoW1boEuXZMq6\n&quot;,</td>
      </tr>
      <tr>
        <td id="L1290" class="blob-num js-line-number" data-line-number="1290"></td>
        <td id="LC1290" class="blob-code js-file-line">       &quot;4grgmGNK+488ohXvCSc45x8/HrjnHu8yDzmktL355kCvXno7Lz3yG2/MWoLqcOqp5fs771wK0uZF\n&quot;,</td>
      </tr>
      <tr>
        <td id="L1291" class="blob-num js-line-number" data-line-number="1291"></td>
        <td id="LC1291" class="blob-code js-file-line">       &quot;t27Ad9/pbTO6pxPbbqu/O3QAunfX215vdyef7F83IV74vtwppdaKyBFKqe9FZBMA74jIYUqpd6og\n&quot;,</td>
      </tr>
      <tr>
        <td id="L1292" class="blob-num js-line-number" data-line-number="1292"></td>
        <td id="LC1292" class="blob-code js-file-line">       &quot;XygWLvTuMYfB/vp81ln6+957nfMfemhlmnnznn22/h4yRJdz0knl+fKiyGuNNm2Azz7zzxfUhGaN\n&quot;,</td>
      </tr>
      <tr>
        <td id="L1293" class="blob-num js-line-number" data-line-number="1293"></td>
        <td id="LC1293" class="blob-code js-file-line">       &quot;url0qQ7M5kSXLlrhWwPJedUxYkR29nLa6WuDQGpPKfW9sdkYQEMAX6cmUQwaNYoX2zwIVqVrnU3q\n&quot;,</td>
      </tr>
      <tr>
        <td id="L1294" class="blob-num js-line-number" data-line-number="1294"></td>
        <td id="LC1294" class="blob-code js-file-line">       &quot;Jg9QspnuskvJs8VaDhV5Orj9rl6/t1O0TaDyuvKbwWuPBtqgAfCf/3ifkwVxr72vvkpGDhKPQIpc\n&quot;,</td>
      </tr>
      <tr>
        <td id="L1295" class="blob-num js-line-number" data-line-number="1295"></td>
        <td id="LC1295" class="blob-code js-file-line">       &quot;RBqIyBQAywCMUUrNSlesYrBkiffxJk2c3dEuu4zrl2bJvvtWppmK1zSZnHNO+fEkYvTsskvwvEXB\n&quot;,</td>
      </tr>
      <tr>
        <td id="L1296" class="blob-num js-line-number" data-line-number="1296"></td>
        <td id="LC1296" class="blob-code js-file-line">       &quot;7a2EVJdA4+ZKqY0AOonI5gD+T0TqlFJjU5Usp1h7MFtuqU0q69e753cy9QwZ4l5mluRFjjS59lrn\n&quot;,</td>
      </tr>
      <tr>
        <td id="L1297" class="blob-num js-line-number" data-line-number="1297"></td>
        <td id="LC1297" class="blob-code js-file-line">       &quot;qJijR5cPUvq9bZkkZZo4/HBg3LhkygoDTSu1QSgHKKXUKhF5GcCBAMaa6YMHD/45T11dHerq0dI8\n&quot;,</td>
      </tr>
      <tr>
        <td id="L1298" class="blob-num js-line-number" data-line-number="1298"></td>
        <td id="LC1298" class="blob-code js-file-line">       &quot;1mn/Vubf9aPxAAATOklEQVTNC15GfVCgVoYPBy6/vHzZv6wxlXtWiu2BB8pDTVSL+nbtZctYWNRm\n&quot;,</td>
      </tr>
      <tr>
        <td id="L1299" class="blob-num js-line-number" data-line-number="1299"></td>
        <td id="LC1299" class="blob-code js-file-line">       &quot;ovgqchHZBsBPSqlvRKQZgKMB3GTNY1XktY79wuf0+vCcdhpw/fXRzh08WH+i4qSot9jCP5/Tea1b\n&quot;,</td>
      </tr>
      <tr>
        <td id="L1300" class="blob-num js-line-number" data-line-number="1300"></td>
        <td id="LC1300" class="blob-code js-file-line">       &quot;a0+kiROjy2PStKn38T59gH/+M349JEvqjI/JTc7ZIhDERr49gNGGjfwDAC8ppeqtB/Qf/xhMkYTp\n&quot;,</td>
      </tr>
      <tr>
        <td id="L1301" class="blob-num js-line-number" data-line-number="1301"></td>
        <td id="LC1301" class="blob-code js-file-line">       &quot;6cTpFTl5y0SlCL0zJ6XrhnXqvImTQn7ttco0+xwAp/M+/xy4667g8njBCJjZ4ec2XAR8FblSarpS\n&quot;,</td>
      </tr>
      <tr>
        <td id="L1302" class="blob-num js-line-number" data-line-number="1302"></td>
        <td id="LC1302" class="blob-code js-file-line">       &quot;qotSqpNSaj+llMu8tvpBjx7B/K3DKMU4LpN//3v0c5PAyd6cJm49Y5PLLy9tjxgRrEzT79vKbrv5\n&quot;,</td>
      </tr>
      <tr>
        <td id="L1303" class="blob-num js-line-number" data-line-number="1303"></td>
        <td id="LC1303" class="blob-code js-file-line">       &quot;x/Xxkilpkq7D7w2gPpFkZygram5mZx5o2bJcufhx9NHpyZKnOtPCKYBZw4beU+DNKfNW33CgXGE6\n&quot;,</td>
      </tr>
      <tr>
        <td id="L1304" class="blob-num js-line-number" data-line-number="1304"></td>
        <td id="LC1304" class="blob-code js-file-line">       &quot;Kfhq8eST5ftJK3KvxdLrG0V4E/WDijwFVq/WMzeDEsf3PeoNXtSL16+9Tscff7zy+K236m/779Cy\n&quot;,</td>
      </tr>
      <tr>
        <td id="L1305" class="blob-num js-line-number" data-line-number="1305"></td>
        <td id="LC1305" class="blob-code js-file-line">       &quot;ZSlfXV3pjafag6B2P/Wk66e3Sola+C2oyGuAM88Ml3/Romj1WJfQM6nmg8Qt1rdf+UFlnD9frxhl\n&quot;,</td>
      </tr>
      <tr>
        <td id="L1306" class="blob-num js-line-number" data-line-number="1306"></td>
        <td id="LC1306" class="blob-code js-file-line">       &quot;0qxZpT95tbCGhwDK22D/HcKMG5g4RWlMmqJ2FooIFXkNMHQo0L9/8Pzt2jnfZE5p1sE86xJ6WTB5\n&quot;,</td>
      </tr>
      <tr>
        <td id="L1307" class="blob-num js-line-number" data-line-number="1307"></td>
        <td id="LC1307" class="blob-code js-file-line">       &quot;cvm+l7ue28xZL6W+227ui3lXu9dmr89LKdrXpTU5+GD3c3bc0TmdJpfkue669OugIq8RzHAASXPJ\n&quot;,</td>
      </tr>
      <tr>
        <td id="L1308" class="blob-num js-line-number" data-line-number="1308"></td>
        <td id="LC1308" class="blob-code js-file-line">       &quot;JcCcOcmVZw4Um4rqqKP0969+Fex8J4V6yy3ex91o1apyhZ8o5XTtGs6UljRupjkvG/9OO1WmnXIK\n&quot;,</td>
      </tr>
      <tr>
        <td id="L1309" class="blob-num js-line-number" data-line-number="1309"></td>
        <td id="LC1309" class="blob-code js-file-line">       &quot;MHBgMjKR6kJFnkOclhTLEq9Y6mF7qqbrptnDNHuN1qneQWdVmnj1PIFyGa3bH3+sV4Sy06GDs+ui\n&quot;,</td>
      </tr>
      <tr>
        <td id="L1310" class="blob-num js-line-number" data-line-number="1310"></td>
        <td id="LC1310" class="blob-code js-file-line">       &quot;G0OGlFb9yQt77lmKrgmUv1mtWKEXUQHKe/rPPecea72WqQUTEBV5Dgkz4cVUTGEVatqLAFtvDrfZ\n&quot;,</td>
      </tr>
      <tr>
        <td id="L1311" class="blob-num js-line-number" data-line-number="1311"></td>
        <td id="LC1311" class="blob-code js-file-line">       &quot;r2Ew7fpRBjvdbtSmTZ3fZObO1crcr1zrsaSibrrRsmWwAFWmbd3u9TJoUCmk7lZb0f3QitOavEWD\n&quot;,</td>
      </tr>
      <tr>
        <td id="L1312" class="blob-num js-line-number" data-line-number="1312"></td>
        <td id="LC1312" class="blob-code js-file-line">       &quot;ijyHJLG0nB9OAZzcFJ6XEgsy0BokYoNfryjog8f0a0+6l5WlZ8PcuXrSSpAAVWecodveuXPlm4iT\n&quot;,</td>
      </tr>
      <tr>
        <td id="L1313" class="blob-num js-line-number" data-line-number="1313"></td>
        <td id="LC1313" class="blob-code js-file-line">       &quot;/bsWPDbistdeWUsQHyryHFKNV704dVgVSu/e0cqIqkDMhbEB4Omny2dlDhwIXHihXgDCuoiHm2ml\n&quot;,</td>
      </tr>
      <tr>
        <td id="L1314" class="blob-num js-line-number" data-line-number="1314"></td>
        <td id="LC1314" class="blob-code js-file-line">       &quot;CNxwg347MN0iw2Bv63HHVXq8pH2tvfVWuuUTDRV5wXEzrZx2mr5xk6zDxKtca16rwrdPkDIVSFhF\n&quot;,</td>
      </tr>
      <tr>
        <td id="L1315" class="blob-num js-line-number" data-line-number="1315"></td>
        <td id="LC1315" class="blob-code js-file-line">       &quot;cthhwH336e199y2f2LTVVnrgb9w490iCRVPkYVwu7dj/p0GDyj1/3nwTuPrq8OXaF0YxeemlyrTD\n&quot;,</td>
      </tr>
      <tr>
        <td id="L1316" class="blob-num js-line-number" data-line-number="1316"></td>
        <td id="LC1316" class="blob-code js-file-line">       &quot;Dw9ffjWpldAIVOQ1Sp8+7h4ZAHDxxcCwYXp7lhFdPqhpJajybdYs/DmAjmfjhZsyNuto1Kh8VmcS\n&quot;,</td>
      </tr>
      <tr>
        <td id="L1317" class="blob-num js-line-number" data-line-number="1317"></td>
        <td id="LC1317" class="blob-code js-file-line">       &quot;UQWL9gAAKmet2unVK5oPurlalp20xwnSoFbWTi3gT0+SoGVLYMAAYPlyfxuhVYkNGwb86U/B6oj6\n&quot;,</td>
      </tr>
      <tr>
        <td id="L1318" class="blob-num js-line-number" data-line-number="1318"></td>
        <td id="LC1318" class="blob-code js-file-line">       &quot;2m6PZePnlQIAo0bpdVadZOjcubRfJIV8ww3AEUeEO8eqTIO0NckeqVt9Bx6YXB1Jk3czZlCoyHNI\n&quot;,</td>
      </tr>
      <tr>
        <td id="L1319" class="blob-num js-line-number" data-line-number="1319"></td>
        <td id="LC1319" class="blob-code js-file-line">       &quot;En98UIVl9zX2Cwg2YEClR4cV69Ryr3aMGAG8+mpl+qeflrZPP12X8f773jIBwLHHBputeMkl/nns\n&quot;,</td>
      </tr>
      <tr>
        <td id="L1320" class="blob-num js-line-number" data-line-number="1320"></td>
        <td id="LC1320" class="blob-code js-file-line">       &quot;bLYZsP324c+Ly003he8xO/WK1651z9+tW/o96fHj0y0/DrXgeghQkeeSKLFX7Ir70EOjXaROro9+\n&quot;,</td>
      </tr>
      <tr>
        <td id="L1321" class="blob-num js-line-number" data-line-number="1321"></td>
        <td id="LC1321" class="blob-code js-file-line">       &quot;rnfWBamPPjqYm9wBBwC/+EVlutuMw6DyeNGiRbRBw/nzgz1M4nLOOcAJJ3jneegh4O679aCudUUj\n&quot;,</td>
      </tr>
      <tr>
        <td id="L1322" class="blob-num js-line-number" data-line-number="1322"></td>
        <td id="LC1322" class="blob-code js-file-line">       &quot;kyhK2es62XFH4M479bZTiAYrbv9LfY/Zzx55PWTx4nB+rW43T5I9yKCzRufO1SvdmIOcQS7g3r2r\n&quot;,</td>
      </tr>
      <tr>
        <td id="L1323" class="blob-num js-line-number" data-line-number="1323"></td>
        <td id="LC1323" class="blob-code js-file-line">       &quot;F0Y06gNgu+2qszbl3/8OnHyyd57f/Q7o2RP4619Ls0mtv7OTacWv3V7/U8eOwKWX6u1u3bzLCfsQ\n&quot;,</td>
      </tr>
      <tr>
        <td id="L1324" class="blob-num js-line-number" data-line-number="1324"></td>
        <td id="LC1324" class="blob-code js-file-line">       &quot;eeghZ3OYE1bzWNGohjkv1FJvJD2mTdODk23bZieD2w3drBnw3XflaZ06AVOm6G1z5qeXycWNww7T\n&quot;,</td>
      </tr>
      <tr>
        <td id="L1325" class="blob-num js-line-number" data-line-number="1325"></td>
        <td id="LC1325" class="blob-code js-file-line">       &quot;r97Tpvn3+Ig/SZtJnJSQm9eSNe+pp3qXe/DBpQBlffv6z6SdNKlY4xtWqiE3e+Q5wR62NG/YJ5MM\n&quot;,</td>
      </tr>
      <tr>
        <td id="L1326" class="blob-num js-line-number" data-line-number="1326"></td>
        <td id="LC1326" class="blob-code js-file-line">       &quot;HVra7tcPWLq08hy3wFVO7LcfcM015WlJrFxfyzgtKmL1nw9K06blHkZWnP43+xuaU6/aKfSBG1kO\n&quot;,</td>
      </tr>
      <tr>
        <td id="L1327" class="blob-num js-line-number" data-line-number="1327"></td>
        <td id="LC1327" class="blob-code js-file-line">       &quot;hnpdl3vumX4dSUFFnhPatMl+4CXq8nQizqacuO1xO/+oo4Djjw9fXhEeAE7BrNw47LDy/T32iLZi\n&quot;,</td>
      </tr>
      <tr>
        <td id="L1328" class="blob-num js-line-number" data-line-number="1328"></td>
        <td id="LC1328" class="blob-code js-file-line">       &quot;06xZwMyZ/vnc/g/THTHM20DS1/oFF0Q7L4wcfqalJOqIChV5jWAqKWv87DQvoI0b/fNEiQkehF13\n&quot;,</td>
      </tr>
      <tr>
        <td id="L1329" class="blob-num js-line-number" data-line-number="1329"></td>
        <td id="LC1329" class="blob-code js-file-line">       &quot;dZ58UgsccQSwbl20c6P+3+3bu7shhvGzTvI/dhrI9SLKILYfSbWHphXii919MO1gWCam0vC6SMOY\n&quot;,</td>
      </tr>
      <tr>
        <td id="L1330" class="blob-num js-line-number" data-line-number="1330"></td>
        <td id="LC1330" class="blob-code js-file-line">       &quot;VpwoQg86DZL28oj6Oy5ZUoqS6FVOkGvB7Rw75jqpXmUtWRK8njjYZczzalxU5AXH7k2RxEUzcqR/\n&quot;,</td>
      </tr>
      <tr>
        <td id="L1331" class="blob-num js-line-number" data-line-number="1331"></td>
        <td id="LC1331" class="blob-code js-file-line">       &quot;niD1ZG0qqm+4/d5R/4c2bYKFFA4abmHChNKgplveIHHdw/bWrXTuXB6vJwx5nrmaY9GIHbubntUu\n&quot;,</td>
      </tr>
      <tr>
        <td id="L1332" class="blob-num js-line-number" data-line-number="1332"></td>
        <td id="LC1332" class="blob-code js-file-line">       &quot;7RW+1S3uSByKqKRrsYd/xRXVc9/s3t35IR/mWjAHSt0GV9PmggtK3lZ+OEUIDUpaC724QUWeY1q3\n&quot;,</td>
      </tr>
      <tr>
        <td id="L1333" class="blob-num js-line-number" data-line-number="1333"></td>
        <td id="LC1333" class="blob-code js-file-line">       &quot;1oGOTMaPB957T28PHOjsKeJEjx46WJKf2SXMDRnWRn7kkeEWawCALl3C5fejFhX5HXc4+5NbSard\n&quot;,</td>
      </tr>
      <tr>
        <td id="L1334" class="blob-num js-line-number" data-line-number="1334"></td>
        <td id="LC1334" class="blob-code js-file-line">       &quot;DRs6B8yKYloZMSIZmcIwZIiOQWTF65rv0aN8P4zJq9odHSryHNOihZ7FZ8Vv5NztZurUCTj/fB0V\n&quot;,</td>
      </tr>
      <tr>
        <td id="L1335" class="blob-num js-line-number" data-line-number="1335"></td>
        <td id="LC1335" class="blob-code js-file-line">       &quot;0Y/evYEHH/TOE0SRW3nySf1qHRSlShNRSL4Jo7TM6zOLYFWXXVbp5htGdqeZyFHxm8EbFiryGqF7\n&quot;,</td>
      </tr>
      <tr>
        <td id="L1336" class="blob-num js-line-number" data-line-number="1336"></td>
        <td id="LC1336" class="blob-code js-file-line">       &quot;98qRe/tFeuWVwPDh/mU1bgyceKJ3niCvxkU0v9QaM2ak/5pvt5HfdFO69QUhyGImVszVk7xWTkrS\n&quot;,</td>
      </tr>
      <tr>
        <td id="L1337" class="blob-num js-line-number" data-line-number="1337"></td>
        <td id="LC1337" class="blob-code js-file-line">       &quot;Ru43gzcsVOQFxd7z7t8fWL26evWbU6aDeq2Q9HH6vTt2TLd8e/qbb+qojWHLsLLXXpVmjbBEvfas\n&quot;,</td>
      </tr>
      <tr>
        <td id="L1338" class="blob-num js-line-number" data-line-number="1338"></td>
        <td id="LC1338" class="blob-code js-file-line">       &quot;91CRrl8q8hrmjDOir4oe1N7pdbHn7UaoRRt5WoQxa+28s/4WKV/wOSqzZpXcEK14xSDymhl93nmV\n&quot;,</td>
      </tr>
      <tr>
        <td id="L1339" class="blob-num js-line-number" data-line-number="1339"></td>
        <td id="LC1339" class="blob-code js-file-line">       &quot;ISZM7Pb9Ro10JE2vvEGI63obFiryGsOqrPbfH7j//uDnJn3B9e3rvppMFtS6Ik/y/3OyYbv9fkmG\n&quot;,</td>
      </tr>
      <tr>
        <td id="L1340" class="blob-num js-line-number" data-line-number="1340"></td>
        <td id="LC1340" class="blob-code js-file-line">       &quot;l/D6jy68UM/qtfPJJ5Xhic3fYvBg7QvvtF6pW70XXlheRhT22CP6uVFg0Kwao9q9YK8b74EHqieH\n&quot;,</td>
      </tr>
      <tr>
        <td id="L1341" class="blob-num js-line-number" data-line-number="1341"></td>
        <td id="LC1341" class="blob-code js-file-line">       &quot;H4cckm1AsrTp1Cm5mCVjxoT3MAKC2ZDjPEz/8hfndK+wBn7x9cMQRvZBg4Bzz3U/L+lOBRV5Adlz\n&quot;,</td>
      </tr>
      <tr>
        <td id="L1342" class="blob-num js-line-number" data-line-number="1342"></td>
        <td id="LC1342" class="blob-code js-file-line">       &quot;T+eeSVysDwGvQR+TAQOSWUatGrz7btYSpIt1Lc64hB0oBIDRo+PbtZMkrGmwVy/g7bf1dpMm5cfs\n&quot;,</td>
      </tr>
      <tr>
        <td id="L1343" class="blob-num js-line-number" data-line-number="1343"></td>
        <td id="LC1343" class="blob-code js-file-line">       &quot;eaPWv2wZ0KpV8DLCQNNKTpkwAXjlFedjs2dX+sOaJPWkb9nS38Vw2LB0YlyQfOKlyI44IliPvFpv\n&quot;,</td>
      </tr>
      <tr>
        <td id="L1344" class="blob-num js-line-number" data-line-number="1344"></td>
        <td id="LC1344" class="blob-code js-file-line">       &quot;jEFmiFoxe8+AnvMQdNJQEEyvoTRdLqnIc0rXrsDuu+vtNHrfQah1mzLJD1EVvD30MaAXZznmmOiy\n&quot;,</td>
      </tr>
      <tr>
        <td id="L1345" class="blob-num js-line-number" data-line-number="1345"></td>
        <td id="LC1345" class="blob-code js-file-line">       &quot;iDhP4/e6H6ZOdU5/913nJQiTfqBRkReAffbJWgJC8onTbMu2bZPxugqTdxMHI/XKldHiw0eBipwQ\n&quot;,</td>
      </tr>
      <tr>
        <td id="L1346" class="blob-num js-line-number" data-line-number="1346"></td>
        <td id="LC1346" class="blob-code js-file-line">       &quot;kjvivg2mbcKxLz3nVF/YhbPjQEVeY8S5AfLm903yRS1eH2abttyyZMq0H7MT1mzjVE7SZksqckJI\n&quot;,</td>
      </tr>
      <tr>
        <td id="L1347" class="blob-num js-line-number" data-line-number="1347"></td>
        <td id="LC1347" class="blob-code js-file-line">       &quot;bshqXKZpU2DevGB5/+//0pUlCr6KXER2FJExIjJTRGaIyMXVEIyUOOkkPZIehDi9piSnc5Pao74N\n&quot;,</td>
      </tr>
      <tr>
        <td id="L1348" class="blob-num js-line-number" data-line-number="1348"></td>
        <td id="LC1348" class="blob-code js-file-line">       &quot;flvvJXtsIftv0bBh+vJ4EaRH/iOAS5VSHQF0A3CBiOyVrljESl0d8MYb6dahFHDmmenWQUhY7rvP\n&quot;,</td>
      </tr>
      <tr>
        <td id="L1349" class="blob-num js-line-number" data-line-number="1349"></td>
        <td id="LC1349" class="blob-code js-file-line">       &quot;+3i1zD3ff+8da8ZpsLOa+CpypdQXSqkpxvZ3AGYDiLDEK6kG9a3XRKpHFjbytCbQuE36sZKUR0s1\n&quot;,</td>
      </tr>
      <tr>
        <td id="L1350" class="blob-num js-line-number" data-line-number="1350"></td>
        <td id="LC1350" class="blob-code js-file-line">       &quot;CGUjF5F2ADoD+CANYQghpBqsXau/vab327F2kuwdprAPhMym6ItICwAjAAwyeuY/M3jw4J+36+rq\n&quot;,</td>
      </tr>
      <tr>
        <td id="L1351" class="blob-num js-line-number" data-line-number="1351"></td>
        <td id="LC1351" class="blob-code js-file-line">       &quot;UBdlji8hhBgEVXT2yTZBQktYufnm4Hm9Ihqa+zff7B7Gd+zYsTjrrLEYOhR44YVwcvoRSJGLSCMA\n&quot;,</td>
      </tr>
      <tr>
        <td id="L1352" class="blob-num js-line-number" data-line-number="1352"></td>
        <td id="LC1352" class="blob-code js-file-line">       &quot;zwN4QilVsWqfVZGTbKFphVQDt1Cv1caMVGgSdCFokyC27XXrwsnkhtnJHTpUh9gYOTK5FTh8myEi\n&quot;,</td>
      </tr>
      <tr>
        <td id="L1353" class="blob-num js-line-number" data-line-number="1353"></td>
        <td id="LC1353" class="blob-code js-file-line">       &quot;AuBhALOUUnf75SeE1D6jRqVTbtiOSDUGGZ1mj7qZVpzkyUs88u4AzgBwhIhMNj45eR4TQqrB6acn\n&quot;,</td>
      </tr>
      <tr>
        <td id="L1354" class="blob-num js-line-number" data-line-number="1354"></td>
        <td id="LC1354" class="blob-code js-file-line">       &quot;s2Zlmzbxy0iSpAY7zQBz1sXSq4nv80wp9Q44cYiQes0TTyRTzrBhwP/+bzJlOUXeDNv7jdpbdntz\n&quot;,</td>
      </tr>
      <tr>
        <td id="L1355" class="blob-num js-line-number" data-line-number="1355"></td>
        <td id="LC1355" class="blob-code js-file-line">       &quot;aN48WF7GIyeEFJbmzZ2VXR5Jyv2wGqYVKnJCSFVIMx63SZpKc+BAvTC0X73NmwNduqQnhxNU5ISQ\n&quot;,</td>
      </tr>
      <tr>
        <td id="L1356" class="blob-num js-line-number" data-line-number="1356"></td>
        <td id="LC1356" class="blob-code js-file-line">       &quot;1AmrYPPgfWWXebPNgBNP1NtefuRr1qQrlxO0fRNCComTsg/rfhi1B5+3WZ9U5DVGHnoyhMTFVH5p\n&quot;,</td>
      </tr>
      <tr>
        <td id="L1357" class="blob-num js-line-number" data-line-number="1357"></td>
        <td id="LC1357" class="blob-code js-file-line">       &quot;L5jtpWSDLF0XpBwnONhJCKlZ7Aru4IOBn36qzHfnndrUYSfJ3u9llwE9ezofCzNF34mke+lU5DVG\n&quot;,</td>
      </tr>
      <tr>
        <td id="L1358" class="blob-num js-line-number" data-line-number="1358"></td>
        <td id="LC1358" class="blob-code js-file-line">       &quot;UTwCCAmKU4jYSy/1PsdpEo8TXos0t2ypI48GIWxogKShIq8xzjkH6NEjaykIiYY97ndYzJ7uWWc5\n&quot;,</td>
      </tr>
      <tr>
        <td id="L1359" class="blob-num js-line-number" data-line-number="1359"></td>
        <td id="LC1359" class="blob-code js-file-line">       &quot;L6BsZfVqZ1/0KOyxBzB3bjJlRYGKvMZo1AjYb7+spSAkPHPnlpZbC2OfdqJxY6BbN+88cZS4k427\n&quot;,</td>
      </tr>
      <tr>
        <td id="L1360" class="blob-num js-line-number" data-line-number="1360"></td>
        <td id="LC1360" class="blob-code js-file-line">       &quot;Q4fo5cWFipwQkgusilAkvB25f//sV+pxIldhbAkhJM889ljWEmQH3Q8JIaTgsEdOCCEpcvzxwIQJ\n&quot;,</td>
      </tr>
      <tr>
        <td id="L1361" class="blob-num js-line-number" data-line-number="1361"></td>
        <td id="LC1361" class="blob-code js-file-line">       &quot;6dbBHjkhhIQkjI17r72A555LTxaAipwQQgoPFTkhhBQcKnJCCAmJaVp5551s5TChIieEkIh07561\n&quot;,</td>
      </tr>
      <tr>
        <td id="L1362" class="blob-num js-line-number" data-line-number="1362"></td>
        <td id="LC1362" class="blob-code js-file-line">       &quot;BBp6rRBCSEj++Efggw+ylqIEFTkhhISkTx/9yQs0rRBCSJVJeoo+FTkhhBQcKnJCCCk4VOSEEFJw\n&quot;,</td>
      </tr>
      <tr>
        <td id="L1363" class="blob-num js-line-number" data-line-number="1363"></td>
        <td id="LC1363" class="blob-code js-file-line">       &quot;qMgJIaSKtG4NdOmSbJmiYi4eJyIqbhmEEFLfEBEopRIZ9mSPnBBCCg4VOSGEFBwqckIIKThU5IQQ\n&quot;,</td>
      </tr>
      <tr>
        <td id="L1364" class="blob-num js-line-number" data-line-number="1364"></td>
        <td id="LC1364" class="blob-code js-file-line">       &quot;UnCoyAkhpOBQkRNCSMGhIieEkIJDRU4IIQWHipwQQgqOryIXkUdEZJmITK+GQIQQQsIRpEc+FMCx\n&quot;,</td>
      </tr>
      <tr>
        <td id="L1365" class="blob-num js-line-number" data-line-number="1365"></td>
        <td id="LC1365" class="blob-code js-file-line">       &quot;aQuSV8aOHZu1CKnC9hWbWm5fLbctaXwVuVLqbQArqyBLLqn1i4ntKza13L5ablvS0EZOCCEFh4qc\n&quot;,</td>
      </tr>
      <tr>
        <td id="L1366" class="blob-num js-line-number" data-line-number="1366"></td>
        <td id="LC1366" class="blob-code js-file-line">       &quot;EEIKTqAwtiLSDsBLSql9HY4xhi0hhEQgqTC2m+RFEEIIIdEI4n74FIB3AXQQkcUiclb6YhFCCAlK\n&quot;,</td>
      </tr>
      <tr>
        <td id="L1367" class="blob-num js-line-number" data-line-number="1367"></td>
        <td id="LC1367" class="blob-code js-file-line">       &quot;7BWCCCGEZEuswU4ROVZE5ojIfBG5Kimh0sRpgpOIbCUir4vIPBF5TUS2sBy7xmjfHBE5xpJ+gIhM\n&quot;,</td>
      </tr>
      <tr>
        <td id="L1368" class="blob-num js-line-number" data-line-number="1368"></td>
        <td id="LC1368" class="blob-code js-file-line">       &quot;N47dU+12uCEiO4rIGBGZKSIzRORiI70m2igiTUXkAxGZIiKzROQvRnpNtM9ERBqKyGQRecnYr5n2\n&quot;,</td>
      </tr>
      <tr>
        <td id="L1369" class="blob-num js-line-number" data-line-number="1369"></td>
        <td id="LC1369" class="blob-code js-file-line">       &quot;icjHIjLNaN8EI60m2iciW4jICBGZbVyfB1elbUqpSB8ADQEsANAOQCMAUwDsFbW8an0A9ADQGcB0\n&quot;,</td>
      </tr>
      <tr>
        <td id="L1370" class="blob-num js-line-number" data-line-number="1370"></td>
        <td id="LC1370" class="blob-code js-file-line">       &quot;S9rtAP5obF8F4DZje2+jXY2Mdi5A6S1mAoCDjO1XABybddsMWVoD6GRstwAwF8BeNdbG5sb3JgDe\n&quot;,</td>
      </tr>
      <tr>
        <td id="L1371" class="blob-num js-line-number" data-line-number="1371"></td>
        <td id="LC1371" class="blob-code js-file-line">       &quot;B3BYLbXPkOcyAMMBvFiD1+giAFvZ0mqifQAeBXC25frcvBptiyPwIQBetexfDeDqrH/IgLK3Q7ki\n&quot;,</td>
      </tr>
      <tr>
        <td id="L1372" class="blob-num js-line-number" data-line-number="1372"></td>
        <td id="LC1372" class="blob-code js-file-line">       &quot;nwOglbHdGsAcY/saAFdZ8r0KoBuA7QHMtqT3A/BA1u1yaetIAEfVYhsBNAcwEUDHWmofgLYA3gBw\n&quot;,</td>
      </tr>
      <tr>
        <td id="L1373" class="blob-num js-line-number" data-line-number="1373"></td>
        <td id="LC1373" class="blob-code js-file-line">       &quot;BLS3WE1do9CKfGtbWuHbB620Fzqkp962OKaVNgAWW/aXGGlFpJVSapmxvQxAK2N7B+h2mZhttKd/\n&quot;,</td>
      </tr>
      <tr>
        <td id="L1374" class="blob-num js-line-number" data-line-number="1374"></td>
        <td id="LC1374" class="blob-code js-file-line">       &quot;hhy23XAb7QzgA9RQG0WkgYhMgW7HGKXUTNRQ+wDcBeBKABstabXUPgXgDRH5UET+YKTVQvvaA/hS\n&quot;,</td>
      </tr>
      <tr>
        <td id="L1375" class="blob-num js-line-number" data-line-number="1375"></td>
        <td id="LC1375" class="blob-code js-file-line">       &quot;RIaKyCQReVBENkUV2hZHkdfkKKnSj8DCt01EWgB4HsAgpdS31mNFb6NSaqNSqhN0z/VwETnCdryw\n&quot;,</td>
      </tr>
      <tr>
        <td id="L1376" class="blob-num js-line-number" data-line-number="1376"></td>
        <td id="LC1376" class="blob-code js-file-line">       &quot;7ROR4wEsV0pNBuDo2lvk9hl0V0p1BtAbwAUi0sN6sMDt2wRAFwD3K6W6AFgDban4mbTaFkeRfwZg\n&quot;,</td>
      </tr>
      <tr>
        <td id="L1377" class="blob-num js-line-number" data-line-number="1377"></td>
        <td id="LC1377" class="blob-code js-file-line">       &quot;R8v+jih/ihSJZSLSGgBEZHsAy410exvbQrfxM2Pbmv5ZFeQMhIg0glbijyulRhrJNdVGAFBKrQLw\n&quot;,</td>
      </tr>
      <tr>
        <td id="L1378" class="blob-num js-line-number" data-line-number="1378"></td>
        <td id="LC1378" class="blob-code js-file-line">       &quot;MoADUDvtOxTAiSKyCMBTAHqJyOOonfZBKfW58f0lgH8COAi10b4lAJYopSYa+yOgFfsXabctjiL/\n&quot;,</td>
      </tr>
      <tr>
        <td id="L1379" class="blob-num js-line-number" data-line-number="1379"></td>
        <td id="LC1379" class="blob-code js-file-line">       &quot;EMDuItJORBoD6AvgxRjlZcmLAAYY2wOg7cpmej8RaSwi7QHsDmCCUuoLAKuNEWkB0N9yTqYY8jwM\n&quot;,</td>
      </tr>
      <tr>
        <td id="L1380" class="blob-num js-line-number" data-line-number="1380"></td>
        <td id="LC1380" class="blob-code js-file-line">       &quot;YJZS6m7LoZpoo4hsY476i0gzAEcDmIwaaZ9S6lql1I5KqfbQttHRSqn+qJH2iUhzEWlpbG8K4BgA\n&quot;,</td>
      </tr>
      <tr>
        <td id="L1381" class="blob-num js-line-number" data-line-number="1381"></td>
        <td id="LC1381" class="blob-code js-file-line">       &quot;01ED7TNkWiwiHYykowDMBPAS0m5bTON+b2iviAUArslyoCGEzE8BWApgPbSN/ywAW0EPLs0D8BqA\n&quot;,</td>
      </tr>
      <tr>
        <td id="L1382" class="blob-num js-line-number" data-line-number="1382"></td>
        <td id="LC1382" class="blob-code js-file-line">       &quot;LSz5rzXaNwfALyzpB0BfgAsA3Jt1uyxyHQZtW50CreAmQ4chrok2AtgXwCSjfdMAXGmk10T7bG3t\n&quot;,</td>
      </tr>
      <tr>
        <td id="L1383" class="blob-num js-line-number" data-line-number="1383"></td>
        <td id="LC1383" class="blob-code js-file-line">       &quot;iZLXSk20D9qOPMX4zDD1Rg21b3/oAfipAF6AHgBNvW2cEEQIIQWH0Q8JIaTgUJETQkjBoSInhJCC\n&quot;,</td>
      </tr>
      <tr>
        <td id="L1384" class="blob-num js-line-number" data-line-number="1384"></td>
        <td id="LC1384" class="blob-code js-file-line">       &quot;Q0VOCCEFh4qcEEIKDhU5IYQUHCpyQggpOFTkhBBScP4/8rAjQriXWHEAAAAASUVORK5CYII=\n&quot;</td>
      </tr>
      <tr>
        <td id="L1385" class="blob-num js-line-number" data-line-number="1385"></td>
        <td id="LC1385" class="blob-code js-file-line">      ],</td>
      </tr>
      <tr>
        <td id="L1386" class="blob-num js-line-number" data-line-number="1386"></td>
        <td id="LC1386" class="blob-code js-file-line">      &quot;text/plain&quot;: [</td>
      </tr>
      <tr>
        <td id="L1387" class="blob-num js-line-number" data-line-number="1387"></td>
        <td id="LC1387" class="blob-code js-file-line">       &quot;&lt;matplotlib.figure.Figure at 0xed72d30&gt;&quot;</td>
      </tr>
      <tr>
        <td id="L1388" class="blob-num js-line-number" data-line-number="1388"></td>
        <td id="LC1388" class="blob-code js-file-line">      ]</td>
      </tr>
      <tr>
        <td id="L1389" class="blob-num js-line-number" data-line-number="1389"></td>
        <td id="LC1389" class="blob-code js-file-line">     },</td>
      </tr>
      <tr>
        <td id="L1390" class="blob-num js-line-number" data-line-number="1390"></td>
        <td id="LC1390" class="blob-code js-file-line">     &quot;metadata&quot;: {},</td>
      </tr>
      <tr>
        <td id="L1391" class="blob-num js-line-number" data-line-number="1391"></td>
        <td id="LC1391" class="blob-code js-file-line">     &quot;output_type&quot;: &quot;display_data&quot;</td>
      </tr>
      <tr>
        <td id="L1392" class="blob-num js-line-number" data-line-number="1392"></td>
        <td id="LC1392" class="blob-code js-file-line">    }</td>
      </tr>
      <tr>
        <td id="L1393" class="blob-num js-line-number" data-line-number="1393"></td>
        <td id="LC1393" class="blob-code js-file-line">   ],</td>
      </tr>
      <tr>
        <td id="L1394" class="blob-num js-line-number" data-line-number="1394"></td>
        <td id="LC1394" class="blob-code js-file-line">   &quot;source&quot;: [</td>
      </tr>
      <tr>
        <td id="L1395" class="blob-num js-line-number" data-line-number="1395"></td>
        <td id="LC1395" class="blob-code js-file-line">    &quot;difference=abs(s_prob-s_prob2)\n&quot;,</td>
      </tr>
      <tr>
        <td id="L1396" class="blob-num js-line-number" data-line-number="1396"></td>
        <td id="LC1396" class="blob-code js-file-line">    &quot;plt.plot(difference)\n&quot;,</td>
      </tr>
      <tr>
        <td id="L1397" class="blob-num js-line-number" data-line-number="1397"></td>
        <td id="LC1397" class="blob-code js-file-line">    &quot;plt.show()&quot;</td>
      </tr>
      <tr>
        <td id="L1398" class="blob-num js-line-number" data-line-number="1398"></td>
        <td id="LC1398" class="blob-code js-file-line">   ]</td>
      </tr>
      <tr>
        <td id="L1399" class="blob-num js-line-number" data-line-number="1399"></td>
        <td id="LC1399" class="blob-code js-file-line">  },</td>
      </tr>
      <tr>
        <td id="L1400" class="blob-num js-line-number" data-line-number="1400"></td>
        <td id="LC1400" class="blob-code js-file-line">  {</td>
      </tr>
      <tr>
        <td id="L1401" class="blob-num js-line-number" data-line-number="1401"></td>
        <td id="LC1401" class="blob-code js-file-line">   &quot;cell_type&quot;: &quot;code&quot;,</td>
      </tr>
      <tr>
        <td id="L1402" class="blob-num js-line-number" data-line-number="1402"></td>
        <td id="LC1402" class="blob-code js-file-line">   &quot;execution_count&quot;: 32,</td>
      </tr>
      <tr>
        <td id="L1403" class="blob-num js-line-number" data-line-number="1403"></td>
        <td id="LC1403" class="blob-code js-file-line">   &quot;metadata&quot;: {</td>
      </tr>
      <tr>
        <td id="L1404" class="blob-num js-line-number" data-line-number="1404"></td>
        <td id="LC1404" class="blob-code js-file-line">    &quot;collapsed&quot;: false</td>
      </tr>
      <tr>
        <td id="L1405" class="blob-num js-line-number" data-line-number="1405"></td>
        <td id="LC1405" class="blob-code js-file-line">   },</td>
      </tr>
      <tr>
        <td id="L1406" class="blob-num js-line-number" data-line-number="1406"></td>
        <td id="LC1406" class="blob-code js-file-line">   &quot;outputs&quot;: [</td>
      </tr>
      <tr>
        <td id="L1407" class="blob-num js-line-number" data-line-number="1407"></td>
        <td id="LC1407" class="blob-code js-file-line">    {</td>
      </tr>
      <tr>
        <td id="L1408" class="blob-num js-line-number" data-line-number="1408"></td>
        <td id="LC1408" class="blob-code js-file-line">     &quot;data&quot;: {</td>
      </tr>
      <tr>
        <td id="L1409" class="blob-num js-line-number" data-line-number="1409"></td>
        <td id="LC1409" class="blob-code js-file-line">      &quot;text/plain&quot;: [</td>
      </tr>
      <tr>
        <td id="L1410" class="blob-num js-line-number" data-line-number="1410"></td>
        <td id="LC1410" class="blob-code js-file-line">       &quot;0.00024643122452328026&quot;</td>
      </tr>
      <tr>
        <td id="L1411" class="blob-num js-line-number" data-line-number="1411"></td>
        <td id="LC1411" class="blob-code js-file-line">      ]</td>
      </tr>
      <tr>
        <td id="L1412" class="blob-num js-line-number" data-line-number="1412"></td>
        <td id="LC1412" class="blob-code js-file-line">     },</td>
      </tr>
      <tr>
        <td id="L1413" class="blob-num js-line-number" data-line-number="1413"></td>
        <td id="LC1413" class="blob-code js-file-line">     &quot;execution_count&quot;: 32,</td>
      </tr>
      <tr>
        <td id="L1414" class="blob-num js-line-number" data-line-number="1414"></td>
        <td id="LC1414" class="blob-code js-file-line">     &quot;metadata&quot;: {},</td>
      </tr>
      <tr>
        <td id="L1415" class="blob-num js-line-number" data-line-number="1415"></td>
        <td id="LC1415" class="blob-code js-file-line">     &quot;output_type&quot;: &quot;execute_result&quot;</td>
      </tr>
      <tr>
        <td id="L1416" class="blob-num js-line-number" data-line-number="1416"></td>
        <td id="LC1416" class="blob-code js-file-line">    }</td>
      </tr>
      <tr>
        <td id="L1417" class="blob-num js-line-number" data-line-number="1417"></td>
        <td id="LC1417" class="blob-code js-file-line">   ],</td>
      </tr>
      <tr>
        <td id="L1418" class="blob-num js-line-number" data-line-number="1418"></td>
        <td id="LC1418" class="blob-code js-file-line">   &quot;source&quot;: [</td>
      </tr>
      <tr>
        <td id="L1419" class="blob-num js-line-number" data-line-number="1419"></td>
        <td id="LC1419" class="blob-code js-file-line">    &quot;difference=abs(s_prob2-s_prob3)\n&quot;,</td>
      </tr>
      <tr>
        <td id="L1420" class="blob-num js-line-number" data-line-number="1420"></td>
        <td id="LC1420" class="blob-code js-file-line">    &quot;#plt.plot(difference)\n&quot;,</td>
      </tr>
      <tr>
        <td id="L1421" class="blob-num js-line-number" data-line-number="1421"></td>
        <td id="LC1421" class="blob-code js-file-line">    &quot;#plt.show()\n&quot;,</td>
      </tr>
      <tr>
        <td id="L1422" class="blob-num js-line-number" data-line-number="1422"></td>
        <td id="LC1422" class="blob-code js-file-line">    &quot;difference.max()&quot;</td>
      </tr>
      <tr>
        <td id="L1423" class="blob-num js-line-number" data-line-number="1423"></td>
        <td id="LC1423" class="blob-code js-file-line">   ]</td>
      </tr>
      <tr>
        <td id="L1424" class="blob-num js-line-number" data-line-number="1424"></td>
        <td id="LC1424" class="blob-code js-file-line">  },</td>
      </tr>
      <tr>
        <td id="L1425" class="blob-num js-line-number" data-line-number="1425"></td>
        <td id="LC1425" class="blob-code js-file-line">  {</td>
      </tr>
      <tr>
        <td id="L1426" class="blob-num js-line-number" data-line-number="1426"></td>
        <td id="LC1426" class="blob-code js-file-line">   &quot;cell_type&quot;: &quot;markdown&quot;,</td>
      </tr>
      <tr>
        <td id="L1427" class="blob-num js-line-number" data-line-number="1427"></td>
        <td id="LC1427" class="blob-code js-file-line">   &quot;metadata&quot;: {},</td>
      </tr>
      <tr>
        <td id="L1428" class="blob-num js-line-number" data-line-number="1428"></td>
        <td id="LC1428" class="blob-code js-file-line">   &quot;source&quot;: [</td>
      </tr>
      <tr>
        <td id="L1429" class="blob-num js-line-number" data-line-number="1429"></td>
        <td id="LC1429" class="blob-code js-file-line">    &quot;So they are very close, a couple of thousandths off. It is also encouraging to know we got the programming correct.  Let&#39;s now try to code in the calibration_eval function that R/A use. We also need some guesses for other stuff, such as $\\rho$&quot;</td>
      </tr>
      <tr>
        <td id="L1430" class="blob-num js-line-number" data-line-number="1430"></td>
        <td id="LC1430" class="blob-code js-file-line">   ]</td>
      </tr>
      <tr>
        <td id="L1431" class="blob-num js-line-number" data-line-number="1431"></td>
        <td id="LC1431" class="blob-code js-file-line">  },</td>
      </tr>
      <tr>
        <td id="L1432" class="blob-num js-line-number" data-line-number="1432"></td>
        <td id="LC1432" class="blob-code js-file-line">  {</td>
      </tr>
      <tr>
        <td id="L1433" class="blob-num js-line-number" data-line-number="1433"></td>
        <td id="LC1433" class="blob-code js-file-line">   &quot;cell_type&quot;: &quot;code&quot;,</td>
      </tr>
      <tr>
        <td id="L1434" class="blob-num js-line-number" data-line-number="1434"></td>
        <td id="LC1434" class="blob-code js-file-line">   &quot;execution_count&quot;: 33,</td>
      </tr>
      <tr>
        <td id="L1435" class="blob-num js-line-number" data-line-number="1435"></td>
        <td id="LC1435" class="blob-code js-file-line">   &quot;metadata&quot;: {</td>
      </tr>
      <tr>
        <td id="L1436" class="blob-num js-line-number" data-line-number="1436"></td>
        <td id="LC1436" class="blob-code js-file-line">    &quot;collapsed&quot;: false</td>
      </tr>
      <tr>
        <td id="L1437" class="blob-num js-line-number" data-line-number="1437"></td>
        <td id="LC1437" class="blob-code js-file-line">   },</td>
      </tr>
      <tr>
        <td id="L1438" class="blob-num js-line-number" data-line-number="1438"></td>
        <td id="LC1438" class="blob-code js-file-line">   &quot;outputs&quot;: [],</td>
      </tr>
      <tr>
        <td id="L1439" class="blob-num js-line-number" data-line-number="1439"></td>
        <td id="LC1439" class="blob-code js-file-line">   &quot;source&quot;: [</td>
      </tr>
      <tr>
        <td id="L1440" class="blob-num js-line-number" data-line-number="1440"></td>
        <td id="LC1440" class="blob-code js-file-line">    &quot;RHO=.24&quot;</td>
      </tr>
      <tr>
        <td id="L1441" class="blob-num js-line-number" data-line-number="1441"></td>
        <td id="LC1441" class="blob-code js-file-line">   ]</td>
      </tr>
      <tr>
        <td id="L1442" class="blob-num js-line-number" data-line-number="1442"></td>
        <td id="LC1442" class="blob-code js-file-line">  },</td>
      </tr>
      <tr>
        <td id="L1443" class="blob-num js-line-number" data-line-number="1443"></td>
        <td id="LC1443" class="blob-code js-file-line">  {</td>
      </tr>
      <tr>
        <td id="L1444" class="blob-num js-line-number" data-line-number="1444"></td>
        <td id="LC1444" class="blob-code js-file-line">   &quot;cell_type&quot;: &quot;markdown&quot;,</td>
      </tr>
      <tr>
        <td id="L1445" class="blob-num js-line-number" data-line-number="1445"></td>
        <td id="LC1445" class="blob-code js-file-line">   &quot;metadata&quot;: {},</td>
      </tr>
      <tr>
        <td id="L1446" class="blob-num js-line-number" data-line-number="1446"></td>
        <td id="LC1446" class="blob-code js-file-line">   &quot;source&quot;: [</td>
      </tr>
      <tr>
        <td id="L1447" class="blob-num js-line-number" data-line-number="1447"></td>
        <td id="LC1447" class="blob-code js-file-line">    &quot;Because one has to be very careful with certain types of objects (particularly matrices), I&#39;m going to break up the calibration_eval function a little bit more than R/A do. &quot;</td>
      </tr>
      <tr>
        <td id="L1448" class="blob-num js-line-number" data-line-number="1448"></td>
        <td id="LC1448" class="blob-code js-file-line">   ]</td>
      </tr>
      <tr>
        <td id="L1449" class="blob-num js-line-number" data-line-number="1449"></td>
        <td id="LC1449" class="blob-code js-file-line">  },</td>
      </tr>
      <tr>
        <td id="L1450" class="blob-num js-line-number" data-line-number="1450"></td>
        <td id="LC1450" class="blob-code js-file-line">  {</td>
      </tr>
      <tr>
        <td id="L1451" class="blob-num js-line-number" data-line-number="1451"></td>
        <td id="LC1451" class="blob-code js-file-line">   &quot;cell_type&quot;: &quot;code&quot;,</td>
      </tr>
      <tr>
        <td id="L1452" class="blob-num js-line-number" data-line-number="1452"></td>
        <td id="LC1452" class="blob-code js-file-line">   &quot;execution_count&quot;: 34,</td>
      </tr>
      <tr>
        <td id="L1453" class="blob-num js-line-number" data-line-number="1453"></td>
        <td id="LC1453" class="blob-code js-file-line">   &quot;metadata&quot;: {</td>
      </tr>
      <tr>
        <td id="L1454" class="blob-num js-line-number" data-line-number="1454"></td>
        <td id="LC1454" class="blob-code js-file-line">    &quot;collapsed&quot;: false</td>
      </tr>
      <tr>
        <td id="L1455" class="blob-num js-line-number" data-line-number="1455"></td>
        <td id="LC1455" class="blob-code js-file-line">   },</td>
      </tr>
      <tr>
        <td id="L1456" class="blob-num js-line-number" data-line-number="1456"></td>
        <td id="LC1456" class="blob-code js-file-line">   &quot;outputs&quot;: [],</td>
      </tr>
      <tr>
        <td id="L1457" class="blob-num js-line-number" data-line-number="1457"></td>
        <td id="LC1457" class="blob-code js-file-line">   &quot;source&quot;: [</td>
      </tr>
      <tr>
        <td id="L1458" class="blob-num js-line-number" data-line-number="1458"></td>
        <td id="LC1458" class="blob-code js-file-line">    &quot;def calibration_eval(x,rKa_qL_US,Na_US):    \n&quot;,</td>
      </tr>
      <tr>
        <td id="L1459" class="blob-num js-line-number" data-line-number="1459"></td>
        <td id="LC1459" class="blob-code js-file-line">    &quot;    \n&quot;,</td>
      </tr>
      <tr>
        <td id="L1460" class="blob-num js-line-number" data-line-number="1460"></td>
        <td id="LC1460" class="blob-code js-file-line">    &quot;    KNn_US=x[0]                             # non-ag capital-labor\n&quot;,</td>
      </tr>
      <tr>
        <td id="L1461" class="blob-num js-line-number" data-line-number="1461"></td>
        <td id="LC1461" class="blob-code js-file-line">    &quot;    THETA=x[1]                              # parameter in Ag production       \n&quot;,</td>
      </tr>
      <tr>
        <td id="L1462" class="blob-num js-line-number" data-line-number="1462"></td>
        <td id="LC1462" class="blob-code js-file-line">    &quot;    pa_US=x[2]                              # relative price of agricultural goods\n&quot;,</td>
      </tr>
      <tr>
        <td id="L1463" class="blob-num js-line-number" data-line-number="1463"></td>
        <td id="LC1463" class="blob-code js-file-line">    &quot;    \n&quot;,</td>
      </tr>
      <tr>
        <td id="L1464" class="blob-num js-line-number" data-line-number="1464"></td>
        <td id="LC1464" class="blob-code js-file-line">    &quot;    w_US=(1-ALPHA)*A_US*KNn_US**ALPHA       # w = MPLNa     \n&quot;,</td>
      </tr>
      <tr>
        <td id="L1465" class="blob-num js-line-number" data-line-number="1465"></td>
        <td id="LC1465" class="blob-code js-file-line">    &quot;    r_US=ALPHA*A_US*KNn_US**(ALPHA-1)\n&quot;,</td>
      </tr>
      <tr>
        <td id="L1466" class="blob-num js-line-number" data-line-number="1466"></td>
        <td id="LC1466" class="blob-code js-file-line">    &quot;    Ka_US=K_US-(KNn_US*(1-Na_US))\n&quot;,</td>
      </tr>
      <tr>
        <td id="L1467" class="blob-num js-line-number" data-line-number="1467"></td>
        <td id="LC1467" class="blob-code js-file-line">    &quot;    KNa_US=Ka_US/Na_US\n&quot;,</td>
      </tr>
      <tr>
        <td id="L1468" class="blob-num js-line-number" data-line-number="1468"></td>
        <td id="LC1468" class="blob-code js-file-line">    &quot;    YNn_US=A_US*(KNn_US**ALPHA)                                                        #not used?                  \n&quot;,</td>
      </tr>
      <tr>
        <td id="L1469" class="blob-num js-line-number" data-line-number="1469"></td>
        <td id="LC1469" class="blob-code js-file-line">    &quot;    q_r_US=(rKa_qL_US**(-1))*Ka_US/LN_US\n&quot;,</td>
      </tr>
      <tr>
        <td id="L1470" class="blob-num js-line-number" data-line-number="1470"></td>
        <td id="LC1470" class="blob-code js-file-line">    &quot;    q_US=q_r_US*r_US\n&quot;,</td>
      </tr>
      <tr>
        <td id="L1471" class="blob-num js-line-number" data-line-number="1471"></td>
        <td id="LC1471" class="blob-code js-file-line">    &quot;    aBAR=(1/(pa_US*(1-PHI)))*((w_US*(1-XI)*Na_US/((1-GAMMA)))-PHI*(w_US*(1-XI)+q_US*LN_US+r_US*K_US))  #not used?\n&quot;,</td>
      </tr>
      <tr>
        <td id="L1472" class="blob-num js-line-number" data-line-number="1472"></td>
        <td id="LC1472" class="blob-code js-file-line">    &quot;    psi_s_vec1=THETA*((THETA*q_r_US/(1-THETA))**(RHO/(1-RHO)))*np.ones((s_n,1))\n&quot;,</td>
      </tr>
      <tr>
        <td id="L1473" class="blob-num js-line-number" data-line-number="1473"></td>
        <td id="LC1473" class="blob-code js-file-line">    &quot;    psi_s_vec2=(1-THETA)*np.power(s_grid,(RHO/(1-RHO)))\n&quot;,</td>
      </tr>
      <tr>
        <td id="L1474" class="blob-num js-line-number" data-line-number="1474"></td>
        <td id="LC1474" class="blob-code js-file-line">    &quot;    psi_s_vec=psi_s_vec1+psi_s_vec2\n&quot;,</td>
      </tr>
      <tr>
        <td id="L1475" class="blob-num js-line-number" data-line-number="1475"></td>
        <td id="LC1475" class="blob-code js-file-line">    &quot;    l_vec1=((pa_US*GAMMA*(1-THETA)*KAPPA_US*A_US/q_US)**(1/(1-GAMMA)))\n&quot;,</td>
      </tr>
      <tr>
        <td id="L1476" class="blob-num js-line-number" data-line-number="1476"></td>
        <td id="LC1476" class="blob-code js-file-line">    &quot;    l_vec2=(np.power(psi_s_vec,((GAMMA-RHO)/(RHO*(1-GAMMA)))))\n&quot;,</td>
      </tr>
      <tr>
        <td id="L1477" class="blob-num js-line-number" data-line-number="1477"></td>
        <td id="LC1477" class="blob-code js-file-line">    &quot;    l_vec3=(np.power(s_grid,(RHO/(1-RHO))))\n&quot;,</td>
      </tr>
      <tr>
        <td id="L1478" class="blob-num js-line-number" data-line-number="1478"></td>
        <td id="LC1478" class="blob-code js-file-line">    &quot;    l_vec=l_vec1*np.multiply(l_vec2,l_vec3)\n&quot;,</td>
      </tr>
      <tr>
        <td id="L1479" class="blob-num js-line-number" data-line-number="1479"></td>
        <td id="LC1479" class="blob-code js-file-line">    &quot;    k_l_vec=((THETA*q_r_US/(1-THETA))**(1/(1-RHO)))*((np.power(s_grid,(-RHO/(1-RHO)))))\n&quot;,</td>
      </tr>
      <tr>
        <td id="L1480" class="blob-num js-line-number" data-line-number="1480"></td>
        <td id="LC1480" class="blob-code js-file-line">    &quot;    k_vec = np.multiply(k_l_vec , l_vec)\n&quot;,</td>
      </tr>
      <tr>
        <td id="L1481" class="blob-num js-line-number" data-line-number="1481"></td>
        <td id="LC1481" class="blob-code js-file-line">    &quot;    ya_vec=KAPPA_US*A_US*np.power((THETA*np.power(k_vec,RHO)+(1-THETA)*np.power(np.multiply(s_grid,l_vec),RHO)),GAMMA/RHO)\n&quot;,</td>
      </tr>
      <tr>
        <td id="L1482" class="blob-num js-line-number" data-line-number="1482"></td>
        <td id="LC1482" class="blob-code js-file-line">    &quot;    PI_vec=(1-GAMMA)*pa_US*ya_vec\n&quot;,</td>
      </tr>
      <tr>
        <td id="L1483" class="blob-num js-line-number" data-line-number="1483"></td>
        <td id="LC1483" class="blob-code js-file-line">    &quot;    f1=(1-XI)*w_US-np.sum(np.multiply(s_prob,PI_vec))\n&quot;,</td>
      </tr>
      <tr>
        <td id="L1484" class="blob-num js-line-number" data-line-number="1484"></td>
        <td id="LC1484" class="blob-code js-file-line">    &quot;    f2=KNa_US - np.sum(np.multiply(s_prob,k_vec))\n&quot;,</td>
      </tr>
      <tr>
        <td id="L1485" class="blob-num js-line-number" data-line-number="1485"></td>
        <td id="LC1485" class="blob-code js-file-line">    &quot;    f3=LN_US - Na_US*(np.sum(np.multiply(s_prob,l_vec)))\n&quot;,</td>
      </tr>
      <tr>
        <td id="L1486" class="blob-num js-line-number" data-line-number="1486"></td>
        <td id="LC1486" class="blob-code js-file-line">    &quot;    f=f1,f2,f3\n&quot;,</td>
      </tr>
      <tr>
        <td id="L1487" class="blob-num js-line-number" data-line-number="1487"></td>
        <td id="LC1487" class="blob-code js-file-line">    &quot;    g=np.dot(f,f)\n&quot;,</td>
      </tr>
      <tr>
        <td id="L1488" class="blob-num js-line-number" data-line-number="1488"></td>
        <td id="LC1488" class="blob-code js-file-line">    &quot;    return g&quot;</td>
      </tr>
      <tr>
        <td id="L1489" class="blob-num js-line-number" data-line-number="1489"></td>
        <td id="LC1489" class="blob-code js-file-line">   ]</td>
      </tr>
      <tr>
        <td id="L1490" class="blob-num js-line-number" data-line-number="1490"></td>
        <td id="LC1490" class="blob-code js-file-line">  },</td>
      </tr>
      <tr>
        <td id="L1491" class="blob-num js-line-number" data-line-number="1491"></td>
        <td id="LC1491" class="blob-code js-file-line">  {</td>
      </tr>
      <tr>
        <td id="L1492" class="blob-num js-line-number" data-line-number="1492"></td>
        <td id="LC1492" class="blob-code js-file-line">   &quot;cell_type&quot;: &quot;markdown&quot;,</td>
      </tr>
      <tr>
        <td id="L1493" class="blob-num js-line-number" data-line-number="1493"></td>
        <td id="LC1493" class="blob-code js-file-line">   &quot;metadata&quot;: {},</td>
      </tr>
      <tr>
        <td id="L1494" class="blob-num js-line-number" data-line-number="1494"></td>
        <td id="LC1494" class="blob-code js-file-line">   &quot;source&quot;: [</td>
      </tr>
      <tr>
        <td id="L1495" class="blob-num js-line-number" data-line-number="1495"></td>
        <td id="LC1495" class="blob-code js-file-line">    &quot;**JC:**  As of 1/21 it is reproducing the matlab evaluation call exactly.&quot;</td>
      </tr>
      <tr>
        <td id="L1496" class="blob-num js-line-number" data-line-number="1496"></td>
        <td id="LC1496" class="blob-code js-file-line">   ]</td>
      </tr>
      <tr>
        <td id="L1497" class="blob-num js-line-number" data-line-number="1497"></td>
        <td id="LC1497" class="blob-code js-file-line">  },</td>
      </tr>
      <tr>
        <td id="L1498" class="blob-num js-line-number" data-line-number="1498"></td>
        <td id="LC1498" class="blob-code js-file-line">  {</td>
      </tr>
      <tr>
        <td id="L1499" class="blob-num js-line-number" data-line-number="1499"></td>
        <td id="LC1499" class="blob-code js-file-line">   &quot;cell_type&quot;: &quot;code&quot;,</td>
      </tr>
      <tr>
        <td id="L1500" class="blob-num js-line-number" data-line-number="1500"></td>
        <td id="LC1500" class="blob-code js-file-line">   &quot;execution_count&quot;: 35,</td>
      </tr>
      <tr>
        <td id="L1501" class="blob-num js-line-number" data-line-number="1501"></td>
        <td id="LC1501" class="blob-code js-file-line">   &quot;metadata&quot;: {</td>
      </tr>
      <tr>
        <td id="L1502" class="blob-num js-line-number" data-line-number="1502"></td>
        <td id="LC1502" class="blob-code js-file-line">    &quot;collapsed&quot;: false</td>
      </tr>
      <tr>
        <td id="L1503" class="blob-num js-line-number" data-line-number="1503"></td>
        <td id="LC1503" class="blob-code js-file-line">   },</td>
      </tr>
      <tr>
        <td id="L1504" class="blob-num js-line-number" data-line-number="1504"></td>
        <td id="LC1504" class="blob-code js-file-line">   &quot;outputs&quot;: [</td>
      </tr>
      <tr>
        <td id="L1505" class="blob-num js-line-number" data-line-number="1505"></td>
        <td id="LC1505" class="blob-code js-file-line">    {</td>
      </tr>
      <tr>
        <td id="L1506" class="blob-num js-line-number" data-line-number="1506"></td>
        <td id="LC1506" class="blob-code js-file-line">     &quot;data&quot;: {</td>
      </tr>
      <tr>
        <td id="L1507" class="blob-num js-line-number" data-line-number="1507"></td>
        <td id="LC1507" class="blob-code js-file-line">      &quot;text/plain&quot;: [</td>
      </tr>
      <tr>
        <td id="L1508" class="blob-num js-line-number" data-line-number="1508"></td>
        <td id="LC1508" class="blob-code js-file-line">       &quot;949.4260053043738&quot;</td>
      </tr>
      <tr>
        <td id="L1509" class="blob-num js-line-number" data-line-number="1509"></td>
        <td id="LC1509" class="blob-code js-file-line">      ]</td>
      </tr>
      <tr>
        <td id="L1510" class="blob-num js-line-number" data-line-number="1510"></td>
        <td id="LC1510" class="blob-code js-file-line">     },</td>
      </tr>
      <tr>
        <td id="L1511" class="blob-num js-line-number" data-line-number="1511"></td>
        <td id="LC1511" class="blob-code js-file-line">     &quot;execution_count&quot;: 35,</td>
      </tr>
      <tr>
        <td id="L1512" class="blob-num js-line-number" data-line-number="1512"></td>
        <td id="LC1512" class="blob-code js-file-line">     &quot;metadata&quot;: {},</td>
      </tr>
      <tr>
        <td id="L1513" class="blob-num js-line-number" data-line-number="1513"></td>
        <td id="LC1513" class="blob-code js-file-line">     &quot;output_type&quot;: &quot;execute_result&quot;</td>
      </tr>
      <tr>
        <td id="L1514" class="blob-num js-line-number" data-line-number="1514"></td>
        <td id="LC1514" class="blob-code js-file-line">    }</td>
      </tr>
      <tr>
        <td id="L1515" class="blob-num js-line-number" data-line-number="1515"></td>
        <td id="LC1515" class="blob-code js-file-line">   ],</td>
      </tr>
      <tr>
        <td id="L1516" class="blob-num js-line-number" data-line-number="1516"></td>
        <td id="LC1516" class="blob-code js-file-line">   &quot;source&quot;: [</td>
      </tr>
      <tr>
        <td id="L1517" class="blob-num js-line-number" data-line-number="1517"></td>
        <td id="LC1517" class="blob-code js-file-line">    &quot;guess = array([3.2,0.9,0.4])\n&quot;,</td>
      </tr>
      <tr>
        <td id="L1518" class="blob-num js-line-number" data-line-number="1518"></td>
        <td id="LC1518" class="blob-code js-file-line">    &quot;calibration_eval(guess,rKa_qL_US,Na_US)&quot;</td>
      </tr>
      <tr>
        <td id="L1519" class="blob-num js-line-number" data-line-number="1519"></td>
        <td id="LC1519" class="blob-code js-file-line">   ]</td>
      </tr>
      <tr>
        <td id="L1520" class="blob-num js-line-number" data-line-number="1520"></td>
        <td id="LC1520" class="blob-code js-file-line">  },</td>
      </tr>
      <tr>
        <td id="L1521" class="blob-num js-line-number" data-line-number="1521"></td>
        <td id="LC1521" class="blob-code js-file-line">  {</td>
      </tr>
      <tr>
        <td id="L1522" class="blob-num js-line-number" data-line-number="1522"></td>
        <td id="LC1522" class="blob-code js-file-line">   &quot;cell_type&quot;: &quot;markdown&quot;,</td>
      </tr>
      <tr>
        <td id="L1523" class="blob-num js-line-number" data-line-number="1523"></td>
        <td id="LC1523" class="blob-code js-file-line">   &quot;metadata&quot;: {},</td>
      </tr>
      <tr>
        <td id="L1524" class="blob-num js-line-number" data-line-number="1524"></td>
        <td id="LC1524" class="blob-code js-file-line">   &quot;source&quot;: [</td>
      </tr>
      <tr>
        <td id="L1525" class="blob-num js-line-number" data-line-number="1525"></td>
        <td id="LC1525" class="blob-code js-file-line">    &quot;**JC:** MATLAB calibration_eval gives (when  RHO=0.24):\n&quot;,</td>
      </tr>
      <tr>
        <td id="L1526" class="blob-num js-line-number" data-line-number="1526"></td>
        <td id="LC1526" class="blob-code js-file-line">    &quot;\n&quot;,</td>
      </tr>
      <tr>
        <td id="L1527" class="blob-num js-line-number" data-line-number="1527"></td>
        <td id="LC1527" class="blob-code js-file-line">    &quot;&gt;&gt; calibration_eval(guess,rKa_qL_US,Na_US)\n&quot;,</td>
      </tr>
      <tr>
        <td id="L1528" class="blob-num js-line-number" data-line-number="1528"></td>
        <td id="LC1528" class="blob-code js-file-line">    &quot;\n&quot;,</td>
      </tr>
      <tr>
        <td id="L1529" class="blob-num js-line-number" data-line-number="1529"></td>
        <td id="LC1529" class="blob-code js-file-line">    &quot;ans =\n&quot;,</td>
      </tr>
      <tr>
        <td id="L1530" class="blob-num js-line-number" data-line-number="1530"></td>
        <td id="LC1530" class="blob-code js-file-line">    &quot;\n&quot;,</td>
      </tr>
      <tr>
        <td id="L1531" class="blob-num js-line-number" data-line-number="1531"></td>
        <td id="LC1531" class="blob-code js-file-line">    &quot;      0.26683       39.719       4.1983\n&quot;,</td>
      </tr>
      <tr>
        <td id="L1532" class="blob-num js-line-number" data-line-number="1532"></td>
        <td id="LC1532" class="blob-code js-file-line">    &quot;     &quot;</td>
      </tr>
      <tr>
        <td id="L1533" class="blob-num js-line-number" data-line-number="1533"></td>
        <td id="LC1533" class="blob-code js-file-line">   ]</td>
      </tr>
      <tr>
        <td id="L1534" class="blob-num js-line-number" data-line-number="1534"></td>
        <td id="LC1534" class="blob-code js-file-line">  },</td>
      </tr>
      <tr>
        <td id="L1535" class="blob-num js-line-number" data-line-number="1535"></td>
        <td id="LC1535" class="blob-code js-file-line">  {</td>
      </tr>
      <tr>
        <td id="L1536" class="blob-num js-line-number" data-line-number="1536"></td>
        <td id="LC1536" class="blob-code js-file-line">   &quot;cell_type&quot;: &quot;code&quot;,</td>
      </tr>
      <tr>
        <td id="L1537" class="blob-num js-line-number" data-line-number="1537"></td>
        <td id="LC1537" class="blob-code js-file-line">   &quot;execution_count&quot;: 36,</td>
      </tr>
      <tr>
        <td id="L1538" class="blob-num js-line-number" data-line-number="1538"></td>
        <td id="LC1538" class="blob-code js-file-line">   &quot;metadata&quot;: {</td>
      </tr>
      <tr>
        <td id="L1539" class="blob-num js-line-number" data-line-number="1539"></td>
        <td id="LC1539" class="blob-code js-file-line">    &quot;collapsed&quot;: false</td>
      </tr>
      <tr>
        <td id="L1540" class="blob-num js-line-number" data-line-number="1540"></td>
        <td id="LC1540" class="blob-code js-file-line">   },</td>
      </tr>
      <tr>
        <td id="L1541" class="blob-num js-line-number" data-line-number="1541"></td>
        <td id="LC1541" class="blob-code js-file-line">   &quot;outputs&quot;: [],</td>
      </tr>
      <tr>
        <td id="L1542" class="blob-num js-line-number" data-line-number="1542"></td>
        <td id="LC1542" class="blob-code js-file-line">   &quot;source&quot;: [</td>
      </tr>
      <tr>
        <td id="L1543" class="blob-num js-line-number" data-line-number="1543"></td>
        <td id="LC1543" class="blob-code js-file-line">    &quot;import scipy.optimize as so&quot;</td>
      </tr>
      <tr>
        <td id="L1544" class="blob-num js-line-number" data-line-number="1544"></td>
        <td id="LC1544" class="blob-code js-file-line">   ]</td>
      </tr>
      <tr>
        <td id="L1545" class="blob-num js-line-number" data-line-number="1545"></td>
        <td id="LC1545" class="blob-code js-file-line">  },</td>
      </tr>
      <tr>
        <td id="L1546" class="blob-num js-line-number" data-line-number="1546"></td>
        <td id="LC1546" class="blob-code js-file-line">  {</td>
      </tr>
      <tr>
        <td id="L1547" class="blob-num js-line-number" data-line-number="1547"></td>
        <td id="LC1547" class="blob-code js-file-line">   &quot;cell_type&quot;: &quot;code&quot;,</td>
      </tr>
      <tr>
        <td id="L1548" class="blob-num js-line-number" data-line-number="1548"></td>
        <td id="LC1548" class="blob-code js-file-line">   &quot;execution_count&quot;: 37,</td>
      </tr>
      <tr>
        <td id="L1549" class="blob-num js-line-number" data-line-number="1549"></td>
        <td id="LC1549" class="blob-code js-file-line">   &quot;metadata&quot;: {</td>
      </tr>
      <tr>
        <td id="L1550" class="blob-num js-line-number" data-line-number="1550"></td>
        <td id="LC1550" class="blob-code js-file-line">    &quot;collapsed&quot;: false</td>
      </tr>
      <tr>
        <td id="L1551" class="blob-num js-line-number" data-line-number="1551"></td>
        <td id="LC1551" class="blob-code js-file-line">   },</td>
      </tr>
      <tr>
        <td id="L1552" class="blob-num js-line-number" data-line-number="1552"></td>
        <td id="LC1552" class="blob-code js-file-line">   &quot;outputs&quot;: [</td>
      </tr>
      <tr>
        <td id="L1553" class="blob-num js-line-number" data-line-number="1553"></td>
        <td id="LC1553" class="blob-code js-file-line">    {</td>
      </tr>
      <tr>
        <td id="L1554" class="blob-num js-line-number" data-line-number="1554"></td>
        <td id="LC1554" class="blob-code js-file-line">     &quot;name&quot;: &quot;stderr&quot;,</td>
      </tr>
      <tr>
        <td id="L1555" class="blob-num js-line-number" data-line-number="1555"></td>
        <td id="LC1555" class="blob-code js-file-line">     &quot;output_type&quot;: &quot;stream&quot;,</td>
      </tr>
      <tr>
        <td id="L1556" class="blob-num js-line-number" data-line-number="1556"></td>
        <td id="LC1556" class="blob-code js-file-line">     &quot;text&quot;: [</td>
      </tr>
      <tr>
        <td id="L1557" class="blob-num js-line-number" data-line-number="1557"></td>
        <td id="LC1557" class="blob-code js-file-line">      &quot;-c:15: RuntimeWarning: invalid value encountered in double_scalars\n&quot;,</td>
      </tr>
      <tr>
        <td id="L1558" class="blob-num js-line-number" data-line-number="1558"></td>
        <td id="LC1558" class="blob-code js-file-line">      &quot;-c:18: RuntimeWarning: invalid value encountered in double_scalars\n&quot;,</td>
      </tr>
      <tr>
        <td id="L1559" class="blob-num js-line-number" data-line-number="1559"></td>
        <td id="LC1559" class="blob-code js-file-line">      &quot;-c:19: RuntimeWarning: invalid value encountered in power\n&quot;,</td>
      </tr>
      <tr>
        <td id="L1560" class="blob-num js-line-number" data-line-number="1560"></td>
        <td id="LC1560" class="blob-code js-file-line">      &quot;-c:22: RuntimeWarning: invalid value encountered in double_scalars\n&quot;,</td>
      </tr>
      <tr>
        <td id="L1561" class="blob-num js-line-number" data-line-number="1561"></td>
        <td id="LC1561" class="blob-code js-file-line">      &quot;-c:24: RuntimeWarning: invalid value encountered in power\n&quot;</td>
      </tr>
      <tr>
        <td id="L1562" class="blob-num js-line-number" data-line-number="1562"></td>
        <td id="LC1562" class="blob-code js-file-line">     ]</td>
      </tr>
      <tr>
        <td id="L1563" class="blob-num js-line-number" data-line-number="1563"></td>
        <td id="LC1563" class="blob-code js-file-line">    }</td>
      </tr>
      <tr>
        <td id="L1564" class="blob-num js-line-number" data-line-number="1564"></td>
        <td id="LC1564" class="blob-code js-file-line">   ],</td>
      </tr>
      <tr>
        <td id="L1565" class="blob-num js-line-number" data-line-number="1565"></td>
        <td id="LC1565" class="blob-code js-file-line">   &quot;source&quot;: [</td>
      </tr>
      <tr>
        <td id="L1566" class="blob-num js-line-number" data-line-number="1566"></td>
        <td id="LC1566" class="blob-code js-file-line">    &quot;x0=np.array([3.2,.84,.27])\n&quot;,</td>
      </tr>
      <tr>
        <td id="L1567" class="blob-num js-line-number" data-line-number="1567"></td>
        <td id="LC1567" class="blob-code js-file-line">    &quot;a=rKa_qL_US,Na_US\n&quot;,</td>
      </tr>
      <tr>
        <td id="L1568" class="blob-num js-line-number" data-line-number="1568"></td>
        <td id="LC1568" class="blob-code js-file-line">    &quot;result=so.minimize(calibration_eval,x0,args=a,method=&#39;Nelder-Mead&#39;)&quot;</td>
      </tr>
      <tr>
        <td id="L1569" class="blob-num js-line-number" data-line-number="1569"></td>
        <td id="LC1569" class="blob-code js-file-line">   ]</td>
      </tr>
      <tr>
        <td id="L1570" class="blob-num js-line-number" data-line-number="1570"></td>
        <td id="LC1570" class="blob-code js-file-line">  },</td>
      </tr>
      <tr>
        <td id="L1571" class="blob-num js-line-number" data-line-number="1571"></td>
        <td id="LC1571" class="blob-code js-file-line">  {</td>
      </tr>
      <tr>
        <td id="L1572" class="blob-num js-line-number" data-line-number="1572"></td>
        <td id="LC1572" class="blob-code js-file-line">   &quot;cell_type&quot;: &quot;code&quot;,</td>
      </tr>
      <tr>
        <td id="L1573" class="blob-num js-line-number" data-line-number="1573"></td>
        <td id="LC1573" class="blob-code js-file-line">   &quot;execution_count&quot;: 38,</td>
      </tr>
      <tr>
        <td id="L1574" class="blob-num js-line-number" data-line-number="1574"></td>
        <td id="LC1574" class="blob-code js-file-line">   &quot;metadata&quot;: {</td>
      </tr>
      <tr>
        <td id="L1575" class="blob-num js-line-number" data-line-number="1575"></td>
        <td id="LC1575" class="blob-code js-file-line">    &quot;collapsed&quot;: false</td>
      </tr>
      <tr>
        <td id="L1576" class="blob-num js-line-number" data-line-number="1576"></td>
        <td id="LC1576" class="blob-code js-file-line">   },</td>
      </tr>
      <tr>
        <td id="L1577" class="blob-num js-line-number" data-line-number="1577"></td>
        <td id="LC1577" class="blob-code js-file-line">   &quot;outputs&quot;: [</td>
      </tr>
      <tr>
        <td id="L1578" class="blob-num js-line-number" data-line-number="1578"></td>
        <td id="LC1578" class="blob-code js-file-line">    {</td>
      </tr>
      <tr>
        <td id="L1579" class="blob-num js-line-number" data-line-number="1579"></td>
        <td id="LC1579" class="blob-code js-file-line">     &quot;data&quot;: {</td>
      </tr>
      <tr>
        <td id="L1580" class="blob-num js-line-number" data-line-number="1580"></td>
        <td id="LC1580" class="blob-code js-file-line">      &quot;text/plain&quot;: [</td>
      </tr>
      <tr>
        <td id="L1581" class="blob-num js-line-number" data-line-number="1581"></td>
        <td id="LC1581" class="blob-code js-file-line">       &quot;  status: 0\n&quot;,</td>
      </tr>
      <tr>
        <td id="L1582" class="blob-num js-line-number" data-line-number="1582"></td>
        <td id="LC1582" class="blob-code js-file-line">       &quot;    nfev: 210\n&quot;,</td>
      </tr>
      <tr>
        <td id="L1583" class="blob-num js-line-number" data-line-number="1583"></td>
        <td id="LC1583" class="blob-code js-file-line">       &quot; success: True\n&quot;,</td>
      </tr>
      <tr>
        <td id="L1584" class="blob-num js-line-number" data-line-number="1584"></td>
        <td id="LC1584" class="blob-code js-file-line">       &quot;     fun: 5.8793619412223842e-08\n&quot;,</td>
      </tr>
      <tr>
        <td id="L1585" class="blob-num js-line-number" data-line-number="1585"></td>
        <td id="LC1585" class="blob-code js-file-line">       &quot;       x: array([ 3.97104018,  0.8886881 ,  0.31545382])\n&quot;,</td>
      </tr>
      <tr>
        <td id="L1586" class="blob-num js-line-number" data-line-number="1586"></td>
        <td id="LC1586" class="blob-code js-file-line">       &quot; message: &#39;Optimization terminated successfully.&#39;\n&quot;,</td>
      </tr>
      <tr>
        <td id="L1587" class="blob-num js-line-number" data-line-number="1587"></td>
        <td id="LC1587" class="blob-code js-file-line">       &quot;     nit: 118&quot;</td>
      </tr>
      <tr>
        <td id="L1588" class="blob-num js-line-number" data-line-number="1588"></td>
        <td id="LC1588" class="blob-code js-file-line">      ]</td>
      </tr>
      <tr>
        <td id="L1589" class="blob-num js-line-number" data-line-number="1589"></td>
        <td id="LC1589" class="blob-code js-file-line">     },</td>
      </tr>
      <tr>
        <td id="L1590" class="blob-num js-line-number" data-line-number="1590"></td>
        <td id="LC1590" class="blob-code js-file-line">     &quot;execution_count&quot;: 38,</td>
      </tr>
      <tr>
        <td id="L1591" class="blob-num js-line-number" data-line-number="1591"></td>
        <td id="LC1591" class="blob-code js-file-line">     &quot;metadata&quot;: {},</td>
      </tr>
      <tr>
        <td id="L1592" class="blob-num js-line-number" data-line-number="1592"></td>
        <td id="LC1592" class="blob-code js-file-line">     &quot;output_type&quot;: &quot;execute_result&quot;</td>
      </tr>
      <tr>
        <td id="L1593" class="blob-num js-line-number" data-line-number="1593"></td>
        <td id="LC1593" class="blob-code js-file-line">    }</td>
      </tr>
      <tr>
        <td id="L1594" class="blob-num js-line-number" data-line-number="1594"></td>
        <td id="LC1594" class="blob-code js-file-line">   ],</td>
      </tr>
      <tr>
        <td id="L1595" class="blob-num js-line-number" data-line-number="1595"></td>
        <td id="LC1595" class="blob-code js-file-line">   &quot;source&quot;: [</td>
      </tr>
      <tr>
        <td id="L1596" class="blob-num js-line-number" data-line-number="1596"></td>
        <td id="LC1596" class="blob-code js-file-line">    &quot;result&quot;</td>
      </tr>
      <tr>
        <td id="L1597" class="blob-num js-line-number" data-line-number="1597"></td>
        <td id="LC1597" class="blob-code js-file-line">   ]</td>
      </tr>
      <tr>
        <td id="L1598" class="blob-num js-line-number" data-line-number="1598"></td>
        <td id="LC1598" class="blob-code js-file-line">  },</td>
      </tr>
      <tr>
        <td id="L1599" class="blob-num js-line-number" data-line-number="1599"></td>
        <td id="LC1599" class="blob-code js-file-line">  {</td>
      </tr>
      <tr>
        <td id="L1600" class="blob-num js-line-number" data-line-number="1600"></td>
        <td id="LC1600" class="blob-code js-file-line">   &quot;cell_type&quot;: &quot;markdown&quot;,</td>
      </tr>
      <tr>
        <td id="L1601" class="blob-num js-line-number" data-line-number="1601"></td>
        <td id="LC1601" class="blob-code js-file-line">   &quot;metadata&quot;: {},</td>
      </tr>
      <tr>
        <td id="L1602" class="blob-num js-line-number" data-line-number="1602"></td>
        <td id="LC1602" class="blob-code js-file-line">   &quot;source&quot;: [</td>
      </tr>
      <tr>
        <td id="L1603" class="blob-num js-line-number" data-line-number="1603"></td>
        <td id="LC1603" class="blob-code js-file-line">    &quot;It seems then that we are able to reproduce results as obtained by A/R. The next thing we might like to do is see how the rest of the project goes. What we are now going to do is try to get a function that does what the rest of the calibration exercise does, but have this actually be a function, and not just an external loop. So, in essence, the function should work as follows:\n&quot;,</td>
      </tr>
      <tr>
        <td id="L1604" class="blob-num js-line-number" data-line-number="1604"></td>
        <td id="LC1604" class="blob-code js-file-line">    &quot;\n&quot;,</td>
      </tr>
      <tr>
        <td id="L1605" class="blob-num js-line-number" data-line-number="1605"></td>
        <td id="LC1605" class="blob-code js-file-line">    &quot;1. Arguments taken in by the function should be $\\rho, \\mu, $ and $\\sigma$.\n&quot;,</td>
      </tr>
      <tr>
        <td id="L1606" class="blob-num js-line-number" data-line-number="1606"></td>
        <td id="LC1606" class="blob-code js-file-line">    &quot;2. The first order of business is then simulating a $\\mu$, $\\sigma$ log-normal distribution as done in the paper.\n&quot;,</td>
      </tr>
      <tr>
        <td id="L1607" class="blob-num js-line-number" data-line-number="1607"></td>
        <td id="LC1607" class="blob-code js-file-line">    &quot;3. I don&#39;t see any reason why rKa_qL_US and Na_US should be afforded special status as arguments. Can&#39;t they be globals as well?\n&quot;,</td>
      </tr>
      <tr>
        <td id="L1608" class="blob-num js-line-number" data-line-number="1608"></td>
        <td id="LC1608" class="blob-code js-file-line">    &quot;4. Given a simulated distribution, and the fixed values of rKa_qL_US and Na_US, the next thing to be done is to solve for the x-vector given these values (using a nested optimization routine, as above)\n&quot;,</td>
      </tr>
      <tr>
        <td id="L1609" class="blob-num js-line-number" data-line-number="1609"></td>
        <td id="LC1609" class="blob-code js-file-line">    &quot;5. Given the results, we then run the rest of A/R&#39;s code and \&quot;match moments.\&quot; \n&quot;,</td>
      </tr>
      <tr>
        <td id="L1610" class="blob-num js-line-number" data-line-number="1610"></td>
        <td id="LC1610" class="blob-code js-file-line">    &quot;\n&quot;,</td>
      </tr>
      <tr>
        <td id="L1611" class="blob-num js-line-number" data-line-number="1611"></td>
        <td id="LC1611" class="blob-code js-file-line">    &quot;Before getting started, we will first define bins ahead of time, exploiting Python&#39;s nice way of working with scope. I am also going to try and improve the code a bit where I think it needs it. Here are the bins: &quot;</td>
      </tr>
      <tr>
        <td id="L1612" class="blob-num js-line-number" data-line-number="1612"></td>
        <td id="LC1612" class="blob-code js-file-line">   ]</td>
      </tr>
      <tr>
        <td id="L1613" class="blob-num js-line-number" data-line-number="1613"></td>
        <td id="LC1613" class="blob-code js-file-line">  },</td>
      </tr>
      <tr>
        <td id="L1614" class="blob-num js-line-number" data-line-number="1614"></td>
        <td id="LC1614" class="blob-code js-file-line">  {</td>
      </tr>
      <tr>
        <td id="L1615" class="blob-num js-line-number" data-line-number="1615"></td>
        <td id="LC1615" class="blob-code js-file-line">   &quot;cell_type&quot;: &quot;code&quot;,</td>
      </tr>
      <tr>
        <td id="L1616" class="blob-num js-line-number" data-line-number="1616"></td>
        <td id="LC1616" class="blob-code js-file-line">   &quot;execution_count&quot;: 39,</td>
      </tr>
      <tr>
        <td id="L1617" class="blob-num js-line-number" data-line-number="1617"></td>
        <td id="LC1617" class="blob-code js-file-line">   &quot;metadata&quot;: {</td>
      </tr>
      <tr>
        <td id="L1618" class="blob-num js-line-number" data-line-number="1618"></td>
        <td id="LC1618" class="blob-code js-file-line">    &quot;collapsed&quot;: false</td>
      </tr>
      <tr>
        <td id="L1619" class="blob-num js-line-number" data-line-number="1619"></td>
        <td id="LC1619" class="blob-code js-file-line">   },</td>
      </tr>
      <tr>
        <td id="L1620" class="blob-num js-line-number" data-line-number="1620"></td>
        <td id="LC1620" class="blob-code js-file-line">   &quot;outputs&quot;: [</td>
      </tr>
      <tr>
        <td id="L1621" class="blob-num js-line-number" data-line-number="1621"></td>
        <td id="LC1621" class="blob-code js-file-line">    {</td>
      </tr>
      <tr>
        <td id="L1622" class="blob-num js-line-number" data-line-number="1622"></td>
        <td id="LC1622" class="blob-code js-file-line">     &quot;data&quot;: {</td>
      </tr>
      <tr>
        <td id="L1623" class="blob-num js-line-number" data-line-number="1623"></td>
        <td id="LC1623" class="blob-code js-file-line">      &quot;text/plain&quot;: [</td>
      </tr>
      <tr>
        <td id="L1624" class="blob-num js-line-number" data-line-number="1624"></td>
        <td id="LC1624" class="blob-code js-file-line">       &quot;(11L,)&quot;</td>
      </tr>
      <tr>
        <td id="L1625" class="blob-num js-line-number" data-line-number="1625"></td>
        <td id="LC1625" class="blob-code js-file-line">      ]</td>
      </tr>
      <tr>
        <td id="L1626" class="blob-num js-line-number" data-line-number="1626"></td>
        <td id="LC1626" class="blob-code js-file-line">     },</td>
      </tr>
      <tr>
        <td id="L1627" class="blob-num js-line-number" data-line-number="1627"></td>
        <td id="LC1627" class="blob-code js-file-line">     &quot;execution_count&quot;: 39,</td>
      </tr>
      <tr>
        <td id="L1628" class="blob-num js-line-number" data-line-number="1628"></td>
        <td id="LC1628" class="blob-code js-file-line">     &quot;metadata&quot;: {},</td>
      </tr>
      <tr>
        <td id="L1629" class="blob-num js-line-number" data-line-number="1629"></td>
        <td id="LC1629" class="blob-code js-file-line">     &quot;output_type&quot;: &quot;execute_result&quot;</td>
      </tr>
      <tr>
        <td id="L1630" class="blob-num js-line-number" data-line-number="1630"></td>
        <td id="LC1630" class="blob-code js-file-line">    }</td>
      </tr>
      <tr>
        <td id="L1631" class="blob-num js-line-number" data-line-number="1631"></td>
        <td id="LC1631" class="blob-code js-file-line">   ],</td>
      </tr>
      <tr>
        <td id="L1632" class="blob-num js-line-number" data-line-number="1632"></td>
        <td id="LC1632" class="blob-code js-file-line">   &quot;source&quot;: [</td>
      </tr>
      <tr>
        <td id="L1633" class="blob-num js-line-number" data-line-number="1633"></td>
        <td id="LC1633" class="blob-code js-file-line">    &quot;bins=3.64,19.82,27.92,40.06,56.25,72.44,88.63,104.81,201.94,404.28,808.97\n&quot;,</td>
      </tr>
      <tr>
        <td id="L1634" class="blob-num js-line-number" data-line-number="1634"></td>
        <td id="LC1634" class="blob-code js-file-line">    &quot;np.shape(bins)&quot;</td>
      </tr>
      <tr>
        <td id="L1635" class="blob-num js-line-number" data-line-number="1635"></td>
        <td id="LC1635" class="blob-code js-file-line">   ]</td>
      </tr>
      <tr>
        <td id="L1636" class="blob-num js-line-number" data-line-number="1636"></td>
        <td id="LC1636" class="blob-code js-file-line">  },</td>
      </tr>
      <tr>
        <td id="L1637" class="blob-num js-line-number" data-line-number="1637"></td>
        <td id="LC1637" class="blob-code js-file-line">  {</td>
      </tr>
      <tr>
        <td id="L1638" class="blob-num js-line-number" data-line-number="1638"></td>
        <td id="LC1638" class="blob-code js-file-line">   &quot;cell_type&quot;: &quot;code&quot;,</td>
      </tr>
      <tr>
        <td id="L1639" class="blob-num js-line-number" data-line-number="1639"></td>
        <td id="LC1639" class="blob-code js-file-line">   &quot;execution_count&quot;: 40,</td>
      </tr>
      <tr>
        <td id="L1640" class="blob-num js-line-number" data-line-number="1640"></td>
        <td id="LC1640" class="blob-code js-file-line">   &quot;metadata&quot;: {</td>
      </tr>
      <tr>
        <td id="L1641" class="blob-num js-line-number" data-line-number="1641"></td>
        <td id="LC1641" class="blob-code js-file-line">    &quot;collapsed&quot;: false</td>
      </tr>
      <tr>
        <td id="L1642" class="blob-num js-line-number" data-line-number="1642"></td>
        <td id="LC1642" class="blob-code js-file-line">   },</td>
      </tr>
      <tr>
        <td id="L1643" class="blob-num js-line-number" data-line-number="1643"></td>
        <td id="LC1643" class="blob-code js-file-line">   &quot;outputs&quot;: [</td>
      </tr>
      <tr>
        <td id="L1644" class="blob-num js-line-number" data-line-number="1644"></td>
        <td id="LC1644" class="blob-code js-file-line">    {</td>
      </tr>
      <tr>
        <td id="L1645" class="blob-num js-line-number" data-line-number="1645"></td>
        <td id="LC1645" class="blob-code js-file-line">     &quot;data&quot;: {</td>
      </tr>
      <tr>
        <td id="L1646" class="blob-num js-line-number" data-line-number="1646"></td>
        <td id="LC1646" class="blob-code js-file-line">      &quot;text/plain&quot;: [</td>
      </tr>
      <tr>
        <td id="L1647" class="blob-num js-line-number" data-line-number="1647"></td>
        <td id="LC1647" class="blob-code js-file-line">       &quot;(3.64,\n&quot;,</td>
      </tr>
      <tr>
        <td id="L1648" class="blob-num js-line-number" data-line-number="1648"></td>
        <td id="LC1648" class="blob-code js-file-line">       &quot; 19.82,\n&quot;,</td>
      </tr>
      <tr>
        <td id="L1649" class="blob-num js-line-number" data-line-number="1649"></td>
        <td id="LC1649" class="blob-code js-file-line">       &quot; 27.92,\n&quot;,</td>
      </tr>
      <tr>
        <td id="L1650" class="blob-num js-line-number" data-line-number="1650"></td>
        <td id="LC1650" class="blob-code js-file-line">       &quot; 40.06,\n&quot;,</td>
      </tr>
      <tr>
        <td id="L1651" class="blob-num js-line-number" data-line-number="1651"></td>
        <td id="LC1651" class="blob-code js-file-line">       &quot; 56.25,\n&quot;,</td>
      </tr>
      <tr>
        <td id="L1652" class="blob-num js-line-number" data-line-number="1652"></td>
        <td id="LC1652" class="blob-code js-file-line">       &quot; 72.44,\n&quot;,</td>
      </tr>
      <tr>
        <td id="L1653" class="blob-num js-line-number" data-line-number="1653"></td>
        <td id="LC1653" class="blob-code js-file-line">       &quot; 88.63,\n&quot;,</td>
      </tr>
      <tr>
        <td id="L1654" class="blob-num js-line-number" data-line-number="1654"></td>
        <td id="LC1654" class="blob-code js-file-line">       &quot; 104.81,\n&quot;,</td>
      </tr>
      <tr>
        <td id="L1655" class="blob-num js-line-number" data-line-number="1655"></td>
        <td id="LC1655" class="blob-code js-file-line">       &quot; 201.94,\n&quot;,</td>
      </tr>
      <tr>
        <td id="L1656" class="blob-num js-line-number" data-line-number="1656"></td>
        <td id="LC1656" class="blob-code js-file-line">       &quot; 404.28,\n&quot;,</td>
      </tr>
      <tr>
        <td id="L1657" class="blob-num js-line-number" data-line-number="1657"></td>
        <td id="LC1657" class="blob-code js-file-line">       &quot; 808.97)&quot;</td>
      </tr>
      <tr>
        <td id="L1658" class="blob-num js-line-number" data-line-number="1658"></td>
        <td id="LC1658" class="blob-code js-file-line">      ]</td>
      </tr>
      <tr>
        <td id="L1659" class="blob-num js-line-number" data-line-number="1659"></td>
        <td id="LC1659" class="blob-code js-file-line">     },</td>
      </tr>
      <tr>
        <td id="L1660" class="blob-num js-line-number" data-line-number="1660"></td>
        <td id="LC1660" class="blob-code js-file-line">     &quot;execution_count&quot;: 40,</td>
      </tr>
      <tr>
        <td id="L1661" class="blob-num js-line-number" data-line-number="1661"></td>
        <td id="LC1661" class="blob-code js-file-line">     &quot;metadata&quot;: {},</td>
      </tr>
      <tr>
        <td id="L1662" class="blob-num js-line-number" data-line-number="1662"></td>
        <td id="LC1662" class="blob-code js-file-line">     &quot;output_type&quot;: &quot;execute_result&quot;</td>
      </tr>
      <tr>
        <td id="L1663" class="blob-num js-line-number" data-line-number="1663"></td>
        <td id="LC1663" class="blob-code js-file-line">    }</td>
      </tr>
      <tr>
        <td id="L1664" class="blob-num js-line-number" data-line-number="1664"></td>
        <td id="LC1664" class="blob-code js-file-line">   ],</td>
      </tr>
      <tr>
        <td id="L1665" class="blob-num js-line-number" data-line-number="1665"></td>
        <td id="LC1665" class="blob-code js-file-line">   &quot;source&quot;: [</td>
      </tr>
      <tr>
        <td id="L1666" class="blob-num js-line-number" data-line-number="1666"></td>
        <td id="LC1666" class="blob-code js-file-line">    &quot;bins&quot;</td>
      </tr>
      <tr>
        <td id="L1667" class="blob-num js-line-number" data-line-number="1667"></td>
        <td id="LC1667" class="blob-code js-file-line">   ]</td>
      </tr>
      <tr>
        <td id="L1668" class="blob-num js-line-number" data-line-number="1668"></td>
        <td id="LC1668" class="blob-code js-file-line">  },</td>
      </tr>
      <tr>
        <td id="L1669" class="blob-num js-line-number" data-line-number="1669"></td>
        <td id="LC1669" class="blob-code js-file-line">  {</td>
      </tr>
      <tr>
        <td id="L1670" class="blob-num js-line-number" data-line-number="1670"></td>
        <td id="LC1670" class="blob-code js-file-line">   &quot;cell_type&quot;: &quot;code&quot;,</td>
      </tr>
      <tr>
        <td id="L1671" class="blob-num js-line-number" data-line-number="1671"></td>
        <td id="LC1671" class="blob-code js-file-line">   &quot;execution_count&quot;: 40,</td>
      </tr>
      <tr>
        <td id="L1672" class="blob-num js-line-number" data-line-number="1672"></td>
        <td id="LC1672" class="blob-code js-file-line">   &quot;metadata&quot;: {</td>
      </tr>
      <tr>
        <td id="L1673" class="blob-num js-line-number" data-line-number="1673"></td>
        <td id="LC1673" class="blob-code js-file-line">    &quot;collapsed&quot;: false</td>
      </tr>
      <tr>
        <td id="L1674" class="blob-num js-line-number" data-line-number="1674"></td>
        <td id="LC1674" class="blob-code js-file-line">   },</td>
      </tr>
      <tr>
        <td id="L1675" class="blob-num js-line-number" data-line-number="1675"></td>
        <td id="LC1675" class="blob-code js-file-line">   &quot;outputs&quot;: [],</td>
      </tr>
      <tr>
        <td id="L1676" class="blob-num js-line-number" data-line-number="1676"></td>
        <td id="LC1676" class="blob-code js-file-line">   &quot;source&quot;: []</td>
      </tr>
      <tr>
        <td id="L1677" class="blob-num js-line-number" data-line-number="1677"></td>
        <td id="LC1677" class="blob-code js-file-line">  },</td>
      </tr>
      <tr>
        <td id="L1678" class="blob-num js-line-number" data-line-number="1678"></td>
        <td id="LC1678" class="blob-code js-file-line">  {</td>
      </tr>
      <tr>
        <td id="L1679" class="blob-num js-line-number" data-line-number="1679"></td>
        <td id="LC1679" class="blob-code js-file-line">   &quot;cell_type&quot;: &quot;code&quot;,</td>
      </tr>
      <tr>
        <td id="L1680" class="blob-num js-line-number" data-line-number="1680"></td>
        <td id="LC1680" class="blob-code js-file-line">   &quot;execution_count&quot;: 41,</td>
      </tr>
      <tr>
        <td id="L1681" class="blob-num js-line-number" data-line-number="1681"></td>
        <td id="LC1681" class="blob-code js-file-line">   &quot;metadata&quot;: {</td>
      </tr>
      <tr>
        <td id="L1682" class="blob-num js-line-number" data-line-number="1682"></td>
        <td id="LC1682" class="blob-code js-file-line">    &quot;collapsed&quot;: false</td>
      </tr>
      <tr>
        <td id="L1683" class="blob-num js-line-number" data-line-number="1683"></td>
        <td id="LC1683" class="blob-code js-file-line">   },</td>
      </tr>
      <tr>
        <td id="L1684" class="blob-num js-line-number" data-line-number="1684"></td>
        <td id="LC1684" class="blob-code js-file-line">   &quot;outputs&quot;: [</td>
      </tr>
      <tr>
        <td id="L1685" class="blob-num js-line-number" data-line-number="1685"></td>
        <td id="LC1685" class="blob-code js-file-line">    {</td>
      </tr>
      <tr>
        <td id="L1686" class="blob-num js-line-number" data-line-number="1686"></td>
        <td id="LC1686" class="blob-code js-file-line">     &quot;data&quot;: {</td>
      </tr>
      <tr>
        <td id="L1687" class="blob-num js-line-number" data-line-number="1687"></td>
        <td id="LC1687" class="blob-code js-file-line">      &quot;text/plain&quot;: [</td>
      </tr>
      <tr>
        <td id="L1688" class="blob-num js-line-number" data-line-number="1688"></td>
        <td id="LC1688" class="blob-code js-file-line">       &quot;0.00026189928029478283&quot;</td>
      </tr>
      <tr>
        <td id="L1689" class="blob-num js-line-number" data-line-number="1689"></td>
        <td id="LC1689" class="blob-code js-file-line">      ]</td>
      </tr>
      <tr>
        <td id="L1690" class="blob-num js-line-number" data-line-number="1690"></td>
        <td id="LC1690" class="blob-code js-file-line">     },</td>
      </tr>
      <tr>
        <td id="L1691" class="blob-num js-line-number" data-line-number="1691"></td>
        <td id="LC1691" class="blob-code js-file-line">     &quot;execution_count&quot;: 41,</td>
      </tr>
      <tr>
        <td id="L1692" class="blob-num js-line-number" data-line-number="1692"></td>
        <td id="LC1692" class="blob-code js-file-line">     &quot;metadata&quot;: {},</td>
      </tr>
      <tr>
        <td id="L1693" class="blob-num js-line-number" data-line-number="1693"></td>
        <td id="LC1693" class="blob-code js-file-line">     &quot;output_type&quot;: &quot;execute_result&quot;</td>
      </tr>
      <tr>
        <td id="L1694" class="blob-num js-line-number" data-line-number="1694"></td>
        <td id="LC1694" class="blob-code js-file-line">    }</td>
      </tr>
      <tr>
        <td id="L1695" class="blob-num js-line-number" data-line-number="1695"></td>
        <td id="LC1695" class="blob-code js-file-line">   ],</td>
      </tr>
      <tr>
        <td id="L1696" class="blob-num js-line-number" data-line-number="1696"></td>
        <td id="LC1696" class="blob-code js-file-line">   &quot;source&quot;: [</td>
      </tr>
      <tr>
        <td id="L1697" class="blob-num js-line-number" data-line-number="1697"></td>
        <td id="LC1697" class="blob-code js-file-line">    &quot;np.max(s_prob)&quot;</td>
      </tr>
      <tr>
        <td id="L1698" class="blob-num js-line-number" data-line-number="1698"></td>
        <td id="LC1698" class="blob-code js-file-line">   ]</td>
      </tr>
      <tr>
        <td id="L1699" class="blob-num js-line-number" data-line-number="1699"></td>
        <td id="LC1699" class="blob-code js-file-line">  },</td>
      </tr>
      <tr>
        <td id="L1700" class="blob-num js-line-number" data-line-number="1700"></td>
        <td id="LC1700" class="blob-code js-file-line">  {</td>
      </tr>
      <tr>
        <td id="L1701" class="blob-num js-line-number" data-line-number="1701"></td>
        <td id="LC1701" class="blob-code js-file-line">   &quot;cell_type&quot;: &quot;code&quot;,</td>
      </tr>
      <tr>
        <td id="L1702" class="blob-num js-line-number" data-line-number="1702"></td>
        <td id="LC1702" class="blob-code js-file-line">   &quot;execution_count&quot;: 42,</td>
      </tr>
      <tr>
        <td id="L1703" class="blob-num js-line-number" data-line-number="1703"></td>
        <td id="LC1703" class="blob-code js-file-line">   &quot;metadata&quot;: {</td>
      </tr>
      <tr>
        <td id="L1704" class="blob-num js-line-number" data-line-number="1704"></td>
        <td id="LC1704" class="blob-code js-file-line">    &quot;collapsed&quot;: false</td>
      </tr>
      <tr>
        <td id="L1705" class="blob-num js-line-number" data-line-number="1705"></td>
        <td id="LC1705" class="blob-code js-file-line">   },</td>
      </tr>
      <tr>
        <td id="L1706" class="blob-num js-line-number" data-line-number="1706"></td>
        <td id="LC1706" class="blob-code js-file-line">   &quot;outputs&quot;: [],</td>
      </tr>
      <tr>
        <td id="L1707" class="blob-num js-line-number" data-line-number="1707"></td>
        <td id="LC1707" class="blob-code js-file-line">   &quot;source&quot;: [</td>
      </tr>
      <tr>
        <td id="L1708" class="blob-num js-line-number" data-line-number="1708"></td>
        <td id="LC1708" class="blob-code js-file-line">    &quot;checker=1,2,4,5,6,7,98,100,1257,2000&quot;</td>
      </tr>
      <tr>
        <td id="L1709" class="blob-num js-line-number" data-line-number="1709"></td>
        <td id="LC1709" class="blob-code js-file-line">   ]</td>
      </tr>
      <tr>
        <td id="L1710" class="blob-num js-line-number" data-line-number="1710"></td>
        <td id="LC1710" class="blob-code js-file-line">  },</td>
      </tr>
      <tr>
        <td id="L1711" class="blob-num js-line-number" data-line-number="1711"></td>
        <td id="LC1711" class="blob-code js-file-line">  {</td>
      </tr>
      <tr>
        <td id="L1712" class="blob-num js-line-number" data-line-number="1712"></td>
        <td id="LC1712" class="blob-code js-file-line">   &quot;cell_type&quot;: &quot;code&quot;,</td>
      </tr>
      <tr>
        <td id="L1713" class="blob-num js-line-number" data-line-number="1713"></td>
        <td id="LC1713" class="blob-code js-file-line">   &quot;execution_count&quot;: 43,</td>
      </tr>
      <tr>
        <td id="L1714" class="blob-num js-line-number" data-line-number="1714"></td>
        <td id="LC1714" class="blob-code js-file-line">   &quot;metadata&quot;: {</td>
      </tr>
      <tr>
        <td id="L1715" class="blob-num js-line-number" data-line-number="1715"></td>
        <td id="LC1715" class="blob-code js-file-line">    &quot;collapsed&quot;: false</td>
      </tr>
      <tr>
        <td id="L1716" class="blob-num js-line-number" data-line-number="1716"></td>
        <td id="LC1716" class="blob-code js-file-line">   },</td>
      </tr>
      <tr>
        <td id="L1717" class="blob-num js-line-number" data-line-number="1717"></td>
        <td id="LC1717" class="blob-code js-file-line">   &quot;outputs&quot;: [</td>
      </tr>
      <tr>
        <td id="L1718" class="blob-num js-line-number" data-line-number="1718"></td>
        <td id="LC1718" class="blob-code js-file-line">    {</td>
      </tr>
      <tr>
        <td id="L1719" class="blob-num js-line-number" data-line-number="1719"></td>
        <td id="LC1719" class="blob-code js-file-line">     &quot;data&quot;: {</td>
      </tr>
      <tr>
        <td id="L1720" class="blob-num js-line-number" data-line-number="1720"></td>
        <td id="LC1720" class="blob-code js-file-line">      &quot;text/plain&quot;: [</td>
      </tr>
      <tr>
        <td id="L1721" class="blob-num js-line-number" data-line-number="1721"></td>
        <td id="LC1721" class="blob-code js-file-line">       &quot;6&quot;</td>
      </tr>
      <tr>
        <td id="L1722" class="blob-num js-line-number" data-line-number="1722"></td>
        <td id="LC1722" class="blob-code js-file-line">      ]</td>
      </tr>
      <tr>
        <td id="L1723" class="blob-num js-line-number" data-line-number="1723"></td>
        <td id="LC1723" class="blob-code js-file-line">     },</td>
      </tr>
      <tr>
        <td id="L1724" class="blob-num js-line-number" data-line-number="1724"></td>
        <td id="LC1724" class="blob-code js-file-line">     &quot;execution_count&quot;: 43,</td>
      </tr>
      <tr>
        <td id="L1725" class="blob-num js-line-number" data-line-number="1725"></td>
        <td id="LC1725" class="blob-code js-file-line">     &quot;metadata&quot;: {},</td>
      </tr>
      <tr>
        <td id="L1726" class="blob-num js-line-number" data-line-number="1726"></td>
        <td id="LC1726" class="blob-code js-file-line">     &quot;output_type&quot;: &quot;execute_result&quot;</td>
      </tr>
      <tr>
        <td id="L1727" class="blob-num js-line-number" data-line-number="1727"></td>
        <td id="LC1727" class="blob-code js-file-line">    }</td>
      </tr>
      <tr>
        <td id="L1728" class="blob-num js-line-number" data-line-number="1728"></td>
        <td id="LC1728" class="blob-code js-file-line">   ],</td>
      </tr>
      <tr>
        <td id="L1729" class="blob-num js-line-number" data-line-number="1729"></td>
        <td id="LC1729" class="blob-code js-file-line">   &quot;source&quot;: [</td>
      </tr>
      <tr>
        <td id="L1730" class="blob-num js-line-number" data-line-number="1730"></td>
        <td id="LC1730" class="blob-code js-file-line">    &quot;np.searchsorted(checker,7,&#39;rightsided&#39;)&quot;</td>
      </tr>
      <tr>
        <td id="L1731" class="blob-num js-line-number" data-line-number="1731"></td>
        <td id="LC1731" class="blob-code js-file-line">   ]</td>
      </tr>
      <tr>
        <td id="L1732" class="blob-num js-line-number" data-line-number="1732"></td>
        <td id="LC1732" class="blob-code js-file-line">  },</td>
      </tr>
      <tr>
        <td id="L1733" class="blob-num js-line-number" data-line-number="1733"></td>
        <td id="LC1733" class="blob-code js-file-line">  {</td>
      </tr>
      <tr>
        <td id="L1734" class="blob-num js-line-number" data-line-number="1734"></td>
        <td id="LC1734" class="blob-code js-file-line">   &quot;cell_type&quot;: &quot;code&quot;,</td>
      </tr>
      <tr>
        <td id="L1735" class="blob-num js-line-number" data-line-number="1735"></td>
        <td id="LC1735" class="blob-code js-file-line">   &quot;execution_count&quot;: 44,</td>
      </tr>
      <tr>
        <td id="L1736" class="blob-num js-line-number" data-line-number="1736"></td>
        <td id="LC1736" class="blob-code js-file-line">   &quot;metadata&quot;: {</td>
      </tr>
      <tr>
        <td id="L1737" class="blob-num js-line-number" data-line-number="1737"></td>
        <td id="LC1737" class="blob-code js-file-line">    &quot;collapsed&quot;: false</td>
      </tr>
      <tr>
        <td id="L1738" class="blob-num js-line-number" data-line-number="1738"></td>
        <td id="LC1738" class="blob-code js-file-line">   },</td>
      </tr>
      <tr>
        <td id="L1739" class="blob-num js-line-number" data-line-number="1739"></td>
        <td id="LC1739" class="blob-code js-file-line">   &quot;outputs&quot;: [],</td>
      </tr>
      <tr>
        <td id="L1740" class="blob-num js-line-number" data-line-number="1740"></td>
        <td id="LC1740" class="blob-code js-file-line">   &quot;source&quot;: [</td>
      </tr>
      <tr>
        <td id="L1741" class="blob-num js-line-number" data-line-number="1741"></td>
        <td id="LC1741" class="blob-code js-file-line">    &quot;def globalCalibrator(x):\n&quot;,</td>
      </tr>
      <tr>
        <td id="L1742" class="blob-num js-line-number" data-line-number="1742"></td>
        <td id="LC1742" class="blob-code js-file-line">    &quot;    MU=x[0]\n&quot;,</td>
      </tr>
      <tr>
        <td id="L1743" class="blob-num js-line-number" data-line-number="1743"></td>
        <td id="LC1743" class="blob-code js-file-line">    &quot;    SIGMA=x[1]\n&quot;,</td>
      </tr>
      <tr>
        <td id="L1744" class="blob-num js-line-number" data-line-number="1744"></td>
        <td id="LC1744" class="blob-code js-file-line">    &quot;    RHO=x[2]\n&quot;,</td>
      </tr>
      <tr>
        <td id="L1745" class="blob-num js-line-number" data-line-number="1745"></td>
        <td id="LC1745" class="blob-code js-file-line">    &quot;    VAR_s=SIGMA**2\n&quot;,</td>
      </tr>
      <tr>
        <td id="L1746" class="blob-num js-line-number" data-line-number="1746"></td>
        <td id="LC1746" class="blob-code js-file-line">    &quot;    s_prob=np.zeros((s_n,1))                                                # Redefine this every time\n&quot;,</td>
      </tr>
      <tr>
        <td id="L1747" class="blob-num js-line-number" data-line-number="1747"></td>
        <td id="LC1747" class="blob-code js-file-line">    &quot;    for i in range(0,s_n):\n&quot;,</td>
      </tr>
      <tr>
        <td id="L1748" class="blob-num js-line-number" data-line-number="1748"></td>
        <td id="LC1748" class="blob-code js-file-line">    &quot;        if i==0:\n&quot;,</td>
      </tr>
      <tr>
        <td id="L1749" class="blob-num js-line-number" data-line-number="1749"></td>
        <td id="LC1749" class="blob-code js-file-line">    &quot;            d=(s_grid[1]-s_grid[0])/2\n&quot;,</td>
      </tr>
      <tr>
        <td id="L1750" class="blob-num js-line-number" data-line-number="1750"></td>
        <td id="LC1750" class="blob-code js-file-line">    &quot;            s_prob[i]=lognorm_discrete(s_grid[i]-d,s_grid[i]+d,MU,VAR_s)[0]\n&quot;,</td>
      </tr>
      <tr>
        <td id="L1751" class="blob-num js-line-number" data-line-number="1751"></td>
        <td id="LC1751" class="blob-code js-file-line">    &quot;        else:\n&quot;,</td>
      </tr>
      <tr>
        <td id="L1752" class="blob-num js-line-number" data-line-number="1752"></td>
        <td id="LC1752" class="blob-code js-file-line">    &quot;            d=(s_grid[i]-s_grid[i-1])/2\n&quot;,</td>
      </tr>
      <tr>
        <td id="L1753" class="blob-num js-line-number" data-line-number="1753"></td>
        <td id="LC1753" class="blob-code js-file-line">    &quot;            s_prob[i]=lognorm_discrete(s_grid[i]-d,s_grid[i]+d,MU,VAR_s)[0] \n&quot;,</td>
      </tr>
      <tr>
        <td id="L1754" class="blob-num js-line-number" data-line-number="1754"></td>
        <td id="LC1754" class="blob-code js-file-line">    &quot;    XX=sum(s_prob)\n&quot;,</td>
      </tr>
      <tr>
        <td id="L1755" class="blob-num js-line-number" data-line-number="1755"></td>
        <td id="LC1755" class="blob-code js-file-line">    &quot;    if XX&lt;1:\n&quot;,</td>
      </tr>
      <tr>
        <td id="L1756" class="blob-num js-line-number" data-line-number="1756"></td>
        <td id="LC1756" class="blob-code js-file-line">    &quot;        s_prob=s_prob+(1-XX)/s_n  \n&quot;,</td>
      </tr>
      <tr>
        <td id="L1757" class="blob-num js-line-number" data-line-number="1757"></td>
        <td id="LC1757" class="blob-code js-file-line">    &quot;    Xresult=so.minimize(calibration_eval,x0,args=a,method=&#39;Nelder-Mead&#39;)   #Sloppy - relying on global definitions being just what want them to be\n&quot;,</td>
      </tr>
      <tr>
        <td id="L1758" class="blob-num js-line-number" data-line-number="1758"></td>
        <td id="LC1758" class="blob-code js-file-line">    &quot;    KNn_US=Xresult.x[0]\n&quot;,</td>
      </tr>
      <tr>
        <td id="L1759" class="blob-num js-line-number" data-line-number="1759"></td>
        <td id="LC1759" class="blob-code js-file-line">    &quot;    THETA=Xresult.x[1]\n&quot;,</td>
      </tr>
      <tr>
        <td id="L1760" class="blob-num js-line-number" data-line-number="1760"></td>
        <td id="LC1760" class="blob-code js-file-line">    &quot;    pa_US=Xresult.x[2]\n&quot;,</td>
      </tr>
      <tr>
        <td id="L1761" class="blob-num js-line-number" data-line-number="1761"></td>
        <td id="LC1761" class="blob-code js-file-line">    &quot;    w_US=(1-ALPHA)*A_US*KNn_US**ALPHA           # I&#39;m not sure any of this is necessary given how Python&#39;s local/global definitions are so fluid\n&quot;,</td>
      </tr>
      <tr>
        <td id="L1762" class="blob-num js-line-number" data-line-number="1762"></td>
        <td id="LC1762" class="blob-code js-file-line">    &quot;    r_US=ALPHA*A_US*KNn_US**(ALPHA-1)\n&quot;,</td>
      </tr>
      <tr>
        <td id="L1763" class="blob-num js-line-number" data-line-number="1763"></td>
        <td id="LC1763" class="blob-code js-file-line">    &quot;    Ka_US=K_US-(KNn_US*(1-Na_US))\n&quot;,</td>
      </tr>
      <tr>
        <td id="L1764" class="blob-num js-line-number" data-line-number="1764"></td>
        <td id="LC1764" class="blob-code js-file-line">    &quot;    KNa_US=Ka_US/Na_US\n&quot;,</td>
      </tr>
      <tr>
        <td id="L1765" class="blob-num js-line-number" data-line-number="1765"></td>
        <td id="LC1765" class="blob-code js-file-line">    &quot;    YNn_US=A_US*(KNn_US**ALPHA)                                                                          \n&quot;,</td>
      </tr>
      <tr>
        <td id="L1766" class="blob-num js-line-number" data-line-number="1766"></td>
        <td id="LC1766" class="blob-code js-file-line">    &quot;    q_r_US=(rKa_qL_US**(-1))*Ka_US/LN_US\n&quot;,</td>
      </tr>
      <tr>
        <td id="L1767" class="blob-num js-line-number" data-line-number="1767"></td>
        <td id="LC1767" class="blob-code js-file-line">    &quot;    q_US=q_r_US*r_US\n&quot;,</td>
      </tr>
      <tr>
        <td id="L1768" class="blob-num js-line-number" data-line-number="1768"></td>
        <td id="LC1768" class="blob-code js-file-line">    &quot;    aBAR=(1/(pa_US*(1-PHI)))*((w_US*(1-XI)*Na_US/((1-GAMMA)))-PHI*(w_US*(1-XI)+q_US*LN_US+r_US*K_US))  \n&quot;,</td>
      </tr>
      <tr>
        <td id="L1769" class="blob-num js-line-number" data-line-number="1769"></td>
        <td id="LC1769" class="blob-code js-file-line">    &quot;    psi_s_vec1=THETA*((THETA*q_r_US/(1-THETA))**(RHO/(1-RHO)))*np.ones((s_n,1))\n&quot;,</td>
      </tr>
      <tr>
        <td id="L1770" class="blob-num js-line-number" data-line-number="1770"></td>
        <td id="LC1770" class="blob-code js-file-line">    &quot;    psi_s_vec2=(1-THETA)*np.power(s_grid,(RHO/(1-RHO)))\n&quot;,</td>
      </tr>
      <tr>
        <td id="L1771" class="blob-num js-line-number" data-line-number="1771"></td>
        <td id="LC1771" class="blob-code js-file-line">    &quot;    psi_s_vec=psi_s_vec1+psi_s_vec2\n&quot;,</td>
      </tr>
      <tr>
        <td id="L1772" class="blob-num js-line-number" data-line-number="1772"></td>
        <td id="LC1772" class="blob-code js-file-line">    &quot;    l_vec1=((pa_US*GAMMA*(1-THETA)*KAPPA_US*A_US/q_US)**(1/(1-GAMMA)))\n&quot;,</td>
      </tr>
      <tr>
        <td id="L1773" class="blob-num js-line-number" data-line-number="1773"></td>
        <td id="LC1773" class="blob-code js-file-line">    &quot;    l_vec2=(np.power(psi_s_vec,((GAMMA-RHO)/(RHO*(1-GAMMA)))))\n&quot;,</td>
      </tr>
      <tr>
        <td id="L1774" class="blob-num js-line-number" data-line-number="1774"></td>
        <td id="LC1774" class="blob-code js-file-line">    &quot;    l_vec3=(np.power(s_grid,(RHO/(1-RHO))))\n&quot;,</td>
      </tr>
      <tr>
        <td id="L1775" class="blob-num js-line-number" data-line-number="1775"></td>
        <td id="LC1775" class="blob-code js-file-line">    &quot;    l_vec=l_vec1*np.multiply(l_vec2,l_vec3)\n&quot;,</td>
      </tr>
      <tr>
        <td id="L1776" class="blob-num js-line-number" data-line-number="1776"></td>
        <td id="LC1776" class="blob-code js-file-line">    &quot;    k_l_vec=((THETA*q_r_US/(1-THETA))**(1/(1-RHO)))*((np.power(s_grid,(-RHO/(1-RHO)))))\n&quot;,</td>
      </tr>
      <tr>
        <td id="L1777" class="blob-num js-line-number" data-line-number="1777"></td>
        <td id="LC1777" class="blob-code js-file-line">    &quot;    k_vec = np.multiply(k_l_vec , l_vec)\n&quot;,</td>
      </tr>
      <tr>
        <td id="L1778" class="blob-num js-line-number" data-line-number="1778"></td>
        <td id="LC1778" class="blob-code js-file-line">    &quot;    ya_vec=KAPPA_US*A_US*np.power((THETA*np.power(k_vec,RHO)+(1-THETA)*np.power(np.multiply(s_grid,l_vec),RHO)),GAMMA/RHO)\n&quot;,</td>
      </tr>
      <tr>
        <td id="L1779" class="blob-num js-line-number" data-line-number="1779"></td>
        <td id="LC1779" class="blob-code js-file-line">    &quot;    PI_vec=(1-GAMMA)*pa_US*ya_vec\n&quot;,</td>
      </tr>
      <tr>
        <td id="L1780" class="blob-num js-line-number" data-line-number="1780"></td>
        <td id="LC1780" class="blob-code js-file-line">    &quot;    l_value = sum(np.multiply(s_prob,l_vec))           # Average farm size\n&quot;,</td>
      </tr>
      <tr>
        <td id="L1781" class="blob-num js-line-number" data-line-number="1781"></td>
        <td id="LC1781" class="blob-code js-file-line">    &quot;    YNa_value = sum(np.multiply(s_prob,ya_vec))        # Agricultural Labor Productivity\n&quot;,</td>
      </tr>
      <tr>
        <td id="L1782" class="blob-num js-line-number" data-line-number="1782"></td>
        <td id="LC1782" class="blob-code js-file-line">    &quot;    YN_value = Na_US*pa_US*YNa_value+(1-Na_US)*YNn_US  # Aggregate Labor Productivity\n&quot;,</td>
      </tr>
      <tr>
        <td id="L1783" class="blob-num js-line-number" data-line-number="1783"></td>
        <td id="LC1783" class="blob-code js-file-line">    &quot;    binIndices=np.zeros((12,1))\n&quot;,</td>
      </tr>
      <tr>
        <td id="L1784" class="blob-num js-line-number" data-line-number="1784"></td>
        <td id="LC1784" class="blob-code js-file-line">    &quot;    farms=np.zeros((12,1))\n&quot;,</td>
      </tr>
      <tr>
        <td id="L1785" class="blob-num js-line-number" data-line-number="1785"></td>
        <td id="LC1785" class="blob-code js-file-line">    &quot;    lands=np.zeros((12,1))\n&quot;,</td>
      </tr>
      <tr>
        <td id="L1786" class="blob-num js-line-number" data-line-number="1786"></td>
        <td id="LC1786" class="blob-code js-file-line">    &quot;    Capital=np.zeros((12,1))\n&quot;,</td>
      </tr>
      <tr>
        <td id="L1787" class="blob-num js-line-number" data-line-number="1787"></td>
        <td id="LC1787" class="blob-code js-file-line">    &quot;    Output=np.zeros((12,1))\n&quot;,</td>
      </tr>
      <tr>
        <td id="L1788" class="blob-num js-line-number" data-line-number="1788"></td>
        <td id="LC1788" class="blob-code js-file-line">    &quot;    ss=np.zeros((12,1))\n&quot;,</td>
      </tr>
      <tr>
        <td id="L1789" class="blob-num js-line-number" data-line-number="1789"></td>
        <td id="LC1789" class="blob-code js-file-line">    &quot;    startIndex=0\n&quot;,</td>
      </tr>
      <tr>
        <td id="L1790" class="blob-num js-line-number" data-line-number="1790"></td>
        <td id="LC1790" class="blob-code js-file-line">    &quot;    l_vec=np.array(l_vec)\n&quot;,</td>
      </tr>
      <tr>
        <td id="L1791" class="blob-num js-line-number" data-line-number="1791"></td>
        <td id="LC1791" class="blob-code js-file-line">    &quot;    for i in range(0,11):\n&quot;,</td>
      </tr>
      <tr>
        <td id="L1792" class="blob-num js-line-number" data-line-number="1792"></td>
        <td id="LC1792" class="blob-code js-file-line">    &quot;        binIndices[i]=(np.searchsorted(l_vec[:,0],bins[i],&#39;rightsided&#39;))\n&quot;,</td>
      </tr>
      <tr>
        <td id="L1793" class="blob-num js-line-number" data-line-number="1793"></td>
        <td id="LC1793" class="blob-code js-file-line">    &quot;        indexToUse=int(binIndices[i])\n&quot;,</td>
      </tr>
      <tr>
        <td id="L1794" class="blob-num js-line-number" data-line-number="1794"></td>
        <td id="LC1794" class="blob-code js-file-line">    &quot;        farms[i]=np.sum(s_prob[startIndex:indexToUse])\n&quot;,</td>
      </tr>
      <tr>
        <td id="L1795" class="blob-num js-line-number" data-line-number="1795"></td>
        <td id="LC1795" class="blob-code js-file-line">    &quot;        lands[i]=np.sum(np.multiply(l_vec[startIndex:indexToUse],s_prob[startIndex:indexToUse]))/l_value\n&quot;,</td>
      </tr>
      <tr>
        <td id="L1796" class="blob-num js-line-number" data-line-number="1796"></td>
        <td id="LC1796" class="blob-code js-file-line">    &quot;        Capital[i]=np.sum(np.multiply(k_vec[startIndex:indexToUse],s_prob[startIndex:indexToUse]))\n&quot;,</td>
      </tr>
      <tr>
        <td id="L1797" class="blob-num js-line-number" data-line-number="1797"></td>
        <td id="LC1797" class="blob-code js-file-line">    &quot;        Output[i]=np.sum(np.multiply(ya_vec[startIndex:indexToUse],s_prob[startIndex:indexToUse]))\n&quot;,</td>
      </tr>
      <tr>
        <td id="L1798" class="blob-num js-line-number" data-line-number="1798"></td>
        <td id="LC1798" class="blob-code js-file-line">    &quot;        ss[i]=np.sum(np.multiply(s_grid[startIndex:indexToUse],s_prob[startIndex:indexToUse]))\n&quot;,</td>
      </tr>
      <tr>
        <td id="L1799" class="blob-num js-line-number" data-line-number="1799"></td>
        <td id="LC1799" class="blob-code js-file-line">    &quot;        startIndex=indexToUse+1\n&quot;,</td>
      </tr>
      <tr>
        <td id="L1800" class="blob-num js-line-number" data-line-number="1800"></td>
        <td id="LC1800" class="blob-code js-file-line">    &quot;    farms[11]=np.sum(s_prob[startIndex:s_n])\n&quot;,</td>
      </tr>
      <tr>
        <td id="L1801" class="blob-num js-line-number" data-line-number="1801"></td>
        <td id="LC1801" class="blob-code js-file-line">    &quot;    lands[11]=np.sum(np.multiply(l_vec[startIndex:s_n],s_prob[startIndex:s_n]))\n&quot;,</td>
      </tr>
      <tr>
        <td id="L1802" class="blob-num js-line-number" data-line-number="1802"></td>
        <td id="LC1802" class="blob-code js-file-line">    &quot;    Capital[11]=np.sum(np.multiply(k_vec[startIndex:s_n],s_prob[startIndex:s_n]))\n&quot;,</td>
      </tr>
      <tr>
        <td id="L1803" class="blob-num js-line-number" data-line-number="1803"></td>
        <td id="LC1803" class="blob-code js-file-line">    &quot;    Output[11]=np.sum(np.multiply(ya_vec[startIndex:s_n],s_prob[startIndex:s_n]))\n&quot;,</td>
      </tr>
      <tr>
        <td id="L1804" class="blob-num js-line-number" data-line-number="1804"></td>
        <td id="LC1804" class="blob-code js-file-line">    &quot;    ss[11]=np.sum(np.multiply(s_grid[startIndex:s_n],s_prob[startIndex:s_n]))\n&quot;,</td>
      </tr>
      <tr>
        <td id="L1805" class="blob-num js-line-number" data-line-number="1805"></td>
        <td id="LC1805" class="blob-code js-file-line">    &quot;    kl_min_max_model=Capital[0]/(lands[0]*l_value)/(Capital[11]/(lands[11]*l_value))\n&quot;,</td>
      </tr>
      <tr>
        <td id="L1806" class="blob-num js-line-number" data-line-number="1806"></td>
        <td id="LC1806" class="blob-code js-file-line">    &quot;    farmdata=np.asmatrix(farm_pdf_data).T\n&quot;,</td>
      </tr>
      <tr>
        <td id="L1807" class="blob-num js-line-number" data-line-number="1807"></td>
        <td id="LC1807" class="blob-code js-file-line">    &quot;    diff1=farms-farmdata\n&quot;,</td>
      </tr>
      <tr>
        <td id="L1808" class="blob-num js-line-number" data-line-number="1808"></td>
        <td id="LC1808" class="blob-code js-file-line">    &quot;    diff2=np.asmatrix((kl_min_max_model-kl_min_max_data)/kl_min_max_data)\n&quot;,</td>
      </tr>
      <tr>
        <td id="L1809" class="blob-num js-line-number" data-line-number="1809"></td>
        <td id="LC1809" class="blob-code js-file-line">    &quot;    diff=np.vstack((diff1,diff2))\n&quot;,</td>
      </tr>
      <tr>
        <td id="L1810" class="blob-num js-line-number" data-line-number="1810"></td>
        <td id="LC1810" class="blob-code js-file-line">    &quot;    print diff.T\n&quot;,</td>
      </tr>
      <tr>
        <td id="L1811" class="blob-num js-line-number" data-line-number="1811"></td>
        <td id="LC1811" class="blob-code js-file-line">    &quot;    val=np.dot(diff1.T,diff1)\n&quot;,</td>
      </tr>
      <tr>
        <td id="L1812" class="blob-num js-line-number" data-line-number="1812"></td>
        <td id="LC1812" class="blob-code js-file-line">    &quot;    print MU,SIGMA,RHO,val\n&quot;,</td>
      </tr>
      <tr>
        <td id="L1813" class="blob-num js-line-number" data-line-number="1813"></td>
        <td id="LC1813" class="blob-code js-file-line">    &quot;    return val\n&quot;</td>
      </tr>
      <tr>
        <td id="L1814" class="blob-num js-line-number" data-line-number="1814"></td>
        <td id="LC1814" class="blob-code js-file-line">   ]</td>
      </tr>
      <tr>
        <td id="L1815" class="blob-num js-line-number" data-line-number="1815"></td>
        <td id="LC1815" class="blob-code js-file-line">  },</td>
      </tr>
      <tr>
        <td id="L1816" class="blob-num js-line-number" data-line-number="1816"></td>
        <td id="LC1816" class="blob-code js-file-line">  {</td>
      </tr>
      <tr>
        <td id="L1817" class="blob-num js-line-number" data-line-number="1817"></td>
        <td id="LC1817" class="blob-code js-file-line">   &quot;cell_type&quot;: &quot;code&quot;,</td>
      </tr>
      <tr>
        <td id="L1818" class="blob-num js-line-number" data-line-number="1818"></td>
        <td id="LC1818" class="blob-code js-file-line">   &quot;execution_count&quot;: 45,</td>
      </tr>
      <tr>
        <td id="L1819" class="blob-num js-line-number" data-line-number="1819"></td>
        <td id="LC1819" class="blob-code js-file-line">   &quot;metadata&quot;: {</td>
      </tr>
      <tr>
        <td id="L1820" class="blob-num js-line-number" data-line-number="1820"></td>
        <td id="LC1820" class="blob-code js-file-line">    &quot;collapsed&quot;: false</td>
      </tr>
      <tr>
        <td id="L1821" class="blob-num js-line-number" data-line-number="1821"></td>
        <td id="LC1821" class="blob-code js-file-line">   },</td>
      </tr>
      <tr>
        <td id="L1822" class="blob-num js-line-number" data-line-number="1822"></td>
        <td id="LC1822" class="blob-code js-file-line">   &quot;outputs&quot;: [</td>
      </tr>
      <tr>
        <td id="L1823" class="blob-num js-line-number" data-line-number="1823"></td>
        <td id="LC1823" class="blob-code js-file-line">    {</td>
      </tr>
      <tr>
        <td id="L1824" class="blob-num js-line-number" data-line-number="1824"></td>
        <td id="LC1824" class="blob-code js-file-line">     &quot;name&quot;: &quot;stdout&quot;,</td>
      </tr>
      <tr>
        <td id="L1825" class="blob-num js-line-number" data-line-number="1825"></td>
        <td id="LC1825" class="blob-code js-file-line">     &quot;output_type&quot;: &quot;stream&quot;,</td>
      </tr>
      <tr>
        <td id="L1826" class="blob-num js-line-number" data-line-number="1826"></td>
        <td id="LC1826" class="blob-code js-file-line">     &quot;text&quot;: [</td>
      </tr>
      <tr>
        <td id="L1827" class="blob-num js-line-number" data-line-number="1827"></td>
        <td id="LC1827" class="blob-code js-file-line">      &quot;[[ -2.67480427e-03   3.84390340e-03   6.76023481e-03  -5.19314851e-03\n&quot;,</td>
      </tr>
      <tr>
        <td id="L1828" class="blob-num js-line-number" data-line-number="1828"></td>
        <td id="LC1828" class="blob-code js-file-line">      &quot;   -5.32757878e-03  -1.10751810e-02  -1.06718861e-03  -7.12350429e-04\n&quot;,</td>
      </tr>
      <tr>
        <td id="L1829" class="blob-num js-line-number" data-line-number="1829"></td>
        <td id="LC1829" class="blob-code js-file-line">      &quot;    3.73819514e-03   3.66626832e-03  -1.80007770e-04   2.73850591e-03\n&quot;,</td>
      </tr>
      <tr>
        <td id="L1830" class="blob-num js-line-number" data-line-number="1830"></td>
        <td id="LC1830" class="blob-code js-file-line">      &quot;    2.29730701e+03]]\n&quot;,</td>
      </tr>
      <tr>
        <td id="L1831" class="blob-num js-line-number" data-line-number="1831"></td>
        <td id="LC1831" class="blob-code js-file-line">      &quot;-2.7889030987 1.69147901341 0.502734963506 [[ 0.00028224]]\n&quot;,</td>
      </tr>
      <tr>
        <td id="L1832" class="blob-num js-line-number" data-line-number="1832"></td>
        <td id="LC1832" class="blob-code js-file-line">      &quot;[[  1.28039788e-02   2.02097517e-02   7.66724328e-03  -5.59007806e-03\n&quot;,</td>
      </tr>
      <tr>
        <td id="L1833" class="blob-num js-line-number" data-line-number="1833"></td>
        <td id="LC1833" class="blob-code js-file-line">      &quot;   -6.88791732e-03  -1.28769938e-02  -2.79074878e-03  -2.30828490e-03\n&quot;,</td>
      </tr>
      <tr>
        <td id="L1834" class="blob-num js-line-number" data-line-number="1834"></td>
        <td id="LC1834" class="blob-code js-file-line">      &quot;   -3.22831841e-03  -3.27133730e-03  -5.35342055e-03  -3.71165991e-03\n&quot;,</td>
      </tr>
      <tr>
        <td id="L1835" class="blob-num js-line-number" data-line-number="1835"></td>
        <td id="LC1835" class="blob-code js-file-line">      &quot;    1.98646181e+03]]\n&quot;,</td>
      </tr>
      <tr>
        <td id="L1836" class="blob-num js-line-number" data-line-number="1836"></td>
        <td id="LC1836" class="blob-code js-file-line">      &quot;-2.92834825364 1.69147901341 0.502734963506 [[ 0.00095235]]\n&quot;,</td>
      </tr>
      <tr>
        <td id="L1837" class="blob-num js-line-number" data-line-number="1837"></td>
        <td id="LC1837" class="blob-code js-file-line">      &quot;[[  8.51199004e-03  -2.15877141e-03   3.24167164e-03  -9.07794597e-03\n&quot;,</td>
      </tr>
      <tr>
        <td id="L1838" class="blob-num js-line-number" data-line-number="1838"></td>
        <td id="LC1838" class="blob-code js-file-line">      &quot;   -8.68851772e-03  -1.32134975e-02  -2.45211047e-03  -1.64030628e-03\n&quot;,</td>
      </tr>
      <tr>
        <td id="L1839" class="blob-num js-line-number" data-line-number="1839"></td>
        <td id="LC1839" class="blob-code js-file-line">      &quot;    2.15940732e-03   4.99623475e-03   2.64350357e-03   1.03397908e-02\n&quot;,</td>
      </tr>
      <tr>
        <td id="L1840" class="blob-num js-line-number" data-line-number="1840"></td>
        <td id="LC1840" class="blob-code js-file-line">      &quot;    3.09420168e+03]]\n&quot;,</td>
      </tr>
      <tr>
        <td id="L1841" class="blob-num js-line-number" data-line-number="1841"></td>
        <td id="LC1841" class="blob-code js-file-line">      &quot;-2.7889030987 1.77605296408 0.502734963506 [[ 0.00057235]]\n&quot;,</td>
      </tr>
      <tr>
        <td id="L1842" class="blob-num js-line-number" data-line-number="1842"></td>
        <td id="LC1842" class="blob-code js-file-line">      &quot;[[  1.74356401e-02  -1.04329818e-02   2.06763283e-04  -1.26062494e-02\n&quot;,</td>
      </tr>
      <tr>
        <td id="L1843" class="blob-num js-line-number" data-line-number="1843"></td>
        <td id="LC1843" class="blob-code js-file-line">      &quot;   -1.02222042e-02  -1.41478541e-02  -2.58867361e-03  -2.04190435e-03\n&quot;,</td>
      </tr>
      <tr>
        <td id="L1844" class="blob-num js-line-number" data-line-number="1844"></td>
        <td id="LC1844" class="blob-code js-file-line">      &quot;    3.35470371e-03   7.28845785e-03   5.40520020e-03   1.26685322e-02\n&quot;,</td>
      </tr>
      <tr>
        <td id="L1845" class="blob-num js-line-number" data-line-number="1845"></td>
        <td id="LC1845" class="blob-code js-file-line">      &quot;    3.97606171e+03]]\n&quot;,</td>
      </tr>
      <tr>
        <td id="L1846" class="blob-num js-line-number" data-line-number="1846"></td>
        <td id="LC1846" class="blob-code js-file-line">      &quot;-2.7889030987 1.69147901341 0.527871711681 [[ 0.00114142]]\n&quot;,</td>
      </tr>
      <tr>
        <td id="L1847" class="blob-num js-line-number" data-line-number="1847"></td>
        <td id="LC1847" class="blob-code js-file-line">      &quot;[[ -5.56005968e-03   2.50463152e-02   1.13911518e-02  -9.15635009e-04\n&quot;,</td>
      </tr>
      <tr>
        <td id="L1848" class="blob-num js-line-number" data-line-number="1848"></td>
        <td id="LC1848" class="blob-code js-file-line">      &quot;   -3.39307658e-03  -1.03578531e-02  -1.33576518e-03  -1.35476023e-03\n&quot;,</td>
      </tr>
      <tr>
        <td id="L1849" class="blob-num js-line-number" data-line-number="1849"></td>
        <td id="LC1849" class="blob-code js-file-line">      &quot;   -2.01228587e-03  -4.55399384e-03  -6.60341493e-03  -5.44941013e-03\n&quot;,</td>
      </tr>
      <tr>
        <td id="L1850" class="blob-num js-line-number" data-line-number="1850"></td>
        <td id="LC1850" class="blob-code js-file-line">      &quot;    1.46494821e+03]]\n&quot;,</td>
      </tr>
      <tr>
        <td id="L1851" class="blob-num js-line-number" data-line-number="1851"></td>
        <td id="LC1851" class="blob-code js-file-line">      &quot;-2.88186653532 1.74786164719 0.477598215331 [[ 0.00100934]]\n&quot;,</td>
      </tr>
      <tr>
        <td id="L1852" class="blob-num js-line-number" data-line-number="1852"></td>
        <td id="LC1852" class="blob-code js-file-line">      &quot;[[  2.63380878e-04   1.64893719e-02   8.67469864e-03  -4.04649180e-03\n&quot;,</td>
      </tr>
      <tr>
        <td id="L1853" class="blob-num js-line-number" data-line-number="1853"></td>
        <td id="LC1853" class="blob-code js-file-line">      &quot;   -5.41948248e-03  -1.09941947e-02  -1.93496542e-03  -1.38962763e-03\n&quot;,</td>
      </tr>
      <tr>
        <td id="L1854" class="blob-num js-line-number" data-line-number="1854"></td>
        <td id="LC1854" class="blob-code js-file-line">      &quot;   -1.61699495e-04  -1.47396844e-03  -3.79923260e-03  -1.45182539e-03\n&quot;,</td>
      </tr>
      <tr>
        <td id="L1855" class="blob-num js-line-number" data-line-number="1855"></td>
        <td id="LC1855" class="blob-code js-file-line">      &quot;    1.87824878e+03]]\n&quot;,</td>
      </tr>
      <tr>
        <td id="L1856" class="blob-num js-line-number" data-line-number="1856"></td>
        <td id="LC1856" class="blob-code js-file-line">      &quot;-2.85862567617 1.73376598875 0.490166589418 [[ 0.00053825]]\n&quot;,</td>
      </tr>
      <tr>
        <td id="L1857" class="blob-num js-line-number" data-line-number="1857"></td>
        <td id="LC1857" class="blob-code js-file-line">      &quot;[[ -7.51518164e-03  -7.88603395e-03   4.95517361e-03  -7.17703643e-03\n&quot;,</td>
      </tr>
      <tr>
        <td id="L1858" class="blob-num js-line-number" data-line-number="1858"></td>
        <td id="LC1858" class="blob-code js-file-line">      &quot;   -6.21327179e-03  -1.13029364e-02  -6.49194674e-04  -5.17485603e-04\n&quot;,</td>
      </tr>
      <tr>
        <td id="L1859" class="blob-num js-line-number" data-line-number="1859"></td>
        <td id="LC1859" class="blob-code js-file-line">      &quot;    6.37094641e-03   8.02486210e-03   4.57841271e-03   1.19770977e-02\n&quot;,</td>
      </tr>
      <tr>
        <td id="L1860" class="blob-num js-line-number" data-line-number="1860"></td>
        <td id="LC1860" class="blob-code js-file-line">      &quot;    2.84688198e+03]]\n&quot;,</td>
      </tr>
      <tr>
        <td id="L1861" class="blob-num js-line-number" data-line-number="1861"></td>
        <td id="LC1861" class="blob-code js-file-line">      &quot;-2.69593966208 1.77605296408 0.494356047448 [[ 0.00063118]]\n&quot;,</td>
      </tr>
      <tr>
        <td id="L1862" class="blob-num js-line-number" data-line-number="1862"></td>
        <td id="LC1862" class="blob-code js-file-line">      &quot;[[ -2.72616237e-03  -1.00699095e-03   5.71943040e-03  -6.82901696e-03\n&quot;,</td>
      </tr>
      <tr>
        <td id="L1863" class="blob-num js-line-number" data-line-number="1863"></td>
        <td id="LC1863" class="blob-code js-file-line">      &quot;   -6.40617548e-03  -1.12855926e-02  -1.39313447e-03  -7.57279852e-04\n&quot;,</td>
      </tr>
      <tr>
        <td id="L1864" class="blob-num js-line-number" data-line-number="1864"></td>
        <td id="LC1864" class="blob-code js-file-line">      &quot;    4.18855905e-03   5.25252012e-03   2.07944360e-03   7.80616770e-03\n&quot;,</td>
      </tr>
      <tr>
        <td id="L1865" class="blob-num js-line-number" data-line-number="1865"></td>
        <td id="LC1865" class="blob-code js-file-line">      &quot;    2.58878122e+03]]\n&quot;,</td>
      </tr>
      <tr>
        <td id="L1866" class="blob-num js-line-number" data-line-number="1866"></td>
        <td id="LC1866" class="blob-code js-file-line">      &quot;-2.75404180997 1.75490947641 0.496450776462 [[ 0.0003691]]\n&quot;,</td>
      </tr>
      <tr>
        <td id="L1867" class="blob-num js-line-number" data-line-number="1867"></td>
        <td id="LC1867" class="blob-code js-file-line">      &quot;[[ -1.18923479e-02   1.48399066e-02   1.08871457e-02  -1.15554058e-03\n&quot;,</td>
      </tr>
      <tr>
        <td id="L1868" class="blob-num js-line-number" data-line-number="1868"></td>
        <td id="LC1868" class="blob-code js-file-line">      &quot;   -2.57337177e-03  -8.93610528e-03  -4.76391386e-04  -2.88927979e-04\n&quot;,</td>
      </tr>
      <tr>
        <td id="L1869" class="blob-num js-line-number" data-line-number="1869"></td>
        <td id="LC1869" class="blob-code js-file-line">      &quot;    2.84343911e-03  -4.98623825e-04  -4.20202154e-03  -3.92751060e-03\n&quot;,</td>
      </tr>
      <tr>
        <td id="L1870" class="blob-num js-line-number" data-line-number="1870"></td>
        <td id="LC1870" class="blob-code js-file-line">      &quot;    1.63830416e+03]]\n&quot;,</td>
      </tr>
      <tr>
        <td id="L1871" class="blob-num js-line-number" data-line-number="1871"></td>
        <td id="LC1871" class="blob-code js-file-line">      &quot;-2.81214395786 1.67738335496 0.490166589418 [[ 0.00060972]]\n&quot;,</td>
      </tr>
      <tr>
        <td id="L1872" class="blob-num js-line-number" data-line-number="1872"></td>
        <td id="LC1872" class="blob-code js-file-line">      &quot;[[  3.43408790e-03   2.10188373e-03   4.90945747e-03  -7.33814706e-03\n&quot;,</td>
      </tr>
      <tr>
        <td id="L1873" class="blob-num js-line-number" data-line-number="1873"></td>
        <td id="LC1873" class="blob-code js-file-line">      &quot;   -6.56579660e-03  -1.27630450e-02  -1.64976646e-03  -1.01694025e-03\n&quot;,</td>
      </tr>
      <tr>
        <td id="L1874" class="blob-num js-line-number" data-line-number="1874"></td>
        <td id="LC1874" class="blob-code js-file-line">      &quot;    2.11524244e-03   3.81497152e-03   1.03894624e-03   6.56809631e-03\n&quot;,</td>
      </tr>
      <tr>
        <td id="L1875" class="blob-num js-line-number" data-line-number="1875"></td>
        <td id="LC1875" class="blob-code js-file-line">      &quot;    2.62345209e+03]]\n&quot;,</td>
      </tr>
      <tr>
        <td id="L1876" class="blob-num js-line-number" data-line-number="1876"></td>
        <td id="LC1876" class="blob-code js-file-line">      &quot;-2.79471331349 1.7513855618 0.499592869984 [[ 0.00036717]]\n&quot;,</td>
      </tr>
      <tr>
        <td id="L1877" class="blob-num js-line-number" data-line-number="1877"></td>
        <td id="LC1877" class="blob-code js-file-line">      &quot;[[ -1.88280579e-03  -1.21192319e-02   2.38576263e-03  -9.09197609e-03\n&quot;,</td>
      </tr>
      <tr>
        <td id="L1878" class="blob-num js-line-number" data-line-number="1878"></td>
        <td id="LC1878" class="blob-code js-file-line">      &quot;   -7.48109293e-03  -1.22657070e-02  -1.17677132e-03  -5.92923309e-04\n&quot;,</td>
      </tr>
      <tr>
        <td id="L1879" class="blob-num js-line-number" data-line-number="1879"></td>
        <td id="LC1879" class="blob-code js-file-line">      &quot;    7.03108548e-03   9.58721863e-03   6.23724438e-03   1.38275685e-02\n&quot;,</td>
      </tr>
      <tr>
        <td id="L1880" class="blob-num js-line-number" data-line-number="1880"></td>
        <td id="LC1880" class="blob-code js-file-line">      &quot;    3.35097656e+03]]\n&quot;,</td>
      </tr>
      <tr>
        <td id="L1881" class="blob-num js-line-number" data-line-number="1881"></td>
        <td id="LC1881" class="blob-code js-file-line">      &quot;-2.6998131386 1.73141671234 0.50901915055 [[ 0.00081838]]\n&quot;,</td>
      </tr>
      <tr>
        <td id="L1882" class="blob-num js-line-number" data-line-number="1882"></td>
        <td id="LC1882" class="blob-code js-file-line">      &quot;[[ -4.94388741e-05   8.57703606e-03   7.78625182e-03  -5.88535705e-03\n&quot;,</td>
      </tr>
      <tr>
        <td id="L1883" class="blob-num js-line-number" data-line-number="1883"></td>
        <td id="LC1883" class="blob-code js-file-line">      &quot;   -4.87562428e-03  -1.21322326e-02  -1.23868536e-03  -1.26629079e-03\n&quot;,</td>
      </tr>
      <tr>
        <td id="L1884" class="blob-num js-line-number" data-line-number="1884"></td>
        <td id="LC1884" class="blob-code js-file-line">      &quot;    1.63317573e-03   1.58190024e-03  -1.50623699e-03   2.05307004e-03\n&quot;,</td>
      </tr>
      <tr>
        <td id="L1885" class="blob-num js-line-number" data-line-number="1885"></td>
        <td id="LC1885" class="blob-code js-file-line">      &quot;    2.16002052e+03]]\n&quot;,</td>
      </tr>
      <tr>
        <td id="L1886" class="blob-num js-line-number" data-line-number="1886"></td>
        <td id="LC1886" class="blob-code js-file-line">      &quot;-2.81892254178 1.73317866964 0.494879729701 [[ 0.00035459]]\n&quot;,</td>
      </tr>
      <tr>
        <td id="L1887" class="blob-num js-line-number" data-line-number="1887"></td>
        <td id="LC1887" class="blob-code js-file-line">      &quot;[[  3.29037340e-03   1.14627467e-02   7.01405970e-03  -5.49952120e-03\n&quot;,</td>
      </tr>
      <tr>
        <td id="L1888" class="blob-num js-line-number" data-line-number="1888"></td>
        <td id="LC1888" class="blob-code js-file-line">      &quot;   -5.46575346e-03  -1.19435931e-02  -1.31045361e-03  -1.47943765e-03\n&quot;,</td>
      </tr>
      <tr>
        <td id="L1889" class="blob-num js-line-number" data-line-number="1889"></td>
        <td id="LC1889" class="blob-code js-file-line">      &quot;    4.77182599e-04   5.18419907e-04  -2.33334917e-03  -1.38645892e-04\n&quot;,</td>
      </tr>
      <tr>
        <td id="L1890" class="blob-num js-line-number" data-line-number="1890"></td>
        <td id="LC1890" class="blob-code js-file-line">      &quot;    2.14495681e+03]]\n&quot;,</td>
      </tr>
      <tr>
        <td id="L1891" class="blob-num js-line-number" data-line-number="1891"></td>
        <td id="LC1891" class="blob-code js-file-line">      &quot;-2.84765082601 1.69578602016 0.501687598999 [[ 0.00040405]]\n&quot;,</td>
      </tr>
      <tr>
        <td id="L1892" class="blob-num js-line-number" data-line-number="1892"></td>
        <td id="LC1892" class="blob-code js-file-line">      &quot;[[ -1.35806931e-03   2.42236155e-03   5.24099317e-03  -6.15611009e-03\n&quot;,</td>
      </tr>
      <tr>
        <td id="L1893" class="blob-num js-line-number" data-line-number="1893"></td>
        <td id="LC1893" class="blob-code js-file-line">      &quot;   -5.98891777e-03  -1.17278910e-02  -7.74760171e-04  -1.33810923e-03\n&quot;,</td>
      </tr>
      <tr>
        <td id="L1894" class="blob-num js-line-number" data-line-number="1894"></td>
        <td id="LC1894" class="blob-code js-file-line">      &quot;    3.65064148e-03   3.91354186e-03   1.03072828e-03   5.71413082e-03\n&quot;,</td>
      </tr>
      <tr>
        <td id="L1895" class="blob-num js-line-number" data-line-number="1895"></td>
        <td id="LC1895" class="blob-code js-file-line">      &quot;    2.47090239e+03]]\n&quot;,</td>
      </tr>
      <tr>
        <td id="L1896" class="blob-num js-line-number" data-line-number="1896"></td>
        <td id="LC1896" class="blob-code js-file-line">      &quot;-2.77744406398 1.74012861235 0.497759982096 [[ 0.00031124]]\n&quot;,</td>
      </tr>
      <tr>
        <td id="L1897" class="blob-num js-line-number" data-line-number="1897"></td>
        <td id="LC1897" class="blob-code js-file-line">      &quot;[[ -6.14728396e-03   7.52671472e-03   8.10406028e-03  -3.86978446e-03\n&quot;,</td>
      </tr>
      <tr>
        <td id="L1898" class="blob-num js-line-number" data-line-number="1898"></td>
        <td id="LC1898" class="blob-code js-file-line">      &quot;   -4.17247692e-03  -1.00856142e-02  -7.82256439e-04  -4.73854230e-04\n&quot;,</td>
      </tr>
      <tr>
        <td id="L1899" class="blob-num js-line-number" data-line-number="1899"></td>
        <td id="LC1899" class="blob-code js-file-line">      &quot;    3.44930501e-03   1.99394571e-03  -1.46185935e-03   4.86989418e-04\n&quot;,</td>
      </tr>
      <tr>
        <td id="L1900" class="blob-num js-line-number" data-line-number="1900"></td>
        <td id="LC1900" class="blob-code js-file-line">      &quot;    2.03312092e+03]]\n&quot;,</td>
      </tr>
      <tr>
        <td id="L1901" class="blob-num js-line-number" data-line-number="1901"></td>
        <td id="LC1901" class="blob-code js-file-line">      &quot;-2.79546648948 1.6918053018 0.497323580218 [[ 0.0003133]]\n&quot;,</td>
      </tr>
      <tr>
        <td id="L1902" class="blob-num js-line-number" data-line-number="1902"></td>
        <td id="LC1902" class="blob-code js-file-line">      &quot;[[ -6.74763290e-03   4.46394235e-04   6.20922984e-03  -5.41967736e-03\n&quot;,</td>
      </tr>
      <tr>
        <td id="L1903" class="blob-num js-line-number" data-line-number="1903"></td>
        <td id="LC1903" class="blob-code js-file-line">      &quot;   -4.61650491e-03  -1.04109697e-02  -4.91849419e-04  -2.12056711e-04\n&quot;,</td>
      </tr>
      <tr>
        <td id="L1904" class="blob-num js-line-number" data-line-number="1904"></td>
        <td id="LC1904" class="blob-code js-file-line">      &quot;    5.28277416e-03   5.23073020e-03   1.28248400e-03   3.90811627e-03\n&quot;,</td>
      </tr>
      <tr>
        <td id="L1905" class="blob-num js-line-number" data-line-number="1905"></td>
        <td id="LC1905" class="blob-code js-file-line">      &quot;    2.35940244e+03]]\n&quot;,</td>
      </tr>
      <tr>
        <td id="L1906" class="blob-num js-line-number" data-line-number="1906"></td>
        <td id="LC1906" class="blob-code js-file-line">      &quot;-2.755619893 1.68242994873 0.503665954179 [[ 0.00031583]]\n&quot;,</td>
      </tr>
      <tr>
        <td id="L1907" class="blob-num js-line-number" data-line-number="1907"></td>
        <td id="LC1907" class="blob-code js-file-line">      &quot;[[ -4.91706325e-03   2.39011966e-03   6.45373900e-03  -5.35750632e-03\n&quot;,</td>
      </tr>
      <tr>
        <td id="L1908" class="blob-num js-line-number" data-line-number="1908"></td>
        <td id="LC1908" class="blob-code js-file-line">      &quot;   -4.67089363e-03  -1.09999989e-02  -3.80943932e-04  -6.24949058e-04\n&quot;,</td>
      </tr>
      <tr>
        <td id="L1909" class="blob-num js-line-number" data-line-number="1909"></td>
        <td id="LC1909" class="blob-code js-file-line">      &quot;    4.65351625e-03   3.92118998e-03   5.48907885e-04   3.49996742e-03\n&quot;,</td>
      </tr>
      <tr>
        <td id="L1910" class="blob-num js-line-number" data-line-number="1910"></td>
        <td id="LC1910" class="blob-code js-file-line">      &quot;    2.30340136e+03]]\n&quot;,</td>
      </tr>
      <tr>
        <td id="L1911" class="blob-num js-line-number" data-line-number="1911"></td>
        <td id="LC1911" class="blob-code js-file-line">      &quot;-2.77144555519 1.69511712896 0.50146939806 [[ 0.00029318]]\n&quot;,</td>
      </tr>
      <tr>
        <td id="L1912" class="blob-num js-line-number" data-line-number="1912"></td>
        <td id="LC1912" class="blob-code js-file-line">      &quot;[[  1.00345312e-04  -1.84054616e-03   4.43631050e-03  -7.47416832e-03\n&quot;,</td>
      </tr>
      <tr>
        <td id="L1913" class="blob-num js-line-number" data-line-number="1913"></td>
        <td id="LC1913" class="blob-code js-file-line">      &quot;   -6.48897309e-03  -1.16515978e-02  -1.32740212e-03  -1.34110010e-03\n&quot;,</td>
      </tr>
      <tr>
        <td id="L1914" class="blob-num js-line-number" data-line-number="1914"></td>
        <td id="LC1914" class="blob-code js-file-line">      &quot;    4.60322089e-03   5.55722893e-03   2.35125278e-03   7.61892765e-03\n&quot;,</td>
      </tr>
      <tr>
        <td id="L1915" class="blob-num js-line-number" data-line-number="1915"></td>
        <td id="LC1915" class="blob-code js-file-line">      &quot;    2.74101948e+03]]\n&quot;,</td>
      </tr>
      <tr>
        <td id="L1916" class="blob-num js-line-number" data-line-number="1916"></td>
        <td id="LC1916" class="blob-code js-file-line">      &quot;-2.7630619891 1.72601120134 0.503985982223 [[ 0.00037602]]\n&quot;,</td>
      </tr>
      <tr>
        <td id="L1917" class="blob-num js-line-number" data-line-number="1917"></td>
        <td id="LC1917" class="blob-code js-file-line">      &quot;[[ -4.66269114e-03   5.41173990e-03   7.01097256e-03  -4.94789359e-03\n&quot;,</td>
      </tr>
      <tr>
        <td id="L1918" class="blob-num js-line-number" data-line-number="1918"></td>
        <td id="LC1918" class="blob-code js-file-line">      &quot;   -4.42302486e-03  -1.07833673e-02  -7.58767956e-04  -4.10911723e-04\n&quot;,</td>
      </tr>
      <tr>
        <td id="L1919" class="blob-num js-line-number" data-line-number="1919"></td>
        <td id="LC1919" class="blob-code js-file-line">      &quot;    3.21195385e-03   3.15021724e-03  -4.02239698e-04   2.16496242e-03\n&quot;,</td>
      </tr>
      <tr>
        <td id="L1920" class="blob-num js-line-number" data-line-number="1920"></td>
        <td id="LC1920" class="blob-code js-file-line">      &quot;    2.19123729e+03]]\n&quot;,</td>
      </tr>
      <tr>
        <td id="L1921" class="blob-num js-line-number" data-line-number="1921"></td>
        <td id="LC1921" class="blob-code js-file-line">      &quot;-2.78736536438 1.70035677669 0.498989180719 [[ 0.00028634]]\n&quot;,</td>
      </tr>
      <tr>
        <td id="L1922" class="blob-num js-line-number" data-line-number="1922"></td>
        <td id="LC1922" class="blob-code js-file-line">      &quot;[[ -7.01181674e-03   5.91810926e-03   7.87954154e-03  -3.89101078e-03\n&quot;,</td>
      </tr>
      <tr>
        <td id="L1923" class="blob-num js-line-number" data-line-number="1923"></td>
        <td id="LC1923" class="blob-code js-file-line">      &quot;   -3.57272960e-03  -1.05705378e-02  -2.94822997e-04  -1.81487436e-04\n&quot;,</td>
      </tr>
      <tr>
        <td id="L1924" class="blob-num js-line-number" data-line-number="1924"></td>
        <td id="LC1924" class="blob-code js-file-line">      &quot;    4.36643817e-03   3.10996411e-03  -1.17826725e-03  -1.41962904e-04\n&quot;,</td>
      </tr>
      <tr>
        <td id="L1925" class="blob-num js-line-number" data-line-number="1925"></td>
        <td id="LC1925" class="blob-code js-file-line">      &quot;    2.08088107e+03]]\n&quot;,</td>
      </tr>
      <tr>
        <td id="L1926" class="blob-num js-line-number" data-line-number="1926"></td>
        <td id="LC1926" class="blob-code js-file-line">      &quot;-2.78769861487 1.65117333369 0.504369046094 [[ 0.00031618]]\n&quot;,</td>
      </tr>
      <tr>
        <td id="L1927" class="blob-num js-line-number" data-line-number="1927"></td>
        <td id="LC1927" class="blob-code js-file-line">      &quot;[[ -2.81275722e-03   3.03735474e-03   6.19594937e-03  -5.77746320e-03\n&quot;,</td>
      </tr>
      <tr>
        <td id="L1928" class="blob-num js-line-number" data-line-number="1928"></td>
        <td id="LC1928" class="blob-code js-file-line">      &quot;   -5.08147656e-03  -1.17571801e-02  -3.63574458e-04  -1.06281769e-03\n&quot;,</td>
      </tr>
      <tr>
        <td id="L1929" class="blob-num js-line-number" data-line-number="1929"></td>
        <td id="LC1929" class="blob-code js-file-line">      &quot;    3.80657014e-03   3.58076190e-03   6.10905360e-04   4.20485264e-03\n&quot;,</td>
      </tr>
      <tr>
        <td id="L1930" class="blob-num js-line-number" data-line-number="1930"></td>
        <td id="LC1930" class="blob-code js-file-line">      &quot;    2.36827863e+03]]\n&quot;,</td>
      </tr>
      <tr>
        <td id="L1931" class="blob-num js-line-number" data-line-number="1931"></td>
        <td id="LC1931" class="blob-code js-file-line">      &quot;-2.7800077017 1.71788979268 0.499412248096 [[ 0.00029959]]\n&quot;,</td>
      </tr>
      <tr>
        <td id="L1932" class="blob-num js-line-number" data-line-number="1932"></td>
        <td id="LC1932" class="blob-code js-file-line">      &quot;[[ -5.48931145e-03   4.62691033e-03   7.52281906e-03  -4.30948575e-03\n&quot;,</td>
      </tr>
      <tr>
        <td id="L1933" class="blob-num js-line-number" data-line-number="1933"></td>
        <td id="LC1933" class="blob-code js-file-line">      &quot;   -4.53215372e-03  -1.05512685e-02  -7.16556762e-04  -4.68740258e-04\n&quot;,</td>
      </tr>
      <tr>
        <td id="L1934" class="blob-num js-line-number" data-line-number="1934"></td>
        <td id="LC1934" class="blob-code js-file-line">      &quot;    4.23628583e-03   3.50807391e-03  -6.92277003e-04   1.34726141e-03\n&quot;,</td>
      </tr>
      <tr>
        <td id="L1935" class="blob-num js-line-number" data-line-number="1935"></td>
        <td id="LC1935" class="blob-code js-file-line">      &quot;    2.16782683e+03]]\n&quot;,</td>
      </tr>
      <tr>
        <td id="L1936" class="blob-num js-line-number" data-line-number="1936"></td>
        <td id="LC1936" class="blob-code js-file-line">      &quot;-2.78513497715 1.67341215335 0.502716780094 [[ 0.00029186]]\n&quot;,</td>
      </tr>
      <tr>
        <td id="L1937" class="blob-num js-line-number" data-line-number="1937"></td>
        <td id="LC1937" class="blob-code js-file-line">      &quot;[[ -3.42631818e-03   7.13294401e-03   7.30332247e-03  -4.73468171e-03\n&quot;,</td>
      </tr>
      <tr>
        <td id="L1938" class="blob-num js-line-number" data-line-number="1938"></td>
        <td id="LC1938" class="blob-code js-file-line">      &quot;   -4.40927450e-03  -1.10229570e-02  -5.28069967e-04  -8.25279798e-04\n&quot;,</td>
      </tr>
      <tr>
        <td id="L1939" class="blob-num js-line-number" data-line-number="1939"></td>
        <td id="LC1939" class="blob-code js-file-line">      &quot;    3.31640270e-03   2.08067353e-03  -1.15206869e-03   7.88784101e-04\n&quot;,</td>
      </tr>
      <tr>
        <td id="L1940" class="blob-num js-line-number" data-line-number="1940"></td>
        <td id="LC1940" class="blob-code js-file-line">      &quot;    2.12999296e+03]]\n&quot;,</td>
      </tr>
      <tr>
        <td id="L1941" class="blob-num js-line-number" data-line-number="1941"></td>
        <td id="LC1941" class="blob-code js-file-line">      &quot;-2.80282340497 1.68171483334 0.501491218154 [[ 0.00029756]]\n&quot;,</td>
      </tr>
      <tr>
        <td id="L1942" class="blob-num js-line-number" data-line-number="1942"></td>
        <td id="LC1942" class="blob-code js-file-line">      &quot;[[ -4.54810775e-03   3.56755772e-03   6.66653020e-03  -5.20001435e-03\n&quot;,</td>
      </tr>
      <tr>
        <td id="L1943" class="blob-num js-line-number" data-line-number="1943"></td>
        <td id="LC1943" class="blob-code js-file-line">      &quot;   -4.60265201e-03  -1.10031140e-02  -4.15445010e-04  -6.73118134e-04\n&quot;,</td>
      </tr>
      <tr>
        <td id="L1944" class="blob-num js-line-number" data-line-number="1944"></td>
        <td id="LC1944" class="blob-code js-file-line">      &quot;    4.32604356e-03   3.46490528e-03   1.23633440e-04   2.81154024e-03\n&quot;,</td>
      </tr>
      <tr>
        <td id="L1945" class="blob-num js-line-number" data-line-number="1945"></td>
        <td id="LC1945" class="blob-code js-file-line">      &quot;    2.25845894e+03]]\n&quot;,</td>
      </tr>
      <tr>
        <td id="L1946" class="blob-num js-line-number" data-line-number="1946"></td>
        <td id="LC1946" class="blob-code js-file-line">      &quot;-2.77929001763 1.69176655505 0.501474853083 [[ 0.00028641]]\n&quot;,</td>
      </tr>
      <tr>
        <td id="L1947" class="blob-num js-line-number" data-line-number="1947"></td>
        <td id="LC1947" class="blob-code js-file-line">      &quot;[[ -2.56388082e-03   3.81051576e-03   6.33418176e-03  -5.67569005e-03\n&quot;,</td>
      </tr>
      <tr>
        <td id="L1948" class="blob-num js-line-number" data-line-number="1948"></td>
        <td id="LC1948" class="blob-code js-file-line">      &quot;   -5.03788845e-03  -1.17597047e-02  -3.86537838e-04  -1.09417916e-03\n&quot;,</td>
      </tr>
      <tr>
        <td id="L1949" class="blob-num js-line-number" data-line-number="1949"></td>
        <td id="LC1949" class="blob-code js-file-line">      &quot;    3.59351975e-03   3.28370868e-03   3.32629546e-04   3.74557284e-03\n&quot;,</td>
      </tr>
      <tr>
        <td id="L1950" class="blob-num js-line-number" data-line-number="1950"></td>
        <td id="LC1950" class="blob-code js-file-line">      &quot;    2.33712104e+03]]\n&quot;,</td>
      </tr>
      <tr>
        <td id="L1951" class="blob-num js-line-number" data-line-number="1951"></td>
        <td id="LC1951" class="blob-code js-file-line">      &quot;-2.78523734333 1.71565607675 0.499415884778 [[ 0.00029628]]\n&quot;,</td>
      </tr>
      <tr>
        <td id="L1952" class="blob-num js-line-number" data-line-number="1952"></td>
        <td id="LC1952" class="blob-code js-file-line">      &quot;[[ -4.67494421e-03   4.51254339e-03   7.05687612e-03  -4.82654478e-03\n&quot;,</td>
      </tr>
      <tr>
        <td id="L1953" class="blob-num js-line-number" data-line-number="1953"></td>
        <td id="LC1953" class="blob-code js-file-line">      &quot;   -4.32970605e-03  -1.08671913e-02  -9.30527287e-04  -6.19335092e-04\n&quot;,</td>
      </tr>
      <tr>
        <td id="L1954" class="blob-num js-line-number" data-line-number="1954"></td>
        <td id="LC1954" class="blob-code js-file-line">      &quot;    4.31229706e-03   3.16599021e-03  -2.75318850e-04   1.98217308e-03\n&quot;,</td>
      </tr>
      <tr>
        <td id="L1955" class="blob-num js-line-number" data-line-number="1955"></td>
        <td id="LC1955" class="blob-code js-file-line">      &quot;    2.20602005e+03]]\n&quot;,</td>
      </tr>
      <tr>
        <td id="L1956" class="blob-num js-line-number" data-line-number="1956"></td>
        <td id="LC1956" class="blob-code js-file-line">      &quot;-2.78516056869 1.6839731342 0.501891556265 [[ 0.00028603]]\n&quot;,</td>
      </tr>
      <tr>
        <td id="L1957" class="blob-num js-line-number" data-line-number="1957"></td>
        <td id="LC1957" class="blob-code js-file-line">      &quot;[[ -3.46484420e-03   6.05444467e-03   6.78311609e-03  -5.22916690e-03\n&quot;,</td>
      </tr>
      <tr>
        <td id="L1958" class="blob-num js-line-number" data-line-number="1958"></td>
        <td id="LC1958" class="blob-code js-file-line">      &quot;   -4.76733012e-03  -1.05893930e-02  -6.42650222e-04  -8.82176648e-04\n&quot;,</td>
      </tr>
      <tr>
        <td id="L1959" class="blob-num js-line-number" data-line-number="1959"></td>
        <td id="LC1959" class="blob-code js-file-line">      &quot;    3.39779193e-03   2.78915543e-03  -6.92518942e-04   1.78291201e-03\n&quot;,</td>
      </tr>
      <tr>
        <td id="L1960" class="blob-num js-line-number" data-line-number="1960"></td>
        <td id="LC1960" class="blob-code js-file-line">      &quot;    2.20427142e+03]]\n&quot;,</td>
      </tr>
      <tr>
        <td id="L1961" class="blob-num js-line-number" data-line-number="1961"></td>
        <td id="LC1961" class="blob-code js-file-line">      &quot;-2.79499600355 1.69210606114 0.500935613911 [[ 0.00028105]]\n&quot;,</td>
      </tr>
      <tr>
        <td id="L1962" class="blob-num js-line-number" data-line-number="1962"></td>
        <td id="LC1962" class="blob-code js-file-line">      &quot;[[ -2.61678768e-03   6.99380174e-03   6.83897053e-03  -4.57416262e-03\n&quot;,</td>
      </tr>
      <tr>
        <td id="L1963" class="blob-num js-line-number" data-line-number="1963"></td>
        <td id="LC1963" class="blob-code js-file-line">      &quot;   -4.88066260e-03  -1.13328241e-02  -7.40055639e-04  -9.71400770e-04\n&quot;,</td>
      </tr>
      <tr>
        <td id="L1964" class="blob-num js-line-number" data-line-number="1964"></td>
        <td id="LC1964" class="blob-code js-file-line">      &quot;    3.00437079e-03   2.39723651e-03  -9.86975505e-04   1.41635496e-03\n&quot;,</td>
      </tr>
      <tr>
        <td id="L1965" class="blob-num js-line-number" data-line-number="1965"></td>
        <td id="LC1965" class="blob-code js-file-line">      &quot;    2.16731136e+03]]\n&quot;,</td>
      </tr>
      <tr>
        <td id="L1966" class="blob-num js-line-number" data-line-number="1966"></td>
        <td id="LC1966" class="blob-code js-file-line">      &quot;-2.80284899651 1.69227581419 0.500665994324 [[ 0.00029495]]\n&quot;,</td>
      </tr>
      <tr>
        <td id="L1967" class="blob-num js-line-number" data-line-number="1967"></td>
        <td id="LC1967" class="blob-code js-file-line">      &quot;[[ -2.62849992e-03   4.28682501e-03   6.72058283e-03  -5.22018824e-03\n&quot;,</td>
      </tr>
      <tr>
        <td id="L1968" class="blob-num js-line-number" data-line-number="1968"></td>
        <td id="LC1968" class="blob-code js-file-line">      &quot;   -5.41645859e-03  -1.06876107e-02  -8.08300013e-04  -1.08094721e-03\n&quot;,</td>
      </tr>
      <tr>
        <td id="L1969" class="blob-num js-line-number" data-line-number="1969"></td>
        <td id="LC1969" class="blob-code js-file-line">      &quot;    3.84285525e-03   3.58176651e-03  -2.30070173e-04   2.11993136e-03\n&quot;,</td>
      </tr>
      <tr>
        <td id="L1970" class="blob-num js-line-number" data-line-number="1970"></td>
        <td id="LC1970" class="blob-code js-file-line">      &quot;    2.28304151e+03]]\n&quot;,</td>
      </tr>
      <tr>
        <td id="L1971" class="blob-num js-line-number" data-line-number="1971"></td>
        <td id="LC1971" class="blob-code js-file-line">      &quot;-2.79200774958 1.67801536248 0.504718908402 [[ 0.00027523]]\n&quot;,</td>
      </tr>
      <tr>
        <td id="L1972" class="blob-num js-line-number" data-line-number="1972"></td>
        <td id="LC1972" class="blob-code js-file-line">      &quot;[[ -1.73470314e-03   3.85741078e-03   6.57226729e-03  -6.04228591e-03\n&quot;,</td>
      </tr>
      <tr>
        <td id="L1973" class="blob-num js-line-number" data-line-number="1973"></td>
        <td id="LC1973" class="blob-code js-file-line">      &quot;   -4.91262767e-03  -1.09661948e-02  -1.12613540e-03  -8.55141991e-04\n&quot;,</td>
      </tr>
      <tr>
        <td id="L1974" class="blob-num js-line-number" data-line-number="1974"></td>
        <td id="LC1974" class="blob-code js-file-line">      &quot;    4.09276506e-03   3.47017088e-03   5.85285232e-05   2.02506076e-03\n&quot;,</td>
      </tr>
      <tr>
        <td id="L1975" class="blob-num js-line-number" data-line-number="1975"></td>
        <td id="LC1975" class="blob-code js-file-line">      &quot;    2.33443666e+03]]\n&quot;,</td>
      </tr>
      <tr>
        <td id="L1976" class="blob-num js-line-number" data-line-number="1976"></td>
        <td id="LC1976" class="blob-code js-file-line">      &quot;-2.79432894218 1.66684465538 0.507583772243 [[ 0.00027688]]\n&quot;,</td>
      </tr>
      <tr>
        <td id="L1977" class="blob-num js-line-number" data-line-number="1977"></td>
        <td id="LC1977" class="blob-code js-file-line">      &quot;[[ -8.50405970e-04   4.83724517e-03   6.23388563e-03  -5.82563168e-03\n&quot;,</td>
      </tr>
      <tr>
        <td id="L1978" class="blob-num js-line-number" data-line-number="1978"></td>
        <td id="LC1978" class="blob-code js-file-line">      &quot;   -5.35107591e-03  -1.11311994e-02  -1.13176614e-03  -7.78052942e-04\n&quot;,</td>
      </tr>
      <tr>
        <td id="L1979" class="blob-num js-line-number" data-line-number="1979"></td>
        <td id="LC1979" class="blob-code js-file-line">      &quot;    3.00964015e-03   3.18306711e-03  -2.65607681e-04   2.58564620e-03\n&quot;,</td>
      </tr>
      <tr>
        <td id="L1980" class="blob-num js-line-number" data-line-number="1980"></td>
        <td id="LC1980" class="blob-code js-file-line">      &quot;    2.30684453e+03]]\n&quot;,</td>
      </tr>
      <tr>
        <td id="L1981" class="blob-num js-line-number" data-line-number="1981"></td>
        <td id="LC1981" class="blob-code js-file-line">      &quot;-2.79877733253 1.69042715716 0.50370143428 [[ 0.00027729]]\n&quot;,</td>
      </tr>
      <tr>
        <td id="L1982" class="blob-num js-line-number" data-line-number="1982"></td>
        <td id="LC1982" class="blob-code js-file-line">      &quot;[[ -1.95911057e-03   6.07612596e-03   6.61464338e-03  -5.43414494e-03\n&quot;,</td>
      </tr>
      <tr>
        <td id="L1983" class="blob-num js-line-number" data-line-number="1983"></td>
        <td id="LC1983" class="blob-code js-file-line">      &quot;   -5.03694664e-03  -1.09506794e-02  -1.02849250e-03  -7.19748350e-04\n&quot;,</td>
      </tr>
      <tr>
        <td id="L1984" class="blob-num js-line-number" data-line-number="1984"></td>
        <td id="LC1984" class="blob-code js-file-line">      &quot;    3.40514183e-03   2.73505884e-03  -7.83862086e-04   1.58870962e-03\n&quot;,</td>
      </tr>
      <tr>
        <td id="L1985" class="blob-num js-line-number" data-line-number="1985"></td>
        <td id="LC1985" class="blob-code js-file-line">      &quot;    2.23217421e+03]]\n&quot;,</td>
      </tr>
      <tr>
        <td id="L1986" class="blob-num js-line-number" data-line-number="1986"></td>
        <td id="LC1986" class="blob-code js-file-line">      &quot;-2.80161762507 1.68222004045 0.503502340889 [[ 0.00028312]]\n&quot;,</td>
      </tr>
      <tr>
        <td id="L1987" class="blob-num js-line-number" data-line-number="1987"></td>
        <td id="LC1987" class="blob-code js-file-line">      &quot;[[ -2.34460455e-03   4.08357286e-03   6.88765423e-03  -5.08428956e-03\n&quot;,</td>
      </tr>
      <tr>
        <td id="L1988" class="blob-num js-line-number" data-line-number="1988"></td>
        <td id="LC1988" class="blob-code js-file-line">      &quot;   -5.26169601e-03  -1.10523691e-02  -1.06565322e-03  -7.21838853e-04\n&quot;,</td>
      </tr>
      <tr>
        <td id="L1989" class="blob-num js-line-number" data-line-number="1989"></td>
        <td id="LC1989" class="blob-code js-file-line">      &quot;    3.62078980e-03   3.20646884e-03  -2.74877030e-04   2.52107365e-03\n&quot;,</td>
      </tr>
      <tr>
        <td id="L1990" class="blob-num js-line-number" data-line-number="1990"></td>
        <td id="LC1990" class="blob-code js-file-line">      &quot;    2.27527230e+03]]\n&quot;,</td>
      </tr>
      <tr>
        <td id="L1991" class="blob-num js-line-number" data-line-number="1991"></td>
        <td id="LC1991" class="blob-code js-file-line">      &quot;-2.79208173029 1.68916427017 0.502926807852 [[ 0.00027678]]\n&quot;,</td>
      </tr>
      <tr>
        <td id="L1992" class="blob-num js-line-number" data-line-number="1992"></td>
        <td id="LC1992" class="blob-code js-file-line">      &quot;[[ -7.00699298e-04   3.47477687e-03   6.00578237e-03  -5.97808593e-03\n&quot;,</td>
      </tr>
      <tr>
        <td id="L1993" class="blob-num js-line-number" data-line-number="1993"></td>
        <td id="LC1993" class="blob-code js-file-line">      &quot;   -5.47153754e-03  -1.13303833e-02  -1.36747528e-03  -4.71938812e-04\n&quot;,</td>
      </tr>
      <tr>
        <td id="L1994" class="blob-num js-line-number" data-line-number="1994"></td>
        <td id="LC1994" class="blob-code js-file-line">      &quot;    3.61806052e-03   3.71542876e-03   7.23776326e-05   2.90316547e-03\n&quot;,</td>
      </tr>
      <tr>
        <td id="L1995" class="blob-num js-line-number" data-line-number="1995"></td>
        <td id="LC1995" class="blob-code js-file-line">      &quot;    2.38622820e+03]]\n&quot;,</td>
      </tr>
      <tr>
        <td id="L1996" class="blob-num js-line-number" data-line-number="1996"></td>
        <td id="LC1996" class="blob-code js-file-line">      &quot;-2.79358187138 1.67963179873 0.506629153112 [[ 0.00028011]]\n&quot;,</td>
      </tr>
      <tr>
        <td id="L1997" class="blob-num js-line-number" data-line-number="1997"></td>
        <td id="LC1997" class="blob-code js-file-line">      &quot;[[ -1.47764254e-03   3.87779143e-03   6.52907186e-03  -5.45143200e-03\n&quot;,</td>
      </tr>
      <tr>
        <td id="L1998" class="blob-num js-line-number" data-line-number="1998"></td>
        <td id="LC1998" class="blob-code js-file-line">      &quot;   -5.63249473e-03  -1.14506186e-02  -8.77393075e-04  -5.75153662e-04\n&quot;,</td>
      </tr>
      <tr>
        <td id="L1999" class="blob-num js-line-number" data-line-number="1999"></td>
        <td id="LC1999" class="blob-code js-file-line">      &quot;    3.66504494e-03   3.31750312e-03  -2.04304568e-05   2.58311744e-03\n&quot;,</td>
      </tr>
      <tr>
        <td id="L2000" class="blob-num js-line-number" data-line-number="2000"></td>
        <td id="LC2000" class="blob-code js-file-line">      &quot;    2.34260840e+03]]\n&quot;,</td>
      </tr>
      <tr>
        <td id="L2001" class="blob-num js-line-number" data-line-number="2001"></td>
        <td id="LC2001" class="blob-code js-file-line">      &quot;-2.79393540442 1.68275036433 0.505205768312 [[ 0.00028462]]\n&quot;,</td>
      </tr>
      <tr>
        <td id="L2002" class="blob-num js-line-number" data-line-number="2002"></td>
        <td id="LC2002" class="blob-code js-file-line">      &quot;[[ -2.48615761e-03   4.51232139e-03   6.47684474e-03  -5.49017940e-03\n&quot;,</td>
      </tr>
      <tr>
        <td id="L2003" class="blob-num js-line-number" data-line-number="2003"></td>
        <td id="LC2003" class="blob-code js-file-line">      &quot;   -5.00069804e-03  -1.08706182e-02  -9.37403903e-04  -6.27635641e-04\n&quot;,</td>
      </tr>
      <tr>
        <td id="L2004" class="blob-num js-line-number" data-line-number="2004"></td>
        <td id="LC2004" class="blob-code js-file-line">      &quot;    3.45859930e-03   3.39364533e-03  -2.52270660e-04   2.32074763e-03\n&quot;,</td>
      </tr>
      <tr>
        <td id="L2005" class="blob-num js-line-number" data-line-number="2005"></td>
        <td id="LC2005" class="blob-code js-file-line">      &quot;    2.27918119e+03]]\n&quot;,</td>
      </tr>
      <tr>
        <td id="L2006" class="blob-num js-line-number" data-line-number="2006"></td>
        <td id="LC2006" class="blob-code js-file-line">      &quot;-2.79204473994 1.68358981633 0.503822858127 [[ 0.00027201]]\n&quot;,</td>
      </tr>
      <tr>
        <td id="L2007" class="blob-num js-line-number" data-line-number="2007"></td>
        <td id="LC2007" class="blob-code js-file-line">      &quot;[[ -1.73896131e-03   4.56532689e-03   6.47673940e-03  -5.52388021e-03\n&quot;,</td>
      </tr>
      <tr>
        <td id="L2008" class="blob-num js-line-number" data-line-number="2008"></td>
        <td id="LC2008" class="blob-code js-file-line">      &quot;   -5.05957149e-03  -1.15406016e-02  -9.53619438e-04  -6.39883849e-04\n&quot;,</td>
      </tr>
      <tr>
        <td id="L2009" class="blob-num js-line-number" data-line-number="2009"></td>
        <td id="LC2009" class="blob-code js-file-line">      &quot;    3.42454357e-03   3.38189856e-03  -2.47548569e-04   2.35307956e-03\n&quot;,</td>
      </tr>
      <tr>
        <td id="L2010" class="blob-num js-line-number" data-line-number="2010"></td>
        <td id="LC2010" class="blob-code js-file-line">      &quot;    2.29488660e+03]]\n&quot;,</td>
      </tr>
      <tr>
        <td id="L2011" class="blob-num js-line-number" data-line-number="2011"></td>
        <td id="LC2011" class="blob-code js-file-line">      &quot;-2.79539254105 1.68422125982 0.504210171341 [[ 0.00028519]]\n&quot;,</td>
      </tr>
      <tr>
        <td id="L2012" class="blob-num js-line-number" data-line-number="2012"></td>
        <td id="LC2012" class="blob-code js-file-line">      &quot;[[ -3.04904409e-03   4.84774104e-03   7.07931751e-03  -4.88682603e-03\n&quot;,</td>
      </tr>
      <tr>
        <td id="L2013" class="blob-num js-line-number" data-line-number="2013"></td>
        <td id="LC2013" class="blob-code js-file-line">      &quot;   -5.10428521e-03  -1.09616829e-02  -1.01360644e-03  -6.92311845e-04\n&quot;,</td>
      </tr>
      <tr>
        <td id="L2014" class="blob-num js-line-number" data-line-number="2014"></td>
        <td id="LC2014" class="blob-code js-file-line">      &quot;    3.61969893e-03   3.05605965e-03  -3.35919851e-04   1.95043695e-03\n&quot;,</td>
      </tr>
      <tr>
        <td id="L2015" class="blob-num js-line-number" data-line-number="2015"></td>
        <td id="LC2015" class="blob-code js-file-line">      &quot;    2.24356398e+03]]\n&quot;,</td>
      </tr>
      <tr>
        <td id="L2016" class="blob-num js-line-number" data-line-number="2016"></td>
        <td id="LC2016" class="blob-code js-file-line">      &quot;-2.79350187657 1.68506071181 0.502827261156 [[ 0.00028087]]\n&quot;,</td>
      </tr>
      <tr>
        <td id="L2017" class="blob-num js-line-number" data-line-number="2017"></td>
        <td id="LC2017" class="blob-code js-file-line">      &quot;[[ -3.49729373e-03   4.76177767e-03   6.60407297e-03  -5.32519321e-03\n&quot;,</td>
      </tr>
      <tr>
        <td id="L2018" class="blob-num js-line-number" data-line-number="2018"></td>
        <td id="LC2018" class="blob-code js-file-line">      &quot;   -4.83601645e-03  -1.07524979e-02  -8.51908185e-04  -5.63283009e-04\n&quot;,</td>
      </tr>
      <tr>
        <td id="L2019" class="blob-num js-line-number" data-line-number="2019"></td>
        <td id="LC2019" class="blob-code js-file-line">      &quot;    4.03835723e-03   3.30445328e-03  -3.93474438e-04   2.00234861e-03\n&quot;,</td>
      </tr>
      <tr>
        <td id="L2020" class="blob-num js-line-number" data-line-number="2020"></td>
        <td id="LC2020" class="blob-code js-file-line">      &quot;    2.23531214e+03]]\n&quot;,</td>
      </tr>
      <tr>
        <td id="L2021" class="blob-num js-line-number" data-line-number="2021"></td>
        <td id="LC2021" class="blob-code js-file-line">      &quot;-2.789643703 1.68022266726 0.503369180449 [[ 0.00027832]]\n&quot;,</td>
      </tr>
      <tr>
        <td id="L2022" class="blob-num js-line-number" data-line-number="2022"></td>
        <td id="LC2022" class="blob-code js-file-line">      &quot;[[ -2.89638172e-03   3.73974630e-03   6.77666283e-03  -5.12713897e-03\n&quot;,</td>
      </tr>
      <tr>
        <td id="L2023" class="blob-num js-line-number" data-line-number="2023"></td>
        <td id="LC2023" class="blob-code js-file-line">      &quot;   -5.30938295e-03  -1.12180537e-02  -7.05969832e-04  -4.45440625e-04\n&quot;,</td>
      </tr>
      <tr>
        <td id="L2024" class="blob-num js-line-number" data-line-number="2024"></td>
        <td id="LC2024" class="blob-code js-file-line">      &quot;    4.02734891e-03   3.44499108e-03  -6.65816553e-05   2.25102424e-03\n&quot;,</td>
      </tr>
      <tr>
        <td id="L2025" class="blob-num js-line-number" data-line-number="2025"></td>
        <td id="LC2025" class="blob-code js-file-line">      &quot;    2.29540731e+03]]\n&quot;,</td>
      </tr>
      <tr>
        <td id="L2026" class="blob-num js-line-number" data-line-number="2026"></td>
        <td id="LC2026" class="blob-code js-file-line">      &quot;-2.78896225178 1.67615785223 0.505113370162 [[ 0.00028248]]\n&quot;,</td>
      </tr>
      <tr>
        <td id="L2027" class="blob-num js-line-number" data-line-number="2027"></td>
        <td id="LC2027" class="blob-code js-file-line">      &quot;[[ -2.85867556e-03   4.91037777e-03   6.51246139e-03  -5.45402751e-03\n&quot;,</td>
      </tr>
      <tr>
        <td id="L2028" class="blob-num js-line-number" data-line-number="2028"></td>
        <td id="LC2028" class="blob-code js-file-line">      &quot;   -4.97214870e-03  -1.08545572e-02  -9.28484899e-04  -6.22844760e-04\n&quot;,</td>
      </tr>
      <tr>
        <td id="L2029" class="blob-num js-line-number" data-line-number="2029"></td>
        <td id="LC2029" class="blob-code js-file-line">      &quot;    3.85759687e-03   3.21655463e-03  -4.03853669e-04   2.09620366e-03\n&quot;,</td>
      </tr>
      <tr>
        <td id="L2030" class="blob-num js-line-number" data-line-number="2030"></td>
        <td id="LC2030" class="blob-code js-file-line">      &quot;    2.25100203e+03]]\n&quot;,</td>
      </tr>
      <tr>
        <td id="L2031" class="blob-num js-line-number" data-line-number="2031"></td>
        <td id="LC2031" class="blob-code js-file-line">      &quot;-2.79236697037 1.68283499692 0.503398788408 [[ 0.00027802]]\n&quot;,</td>
      </tr>
      <tr>
        <td id="L2032" class="blob-num js-line-number" data-line-number="2032"></td>
        <td id="LC2032" class="blob-code js-file-line">      &quot;[[ -1.71223417e-03   4.27149050e-03   6.53538346e-03  -5.45149790e-03\n&quot;,</td>
      </tr>
      <tr>
        <td id="L2033" class="blob-num js-line-number" data-line-number="2033"></td>
        <td id="LC2033" class="blob-code js-file-line">      &quot;   -5.63868079e-03  -1.08446259e-02  -9.19598333e-04  -6.14948776e-04\n&quot;,</td>
      </tr>
      <tr>
        <td id="L2034" class="blob-num js-line-number" data-line-number="2034"></td>
        <td id="LC2034" class="blob-code js-file-line">      &quot;    3.48741995e-03   3.13600745e-03  -1.60231266e-04   2.40363311e-03\n&quot;,</td>
      </tr>
      <tr>
        <td id="L2035" class="blob-num js-line-number" data-line-number="2035"></td>
        <td id="LC2035" class="blob-code js-file-line">      &quot;    2.30361849e+03]]\n&quot;,</td>
      </tr>
      <tr>
        <td id="L2036" class="blob-num js-line-number" data-line-number="2036"></td>
        <td id="LC2036" class="blob-code js-file-line">      &quot;-2.79463593692 1.68273744989 0.504591189509 [[ 0.00027203]]\n&quot;,</td>
      </tr>
      <tr>
        <td id="L2037" class="blob-num js-line-number" data-line-number="2037"></td>
        <td id="LC2037" class="blob-code js-file-line">      &quot;[[ -1.58708075e-03   3.69837006e-03   6.64263192e-03  -5.99853543e-03\n&quot;,</td>
      </tr>
      <tr>
        <td id="L2038" class="blob-num js-line-number" data-line-number="2038"></td>
        <td id="LC2038" class="blob-code js-file-line">      &quot;   -4.83788918e-03  -1.13740480e-02  -8.25656136e-04  -5.39346068e-04\n&quot;,</td>
      </tr>
      <tr>
        <td id="L2039" class="blob-num js-line-number" data-line-number="2039"></td>
        <td id="LC2039" class="blob-code js-file-line">      &quot;    3.33288606e-03   3.43860926e-03   1.39906876e-05   2.51562621e-03\n&quot;,</td>
      </tr>
      <tr>
        <td id="L2040" class="blob-num js-line-number" data-line-number="2040"></td>
        <td id="LC2040" class="blob-code js-file-line">      &quot;    2.32293268e+03]]\n&quot;,</td>
      </tr>
      <tr>
        <td id="L2041" class="blob-num js-line-number" data-line-number="2041"></td>
        <td id="LC2041" class="blob-code js-file-line">      &quot;-2.79342531392 1.68006008888 0.505356515617 [[ 0.00027931]]\n&quot;,</td>
      </tr>
      <tr>
        <td id="L2042" class="blob-num js-line-number" data-line-number="2042"></td>
        <td id="LC2042" class="blob-code js-file-line">      &quot;[[ -2.61864772e-03   4.68539503e-03   6.54496327e-03  -5.42074664e-03\n&quot;,</td>
      </tr>
      <tr>
        <td id="L2043" class="blob-num js-line-number" data-line-number="2043"></td>
        <td id="LC2043" class="blob-code js-file-line">      &quot;   -4.94559069e-03  -1.08394131e-02  -9.19916529e-04  -6.18095349e-04\n&quot;,</td>
      </tr>
      <tr>
        <td id="L2044" class="blob-num js-line-number" data-line-number="2044"></td>
        <td id="LC2044" class="blob-code js-file-line">      &quot;    3.45408082e-03   3.33600910e-03  -3.27731217e-04   2.16493104e-03\n&quot;,</td>
      </tr>
      <tr>
        <td id="L2045" class="blob-num js-line-number" data-line-number="2045"></td>
        <td id="LC2045" class="blob-code js-file-line">      &quot;    2.27157134e+03]]\n&quot;,</td>
      </tr>
      <tr>
        <td id="L2046" class="blob-num js-line-number" data-line-number="2046"></td>
        <td id="LC2046" class="blob-code js-file-line">      &quot;-2.79263155626 1.68214126991 0.50388822021 [[ 0.00027207]]\n&quot;,</td>
      </tr>
      <tr>
        <td id="L2047" class="blob-num js-line-number" data-line-number="2047"></td>
        <td id="LC2047" class="blob-code js-file-line">      &quot;[[ -2.02042854e-03   4.79408459e-03   6.31850380e-03  -5.68677570e-03\n&quot;,</td>
      </tr>
      <tr>
        <td id="L2048" class="blob-num js-line-number" data-line-number="2048"></td>
        <td id="LC2048" class="blob-code js-file-line">      &quot;   -5.19045916e-03  -1.10029883e-02  -1.03094656e-03  -6.96444352e-04\n&quot;,</td>
      </tr>
      <tr>
        <td id="L2049" class="blob-num js-line-number" data-line-number="2049"></td>
        <td id="LC2049" class="blob-code js-file-line">      &quot;    3.68464653e-03   3.21569738e-03  -3.00879805e-04   2.42476783e-03\n&quot;,</td>
      </tr>
      <tr>
        <td id="L2050" class="blob-num js-line-number" data-line-number="2050"></td>
        <td id="LC2050" class="blob-code js-file-line">      &quot;    2.29016188e+03]]\n&quot;,</td>
      </tr>
      <tr>
        <td id="L2051" class="blob-num js-line-number" data-line-number="2051"></td>
        <td id="LC2051" class="blob-code js-file-line">      &quot;-2.79420040583 1.68763032827 0.503482603495 [[ 0.00027877]]\n&quot;,</td>
      </tr>
      <tr>
        <td id="L2052" class="blob-num js-line-number" data-line-number="2052"></td>
        <td id="LC2052" class="blob-code js-file-line">      &quot;[[ -2.55260060e-03   4.49103071e-03   6.61970634e-03  -5.33732434e-03\n&quot;,</td>
      </tr>
      <tr>
        <td id="L2053" class="blob-num js-line-number" data-line-number="2053"></td>
        <td id="LC2053" class="blob-code js-file-line">      &quot;   -4.87247690e-03  -1.14074427e-02  -8.55638793e-04  -5.65851745e-04\n&quot;,</td>
      </tr>
      <tr>
        <td id="L2054" class="blob-num js-line-number" data-line-number="2054"></td>
        <td id="LC2054" class="blob-code js-file-line">      &quot;    3.63054609e-03   3.45321780e-03  -2.75712117e-04   2.16060054e-03\n&quot;,</td>
      </tr>
      <tr>
        <td id="L2055" class="blob-num js-line-number" data-line-number="2055"></td>
        <td id="LC2055" class="blob-code js-file-line">      &quot;    2.28762023e+03]]\n&quot;,</td>
      </tr>
      <tr>
        <td id="L2056" class="blob-num js-line-number" data-line-number="2056"></td>
        <td id="LC2056" class="blob-code js-file-line">      &quot;-2.79255591364 1.68041910393 0.504409832175 [[ 0.00028377]]\n&quot;,</td>
      </tr>
      <tr>
        <td id="L2057" class="blob-num js-line-number" data-line-number="2057"></td>
        <td id="LC2057" class="blob-code js-file-line">      &quot;[[ -2.09982206e-03   4.39243888e-03   6.50612345e-03  -5.47081882e-03\n&quot;,</td>
      </tr>
      <tr>
        <td id="L2058" class="blob-num js-line-number" data-line-number="2058"></td>
        <td id="LC2058" class="blob-code js-file-line">      &quot;   -4.99535427e-03  -1.14885764e-02  -9.11436892e-04  -6.05231256e-04\n&quot;,</td>
      </tr>
      <tr>
        <td id="L2059" class="blob-num js-line-number" data-line-number="2059"></td>
        <td id="LC2059" class="blob-code js-file-line">      &quot;    3.54450535e-03   3.46593508e-03  -2.06280470e-04   2.36216215e-03\n&quot;,</td>
      </tr>
      <tr>
        <td id="L2060" class="blob-num js-line-number" data-line-number="2060"></td>
        <td id="LC2060" class="blob-code js-file-line">      &quot;    2.29137408e+03]]\n&quot;,</td>
      </tr>
      <tr>
        <td id="L2061" class="blob-num js-line-number" data-line-number="2061"></td>
        <td id="LC2061" class="blob-code js-file-line">      &quot;-2.79334033843 1.68316363311 0.504207023818 [[ 0.0002843]]\n&quot;,</td>
      </tr>
      <tr>
        <td id="L2062" class="blob-num js-line-number" data-line-number="2062"></td>
        <td id="LC2062" class="blob-code js-file-line">      &quot;[[ -2.55238983e-03   4.59883631e-03   6.51088918e-03  -5.45547641e-03\n&quot;,</td>
      </tr>
      <tr>
        <td id="L2063" class="blob-num js-line-number" data-line-number="2063"></td>
        <td id="LC2063" class="blob-code js-file-line">      &quot;   -4.97315176e-03  -1.08550168e-02  -9.28658340e-04  -6.22862166e-04\n&quot;,</td>
      </tr>
      <tr>
        <td id="L2064" class="blob-num js-line-number" data-line-number="2064"></td>
        <td id="LC2064" class="blob-code js-file-line">      &quot;    3.45636419e-03   3.36485686e-03  -2.89983405e-04   2.24280852e-03\n&quot;,</td>
      </tr>
      <tr>
        <td id="L2065" class="blob-num js-line-number" data-line-number="2065"></td>
        <td id="LC2065" class="blob-code js-file-line">      &quot;    2.27537135e+03]]\n&quot;,</td>
      </tr>
      <tr>
        <td id="L2066" class="blob-num js-line-number" data-line-number="2066"></td>
        <td id="LC2066" class="blob-code js-file-line">      &quot;-2.7923381481 1.68286554312 0.503855539168 [[ 0.00027201]]\n&quot;,</td>
      </tr>
      <tr>
        <td id="L2067" class="blob-num js-line-number" data-line-number="2067"></td>
        <td id="LC2067" class="blob-code js-file-line">      &quot;[[ -2.55722967e-03   4.39976487e-03   6.59852344e-03  -5.35540649e-03\n&quot;,</td>
      </tr>
      <tr>
        <td id="L2068" class="blob-num js-line-number" data-line-number="2068"></td>
        <td id="LC2068" class="blob-code js-file-line">      &quot;   -4.88346749e-03  -1.14111635e-02  -8.55846590e-04  -5.64206636e-04\n&quot;,</td>
      </tr>
      <tr>
        <td id="L2069" class="blob-num js-line-number" data-line-number="2069"></td>
        <td id="LC2069" class="blob-code js-file-line">      &quot;    3.65036796e-03   3.48758742e-03  -2.41119220e-04   2.22040064e-03\n&quot;,</td>
      </tr>
      <tr>
        <td id="L2070" class="blob-num js-line-number" data-line-number="2070"></td>
        <td id="LC2070" class="blob-code js-file-line">      &quot;    2.28111717e+03]]\n&quot;,</td>
      </tr>
      <tr>
        <td id="L2071" class="blob-num js-line-number" data-line-number="2071"></td>
        <td id="LC2071" class="blob-code js-file-line">      &quot;-2.79202624476 1.68080258941 0.504270883264 [[ 0.00028371]]\n&quot;,</td>
      </tr>
      <tr>
        <td id="L2072" class="blob-num js-line-number" data-line-number="2072"></td>
        <td id="LC2072" class="blob-code js-file-line">      &quot;[[ -2.86139747e-03   4.51189671e-03   6.55127860e-03  -5.39664239e-03\n&quot;,</td>
      </tr>
      <tr>
        <td id="L2073" class="blob-num js-line-number" data-line-number="2073"></td>
        <td id="LC2073" class="blob-code js-file-line">      &quot;   -4.90956976e-03  -1.08065609e-02  -8.91837001e-04  -5.93903326e-04\n&quot;,</td>
      </tr>
      <tr>
        <td id="L2074" class="blob-num js-line-number" data-line-number="2074"></td>
        <td id="LC2074" class="blob-code js-file-line">      &quot;    3.54657095e-03   3.41346962e-03  -2.78725005e-04   2.20816498e-03\n&quot;,</td>
      </tr>
      <tr>
        <td id="L2075" class="blob-num js-line-number" data-line-number="2075"></td>
        <td id="LC2075" class="blob-code js-file-line">      &quot;    2.26214038e+03]]\n&quot;,</td>
      </tr>
      <tr>
        <td id="L2076" class="blob-num js-line-number" data-line-number="2076"></td>
        <td id="LC2076" class="blob-code js-file-line">      &quot;-2.79093241676 1.68167499946 0.503759163222 [[ 0.00027181]]\n&quot;,</td>
      </tr>
      <tr>
        <td id="L2077" class="blob-num js-line-number" data-line-number="2077"></td>
        <td id="LC2077" class="blob-code js-file-line">      &quot;[[ -3.39327385e-03   4.72273369e-03   6.57380125e-03  -5.35956488e-03\n&quot;,</td>
      </tr>
      <tr>
        <td id="L2078" class="blob-num js-line-number" data-line-number="2078"></td>
        <td id="LC2078" class="blob-code js-file-line">      &quot;   -4.86664812e-03  -1.07723091e-02  -8.64922000e-04  -5.72135953e-04\n&quot;,</td>
      </tr>
      <tr>
        <td id="L2079" class="blob-num js-line-number" data-line-number="2079"></td>
        <td id="LC2079" class="blob-code js-file-line">      &quot;    4.02200730e-03   3.31386578e-03  -3.70914426e-04   2.06002810e-03\n&quot;,</td>
      </tr>
      <tr>
        <td id="L2080" class="blob-num js-line-number" data-line-number="2080"></td>
        <td id="LC2080" class="blob-code js-file-line">      &quot;    2.25315303e+03]]\n&quot;,</td>
      </tr>
      <tr>
        <td id="L2081" class="blob-num js-line-number" data-line-number="2081"></td>
        <td id="LC2081" class="blob-code js-file-line">      &quot;-2.78972845593 1.68093068263 0.503535232924 [[ 0.0002781]]\n&quot;,</td>
      </tr>
      <tr>
        <td id="L2082" class="blob-num js-line-number" data-line-number="2082"></td>
        <td id="LC2082" class="blob-code js-file-line">      &quot;[[ -2.70922680e-03   4.68208491e-03   6.42766633e-03  -5.53928095e-03\n&quot;,</td>
      </tr>
      <tr>
        <td id="L2083" class="blob-num js-line-number" data-line-number="2083"></td>
        <td id="LC2083" class="blob-code js-file-line">      &quot;   -5.03869588e-03  -1.08914202e-02  -3.70093376e-04  -1.21103277e-03\n&quot;,</td>
      </tr>
      <tr>
        <td id="L2084" class="blob-num js-line-number" data-line-number="2084"></td>
        <td id="LC2084" class="blob-code js-file-line">      &quot;    3.86957224e-03   3.29399145e-03  -3.06134589e-04   2.29401770e-03\n&quot;,</td>
      </tr>
      <tr>
        <td id="L2085" class="blob-num js-line-number" data-line-number="2085"></td>
        <td id="LC2085" class="blob-code js-file-line">      &quot;    2.26333296e+03]]\n&quot;,</td>
      </tr>
      <tr>
        <td id="L2086" class="blob-num js-line-number" data-line-number="2086"></td>
        <td id="LC2086" class="blob-code js-file-line">      &quot;-2.79151729177 1.68461764986 0.503354157081 [[ 0.00027806]]\n&quot;,</td>
      </tr>
      <tr>
        <td id="L2087" class="blob-num js-line-number" data-line-number="2087"></td>
        <td id="LC2087" class="blob-code js-file-line">      &quot;[[ -2.82380580e-03   4.76446752e-03   6.47030908e-03  -5.49338894e-03\n&quot;,</td>
      </tr>
      <tr>
        <td id="L2088" class="blob-num js-line-number" data-line-number="2088"></td>
        <td id="LC2088" class="blob-code js-file-line">      &quot;   -4.99994476e-03  -1.08677571e-02  -9.33910122e-04  -6.23994539e-04\n&quot;,</td>
      </tr>
      <tr>
        <td id="L2089" class="blob-num js-line-number" data-line-number="2089"></td>
        <td id="LC2089" class="blob-code js-file-line">      &quot;    3.87953811e-03   3.26922347e-03  -3.45704006e-04   2.20430726e-03\n&quot;,</td>
      </tr>
      <tr>
        <td id="L2090" class="blob-num js-line-number" data-line-number="2090"></td>
        <td id="LC2090" class="blob-code js-file-line">      &quot;    2.27329749e+03]]\n&quot;,</td>
      </tr>
      <tr>
        <td id="L2091" class="blob-num js-line-number" data-line-number="2091"></td>
        <td id="LC2091" class="blob-code js-file-line">      &quot;-2.79164453002 1.68366388475 0.503583338626 [[ 0.0002778]]\n&quot;,</td>
      </tr>
      <tr>
        <td id="L2092" class="blob-num js-line-number" data-line-number="2092"></td>
        <td id="LC2092" class="blob-code js-file-line">      &quot;[[ -2.74806231e-03   4.62356345e-03   6.55573756e-03  -5.40145179e-03\n&quot;,</td>
      </tr>
      <tr>
        <td id="L2093" class="blob-num js-line-number" data-line-number="2093"></td>
        <td id="LC2093" class="blob-code js-file-line">      &quot;   -4.92233061e-03  -1.14346211e-02  -2.90946472e-04  -1.15244048e-03\n&quot;,</td>
      </tr>
      <tr>
        <td id="L2094" class="blob-num js-line-number" data-line-number="2094"></td>
        <td id="LC2094" class="blob-code js-file-line">      &quot;    4.04327190e-03   3.36585191e-03  -3.13310182e-04   2.16747425e-03\n&quot;,</td>
      </tr>
      <tr>
        <td id="L2095" class="blob-num js-line-number" data-line-number="2095"></td>
        <td id="LC2095" class="blob-code js-file-line">      &quot;    2.28222366e+03]]\n&quot;,</td>
      </tr>
      <tr>
        <td id="L2096" class="blob-num js-line-number" data-line-number="2096"></td>
        <td id="LC2096" class="blob-code js-file-line">      &quot;-2.79189900651 1.68175635452 0.504041701718 [[ 0.00028995]]\n&quot;,</td>
      </tr>
      <tr>
        <td id="L2097" class="blob-num js-line-number" data-line-number="2097"></td>
        <td id="LC2097" class="blob-code js-file-line">      &quot;[[ -2.88110882e-03   4.80565918e-03   6.49164831e-03  -5.47042381e-03\n&quot;,</td>
      </tr>
      <tr>
        <td id="L2098" class="blob-num js-line-number" data-line-number="2098"></td>
        <td id="LC2098" class="blob-code js-file-line">      &quot;   -4.98055522e-03  -1.08559195e-02  -9.26609986e-04  -6.19400444e-04\n&quot;,</td>
      </tr>
      <tr>
        <td id="L2099" class="blob-num js-line-number" data-line-number="2099"></td>
        <td id="LC2099" class="blob-code js-file-line">      &quot;    3.48219061e-03   3.40303494e-03  -1.10741922e-04   2.15947791e-03\n&quot;,</td>
      </tr>
      <tr>
        <td id="L2100" class="blob-num js-line-number" data-line-number="2100"></td>
        <td id="LC2100" class="blob-code js-file-line">      &quot;    2.27829926e+03]]\n&quot;,</td>
      </tr>
      <tr>
        <td id="L2101" class="blob-num js-line-number" data-line-number="2101"></td>
        <td id="LC2101" class="blob-code js-file-line">      &quot;-2.79170814914 1.68318700219 0.503697929399 [[ 0.00027574]]\n&quot;,</td>
      </tr>
      <tr>
        <td id="L2102" class="blob-num js-line-number" data-line-number="2102"></td>
        <td id="LC2102" class="blob-code js-file-line">      &quot;[[ -2.69069422e-03   4.58233338e-03   6.53436254e-03  -5.42445524e-03\n&quot;,</td>
      </tr>
      <tr>
        <td id="L2103" class="blob-num js-line-number" data-line-number="2103"></td>
        <td id="LC2103" class="blob-code js-file-line">      &quot;   -4.94174815e-03  -1.08322322e-02  -9.12006428e-04  -6.10213802e-04\n&quot;,</td>
      </tr>
      <tr>
        <td id="L2104" class="blob-num js-line-number" data-line-number="2104"></td>
        <td id="LC2104" class="blob-code js-file-line">      &quot;    3.49212615e-03   3.37826667e-03  -2.93472530e-04   2.21234730e-03\n&quot;,</td>
      </tr>
      <tr>
        <td id="L2105" class="blob-num js-line-number" data-line-number="2105"></td>
        <td id="LC2105" class="blob-code js-file-line">      &quot;    2.27721394e+03]]\n&quot;,</td>
      </tr>
      <tr>
        <td id="L2106" class="blob-num js-line-number" data-line-number="2106"></td>
        <td id="LC2106" class="blob-code js-file-line">      &quot;-2.79183538739 1.68223323708 0.503927110945 [[ 0.00027191]]\n&quot;,</td>
      </tr>
      <tr>
        <td id="L2107" class="blob-num js-line-number" data-line-number="2107"></td>
        <td id="LC2107" class="blob-code js-file-line">      &quot;[[ -2.80640693e-03   4.47222452e-03   6.53073663e-03  -5.41874651e-03\n&quot;,</td>
      </tr>
      <tr>
        <td id="L2108" class="blob-num js-line-number" data-line-number="2108"></td>
        <td id="LC2108" class="blob-code js-file-line">      &quot;   -4.92822528e-03  -1.08179432e-02  -8.98850281e-04  -5.98311560e-04\n&quot;,</td>
      </tr>
      <tr>
        <td id="L2109" class="blob-num js-line-number" data-line-number="2109"></td>
        <td id="LC2109" class="blob-code js-file-line">      &quot;    3.54184139e-03   3.42543572e-03  -2.59625530e-04   2.25135774e-03\n&quot;,</td>
      </tr>
      <tr>
        <td id="L2110" class="blob-num js-line-number" data-line-number="2110"></td>
        <td id="LC2110" class="blob-code js-file-line">      &quot;    2.27029265e+03]]\n&quot;,</td>
      </tr>
      <tr>
        <td id="L2111" class="blob-num js-line-number" data-line-number="2111"></td>
        <td id="LC2111" class="blob-code js-file-line">      &quot;-2.79087021463 1.68213315879 0.503817215694 [[ 0.00027179]]\n&quot;,</td>
      </tr>
      <tr>
        <td id="L2112" class="blob-num js-line-number" data-line-number="2112"></td>
        <td id="LC2112" class="blob-code js-file-line">      &quot;[[ -2.93332629e-03   4.40874543e-03   6.54063747e-03  -5.40039200e-03\n&quot;,</td>
      </tr>
      <tr>
        <td id="L2113" class="blob-num js-line-number" data-line-number="2113"></td>
        <td id="LC2113" class="blob-code js-file-line">      &quot;   -4.90575936e-03  -1.07993979e-02  -8.83936788e-04  -5.86027101e-04\n&quot;,</td>
      </tr>
      <tr>
        <td id="L2114" class="blob-num js-line-number" data-line-number="2114"></td>
        <td id="LC2114" class="blob-code js-file-line">      &quot;    3.58461854e-03   3.45575589e-03  -2.44431893e-04   2.25563568e-03\n&quot;,</td>
      </tr>
      <tr>
        <td id="L2115" class="blob-num js-line-number" data-line-number="2115"></td>
        <td id="LC2115" class="blob-code js-file-line">      &quot;    2.26775848e+03]]\n&quot;,</td>
      </tr>
      <tr>
        <td id="L2116" class="blob-num js-line-number" data-line-number="2116"></td>
        <td id="LC2116" class="blob-code js-file-line">      &quot;-2.7901362479 1.68176696663 0.503798053957 [[ 0.00027174]]\n&quot;,</td>
      </tr>
      <tr>
        <td id="L2117" class="blob-num js-line-number" data-line-number="2117"></td>
        <td id="LC2117" class="blob-code js-file-line">      &quot;[[ -3.17069107e-03   4.48896514e-03   6.60741254e-03  -5.32399965e-03\n&quot;,</td>
      </tr>
      <tr>
        <td id="L2118" class="blob-num js-line-number" data-line-number="2118"></td>
        <td id="LC2118" class="blob-code js-file-line">      &quot;   -4.83718313e-03  -1.07547176e-02  -8.54362405e-04  -5.65732487e-04\n&quot;,</td>
      </tr>
      <tr>
        <td id="L2119" class="blob-num js-line-number" data-line-number="2119"></td>
        <td id="LC2119" class="blob-code js-file-line">      &quot;    3.62372907e-03   3.43796027e-03  -2.92266730e-04   2.13000593e-03\n&quot;,</td>
      </tr>
      <tr>
        <td id="L2120" class="blob-num js-line-number" data-line-number="2120"></td>
        <td id="LC2120" class="blob-code js-file-line">      &quot;    2.25893333e+03]]\n&quot;,</td>
      </tr>
      <tr>
        <td id="L2121" class="blob-num js-line-number" data-line-number="2121"></td>
        <td id="LC2121" class="blob-code js-file-line">      &quot;-2.78989129476 1.68019365245 0.503833360623 [[ 0.00027189]]\n&quot;,</td>
      </tr>
      <tr>
        <td id="L2122" class="blob-num js-line-number" data-line-number="2122"></td>
        <td id="LC2122" class="blob-code js-file-line">      &quot;[[ -3.59011763e-03   4.66164444e-03   6.59845498e-03  -5.32292710e-03\n&quot;,</td>
      </tr>
      <tr>
        <td id="L2123" class="blob-num js-line-number" data-line-number="2123"></td>
        <td id="LC2123" class="blob-code js-file-line">      &quot;   -4.82657642e-03  -1.07415180e-02  -8.41381702e-04  -5.53527399e-04\n&quot;,</td>
      </tr>
      <tr>
        <td id="L2124" class="blob-num js-line-number" data-line-number="2124"></td>
        <td id="LC2124" class="blob-code js-file-line">      &quot;    3.67795937e-03   3.49329758e-03  -1.07104629e-04   2.04093425e-03\n&quot;,</td>
      </tr>
      <tr>
        <td id="L2125" class="blob-num js-line-number" data-line-number="2125"></td>
        <td id="LC2125" class="blob-code js-file-line">      &quot;    2.25974734e+03]]\n&quot;,</td>
      </tr>
      <tr>
        <td id="L2126" class="blob-num js-line-number" data-line-number="2126"></td>
        <td id="LC2126" class="blob-code js-file-line">      &quot;-2.78880458556 1.68019050861 0.503666607589 [[ 0.00027609]]\n&quot;,</td>
      </tr>
      <tr>
        <td id="L2127" class="blob-num js-line-number" data-line-number="2127"></td>
        <td id="LC2127" class="blob-code js-file-line">      &quot;[[ -2.83962059e-03   4.52620597e-03   6.55040583e-03  -5.39907263e-03\n&quot;,</td>
      </tr>
      <tr>
        <td id="L2128" class="blob-num js-line-number" data-line-number="2128"></td>
        <td id="LC2128" class="blob-code js-file-line">      &quot;   -4.91297133e-03  -1.08095730e-02  -8.94367967e-04  -5.96057660e-04\n&quot;,</td>
      </tr>
      <tr>
        <td id="L2129" class="blob-num js-line-number" data-line-number="2129"></td>
        <td id="LC2129" class="blob-code js-file-line">      &quot;    3.53852948e-03   3.40699146e-03  -2.82637355e-04   2.20513937e-03\n&quot;,</td>
      </tr>
      <tr>
        <td id="L2130" class="blob-num js-line-number" data-line-number="2130"></td>
        <td id="LC2130" class="blob-code js-file-line">      &quot;    2.27006446e+03]]\n&quot;,</td>
      </tr>
      <tr>
        <td id="L2131" class="blob-num js-line-number" data-line-number="2131"></td>
        <td id="LC2131" class="blob-code js-file-line">      &quot;-2.79107768693 1.68172255496 0.503861985106 [[ 0.00027182]]\n&quot;,</td>
      </tr>
      <tr>
        <td id="L2132" class="blob-num js-line-number" data-line-number="2132"></td>
        <td id="LC2132" class="blob-code js-file-line">      &quot;[[ -2.58547231e-03   4.47506745e-03   6.48753286e-03  -5.47328218e-03\n&quot;,</td>
      </tr>
      <tr>
        <td id="L2133" class="blob-num js-line-number" data-line-number="2133"></td>
        <td id="LC2133" class="blob-code js-file-line">      &quot;   -4.98154606e-03  -1.08555381e-02  -9.25664433e-04  -6.18212930e-04\n&quot;,</td>
      </tr>
      <tr>
        <td id="L2134" class="blob-num js-line-number" data-line-number="2134"></td>
        <td id="LC2134" class="blob-code js-file-line">      &quot;    3.48949789e-03   3.41279259e-03  -2.45030876e-04   2.31595760e-03\n&quot;,</td>
      </tr>
      <tr>
        <td id="L2135" class="blob-num js-line-number" data-line-number="2135"></td>
        <td id="LC2135" class="blob-code js-file-line">      &quot;    2.27440653e+03]]\n&quot;,</td>
      </tr>
      <tr>
        <td id="L2136" class="blob-num js-line-number" data-line-number="2136"></td>
        <td id="LC2136" class="blob-code js-file-line">      &quot;-2.7915396063 1.68324936158 0.503779440901 [[ 0.0002719]]\n&quot;,</td>
      </tr>
      <tr>
        <td id="L2137" class="blob-num js-line-number" data-line-number="2137"></td>
        <td id="LC2137" class="blob-code js-file-line">      &quot;[[ -3.02441606e-03   4.48569190e-03   6.57742008e-03  -5.36136453e-03\n&quot;,</td>
      </tr>
      <tr>
        <td id="L2138" class="blob-num js-line-number" data-line-number="2138"></td>
        <td id="LC2138" class="blob-code js-file-line">      &quot;   -4.87332381e-03  -1.07799586e-02  -8.72212483e-04  -5.78869515e-04\n&quot;,</td>
      </tr>
      <tr>
        <td id="L2139" class="blob-num js-line-number" data-line-number="2139"></td>
        <td id="LC2139" class="blob-code js-file-line">      &quot;    3.59014218e-03   3.43169001e-03  -2.80420965e-04   2.17648857e-03\n&quot;,</td>
      </tr>
      <tr>
        <td id="L2140" class="blob-num js-line-number" data-line-number="2140"></td>
        <td id="LC2140" class="blob-code js-file-line">      &quot;    2.26278799e+03]]\n&quot;,</td>
      </tr>
      <tr>
        <td id="L2141" class="blob-num js-line-number" data-line-number="2141"></td>
        <td id="LC2141" class="blob-code js-file-line">      &quot;-2.79030337265 1.68095757973 0.503819880692 [[ 0.00027181]]\n&quot;</td>
      </tr>
      <tr>
        <td id="L2142" class="blob-num js-line-number" data-line-number="2142"></td>
        <td id="LC2142" class="blob-code js-file-line">     ]</td>
      </tr>
      <tr>
        <td id="L2143" class="blob-num js-line-number" data-line-number="2143"></td>
        <td id="LC2143" class="blob-code js-file-line">    }</td>
      </tr>
      <tr>
        <td id="L2144" class="blob-num js-line-number" data-line-number="2144"></td>
        <td id="LC2144" class="blob-code js-file-line">   ],</td>
      </tr>
      <tr>
        <td id="L2145" class="blob-num js-line-number" data-line-number="2145"></td>
        <td id="LC2145" class="blob-code js-file-line">   &quot;source&quot;: [</td>
      </tr>
      <tr>
        <td id="L2146" class="blob-num js-line-number" data-line-number="2146"></td>
        <td id="LC2146" class="blob-code js-file-line">    &quot;xGuess=-5,1.9,.25\n&quot;,</td>
      </tr>
      <tr>
        <td id="L2147" class="blob-num js-line-number" data-line-number="2147"></td>
        <td id="LC2147" class="blob-code js-file-line">    &quot;xGuess =-2.7889030987, 1.69147901341, 0.502734963506\n&quot;,</td>
      </tr>
      <tr>
        <td id="L2148" class="blob-num js-line-number" data-line-number="2148"></td>
        <td id="LC2148" class="blob-code js-file-line">    &quot;optResult=so.minimize(globalCalibrator,xGuess,method=&#39;Nelder-Mead&#39;,tol=1e-3)&quot;</td>
      </tr>
      <tr>
        <td id="L2149" class="blob-num js-line-number" data-line-number="2149"></td>
        <td id="LC2149" class="blob-code js-file-line">   ]</td>
      </tr>
      <tr>
        <td id="L2150" class="blob-num js-line-number" data-line-number="2150"></td>
        <td id="LC2150" class="blob-code js-file-line">  },</td>
      </tr>
      <tr>
        <td id="L2151" class="blob-num js-line-number" data-line-number="2151"></td>
        <td id="LC2151" class="blob-code js-file-line">  {</td>
      </tr>
      <tr>
        <td id="L2152" class="blob-num js-line-number" data-line-number="2152"></td>
        <td id="LC2152" class="blob-code js-file-line">   &quot;cell_type&quot;: &quot;code&quot;,</td>
      </tr>
      <tr>
        <td id="L2153" class="blob-num js-line-number" data-line-number="2153"></td>
        <td id="LC2153" class="blob-code js-file-line">   &quot;execution_count&quot;: 45,</td>
      </tr>
      <tr>
        <td id="L2154" class="blob-num js-line-number" data-line-number="2154"></td>
        <td id="LC2154" class="blob-code js-file-line">   &quot;metadata&quot;: {</td>
      </tr>
      <tr>
        <td id="L2155" class="blob-num js-line-number" data-line-number="2155"></td>
        <td id="LC2155" class="blob-code js-file-line">    &quot;collapsed&quot;: false</td>
      </tr>
      <tr>
        <td id="L2156" class="blob-num js-line-number" data-line-number="2156"></td>
        <td id="LC2156" class="blob-code js-file-line">   },</td>
      </tr>
      <tr>
        <td id="L2157" class="blob-num js-line-number" data-line-number="2157"></td>
        <td id="LC2157" class="blob-code js-file-line">   &quot;outputs&quot;: [],</td>
      </tr>
      <tr>
        <td id="L2158" class="blob-num js-line-number" data-line-number="2158"></td>
        <td id="LC2158" class="blob-code js-file-line">   &quot;source&quot;: []</td>
      </tr>
      <tr>
        <td id="L2159" class="blob-num js-line-number" data-line-number="2159"></td>
        <td id="LC2159" class="blob-code js-file-line">  },</td>
      </tr>
      <tr>
        <td id="L2160" class="blob-num js-line-number" data-line-number="2160"></td>
        <td id="LC2160" class="blob-code js-file-line">  {</td>
      </tr>
      <tr>
        <td id="L2161" class="blob-num js-line-number" data-line-number="2161"></td>
        <td id="LC2161" class="blob-code js-file-line">   &quot;cell_type&quot;: &quot;code&quot;,</td>
      </tr>
      <tr>
        <td id="L2162" class="blob-num js-line-number" data-line-number="2162"></td>
        <td id="LC2162" class="blob-code js-file-line">   &quot;execution_count&quot;: 46,</td>
      </tr>
      <tr>
        <td id="L2163" class="blob-num js-line-number" data-line-number="2163"></td>
        <td id="LC2163" class="blob-code js-file-line">   &quot;metadata&quot;: {</td>
      </tr>
      <tr>
        <td id="L2164" class="blob-num js-line-number" data-line-number="2164"></td>
        <td id="LC2164" class="blob-code js-file-line">    &quot;collapsed&quot;: false</td>
      </tr>
      <tr>
        <td id="L2165" class="blob-num js-line-number" data-line-number="2165"></td>
        <td id="LC2165" class="blob-code js-file-line">   },</td>
      </tr>
      <tr>
        <td id="L2166" class="blob-num js-line-number" data-line-number="2166"></td>
        <td id="LC2166" class="blob-code js-file-line">   &quot;outputs&quot;: [</td>
      </tr>
      <tr>
        <td id="L2167" class="blob-num js-line-number" data-line-number="2167"></td>
        <td id="LC2167" class="blob-code js-file-line">    {</td>
      </tr>
      <tr>
        <td id="L2168" class="blob-num js-line-number" data-line-number="2168"></td>
        <td id="LC2168" class="blob-code js-file-line">     &quot;data&quot;: {</td>
      </tr>
      <tr>
        <td id="L2169" class="blob-num js-line-number" data-line-number="2169"></td>
        <td id="LC2169" class="blob-code js-file-line">      &quot;text/plain&quot;: [</td>
      </tr>
      <tr>
        <td id="L2170" class="blob-num js-line-number" data-line-number="2170"></td>
        <td id="LC2170" class="blob-code js-file-line">       &quot;  status: 0\n&quot;,</td>
      </tr>
      <tr>
        <td id="L2171" class="blob-num js-line-number" data-line-number="2171"></td>
        <td id="LC2171" class="blob-code js-file-line">       &quot;    nfev: 63\n&quot;,</td>
      </tr>
      <tr>
        <td id="L2172" class="blob-num js-line-number" data-line-number="2172"></td>
        <td id="LC2172" class="blob-code js-file-line">       &quot; success: True\n&quot;,</td>
      </tr>
      <tr>
        <td id="L2173" class="blob-num js-line-number" data-line-number="2173"></td>
        <td id="LC2173" class="blob-code js-file-line">       &quot;     fun: 0.00027174323130965163\n&quot;,</td>
      </tr>
      <tr>
        <td id="L2174" class="blob-num js-line-number" data-line-number="2174"></td>
        <td id="LC2174" class="blob-code js-file-line">       &quot;       x: array([-2.79013625,  1.68176697,  0.50379805])\n&quot;,</td>
      </tr>
      <tr>
        <td id="L2175" class="blob-num js-line-number" data-line-number="2175"></td>
        <td id="LC2175" class="blob-code js-file-line">       &quot; message: &#39;Optimization terminated successfully.&#39;\n&quot;,</td>
      </tr>
      <tr>
        <td id="L2176" class="blob-num js-line-number" data-line-number="2176"></td>
        <td id="LC2176" class="blob-code js-file-line">       &quot;     nit: 31&quot;</td>
      </tr>
      <tr>
        <td id="L2177" class="blob-num js-line-number" data-line-number="2177"></td>
        <td id="LC2177" class="blob-code js-file-line">      ]</td>
      </tr>
      <tr>
        <td id="L2178" class="blob-num js-line-number" data-line-number="2178"></td>
        <td id="LC2178" class="blob-code js-file-line">     },</td>
      </tr>
      <tr>
        <td id="L2179" class="blob-num js-line-number" data-line-number="2179"></td>
        <td id="LC2179" class="blob-code js-file-line">     &quot;execution_count&quot;: 46,</td>
      </tr>
      <tr>
        <td id="L2180" class="blob-num js-line-number" data-line-number="2180"></td>
        <td id="LC2180" class="blob-code js-file-line">     &quot;metadata&quot;: {},</td>
      </tr>
      <tr>
        <td id="L2181" class="blob-num js-line-number" data-line-number="2181"></td>
        <td id="LC2181" class="blob-code js-file-line">     &quot;output_type&quot;: &quot;execute_result&quot;</td>
      </tr>
      <tr>
        <td id="L2182" class="blob-num js-line-number" data-line-number="2182"></td>
        <td id="LC2182" class="blob-code js-file-line">    }</td>
      </tr>
      <tr>
        <td id="L2183" class="blob-num js-line-number" data-line-number="2183"></td>
        <td id="LC2183" class="blob-code js-file-line">   ],</td>
      </tr>
      <tr>
        <td id="L2184" class="blob-num js-line-number" data-line-number="2184"></td>
        <td id="LC2184" class="blob-code js-file-line">   &quot;source&quot;: [</td>
      </tr>
      <tr>
        <td id="L2185" class="blob-num js-line-number" data-line-number="2185"></td>
        <td id="LC2185" class="blob-code js-file-line">    &quot;optResult&quot;</td>
      </tr>
      <tr>
        <td id="L2186" class="blob-num js-line-number" data-line-number="2186"></td>
        <td id="LC2186" class="blob-code js-file-line">   ]</td>
      </tr>
      <tr>
        <td id="L2187" class="blob-num js-line-number" data-line-number="2187"></td>
        <td id="LC2187" class="blob-code js-file-line">  },</td>
      </tr>
      <tr>
        <td id="L2188" class="blob-num js-line-number" data-line-number="2188"></td>
        <td id="LC2188" class="blob-code js-file-line">  {</td>
      </tr>
      <tr>
        <td id="L2189" class="blob-num js-line-number" data-line-number="2189"></td>
        <td id="LC2189" class="blob-code js-file-line">   &quot;cell_type&quot;: &quot;code&quot;,</td>
      </tr>
      <tr>
        <td id="L2190" class="blob-num js-line-number" data-line-number="2190"></td>
        <td id="LC2190" class="blob-code js-file-line">   &quot;execution_count&quot;: 47,</td>
      </tr>
      <tr>
        <td id="L2191" class="blob-num js-line-number" data-line-number="2191"></td>
        <td id="LC2191" class="blob-code js-file-line">   &quot;metadata&quot;: {</td>
      </tr>
      <tr>
        <td id="L2192" class="blob-num js-line-number" data-line-number="2192"></td>
        <td id="LC2192" class="blob-code js-file-line">    &quot;collapsed&quot;: false</td>
      </tr>
      <tr>
        <td id="L2193" class="blob-num js-line-number" data-line-number="2193"></td>
        <td id="LC2193" class="blob-code js-file-line">   },</td>
      </tr>
      <tr>
        <td id="L2194" class="blob-num js-line-number" data-line-number="2194"></td>
        <td id="LC2194" class="blob-code js-file-line">   &quot;outputs&quot;: [</td>
      </tr>
      <tr>
        <td id="L2195" class="blob-num js-line-number" data-line-number="2195"></td>
        <td id="LC2195" class="blob-code js-file-line">    {</td>
      </tr>
      <tr>
        <td id="L2196" class="blob-num js-line-number" data-line-number="2196"></td>
        <td id="LC2196" class="blob-code js-file-line">     &quot;data&quot;: {</td>
      </tr>
      <tr>
        <td id="L2197" class="blob-num js-line-number" data-line-number="2197"></td>
        <td id="LC2197" class="blob-code js-file-line">      &quot;text/plain&quot;: [</td>
      </tr>
      <tr>
        <td id="L2198" class="blob-num js-line-number" data-line-number="2198"></td>
        <td id="LC2198" class="blob-code js-file-line">       &quot;(0.50379805395728861, -2.7901362478963154, 1.6817669666255064)&quot;</td>
      </tr>
      <tr>
        <td id="L2199" class="blob-num js-line-number" data-line-number="2199"></td>
        <td id="LC2199" class="blob-code js-file-line">      ]</td>
      </tr>
      <tr>
        <td id="L2200" class="blob-num js-line-number" data-line-number="2200"></td>
        <td id="LC2200" class="blob-code js-file-line">     },</td>
      </tr>
      <tr>
        <td id="L2201" class="blob-num js-line-number" data-line-number="2201"></td>
        <td id="LC2201" class="blob-code js-file-line">     &quot;execution_count&quot;: 47,</td>
      </tr>
      <tr>
        <td id="L2202" class="blob-num js-line-number" data-line-number="2202"></td>
        <td id="LC2202" class="blob-code js-file-line">     &quot;metadata&quot;: {},</td>
      </tr>
      <tr>
        <td id="L2203" class="blob-num js-line-number" data-line-number="2203"></td>
        <td id="LC2203" class="blob-code js-file-line">     &quot;output_type&quot;: &quot;execute_result&quot;</td>
      </tr>
      <tr>
        <td id="L2204" class="blob-num js-line-number" data-line-number="2204"></td>
        <td id="LC2204" class="blob-code js-file-line">    }</td>
      </tr>
      <tr>
        <td id="L2205" class="blob-num js-line-number" data-line-number="2205"></td>
        <td id="LC2205" class="blob-code js-file-line">   ],</td>
      </tr>
      <tr>
        <td id="L2206" class="blob-num js-line-number" data-line-number="2206"></td>
        <td id="LC2206" class="blob-code js-file-line">   &quot;source&quot;: [</td>
      </tr>
      <tr>
        <td id="L2207" class="blob-num js-line-number" data-line-number="2207"></td>
        <td id="LC2207" class="blob-code js-file-line">    &quot;MUHat=optResult.x[0]\n&quot;,</td>
      </tr>
      <tr>
        <td id="L2208" class="blob-num js-line-number" data-line-number="2208"></td>
        <td id="LC2208" class="blob-code js-file-line">    &quot;SIGMAHat=optResult.x[1]\n&quot;,</td>
      </tr>
      <tr>
        <td id="L2209" class="blob-num js-line-number" data-line-number="2209"></td>
        <td id="LC2209" class="blob-code js-file-line">    &quot;RHOHat=optResult.x[2]\n&quot;,</td>
      </tr>
      <tr>
        <td id="L2210" class="blob-num js-line-number" data-line-number="2210"></td>
        <td id="LC2210" class="blob-code js-file-line">    &quot;RHOHat,MUHat,SIGMAHat&quot;</td>
      </tr>
      <tr>
        <td id="L2211" class="blob-num js-line-number" data-line-number="2211"></td>
        <td id="LC2211" class="blob-code js-file-line">   ]</td>
      </tr>
      <tr>
        <td id="L2212" class="blob-num js-line-number" data-line-number="2212"></td>
        <td id="LC2212" class="blob-code js-file-line">  },</td>
      </tr>
      <tr>
        <td id="L2213" class="blob-num js-line-number" data-line-number="2213"></td>
        <td id="LC2213" class="blob-code js-file-line">  {</td>
      </tr>
      <tr>
        <td id="L2214" class="blob-num js-line-number" data-line-number="2214"></td>
        <td id="LC2214" class="blob-code js-file-line">   &quot;cell_type&quot;: &quot;code&quot;,</td>
      </tr>
      <tr>
        <td id="L2215" class="blob-num js-line-number" data-line-number="2215"></td>
        <td id="LC2215" class="blob-code js-file-line">   &quot;execution_count&quot;: 48,</td>
      </tr>
      <tr>
        <td id="L2216" class="blob-num js-line-number" data-line-number="2216"></td>
        <td id="LC2216" class="blob-code js-file-line">   &quot;metadata&quot;: {</td>
      </tr>
      <tr>
        <td id="L2217" class="blob-num js-line-number" data-line-number="2217"></td>
        <td id="LC2217" class="blob-code js-file-line">    &quot;collapsed&quot;: false</td>
      </tr>
      <tr>
        <td id="L2218" class="blob-num js-line-number" data-line-number="2218"></td>
        <td id="LC2218" class="blob-code js-file-line">   },</td>
      </tr>
      <tr>
        <td id="L2219" class="blob-num js-line-number" data-line-number="2219"></td>
        <td id="LC2219" class="blob-code js-file-line">   &quot;outputs&quot;: [],</td>
      </tr>
      <tr>
        <td id="L2220" class="blob-num js-line-number" data-line-number="2220"></td>
        <td id="LC2220" class="blob-code js-file-line">   &quot;source&quot;: [</td>
      </tr>
      <tr>
        <td id="L2221" class="blob-num js-line-number" data-line-number="2221"></td>
        <td id="LC2221" class="blob-code js-file-line">    &quot;s_probHat=np.zeros((s_n,1))\n&quot;,</td>
      </tr>
      <tr>
        <td id="L2222" class="blob-num js-line-number" data-line-number="2222"></td>
        <td id="LC2222" class="blob-code js-file-line">    &quot;for i in range(0,s_n-1):\n&quot;,</td>
      </tr>
      <tr>
        <td id="L2223" class="blob-num js-line-number" data-line-number="2223"></td>
        <td id="LC2223" class="blob-code js-file-line">    &quot;    if i==0:\n&quot;,</td>
      </tr>
      <tr>
        <td id="L2224" class="blob-num js-line-number" data-line-number="2224"></td>
        <td id="LC2224" class="blob-code js-file-line">    &quot;        d=(s_grid[1]-s_grid[0])/2\n&quot;,</td>
      </tr>
      <tr>
        <td id="L2225" class="blob-num js-line-number" data-line-number="2225"></td>
        <td id="LC2225" class="blob-code js-file-line">    &quot;        s_probHat[i]=lognorm_discrete(s_grid[i]-d,s_grid[i]+d,MUHat,SIGMAHat)[0]\n&quot;,</td>
      </tr>
      <tr>
        <td id="L2226" class="blob-num js-line-number" data-line-number="2226"></td>
        <td id="LC2226" class="blob-code js-file-line">    &quot;    else:\n&quot;,</td>
      </tr>
      <tr>
        <td id="L2227" class="blob-num js-line-number" data-line-number="2227"></td>
        <td id="LC2227" class="blob-code js-file-line">    &quot;        d=(s_grid[i]-s_grid[i-1])/2\n&quot;,</td>
      </tr>
      <tr>
        <td id="L2228" class="blob-num js-line-number" data-line-number="2228"></td>
        <td id="LC2228" class="blob-code js-file-line">    &quot;        s_probHat[i]=lognorm_discrete(s_grid[i]-d,s_grid[i]+d,MUHat,SIGMAHat)[0]&quot;</td>
      </tr>
      <tr>
        <td id="L2229" class="blob-num js-line-number" data-line-number="2229"></td>
        <td id="LC2229" class="blob-code js-file-line">   ]</td>
      </tr>
      <tr>
        <td id="L2230" class="blob-num js-line-number" data-line-number="2230"></td>
        <td id="LC2230" class="blob-code js-file-line">  },</td>
      </tr>
      <tr>
        <td id="L2231" class="blob-num js-line-number" data-line-number="2231"></td>
        <td id="LC2231" class="blob-code js-file-line">  {</td>
      </tr>
      <tr>
        <td id="L2232" class="blob-num js-line-number" data-line-number="2232"></td>
        <td id="LC2232" class="blob-code js-file-line">   &quot;cell_type&quot;: &quot;code&quot;,</td>
      </tr>
      <tr>
        <td id="L2233" class="blob-num js-line-number" data-line-number="2233"></td>
        <td id="LC2233" class="blob-code js-file-line">   &quot;execution_count&quot;: 49,</td>
      </tr>
      <tr>
        <td id="L2234" class="blob-num js-line-number" data-line-number="2234"></td>
        <td id="LC2234" class="blob-code js-file-line">   &quot;metadata&quot;: {</td>
      </tr>
      <tr>
        <td id="L2235" class="blob-num js-line-number" data-line-number="2235"></td>
        <td id="LC2235" class="blob-code js-file-line">    &quot;collapsed&quot;: false</td>
      </tr>
      <tr>
        <td id="L2236" class="blob-num js-line-number" data-line-number="2236"></td>
        <td id="LC2236" class="blob-code js-file-line">   },</td>
      </tr>
      <tr>
        <td id="L2237" class="blob-num js-line-number" data-line-number="2237"></td>
        <td id="LC2237" class="blob-code js-file-line">   &quot;outputs&quot;: [</td>
      </tr>
      <tr>
        <td id="L2238" class="blob-num js-line-number" data-line-number="2238"></td>
        <td id="LC2238" class="blob-code js-file-line">    {</td>
      </tr>
      <tr>
        <td id="L2239" class="blob-num js-line-number" data-line-number="2239"></td>
        <td id="LC2239" class="blob-code js-file-line">     &quot;data&quot;: {</td>
      </tr>
      <tr>
        <td id="L2240" class="blob-num js-line-number" data-line-number="2240"></td>
        <td id="LC2240" class="blob-code js-file-line">      &quot;image/png&quot;: [</td>
      </tr>
      <tr>
        <td id="L2241" class="blob-num js-line-number" data-line-number="2241"></td>
        <td id="LC2241" class="blob-code js-file-line">       &quot;iVBORw0KGgoAAAANSUhEUgAAAY8AAAEACAYAAABLfPrqAAAABHNCSVQICAgIfAhkiAAAAAlwSFlz\n&quot;,</td>
      </tr>
      <tr>
        <td id="L2242" class="blob-num js-line-number" data-line-number="2242"></td>
        <td id="LC2242" class="blob-code js-file-line">       &quot;AAALEgAACxIB0t1+/AAAIABJREFUeJzt3XuYXFWd7//3h1y4hGgbwNwhQAIEEAiXEAlIgwZD9AAe\n&quot;,</td>
      </tr>
      <tr>
        <td id="L2243" class="blob-num js-line-number" data-line-number="2243"></td>
        <td id="LC2243" class="blob-code js-file-line">       &quot;z0+Mt/zUM+SMw9E5+lMyl+eQeP4QL8M4DIoM4gyPRwV0HCZIuMRIqyAEIgSCSUiapDUJpMMtEq4m\n&quot;,</td>
      </tr>
      <tr>
        <td id="L2244" class="blob-num js-line-number" data-line-number="2244"></td>
        <td id="LC2244" class="blob-code js-file-line">       &quot;4fv7Y+0ORdmpqu6uql1V/Xk9Tz299661dn0Xafpbe6291lZEYGZm1hf75B2AmZk1HycPMzPrMycP\n&quot;,</td>
      </tr>
      <tr>
        <td id="L2245" class="blob-num js-line-number" data-line-number="2245"></td>
        <td id="LC2245" class="blob-code js-file-line">       &quot;MzPrMycPMzPrMycPMzPrMycPMzPrs7LJQ9JsSWslrZd02V7KXJW9/4ikaeXqSholaamkdZLuktSW\n&quot;,</td>
      </tr>
      <tr>
        <td id="L2246" class="blob-num js-line-number" data-line-number="2246"></td>
        <td id="LC2246" class="blob-code js-file-line">       &quot;HR8u6V8lPSpppaSzq9FIMzOrrpLJQ9IQ4GpgNnAsMFfS1KIyc4DJETEFuAS4poK6C4ClEXEUsCzb\n&quot;,</td>
      </tr>
      <tr>
        <td id="L2247" class="blob-num js-line-number" data-line-number="2247"></td>
        <td id="LC2247" class="blob-code js-file-line">       &quot;B/gL4PWIOAGYBfyDJA24lWZmVlXlrjymA50R0RURO4EbgQuLylwA3AAQEcuBNkljytTdUyf7eVG2\n&quot;,</td>
      </tr>
      <tr>
        <td id="L2248" class="blob-num js-line-number" data-line-number="2248"></td>
        <td id="LC2248" class="blob-code js-file-line">       &quot;PRW4OzvX08B24NR+ts3MzGqkXPIYD2wq2N+cHaukzLgSdUdHRHe23Q2MzrYfAS6QNETS4cApwIQK\n&quot;,</td>
      </tr>
      <tr>
        <td id="L2249" class="blob-num js-line-number" data-line-number="2249"></td>
        <td id="LC2249" class="blob-code js-file-line">       &quot;2mFmZnU0tMz7la5dUknXkno7X0SEpJ7j3yNdfawAfg/8BthdYQxmZlYn5ZLHFmBiwf5E0hVEqTIT\n&quot;,</td>
      </tr>
      <tr>
        <td id="L2250" class="blob-num js-line-number" data-line-number="2250"></td>
        <td id="LC2250" class="blob-code js-file-line">       &quot;sjLDejm+JdvuljQmIrZKGgtsA4iI3cDneypIuhdYVxxUQbIxM7M+iIiqjCOX67ZaAUyRNEnScOBi\n&quot;,</td>
      </tr>
      <tr>
        <td id="L2251" class="blob-num js-line-number" data-line-number="2251"></td>
        <td id="LC2251" class="blob-code js-file-line">       &quot;YHFRmcXAJwAkzQC2Z11SpeouBuZl2/OAW7L6+0sakW3PAnZGxNreAouIln1dfvnlucfg9rltbl/r\n&quot;,</td>
      </tr>
      <tr>
        <td id="L2252" class="blob-num js-line-number" data-line-number="2252"></td>
        <td id="LC2252" class="blob-code js-file-line">       &quot;vaqp5JVHROySdClwJzAEuD4i1kian71/bUQskTRHUifwEvDJUnWzU18B3Czp00AX8KHs+GjgDkmv\n&quot;,</td>
      </tr>
      <tr>
        <td id="L2253" class="blob-num js-line-number" data-line-number="2253"></td>
        <td id="LC2253" class="blob-code js-file-line">       &quot;k65ePl7FtpqZWZWU67YiIm4Hbi86dm3R/qWV1s2OPwe8p5fjXcAx5WIyG0xefx2uvx6uvBI6O+GY\n&quot;,</td>
      </tr>
      <tr>
        <td id="L2254" class="blob-num js-line-number" data-line-number="2254"></td>
        <td id="LC2254" class="blob-code js-file-line">       &quot;Y+BLX4KPfQx8I7vlpWzysPprb2/PO4SaauX2Vbttu3bBpz4Fa9bAd78Lp5wC990Hn/1s+vmtb9U3\n&quot;,</td>
      </tr>
      <tr>
        <td id="L2255" class="blob-num js-line-number" data-line-number="2255"></td>
        <td id="LC2255" class="blob-code js-file-line">       &quot;gbTyvx20fvuqSdXuB6sHSdGMcZv11Re+ACtXwq23wgEHvHF8xw6YNQtmz4aFC3MLz5qMJKJKA+ZO\n&quot;,</td>
      </tr>
      <tr>
        <td id="L2256" class="blob-num js-line-number" data-line-number="2256"></td>
        <td id="LC2256" class="blob-code js-file-line">       &quot;HmYN6rbb4H/+T1ixAkaN+vP3t22Dk06Cm2+GM8+sf3zWfKqZPLwwolkDevlluPRS+Jd/6T1xALz9\n&quot;,</td>
      </tr>
      <tr>
        <td id="L2257" class="blob-num js-line-number" data-line-number="2257"></td>
        <td id="LC2257" class="blob-code js-file-line">       &quot;7anb6tOfhp076xufmZOHWQO68kqYPh3e82e3lbzZBz4Ahx2WxkPM6sndVmYNZscOOOIIuOceOPro\n&quot;,</td>
      </tr>
      <tr>
        <td id="L2258" class="blob-num js-line-number" data-line-number="2258"></td>
        <td id="LC2258" class="blob-code js-file-line">       &quot;8uUfegje9z544ok3j4uYFXO3lVkL+9a34LzzKkscACefDKedBt//fm3jMivkKw+zBrJzZ+qGuvNO\n&quot;,</td>
      </tr>
      <tr>
        <td id="L2259" class="blob-num js-line-number" data-line-number="2259"></td>
        <td id="LC2259" class="blob-code js-file-line">       &quot;eMc7Kq/X0QF/+Zfwu9/BPv5KaHvhKw+zFnXrrXDkkX1LHABnnw377w933VWbuMyKOXmYNZBrr4X/\n&quot;,</td>
      </tr>
      <tr>
        <td id="L2260" class="blob-num js-line-number" data-line-number="2260"></td>
        <td id="LC2260" class="blob-code js-file-line">       &quot;8T/6Xk+C+fPTTHSzenC3lVmD2Lgx3WG1aRPst1/f62/fDpMmpYHzgw6qenjWAtxtZdaCfvQjuPji\n&quot;,</td>
      </tr>
      <tr>
        <td id="L2261" class="blob-num js-line-number" data-line-number="2261"></td>
        <td id="LC2261" class="blob-code js-file-line">       &quot;/iUOgLY2mDMnnces1pw8zBrEjTem5DEQ8+b5riurDycPswawejU89xzMnDmw85x7buq22rSpfFmz\n&quot;,</td>
      </tr>
      <tr>
        <td id="L2262" class="blob-num js-line-number" data-line-number="2262"></td>
        <td id="LC2262" class="blob-code js-file-line">       &quot;gXDyMGsAN92UrjoGepvtsGHwX/4L/PSn1YnLbG+cPMwawM03w4c+VL5cJT74Qfj3f6/Oucz2pmzy\n&quot;,</td>
      </tr>
      <tr>
        <td id="L2263" class="blob-num js-line-number" data-line-number="2263"></td>
        <td id="LC2263" class="blob-code js-file-line">       &quot;kDRb0lpJ6yVdtpcyV2XvPyJpWrm6kkZJWippnaS7JLVlx/eT9CNJj0paLWlBNRpp1sieeAKefz7N\n&quot;,</td>
      </tr>
      <tr>
        <td id="L2264" class="blob-num js-line-number" data-line-number="2264"></td>
        <td id="LC2264" class="blob-code js-file-line">       &quot;Eq+GWbNg1SrYurU65zPrTcnkIWkIcDUwGzgWmCtpalGZOcDkiJgCXAJcU0HdBcDSiDgKWJbtA3wY\n&quot;,</td>
      </tr>
      <tr>
        <td id="L2265" class="blob-num js-line-number" data-line-number="2265"></td>
        <td id="LC2265" class="blob-code js-file-line">       &quot;ICJOAE4B5ks6dKCNNGtkt92W1qaq1szwffeF974Xfvaz6pzPrDflfl2nA50R0RURO4EbgQuLylwA\n&quot;,</td>
      </tr>
      <tr>
        <td id="L2266" class="blob-num js-line-number" data-line-number="2266"></td>
        <td id="LC2266" class="blob-code js-file-line">       &quot;3AAQEcuBNkljytTdUyf7eVG2/RQwIks8I4A/AS/0t3FmzeBnP4P3v7+655wzB27/swdAm1VPueQx\n&quot;,</td>
      </tr>
      <tr>
        <td id="L2267" class="blob-num js-line-number" data-line-number="2267"></td>
        <td id="LC2267" class="blob-code js-file-line">       &quot;Hii8b2NzdqySMuNK1B0dEd3ZdjcwGiAi7iQli6eALuDrEbG9koaYNaMdO+D++8svvd5X730vLFvm\n&quot;,</td>
      </tr>
      <tr>
        <td id="L2268" class="blob-num js-line-number" data-line-number="2268"></td>
        <td id="LC2268" class="blob-code js-file-line">       &quot;53xY7ZR7hnml07grmbGo3s4XESEpACR9DNgfGAuMAn4taVlEbCyut7Dg2Zvt7e1+9rA1pZ//HN75\n&quot;,</td>
      </tr>
      <tr>
        <td id="L2269" class="blob-num js-line-number" data-line-number="2269"></td>
        <td id="LC2269" class="blob-code js-file-line">       &quot;Thg5srrnHT06rZF1333wrndV99zWPDo6Oujo6KjJucsljy3AxIL9iaQriFJlJmRlhvVyfEu23S1p\n&quot;,</td>
      </tr>
      <tr>
        <td id="L2270" class="blob-num js-line-number" data-line-number="2270"></td>
        <td id="LC2270" class="blob-code js-file-line">       &quot;TERslTQW2JYdPwP4j4jYDTwt6V7gVKBk8jBrVkuWpC6mWjj//NR15eQxeBV/sV60aFHVzl2u22oF\n&quot;,</td>
      </tr>
      <tr>
        <td id="L2271" class="blob-num js-line-number" data-line-number="2271"></td>
        <td id="LC2271" class="blob-code js-file-line">       &quot;MEXSJEnDgYuBxUVlFgOfAJA0A9iedUmVqrsYmJdtzwNuybbXAudm5xoBzADW9LNtZg1v2bJ0d1Qt\n&quot;,</td>
      </tr>
      <tr>
        <td id="L2272" class="blob-num js-line-number" data-line-number="2272"></td>
        <td id="LC2272" class="blob-code js-file-line">       &quot;9CQPs1ooeeUREbskXQrcCQwBro+INZLmZ+9fGxFLJM2R1Am8BHyyVN3s1FcAN0v6NGlso+cO92uB\n&quot;,</td>
      </tr>
      <tr>
        <td id="L2273" class="blob-num js-line-number" data-line-number="2273"></td>
        <td id="LC2273" class="blob-code js-file-line">       &quot;6yWtIiW270XEY1Vsr1nD2LgxPat86tTyZfvj9NPh97+H7u7UjWVWTV5V1ywn11+frjx++MPafcYF\n&quot;,</td>
      </tr>
      <tr>
        <td id="L2274" class="blob-num js-line-number" data-line-number="2274"></td>
        <td id="LC2274" class="blob-code js-file-line">       &quot;F8BHPzrwNbOsNXhVXbMWsGwZvPvdtf2Mc86Bu++u7WfY4OTkYZaDCPjFL9JChrXk5GG14uRhloPV\n&quot;,</td>
      </tr>
      <tr>
        <td id="L2275" class="blob-num js-line-number" data-line-number="2275"></td>
        <td id="LC2275" class="blob-code js-file-line">       &quot;q+GAA+Dww2v7OSecAM88A08+WdvPscHHycMsB/W46oC05MnZZ0ONbvW3QczJwywHd9+dupTqob3d\n&quot;,</td>
      </tr>
      <tr>
        <td id="L2276" class="blob-num js-line-number" data-line-number="2276"></td>
        <td id="LC2276" class="blob-code js-file-line">       &quot;XVdWfU4eZnUWAffcA2edVZ/P87iH1YKTh1mddXamlW8PrdN60ccdl5Z8f+qp+nyeDQ5OHmZ1ds89\n&quot;,</td>
      </tr>
      <tr>
        <td id="L2277" class="blob-num js-line-number" data-line-number="2277"></td>
        <td id="LC2277" class="blob-code js-file-line">       &quot;cOaZ9fu8ffZJ62f95jf1+0xrfU4eZnV2770Df1Z5X82cmT7XrFqcPMzqLI/kccYZvvKw6vLyJGZ1\n&quot;,</td>
      </tr>
      <tr>
        <td id="L2278" class="blob-num js-line-number" data-line-number="2278"></td>
        <td id="LC2278" class="blob-code js-file-line">       &quot;9Mwzaan0Z5+FoeXWtK6il1+GQw5Jn7///vX7XGssXp7ErEn95jdpwcJ6Jg5IExKPOw5WrKjv51rr\n&quot;,</td>
      </tr>
      <tr>
        <td id="L2279" class="blob-num js-line-number" data-line-number="2279"></td>
        <td id="LC2279" class="blob-code js-file-line">       &quot;cvIwq6M8uqx6eNzDqsnJw6yO7r23vndaFZo50+MeVj0e8zCrk9deg1Gj0vM1Djyw/p//5JNpraun\n&quot;,</td>
      </tr>
      <tr>
        <td id="L2280" class="blob-num js-line-number" data-line-number="2280"></td>
        <td id="LC2280" class="blob-code js-file-line">       &quot;nwZVpdfbmo3HPMya0KOPwuTJ+SQOgHHj0rPSH388n8+31lI2eUiaLWmtpPWSLttLmauy9x+RNK1c\n&quot;,</td>
      </tr>
      <tr>
        <td id="L2281" class="blob-num js-line-number" data-line-number="2281"></td>
        <td id="LC2281" class="blob-code js-file-line">       &quot;XUmjJC2VtE7SXZLasuMflfRwwWu3pBOq0VCzvD3wAEyfnm8Mp5+e4jAbqJLJQ9IQ4GpgNnAsMFfS\n&quot;,</td>
      </tr>
      <tr>
        <td id="L2282" class="blob-num js-line-number" data-line-number="2282"></td>
        <td id="LC2282" class="blob-code js-file-line">       &quot;1KIyc4DJETEFuAS4poK6C4ClEXEUsCzbJyJ+EBHTImIa8HFgQ0Q8WpWWmuWsEZLH9OlOHlYd5a48\n&quot;,</td>
      </tr>
      <tr>
        <td id="L2283" class="blob-num js-line-number" data-line-number="2283"></td>
        <td id="LC2283" class="blob-code js-file-line">       &quot;pgOdEdEVETuBG4ELi8pcANwAEBHLgTZJY8rU3VMn+3lRL5/9kayOWUtohORx2mnw4IP5xmCtoVzy\n&quot;,</td>
      </tr>
      <tr>
        <td id="L2284" class="blob-num js-line-number" data-line-number="2284"></td>
        <td id="LC2284" class="blob-code js-file-line">       &quot;GA9sKtjfnB2rpMy4EnVHR0R3tt0NjO7lsz8E/KhMfGZN4Y9/hE2b0lyLPJ18MqxalQbvzQai3FSl\n&quot;,</td>
      </tr>
      <tr>
        <td id="L2285" class="blob-num js-line-number" data-line-number="2285"></td>
        <td id="LC2285" class="blob-code js-file-line">       &quot;Sm9pqmT0Xr2dLyJC0puOSzodeDkiVu/tZAsXLtyz3d7eTnt7e4WhmtXfihUwbVr9JwcWGzECpkxJ\n&quot;,</td>
      </tr>
      <tr>
        <td id="L2286" class="blob-num js-line-number" data-line-number="2286"></td>
        <td id="LC2286" class="blob-code js-file-line">       &quot;g/ennZZvLFZ7HR0ddNToSWDlfpW3ABML9ieSriBKlZmQlRnWy/Et2Xa3pDERsVXSWGBb0Tk/DPyw\n&quot;,</td>
      </tr>
      <tr>
        <td id="L2287" class="blob-num js-line-number" data-line-number="2287"></td>
        <td id="LC2287" class="blob-code js-file-line">       &quot;VGCFycOs0TVCl1WPnq4rJ4/WV/zFetGiRVU7d7luqxXAFEmTJA0HLgYWF5VZDHwCQNIMYHvWJVWq\n&quot;,</td>
      </tr>
      <tr>
        <td id="L2288" class="blob-num js-line-number" data-line-number="2288"></td>
        <td id="LC2288" class="blob-code js-file-line">       &quot;7mJgXrY9D7il52SS9gH+HzzeYS3kwQcbJ3l40NyqoWTyiIhdwKXAncBq4KaIWCNpvqT5WZklwAZJ\n&quot;,</td>
      </tr>
      <tr>
        <td id="L2289" class="blob-num js-line-number" data-line-number="2289"></td>
        <td id="LC2289" class="blob-code js-file-line">       &quot;ncC1wGdK1c1OfQUwS9I64Nxsv8e7gD9ERFd1mmiWv0a68pg+3YPmNnCeYW5WY1u2wEknwbZtjTGz\n&quot;,</td>
      </tr>
      <tr>
        <td id="L2290" class="blob-num js-line-number" data-line-number="2290"></td>
        <td id="LC2290" class="blob-code js-file-line">       &quot;e+dOeNvb0ozzt7wl72isnjzD3KyJ9HRZNULiABg2DE48EX7727wjsWbm5GFWY43UZdXD8z1soJw8\n&quot;,</td>
      </tr>
      <tr>
        <td id="L2291" class="blob-num js-line-number" data-line-number="2291"></td>
        <td id="LC2291" class="blob-code js-file-line">       &quot;zGqsEZOHB81toJw8zGooIs3xOPXUvCN5MycPGygnD7Ma2rAhrWR7yCF5R/JmRx4JL7yQlmc36w8n\n&quot;,</td>
      </tr>
      <tr>
        <td id="L2292" class="blob-num js-line-number" data-line-number="2292"></td>
        <td id="LC2292" class="blob-code js-file-line">       &quot;D7MaevjhNLO80UgprocfzjsSa1ZOHmY19PDDaT2pRnTyyfDQQ3lHYc3KycOshhr1ygOcPGxgnDzM\n&quot;,</td>
      </tr>
      <tr>
        <td id="L2293" class="blob-num js-line-number" data-line-number="2293"></td>
        <td id="LC2293" class="blob-code js-file-line">       &quot;auihh5w8rDU5eZjVyFNPpdncEyeWL5uHo46CrVth+/a8I7Fm5ORhViM94x2NMrO82JAhaab5ypV5\n&quot;,</td>
      </tr>
      <tr>
        <td id="L2294" class="blob-num js-line-number" data-line-number="2294"></td>
        <td id="LC2294" class="blob-code js-file-line">       &quot;R2LNyMnDrEYaebyjxymnuOvK+sfJw6xGGnm8o8fJJ3uNK+sfJw+zGmmGKw8Pmlt/eUl2sxrYvj0N\n&quot;,</td>
      </tr>
      <tr>
        <td id="L2295" class="blob-num js-line-number" data-line-number="2295"></td>
        <td id="LC2295" class="blob-code js-file-line">       &quot;lG/fnsYWGtXOnfDWt6bl4g88MO9orNa8JLtZg1u5Ek44obETB6Tl2Y8/Hh55JO9IrNmUTR6SZkta\n&quot;,</td>
      </tr>
      <tr>
        <td id="L2296" class="blob-num js-line-number" data-line-number="2296"></td>
        <td id="LC2296" class="blob-code js-file-line">       &quot;K2m9pMv2Uuaq7P1HJE0rV1fSKElLJa2TdJektoL3TpB0n6THJD0qad+BNtKs3pqhy6qHu66sP0om\n&quot;,</td>
      </tr>
      <tr>
        <td id="L2297" class="blob-num js-line-number" data-line-number="2297"></td>
        <td id="LC2297" class="blob-code js-file-line">       &quot;D0lDgKuB2cCxwFxJU4vKzAEmR8QU4BLgmgrqLgCWRsRRwLJsH0lDge8Dl0TE8cDZwM4qtNOsrpph\n&quot;,</td>
      </tr>
      <tr>
        <td id="L2298" class="blob-num js-line-number" data-line-number="2298"></td>
        <td id="LC2298" class="blob-code js-file-line">       &quot;sLyHk4f1R7krj+lAZ0R0RcRO4EbgwqIyFwA3AETEcqBN0pgydffUyX5elG2fBzwaEauy8z0fEa/3\n&quot;,</td>
      </tr>
      <tr>
        <td id="L2299" class="blob-num js-line-number" data-line-number="2299"></td>
        <td id="LC2299" class="blob-code js-file-line">       &quot;u3VmOWnkNa2K+XZd649yyWM8sKlgf3N2rJIy40rUHR0R3dl2NzA62z4KCEl3SPqtpC9W1AqzBvLK\n&quot;,</td>
      </tr>
      <tr>
        <td id="L2300" class="blob-num js-line-number" data-line-number="2300"></td>
        <td id="LC2300" class="blob-code js-file-line">       &quot;K2kp9uOOyzuSyhx/PKxfD6++mnck1kyGlnm/0luaKhm9V2/ni4iQ1HN8KHAmcCrwCrBM0m8j4hfF\n&quot;,</td>
      </tr>
      <tr>
        <td id="L2301" class="blob-num js-line-number" data-line-number="2301"></td>
        <td id="LC2301" class="blob-code js-file-line">       &quot;9RYuXLhnu729nfb29gpDNautVavg6KNh+PC8I6nMvvumeB99tPGeeGgD09HRQUdHR03OXS55bAEK\n&quot;,</td>
      </tr>
      <tr>
        <td id="L2302" class="blob-num js-line-number" data-line-number="2302"></td>
        <td id="LC2302" class="blob-code js-file-line">       &quot;V+aZSLqCKFVmQlZmWC/Ht2Tb3ZLGRMRWSWOBbdnxTcCvIuI5AElLgJOBksnDrJE003hHj55xDyeP\n&quot;,</td>
      </tr>
      <tr>
        <td id="L2303" class="blob-num js-line-number" data-line-number="2303"></td>
        <td id="LC2303" class="blob-code js-file-line">       &quot;1lL8xXrRokVVO3e5bqsVwBRJkyQNBy4GFheVWQx8AkDSDGB71iVVqu5iYF62PQ+4Jdu+C3iHpP2z\n&quot;,</td>
      </tr>
      <tr>
        <td id="L2304" class="blob-num js-line-number" data-line-number="2304"></td>
        <td id="LC2304" class="blob-code js-file-line">       &quot;wfOzgd/1u3VmOWim8Y4efjCU9VXJ5BERu4BLgTuB1cBNEbFG0nxJ87MyS4ANkjqBa4HPlKqbnfoK\n&quot;,</td>
      </tr>
      <tr>
        <td id="L2305" class="blob-num js-line-number" data-line-number="2305"></td>
        <td id="LC2305" class="blob-code js-file-line">       &quot;YJakdcC52T4R8TxwJfAg8DDw24i4vYrtNau5ZrpNt4fvuLK+8gxzsyrauRPa2qC7u7lmbL/4Iowe\n&quot;,</td>
      </tr>
      <tr>
        <td id="L2306" class="blob-num js-line-number" data-line-number="2306"></td>
        <td id="LC2306" class="blob-code js-file-line">       &quot;nWbEDxuWdzRWK55hbtag1q6FCROaK3FAivfQQ2HNmvJlzcDJw6yqmnG8o4fHPawvnDzMqqgZxzt6\n&quot;,</td>
      </tr>
      <tr>
        <td id="L2307" class="blob-num js-line-number" data-line-number="2307"></td>
        <td id="LC2307" class="blob-code js-file-line">       &quot;eNzD+sLJw6yKmjl5+MrD+sID5mZV8vrr8La3wRNPwMEH5x1N3z33HEyalAbN9/HXypbkAXOzBrRx\n&quot;,</td>
      </tr>
      <tr>
        <td id="L2308" class="blob-num js-line-number" data-line-number="2308"></td>
        <td id="LC2308" class="blob-code js-file-line">       &quot;Y3o2RjMmDoBRo9LriSfyjsSagZOHWZU0c5dVD497WKWcPMyqpBWSh8c9rFJOHmZV0oxrWhXzlYdV\n&quot;,</td>
      </tr>
      <tr>
        <td id="L2309" class="blob-num js-line-number" data-line-number="2309"></td>
        <td id="LC2309" class="blob-code js-file-line">       &quot;ysnDrEqaeY5Hj54rD9+PYuU4eZhVwVNPwa5daXZ5Mxs7Nt1ptbl47WyzIk4eZlXQM96hqtwEmR8p\n&quot;,</td>
      </tr>
      <tr>
        <td id="L2310" class="blob-num js-line-number" data-line-number="2310"></td>
        <td id="LC2310" class="blob-code js-file-line">       &quot;XT153MPKcfIwq4JWGO/oMW2axz2sPCcPsypohfGOHr7ysEo4eZhVQSvcptvDt+taJcomD0mzJa2V\n&quot;,</td>
      </tr>
      <tr>
        <td id="L2311" class="blob-num js-line-number" data-line-number="2311"></td>
        <td id="LC2311" class="blob-code js-file-line">       &quot;tF7SZXspc1X2/iOSppWrK2mUpKWS1km6S1JbdnySpFckPZy9vl2NRprV0vPPw9NPw5QpeUdSHUcc\n&quot;,</td>
      </tr>
      <tr>
        <td id="L2312" class="blob-num js-line-number" data-line-number="2312"></td>
        <td id="LC2312" class="blob-code js-file-line">       &quot;AS+8AM88k3ck1shKJg9JQ4CrgdnAscBcSVOLyswBJkfEFOAS4JoK6i4AlkbEUcCybL9HZ0RMy16f\n&quot;,</td>
      </tr>
      <tr>
        <td id="L2313" class="blob-num js-line-number" data-line-number="2313"></td>
        <td id="LC2313" class="blob-code js-file-line">       &quot;GWgDzWpt5Uo44YTWWQ9KgpNO8tWHlVbu13066Y95V0TsBG4ELiwqcwFwA0BELAfaJI0pU3dPnezn\n&quot;,</td>
      </tr>
      <tr>
        <td id="L2314" class="blob-num js-line-number" data-line-number="2314"></td>
        <td id="LC2314" class="blob-code js-file-line">       &quot;RQNuiVlOWmm8o4cnC1o55ZLHeGBTwf7m7FglZcaVqDs6Irqz7W5gdEG5w7Muqw5JZ5Zvglm+Wmm8\n&quot;,</td>
      </tr>
      <tr>
        <td id="L2315" class="blob-num js-line-number" data-line-number="2315"></td>
        <td id="LC2315" class="blob-code js-file-line">       &quot;o4fHPayccsmj0nmmldzdrt7Ol62t3nP8SWBiREwDPg/8UNLICmMwy0UrJg9feVg5Q8u8vwWYWLA/\n&quot;,</td>
      </tr>
      <tr>
        <td id="L2316" class="blob-num js-line-number" data-line-number="2316"></td>
        <td id="LC2316" class="blob-code js-file-line">       &quot;kXQFUarMhKzMsF6Ob8m2uyWNiYitksYC2wAi4k/An7LthyQ9AUwB/uzXeOHChXu229vbaW9vL9MU\n&quot;,</td>
      </tr>
      <tr>
        <td id="L2317" class="blob-num js-line-number" data-line-number="2317"></td>
        <td id="LC2317" class="blob-code js-file-line">       &quot;s+p7+WXYsAGOOy7vSKrr6KNhy5Y0cP6Wt+QdjfVXR0cHHR0dNTl3yYdBSRoKPA68m3RV8AAwNyLW\n&quot;,</td>
      </tr>
      <tr>
        <td id="L2318" class="blob-num js-line-number" data-line-number="2318"></td>
        <td id="LC2318" class="blob-code js-file-line">       &quot;FJSZA1waEXMkzQC+GREzStWV9DXg2Yj4qqQFQFtELJB0MPB8ROyWdATwK+D4iNheFJcfBmUNYfly\n&quot;,</td>
      </tr>
      <tr>
        <td id="L2319" class="blob-num js-line-number" data-line-number="2319"></td>
        <td id="LC2319" class="blob-code js-file-line">       &quot;+Mu/bM1v6TNmwNe/DmedlXckVi3VfBhUySuPiNgl6VLgTmAIcH32x39+9v61EbFE0hxJncBLwCdL\n&quot;,</td>
      </tr>
      <tr>
        <td id="L2320" class="blob-num js-line-number" data-line-number="2320"></td>
        <td id="LC2320" class="blob-code js-file-line">       &quot;1c1OfQVws6RPA13Ah7Lj7wK+LGkn8DowvzhxmDWShx5qvcHyHj3jHk4e1hs/htZsAC65BE48Ef7q\n&quot;,</td>
      </tr>
      <tr>
        <td id="L2321" class="blob-num js-line-number" data-line-number="2321"></td>
        <td id="LC2321" class="blob-code js-file-line">       &quot;r/KOpPquuw7uvRf+7d/yjsSqxY+hNWsQg+HKw6w3vvIw66edO9Mzy59+GkaMyDua6nv11fRM8+ee\n&quot;,</td>
      </tr>
      <tr>
        <td id="L2322" class="blob-num js-line-number" data-line-number="2322"></td>
        <td id="LC2322" class="blob-code js-file-line">       &quot;g/32yzsaqwZfeZg1gNWr4bDDWjNxQEoYU6bAY4/lHYk1IicPs35qxZnlxTzfw/bGycOsn1pxcmAx\n&quot;,</td>
      </tr>
      <tr>
        <td id="L2323" class="blob-num js-line-number" data-line-number="2323"></td>
        <td id="LC2323" class="blob-code js-file-line">       &quot;j3vY3jh5mPVTKw+W9/CDoWxvPGBu1g+vvw5tbdDVlQaVW9WOHTBmDPzxjzC03HoU1vA8YG6Ws85O\n&quot;,</td>
      </tr>
      <tr>
        <td id="L2324" class="blob-num js-line-number" data-line-number="2324"></td>
        <td id="LC2324" class="blob-code js-file-line">       &quot;OOig1k4cACNHwvjxsHZt3pFYo3HyMOuHwTDe0cOPpbXeOHmY9cNgGO/o4XEP642Th1k/+MrDBjsP\n&quot;,</td>
      </tr>
      <tr>
        <td id="L2325" class="blob-num js-line-number" data-line-number="2325"></td>
        <td id="LC2325" class="blob-code js-file-line">       &quot;mJv1UQQccgisWgVjx+YdTe098wwceWR6VnurPGp3sPKAuVmONm9Odx4NhsQBcPDBaRmWjRvzjsQa\n&quot;,</td>
      </tr>
      <tr>
        <td id="L2326" class="blob-num js-line-number" data-line-number="2326"></td>
        <td id="LC2326" class="blob-code js-file-line">       &quot;iZOHWR899NDg6bLq4XEPK+bkYdZHg2FZkmIe97BiTh5mfTRYrzycPKxQ2eQhabaktZLWS7psL2Wu\n&quot;,</td>
      </tr>
      <tr>
        <td id="L2327" class="blob-num js-line-number" data-line-number="2327"></td>
        <td id="LC2327" class="blob-code js-file-line">       &quot;yt5/RNK0cnUljZK0VNI6SXdJais636GSXpT0hYE0zqwWBtOdVj16Fkj0fSrWo2TykDQEuBqYDRwL\n&quot;,</td>
      </tr>
      <tr>
        <td id="L2328" class="blob-num js-line-number" data-line-number="2328"></td>
        <td id="LC2328" class="blob-code js-file-line">       &quot;zJU0tajMHGByREwBLgGuqaDuAmBpRBwFLMv2C10J3DaAdpnVRHc3vPgiHHFE3pHU1/jxaUmWp57K\n&quot;,</td>
      </tr>
      <tr>
        <td id="L2329" class="blob-num js-line-number" data-line-number="2329"></td>
        <td id="LC2329" class="blob-code js-file-line">       &quot;OxJrFOWuPKYDnRHRFRE7gRuBC4vKXADcABARy4E2SWPK1N1TJ/t5Uc/JJF0EbABW97tVZjWyYgWc\n&quot;,</td>
      </tr>
      <tr>
        <td id="L2330" class="blob-num js-line-number" data-line-number="2330"></td>
        <td id="LC2330" class="blob-code js-file-line">       &quot;eiqoKjc7Ng/Jy7Pbm5VLHuOBTQX7m7NjlZQZV6Lu6Ijozra7gdEAkg4EvgQsrCx8s/pasQJOOy3v\n&quot;,</td>
      </tr>
      <tr>
        <td id="L2331" class="blob-num js-line-number" data-line-number="2331"></td>
        <td id="LC2331" class="blob-code js-file-line">       &quot;KPLhcQ8rVC55VNrDWcn3MPV2vmy2X8/xhcA/RsTLFZ7TrK4efDBdeQxGvvKwQuUWWd4CTCzYn0i6\n&quot;,</td>
      </tr>
      <tr>
        <td id="L2332" class="blob-num js-line-number" data-line-number="2332"></td>
        <td id="LC2332" class="blob-code js-file-line">       &quot;gihVZkJWZlgvx7dk292SxkTEVkljgW3Z8enAByV9DWgDXpf0SkR8uziwhQsX7tlub2+nvb29TFPM\n&quot;,</td>
      </tr>
      <tr>
        <td id="L2333" class="blob-num js-line-number" data-line-number="2333"></td>
        <td id="LC2333" class="blob-code js-file-line">       &quot;BiYiXXlcc03ekeRj2jT40pfyjsL6oqOjg46Ojpqcu+TyJJKGAo8D7waeBB4A5kbEmoIyc4BLI2KO\n&quot;,</td>
      </tr>
      <tr>
        <td id="L2334" class="blob-num js-line-number" data-line-number="2334"></td>
        <td id="LC2334" class="blob-code js-file-line">       &quot;pBnANyNiRqm6WXJ4NiK+KmkB0BYRC4o++3JgR0Rc2UtcXp7E6m7TpnTVsXXr4BvzgDeeYbJxY1qO\n&quot;,</td>
      </tr>
      <tr>
        <td id="L2335" class="blob-num js-line-number" data-line-number="2335"></td>
        <td id="LC2335" class="blob-code js-file-line">       &quot;3ppP3ZYniYhdwKXAnaQB7JuyP/7zJc3PyiwBNkjqBK4FPlOqbnbqK4BZktYB52b7Zg2tZ7xjMCYO\n&quot;,</td>
      </tr>
      <tr>
        <td id="L2336" class="blob-num js-line-number" data-line-number="2336"></td>
        <td id="LC2336" class="blob-code js-file-line">       &quot;SOtanXQSrFyZdyTWCLwwolmF/u7vYNgwKOgxHXQ+9zmYMAG++MW8I7H+8MKIZjkYzIPlPbxMifVw\n&quot;,</td>
      </tr>
      <tr>
        <td id="L2337" class="blob-num js-line-number" data-line-number="2337"></td>
        <td id="LC2337" class="blob-code js-file-line">       &quot;8jCrQM9guZMH/Pa3eUdhjcDJw6wCGzbAiBEwZkzekeTr2GPhySfTsz1scHPyMKvAYJ4cWGjIkHT1\n&quot;,</td>
      </tr>
      <tr>
        <td id="L2338" class="blob-num js-line-number" data-line-number="2338"></td>
        <td id="LC2338" class="blob-code js-file-line">       &quot;8eCDeUdieXPyMKuAxzvecPrpsHx53lFY3pw8zCrgK483OHkY+FZds7J6Jsd1dcGoUXlHk7/Nm1PX\n&quot;,</td>
      </tr>
      <tr>
        <td id="L2339" class="blob-num js-line-number" data-line-number="2339"></td>
        <td id="LC2339" class="blob-code js-file-line">       &quot;VXf34J3z0qx8q65ZHa1dC4cc4sTRY8KENN+lqyvvSCxPTh5mZdx/P7zznXlH0VimT3fX1WDn5GFW\n&quot;,</td>
      </tr>
      <tr>
        <td id="L2340" class="blob-num js-line-number" data-line-number="2340"></td>
        <td id="LC2340" class="blob-code js-file-line">       &quot;xv33w4wZeUfRWDzuYU4eZmXcd5+TRzEnD/OAuVkJL7wA48alSXHDhuUdTePYsSNNmHz+eRg+PO9o\n&quot;,</td>
      </tr>
      <tr>
        <td id="L2341" class="blob-num js-line-number" data-line-number="2341"></td>
        <td id="LC2341" class="blob-code js-file-line">       &quot;rFIeMDerkwcfTM+xcOJ4s5Ej03PcV63KOxLLi5OHWQnusto7D5oPbk4eZiX4Tqu987jH4ObkYbYX\n&quot;,</td>
      </tr>
      <tr>
        <td id="L2342" class="blob-num js-line-number" data-line-number="2342"></td>
        <td id="LC2342" class="blob-code js-file-line">       &quot;Eb7TqhQnj8GtbPKQNFvSWknrJV22lzJXZe8/ImlaubqSRklaKmmdpLsktWXHp0t6OHs9KuniajTS\n&quot;,</td>
      </tr>
      <tr>
        <td id="L2343" class="blob-num js-line-number" data-line-number="2343"></td>
        <td id="LC2343" class="blob-code js-file-line">       &quot;rD86O+GAA9KAuf25445LK+w+91zekVgeSiYPSUOAq4HZwLHAXElTi8rMASZHxBTgEuCaCuouAJZG\n&quot;,</td>
      </tr>
      <tr>
        <td id="L2344" class="blob-num js-line-number" data-line-number="2344"></td>
        <td id="LC2344" class="blob-code js-file-line">       &quot;xFHAsmwfYBVwSkRMA84DvpWdx6zufNVR2tCh6erjN7/JOxLLQ7krj+lAZ0R0RcRO4EbgwqIyFwA3\n&quot;,</td>
      </tr>
      <tr>
        <td id="L2345" class="blob-num js-line-number" data-line-number="2345"></td>
        <td id="LC2345" class="blob-code js-file-line">       &quot;AETEcqBN0pgydffUyX5elNV/JSJez47vD/wxInb3u3VmA3DffR7vKOfMM+Gee/KOwvJQLnmMBzYV\n&quot;,</td>
      </tr>
      <tr>
        <td id="L2346" class="blob-num js-line-number" data-line-number="2346"></td>
        <td id="LC2346" class="blob-code js-file-line">       &quot;7G/OjlVSZlyJuqMjojvb7gZG9xTKuq5+B/wO+HwFbTCrCV95lDdzJtx7b95RWB6Glnm/0pl4lUw6\n&quot;,</td>
      </tr>
      <tr>
        <td id="L2347" class="blob-num js-line-number" data-line-number="2347"></td>
        <td id="LC2347" class="blob-code js-file-line">       &quot;UW/ni4iQFAX7DwDHSToGuENSR0T8sbjewoUL92y3t7fT3t5eYahm5e3YAY8/nuZ42N6dfnp6pvmr\n&quot;,</td>
      </tr>
      <tr>
        <td id="L2348" class="blob-num js-line-number" data-line-number="2348"></td>
        <td id="LC2348" class="blob-code js-file-line">       &quot;r8J+++UdjRXr6Oigo6OjJuculzy2ABML9ieSriBKlZmQlRnWy/Et2Xa3pDERsVXSWGBb8QdHxFpJ\n&quot;,</td>
      </tr>
      <tr>
        <td id="L2349" class="blob-num js-line-number" data-line-number="2349"></td>
        <td id="LC2349" class="blob-code js-file-line">       &quot;TwCTgT97anJh8jCrtvvug1NO8R/EckaOhKOPTs81nzkz72isWPEX60WLFlXt3OW6rVYAUyRNkjQc\n&quot;,</td>
      </tr>
      <tr>
        <td id="L2350" class="blob-num js-line-number" data-line-number="2350"></td>
        <td id="LC2350" class="blob-code js-file-line">       &quot;uBhYXFRmMfAJAEkzgO1Zl1SpuouBedn2POCWrP4kSUOz7cOAKcD6AbTPrF9+/Ws466y8o2gOZ57p\n&quot;,</td>
      </tr>
      <tr>
        <td id="L2351" class="blob-num js-line-number" data-line-number="2351"></td>
        <td id="LC2351" class="blob-code js-file-line">       &quot;rqvBqGTyiIhdwKXAncBq4KaIWCNpvqT5WZklwAZJncC1wGdK1c1OfQUwS9I64NxsH+BMYKWkh4Ef\n&quot;,</td>
      </tr>
      <tr>
        <td id="L2352" class="blob-num js-line-number" data-line-number="2352"></td>
        <td id="LC2352" class="blob-code js-file-line">       &quot;A5dExAtVa61ZhX71KyePSs2c6UHzwcgLI5oVee01OOigNIfhLW/JO5rGt2ULnHgibNsG+3jacUPz\n&quot;,</td>
      </tr>
      <tr>
        <td id="L2353" class="blob-num js-line-number" data-line-number="2353"></td>
        <td id="LC2353" class="blob-code js-file-line">       &quot;wohmNbRiRerHd+KozPjxaezj8cfzjsTqycnDrIjHO/rO4x6Dj5OHWREnj76bOTP9d7PBw2MeZgV2\n&quot;,</td>
      </tr>
      <tr>
        <td id="L2354" class="blob-num js-line-number" data-line-number="2354"></td>
        <td id="LC2354" class="blob-code js-file-line">       &quot;74aDD4a1a2H06PLlLVmzBs4/H7q68o7ESvGYh1mNPPYYvP3tThx9dcwx6UaDjRvzjsTqxcnDrIBv\n&quot;,</td>
      </tr>
      <tr>
        <td id="L2355" class="blob-num js-line-number" data-line-number="2355"></td>
        <td id="LC2355" class="blob-code js-file-line">       &quot;0e0fCc45B37xi7wjsXpx8jArsGwZnHtu3lE0p3POgbvvzjsKqxePeZhlesY71qyBMWPyjqb5PPFE\n&quot;,</td>
      </tr>
      <tr>
        <td id="L2356" class="blob-num js-line-number" data-line-number="2356"></td>
        <td id="LC2356" class="blob-code js-file-line">       &quot;umrbsiVdiVjj8ZiHWQ089FCas+DE0T9HHJGe8bFuXd6RWD04eZhlli2Dd7877yial5S6/Nx1NTg4\n&quot;,</td>
      </tr>
      <tr>
        <td id="L2357" class="blob-num js-line-number" data-line-number="2357"></td>
        <td id="LC2357" class="blob-code js-file-line">       &quot;eZhlnDwGzoPmg4fHPMxIz6M45BDYvBne+ta8o2lef/gDnHoqdHd73KMReczDrMruuw+OO86JY6AO\n&quot;,</td>
      </tr>
      <tr>
        <td id="L2358" class="blob-num js-line-number" data-line-number="2358"></td>
        <td id="LC2358" class="blob-code js-file-line">       &quot;PTStCfbYY3lHYrXm5GGGu6yq6bzz4M47847Cas3Jwwwnj2qaPRvuuCPvKKzWPOZhg94zz8CRR6bn\n&quot;,</td>
      </tr>
      <tr>
        <td id="L2359" class="blob-num js-line-number" data-line-number="2359"></td>
        <td id="LC2359" class="blob-code js-file-line">       &quot;Uey7b97RNL8dO2DcOHjqKTjwwLyjsUJ1H/OQNFvSWknrJV22lzJXZe8/ImlaubqSRklaKmmdpLsk\n&quot;,</td>
      </tr>
      <tr>
        <td id="L2360" class="blob-num js-line-number" data-line-number="2360"></td>
        <td id="LC2360" class="blob-code js-file-line">       &quot;tWXHZ0laIenR7Oc5A22kWSl33ZXuEnLiqI6RI2H6dOjoyDsSq6WyyUPSEOBqYDZwLDBX0tSiMnOA\n&quot;,</td>
      </tr>
      <tr>
        <td id="L2361" class="blob-num js-line-number" data-line-number="2361"></td>
        <td id="LC2361" class="blob-code js-file-line">       &quot;yRExBbgEuKaCuguApRFxFLAs2wd4Gnh/RJxAer759wfUQrMyliyBOXPyjqK1uOuq9VVy5TEd6IyI\n&quot;,</td>
      </tr>
      <tr>
        <td id="L2362" class="blob-num js-line-number" data-line-number="2362"></td>
        <td id="LC2362" class="blob-code js-file-line">       &quot;rojYCdwIXFhU5gLgBoCIWA60SRpTpu6eOtnPi7L6KyNia3Z8NbC/pGH9ap1ZGbt3p8Hd88/PO5LW\n&quot;,</td>
      </tr>
      <tr>
        <td id="L2363" class="blob-num js-line-number" data-line-number="2363"></td>
        <td id="LC2363" class="blob-code js-file-line">       &quot;Mns23H47uHe5dVWSPMYDmwr2N2fHKikzrkTd0RHRnW13A70tgv1B4LdZ4jGruhUr0nIkEyfmHUlr\n&quot;,</td>
      </tr>
      <tr>
        <td id="L2364" class="blob-num js-line-number" data-line-number="2364"></td>
        <td id="LC2364" class="blob-code js-file-line">       &quot;Of74NHemszPvSKxWhlZQptLvDpUMwqi380VESHrTcUnHAVcAs3o70cKFC/dst7e3097eXmGYZm9Y\n&quot;,</td>
      </tr>
      <tr>
        <td id="L2365" class="blob-num js-line-number" data-line-number="2365"></td>
        <td id="LC2365" class="blob-code js-file-line">       &quot;ssRXHbUgvXH1MWVK3tEMXh0dHXTUaPCpkuSxBSj8XjaRdAVRqsyErMywXo5vyba7JY2JiK2SxgLb\n&quot;,</td>
      </tr>
      <tr>
        <td id="L2366" class="blob-num js-line-number" data-line-number="2366"></td>
        <td id="LC2366" class="blob-code js-file-line">       &quot;egpJmgD8FPh4RPT6eJnC5GHWX7ffDl/7Wt5RtKb3vQ++8x347GfzjmTwKv5ivWjRoqqdu5JuqxXA\n&quot;,</td>
      </tr>
      <tr>
        <td id="L2367" class="blob-num js-line-number" data-line-number="2367"></td>
        <td id="LC2367" class="blob-code js-file-line">       &quot;FEmTJA0HLgYWF5VZDHwCQNIMYHvWJVWq7mLSgDjZz1uy+m3AbcBlEXFfv1tmVsZTT8H69XDGGXlH\n&quot;,</td>
      </tr>
      <tr>
        <td id="L2368" class="blob-num js-line-number" data-line-number="2368"></td>
        <td id="LC2368" class="blob-code js-file-line">       &quot;0pre+164/37Yvj3vSKwWyiaPiNgFXArcSRrAviki1kiaL2l+VmYJsEFSJ3At8JlSdbNTXwHMkrQO\n&quot;,</td>
      </tr>
      <tr>
        <td id="L2369" class="blob-num js-line-number" data-line-number="2369"></td>
        <td id="LC2369" class="blob-code js-file-line">       &quot;ODfbJyt/JHC5pIez18HVaa7ZG/7zP9NdVsOH5x1JaxoxAtrb4bbb8o7EasGTBG3QOu88mD8fPvjB\n&quot;,</td>
      </tr>
      <tr>
        <td id="L2370" class="blob-num js-line-number" data-line-number="2370"></td>
        <td id="LC2370" class="blob-code js-file-line">       &quot;vCNpXf/6r2lc6cc/zjsSg+pOEnTysEHp+efhsMNS19WIEXlH07qefhomT06r7O63X97RmFfVNRug\n&quot;,</td>
      </tr>
      <tr>
        <td id="L2371" class="blob-num js-line-number" data-line-number="2371"></td>
        <td id="LC2371" class="blob-code js-file-line">       &quot;n/0sPbjIiaO2DjkETjoprR1mrcXJwwaln/4UPvCBvKMYHC66CP7jP/KOwqrN3VY26Lz0Ulq4b+NG\n&quot;,</td>
      </tr>
      <tr>
        <td id="L2372" class="blob-num js-line-number" data-line-number="2372"></td>
        <td id="LC2372" class="blob-code js-file-line">       &quot;GDUq72haX1cXnHYaPPkkDPNaEblyt5XZANx6K8yY4cRRL5MmwVFHwdKleUdi1eTkYYPOD34AH/1o\n&quot;,</td>
      </tr>
      <tr>
        <td id="L2373" class="blob-num js-line-number" data-line-number="2373"></td>
        <td id="LC2373" class="blob-code js-file-line">       &quot;3lEMLnPnwg9/mHcUVk3utrJB5dln4Ygj0rPKR47MO5rBo7sbjj46dV0dcEDe0Qxe7rYy66cf/zit\n&quot;,</td>
      </tr>
      <tr>
        <td id="L2374" class="blob-num js-line-number" data-line-number="2374"></td>
        <td id="LC2374" class="blob-code js-file-line">       &quot;ZeXEUV+jR6euwltvzTsSqxYnDxtUfvAD+MhH8o5icHLXVWtxt5UNGl1dcOqpqevES5LU3wsvwKGH\n&quot;,</td>
      </tr>
      <tr>
        <td id="L2375" class="blob-num js-line-number" data-line-number="2375"></td>
        <td id="LC2375" class="blob-code js-file-line">       &quot;wrp18Pa35x3N4ORuK7N++N730rdfJ458vOUtcOGF8H0/G7Ql+MrDBoVdu9Ito7ffDu94R97RDF73\n&quot;,</td>
      </tr>
      <tr>
        <td id="L2376" class="blob-num js-line-number" data-line-number="2376"></td>
        <td id="LC2376" class="blob-code js-file-line">       &quot;3AP//b/DmjXpmR9WX77yMOuj22+HCROcOPI2c2ZKGvfck3ckNlBOHjYoXHcdXHJJ3lGYlK48rrsu\n&quot;,</td>
      </tr>
      <tr>
        <td id="L2377" class="blob-num js-line-number" data-line-number="2377"></td>
        <td id="LC2377" class="blob-code js-file-line">       &quot;70hsoNxtZS1v82Y44QTYtMkLITaCp59Oj6Z94gk46KC8oxlc3G1l1gdXXw0f+5gTR6M45JC0WOK/\n&quot;,</td>
      </tr>
      <tr>
        <td id="L2378" class="blob-num js-line-number" data-line-number="2378"></td>
        <td id="LC2378" class="blob-code js-file-line">       &quot;/EvekdhAVJQ8JM2WtFbSekmX7aXMVdn7j0iaVq6upFGSlkpaJ+mu7PGzPcfvlrRD0j8PtIE2uL34\n&quot;,</td>
      </tr>
      <tr>
        <td id="L2379" class="blob-num js-line-number" data-line-number="2379"></td>
        <td id="LC2379" class="blob-code js-file-line">       &quot;Inz3u/DXf513JFbof/2vlNT/9Ke8I7H+Kps8JA0BrgZmA8cCcyVNLSozB5gcEVOAS4BrKqi7AFga\n&quot;,</td>
      </tr>
      <tr>
        <td id="L2380" class="blob-num js-line-number" data-line-number="2380"></td>
        <td id="LC2380" class="blob-code js-file-line">       &quot;EUcBy7J9gFeBvwf+v4E1zQz+7d/g7LPTkiTWOE48EY45Bm66Ke9IrL8qufKYDnRGRFdE7ARuBC4s\n&quot;,</td>
      </tr>
      <tr>
        <td id="L2381" class="blob-num js-line-number" data-line-number="2381"></td>
        <td id="LC2381" class="blob-code js-file-line">       &quot;KnMBcANARCwH2iSNKVN3T53s50VZ/Zcj4l7gtf43ywx274ZvfhO+8IW8I7HefP7zcOWV4OHL5lRJ\n&quot;,</td>
      </tr>
      <tr>
        <td id="L2382" class="blob-num js-line-number" data-line-number="2382"></td>
        <td id="LC2382" class="blob-code js-file-line">       &quot;8hgPbCrY35wdq6TMuBJ1R0dEd7bdDYwuOqd/pWxAfvzj1L/+znfmHYn15vzzYedOuOOOvCOx/hha\n&quot;,</td>
      </tr>
      <tr>
        <td id="L2383" class="blob-num js-line-number" data-line-number="2383"></td>
        <td id="LC2383" class="blob-code js-file-line">       &quot;QZlK/4hXMoKv3s4XESGpT8li4cKFe7bb29tpb2/vS3Vrcbt3w6JF6crDk9Ea0z77wP/+33D55TB7\n&quot;,</td>
      </tr>
      <tr>
        <td id="L2384" class="blob-num js-line-number" data-line-number="2384"></td>
        <td id="LC2384" class="blob-code js-file-line">       &quot;tv+daqGjo4OOjo6anLuS5LEFmFiwP5F0BVGqzISszLBejm/JtrsljYmIrZLGAtv6Enhh8jArdvPN\n&quot;,</td>
      </tr>
      <tr>
        <td id="L2385" class="blob-num js-line-number" data-line-number="2385"></td>
        <td id="LC2385" class="blob-code js-file-line">       &quot;8La3wXnn5R2JlfLf/hv8n/8DS5bA+96XdzStp/iL9aJFi6p27kq6rVYAUyRNkjQcuBhYXFRmMfAJ\n&quot;,</td>
      </tr>
      <tr>
        <td id="L2386" class="blob-num js-line-number" data-line-number="2386"></td>
        <td id="LC2386" class="blob-code js-file-line">       &quot;AEkzgO0wYa4mAAAJnklEQVRZl1SpuouBedn2POCWonP6e4j1y65d8OUvpysPf5ttbPvsk648Lr/c\n&quot;,</td>
      </tr>
      <tr>
        <td id="L2387" class="blob-num js-line-number" data-line-number="2387"></td>
        <td id="LC2387" class="blob-code js-file-line">       &quot;Yx/NpmzyiIhdwKXAncBq4KaIWCNpvqT5WZklwAZJncC1wGdK1c1OfQUwS9I64NxsHwBJXcA/AP+v\n&quot;,</td>
      </tr>
      <tr>
        <td id="L2388" class="blob-num js-line-number" data-line-number="2388"></td>
        <td id="LC2388" class="blob-code js-file-line">       &quot;pD9IOqYajbXB4bvfhTFj4D3vyTsSq8R//a/w+utw4415R2J94Rnm1lK2b0+3gN5xB5x0Ut7RWKV+\n&quot;,</td>
      </tr>
      <tr>
        <td id="L2389" class="blob-num js-line-number" data-line-number="2389"></td>
        <td id="LC2389" class="blob-code js-file-line">       &quot;/ev0aOC1a/2kwVryDHOzvfjyl+GCC5w4ms1ZZ6W74r7+9bwjsUr5ysNaxiOPpK6qxx5Ljz215vL7\n&quot;,</td>
      </tr>
      <tr>
        <td id="L2390" class="blob-num js-line-number" data-line-number="2390"></td>
        <td id="LC2390" class="blob-code js-file-line">       &quot;38Mpp8Dy5XDkkXlH05p85WFWZNcu+NSn4KtfdeJoVocdBn/7t/DpT6cxEGtsTh7WEr7xjbRC6yc/\n&quot;,</td>
      </tr>
      <tr>
        <td id="L2391" class="blob-num js-line-number" data-line-number="2391"></td>
        <td id="LC2391" class="blob-code js-file-line">       &quot;mXckNhCf+1xa7+o738k7EivH3VbW9B58MM0ReOCB9LRAa25r16YxkF/9CqZOLV/eKuduK7PM9u1w\n&quot;,</td>
      </tr>
      <tr>
        <td id="L2392" class="blob-num js-line-number" data-line-number="2392"></td>
        <td id="LC2392" class="blob-code js-file-line">       &quot;8cVwzTVOHK3imGPgiivSBMKXXso7GtsbX3lY09q9Gz7wgZQ0rroq72ismiJSF+TOnfB//68ne1aL\n&quot;,</td>
      </tr>
      <tr>
        <td id="L2393" class="blob-num js-line-number" data-line-number="2393"></td>
        <td id="LC2393" class="blob-code js-file-line">       &quot;rzxs0ItIz4R48cU03mGtRYJvfxvWrQOvRNSYKlnbyqzhfOMb8ItfwD33wPDheUdjtXDAAXDbbXDG\n&quot;,</td>
      </tr>
      <tr>
        <td id="L2394" class="blob-num js-line-number" data-line-number="2394"></td>
        <td id="LC2394" class="blob-code js-file-line">       &quot;GTB+vJ9B32icPKzpfOMb6W6cu++Gtra8o7Faevvb02oB7e3pauQv/iLviKyHk4c1jYg0g/wHP4Bf\n&quot;,</td>
      </tr>
      <tr>
        <td id="L2395" class="blob-num js-line-number" data-line-number="2395"></td>
        <td id="LC2395" class="blob-code js-file-line">       &quot;/hImTMg7IquHyZOhoyNNAN2xI3VXegwkfx4wt6bwyitpEuATT8B//ieMHZt3RFZvf/hDeoDUzJnw\n&quot;,</td>
      </tr>
      <tr>
        <td id="L2396" class="blob-num js-line-number" data-line-number="2396"></td>
        <td id="LC2396" class="blob-code js-file-line">       &quot;z/8M++6bd0TNxwPmNqisWgUzZqRvm7/8pRPHYHXooXD//fDMM+m59OvX5x3R4ObkYQ3rtdfgK1+B\n&quot;,</td>
      </tr>
      <tr>
        <td id="L2397" class="blob-num js-line-number" data-line-number="2397"></td>
        <td id="LC2397" class="blob-code js-file-line">       &quot;c8+Fv/7r1F21//55R2V5GjkSfvITmDs3LaT4zW+mpWms/pw8rOHs3p2eBDh1avqm+cAD6Z5/93Mb\n&quot;,</td>
      </tr>
      <tr>
        <td id="L2398" class="blob-num js-line-number" data-line-number="2398"></td>
        <td id="LC2398" class="blob-code js-file-line">       &quot;pAdIfe5zcN99cOutcPzxqSvTPdn1VTZ5SJotaa2k9ZIu20uZq7L3H5E0rVxdSaMkLZW0TtJdktoK\n&quot;,</td>
      </tr>
      <tr>
        <td id="L2399" class="blob-num js-line-number" data-line-number="2399"></td>
        <td id="LC2399" class="blob-code js-file-line">       &quot;3vubrPxaSX6I6CCyY0e6i2rqVPiHf4Drrkt/FA4/PO/IrBFNmQI//zn84z+mZ6GfeCJ873vw6qt5\n&quot;,</td>
      </tr>
      <tr>
        <td id="L2400" class="blob-num js-line-number" data-line-number="2400"></td>
        <td id="LC2400" class="blob-code js-file-line">       &quot;RzY4lEwekoYAVwOzgWOBuZKmFpWZA0yOiCnAJcA1FdRdACyNiKOAZdk+ko4lPar22KzetyUNuquj\n&quot;,</td>
      </tr>
      <tr>
        <td id="L2401" class="blob-num js-line-number" data-line-number="2401"></td>
        <td id="LC2401" class="blob-code js-file-line">       &quot;Wj2wvlEUtm/HjpQgPvKRdPfU7benJwHefz+8+935xdhfg+nfrhFIaRB95cr0heMnP4Fx42DevPRc\n&quot;,</td>
      </tr>
      <tr>
        <td id="L2402" class="blob-num js-line-number" data-line-number="2402"></td>
        <td id="LC2402" class="blob-code js-file-line">       &quot;9Fde6dv5Gq19jazcH+bpQGdEdEXETuBG4MKiMhcANwBExHKgTdKYMnX31Ml+XpRtXwj8KCJ2RkQX\n&quot;,</td>
      </tr>
      <tr>
        <td id="L2403" class="blob-num js-line-number" data-line-number="2403"></td>
        <td id="LC2403" class="blob-code js-file-line">       &quot;0JmdZ1Bp1V/gCNi4Ea65poO///u0+N3YsfBP/5TuoOnsTInkXe9q3i6qVv2369Go7ZNg1qyUMB57\n&quot;,</td>
      </tr>
      <tr>
        <td id="L2404" class="blob-num js-line-number" data-line-number="2404"></td>
        <td id="LC2404" class="blob-code js-file-line">       &quot;LD0X5CtfgUMOgXPOSc+zv/XWdMdWqe6tRm1fIyo3z2M8sKlgfzNwegVlxgPjStQdHRHd2XY30PME\n&quot;,</td>
      </tr>
      <tr>
        <td id="L2405" class="blob-num js-line-number" data-line-number="2405"></td>
        <td id="LC2405" class="blob-code js-file-line">       &quot;hnHA/b2cyxpURBrYfukleP55ePZZeO659HrmmfSAn66ulDQ2bIADD4QRI+Doo+Hv/i4lCj921Kpp\n&quot;,</td>
      </tr>
      <tr>
        <td id="L2406" class="blob-num js-line-number" data-line-number="2406"></td>
        <td id="LC2406" class="blob-code js-file-line">       &quot;3Dj47GfTa8eOtArBL38J3/pWemDYq6+muSOHHZbWRTv00JRkRo2CJ59Mv6ttbenmjH33bd4vMrVW\n&quot;,</td>
      </tr>
      <tr>
        <td id="L2407" class="blob-num js-line-number" data-line-number="2407"></td>
        <td id="LC2407" class="blob-code js-file-line">       &quot;LnlUOgRVyX9e9Xa+iAhJpT6n1/fe//6e+oXnKr9drzoDqf+HP8DSpfX9zErKvfZa+h+v8PXaa+l/\n&quot;,</td>
      </tr>
      <tr>
        <td id="L2408" class="blob-num js-line-number" data-line-number="2408"></td>
        <td id="LC2408" class="blob-code js-file-line">       &quot;sP33T//zHXTQGz8POij9j3nGGWncYtKkdGzhQq9XZPUxcmTq1jr//DeObduWvsj8/vfptW5dGnx/\n&quot;,</td>
      </tr>
      <tr>
        <td id="L2409" class="blob-num js-line-number" data-line-number="2409"></td>
        <td id="LC2409" class="blob-code js-file-line">       &quot;9tl0W/jSpemL0CuvpIUZ99sv/X73vIYOhSFDSr/22Se9ihNPX/erVacmImKvL2AGcEfB/t8AlxWV\n&quot;,</td>
      </tr>
      <tr>
        <td id="L2410" class="blob-num js-line-number" data-line-number="2410"></td>
        <td id="LC2410" class="blob-code js-file-line">       &quot;+Q7w4YL9taQrib3WzcqMybbHAmuz7QXAgoI6dwCn9xJX+OWXX3751fdXqb/5fXmVu/JYAUyRNAl4\n&quot;,</td>
      </tr>
      <tr>
        <td id="L2411" class="blob-num js-line-number" data-line-number="2411"></td>
        <td id="LC2411" class="blob-code js-file-line">       &quot;kjSYPbeozGLgUuBGSTOA7RHRLenZEnUXA/OAr2Y/byk4/kNJV5K6q6YADxQHVa0ZkmZm1j8lk0dE\n&quot;,</td>
      </tr>
      <tr>
        <td id="L2412" class="blob-num js-line-number" data-line-number="2412"></td>
        <td id="LC2412" class="blob-code js-file-line">       &quot;7JJ0KXAnMAS4PiLWSJqfvX9tRCyRNEdSJ/AS8MlSdbNTXwHcLOnTQBfwoazOakk3A6uBXcBnvA6J\n&quot;,</td>
      </tr>
      <tr>
        <td id="L2413" class="blob-num js-line-number" data-line-number="2413"></td>
        <td id="LC2413" class="blob-code js-file-line">       &quot;mVnjacq1rczMLF9NN4eikkmLjUbS9yR1S1pVcKzPEyUlnSJpVfbeP9W7HXsjaaKkuyX9TtJjkj6b\n&quot;,</td>
      </tr>
      <tr>
        <td id="L2414" class="blob-num js-line-number" data-line-number="2414"></td>
        <td id="LC2414" class="blob-code js-file-line">       &quot;HW/6NkraT9JySSslrZb0lex407etkKQhkh6WdGu23zLtk9Ql6dGsfQ9kx1qpfW2SfiJpTfY7enpd\n&quot;,</td>
      </tr>
      <tr>
        <td id="L2415" class="blob-num js-line-number" data-line-number="2415"></td>
        <td id="LC2415" class="blob-code js-file-line">       &quot;2letwZN6vEjdX53AJGAYsBKYmndcFcR9FjANWFVw7GvAl7Lty4Arsu1js3YNy9rZyRtXiA8A07Pt\n&quot;,</td>
      </tr>
      <tr>
        <td id="L2416" class="blob-num js-line-number" data-line-number="2416"></td>
        <td id="LC2416" class="blob-code js-file-line">       &quot;JcDsvNuWxTIGOCnbPhB4HJjaKm0EDsh+DiXdSn5mq7StoI2fB34ALG7B38+NwKiiY63UvhuATxX8\n&quot;,</td>
      </tr>
      <tr>
        <td id="L2417" class="blob-num js-line-number" data-line-number="2417"></td>
        <td id="LC2417" class="blob-code js-file-line">       &quot;jr61Hu3LveF9/I/0Tt58B9eb7s5q5Ff2D1WYPNaS5rtA+uPbc8fZm+5oI91xNoN0V9qaguMfBr6T\n&quot;,</td>
      </tr>
      <tr>
        <td id="L2418" class="blob-num js-line-number" data-line-number="2418"></td>
        <td id="LC2418" class="blob-code js-file-line">       &quot;d7v20tZbgPe0WhuBA4AHgeNaqW3ABODnwDnAra32+0lKHgcVHWuJ9pESxYZejte8fc3WbbW3CYnN\n&quot;,</td>
      </tr>
      <tr>
        <td id="L2419" class="blob-num js-line-number" data-line-number="2419"></td>
        <td id="LC2419" class="blob-code js-file-line">       &quot;qNREyc0F5QonXRYe30IDtj27u24asJwWaaOkfSStJLXh7oj4HS3Stsw/Al8EXi841krtC+DnklZI\n&quot;,</td>
      </tr>
      <tr>
        <td id="L2420" class="blob-num js-line-number" data-line-number="2420"></td>
        <td id="LC2420" class="blob-code js-file-line">       &quot;6nkWYau073DgaUn/KukhSddJGkEd2tdsyaMlR/cjpfqmb5ukA4F/Bz4XETsK32vmNkbE6xFxEukb\n&quot;,</td>
      </tr>
      <tr>
        <td id="L2421" class="blob-num js-line-number" data-line-number="2421"></td>
        <td id="LC2421" class="blob-code js-file-line">       &quot;+rsknVP0ftO2TdL7gW0R8TB7mezbzO3LzIyIacD5wF9JOqvwzSZv31DgZODbEXEy6Y7XBYUFatW+\n&quot;,</td>
      </tr>
      <tr>
        <td id="L2422" class="blob-num js-line-number" data-line-number="2422"></td>
        <td id="LC2422" class="blob-code js-file-line">       &quot;ZkseW4CJBfsTeXO2bCbdSmuAIWkssC07XtzGCaQ2bsm2C49vqUOcFZE0jJQ4vh8RPfN2WqqNEfFH\n&quot;,</td>
      </tr>
      <tr>
        <td id="L2423" class="blob-num js-line-number" data-line-number="2423"></td>
        <td id="LC2423" class="blob-code js-file-line">       &quot;4DbgFFqnbWcAF0jaCPwIOFfS92md9hERT2U/nwb+g7ReXqu0bzOwOSIezPZ/QkomW2vdvmZLHnsm\n&quot;,</td>
      </tr>
      <tr>
        <td id="L2424" class="blob-num js-line-number" data-line-number="2424"></td>
        <td id="LC2424" class="blob-code js-file-line">       &quot;LUoaTpp4uDjnmPqrZ6Ik/PlEyQ9LGi7pcLKJkhGxFXghu5NCwMcL6uQqi+d6YHVEfLPgraZvo6SD\n&quot;,</td>
      </tr>
      <tr>
        <td id="L2425" class="blob-num js-line-number" data-line-number="2425"></td>
        <td id="LC2425" class="blob-code js-file-line">       &quot;e+5UkbQ/MAt4mBZoG0BE/G1ETIyIw0n93L+IiI/TIu2TdICkkdn2COA8YBUt0r4srk2SjsoOvQf4\n&quot;,</td>
      </tr>
      <tr>
        <td id="L2426" class="blob-num js-line-number" data-line-number="2426"></td>
        <td id="LC2426" class="blob-code js-file-line">       &quot;HXArtW5f3gM+/RggOp90N08n8Dd5x1NhzD8izbL/E2nM5pPAKNIg5TrgLqCtoPzfZu1bC7y34Pgp\n&quot;,</td>
      </tr>
      <tr>
        <td id="L2427" class="blob-num js-line-number" data-line-number="2427"></td>
        <td id="LC2427" class="blob-code js-file-line">       &quot;pF/8TuCqvNtVENeZpP7ylaQ/rA+TltRv+jYC7wAeytr2KPDF7HjTt62Xtp7NG3dbtUT7SGMCK7PX\n&quot;,</td>
      </tr>
      <tr>
        <td id="L2428" class="blob-num js-line-number" data-line-number="2428"></td>
        <td id="LC2428" class="blob-code js-file-line">       &quot;Yz1/M1qlfVlcJ5Ju5HgE+ClpEL3m7fMkQTMz67Nm67YyM7MG4ORhZmZ95uRhZmZ95uRhZmZ95uRh\n&quot;,</td>
      </tr>
      <tr>
        <td id="L2429" class="blob-num js-line-number" data-line-number="2429"></td>
        <td id="LC2429" class="blob-code js-file-line">       &quot;ZmZ95uRhZmZ95uRhZmZ95uRhZmZ99v8DO3DN/0z4wHQAAAAASUVORK5CYII=\n&quot;</td>
      </tr>
      <tr>
        <td id="L2430" class="blob-num js-line-number" data-line-number="2430"></td>
        <td id="LC2430" class="blob-code js-file-line">      ],</td>
      </tr>
      <tr>
        <td id="L2431" class="blob-num js-line-number" data-line-number="2431"></td>
        <td id="LC2431" class="blob-code js-file-line">      &quot;text/plain&quot;: [</td>
      </tr>
      <tr>
        <td id="L2432" class="blob-num js-line-number" data-line-number="2432"></td>
        <td id="LC2432" class="blob-code js-file-line">       &quot;&lt;matplotlib.figure.Figure at 0xab9d4a8&gt;&quot;</td>
      </tr>
      <tr>
        <td id="L2433" class="blob-num js-line-number" data-line-number="2433"></td>
        <td id="LC2433" class="blob-code js-file-line">      ]</td>
      </tr>
      <tr>
        <td id="L2434" class="blob-num js-line-number" data-line-number="2434"></td>
        <td id="LC2434" class="blob-code js-file-line">     },</td>
      </tr>
      <tr>
        <td id="L2435" class="blob-num js-line-number" data-line-number="2435"></td>
        <td id="LC2435" class="blob-code js-file-line">     &quot;metadata&quot;: {},</td>
      </tr>
      <tr>
        <td id="L2436" class="blob-num js-line-number" data-line-number="2436"></td>
        <td id="LC2436" class="blob-code js-file-line">     &quot;output_type&quot;: &quot;display_data&quot;</td>
      </tr>
      <tr>
        <td id="L2437" class="blob-num js-line-number" data-line-number="2437"></td>
        <td id="LC2437" class="blob-code js-file-line">    }</td>
      </tr>
      <tr>
        <td id="L2438" class="blob-num js-line-number" data-line-number="2438"></td>
        <td id="LC2438" class="blob-code js-file-line">   ],</td>
      </tr>
      <tr>
        <td id="L2439" class="blob-num js-line-number" data-line-number="2439"></td>
        <td id="LC2439" class="blob-code js-file-line">   &quot;source&quot;: [</td>
      </tr>
      <tr>
        <td id="L2440" class="blob-num js-line-number" data-line-number="2440"></td>
        <td id="LC2440" class="blob-code js-file-line">    &quot;plt.plot(s_probHat)\n&quot;,</td>
      </tr>
      <tr>
        <td id="L2441" class="blob-num js-line-number" data-line-number="2441"></td>
        <td id="LC2441" class="blob-code js-file-line">    &quot;plt.show()&quot;</td>
      </tr>
      <tr>
        <td id="L2442" class="blob-num js-line-number" data-line-number="2442"></td>
        <td id="LC2442" class="blob-code js-file-line">   ]</td>
      </tr>
      <tr>
        <td id="L2443" class="blob-num js-line-number" data-line-number="2443"></td>
        <td id="LC2443" class="blob-code js-file-line">  },</td>
      </tr>
      <tr>
        <td id="L2444" class="blob-num js-line-number" data-line-number="2444"></td>
        <td id="LC2444" class="blob-code js-file-line">  {</td>
      </tr>
      <tr>
        <td id="L2445" class="blob-num js-line-number" data-line-number="2445"></td>
        <td id="LC2445" class="blob-code js-file-line">   &quot;cell_type&quot;: &quot;code&quot;,</td>
      </tr>
      <tr>
        <td id="L2446" class="blob-num js-line-number" data-line-number="2446"></td>
        <td id="LC2446" class="blob-code js-file-line">   &quot;execution_count&quot;: 50,</td>
      </tr>
      <tr>
        <td id="L2447" class="blob-num js-line-number" data-line-number="2447"></td>
        <td id="LC2447" class="blob-code js-file-line">   &quot;metadata&quot;: {</td>
      </tr>
      <tr>
        <td id="L2448" class="blob-num js-line-number" data-line-number="2448"></td>
        <td id="LC2448" class="blob-code js-file-line">    &quot;collapsed&quot;: false</td>
      </tr>
      <tr>
        <td id="L2449" class="blob-num js-line-number" data-line-number="2449"></td>
        <td id="LC2449" class="blob-code js-file-line">   },</td>
      </tr>
      <tr>
        <td id="L2450" class="blob-num js-line-number" data-line-number="2450"></td>
        <td id="LC2450" class="blob-code js-file-line">   &quot;outputs&quot;: [],</td>
      </tr>
      <tr>
        <td id="L2451" class="blob-num js-line-number" data-line-number="2451"></td>
        <td id="LC2451" class="blob-code js-file-line">   &quot;source&quot;: [</td>
      </tr>
      <tr>
        <td id="L2452" class="blob-num js-line-number" data-line-number="2452"></td>
        <td id="LC2452" class="blob-code js-file-line">    &quot;XX=sum(s_probHat)\n&quot;,</td>
      </tr>
      <tr>
        <td id="L2453" class="blob-num js-line-number" data-line-number="2453"></td>
        <td id="LC2453" class="blob-code js-file-line">    &quot;if XX&lt;1:\n&quot;,</td>
      </tr>
      <tr>
        <td id="L2454" class="blob-num js-line-number" data-line-number="2454"></td>
        <td id="LC2454" class="blob-code js-file-line">    &quot;    s_probHat=s_probHat+(1-XX)/s_n&quot;</td>
      </tr>
      <tr>
        <td id="L2455" class="blob-num js-line-number" data-line-number="2455"></td>
        <td id="LC2455" class="blob-code js-file-line">   ]</td>
      </tr>
      <tr>
        <td id="L2456" class="blob-num js-line-number" data-line-number="2456"></td>
        <td id="LC2456" class="blob-code js-file-line">  },</td>
      </tr>
      <tr>
        <td id="L2457" class="blob-num js-line-number" data-line-number="2457"></td>
        <td id="LC2457" class="blob-code js-file-line">  {</td>
      </tr>
      <tr>
        <td id="L2458" class="blob-num js-line-number" data-line-number="2458"></td>
        <td id="LC2458" class="blob-code js-file-line">   &quot;cell_type&quot;: &quot;code&quot;,</td>
      </tr>
      <tr>
        <td id="L2459" class="blob-num js-line-number" data-line-number="2459"></td>
        <td id="LC2459" class="blob-code js-file-line">   &quot;execution_count&quot;: 51,</td>
      </tr>
      <tr>
        <td id="L2460" class="blob-num js-line-number" data-line-number="2460"></td>
        <td id="LC2460" class="blob-code js-file-line">   &quot;metadata&quot;: {</td>
      </tr>
      <tr>
        <td id="L2461" class="blob-num js-line-number" data-line-number="2461"></td>
        <td id="LC2461" class="blob-code js-file-line">    &quot;collapsed&quot;: false</td>
      </tr>
      <tr>
        <td id="L2462" class="blob-num js-line-number" data-line-number="2462"></td>
        <td id="LC2462" class="blob-code js-file-line">   },</td>
      </tr>
      <tr>
        <td id="L2463" class="blob-num js-line-number" data-line-number="2463"></td>
        <td id="LC2463" class="blob-code js-file-line">   &quot;outputs&quot;: [</td>
      </tr>
      <tr>
        <td id="L2464" class="blob-num js-line-number" data-line-number="2464"></td>
        <td id="LC2464" class="blob-code js-file-line">    {</td>
      </tr>
      <tr>
        <td id="L2465" class="blob-num js-line-number" data-line-number="2465"></td>
        <td id="LC2465" class="blob-code js-file-line">     &quot;data&quot;: {</td>
      </tr>
      <tr>
        <td id="L2466" class="blob-num js-line-number" data-line-number="2466"></td>
        <td id="LC2466" class="blob-code js-file-line">      &quot;image/png&quot;: [</td>
      </tr>
      <tr>
        <td id="L2467" class="blob-num js-line-number" data-line-number="2467"></td>
        <td id="LC2467" class="blob-code js-file-line">       &quot;iVBORw0KGgoAAAANSUhEUgAAAY8AAAEACAYAAABLfPrqAAAABHNCSVQICAgIfAhkiAAAAAlwSFlz\n&quot;,</td>
      </tr>
      <tr>
        <td id="L2468" class="blob-num js-line-number" data-line-number="2468"></td>
        <td id="LC2468" class="blob-code js-file-line">       &quot;AAALEgAACxIB0t1+/AAAIABJREFUeJzt3X+YVdV97/H3R35EwMQRTQcQFCyokEaDRMTfoxFLSKo0\n&quot;,</td>
      </tr>
      <tr>
        <td id="L2469" class="blob-num js-line-number" data-line-number="2469"></td>
        <td id="LC2469" class="blob-code js-file-line">       &quot;eRJD0oQmuZU+1t62tqn0Prc30N7emtwnmlgb65Mbe41JJD+1JP4ALnGaRBME5YcVECYEBZRBUdSq\n&quot;,</td>
      </tr>
      <tr>
        <td id="L2470" class="blob-num js-line-number" data-line-number="2470"></td>
        <td id="LC2470" class="blob-code js-file-line">       &quot;KMj3/rH24PFkOOfMzDmzzznzeT3Pec7e+6y157t0mO/Za+21tiICMzOznjgi7wDMzKzxOHmYmVmP\n&quot;,</td>
      </tr>
      <tr>
        <td id="L2471" class="blob-num js-line-number" data-line-number="2471"></td>
        <td id="LC2471" class="blob-code js-file-line">       &quot;OXmYmVmPOXmYmVmPOXmYmVmPOXmYmVmPlU0ekmZJ2iRpi6RrD1PmxuzzdZKmlqsraaSk5ZI2S1om\n&quot;,</td>
      </tr>
      <tr>
        <td id="L2472" class="blob-num js-line-number" data-line-number="2472"></td>
        <td id="LC2472" class="blob-code js-file-line">       &quot;qSU7PlTSv0paL2mtpAur0UgzM6uukslD0iDgJmAWMAWYK2lyUZnZwMSImARcCdxcQd0FwPKIOBlY\n&quot;,</td>
      </tr>
      <tr>
        <td id="L2473" class="blob-num js-line-number" data-line-number="2473"></td>
        <td id="LC2473" class="blob-code js-file-line">       &quot;ke0D/BFwMCJOA2YCX5KkPrfSzMyqqtyVx3SgIyK2RcR+YDFweVGZy4DbACJiJdAiaVSZuofqZO9z\n&quot;,</td>
      </tr>
      <tr>
        <td id="L2474" class="blob-num js-line-number" data-line-number="2474"></td>
        <td id="LC2474" class="blob-code js-file-line">       &quot;su3JwP3ZuZ4B9gLv7WXbzMysRsolj+OB7QX7O7JjlZQZU6Jua0R0ZtudQGu2vQ64TNIgSROAacDY\n&quot;,</td>
      </tr>
      <tr>
        <td id="L2475" class="blob-num js-line-number" data-line-number="2475"></td>
        <td id="LC2475" class="blob-code js-file-line">       &quot;CtphZmb9aHCZzytdu6SSriV1d76ICEldx28lXX2sBp4AHgTeqDAGMzPrJ+WSx05gXMH+ONIVRKky\n&quot;,</td>
      </tr>
      <tr>
        <td id="L2476" class="blob-num js-line-number" data-line-number="2476"></td>
        <td id="LC2476" class="blob-code js-file-line">       &quot;Y7MyQ7o5vjPb7pQ0KiJ2SRoN7AaIiDeAa7oqSHoA2FwcVEGyMTOzHoiIqowjl+u2Wg1MkjRe0lDg\n&quot;,</td>
      </tr>
      <tr>
        <td id="L2477" class="blob-num js-line-number" data-line-number="2477"></td>
        <td id="LC2477" class="blob-code js-file-line">       &quot;CmBJUZklwKcAJM0A9mZdUqXqLgHmZdvzgLuy+sMkjci2ZwL7I2JTd4FFRNO+Pv/5z+ceg9vntrl9\n&quot;,</td>
      </tr>
      <tr>
        <td id="L2478" class="blob-num js-line-number" data-line-number="2478"></td>
        <td id="LC2478" class="blob-code js-file-line">       &quot;zfeqppJXHhFxQNLVwFJgEPD1iNgoaX72+S0RcY+k2ZI6gJeBT5eqm536OuC7kj4LbAM+mh1vBe6T\n&quot;,</td>
      </tr>
      <tr>
        <td id="L2479" class="blob-num js-line-number" data-line-number="2479"></td>
        <td id="LC2479" class="blob-code js-file-line">       &quot;dJB09fLJKrbVrKFFwKuvwrBh4HsQLW/luq2IiHuBe4uO3VK0f3WldbPjzwGXdHN8G3BquZjMBpID\n&quot;,</td>
      </tr>
      <tr>
        <td id="L2480" class="blob-num js-line-number" data-line-number="2480"></td>
        <td id="LC2480" class="blob-code js-file-line">       &quot;B+DLX4YbboBnn4XWVvjrv4Y/+RMnEcuPZ5jXoba2trxDqKlmbl+12/baa/CRj8CPfwxLl8K+fXDX\n&quot;,</td>
      </tr>
      <tr>
        <td id="L2481" class="blob-num js-line-number" data-line-number="2481"></td>
        <td id="LC2481" class="blob-code js-file-line">       &quot;XXD77fAHfwBv9PPtJM38/w6av33VpGr3g/UHSdGIcZv11Pz58PTT8P3vw9Chbx7ftw9mz4apU+FL\n&quot;,</td>
      </tr>
      <tr>
        <td id="L2482" class="blob-num js-line-number" data-line-number="2482"></td>
        <td id="LC2482" class="blob-code js-file-line">       &quot;X8ovPmsskogqDZiX7bYys3x873vw7/8Oq1a9NXEAHHkk/OAHcPrpMGsWzJyZT4w2cPnKw6wOvfgi\n&quot;,</td>
      </tr>
      <tr>
        <td id="L2483" class="blob-num js-line-number" data-line-number="2483"></td>
        <td id="LC2483" class="blob-code js-file-line">       &quot;TJkCixfDeecdvtzSpfDHfwwbN6aEYlZKNa88POZhVoe++EW45JLSiQPgd38X3v1uuPnm/onLrIuv\n&quot;,</td>
      </tr>
      <tr>
        <td id="L2484" class="blob-num js-line-number" data-line-number="2484"></td>
        <td id="LC2484" class="blob-code js-file-line">       &quot;PMzqzPPPw8SJ8PDDMH58+fKPPQYXXQS/+hW8/e01D88amK88zJrYV74Cc+ZUljgA3vUuuPBC+L//\n&quot;,</td>
      </tr>
      <tr>
        <td id="L2485" class="blob-num js-line-number" data-line-number="2485"></td>
        <td id="LC2485" class="blob-code js-file-line">       &quot;t5ZRmb2VrzzM6shrr8EJJ8BPfwqnnFJ5vV/8It26u3kzDBpUu/issfnKw6xJ3XlnGsPoSeIAOPts\n&quot;,</td>
      </tr>
      <tr>
        <td id="L2486" class="blob-num js-line-number" data-line-number="2486"></td>
        <td id="LC2486" class="blob-code js-file-line">       &quot;eOc703wQs/7g5GFWR/7lX9LdU70xfz7cemt14zE7HHdbmdWJzZvT2MWTT8KQIT2v/9JLMG4cPP54\n&quot;,</td>
      </tr>
      <tr>
        <td id="L2487" class="blob-num js-line-number" data-line-number="2487"></td>
        <td id="LC2487" class="blob-code js-file-line">       &quot;WsLErJi7rcya0B13wMc+1rvEAelOq8svh299q7pxmXXHycOsDkSkCYFXXNG388ybB9/8ZnViMivF\n&quot;,</td>
      </tr>
      <tr>
        <td id="L2488" class="blob-num js-line-number" data-line-number="2488"></td>
        <td id="LC2488" class="blob-code js-file-line">       &quot;ycOsDqxfn5ZbP+usvp3nwgthxw7YurU6cZkdjpOHWR1YvDh1WfV1ifVBg9IckR/+sDpxmR2Ok4dZ\n&quot;,</td>
      </tr>
      <tr>
        <td id="L2489" class="blob-num js-line-number" data-line-number="2489"></td>
        <td id="LC2489" class="blob-code js-file-line">       &quot;ziLSqrkf/Wj5spX48IfToolmtVQ2eUiaJWmTpC2Srj1MmRuzz9dJmlqurqSRkpZL2ixpmaSW7PiR\n&quot;,</td>
      </tr>
      <tr>
        <td id="L2490" class="blob-num js-line-number" data-line-number="2490"></td>
        <td id="LC2490" class="blob-code js-file-line">       &quot;ku6QtF7SBkkLqtFIs3q2eXPqspo6tXzZSlx0UTrnjh3VOZ9Zd0omD0mDgJuAWcAUYK6kyUVlZgMT\n&quot;,</td>
      </tr>
      <tr>
        <td id="L2491" class="blob-num js-line-number" data-line-number="2491"></td>
        <td id="LC2491" class="blob-code js-file-line">       &quot;I2IScCVwcwV1FwDLI+JkYEW2D/AxgIg4DZgGzJd0Ql8baVbPfvxj+OAHq/dUwKFD07M+PGHQaqnc\n&quot;,</td>
      </tr>
      <tr>
        <td id="L2492" class="blob-num js-line-number" data-line-number="2492"></td>
        <td id="LC2492" class="blob-code js-file-line">       &quot;lcd0oCMitkXEfmAxcHlRmcuA2wAiYiXQImlUmbqH6mTvc7Ltp4ERWeIZAbwOvNjbxpk1grvvhg98\n&quot;,</td>
      </tr>
      <tr>
        <td id="L2493" class="blob-num js-line-number" data-line-number="2493"></td>
        <td id="LC2493" class="blob-code js-file-line">       &quot;oLrnfP/74d7feAC0WfWUSx7HA9sL9ndkxyopM6ZE3daI6My2O4FWgIhYSkoWTwPbgP8dEXsraYhZ\n&quot;,</td>
      </tr>
      <tr>
        <td id="L2494" class="blob-num js-line-number" data-line-number="2494"></td>
        <td id="LC2494" class="blob-code js-file-line">       &quot;I9q7F1avhve9r7rnvfRSaG9Pa2WZ1UK5JwlWOo27kgtudXe+iAhJASDpD4BhwGhgJPAzSSsi4tfF\n&quot;,</td>
      </tr>
      <tr>
        <td id="L2495" class="blob-num js-line-number" data-line-number="2495"></td>
        <td id="LC2495" class="blob-code js-file-line">       &quot;9RYuXHhou62tzc8etoa0bBmcfz4MH17d8x53HEyeDD//efUTkzWO9vZ22tvba3LucsljJzCuYH8c\n&quot;,</td>
      </tr>
      <tr>
        <td id="L2496" class="blob-num js-line-number" data-line-number="2496"></td>
        <td id="LC2496" class="blob-code js-file-line">       &quot;6QqiVJmxWZkh3RzfmW13ShoVEbskjQZ2Z8fPAe6MiDeAZyQ9ALwXKJk8zBrVvfem8Yla6Oq6cvIY\n&quot;,</td>
      </tr>
      <tr>
        <td id="L2497" class="blob-num js-line-number" data-line-number="2497"></td>
        <td id="LC2497" class="blob-code js-file-line">       &quot;uIq/WC9atKhq5y7XbbUamCRpvKShwBXAkqIyS4BPAUiaAezNuqRK1V0CzMu25wF3ZdubgIuzc40A\n&quot;,</td>
      </tr>
      <tr>
        <td id="L2498" class="blob-num js-line-number" data-line-number="2498"></td>
        <td id="LC2498" class="blob-code js-file-line">       &quot;ZgAbe9k2s7oWAStW1O754x73sFoqeeUREQckXQ0sBQYBX4+IjZLmZ5/fEhH3SJotqQN4Gfh0qbrZ\n&quot;,</td>
      </tr>
      <tr>
        <td id="L2499" class="blob-num js-line-number" data-line-number="2499"></td>
        <td id="LC2499" class="blob-code js-file-line">       &quot;qa8Dvivps6Sxja473G8Bvi7pUVJiuzUi/qOK7TWrGx0dcPAgTJpUm/NPmwa7dsHOnXB88UilWR95\n&quot;,</td>
      </tr>
      <tr>
        <td id="L2500" class="blob-num js-line-number" data-line-number="2500"></td>
        <td id="LC2500" class="blob-code js-file-line">       &quot;VV2znNxyCzzwAHzjG7X7GR/6UJo0+IlP1O5nWOPwqrpmTWDFitqPR1x0Edx/f21/hg1MTh5mOTh4\n&quot;,</td>
      </tr>
      <tr>
        <td id="L2501" class="blob-num js-line-number" data-line-number="2501"></td>
        <td id="LC2501" class="blob-code js-file-line">       &quot;MP1Rv/ji2v4cJw+rFScPsxw8+igcc0x6eFMtvetd6SFRTz5Z259jA4+Th1kOfvKT2l91QFry5MIL\n&quot;,</td>
      </tr>
      <tr>
        <td id="L2502" class="blob-num js-line-number" data-line-number="2502"></td>
        <td id="LC2502" class="blob-code js-file-line">       &quot;04RBs2py8jDLwf33py6l/uCuK6sFJw+zfnbwIDz4IJx3Xv/8PCcPqwUnD7N+9vjj6Xnj/TX34tRT\n&quot;,</td>
      </tr>
      <tr>
        <td id="L2503" class="blob-num js-line-number" data-line-number="2503"></td>
        <td id="LC2503" class="blob-code js-file-line">       &quot;4ZVXYPv28mXNKuXkYdbPHngAzj23/36eBOeck652zKrFycOsnz3wQP91WXVx8rBqc/Iw62c//3n/\n&quot;,</td>
      </tr>
      <tr>
        <td id="L2504" class="blob-num js-line-number" data-line-number="2504"></td>
        <td id="LC2504" class="blob-code js-file-line">       &quot;XnlA+nkPPNC/P9Oam5cnMetHnZ1wyinw3HNwRD9+ddu3D449Nv38o47qv59r9cXLk5g1qAcfTF1I\n&quot;,</td>
      </tr>
      <tr>
        <td id="L2505" class="blob-num js-line-number" data-line-number="2505"></td>
        <td id="LC2505" class="blob-code js-file-line">       &quot;/Zk4AI48Ek4/HVat6t+fa83LycOsH/X3YHmhc85x15VVj5OHWT/KY7yjy7nnetDcqsdjHmb9pGvc\n&quot;,</td>
      </tr>
      <tr>
        <td id="L2506" class="blob-num js-line-number" data-line-number="2506"></td>
        <td id="LC2506" class="blob-code js-file-line">       &quot;4Zlnqv/Y2Up0dqY5H3v29H+3mdUHj3mYNaC1a9NgeR6JA6C1NSWvjX42p1VB2eQhaZakTZK2SLr2\n&quot;,</td>
      </tr>
      <tr>
        <td id="L2507" class="blob-num js-line-number" data-line-number="2507"></td>
        <td id="LC2507" class="blob-code js-file-line">       &quot;MGVuzD5fJ2lqubqSRkpaLmmzpGWSWrLjn5C0puD1hqTTqtFQs7w99BBMn55vDGedleIw66uSyUPS\n&quot;,</td>
      </tr>
      <tr>
        <td id="L2508" class="blob-num js-line-number" data-line-number="2508"></td>
        <td id="LC2508" class="blob-code js-file-line">       &quot;IOAmYBYwBZgraXJRmdnAxIiYBFwJ3FxB3QXA8og4GViR7RMR34qIqRExFfgksDUi1lelpWY5q4fk\n&quot;,</td>
      </tr>
      <tr>
        <td id="L2509" class="blob-num js-line-number" data-line-number="2509"></td>
        <td id="LC2509" class="blob-code js-file-line">       &quot;MX26k4dVR7krj+lAR0Rsi4j9wGLg8qIylwG3AUTESqBF0qgydQ/Vyd7ndPOzP57VMWsKTh7WTMol\n&quot;,</td>
      </tr>
      <tr>
        <td id="L2510" class="blob-num js-line-number" data-line-number="2510"></td>
        <td id="LC2510" class="blob-code js-file-line">       &quot;j+OBwuXUdmTHKikzpkTd1ojozLY7gdZufvZHgTvKxGfWEJ57Dp5+GiZPLl+2lt7znjTmsW9fvnFY\n&quot;,</td>
      </tr>
      <tr>
        <td id="L2511" class="blob-num js-line-number" data-line-number="2511"></td>
        <td id="LC2511" class="blob-code js-file-line">       &quot;4xtc5vNKb2mqZPRe3Z0vIkLSW45LOgt4JSI2HO5kCxcuPLTd1tZGW1tbhaGa9b/Vq2HaNBg0KN84\n&quot;,</td>
      </tr>
      <tr>
        <td id="L2512" class="blob-num js-line-number" data-line-number="2512"></td>
        <td id="LC2512" class="blob-code js-file-line">       &quot;hg1Ld1ytXQszZuQbi9Vee3s77TV6Eli55LETKHxQ5jjSFUSpMmOzMkO6Ob4z2+6UNCoidkkaDewu\n&quot;,</td>
      </tr>
      <tr>
        <td id="L2513" class="blob-num js-line-number" data-line-number="2513"></td>
        <td id="LC2513" class="blob-code js-file-line">       &quot;OufHgG+XCqwweZjVu3rosupy5plpprmTR/Mr/mK9aNGiqp27XLfVamCSpPGShgJXAEuKyiwBPgUg\n&quot;,</td>
      </tr>
      <tr>
        <td id="L2514" class="blob-num js-line-number" data-line-number="2514"></td>
        <td id="LC2514" class="blob-code js-file-line">       &quot;aQawN+uSKlV3CTAv254H3NV1MklHAB/B4x3WROopeXjcw6qhZPKIiAPA1cBSYAPwnYjYKGm+pPlZ\n&quot;,</td>
      </tr>
      <tr>
        <td id="L2515" class="blob-num js-line-number" data-line-number="2515"></td>
        <td id="LC2515" class="blob-code js-file-line">       &quot;mXuArZI6gFuAq0rVzU59HTBT0mbg4my/ywXAkxGxrTpNNMtXhJOHNR/PMDersSefTH+wn346PZgp\n&quot;,</td>
      </tr>
      <tr>
        <td id="L2516" class="blob-num js-line-number" data-line-number="2516"></td>
        <td id="LC2516" class="blob-code js-file-line">       &quot;bwcOwDHHpCcLtrTkHY31J88wN2sgXVcd9ZA4AAYPhqlT0yC+WW85eZjVWD11WXVx15X1lZOHWY3V\n&quot;,</td>
      </tr>
      <tr>
        <td id="L2517" class="blob-num js-line-number" data-line-number="2517"></td>
        <td id="LC2517" class="blob-code js-file-line">       &quot;Y/LouuPKrLc85mFWQwcPpnGFbdtg5Mi8o3nT1q1w/vmwc2f5stY8POZh1iB+9auUNOopcQBMmACv\n&quot;,</td>
      </tr>
      <tr>
        <td id="L2518" class="blob-num js-line-number" data-line-number="2518"></td>
        <td id="LC2518" class="blob-code js-file-line">       &quot;vpqWaTfrDScPsxp65JE0OF1vJDjjjBSfWW84eZjV0Jo16Y90PXLysL5w8jCroTVr6vPKA5w8rG+c\n&quot;,</td>
      </tr>
      <tr>
        <td id="L2519" class="blob-num js-line-number" data-line-number="2519"></td>
        <td id="LC2519" class="blob-code js-file-line">       &quot;PMxqJMLJw5qXk4dZjXTdyTRmTL5xHM7Eiel55s89l3ck1oicPMxqpGu8o15mlhc74oj0fI81a/KO\n&quot;,</td>
      </tr>
      <tr>
        <td id="L2520" class="blob-num js-line-number" data-line-number="2520"></td>
        <td id="LC2520" class="blob-code js-file-line">       &quot;xBqRk4dZjdRzl1WXadPg4YfzjsIakZOHWY00QvLwuIf1lpOHWY3U6xyPQk4e1ltensSsBvbsSbO4\n&quot;,</td>
      </tr>
      <tr>
        <td id="L2521" class="blob-num js-line-number" data-line-number="2521"></td>
        <td id="LC2521" class="blob-code js-file-line">       &quot;9+5NYwv16sABOProtFz8O96RdzRWa16exKzOrV2bBqPrOXFAWp79tNNSvGY9UfZXW9IsSZskbZF0\n&quot;,</td>
      </tr>
      <tr>
        <td id="L2522" class="blob-num js-line-number" data-line-number="2522"></td>
        <td id="LC2522" class="blob-code js-file-line">       &quot;7WHK3Jh9vk7S1HJ1JY2UtFzSZknLJLUUfHaapF9I+g9J6yW9ra+NNOtvjTDe0cVdV9YbJZOHpEHA\n&quot;,</td>
      </tr>
      <tr>
        <td id="L2523" class="blob-num js-line-number" data-line-number="2523"></td>
        <td id="LC2523" class="blob-code js-file-line">       &quot;TcAsYAowV9LkojKzgYkRMQm4Eri5groLgOURcTKwIttH0mDgduDKiPgd4EJgfxXaadavGmG8o4uT\n&quot;,</td>
      </tr>
      <tr>
        <td id="L2524" class="blob-num js-line-number" data-line-number="2524"></td>
        <td id="LC2524" class="blob-code js-file-line">       &quot;h/VGuSuP6UBHRGyLiP3AYuDyojKXAbcBRMRKoEXSqDJ1D9XJ3udk25cC6yPi0ex8z0fEwV63ziwn\n&quot;,</td>
      </tr>
      <tr>
        <td id="L2525" class="blob-num js-line-number" data-line-number="2525"></td>
        <td id="LC2525" class="blob-code js-file-line">       &quot;9bymVbFp05w8rOfKJY/jge0F+zuyY5WUGVOibmtEdC0G3Qm0ZtsnAyHpPkkPS/pcRa0wqyMvvwxP\n&quot;,</td>
      </tr>
      <tr>
        <td id="L2526" class="blob-num js-line-number" data-line-number="2526"></td>
        <td id="LC2526" class="blob-code js-file-line">       &quot;PAGTJ5cvWw+mTEnP93j55bwjsUYyuMznld7SVMnovbo7X0SEpK7jg4HzgPcCrwIrJD0cET8prrdw\n&quot;,</td>
      </tr>
      <tr>
        <td id="L2527" class="blob-num js-line-number" data-line-number="2527"></td>
        <td id="LC2527" class="blob-code js-file-line">       &quot;4cJD221tbbS1tVUYqlltrV+f/iAPGZJ3JJUZOjTFu349nH123tFYNbW3t9Pe3l6Tc5dLHjuBcQX7\n&quot;,</td>
      </tr>
      <tr>
        <td id="L2528" class="blob-num js-line-number" data-line-number="2528"></td>
        <td id="LC2528" class="blob-code js-file-line">       &quot;40hXEKXKjM3KDOnmeNdzyzoljYqIXZJGA7uz49uBn0bEcwCS7gHOAEomD7N60kjjHV26xj2cPJpL\n&quot;,</td>
      </tr>
      <tr>
        <td id="L2529" class="blob-num js-line-number" data-line-number="2529"></td>
        <td id="LC2529" class="blob-code js-file-line">       &quot;8RfrRYsWVe3c5bqtVgOTJI2XNBS4AlhSVGYJ8CkASTOAvVmXVKm6S4B52fY84K5sexnwbknDssHz\n&quot;,</td>
      </tr>
      <tr>
        <td id="L2530" class="blob-num js-line-number" data-line-number="2530"></td>
        <td id="LC2530" class="blob-code js-file-line">       &quot;C4HHet06sxw00nhHl6lTvcaV9UzJ5BERB4CrgaXABuA7EbFR0nxJ87My9wBbJXUAtwBXlaqbnfo6\n&quot;,</td>
      </tr>
      <tr>
        <td id="L2531" class="blob-num js-line-number" data-line-number="2531"></td>
        <td id="LC2531" class="blob-code js-file-line">       &quot;YKakzcDF2T4R8TxwPbAKWAM8HBH3VrG9ZjXXSLfpdvEdV9ZTnmFuVkWvvw4tLfDsszB8eN7RVO6V\n&quot;,</td>
      </tr>
      <tr>
        <td id="L2532" class="blob-num js-line-number" data-line-number="2532"></td>
        <td id="LC2532" class="blob-code js-file-line">       &quot;V+C449KM+KFD847GasUzzM3q1IYNMH58YyUOSPGedBI85k5iq5CTh1kVNeJ4RxePe1hPOHmYVVEj\n&quot;,</td>
      </tr>
      <tr>
        <td id="L2533" class="blob-num js-line-number" data-line-number="2533"></td>
        <td id="LC2533" class="blob-code js-file-line">       &quot;jnd08biH9YSTh1kVNXLy8JWH9YQHzM2q5ODBtLz5E0/AyJF5R9Nze/fC2LHwwgswaFDe0VgteMDc\n&quot;,</td>
      </tr>
      <tr>
        <td id="L2534" class="blob-num js-line-number" data-line-number="2534"></td>
        <td id="LC2534" class="blob-code js-file-line">       &quot;rA51dKQ7lhoxcUC6S6y1FbZsyTsSawROHmZV0shdVl087mGVcvIwq5JmSB4e97BKOXmYVUkjrmlV\n&quot;,</td>
      </tr>
      <tr>
        <td id="L2535" class="blob-num js-line-number" data-line-number="2535"></td>
        <td id="LC2535" class="blob-code js-file-line">       &quot;zFceVikPmJtVQQT81m/BunUwZkze0fReZ2daSn7PHlBVhlWtnnjA3KzO7NyZnlc+enTekfRNaysc\n&quot;,</td>
      </tr>
      <tr>
        <td id="L2536" class="blob-num js-line-number" data-line-number="2536"></td>
        <td id="LC2536" class="blob-code js-file-line">       &quot;eWS6Y8ysFCcPsyroGu9ohm/rZ5zhcQ8rz8nDrAqaYbC8y9SpHvew8pw8zKrgkUcad02rYr7ysEo4\n&quot;,</td>
      </tr>
      <tr>
        <td id="L2537" class="blob-num js-line-number" data-line-number="2537"></td>
        <td id="LC2537" class="blob-code js-file-line">       &quot;eZhVga88bKApmzwkzZK0SdIWSdcepsyN2efrJE0tV1fSSEnLJW2WtExSS3Z8vKRXJa3JXl+tRiPN\n&quot;,</td>
      </tr>
      <tr>
        <td id="L2538" class="blob-num js-line-number" data-line-number="2538"></td>
        <td id="LC2538" class="blob-code js-file-line">       &quot;amnPnrS0x0kn5R1JdZx4Iuzbl+68MjuckslD0iDgJmAWMAWYK2lyUZnZwMSImARcCdxcQd0FwPKI\n&quot;,</td>
      </tr>
      <tr>
        <td id="L2539" class="blob-num js-line-number" data-line-number="2539"></td>
        <td id="LC2539" class="blob-code js-file-line">       &quot;OBlYke136YiIqdnrqr420KzW1q6F009Pd1s1A8mTBa28cr/u00l/zLdFxH5gMXB5UZnLgNsAImIl\n&quot;,</td>
      </tr>
      <tr>
        <td id="L2540" class="blob-num js-line-number" data-line-number="2540"></td>
        <td id="LC2540" class="blob-code js-file-line">       &quot;0CJpVJm6h+pk73P63BKznDTTeEcXTxa0csolj+OB7QX7O7JjlZQZU6Jua0R0XRR3Aq0F5SZkXVbt\n&quot;,</td>
      </tr>
      <tr>
        <td id="L2541" class="blob-num js-line-number" data-line-number="2541"></td>
        <td id="LC2541" class="blob-code js-file-line">       &quot;ks4r3wSzfDXTeEcXX3lYOeWSR6XTuCu5u13dnS+bKt51/ClgXERMBa4Bvi3p7RXGYJaLZkwevvKw\n&quot;,</td>
      </tr>
      <tr>
        <td id="L2542" class="blob-num js-line-number" data-line-number="2542"></td>
        <td id="LC2542" class="blob-code js-file-line">       &quot;cgaX+XwnMK5gfxzpCqJUmbFZmSHdHN+ZbXdKGhURuySNBnYDRMTrwOvZ9iOSfgVMAn7j13jhwoWH\n&quot;,</td>
      </tr>
      <tr>
        <td id="L2543" class="blob-num js-line-number" data-line-number="2543"></td>
        <td id="LC2543" class="blob-code js-file-line">       &quot;ttva2mhrayvTFLPq+8//hCefTEt6NJNJk2D37nQjQEtL3tFYb7W3t9Pe3l6Tc5dc20rSYOBx4H2k\n&quot;,</td>
      </tr>
      <tr>
        <td id="L2544" class="blob-num js-line-number" data-line-number="2544"></td>
        <td id="LC2544" class="blob-code js-file-line">       &quot;q4KHgLkRsbGgzGzg6oiYLWkG8OWImFGqrqQvAnsi4guSFgAtEbFA0nHA8xHxhqSTgJ8CvxMRe4vi\n&quot;,</td>
      </tr>
      <tr>
        <td id="L2545" class="blob-num js-line-number" data-line-number="2545"></td>
        <td id="LC2545" class="blob-code js-file-line">       &quot;8tpWVhcefBD+7M9g1aq8I6m+c8+Ff/gH8Pey5lHNta1KXnlExAFJVwNLgUHA17M//vOzz2+JiHsk\n&quot;,</td>
      </tr>
      <tr>
        <td id="L2546" class="blob-num js-line-number" data-line-number="2546"></td>
        <td id="LC2546" class="blob-code js-file-line">       &quot;zZbUAbwMfLpU3ezU1wHflfRZYBvw0ez4BcDfSdoPHATmFycOs3rSjIPlXbrGPZw8rDteVdesDz77\n&quot;,</td>
      </tr>
      <tr>
        <td id="L2547" class="blob-num js-line-number" data-line-number="2547"></td>
        <td id="LC2547" class="blob-code js-file-line">       &quot;WTjzTPjjP847kuq79Va4/364/fa8I7Fq8aq6ZnWiGZ7hcTi+48pK8ZWHWS+9/noaTN6zB4YNyzua\n&quot;,</td>
      </tr>
      <tr>
        <td id="L2548" class="blob-num js-line-number" data-line-number="2548"></td>
        <td id="LC2548" class="blob-code js-file-line">       &quot;6utq37PPwvDheUdj1eArD7M68NhjaUmSZkwcAEOHwqmnwqOP5h2J1SMnD7NeaubB8i5eJNEOx8nD\n&quot;,</td>
      </tr>
      <tr>
        <td id="L2549" class="blob-num js-line-number" data-line-number="2549"></td>
        <td id="LC2549" class="blob-code js-file-line">       &quot;rJeacXJgMS/Pbofj5GHWS77ysIHMA+ZmvfDGG3D00enZ5UcfnXc0tfPyy/DOd8ILL8CQIXlHY33l\n&quot;,</td>
      </tr>
      <tr>
        <td id="L2550" class="blob-num js-line-number" data-line-number="2550"></td>
        <td id="LC2550" class="blob-code js-file-line">       &quot;AXOznG3eDKNGNXfiABgxIj3fY8OGvCOxeuPkYdYLA2G8o4vHPaw7Th5mvTAQxju6eNzDuuPkYdYL\n&quot;,</td>
      </tr>
      <tr>
        <td id="L2551" class="blob-num js-line-number" data-line-number="2551"></td>
        <td id="LC2551" class="blob-code js-file-line">       &quot;vvKwgc4D5mY9FAHHHgsbN0Jra/nyje6559K4xwsvNM+jdgcqD5ib5eiJJ9Ks8oGQOABGjoTjjoOO\n&quot;,</td>
      </tr>
      <tr>
        <td id="L2552" class="blob-num js-line-number" data-line-number="2552"></td>
        <td id="LC2552" class="blob-code js-file-line">       &quot;jrwjsXri5GHWQwNpvKOLF0m0Yk4eZj00kMY7uvixtFbMycOsh5p5GfbD8ZWHFSubPCTNkrRJ0hZJ\n&quot;,</td>
      </tr>
      <tr>
        <td id="L2553" class="blob-num js-line-number" data-line-number="2553"></td>
        <td id="LC2553" class="blob-code js-file-line">       &quot;1x6mzI3Z5+skTS1XV9JIScslbZa0TFJL0flOkPSfkv6yL40zq4WBfOXh+1SsS8nkIWkQcBMwC5gC\n&quot;,</td>
      </tr>
      <tr>
        <td id="L2554" class="blob-num js-line-number" data-line-number="2554"></td>
        <td id="LC2554" class="blob-code js-file-line">       &quot;zJU0uajMbGBiREwCrgRurqDuAmB5RJwMrMj2C10P3N2HdpnVxFNPpedcnHhi3pH0r9GjYfBg2LEj\n&quot;,</td>
      </tr>
      <tr>
        <td id="L2555" class="blob-num js-line-number" data-line-number="2555"></td>
        <td id="LC2555" class="blob-code js-file-line">       &quot;70isXpS78pgOdETEtojYDywGLi8qcxlwG0BErARaJI0qU/dQnex9TtfJJM0BtgJeEMHqzurV6bGz\n&quot;,</td>
      </tr>
      <tr>
        <td id="L2556" class="blob-num js-line-number" data-line-number="2556"></td>
        <td id="LC2556" class="blob-code js-file-line">       &quot;qsrNjo3F4x5WqFzyOB7YXrC/IztWSZkxJeq2RkRntt0JtAJIOgr4a2BhZeGb9a9Vq+C97807inx4\n&quot;,</td>
      </tr>
      <tr>
        <td id="L2557" class="blob-num js-line-number" data-line-number="2557"></td>
        <td id="LC2557" class="blob-code js-file-line">       &quot;3MMKlUselfZwVvI9TN2dL5vt13V8IXBDRLxS4TnN+tXq1QM7efjKw7oMLvP5TmBcwf440hVEqTJj\n&quot;,</td>
      </tr>
      <tr>
        <td id="L2558" class="blob-num js-line-number" data-line-number="2558"></td>
        <td id="LC2558" class="blob-code js-file-line">       &quot;szJDujm+M9vulDQqInZJGg3szo5PBz4s6YtAC3BQ0qsR8dXiwBYuXHhou62tjba2tjJNMeubiDe7\n&quot;,</td>
      </tr>
      <tr>
        <td id="L2559" class="blob-num js-line-number" data-line-number="2559"></td>
        <td id="LC2559" class="blob-code js-file-line">       &quot;rQaiM86Av/iLvKOwnmhvb6e9vb0m5y65PImkwcDjwPuAp4CHgLkRsbGgzGzg6oiYLWkG8OWImFGq\n&quot;,</td>
      </tr>
      <tr>
        <td id="L2560" class="blob-num js-line-number" data-line-number="2560"></td>
        <td id="LC2560" class="blob-code js-file-line">       &quot;bpYc9kTEFyQtAFoiYkHRz/488FJEXN9NXF6exPrdtm1wzjlp0HwgioBjjoEtW9IzPqzx9NvyJBFx\n&quot;,</td>
      </tr>
      <tr>
        <td id="L2561" class="blob-num js-line-number" data-line-number="2561"></td>
        <td id="LC2561" class="blob-code js-file-line">       &quot;ALgaWEoawP5O9sd/vqT5WZl7gK2SOoBbgKtK1c1OfR0wU9Jm4OJs36yuDeSrDkg3CXjcw7p4YUSz\n&quot;,</td>
      </tr>
      <tr>
        <td id="L2562" class="blob-num js-line-number" data-line-number="2562"></td>
        <td id="LC2562" class="blob-code js-file-line">       &quot;Cl17LRx1FPzt3+YdSX6uuQZ+67dgQfHN9dYQvDCiWQ4G+pUHeHl2e5OTh1kFDh6Ehx+GadPyjiRf\n&quot;,</td>
      </tr>
      <tr>
        <td id="L2563" class="blob-num js-line-number" data-line-number="2563"></td>
        <td id="LC2563" class="blob-code js-file-line">       &quot;Z5yR/juYOXmYVaCjA1paPFB8yinwzDPw7LN5R2J5c/Iwq4C7rJJBg9I8l1Wr8o7E8ubkYVaBgTyz\n&quot;,</td>
      </tr>
      <tr>
        <td id="L2564" class="blob-num js-line-number" data-line-number="2564"></td>
        <td id="LC2564" class="blob-code js-file-line">       &quot;vNj06bByZd5RWN6cPMwq4CuPN511lpOH+VZds7LeeCONd2zfnt4Huqefht/5nTTuMRAXiGxkvlXX\n&quot;,</td>
      </tr>
      <tr>
        <td id="L2565" class="blob-num js-line-number" data-line-number="2565"></td>
        <td id="LC2565" class="blob-code js-file-line">       &quot;rB9t2ABjxjhxdBk9GkaM8DPNBzonD7MyfvlLmDEj7yjqy1lnwUMP5R2F5cnJw6yMX/zCyaOYB83N\n&quot;,</td>
      </tr>
      <tr>
        <td id="L2566" class="blob-num js-line-number" data-line-number="2566"></td>
        <td id="LC2566" class="blob-code js-file-line">       &quot;ycOsjF/+Es4+O+8o6osHzc0D5mYl7N0L48bB88+nx7Ba8vLLaY2r556Dt70t72isUh4wN+snK1em\n&quot;,</td>
      </tr>
      <tr>
        <td id="L2567" class="blob-num js-line-number" data-line-number="2567"></td>
        <td id="LC2567" class="blob-code js-file-line">       &quot;JUmcON5qxAiYNAnWrs07EsuLk4dZCe6yOjx3XQ1sTh5mJfhOq8PzHVcDm5OH2WEcPJi+WTt5dM93\n&quot;,</td>
      </tr>
      <tr>
        <td id="L2568" class="blob-num js-line-number" data-line-number="2568"></td>
        <td id="LC2568" class="blob-code js-file-line">       &quot;XA1sZZOHpFmSNknaIunaw5S5Mft8naSp5epKGilpuaTNkpZJasmOT5e0Jnutl3RFNRpp1hubN6eJ\n&quot;,</td>
      </tr>
      <tr>
        <td id="L2569" class="blob-num js-line-number" data-line-number="2569"></td>
        <td id="LC2569" class="blob-code js-file-line">       &quot;ga2teUdSnyZPTivsPvNM3pFYHkomD0mDgJuAWcAUYK6kyUVlZgMTI2IScCVwcwV1FwDLI+JkYEW2\n&quot;,</td>
      </tr>
      <tr>
        <td id="L2570" class="blob-num js-line-number" data-line-number="2570"></td>
        <td id="LC2570" class="blob-code js-file-line">       &quot;D/AoMC0ipgKXAv+cnces37nLqrRBg9J40AMP5B2J5aHclcd0oCMitkXEfmAxcHlRmcuA2wAiYiXQ\n&quot;,</td>
      </tr>
      <tr>
        <td id="L2571" class="blob-num js-line-number" data-line-number="2571"></td>
        <td id="LC2571" class="blob-code js-file-line">       &quot;ImlUmbqH6mTvc7L6r0bEwez4MOCFiHij160z6wNPDizv3HPh5z/POwrLQ7nkcTywvWB/R3askjJj\n&quot;,</td>
      </tr>
      <tr>
        <td id="L2572" class="blob-num js-line-number" data-line-number="2572"></td>
        <td id="LC2572" class="blob-code js-file-line">       &quot;StRtjYjObLsTONQxkHVdPQY8BlxTQRvMasJXHuWdd56vPAaqcnevVzoTr5JJJ+rufBERkqJg/yHg\n&quot;,</td>
      </tr>
      <tr>
        <td id="L2573" class="blob-num js-line-number" data-line-number="2573"></td>
        <td id="LC2573" class="blob-code js-file-line">       &quot;XZJOBe6T1B4RLxTXW7hw4aHttrY22traKgzVrLy9e+FXv4L3vCfvSOrb9Omwfj28+ioMG5Z3NFas\n&quot;,</td>
      </tr>
      <tr>
        <td id="L2574" class="blob-num js-line-number" data-line-number="2574"></td>
        <td id="LC2574" class="blob-code js-file-line">       &quot;vb2d9vb2mpy7XPLYCYwr2B9HuoIoVWZsVmZIN8d3ZtudkkZFxC5Jo4HdxT84IjZJ+hUwEfiNpyYX\n&quot;,</td>
      </tr>
      <tr>
        <td id="L2575" class="blob-num js-line-number" data-line-number="2575"></td>
        <td id="LC2575" class="blob-code js-file-line">       &quot;Jg+zanvwwfSHcejQvCOpb8OHp+XZV62CCy7IOxorVvzFetGiRVU7d7luq9XAJEnjJQ0FrgCWFJVZ\n&quot;,</td>
      </tr>
      <tr>
        <td id="L2576" class="blob-num js-line-number" data-line-number="2576"></td>
        <td id="LC2576" class="blob-code js-file-line">       &quot;AnwKQNIMYG/WJVWq7hJgXrY9D7grqz9e0uBs+0RgErClD+0z65Wf/QzOPz/vKBqDxz0GppLJIyIO\n&quot;,</td>
      </tr>
      <tr>
        <td id="L2577" class="blob-num js-line-number" data-line-number="2577"></td>
        <td id="LC2577" class="blob-code js-file-line">       &quot;AFcDS4ENwHciYqOk+ZLmZ2XuAbZK6gBuAa4qVTc79XXATEmbgYuzfYDzgLWS1gDfA66MiBer1lqz\n&quot;,</td>
      </tr>
      <tr>
        <td id="L2578" class="blob-num js-line-number" data-line-number="2578"></td>
        <td id="LC2578" class="blob-code js-file-line">       &quot;Cjl5VM7jHgOTF0Y0K7JvHxx3HOzaBUcdlXc09a+zE049FfbsgSM87biueWFEsxp66CGYMsWJo1Kt\n&quot;,</td>
      </tr>
      <tr>
        <td id="L2579" class="blob-num js-line-number" data-line-number="2579"></td>
        <td id="LC2579" class="blob-code js-file-line">       &quot;rSnZbtiQdyTWn5w8zIr89Kce/O0pj3sMPE4eZkU83tFz553n5DHQeMzDrMCBA3DssbB1a3q3ymzZ\n&quot;,</td>
      </tr>
      <tr>
        <td id="L2580" class="blob-num js-line-number" data-line-number="2580"></td>
        <td id="LC2580" class="blob-code js-file-line">       &quot;AhddBNu3g6rSo2614DEPsxpZtw7GjnXi6KmJE9N7R0e+cVj/cfIwK+Dxjt6R4OKL4Sc/yTsS6y9O\n&quot;,</td>
      </tr>
      <tr>
        <td id="L2581" class="blob-num js-line-number" data-line-number="2581"></td>
        <td id="LC2581" class="blob-code js-file-line">       &quot;HmYFVqxIfwSt5y66CO6/P+8orL94zMMss39/uuW0owPe+c68o2k827alpwvu2uVxj3rlMQ+zGli9\n&quot;,</td>
      </tr>
      <tr>
        <td id="L2582" class="blob-num js-line-number" data-line-number="2582"></td>
        <td id="LC2582" class="blob-code js-file-line">       &quot;GiZMcOLorfHjYcQIz/cYKJw8zDIrVsD73pd3FI3NXVcDh5OHWcbJo+8uvtjJY6DwmIcZ8MoraZmN\n&quot;,</td>
      </tr>
      <tr>
        <td id="L2583" class="blob-num js-line-number" data-line-number="2583"></td>
        <td id="LC2583" class="blob-code js-file-line">       &quot;p5/2siR98dRT8O53p+eae52r+uMxD7Mqe+ABOP10J46+GjMmjRmtW5d3JFZrTh5mpPkJ7rKqjksv\n&quot;,</td>
      </tr>
      <tr>
        <td id="L2584" class="blob-num js-line-number" data-line-number="2584"></td>
        <td id="LC2584" class="blob-code js-file-line">       &quot;haVL847Cas3JwwxYvtzJo1pmzYL77ss7Cqs1j3nYgNf1PIrdu2HIkLyjaXxd40c7d8I73pF3NFao\n&quot;,</td>
      </tr>
      <tr>
        <td id="L2585" class="blob-num js-line-number" data-line-number="2585"></td>
        <td id="LC2585" class="blob-code js-file-line">       &quot;38c8JM2StEnSFknXHqbMjdnn6yRNLVdX0khJyyVtlrRMUkt2fKak1ZLWZ+8X9bWRZqUsXZquOpw4\n&quot;,</td>
      </tr>
      <tr>
        <td id="L2586" class="blob-num js-line-number" data-line-number="2586"></td>
        <td id="LC2586" class="blob-code js-file-line">       &quot;qmP4cDjnnHT3mjWvsslD0iDgJmAWMAWYK2lyUZnZwMSImARcCdxcQd0FwPKIOBlYke0DPAN8MCJO\n&quot;,</td>
      </tr>
      <tr>
        <td id="L2587" class="blob-num js-line-number" data-line-number="2587"></td>
        <td id="LC2587" class="blob-code js-file-line">       &quot;Iz3f/PY+tdCsjHvugdmz846iubjrqvlVcuUxHeiIiG0RsR9YDFxeVOYy4DaAiFgJtEgaVabuoTrZ\n&quot;,</td>
      </tr>
      <tr>
        <td id="L2588" class="blob-num js-line-number" data-line-number="2588"></td>
        <td id="LC2588" class="blob-code js-file-line">       &quot;+5ys/tqI2JUd3wAMk+TvhFYTBw7AsmXpj51VT1fycO9y86okeRwPbC/Y35Edq6TMmBJ1WyOiM9vu\n&quot;,</td>
      </tr>
      <tr>
        <td id="L2589" class="blob-num js-line-number" data-line-number="2589"></td>
        <td id="LC2589" class="blob-code js-file-line">       &quot;BFq7+dkfBh7OEo9Z1a1cCSeemG4xteo59dT0vmlTvnFY7QyuoEyl3x0qGYRRd+eLiJD0luOS3gVc\n&quot;,</td>
      </tr>
      <tr>
        <td id="L2590" class="blob-num js-line-number" data-line-number="2590"></td>
        <td id="LC2590" class="blob-code js-file-line">       &quot;B8zs7kQLFy48tN3W1kZbW1uFYZq9yV1WtSHB+98P994LkyeXL2+10d7eTnt7e03OXUny2AmMK9gf\n&quot;,</td>
      </tr>
      <tr>
        <td id="L2591" class="blob-num js-line-number" data-line-number="2591"></td>
        <td id="LC2591" class="blob-code js-file-line">       &quot;R7qCKFVmbFZmSDfHd2bbnZJGRcQuSaOB3V2FJI0Ffgh8MiJ+3V1QhcnDrLfuuQf+6Z/yjqI5feAD\n&quot;,</td>
      </tr>
      <tr>
        <td id="L2592" class="blob-num js-line-number" data-line-number="2592"></td>
        <td id="LC2592" class="blob-code js-file-line">       &quot;cP31cM01eUcycBV/sV60aFHVzl1Jt9VqYJKk8ZKGAlcAS4rKLAE+BSBpBrA365IqVXcJaUCc7P2u\n&quot;,</td>
      </tr>
      <tr>
        <td id="L2593" class="blob-num js-line-number" data-line-number="2593"></td>
        <td id="LC2593" class="blob-code js-file-line">       &quot;rH4LcDdwbUT8otctMytj+/b0mjEj70ia0yWXwCOPwJ49eUditVA2eUTEAeBqYClpAPs7EbFR0nxJ\n&quot;,</td>
      </tr>
      <tr>
        <td id="L2594" class="blob-num js-line-number" data-line-number="2594"></td>
        <td id="LC2594" class="blob-code js-file-line">       &quot;87My9wBbJXUAtwBXlaqbnfo6YKakzcDF2T5Z+d8GPi9pTfY6rjrNNXvTXXfBBz8Igyu5/rYeGzYs\n&quot;,</td>
      </tr>
      <tr>
        <td id="L2595" class="blob-num js-line-number" data-line-number="2595"></td>
        <td id="LC2595" class="blob-code js-file-line">       &quot;JZAf/zjvSKwWPEnQBqyLLoI//3O4vPjeQaua22+HH/wgJWrLXzUnCTp52ID07LPw27+dnno3bFje\n&quot;,</td>
      </tr>
      <tr>
        <td id="L2596" class="blob-num js-line-number" data-line-number="2596"></td>
        <td id="LC2596" class="blob-code js-file-line">       &quot;0TSv555LD4natStNHrR8eVVdsz5asgRmznTiqLWRI2H69DSXxpqLk4cNSHfeCR/6UN5RDAxz5qT/\n&quot;,</td>
      </tr>
      <tr>
        <td id="L2597" class="blob-num js-line-number" data-line-number="2597"></td>
        <td id="LC2597" class="blob-code js-file-line">       &quot;3tZc3G1lA85LL8Hxx6c7rY4+Ou9omt+OHXDaaelBW297W97RDGzutjLrgzvvhAsvdOLoL2PHpuRx\n&quot;,</td>
      </tr>
      <tr>
        <td id="L2598" class="blob-num js-line-number" data-line-number="2598"></td>
        <td id="LC2598" class="blob-code js-file-line">       &quot;7715R2LV5ORhA863vw2f+ETeUQwsH/843HFH3lFYNbnbygaUzk445ZT0rIkRI/KOZuDYswdOOil1\n&quot;,</td>
      </tr>
      <tr>
        <td id="L2599" class="blob-num js-line-number" data-line-number="2599"></td>
        <td id="LC2599" class="blob-code js-file-line">       &quot;Yb397XlHM3C528qsl77zHfi933Pi6G/HHgsXXOD5Hs3EycMGFHdZ5cddV83F3VY2YGzZAuedl7qs\n&quot;,</td>
      </tr>
      <tr>
        <td id="L2600" class="blob-num js-line-number" data-line-number="2600"></td>
        <td id="LC2600" class="blob-code js-file-line">       &quot;vCRJ/3v55TR4/thjXgI/L+62MuuFr38dPvlJJ468jBgBH/kI3HZb+bJW/3zlYQPC66/DCSdAe/ub\n&quot;,</td>
      </tr>
      <tr>
        <td id="L2601" class="blob-num js-line-number" data-line-number="2601"></td>
        <td id="LC2601" class="blob-code js-file-line">       &quot;Dyqy/vfQQzB3broKPMJfXfudrzzMeuhHP0p3WTlx5OvMM+Goo+D++/OOxPrKycMGhK99Df7oj/KO\n&quot;,</td>
      </tr>
      <tr>
        <td id="L2602" class="blob-num js-line-number" data-line-number="2602"></td>
        <td id="LC2602" class="blob-code js-file-line">       &quot;wiT4L/8l/f+wxuZuK2t6v/51+sa7fbsXQqwHzz8PEybA449Da2ve0Qws7rYy64Ebb4TPfMaJo14c\n&quot;,</td>
      </tr>
      <tr>
        <td id="L2603" class="blob-num js-line-number" data-line-number="2603"></td>
        <td id="LC2603" class="blob-code js-file-line">       &quot;cwxccQXcfHPekVhfVJQ8JM2StEnSFknXHqbMjdnn6yRNLVdX0khJyyVtlrQse/xs1/H7Jb0kyU+X\n&quot;,</td>
      </tr>
      <tr>
        <td id="L2604" class="blob-num js-line-number" data-line-number="2604"></td>
        <td id="LC2604" class="blob-code js-file-line">       &quot;tj554YV0d8+f/mnekVihP//zlDz27cs7EuutsslD0iDgJmAWMAWYK2lyUZnZwMSImARcCdxcQd0F\n&quot;,</td>
      </tr>
      <tr>
        <td id="L2605" class="blob-num js-line-number" data-line-number="2605"></td>
        <td id="LC2605" class="blob-code js-file-line">       &quot;wPKIOBlYke0D7AP+O/BXfWuaGfyf/wOzZsG4cXlHYoUmT4Zp0+Bb38o7EuutSq48pgMdEbEtIvYD\n&quot;,</td>
      </tr>
      <tr>
        <td id="L2606" class="blob-num js-line-number" data-line-number="2606"></td>
        <td id="LC2606" class="blob-code js-file-line">       &quot;i4HiB3deBtwGEBErgRZJo8rUPVQne5+T1X8lIh4AXut9s8zgwAH4ylfgmmvyjsS6c801cP31cPBg\n&quot;,</td>
      </tr>
      <tr>
        <td id="L2607" class="blob-num js-line-number" data-line-number="2607"></td>
        <td id="LC2607" class="blob-code js-file-line">       &quot;3pFYb1SSPI4Hthfs78iOVVJmTIm6rRHRmW13AsVDZx4Rtz755jfTo2bf+968I7HuvO996fke//Zv\n&quot;,</td>
      </tr>
      <tr>
        <td id="L2608" class="blob-num js-line-number" data-line-number="2608"></td>
        <td id="LC2608" class="blob-code js-file-line">       &quot;eUdivVHJXNtK/4hXMoKv7s4XESGpR8li4cKFh7bb2tpoa2vrSXVrcvv3w9//Pdx6a96R2OFIsHAh\n&quot;,</td>
      </tr>
      <tr>
        <td id="L2609" class="blob-num js-line-number" data-line-number="2609"></td>
        <td id="LC2609" class="blob-code js-file-line">       &quot;/O3fwuWXe9JgLbS3t9Pe3l6Tc1eSPHYChT3G40hXEKXKjM3KDOnm+M5su1PSqIjYJWk0sLsngRcm\n&quot;,</td>
      </tr>
      <tr>
        <td id="L2610" class="blob-num js-line-number" data-line-number="2610"></td>
        <td id="LC2610" class="blob-code js-file-line">       &quot;D7Ni3/wmnHhieuiT1a/f+z34u79LD+j68Ifzjqb5FH+xXrRoUdXOXUmuXw1MkjRe0lDgCmBJUZkl\n&quot;,</td>
      </tr>
      <tr>
        <td id="L2611" class="blob-num js-line-number" data-line-number="2611"></td>
        <td id="LC2611" class="blob-code js-file-line">       &quot;wKcAJM0A9mZdUqXqLgHmZdvzgOLFmqtyL7INPK+/Dv/zf0IV/51YjXRdfSxc6LGPRlM2eUTEAeBq\n&quot;,</td>
      </tr>
      <tr>
        <td id="L2612" class="blob-num js-line-number" data-line-number="2612"></td>
        <td id="LC2612" class="blob-code js-file-line">       &quot;YCmwAfgF7w7tAAAJaElEQVRORGyUNF/S/KzMPcBWSR3ALcBVpepmp74OmClpM3Bxtg+ApG3Al4A/\n&quot;,</td>
      </tr>
      <tr>
        <td id="L2613" class="blob-num js-line-number" data-line-number="2613"></td>
        <td id="LC2613" class="blob-code js-file-line">       &quot;lPSkJC8qYRX753+Gk0+G88/POxKrxAc+kB4Q5QUTG4tnmFtTeeYZmDIFfvrTdDuoNYZVq9K4x6ZN\n&quot;,</td>
      </tr>
      <tr>
        <td id="L2614" class="blob-num js-line-number" data-line-number="2614"></td>
        <td id="LC2614" class="blob-code js-file-line">       &quot;8I535B1N86rmDHMnD2sqV12Vlly/8ca8I7Ge+sM/hFGj4Lrryha1XnLycPKwbqxcmb69btgAI0fm\n&quot;,</td>
      </tr>
      <tr>
        <td id="L2615" class="blob-num js-line-number" data-line-number="2615"></td>
        <td id="LC2615" class="blob-code js-file-line">       &quot;HY311FNPwWmnpavGKVPyjqY5eW0rsyKvvZbWr/ryl504GtWYMelGh898Bt54I+9orBwnD2sK//AP\n&quot;,</td>
      </tr>
      <tr>
        <td id="L2616" class="blob-num js-line-number" data-line-number="2616"></td>
        <td id="LC2616" class="blob-code js-file-line">       &quot;MHFiWnDPGteVV8Lw4XDDDXlHYuW428oa3s9+lh5v+sgjfjZ2M/j1r2H6dFi2DKZOLV/eKuduK7PM\n&quot;,</td>
      </tr>
      <tr>
        <td id="L2617" class="blob-num js-line-number" data-line-number="2617"></td>
        <td id="LC2617" class="blob-code js-file-line">       &quot;7t3w8Y/Dv/6rE0ezmDAB/umf0heCvXvzjsYOx1ce1rD274f3vz896Okf/zHvaKzarr4aduyAH/7Q\n&quot;,</td>
      </tr>
      <tr>
        <td id="L2618" class="blob-num js-line-number" data-line-number="2618"></td>
        <td id="LC2618" class="blob-code js-file-line">       &quot;S5dUi++2cvIY8CLgs59N8zruvDPdnmvN5bXXYObMtLDl9dfnHU1zcLeVDXj/43/A+vWweLETR7Pq\n&quot;,</td>
      </tr>
      <tr>
        <td id="L2619" class="blob-num js-line-number" data-line-number="2619"></td>
        <td id="LC2619" class="blob-code js-file-line">       &quot;WnF36VL40pfyjsaK+Z+dNZSIlDh++EP4yU9gxIi8I7JaOuYYuO++Nxe4/Mu/zDcee5OThzWMN96A\n&quot;,</td>
      </tr>
      <tr>
        <td id="L2620" class="blob-num js-line-number" data-line-number="2620"></td>
        <td id="LC2620" class="blob-code js-file-line">       &quot;z30OVqyA9nZ45zvzjsj6w7hx8O//DpdcAi++mBZRlJdNzZ3HPKwhvPhiuqvqlVfg+9/3RMCBqLMz\n&quot;,</td>
      </tr>
      <tr>
        <td id="L2621" class="blob-num js-line-number" data-line-number="2621"></td>
        <td id="LC2621" class="blob-code js-file-line">       &quot;LeE+YUJ6TouvOnvOYx42oPzyl+l51yeckPq/nTgGptbWtHTJsGEwYwasXZt3RAObk4fVrZdeggUL\n&quot;,</td>
      </tr>
      <tr>
        <td id="L2622" class="blob-num js-line-number" data-line-number="2622"></td>
        <td id="LC2622" class="blob-code js-file-line">       &quot;YM4c+MIX4KtfhSFD8o7K8nTkkWlOz1/9FVx6aXpmy6uv5h3VwOTkYXXntdfga1+DU06Bp59O3zA/\n&quot;,</td>
      </tr>
      <tr>
        <td id="L2623" class="blob-num js-line-number" data-line-number="2623"></td>
        <td id="LC2623" class="blob-code js-file-line">       &quot;9KG8o7J6IcG8ebBmTbrj7pRT4Bvf8HpY/a1s8pA0S9ImSVskXXuYMjdmn6+TNLVcXUkjJS2XtFnS\n&quot;,</td>
      </tr>
      <tr>
        <td id="L2624" class="blob-num js-line-number" data-line-number="2624"></td>
        <td id="LC2624" class="blob-code js-file-line">       &quot;MkktBZ/9TVZ+k6RL+9pAaxy7d6crjJNOgu99L92medttaZlus2LHHw8/+EG6XftrX0trm91wg2el\n&quot;,</td>
      </tr>
      <tr>
        <td id="L2625" class="blob-num js-line-number" data-line-number="2625"></td>
        <td id="LC2625" class="blob-code js-file-line">       &quot;95eSyUPSIOAmYBYwBZgraXJRmdnAxIiYBFwJ3FxB3QXA8og4GViR7SNpCulRtVOyel+VNOCujmr1\n&quot;,</td>
      </tr>
      <tr>
        <td id="L2626" class="blob-num js-line-number" data-line-number="2626"></td>
        <td id="LC2626" class="blob-code js-file-line">       &quot;wPp6Udi+XbvSt8YPfCA9/e+xx+Duu9O6RmeemV+MvTWQ/t/Vi3POSeubLV6cHip14ompq/OOO2DP\n&quot;,</td>
      </tr>
      <tr>
        <td id="L2627" class="blob-num js-line-number" data-line-number="2627"></td>
        <td id="LC2627" class="blob-code js-file-line">       &quot;np6dqx7bV6/K/WGeDnRExLaI2A8sBi4vKnMZcBtARKwEWiSNKlP3UJ3sfU62fTlwR0Tsj4htQEd2\n&quot;,</td>
      </tr>
      <tr>
        <td id="L2628" class="blob-num js-line-number" data-line-number="2628"></td>
        <td id="LC2628" class="blob-code js-file-line">       &quot;ngGlWX+BX389dUHdcEM7f/qn6dkNkyenGeJz56alKL7xDXjPe/KOtPea9f9dl3pu31lnwbe/DU8+\n&quot;,</td>
      </tr>
      <tr>
        <td id="L2629" class="blob-num js-line-number" data-line-number="2629"></td>
        <td id="LC2629" class="blob-code js-file-line">       &quot;Cb//+/Ctb6U7s6ZOhb/4C7j99tTNtX//4c9Rz+2rN+XmeRwPbC/Y3wGcVUGZ44ExJeq2RkRntt0J\n&quot;,</td>
      </tr>
      <tr>
        <td id="L2630" class="blob-num js-line-number" data-line-number="2630"></td>
        <td id="LC2630" class="blob-code js-file-line">       &quot;tGbbY4BfdnMuqzMRKRns25deL78Mzz2XXnv2pPdnn4UnnoBt29LrqadSl9SgQXDBBenW2zPP9Axx\n&quot;,</td>
      </tr>
      <tr>
        <td id="L2631" class="blob-num js-line-number" data-line-number="2631"></td>
        <td id="LC2631" class="blob-code js-file-line">       &quot;q66jj05jIvPmpUSxalW6S+vuu+F//a/0uzh2LIwfn65STjghzRkaORK2bk1jKS0t6a6u4cPTu2/U\n&quot;,</td>
      </tr>
      <tr>
        <td id="L2632" class="blob-num js-line-number" data-line-number="2632"></td>
        <td id="LC2632" class="blob-code js-file-line">       &quot;+E3l/tlWOpmikvuG1d35IiIklfo53X52/vld9QvPVX67v+r0pf7u3WkuQ3/+zErKvfbam8nitdfS\n&quot;,</td>
      </tr>
      <tr>
        <td id="L2633" class="blob-num js-line-number" data-line-number="2633"></td>
        <td id="LC2633" class="blob-code js-file-line">       &quot;P6gjj0yvYcPSP75jj33z/dhj4eyz01XFhAlpstfb3pYmeXmmsPWHIUNSt9Y557x57NVX05eari82\n&quot;,</td>
      </tr>
      <tr>
        <td id="L2634" class="blob-num js-line-number" data-line-number="2634"></td>
        <td id="LC2634" class="blob-code js-file-line">       &quot;Tz4J69alLz2rV6erk+efT+W6XpB+x4cNS192Bg0q/TriiPQqnszY0/1q1amJiDjsC5gB3Few/zfA\n&quot;,</td>
      </tr>
      <tr>
        <td id="L2635" class="blob-num js-line-number" data-line-number="2635"></td>
        <td id="LC2635" class="blob-code js-file-line">       &quot;tUVl/gX4WMH+JtKVxGHrZmVGZdujgU3Z9gJgQUGd+4Czuokr/PLLL7/86vmr1N/8nrzKXXmsBiZJ\n&quot;,</td>
      </tr>
      <tr>
        <td id="L2636" class="blob-num js-line-number" data-line-number="2636"></td>
        <td id="LC2636" class="blob-code js-file-line">       &quot;Gg88RRrMnltUZglwNbBY0gxgb0R0StpTou4SYB7whez9roLj35Z0Pam7ahLwUHFQ1ZohaWZmvVMy\n&quot;,</td>
      </tr>
      <tr>
        <td id="L2637" class="blob-num js-line-number" data-line-number="2637"></td>
        <td id="LC2637" class="blob-code js-file-line">       &quot;eUTEAUlXA0uBQcDXI2KjpPnZ57dExD2SZkvqAF4GPl2qbnbq64DvSvossA34aFZng6TvAhuAA8BV\n&quot;,</td>
      </tr>
      <tr>
        <td id="L2638" class="blob-num js-line-number" data-line-number="2638"></td>
        <td id="LC2638" class="blob-code js-file-line">       &quot;XofEzKz+NOTaVmZmlq+Gm0NRyaTFeiPpVkmdkh4tONbjiZKSpkl6NPvsK/3djsORNE7S/ZIek/Qf\n&quot;,</td>
      </tr>
      <tr>
        <td id="L2639" class="blob-num js-line-number" data-line-number="2639"></td>
        <td id="LC2639" class="blob-code js-file-line">       &quot;kv5rdrzh2yjpSEkrJa2VtEHSP2bHG75thSQNkrRG0o+y/aZpn6RtktZn7XsoO9ZM7WuR9H1JG7Pf\n&quot;,</td>
      </tr>
      <tr>
        <td id="L2640" class="blob-num js-line-number" data-line-number="2640"></td>
        <td id="LC2640" class="blob-code js-file-line">       &quot;0bP6pX3VGjzpjxep+6sDGA8MAdYCk/OOq4K4zwemAo8WHPsi8NfZ9rXAddn2lKxdQ7J2dvDmFeJD\n&quot;,</td>
      </tr>
      <tr>
        <td id="L2641" class="blob-num js-line-number" data-line-number="2641"></td>
        <td id="LC2641" class="blob-code js-file-line">       &quot;wPRs+x5gVt5ty2IZBbwn2z4KeByY3CxtBIZn74NJt5Kf1yxtK2jjNcC3gCVN+Pv5a2Bk0bFmat9t\n&quot;,</td>
      </tr>
      <tr>
        <td id="L2642" class="blob-num js-line-number" data-line-number="2642"></td>
        <td id="LC2642" class="blob-code js-file-line">       &quot;wGcKfkeP7o/25d7wHv5HOpu33sH1lruz6vmV/Y8qTB6bSPNdIP3x7brj7C13tJHuOJtBuittY8Hx\n&quot;,</td>
      </tr>
      <tr>
        <td id="L2643" class="blob-num js-line-number" data-line-number="2643"></td>
        <td id="LC2643" class="blob-code js-file-line">       &quot;jwH/kne7DtPWu4BLmq2NwHBgFfCuZmobMBb4f8BFwI+a7feTlDyOLTrWFO0jJYqt3Ryvefsardvq\n&quot;,</td>
      </tr>
      <tr>
        <td id="L2644" class="blob-num js-line-number" data-line-number="2644"></td>
        <td id="LC2644" class="blob-code js-file-line">       &quot;cBMSG1GpiZI7CsoVTrosPL6TOmx7dnfdVGAlTdJGSUdIWktqw/0R8RhN0rbMDcDngIMFx5qpfQH8\n&quot;,</td>
      </tr>
      <tr>
        <td id="L2645" class="blob-num js-line-number" data-line-number="2645"></td>
        <td id="LC2645" class="blob-code js-file-line">       &quot;P0mrJf1RdqxZ2jcBeEbSv0p6RNLXJI2gH9rXaMmjKUf3I6X6hm+bpKOAHwB/FhEvFX7WyG2MiIMR\n&quot;,</td>
      </tr>
      <tr>
        <td id="L2646" class="blob-num js-line-number" data-line-number="2646"></td>
        <td id="LC2646" class="blob-code js-file-line">       &quot;8R7SN/QLJF1U9HnDtk3SB4HdEbGGw0z2beT2Zc6NiKnA+4E/kXR+4YcN3r7BwBnAVyPiDNIdrwsK\n&quot;,</td>
      </tr>
      <tr>
        <td id="L2647" class="blob-num js-line-number" data-line-number="2647"></td>
        <td id="LC2647" class="blob-code js-file-line">       &quot;C9SqfY2WPHYC4wr2x/HWbNlIOpXWAEPSaGB3dry4jWNJbdyZbRce39kPcVZE0hBS4rg9Irrm7TRV\n&quot;,</td>
      </tr>
      <tr>
        <td id="L2648" class="blob-num js-line-number" data-line-number="2648"></td>
        <td id="LC2648" class="blob-code js-file-line">       &quot;GyPiBeBuYBrN07ZzgMsk/Rq4A7hY0u00T/uIiKez92eAO0nr5TVL+3YAOyJiVbb/fVIy2VXr9jVa\n&quot;,</td>
      </tr>
      <tr>
        <td id="L2649" class="blob-num js-line-number" data-line-number="2649"></td>
        <td id="LC2649" class="blob-code js-file-line">       &quot;8jg0aVHSUNLEwyU5x9RbXRMl4TcnSn5M0lBJE8gmSkbELuDF7E4KAZ8sqJOrLJ6vAxsi4ssFHzV8\n&quot;,</td>
      </tr>
      <tr>
        <td id="L2650" class="blob-num js-line-number" data-line-number="2650"></td>
        <td id="LC2650" class="blob-code js-file-line">       &quot;GyUd13WniqRhwExgDU3QNoCI+G8RMS4iJpD6uX8SEZ+kSdonabikt2fbI4BLgUdpkvZlcW2XdHJ2\n&quot;,</td>
      </tr>
      <tr>
        <td id="L2651" class="blob-num js-line-number" data-line-number="2651"></td>
        <td id="LC2651" class="blob-code js-file-line">       &quot;6BLgMeBH1Lp9eQ/49GKA6P2ku3k6gL/JO54KY76DNMv+ddKYzaeBkaRBys3AMqCloPx/y9q3Cfjd\n&quot;,</td>
      </tr>
      <tr>
        <td id="L2652" class="blob-num js-line-number" data-line-number="2652"></td>
        <td id="LC2652" class="blob-code js-file-line">       &quot;guPTSL/4HcCNeberIK7zSP3la0l/WNeQltRv+DYC7wYeydq2Hvhcdrzh29ZNWy/kzbutmqJ9pDGB\n&quot;,</td>
      </tr>
      <tr>
        <td id="L2653" class="blob-num js-line-number" data-line-number="2653"></td>
        <td id="LC2653" class="blob-code js-file-line">       &quot;tdnrP7r+ZjRL+7K4TifdyLEO+CFpEL3m7fMkQTMz67FG67YyM7M64ORhZmY95uRhZmY95uRhZmY9\n&quot;,</td>
      </tr>
      <tr>
        <td id="L2654" class="blob-num js-line-number" data-line-number="2654"></td>
        <td id="LC2654" class="blob-code js-file-line">       &quot;5uRhZmY95uRhZmY95uRhZmY95uRhZmY99v8Bjzv4cZrzAUwAAAAASUVORK5CYII=\n&quot;</td>
      </tr>
      <tr>
        <td id="L2655" class="blob-num js-line-number" data-line-number="2655"></td>
        <td id="LC2655" class="blob-code js-file-line">      ],</td>
      </tr>
      <tr>
        <td id="L2656" class="blob-num js-line-number" data-line-number="2656"></td>
        <td id="LC2656" class="blob-code js-file-line">      &quot;text/plain&quot;: [</td>
      </tr>
      <tr>
        <td id="L2657" class="blob-num js-line-number" data-line-number="2657"></td>
        <td id="LC2657" class="blob-code js-file-line">       &quot;&lt;matplotlib.figure.Figure at 0xeded438&gt;&quot;</td>
      </tr>
      <tr>
        <td id="L2658" class="blob-num js-line-number" data-line-number="2658"></td>
        <td id="LC2658" class="blob-code js-file-line">      ]</td>
      </tr>
      <tr>
        <td id="L2659" class="blob-num js-line-number" data-line-number="2659"></td>
        <td id="LC2659" class="blob-code js-file-line">     },</td>
      </tr>
      <tr>
        <td id="L2660" class="blob-num js-line-number" data-line-number="2660"></td>
        <td id="LC2660" class="blob-code js-file-line">     &quot;metadata&quot;: {},</td>
      </tr>
      <tr>
        <td id="L2661" class="blob-num js-line-number" data-line-number="2661"></td>
        <td id="LC2661" class="blob-code js-file-line">     &quot;output_type&quot;: &quot;display_data&quot;</td>
      </tr>
      <tr>
        <td id="L2662" class="blob-num js-line-number" data-line-number="2662"></td>
        <td id="LC2662" class="blob-code js-file-line">    },</td>
      </tr>
      <tr>
        <td id="L2663" class="blob-num js-line-number" data-line-number="2663"></td>
        <td id="LC2663" class="blob-code js-file-line">    {</td>
      </tr>
      <tr>
        <td id="L2664" class="blob-num js-line-number" data-line-number="2664"></td>
        <td id="LC2664" class="blob-code js-file-line">     &quot;name&quot;: &quot;stdout&quot;,</td>
      </tr>
      <tr>
        <td id="L2665" class="blob-num js-line-number" data-line-number="2665"></td>
        <td id="LC2665" class="blob-code js-file-line">     &quot;output_type&quot;: &quot;stream&quot;,</td>
      </tr>
      <tr>
        <td id="L2666" class="blob-num js-line-number" data-line-number="2666"></td>
        <td id="LC2666" class="blob-code js-file-line">     &quot;text&quot;: [</td>
      </tr>
      <tr>
        <td id="L2667" class="blob-num js-line-number" data-line-number="2667"></td>
        <td id="LC2667" class="blob-code js-file-line">      &quot;0.998562706272\n&quot;</td>
      </tr>
      <tr>
        <td id="L2668" class="blob-num js-line-number" data-line-number="2668"></td>
        <td id="LC2668" class="blob-code js-file-line">     ]</td>
      </tr>
      <tr>
        <td id="L2669" class="blob-num js-line-number" data-line-number="2669"></td>
        <td id="LC2669" class="blob-code js-file-line">    }</td>
      </tr>
      <tr>
        <td id="L2670" class="blob-num js-line-number" data-line-number="2670"></td>
        <td id="LC2670" class="blob-code js-file-line">   ],</td>
      </tr>
      <tr>
        <td id="L2671" class="blob-num js-line-number" data-line-number="2671"></td>
        <td id="LC2671" class="blob-code js-file-line">   &quot;source&quot;: [</td>
      </tr>
      <tr>
        <td id="L2672" class="blob-num js-line-number" data-line-number="2672"></td>
        <td id="LC2672" class="blob-code js-file-line">    &quot;plt.plot(s_probHat)\n&quot;,</td>
      </tr>
      <tr>
        <td id="L2673" class="blob-num js-line-number" data-line-number="2673"></td>
        <td id="LC2673" class="blob-code js-file-line">    &quot;plt.show()\n&quot;,</td>
      </tr>
      <tr>
        <td id="L2674" class="blob-num js-line-number" data-line-number="2674"></td>
        <td id="LC2674" class="blob-code js-file-line">    &quot;print XX&quot;</td>
      </tr>
      <tr>
        <td id="L2675" class="blob-num js-line-number" data-line-number="2675"></td>
        <td id="LC2675" class="blob-code js-file-line">   ]</td>
      </tr>
      <tr>
        <td id="L2676" class="blob-num js-line-number" data-line-number="2676"></td>
        <td id="LC2676" class="blob-code js-file-line">  },</td>
      </tr>
      <tr>
        <td id="L2677" class="blob-num js-line-number" data-line-number="2677"></td>
        <td id="LC2677" class="blob-code js-file-line">  {</td>
      </tr>
      <tr>
        <td id="L2678" class="blob-num js-line-number" data-line-number="2678"></td>
        <td id="LC2678" class="blob-code js-file-line">   &quot;cell_type&quot;: &quot;markdown&quot;,</td>
      </tr>
      <tr>
        <td id="L2679" class="blob-num js-line-number" data-line-number="2679"></td>
        <td id="LC2679" class="blob-code js-file-line">   &quot;metadata&quot;: {},</td>
      </tr>
      <tr>
        <td id="L2680" class="blob-num js-line-number" data-line-number="2680"></td>
        <td id="LC2680" class="blob-code js-file-line">   &quot;source&quot;: [</td>
      </tr>
      <tr>
        <td id="L2681" class="blob-num js-line-number" data-line-number="2681"></td>
        <td id="LC2681" class="blob-code js-file-line">    &quot;It seems like a good idea to make a little code that can generate quantities of interest based on this. So, here goes:&quot;</td>
      </tr>
      <tr>
        <td id="L2682" class="blob-num js-line-number" data-line-number="2682"></td>
        <td id="LC2682" class="blob-code js-file-line">   ]</td>
      </tr>
      <tr>
        <td id="L2683" class="blob-num js-line-number" data-line-number="2683"></td>
        <td id="LC2683" class="blob-code js-file-line">  },</td>
      </tr>
      <tr>
        <td id="L2684" class="blob-num js-line-number" data-line-number="2684"></td>
        <td id="LC2684" class="blob-code js-file-line">  {</td>
      </tr>
      <tr>
        <td id="L2685" class="blob-num js-line-number" data-line-number="2685"></td>
        <td id="LC2685" class="blob-code js-file-line">   &quot;cell_type&quot;: &quot;code&quot;,</td>
      </tr>
      <tr>
        <td id="L2686" class="blob-num js-line-number" data-line-number="2686"></td>
        <td id="LC2686" class="blob-code js-file-line">   &quot;execution_count&quot;: 52,</td>
      </tr>
      <tr>
        <td id="L2687" class="blob-num js-line-number" data-line-number="2687"></td>
        <td id="LC2687" class="blob-code js-file-line">   &quot;metadata&quot;: {</td>
      </tr>
      <tr>
        <td id="L2688" class="blob-num js-line-number" data-line-number="2688"></td>
        <td id="LC2688" class="blob-code js-file-line">    &quot;collapsed&quot;: false</td>
      </tr>
      <tr>
        <td id="L2689" class="blob-num js-line-number" data-line-number="2689"></td>
        <td id="LC2689" class="blob-code js-file-line">   },</td>
      </tr>
      <tr>
        <td id="L2690" class="blob-num js-line-number" data-line-number="2690"></td>
        <td id="LC2690" class="blob-code js-file-line">   &quot;outputs&quot;: [],</td>
      </tr>
      <tr>
        <td id="L2691" class="blob-num js-line-number" data-line-number="2691"></td>
        <td id="LC2691" class="blob-code js-file-line">   &quot;source&quot;: [</td>
      </tr>
      <tr>
        <td id="L2692" class="blob-num js-line-number" data-line-number="2692"></td>
        <td id="LC2692" class="blob-code js-file-line">    &quot;    VAR_sHAT=SIGMA**2\n&quot;,</td>
      </tr>
      <tr>
        <td id="L2693" class="blob-num js-line-number" data-line-number="2693"></td>
        <td id="LC2693" class="blob-code js-file-line">    &quot;    XresultHat=so.minimize(calibration_eval,x0,args=a,method=&#39;Nelder-Mead&#39;)   #Sloppy - relying on global definitions being just what want them to be\n&quot;,</td>
      </tr>
      <tr>
        <td id="L2694" class="blob-num js-line-number" data-line-number="2694"></td>
        <td id="LC2694" class="blob-code js-file-line">    &quot;    KNn_US=XresultHat.x[0]\n&quot;,</td>
      </tr>
      <tr>
        <td id="L2695" class="blob-num js-line-number" data-line-number="2695"></td>
        <td id="LC2695" class="blob-code js-file-line">    &quot;    THETA=XresultHat.x[1]\n&quot;,</td>
      </tr>
      <tr>
        <td id="L2696" class="blob-num js-line-number" data-line-number="2696"></td>
        <td id="LC2696" class="blob-code js-file-line">    &quot;    pa_US=XresultHat.x[2]\n&quot;,</td>
      </tr>
      <tr>
        <td id="L2697" class="blob-num js-line-number" data-line-number="2697"></td>
        <td id="LC2697" class="blob-code js-file-line">    &quot;    w_US=(1-ALPHA)*A_US*KNn_US**ALPHA           # I&#39;m not sure any of this is necessary given how Python&#39;s local/global definitions are so fluid\n&quot;,</td>
      </tr>
      <tr>
        <td id="L2698" class="blob-num js-line-number" data-line-number="2698"></td>
        <td id="LC2698" class="blob-code js-file-line">    &quot;    r_US=ALPHA*A_US*KNn_US**(ALPHA-1)\n&quot;,</td>
      </tr>
      <tr>
        <td id="L2699" class="blob-num js-line-number" data-line-number="2699"></td>
        <td id="LC2699" class="blob-code js-file-line">    &quot;    Ka_US=K_US-(KNn_US*(1-Na_US))\n&quot;,</td>
      </tr>
      <tr>
        <td id="L2700" class="blob-num js-line-number" data-line-number="2700"></td>
        <td id="LC2700" class="blob-code js-file-line">    &quot;    KNa_US=Ka_US/Na_US\n&quot;,</td>
      </tr>
      <tr>
        <td id="L2701" class="blob-num js-line-number" data-line-number="2701"></td>
        <td id="LC2701" class="blob-code js-file-line">    &quot;    YNn_US=A_US*(KNn_US**ALPHA)                                                                          \n&quot;,</td>
      </tr>
      <tr>
        <td id="L2702" class="blob-num js-line-number" data-line-number="2702"></td>
        <td id="LC2702" class="blob-code js-file-line">    &quot;    q_r_US=(rKa_qL_US**(-1))*Ka_US/LN_US\n&quot;,</td>
      </tr>
      <tr>
        <td id="L2703" class="blob-num js-line-number" data-line-number="2703"></td>
        <td id="LC2703" class="blob-code js-file-line">    &quot;    q_US=q_r_US*r_US\n&quot;,</td>
      </tr>
      <tr>
        <td id="L2704" class="blob-num js-line-number" data-line-number="2704"></td>
        <td id="LC2704" class="blob-code js-file-line">    &quot;    aBAR=(1/(pa_US*(1-PHI)))*((w_US*(1-XI)*Na_US/((1-GAMMA)))-PHI*(w_US*(1-XI)+q_US*LN_US+r_US*K_US))  \n&quot;,</td>
      </tr>
      <tr>
        <td id="L2705" class="blob-num js-line-number" data-line-number="2705"></td>
        <td id="LC2705" class="blob-code js-file-line">    &quot;    psi_s_vec1=THETA*((THETA*q_r_US/(1-THETA))**(RHO/(1-RHO)))*np.ones((s_n,1))\n&quot;,</td>
      </tr>
      <tr>
        <td id="L2706" class="blob-num js-line-number" data-line-number="2706"></td>
        <td id="LC2706" class="blob-code js-file-line">    &quot;    psi_s_vec2=(1-THETA)*np.power(s_grid,(RHO/(1-RHO)))\n&quot;,</td>
      </tr>
      <tr>
        <td id="L2707" class="blob-num js-line-number" data-line-number="2707"></td>
        <td id="LC2707" class="blob-code js-file-line">    &quot;    psi_s_vec=psi_s_vec1+psi_s_vec2\n&quot;,</td>
      </tr>
      <tr>
        <td id="L2708" class="blob-num js-line-number" data-line-number="2708"></td>
        <td id="LC2708" class="blob-code js-file-line">    &quot;    l_vec1=((pa_US*GAMMA*(1-THETA)*KAPPA_US*A_US/q_US)**(1/(1-GAMMA)))\n&quot;,</td>
      </tr>
      <tr>
        <td id="L2709" class="blob-num js-line-number" data-line-number="2709"></td>
        <td id="LC2709" class="blob-code js-file-line">    &quot;    l_vec2=(np.power(psi_s_vec,((GAMMA-RHO)/(RHO*(1-GAMMA)))))\n&quot;,</td>
      </tr>
      <tr>
        <td id="L2710" class="blob-num js-line-number" data-line-number="2710"></td>
        <td id="LC2710" class="blob-code js-file-line">    &quot;    l_vec3=(np.power(s_grid,(RHO/(1-RHO))))\n&quot;,</td>
      </tr>
      <tr>
        <td id="L2711" class="blob-num js-line-number" data-line-number="2711"></td>
        <td id="LC2711" class="blob-code js-file-line">    &quot;    l_vec=l_vec1*np.multiply(l_vec2,l_vec3)\n&quot;,</td>
      </tr>
      <tr>
        <td id="L2712" class="blob-num js-line-number" data-line-number="2712"></td>
        <td id="LC2712" class="blob-code js-file-line">    &quot;    k_l_vec=((THETA*q_r_US/(1-THETA))**(1/(1-RHO)))*((np.power(s_grid,(-RHO/(1-RHO)))))\n&quot;,</td>
      </tr>
      <tr>
        <td id="L2713" class="blob-num js-line-number" data-line-number="2713"></td>
        <td id="LC2713" class="blob-code js-file-line">    &quot;    k_vec = np.multiply(k_l_vec , l_vec)\n&quot;,</td>
      </tr>
      <tr>
        <td id="L2714" class="blob-num js-line-number" data-line-number="2714"></td>
        <td id="LC2714" class="blob-code js-file-line">    &quot;    ya_vec=KAPPA_US*A_US*np.power((THETA*np.power(k_vec,RHO)+(1-THETA)*np.power(np.multiply(s_grid,l_vec),RHO)),GAMMA/RHO)\n&quot;,</td>
      </tr>
      <tr>
        <td id="L2715" class="blob-num js-line-number" data-line-number="2715"></td>
        <td id="LC2715" class="blob-code js-file-line">    &quot;    PI_vec=(1-GAMMA)*pa_US*ya_vec\n&quot;,</td>
      </tr>
      <tr>
        <td id="L2716" class="blob-num js-line-number" data-line-number="2716"></td>
        <td id="LC2716" class="blob-code js-file-line">    &quot;    l_value = sum(np.multiply(s_probHat,l_vec))           # Average farm size\n&quot;,</td>
      </tr>
      <tr>
        <td id="L2717" class="blob-num js-line-number" data-line-number="2717"></td>
        <td id="LC2717" class="blob-code js-file-line">    &quot;    YNa_value = sum(np.multiply(s_probHat,ya_vec))        # Agricultural Labor Productivity\n&quot;,</td>
      </tr>
      <tr>
        <td id="L2718" class="blob-num js-line-number" data-line-number="2718"></td>
        <td id="LC2718" class="blob-code js-file-line">    &quot;    YN_value = Na_US*pa_US*YNa_value+(1-Na_US)*YNn_US  # Aggregate Labor Productivity\n&quot;,</td>
      </tr>
      <tr>
        <td id="L2719" class="blob-num js-line-number" data-line-number="2719"></td>
        <td id="LC2719" class="blob-code js-file-line">    &quot;    binIndices=np.zeros((12,1))\n&quot;,</td>
      </tr>
      <tr>
        <td id="L2720" class="blob-num js-line-number" data-line-number="2720"></td>
        <td id="LC2720" class="blob-code js-file-line">    &quot;    farms=np.zeros((12,1))\n&quot;,</td>
      </tr>
      <tr>
        <td id="L2721" class="blob-num js-line-number" data-line-number="2721"></td>
        <td id="LC2721" class="blob-code js-file-line">    &quot;    lands=np.zeros((12,1))\n&quot;,</td>
      </tr>
      <tr>
        <td id="L2722" class="blob-num js-line-number" data-line-number="2722"></td>
        <td id="LC2722" class="blob-code js-file-line">    &quot;    Capital=np.zeros((12,1))\n&quot;,</td>
      </tr>
      <tr>
        <td id="L2723" class="blob-num js-line-number" data-line-number="2723"></td>
        <td id="LC2723" class="blob-code js-file-line">    &quot;    Output=np.zeros((12,1))\n&quot;,</td>
      </tr>
      <tr>
        <td id="L2724" class="blob-num js-line-number" data-line-number="2724"></td>
        <td id="LC2724" class="blob-code js-file-line">    &quot;    ss=np.zeros((12,1))\n&quot;,</td>
      </tr>
      <tr>
        <td id="L2725" class="blob-num js-line-number" data-line-number="2725"></td>
        <td id="LC2725" class="blob-code js-file-line">    &quot;    startIndex=0\n&quot;,</td>
      </tr>
      <tr>
        <td id="L2726" class="blob-num js-line-number" data-line-number="2726"></td>
        <td id="LC2726" class="blob-code js-file-line">    &quot;    l_vec=np.array(l_vec)\n&quot;,</td>
      </tr>
      <tr>
        <td id="L2727" class="blob-num js-line-number" data-line-number="2727"></td>
        <td id="LC2727" class="blob-code js-file-line">    &quot;    for i in range(0,11):\n&quot;,</td>
      </tr>
      <tr>
        <td id="L2728" class="blob-num js-line-number" data-line-number="2728"></td>
        <td id="LC2728" class="blob-code js-file-line">    &quot;        binIndices[i]=(np.searchsorted(l_vec[:,0],bins[i],&#39;rightsided&#39;))\n&quot;,</td>
      </tr>
      <tr>
        <td id="L2729" class="blob-num js-line-number" data-line-number="2729"></td>
        <td id="LC2729" class="blob-code js-file-line">    &quot;        indexToUse=int(binIndices[i])\n&quot;,</td>
      </tr>
      <tr>
        <td id="L2730" class="blob-num js-line-number" data-line-number="2730"></td>
        <td id="LC2730" class="blob-code js-file-line">    &quot;        farms[i]=np.sum(s_prob[startIndex:indexToUse])\n&quot;,</td>
      </tr>
      <tr>
        <td id="L2731" class="blob-num js-line-number" data-line-number="2731"></td>
        <td id="LC2731" class="blob-code js-file-line">    &quot;        lands[i]=np.sum(np.multiply(l_vec[startIndex:indexToUse],s_prob[startIndex:indexToUse]))/l_value\n&quot;,</td>
      </tr>
      <tr>
        <td id="L2732" class="blob-num js-line-number" data-line-number="2732"></td>
        <td id="LC2732" class="blob-code js-file-line">    &quot;        Capital[i]=np.sum(np.multiply(k_vec[startIndex:indexToUse],s_prob[startIndex:indexToUse]))\n&quot;,</td>
      </tr>
      <tr>
        <td id="L2733" class="blob-num js-line-number" data-line-number="2733"></td>
        <td id="LC2733" class="blob-code js-file-line">    &quot;        Output[i]=np.sum(np.multiply(ya_vec[startIndex:indexToUse],s_prob[startIndex:indexToUse]))\n&quot;,</td>
      </tr>
      <tr>
        <td id="L2734" class="blob-num js-line-number" data-line-number="2734"></td>
        <td id="LC2734" class="blob-code js-file-line">    &quot;        ss[i]=np.sum(np.multiply(s_grid[startIndex:indexToUse],s_prob[startIndex:indexToUse]))\n&quot;,</td>
      </tr>
      <tr>
        <td id="L2735" class="blob-num js-line-number" data-line-number="2735"></td>
        <td id="LC2735" class="blob-code js-file-line">    &quot;        startIndex=indexToUse+1\n&quot;,</td>
      </tr>
      <tr>
        <td id="L2736" class="blob-num js-line-number" data-line-number="2736"></td>
        <td id="LC2736" class="blob-code js-file-line">    &quot;    farms[11]=np.sum(s_prob[startIndex:s_n])\n&quot;,</td>
      </tr>
      <tr>
        <td id="L2737" class="blob-num js-line-number" data-line-number="2737"></td>
        <td id="LC2737" class="blob-code js-file-line">    &quot;    lands[11]=np.sum(np.multiply(l_vec[startIndex:s_n],s_prob[startIndex:s_n]))\n&quot;,</td>
      </tr>
      <tr>
        <td id="L2738" class="blob-num js-line-number" data-line-number="2738"></td>
        <td id="LC2738" class="blob-code js-file-line">    &quot;    Capital[11]=np.sum(np.multiply(k_vec[startIndex:s_n],s_prob[startIndex:s_n]))\n&quot;,</td>
      </tr>
      <tr>
        <td id="L2739" class="blob-num js-line-number" data-line-number="2739"></td>
        <td id="LC2739" class="blob-code js-file-line">    &quot;    Output[11]=np.sum(np.multiply(ya_vec[startIndex:s_n],s_prob[startIndex:s_n]))\n&quot;,</td>
      </tr>
      <tr>
        <td id="L2740" class="blob-num js-line-number" data-line-number="2740"></td>
        <td id="LC2740" class="blob-code js-file-line">    &quot;    ss[11]=np.sum(np.multiply(s_grid[startIndex:s_n],s_prob[startIndex:s_n]))\n&quot;,</td>
      </tr>
      <tr>
        <td id="L2741" class="blob-num js-line-number" data-line-number="2741"></td>
        <td id="LC2741" class="blob-code js-file-line">    &quot;    kl_min_max_model=Capital[0]/(lands[0]*l_value)/(Capital[11]/(lands[11]*l_value))&quot;</td>
      </tr>
      <tr>
        <td id="L2742" class="blob-num js-line-number" data-line-number="2742"></td>
        <td id="LC2742" class="blob-code js-file-line">   ]</td>
      </tr>
      <tr>
        <td id="L2743" class="blob-num js-line-number" data-line-number="2743"></td>
        <td id="LC2743" class="blob-code js-file-line">  },</td>
      </tr>
      <tr>
        <td id="L2744" class="blob-num js-line-number" data-line-number="2744"></td>
        <td id="LC2744" class="blob-code js-file-line">  {</td>
      </tr>
      <tr>
        <td id="L2745" class="blob-num js-line-number" data-line-number="2745"></td>
        <td id="LC2745" class="blob-code js-file-line">   &quot;cell_type&quot;: &quot;code&quot;,</td>
      </tr>
      <tr>
        <td id="L2746" class="blob-num js-line-number" data-line-number="2746"></td>
        <td id="LC2746" class="blob-code js-file-line">   &quot;execution_count&quot;: 53,</td>
      </tr>
      <tr>
        <td id="L2747" class="blob-num js-line-number" data-line-number="2747"></td>
        <td id="LC2747" class="blob-code js-file-line">   &quot;metadata&quot;: {</td>
      </tr>
      <tr>
        <td id="L2748" class="blob-num js-line-number" data-line-number="2748"></td>
        <td id="LC2748" class="blob-code js-file-line">    &quot;collapsed&quot;: false</td>
      </tr>
      <tr>
        <td id="L2749" class="blob-num js-line-number" data-line-number="2749"></td>
        <td id="LC2749" class="blob-code js-file-line">   },</td>
      </tr>
      <tr>
        <td id="L2750" class="blob-num js-line-number" data-line-number="2750"></td>
        <td id="LC2750" class="blob-code js-file-line">   &quot;outputs&quot;: [</td>
      </tr>
      <tr>
        <td id="L2751" class="blob-num js-line-number" data-line-number="2751"></td>
        <td id="LC2751" class="blob-code js-file-line">    {</td>
      </tr>
      <tr>
        <td id="L2752" class="blob-num js-line-number" data-line-number="2752"></td>
        <td id="LC2752" class="blob-code js-file-line">     &quot;name&quot;: &quot;stdout&quot;,</td>
      </tr>
      <tr>
        <td id="L2753" class="blob-num js-line-number" data-line-number="2753"></td>
        <td id="LC2753" class="blob-code js-file-line">     &quot;output_type&quot;: &quot;stream&quot;,</td>
      </tr>
      <tr>
        <td id="L2754" class="blob-num js-line-number" data-line-number="2754"></td>
        <td id="LC2754" class="blob-code js-file-line">     &quot;text&quot;: [</td>
      </tr>
      <tr>
        <td id="L2755" class="blob-num js-line-number" data-line-number="2755"></td>
        <td id="LC2755" class="blob-code js-file-line">      &quot;[ 2855.81567799]\n&quot;,</td>
      </tr>
      <tr>
        <td id="L2756" class="blob-num js-line-number" data-line-number="2756"></td>
        <td id="LC2756" class="blob-code js-file-line">      &quot;[[ 0.09009124  0.29068376  0.07367146  0.07601274  0.06771613  0.04721292\n&quot;,</td>
      </tr>
      <tr>
        <td id="L2757" class="blob-num js-line-number" data-line-number="2757"></td>
        <td id="LC2757" class="blob-code js-file-line">      &quot;   0.03536576  0.02764707  0.09460149  0.07721176  0.05791016  0.05945275]]\n&quot;,</td>
      </tr>
      <tr>
        <td id="L2758" class="blob-num js-line-number" data-line-number="2758"></td>
        <td id="LC2758" class="blob-code js-file-line">      &quot;[0.1056, 0.2813, 0.0698, 0.0871, 0.0794, 0.0633, 0.0397, 0.031, 0.0964, 0.0679, 0.042, 0.0365]\n&quot;</td>
      </tr>
      <tr>
        <td id="L2759" class="blob-num js-line-number" data-line-number="2759"></td>
        <td id="LC2759" class="blob-code js-file-line">     ]</td>
      </tr>
      <tr>
        <td id="L2760" class="blob-num js-line-number" data-line-number="2760"></td>
        <td id="LC2760" class="blob-code js-file-line">    }</td>
      </tr>
      <tr>
        <td id="L2761" class="blob-num js-line-number" data-line-number="2761"></td>
        <td id="LC2761" class="blob-code js-file-line">   ],</td>
      </tr>
      <tr>
        <td id="L2762" class="blob-num js-line-number" data-line-number="2762"></td>
        <td id="LC2762" class="blob-code js-file-line">   &quot;source&quot;: [</td>
      </tr>
      <tr>
        <td id="L2763" class="blob-num js-line-number" data-line-number="2763"></td>
        <td id="LC2763" class="blob-code js-file-line">    &quot;print kl_min_max_model\n&quot;,</td>
      </tr>
      <tr>
        <td id="L2764" class="blob-num js-line-number" data-line-number="2764"></td>
        <td id="LC2764" class="blob-code js-file-line">    &quot;print farms.T\n&quot;,</td>
      </tr>
      <tr>
        <td id="L2765" class="blob-num js-line-number" data-line-number="2765"></td>
        <td id="LC2765" class="blob-code js-file-line">    &quot;print farm_pdf_data&quot;</td>
      </tr>
      <tr>
        <td id="L2766" class="blob-num js-line-number" data-line-number="2766"></td>
        <td id="LC2766" class="blob-code js-file-line">   ]</td>
      </tr>
      <tr>
        <td id="L2767" class="blob-num js-line-number" data-line-number="2767"></td>
        <td id="LC2767" class="blob-code js-file-line">  },</td>
      </tr>
      <tr>
        <td id="L2768" class="blob-num js-line-number" data-line-number="2768"></td>
        <td id="LC2768" class="blob-code js-file-line">  {</td>
      </tr>
      <tr>
        <td id="L2769" class="blob-num js-line-number" data-line-number="2769"></td>
        <td id="LC2769" class="blob-code js-file-line">   &quot;cell_type&quot;: &quot;code&quot;,</td>
      </tr>
      <tr>
        <td id="L2770" class="blob-num js-line-number" data-line-number="2770"></td>
        <td id="LC2770" class="blob-code js-file-line">   &quot;execution_count&quot;: 54,</td>
      </tr>
      <tr>
        <td id="L2771" class="blob-num js-line-number" data-line-number="2771"></td>
        <td id="LC2771" class="blob-code js-file-line">   &quot;metadata&quot;: {</td>
      </tr>
      <tr>
        <td id="L2772" class="blob-num js-line-number" data-line-number="2772"></td>
        <td id="LC2772" class="blob-code js-file-line">    &quot;collapsed&quot;: false</td>
      </tr>
      <tr>
        <td id="L2773" class="blob-num js-line-number" data-line-number="2773"></td>
        <td id="LC2773" class="blob-code js-file-line">   },</td>
      </tr>
      <tr>
        <td id="L2774" class="blob-num js-line-number" data-line-number="2774"></td>
        <td id="LC2774" class="blob-code js-file-line">   &quot;outputs&quot;: [</td>
      </tr>
      <tr>
        <td id="L2775" class="blob-num js-line-number" data-line-number="2775"></td>
        <td id="LC2775" class="blob-code js-file-line">    {</td>
      </tr>
      <tr>
        <td id="L2776" class="blob-num js-line-number" data-line-number="2776"></td>
        <td id="LC2776" class="blob-code js-file-line">     &quot;data&quot;: {</td>
      </tr>
      <tr>
        <td id="L2777" class="blob-num js-line-number" data-line-number="2777"></td>
        <td id="LC2777" class="blob-code js-file-line">      &quot;image/png&quot;: [</td>
      </tr>
      <tr>
        <td id="L2778" class="blob-num js-line-number" data-line-number="2778"></td>
        <td id="LC2778" class="blob-code js-file-line">       &quot;iVBORw0KGgoAAAANSUhEUgAAAagAAAEaCAYAAABEsMO+AAAABHNCSVQICAgIfAhkiAAAAAlwSFlz\n&quot;,</td>
      </tr>
      <tr>
        <td id="L2779" class="blob-num js-line-number" data-line-number="2779"></td>
        <td id="LC2779" class="blob-code js-file-line">       &quot;AAALEgAACxIB0t1+/AAAElBJREFUeJzt3X+s3XV9x/Hna+0gQ3TVxMmECkaLv6JTs3RkbO5omGnI\n&quot;,</td>
      </tr>
      <tr>
        <td id="L2780" class="blob-num js-line-number" data-line-number="2780"></td>
        <td id="LC2780" class="blob-code js-file-line">       &quot;tCT7oxKNTkT4Y1W3LA1zJNpmyTJtzJwjulbRzA3tEgemJjQFNm9CVJBuXWFyKzSsXVsUGVgXjWRt\n&quot;,</td>
      </tr>
      <tr>
        <td id="L2781" class="blob-num js-line-number" data-line-number="2781"></td>
        <td id="LC2781" class="blob-code js-file-line">       &quot;eO+Pc9oc7u49P9reez695/lImvv98fmc+/6m7X2dz+d+vt+TqkKSpNb8wqQLkCRpPgaUJKlJBpQk\n&quot;,</td>
      </tr>
      <tr>
        <td id="L2782" class="blob-num js-line-number" data-line-number="2782"></td>
        <td id="LC2782" class="blob-code js-file-line">       &quot;qUkGlCSpSQaUJKlJBpQkqUlDAyrJuiT7kzya5KZ5zq9Psi/J3iT/muRto/aVJGkhGXQfVJIVwPeB\n&quot;,</td>
      </tr>
      <tr>
        <td id="L2783" class="blob-num js-line-number" data-line-number="2783"></td>
        <td id="LC2783" class="blob-code js-file-line">       &quot;q4CjwAPAtVU129fmeVX1s97264E7quqVo/SVJGkhw0ZQa4EDVXWwqo4DO4D1/Q1OhlPPhcB/j9pX\n&quot;,</td>
      </tr>
      <tr>
        <td id="L2784" class="blob-num js-line-number" data-line-number="2784"></td>
        <td id="LC2784" class="blob-code js-file-line">       &quot;kqSFDAuoi4HDfftHeseeI8k1SWaBXcCHx+krSdJ8hgXUSM9BqqqvV9VrgHcAf58kZ1yZJGmqrRxy\n&quot;,</td>
      </tr>
      <tr>
        <td id="L2785" class="blob-num js-line-number" data-line-number="2785"></td>
        <td id="LC2785" class="blob-code js-file-line">       &quot;/iiwum9/Nd2R0Lyq6t4kK4EX9doN7ZvEhwFK0pSoqpEHMMNGUHuANUkuS3IesAHY2d8gyStOjpiS\n&quot;,</td>
      </tr>
      <tr>
        <td id="L2786" class="blob-num js-line-number" data-line-number="2786"></td>
        <td id="LC2786" class="blob-code js-file-line">       &quot;vLlXwFOj9O0reGr/fPzjH594DV671+61e/1L8WdcA0dQVXUiyUZgN7ACuLWqZpPc2Du/Dfh94L1J\n&quot;,</td>
      </tr>
      <tr>
        <td id="L2787" class="blob-num js-line-number" data-line-number="2787"></td>
        <td id="LC2787" class="blob-code js-file-line">       &quot;jgM/Bd41qO/YFUqSptKwKT6qahfdxQ/9x7b1bX8S+OSofSVJGoVPkpiwTqcz6RImxmufTtN87eD1\n&quot;,</td>
      </tr>
      <tr>
        <td id="L2788" class="blob-num js-line-number" data-line-number="2788"></td>
        <td id="LC2788" class="blob-code js-file-line">       &quot;j2PgjbpLUkBSk65BkrT4klBncZGEJEkTYUBJkpo0dJHEcrd163aOHRut7apVsGnTDYtbkCQJMKA4\n&quot;,</td>
      </tr>
      <tr>
        <td id="L2789" class="blob-num js-line-number" data-line-number="2789"></td>
        <td id="LC2789" class="blob-code js-file-line">       &quot;dgwuvXS00Dl0aPsiVyNJOskpPklSkwwoSVKTDChJUpMMKElSkwwoSVKTpn4V3zhm79vN9psPjdZ4\n&quot;,</td>
      </tr>
      <tr>
        <td id="L2790" class="blob-num js-line-number" data-line-number="2790"></td>
        <td id="LC2790" class="blob-code js-file-line">       &quot;1Spu2LRpcQuSpGXMgBrD+c/8nBsuvXSkttsPjRhkkqR5OcUnSWqSASVJapIBJUlqkgElSWqSASVJ\n&quot;,</td>
      </tr>
      <tr>
        <td id="L2791" class="blob-num js-line-number" data-line-number="2791"></td>
        <td id="LC2791" class="blob-code js-file-line">       &quot;apIBJUlqkgElSWqSASVJapIBJUlqkgElSWqSASVJapIBJUlqkgElSWqSASVJapIBJUlqkgElSWqS\n&quot;,</td>
      </tr>
      <tr>
        <td id="L2792" class="blob-num js-line-number" data-line-number="2792"></td>
        <td id="LC2792" class="blob-code js-file-line">       &quot;ASVJapIBJUlqkgElSWqSASVJatLQgEqyLsn+JI8muWme8+9Osi/Jg0m+leQNfecO9o7vTfLds128\n&quot;,</td>
      </tr>
      <tr>
        <td id="L2793" class="blob-num js-line-number" data-line-number="2793"></td>
        <td id="LC2793" class="blob-code js-file-line">       &quot;JGn5WjnoZJIVwC3AVcBR4IEkO6tqtq/ZY8BbquonSdYB24EreucK6FTV02e/dEnScjZsBLUWOFBV\n&quot;,</td>
      </tr>
      <tr>
        <td id="L2794" class="blob-num js-line-number" data-line-number="2794"></td>
        <td id="LC2794" class="blob-code js-file-line">       &quot;B6vqOLADWN/foKq+U1U/6e3eD1wy5zVyViqVJE2VYQF1MXC4b/9I79hCPgDc2bdfwD1J9iT54OmV\n&quot;,</td>
      </tr>
      <tr>
        <td id="L2795" class="blob-num js-line-number" data-line-number="2795"></td>
        <td id="LC2795" class="blob-code js-file-line">       &quot;KEmaRgOn+OgGzEiSvBW4Driy7/CVVfWDJC8G7k6yv6rundt38+bNp7Y7nQ6dTmfUbytJatTMzAwz\n&quot;,</td>
      </tr>
      <tr>
        <td id="L2796" class="blob-num js-line-number" data-line-number="2796"></td>
        <td id="LC2796" class="blob-code js-file-line">       &quot;MzOn3X9YQB0FVvftr6Y7inqO3sKIzwPrqurHJ49X1Q96X59McgfdKcOBASVJWh7mDji2bNkyVv9h\n&quot;,</td>
      </tr>
      <tr>
        <td id="L2797" class="blob-num js-line-number" data-line-number="2797"></td>
        <td id="LC2797" class="blob-code js-file-line">       &quot;U3x7gDVJLktyHrAB2NnfIMnLgNuB91TVgb7jFyR5fm/7ecDbgYfGqk6SNLUGjqCq6kSSjcBuYAVw\n&quot;,</td>
      </tr>
      <tr>
        <td id="L2798" class="blob-num js-line-number" data-line-number="2798"></td>
        <td id="LC2798" class="blob-code js-file-line">       &quot;a1XNJrmxd34b8DHghcDnkgAcr6q1wEXA7b1jK4HbququRbsSSdKyMmyKj6raBeyac2xb3/b1wPXz\n&quot;,</td>
      </tr>
      <tr>
        <td id="L2799" class="blob-num js-line-number" data-line-number="2799"></td>
        <td id="LC2799" class="blob-code js-file-line">       &quot;9HsMeONZqFGSNIV8koQkqUkGlCSpSQaUJKlJBpQkqUkGlCSpSQaUJKlJBpQkqUkGlCSpSQaUJKlJ\n&quot;,</td>
      </tr>
      <tr>
        <td id="L2800" class="blob-num js-line-number" data-line-number="2800"></td>
        <td id="LC2800" class="blob-code js-file-line">       &quot;BpQkqUkGlCSpSQaUJKlJBpQkqUkGlCSpSQaUJKlJBpQkqUkGlCSpSQaUJKlJBpQkqUkGlCSpSQaU\n&quot;,</td>
      </tr>
      <tr>
        <td id="L2801" class="blob-num js-line-number" data-line-number="2801"></td>
        <td id="LC2801" class="blob-code js-file-line">       &quot;JKlJBpQkqUkGlCSpSQaUJKlJBpQkqUkGlCSpSQaUJKlJBpQkqUkGlCSpSQaUJKlJBpQkqUkGlCSp\n&quot;,</td>
      </tr>
      <tr>
        <td id="L2802" class="blob-num js-line-number" data-line-number="2802"></td>
        <td id="LC2802" class="blob-code js-file-line">       &quot;SUMDKsm6JPuTPJrkpnnOvzvJviQPJvlWkjeM2leSpIUMDKgkK4BbgHXAa4Frk7xmTrPHgLdU1RuA\n&quot;,</td>
      </tr>
      <tr>
        <td id="L2803" class="blob-num js-line-number" data-line-number="2803"></td>
        <td id="LC2803" class="blob-code js-file-line">       &quot;Pwe2j9FXkqR5DRtBrQUOVNXBqjoO7ADW9zeoqu9U1U96u/cDl4zaV5KkhQwLqIuBw337R3rHFvIB\n&quot;,</td>
      </tr>
      <tr>
        <td id="L2804" class="blob-num js-line-number" data-line-number="2804"></td>
        <td id="LC2804" class="blob-code js-file-line">       &quot;4M7T7CtJ0ikrh5yvUV8oyVuB64Arx+0rSdJcwwLqKLC6b3813ZHQc/QWRnweWFdVPx6nL8DmzZtP\n&quot;,</td>
      </tr>
      <tr>
        <td id="L2805" class="blob-num js-line-number" data-line-number="2805"></td>
        <td id="LC2805" class="blob-code js-file-line">       &quot;bXc6HTqdzpCyJEmtm5mZYWZm5rT7DwuoPcCaJJcBjwMbgGv7GyR5GXA78J6qOjBO35P6A0qStDzM\n&quot;,</td>
      </tr>
      <tr>
        <td id="L2806" class="blob-num js-line-number" data-line-number="2806"></td>
        <td id="LC2806" class="blob-code js-file-line">       &quot;HXBs2bJlrP4DA6qqTiTZCOwGVgC3VtVskht757cBHwNeCHwuCcDxqlq7UN+xqpMkTa1hIyiqahew\n&quot;,</td>
      </tr>
      <tr>
        <td id="L2807" class="blob-num js-line-number" data-line-number="2807"></td>
        <td id="LC2807" class="blob-code js-file-line">       &quot;a86xbX3b1wPXj9pXkqRR+CQJSVKTDChJUpMMKElSkwwoSVKTDChJUpMMKElSkwwoSVKTDChJUpMM\n&quot;,</td>
      </tr>
      <tr>
        <td id="L2808" class="blob-num js-line-number" data-line-number="2808"></td>
        <td id="LC2808" class="blob-code js-file-line">       &quot;KElSkwwoSVKTDChJUpMMKElSkwwoSVKTDChJUpMMKElSkwwoSVKTDChJUpMMKElSkwwoSVKTDChJ\n&quot;,</td>
      </tr>
      <tr>
        <td id="L2809" class="blob-num js-line-number" data-line-number="2809"></td>
        <td id="LC2809" class="blob-code js-file-line">       &quot;UpMMKElSkwwoSVKTDChJUpMMKElSkwwoSVKTDChJUpMMKElSkwwoSVKTDChJUpMMKElSkwwoSVKT\n&quot;,</td>
      </tr>
      <tr>
        <td id="L2810" class="blob-num js-line-number" data-line-number="2810"></td>
        <td id="LC2810" class="blob-code js-file-line">       &quot;DChJUpMMKElSk4YGVJJ1SfYneTTJTfOcf3WS7yR5JsmfzDl3MMmDSfYm+e7ZLFyStLytHHQyyQrg\n&quot;,</td>
      </tr>
      <tr>
        <td id="L2811" class="blob-num js-line-number" data-line-number="2811"></td>
        <td id="LC2811" class="blob-code js-file-line">       &quot;FuAq4CjwQJKdVTXb1+wp4EPANfO8RAGdqnr6LNUrSZoSw0ZQa4EDVXWwqo4DO4D1/Q2q6smq2gMc\n&quot;,</td>
      </tr>
      <tr>
        <td id="L2812" class="blob-num js-line-number" data-line-number="2812"></td>
        <td id="LC2812" class="blob-code js-file-line">       &quot;X+A1cuZlSpKmzbCAuhg43Ld/pHdsVAXck2RPkg+OW5wkaXoNnOKjGzBn4sqq+kGSFwN3J9lfVffO\n&quot;,</td>
      </tr>
      <tr>
        <td id="L2813" class="blob-num js-line-number" data-line-number="2813"></td>
        <td id="LC2813" class="blob-code js-file-line">       &quot;bbR58+ZT251Oh06nc4bfVpI0aTMzM8zMzJx2/2EBdRRY3be/mu4oaiRV9YPe1yeT3EF3ynBgQEmS\n&quot;,</td>
      </tr>
      <tr>
        <td id="L2814" class="blob-num js-line-number" data-line-number="2814"></td>
        <td id="LC2814" class="blob-code js-file-line">       &quot;loe5A44tW7aM1X/YFN8eYE2Sy5KcB2wAdi7Q9jm/a0pyQZLn97afB7wdeGis6iRJU2vgCKqqTiTZ\n&quot;,</td>
      </tr>
      <tr>
        <td id="L2815" class="blob-num js-line-number" data-line-number="2815"></td>
        <td id="LC2815" class="blob-code js-file-line">       &quot;COwGVgC3VtVskht757cluQh4AHgB8GySjwCvBX4FuD3Jye9zW1XdtXiXIklaToZN8VFVu4Bdc45t\n&quot;,</td>
      </tr>
      <tr>
        <td id="L2816" class="blob-num js-line-number" data-line-number="2816"></td>
        <td id="LC2816" class="blob-code js-file-line">       &quot;69v+Ic+dBjzpp8Abz7RASdJ08kkSkqQmGVCSpCYZUJKkJhlQkqQmGVCSpCYZUJKkJhlQkqQmGVCS\n&quot;,</td>
      </tr>
      <tr>
        <td id="L2817" class="blob-num js-line-number" data-line-number="2817"></td>
        <td id="LC2817" class="blob-code js-file-line">       &quot;pCYZUJKkJhlQkqQmGVCSpCYZUJKkJhlQkqQmGVCSpCYZUJKkJhlQkqQmGVCSpCYZUJKkJhlQkqQm\n&quot;,</td>
      </tr>
      <tr>
        <td id="L2818" class="blob-num js-line-number" data-line-number="2818"></td>
        <td id="LC2818" class="blob-code js-file-line">       &quot;GVCSpCYZUJKkJhlQkqQmGVCSpCYZUJKkJhlQkqQmGVCSpCYZUJKkJhlQkqQmGVCSpCYZUJKkJhlQ\n&quot;,</td>
      </tr>
      <tr>
        <td id="L2819" class="blob-num js-line-number" data-line-number="2819"></td>
        <td id="LC2819" class="blob-code js-file-line">       &quot;kqQmGVCSpCatHNYgyTrg08AK4AtV9Yk5518NfAl4E3BzVX1q1L7j2r51Kxw7NlrjVau4YdOmM/l2\n&quot;,</td>
      </tr>
      <tr>
        <td id="L2820" class="blob-num js-line-number" data-line-number="2820"></td>
        <td id="LC2820" class="blob-code js-file-line">       &quot;kqQJGhhQSVYAtwBXAUeBB5LsrKrZvmZPAR8CrjmNvuM5dowbLr10pKbbDx067W8jSZq8YVN8a4ED\n&quot;,</td>
      </tr>
      <tr>
        <td id="L2821" class="blob-num js-line-number" data-line-number="2821"></td>
        <td id="LC2821" class="blob-code js-file-line">       &quot;VXWwqo4DO4D1/Q2q6smq2gMcH7evJEkLGRZQFwOH+/aP9I6N4kz6SpKm3LCAqjN47TPpK0macsMW\n&quot;,</td>
      </tr>
      <tr>
        <td id="L2822" class="blob-num js-line-number" data-line-number="2822"></td>
        <td id="LC2822" class="blob-code js-file-line">       &quot;SRwFVvftr6Y7EhrFyH03b958arvT6dDpdEb8FpKkVs3MzDAzM3Pa/YcF1B5gTZLLgMeBDcC1C7TN\n&quot;,</td>
      </tr>
      <tr>
        <td id="L2823" class="blob-num js-line-number" data-line-number="2823"></td>
        <td id="LC2823" class="blob-code js-file-line">       &quot;6fbtDyhJ0vIwd8CxZcuWsfoPDKiqOpFkI7Cb7lLxW6tqNsmNvfPbklwEPAC8AHg2yUeA11bVT+fr\n&quot;,</td>
      </tr>
      <tr>
        <td id="L2824" class="blob-num js-line-number" data-line-number="2824"></td>
        <td id="LC2824" class="blob-code js-file-line">       &quot;O1Z1kqSpNfQ+qKraBeyac2xb3/YPee5U3sC+kjQO73+cXkMDSpLOpq1bt4+cNwCP3/dNvrThmuEN\n&quot;,</td>
      </tr>
      <tr>
        <td id="L2825" class="blob-num js-line-number" data-line-number="2825"></td>
        <td id="LC2825" class="blob-code js-file-line">       &quot;8f7H5caAkrSkjh2DSy+9YeT2j818fRGrUct8Fp8kqUkGlCSpSU1M8d188/aR2j1+396Rn8UnSTq3\n&quot;,</td>
      </tr>
      <tr>
        <td id="L2826" class="blob-num js-line-number" data-line-number="2826"></td>
        <td id="LC2826" class="blob-code js-file-line">       &quot;NRFQo85HOxctSdPDKT5JUpOaGEGpfd6LImmpGVAajZ/FJWmJOcUnSWqSASVJapIBJUlqkgElSWqS\n&quot;,</td>
      </tr>
      <tr>
        <td id="L2827" class="blob-num js-line-number" data-line-number="2827"></td>
        <td id="LC2827" class="blob-code js-file-line">       &quot;iyR0TnAVoTR9DCidG1xFKE0dA0rSVBnn4z5WrYJNm0Z/8rrOLgNqio3zH9XnIGq5GOfjPg4dGu05\n&quot;,</td>
      </tr>
      <tr>
        <td id="L2828" class="blob-num js-line-number" data-line-number="2828"></td>
        <td id="LC2828" class="blob-code js-file-line">       &quot;oVocBtQUG+c/qs9BlLTUDKgJc7pBkuZnQE2Y0w2SND/vg5IkNckR1Dlk9r7dbL95xCXU3gsk6Rxn\n&quot;,</td>
      </tr>
      <tr>
        <td id="L2829" class="blob-num js-line-number" data-line-number="2829"></td>
        <td id="LC2829" class="blob-code js-file-line">       &quot;QJ1Dzn/m594LJC0h3xROlgGliXGZu1rnm8LJMqA0MS5zlzSIiyQkSU1yBCWNwIfVSkvPgJJG4cNq\n&quot;,</td>
      </tr>
      <tr>
        <td id="L2830" class="blob-num js-line-number" data-line-number="2830"></td>
        <td id="LC2830" class="blob-code js-file-line">       &quot;pSXnFJ8kqUmOoCRpSoyzchYm/3g1A0qSpsQ4K2dh8o9XM6AkaQn5gOjRGVCStIR8QPTohi6SSLIu\n&quot;,</td>
      </tr>
      <tr>
        <td id="L2831" class="blob-num js-line-number" data-line-number="2831"></td>
        <td id="LC2831" class="blob-code js-file-line">       &quot;yf4kjya5aYE2n+md35fkTX3HDyZ5MMneJN89m4VLkpa3gSOoJCuAW4CrgKPAA0l2VtVsX5urgVdW\n&quot;,</td>
      </tr>
      <tr>
        <td id="L2832" class="blob-num js-line-number" data-line-number="2832"></td>
        <td id="LC2832" class="blob-code js-file-line">       &quot;1ZokvwF8Driid7qATlU9vSjVS5KWrWEjqLXAgao6WFXHgR3A+jlt3gn8HUBV3Q+sSvKSvvM5W8VK\n&quot;,</td>
      </tr>
      <tr>
        <td id="L2833" class="blob-num js-line-number" data-line-number="2833"></td>
        <td id="LC2833" class="blob-code js-file-line">       &quot;kqbHsIC6GDjct3+kd2zUNgXck2RPkg+eSaGSpOkybJFEjfg6C42SfquqHk/yYuDuJPur6t65jb7x\n&quot;,</td>
      </tr>
      <tr>
        <td id="L2834" class="blob-num js-line-number" data-line-number="2834"></td>
        <td id="LC2834" class="blob-code js-file-line">       &quot;jc2nti+/vMOrXtUZ8dtKklo1MzPDzMzMafcfFlBHgdV9+6vpjpAGtbmkd4yqerz39ckkd9CdMvx/\n&quot;,</td>
      </tr>
      <tr>
        <td id="L2835" class="blob-num js-line-number" data-line-number="2835"></td>
        <td id="LC2835" class="blob-code js-file-line">       &quot;AfWOd2weq2hJUvs6nQ6dTufU/pYtW8bqP2yKbw+wJsllSc4DNgA757TZCbwXIMkVwLGqeiLJBUme\n&quot;,</td>
      </tr>
      <tr>
        <td id="L2836" class="blob-num js-line-number" data-line-number="2836"></td>
        <td id="LC2836" class="blob-code js-file-line">       &quot;3zv+PODtwENjVSdJmloDR1BVdSLJRmA3sAK4tapmk9zYO7+tqu5McnWSA8DPgPf3ul8E3J7k5Pe5\n&quot;,</td>
      </tr>
      <tr>
        <td id="L2837" class="blob-num js-line-number" data-line-number="2837"></td>
        <td id="LC2837" class="blob-code js-file-line">       &quot;raruWqwLkcblByZKbRt6o25V7QJ2zTm2bc7+xnn6PQa88UwLlBaLH5gotc2nmUuSmmRASZKa5LP4\n&quot;,</td>
      </tr>
      <tr>
        <td id="L2838" class="blob-num js-line-number" data-line-number="2838"></td>
        <td id="LC2838" class="blob-code js-file-line">       &quot;JKlRs/ftZvvNI34A5jL8JGcDSpIadf4zP5/qT3I2oKTGbd+6lXE+n2G5vYvW9DKgpNYdOzbV76I1\n&quot;,</td>
      </tr>
      <tr>
        <td id="L2839" class="blob-num js-line-number" data-line-number="2839"></td>
        <td id="LC2839" class="blob-code js-file-line">       &quot;vVwkIUlqkiMoaQK8SVjngkkv0jCgpAnwJmGdCya9SMMpPklSkwwoSVKTnOKTNJDL3DUpBpSkwVzm\n&quot;,</td>
      </tr>
      <tr>
        <td id="L2840" class="blob-num js-line-number" data-line-number="2840"></td>
        <td id="LC2840" class="blob-code js-file-line">       &quot;rglxik+S1CRHUNIUcpm7zgUGlDSFXOauc4FTfJKkJhlQkqQmGVCSpCYZUJKkJhlQkqQmGVCSpCYZ\n&quot;,</td>
      </tr>
      <tr>
        <td id="L2841" class="blob-num js-line-number" data-line-number="2841"></td>
        <td id="LC2841" class="blob-code js-file-line">       &quot;UJKkJhlQkqQmGVCSpCYZUJKkJhlQkqQmGVCSpCYZUJKkJhlQkqQmGVCSpCYZUJKkJg0NqCTrkuxP\n&quot;,</td>
      </tr>
      <tr>
        <td id="L2842" class="blob-num js-line-number" data-line-number="2842"></td>
        <td id="LC2842" class="blob-code js-file-line">       &quot;8miSmxZo85ne+X1J3jROX0mS5jMwoJKsAG4B1gGvBa5N8po5ba4GXllVa4AbgM+N2ldw6ND3J13C\n&quot;,</td>
      </tr>
      <tr>
        <td id="L2843" class="blob-num js-line-number" data-line-number="2843"></td>
        <td id="LC2843" class="blob-code js-file-line">       &quot;xHjt02marx28/nEMG0GtBQ5U1cGqOg7sANbPafNO4O8Aqup+YFWSi0bsO/UOHXpk0iVMjNc+nab5\n&quot;,</td>
      </tr>
      <tr>
        <td id="L2844" class="blob-num js-line-number" data-line-number="2844"></td>
        <td id="LC2844" class="blob-code js-file-line">       &quot;2sHrH8ewgLoYONy3f6R3bJQ2Lx2hryRJ8xoWUDXi6+RMC5EkqV+qFs6gJFcAm6tqXW//o8CzVfWJ\n&quot;,</td>
      </tr>
      <tr>
        <td id="L2845" class="blob-num js-line-number" data-line-number="2845"></td>
        <td id="LC2845" class="blob-code js-file-line">       &quot;vjZ/C8xU1Y7e/n7gd4CXD+vbOz5qCEqSznFVNfKAZuWQ83uANUkuAx4HNgDXzmmzE9gI7OgF2rGq\n&quot;,</td>
      </tr>
      <tr>
        <td id="L2846" class="blob-num js-line-number" data-line-number="2846"></td>
        <td id="LC2846" class="blob-code js-file-line">       &quot;eiLJUyP0HatYSdL0GBhQVXUiyUZgN7ACuLWqZpPc2Du/raruTHJ1kgPAz4D3D+q7mBcjSVo+Bk7x\n&quot;,</td>
      </tr>
      <tr>
        <td id="L2847" class="blob-num js-line-number" data-line-number="2847"></td>
        <td id="LC2847" class="blob-code js-file-line">       &quot;SZI0KRN9ksS03sibZHWSbyb5XpL/SPLhSde01JKsSLI3yTcmXctSS7IqydeSzCZ5uDc1PhWSfLT3\n&quot;,</td>
      </tr>
      <tr>
        <td id="L2848" class="blob-num js-line-number" data-line-number="2848"></td>
        <td id="LC2848" class="blob-code js-file-line">       &quot;7/6hJF9Jcv6ka1osSb6Y5IkkD/Ude1GSu5M8kuSuJKsmWeNiWuD6t/b+3e9LcnuSXx70GhMLqCm/\n&quot;,</td>
      </tr>
      <tr>
        <td id="L2849" class="blob-num js-line-number" data-line-number="2849"></td>
        <td id="LC2849" class="blob-code js-file-line">       &quot;kfc48MdV9TrgCuAPp+jaT/oI8DCjrxRdTv4auLOqXgO8AZiKqe/e76M/CLy5ql5Pd+r/XZOsaZF9\n&quot;,</td>
      </tr>
      <tr>
        <td id="L2850" class="blob-num js-line-number" data-line-number="2850"></td>
        <td id="LC2850" class="blob-code js-file-line">       &quot;ie7Pt35/CtxdVZcD/9zbX67mu/67gNdV1a8BjwAfHfQCkxxBTe2NvFX1w6r69972T+n+gHrpZKta\n&quot;,</td>
      </tr>
      <tr>
        <td id="L2851" class="blob-num js-line-number" data-line-number="2851"></td>
        <td id="LC2851" class="blob-code js-file-line">       &quot;OkkuAa4GvsCU3aLQe8f421X1Rej+rraqfjLhspbK/9B9c3ZBkpXABcDRyZa0eKrqXuDHcw6ferBB\n&quot;,</td>
      </tr>
      <tr>
        <td id="L2852" class="blob-num js-line-number" data-line-number="2852"></td>
        <td id="LC2852" class="blob-code js-file-line">       &quot;7+s1S1rUEprv+qvq7qp6trd7P3DJoNeYZECNchPwstd7V/kmun9Z0+KvgE3As8MaLkMvB55M8qUk\n&quot;,</td>
      </tr>
      <tr>
        <td id="L2853" class="blob-num js-line-number" data-line-number="2853"></td>
        <td id="LC2853" class="blob-code js-file-line">       &quot;/5bk80kumHRRS6GqngY+BfwX3ZW9x6rqnslWteReUlVP9LafAF4yyWIm7DrgzkENJhlQ0zi18xxJ\n&quot;,</td>
      </tr>
      <tr>
        <td id="L2854" class="blob-num js-line-number" data-line-number="2854"></td>
        <td id="LC2854" class="blob-code js-file-line">       &quot;LgS+BnykN5Ja9pL8HvCjqtrLlI2eelYCbwY+W1VvprvydTlP85yS5BXAHwGX0Z0xuDDJuyda1ARV\n&quot;,</td>
      </tr>
      <tr>
        <td id="L2855" class="blob-num js-line-number" data-line-number="2855"></td>
        <td id="LC2855" class="blob-code js-file-line">       &quot;d4XaVP4cTHIz8L9V9ZVB7SYZUEeB1X37q+mOoqZCkl8E/gn4h6r6+qTrWUK/CbwzyX8CXwXeluTL\n&quot;,</td>
      </tr>
      <tr>
        <td id="L2856" class="blob-num js-line-number" data-line-number="2856"></td>
        <td id="LC2856" class="blob-code js-file-line">       &quot;E65pKR0BjlTVA739r9ENrGnw68C3q+qpqjoB3E7338M0eaL3rFKS/CrwownXs+SS/AHdKf6hb04m\n&quot;,</td>
      </tr>
      <tr>
        <td id="L2857" class="blob-num js-line-number" data-line-number="2857"></td>
        <td id="LC2857" class="blob-code js-file-line">       &quot;GVCnbgJOch7dG3l3TrCeJZMkwK3Aw1X16UnXs5Sq6s+qanVVvZzuL8j/pareO+m6lkpV/RA4nOTy\n&quot;,</td>
      </tr>
      <tr>
        <td id="L2858" class="blob-num js-line-number" data-line-number="2858"></td>
        <td id="LC2858" class="blob-code js-file-line">       &quot;3qGrgO9NsKSltB+4Iskv9f4PXEV3ocw02Qm8r7f9PmCa3pySZB3d6f31VfXMsPYTC6jeO6iTN/I+\n&quot;,</td>
      </tr>
      <tr>
        <td id="L2859" class="blob-num js-line-number" data-line-number="2859"></td>
        <td id="LC2859" class="blob-code js-file-line">       &quot;DPzjFN3IeyXwHuCtvaXWe3t/cdNoGqc4PgTclmQf3VV8fzHhepZEVe0Dvkz3zemDvcPbJ1fR4kry\n&quot;,</td>
      </tr>
      <tr>
        <td id="L2860" class="blob-num js-line-number" data-line-number="2860"></td>
        <td id="LC2860" class="blob-code js-file-line">       &quot;VeDbwKuSHE7yfuAvgd9N8gjwtt7+sjTP9V8H/A1wIXB37+feZwe+hjfqSpJa5Ee+S5KaZEBJkppk\n&quot;,</td>
      </tr>
      <tr>
        <td id="L2861" class="blob-num js-line-number" data-line-number="2861"></td>
        <td id="LC2861" class="blob-code js-file-line">       &quot;QEmSmmRASZKaZEBJkppkQEmSmmRASZKaZEBJkpr0f7P3I7gd4fTnAAAAAElFTkSuQmCC\n&quot;</td>
      </tr>
      <tr>
        <td id="L2862" class="blob-num js-line-number" data-line-number="2862"></td>
        <td id="LC2862" class="blob-code js-file-line">      ],</td>
      </tr>
      <tr>
        <td id="L2863" class="blob-num js-line-number" data-line-number="2863"></td>
        <td id="LC2863" class="blob-code js-file-line">      &quot;text/plain&quot;: [</td>
      </tr>
      <tr>
        <td id="L2864" class="blob-num js-line-number" data-line-number="2864"></td>
        <td id="LC2864" class="blob-code js-file-line">       &quot;&lt;matplotlib.figure.Figure at 0xaf27dd8&gt;&quot;</td>
      </tr>
      <tr>
        <td id="L2865" class="blob-num js-line-number" data-line-number="2865"></td>
        <td id="LC2865" class="blob-code js-file-line">      ]</td>
      </tr>
      <tr>
        <td id="L2866" class="blob-num js-line-number" data-line-number="2866"></td>
        <td id="LC2866" class="blob-code js-file-line">     },</td>
      </tr>
      <tr>
        <td id="L2867" class="blob-num js-line-number" data-line-number="2867"></td>
        <td id="LC2867" class="blob-code js-file-line">     &quot;metadata&quot;: {},</td>
      </tr>
      <tr>
        <td id="L2868" class="blob-num js-line-number" data-line-number="2868"></td>
        <td id="LC2868" class="blob-code js-file-line">     &quot;output_type&quot;: &quot;display_data&quot;</td>
      </tr>
      <tr>
        <td id="L2869" class="blob-num js-line-number" data-line-number="2869"></td>
        <td id="LC2869" class="blob-code js-file-line">    }</td>
      </tr>
      <tr>
        <td id="L2870" class="blob-num js-line-number" data-line-number="2870"></td>
        <td id="LC2870" class="blob-code js-file-line">   ],</td>
      </tr>
      <tr>
        <td id="L2871" class="blob-num js-line-number" data-line-number="2871"></td>
        <td id="LC2871" class="blob-code js-file-line">   &quot;source&quot;: [</td>
      </tr>
      <tr>
        <td id="L2872" class="blob-num js-line-number" data-line-number="2872"></td>
        <td id="LC2872" class="blob-code js-file-line">    &quot;n_groups = 12\n&quot;,</td>
      </tr>
      <tr>
        <td id="L2873" class="blob-num js-line-number" data-line-number="2873"></td>
        <td id="LC2873" class="blob-code js-file-line">    &quot;\n&quot;,</td>
      </tr>
      <tr>
        <td id="L2874" class="blob-num js-line-number" data-line-number="2874"></td>
        <td id="LC2874" class="blob-code js-file-line">    &quot;fig, ax = plt.subplots()\n&quot;,</td>
      </tr>
      <tr>
        <td id="L2875" class="blob-num js-line-number" data-line-number="2875"></td>
        <td id="LC2875" class="blob-code js-file-line">    &quot;\n&quot;,</td>
      </tr>
      <tr>
        <td id="L2876" class="blob-num js-line-number" data-line-number="2876"></td>
        <td id="LC2876" class="blob-code js-file-line">    &quot;index = np.arange(n_groups)\n&quot;,</td>
      </tr>
      <tr>
        <td id="L2877" class="blob-num js-line-number" data-line-number="2877"></td>
        <td id="LC2877" class="blob-code js-file-line">    &quot;bar_width = 0.35\n&quot;,</td>
      </tr>
      <tr>
        <td id="L2878" class="blob-num js-line-number" data-line-number="2878"></td>
        <td id="LC2878" class="blob-code js-file-line">    &quot;\n&quot;,</td>
      </tr>
      <tr>
        <td id="L2879" class="blob-num js-line-number" data-line-number="2879"></td>
        <td id="LC2879" class="blob-code js-file-line">    &quot;opacity = 0.4\n&quot;,</td>
      </tr>
      <tr>
        <td id="L2880" class="blob-num js-line-number" data-line-number="2880"></td>
        <td id="LC2880" class="blob-code js-file-line">    &quot;error_config = {&#39;ecolor&#39;: &#39;0.3&#39;}\n&quot;,</td>
      </tr>
      <tr>
        <td id="L2881" class="blob-num js-line-number" data-line-number="2881"></td>
        <td id="LC2881" class="blob-code js-file-line">    &quot;\n&quot;,</td>
      </tr>
      <tr>
        <td id="L2882" class="blob-num js-line-number" data-line-number="2882"></td>
        <td id="LC2882" class="blob-code js-file-line">    &quot;rects1 = plt.bar(index, np.array(farms), bar_width,\n&quot;,</td>
      </tr>
      <tr>
        <td id="L2883" class="blob-num js-line-number" data-line-number="2883"></td>
        <td id="LC2883" class="blob-code js-file-line">    &quot;                 alpha=opacity,\n&quot;,</td>
      </tr>
      <tr>
        <td id="L2884" class="blob-num js-line-number" data-line-number="2884"></td>
        <td id="LC2884" class="blob-code js-file-line">    &quot;                 color=&#39;b&#39;,\n&quot;,</td>
      </tr>
      <tr>
        <td id="L2885" class="blob-num js-line-number" data-line-number="2885"></td>
        <td id="LC2885" class="blob-code js-file-line">    &quot;                 label=&#39;Model&#39;)\n&quot;,</td>
      </tr>
      <tr>
        <td id="L2886" class="blob-num js-line-number" data-line-number="2886"></td>
        <td id="LC2886" class="blob-code js-file-line">    &quot;\n&quot;,</td>
      </tr>
      <tr>
        <td id="L2887" class="blob-num js-line-number" data-line-number="2887"></td>
        <td id="LC2887" class="blob-code js-file-line">    &quot;rects2 = plt.bar(index + bar_width, np.array(farm_pdf_data), bar_width,\n&quot;,</td>
      </tr>
      <tr>
        <td id="L2888" class="blob-num js-line-number" data-line-number="2888"></td>
        <td id="LC2888" class="blob-code js-file-line">    &quot;                 alpha=opacity,\n&quot;,</td>
      </tr>
      <tr>
        <td id="L2889" class="blob-num js-line-number" data-line-number="2889"></td>
        <td id="LC2889" class="blob-code js-file-line">    &quot;                 color=&#39;r&#39;,\n&quot;,</td>
      </tr>
      <tr>
        <td id="L2890" class="blob-num js-line-number" data-line-number="2890"></td>
        <td id="LC2890" class="blob-code js-file-line">    &quot;                 label=&#39;Data&#39;)\n&quot;,</td>
      </tr>
      <tr>
        <td id="L2891" class="blob-num js-line-number" data-line-number="2891"></td>
        <td id="LC2891" class="blob-code js-file-line">    &quot;\n&quot;,</td>
      </tr>
      <tr>
        <td id="L2892" class="blob-num js-line-number" data-line-number="2892"></td>
        <td id="LC2892" class="blob-code js-file-line">    &quot;plt.tight_layout()\n&quot;,</td>
      </tr>
      <tr>
        <td id="L2893" class="blob-num js-line-number" data-line-number="2893"></td>
        <td id="LC2893" class="blob-code js-file-line">    &quot;plt.show()&quot;</td>
      </tr>
      <tr>
        <td id="L2894" class="blob-num js-line-number" data-line-number="2894"></td>
        <td id="LC2894" class="blob-code js-file-line">   ]</td>
      </tr>
      <tr>
        <td id="L2895" class="blob-num js-line-number" data-line-number="2895"></td>
        <td id="LC2895" class="blob-code js-file-line">  },</td>
      </tr>
      <tr>
        <td id="L2896" class="blob-num js-line-number" data-line-number="2896"></td>
        <td id="LC2896" class="blob-code js-file-line">  {</td>
      </tr>
      <tr>
        <td id="L2897" class="blob-num js-line-number" data-line-number="2897"></td>
        <td id="LC2897" class="blob-code js-file-line">   &quot;cell_type&quot;: &quot;markdown&quot;,</td>
      </tr>
      <tr>
        <td id="L2898" class="blob-num js-line-number" data-line-number="2898"></td>
        <td id="LC2898" class="blob-code js-file-line">   &quot;metadata&quot;: {},</td>
      </tr>
      <tr>
        <td id="L2899" class="blob-num js-line-number" data-line-number="2899"></td>
        <td id="LC2899" class="blob-code js-file-line">   &quot;source&quot;: [</td>
      </tr>
      <tr>
        <td id="L2900" class="blob-num js-line-number" data-line-number="2900"></td>
        <td id="LC2900" class="blob-code js-file-line">    &quot;That is a pretty close fit. What about the other stuff?&quot;</td>
      </tr>
      <tr>
        <td id="L2901" class="blob-num js-line-number" data-line-number="2901"></td>
        <td id="LC2901" class="blob-code js-file-line">   ]</td>
      </tr>
      <tr>
        <td id="L2902" class="blob-num js-line-number" data-line-number="2902"></td>
        <td id="LC2902" class="blob-code js-file-line">  },</td>
      </tr>
      <tr>
        <td id="L2903" class="blob-num js-line-number" data-line-number="2903"></td>
        <td id="LC2903" class="blob-code js-file-line">  {</td>
      </tr>
      <tr>
        <td id="L2904" class="blob-num js-line-number" data-line-number="2904"></td>
        <td id="LC2904" class="blob-code js-file-line">   &quot;cell_type&quot;: &quot;code&quot;,</td>
      </tr>
      <tr>
        <td id="L2905" class="blob-num js-line-number" data-line-number="2905"></td>
        <td id="LC2905" class="blob-code js-file-line">   &quot;execution_count&quot;: 55,</td>
      </tr>
      <tr>
        <td id="L2906" class="blob-num js-line-number" data-line-number="2906"></td>
        <td id="LC2906" class="blob-code js-file-line">   &quot;metadata&quot;: {</td>
      </tr>
      <tr>
        <td id="L2907" class="blob-num js-line-number" data-line-number="2907"></td>
        <td id="LC2907" class="blob-code js-file-line">    &quot;collapsed&quot;: false</td>
      </tr>
      <tr>
        <td id="L2908" class="blob-num js-line-number" data-line-number="2908"></td>
        <td id="LC2908" class="blob-code js-file-line">   },</td>
      </tr>
      <tr>
        <td id="L2909" class="blob-num js-line-number" data-line-number="2909"></td>
        <td id="LC2909" class="blob-code js-file-line">   &quot;outputs&quot;: [</td>
      </tr>
      <tr>
        <td id="L2910" class="blob-num js-line-number" data-line-number="2910"></td>
        <td id="LC2910" class="blob-code js-file-line">    {</td>
      </tr>
      <tr>
        <td id="L2911" class="blob-num js-line-number" data-line-number="2911"></td>
        <td id="LC2911" class="blob-code js-file-line">     &quot;data&quot;: {</td>
      </tr>
      <tr>
        <td id="L2912" class="blob-num js-line-number" data-line-number="2912"></td>
        <td id="LC2912" class="blob-code js-file-line">      &quot;image/png&quot;: [</td>
      </tr>
      <tr>
        <td id="L2913" class="blob-num js-line-number" data-line-number="2913"></td>
        <td id="LC2913" class="blob-code js-file-line">       &quot;iVBORw0KGgoAAAANSUhEUgAAAXUAAAEACAYAAABMEua6AAAABHNCSVQICAgIfAhkiAAAAAlwSFlz\n&quot;,</td>
      </tr>
      <tr>
        <td id="L2914" class="blob-num js-line-number" data-line-number="2914"></td>
        <td id="LC2914" class="blob-code js-file-line">       &quot;AAALEgAACxIB0t1+/AAADrJJREFUeJzt3XGsnXddx/H3x1sxkkUrmoCWa4tQdCNgmNoQiHogMymI\n&quot;,</td>
      </tr>
      <tr>
        <td id="L2915" class="blob-num js-line-number" data-line-number="2915"></td>
        <td id="LC2915" class="blob-code js-file-line">       &quot;K1GT0UBAELcYC+gfzcAZuY2JERoi6gBbKIuoUJOJWJLVMdRjiBiyySzIWrcGV9sujAlcFIixzb7+\n&quot;,</td>
      </tr>
      <tr>
        <td id="L2916" class="blob-num js-line-number" data-line-number="2916"></td>
        <td id="LC2916" class="blob-code js-file-line">       &quot;cQ717Pb2PufennNP76/vV9LsPM95zrnfZ23e9+lznuc2VYUkqQ3fNusBJEmTY9QlqSFGXZIaYtQl\n&quot;,</td>
      </tr>
      <tr>
        <td id="L2917" class="blob-num js-line-number" data-line-number="2917"></td>
        <td id="LC2917" class="blob-code js-file-line">       &quot;qSFGXZIaYtQlqSGdUU+yM8mJJA8luXWZ53tJvpbk/uGv35rOqJKkLptWejLJHHA7cANwFrg3yZGq\n&quot;,</td>
      </tr>
      <tr>
        <td id="L2918" class="blob-num js-line-number" data-line-number="2918"></td>
        <td id="LC2918" class="blob-code js-file-line">       &quot;Or5k03+oqhunNKMkaUxdR+o7gJNV9XBVnQMOA7uW2S4Tn0yStGpdUd8CnB5ZPjNcN6qAFyY5luSu\n&quot;,</td>
      </tr>
      <tr>
        <td id="L2919" class="blob-num js-line-number" data-line-number="2919"></td>
        <td id="LC2919" class="blob-code js-file-line">       &quot;JNdNckBJ0vhWPP3CINhdPgPMV9U3k7wU+Cjw7MueTJK0al1RPwvMjyzPMzhav6Cq/nvk8dEk70ny\n&quot;,</td>
      </tr>
      <tr>
        <td id="L2920" class="blob-num js-line-number" data-line-number="2920"></td>
        <td id="LC2920" class="blob-code js-file-line">       &quot;lKr6yuh2SfwhM5K0BlU19inurtMv9wHbk2xL8iTgJuDI6AZJnpokw8c7gCwN+shgzf5629veNvMZ\n&quot;,</td>
      </tr>
      <tr>
        <td id="L2921" class="blob-num js-line-number" data-line-number="2921"></td>
        <td id="LC2921" class="blob-code js-file-line">       &quot;3D/3zf1r79dqrXikXlXnk+wB7gbmgENVdTzJLcPnDwC/CPxqkvPAN4FXrnoKSdJEdJ1+oaqOAkeX\n&quot;,</td>
      </tr>
      <tr>
        <td id="L2922" class="blob-num js-line-number" data-line-number="2922"></td>
        <td id="LC2922" class="blob-code js-file-line">       &quot;rDsw8vjdwLsnP5okabW8o3RCer3erEeYqpb3r+V9A/fvapO1nLNZ0xdKar2+liS1Igk1wQ9KJUkb\n&quot;,</td>
      </tr>
      <tr>
        <td id="L2923" class="blob-num js-line-number" data-line-number="2923"></td>
        <td id="LC2923" class="blob-code js-file-line">       &quot;iFGXpIYYdUlqiFGXpIYYdUlqiFGXpIYYdUlqiFGXpIYYdUlqiFGXpIYYdUlqiFGXpIYYdUlqiFGX\n&quot;,</td>
      </tr>
      <tr>
        <td id="L2924" class="blob-num js-line-number" data-line-number="2924"></td>
        <td id="LC2924" class="blob-code js-file-line">       &quot;pIZ0/iMZkqT/t3//QRYXu7fbvBn27r15+gMtYdQlaRUWF2Hr1u5Ynzp1cB2muZinXySpIUZdkhpi\n&quot;,</td>
      </tr>
      <tr>
        <td id="L2925" class="blob-num js-line-number" data-line-number="2925"></td>
        <td id="LC2925" class="blob-code js-file-line">       &quot;1CWpIUZdkhpi1CWpIUZdkhpi1CWpIUZdkhpi1CWpIUZdkhpi1CWpIUZdkhpi1CWpIUZdkhpi1CWp\n&quot;,</td>
      </tr>
      <tr>
        <td id="L2926" class="blob-num js-line-number" data-line-number="2926"></td>
        <td id="LC2926" class="blob-code js-file-line">       &quot;IUZdkhpi1CWpIUZdkhrSGfUkO5OcSPJQkltX2O4nkpxP8vOTHVGSNK4Vo55kDrgd2AlcB+xOcu0l\n&quot;,</td>
      </tr>
      <tr>
        <td id="L2927" class="blob-num js-line-number" data-line-number="2927"></td>
        <td id="LC2927" class="blob-code js-file-line">       &quot;tns78DdApjCnJGkMXUfqO4CTVfVwVZ0DDgO7ltnujcCdwGMTnk+StApdUd8CnB5ZPjNcd0GSLQxC\n&quot;,</td>
      </tr>
      <tr>
        <td id="L2928" class="blob-num js-line-number" data-line-number="2928"></td>
        <td id="LC2928" class="blob-code js-file-line">       &quot;/97hqprYdJKkVdnU8fw4gX4X8JaqqiRhhdMvCwsLFx73ej16vd4Yby9JV49+v0+/31/z67uifhaY\n&quot;,</td>
      </tr>
      <tr>
        <td id="L2929" class="blob-num js-line-number" data-line-number="2929"></td>
        <td id="LC2929" class="blob-code js-file-line">       &quot;H1meZ3C0PurHgMODnvN9wEuTnKuqI0vfbDTqkqSLLT3g3bdv36pe3xX1+4DtSbYBjwA3AbtHN6iq\n&quot;,</td>
      </tr>
      <tr>
        <td id="L2930" class="blob-num js-line-number" data-line-number="2930"></td>
        <td id="LC2930" class="blob-code js-file-line">       &quot;H/rW4yR3AB9bLuiSpOlbMepVdT7JHuBuYA44VFXHk9wyfP7AOswoSRpT15E6VXUUOLpk3bIxr6rX\n&quot;,</td>
      </tr>
      <tr>
        <td id="L2931" class="blob-num js-line-number" data-line-number="2931"></td>
        <td id="LC2931" class="blob-code js-file-line">       &quot;TWguSdIaeEepJDXEqEtSQ4y6JDXEqEtSQ4y6JDXEqEtSQ4y6JDXEqEtSQ4y6JDXEqEtSQ4y6JDXE\n&quot;,</td>
      </tr>
      <tr>
        <td id="L2932" class="blob-num js-line-number" data-line-number="2932"></td>
        <td id="LC2932" class="blob-code js-file-line">       &quot;qEtSQ4y6JDXEqEtSQ4y6JDXEqEtSQ4y6JDXEqEtSQ4y6JDXEqEtSQ4y6JDXEqEtSQ4y6JDXEqEtS\n&quot;,</td>
      </tr>
      <tr>
        <td id="L2933" class="blob-num js-line-number" data-line-number="2933"></td>
        <td id="LC2933" class="blob-code js-file-line">       &quot;QzbNeoBp2b//IIuL3dtt3gx79948/YEkaR00G/XFRdi6tTvWp04dXIdpJGl9ePpFkhpi1CWpIUZd\n&quot;,</td>
      </tr>
      <tr>
        <td id="L2934" class="blob-num js-line-number" data-line-number="2934"></td>
        <td id="LC2934" class="blob-code js-file-line">       &quot;khpi1CWpIUZdkhpi1CWpIUZdkhpi1CWpIUZdkhrSGfUkO5OcSPJQkluXeX5XkmNJ7k/yz0leMp1R\n&quot;,</td>
      </tr>
      <tr>
        <td id="L2935" class="blob-num js-line-number" data-line-number="2935"></td>
        <td id="LC2935" class="blob-code js-file-line">       &quot;JUldVvwxAUnmgNuBG4CzwL1JjlTV8ZHNPlFVfz3c/rnAXwHPmtK8kqQVdB2p7wBOVtXDVXUOOAzs\n&quot;,</td>
      </tr>
      <tr>
        <td id="L2936" class="blob-num js-line-number" data-line-number="2936"></td>
        <td id="LC2936" class="blob-code js-file-line">       &quot;Gt2gqr4xsngN8J+THVGSNK6uqG8BTo8snxmue4Ikr0hyHDgKvGly40mSVqMr6jXOm1TVR6vqWuDn\n&quot;,</td>
      </tr>
      <tr>
        <td id="L2937" class="blob-num js-line-number" data-line-number="2937"></td>
        <td id="LC2937" class="blob-code js-file-line">       &quot;gD+97KkkSWvS9aN3zwLzI8vzDI7Wl1VVn0yyKcn3VtWXlz6/sLBw4XGv16PX661qWElqXb/fp9/v\n&quot;,</td>
      </tr>
      <tr>
        <td id="L2938" class="blob-num js-line-number" data-line-number="2938"></td>
        <td id="LC2938" class="blob-code js-file-line">       &quot;r/n1XVG/D9ieZBvwCHATsHt0gyTPBL5QVZXkeoDlgg5PjLok6WJLD3j37du3qtevGPWqOp9kD3A3\n&quot;,</td>
      </tr>
      <tr>
        <td id="L2939" class="blob-num js-line-number" data-line-number="2939"></td>
        <td id="LC2939" class="blob-code js-file-line">       &quot;MAccqqrjSW4ZPn8A+AXgNUnOAV8HXrmqCSRJE9P5Lx9V1VEGH4COrjsw8vgdwDsmP5okabW8o1SS\n&quot;,</td>
      </tr>
      <tr>
        <td id="L2940" class="blob-num js-line-number" data-line-number="2940"></td>
        <td id="LC2940" class="blob-code js-file-line">       &quot;GmLUJakhRl2SGmLUJakhRl2SGmLUJakhRl2SGmLUJakhnTcfSdKVbP/+gywudm+3eTPs3Xvz9Aea\n&quot;,</td>
      </tr>
      <tr>
        <td id="L2941" class="blob-num js-line-number" data-line-number="2941"></td>
        <td id="LC2941" class="blob-code js-file-line">       &quot;MaMuaUNbXIStW7tjferUwXWYZvY8/SJJDTHqktQQoy5JDTHqktQQoy5JDTHqktQQL2mUNFFeNz5b\n&quot;,</td>
      </tr>
      <tr>
        <td id="L2942" class="blob-num js-line-number" data-line-number="2942"></td>
        <td id="LC2942" class="blob-code js-file-line">       &quot;Rl3SRHnd+Gx5+kWSGmLUJakhRl2SGmLUJakhRl2SGmLUJakhRl2SGmLUJakhRl2SGmLUJakh/pgA\n&quot;,</td>
      </tr>
      <tr>
        <td id="L2943" class="blob-num js-line-number" data-line-number="2943"></td>
        <td id="LC2943" class="blob-code js-file-line">       &quot;qXH+LJari1GXGufPYrm6ePpFkhpi1CWpIUZdkhpi1CWpIUZdkhpi1CWpIWNFPcnOJCeSPJTk1mWe\n&quot;,</td>
      </tr>
      <tr>
        <td id="L2944" class="blob-num js-line-number" data-line-number="2944"></td>
        <td id="LC2944" class="blob-code js-file-line">       &quot;f1WSY0k+m+Qfkzxv8qNKkrp0Rj3JHHA7sBO4Dtid5Nolm30B+Kmqeh7wO4AXvErSDIxzpL4DOFlV\n&quot;,</td>
      </tr>
      <tr>
        <td id="L2945" class="blob-num js-line-number" data-line-number="2945"></td>
        <td id="LC2945" class="blob-code js-file-line">       &quot;D1fVOeAwsGt0g6r6p6r62nDx08DTJzumJGkc40R9C3B6ZPnMcN2l/DJw1+UMJUlam3F+TECN+2ZJ\n&quot;,</td>
      </tr>
      <tr>
        <td id="L2946" class="blob-num js-line-number" data-line-number="2946"></td>
        <td id="LC2946" class="blob-code js-file-line">       &quot;Xgy8HnjRmieSJK3ZOFE/C8yPLM8zOFp/guGHo+8DdlbVV5d7o4WFhQuPe70evV5vFaNKUvv6/T79\n&quot;,</td>
      </tr>
      <tr>
        <td id="L2947" class="blob-num js-line-number" data-line-number="2947"></td>
        <td id="LC2947" class="blob-code js-file-line">       &quot;fn/Nrx8n6vcB25NsAx4BbgJ2j26Q5AeBjwCvrqqTl3qj0ahLki629IB33759q3p9Z9Sr6nySPcDd\n&quot;,</td>
      </tr>
      <tr>
        <td id="L2948" class="blob-num js-line-number" data-line-number="2948"></td>
        <td id="LC2948" class="blob-code js-file-line">       &quot;wBxwqKqOJ7ll+PwB4LeB7wHemwTgXFXtWNUkkqTLNtaP3q2qo8DRJesOjDx+A/CGyY4mSVot7yiV\n&quot;,</td>
      </tr>
      <tr>
        <td id="L2949" class="blob-num js-line-number" data-line-number="2949"></td>
        <td id="LC2949" class="blob-code js-file-line">       &quot;pIYYdUlqiFGXpIYYdUlqiFGXpIYYdUlqiFGXpIYYdUlqiFGXpIYYdUlqiFGXpIYYdUlqiFGXpIYY\n&quot;,</td>
      </tr>
      <tr>
        <td id="L2950" class="blob-num js-line-number" data-line-number="2950"></td>
        <td id="LC2950" class="blob-code js-file-line">       &quot;dUlqiFGXpIYYdUlqiFGXpIYYdUlqiFGXpIYYdUlqiFGXpIYYdUlqiFGXpIYYdUlqiFGXpIYYdUlq\n&quot;,</td>
      </tr>
      <tr>
        <td id="L2951" class="blob-num js-line-number" data-line-number="2951"></td>
        <td id="LC2951" class="blob-code js-file-line">       &quot;iFGXpIYYdUlqiFGXpIYYdUlqiFGXpIYYdUlqiFGXpIYYdUlqiFGXpIYYdUlqyKauDZLsBN4FzAHv\n&quot;,</td>
      </tr>
      <tr>
        <td id="L2952" class="blob-num js-line-number" data-line-number="2952"></td>
        <td id="LC2952" class="blob-code js-file-line">       &quot;r6q3L3n+R4A7gOcDt1XVO6cxqJ5o//6DLC6uvM3mzbB3783rM5CkK8KKUU8yB9wO3ACcBe5NcqSq\n&quot;,</td>
      </tr>
      <tr>
        <td id="L2953" class="blob-num js-line-number" data-line-number="2953"></td>
        <td id="LC2953" class="blob-code js-file-line">       &quot;jo9s9mXgjcArpjalLrK4CFu3rhzsU6cOTuzr+U1E2hi6jtR3ACer6mGAJIeBXcCFqFfVY8BjSX52\n&quot;,</td>
      </tr>
      <tr>
        <td id="L2954" class="blob-num js-line-number" data-line-number="2954"></td>
        <td id="LC2954" class="blob-code js-file-line">       &quot;WkNq9tb7m4iktek6p74FOD2yfGa4TpJ0Beo6Uq9JfrGFhYULj3u9Hr1eb5JvL0kbXr/fp9/vr/n1\n&quot;,</td>
      </tr>
      <tr>
        <td id="L2955" class="blob-num js-line-number" data-line-number="2955"></td>
        <td id="LC2955" class="blob-code js-file-line">       &quot;XVE/C8yPLM8zOFpfk9Got8ZzzpImYekB7759+1b1+q6o3wdsT7INeAS4Cdh9iW2zqq/cGM85S7oS\n&quot;,</td>
      </tr>
      <tr>
        <td id="L2956" class="blob-num js-line-number" data-line-number="2956"></td>
        <td id="LC2956" class="blob-code js-file-line">       &quot;rBj1qjqfZA9wN4NLGg9V1fEktwyfP5DkacC9wHcBjyd5M3BdVX196fvddlt31DyalaS167xOvaqO\n&quot;,</td>
      </tr>
      <tr>
        <td id="L2957" class="blob-num js-line-number" data-line-number="2957"></td>
        <td id="LC2957" class="blob-code js-file-line">       &quot;AkeXrDsw8viLPPEUzSV1HcmCR7OSdDm8o1SSGmLUJakhRl2SGtJ5Tl1ab+NcHgp+qC4tx6jrijPO\n&quot;,</td>
      </tr>
      <tr>
        <td id="L2958" class="blob-num js-line-number" data-line-number="2958"></td>
        <td id="LC2958" class="blob-code js-file-line">       &quot;5aHgh+rScjz9IkkNMeqS1BCjLkkNMeqS1BCjLkkN8eoXXfW8hFItMeq66nkJpVri6RdJaohRl6SG\n&quot;,</td>
      </tr>
      <tr>
        <td id="L2959" class="blob-num js-line-number" data-line-number="2959"></td>
        <td id="LC2959" class="blob-code js-file-line">       &quot;GHVJaojn1KV15gezmiajLq0zP5jVNHn6RZIaYtQlqSFGXZIaYtQlqSFGXZIaYtQlqSFGXZIaYtQl\n&quot;,</td>
      </tr>
      <tr>
        <td id="L2960" class="blob-num js-line-number" data-line-number="2960"></td>
        <td id="LC2960" class="blob-code js-file-line">       &quot;qSFGXZIaYtQlqSFGXZIaYtQlqSFGXZIaYtQlqSFGXZIaYtQlqSFGXZIaYtQlqSGdUU+yM8mJJA8l\n&quot;,</td>
      </tr>
      <tr>
        <td id="L2961" class="blob-num js-line-number" data-line-number="2961"></td>
        <td id="LC2961" class="blob-code js-file-line">       &quot;ufUS2/zh8PljSZ4/+TElSeNYMepJ5oDbgZ3AdcDuJNcu2eZlwLOqajtwM/DeKc16RTt16t9mPcJU\n&quot;,</td>
      </tr>
      <tr>
        <td id="L2962" class="blob-num js-line-number" data-line-number="2962"></td>
        <td id="LC2962" class="blob-code js-file-line">       &quot;tbx/Le8buH9Xm64j9R3Ayap6uKrOAYeBXUu2uRH4E4Cq+jSwOclTJz7pFe7UqQdnPcJUtbx/Le8b\n&quot;,</td>
      </tr>
      <tr>
        <td id="L2963" class="blob-num js-line-number" data-line-number="2963"></td>
        <td id="LC2963" class="blob-code js-file-line">       &quot;uH9Xm66obwFOjyyfGa7r2ubplz+aJGm1uqJeY75P1vg6SdIEperS/U3yAmChqnYOl98KPF5Vbx/Z\n&quot;,</td>
      </tr>
      <tr>
        <td id="L2964" class="blob-num js-line-number" data-line-number="2964"></td>
        <td id="LC2964" class="blob-code js-file-line">       &quot;5o+BflUdHi6fAH66qh5d8l6GXpLWoKqWHjhf0qaO5+8DtifZBjwC3ATsXrLNEWAPcHj4TWBxadBX\n&quot;,</td>
      </tr>
      <tr>
        <td id="L2965" class="blob-num js-line-number" data-line-number="2965"></td>
        <td id="LC2965" class="blob-code js-file-line">       &quot;O5QkaW1WjHpVnU+yB7gbmAMOVdXxJLcMnz9QVXcleVmSk8A3gNdNfWpJ0rJWPP0iSdpYpn5H6Tg3\n&quot;,</td>
      </tr>
      <tr>
        <td id="L2966" class="blob-num js-line-number" data-line-number="2966"></td>
        <td id="LC2966" class="blob-code js-file-line">       &quot;L21USeaT/H2Szyf51yRvmvVM05BkLsn9ST4261kmLcnmJHcmOZ7kgeEpxGYkeevwz+fnknwoyXfM\n&quot;,</td>
      </tr>
      <tr>
        <td id="L2967" class="blob-num js-line-number" data-line-number="2967"></td>
        <td id="LC2967" class="blob-code js-file-line">       &quot;eqa1SvKBJI8m+dzIuqckuSfJg0k+nmTzLGe8HJfYv/3DP5vHknwkyXd3vc9Uoz7OzUsb3DngN6rq\n&quot;,</td>
      </tr>
      <tr>
        <td id="L2968" class="blob-num js-line-number" data-line-number="2968"></td>
        <td id="LC2968" class="blob-code js-file-line">       &quot;OcALgF9rbP++5c3AA7R5VdMfAHdV1bXA84DjM55nYoafhf0KcH1VPZfBKdRXznKmy3QHg5aMegtw\n&quot;,</td>
      </tr>
      <tr>
        <td id="L2969" class="blob-num js-line-number" data-line-number="2969"></td>
        <td id="LC2969" class="blob-code js-file-line">       &quot;T1U9G/jb4fJGtdz+fRx4TlX9KPAg8NauN5n2kfo4Ny9tWFX1xar6l+HjrzMIwg/MdqrJSvJ04GXA\n&quot;,</td>
      </tr>
      <tr>
        <td id="L2970" class="blob-num js-line-number" data-line-number="2970"></td>
        <td id="LC2970" class="blob-code js-file-line">       &quot;+7n40tUNbXjU85NV9QEYfIZUVV+b8ViT9F8MDjyenGQT8GTg7GxHWruq+iTw1SWrL9z8OPzvK9Z1\n&quot;,</td>
      </tr>
      <tr>
        <td id="L2971" class="blob-num js-line-number" data-line-number="2971"></td>
        <td id="LC2971" class="blob-code js-file-line">       &quot;qAlabv+q6p6qeny4+GnGuAdo2lEf5+alJgyPip7P4H98S34f2As83rXhBvQM4LEkdyT5TJL3JXny\n&quot;,</td>
      </tr>
      <tr>
        <td id="L2972" class="blob-num js-line-number" data-line-number="2972"></td>
        <td id="LC2972" class="blob-code js-file-line">       &quot;rIealKr6CvBO4D8YXL22WFWfmO1UE/fUkavtHgVavpv99cBdXRtNO+ot/nX9IkmuAe4E3jw8Ym9C\n&quot;,</td>
      </tr>
      <tr>
        <td id="L2973" class="blob-num js-line-number" data-line-number="2973"></td>
        <td id="LC2973" class="blob-code js-file-line">       &quot;kpcDX6qq+2nsKH1oE3A98J6qup7B1Vsb+a/vT5DkmcCvA9sY/A3ymiSvmulQU1SDqz6abE6S24D/\n&quot;,</td>
      </tr>
      <tr>
        <td id="L2974" class="blob-num js-line-number" data-line-number="2974"></td>
        <td id="LC2974" class="blob-code js-file-line">       &quot;raoPdW077aifBeZHlucZHK03I8m3A38J/FlVfXTW80zYC4Ebk/w78GHgJUk+OOOZJukMcKaq7h0u\n&quot;,</td>
      </tr>
      <tr>
        <td id="L2975" class="blob-num js-line-number" data-line-number="2975"></td>
        <td id="LC2975" class="blob-code js-file-line">       &quot;38kg8q34ceBTVfXlqjoPfITB72lLHk3yNIAk3w98acbzTFySX2JwCnSsb8jTjvqFm5eSPInBzUtH\n&quot;,</td>
      </tr>
      <tr>
        <td id="L2976" class="blob-num js-line-number" data-line-number="2976"></td>
        <td id="LC2976" class="blob-code js-file-line">       &quot;pvw1102SAIeAB6rqXbOeZ9Kq6jerar6qnsHgA7a/q6rXzHquSamqLwKnkzx7uOoG4PMzHGnSTgAv\n&quot;,</td>
      </tr>
      <tr>
        <td id="L2977" class="blob-num js-line-number" data-line-number="2977"></td>
        <td id="LC2977" class="blob-code js-file-line">       &quot;SPKdwz+rNzD4wLslR4DXDh+/FmjqwCrJTganP3dV1f+M85qpRn14dPCtm5ceAP6iqpq5ugB4EfBq\n&quot;,</td>
      </tr>
      <tr>
        <td id="L2978" class="blob-num js-line-number" data-line-number="2978"></td>
        <td id="LC2978" class="blob-code js-file-line">       &quot;4MXDS/7uH/4mtKrFv9q+EfjzJMcYXP3yuzOeZ2Kq6hjwQQYHV58drj44u4kuT5IPA58CfjjJ6SSv\n&quot;,</td>
      </tr>
      <tr>
        <td id="L2979" class="blob-num js-line-number" data-line-number="2979"></td>
        <td id="LC2979" class="blob-code js-file-line">       &quot;A34P+JkkDwIvGS5vSMvs3+uBPwKuAe4Z9uU9ne/jzUeS1A7/OTtJaohRl6SGGHVJaohRl6SGGHVJ\n&quot;,</td>
      </tr>
      <tr>
        <td id="L2980" class="blob-num js-line-number" data-line-number="2980"></td>
        <td id="LC2980" class="blob-code js-file-line">       &quot;aohRl6SGGHVJaohRl6SG/B92gbVvhfor5QAAAABJRU5ErkJggg==\n&quot;</td>
      </tr>
      <tr>
        <td id="L2981" class="blob-num js-line-number" data-line-number="2981"></td>
        <td id="LC2981" class="blob-code js-file-line">      ],</td>
      </tr>
      <tr>
        <td id="L2982" class="blob-num js-line-number" data-line-number="2982"></td>
        <td id="LC2982" class="blob-code js-file-line">      &quot;text/plain&quot;: [</td>
      </tr>
      <tr>
        <td id="L2983" class="blob-num js-line-number" data-line-number="2983"></td>
        <td id="LC2983" class="blob-code js-file-line">       &quot;&lt;matplotlib.figure.Figure at 0xab5afd0&gt;&quot;</td>
      </tr>
      <tr>
        <td id="L2984" class="blob-num js-line-number" data-line-number="2984"></td>
        <td id="LC2984" class="blob-code js-file-line">      ]</td>
      </tr>
      <tr>
        <td id="L2985" class="blob-num js-line-number" data-line-number="2985"></td>
        <td id="LC2985" class="blob-code js-file-line">     },</td>
      </tr>
      <tr>
        <td id="L2986" class="blob-num js-line-number" data-line-number="2986"></td>
        <td id="LC2986" class="blob-code js-file-line">     &quot;metadata&quot;: {},</td>
      </tr>
      <tr>
        <td id="L2987" class="blob-num js-line-number" data-line-number="2987"></td>
        <td id="LC2987" class="blob-code js-file-line">     &quot;output_type&quot;: &quot;display_data&quot;</td>
      </tr>
      <tr>
        <td id="L2988" class="blob-num js-line-number" data-line-number="2988"></td>
        <td id="LC2988" class="blob-code js-file-line">    }</td>
      </tr>
      <tr>
        <td id="L2989" class="blob-num js-line-number" data-line-number="2989"></td>
        <td id="LC2989" class="blob-code js-file-line">   ],</td>
      </tr>
      <tr>
        <td id="L2990" class="blob-num js-line-number" data-line-number="2990"></td>
        <td id="LC2990" class="blob-code js-file-line">   &quot;source&quot;: [</td>
      </tr>
      <tr>
        <td id="L2991" class="blob-num js-line-number" data-line-number="2991"></td>
        <td id="LC2991" class="blob-code js-file-line">    &quot;fig, ax = plt.subplots()\n&quot;,</td>
      </tr>
      <tr>
        <td id="L2992" class="blob-num js-line-number" data-line-number="2992"></td>
        <td id="LC2992" class="blob-code js-file-line">    &quot;rects1 = plt.bar(index, np.array(Capital), bar_width,\n&quot;,</td>
      </tr>
      <tr>
        <td id="L2993" class="blob-num js-line-number" data-line-number="2993"></td>
        <td id="LC2993" class="blob-code js-file-line">    &quot;                 alpha=opacity,\n&quot;,</td>
      </tr>
      <tr>
        <td id="L2994" class="blob-num js-line-number" data-line-number="2994"></td>
        <td id="LC2994" class="blob-code js-file-line">    &quot;                 color=&#39;b&#39;,\n&quot;,</td>
      </tr>
      <tr>
        <td id="L2995" class="blob-num js-line-number" data-line-number="2995"></td>
        <td id="LC2995" class="blob-code js-file-line">    &quot;                 label=&#39;Model&#39;)\n&quot;,</td>
      </tr>
      <tr>
        <td id="L2996" class="blob-num js-line-number" data-line-number="2996"></td>
        <td id="LC2996" class="blob-code js-file-line">    &quot;plt.show()&quot;</td>
      </tr>
      <tr>
        <td id="L2997" class="blob-num js-line-number" data-line-number="2997"></td>
        <td id="LC2997" class="blob-code js-file-line">   ]</td>
      </tr>
      <tr>
        <td id="L2998" class="blob-num js-line-number" data-line-number="2998"></td>
        <td id="LC2998" class="blob-code js-file-line">  },</td>
      </tr>
      <tr>
        <td id="L2999" class="blob-num js-line-number" data-line-number="2999"></td>
        <td id="LC2999" class="blob-code js-file-line">  {</td>
      </tr>
      <tr>
        <td id="L3000" class="blob-num js-line-number" data-line-number="3000"></td>
        <td id="LC3000" class="blob-code js-file-line">   &quot;cell_type&quot;: &quot;code&quot;,</td>
      </tr>
      <tr>
        <td id="L3001" class="blob-num js-line-number" data-line-number="3001"></td>
        <td id="LC3001" class="blob-code js-file-line">   &quot;execution_count&quot;: 55,</td>
      </tr>
      <tr>
        <td id="L3002" class="blob-num js-line-number" data-line-number="3002"></td>
        <td id="LC3002" class="blob-code js-file-line">   &quot;metadata&quot;: {</td>
      </tr>
      <tr>
        <td id="L3003" class="blob-num js-line-number" data-line-number="3003"></td>
        <td id="LC3003" class="blob-code js-file-line">    &quot;collapsed&quot;: false</td>
      </tr>
      <tr>
        <td id="L3004" class="blob-num js-line-number" data-line-number="3004"></td>
        <td id="LC3004" class="blob-code js-file-line">   },</td>
      </tr>
      <tr>
        <td id="L3005" class="blob-num js-line-number" data-line-number="3005"></td>
        <td id="LC3005" class="blob-code js-file-line">   &quot;outputs&quot;: [],</td>
      </tr>
      <tr>
        <td id="L3006" class="blob-num js-line-number" data-line-number="3006"></td>
        <td id="LC3006" class="blob-code js-file-line">   &quot;source&quot;: []</td>
      </tr>
      <tr>
        <td id="L3007" class="blob-num js-line-number" data-line-number="3007"></td>
        <td id="LC3007" class="blob-code js-file-line">  }</td>
      </tr>
      <tr>
        <td id="L3008" class="blob-num js-line-number" data-line-number="3008"></td>
        <td id="LC3008" class="blob-code js-file-line"> ],</td>
      </tr>
      <tr>
        <td id="L3009" class="blob-num js-line-number" data-line-number="3009"></td>
        <td id="LC3009" class="blob-code js-file-line"> &quot;metadata&quot;: {</td>
      </tr>
      <tr>
        <td id="L3010" class="blob-num js-line-number" data-line-number="3010"></td>
        <td id="LC3010" class="blob-code js-file-line">  &quot;kernelspec&quot;: {</td>
      </tr>
      <tr>
        <td id="L3011" class="blob-num js-line-number" data-line-number="3011"></td>
        <td id="LC3011" class="blob-code js-file-line">   &quot;display_name&quot;: &quot;Python 2&quot;,</td>
      </tr>
      <tr>
        <td id="L3012" class="blob-num js-line-number" data-line-number="3012"></td>
        <td id="LC3012" class="blob-code js-file-line">   &quot;language&quot;: &quot;python&quot;,</td>
      </tr>
      <tr>
        <td id="L3013" class="blob-num js-line-number" data-line-number="3013"></td>
        <td id="LC3013" class="blob-code js-file-line">   &quot;name&quot;: &quot;python2&quot;</td>
      </tr>
      <tr>
        <td id="L3014" class="blob-num js-line-number" data-line-number="3014"></td>
        <td id="LC3014" class="blob-code js-file-line">  },</td>
      </tr>
      <tr>
        <td id="L3015" class="blob-num js-line-number" data-line-number="3015"></td>
        <td id="LC3015" class="blob-code js-file-line">  &quot;language_info&quot;: {</td>
      </tr>
      <tr>
        <td id="L3016" class="blob-num js-line-number" data-line-number="3016"></td>
        <td id="LC3016" class="blob-code js-file-line">   &quot;codemirror_mode&quot;: {</td>
      </tr>
      <tr>
        <td id="L3017" class="blob-num js-line-number" data-line-number="3017"></td>
        <td id="LC3017" class="blob-code js-file-line">    &quot;name&quot;: &quot;ipython&quot;,</td>
      </tr>
      <tr>
        <td id="L3018" class="blob-num js-line-number" data-line-number="3018"></td>
        <td id="LC3018" class="blob-code js-file-line">    &quot;version&quot;: 2</td>
      </tr>
      <tr>
        <td id="L3019" class="blob-num js-line-number" data-line-number="3019"></td>
        <td id="LC3019" class="blob-code js-file-line">   },</td>
      </tr>
      <tr>
        <td id="L3020" class="blob-num js-line-number" data-line-number="3020"></td>
        <td id="LC3020" class="blob-code js-file-line">   &quot;file_extension&quot;: &quot;.py&quot;,</td>
      </tr>
      <tr>
        <td id="L3021" class="blob-num js-line-number" data-line-number="3021"></td>
        <td id="LC3021" class="blob-code js-file-line">   &quot;mimetype&quot;: &quot;text/x-python&quot;,</td>
      </tr>
      <tr>
        <td id="L3022" class="blob-num js-line-number" data-line-number="3022"></td>
        <td id="LC3022" class="blob-code js-file-line">   &quot;name&quot;: &quot;python&quot;,</td>
      </tr>
      <tr>
        <td id="L3023" class="blob-num js-line-number" data-line-number="3023"></td>
        <td id="LC3023" class="blob-code js-file-line">   &quot;nbconvert_exporter&quot;: &quot;python&quot;,</td>
      </tr>
      <tr>
        <td id="L3024" class="blob-num js-line-number" data-line-number="3024"></td>
        <td id="LC3024" class="blob-code js-file-line">   &quot;pygments_lexer&quot;: &quot;ipython2&quot;,</td>
      </tr>
      <tr>
        <td id="L3025" class="blob-num js-line-number" data-line-number="3025"></td>
        <td id="LC3025" class="blob-code js-file-line">   &quot;version&quot;: &quot;2.7.8&quot;</td>
      </tr>
      <tr>
        <td id="L3026" class="blob-num js-line-number" data-line-number="3026"></td>
        <td id="LC3026" class="blob-code js-file-line">  }</td>
      </tr>
      <tr>
        <td id="L3027" class="blob-num js-line-number" data-line-number="3027"></td>
        <td id="LC3027" class="blob-code js-file-line"> },</td>
      </tr>
      <tr>
        <td id="L3028" class="blob-num js-line-number" data-line-number="3028"></td>
        <td id="LC3028" class="blob-code js-file-line"> &quot;nbformat&quot;: 4,</td>
      </tr>
      <tr>
        <td id="L3029" class="blob-num js-line-number" data-line-number="3029"></td>
        <td id="LC3029" class="blob-code js-file-line"> &quot;nbformat_minor&quot;: 0</td>
      </tr>
      <tr>
        <td id="L3030" class="blob-num js-line-number" data-line-number="3030"></td>
        <td id="LC3030" class="blob-code js-file-line">}</td>
      </tr>
</table>

  </div>

</div>

<a href="#jump-to-line" rel="facebox[.linejump]" data-hotkey="l" style="display:none">Jump to Line</a>
<div id="jump-to-line" style="display:none">
  <form accept-charset="UTF-8" class="js-jump-to-line-form">
    <input class="linejump-input js-jump-to-line-field" type="text" placeholder="Jump to line&hellip;" autofocus>
    <button type="submit" class="button">Go</button>
  </form>
</div>

        </div>

      </div><!-- /.repo-container -->
      <div class="modal-backdrop"></div>
    </div><!-- /.container -->
  </div><!-- /.site -->


    </div><!-- /.wrapper -->

      <div class="container">
  <div class="site-footer" role="contentinfo">
    <ul class="site-footer-links right">
        <li><a href="https://status.github.com/" data-ga-click="Footer, go to status, text:status">Status</a></li>
      <li><a href="https://developer.github.com" data-ga-click="Footer, go to api, text:api">API</a></li>
      <li><a href="http://training.github.com" data-ga-click="Footer, go to training, text:training">Training</a></li>
      <li><a href="http://shop.github.com" data-ga-click="Footer, go to shop, text:shop">Shop</a></li>
        <li><a href="https://github.com/blog" data-ga-click="Footer, go to blog, text:blog">Blog</a></li>
        <li><a href="https://github.com/about" data-ga-click="Footer, go to about, text:about">About</a></li>

    </ul>

    <a href="https://github.com" arial-label="Homepage">
      <span class="mega-octicon octicon-mark-github" title="GitHub"></span>
</a>
    <ul class="site-footer-links">
      <li>&copy; 2015 <span title="0.11701s from github-fe139-cp1-prd.iad.github.net">GitHub</span>, Inc.</li>
        <li><a href="https://github.com/site/terms" data-ga-click="Footer, go to terms, text:terms">Terms</a></li>
        <li><a href="https://github.com/site/privacy" data-ga-click="Footer, go to privacy, text:privacy">Privacy</a></li>
        <li><a href="https://github.com/security" data-ga-click="Footer, go to security, text:security">Security</a></li>
        <li><a href="https://github.com/contact" data-ga-click="Footer, go to contact, text:contact">Contact</a></li>
    </ul>
  </div>
</div>


    <div class="fullscreen-overlay js-fullscreen-overlay" id="fullscreen_overlay">
  <div class="fullscreen-container js-suggester-container">
    <div class="textarea-wrap">
      <textarea name="fullscreen-contents" id="fullscreen-contents" class="fullscreen-contents js-fullscreen-contents" placeholder=""></textarea>
      <div class="suggester-container">
        <div class="suggester fullscreen-suggester js-suggester js-navigation-container"></div>
      </div>
    </div>
  </div>
  <div class="fullscreen-sidebar">
    <a href="#" class="exit-fullscreen js-exit-fullscreen tooltipped tooltipped-w" aria-label="Exit Zen Mode">
      <span class="mega-octicon octicon-screen-normal"></span>
    </a>
    <a href="#" class="theme-switcher js-theme-switcher tooltipped tooltipped-w"
      aria-label="Switch themes">
      <span class="octicon octicon-color-mode"></span>
    </a>
  </div>
</div>



    

    <div id="ajax-error-message" class="flash flash-error">
      <span class="octicon octicon-alert"></span>
      <a href="#" class="octicon octicon-x flash-close js-ajax-error-dismiss" aria-label="Dismiss error"></a>
      Something went wrong with that request. Please try again.
    </div>


      <script crossorigin="anonymous" src="https://assets-cdn.github.com/assets/frameworks-fd3bd2d0c854fa5baa64e8b390de48b1eff4b59e1f38d1b1d695c4b5d835ab04.js"></script>
      <script async="async" crossorigin="anonymous" src="https://assets-cdn.github.com/assets/github-46628ff6533b28dfda2aeef282f8a3502316e88499a52a67ae0dd60479e3b950.js"></script>
      
      

  </body>
</html>

