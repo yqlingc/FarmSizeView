{
 "cells": [
  {
   "cell_type": "markdown",
   "metadata": {},
   "source": [
    "# Determinants of Farm Size Distributions: Project Notes"
   ]
  },
  {
   "cell_type": "markdown",
   "metadata": {},
   "source": [
    "##### Matthew J. Baker and Jonathan Conning"
   ]
  },
  {
   "cell_type": "markdown",
   "metadata": {},
   "source": [
    "## Introduction"
   ]
  },
  {
   "cell_type": "markdown",
   "metadata": {},
   "source": [
    "What determines the equilibrium distribution of operational farm sizes in an economy, and it's evolution over time?  These are age old questions that have been studied with different approaches and assumptions with widely varying policy implications.  \n",
    "\n",
    "In the paragraphs and links to other documents below we describe our efforts to build models and code to explore these questions via empirically fitted (or fittable) general equilibrium models of the size distribution of farms.  Our illustrative applications have include an empirical application to contemporary US farm agriculture, a replication of [a recent 2014 AER paper](https://www.aeaweb.org/articles.php?doi=10.1257/aer.104.6.1667) by Adamopoulos and Restuccia with a broadly similar approach, and models with factor market power which we've used to interpret  applications in Russia at the time of the Stolypin reforms (with Aleks Michuda) and the rise and persistence of Latifundia-minifundia bimodal structures in 19th century Chile.  As structural models which carefully specify the nature of the underlying production technologies and resource and other constraints, these models lend themselves to rich counter-factual simulations and help to understand how micro-level resource misallocations may lower sectoral and national reductions productivity and output.\n",
    "\n",
    "We are laying all this out partly in an effort to also define a model framework for exploring the determinants of the size-distribution of farms in the Ukraine. \n",
    "\n",
    "We've ported most of these models (some of which previously ran in MATLAB or Mathcad) to Ipython notebook format which runs python scripts in between rich text like this.   In the section on __Model Implementations__ below we've placed links to 'viewer' versions of the Ipython notebooks that implement some of the above applications.  Click on them to see the model described in Latex and the code, and output from the python implementation.  If you want to edit and interact with the notebook, install Ipython notebook on your machine (we recommend the Anaconda distribution) and then click on the download link in the viewer file (top right corner of browser screen) to save the exectuable file.\n",
    "\n",
    "## Brief historical background and literature review\n",
    "\n",
    "The economics literature on the determinants of the farm size distribution, and the related question of whether farms are 'too large' or 'too small' has evolved considerably over time. There have been a approaches to the topic, each based on different premises and sometimes hidden or not fully explored assumptions about the underlying technologies and the nature of market failures.  Let's briefly review some literature to make this clear, since we are able to adopt elements of each approach in our models. \n",
    "\n",
    "#### The development literature approach\n",
    "\n",
    "The oft cited work of Berry and Cline (1979) as well as theoretical and historical analysis of many others (surveyed in Binswanger, Feder and Deininger, 1995) stressed the importance and historical ubiquity of family-farms.  Influenced perhaps by the relatively successful experience of land and tenancy reforms in East Asia and the demand for reforms in land-concentrated Latin America in the 1960s-80s this literature frequently claimed that failures in credit and land lease and land sales markets led to a distorted farm size distribution with inefficiently large estates operating side-by-side with inefficiently smallholder plots. The market failures were sed to lead to persistent divergences in marginal products across farms which opened up room for output-enhancing land redistributions and other policy interventions. \n",
    "\n",
    "As is well understood, the failure in a single factor market is not enough to cause inefficiency in markets with constant returns to scale production technologies.  For example, a failure in the land market or even shutting down that market entirely, need not cause inefficiency if farms can adjust factor proportions and marginal products using markets for labor and other factors.  In fact this literature largely accepts as a fact that labor market failures dictate that hired labor is only an imperfect substitute for own or family labor. This gives a competitive advantage to family farms.  A typical way to model this is to state that farm management/supervision ability is a non-traded factor, and given that its level is fixed on each farm, this implies diseconomies of scale in the supervision of traded factors.  For example if $\\widehat{F}(T,L,s)$ is a linear homogenous production function employing land $T$, labor $L$ and non-tradable farming management/supervision ability $s$ then the production function will exhibit diseconomies of scale in the traded factors $T$ and $L$ for any fixed level of $s$. This is the type of production function in Lucas (1978) span-of-control models.  Consider the simple Cobb-Douglas production function:\n",
    "\n",
    "$$\\widehat{F}(T,L,s)=s^{1-\\gamma }\\cdot \\left[ T^{\\alpha }L^{1-\\alpha }\\right] ^{\\gamma }=s^{1-\\gamma }F(T,L)$$\n",
    "\n",
    "A price-taking firms' optimal size in a competitive economy (i.e. their demand for each factor) will be determined by the owner's non-traded skill level $s$ and the efficient size distribution of firms will be matched to the underlying distribution of non-traded skills. \n",
    "\n",
    "If we add another factor-market distortion (in addition to the non-tradability of $s$) then the size distribution of farms may become 'distorted' and inefficient.  For example, Eswaran and Kotwal's (1986) paper [\"Access to Capital and Agrarian Production Organization\"](http://are.berkeley.edu/courses/ARE251/2003/papers/Eswaran_Kotwal.pdf) shows that an imperfection on the credit market -- assuming for instance that lenders ration capital (to pay for land and labor inputs) in proportion to farmers' ownership of collarelizable land rather than potential farm profitability -- may give rise to a size distribution with inefficiently large farms coexisting side by side with inefficiently small farms, or worse yet: individuals who in a more efficient economy would have become successful small or medium size farmers may become landless workers. \n",
    "\n",
    "This literature often made much of the finding of an 'inverse-farm-size' relationship, namely that output per unit land is often observed to decline with land size and small farms use labor and other inputs more intensively.  Several papers in this literature derived such a relationship theoretically in effect by having size-biased constraints and in such a context, large farms were inefficiently large, small farms inefficiently small, and land redistribution could often improve allocation. \n",
    "\n",
    "Other variations are possible.  For he simple homothetic production function economy described the efficient scale of production will be matched to each farmer's level of skill s.  Imperfections to any one other market, for example in the land market, will in general make it difficult to adjust scale and factor proportions to equalize marginal products across farms even if the labor market functions well. Still another possibility explored theoretically and numerically in one of the notebook links below, are market poser type distortions of the sort Conning (2006) has explored.  In these models land concentration (as well as control over credit) can give rise to endogenous market power effects that distort the equilibrium farm size distribution and also give rise to an inefficient inverse farm-size relationship.\n",
    "\n",
    "#### Recent 'modern macro' approaches \n",
    "\n",
    "In recent years'modern macro' economists have turned their attention to similar questions.  Klennow and Hsieh ([QJE 2009](https://docs.google.com/viewer?url=http%3A%2F%2Fklenow.com%2FMMTFP.pdf)) and others explore the broad question how misallocation of resources across firm a sector can explain a large part of the observable large productivity differences between sectors and countries. \n",
    "\n",
    "Adamopoulos and Restuccia ([2014](https://www.aeaweb.org/articles.php?doi=10.1257/aer.104.6.1667)) build a general equilibrium model of the US economy, arguing as above that heterogeneity in the underlying distribution of non-tradable farming ability or skill drives the size distribution of farms.  They posit however that farm production is   \n",
    "y in farm managers characterized by a \"skill\" variable $s$. The farm production function is specified as non-homothetic CES in form with only capital and land as inputs and with skill $s$ augmenting land:\n",
    "\n",
    "$$y_a=A\\kappa \\left[\\theta k^\\rho+(1-\\theta)(sl)^\\rho \\right]^\\frac{\\gamma}{\\rho}$$\n",
    "\n",
    "As pointed out in the US farm study below this way of modeling things will imply (for the right assumption about the substitution parameter$\\rho$ and the homogeneity parameter $\\gamma$) that more skilled farmers operate larger and less capital intensive (less capital per unit land) farms.  After making a number of somewhat questionable assumptions to 'close' and 'calibrate' their model to US data the authors take the estimated/calibrated skill distribution from the US economy and apply the same market-clearing model to other economies around the world. This model predicts that most countries ought to have more large farms and less small farms to be more efficient.  They conclude that tax and subsidy policies around the world are biased against large farmers (and they in effect estimate the vector of policy distortions).  They appear to ignore or be largely oblivious to the earlier literature which argued that in many historical contexts size-bias ran the other way.\n",
    "\n",
    "We have a number of ways to improve on the the way that A&R have modeled things, including our objections to (1) their assumption of no labor market in agriculture (in effect each laborer runs a farm); (2) some of the questionable ways they've pinned down parameters and otherwise 'closed' the model; (3) the cumbersome way they model and estimate the size distribution of skills; (4) the fact that in their model the initial distribution of assets plays no role and there are no market imperfections other than the anti-large policy distortions.\n",
    "\n",
    "\n"
   ]
  },
  {
   "cell_type": "markdown",
   "metadata": {
    "collapsed": false
   },
   "source": [
    "### Some Project pieces\n",
    "\n",
    "The notebook links below illustrate our approach which allows for elements of the development literature approach (with its focus on the possibility of market failures in the market for credit or land as well as the possibility of market power distortions) as well as (an improved) take on the modern macro approach which allows for skill-biased technologies. \n",
    "\n",
    "Of course it is hard to build a single model that combines all elements and then separately empirically identify the contribution of each element.  But it's useful to explore models that combine these elements in different ways to then adapt to the circumstances at hand.  For example, an application to the Ukraine ought to incorporate unique elements of the context (for example the ban on land sales and the huge amount of reverse tenancy). \n",
    "\n",
    "There are three models below: (1) An estimated model of the US farm size distribution; (2) a quick port of the 'market power' distortions model; and (3) the Adamopolous and Restuccia replication.  Models (1) and (3) are estimated on data.  "
   ]
  },
  {
   "cell_type": "markdown",
   "metadata": {
    "collapsed": false
   },
   "source": [
    "### An estimated model of the US farm size distribution"
   ]
  },
  {
   "cell_type": "markdown",
   "metadata": {},
   "source": [
    "Here we take 2011 data on the size distribution of farms as well as data on capital and labor use from the US Department of Agriculture to estimate a structural model of the US farm size distribution.  All the parameters of the production function and the skill distribution are estimated using a variation on the method of moments.\n",
    "\n",
    "Although we present this model first, it helps to also understand Adamopolus and Restuccia's model, since we developed this model in large degree to improve upon that model, most obviously by incorporating labor into the production function where they had just land and capital. \n",
    "\n",
    "Click here to see the model in action: [An estimated model of the US farm size distribution](http://nbviewer.ipython.org/url/www.sugarsync.com/pf/D21658_69095890_45728099/%3FdirectDownload%3Dtrue) "
   ]
  },
  {
   "cell_type": "markdown",
   "metadata": {},
   "source": [
    "### Market-power distorted farm-size distribution"
   ]
  },
  {
   "cell_type": "markdown",
   "metadata": {},
   "source": [
    "This notebook demonstrates general equilibrium effects of endogenous market power distortions on the farm size distribution, building on earlier work by Jonathan.  In order to highlight the mechanisms at work this notebook shows results for the simple case of a homothetic production technology (where skill augments all factors and not in a land-biased way as in the other two approaches demonstrated above and below) and a simple representation of the skill distribution.  It is however easy enough to simply swap in a different production techology (and associated demands) to run this with any type of production technology and run it with a lognormal skill distribution (we have done all of this in earlier MATLAB). Finally, although we are not now estimating the parameters of this model (as in the notebook above and below) it should be easy enough to do so using the calibration 'wrapper' function used above.\n",
    "\n",
    "Click here to see the model in action: [Market power distortions in general equilibrium]()"
   ]
  },
  {
   "cell_type": "markdown",
   "metadata": {},
   "source": [
    "### The Adamopolus and Restuccia Replication"
   ]
  },
  {
   "cell_type": "markdown",
   "metadata": {},
   "source": [
    "The title says it all. More details in the notebook.\n",
    "Click here to see the model in action: [A&R replication](http://nbviewer.ipython.org/github/jhconning/FarmSizeView/blob/master/RestucciaAdamopoulosPy.ipynb)"
   ]
  },
  {
   "cell_type": "code",
   "execution_count": null,
   "metadata": {
    "collapsed": true
   },
   "outputs": [],
   "source": []
  }
 ],
 "metadata": {
  "kernelspec": {
   "display_name": "Python 2",
   "language": "python",
   "name": "python2"
  },
  "language_info": {
   "codemirror_mode": {
    "name": "ipython",
    "version": 2
   },
   "file_extension": ".py",
   "mimetype": "text/x-python",
   "name": "python",
   "nbconvert_exporter": "python",
   "pygments_lexer": "ipython2",
   "version": "2.7.8"
  }
 },
 "nbformat": 4,
 "nbformat_minor": 0
}
