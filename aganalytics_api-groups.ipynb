{
 "cells": [
  {
   "cell_type": "markdown",
   "metadata": {
    "deletable": true,
    "editable": true
   },
   "source": [
    "# Querying the ag-analytics.org api \n",
    "\n",
    "The Ag-Analytics [API docs](https://www.ag-analytics.org/AgRiskManagement/APIdocs) show how to query their database using the urllib2 library which no longer works with python 3.  After some trials and Matt's saving suggestion here is a simple way to submit SQL queries and load the results to a pandas dataframe:"
   ]
  },
  {
   "cell_type": "code",
   "execution_count": 1,
   "metadata": {
    "collapsed": true,
    "deletable": true,
    "editable": true
   },
   "outputs": [],
   "source": [
    "import requests\n",
    "import pandas as pd\n",
    "import io\n",
    "import numpy as np\n",
    "import matplotlib.pyplot as plt\n",
    "from scipy.stats import norm, lognorm, burr, gamma\n",
    "from scipy.optimize import minimize\n",
    "%matplotlib inline"
   ]
  },
  {
   "cell_type": "code",
   "execution_count": 2,
   "metadata": {
    "collapsed": true,
    "deletable": true,
    "editable": true
   },
   "outputs": [],
   "source": [
    "def agquery(sql):\n",
    "    '''function for making an sql query tha returns a pandas data frame with results'''\n",
    "    url = 'https://ag-analytics.org/AgRiskManagement/api/dataservice/AgDBQuery'\n",
    "    res = requests.post(url, data=sql)\n",
    "    df = pd.read_csv(io.StringIO(res.text))\n",
    "    return df"
   ]
  },
  {
   "cell_type": "markdown",
   "metadata": {
    "deletable": true,
    "editable": true
   },
   "source": [
    "As an aside had we wanted to instead write the retrieved data to a CSV file we could have used this instead of loading the pandas dataframe:\n",
    "\n",
    "    file = open(\"nasscrops.csv\", \"w\")\n",
    "    file.write(res.text) \n",
    "    file.close()"
   ]
  },
  {
   "cell_type": "markdown",
   "metadata": {
    "deletable": true,
    "editable": true
   },
   "source": [
    "A sample query:"
   ]
  },
  {
   "cell_type": "code",
   "execution_count": 3,
   "metadata": {
    "collapsed": true,
    "deletable": true,
    "editable": true
   },
   "outputs": [],
   "source": [
    "sql_query = \"SELECT * FROM NassEconomics WHERE fips BETWEEN 17001 AND 17020 \\\n",
    "            AND Year = 2012 \\\n",
    "            AND SourceDesc = 'CENSUS' \\\n",
    "            AND CommodityDesc = 'AG LAND' \"\n",
    "\n",
    "dfr = agquery(sql_query)"
   ]
  },
  {
   "cell_type": "code",
   "execution_count": 4,
   "metadata": {
    "collapsed": false,
    "deletable": true,
    "editable": true,
    "scrolled": true
   },
   "outputs": [
    {
     "data": {
      "text/plain": [
       "1104"
      ]
     },
     "execution_count": 4,
     "metadata": {},
     "output_type": "execute_result"
    }
   ],
   "source": [
    "len(dfr)"
   ]
  },
  {
   "cell_type": "code",
   "execution_count": 5,
   "metadata": {
    "collapsed": false,
    "deletable": true,
    "editable": true
   },
   "outputs": [
    {
     "data": {
      "text/plain": [
       "Index(['FIPS', 'SourceDesc', 'SectorDesc', 'GroupDesc', 'CommodityDesc',\n",
       "       'ClassDesc', 'ProdnPracticeDesc', 'UtilPracticeDesc',\n",
       "       'StatisticcatDesc', 'UnitDesc', 'ShortDesc', 'DomainDesc',\n",
       "       'DomaincatDesc', 'AggLevelDesc', 'StateAnsi', 'StateFIPS', 'StateAlpha',\n",
       "       'StateName', 'AsdCode', 'AsdDesc', 'CountyANSI', 'CountyFIPS',\n",
       "       'CountyName', 'RegionDesc', 'ZIP5', 'WatershedCode', 'WatershedDesc',\n",
       "       'CongrDistrictCode', 'CountryCode', 'CountryName', 'LocationDesc',\n",
       "       'Year', 'FreqDesc', 'BeginCode', 'EndCode', 'ReferencePeriodDesc',\n",
       "       'WeekEnding', 'LoadTime', 'Value', 'CVPercent'],\n",
       "      dtype='object')"
      ]
     },
     "execution_count": 5,
     "metadata": {},
     "output_type": "execute_result"
    }
   ],
   "source": [
    "dfr.columns"
   ]
  },
  {
   "cell_type": "markdown",
   "metadata": {
    "deletable": true,
    "editable": true
   },
   "source": [
    "We've pulled in a lot of data, much of which we don't need. But here is one row that has useful data for the land distribution:"
   ]
  },
  {
   "cell_type": "code",
   "execution_count": 6,
   "metadata": {
    "collapsed": false,
    "deletable": true,
    "editable": true
   },
   "outputs": [],
   "source": [
    "#dfr[(dfr.DomaincatDesc == 'AREA OPERATED: (1.0 TO 9.9 ACRES)')]"
   ]
  },
  {
   "cell_type": "markdown",
   "metadata": {
    "deletable": true,
    "editable": true
   },
   "source": [
    "## Farm Size and Land Size distribution data\n",
    "\n",
    "Here is a query that seems to get close to the farm size and land size distribution data. It's not yet sorted and presented exactly as we'd like, and remember this is for a single county, but almost there..."
   ]
  },
  {
   "cell_type": "markdown",
   "metadata": {
    "deletable": true,
    "editable": true
   },
   "source": [
    "### Farm Size"
   ]
  },
  {
   "cell_type": "code",
   "execution_count": 7,
   "metadata": {
    "collapsed": false,
    "deletable": true,
    "editable": true
   },
   "outputs": [
    {
     "data": {
      "text/html": [
       "<div>\n",
       "<table border=\"1\" class=\"dataframe\">\n",
       "  <thead>\n",
       "    <tr style=\"text-align: right;\">\n",
       "      <th></th>\n",
       "      <th>state</th>\n",
       "      <th>FIPS</th>\n",
       "      <th>county</th>\n",
       "      <th>farmsizes</th>\n",
       "      <th>nfarms</th>\n",
       "    </tr>\n",
       "  </thead>\n",
       "  <tbody>\n",
       "    <tr>\n",
       "      <th>724</th>\n",
       "      <td>IL</td>\n",
       "      <td>11</td>\n",
       "      <td>BUREAU</td>\n",
       "      <td>AREA OPERATED: (2 000 OR MORE ACRES)</td>\n",
       "      <td>33</td>\n",
       "    </tr>\n",
       "    <tr>\n",
       "      <th>725</th>\n",
       "      <td>IL</td>\n",
       "      <td>15</td>\n",
       "      <td>CARROLL</td>\n",
       "      <td>AREA OPERATED: (2 000 OR MORE ACRES)</td>\n",
       "      <td>23</td>\n",
       "    </tr>\n",
       "    <tr>\n",
       "      <th>726</th>\n",
       "      <td>IL</td>\n",
       "      <td>7</td>\n",
       "      <td>BOONE</td>\n",
       "      <td>AREA OPERATED: (2 000 OR MORE ACRES)</td>\n",
       "      <td>6</td>\n",
       "    </tr>\n",
       "    <tr>\n",
       "      <th>727</th>\n",
       "      <td>IL</td>\n",
       "      <td>1</td>\n",
       "      <td>ADAMS</td>\n",
       "      <td>AREA OPERATED: (2 000 OR MORE ACRES)</td>\n",
       "      <td>27</td>\n",
       "    </tr>\n",
       "    <tr>\n",
       "      <th>728</th>\n",
       "      <td>IL</td>\n",
       "      <td>9</td>\n",
       "      <td>BROWN</td>\n",
       "      <td>AREA OPERATED: (2 000 OR MORE ACRES)</td>\n",
       "      <td>11</td>\n",
       "    </tr>\n",
       "    <tr>\n",
       "      <th>729</th>\n",
       "      <td>IL</td>\n",
       "      <td>19</td>\n",
       "      <td>CHAMPAIGN</td>\n",
       "      <td>AREA OPERATED: (2 000 OR MORE ACRES)</td>\n",
       "      <td>55</td>\n",
       "    </tr>\n",
       "    <tr>\n",
       "      <th>730</th>\n",
       "      <td>IL</td>\n",
       "      <td>5</td>\n",
       "      <td>BOND</td>\n",
       "      <td>AREA OPERATED: (2 000 OR MORE ACRES)</td>\n",
       "      <td>24</td>\n",
       "    </tr>\n",
       "    <tr>\n",
       "      <th>731</th>\n",
       "      <td>IL</td>\n",
       "      <td>13</td>\n",
       "      <td>CALHOUN</td>\n",
       "      <td>AREA OPERATED: (2 000 OR MORE ACRES)</td>\n",
       "      <td>2</td>\n",
       "    </tr>\n",
       "    <tr>\n",
       "      <th>732</th>\n",
       "      <td>IL</td>\n",
       "      <td>3</td>\n",
       "      <td>ALEXANDER</td>\n",
       "      <td>AREA OPERATED: (2 000 OR MORE ACRES)</td>\n",
       "      <td>11</td>\n",
       "    </tr>\n",
       "    <tr>\n",
       "      <th>746</th>\n",
       "      <td>IL</td>\n",
       "      <td>17</td>\n",
       "      <td>CASS</td>\n",
       "      <td>AREA OPERATED: (2 000 OR MORE ACRES)</td>\n",
       "      <td>17</td>\n",
       "    </tr>\n",
       "    <tr>\n",
       "      <th>747</th>\n",
       "      <td>IL</td>\n",
       "      <td>1</td>\n",
       "      <td>ADAMS</td>\n",
       "      <td>AREA OPERATED: (500 TO 999 ACRES)</td>\n",
       "      <td>139</td>\n",
       "    </tr>\n",
       "    <tr>\n",
       "      <th>748</th>\n",
       "      <td>IL</td>\n",
       "      <td>9</td>\n",
       "      <td>BROWN</td>\n",
       "      <td>AREA OPERATED: (500 TO 999 ACRES)</td>\n",
       "      <td>34</td>\n",
       "    </tr>\n",
       "    <tr>\n",
       "      <th>749</th>\n",
       "      <td>IL</td>\n",
       "      <td>19</td>\n",
       "      <td>CHAMPAIGN</td>\n",
       "      <td>AREA OPERATED: (500 TO 999 ACRES)</td>\n",
       "      <td>207</td>\n",
       "    </tr>\n",
       "    <tr>\n",
       "      <th>750</th>\n",
       "      <td>IL</td>\n",
       "      <td>5</td>\n",
       "      <td>BOND</td>\n",
       "      <td>AREA OPERATED: (500 TO 999 ACRES)</td>\n",
       "      <td>56</td>\n",
       "    </tr>\n",
       "    <tr>\n",
       "      <th>751</th>\n",
       "      <td>IL</td>\n",
       "      <td>13</td>\n",
       "      <td>CALHOUN</td>\n",
       "      <td>AREA OPERATED: (500 TO 999 ACRES)</td>\n",
       "      <td>31</td>\n",
       "    </tr>\n",
       "    <tr>\n",
       "      <th>752</th>\n",
       "      <td>IL</td>\n",
       "      <td>17</td>\n",
       "      <td>CASS</td>\n",
       "      <td>AREA OPERATED: (500 TO 999 ACRES)</td>\n",
       "      <td>43</td>\n",
       "    </tr>\n",
       "    <tr>\n",
       "      <th>763</th>\n",
       "      <td>IL</td>\n",
       "      <td>11</td>\n",
       "      <td>BUREAU</td>\n",
       "      <td>AREA OPERATED: (100 TO 139 ACRES)</td>\n",
       "      <td>60</td>\n",
       "    </tr>\n",
       "    <tr>\n",
       "      <th>764</th>\n",
       "      <td>IL</td>\n",
       "      <td>15</td>\n",
       "      <td>CARROLL</td>\n",
       "      <td>AREA OPERATED: (100 TO 139 ACRES)</td>\n",
       "      <td>16</td>\n",
       "    </tr>\n",
       "    <tr>\n",
       "      <th>765</th>\n",
       "      <td>IL</td>\n",
       "      <td>7</td>\n",
       "      <td>BOONE</td>\n",
       "      <td>AREA OPERATED: (100 TO 139 ACRES)</td>\n",
       "      <td>23</td>\n",
       "    </tr>\n",
       "    <tr>\n",
       "      <th>766</th>\n",
       "      <td>IL</td>\n",
       "      <td>1</td>\n",
       "      <td>ADAMS</td>\n",
       "      <td>AREA OPERATED: (100 TO 139 ACRES)</td>\n",
       "      <td>70</td>\n",
       "    </tr>\n",
       "    <tr>\n",
       "      <th>767</th>\n",
       "      <td>IL</td>\n",
       "      <td>9</td>\n",
       "      <td>BROWN</td>\n",
       "      <td>AREA OPERATED: (100 TO 139 ACRES)</td>\n",
       "      <td>15</td>\n",
       "    </tr>\n",
       "    <tr>\n",
       "      <th>768</th>\n",
       "      <td>IL</td>\n",
       "      <td>19</td>\n",
       "      <td>CHAMPAIGN</td>\n",
       "      <td>AREA OPERATED: (100 TO 139 ACRES)</td>\n",
       "      <td>61</td>\n",
       "    </tr>\n",
       "    <tr>\n",
       "      <th>769</th>\n",
       "      <td>IL</td>\n",
       "      <td>5</td>\n",
       "      <td>BOND</td>\n",
       "      <td>AREA OPERATED: (100 TO 139 ACRES)</td>\n",
       "      <td>34</td>\n",
       "    </tr>\n",
       "    <tr>\n",
       "      <th>770</th>\n",
       "      <td>IL</td>\n",
       "      <td>13</td>\n",
       "      <td>CALHOUN</td>\n",
       "      <td>AREA OPERATED: (100 TO 139 ACRES)</td>\n",
       "      <td>38</td>\n",
       "    </tr>\n",
       "    <tr>\n",
       "      <th>771</th>\n",
       "      <td>IL</td>\n",
       "      <td>17</td>\n",
       "      <td>CASS</td>\n",
       "      <td>AREA OPERATED: (100 TO 139 ACRES)</td>\n",
       "      <td>24</td>\n",
       "    </tr>\n",
       "    <tr>\n",
       "      <th>772</th>\n",
       "      <td>IL</td>\n",
       "      <td>3</td>\n",
       "      <td>ALEXANDER</td>\n",
       "      <td>AREA OPERATED: (100 TO 139 ACRES)</td>\n",
       "      <td>16</td>\n",
       "    </tr>\n",
       "    <tr>\n",
       "      <th>812</th>\n",
       "      <td>IL</td>\n",
       "      <td>11</td>\n",
       "      <td>BUREAU</td>\n",
       "      <td>AREA OPERATED: (1.0 TO 9.9 ACRES)</td>\n",
       "      <td>27</td>\n",
       "    </tr>\n",
       "    <tr>\n",
       "      <th>819</th>\n",
       "      <td>IL</td>\n",
       "      <td>11</td>\n",
       "      <td>BUREAU</td>\n",
       "      <td>AREA OPERATED: (10.0 TO 49.9 ACRES)</td>\n",
       "      <td>98</td>\n",
       "    </tr>\n",
       "    <tr>\n",
       "      <th>820</th>\n",
       "      <td>IL</td>\n",
       "      <td>15</td>\n",
       "      <td>CARROLL</td>\n",
       "      <td>AREA OPERATED: (10.0 TO 49.9 ACRES)</td>\n",
       "      <td>61</td>\n",
       "    </tr>\n",
       "    <tr>\n",
       "      <th>829</th>\n",
       "      <td>IL</td>\n",
       "      <td>11</td>\n",
       "      <td>BUREAU</td>\n",
       "      <td>AREA OPERATED: (1 000 TO 1 999 ACRES)</td>\n",
       "      <td>89</td>\n",
       "    </tr>\n",
       "    <tr>\n",
       "      <th>...</th>\n",
       "      <td>...</td>\n",
       "      <td>...</td>\n",
       "      <td>...</td>\n",
       "      <td>...</td>\n",
       "      <td>...</td>\n",
       "    </tr>\n",
       "    <tr>\n",
       "      <th>1028</th>\n",
       "      <td>IL</td>\n",
       "      <td>3</td>\n",
       "      <td>ALEXANDER</td>\n",
       "      <td>AREA OPERATED: (50.0 TO 69.9 ACRES)</td>\n",
       "      <td>6</td>\n",
       "    </tr>\n",
       "    <tr>\n",
       "      <th>1029</th>\n",
       "      <td>IL</td>\n",
       "      <td>15</td>\n",
       "      <td>CARROLL</td>\n",
       "      <td>AREA OPERATED: (1.0 TO 9.9 ACRES)</td>\n",
       "      <td>30</td>\n",
       "    </tr>\n",
       "    <tr>\n",
       "      <th>1030</th>\n",
       "      <td>IL</td>\n",
       "      <td>7</td>\n",
       "      <td>BOONE</td>\n",
       "      <td>AREA OPERATED: (1.0 TO 9.9 ACRES)</td>\n",
       "      <td>42</td>\n",
       "    </tr>\n",
       "    <tr>\n",
       "      <th>1032</th>\n",
       "      <td>IL</td>\n",
       "      <td>9</td>\n",
       "      <td>BROWN</td>\n",
       "      <td>AREA OPERATED: (1 000 TO 1 999 ACRES)</td>\n",
       "      <td>19</td>\n",
       "    </tr>\n",
       "    <tr>\n",
       "      <th>1033</th>\n",
       "      <td>IL</td>\n",
       "      <td>19</td>\n",
       "      <td>CHAMPAIGN</td>\n",
       "      <td>AREA OPERATED: (1 000 TO 1 999 ACRES)</td>\n",
       "      <td>137</td>\n",
       "    </tr>\n",
       "    <tr>\n",
       "      <th>1034</th>\n",
       "      <td>IL</td>\n",
       "      <td>5</td>\n",
       "      <td>BOND</td>\n",
       "      <td>AREA OPERATED: (1 000 TO 1 999 ACRES)</td>\n",
       "      <td>29</td>\n",
       "    </tr>\n",
       "    <tr>\n",
       "      <th>1035</th>\n",
       "      <td>IL</td>\n",
       "      <td>13</td>\n",
       "      <td>CALHOUN</td>\n",
       "      <td>AREA OPERATED: (1 000 TO 1 999 ACRES)</td>\n",
       "      <td>7</td>\n",
       "    </tr>\n",
       "    <tr>\n",
       "      <th>1036</th>\n",
       "      <td>IL</td>\n",
       "      <td>17</td>\n",
       "      <td>CASS</td>\n",
       "      <td>AREA OPERATED: (1 000 TO 1 999 ACRES)</td>\n",
       "      <td>43</td>\n",
       "    </tr>\n",
       "    <tr>\n",
       "      <th>1037</th>\n",
       "      <td>IL</td>\n",
       "      <td>3</td>\n",
       "      <td>ALEXANDER</td>\n",
       "      <td>AREA OPERATED: (1 000 TO 1 999 ACRES)</td>\n",
       "      <td>11</td>\n",
       "    </tr>\n",
       "    <tr>\n",
       "      <th>1038</th>\n",
       "      <td>IL</td>\n",
       "      <td>7</td>\n",
       "      <td>BOONE</td>\n",
       "      <td>AREA OPERATED: (260 TO 499 ACRES)</td>\n",
       "      <td>69</td>\n",
       "    </tr>\n",
       "    <tr>\n",
       "      <th>1039</th>\n",
       "      <td>IL</td>\n",
       "      <td>1</td>\n",
       "      <td>ADAMS</td>\n",
       "      <td>AREA OPERATED: (260 TO 499 ACRES)</td>\n",
       "      <td>153</td>\n",
       "    </tr>\n",
       "    <tr>\n",
       "      <th>1040</th>\n",
       "      <td>IL</td>\n",
       "      <td>9</td>\n",
       "      <td>BROWN</td>\n",
       "      <td>AREA OPERATED: (260 TO 499 ACRES)</td>\n",
       "      <td>42</td>\n",
       "    </tr>\n",
       "    <tr>\n",
       "      <th>1041</th>\n",
       "      <td>IL</td>\n",
       "      <td>19</td>\n",
       "      <td>CHAMPAIGN</td>\n",
       "      <td>AREA OPERATED: (260 TO 499 ACRES)</td>\n",
       "      <td>171</td>\n",
       "    </tr>\n",
       "    <tr>\n",
       "      <th>1042</th>\n",
       "      <td>IL</td>\n",
       "      <td>5</td>\n",
       "      <td>BOND</td>\n",
       "      <td>AREA OPERATED: (260 TO 499 ACRES)</td>\n",
       "      <td>57</td>\n",
       "    </tr>\n",
       "    <tr>\n",
       "      <th>1043</th>\n",
       "      <td>IL</td>\n",
       "      <td>13</td>\n",
       "      <td>CALHOUN</td>\n",
       "      <td>AREA OPERATED: (260 TO 499 ACRES)</td>\n",
       "      <td>25</td>\n",
       "    </tr>\n",
       "    <tr>\n",
       "      <th>1044</th>\n",
       "      <td>IL</td>\n",
       "      <td>17</td>\n",
       "      <td>CASS</td>\n",
       "      <td>AREA OPERATED: (260 TO 499 ACRES)</td>\n",
       "      <td>31</td>\n",
       "    </tr>\n",
       "    <tr>\n",
       "      <th>1047</th>\n",
       "      <td>IL</td>\n",
       "      <td>3</td>\n",
       "      <td>ALEXANDER</td>\n",
       "      <td>AREA OPERATED: (10.0 TO 49.9 ACRES)</td>\n",
       "      <td>13</td>\n",
       "    </tr>\n",
       "    <tr>\n",
       "      <th>1065</th>\n",
       "      <td>IL</td>\n",
       "      <td>9</td>\n",
       "      <td>BROWN</td>\n",
       "      <td>AREA OPERATED: (180 TO 219 ACRES)</td>\n",
       "      <td>13</td>\n",
       "    </tr>\n",
       "    <tr>\n",
       "      <th>1066</th>\n",
       "      <td>IL</td>\n",
       "      <td>19</td>\n",
       "      <td>CHAMPAIGN</td>\n",
       "      <td>AREA OPERATED: (180 TO 219 ACRES)</td>\n",
       "      <td>41</td>\n",
       "    </tr>\n",
       "    <tr>\n",
       "      <th>1067</th>\n",
       "      <td>IL</td>\n",
       "      <td>5</td>\n",
       "      <td>BOND</td>\n",
       "      <td>AREA OPERATED: (180 TO 219 ACRES)</td>\n",
       "      <td>19</td>\n",
       "    </tr>\n",
       "    <tr>\n",
       "      <th>1068</th>\n",
       "      <td>IL</td>\n",
       "      <td>13</td>\n",
       "      <td>CALHOUN</td>\n",
       "      <td>AREA OPERATED: (180 TO 219 ACRES)</td>\n",
       "      <td>13</td>\n",
       "    </tr>\n",
       "    <tr>\n",
       "      <th>1069</th>\n",
       "      <td>IL</td>\n",
       "      <td>17</td>\n",
       "      <td>CASS</td>\n",
       "      <td>AREA OPERATED: (180 TO 219 ACRES)</td>\n",
       "      <td>12</td>\n",
       "    </tr>\n",
       "    <tr>\n",
       "      <th>1081</th>\n",
       "      <td>IL</td>\n",
       "      <td>11</td>\n",
       "      <td>BUREAU</td>\n",
       "      <td>AREA OPERATED: (70.0 TO 99.9 ACRES)</td>\n",
       "      <td>59</td>\n",
       "    </tr>\n",
       "    <tr>\n",
       "      <th>1082</th>\n",
       "      <td>IL</td>\n",
       "      <td>15</td>\n",
       "      <td>CARROLL</td>\n",
       "      <td>AREA OPERATED: (70.0 TO 99.9 ACRES)</td>\n",
       "      <td>17</td>\n",
       "    </tr>\n",
       "    <tr>\n",
       "      <th>1083</th>\n",
       "      <td>IL</td>\n",
       "      <td>7</td>\n",
       "      <td>BOONE</td>\n",
       "      <td>AREA OPERATED: (70.0 TO 99.9 ACRES)</td>\n",
       "      <td>18</td>\n",
       "    </tr>\n",
       "    <tr>\n",
       "      <th>1084</th>\n",
       "      <td>IL</td>\n",
       "      <td>1</td>\n",
       "      <td>ADAMS</td>\n",
       "      <td>AREA OPERATED: (70.0 TO 99.9 ACRES)</td>\n",
       "      <td>88</td>\n",
       "    </tr>\n",
       "    <tr>\n",
       "      <th>1085</th>\n",
       "      <td>IL</td>\n",
       "      <td>9</td>\n",
       "      <td>BROWN</td>\n",
       "      <td>AREA OPERATED: (70.0 TO 99.9 ACRES)</td>\n",
       "      <td>24</td>\n",
       "    </tr>\n",
       "    <tr>\n",
       "      <th>1086</th>\n",
       "      <td>IL</td>\n",
       "      <td>19</td>\n",
       "      <td>CHAMPAIGN</td>\n",
       "      <td>AREA OPERATED: (70.0 TO 99.9 ACRES)</td>\n",
       "      <td>61</td>\n",
       "    </tr>\n",
       "    <tr>\n",
       "      <th>1089</th>\n",
       "      <td>IL</td>\n",
       "      <td>15</td>\n",
       "      <td>CARROLL</td>\n",
       "      <td>AREA OPERATED: (140 TO 179 ACRES)</td>\n",
       "      <td>24</td>\n",
       "    </tr>\n",
       "    <tr>\n",
       "      <th>1090</th>\n",
       "      <td>IL</td>\n",
       "      <td>3</td>\n",
       "      <td>ALEXANDER</td>\n",
       "      <td>AREA OPERATED: (260 TO 499 ACRES)</td>\n",
       "      <td>11</td>\n",
       "    </tr>\n",
       "  </tbody>\n",
       "</table>\n",
       "<p>120 rows × 5 columns</p>\n",
       "</div>"
      ],
      "text/plain": [
       "     state  FIPS     county                              farmsizes  nfarms\n",
       "724     IL    11     BUREAU   AREA OPERATED: (2 000 OR MORE ACRES)      33\n",
       "725     IL    15    CARROLL   AREA OPERATED: (2 000 OR MORE ACRES)      23\n",
       "726     IL     7      BOONE   AREA OPERATED: (2 000 OR MORE ACRES)       6\n",
       "727     IL     1      ADAMS   AREA OPERATED: (2 000 OR MORE ACRES)      27\n",
       "728     IL     9      BROWN   AREA OPERATED: (2 000 OR MORE ACRES)      11\n",
       "729     IL    19  CHAMPAIGN   AREA OPERATED: (2 000 OR MORE ACRES)      55\n",
       "730     IL     5       BOND   AREA OPERATED: (2 000 OR MORE ACRES)      24\n",
       "731     IL    13    CALHOUN   AREA OPERATED: (2 000 OR MORE ACRES)       2\n",
       "732     IL     3  ALEXANDER   AREA OPERATED: (2 000 OR MORE ACRES)      11\n",
       "746     IL    17       CASS   AREA OPERATED: (2 000 OR MORE ACRES)      17\n",
       "747     IL     1      ADAMS      AREA OPERATED: (500 TO 999 ACRES)     139\n",
       "748     IL     9      BROWN      AREA OPERATED: (500 TO 999 ACRES)      34\n",
       "749     IL    19  CHAMPAIGN      AREA OPERATED: (500 TO 999 ACRES)     207\n",
       "750     IL     5       BOND      AREA OPERATED: (500 TO 999 ACRES)      56\n",
       "751     IL    13    CALHOUN      AREA OPERATED: (500 TO 999 ACRES)      31\n",
       "752     IL    17       CASS      AREA OPERATED: (500 TO 999 ACRES)      43\n",
       "763     IL    11     BUREAU      AREA OPERATED: (100 TO 139 ACRES)      60\n",
       "764     IL    15    CARROLL      AREA OPERATED: (100 TO 139 ACRES)      16\n",
       "765     IL     7      BOONE      AREA OPERATED: (100 TO 139 ACRES)      23\n",
       "766     IL     1      ADAMS      AREA OPERATED: (100 TO 139 ACRES)      70\n",
       "767     IL     9      BROWN      AREA OPERATED: (100 TO 139 ACRES)      15\n",
       "768     IL    19  CHAMPAIGN      AREA OPERATED: (100 TO 139 ACRES)      61\n",
       "769     IL     5       BOND      AREA OPERATED: (100 TO 139 ACRES)      34\n",
       "770     IL    13    CALHOUN      AREA OPERATED: (100 TO 139 ACRES)      38\n",
       "771     IL    17       CASS      AREA OPERATED: (100 TO 139 ACRES)      24\n",
       "772     IL     3  ALEXANDER      AREA OPERATED: (100 TO 139 ACRES)      16\n",
       "812     IL    11     BUREAU      AREA OPERATED: (1.0 TO 9.9 ACRES)      27\n",
       "819     IL    11     BUREAU    AREA OPERATED: (10.0 TO 49.9 ACRES)      98\n",
       "820     IL    15    CARROLL    AREA OPERATED: (10.0 TO 49.9 ACRES)      61\n",
       "829     IL    11     BUREAU  AREA OPERATED: (1 000 TO 1 999 ACRES)      89\n",
       "...    ...   ...        ...                                    ...     ...\n",
       "1028    IL     3  ALEXANDER    AREA OPERATED: (50.0 TO 69.9 ACRES)       6\n",
       "1029    IL    15    CARROLL      AREA OPERATED: (1.0 TO 9.9 ACRES)      30\n",
       "1030    IL     7      BOONE      AREA OPERATED: (1.0 TO 9.9 ACRES)      42\n",
       "1032    IL     9      BROWN  AREA OPERATED: (1 000 TO 1 999 ACRES)      19\n",
       "1033    IL    19  CHAMPAIGN  AREA OPERATED: (1 000 TO 1 999 ACRES)     137\n",
       "1034    IL     5       BOND  AREA OPERATED: (1 000 TO 1 999 ACRES)      29\n",
       "1035    IL    13    CALHOUN  AREA OPERATED: (1 000 TO 1 999 ACRES)       7\n",
       "1036    IL    17       CASS  AREA OPERATED: (1 000 TO 1 999 ACRES)      43\n",
       "1037    IL     3  ALEXANDER  AREA OPERATED: (1 000 TO 1 999 ACRES)      11\n",
       "1038    IL     7      BOONE      AREA OPERATED: (260 TO 499 ACRES)      69\n",
       "1039    IL     1      ADAMS      AREA OPERATED: (260 TO 499 ACRES)     153\n",
       "1040    IL     9      BROWN      AREA OPERATED: (260 TO 499 ACRES)      42\n",
       "1041    IL    19  CHAMPAIGN      AREA OPERATED: (260 TO 499 ACRES)     171\n",
       "1042    IL     5       BOND      AREA OPERATED: (260 TO 499 ACRES)      57\n",
       "1043    IL    13    CALHOUN      AREA OPERATED: (260 TO 499 ACRES)      25\n",
       "1044    IL    17       CASS      AREA OPERATED: (260 TO 499 ACRES)      31\n",
       "1047    IL     3  ALEXANDER    AREA OPERATED: (10.0 TO 49.9 ACRES)      13\n",
       "1065    IL     9      BROWN      AREA OPERATED: (180 TO 219 ACRES)      13\n",
       "1066    IL    19  CHAMPAIGN      AREA OPERATED: (180 TO 219 ACRES)      41\n",
       "1067    IL     5       BOND      AREA OPERATED: (180 TO 219 ACRES)      19\n",
       "1068    IL    13    CALHOUN      AREA OPERATED: (180 TO 219 ACRES)      13\n",
       "1069    IL    17       CASS      AREA OPERATED: (180 TO 219 ACRES)      12\n",
       "1081    IL    11     BUREAU    AREA OPERATED: (70.0 TO 99.9 ACRES)      59\n",
       "1082    IL    15    CARROLL    AREA OPERATED: (70.0 TO 99.9 ACRES)      17\n",
       "1083    IL     7      BOONE    AREA OPERATED: (70.0 TO 99.9 ACRES)      18\n",
       "1084    IL     1      ADAMS    AREA OPERATED: (70.0 TO 99.9 ACRES)      88\n",
       "1085    IL     9      BROWN    AREA OPERATED: (70.0 TO 99.9 ACRES)      24\n",
       "1086    IL    19  CHAMPAIGN    AREA OPERATED: (70.0 TO 99.9 ACRES)      61\n",
       "1089    IL    15    CARROLL      AREA OPERATED: (140 TO 179 ACRES)      24\n",
       "1090    IL     3  ALEXANDER      AREA OPERATED: (260 TO 499 ACRES)      11\n",
       "\n",
       "[120 rows x 5 columns]"
      ]
     },
     "execution_count": 7,
     "metadata": {},
     "output_type": "execute_result"
    }
   ],
   "source": [
    "query = (dfr.DomainDesc == 'AREA OPERATED') \\\n",
    "        & (dfr.ProdnPracticeDesc == 'ALL PRODUCTION PRACTICES') & (dfr.UnitDesc == 'OPERATIONS')\n",
    "farm_size = dfr[query][['StateAlpha','CountyFIPS','CountyName', 'DomaincatDesc', 'Value']] \n",
    "farm_size.columns = ['state', 'FIPS', 'county','farmsizes', 'nfarms']\n",
    "farm_size"
   ]
  },
  {
   "cell_type": "markdown",
   "metadata": {
    "deletable": true,
    "editable": true
   },
   "source": [
    "Relabel the bin categories and sort"
   ]
  },
  {
   "cell_type": "markdown",
   "metadata": {
    "deletable": true,
    "editable": true
   },
   "source": [
    "### Land Size"
   ]
  },
  {
   "cell_type": "code",
   "execution_count": 8,
   "metadata": {
    "collapsed": false,
    "deletable": true,
    "editable": true
   },
   "outputs": [],
   "source": [
    "query = (dfr.DomainDesc == 'AREA OPERATED') \\\n",
    "        & (dfr.ProdnPracticeDesc == 'ALL PRODUCTION PRACTICES') & (dfr.UnitDesc == 'ACRES')\n",
    "land_size = dfr[query][['CountyFIPS','DomaincatDesc', 'Value']]\n",
    "land_size.columns = ['FIPS', 'farmsizes', 'acres']"
   ]
  },
  {
   "cell_type": "code",
   "execution_count": 9,
   "metadata": {
    "collapsed": false,
    "deletable": true,
    "editable": true
   },
   "outputs": [],
   "source": [
    "lands = pd.merge(farm_size, land_size, on = ['FIPS', 'farmsizes'])"
   ]
  },
  {
   "cell_type": "markdown",
   "metadata": {},
   "source": [
    "Let's use a dictionary to relabel those bin categories to something more readable:"
   ]
  },
  {
   "cell_type": "code",
   "execution_count": 10,
   "metadata": {
    "collapsed": false
   },
   "outputs": [],
   "source": [
    "di = {\n",
    " 'AREA OPERATED: (1.0 TO 9.9 ACRES)': '   1 to   10 acres',\n",
    " 'AREA OPERATED: (10.0 TO 49.9 ACRES)': '  10 to   50 acres',\n",
    " 'AREA OPERATED: (50.0 TO 69.9 ACRES)': '  50 to   70 acres', \n",
    " 'AREA OPERATED: (70.0 TO 99.9 ACRES)': '  70 to  100 acres',   \n",
    " 'AREA OPERATED: (100 TO 139 ACRES)': ' 100 to  140 acres',\n",
    " 'AREA OPERATED: (140 TO 179 ACRES)': ' 140 to  180 acres',\n",
    " 'AREA OPERATED: (180 TO 219 ACRES)': ' 180 to  220 acres',\n",
    " 'AREA OPERATED: (220 TO 259 ACRES)': ' 220 to  260 acres',\n",
    " 'AREA OPERATED: (260 TO 499 ACRES)': ' 260 to  500 acres',\n",
    " 'AREA OPERATED: (500 TO 999 ACRES)': ' 500 to 1000 acres',\n",
    " 'AREA OPERATED: (1 000 TO 1 999 ACRES)': '1000 to 2000 acres',\n",
    " 'AREA OPERATED: (2 000 OR MORE ACRES)': '2000  or more acres'}"
   ]
  },
  {
   "cell_type": "code",
   "execution_count": 11,
   "metadata": {
    "collapsed": false,
    "deletable": true,
    "editable": true
   },
   "outputs": [],
   "source": [
    "lands['farmsizes'].replace(di, inplace=True)"
   ]
  },
  {
   "cell_type": "code",
   "execution_count": 12,
   "metadata": {
    "collapsed": false,
    "deletable": true,
    "editable": true
   },
   "outputs": [],
   "source": [
    "lands = lands.sort_values(by = ['FIPS', 'farmsizes']).reset_index(drop=True)"
   ]
  },
  {
   "cell_type": "code",
   "execution_count": 13,
   "metadata": {
    "collapsed": true
   },
   "outputs": [],
   "source": [
    "lands['pnfarms'] = 0\n",
    "lands['pacres'] = 0"
   ]
  },
  {
   "cell_type": "code",
   "execution_count": 14,
   "metadata": {
    "collapsed": false
   },
   "outputs": [],
   "source": [
    "lands[['pnfarms']] = lands.groupby('FIPS')['nfarms'].apply(lambda x: x.cumsum()/sum(x))"
   ]
  },
  {
   "cell_type": "code",
   "execution_count": 15,
   "metadata": {
    "collapsed": false
   },
   "outputs": [],
   "source": [
    "lands[['pacres']] = lands.groupby('FIPS')['acres'].apply(lambda x: x.cumsum()/sum(x))"
   ]
  },
  {
   "cell_type": "markdown",
   "metadata": {},
   "source": [
    "## Lorenz Plots"
   ]
  },
  {
   "cell_type": "code",
   "execution_count": 16,
   "metadata": {
    "collapsed": false
   },
   "outputs": [
    {
     "data": {
      "image/png": "[encoded data removed]",
      "text/plain": [
       "<matplotlib.figure.Figure at 0xc5e007a2e8>"
      ]
     },
     "metadata": {},
     "output_type": "display_data"
    }
   ],
   "source": [
    "plt.figure(figsize =(10,20))\n",
    "num_plots = len(lands.groupby('FIPS'))\n",
    "ncols = 2\n",
    "nrows = num_plots/ncols\n",
    "plot_number = 1\n",
    "for key, grp in lands.groupby('FIPS'):\n",
    "    ax = plt.subplot(nrows,ncols, plot_number)\n",
    "    plt.plot(grp.pnfarms, grp.pnfarms)\n",
    "    plt.plot(grp.pnfarms, grp.pacres, marker = 'o')\n",
    "    plt.gca().set_aspect('equal', adjustable='box')\n",
    "    ax.set_title(key)\n",
    "    plot_number = plot_number + 1\n",
    "plt.tight_layout()"
   ]
  },
  {
   "cell_type": "markdown",
   "metadata": {},
   "source": [
    "#### Gini coefficient from Lorenz data\n",
    " It's all about adding up trapezoids.  If $F_n$ are cumulative proportion of farms and $A_n$ are cumulative proportion of land area, then the area under the Lorenz curve $B$ is given by:\n",
    "\n",
    "$$ B = \\sum_{n=1}^{N} F_{n}\\cdot A_{n-1} +\\frac{1}{2} (F_n - F_{n-1}) \\cdot (A_n - A_{n-1})$$ \n",
    "\n",
    "If the area below the diagonal and above the Lorenz curve is labeled $A$ then the Gini coefficient is given by \n",
    "\n",
    "$$G = \\frac{A}{A+B}  = 1- 2 \\cdot B$$\n",
    "\n",
    "since $A+B = \\frac{1}{2}$."
   ]
  },
  {
   "cell_type": "code",
   "execution_count": 17,
   "metadata": {
    "collapsed": false
   },
   "outputs": [],
   "source": [
    "def gini(pfarms, pland):\n",
    "    '''Land Gini from Lorenz curve data'''\n",
    "    FT = np.array(pfarms[1:])\n",
    "    FL = np.array(pfarms[0:-1])\n",
    "    AT = np.array(pland[1:])\n",
    "    AL = np.array(pland[0:-1])\n",
    "    B = np.sum((FT-FL)*AL) + np.sum(0.5*(FT - FL)*(AT - AL)) \n",
    "    return 1 - 2*B "
   ]
  },
  {
   "cell_type": "code",
   "execution_count": 18,
   "metadata": {
    "collapsed": false
   },
   "outputs": [
    {
     "name": "stdout",
     "output_type": "stream",
     "text": [
      "FIPS =      1    Gini = 0.660\n",
      "FIPS =      3    Gini =   nan\n",
      "FIPS =      5    Gini = 0.715\n",
      "FIPS =      7    Gini = 0.725\n",
      "FIPS =      9    Gini = 0.660\n",
      "FIPS =     11    Gini = 0.609\n",
      "FIPS =     13    Gini =   nan\n",
      "FIPS =     15    Gini = 0.647\n",
      "FIPS =     17    Gini = 0.618\n",
      "FIPS =     19    Gini = 0.604\n"
     ]
    }
   ],
   "source": [
    "for key, grp in lands.groupby('FIPS'):\n",
    "    print('FIPS =  {:5.0f}    Gini = {:5.3f}'.format(key, gini(grp.pnfarms, grp.pacres)))"
   ]
  },
  {
   "cell_type": "markdown",
   "metadata": {},
   "source": [
    "## Now let's fit the distribution\n",
    "\n",
    "Similar to the distn_fit notebooks by Jonathan and Matt, let's try the MLE and GMM estimators.\n",
    "\n",
    "First let's get the bin edges and bin frequencies the way we need them:"
   ]
  },
  {
   "cell_type": "code",
   "execution_count": 19,
   "metadata": {
    "collapsed": true
   },
   "outputs": [],
   "source": [
    "bins = np.array([1, 10, 50, 70, 100, 140, 180, 220, 260, 500, 1000, 2000])  "
   ]
  },
  {
   "cell_type": "code",
   "execution_count": 20,
   "metadata": {
    "collapsed": false
   },
   "outputs": [],
   "source": [
    "lands[['farm_pdf', 'land_pdf']] = lands[['nfarms', 'acres']].apply(lambda x: x/sum(x))"
   ]
  },
  {
   "cell_type": "code",
   "execution_count": 21,
   "metadata": {
    "collapsed": false
   },
   "outputs": [
    {
     "data": {
      "text/plain": [
       "0.99999999999999989"
      ]
     },
     "execution_count": 21,
     "metadata": {},
     "output_type": "execute_result"
    }
   ],
   "source": [
    "sum(lands.farm_pdf)"
   ]
  },
  {
   "cell_type": "markdown",
   "metadata": {},
   "source": [
    "### The gmm estimator"
   ]
  },
  {
   "cell_type": "code",
   "execution_count": 22,
   "metadata": {
    "collapsed": true
   },
   "outputs": [],
   "source": [
    "def mm_crit(parms, binFreq, binEdges):\n",
    "    \n",
    "    mu    = parms[0]\n",
    "    sigma = parms[1]\n",
    "    \n",
    "    m = lognorm.cdf(binEdges[1:], s=sigma, scale=np.exp(mu)) - lognorm.cdf(binEdges[0:-1], s=sigma, scale=np.exp(mu))\n",
    "    m = np.append(m, [1 - lognorm.cdf(binEdges[-1], s=sigma, scale=np.exp(mu))])\n",
    "    \n",
    "    moments = (m - binFreq)/binFreq\n",
    "    \n",
    "    return np.dot(moments, moments)"
   ]
  },
  {
   "cell_type": "code",
   "execution_count": 23,
   "metadata": {
    "collapsed": false
   },
   "outputs": [
    {
     "ename": "ValueError",
     "evalue": "operands could not be broadcast together with shapes (12,) (120,) ",
     "output_type": "error",
     "traceback": [
      "\u001b[1;31m---------------------------------------------------------------------------\u001b[0m",
      "\u001b[1;31mValueError\u001b[0m                                Traceback (most recent call last)",
      "\u001b[1;32m<ipython-input-23-e32732b6ce87>\u001b[0m in \u001b[0;36m<module>\u001b[1;34m()\u001b[0m\n\u001b[0;32m      1\u001b[0m \u001b[0mguess\u001b[0m \u001b[1;33m=\u001b[0m \u001b[0mnp\u001b[0m\u001b[1;33m.\u001b[0m\u001b[0marray\u001b[0m\u001b[1;33m(\u001b[0m\u001b[1;33m[\u001b[0m\u001b[1;36m5\u001b[0m\u001b[1;33m,\u001b[0m\u001b[1;36m2\u001b[0m\u001b[1;33m]\u001b[0m\u001b[1;33m)\u001b[0m\u001b[1;33m\u001b[0m\u001b[0m\n\u001b[1;32m----> 2\u001b[1;33m \u001b[0mres\u001b[0m \u001b[1;33m=\u001b[0m \u001b[0mminimize\u001b[0m\u001b[1;33m(\u001b[0m\u001b[0mmm_crit\u001b[0m\u001b[1;33m,\u001b[0m \u001b[0mguess\u001b[0m\u001b[1;33m,\u001b[0m \u001b[0margs\u001b[0m \u001b[1;33m=\u001b[0m\u001b[1;33m(\u001b[0m\u001b[0mlands\u001b[0m\u001b[1;33m.\u001b[0m\u001b[0mfarm_pdf\u001b[0m\u001b[1;33m,\u001b[0m \u001b[0mbins\u001b[0m\u001b[1;33m)\u001b[0m\u001b[1;33m,\u001b[0m  \u001b[0mmethod\u001b[0m \u001b[1;33m=\u001b[0m\u001b[1;34m'Nelder-Mead'\u001b[0m\u001b[1;33m)\u001b[0m\u001b[1;33m\u001b[0m\u001b[0m\n\u001b[0m\u001b[0;32m      3\u001b[0m \u001b[0mprint\u001b[0m\u001b[1;33m(\u001b[0m\u001b[1;34m'Resulting parameter estimates are: '\u001b[0m\u001b[1;33m,\u001b[0m\u001b[0mres\u001b[0m\u001b[1;33m.\u001b[0m\u001b[0mx\u001b[0m\u001b[1;33m)\u001b[0m\u001b[1;33m\u001b[0m\u001b[0m\n",
      "\u001b[1;32mC:\\Users\\yaoqi_000\\Anaconda3\\lib\\site-packages\\scipy\\optimize\\_minimize.py\u001b[0m in \u001b[0;36mminimize\u001b[1;34m(fun, x0, args, method, jac, hess, hessp, bounds, constraints, tol, callback, options)\u001b[0m\n\u001b[0;32m    430\u001b[0m                       callback=callback, **options)\n\u001b[0;32m    431\u001b[0m     \u001b[1;32melif\u001b[0m \u001b[0mmeth\u001b[0m \u001b[1;33m==\u001b[0m \u001b[1;34m'nelder-mead'\u001b[0m\u001b[1;33m:\u001b[0m\u001b[1;33m\u001b[0m\u001b[0m\n\u001b[1;32m--> 432\u001b[1;33m         \u001b[1;32mreturn\u001b[0m \u001b[0m_minimize_neldermead\u001b[0m\u001b[1;33m(\u001b[0m\u001b[0mfun\u001b[0m\u001b[1;33m,\u001b[0m \u001b[0mx0\u001b[0m\u001b[1;33m,\u001b[0m \u001b[0margs\u001b[0m\u001b[1;33m,\u001b[0m \u001b[0mcallback\u001b[0m\u001b[1;33m,\u001b[0m \u001b[1;33m**\u001b[0m\u001b[0moptions\u001b[0m\u001b[1;33m)\u001b[0m\u001b[1;33m\u001b[0m\u001b[0m\n\u001b[0m\u001b[0;32m    433\u001b[0m     \u001b[1;32melif\u001b[0m \u001b[0mmeth\u001b[0m \u001b[1;33m==\u001b[0m \u001b[1;34m'powell'\u001b[0m\u001b[1;33m:\u001b[0m\u001b[1;33m\u001b[0m\u001b[0m\n\u001b[0;32m    434\u001b[0m         \u001b[1;32mreturn\u001b[0m \u001b[0m_minimize_powell\u001b[0m\u001b[1;33m(\u001b[0m\u001b[0mfun\u001b[0m\u001b[1;33m,\u001b[0m \u001b[0mx0\u001b[0m\u001b[1;33m,\u001b[0m \u001b[0margs\u001b[0m\u001b[1;33m,\u001b[0m \u001b[0mcallback\u001b[0m\u001b[1;33m,\u001b[0m \u001b[1;33m**\u001b[0m\u001b[0moptions\u001b[0m\u001b[1;33m)\u001b[0m\u001b[1;33m\u001b[0m\u001b[0m\n",
      "\u001b[1;32mC:\\Users\\yaoqi_000\\Anaconda3\\lib\\site-packages\\scipy\\optimize\\optimize.py\u001b[0m in \u001b[0;36m_minimize_neldermead\u001b[1;34m(func, x0, args, callback, xtol, ftol, maxiter, maxfev, disp, return_all, **unknown_options)\u001b[0m\n\u001b[0;32m    433\u001b[0m     \u001b[1;32mif\u001b[0m \u001b[0mretall\u001b[0m\u001b[1;33m:\u001b[0m\u001b[1;33m\u001b[0m\u001b[0m\n\u001b[0;32m    434\u001b[0m         \u001b[0mallvecs\u001b[0m \u001b[1;33m=\u001b[0m \u001b[1;33m[\u001b[0m\u001b[0msim\u001b[0m\u001b[1;33m[\u001b[0m\u001b[1;36m0\u001b[0m\u001b[1;33m]\u001b[0m\u001b[1;33m]\u001b[0m\u001b[1;33m\u001b[0m\u001b[0m\n\u001b[1;32m--> 435\u001b[1;33m     \u001b[0mfsim\u001b[0m\u001b[1;33m[\u001b[0m\u001b[1;36m0\u001b[0m\u001b[1;33m]\u001b[0m \u001b[1;33m=\u001b[0m \u001b[0mfunc\u001b[0m\u001b[1;33m(\u001b[0m\u001b[0mx0\u001b[0m\u001b[1;33m)\u001b[0m\u001b[1;33m\u001b[0m\u001b[0m\n\u001b[0m\u001b[0;32m    436\u001b[0m     \u001b[0mnonzdelt\u001b[0m \u001b[1;33m=\u001b[0m \u001b[1;36m0.05\u001b[0m\u001b[1;33m\u001b[0m\u001b[0m\n\u001b[0;32m    437\u001b[0m     \u001b[0mzdelt\u001b[0m \u001b[1;33m=\u001b[0m \u001b[1;36m0.00025\u001b[0m\u001b[1;33m\u001b[0m\u001b[0m\n",
      "\u001b[1;32mC:\\Users\\yaoqi_000\\Anaconda3\\lib\\site-packages\\scipy\\optimize\\optimize.py\u001b[0m in \u001b[0;36mfunction_wrapper\u001b[1;34m(*wrapper_args)\u001b[0m\n\u001b[0;32m    283\u001b[0m     \u001b[1;32mdef\u001b[0m \u001b[0mfunction_wrapper\u001b[0m\u001b[1;33m(\u001b[0m\u001b[1;33m*\u001b[0m\u001b[0mwrapper_args\u001b[0m\u001b[1;33m)\u001b[0m\u001b[1;33m:\u001b[0m\u001b[1;33m\u001b[0m\u001b[0m\n\u001b[0;32m    284\u001b[0m         \u001b[0mncalls\u001b[0m\u001b[1;33m[\u001b[0m\u001b[1;36m0\u001b[0m\u001b[1;33m]\u001b[0m \u001b[1;33m+=\u001b[0m \u001b[1;36m1\u001b[0m\u001b[1;33m\u001b[0m\u001b[0m\n\u001b[1;32m--> 285\u001b[1;33m         \u001b[1;32mreturn\u001b[0m \u001b[0mfunction\u001b[0m\u001b[1;33m(\u001b[0m\u001b[1;33m*\u001b[0m\u001b[1;33m(\u001b[0m\u001b[0mwrapper_args\u001b[0m \u001b[1;33m+\u001b[0m \u001b[0margs\u001b[0m\u001b[1;33m)\u001b[0m\u001b[1;33m)\u001b[0m\u001b[1;33m\u001b[0m\u001b[0m\n\u001b[0m\u001b[0;32m    286\u001b[0m \u001b[1;33m\u001b[0m\u001b[0m\n\u001b[0;32m    287\u001b[0m     \u001b[1;32mreturn\u001b[0m \u001b[0mncalls\u001b[0m\u001b[1;33m,\u001b[0m \u001b[0mfunction_wrapper\u001b[0m\u001b[1;33m\u001b[0m\u001b[0m\n",
      "\u001b[1;32m<ipython-input-22-c8b25144ac6d>\u001b[0m in \u001b[0;36mmm_crit\u001b[1;34m(parms, binFreq, binEdges)\u001b[0m\n\u001b[0;32m      7\u001b[0m     \u001b[0mm\u001b[0m \u001b[1;33m=\u001b[0m \u001b[0mnp\u001b[0m\u001b[1;33m.\u001b[0m\u001b[0mappend\u001b[0m\u001b[1;33m(\u001b[0m\u001b[0mm\u001b[0m\u001b[1;33m,\u001b[0m \u001b[1;33m[\u001b[0m\u001b[1;36m1\u001b[0m \u001b[1;33m-\u001b[0m \u001b[0mlognorm\u001b[0m\u001b[1;33m.\u001b[0m\u001b[0mcdf\u001b[0m\u001b[1;33m(\u001b[0m\u001b[0mbinEdges\u001b[0m\u001b[1;33m[\u001b[0m\u001b[1;33m-\u001b[0m\u001b[1;36m1\u001b[0m\u001b[1;33m]\u001b[0m\u001b[1;33m,\u001b[0m \u001b[0ms\u001b[0m\u001b[1;33m=\u001b[0m\u001b[0msigma\u001b[0m\u001b[1;33m,\u001b[0m \u001b[0mscale\u001b[0m\u001b[1;33m=\u001b[0m\u001b[0mnp\u001b[0m\u001b[1;33m.\u001b[0m\u001b[0mexp\u001b[0m\u001b[1;33m(\u001b[0m\u001b[0mmu\u001b[0m\u001b[1;33m)\u001b[0m\u001b[1;33m)\u001b[0m\u001b[1;33m]\u001b[0m\u001b[1;33m)\u001b[0m\u001b[1;33m\u001b[0m\u001b[0m\n\u001b[0;32m      8\u001b[0m \u001b[1;33m\u001b[0m\u001b[0m\n\u001b[1;32m----> 9\u001b[1;33m     \u001b[0mmoments\u001b[0m \u001b[1;33m=\u001b[0m \u001b[1;33m(\u001b[0m\u001b[0mm\u001b[0m \u001b[1;33m-\u001b[0m \u001b[0mbinFreq\u001b[0m\u001b[1;33m)\u001b[0m\u001b[1;33m/\u001b[0m\u001b[0mbinFreq\u001b[0m\u001b[1;33m\u001b[0m\u001b[0m\n\u001b[0m\u001b[0;32m     10\u001b[0m \u001b[1;33m\u001b[0m\u001b[0m\n\u001b[0;32m     11\u001b[0m     \u001b[1;32mreturn\u001b[0m \u001b[0mnp\u001b[0m\u001b[1;33m.\u001b[0m\u001b[0mdot\u001b[0m\u001b[1;33m(\u001b[0m\u001b[0mmoments\u001b[0m\u001b[1;33m,\u001b[0m \u001b[0mmoments\u001b[0m\u001b[1;33m)\u001b[0m\u001b[1;33m\u001b[0m\u001b[0m\n",
      "\u001b[1;32mC:\\Users\\yaoqi_000\\Anaconda3\\lib\\site-packages\\pandas\\core\\ops.py\u001b[0m in \u001b[0;36mwrapper\u001b[1;34m(left, right, name, na_op)\u001b[0m\n\u001b[0;32m    616\u001b[0m                 \u001b[0mlvalues\u001b[0m \u001b[1;33m=\u001b[0m \u001b[0mlvalues\u001b[0m\u001b[1;33m.\u001b[0m\u001b[0mvalues\u001b[0m\u001b[1;33m\u001b[0m\u001b[0m\n\u001b[0;32m    617\u001b[0m \u001b[1;33m\u001b[0m\u001b[0m\n\u001b[1;32m--> 618\u001b[1;33m             return left._constructor(wrap_results(na_op(lvalues, rvalues)),\n\u001b[0m\u001b[0;32m    619\u001b[0m                                      \u001b[0mindex\u001b[0m\u001b[1;33m=\u001b[0m\u001b[0mleft\u001b[0m\u001b[1;33m.\u001b[0m\u001b[0mindex\u001b[0m\u001b[1;33m,\u001b[0m \u001b[0mname\u001b[0m\u001b[1;33m=\u001b[0m\u001b[0mleft\u001b[0m\u001b[1;33m.\u001b[0m\u001b[0mname\u001b[0m\u001b[1;33m,\u001b[0m\u001b[1;33m\u001b[0m\u001b[0m\n\u001b[0;32m    620\u001b[0m                                      dtype=dtype)\n",
      "\u001b[1;32mC:\\Users\\yaoqi_000\\Anaconda3\\lib\\site-packages\\pandas\\core\\ops.py\u001b[0m in \u001b[0;36mna_op\u001b[1;34m(x, y)\u001b[0m\n\u001b[0;32m    551\u001b[0m         \u001b[1;32mtry\u001b[0m\u001b[1;33m:\u001b[0m\u001b[1;33m\u001b[0m\u001b[0m\n\u001b[0;32m    552\u001b[0m             result = expressions.evaluate(op, str_rep, x, y,\n\u001b[1;32m--> 553\u001b[1;33m                                           raise_on_error=True, **eval_kwargs)\n\u001b[0m\u001b[0;32m    554\u001b[0m         \u001b[1;32mexcept\u001b[0m \u001b[0mTypeError\u001b[0m\u001b[1;33m:\u001b[0m\u001b[1;33m\u001b[0m\u001b[0m\n\u001b[0;32m    555\u001b[0m             \u001b[1;32mif\u001b[0m \u001b[0misinstance\u001b[0m\u001b[1;33m(\u001b[0m\u001b[0my\u001b[0m\u001b[1;33m,\u001b[0m \u001b[1;33m(\u001b[0m\u001b[0mnp\u001b[0m\u001b[1;33m.\u001b[0m\u001b[0mndarray\u001b[0m\u001b[1;33m,\u001b[0m \u001b[0mpd\u001b[0m\u001b[1;33m.\u001b[0m\u001b[0mSeries\u001b[0m\u001b[1;33m,\u001b[0m \u001b[0mpd\u001b[0m\u001b[1;33m.\u001b[0m\u001b[0mIndex\u001b[0m\u001b[1;33m)\u001b[0m\u001b[1;33m)\u001b[0m\u001b[1;33m:\u001b[0m\u001b[1;33m\u001b[0m\u001b[0m\n",
      "\u001b[1;32mC:\\Users\\yaoqi_000\\Anaconda3\\lib\\site-packages\\pandas\\computation\\expressions.py\u001b[0m in \u001b[0;36mevaluate\u001b[1;34m(op, op_str, a, b, raise_on_error, use_numexpr, **eval_kwargs)\u001b[0m\n\u001b[0;32m    216\u001b[0m     \u001b[1;32mif\u001b[0m \u001b[0muse_numexpr\u001b[0m\u001b[1;33m:\u001b[0m\u001b[1;33m\u001b[0m\u001b[0m\n\u001b[0;32m    217\u001b[0m         return _evaluate(op, op_str, a, b, raise_on_error=raise_on_error,\n\u001b[1;32m--> 218\u001b[1;33m                          **eval_kwargs)\n\u001b[0m\u001b[0;32m    219\u001b[0m     \u001b[1;32mreturn\u001b[0m \u001b[0m_evaluate_standard\u001b[0m\u001b[1;33m(\u001b[0m\u001b[0mop\u001b[0m\u001b[1;33m,\u001b[0m \u001b[0mop_str\u001b[0m\u001b[1;33m,\u001b[0m \u001b[0ma\u001b[0m\u001b[1;33m,\u001b[0m \u001b[0mb\u001b[0m\u001b[1;33m,\u001b[0m \u001b[0mraise_on_error\u001b[0m\u001b[1;33m=\u001b[0m\u001b[0mraise_on_error\u001b[0m\u001b[1;33m)\u001b[0m\u001b[1;33m\u001b[0m\u001b[0m\n\u001b[0;32m    220\u001b[0m \u001b[1;33m\u001b[0m\u001b[0m\n",
      "\u001b[1;32mC:\\Users\\yaoqi_000\\Anaconda3\\lib\\site-packages\\pandas\\computation\\expressions.py\u001b[0m in \u001b[0;36m_evaluate_numexpr\u001b[1;34m(op, op_str, a, b, raise_on_error, truediv, reversed, **eval_kwargs)\u001b[0m\n\u001b[0;32m    127\u001b[0m \u001b[1;33m\u001b[0m\u001b[0m\n\u001b[0;32m    128\u001b[0m     \u001b[1;32mif\u001b[0m \u001b[0mresult\u001b[0m \u001b[1;32mis\u001b[0m \u001b[1;32mNone\u001b[0m\u001b[1;33m:\u001b[0m\u001b[1;33m\u001b[0m\u001b[0m\n\u001b[1;32m--> 129\u001b[1;33m         \u001b[0mresult\u001b[0m \u001b[1;33m=\u001b[0m \u001b[0m_evaluate_standard\u001b[0m\u001b[1;33m(\u001b[0m\u001b[0mop\u001b[0m\u001b[1;33m,\u001b[0m \u001b[0mop_str\u001b[0m\u001b[1;33m,\u001b[0m \u001b[0ma\u001b[0m\u001b[1;33m,\u001b[0m \u001b[0mb\u001b[0m\u001b[1;33m,\u001b[0m \u001b[0mraise_on_error\u001b[0m\u001b[1;33m)\u001b[0m\u001b[1;33m\u001b[0m\u001b[0m\n\u001b[0m\u001b[0;32m    130\u001b[0m \u001b[1;33m\u001b[0m\u001b[0m\n\u001b[0;32m    131\u001b[0m     \u001b[1;32mreturn\u001b[0m \u001b[0mresult\u001b[0m\u001b[1;33m\u001b[0m\u001b[0m\n",
      "\u001b[1;32mC:\\Users\\yaoqi_000\\Anaconda3\\lib\\site-packages\\pandas\\computation\\expressions.py\u001b[0m in \u001b[0;36m_evaluate_standard\u001b[1;34m(op, op_str, a, b, raise_on_error, **eval_kwargs)\u001b[0m\n\u001b[0;32m     69\u001b[0m     \u001b[1;32mif\u001b[0m \u001b[0m_TEST_MODE\u001b[0m\u001b[1;33m:\u001b[0m\u001b[1;33m\u001b[0m\u001b[0m\n\u001b[0;32m     70\u001b[0m         \u001b[0m_store_test_result\u001b[0m\u001b[1;33m(\u001b[0m\u001b[1;32mFalse\u001b[0m\u001b[1;33m)\u001b[0m\u001b[1;33m\u001b[0m\u001b[0m\n\u001b[1;32m---> 71\u001b[1;33m     \u001b[1;32mreturn\u001b[0m \u001b[0mop\u001b[0m\u001b[1;33m(\u001b[0m\u001b[0ma\u001b[0m\u001b[1;33m,\u001b[0m \u001b[0mb\u001b[0m\u001b[1;33m)\u001b[0m\u001b[1;33m\u001b[0m\u001b[0m\n\u001b[0m\u001b[0;32m     72\u001b[0m \u001b[1;33m\u001b[0m\u001b[0m\n\u001b[0;32m     73\u001b[0m \u001b[1;33m\u001b[0m\u001b[0m\n",
      "\u001b[1;32mC:\\Users\\yaoqi_000\\Anaconda3\\lib\\site-packages\\pandas\\core\\ops.py\u001b[0m in \u001b[0;36m<lambda>\u001b[1;34m(x, y)\u001b[0m\n\u001b[0;32m     79\u001b[0m         rmul=arith_method(operator.mul, names('rmul'), op('*'),\n\u001b[0;32m     80\u001b[0m                           default_axis=default_axis, reversed=True),\n\u001b[1;32m---> 81\u001b[1;33m         rsub=arith_method(lambda x, y: y - x, names('rsub'), op('-'),\n\u001b[0m\u001b[0;32m     82\u001b[0m                           default_axis=default_axis, reversed=True),\n\u001b[0;32m     83\u001b[0m         rtruediv=arith_method(lambda x, y: operator.truediv(y, x),\n",
      "\u001b[1;31mValueError\u001b[0m: operands could not be broadcast together with shapes (12,) (120,) "
     ]
    }
   ],
   "source": [
    "guess = np.array([5,2])\n",
    "res = minimize(mm_crit, guess, args =(lands.farm_pdf, bins),  method ='Nelder-Mead')\n",
    "print('Resulting parameter estimates are: ',res.x)"
   ]
  },
  {
   "cell_type": "markdown",
   "metadata": {},
   "source": [
    "### The MLE"
   ]
  },
  {
   "cell_type": "code",
   "execution_count": null,
   "metadata": {
    "collapsed": true
   },
   "outputs": [],
   "source": [
    "def binned_LL(params, binFreq, binEdges):\n",
    "    \n",
    "    mu    = params[0]\n",
    "    sigma = params[1]\n",
    "    \n",
    "    m = lognorm.cdf(binEdges[1:], s=sigma, scale=np.exp(mu)) - lognorm.cdf(binEdges[0:-1], s=sigma, scale=np.exp(mu))\n",
    "    m = np.append(m, [1 - lognorm.cdf(binEdges[-1], s=sigma, scale=np.exp(mu))])\n",
    "    \n",
    "    LL = binFreq * np.log(m)\n",
    "\n",
    "    return -np.sum(LL)"
   ]
  },
  {
   "cell_type": "code",
   "execution_count": null,
   "metadata": {
    "collapsed": false
   },
   "outputs": [],
   "source": [
    "guess = np.array([5,2])\n",
    "res = minimize(binned_LL, guess, args =(lands.farm_pdf, bins),  method ='Nelder-Mead')\n",
    "print('Resulting parameter estimates are: ',res.x)"
   ]
  },
  {
   "cell_type": "code",
   "execution_count": null,
   "metadata": {
    "collapsed": false
   },
   "outputs": [],
   "source": [
    "mu = res.x[0]\n",
    "sigma = res.x[1]\n",
    "\n",
    "m = lognorm.cdf(bins[1:],  s=sigma, scale=np.exp(mu)) - lognorm.cdf(bins[0:-1], s=sigma, scale=np.exp(mu))\n",
    "    \n",
    "m = np.append(m, [1 - lognorm.cdf(bins[-1],  s=sigma, scale=np.exp(mu))])\n",
    "\n",
    "n_groups = len(m)\n",
    "\n",
    "fig, ax = plt.subplots()\n",
    "\n",
    "index = np.arange(n_groups)\n",
    "\n",
    "bar_width = 0.35\n",
    "opacity = 0.4\n",
    "\n",
    "error_config = {'ecolor': '0.3'}\n",
    "\n",
    "rects1 = plt.bar(index, np.array(m), bar_width,\n",
    "                 alpha=opacity,\n",
    "                 color='b',\n",
    "                 label='Model')\n",
    "\n",
    "rects2 = plt.bar(index + bar_width, np.array(lands.farm_pdf), bar_width,\n",
    "                 alpha=opacity,\n",
    "                 color='r',\n",
    "                 label='Data')\n",
    "\n",
    "plt.tight_layout()"
   ]
  },
  {
   "cell_type": "markdown",
   "metadata": {},
   "source": [
    "## fitted lognormal  vs. empirical pdf\n",
    "\n",
    "I'm not sure this is right...."
   ]
  },
  {
   "cell_type": "code",
   "execution_count": null,
   "metadata": {
    "collapsed": false
   },
   "outputs": [],
   "source": [
    "rv  = lognorm(s=sigma, scale=np.exp(mu))\n",
    "\n",
    "x = np.linspace(lognorm.ppf(0.01, sigma), lognorm.ppf(0.999999, sigma), 12)\n",
    "plt.plot(x, rv.pdf(x)/sum(rv.pdf(x)))\n",
    "plt.plot(x,lands.farm_pdf);"
   ]
  },
  {
   "cell_type": "markdown",
   "metadata": {},
   "source": [
    "### not yet done ... Predicted Lorenz curve\n",
    "\n",
    "From the fits above we have `m` which is the predicted frequencies in each bin.  We also need expeced farm size (i.e. how many hectares in each bin).  In the bin with edges $b_n$ to $b_{n+1}$ this should be:\n",
    "\n",
    "$$\\int_{b_n}^{b_{n+1}} x \\cdot f(x) dx$$\n",
    "\n",
    "\n",
    "I think we can implement this with the [.expect](https://docs.scipy.org/doc/scipy/reference/generated/scipy.stats.lognorm.html) method...\n",
    "\n",
    "```\n",
    "lognorm.expect(lambda x: (x), ...\n",
    "```\n",
    "\n",
    "or else more simply as a midpoint land size value times the frequency (although then less what to do for the last bin which has acres >2000)\n"
   ]
  },
  {
   "cell_type": "markdown",
   "metadata": {
    "deletable": true,
    "editable": true
   },
   "source": [
    "## Further documentation\n",
    "Here is a long listing of the categories for each column."
   ]
  },
  {
   "cell_type": "code",
   "execution_count": null,
   "metadata": {
    "collapsed": false,
    "deletable": true,
    "editable": true,
    "scrolled": false
   },
   "outputs": [],
   "source": [
    "for col in dfr.columns:\n",
    "    print(col, ': ', dfr[col].unique())\n",
    "    print()"
   ]
  },
  {
   "cell_type": "markdown",
   "metadata": {
    "collapsed": true
   },
   "source": [
    "### State Level Data\n",
    "### IOWA"
   ]
  },
  {
   "cell_type": "code",
   "execution_count": 24,
   "metadata": {
    "collapsed": false
   },
   "outputs": [
    {
     "data": {
      "text/plain": [
       "(13285, 40)"
      ]
     },
     "execution_count": 24,
     "metadata": {},
     "output_type": "execute_result"
    }
   ],
   "source": [
    "sql_queryIA = \"SELECT * FROM NassEconomics WHERE StateName = 'IOWA' AND Year = 2012 \\\n",
    "                  AND SourceDesc = 'CENSUS' AND CommodityDesc = 'AG LAND' \"\n",
    "dfr_IA = agquery(sql_queryIA)\n",
    "dfr_IA.shape"
   ]
  },
  {
   "cell_type": "markdown",
   "metadata": {},
   "source": [
    "### Farm size"
   ]
  },
  {
   "cell_type": "code",
   "execution_count": 25,
   "metadata": {
    "collapsed": false
   },
   "outputs": [
    {
     "data": {
      "text/html": [
       "<div>\n",
       "<table border=\"1\" class=\"dataframe\">\n",
       "  <thead>\n",
       "    <tr style=\"text-align: right;\">\n",
       "      <th></th>\n",
       "      <th>state</th>\n",
       "      <th>FIPS</th>\n",
       "      <th>county</th>\n",
       "      <th>farmsizes</th>\n",
       "      <th>nfarms</th>\n",
       "    </tr>\n",
       "  </thead>\n",
       "  <tbody>\n",
       "    <tr>\n",
       "      <th>7230</th>\n",
       "      <td>IA</td>\n",
       "      <td>65</td>\n",
       "      <td>FAYETTE</td>\n",
       "      <td>AREA OPERATED: (500 TO 999 ACRES)</td>\n",
       "      <td>145</td>\n",
       "    </tr>\n",
       "    <tr>\n",
       "      <th>7231</th>\n",
       "      <td>IA</td>\n",
       "      <td>89</td>\n",
       "      <td>HOWARD</td>\n",
       "      <td>AREA OPERATED: (500 TO 999 ACRES)</td>\n",
       "      <td>95</td>\n",
       "    </tr>\n",
       "    <tr>\n",
       "      <th>7232</th>\n",
       "      <td>IA</td>\n",
       "      <td>191</td>\n",
       "      <td>WINNESHIEK</td>\n",
       "      <td>AREA OPERATED: (500 TO 999 ACRES)</td>\n",
       "      <td>162</td>\n",
       "    </tr>\n",
       "    <tr>\n",
       "      <th>7242</th>\n",
       "      <td>IA</td>\n",
       "      <td>3</td>\n",
       "      <td>ADAMS</td>\n",
       "      <td>AREA OPERATED: (500 TO 999 ACRES)</td>\n",
       "      <td>65</td>\n",
       "    </tr>\n",
       "    <tr>\n",
       "      <th>7243</th>\n",
       "      <td>IA</td>\n",
       "      <td>29</td>\n",
       "      <td>CASS</td>\n",
       "      <td>AREA OPERATED: (500 TO 999 ACRES)</td>\n",
       "      <td>106</td>\n",
       "    </tr>\n",
       "    <tr>\n",
       "      <th>7253</th>\n",
       "      <td>IA</td>\n",
       "      <td>NaN</td>\n",
       "      <td>NaN</td>\n",
       "      <td>AREA OPERATED: (1 000 TO 1 999 ACRES)</td>\n",
       "      <td>6531</td>\n",
       "    </tr>\n",
       "  </tbody>\n",
       "</table>\n",
       "</div>"
      ],
      "text/plain": [
       "     state  FIPS      county                              farmsizes  nfarms\n",
       "7230    IA    65     FAYETTE      AREA OPERATED: (500 TO 999 ACRES)     145\n",
       "7231    IA    89      HOWARD      AREA OPERATED: (500 TO 999 ACRES)      95\n",
       "7232    IA   191  WINNESHIEK      AREA OPERATED: (500 TO 999 ACRES)     162\n",
       "7242    IA     3       ADAMS      AREA OPERATED: (500 TO 999 ACRES)      65\n",
       "7243    IA    29        CASS      AREA OPERATED: (500 TO 999 ACRES)     106\n",
       "7253    IA   NaN         NaN  AREA OPERATED: (1 000 TO 1 999 ACRES)    6531"
      ]
     },
     "execution_count": 25,
     "metadata": {},
     "output_type": "execute_result"
    }
   ],
   "source": [
    "IA_qry = (dfr_IA.DomainDesc == 'AREA OPERATED') & (dfr_IA.ProdnPracticeDesc == 'ALL PRODUCTION PRACTICES') \\\n",
    "        & (dfr_IA.UnitDesc == 'OPERATIONS')\n",
    "fmsz_IA = dfr_IA[IA_qry][['StateAlpha', 'CountyFIPS', 'CountyName', 'DomaincatDesc', 'Value']]\n",
    "fmsz_IA.columns = ['state', 'FIPS', 'county', 'farmsizes', 'nfarms']\n",
    "fmsz_IA.head(n=6)"
   ]
  },
  {
   "cell_type": "markdown",
   "metadata": {},
   "source": [
    "### Land Size"
   ]
  },
  {
   "cell_type": "code",
   "execution_count": 26,
   "metadata": {
    "collapsed": false
   },
   "outputs": [
    {
     "data": {
      "text/html": [
       "<div>\n",
       "<table border=\"1\" class=\"dataframe\">\n",
       "  <thead>\n",
       "    <tr style=\"text-align: right;\">\n",
       "      <th></th>\n",
       "      <th>FIPS</th>\n",
       "      <th>farmsizes</th>\n",
       "      <th>acres</th>\n",
       "    </tr>\n",
       "  </thead>\n",
       "  <tbody>\n",
       "    <tr>\n",
       "      <th>7042</th>\n",
       "      <td>187</td>\n",
       "      <td>AREA OPERATED: (500 TO 999 ACRES)</td>\n",
       "      <td>97699</td>\n",
       "    </tr>\n",
       "    <tr>\n",
       "      <th>7043</th>\n",
       "      <td>11</td>\n",
       "      <td>AREA OPERATED: (500 TO 999 ACRES)</td>\n",
       "      <td>109754</td>\n",
       "    </tr>\n",
       "    <tr>\n",
       "      <th>7044</th>\n",
       "      <td>31</td>\n",
       "      <td>AREA OPERATED: (500 TO 999 ACRES)</td>\n",
       "      <td>66593</td>\n",
       "    </tr>\n",
       "    <tr>\n",
       "      <th>7045</th>\n",
       "      <td>45</td>\n",
       "      <td>AREA OPERATED: (500 TO 999 ACRES)</td>\n",
       "      <td>120870</td>\n",
       "    </tr>\n",
       "    <tr>\n",
       "      <th>7046</th>\n",
       "      <td>95</td>\n",
       "      <td>AREA OPERATED: (500 TO 999 ACRES)</td>\n",
       "      <td>52580</td>\n",
       "    </tr>\n",
       "    <tr>\n",
       "      <th>7047</th>\n",
       "      <td>97</td>\n",
       "      <td>AREA OPERATED: (500 TO 999 ACRES)</td>\n",
       "      <td>49809</td>\n",
       "    </tr>\n",
       "  </tbody>\n",
       "</table>\n",
       "</div>"
      ],
      "text/plain": [
       "      FIPS                          farmsizes   acres\n",
       "7042   187  AREA OPERATED: (500 TO 999 ACRES)   97699\n",
       "7043    11  AREA OPERATED: (500 TO 999 ACRES)  109754\n",
       "7044    31  AREA OPERATED: (500 TO 999 ACRES)   66593\n",
       "7045    45  AREA OPERATED: (500 TO 999 ACRES)  120870\n",
       "7046    95  AREA OPERATED: (500 TO 999 ACRES)   52580\n",
       "7047    97  AREA OPERATED: (500 TO 999 ACRES)   49809"
      ]
     },
     "execution_count": 26,
     "metadata": {},
     "output_type": "execute_result"
    }
   ],
   "source": [
    "IA_qry = (dfr_IA.DomainDesc == 'AREA OPERATED') & (dfr_IA.ProdnPracticeDesc == 'ALL PRODUCTION PRACTICES') \\\n",
    "        & (dfr_IA.UnitDesc == 'ACRES')\n",
    "ldsz_IA = dfr_IA[IA_qry][['CountyFIPS', 'DomaincatDesc', 'Value']]\n",
    "ldsz_IA.columns = ['FIPS', 'farmsizes', 'acres']\n",
    "ldsz_IA.head(n=6)"
   ]
  },
  {
   "cell_type": "code",
   "execution_count": 27,
   "metadata": {
    "collapsed": false
   },
   "outputs": [
    {
     "data": {
      "text/html": [
       "<div>\n",
       "<table border=\"1\" class=\"dataframe\">\n",
       "  <thead>\n",
       "    <tr style=\"text-align: right;\">\n",
       "      <th></th>\n",
       "      <th>state</th>\n",
       "      <th>FIPS</th>\n",
       "      <th>county</th>\n",
       "      <th>farmsizes</th>\n",
       "      <th>nfarms</th>\n",
       "      <th>acres</th>\n",
       "    </tr>\n",
       "  </thead>\n",
       "  <tbody>\n",
       "    <tr>\n",
       "      <th>0</th>\n",
       "      <td>IA</td>\n",
       "      <td>65</td>\n",
       "      <td>FAYETTE</td>\n",
       "      <td>AREA OPERATED: (500 TO 999 ACRES)</td>\n",
       "      <td>145</td>\n",
       "      <td>92557</td>\n",
       "    </tr>\n",
       "    <tr>\n",
       "      <th>1</th>\n",
       "      <td>IA</td>\n",
       "      <td>89</td>\n",
       "      <td>HOWARD</td>\n",
       "      <td>AREA OPERATED: (500 TO 999 ACRES)</td>\n",
       "      <td>95</td>\n",
       "      <td>60442</td>\n",
       "    </tr>\n",
       "    <tr>\n",
       "      <th>2</th>\n",
       "      <td>IA</td>\n",
       "      <td>191</td>\n",
       "      <td>WINNESHIEK</td>\n",
       "      <td>AREA OPERATED: (500 TO 999 ACRES)</td>\n",
       "      <td>162</td>\n",
       "      <td>91599</td>\n",
       "    </tr>\n",
       "  </tbody>\n",
       "</table>\n",
       "</div>"
      ],
      "text/plain": [
       "  state  FIPS      county                          farmsizes  nfarms  acres\n",
       "0    IA    65     FAYETTE  AREA OPERATED: (500 TO 999 ACRES)     145  92557\n",
       "1    IA    89      HOWARD  AREA OPERATED: (500 TO 999 ACRES)      95  60442\n",
       "2    IA   191  WINNESHIEK  AREA OPERATED: (500 TO 999 ACRES)     162  91599"
      ]
     },
     "execution_count": 27,
     "metadata": {},
     "output_type": "execute_result"
    }
   ],
   "source": [
    "lands = pd.merge(fmsz_IA, ldsz_IA, on = ['FIPS', 'farmsizes'])\n",
    "lands.head(n=3)"
   ]
  },
  {
   "cell_type": "code",
   "execution_count": 28,
   "metadata": {
    "collapsed": true
   },
   "outputs": [],
   "source": [
    "di = {\n",
    "       'AREA OPERATED: (1.0 TO 9.9 ACRES)':'1 to 10 acres',\n",
    "       'AREA OPERATED: (10.0 TO 49.9 ACRES)':'10 to 50 acres',\n",
    "       'AREA OPERATED: (50.0 TO 69.9 ACRES)':'50 to 70 acres',\n",
    "       'AREA OPERATED: (70.0 TO 99.9 ACRES)':'70 to 100 acres',\n",
    "       'AREA OPERATED: (100 TO 139 ACRES)':'100 to 140 acres',\n",
    "       'AREA OPERATED: (140 TO 179 ACRES)' : '140 to 180 acres',\n",
    "       'AREA OPERATED: (180 TO 219 ACRES)': '180 to 220 acres',\n",
    "       'AREA OPERATED: (220 TO 259 ACRES)':'220 to 260 acres',\n",
    "       'AREA OPERATED: (260 TO 499 ACRES)':'260 to 500 acres',\n",
    "       'AREA OPERATED: (500 TO 999 ACRES)':'500 to 1000 acres',\n",
    "       'AREA OPERATED: (1 000 TO 1 999 ACRES)':'1000 to 2000 acres',\n",
    "       'AREA OPERATED: (2 000 OR MORE ACRES)':'2000 to 5000 acres',\n",
    "       'AREA OPERATED: (2 000 TO 4 999 ACRES)':'2000 to 5000 acres',\n",
    "       'AREA OPERATED: (5 000 OR MORE ACRES)':'5000 or more acres'   \n",
    "}"
   ]
  },
  {
   "cell_type": "code",
   "execution_count": 29,
   "metadata": {
    "collapsed": true
   },
   "outputs": [],
   "source": [
    "lands['farmsizes'].replace(di, inplace = True)"
   ]
  },
  {
   "cell_type": "code",
   "execution_count": 30,
   "metadata": {
    "collapsed": true
   },
   "outputs": [],
   "source": [
    "lands=lands.sort_values(by = 'farmsizes').reset_index(drop = True)"
   ]
  },
  {
   "cell_type": "code",
   "execution_count": 31,
   "metadata": {
    "collapsed": false
   },
   "outputs": [
    {
     "data": {
      "text/html": [
       "<div>\n",
       "<table border=\"1\" class=\"dataframe\">\n",
       "  <thead>\n",
       "    <tr style=\"text-align: right;\">\n",
       "      <th></th>\n",
       "      <th>state</th>\n",
       "      <th>FIPS</th>\n",
       "      <th>county</th>\n",
       "      <th>farmsizes</th>\n",
       "      <th>nfarms</th>\n",
       "      <th>acres</th>\n",
       "      <th>pnfarms</th>\n",
       "      <th>pacres</th>\n",
       "    </tr>\n",
       "  </thead>\n",
       "  <tbody>\n",
       "    <tr>\n",
       "      <th>2680</th>\n",
       "      <td>IA</td>\n",
       "      <td>71</td>\n",
       "      <td>FREMONT</td>\n",
       "      <td>70 to 100 acres</td>\n",
       "      <td>17</td>\n",
       "      <td>886</td>\n",
       "      <td>0.999955</td>\n",
       "      <td>0.999987</td>\n",
       "    </tr>\n",
       "    <tr>\n",
       "      <th>2681</th>\n",
       "      <td>IA</td>\n",
       "      <td>129</td>\n",
       "      <td>MILLS</td>\n",
       "      <td>70 to 100 acres</td>\n",
       "      <td>18</td>\n",
       "      <td>825</td>\n",
       "      <td>0.999959</td>\n",
       "      <td>0.999988</td>\n",
       "    </tr>\n",
       "    <tr>\n",
       "      <th>2682</th>\n",
       "      <td>IA</td>\n",
       "      <td>137</td>\n",
       "      <td>MONTGOMERY</td>\n",
       "      <td>70 to 100 acres</td>\n",
       "      <td>22</td>\n",
       "      <td>1101</td>\n",
       "      <td>0.999964</td>\n",
       "      <td>0.999989</td>\n",
       "    </tr>\n",
       "    <tr>\n",
       "      <th>2683</th>\n",
       "      <td>IA</td>\n",
       "      <td>155</td>\n",
       "      <td>POTTAWATTAMIE</td>\n",
       "      <td>70 to 100 acres</td>\n",
       "      <td>48</td>\n",
       "      <td>2741</td>\n",
       "      <td>0.999975</td>\n",
       "      <td>0.999993</td>\n",
       "    </tr>\n",
       "    <tr>\n",
       "      <th>2684</th>\n",
       "      <td>IA</td>\n",
       "      <td>97</td>\n",
       "      <td>JACKSON</td>\n",
       "      <td>70 to 100 acres</td>\n",
       "      <td>71</td>\n",
       "      <td>2945</td>\n",
       "      <td>0.999991</td>\n",
       "      <td>0.999997</td>\n",
       "    </tr>\n",
       "    <tr>\n",
       "      <th>2685</th>\n",
       "      <td>IA</td>\n",
       "      <td>145</td>\n",
       "      <td>PAGE</td>\n",
       "      <td>70 to 100 acres</td>\n",
       "      <td>38</td>\n",
       "      <td>1938</td>\n",
       "      <td>1.000000</td>\n",
       "      <td>1.000000</td>\n",
       "    </tr>\n",
       "  </tbody>\n",
       "</table>\n",
       "</div>"
      ],
      "text/plain": [
       "     state  FIPS         county        farmsizes  nfarms  acres   pnfarms  \\\n",
       "2680    IA    71        FREMONT  70 to 100 acres      17    886  0.999955   \n",
       "2681    IA   129          MILLS  70 to 100 acres      18    825  0.999959   \n",
       "2682    IA   137     MONTGOMERY  70 to 100 acres      22   1101  0.999964   \n",
       "2683    IA   155  POTTAWATTAMIE  70 to 100 acres      48   2741  0.999975   \n",
       "2684    IA    97        JACKSON  70 to 100 acres      71   2945  0.999991   \n",
       "2685    IA   145           PAGE  70 to 100 acres      38   1938  1.000000   \n",
       "\n",
       "        pacres  \n",
       "2680  0.999987  \n",
       "2681  0.999988  \n",
       "2682  0.999989  \n",
       "2683  0.999993  \n",
       "2684  0.999997  \n",
       "2685  1.000000  "
      ]
     },
     "execution_count": 31,
     "metadata": {},
     "output_type": "execute_result"
    }
   ],
   "source": [
    "lands[['pnfarms', 'pacres']] = lands[['nfarms', 'acres']].apply(lambda x: x.cumsum()/np.nansum(x))\n",
    "lands.tail(n=6)"
   ]
  },
  {
   "cell_type": "markdown",
   "metadata": {},
   "source": [
    "### Lorenz Plots"
   ]
  },
  {
   "cell_type": "code",
   "execution_count": 32,
   "metadata": {
    "collapsed": false
   },
   "outputs": [
    {
     "data": {
      "image/png": "[encoded data removed]",
      "text/plain": [
       "<matplotlib.figure.Figure at 0xc5e0ec5eb8>"
      ]
     },
     "metadata": {},
     "output_type": "display_data"
    }
   ],
   "source": [
    "plt.plot(lands.pnfarms, lands.pnfarms)\n",
    "plt.plot(lands.pnfarms, lands.pacres, marker = '.')\n",
    "plt.gca().set_aspect('equal', adjustable = 'box')\n",
    "plt.title('Lorenze Plots - Iowa')\n",
    "plt.show();"
   ]
  },
  {
   "cell_type": "markdown",
   "metadata": {},
   "source": [
    "### Calculate the Gini coefficient"
   ]
  },
  {
   "cell_type": "code",
   "execution_count": 35,
   "metadata": {
    "collapsed": false
   },
   "outputs": [
    {
     "data": {
      "text/plain": [
       "0.23544126153004585"
      ]
     },
     "execution_count": 35,
     "metadata": {},
     "output_type": "execute_result"
    }
   ],
   "source": [
    "def gini(pfarms, pland):\n",
    "    ft = np.array(pfarms[1:])\n",
    "    fl = np.array(pfarms[:-1])\n",
    "    at = np.array(pland[1:])\n",
    "    al = np.array(pland[:-1])\n",
    "    B = np.nansum((ft-fl)*al) + np.nansum(0.5*(ft-fl)*(at-al))\n",
    "    return 1 - 2*B\n",
    "\n",
    "gini(lands.pnfarms, lands.pacres)"
   ]
  },
  {
   "cell_type": "markdown",
   "metadata": {},
   "source": [
    "###  Try to fit the distribution"
   ]
  },
  {
   "cell_type": "code",
   "execution_count": 36,
   "metadata": {
    "collapsed": true
   },
   "outputs": [],
   "source": [
    "bins = np.array([0, 10, 50, 70, 100, 140, 180, 220, 260, 500,1000, 2000, 5000])"
   ]
  },
  {
   "cell_type": "code",
   "execution_count": 37,
   "metadata": {
    "collapsed": true
   },
   "outputs": [],
   "source": [
    "lands[['farm_pdf', 'land_pdf']] = lands[['nfarms', 'acres']].apply(lambda x: x/np.nansum(x))"
   ]
  },
  {
   "cell_type": "markdown",
   "metadata": {},
   "source": [
    "### GMM"
   ]
  },
  {
   "cell_type": "code",
   "execution_count": 38,
   "metadata": {
    "collapsed": true
   },
   "outputs": [],
   "source": [
    "m=lognorm.cdf(bins[1:], s=2, scale=np.exp(5)) - lognorm.cdf(bins[:-1], s=2, scale=np.exp(5))\n",
    "m=np.append(m, [1-lognorm.cdf(bins[-1], s=2, scale=np.exp(5))])"
   ]
  },
  {
   "cell_type": "code",
   "execution_count": 39,
   "metadata": {
    "collapsed": false
   },
   "outputs": [
    {
     "data": {
      "text/plain": [
       "(13,)"
      ]
     },
     "execution_count": 39,
     "metadata": {},
     "output_type": "execute_result"
    }
   ],
   "source": [
    "m.shape"
   ]
  },
  {
   "cell_type": "code",
   "execution_count": 40,
   "metadata": {
    "collapsed": false
   },
   "outputs": [
    {
     "data": {
      "image/png": "[encoded data removed]",
      "text/plain": [
       "<matplotlib.figure.Figure at 0xc5e12de668>"
      ]
     },
     "metadata": {},
     "output_type": "display_data"
    }
   ],
   "source": [
    "(counts, bins2, patches) = plt.hist(lands.nfarms, bins=13, normed=True, alpha = 0.8, color = 'blue')"
   ]
  },
  {
   "cell_type": "code",
   "execution_count": 41,
   "metadata": {
    "collapsed": true
   },
   "outputs": [],
   "source": [
    "def gmm_crit(parms, binFreq, binEdges):\n",
    "    mu      = parms[0]\n",
    "    sigma   = parms[1]\n",
    "    \n",
    "    m       = lognorm.cdf(binEdges[1:], s=sigma, scale=np.exp(mu)) - lognorm.cdf(binEdges[0:-1], s=sigma, scale=np.exp(mu))\n",
    "    m       = np.append(m, [1 - lognorm.cdf(binEdges[-1], s=sigma, scale=np.exp(mu))])\n",
    "    \n",
    "    moments = (m - binFreq)/binFreq\n",
    "    return np.dot(moments, moments)"
   ]
  },
  {
   "cell_type": "code",
   "execution_count": 42,
   "metadata": {
    "collapsed": false
   },
   "outputs": [
    {
     "name": "stdout",
     "output_type": "stream",
     "text": [
      "Resulting parameter estimates are:  [ 213.03431692  209.03431692]\n"
     ]
    }
   ],
   "source": [
    "guess = np.array([6,2])\n",
    "res = minimize(gmm_crit, guess, args = (counts, bins), method = 'Powell') # if use 'Nelder-Mead' would fail.\n",
    "print('Resulting parameter estimates are: ',res.x)"
   ]
  },
  {
   "cell_type": "code",
   "execution_count": 43,
   "metadata": {
    "collapsed": false
   },
   "outputs": [
    {
     "data": {
      "image/png": "[encoded data removed]",
      "text/plain": [
       "<matplotlib.figure.Figure at 0xc5e0fe2208>"
      ]
     },
     "metadata": {},
     "output_type": "display_data"
    }
   ],
   "source": [
    "mu = res.x[0]\n",
    "sigma = res.x[1]\n",
    "\n",
    "n_groups = len(m)\n",
    "\n",
    "fig, ax = plt.subplots()\n",
    "\n",
    "index = np.arange(n_groups)\n",
    "\n",
    "bar_width = 0.35\n",
    "opacity = 0.4\n",
    "\n",
    "error_config = {'ecolor': '0.3'}\n",
    "\n",
    "rects1 = plt.bar(index, np.array(m), bar_width,\n",
    "                 alpha=opacity,\n",
    "                 color='b',\n",
    "                 label='Model')\n",
    "\n",
    "rects2 = plt.bar(index + bar_width, np.array(counts), bar_width, \n",
    "                 alpha=opacity,\n",
    "                 color='r',\n",
    "                 label='Data')\n",
    "\n",
    "plt.tight_layout()   # sum(counts)!=1, they are much less than 'm' so that we cannot see 'counts' in the graph below"
   ]
  },
  {
   "cell_type": "code",
   "execution_count": null,
   "metadata": {
    "collapsed": true
   },
   "outputs": [],
   "source": []
  }
 ],
 "metadata": {
  "anaconda-cloud": {},
  "kernelspec": {
   "display_name": "Python 3",
   "language": "python",
   "name": "python3"
  },
  "language_info": {
   "codemirror_mode": {
    "name": "ipython",
    "version": 3
   },
   "file_extension": ".py",
   "mimetype": "text/x-python",
   "name": "python",
   "nbconvert_exporter": "python",
   "pygments_lexer": "ipython3",
   "version": "3.5.2"
  },
  "widgets": {
   "state": {},
   "version": "2.0.10"
  }
 },
 "nbformat": 4,
 "nbformat_minor": 2
}
