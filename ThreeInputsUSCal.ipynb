


<!DOCTYPE html>
<html lang="en" class="">
  <head prefix="og: http://ogp.me/ns# fb: http://ogp.me/ns/fb# object: http://ogp.me/ns/object# article: http://ogp.me/ns/article# profile: http://ogp.me/ns/profile#">
    <meta charset='utf-8'>
    <meta http-equiv="X-UA-Compatible" content="IE=edge">
    <meta http-equiv="Content-Language" content="en">
    
    
    <title>FarmSizeView/ThreeInputsUSCal.ipynb at master · jhconning/FarmSizeView</title>
    <link rel="search" type="application/opensearchdescription+xml" href="/opensearch.xml" title="GitHub">
    <link rel="fluid-icon" href="https://github.com/fluidicon.png" title="GitHub">
    <link rel="apple-touch-icon" sizes="57x57" href="/apple-touch-icon-114.png">
    <link rel="apple-touch-icon" sizes="114x114" href="/apple-touch-icon-114.png">
    <link rel="apple-touch-icon" sizes="72x72" href="/apple-touch-icon-144.png">
    <link rel="apple-touch-icon" sizes="144x144" href="/apple-touch-icon-144.png">
    <meta property="fb:app_id" content="1401488693436528">

      <meta content="@github" name="twitter:site" /><meta content="summary" name="twitter:card" /><meta content="jhconning/FarmSizeView" name="twitter:title" /><meta content="FarmSizeView - Place where we place Ipython files associated with Farm Size project for viewing" name="twitter:description" /><meta content="https://avatars0.githubusercontent.com/u/5048607?v=3&amp;s=400" name="twitter:image:src" />
      <meta content="GitHub" property="og:site_name" /><meta content="object" property="og:type" /><meta content="https://avatars0.githubusercontent.com/u/5048607?v=3&amp;s=400" property="og:image" /><meta content="jhconning/FarmSizeView" property="og:title" /><meta content="https://github.com/jhconning/FarmSizeView" property="og:url" /><meta content="FarmSizeView - Place where we place Ipython files associated with Farm Size project for viewing" property="og:description" />
      <meta name="browser-stats-url" content="/_stats">
    <link rel="assets" href="https://assets-cdn.github.com/">
    <link rel="conduit-xhr" href="https://ghconduit.com:25035">
    <link rel="xhr-socket" href="/_sockets">
    <meta name="pjax-timeout" content="1000">
    <link rel="sudo-modal" href="/sessions/sudo_modal">

    <meta name="msapplication-TileImage" content="/windows-tile.png">
    <meta name="msapplication-TileColor" content="#ffffff">
    <meta name="selected-link" value="repo_source" data-pjax-transient>
      <meta name="google-analytics" content="UA-3769691-2">

    <meta content="collector.githubapp.com" name="octolytics-host" /><meta content="collector-cdn.github.com" name="octolytics-script-host" /><meta content="github" name="octolytics-app-id" /><meta content="925F7CA9:1488:1D2A95B:54FA1246" name="octolytics-dimension-request_id" /><meta content="5048607" name="octolytics-actor-id" /><meta content="jhconning" name="octolytics-actor-login" /><meta content="0cadcf3dcfae90544e909d87331b59e7a83a341d1357dda20b15be4ca109dd66" name="octolytics-actor-hash" />
    
    <meta content="Rails, view, blob#show" name="analytics-event" />

    
    <link rel="icon" type="image/x-icon" href="https://assets-cdn.github.com/favicon.ico">


    <meta content="authenticity_token" name="csrf-param" />
<meta content="7Emjc6GTW9+BxNJQEu2PYGZxKuwaDvjs7WHEL89CYCptNSqC9JQ4FfcsU3WHP97fGcuceJ9lpK1khaHTemFnAw==" name="csrf-token" />

    <link href="https://assets-cdn.github.com/assets/github-da80844bda1ebe3db6f5d239fc67589443ee7174bb2f224e6b9879a6f4c9f0a4.css" media="all" rel="stylesheet" />
    <link href="https://assets-cdn.github.com/assets/github2-ade0148a562b52311cf36a8e5f019126eb5ef7054bf2a0463ea00c536a358d33.css" media="all" rel="stylesheet" />
    
    


    <meta http-equiv="x-pjax-version" content="bd242553cfdb6482212ea4e7d2459983">

      
  <meta name="description" content="FarmSizeView - Place where we place Ipython files associated with Farm Size project for viewing">
  <meta name="go-import" content="github.com/jhconning/FarmSizeView git https://github.com/jhconning/FarmSizeView.git">

  <meta content="5048607" name="octolytics-dimension-user_id" /><meta content="jhconning" name="octolytics-dimension-user_login" /><meta content="31785007" name="octolytics-dimension-repository_id" /><meta content="jhconning/FarmSizeView" name="octolytics-dimension-repository_nwo" /><meta content="true" name="octolytics-dimension-repository_public" /><meta content="false" name="octolytics-dimension-repository_is_fork" /><meta content="31785007" name="octolytics-dimension-repository_network_root_id" /><meta content="jhconning/FarmSizeView" name="octolytics-dimension-repository_network_root_nwo" />
  <link href="https://github.com/jhconning/FarmSizeView/commits/master.atom" rel="alternate" title="Recent Commits to FarmSizeView:master" type="application/atom+xml">

  </head>


  <body class="logged_in  env-production windows vis-public page-blob">
    <a href="#start-of-content" tabindex="1" class="accessibility-aid js-skip-to-content">Skip to content</a>
    <div class="wrapper">
      
      
      
      


        <div class="header header-logged-in true" role="banner">
  <div class="container clearfix">

    <a class="header-logo-invertocat" href="https://github.com/" data-hotkey="g d" aria-label="Homepage" data-ga-click="Header, go to dashboard, icon:logo">
  <span class="mega-octicon octicon-mark-github"></span>
</a>


      <div class="site-search repo-scope js-site-search" role="search">
          <form accept-charset="UTF-8" action="/jhconning/FarmSizeView/search" class="js-site-search-form" data-global-search-url="/search" data-repo-search-url="/jhconning/FarmSizeView/search" method="get"><div style="margin:0;padding:0;display:inline"><input name="utf8" type="hidden" value="&#x2713;" /></div>
  <input type="text"
    class="js-site-search-field is-clearable"
    data-hotkey="s"
    name="q"
    placeholder="Search"
    data-global-scope-placeholder="Search GitHub"
    data-repo-scope-placeholder="Search"
    tabindex="1"
    autocapitalize="off">
  <div class="scope-badge">This repository</div>
</form>
      </div>
      <ul class="header-nav left" role="navigation">
        <li class="header-nav-item explore">
          <a class="header-nav-link" href="/explore" data-ga-click="Header, go to explore, text:explore">Explore</a>
        </li>
          <li class="header-nav-item">
            <a class="header-nav-link" href="https://gist.github.com" data-ga-click="Header, go to gist, text:gist">Gist</a>
          </li>
          <li class="header-nav-item">
            <a class="header-nav-link" href="/blog" data-ga-click="Header, go to blog, text:blog">Blog</a>
          </li>
        <li class="header-nav-item">
          <a class="header-nav-link" href="https://help.github.com" data-ga-click="Header, go to help, text:help">Help</a>
        </li>
      </ul>

    
<ul class="header-nav user-nav right" id="user-links">
  <li class="header-nav-item dropdown js-menu-container">
    <a class="header-nav-link name" href="/jhconning" data-ga-click="Header, go to profile, text:username">
      <img alt="jhconning" class="avatar" data-user="5048607" height="20" src="https://avatars2.githubusercontent.com/u/5048607?v=3&amp;s=40" width="20" />
      <span class="css-truncate">
        <span class="css-truncate-target">jhconning</span>
      </span>
    </a>
  </li>

  <li class="header-nav-item dropdown js-menu-container">
    <a class="header-nav-link js-menu-target tooltipped tooltipped-s" href="#" aria-label="Create new..." data-ga-click="Header, create new, icon:add">
      <span class="octicon octicon-plus"></span>
      <span class="dropdown-caret"></span>
    </a>

    <div class="dropdown-menu-content js-menu-content">
      
<ul class="dropdown-menu">
  <li>
    <a href="/new" data-ga-click="Header, create new repository, icon:repo"><span class="octicon octicon-repo"></span> New repository</a>
  </li>
  <li>
    <a href="/organizations/new" data-ga-click="Header, create new organization, icon:organization"><span class="octicon octicon-organization"></span> New organization</a>
  </li>


    <li class="dropdown-divider"></li>
    <li class="dropdown-header">
      <span title="jhconning/FarmSizeView">This repository</span>
    </li>
      <li>
        <a href="/jhconning/FarmSizeView/issues/new" data-ga-click="Header, create new issue, icon:issue"><span class="octicon octicon-issue-opened"></span> New issue</a>
      </li>
      <li>
        <a href="/jhconning/FarmSizeView/settings/collaboration" data-ga-click="Header, create new collaborator, icon:person"><span class="octicon octicon-person"></span> New collaborator</a>
      </li>
</ul>

    </div>
  </li>

  <li class="header-nav-item">
        <a href="/notifications" aria-label="You have no unread notifications" class="header-nav-link notification-indicator tooltipped tooltipped-s" data-ga-click="Header, go to notifications, icon:read" data-hotkey="g n">
        <span class="mail-status all-read"></span>
        <span class="octicon octicon-inbox"></span>
</a>
  </li>

  <li class="header-nav-item">
    <a class="header-nav-link tooltipped tooltipped-s" href="/settings/profile" id="account_settings" aria-label="Settings" data-ga-click="Header, go to settings, icon:settings">
      <span class="octicon octicon-gear"></span>
    </a>
  </li>

  <li class="header-nav-item">
    <form accept-charset="UTF-8" action="/logout" class="logout-form" method="post"><div style="margin:0;padding:0;display:inline"><input name="utf8" type="hidden" value="&#x2713;" /><input name="authenticity_token" type="hidden" value="tMSBzztH4EZpJDLWNh526DcIbDcK8OXPCwF6DclhnaiZf2zA8vtXbUxhYBX9vZojjxv+Sm8HX/i36+AtTHvkXg==" /></div>
      <button class="header-nav-link sign-out-button tooltipped tooltipped-s" aria-label="Sign out" data-ga-click="Header, sign out, icon:logout">
        <span class="octicon octicon-sign-out"></span>
      </button>
</form>  </li>

</ul>


    
  </div>
</div>

        

        


      <div id="start-of-content" class="accessibility-aid"></div>
          <div class="site" itemscope itemtype="http://schema.org/WebPage">
    <div id="js-flash-container">
      
    </div>
    <div class="pagehead repohead instapaper_ignore readability-menu">
      <div class="container">
        
<ul class="pagehead-actions">

  <li>
      <form accept-charset="UTF-8" action="/notifications/subscribe" class="js-social-container" data-autosubmit="true" data-remote="true" method="post"><div style="margin:0;padding:0;display:inline"><input name="utf8" type="hidden" value="&#x2713;" /><input name="authenticity_token" type="hidden" value="pUXJhtuFhqzfTlfNdZ5WnPcj3u1S2z+m1tK63O/w0ZzH3KVigG92r5gQt63CFEj+OHC1UxRN31R609agoz1xjw==" /></div>    <input id="repository_id" name="repository_id" type="hidden" value="31785007" />

      <div class="select-menu js-menu-container js-select-menu">
        <a class="social-count js-social-count" href="/jhconning/FarmSizeView/watchers">
          1
        </a>
        <a href="/jhconning/FarmSizeView/subscription"
          class="minibutton select-menu-button with-count js-menu-target" role="button" tabindex="0" aria-haspopup="true">
          <span class="js-select-button">
            <span class="octicon octicon-eye"></span>
            Unwatch
          </span>
        </a>

        <div class="select-menu-modal-holder">
          <div class="select-menu-modal subscription-menu-modal js-menu-content" aria-hidden="true">
            <div class="select-menu-header">
              <span class="select-menu-title">Notifications</span>
              <span class="octicon octicon-x js-menu-close" role="button" aria-label="Close"></span>
            </div>

            <div class="select-menu-list js-navigation-container" role="menu">

              <div class="select-menu-item js-navigation-item " role="menuitem" tabindex="0">
                <span class="select-menu-item-icon octicon octicon-check"></span>
                <div class="select-menu-item-text">
                  <input id="do_included" name="do" type="radio" value="included" />
                  <span class="select-menu-item-heading">Not watching</span>
                  <span class="description">Be notified when participating or @mentioned.</span>
                  <span class="js-select-button-text hidden-select-button-text">
                    <span class="octicon octicon-eye"></span>
                    Watch
                  </span>
                </div>
              </div>

              <div class="select-menu-item js-navigation-item selected" role="menuitem" tabindex="0">
                <span class="select-menu-item-icon octicon octicon octicon-check"></span>
                <div class="select-menu-item-text">
                  <input checked="checked" id="do_subscribed" name="do" type="radio" value="subscribed" />
                  <span class="select-menu-item-heading">Watching</span>
                  <span class="description">Be notified of all conversations.</span>
                  <span class="js-select-button-text hidden-select-button-text">
                    <span class="octicon octicon-eye"></span>
                    Unwatch
                  </span>
                </div>
              </div>

              <div class="select-menu-item js-navigation-item " role="menuitem" tabindex="0">
                <span class="select-menu-item-icon octicon octicon-check"></span>
                <div class="select-menu-item-text">
                  <input id="do_ignore" name="do" type="radio" value="ignore" />
                  <span class="select-menu-item-heading">Ignoring</span>
                  <span class="description">Never be notified.</span>
                  <span class="js-select-button-text hidden-select-button-text">
                    <span class="octicon octicon-mute"></span>
                    Stop ignoring
                  </span>
                </div>
              </div>

            </div>

          </div>
        </div>
      </div>
</form>

  </li>

  <li>
    
  <div class="js-toggler-container js-social-container starring-container ">

    <form accept-charset="UTF-8" action="/jhconning/FarmSizeView/unstar" class="js-toggler-form starred js-unstar-button" data-remote="true" method="post"><div style="margin:0;padding:0;display:inline"><input name="utf8" type="hidden" value="&#x2713;" /><input name="authenticity_token" type="hidden" value="TusZeqLCW4gCl0tGcblTL7G0mceelTINqZ6/HkuTbfjUoGTV6K3ekRHT7pQSX/7TsQ9obWPe2qsszbpB+e0XXQ==" /></div>
      <button
        class="minibutton with-count js-toggler-target"
        aria-label="Unstar this repository" title="Unstar jhconning/FarmSizeView">
        <span class="octicon octicon-star"></span>
        Unstar
      </button>
        <a class="social-count js-social-count" href="/jhconning/FarmSizeView/stargazers">
          0
        </a>
</form>
    <form accept-charset="UTF-8" action="/jhconning/FarmSizeView/star" class="js-toggler-form unstarred js-star-button" data-remote="true" method="post"><div style="margin:0;padding:0;display:inline"><input name="utf8" type="hidden" value="&#x2713;" /><input name="authenticity_token" type="hidden" value="ahc8ehxrOe4ExdEPCuIC8Pn6ageLG/Mld0MTdYLwDcLjVGfMvBCP8uhGlZgnrd5nLFuUu9laWVP5JBpggk4D6A==" /></div>
      <button
        class="minibutton with-count js-toggler-target"
        aria-label="Star this repository" title="Star jhconning/FarmSizeView">
        <span class="octicon octicon-star"></span>
        Star
      </button>
        <a class="social-count js-social-count" href="/jhconning/FarmSizeView/stargazers">
          0
        </a>
</form>  </div>

  </li>

        <li>
          <a href="/jhconning/FarmSizeView/fork" class="minibutton with-count js-toggler-target tooltipped-n" title="Fork your own copy of jhconning/FarmSizeView to your account" aria-label="Fork your own copy of jhconning/FarmSizeView to your account" rel="nofollow" data-method="post">
            <span class="octicon octicon-repo-forked"></span>
            Fork
          </a>
          <a href="/jhconning/FarmSizeView/network" class="social-count">0</a>
        </li>

</ul>

        <h1 itemscope itemtype="http://data-vocabulary.org/Breadcrumb" class="entry-title public">
          <span class="mega-octicon octicon-repo"></span>
          <span class="author"><a href="/jhconning" class="url fn" itemprop="url" rel="author"><span itemprop="title">jhconning</span></a></span><!--
       --><span class="path-divider">/</span><!--
       --><strong><a href="/jhconning/FarmSizeView" class="js-current-repository" data-pjax="#js-repo-pjax-container">FarmSizeView</a></strong>

          <span class="page-context-loader">
            <img alt="" height="16" src="https://assets-cdn.github.com/assets/spinners/octocat-spinner-32-e513294efa576953719e4e2de888dd9cf929b7d62ed8d05f25e731d02452ab6c.gif" width="16" />
          </span>

        </h1>
      </div><!-- /.container -->
    </div><!-- /.repohead -->

    <div class="container">
      <div class="repository-with-sidebar repo-container new-discussion-timeline  ">
        <div class="repository-sidebar clearfix">
            
<nav class="sunken-menu repo-nav js-repo-nav js-sidenav-container-pjax js-octicon-loaders"
     role="navigation"
     data-pjax="#js-repo-pjax-container"
     data-issue-count-url="/jhconning/FarmSizeView/issues/counts">
  <ul class="sunken-menu-group">
    <li class="tooltipped tooltipped-w" aria-label="Code">
      <a href="/jhconning/FarmSizeView" aria-label="Code" class="selected js-selected-navigation-item sunken-menu-item" data-hotkey="g c" data-selected-links="repo_source repo_downloads repo_commits repo_releases repo_tags repo_branches /jhconning/FarmSizeView">
        <span class="octicon octicon-code"></span> <span class="full-word">Code</span>
        <img alt="" class="mini-loader" height="16" src="https://assets-cdn.github.com/assets/spinners/octocat-spinner-32-e513294efa576953719e4e2de888dd9cf929b7d62ed8d05f25e731d02452ab6c.gif" width="16" />
</a>    </li>

      <li class="tooltipped tooltipped-w" aria-label="Issues">
        <a href="/jhconning/FarmSizeView/issues" aria-label="Issues" class="js-selected-navigation-item sunken-menu-item" data-hotkey="g i" data-selected-links="repo_issues repo_labels repo_milestones /jhconning/FarmSizeView/issues">
          <span class="octicon octicon-issue-opened"></span> <span class="full-word">Issues</span>
          <span class="js-issue-replace-counter"></span>
          <img alt="" class="mini-loader" height="16" src="https://assets-cdn.github.com/assets/spinners/octocat-spinner-32-e513294efa576953719e4e2de888dd9cf929b7d62ed8d05f25e731d02452ab6c.gif" width="16" />
</a>      </li>

    <li class="tooltipped tooltipped-w" aria-label="Pull Requests">
      <a href="/jhconning/FarmSizeView/pulls" aria-label="Pull Requests" class="js-selected-navigation-item sunken-menu-item" data-hotkey="g p" data-selected-links="repo_pulls /jhconning/FarmSizeView/pulls">
          <span class="octicon octicon-git-pull-request"></span> <span class="full-word">Pull Requests</span>
          <span class="js-pull-replace-counter"></span>
          <img alt="" class="mini-loader" height="16" src="https://assets-cdn.github.com/assets/spinners/octocat-spinner-32-e513294efa576953719e4e2de888dd9cf929b7d62ed8d05f25e731d02452ab6c.gif" width="16" />
</a>    </li>


      <li class="tooltipped tooltipped-w" aria-label="Wiki">
        <a href="/jhconning/FarmSizeView/wiki" aria-label="Wiki" class="js-selected-navigation-item sunken-menu-item" data-hotkey="g w" data-selected-links="repo_wiki /jhconning/FarmSizeView/wiki">
          <span class="octicon octicon-book"></span> <span class="full-word">Wiki</span>
          <img alt="" class="mini-loader" height="16" src="https://assets-cdn.github.com/assets/spinners/octocat-spinner-32-e513294efa576953719e4e2de888dd9cf929b7d62ed8d05f25e731d02452ab6c.gif" width="16" />
</a>      </li>
  </ul>
  <div class="sunken-menu-separator"></div>
  <ul class="sunken-menu-group">

    <li class="tooltipped tooltipped-w" aria-label="Pulse">
      <a href="/jhconning/FarmSizeView/pulse" aria-label="Pulse" class="js-selected-navigation-item sunken-menu-item" data-selected-links="pulse /jhconning/FarmSizeView/pulse">
        <span class="octicon octicon-pulse"></span> <span class="full-word">Pulse</span>
        <img alt="" class="mini-loader" height="16" src="https://assets-cdn.github.com/assets/spinners/octocat-spinner-32-e513294efa576953719e4e2de888dd9cf929b7d62ed8d05f25e731d02452ab6c.gif" width="16" />
</a>    </li>

    <li class="tooltipped tooltipped-w" aria-label="Graphs">
      <a href="/jhconning/FarmSizeView/graphs" aria-label="Graphs" class="js-selected-navigation-item sunken-menu-item" data-selected-links="repo_graphs repo_contributors /jhconning/FarmSizeView/graphs">
        <span class="octicon octicon-graph"></span> <span class="full-word">Graphs</span>
        <img alt="" class="mini-loader" height="16" src="https://assets-cdn.github.com/assets/spinners/octocat-spinner-32-e513294efa576953719e4e2de888dd9cf929b7d62ed8d05f25e731d02452ab6c.gif" width="16" />
</a>    </li>
  </ul>


    <div class="sunken-menu-separator"></div>
    <ul class="sunken-menu-group">
      <li class="tooltipped tooltipped-w" aria-label="Settings">
        <a href="/jhconning/FarmSizeView/settings" aria-label="Settings" class="js-selected-navigation-item sunken-menu-item" data-selected-links="repo_settings /jhconning/FarmSizeView/settings">
          <span class="octicon octicon-tools"></span> <span class="full-word">Settings</span>
          <img alt="" class="mini-loader" height="16" src="https://assets-cdn.github.com/assets/spinners/octocat-spinner-32-e513294efa576953719e4e2de888dd9cf929b7d62ed8d05f25e731d02452ab6c.gif" width="16" />
</a>      </li>
    </ul>
</nav>

              <div class="only-with-full-nav">
                  
<div class="clone-url open"
  data-protocol-type="http"
  data-url="/users/set_protocol?protocol_selector=http&amp;protocol_type=clone">
  <h3><span class="text-emphasized">HTTPS</span> clone URL</h3>
  <div class="input-group js-zeroclipboard-container">
    <input type="text" class="input-mini input-monospace js-url-field js-zeroclipboard-target"
           value="https://github.com/jhconning/FarmSizeView.git" readonly="readonly">
    <span class="input-group-button">
      <button aria-label="Copy to clipboard" class="js-zeroclipboard minibutton zeroclipboard-button" data-copied-hint="Copied!" type="button"><span class="octicon octicon-clippy"></span></button>
    </span>
  </div>
</div>

  
<div class="clone-url "
  data-protocol-type="ssh"
  data-url="/users/set_protocol?protocol_selector=ssh&amp;protocol_type=clone">
  <h3><span class="text-emphasized">SSH</span> clone URL</h3>
  <div class="input-group js-zeroclipboard-container">
    <input type="text" class="input-mini input-monospace js-url-field js-zeroclipboard-target"
           value="git@github.com:jhconning/FarmSizeView.git" readonly="readonly">
    <span class="input-group-button">
      <button aria-label="Copy to clipboard" class="js-zeroclipboard minibutton zeroclipboard-button" data-copied-hint="Copied!" type="button"><span class="octicon octicon-clippy"></span></button>
    </span>
  </div>
</div>

  
<div class="clone-url "
  data-protocol-type="subversion"
  data-url="/users/set_protocol?protocol_selector=subversion&amp;protocol_type=clone">
  <h3><span class="text-emphasized">Subversion</span> checkout URL</h3>
  <div class="input-group js-zeroclipboard-container">
    <input type="text" class="input-mini input-monospace js-url-field js-zeroclipboard-target"
           value="https://github.com/jhconning/FarmSizeView" readonly="readonly">
    <span class="input-group-button">
      <button aria-label="Copy to clipboard" class="js-zeroclipboard minibutton zeroclipboard-button" data-copied-hint="Copied!" type="button"><span class="octicon octicon-clippy"></span></button>
    </span>
  </div>
</div>



<p class="clone-options">You can clone with
  <a href="#" class="js-clone-selector" data-protocol="http">HTTPS</a>, <a href="#" class="js-clone-selector" data-protocol="ssh">SSH</a>, or <a href="#" class="js-clone-selector" data-protocol="subversion">Subversion</a>.
  <a href="https://help.github.com/articles/which-remote-url-should-i-use" class="help tooltipped tooltipped-n" aria-label="Get help on which URL is right for you.">
    <span class="octicon octicon-question"></span>
  </a>
</p>


  <a href="github-windows://openRepo/https://github.com/jhconning/FarmSizeView" class="minibutton sidebar-button" title="Save jhconning/FarmSizeView to your computer and use it in GitHub Desktop." aria-label="Save jhconning/FarmSizeView to your computer and use it in GitHub Desktop.">
    <span class="octicon octicon-device-desktop"></span>
    Clone in Desktop
  </a>

                <a href="/jhconning/FarmSizeView/archive/master.zip"
                   class="minibutton sidebar-button"
                   aria-label="Download the contents of jhconning/FarmSizeView as a zip file"
                   title="Download the contents of jhconning/FarmSizeView as a zip file"
                   rel="nofollow">
                  <span class="octicon octicon-cloud-download"></span>
                  Download ZIP
                </a>
              </div>
        </div><!-- /.repository-sidebar -->

        <div id="js-repo-pjax-container" class="repository-content context-loader-container" data-pjax-container>
          

<a href="/jhconning/FarmSizeView/blob/64d80455d0dfc0f560c28b2fdec5f909b2c24a09/ThreeInputsUSCal.ipynb" class="hidden js-permalink-shortcut" data-hotkey="y">Permalink</a>

<!-- blob contrib key: blob_contributors:v21:e69c8ffb342b031585dd8d0b6db2b49b -->

<div class="file-navigation js-zeroclipboard-container">
  
<div class="select-menu js-menu-container js-select-menu left">
  <span class="minibutton select-menu-button js-menu-target css-truncate" data-hotkey="w"
    data-master-branch="master"
    data-ref="master"
    title="master"
    role="button" aria-label="Switch branches or tags" tabindex="0" aria-haspopup="true">
    <span class="octicon octicon-git-branch"></span>
    <i>branch:</i>
    <span class="js-select-button css-truncate-target">master</span>
  </span>

  <div class="select-menu-modal-holder js-menu-content js-navigation-container" data-pjax aria-hidden="true">

    <div class="select-menu-modal">
      <div class="select-menu-header">
        <span class="select-menu-title">Switch branches/tags</span>
        <span class="octicon octicon-x js-menu-close" role="button" aria-label="Close"></span>
      </div>

      <div class="select-menu-filters">
        <div class="select-menu-text-filter">
          <input type="text" aria-label="Find or create a branch…" id="context-commitish-filter-field" class="js-filterable-field js-navigation-enable" placeholder="Find or create a branch…">
        </div>
        <div class="select-menu-tabs">
          <ul>
            <li class="select-menu-tab">
              <a href="#" data-tab-filter="branches" data-filter-placeholder="Find or create a branch…" class="js-select-menu-tab">Branches</a>
            </li>
            <li class="select-menu-tab">
              <a href="#" data-tab-filter="tags" data-filter-placeholder="Find a tag…" class="js-select-menu-tab">Tags</a>
            </li>
          </ul>
        </div>
      </div>

      <div class="select-menu-list select-menu-tab-bucket js-select-menu-tab-bucket" data-tab-filter="branches">

        <div data-filterable-for="context-commitish-filter-field" data-filterable-type="substring">


            <a class="select-menu-item js-navigation-item js-navigation-open selected"
               href="/jhconning/FarmSizeView/blob/master/ThreeInputsUSCal.ipynb"
               data-name="master"
               data-skip-pjax="true"
               rel="nofollow">
              <span class="select-menu-item-icon octicon octicon-check"></span>
              <span class="select-menu-item-text css-truncate-target" title="master">
                master
              </span>
            </a>
        </div>

          <form accept-charset="UTF-8" action="/jhconning/FarmSizeView/branches" class="js-create-branch select-menu-item select-menu-new-item-form js-navigation-item js-new-item-form" method="post"><div style="margin:0;padding:0;display:inline"><input name="utf8" type="hidden" value="&#x2713;" /><input name="authenticity_token" type="hidden" value="1K792AzkJMnpHeR9f3TyCLn8LwIXn9Ws00jJIIFPYeZc/KcWX44PbIYxPIAXHIpMxFGjs9S0vCe4VY+tx6xwMA==" /></div>
            <span class="octicon octicon-git-branch select-menu-item-icon"></span>
            <div class="select-menu-item-text">
              <span class="select-menu-item-heading">Create branch: <span class="js-new-item-name"></span></span>
              <span class="description">from ‘master’</span>
            </div>
            <input type="hidden" name="name" id="name" class="js-new-item-value">
            <input type="hidden" name="branch" id="branch" value="master">
            <input type="hidden" name="path" id="path" value="ThreeInputsUSCal.ipynb">
</form>
      </div>

      <div class="select-menu-list select-menu-tab-bucket js-select-menu-tab-bucket" data-tab-filter="tags">
        <div data-filterable-for="context-commitish-filter-field" data-filterable-type="substring">


        </div>

        <div class="select-menu-no-results">Nothing to show</div>
      </div>

    </div>
  </div>
</div>

  <div class="button-group right">
    <a href="/jhconning/FarmSizeView/find/master"
          class="js-show-file-finder minibutton empty-icon tooltipped tooltipped-s"
          data-pjax
          data-hotkey="t"
          aria-label="Quickly jump between files">
      <span class="octicon octicon-list-unordered"></span>
    </a>
    <button aria-label="Copy file path to clipboard" class="js-zeroclipboard minibutton zeroclipboard-button" data-copied-hint="Copied!" type="button"><span class="octicon octicon-clippy"></span></button>
  </div>

  <div class="breadcrumb js-zeroclipboard-target">
    <span class='repo-root js-repo-root'><span itemscope="" itemtype="http://data-vocabulary.org/Breadcrumb"><a href="/jhconning/FarmSizeView" class="" data-branch="master" data-direction="back" data-pjax="true" itemscope="url"><span itemprop="title">FarmSizeView</span></a></span></span><span class="separator">/</span><strong class="final-path">ThreeInputsUSCal.ipynb</strong>
  </div>
</div>

<include-fragment class="commit commit-loader file-history-tease" src="/jhconning/FarmSizeView/contributors/master/ThreeInputsUSCal.ipynb">
  <div class="file-history-tease-header">
    Fetching contributors&hellip;
  </div>

  <div class="participation">
    <p class="loader-loading"><img alt="" height="16" src="https://assets-cdn.github.com/assets/spinners/octocat-spinner-32-EAF2F5-0bdc57d34b85c4a4de9d0d1db10cd70e8a95f33ff4f46c5a8c48b4bf4e5a9abe.gif" width="16" /></p>
    <p class="loader-error">Cannot retrieve contributors at this time</p>
  </div>
</include-fragment>
<div class="file">
  <div class="file-header">
    <div class="file-info">
        2725 lines (2724 sloc)
        <span class="file-info-divider"></span>
      172.139 kb
    </div>
    <div class="file-actions">
      <div class="button-group">
        <a href="/jhconning/FarmSizeView/raw/master/ThreeInputsUSCal.ipynb" class="minibutton " id="raw-url">Raw</a>
          <a href="/jhconning/FarmSizeView/blame/master/ThreeInputsUSCal.ipynb" class="minibutton js-update-url-with-hash">Blame</a>
        <a href="/jhconning/FarmSizeView/commits/master/ThreeInputsUSCal.ipynb" class="minibutton " rel="nofollow">History</a>
      </div><!-- /.button-group -->

        <a class="octicon-button tooltipped tooltipped-nw"
           href="github-windows://openRepo/https://github.com/jhconning/FarmSizeView?branch=master&amp;filepath=ThreeInputsUSCal.ipynb" aria-label="Open this file in GitHub for Windows">
            <span class="octicon octicon-device-desktop"></span>
        </a>

            <form accept-charset="UTF-8" action="/jhconning/FarmSizeView/edit/master/ThreeInputsUSCal.ipynb" aria-label="Edit this file" class="tooltipped tooltipped-e inline-form edit-file-form" method="post"><div style="margin:0;padding:0;display:inline"><input name="utf8" type="hidden" value="&#x2713;" /><input name="authenticity_token" type="hidden" value="n3ZJBOEhCvIGk5qnX+5Gvt/jHik6Dc8gJLGQG2p3tg4e3vmzqCsgZ5xOQAO8Df55HT0WmZcZgcmdbR+FR9LIqw==" /></div>
              <button class="web-edit-button"
                      type="submit"
                      data-hotkey="e"
                      data-disable-with>
                <span class="octicon octicon-pencil"></span>
              </button>
</form>
          <form accept-charset="UTF-8" action="/jhconning/FarmSizeView/delete/master/ThreeInputsUSCal.ipynb" aria-label="Delete this file" class="tooltipped tooltipped-s inline-form delete-file-form" method="post"><div style="margin:0;padding:0;display:inline"><input name="utf8" type="hidden" value="&#x2713;" /><input name="authenticity_token" type="hidden" value="2EmsXQWfxhxjdC7a+KOVsrdSo7oNi/B8calik/22wi74SBpSKlFqAeK27xDFoiIfC00V/Q+JJfrephIhAMG17A==" /></div>
            <button class="web-edit-button"
                    type="submit"
                    data-disable-with>
              <span class="octicon octicon-trashcan "></span>
            </button>
</form>      </a>
    </div><!-- /.actions -->
  </div>
  
  <div class="blob-wrapper data type-text">
      <table class="highlight tab-size-8 js-file-line-container">
      <tr>
        <td id="L1" class="blob-num js-line-number" data-line-number="1"></td>
        <td id="LC1" class="blob-code js-file-line">{</td>
      </tr>
      <tr>
        <td id="L2" class="blob-num js-line-number" data-line-number="2"></td>
        <td id="LC2" class="blob-code js-file-line"> &quot;cells&quot;: [</td>
      </tr>
      <tr>
        <td id="L3" class="blob-num js-line-number" data-line-number="3"></td>
        <td id="LC3" class="blob-code js-file-line">  {</td>
      </tr>
      <tr>
        <td id="L4" class="blob-num js-line-number" data-line-number="4"></td>
        <td id="LC4" class="blob-code js-file-line">   &quot;cell_type&quot;: &quot;markdown&quot;,</td>
      </tr>
      <tr>
        <td id="L5" class="blob-num js-line-number" data-line-number="5"></td>
        <td id="LC5" class="blob-code js-file-line">   &quot;metadata&quot;: {},</td>
      </tr>
      <tr>
        <td id="L6" class="blob-num js-line-number" data-line-number="6"></td>
        <td id="LC6" class="blob-code js-file-line">   &quot;source&quot;: [</td>
      </tr>
      <tr>
        <td id="L7" class="blob-num js-line-number" data-line-number="7"></td>
        <td id="LC7" class="blob-code js-file-line">    &quot;## An Estimated model of the US Farm Size Distribution&quot;</td>
      </tr>
      <tr>
        <td id="L8" class="blob-num js-line-number" data-line-number="8"></td>
        <td id="LC8" class="blob-code js-file-line">   ]</td>
      </tr>
      <tr>
        <td id="L9" class="blob-num js-line-number" data-line-number="9"></td>
        <td id="LC9" class="blob-code js-file-line">  },</td>
      </tr>
      <tr>
        <td id="L10" class="blob-num js-line-number" data-line-number="10"></td>
        <td id="LC10" class="blob-code js-file-line">  {</td>
      </tr>
      <tr>
        <td id="L11" class="blob-num js-line-number" data-line-number="11"></td>
        <td id="LC11" class="blob-code js-file-line">   &quot;cell_type&quot;: &quot;markdown&quot;,</td>
      </tr>
      <tr>
        <td id="L12" class="blob-num js-line-number" data-line-number="12"></td>
        <td id="LC12" class="blob-code js-file-line">   &quot;metadata&quot;: {},</td>
      </tr>
      <tr>
        <td id="L13" class="blob-num js-line-number" data-line-number="13"></td>
        <td id="LC13" class="blob-code js-file-line">   &quot;source&quot;: [</td>
      </tr>
      <tr>
        <td id="L14" class="blob-num js-line-number" data-line-number="14"></td>
        <td id="LC14" class="blob-code js-file-line">    &quot;The following presents a relatively parsimonious three-factor general equilibrium model of the farm size distribution for the US agricultural economy which is then calibrated/estimated using the method of moments.  We model production using a nested three-factor CES production technology that employs land, capital and labor and that is augmented by non-traded farming skill/managerial talent.\n&quot;,</td>
      </tr>
      <tr>
        <td id="L15" class="blob-num js-line-number" data-line-number="15"></td>
        <td id="LC15" class="blob-code js-file-line">    &quot;\n&quot;,</td>
      </tr>
      <tr>
        <td id="L16" class="blob-num js-line-number" data-line-number="16"></td>
        <td id="LC16" class="blob-code js-file-line">    &quot;The analysis is broadly similar in focus to the recent Adamopoulus and Restuccia&#39;s (2014) article [The Size Distribution of Farms and International Productivity Differences](https://www.aeaweb.org/articles.php?doi=10.1257/aer.104.6.1667) but with a few improvements: (1) we incorporate labor into the analysis (theirs assumes jus capital and land); (2) we estimate all key parameters in the model to match key variables, and (3) we employ a more parsimonious model to avoid several questionable assumptions.&quot;</td>
      </tr>
      <tr>
        <td id="L17" class="blob-num js-line-number" data-line-number="17"></td>
        <td id="LC17" class="blob-code js-file-line">   ]</td>
      </tr>
      <tr>
        <td id="L18" class="blob-num js-line-number" data-line-number="18"></td>
        <td id="LC18" class="blob-code js-file-line">  },</td>
      </tr>
      <tr>
        <td id="L19" class="blob-num js-line-number" data-line-number="19"></td>
        <td id="LC19" class="blob-code js-file-line">  {</td>
      </tr>
      <tr>
        <td id="L20" class="blob-num js-line-number" data-line-number="20"></td>
        <td id="LC20" class="blob-code js-file-line">   &quot;cell_type&quot;: &quot;markdown&quot;,</td>
      </tr>
      <tr>
        <td id="L21" class="blob-num js-line-number" data-line-number="21"></td>
        <td id="LC21" class="blob-code js-file-line">   &quot;metadata&quot;: {},</td>
      </tr>
      <tr>
        <td id="L22" class="blob-num js-line-number" data-line-number="22"></td>
        <td id="LC22" class="blob-code js-file-line">   &quot;source&quot;: [</td>
      </tr>
      <tr>
        <td id="L23" class="blob-num js-line-number" data-line-number="23"></td>
        <td id="LC23" class="blob-code js-file-line">    &quot;We use a three-input CES production function capable of generating some key stylized facts about the US farm economy (we demonstrate these facts empirically using USDA data in a section below). Adamopolous/Restuccia also lay them out as important but their modeling is a bit different. These facts for the US economy include:\n&quot;,</td>
      </tr>
      <tr>
        <td id="L24" class="blob-num js-line-number" data-line-number="24"></td>
        <td id="LC24" class="blob-code js-file-line">    &quot;\n&quot;,</td>
      </tr>
      <tr>
        <td id="L25" class="blob-num js-line-number" data-line-number="25"></td>
        <td id="LC25" class="blob-code js-file-line">    &quot;1. the capital-land and labor-land ratios tend to fall as farm size goes up\n&quot;,</td>
      </tr>
      <tr>
        <td id="L26" class="blob-num js-line-number" data-line-number="26"></td>
        <td id="LC26" class="blob-code js-file-line">    &quot;\n&quot;,</td>
      </tr>
      <tr>
        <td id="L27" class="blob-num js-line-number" data-line-number="27"></td>
        <td id="LC27" class="blob-code js-file-line">    &quot;2. the capital/labor ratio remains more or less constant at most farm sizes.\n&quot;,</td>
      </tr>
      <tr>
        <td id="L28" class="blob-num js-line-number" data-line-number="28"></td>
        <td id="LC28" class="blob-code js-file-line">    &quot;\n&quot;,</td>
      </tr>
      <tr>
        <td id="L29" class="blob-num js-line-number" data-line-number="29"></td>
        <td id="LC29" class="blob-code js-file-line">    &quot;We take it that unobserved differences in farming skill or managerial ability determine productivity differences across farms to determine differences in factor inputs and therefore in farm size.  This is similar to Lucas&#39; (1978) span-of-control model except that to be consistent with the stylized facts we will work with a non-homothetic production function, one where the unobserved &#39;skill&#39; or poductivity parameter is thought of as something that enhances land-use management primarily.In the right parameter region this will make it land-augmenting and capital and labor saving, consistent with the stylized facts.\n&quot;,</td>
      </tr>
      <tr>
        <td id="L30" class="blob-num js-line-number" data-line-number="30"></td>
        <td id="LC30" class="blob-code js-file-line">    &quot;\n&quot;,</td>
      </tr>
      <tr>
        <td id="L31" class="blob-num js-line-number" data-line-number="31"></td>
        <td id="LC31" class="blob-code js-file-line">    &quot;Accordingly, consider the nested CES production function.\n&quot;,</td>
      </tr>
      <tr>
        <td id="L32" class="blob-num js-line-number" data-line-number="32"></td>
        <td id="LC32" class="blob-code js-file-line">    &quot;\n&quot;,</td>
      </tr>
      <tr>
        <td id="L33" class="blob-num js-line-number" data-line-number="33"></td>
        <td id="LC33" class="blob-code js-file-line">    &quot;$y=\\left[\\left(a_ll^\\rho+a_kk^\\rho\\right)^\\frac{\\phi}{\\rho}+st^\\phi\\right]^\\frac{\\gamma}{\\phi}$\n&quot;,</td>
      </tr>
      <tr>
        <td id="L34" class="blob-num js-line-number" data-line-number="34"></td>
        <td id="LC34" class="blob-code js-file-line">    &quot;\n&quot;,</td>
      </tr>
      <tr>
        <td id="L35" class="blob-num js-line-number" data-line-number="35"></td>
        <td id="LC35" class="blob-code js-file-line">    &quot;Every would-be farmer has this production function and non-traded skill level $s$.  Faced with labor, capital and land factor prices $(w,r,q)$ land and labor demands will be given by:\n&quot;,</td>
      </tr>
      <tr>
        <td id="L36" class="blob-num js-line-number" data-line-number="36"></td>
        <td id="LC36" class="blob-code js-file-line">    &quot;\n&quot;,</td>
      </tr>
      <tr>
        <td id="L37" class="blob-num js-line-number" data-line-number="37"></td>
        <td id="LC37" class="blob-code js-file-line">    &quot;$t=\\gamma^\\frac{1}{1-\\gamma}\\left[Z^{\\frac{\\phi}{1-\\phi}\\frac{1-\\rho}{\\rho}}+s\\left(\\frac{s}{q}\\right)^\\frac{\\phi}{1-\\phi}\\right]^\\frac{\\gamma-\\phi}{\\phi(1-\\gamma)}\\left(\\frac{s}{q}\\right)^\\frac{1}{1-\\phi}$\n&quot;,</td>
      </tr>
      <tr>
        <td id="L38" class="blob-num js-line-number" data-line-number="38"></td>
        <td id="LC38" class="blob-code js-file-line">    &quot;\n&quot;,</td>
      </tr>
      <tr>
        <td id="L39" class="blob-num js-line-number" data-line-number="39"></td>
        <td id="LC39" class="blob-code js-file-line">    &quot;\n&quot;,</td>
      </tr>
      <tr>
        <td id="L40" class="blob-num js-line-number" data-line-number="40"></td>
        <td id="LC40" class="blob-code js-file-line">    &quot;$l=\\gamma^\\frac{1}{1-\\gamma}\\left[Z^{\\frac{\\phi}{1-\\phi}\\frac{1-\\rho}{\\rho}}+s\\left(\\frac{s}{q}\\right)^\\frac{\\phi}{1-\\phi}\\right]^\\frac{\\gamma-\\phi}{\\phi(1-\\gamma)}Z^\\frac{\\phi-\\rho}{\\rho(1-\\phi)}\\left(\\frac{a_l}{w}\\right)^\\frac{1}{1-\\rho}$\n&quot;,</td>
      </tr>
      <tr>
        <td id="L41" class="blob-num js-line-number" data-line-number="41"></td>
        <td id="LC41" class="blob-code js-file-line">    &quot;\n&quot;,</td>
      </tr>
      <tr>
        <td id="L42" class="blob-num js-line-number" data-line-number="42"></td>
        <td id="LC42" class="blob-code js-file-line">    &quot;where $Z=a_l\\left(\\frac{a_l}{w}\\right)^\\frac{\\rho}{1-\\rho}+a_k\\left(\\frac{a_k}{r}\\right)^\\frac{\\rho}{1-\\rho}$\n&quot;,</td>
      </tr>
      <tr>
        <td id="L43" class="blob-num js-line-number" data-line-number="43"></td>
        <td id="LC43" class="blob-code js-file-line">    &quot;\n&quot;,</td>
      </tr>
      <tr>
        <td id="L44" class="blob-num js-line-number" data-line-number="44"></td>
        <td id="LC44" class="blob-code js-file-line">    &quot;The equilibrium labor/land ratio is:\n&quot;,</td>
      </tr>
      <tr>
        <td id="L45" class="blob-num js-line-number" data-line-number="45"></td>
        <td id="LC45" class="blob-code js-file-line">    &quot;\n&quot;,</td>
      </tr>
      <tr>
        <td id="L46" class="blob-num js-line-number" data-line-number="46"></td>
        <td id="LC46" class="blob-code js-file-line">    &quot;$\\frac{l}{t}=\\frac{\\left[s\\left(\\frac{s}{q}\\right)^\\frac{\\rho}{1-\\rho}+a_l\\left(\\frac{a_l}{w}\\right)^\\frac{\\rho}{1-\\rho}\\right]^\\frac{\\phi-\\rho}{\\rho(1-\\phi)}\\left(\\frac{a_l}{w}\\right)^\\frac{1}{1-\\rho}}{\\left(\\frac{s}{q}\\right)^\\frac{1}{1-\\phi}} $\n&quot;,</td>
      </tr>
      <tr>
        <td id="L47" class="blob-num js-line-number" data-line-number="47"></td>
        <td id="LC47" class="blob-code js-file-line">    &quot;\n&quot;,</td>
      </tr>
      <tr>
        <td id="L48" class="blob-num js-line-number" data-line-number="48"></td>
        <td id="LC48" class="blob-code js-file-line">    &quot;This ratio will go down if $\\phi$ is smaller than $\\rho$. The capital-land ratio is given by:\n&quot;,</td>
      </tr>
      <tr>
        <td id="L49" class="blob-num js-line-number" data-line-number="49"></td>
        <td id="LC49" class="blob-code js-file-line">    &quot;\n&quot;,</td>
      </tr>
      <tr>
        <td id="L50" class="blob-num js-line-number" data-line-number="50"></td>
        <td id="LC50" class="blob-code js-file-line">    &quot;$\\frac{k}{t}=\\frac{\\left[a_k\\left(\\frac{a_k}{r}\\right)^\\frac{\\rho}{1-\\rho}+a_l\\left(\\frac{a_l}{w}\\right)^\\frac{\\rho}{1-\\rho}\\right]^\\frac{\\phi-\\rho}{\\rho(1-\\phi)}\\left(\\frac{k}{r}\\right)^\\frac{1}{1-\\rho}}{\\left(\\frac{s}{t}\\right)^\\frac{1}{1-\\phi}} $\n&quot;,</td>
      </tr>
      <tr>
        <td id="L51" class="blob-num js-line-number" data-line-number="51"></td>
        <td id="LC51" class="blob-code js-file-line">    &quot;\n&quot;,</td>
      </tr>
      <tr>
        <td id="L52" class="blob-num js-line-number" data-line-number="52"></td>
        <td id="LC52" class="blob-code js-file-line">    &quot;Finally, the labor/capital ratio is simply:\n&quot;,</td>
      </tr>
      <tr>
        <td id="L53" class="blob-num js-line-number" data-line-number="53"></td>
        <td id="LC53" class="blob-code js-file-line">    &quot;\n&quot;,</td>
      </tr>
      <tr>
        <td id="L54" class="blob-num js-line-number" data-line-number="54"></td>
        <td id="LC54" class="blob-code js-file-line">    &quot;$\\frac{l}{k}=\\left(\\frac{a_l}{a_k}\\frac{r}{w}\\right)^\\frac{1}{1-\\rho}$\n&quot;,</td>
      </tr>
      <tr>
        <td id="L55" class="blob-num js-line-number" data-line-number="55"></td>
        <td id="LC55" class="blob-code js-file-line">    &quot;\n&quot;,</td>
      </tr>
      <tr>
        <td id="L56" class="blob-num js-line-number" data-line-number="56"></td>
        <td id="LC56" class="blob-code js-file-line">    &quot;Let&#39;s lay down a few parameter values (note that the ordering of $\\rho, \\phi$, and $\\gamma$ matters) to demonstrate this framework is capable of generating the stylized facts.&quot;</td>
      </tr>
      <tr>
        <td id="L57" class="blob-num js-line-number" data-line-number="57"></td>
        <td id="LC57" class="blob-code js-file-line">   ]</td>
      </tr>
      <tr>
        <td id="L58" class="blob-num js-line-number" data-line-number="58"></td>
        <td id="LC58" class="blob-code js-file-line">  },</td>
      </tr>
      <tr>
        <td id="L59" class="blob-num js-line-number" data-line-number="59"></td>
        <td id="LC59" class="blob-code js-file-line">  {</td>
      </tr>
      <tr>
        <td id="L60" class="blob-num js-line-number" data-line-number="60"></td>
        <td id="LC60" class="blob-code js-file-line">   &quot;cell_type&quot;: &quot;code&quot;,</td>
      </tr>
      <tr>
        <td id="L61" class="blob-num js-line-number" data-line-number="61"></td>
        <td id="LC61" class="blob-code js-file-line">   &quot;execution_count&quot;: 1,</td>
      </tr>
      <tr>
        <td id="L62" class="blob-num js-line-number" data-line-number="62"></td>
        <td id="LC62" class="blob-code js-file-line">   &quot;metadata&quot;: {</td>
      </tr>
      <tr>
        <td id="L63" class="blob-num js-line-number" data-line-number="63"></td>
        <td id="LC63" class="blob-code js-file-line">    &quot;collapsed&quot;: false</td>
      </tr>
      <tr>
        <td id="L64" class="blob-num js-line-number" data-line-number="64"></td>
        <td id="LC64" class="blob-code js-file-line">   },</td>
      </tr>
      <tr>
        <td id="L65" class="blob-num js-line-number" data-line-number="65"></td>
        <td id="LC65" class="blob-code js-file-line">   &quot;outputs&quot;: [],</td>
      </tr>
      <tr>
        <td id="L66" class="blob-num js-line-number" data-line-number="66"></td>
        <td id="LC66" class="blob-code js-file-line">   &quot;source&quot;: [</td>
      </tr>
      <tr>
        <td id="L67" class="blob-num js-line-number" data-line-number="67"></td>
        <td id="LC67" class="blob-code js-file-line">    &quot;rho=.3\n&quot;,</td>
      </tr>
      <tr>
        <td id="L68" class="blob-num js-line-number" data-line-number="68"></td>
        <td id="LC68" class="blob-code js-file-line">    &quot;phi=.5\n&quot;,</td>
      </tr>
      <tr>
        <td id="L69" class="blob-num js-line-number" data-line-number="69"></td>
        <td id="LC69" class="blob-code js-file-line">    &quot;gam=.7\n&quot;,</td>
      </tr>
      <tr>
        <td id="L70" class="blob-num js-line-number" data-line-number="70"></td>
        <td id="LC70" class="blob-code js-file-line">    &quot;w=1\n&quot;,</td>
      </tr>
      <tr>
        <td id="L71" class="blob-num js-line-number" data-line-number="71"></td>
        <td id="LC71" class="blob-code js-file-line">    &quot;r=1\n&quot;,</td>
      </tr>
      <tr>
        <td id="L72" class="blob-num js-line-number" data-line-number="72"></td>
        <td id="LC72" class="blob-code js-file-line">    &quot;q=1\n&quot;,</td>
      </tr>
      <tr>
        <td id="L73" class="blob-num js-line-number" data-line-number="73"></td>
        <td id="LC73" class="blob-code js-file-line">    &quot;al=1\n&quot;,</td>
      </tr>
      <tr>
        <td id="L74" class="blob-num js-line-number" data-line-number="74"></td>
        <td id="LC74" class="blob-code js-file-line">    &quot;ak=1.1&quot;</td>
      </tr>
      <tr>
        <td id="L75" class="blob-num js-line-number" data-line-number="75"></td>
        <td id="LC75" class="blob-code js-file-line">   ]</td>
      </tr>
      <tr>
        <td id="L76" class="blob-num js-line-number" data-line-number="76"></td>
        <td id="LC76" class="blob-code js-file-line">  },</td>
      </tr>
      <tr>
        <td id="L77" class="blob-num js-line-number" data-line-number="77"></td>
        <td id="LC77" class="blob-code js-file-line">  {</td>
      </tr>
      <tr>
        <td id="L78" class="blob-num js-line-number" data-line-number="78"></td>
        <td id="LC78" class="blob-code js-file-line">   &quot;cell_type&quot;: &quot;markdown&quot;,</td>
      </tr>
      <tr>
        <td id="L79" class="blob-num js-line-number" data-line-number="79"></td>
        <td id="LC79" class="blob-code js-file-line">   &quot;metadata&quot;: {},</td>
      </tr>
      <tr>
        <td id="L80" class="blob-num js-line-number" data-line-number="80"></td>
        <td id="LC80" class="blob-code js-file-line">   &quot;source&quot;: [</td>
      </tr>
      <tr>
        <td id="L81" class="blob-num js-line-number" data-line-number="81"></td>
        <td id="LC81" class="blob-code js-file-line">    &quot;A function to compute the capital land ratio as a function of skill level $s$:&quot;</td>
      </tr>
      <tr>
        <td id="L82" class="blob-num js-line-number" data-line-number="82"></td>
        <td id="LC82" class="blob-code js-file-line">   ]</td>
      </tr>
      <tr>
        <td id="L83" class="blob-num js-line-number" data-line-number="83"></td>
        <td id="LC83" class="blob-code js-file-line">  },</td>
      </tr>
      <tr>
        <td id="L84" class="blob-num js-line-number" data-line-number="84"></td>
        <td id="LC84" class="blob-code js-file-line">  {</td>
      </tr>
      <tr>
        <td id="L85" class="blob-num js-line-number" data-line-number="85"></td>
        <td id="LC85" class="blob-code js-file-line">   &quot;cell_type&quot;: &quot;code&quot;,</td>
      </tr>
      <tr>
        <td id="L86" class="blob-num js-line-number" data-line-number="86"></td>
        <td id="LC86" class="blob-code js-file-line">   &quot;execution_count&quot;: 2,</td>
      </tr>
      <tr>
        <td id="L87" class="blob-num js-line-number" data-line-number="87"></td>
        <td id="LC87" class="blob-code js-file-line">   &quot;metadata&quot;: {</td>
      </tr>
      <tr>
        <td id="L88" class="blob-num js-line-number" data-line-number="88"></td>
        <td id="LC88" class="blob-code js-file-line">    &quot;collapsed&quot;: false</td>
      </tr>
      <tr>
        <td id="L89" class="blob-num js-line-number" data-line-number="89"></td>
        <td id="LC89" class="blob-code js-file-line">   },</td>
      </tr>
      <tr>
        <td id="L90" class="blob-num js-line-number" data-line-number="90"></td>
        <td id="LC90" class="blob-code js-file-line">   &quot;outputs&quot;: [],</td>
      </tr>
      <tr>
        <td id="L91" class="blob-num js-line-number" data-line-number="91"></td>
        <td id="LC91" class="blob-code js-file-line">   &quot;source&quot;: [</td>
      </tr>
      <tr>
        <td id="L92" class="blob-num js-line-number" data-line-number="92"></td>
        <td id="LC92" class="blob-code js-file-line">    &quot;def ktrat(s):\n&quot;,</td>
      </tr>
      <tr>
        <td id="L93" class="blob-num js-line-number" data-line-number="93"></td>
        <td id="LC93" class="blob-code js-file-line">    &quot;    part1=(ak/r)**(1/(1-rho))\n&quot;,</td>
      </tr>
      <tr>
        <td id="L94" class="blob-num js-line-number" data-line-number="94"></td>
        <td id="LC94" class="blob-code js-file-line">    &quot;    part2=(s/q)**(1/(1-phi))\n&quot;,</td>
      </tr>
      <tr>
        <td id="L95" class="blob-num js-line-number" data-line-number="95"></td>
        <td id="LC95" class="blob-code js-file-line">    &quot;    part3=(ak*(ak/r)**(1/(1-rho))+al*(al/w)**(1/(1-rho)))**((phi-rho)/(rho*(1-phi)))\n&quot;,</td>
      </tr>
      <tr>
        <td id="L96" class="blob-num js-line-number" data-line-number="96"></td>
        <td id="LC96" class="blob-code js-file-line">    &quot;    rat=part3*part1/part2\n&quot;,</td>
      </tr>
      <tr>
        <td id="L97" class="blob-num js-line-number" data-line-number="97"></td>
        <td id="LC97" class="blob-code js-file-line">    &quot;    return rat&quot;</td>
      </tr>
      <tr>
        <td id="L98" class="blob-num js-line-number" data-line-number="98"></td>
        <td id="LC98" class="blob-code js-file-line">   ]</td>
      </tr>
      <tr>
        <td id="L99" class="blob-num js-line-number" data-line-number="99"></td>
        <td id="LC99" class="blob-code js-file-line">  },</td>
      </tr>
      <tr>
        <td id="L100" class="blob-num js-line-number" data-line-number="100"></td>
        <td id="LC100" class="blob-code js-file-line">  {</td>
      </tr>
      <tr>
        <td id="L101" class="blob-num js-line-number" data-line-number="101"></td>
        <td id="LC101" class="blob-code js-file-line">   &quot;cell_type&quot;: &quot;markdown&quot;,</td>
      </tr>
      <tr>
        <td id="L102" class="blob-num js-line-number" data-line-number="102"></td>
        <td id="LC102" class="blob-code js-file-line">   &quot;metadata&quot;: {},</td>
      </tr>
      <tr>
        <td id="L103" class="blob-num js-line-number" data-line-number="103"></td>
        <td id="LC103" class="blob-code js-file-line">   &quot;source&quot;: [</td>
      </tr>
      <tr>
        <td id="L104" class="blob-num js-line-number" data-line-number="104"></td>
        <td id="LC104" class="blob-code js-file-line">    &quot;Now, a function to compute the land labor ratio:&quot;</td>
      </tr>
      <tr>
        <td id="L105" class="blob-num js-line-number" data-line-number="105"></td>
        <td id="LC105" class="blob-code js-file-line">   ]</td>
      </tr>
      <tr>
        <td id="L106" class="blob-num js-line-number" data-line-number="106"></td>
        <td id="LC106" class="blob-code js-file-line">  },</td>
      </tr>
      <tr>
        <td id="L107" class="blob-num js-line-number" data-line-number="107"></td>
        <td id="LC107" class="blob-code js-file-line">  {</td>
      </tr>
      <tr>
        <td id="L108" class="blob-num js-line-number" data-line-number="108"></td>
        <td id="LC108" class="blob-code js-file-line">   &quot;cell_type&quot;: &quot;code&quot;,</td>
      </tr>
      <tr>
        <td id="L109" class="blob-num js-line-number" data-line-number="109"></td>
        <td id="LC109" class="blob-code js-file-line">   &quot;execution_count&quot;: 3,</td>
      </tr>
      <tr>
        <td id="L110" class="blob-num js-line-number" data-line-number="110"></td>
        <td id="LC110" class="blob-code js-file-line">   &quot;metadata&quot;: {</td>
      </tr>
      <tr>
        <td id="L111" class="blob-num js-line-number" data-line-number="111"></td>
        <td id="LC111" class="blob-code js-file-line">    &quot;collapsed&quot;: false</td>
      </tr>
      <tr>
        <td id="L112" class="blob-num js-line-number" data-line-number="112"></td>
        <td id="LC112" class="blob-code js-file-line">   },</td>
      </tr>
      <tr>
        <td id="L113" class="blob-num js-line-number" data-line-number="113"></td>
        <td id="LC113" class="blob-code js-file-line">   &quot;outputs&quot;: [],</td>
      </tr>
      <tr>
        <td id="L114" class="blob-num js-line-number" data-line-number="114"></td>
        <td id="LC114" class="blob-code js-file-line">   &quot;source&quot;: [</td>
      </tr>
      <tr>
        <td id="L115" class="blob-num js-line-number" data-line-number="115"></td>
        <td id="LC115" class="blob-code js-file-line">    &quot;def ltrat(s):\n&quot;,</td>
      </tr>
      <tr>
        <td id="L116" class="blob-num js-line-number" data-line-number="116"></td>
        <td id="LC116" class="blob-code js-file-line">    &quot;    part1=(al/w)**(1/(1-rho))\n&quot;,</td>
      </tr>
      <tr>
        <td id="L117" class="blob-num js-line-number" data-line-number="117"></td>
        <td id="LC117" class="blob-code js-file-line">    &quot;    part2=(s/q)**(1/(1-phi))\n&quot;,</td>
      </tr>
      <tr>
        <td id="L118" class="blob-num js-line-number" data-line-number="118"></td>
        <td id="LC118" class="blob-code js-file-line">    &quot;    part3=(ak*(ak/r)**(1/(1-rho))+al*(al/w)**(1/(1-rho)))**((phi-rho)/(rho*(1-phi)))\n&quot;,</td>
      </tr>
      <tr>
        <td id="L119" class="blob-num js-line-number" data-line-number="119"></td>
        <td id="LC119" class="blob-code js-file-line">    &quot;    rat=part3*part1/part2\n&quot;,</td>
      </tr>
      <tr>
        <td id="L120" class="blob-num js-line-number" data-line-number="120"></td>
        <td id="LC120" class="blob-code js-file-line">    &quot;    return rat&quot;</td>
      </tr>
      <tr>
        <td id="L121" class="blob-num js-line-number" data-line-number="121"></td>
        <td id="LC121" class="blob-code js-file-line">   ]</td>
      </tr>
      <tr>
        <td id="L122" class="blob-num js-line-number" data-line-number="122"></td>
        <td id="LC122" class="blob-code js-file-line">  },</td>
      </tr>
      <tr>
        <td id="L123" class="blob-num js-line-number" data-line-number="123"></td>
        <td id="LC123" class="blob-code js-file-line">  {</td>
      </tr>
      <tr>
        <td id="L124" class="blob-num js-line-number" data-line-number="124"></td>
        <td id="LC124" class="blob-code js-file-line">   &quot;cell_type&quot;: &quot;markdown&quot;,</td>
      </tr>
      <tr>
        <td id="L125" class="blob-num js-line-number" data-line-number="125"></td>
        <td id="LC125" class="blob-code js-file-line">   &quot;metadata&quot;: {},</td>
      </tr>
      <tr>
        <td id="L126" class="blob-num js-line-number" data-line-number="126"></td>
        <td id="LC126" class="blob-code js-file-line">   &quot;source&quot;: [</td>
      </tr>
      <tr>
        <td id="L127" class="blob-num js-line-number" data-line-number="127"></td>
        <td id="LC127" class="blob-code js-file-line">    &quot;Finally, a function to compute the labor capital ratio (which really doesn&#39;t have to be a function, but we leave it like this to allow for future flexibility:&quot;</td>
      </tr>
      <tr>
        <td id="L128" class="blob-num js-line-number" data-line-number="128"></td>
        <td id="LC128" class="blob-code js-file-line">   ]</td>
      </tr>
      <tr>
        <td id="L129" class="blob-num js-line-number" data-line-number="129"></td>
        <td id="LC129" class="blob-code js-file-line">  },</td>
      </tr>
      <tr>
        <td id="L130" class="blob-num js-line-number" data-line-number="130"></td>
        <td id="LC130" class="blob-code js-file-line">  {</td>
      </tr>
      <tr>
        <td id="L131" class="blob-num js-line-number" data-line-number="131"></td>
        <td id="LC131" class="blob-code js-file-line">   &quot;cell_type&quot;: &quot;code&quot;,</td>
      </tr>
      <tr>
        <td id="L132" class="blob-num js-line-number" data-line-number="132"></td>
        <td id="LC132" class="blob-code js-file-line">   &quot;execution_count&quot;: 4,</td>
      </tr>
      <tr>
        <td id="L133" class="blob-num js-line-number" data-line-number="133"></td>
        <td id="LC133" class="blob-code js-file-line">   &quot;metadata&quot;: {</td>
      </tr>
      <tr>
        <td id="L134" class="blob-num js-line-number" data-line-number="134"></td>
        <td id="LC134" class="blob-code js-file-line">    &quot;collapsed&quot;: false</td>
      </tr>
      <tr>
        <td id="L135" class="blob-num js-line-number" data-line-number="135"></td>
        <td id="LC135" class="blob-code js-file-line">   },</td>
      </tr>
      <tr>
        <td id="L136" class="blob-num js-line-number" data-line-number="136"></td>
        <td id="LC136" class="blob-code js-file-line">   &quot;outputs&quot;: [],</td>
      </tr>
      <tr>
        <td id="L137" class="blob-num js-line-number" data-line-number="137"></td>
        <td id="LC137" class="blob-code js-file-line">   &quot;source&quot;: [</td>
      </tr>
      <tr>
        <td id="L138" class="blob-num js-line-number" data-line-number="138"></td>
        <td id="LC138" class="blob-code js-file-line">    &quot;def lkrat(s):\n&quot;,</td>
      </tr>
      <tr>
        <td id="L139" class="blob-num js-line-number" data-line-number="139"></td>
        <td id="LC139" class="blob-code js-file-line">    &quot;    part1=(al/w)**(1/(1-rho))\n&quot;,</td>
      </tr>
      <tr>
        <td id="L140" class="blob-num js-line-number" data-line-number="140"></td>
        <td id="LC140" class="blob-code js-file-line">    &quot;    part2=(ak/w)**(1/(1-rho))\n&quot;,</td>
      </tr>
      <tr>
        <td id="L141" class="blob-num js-line-number" data-line-number="141"></td>
        <td id="LC141" class="blob-code js-file-line">    &quot;    return (part2/part1)*np.ones(N)&quot;</td>
      </tr>
      <tr>
        <td id="L142" class="blob-num js-line-number" data-line-number="142"></td>
        <td id="LC142" class="blob-code js-file-line">   ]</td>
      </tr>
      <tr>
        <td id="L143" class="blob-num js-line-number" data-line-number="143"></td>
        <td id="LC143" class="blob-code js-file-line">  },</td>
      </tr>
      <tr>
        <td id="L144" class="blob-num js-line-number" data-line-number="144"></td>
        <td id="LC144" class="blob-code js-file-line">  {</td>
      </tr>
      <tr>
        <td id="L145" class="blob-num js-line-number" data-line-number="145"></td>
        <td id="LC145" class="blob-code js-file-line">   &quot;cell_type&quot;: &quot;markdown&quot;,</td>
      </tr>
      <tr>
        <td id="L146" class="blob-num js-line-number" data-line-number="146"></td>
        <td id="LC146" class="blob-code js-file-line">   &quot;metadata&quot;: {},</td>
      </tr>
      <tr>
        <td id="L147" class="blob-num js-line-number" data-line-number="147"></td>
        <td id="LC147" class="blob-code js-file-line">   &quot;source&quot;: [</td>
      </tr>
      <tr>
        <td id="L148" class="blob-num js-line-number" data-line-number="148"></td>
        <td id="LC148" class="blob-code js-file-line">    &quot;Let&#39;s just plot these functions and see how they vary with the level of skill (again, this is just variation in $s_1$, everything else fixed).&quot;</td>
      </tr>
      <tr>
        <td id="L149" class="blob-num js-line-number" data-line-number="149"></td>
        <td id="LC149" class="blob-code js-file-line">   ]</td>
      </tr>
      <tr>
        <td id="L150" class="blob-num js-line-number" data-line-number="150"></td>
        <td id="LC150" class="blob-code js-file-line">  },</td>
      </tr>
      <tr>
        <td id="L151" class="blob-num js-line-number" data-line-number="151"></td>
        <td id="LC151" class="blob-code js-file-line">  {</td>
      </tr>
      <tr>
        <td id="L152" class="blob-num js-line-number" data-line-number="152"></td>
        <td id="LC152" class="blob-code js-file-line">   &quot;cell_type&quot;: &quot;code&quot;,</td>
      </tr>
      <tr>
        <td id="L153" class="blob-num js-line-number" data-line-number="153"></td>
        <td id="LC153" class="blob-code js-file-line">   &quot;execution_count&quot;: 5,</td>
      </tr>
      <tr>
        <td id="L154" class="blob-num js-line-number" data-line-number="154"></td>
        <td id="LC154" class="blob-code js-file-line">   &quot;metadata&quot;: {</td>
      </tr>
      <tr>
        <td id="L155" class="blob-num js-line-number" data-line-number="155"></td>
        <td id="LC155" class="blob-code js-file-line">    &quot;collapsed&quot;: false</td>
      </tr>
      <tr>
        <td id="L156" class="blob-num js-line-number" data-line-number="156"></td>
        <td id="LC156" class="blob-code js-file-line">   },</td>
      </tr>
      <tr>
        <td id="L157" class="blob-num js-line-number" data-line-number="157"></td>
        <td id="LC157" class="blob-code js-file-line">   &quot;outputs&quot;: [],</td>
      </tr>
      <tr>
        <td id="L158" class="blob-num js-line-number" data-line-number="158"></td>
        <td id="LC158" class="blob-code js-file-line">   &quot;source&quot;: [</td>
      </tr>
      <tr>
        <td id="L159" class="blob-num js-line-number" data-line-number="159"></td>
        <td id="LC159" class="blob-code js-file-line">    &quot;import numpy as np\n&quot;,</td>
      </tr>
      <tr>
        <td id="L160" class="blob-num js-line-number" data-line-number="160"></td>
        <td id="LC160" class="blob-code js-file-line">    &quot;import scipy.optimize as so        # scientific functions needed later&quot;</td>
      </tr>
      <tr>
        <td id="L161" class="blob-num js-line-number" data-line-number="161"></td>
        <td id="LC161" class="blob-code js-file-line">   ]</td>
      </tr>
      <tr>
        <td id="L162" class="blob-num js-line-number" data-line-number="162"></td>
        <td id="LC162" class="blob-code js-file-line">  },</td>
      </tr>
      <tr>
        <td id="L163" class="blob-num js-line-number" data-line-number="163"></td>
        <td id="LC163" class="blob-code js-file-line">  {</td>
      </tr>
      <tr>
        <td id="L164" class="blob-num js-line-number" data-line-number="164"></td>
        <td id="LC164" class="blob-code js-file-line">   &quot;cell_type&quot;: &quot;markdown&quot;,</td>
      </tr>
      <tr>
        <td id="L165" class="blob-num js-line-number" data-line-number="165"></td>
        <td id="LC165" class="blob-code js-file-line">   &quot;metadata&quot;: {},</td>
      </tr>
      <tr>
        <td id="L166" class="blob-num js-line-number" data-line-number="166"></td>
        <td id="LC166" class="blob-code js-file-line">   &quot;source&quot;: [</td>
      </tr>
      <tr>
        <td id="L167" class="blob-num js-line-number" data-line-number="167"></td>
        <td id="LC167" class="blob-code js-file-line">    &quot;Here and below we shall assume there are $N$ would be farmers or points in the farm skill distribution.&quot;</td>
      </tr>
      <tr>
        <td id="L168" class="blob-num js-line-number" data-line-number="168"></td>
        <td id="LC168" class="blob-code js-file-line">   ]</td>
      </tr>
      <tr>
        <td id="L169" class="blob-num js-line-number" data-line-number="169"></td>
        <td id="LC169" class="blob-code js-file-line">  },</td>
      </tr>
      <tr>
        <td id="L170" class="blob-num js-line-number" data-line-number="170"></td>
        <td id="LC170" class="blob-code js-file-line">  {</td>
      </tr>
      <tr>
        <td id="L171" class="blob-num js-line-number" data-line-number="171"></td>
        <td id="LC171" class="blob-code js-file-line">   &quot;cell_type&quot;: &quot;code&quot;,</td>
      </tr>
      <tr>
        <td id="L172" class="blob-num js-line-number" data-line-number="172"></td>
        <td id="LC172" class="blob-code js-file-line">   &quot;execution_count&quot;: 6,</td>
      </tr>
      <tr>
        <td id="L173" class="blob-num js-line-number" data-line-number="173"></td>
        <td id="LC173" class="blob-code js-file-line">   &quot;metadata&quot;: {</td>
      </tr>
      <tr>
        <td id="L174" class="blob-num js-line-number" data-line-number="174"></td>
        <td id="LC174" class="blob-code js-file-line">    &quot;collapsed&quot;: false</td>
      </tr>
      <tr>
        <td id="L175" class="blob-num js-line-number" data-line-number="175"></td>
        <td id="LC175" class="blob-code js-file-line">   },</td>
      </tr>
      <tr>
        <td id="L176" class="blob-num js-line-number" data-line-number="176"></td>
        <td id="LC176" class="blob-code js-file-line">   &quot;outputs&quot;: [],</td>
      </tr>
      <tr>
        <td id="L177" class="blob-num js-line-number" data-line-number="177"></td>
        <td id="LC177" class="blob-code js-file-line">   &quot;source&quot;: [</td>
      </tr>
      <tr>
        <td id="L178" class="blob-num js-line-number" data-line-number="178"></td>
        <td id="LC178" class="blob-code js-file-line">    &quot;N = 100&quot;</td>
      </tr>
      <tr>
        <td id="L179" class="blob-num js-line-number" data-line-number="179"></td>
        <td id="LC179" class="blob-code js-file-line">   ]</td>
      </tr>
      <tr>
        <td id="L180" class="blob-num js-line-number" data-line-number="180"></td>
        <td id="LC180" class="blob-code js-file-line">  },</td>
      </tr>
      <tr>
        <td id="L181" class="blob-num js-line-number" data-line-number="181"></td>
        <td id="LC181" class="blob-code js-file-line">  {</td>
      </tr>
      <tr>
        <td id="L182" class="blob-num js-line-number" data-line-number="182"></td>
        <td id="LC182" class="blob-code js-file-line">   &quot;cell_type&quot;: &quot;code&quot;,</td>
      </tr>
      <tr>
        <td id="L183" class="blob-num js-line-number" data-line-number="183"></td>
        <td id="LC183" class="blob-code js-file-line">   &quot;execution_count&quot;: 7,</td>
      </tr>
      <tr>
        <td id="L184" class="blob-num js-line-number" data-line-number="184"></td>
        <td id="LC184" class="blob-code js-file-line">   &quot;metadata&quot;: {</td>
      </tr>
      <tr>
        <td id="L185" class="blob-num js-line-number" data-line-number="185"></td>
        <td id="LC185" class="blob-code js-file-line">    &quot;collapsed&quot;: false</td>
      </tr>
      <tr>
        <td id="L186" class="blob-num js-line-number" data-line-number="186"></td>
        <td id="LC186" class="blob-code js-file-line">   },</td>
      </tr>
      <tr>
        <td id="L187" class="blob-num js-line-number" data-line-number="187"></td>
        <td id="LC187" class="blob-code js-file-line">   &quot;outputs&quot;: [],</td>
      </tr>
      <tr>
        <td id="L188" class="blob-num js-line-number" data-line-number="188"></td>
        <td id="LC188" class="blob-code js-file-line">   &quot;source&quot;: [</td>
      </tr>
      <tr>
        <td id="L189" class="blob-num js-line-number" data-line-number="189"></td>
        <td id="LC189" class="blob-code js-file-line">    &quot;KTrat=np.zeros((N,1),float)\n&quot;,</td>
      </tr>
      <tr>
        <td id="L190" class="blob-num js-line-number" data-line-number="190"></td>
        <td id="LC190" class="blob-code js-file-line">    &quot;LTrat=np.zeros((N,1),float)\n&quot;,</td>
      </tr>
      <tr>
        <td id="L191" class="blob-num js-line-number" data-line-number="191"></td>
        <td id="LC191" class="blob-code js-file-line">    &quot;LKrat=np.zeros((N,1),float)\n&quot;,</td>
      </tr>
      <tr>
        <td id="L192" class="blob-num js-line-number" data-line-number="192"></td>
        <td id="LC192" class="blob-code js-file-line">    &quot;si=np.linspace(.51,3,N)               # Not necessarily the distribution of skill - we are just plotting ratios as functions of skill\n&quot;,</td>
      </tr>
      <tr>
        <td id="L193" class="blob-num js-line-number" data-line-number="193"></td>
        <td id="LC193" class="blob-code js-file-line">    &quot;                                      # to see if we get the right relationship.&quot;</td>
      </tr>
      <tr>
        <td id="L194" class="blob-num js-line-number" data-line-number="194"></td>
        <td id="LC194" class="blob-code js-file-line">   ]</td>
      </tr>
      <tr>
        <td id="L195" class="blob-num js-line-number" data-line-number="195"></td>
        <td id="LC195" class="blob-code js-file-line">  },</td>
      </tr>
      <tr>
        <td id="L196" class="blob-num js-line-number" data-line-number="196"></td>
        <td id="LC196" class="blob-code js-file-line">  {</td>
      </tr>
      <tr>
        <td id="L197" class="blob-num js-line-number" data-line-number="197"></td>
        <td id="LC197" class="blob-code js-file-line">   &quot;cell_type&quot;: &quot;code&quot;,</td>
      </tr>
      <tr>
        <td id="L198" class="blob-num js-line-number" data-line-number="198"></td>
        <td id="LC198" class="blob-code js-file-line">   &quot;execution_count&quot;: 8,</td>
      </tr>
      <tr>
        <td id="L199" class="blob-num js-line-number" data-line-number="199"></td>
        <td id="LC199" class="blob-code js-file-line">   &quot;metadata&quot;: {</td>
      </tr>
      <tr>
        <td id="L200" class="blob-num js-line-number" data-line-number="200"></td>
        <td id="LC200" class="blob-code js-file-line">    &quot;collapsed&quot;: false</td>
      </tr>
      <tr>
        <td id="L201" class="blob-num js-line-number" data-line-number="201"></td>
        <td id="LC201" class="blob-code js-file-line">   },</td>
      </tr>
      <tr>
        <td id="L202" class="blob-num js-line-number" data-line-number="202"></td>
        <td id="LC202" class="blob-code js-file-line">   &quot;outputs&quot;: [],</td>
      </tr>
      <tr>
        <td id="L203" class="blob-num js-line-number" data-line-number="203"></td>
        <td id="LC203" class="blob-code js-file-line">   &quot;source&quot;: [</td>
      </tr>
      <tr>
        <td id="L204" class="blob-num js-line-number" data-line-number="204"></td>
        <td id="LC204" class="blob-code js-file-line">    &quot;KTrat=ktrat(si)             #MATT: no need to loop as already vectorized - JONATHAN: awesome so that&#39;s how this is done!\n&quot;,</td>
      </tr>
      <tr>
        <td id="L205" class="blob-num js-line-number" data-line-number="205"></td>
        <td id="LC205" class="blob-code js-file-line">    &quot;LTrat=ltrat(si)\n&quot;,</td>
      </tr>
      <tr>
        <td id="L206" class="blob-num js-line-number" data-line-number="206"></td>
        <td id="LC206" class="blob-code js-file-line">    &quot;LKrat=lkrat(si)&quot;</td>
      </tr>
      <tr>
        <td id="L207" class="blob-num js-line-number" data-line-number="207"></td>
        <td id="LC207" class="blob-code js-file-line">   ]</td>
      </tr>
      <tr>
        <td id="L208" class="blob-num js-line-number" data-line-number="208"></td>
        <td id="LC208" class="blob-code js-file-line">  },</td>
      </tr>
      <tr>
        <td id="L209" class="blob-num js-line-number" data-line-number="209"></td>
        <td id="LC209" class="blob-code js-file-line">  {</td>
      </tr>
      <tr>
        <td id="L210" class="blob-num js-line-number" data-line-number="210"></td>
        <td id="LC210" class="blob-code js-file-line">   &quot;cell_type&quot;: &quot;code&quot;,</td>
      </tr>
      <tr>
        <td id="L211" class="blob-num js-line-number" data-line-number="211"></td>
        <td id="LC211" class="blob-code js-file-line">   &quot;execution_count&quot;: 9,</td>
      </tr>
      <tr>
        <td id="L212" class="blob-num js-line-number" data-line-number="212"></td>
        <td id="LC212" class="blob-code js-file-line">   &quot;metadata&quot;: {</td>
      </tr>
      <tr>
        <td id="L213" class="blob-num js-line-number" data-line-number="213"></td>
        <td id="LC213" class="blob-code js-file-line">    &quot;collapsed&quot;: false</td>
      </tr>
      <tr>
        <td id="L214" class="blob-num js-line-number" data-line-number="214"></td>
        <td id="LC214" class="blob-code js-file-line">   },</td>
      </tr>
      <tr>
        <td id="L215" class="blob-num js-line-number" data-line-number="215"></td>
        <td id="LC215" class="blob-code js-file-line">   &quot;outputs&quot;: [</td>
      </tr>
      <tr>
        <td id="L216" class="blob-num js-line-number" data-line-number="216"></td>
        <td id="LC216" class="blob-code js-file-line">    {</td>
      </tr>
      <tr>
        <td id="L217" class="blob-num js-line-number" data-line-number="217"></td>
        <td id="LC217" class="blob-code js-file-line">     &quot;name&quot;: &quot;stdout&quot;,</td>
      </tr>
      <tr>
        <td id="L218" class="blob-num js-line-number" data-line-number="218"></td>
        <td id="LC218" class="blob-code js-file-line">     &quot;output_type&quot;: &quot;stream&quot;,</td>
      </tr>
      <tr>
        <td id="L219" class="blob-num js-line-number" data-line-number="219"></td>
        <td id="LC219" class="blob-code js-file-line">     &quot;text&quot;: [</td>
      </tr>
      <tr>
        <td id="L220" class="blob-num js-line-number" data-line-number="220"></td>
        <td id="LC220" class="blob-code js-file-line">      &quot;Populating the interactive namespace from numpy and matplotlib\n&quot;</td>
      </tr>
      <tr>
        <td id="L221" class="blob-num js-line-number" data-line-number="221"></td>
        <td id="LC221" class="blob-code js-file-line">     ]</td>
      </tr>
      <tr>
        <td id="L222" class="blob-num js-line-number" data-line-number="222"></td>
        <td id="LC222" class="blob-code js-file-line">    },</td>
      </tr>
      <tr>
        <td id="L223" class="blob-num js-line-number" data-line-number="223"></td>
        <td id="LC223" class="blob-code js-file-line">    {</td>
      </tr>
      <tr>
        <td id="L224" class="blob-num js-line-number" data-line-number="224"></td>
        <td id="LC224" class="blob-code js-file-line">     &quot;data&quot;: {</td>
      </tr>
      <tr>
        <td id="L225" class="blob-num js-line-number" data-line-number="225"></td>
        <td id="LC225" class="blob-code js-file-line">      &quot;image/png&quot;: [</td>
      </tr>
      <tr>
        <td id="L226" class="blob-num js-line-number" data-line-number="226"></td>
        <td id="LC226" class="blob-code js-file-line">       &quot;iVBORw0KGgoAAAANSUhEUgAAAXQAAAEPCAYAAABShj9RAAAABHNCSVQICAgIfAhkiAAAAAlwSFlz\n&quot;,</td>
      </tr>
      <tr>
        <td id="L227" class="blob-num js-line-number" data-line-number="227"></td>
        <td id="LC227" class="blob-code js-file-line">       &quot;AAALEgAACxIB0t1+/AAAIABJREFUeJzt3Xd4FVX6wPHvmwIpJCEhlAApVCkqRVFpEoqIiIryQ+kg\n&quot;,</td>
      </tr>
      <tr>
        <td id="L228" class="blob-num js-line-number" data-line-number="228"></td>
        <td id="LC228" class="blob-code js-file-line">       &quot;Kq67uurquoKF6NrWvrrqsipgWVgUUZoFBYIgKohIkyIQSAwdQkgh/fz+mJtwk9wUbnLvTXk/zzNP\n&quot;,</td>
      </tr>
      <tr>
        <td id="L229" class="blob-num js-line-number" data-line-number="229"></td>
        <td id="LC229" class="blob-code js-file-line">       &quot;5s6ZOfPOEN47OTNzjhhjUEopVft5eToApZRS1UMTulJK1RGa0JVSqo7QhK6UUnWEJnSllKojNKEr\n&quot;,</td>
      </tr>
      <tr>
        <td id="L230" class="blob-num js-line-number" data-line-number="230"></td>
        <td id="LC230" class="blob-code js-file-line">       &quot;pVQdUW5CF5HZInJURLY5KHtARApEJMx14SmllKqsiq7Q5wDDSi4UkUjgKuCgK4JSSil1/spN6MaY\n&quot;,</td>
      </tr>
      <tr>
        <td id="L231" class="blob-num js-line-number" data-line-number="231"></td>
        <td id="LC231" class="blob-code js-file-line">       &quot;tUCKg6KXgYdcEpFSSimnnHcbuojcAPxujNnqgniUUko5yed8VhaRAGAGVnNL0eJqjUgppZRTziuh\n&quot;,</td>
      </tr>
      <tr>
        <td id="L232" class="blob-num js-line-number" data-line-number="232"></td>
        <td id="LC232" class="blob-code js-file-line">       &quot;A+2AGGCLiAC0BjaJyGXGmGP2K4qIdhKjlFJOMMY4daF8Xk0uxphtxpjmxpg2xpg2wO9Az5LJ3G59\n&quot;,</td>
      </tr>
      <tr>
        <td id="L233" class="blob-num js-line-number" data-line-number="233"></td>
        <td id="LC233" class="blob-code js-file-line">       &quot;nYxh5syZHo+hpkx6LvRc6Lkof6qKih5bnA+sBzqKSJKI3FoyZ1dp70oppapNuU0uxpixFZS3rd5w\n&quot;,</td>
      </tr>
      <tr>
        <td id="L234" class="blob-num js-line-number" data-line-number="234"></td>
        <td id="LC234" class="blob-code js-file-line">       &quot;lFJKOUvfFHWD2NhYT4dQY+i5OEfPxTl6LqqHVLXNpsyKRYyr6lZKqbpKRDBO3hQ936dclKp3bE90\n&quot;,</td>
      </tr>
      <tr>
        <td id="L235" class="blob-num js-line-number" data-line-number="235"></td>
        <td id="LC235" class="blob-code js-file-line">       &quot;KVXtqvuiVxO6UpWgf22q6uaKCwVtQ1dKqTpCE7pSStURmtCVUqqO0ISulCpl7dq1dOrUyentp0yZ\n&quot;,</td>
      </tr>
      <tr>
        <td id="L236" class="blob-num js-line-number" data-line-number="236"></td>
        <td id="LC236" class="blob-code js-file-line">       &quot;wmOPPeawbO7cufTv39/pup3db3VITEwkKCioxt5T0YSulCqlf//+7Nq1q+hzTEwMq1atqvT2IuKR\n&quot;,</td>
      </tr>
      <tr>
        <td id="L237" class="blob-num js-line-number" data-line-number="237"></td>
        <td id="LC237" class="blob-code js-file-line">       &quot;p4Oqe78ljzsqKoq0tLQa++STJnSlVIVsz0af1zaeuoqt7H7z8/MrXMeZ4/YkTehK1XJJSUncdNNN\n&quot;,</td>
      </tr>
      <tr>
        <td id="L238" class="blob-num js-line-number" data-line-number="238"></td>
        <td id="LC238" class="blob-code js-file-line">       &quot;NGvWjPDwcO655x4A9u3bx6BBgwgPD6dp06ZMmDCB1NTUou1iYmJ47rnn6Nq1K2FhYUydOpXs7GwA\n&quot;,</td>
      </tr>
      <tr>
        <td id="L239" class="blob-num js-line-number" data-line-number="239"></td>
        <td id="LC239" class="blob-code js-file-line">       &quot;4uPjiYyMBGDixIkkJiZy3XXXERQUxIsvvgjA6NGjiYiIoHHjxgwYMIBff/3VqfjvvfdeoqKiCAkJ\n&quot;,</td>
      </tr>
      <tr>
        <td id="L240" class="blob-num js-line-number" data-line-number="240"></td>
        <td id="LC240" class="blob-code js-file-line">       &quot;4dJLL2XdunVFZXFxcdx8881MnjyZ4OBgLrzwQjZt2lRUvnnzZnr27ElwcDBjxowhKyurzP3MnTuX\n&quot;,</td>
      </tr>
      <tr>
        <td id="L241" class="blob-num js-line-number" data-line-number="241"></td>
        <td id="LC241" class="blob-code js-file-line">       &quot;vn378pe//IXw8HCeeOIJ9u/fX+Y5cnTcBw4cwMvLi4KCAgAOHTrE9ddfT5MmTejQoQPvvPOOU+eg\n&quot;,</td>
      </tr>
      <tr>
        <td id="L242" class="blob-num js-line-number" data-line-number="242"></td>
        <td id="LC242" class="blob-code js-file-line">       &quot;umhCV6oWy8/PZ8SIEbRp04aDBw+SnJzMmDFjisofeeQRDh8+zM6dO0lKSiIuLq7Y9vPmzWPFihXs\n&quot;,</td>
      </tr>
      <tr>
        <td id="L243" class="blob-num js-line-number" data-line-number="243"></td>
        <td id="LC243" class="blob-code js-file-line">       &quot;27ePPXv28NRTT5XaxwcffEBUVBTLli0jLS2NBx98EIBrr72WvXv3cvz4cXr27Mn48eOdOobLLruM\n&quot;,</td>
      </tr>
      <tr>
        <td id="L244" class="blob-num js-line-number" data-line-number="244"></td>
        <td id="LC244" class="blob-code js-file-line">       &quot;LVu2kJKSwrhx4xg9ejQ5OTlF5UuXLmXs2LGkpqZy/fXXc/fddwOQk5PDyJEjmTx5MikpKYwePZpP\n&quot;,</td>
      </tr>
      <tr>
        <td id="L245" class="blob-num js-line-number" data-line-number="245"></td>
        <td id="LC245" class="blob-code js-file-line">       &quot;Pvmk3OaQDRs20K5dO44dO8aMGTMwxpR5jso6bntjxowhKiqKw4cPs3DhQmbMmMHq1audOg/VwoVd\n&quot;,</td>
      </tr>
      <tr>
        <td id="L246" class="blob-num js-line-number" data-line-number="246"></td>
        <td id="LC246" class="blob-code js-file-line">       &quot;QJrUrFSjVG1n/Tcp38zVMw1xlJpmrp5Z6fXLWrc869evN02bNjX5+fkVrvvpp5+aHj16FH2OiYkx\n&quot;,</td>
      </tr>
      <tr>
        <td id="L247" class="blob-num js-line-number" data-line-number="247"></td>
        <td id="LC247" class="blob-code js-file-line">       &quot;s2bNKvr8+eefm3bt2hljjFm9erVp3bp1sXVXrlxZZt0pKSlGRMyZM2eMMcZMmTLFPProow7XnTNn\n&quot;,</td>
      </tr>
      <tr>
        <td id="L248" class="blob-num js-line-number" data-line-number="248"></td>
        <td id="LC248" class="blob-code js-file-line">       &quot;junXr1+ZdYWGhpqtW7caY4yZOXOmueqqq4rKduzYYfz9/Y0xxqxZs8a0bNmy2LZ9+vQxjz32WJn7\n&quot;,</td>
      </tr>
      <tr>
        <td id="L249" class="blob-num js-line-number" data-line-number="249"></td>
        <td id="LC249" class="blob-code js-file-line">       &quot;jYqKKnO/xjg+R/bHnZCQYETE5Ofnm8TEROPt7W3S09OLyqdPn26mTJlS7j4KlfV7ZVvuVN516Zui\n&quot;,</td>
      </tr>
      <tr>
        <td id="L250" class="blob-num js-line-number" data-line-number="250"></td>
        <td id="LC250" class="blob-code js-file-line">       &quot;249tp09kH1fuQqkaIS42jrjYOJetX5akpCSio6Px8ir9x/bRo0e59957WbduHWlpaRQUFBAWFlZs\n&quot;,</td>
      </tr>
      <tr>
        <td id="L251" class="blob-num js-line-number" data-line-number="251"></td>
        <td id="LC251" class="blob-code js-file-line">       &quot;ncJmFbBu+B06dKhS+y0oKGDGjBksXLiQ48ePF+3/xIkTBAUFndcxvPjii8yePZtDhw4hIpw5c4YT\n&quot;,</td>
      </tr>
      <tr>
        <td id="L252" class="blob-num js-line-number" data-line-number="252"></td>
        <td id="LC252" class="blob-code js-file-line">       &quot;J04UlTdv3rxoPiAggKysLAoKCjh06BCtWrUqVld0dHS5bd72xwuVO0dlOXToEGFhYQQGBhYti4qK\n&quot;,</td>
      </tr>
      <tr>
        <td id="L253" class="blob-num js-line-number" data-line-number="253"></td>
        <td id="LC253" class="blob-code js-file-line">       &quot;4qeffqrU9q7g0iaXbUe3ubJ6peq9yMhIEhMTHd7gmzFjBt7e3mzfvp3U1FQ++OCDorbfQomJicXm\n&quot;,</td>
      </tr>
      <tr>
        <td id="L254" class="blob-num js-line-number" data-line-number="254"></td>
        <td id="LC254" class="blob-code js-file-line">       &quot;W7Zs6XA/JZsx/vvf/7JkyRJWrlxJamoqCQkJwPnfCF27di0vvPACH3/8MadPnyYlJYWQkJBK1RMR\n&quot;,</td>
      </tr>
      <tr>
        <td id="L255" class="blob-num js-line-number" data-line-number="255"></td>
        <td id="LC255" class="blob-code js-file-line">       &quot;EUFycnKxZQcPHiy3yaVkWUXnqLy6WrZsyalTp0hPTy9alpiYSOvWrSuM3VVcm9CPaUJXypUuv/xy\n&quot;,</td>
      </tr>
      <tr>
        <td id="L256" class="blob-num js-line-number" data-line-number="256"></td>
        <td id="LC256" class="blob-code js-file-line">       &quot;IiIiePjhh8nMzCQrK4v169cDkJ6eTmBgIMHBwSQnJ/PCCy8U29YYw5tvvklycjKnTp3i6aefLtb+\n&quot;,</td>
      </tr>
      <tr>
        <td id="L257" class="blob-num js-line-number" data-line-number="257"></td>
        <td id="LC257" class="blob-code js-file-line">       &quot;bq958+bs27ev6HN6ejoNGzYkLCyMjIwMZsyYUaruykhLS8PHx4fw8HBycnJ48sknOXPmTKW27d27\n&quot;,</td>
      </tr>
      <tr>
        <td id="L258" class="blob-num js-line-number" data-line-number="258"></td>
        <td id="LC258" class="blob-code js-file-line">       &quot;Nz4+Prz22mvk5uayaNEiNm7cWKlt7Y+jvHNU8rjtRUZG0qdPH6ZPn052djZbt25l9uzZTJgw4bxi\n&quot;,</td>
      </tr>
      <tr>
        <td id="L259" class="blob-num js-line-number" data-line-number="259"></td>
        <td id="LC259" class="blob-code js-file-line">       &quot;qE4uTejjLhrnyuqVqve8vLxYunQpe/fuJSoqisjISD766CMAZs6cyc8//0xISAjXXXcdo0aNKnbF\n&quot;,</td>
      </tr>
      <tr>
        <td id="L260" class="blob-num js-line-number" data-line-number="260"></td>
        <td id="LC260" class="blob-code js-file-line">       &quot;KSKMGzeOoUOH0q5dOzp06MCjjz5arLzQ9OnTeeqppwgNDeXll19m0qRJREdH06pVKy688EJ69+5d\n&quot;,</td>
      </tr>
      <tr>
        <td id="L261" class="blob-num js-line-number" data-line-number="261"></td>
        <td id="LC261" class="blob-code js-file-line">       &quot;qu6yrm7ty4YNG8awYcPo2LEjMTEx+Pv7ExUVVW49hZ8bNGjAokWLmDt3Lk2aNOGjjz5i1KhRZZ4r\n&quot;,</td>
      </tr>
      <tr>
        <td id="L262" class="blob-num js-line-number" data-line-number="262"></td>
        <td id="LC262" class="blob-code js-file-line">       &quot;R3VVdI5KHnfJ8zJ//nwOHDhAy5Ytuemmm3jyyScZNGhQmTG4mvaHrlQFatuzyJXVpk0b3n33XY8m\n&quot;,</td>
      </tr>
      <tr>
        <td id="L263" class="blob-num js-line-number" data-line-number="263"></td>
        <td id="LC263" class="blob-code js-file-line">       &quot;oPqsrN+rqvSHro8tKqVUHaEJXSml6ghtclGqAnW1yUV5lja5KKWUKpNLE/qB0weY9OkkV+5CKaWU\n&quot;,</td>
      </tr>
      <tr>
        <td id="L264" class="blob-num js-line-number" data-line-number="264"></td>
        <td id="LC264" class="blob-code js-file-line">       &quot;TYUJXURmi8hREdlmt+wFEdkpIltEZJGIhDjaNjwgnIW/LiS/oOJezZRSSlVNZa7Q5wDDSixbAXQ1\n&quot;,</td>
      </tr>
      <tr>
        <td id="L265" class="blob-num js-line-number" data-line-number="265"></td>
        <td id="LC265" class="blob-code js-file-line">       &quot;xnQD9gDTHW3YqEEjIoIi2Htqb9WiVEopVaEKE7oxZi2QUmLZ18aYwvdjfwTKfNf1omYX6RujSinl\n&quot;,</td>
      </tr>
      <tr>
        <td id="L266" class="blob-num js-line-number" data-line-number="266"></td>
        <td id="LC266" class="blob-code js-file-line">       &quot;BtXRhj4V+LyswgubXah9uijlQjExMaxcubJS63p5ebF//36XxGHfh3p1i4uLY+LEiS6pu1BQUBAH\n&quot;,</td>
      </tr>
      <tr>
        <td id="L267" class="blob-num js-line-number" data-line-number="267"></td>
        <td id="LC267" class="blob-code js-file-line">       &quot;Dhxw6T5crUq9LYrII0COMWaeo/K4uDh2HdvFjmM7GCgDiY2NrcrulFIOeGq4N3eq7uOLjY1l4sSJ\n&quot;,</td>
      </tr>
      <tr>
        <td id="L268" class="blob-num js-line-number" data-line-number="268"></td>
        <td id="LC268" class="blob-code js-file-line">       &quot;3HbbbUXL0tLSqnUflRUfH098fHy11OV0QheRKcBwYHBZ68TFxXEm+wyns04TFRJV1mpKqVomLy8P\n&quot;,</td>
      </tr>
      <tr>
        <td id="L269" class="blob-num js-line-number" data-line-number="269"></td>
        <td id="LC269" class="blob-code js-file-line">       &quot;Hx+X9r7ttMrEVpO+AGNjY4td7D7xxBNO1+VUk4uIDAP+CtxgjCl7zCcguGGwJnOl3GTDhg307t2b\n&quot;,</td>
      </tr>
      <tr>
        <td id="L270" class="blob-num js-line-number" data-line-number="270"></td>
        <td id="LC270" class="blob-code js-file-line">       &quot;0NBQWrZsyT333ENubm6xdZYvX067du1o2rQpDz30UNHLLcYYnnrqKWJiYmjevDmTJ08u6vmwcOi1\n&quot;,</td>
      </tr>
      <tr>
        <td id="L271" class="blob-num js-line-number" data-line-number="271"></td>
        <td id="LC271" class="blob-code js-file-line">       &quot;2bNnEx0dzZAhQyqM5bnnnqN9+/YEBwfTtWtXPvvss6KyuXPn0q9fP/76178SFhZG27Zt+fLLL4vK\n&quot;,</td>
      </tr>
      <tr>
        <td id="L272" class="blob-num js-line-number" data-line-number="272"></td>
        <td id="LC272" class="blob-code js-file-line">       &quot;ExISGDBgAMHBwQwdOrRY/+glxcfH07p1a55//nkiIiK47bbbOH36NCNGjKBZs2aEhYVx3XXXFXW1\n&quot;,</td>
      </tr>
      <tr>
        <td id="L273" class="blob-num js-line-number" data-line-number="273"></td>
        <td id="LC273" class="blob-code js-file-line">       &quot;+8gjj7B27VruvvtugoKC+POf/wwUb45KTU1l0qRJNGvWjJiYGJ5++una8XJZRSNgAPOBQ0AOkITV\n&quot;,</td>
      </tr>
      <tr>
        <td id="L274" class="blob-num js-line-number" data-line-number="274"></td>
        <td id="LC274" class="blob-code js-file-line">       &quot;Zv4bcBDYbJvedLBdpUbtUKqmq+m/y/aj6mzatMn8+OOPJj8/3xw4cMB07tzZvPrqq0XriogZNGiQ\n&quot;,</td>
      </tr>
      <tr>
        <td id="L275" class="blob-num js-line-number" data-line-number="275"></td>
        <td id="LC275" class="blob-code js-file-line">       &quot;SUlJMYmJiaZjx47mnXfeMcYY8+6775r27dubhIQEk56ebm666SYzceJEY8y5kXomT55sMjMzTVZW\n&quot;,</td>
      </tr>
      <tr>
        <td id="L276" class="blob-num js-line-number" data-line-number="276"></td>
        <td id="LC276" class="blob-code js-file-line">       &quot;Vqk4So5y9PHHH5vDhw8bY4xZsGCBCQwMNEeOHDHGWKMH+fr6mnfeeccUFBSYt956q9joQ1dccYV5\n&quot;,</td>
      </tr>
      <tr>
        <td id="L277" class="blob-num js-line-number" data-line-number="277"></td>
        <td id="LC277" class="blob-code js-file-line">       &quot;4IEHTE5Ojvn2229NUFBQUSyO9uvj42Mefvhhk5OTY86ePWtOnjxpFi1aZM6ePWvS0tLM6NGjzciR\n&quot;,</td>
      </tr>
      <tr>
        <td id="L278" class="blob-num js-line-number" data-line-number="278"></td>
        <td id="LC278" class="blob-code js-file-line">       &quot;I4u2iY2NNe+++26xekTE7Nu3zxhjzMSJE83IkSNNenq6OXDggOnYsWOp9auqrN8rqjBikUuHoFOq\n&quot;,</td>
      </tr>
      <tr>
        <td id="L279" class="blob-num js-line-number" data-line-number="279"></td>
        <td id="LC279" class="blob-code js-file-line">       &quot;LqjM7zJUz+SM8oaHe+WVV8yNN95Y9FlEzFdffVX0+c033zSDBw82xhgzaNAg89ZbbxWV7d692/j6\n&quot;,</td>
      </tr>
      <tr>
        <td id="L280" class="blob-num js-line-number" data-line-number="280"></td>
        <td id="LC280" class="blob-code js-file-line">       &quot;+pr8/PyihJ6QkFBmHCUTekndu3c3ixcvNsZYCb19+/ZFZRkZGUZEzNGjR83BgweNj4+PyczMLCof\n&quot;,</td>
      </tr>
      <tr>
        <td id="L281" class="blob-num js-line-number" data-line-number="281"></td>
        <td id="LC281" class="blob-code js-file-line">       &quot;N26cmTBhQpn7bdCggcnOzi5z35s3bzahoaFFn2NjY4u+yAoVJvS8vDzToEEDs3PnzqKyWbNmmdjY\n&quot;,</td>
      </tr>
      <tr>
        <td id="L282" class="blob-num js-line-number" data-line-number="282"></td>
        <td id="LC282" class="blob-code js-file-line">       &quot;2DLrd4YrErq++q9UNaiulF5Ve/bsYcSIEURERBASEsIjjzzCyZMni61T1rBzhw8fJjo6ulhZXl4e\n&quot;,</td>
      </tr>
      <tr>
        <td id="L283" class="blob-num js-line-number" data-line-number="283"></td>
        <td id="LC283" class="blob-code js-file-line">       &quot;R48edbhtRd5//3169OhBaGgooaGhbN++vVgsLVq0KJoPCAgArAEnDh06RGhoKP7+/kXl9nE50rRp\n&quot;,</td>
      </tr>
      <tr>
        <td id="L284" class="blob-num js-line-number" data-line-number="284"></td>
        <td id="LC284" class="blob-code js-file-line">       &quot;Uxo0aFD0OTMzkzvvvJOYmBhCQkIYMGAAqampxZpNympHP3HiBLm5uaXORcnRkWoityX0AlNQ8UpK\n&quot;,</td>
      </tr>
      <tr>
        <td id="L285" class="blob-num js-line-number" data-line-number="285"></td>
        <td id="LC285" class="blob-code js-file-line">       &quot;qSq566676NKlC3v37iU1NZWnn366wmHnCsflbNmyZbHH9hITE/Hx8Sk2pmdlbyYePHiQadOm8cYb\n&quot;,</td>
      </tr>
      <tr>
        <td id="L286" class="blob-num js-line-number" data-line-number="286"></td>
        <td id="LC286" class="blob-code js-file-line">       &quot;b3Dq1ClSUlK48MILKz20XEpKCpmZmcXqO5+h5V566SX27NnDhg0bSE1NZc2aNfatB+XWFR4ejq+v\n&quot;,</td>
      </tr>
      <tr>
        <td id="L287" class="blob-num js-line-number" data-line-number="287"></td>
        <td id="LC287" class="blob-code js-file-line">       &quot;b6lz4cmh5SrLLQm9wBTQ8qWWpGV75rEgpeqL9PR0goKCCAgIYNeuXbz11lul1nnxxRc5ffo0SUlJ\n&quot;,</td>
      </tr>
      <tr>
        <td id="L288" class="blob-num js-line-number" data-line-number="288"></td>
        <td id="LC288" class="blob-code js-file-line">       &quot;vPbaa9xyyy0AjB07lldeeYUDBw6Qnp7OjBkzGDNmjMMBqCuSkZGBiBAeHk5BQQFz5sxh+/btldo2\n&quot;,</td>
      </tr>
      <tr>
        <td id="L289" class="blob-num js-line-number" data-line-number="289"></td>
        <td id="LC289" class="blob-code js-file-line">       &quot;OjqaSy+9lJkzZ5Kbm8u6detYtmzZee0/PT0df39/QkJCOHXqVKknR8obWs7b25ubb76ZRx55hPT0\n&quot;,</td>
      </tr>
      <tr>
        <td id="L290" class="blob-num js-line-number" data-line-number="290"></td>
        <td id="LC290" class="blob-code js-file-line">       &quot;dA4ePMgrr7zi0aHlKsstCd1LvIhuHM0vR35xx+6UqrdefPFF5s2bR3BwMNOmTWPMmDGlrkZvuOEG\n&quot;,</td>
      </tr>
      <tr>
        <td id="L291" class="blob-num js-line-number" data-line-number="291"></td>
        <td id="LC291" class="blob-code js-file-line">       &quot;LrnkEnr06MGIESOYOnUqAFOnTmXixIlceeWVtG3bloCAAF5//fWi7SpzdV64TpcuXXjggQfo3bs3\n&quot;,</td>
      </tr>
      <tr>
        <td id="L292" class="blob-num js-line-number" data-line-number="292"></td>
        <td id="LC292" class="blob-code js-file-line">       &quot;LVq0YPv27fTr16/YemUNLQcwb948fvzxR8LCwnjyySeZPHlypfZb6L777uPs2bOEh4fTp08frrnm\n&quot;,</td>
      </tr>
      <tr>
        <td id="L293" class="blob-num js-line-number" data-line-number="293"></td>
        <td id="LC293" class="blob-code js-file-line">       &quot;mmLr3HvvvSxcuJCwsDDuu+++UvW9/vrrBAYG0rZtW/r378/48eO59dZbKzx+T3Nbf+h/Wv4n2oe1\n&quot;,</td>
      </tr>
      <tr>
        <td id="L294" class="blob-num js-line-number" data-line-number="294"></td>
        <td id="LC294" class="blob-code js-file-line">       &quot;5/7e97tkf0q5ivaHrlyhVveHfknLS9h0eJO7dqeUUvWOSxN6dva5+UtbXspPh35y5e6UUqpec2lC\n&quot;,</td>
      </tr>
      <tr>
        <td id="L295" class="blob-num js-line-number" data-line-number="295"></td>
        <td id="LC295" class="blob-code js-file-line">       &quot;32bXJ1eXpl1IyUrhbO5ZV+5SKaXqLZcm9E12LSw+Xj4cfuAw/r7+ZW+glFLKaS5N6D+VaGHxEn2P\n&quot;,</td>
      </tr>
      <tr>
        <td id="L296" class="blob-num js-line-number" data-line-number="296"></td>
        <td id="LC296" class="blob-code js-file-line">       &quot;SSmlXMVtV+hKKaVcy6UJfdcuyCq3L0allFLVxaUJvUOH4jdGlVJKuY5LE/oll5Rudkk+k8yxjGOu\n&quot;,</td>
      </tr>
      <tr>
        <td id="L297" class="blob-num js-line-number" data-line-number="297"></td>
        <td id="LC297" class="blob-code js-file-line">       &quot;3K1S9UpNGYLOVe666y6eeuopp7d39TE/++yz3HHHHS6r/3y4dMiRSy8tndBfXP8izQKbMb3/dFfu\n&quot;,</td>
      </tr>
      <tr>
        <td id="L298" class="blob-num js-line-number" data-line-number="298"></td>
        <td id="LC298" class="blob-code js-file-line">       &quot;Wql6o64PQWffH018fDwTJ04kKSnJI7E42v/06TUnl7n8Cr3kky59IvvwXdJ3rtytUsrF8vLyPB1C\n&quot;,</td>
      </tr>
      <tr>
        <td id="L299" class="blob-num js-line-number" data-line-number="299"></td>
        <td id="LC299" class="blob-code js-file-line">       &quot;tbPvjbG2cmlCv/hi2L27+I3RvlF9WZ+0XrvTVcoFPD0E3eLFi+nevTshISG0b9+er776CoA5c+bQ\n&quot;,</td>
      </tr>
      <tr>
        <td id="L300" class="blob-num js-line-number" data-line-number="300"></td>
        <td id="LC300" class="blob-code js-file-line">       &quot;pUsXgoODadeuHf/5z3+KtikcQu7ZZ5+ladOmtGnThnnzzo07P2XKFB577DEyMzO55pprOHToEEFB\n&quot;,</td>
      </tr>
      <tr>
        <td id="L301" class="blob-num js-line-number" data-line-number="301"></td>
        <td id="LC301" class="blob-code js-file-line">       &quot;QQQHB3PkyJFKHXNZYmNjefTRR+nbty+BgYHs37+/zFgzMjJK7f/w4cPExcUxceLEojqXLFlC165d\n&quot;,</td>
      </tr>
      <tr>
        <td id="L302" class="blob-num js-line-number" data-line-number="302"></td>
        <td id="LC302" class="blob-code js-file-line">       &quot;CQ0NZeDAgezatatSsVQLZ0fGqGjCNhpHt27GbNhQfESOmFdjzI5jO85rdA+lPAVnhxJyk5oyBN2P\n&quot;,</td>
      </tr>
      <tr>
        <td id="L303" class="blob-num js-line-number" data-line-number="303"></td>
        <td id="LC303" class="blob-code js-file-line">       &quot;P/5oQkJCzDfffGOMMSY5Odns2rXLGGPM8uXLzf79+40xxqxZs8YEBASYn3/+2Rhzbgi5wiHn1qxZ\n&quot;,</td>
      </tr>
      <tr>
        <td id="L304" class="blob-num js-line-number" data-line-number="304"></td>
        <td id="LC304" class="blob-code js-file-line">       &quot;YwIDA82ePXuMMcZMmTLFPPbYY8YYY+Lj40uNilSZYy4cWq6kAQMGmOjoaPPrr7+a/Px8k5ubW26s\n&quot;,</td>
      </tr>
      <tr>
        <td id="L305" class="blob-num js-line-number" data-line-number="305"></td>
        <td id="LC305" class="blob-code js-file-line">       &quot;jvYfFxdXNJrS7t27TWBgoPnmm29MXl6eef7550379u1NTk5OqX2X9XtFTR6xyFGzS9/IvnyXqM0u\n&quot;,</td>
      </tr>
      <tr>
        <td id="L306" class="blob-num js-line-number" data-line-number="306"></td>
        <td id="LC306" class="blob-code js-file-line">       &quot;qg4RqZ6pinr27Mlll12Gl5cX0dHRTJs2jTVr1hRb529/+xuNGzcmMjKS++67j/nz5wPw3//+lwce\n&quot;,</td>
      </tr>
      <tr>
        <td id="L307" class="blob-num js-line-number" data-line-number="307"></td>
        <td id="LC307" class="blob-code js-file-line">       &quot;eICYmBgCAwN59tln+d///ldsgIy4uDj8/f1p2LBhqX2/++673HbbbQwePBiwBsy44IILABg+fDht\n&quot;,</td>
      </tr>
      <tr>
        <td id="L308" class="blob-num js-line-number" data-line-number="308"></td>
        <td id="LC308" class="blob-code js-file-line">       &quot;2rQB4Morr2To0KGsXbu22PZ///vf8fX15corr+Taa69lwYIFRWXG7q8IZ465LCLClClT6Ny5M15e\n&quot;,</td>
      </tr>
      <tr>
        <td id="L309" class="blob-num js-line-number" data-line-number="309"></td>
        <td id="LC309" class="blob-code js-file-line">       &quot;Xvj4+JQbq6P92y9bsGABI0aMYPDgwXh7e/Pggw9y9uxZ1q9fX6l4qsotCb3kjdEbO91IQ5/SvxBK\n&quot;,</td>
      </tr>
      <tr>
        <td id="L310" class="blob-num js-line-number" data-line-number="310"></td>
        <td id="LC310" class="blob-code js-file-line">       &quot;1Vo1ZAw6Tw5B9/vvv9OuXTuHZV988QVXXHEFTZo0ITQ0lM8//7xYXI6GnDt8+HC1HXN5Sh5TRbGW\n&quot;,</td>
      </tr>
      <tr>
        <td id="L311" class="blob-num js-line-number" data-line-number="311"></td>
        <td id="LC311" class="blob-code js-file-line">       &quot;59ChQ0RFRRV9FhEiIyOLzrGruTyhO3rSZVSXUUzqNsnVu1aq3vHkEHSRkZHs3bu31PLs7GxGjRrF\n&quot;,</td>
      </tr>
      <tr>
        <td id="L312" class="blob-num js-line-number" data-line-number="312"></td>
        <td id="LC312" class="blob-code js-file-line">       &quot;Qw89xLFjx0hJSWH48OHFrmwdDTnXsmXLUvt1tP/KHHN57OusKNaKniZq1aoVBw8eLPpsjCEpKano\n&quot;,</td>
      </tr>
      <tr>
        <td id="L313" class="blob-num js-line-number" data-line-number="313"></td>
        <td id="LC313" class="blob-code js-file-line">       &quot;HLuayxN64Y3Rs9rJolIu58kh6G677TbmzJnDqlWrKCgoIDk5md27d5OTk0NOTg7h4eF4eXnxxRdf\n&quot;,</td>
      </tr>
      <tr>
        <td id="L314" class="blob-num js-line-number" data-line-number="314"></td>
        <td id="LC314" class="blob-code js-file-line">       &quot;sGLFilLbFw45t3btWpYvX87o0aOB4k+fNG/enJMnTxbdrK3sMZfH/oulolgd7d/e6NGjWb58OatW\n&quot;,</td>
      </tr>
      <tr>
        <td id="L315" class="blob-num js-line-number" data-line-number="315"></td>
        <td id="LC315" class="blob-code js-file-line">       &quot;rSI3N5eXXnoJPz8/+vTpc14xOcvlCd3PDy68sHQ7ulKq+nlyCLpevXoxZ84c7r//fho3bkxsbCyJ\n&quot;,</td>
      </tr>
      <tr>
        <td id="L316" class="blob-num js-line-number" data-line-number="316"></td>
        <td id="LC316" class="blob-code js-file-line">       &quot;iYkEBQXx2muvcfPNNxMWFsb8+fO54YYbim3bokWLoqdUJk6cyKxZs+jYsWPRfgv33alTJ8aOHUvb\n&quot;,</td>
      </tr>
      <tr>
        <td id="L317" class="blob-num js-line-number" data-line-number="317"></td>
        <td id="LC317" class="blob-code js-file-line">       &quot;tm0JCwvjyJEjFR5zRXHbl1cUa8n9Hz58uFh8F1xwAR9++CH33HMPTZs2Zfny5SxduhQfH5e+8nPu\n&quot;,</td>
      </tr>
      <tr>
        <td id="L318" class="blob-num js-line-number" data-line-number="318"></td>
        <td id="LC318" class="blob-code js-file-line">       &quot;WBw18hcViswGrgWOGWMusi0LAxYA0cAB4GZjzGkH25rCuu+/H5o1gxr0/L1SlaZD0LmWp18W8hRP\n&quot;,</td>
      </tr>
      <tr>
        <td id="L319" class="blob-num js-line-number" data-line-number="319"></td>
        <td id="LC319" class="blob-code js-file-line">       &quot;DEE3BxhWYtnDwNfGmI7AStvncvXtC9/pQy1KKeVS5SZ0Y8xaIKXE4uuB92zz7wEjK9pJ376wfj2U\n&quot;,</td>
      </tr>
      <tr>
        <td id="L320" class="blob-num js-line-number" data-line-number="320"></td>
        <td id="LC320" class="blob-code js-file-line">       &quot;vE/xj3X/0BGMlFJ1uusCd3KmDb25MabwOaajQPPyVgaIiIDQUKs7XXsLdy7UcUaVqucK29pV1VWp\n&quot;,</td>
      </tr>
      <tr>
        <td id="L321" class="blob-num js-line-number" data-line-number="321"></td>
        <td id="LC321" class="blob-code js-file-line">       &quot;pb7wLayyyuPi4orm27WL5bvvYunS5Vx538i+fJf0Hf2j+1clDKWUqrXi4+OJj4+vlrrKvSkKICIx\n&quot;,</td>
      </tr>
      <tr>
        <td id="L322" class="blob-num js-line-number" data-line-number="322"></td>
        <td id="LC322" class="blob-code js-file-line">       &quot;wFK7m6K7gFhjzBERiQBWG2M6OdjO2Nc9axZ8/z3MnXtunY93fMx7W95j2bhlVT8SpVxEb4oqV/DE\n&quot;,</td>
      </tr>
      <tr>
        <td id="L323" class="blob-num js-line-number" data-line-number="323"></td>
        <td id="LC323" class="blob-code js-file-line">       &quot;TVFHlgCTbfOTgc8qs1HfvrBuXfFlsTGxrE1cS15B3eu5TSml3K3cJhcRmQ8MAMJFJAl4HHgO+EhE\n&quot;,</td>
      </tr>
      <tr>
        <td id="L324" class="blob-num js-line-number" data-line-number="324"></td>
        <td id="LC324" class="blob-code js-file-line">       &quot;bsP22GJldtSlC5w8CUePQuGLZ00DmxLTOIaNyRvpHdnb+aNQysX0pp2qDSpscnG64hJNLgDDh8Pt\n&quot;,</td>
      </tr>
      <tr>
        <td id="L325" class="blob-num js-line-number" data-line-number="325"></td>
        <td id="LC325" class="blob-code js-file-line">       &quot;t8NNN51bFn8gng5hHWgV7J5XY5VSqiZzd5OL0xw9jx4bE6vJXCmlqoFbE3q/fvqCkVJKuYpbm1wy\n&quot;,</td>
      </tr>
      <tr>
        <td id="L326" class="blob-num js-line-number" data-line-number="326"></td>
        <td id="LC326" class="blob-code js-file-line">       &quot;M6FpUzh+HAICXLJbpZSq1WpNk0tAgNVR18aN7tyrUkrVD25N6AD9+0MlBxNRSil1Htye0IcMgZUr\n&quot;,</td>
      </tr>
      <tr>
        <td id="L327" class="blob-num js-line-number" data-line-number="327"></td>
        <td id="LC327" class="blob-code js-file-line">       &quot;iy8zxtDt3904dfaUu8NRSqk6wyNX6Js2QXr6uWUiQkSjCOIPxLs7HKWUqjPcntADA61xRkuMD8uQ\n&quot;,</td>
      </tr>
      <tr>
        <td id="L328" class="blob-num js-line-number" data-line-number="328"></td>
        <td id="LC328" class="blob-code js-file-line">       &quot;tkNYuX+l442UUkpVyO0JHRw3uwxuM5hvEr7xRDhKKVUneCShDx4M35TI3d1aWG3oB08fdLyRUkqp\n&quot;,</td>
      </tr>
      <tr>
        <td id="L329" class="blob-num js-line-number" data-line-number="329"></td>
        <td id="LC329" class="blob-code js-file-line">       &quot;cnkkoffqBQkJcOyYXSDixfAOw/nh9x88EZJSStV6bn2xyN7118P48WAbcByA/IJ8vL28XRKPUkrV\n&quot;,</td>
      </tr>
      <tr>
        <td id="L330" class="blob-num js-line-number" data-line-number="330"></td>
        <td id="LC330" class="blob-code js-file-line">       &quot;BrXmxSJ7jppdNJkrpZTzPJbQhwwpndCVUko5z2MJvUsXyMqC/fs9FYFSStUtHkvoIo6bXZRSSjnH\n&quot;,</td>
      </tr>
      <tr>
        <td id="L331" class="blob-num js-line-number" data-line-number="331"></td>
        <td id="LC331" class="blob-code js-file-line">       &quot;YwkdrGaXr78uvXxD8gZ9fFEppc6TRxP61VdbV+i5ucWXL9i+gPe3vO+ZoJRSqpbyaEKPiIAOHUp3\n&quot;,</td>
      </tr>
      <tr>
        <td id="L332" class="blob-num js-line-number" data-line-number="332"></td>
        <td id="LC332" class="blob-code js-file-line">       &quot;AzCi4wiW/bbMM0EppVQt5dGEDnDddbB0afFl/aL6sefkHo6mH/VMUEopVQvVmIRu/w6Sr7cvQ9sN\n&quot;,</td>
      </tr>
      <tr>
        <td id="L333" class="blob-num js-line-number" data-line-number="333"></td>
        <td id="LC333" class="blob-code js-file-line">       &quot;ZdkevUpXSqnK8nhC79YNcnJg167iy2/sdCMLdy70TFBKKVUL+Xg6ABEYMcK6Su/c+dzyER1HcCb7\n&quot;,</td>
      </tr>
      <tr>
        <td id="L334" class="blob-num js-line-number" data-line-number="334"></td>
        <td id="LC334" class="blob-code js-file-line">       &quot;jOcCU0qpWsbpvlxEZDowASgAtgG3GmOy7crL7cvF3hdfwDPPlL45qpRS9Y3b+3IRkRjgDqCnMeYi\n&quot;,</td>
      </tr>
      <tr>
        <td id="L335" class="blob-num js-line-number" data-line-number="335"></td>
        <td id="LC335" class="blob-code js-file-line">       &quot;wBsY40xdAAMHwtatcPKkszUopZRytg39DJALBIiIDxAAJDsbhJ8fDBoEn3/ubA1KKaWcSujGmFPA\n&quot;,</td>
      </tr>
      <tr>
        <td id="L336" class="blob-num js-line-number" data-line-number="336"></td>
        <td id="LC336" class="blob-code js-file-line">       &quot;S0AicAg4bYyp0kv8jh5fVEopVXlO3RQVkXbAfUAMkAp8LCLjjTH/tV8vLi6uaD42NpbY2Ngy67z2\n&quot;,</td>
      </tr>
      <tr>
        <td id="L337" class="blob-num js-line-number" data-line-number="337"></td>
        <td id="LC337" class="blob-code js-file-line">       &quot;WnjgAeuJlwYNipcZYxBxqklJKaVqtPj4eOLj46ulLqduiorILcBVxpjbbZ8nAlcYY/5kt06lb4oW\n&quot;,</td>
      </tr>
      <tr>
        <td id="L338" class="blob-num js-line-number" data-line-number="338"></td>
        <td id="LC338" class="blob-code js-file-line">       &quot;6tcPpk+3knuh/IJ8Or3RiR9u+4EmAU3OO1allKpNPDHAxS7gChHxF+vSeQjwq5N1FbnlFliwoPgy\n&quot;,</td>
      </tr>
      <tr>
        <td id="L339" class="blob-num js-line-number" data-line-number="339"></td>
        <td id="LC339" class="blob-code js-file-line">       &quot;by9vurfozme7Pqtq9UopVac524a+BXgf+AnYalv8n6oG83//Z7WjZ2UVX35zl5tZsGOB442UUkoB\n&quot;,</td>
      </tr>
      <tr>
        <td id="L340" class="blob-num js-line-number" data-line-number="340"></td>
        <td id="LC340" class="blob-code js-file-line">       &quot;HhxTtCwDB8K998LIkeeWnc09S6uXW7Htrm20Cm5VjVEqpVTNUivHFC2Lo2YXf19/RncZzQdbP/BM\n&quot;,</td>
      </tr>
      <tr>
        <td id="L341" class="blob-num js-line-number" data-line-number="341"></td>
        <td id="LC341" class="blob-code js-file-line">       &quot;UEopVQvUuIQ+apT15mhGRvHlU7pPISElwTNBKaVULVDjmlwAhg6F22+Hm2+u5qCUUqqGq1NNLuC4\n&quot;,</td>
      </tr>
      <tr>
        <td id="L342" class="blob-num js-line-number" data-line-number="342"></td>
        <td id="LC342" class="blob-code js-file-line">       &quot;2UUppVT5auQV+qlT0KYN/P47BAVVc2BKKVWD1bkr9LAw6N8fFi/2dCRKKVV71MiEDjBxIrz3nqej\n&quot;,</td>
      </tr>
      <tr>
        <td id="L343" class="blob-num js-line-number" data-line-number="343"></td>
        <td id="LC343" class="blob-code js-file-line">       &quot;UEqp2qPGJvQbboDNm+HAgdJl9395P0mpSW6PSSmlarIam9D9/GDsWJg7t3RZXkEeszbNcntMSilV\n&quot;,</td>
      </tr>
      <tr>
        <td id="L344" class="blob-num js-line-number" data-line-number="344"></td>
        <td id="LC344" class="blob-code js-file-line">       &quot;k9XIm6KFNm+23hhNSAAvu6+encd3MvC9gRy87yANfRpWMVKllKo56txN0UI9elg3SFetKr68c9PO\n&quot;,</td>
      </tr>
      <tr>
        <td id="L345" class="blob-num js-line-number" data-line-number="345"></td>
        <td id="LC345" class="blob-code js-file-line">       &quot;dG3WlU92fuKZwJRSqgaq0Qkd4LbbYPbs0sv/1OtPvLHxDfcHpJRSNVSNT+jjxllD06WkFF9+/QXX\n&quot;,</td>
      </tr>
      <tr>
        <td id="L346" class="blob-num js-line-number" data-line-number="346"></td>
        <td id="LC346" class="blob-code js-file-line">       &quot;czT9KImpiZ4JTCmlapga3YZeaMwYuPJK+OMfiy/Pzc/F19u3WvahlFI1QZ1tQy80dSq8/TaU/H7Q\n&quot;,</td>
      </tr>
      <tr>
        <td id="L347" class="blob-num js-line-number" data-line-number="347"></td>
        <td id="LC347" class="blob-code js-file-line">       &quot;ZK6UUufUioQ+ZIjV++J333k6EqWUqrlqRUL38oJ77oHXXvN0JEopVXPVijZ0gDNnICYGtmyByMhq\n&quot;,</td>
      </tr>
      <tr>
        <td id="L348" class="blob-num js-line-number" data-line-number="348"></td>
        <td id="LC348" class="blob-code js-file-line">       &quot;q1YppWqUOt+GDhAcbPXv8tZbpctSs1K5c+mdFJgC9wemlFI1RK1J6AB33w3vvANnzxZfHtwwmJ8O\n&quot;,</td>
      </tr>
      <tr>
        <td id="L349" class="blob-num js-line-number" data-line-number="349"></td>
        <td id="LC349" class="blob-code js-file-line">       &quot;/8SyPcs8E5hSStUAtSqhd+gAvXrB/PnFl4sIf+v7N55b9xyuakJSSqmarlYldIA//9m6OVoyb4/q\n&quot;,</td>
      </tr>
      <tr>
        <td id="L350" class="blob-num js-line-number" data-line-number="350"></td>
        <td id="LC350" class="blob-code js-file-line">       &quot;PIpjGcdYl7jOM4EppZSH1bqEftVVkJ1dun8Xby9v/trnrzz33XOeCUwppTzM6YQuIo1FZKGI7BSR\n&quot;,</td>
      </tr>
      <tr>
        <td id="L351" class="blob-num js-line-number" data-line-number="351"></td>
        <td id="LC351" class="blob-code js-file-line">       &quot;X0XkiuoMrCxeXvDww/D006XLJnefzO9nfudYxjF3hKKUUjWK048tish7wBpjzGwR8QECjTGpduXV\n&quot;,</td>
      </tr>
      <tr>
        <td id="L352" class="blob-num js-line-number" data-line-number="352"></td>
        <td id="LC352" class="blob-code js-file-line">       &quot;+tiivdxc6NgR5s2D3r2LlxljEHHqiR+llPK4qjy26FRCF5EQYLMxpm0567gsoYP1+OLnn8PSpS7b\n&quot;,</td>
      </tr>
      <tr>
        <td id="L353" class="blob-num js-line-number" data-line-number="353"></td>
        <td id="LC353" class="blob-code js-file-line">       &quot;hVJKuZ0nnkNvAxwXkTki8rOIvC0iAU7W5ZRbb4VNm6wXjZRSSoFPFbbrCdxtjNkoIq8CDwOP268U\n&quot;,</td>
      </tr>
      <tr>
        <td id="L354" class="blob-num js-line-number" data-line-number="354"></td>
        <td id="LC354" class="blob-code js-file-line">       &quot;FxdXNB8bG0tsbKyTuyvNzw/+8hd45hlYsKDaqlVKKbeKj48nPj6+WupytsmlBfC9MaaN7XM/4GFj\n&quot;,</td>
      </tr>
      <tr>
        <td id="L355" class="blob-num js-line-number" data-line-number="355"></td>
        <td id="LC355" class="blob-code js-file-line">       &quot;zAi7dVza5AKQng5t28LatXDBBaXLC0wBgmibulKq1nB7k4sx5giQJCIdbYuGADucqasqGjWynkt/\n&quot;,</td>
      </tr>
      <tr>
        <td id="L356" class="blob-num js-line-number" data-line-number="356"></td>
        <td id="LC356" class="blob-code js-file-line">       &quot;8knH5bcuvpWFvy50b1BKKeUhVXnKpRvwDtAA2Afc6q6nXOylp1tvkH75JXTrVrxsdcJqpi6Zys4/\n&quot;,</td>
      </tr>
      <tr>
        <td id="L357" class="blob-num js-line-number" data-line-number="357"></td>
        <td id="LC357" class="blob-code js-file-line">       &quot;7cTPx8/lsSilVFW5/SmXSlXspoQO8Prr8MUX1lMvJY3830iuaH0FD/d72C2xKKVUVdT7hJ6dDZ06\n&quot;,</td>
      </tr>
      <tr>
        <td id="L358" class="blob-num js-line-number" data-line-number="358"></td>
        <td id="LC358" class="blob-code js-file-line">       &quot;wdy5MGBA8bLfTv5G73d7s/2P22nRqIVb4lFKKWfV+4QO8OGH8MYbsH49lLwH+uCKB0nNSuXt6992\n&quot;,</td>
      </tr>
      <tr>
        <td id="L359" class="blob-num js-line-number" data-line-number="359"></td>
        <td id="LC359" class="blob-code js-file-line">       &quot;WzxKKeWMetEfekXGjrWGqVuypHTZo1c+St+ovu4PSiml3KjOXKEDLF8ODz4IW7eCr44frZSqhfQK\n&quot;,</td>
      </tr>
      <tr>
        <td id="L360" class="blob-num js-line-number" data-line-number="360"></td>
        <td id="LC360" class="blob-code js-file-line">       &quot;3Wb4cIiKsm6SKqVUfVOnrtABdu2Cfv1g+3ZoofdAlVK1jN4ULeGhh+DYMeupF6WUqk00oZeQlmY9\n&quot;,</td>
      </tr>
      <tr>
        <td id="L361" class="blob-num js-line-number" data-line-number="361"></td>
        <td id="LC361" class="blob-code js-file-line">       &quot;xrhwYenudQH+t/1/hPmHMbTdUPcHp5RS5dA29BKCguAf/7AGlc7PL10e6hfKncvuJC07zf3BKaWU\n&quot;,</td>
      </tr>
      <tr>
        <td id="L362" class="blob-num js-line-number" data-line-number="362"></td>
        <td id="LC362" class="blob-code js-file-line">       &quot;i9TJhA4wfjwEBlrPppd0dfurGdxmMH/56i/uD0wppVykTja5FNqzB/r0gY0boU2b4mVnss/Q7d/d\n&quot;,</td>
      </tr>
      <tr>
        <td id="L363" class="blob-num js-line-number" data-line-number="363"></td>
        <td id="LC363" class="blob-code js-file-line">       &quot;eP2a1xnRcYTjCpRSys20yaUMHTtaN0inTYOS3y3BDYOZe8Ncpi2dxonME54JUCmlqlGdTuhgDYKR\n&quot;,</td>
      </tr>
      <tr>
        <td id="L364" class="blob-num js-line-number" data-line-number="364"></td>
        <td id="LC364" class="blob-code js-file-line">       &quot;kgKzZ5cuGxAzgBn9Z5CalVq6UCmlapk63eRSaOtWGDIEfvkFWrb0dDRKKVU2bXKpwMUXwx//CFOn\n&quot;,</td>
      </tr>
      <tr>
        <td id="L365" class="blob-num js-line-number" data-line-number="365"></td>
        <td id="LC365" class="blob-code js-file-line">       &quot;QkGBp6NRSinXqBcJHeCRR+D0aXjtNU9HopRSrlEvmlwK7d8Pl18OX38N3bs7XqcwZh2HVCnlCdrk\n&quot;,</td>
      </tr>
      <tr>
        <td id="L366" class="blob-num js-line-number" data-line-number="366"></td>
        <td id="LC366" class="blob-code js-file-line">       &quot;Uklt28Irr1hd7WZmOl5nZvxM3v5Z+01XStU+9eoKvdCECdZLR7NmlS7bc3IP/Wb3Y9Eti+gX1c/9\n&quot;,</td>
      </tr>
      <tr>
        <td id="L367" class="blob-num js-line-number" data-line-number="367"></td>
        <td id="LC367" class="blob-code js-file-line">       &quot;wSml6jW9Qj9Pb7wBq1fD+++XLuvYpCMf3PgBoz8ezcHTB90fnFJKOaleXqGD1b3uwIGwYgX06FG6\n&quot;,</td>
      </tr>
      <tr>
        <td id="L368" class="blob-num js-line-number" data-line-number="368"></td>
        <td id="LC368" class="blob-code js-file-line">       &quot;/OXvX+b9Le/z3dTvCGwQ6P4AlVL1kva26KQFC2D6dPjpJwgLK15mjGHqkqm0CGzBs0Oe9UyASql6\n&quot;,</td>
      </tr>
      <tr>
        <td id="L369" class="blob-num js-line-number" data-line-number="369"></td>
        <td id="LC369" class="blob-code js-file-line">       &quot;RxN6FTz4oHW1vnw5eHsXL8vOyybf5BPgG+CZ4JRS9Y7HErqIeAM/Ab8bY64rUVYrEnpeHlx9NXTr\n&quot;,</td>
      </tr>
      <tr>
        <td id="L370" class="blob-num js-line-number" data-line-number="370"></td>
        <td id="LC370" class="blob-code js-file-line">       &quot;Bi+/7OlolFL1nSdvit4L/ArU/MxdBh8fayCML75w3NWuUkrVFk4ndBFpDQwH3gFq9Vs4oaFWk8vT\n&quot;,</td>
      </tr>
      <tr>
        <td id="L371" class="blob-num js-line-number" data-line-number="371"></td>
        <td id="LC371" class="blob-code js-file-line">       &quot;T8OyZZ7bq01QAAAZHklEQVSORimlnFOVK/RXgL8CdaJ3lLZtYdEiuPVW+PnnstebtnQaK/evdF9g\n&quot;,</td>
      </tr>
      <tr>
        <td id="L372" class="blob-num js-line-number" data-line-number="372"></td>
        <td id="LC372" class="blob-code js-file-line">       &quot;SilVST7ObCQiI4BjxpjNIhJb1npxcXFF87GxscTGlrlqjXDFFdbLRiNGQHy81Z96SRMunsCoj0bx\n&quot;,</td>
      </tr>
      <tr>
        <td id="L373" class="blob-num js-line-number" data-line-number="373"></td>
        <td id="LC373" class="blob-code js-file-line">       &quot;yc2fcGX0lW6PUSlVt8THxxMfH18tdTl1U1REngEmAnmAHxAMfGKMmWS3Tq24KerI7NnwxBOwdi1E\n&quot;,</td>
      </tr>
      <tr>
        <td id="L374" class="blob-num js-line-number" data-line-number="374"></td>
        <td id="LC374" class="blob-code js-file-line">       &quot;RZUu/2b/N4z7ZByLxyymd6SDUaiVUspJHn1sUUQGAA/W1qdcyvLqq/Dmm1ZSb968dPmXe79k0qeT\n&quot;,</td>
      </tr>
      <tr>
        <td id="L375" class="blob-num js-line-number" data-line-number="375"></td>
        <td id="LC375" class="blob-code js-file-line">       &quot;+Gj0R8TGxLo9PqVU3VQTXv2vvZm7DPfdZw00fdVVcPx46fJh7Yex4P8W8O+f/u3+4JRSyoF6/2JR\n&quot;,</td>
      </tr>
      <tr>
        <td id="L376" class="blob-num js-line-number" data-line-number="376"></td>
        <td id="LC376" class="blob-code js-file-line">       &quot;eYyBRx+FxYvhm2+gRQtPR6SUquuqcoXu1E3R+kIEnnoKGjaE2FhYtUqHsFNK1Vya0CsgAo8/Dr6+\n&quot;,</td>
      </tr>
      <tr>
        <td id="L377" class="blob-num js-line-number" data-line-number="377"></td>
        <td id="LC377" class="blob-code js-file-line">       &quot;MGAArFzp+EapUkp5Wr3sPtcZ06fD3XdD376wbVvZ62XnZfPM2mfIystyX3BKKYUm9PNy773wwgsw\n&quot;,</td>
      </tr>
      <tr>
        <td id="L378" class="blob-num js-line-number" data-line-number="378"></td>
        <td id="LC378" class="blob-code js-file-line">       &quot;eDCsWeN4HYNhy9EtDHxvIIfTDrs3QKVUvaYJ/TyNGQPz58Po0fDRR6XL/Xz8+N+o/3Fth2vp9XYv\n&quot;,</td>
      </tr>
      <tr>
        <td id="L379" class="blob-num js-line-number" data-line-number="379"></td>
        <td id="LC379" class="blob-code js-file-line">       &quot;NiRvcH+QSql6SZ9ycdIvv8D118Ptt8Njj1lt7SUt3rWYO5bewfNXPc+U7lPcHqNSqvapCc+h1zvd\n&quot;,</td>
      </tr>
      <tr>
        <td id="L380" class="blob-num js-line-number" data-line-number="380"></td>
        <td id="LC380" class="blob-code js-file-line">       &quot;u8OGDVYvjWPGOB50+oZONxA/JZ7NhzdTl7/clFI1g16hV1FWFkybZg2S8ckn0KaNpyNSStVmeoXu\n&quot;,</td>
      </tr>
      <tr>
        <td id="L381" class="blob-num js-line-number" data-line-number="381"></td>
        <td id="LC381" class="blob-code js-file-line">       &quot;QX5+8N57MGmS1bmXdr+rlPIUvUKvRuvXwy23wMSJ8OST1uAZZUlKTcLPx4+mgU3dF6BSqsbTK/Qa\n&quot;,</td>
      </tr>
      <tr>
        <td id="L382" class="blob-num js-line-number" data-line-number="382"></td>
        <td id="LC382" class="blob-code js-file-line">       &quot;ok8f2LTJGnQ6NhYSEspe98u9X9J9VneW7l7qtviUUnWbJvRq1qwZfPkl3HgjXHYZfPih4/XuuOQO\n&quot;,</td>
      </tr>
      <tr>
        <td id="L383" class="blob-num js-line-number" data-line-number="383"></td>
        <td id="LC383" class="blob-code js-file-line">       &quot;5t00j/u/up/xi8ZzIvOEewNVStU5mtBdwMsLHngAvv4annnGegrGUY+NA2IGsPWurbQIbMFFb13E\n&quot;,</td>
      </tr>
      <tr>
        <td id="L384" class="blob-num js-line-number" data-line-number="384"></td>
        <td id="LC384" class="blob-code js-file-line">       &quot;wl8Xuj9YpVSdoQndhbp3t5pgWreGiy+2XkQqeVshwDeAl65+iU9v+ZSMnAzPBKqUqhP0pqib/PAD\n&quot;,</td>
      </tr>
      <tr>
        <td id="L385" class="blob-num js-line-number" data-line-number="385"></td>
        <td id="LC385" class="blob-code js-file-line">       &quot;TJ0KnTrB669Dq1aejkgpVRPpTdFa4IorrMGnu3aFbt3glVcgL6/i7YwxFJg6MQ63UsrFNKG7kZ8f\n&quot;,</td>
      </tr>
      <tr>
        <td id="L386" class="blob-num js-line-number" data-line-number="386"></td>
        <td id="LC386" class="blob-code js-file-line">       &quot;/P3v8N131vPql14K69aVv82Xe7+kz7t9WJdYwYpKqXpPE7oHXHCBNQLS3/4GY8daz64fOOB43avb\n&quot;,</td>
      </tr>
      <tr>
        <td id="L387" class="blob-num js-line-number" data-line-number="387"></td>
        <td id="LC387" class="blob-code js-file-line">       &quot;X80fe/2R8YvGc93869h2tJy+e5VS9ZomdA8RsZL5rl3QpQtcconV5/rp08XX8xIvJnWbxO67dzMo\n&quot;,</td>
      </tr>
      <tr>
        <td id="L388" class="blob-num js-line-number" data-line-number="388"></td>
        <td id="LC388" class="blob-code js-file-line">       &quot;ZhBDPhjCpE8nkXI2xTOBK6VqLE3oHhYYCDNnwpYtcOwYdOxo9bl+9mzx9fx8/Li/9/38ds9vdG/R\n&quot;,</td>
      </tr>
      <tr>
        <td id="L389" class="blob-num js-line-number" data-line-number="389"></td>
        <td id="LC389" class="blob-code js-file-line">       &quot;nUYNGnkmYKVUjaVPudQwO3fCI49YPTlOnw633Wa1vSul6gd9yqUO6dwZFi2CTz+1uuZt3x7+9S+r\n&quot;,</td>
      </tr>
      <tr>
        <td id="L390" class="blob-num js-line-number" data-line-number="390"></td>
        <td id="LC390" class="blob-code js-file-line">       &quot;V8eKLNuzjFUJq7SrXqXqKU3oNVSvXtaTMJ99BitWWN3yPvts6TZ2e2dzz3L353fTY1YP5v4yl+y8\n&quot;,</td>
      </tr>
      <tr>
        <td id="L391" class="blob-num js-line-number" data-line-number="391"></td>
        <td id="LC391" class="blob-code js-file-line">       &quot;bPcFrJTyOKebXEQkEngfaAYY4D/GmNfsyrXJpRpt22a1rS9fbr2gdM89EBVVer0CU8CKfSt4+fuX\n&quot;,</td>
      </tr>
      <tr>
        <td id="L392" class="blob-num js-line-number" data-line-number="392"></td>
        <td id="LC392" class="blob-code js-file-line">       &quot;2Xp0K7f3vJ3HBzxOA+8G7g9aKXXePNXkkgvcb4zpClwB/ElEOlehPlWOiy6C99+3Xk4qKIAePaxx\n&quot;,</td>
      </tr>
      <tr>
        <td id="L393" class="blob-num js-line-number" data-line-number="393"></td>
        <td id="LC393" class="blob-code js-file-line">       &quot;TdetK96dgJd4Maz9MFZMXMHqyasJ8A3A18vXc4Erpdym2m6KishnwOvGmJW2z3qF7kJpadbAGq+9\n&quot;,</td>
      </tr>
      <tr>
        <td id="L394" class="blob-num js-line-number" data-line-number="394"></td>
        <td id="LC394" class="blob-code js-file-line">       &quot;BgEB8Ic/wPjxEBRUue0LTAFeoi1uStU0Hr8pKiIxQA/gx+qoT1UsKAjuvtt6jv2FF6x29uhouPNO\n&quot;,</td>
      </tr>
      <tr>
        <td id="L395" class="blob-num js-line-number" data-line-number="395"></td>
        <td id="LC395" class="blob-code js-file-line">       &quot;6wmZir5Ln/r2KQbMHcC7P79Lalaqe4JWSrlUla/QRaQREA88ZYz5zG65mTlzZtF6sbGxxMbGVmlf\n&quot;,</td>
      </tr>
      <tr>
        <td id="L396" class="blob-num js-line-number" data-line-number="396"></td>
        <td id="LC396" class="blob-code js-file-line">       &quot;qnzJyTB3LsyebV2133orjBsHLVqUXjcnP4fPf/uc97e8z8qElVzV9irGXjiWaztei5+PPieplLvE\n&quot;,</td>
      </tr>
      <tr>
        <td id="L397" class="blob-num js-line-number" data-line-number="397"></td>
        <td id="LC397" class="blob-code js-file-line">       &quot;x8cTHx9f9PmJJ55w+gq9SgldRHyBZcAXxphXS5Rpk4uHFBTAt99ayX3xYrj8cpgwAUaOhEYO3kc6\n&quot;,</td>
      </tr>
      <tr>
        <td id="L398" class="blob-num js-line-number" data-line-number="398"></td>
        <td id="LC398" class="blob-code js-file-line">       &quot;dfYUi3YuYt62ecwaMYsOTTq4PWallKUqTS5VecpFgPeAk8aY+x2Ua0KvATIzraT+4YfWDdShQ62+\n&quot;,</td>
      </tr>
      <tr>
        <td id="L399" class="blob-num js-line-number" data-line-number="399"></td>
        <td id="LC399" class="blob-code js-file-line">       &quot;Y4YPt67iK8MYQ1pOGsENg10brFLKYwm9H/AtsBXrsUWA6caYL23lmtBrmJMnrReWFiyw2tmvugpG\n&quot;,</td>
      </tr>
      <tr>
        <td id="L400" class="blob-num js-line-number" data-line-number="400"></td>
        <td id="LC400" class="blob-code js-file-line">       &quot;jYJrr4XgcnL13lN76TmrJ70jezOiwwiu7XgtbUPbui9wpeoRjyT0CivWhF6jnTgBS5dab6WuWQO9\n&quot;,</td>
      </tr>
      <tr>
        <td id="L401" class="blob-num js-line-number" data-line-number="401"></td>
        <td id="LC401" class="blob-code js-file-line">       &quot;e8P118N11zl+vj0tO40V+1aw/LflLP9tOU38m3DPZfdwV6+73B+8UnWYJnRVJWlp1vinS5ZYLy61\n&quot;,</td>
      </tr>
      <tr>
        <td id="L402" class="blob-num js-line-number" data-line-number="402"></td>
        <td id="LC402" class="blob-code js-file-line">       &quot;aGE1yVxzDfTtC74lHmMvMAVsOrSJ7Pxs+kX180zQStVRmtBVtcnPh40b4fPPrb5k9uyBAQOs5pmr\n&quot;,</td>
      </tr>
      <tr>
        <td id="L403" class="blob-num js-line-number" data-line-number="403"></td>
        <td id="LC403" class="blob-code js-file-line">       &quot;rrL6cpcKftUeX/04O0/sJDY6loFtBtI5vDNS0UZKKUATunKh48dh5UrrCn7FCusJmkGDYOBAiI21\n&quot;,</td>
      </tr>
      <tr>
        <td id="L404" class="blob-num js-line-number" data-line-number="404"></td>
        <td id="LC404" class="blob-code js-file-line">       &quot;+pgpmauTzySzKmEVqw+sZvWB1WTkZNAvqh/PDH6GTuGdPHIcStUWmtCVWxgD+/bBqlXWtGYN+PjA\n&quot;,</td>
      </tr>
      <tr>
        <td id="L405" class="blob-num js-line-number" data-line-number="405"></td>
        <td id="LC405" class="blob-code js-file-line">       &quot;lVdC//7Qr581WIdXidfVklKTWJu4lsFtBtO8UfNS9Z7JPqNP0ChlowldeYQxsHevldjXrbPGSj1x\n&quot;,</td>
      </tr>
      <tr>
        <td id="L406" class="blob-num js-line-number" data-line-number="406"></td>
        <td id="LC406" class="blob-code js-file-line">       &quot;wrrB2ru3NTD25ZeX/wSNMYaYf8bgLd5c1uoyerXsRa9WvegZ0VMH8VD1kiZ0VWMcPWol9h9/hO+/\n&quot;,</td>
      </tr>
      <tr>
        <td id="L407" class="blob-num js-line-number" data-line-number="407"></td>
        <td id="LC407" class="blob-code js-file-line">       &quot;tzoTi462ugO+7DJrYOyLLy4+aEeBKWDPyT1sSN7AxuSNbDy0kX0p+zjywBG8vbw9dzBKeYAmdFVj\n&quot;,</td>
      </tr>
      <tr>
        <td id="L408" class="blob-num js-line-number" data-line-number="408"></td>
        <td id="LC408" class="blob-code js-file-line">       &quot;5ebCjh3WjdYNG+Cnn2D3bmuovUsuge7drZ4jL764+JV8fkG+w2SefCaZPyz/Axc3u5huLbpxUbOL\n&quot;,</td>
      </tr>
      <tr>
        <td id="L409" class="blob-num js-line-number" data-line-number="409"></td>
        <td id="LC409" class="blob-code js-file-line">       &quot;6NCkAz5ePm48KqVcRxO6qlWysqz+3Tdtgl9+gc2bYft2iIiwEnvhdOGF0K4deNvl9fScdL7e9zVb\n&quot;,</td>
      </tr>
      <tr>
        <td id="L410" class="blob-num js-line-number" data-line-number="410"></td>
        <td id="LC410" class="blob-code js-file-line">       &quot;jm5h69GtbD26leS0ZEZ2Gsn8UfM9d1BKVRNN6KrWy8uz2uO3brUGzN661bqyP3IEOnWybrZ26QJd\n&quot;,</td>
      </tr>
      <tr>
        <td id="L411" class="blob-num js-line-number" data-line-number="411"></td>
        <td id="LC411" class="blob-code js-file-line">       &quot;u1rD9LVpc+75+MzcTI5nHCe6cXSpetclruOVH16hU5NOXBB+ARc0uYCOTToS6h/q5iNUqnJqbkJ3\n&quot;,</td>
      </tr>
      <tr>
        <td id="L412" class="blob-num js-line-number" data-line-number="412"></td>
        <td id="LC412" class="blob-code js-file-line">       &quot;Sc1KKVUH2TJmVRK6axseNaUrF8nKgt9+s/qD37PHmnbvtpbl5lqDaxdO7dpZU9u20KoVeHkZsvKy\n&quot;,</td>
      </tr>
      <tr>
        <td id="L413" class="blob-num js-line-number" data-line-number="413"></td>
        <td id="LC413" class="blob-code js-file-line">       &quot;8Pf1L1Xvqz+8yuOrH6dtaFvahralTeM2xDSOYUDMAC5ufrEHjlSpytMmF1XnnDplNd/s3Ws9N184\n&quot;,</td>
      </tr>
      <tr>
        <td id="L414" class="blob-num js-line-number" data-line-number="414"></td>
        <td id="LC414" class="blob-code js-file-line">       &quot;JSRYj1VGRlpNNjEx1hQdfW5q2RLO5KSwP2U/+1P2c+D0ARJOJzAwZiCju44uta+v9n7FtmPbiAyO\n&quot;,</td>
      </tr>
      <tr>
        <td id="L415" class="blob-num js-line-number" data-line-number="415"></td>
        <td id="LC415" class="blob-code js-file-line">       &quot;JDIkksjgSCKCIvQmrXJazW1y0YSuapisLDh4EA4csKaEBOvnwYPWdOKEldQjI61Oylq3tuZbtz43\n&quot;,</td>
      </tr>
      <tr>
        <td id="L416" class="blob-num js-line-number" data-line-number="416"></td>
        <td id="LC416" class="blob-code js-file-line">       &quot;NWt27uWpb/Z/w/I9y0k6k2RNqUmcyDzBv4b/i2mXTCu1/32n9pFbkEvLoJYENQjSLhFUKZrQlaom\n&quot;,</td>
      </tr>
      <tr>
        <td id="L417" class="blob-num js-line-number" data-line-number="417"></td>
        <td id="LC417" class="blob-code js-file-line">       &quot;2dnWyE9JSZCYCL//bs0nJVnzyclw+rTVgVmrVlbyL5wiIqwpvFku4c3yiIzwL/XW7NPfPs17W97j\n&quot;,</td>
      </tr>
      <tr>
        <td id="L418" class="blob-num js-line-number" data-line-number="418"></td>
        <td id="LC418" class="blob-code js-file-line">       &quot;UNohDIaIRhG0aNSCuNg4hrQdUiqe1KxU/Hz8aOjT0E1nQHmaJnSl3Cg7Gw4fhkOHrASfnGx9tp+O\n&quot;,</td>
      </tr>
      <tr>
        <td id="L419" class="blob-num js-line-number" data-line-number="419"></td>
        <td id="LC419" class="blob-code js-file-line">       &quot;HIEzZ6BpU2je3PoCaN7cmpo1s342apyJNDpGnv9heraLIqZJq1L7un3J7by35T0CfQNpFtisaJre\n&quot;,</td>
      </tr>
      <tr>
        <td id="L420" class="blob-num js-line-number" data-line-number="420"></td>
        <td id="LC420" class="blob-code js-file-line">       &quot;bzq9WvUqtf7prNP4+fjpMIK1mCZ0pWqgnBzrzdmjR60Ef/QoHDtW/Ofx49b8yZPW8IBNm1pTePi5\n&quot;,</td>
      </tr>
      <tr>
        <td id="L421" class="blob-num js-line-number" data-line-number="421"></td>
        <td id="LC421" class="blob-code js-file-line">       &quot;n2FhBv/gDLwbnabA7zj5fscY0PlCLoxuhU+Jpvrxi8az8NeF+Hr5Eh4QTpOAJoQHhPPs4GfpGdGz\n&quot;,</td>
      </tr>
      <tr>
        <td id="L422" class="blob-num js-line-number" data-line-number="422"></td>
        <td id="LC422" class="blob-code js-file-line">       &quot;VIx7Tu4BINQvlFD/UG37rwE0oStVyxUUQEqK1YZ//HjpnydPWtOJE9ZN35MnITXV+hJo0gTCwqwp\n&quot;,</td>
      </tr>
      <tr>
        <td id="L423" class="blob-num js-line-number" data-line-number="423"></td>
        <td id="LC423" class="blob-code js-file-line">       &quot;NBQaNzYEBufQIDADn0ZnwC+F7jExtG0ZSuPG1jrBwdZ9gD8s+wOrElZx6uwpTmedJsA3gFD/UD4e\n&quot;,</td>
      </tr>
      <tr>
        <td id="L424" class="blob-num js-line-number" data-line-number="424"></td>
        <td id="LC424" class="blob-code js-file-line">       &quot;/TGXtbqsVJyf7vyUtJw0QhqGEOIXQmO/xoQ0DKFVcCsaeDfwwJmrezShK1UP5edbSf3UKevL4ORJ\n&quot;,</td>
      </tr>
      <tr>
        <td id="L425" class="blob-num js-line-number" data-line-number="425"></td>
        <td id="LC425" class="blob-code js-file-line">       &quot;6+epU9Z0+rT1OSXFmrf/nJEBgYHQuDGEhNimxobARrk0CMiieRN/wsN8CQ62kn9IiPXzs4T3STi7\n&quot;,</td>
      </tr>
      <tr>
        <td id="L426" class="blob-num js-line-number" data-line-number="426"></td>
        <td id="LC426" class="blob-code js-file-line">       &quot;hbNyjEzvI6TmHSM1+zSf3PwJl7a8tFSM9315H7+f+Z3ghsEENQiyfjYMYuLFE4kIiii1/snMkzTw\n&quot;,</td>
      </tr>
      <tr>
        <td id="L427" class="blob-num js-line-number" data-line-number="427"></td>
        <td id="LC427" class="blob-code js-file-line">       &quot;bkBgg0C8xKtUeX2gCV0pdV7y862Rqk6ftr4UUlOt+TNnzn1OTbU+Fy47c8baJjXV+pmWZtUTFFR6\n&quot;,</td>
      </tr>
      <tr>
        <td id="L428" class="blob-num js-line-number" data-line-number="428"></td>
        <td id="LC428" class="blob-code js-file-line">       &quot;atTI+pnOYfJ9U5GGGRjfNIxvGvm+qYzqdjVtmjclMNBaNzDQmkZ/Npwfj3xLVv5Z/H38adSgEUEN\n&quot;,</td>
      </tr>
      <tr>
        <td id="L429" class="blob-num js-line-number" data-line-number="429"></td>
        <td id="LC429" class="blob-code js-file-line">       &quot;g1g8ZjFdmnYpdRyv//g6p7NOE9ggkEDfwKKfg9oMIsQvpNT6eQV5eIt3jX66SBO6UsojcnLOJfe0\n&quot;,</td>
      </tr>
      <tr>
        <td id="L430" class="blob-num js-line-number" data-line-number="430"></td>
        <td id="LC430" class="blob-code js-file-line">       &quot;NCvpp6ef+5yRYf0sXJaRYc2np5+bt/+ZkWF9SQQEGAICDf7+BTT0zyckyJdGgV4EBkJAgDUFBsJv\n&quot;,</td>
      </tr>
      <tr>
        <td id="L431" class="blob-num js-line-number" data-line-number="431"></td>
        <td id="LC431" class="blob-code js-file-line">       &quot;Z7aQKScwPhkUeGeQ75NGnlca03pPICa8OQEB4O9/bhrx0WB2pW4mwF8I9G9AYIMAAnwDWHTzIjo0\n&quot;,</td>
      </tr>
      <tr>
        <td id="L432" class="blob-num js-line-number" data-line-number="432"></td>
        <td id="LC432" class="blob-code js-file-line">       &quot;6VDq+P6x7h9FTVH+vv74+/jj7+vPTZ1vorFf41LrJ6Ym4iVe+Pv4F92cPt8eQzWhK6XqjNxcyMw8\n&quot;,</td>
      </tr>
      <tr>
        <td id="L433" class="blob-num js-line-number" data-line-number="433"></td>
        <td id="LC433" class="blob-code js-file-line">       &quot;l+AL5+1/Fs6fPVt8vvBzZmbx+aysc+VnzxrOnrXuW/j5Gxo2LCAgwJsAf8Hf3+ra2c/P+gI4ln2Q\n&quot;,</td>
      </tr>
      <tr>
        <td id="L434" class="blob-num js-line-number" data-line-number="434"></td>
        <td id="LC434" class="blob-code js-file-line">       &quot;PK8MxDcLvLMwPlkY77MMveBKwoODitb184OGDeEfPzzB75n7yCGNHEkjhzR8GuSxZOLHdG7RloYN\n&quot;,</td>
      </tr>
      <tr>
        <td id="L435" class="blob-num js-line-number" data-line-number="435"></td>
        <td id="LC435" class="blob-code js-file-line">       &quot;KTZNWTKBrk27Mr3/9KLj14SulFLnKS/vXJIvTPj2iT872/pcuKzwc8mywvmSP615Q1a2ISdbyM4W\n&quot;,</td>
      </tr>
      <tr>
        <td id="L436" class="blob-num js-line-number" data-line-number="436"></td>
        <td id="LC436" class="blob-code js-file-line">       &quot;srPPlefkABgaNDT8usOLNm2suDyS0EVkGPAq4A28Y4z5R4lyTehKKVWOvDwrwfv7n3v7uCoJ3anb\n&quot;,</td>
      </tr>
      <tr>
        <td id="L437" class="blob-num js-line-number" data-line-number="437"></td>
        <td id="LC437" class="blob-code js-file-line">       &quot;yCLiDfwLGAZ0AcaKSGdn6qoP4uPjPR1CjaHn4hw9F+fU13Ph42PdCyj5RrGznK3mMmCvMeaAMSYX\n&quot;,</td>
      </tr>
      <tr>
        <td id="L438" class="blob-num js-line-number" data-line-number="438"></td>
        <td id="LC438" class="blob-code js-file-line">       &quot;+B9wQ/WEVPfU119WR/RcnKPn4hw9F9XD2YTeCkiy+/y7bZlSSikPcTaha+O4UkrVME7dFBWRK4A4\n&quot;,</td>
      </tr>
      <tr>
        <td id="L439" class="blob-num js-line-number" data-line-number="439"></td>
        <td id="LC439" class="blob-code js-file-line">       &quot;Y8ww2+fpQIH9jVER0aSvlFJOcOtTLiLiA+wGBgOHgA3AWGPMTmeCUEopVXVOda1mjMkTkbuBr7Ae\n&quot;,</td>
      </tr>
      <tr>
        <td id="L440" class="blob-num js-line-number" data-line-number="440"></td>
        <td id="LC440" class="blob-code js-file-line">       &quot;W3xXk7lSSnmWy14sUkop5V4u6c5MRIaJyC4R+U1E/uaKfdRUIhIpIqtFZIeIbBeRP9uWh4nI1yKy\n&quot;,</td>
      </tr>
      <tr>
        <td id="L441" class="blob-num js-line-number" data-line-number="441"></td>
        <td id="LC441" class="blob-code js-file-line">       &quot;R0RWiEjpjiDqIBHxFpHNIrLU9rm+nofGIrJQRHaKyK8icnk9PhfTbf8/tonIPBFpWF/OhYjMFpGj\n&quot;,</td>
      </tr>
      <tr>
        <td id="L442" class="blob-num js-line-number" data-line-number="442"></td>
        <td id="LC442" class="blob-code js-file-line">       &quot;IrLNblmZx247V7/Z8unQiuqv9oSuLx2RC9xvjOkKXAH8yXb8DwNfG2M6Aittn+uDe4FfOfdkVH09\n&quot;,</td>
      </tr>
      <tr>
        <td id="L443" class="blob-num js-line-number" data-line-number="443"></td>
        <td id="LC443" class="blob-code js-file-line">       &quot;D/8EPjfGdAYuBnZRD8+FiMQAdwA9jTEXYTXZjqH+nIs5WLnRnsNjF5EuwC1YeXQY8KZI+X0Ku+IK\n&quot;,</td>
      </tr>
      <tr>
        <td id="L444" class="blob-num js-line-number" data-line-number="444"></td>
        <td id="LC444" class="blob-code js-file-line">       &quot;vV6/dGSMOWKM+cU2nw7sxHpG/3rgPdtq7wEjPROh+4hIa2A48A5QeNe+Pp6HEKC/MWY2WPegjDGp\n&quot;,</td>
      </tr>
      <tr>
        <td id="L445" class="blob-num js-line-number" data-line-number="445"></td>
        <td id="LC445" class="blob-code js-file-line">       &quot;1MNzAZzBuugJsD1cEYD1YEW9OBfGmLVASonFZR37DcB8Y0yuMeYAsBcrv5bJFQldXzqysV2N9AB+\n&quot;,</td>
      </tr>
      <tr>
        <td id="L446" class="blob-num js-line-number" data-line-number="446"></td>
        <td id="LC446" class="blob-code js-file-line">       &quot;BJobY47aio4CzT0Ulju9AvwVKLBbVh/PQxvguIjMEZGfReRtEQmkHp4LY8wp4CUgESuRnzbGfE09\n&quot;,</td>
      </tr>
      <tr>
        <td id="L447" class="blob-num js-line-number" data-line-number="447"></td>
        <td id="LC447" class="blob-code js-file-line">       &quot;PBd2yjr2llj5s1CFudQVCV3vsgIi0gj4BLjXGJNmX2brtaxOnycRGQEcM8Zs5tzVeTH14TzY+AA9\n&quot;,</td>
      </tr>
      <tr>
        <td id="L448" class="blob-num js-line-number" data-line-number="448"></td>
        <td id="LC448" class="blob-code js-file-line">       &quot;gTeNMT2BDEo0KdSXcyEi7YD7gBishNVIRCbYr1NfzoUjlTj2cs+LKxJ6MhBp9zmS4t8ydZ6I+GIl\n&quot;,</td>
      </tr>
      <tr>
        <td id="L449" class="blob-num js-line-number" data-line-number="449"></td>
        <td id="LC449" class="blob-code js-file-line">       &quot;8w+MMZ/ZFh8VkRa28gjgmKfic5M+wPUikgDMBwaJyAfUv/MA1u//78aYjbbPC7ES/JF6eC4uBdYb\n&quot;,</td>
      </tr>
      <tr>
        <td id="L450" class="blob-num js-line-number" data-line-number="450"></td>
        <td id="LC450" class="blob-code js-file-line">       &quot;Y04aY/KARUBv6ue5KFTW/4mSubS1bVmZXJHQfwI6iEiMiDTAatRf4oL91EhijW31LvCrMeZVu6Il\n&quot;,</td>
      </tr>
      <tr>
        <td id="L451" class="blob-num js-line-number" data-line-number="451"></td>
        <td id="LC451" class="blob-code js-file-line">       &quot;wGTb/GTgs5Lb1iXGmBnGmEhjTBusm16rjDETqWfnAaz7KkCSiHS0LRoC7ACWUs/OBdbN4CtExN/2\n&quot;,</td>
      </tr>
      <tr>
        <td id="L452" class="blob-num js-line-number" data-line-number="452"></td>
        <td id="LC452" class="blob-code js-file-line">       &quot;f2UI1k3z+nguCpX1f2IJMEZEGohIG6AD1kucZTPGVPsEXIP1JuleYLor9lFTJ6AfVpvxL8Bm2zQM\n&quot;,</td>
      </tr>
      <tr>
        <td id="L453" class="blob-num js-line-number" data-line-number="453"></td>
        <td id="LC453" class="blob-code js-file-line">       &quot;CAO+AfYAK4DGno7VjedkALDENl8vzwPQDdgIbMG6Kg2px+fiIawvtG1YNwF968u5wPpr9RCQg3Wv\n&quot;,</td>
      </tr>
      <tr>
        <td id="L454" class="blob-num js-line-number" data-line-number="454"></td>
        <td id="LC454" class="blob-code js-file-line">       &quot;8dbyjh2YYcuju4CrK6pfXyxSSqk6wiUvFimllHI/TehKKVVHaEJXSqk6QhO6UkrVEZrQlVKqjtCE\n&quot;,</td>
      </tr>
      <tr>
        <td id="L455" class="blob-num js-line-number" data-line-number="455"></td>
        <td id="LC455" class="blob-code js-file-line">       &quot;rpRSdYQm9FpCRNI9XaeI/NnW9esHJZbHFnaPWw0xTRGR16ujLk8QkRklPn/nwn3F2HfDarf8EhH5\n&quot;,</td>
      </tr>
      <tr>
        <td id="L456" class="blob-num js-line-number" data-line-number="456"></td>
        <td id="LC456" class="blob-code js-file-line">       &quot;p22+6HyKSJyIPFBGXXeLyJRy9tVJRL4XkSz7Omxd335bUS+Ayj30H6H2cMULA+db513AEGO98akc\n&quot;,</td>
      </tr>
      <tr>
        <td id="L457" class="blob-num js-line-number" data-line-number="457"></td>
        <td id="LC457" class="blob-code js-file-line">       &quot;m27/wRjT190BGGM2GWPuLfxoX+Rofdsbm7cBH5ZT7UngHuDFEvvKBtZSR3tHrG00oddCIvJXEdkg\n&quot;,</td>
      </tr>
      <tr>
        <td id="L458" class="blob-num js-line-number" data-line-number="458"></td>
        <td id="LC458" class="blob-code js-file-line">       &quot;IltEJM627DkR+aPdOkVXY47Wr6D+v9gGH9gmIvfalv0baAt8KSL3lbPtZSKy3tar4HeFr7vbrhQX\n&quot;,</td>
      </tr>
      <tr>
        <td id="L459" class="blob-num js-line-number" data-line-number="459"></td>
        <td id="LC459" class="blob-code js-file-line">       &quot;icgXto787QcUv1VEdovIj1h9wJRV95sislGsgUPi7JYfEJEw2/ylIrLaNt/UNnDAdlsPhwdsgwnE\n&quot;,</td>
      </tr>
      <tr>
        <td id="L460" class="blob-num js-line-number" data-line-number="460"></td>
        <td id="LC460" class="blob-code js-file-line">       &quot;2AYMmGPb739FZKgt3j0i0su2faBYAxL8aDue68s7FhF5DvAXa0CPD2zL0m0/Y0UkXkQ+FmuQiw/t\n&quot;,</td>
      </tr>
      <tr>
        <td id="L461" class="blob-num js-line-number" data-line-number="461"></td>
        <td id="LC461" class="blob-code js-file-line">       &quot;4h9uW/aTiLzm6K8dEelqi2Oz7d+xXYnytrYYLynxF1NlBhvuC+wyVt8qhX+J7bDtZz6AMea4MeYn\n&quot;,</td>
      </tr>
      <tr>
        <td id="L462" class="blob-num js-line-number" data-line-number="462"></td>
        <td id="LC462" class="blob-code js-file-line">       &quot;rK5vS1oCjK3EfpSrefpVWJ0q/cpwmu3nUGCWbd4Lqw+M/kB3IN5u/R1YXW2WXH8ZVt/cRXWW2M8l\n&quot;,</td>
      </tr>
      <tr>
        <td id="L463" class="blob-num js-line-number" data-line-number="463"></td>
        <td id="LC463" class="blob-code js-file-line">       &quot;wFbAHwgEtgPdbGUJQJiDbWKBpbb5IMDbNj8EWGibnwLss5U3BA7Y4osADgJNsF4BXwe8VsY5CLX9\n&quot;,</td>
      </tr>
      <tr>
        <td id="L464" class="blob-num js-line-number" data-line-number="464"></td>
        <td id="LC464" class="blob-code js-file-line">       &quot;9AZWAxeWjAur86fVtvl/AX+zzV+N1SVDGFZPf7lAV6yE9xPWuLhg9U39qW3+GWC8bb4xVncWAWUd\n&quot;,</td>
      </tr>
      <tr>
        <td id="L465" class="blob-num js-line-number" data-line-number="465"></td>
        <td id="LC465" class="blob-code js-file-line">       &quot;i6NzavfvFgucxuphUID1WF9eflhdyUbb1puHrZuEEvW8BoyzzfvYtovBen3+AuBn4CIH/x5TgNdt\n&quot;,</td>
      </tr>
      <tr>
        <td id="L466" class="blob-num js-line-number" data-line-number="466"></td>
        <td id="LC466" class="blob-code js-file-line">       &quot;8zOBBxzU/bD9cqwOoHxt88El1i1Vh+0cJHv6/4hORq/Qa6GhwFAR2QxswvrP3N5Yg2o0E5EIEekG\n&quot;,</td>
      </tr>
      <tr>
        <td id="L467" class="blob-num js-line-number" data-line-number="467"></td>
        <td id="LC467" class="blob-code js-file-line">       &quot;pBhjkh2s3xFoX079/YBFxpizxpgMrH5HrjyP+BoDC21tuy9jjbZSaKUxJs1Yf6b/ipWQLsf6Ijpp\n&quot;,</td>
      </tr>
      <tr>
        <td id="L468" class="blob-num js-line-number" data-line-number="468"></td>
        <td id="LC468" class="blob-code js-file-line">       &quot;rAFRFlD2VeUtIrIJK3l1LVG3I32xBljBGPMVxQcWSDDG7DBWRtqB1ZcGWF9gMbb5ocDDtnO3Gitx\n&quot;,</td>
      </tr>
      <tr>
        <td id="L469" class="blob-num js-line-number" data-line-number="469"></td>
        <td id="LC469" class="blob-code js-file-line">       &quot;RWE1XZQ8lugKYgHYYIw5ZNvnL1j9pHcC9htjDtrWmY/j4/8emCEiDwExxpgs2/JmWJ05jTPGlGpP\n&quot;,</td>
      </tr>
      <tr>
        <td id="L470" class="blob-num js-line-number" data-line-number="470"></td>
        <td id="LC470" class="blob-code js-file-line">       &quot;r6Qo4LDd563APBEZD+RXtLHtHHiJiJ+T+1fVxMfTASinPGuM+Y+D5R8D/we0wJbIKljfEUPxhCKc\n&quot;,</td>
      </tr>
      <tr>
        <td id="L471" class="blob-num js-line-number" data-line-number="471"></td>
        <td id="LC471" class="blob-code js-file-line">       &quot;X1v737GS3Y0iEg3E25Vl283nY/3+laxbAGw32X62lS/G6sTpAeBSY0yqiMzBukoFyONc82HJpFLW\n&quot;,</td>
      </tr>
      <tr>
        <td id="L472" class="blob-num js-line-number" data-line-number="472"></td>
        <td id="LC472" class="blob-code js-file-line">       &quot;l4N9LAVYnSUVztv/v7jJGPNbsQpFLi/jWCpS6eMvyRgzX0R+AEYAn4vIncB+rKv+g1h/pe2qRAxl\n&quot;,</td>
      </tr>
      <tr>
        <td id="L473" class="blob-num js-line-number" data-line-number="473"></td>
        <td id="LC473" class="blob-code js-file-line">       &quot;sd/vtVhf4tcBj4jIRcaYihL7+f6eKBfQK/Ta5ytgqlgj3iAirUSkqa1sAVZb5v9hJfeK1ndkLTBS\n&quot;,</td>
      </tr>
      <tr>
        <td id="L474" class="blob-num js-line-number" data-line-number="474"></td>
        <td id="LC474" class="blob-code js-file-line">       &quot;rO5NA7Fudq09j/iCsXqTA6snufIYrNGcBtjatn2B0QDGmAJjTHdjTA9jTJyt3gzgjIg0x+rRs9AB\n&quot;,</td>
      </tr>
      <tr>
        <td id="L475" class="blob-num js-line-number" data-line-number="475"></td>
        <td id="LC475" class="blob-code js-file-line">       &quot;rKYWgFF2y78DbgYQa4Dd0PM4DrDO3Z8LP4hIj8LZcrbJFWtotcowWM04bW1ffmB1N10qMYpIG2NM\n&quot;,</td>
      </tr>
      <tr>
        <td id="L476" class="blob-num js-line-number" data-line-number="476"></td>
        <td id="LC476" class="blob-code js-file-line">       &quot;gjHmdawvuItsRTnATcAkEamoHbusuA9iXQQU3iCNMsbEYzXFhGA1vZVZh4g0BPJtV+rKg/QKvfYw\n&quot;,</td>
      </tr>
      <tr>
        <td id="L477" class="blob-num js-line-number" data-line-number="477"></td>
        <td id="LC477" class="blob-code js-file-line">       &quot;AMaYr8UadPp76/8eacAE4Lgx5lexRkr63diGtHKwfjowHjiOg8RhjNksInM51+/y28aYLfYxlBFb\n&quot;,</td>
      </tr>
      <tr>
        <td id="L478" class="blob-num js-line-number" data-line-number="478"></td>
        <td id="LC478" class="blob-code js-file-line">       &quot;YdnzwHsi8iiw3G65w5FYjDFHbDc4v8e62txcxnpbbE0fu7C6HV1nV/wE8K6InMH6i8DYLZ8vIhNt\n&quot;,</td>
      </tr>
      <tr>
        <td id="L479" class="blob-num js-line-number" data-line-number="479"></td>
        <td id="LC479" class="blob-code js-file-line">       &quot;9R/BOl/BDvbh6GmQvwOvishWrIuf/Vht7OWNKvMfYKuIbDLW00DlPmVijMkS62b2lyKSgdXFrqO6\n&quot;,</td>
      </tr>
      <tr>
        <td id="L480" class="blob-num js-line-number" data-line-number="480"></td>
        <td id="LC480" class="blob-code js-file-line">       &quot;b7YdRy5W88jTWM1bxhiTKdYIUV+LSJrtGB2d97LiXgfcbZv3AT4QaxxUAf5pjDkj1gAMG7HOXYFY\n&quot;,</td>
      </tr>
      <tr>
        <td id="L481" class="blob-num js-line-number" data-line-number="481"></td>
        <td id="LC481" class="blob-code js-file-line">       &quot;N8u7GGvc3B5Y51d5mHafq+ossQZYyTfG5ItIb+ANYw0BV6OISKDtfgUi8gawxxjzTzfuX7Caty43\n&quot;,</td>
      </tr>
      <tr>
        <td id="L482" class="blob-num js-line-number" data-line-number="482"></td>
        <td id="LC482" class="blob-code js-file-line">       &quot;xuRUtL6D7Z8BNhpjPq324NR50SYXVZdFARtF5Bfgn8AdHo6nLHfYHkfcgXUFPMudO7fdpH0b6y+3\n&quot;,</td>
      </tr>
      <tr>
        <td id="L483" class="blob-num js-line-number" data-line-number="483"></td>
        <td id="LC483" class="blob-code js-file-line">       &quot;82JrbulH/RphqMbSK3SllKoj9ApdKaXqCE3oSilVR2hCV0qpOkITulJK1RGa0JVSqo7QhK6UUnXE\n&quot;,</td>
      </tr>
      <tr>
        <td id="L484" class="blob-num js-line-number" data-line-number="484"></td>
        <td id="LC484" class="blob-code js-file-line">       &quot;/wNupSziQKLaVQAAAABJRU5ErkJggg==\n&quot;</td>
      </tr>
      <tr>
        <td id="L485" class="blob-num js-line-number" data-line-number="485"></td>
        <td id="LC485" class="blob-code js-file-line">      ],</td>
      </tr>
      <tr>
        <td id="L486" class="blob-num js-line-number" data-line-number="486"></td>
        <td id="LC486" class="blob-code js-file-line">      &quot;text/plain&quot;: [</td>
      </tr>
      <tr>
        <td id="L487" class="blob-num js-line-number" data-line-number="487"></td>
        <td id="LC487" class="blob-code js-file-line">       &quot;&lt;matplotlib.figure.Figure at 0x3ec1f60&gt;&quot;</td>
      </tr>
      <tr>
        <td id="L488" class="blob-num js-line-number" data-line-number="488"></td>
        <td id="LC488" class="blob-code js-file-line">      ]</td>
      </tr>
      <tr>
        <td id="L489" class="blob-num js-line-number" data-line-number="489"></td>
        <td id="LC489" class="blob-code js-file-line">     },</td>
      </tr>
      <tr>
        <td id="L490" class="blob-num js-line-number" data-line-number="490"></td>
        <td id="LC490" class="blob-code js-file-line">     &quot;metadata&quot;: {},</td>
      </tr>
      <tr>
        <td id="L491" class="blob-num js-line-number" data-line-number="491"></td>
        <td id="LC491" class="blob-code js-file-line">     &quot;output_type&quot;: &quot;display_data&quot;</td>
      </tr>
      <tr>
        <td id="L492" class="blob-num js-line-number" data-line-number="492"></td>
        <td id="LC492" class="blob-code js-file-line">    }</td>
      </tr>
      <tr>
        <td id="L493" class="blob-num js-line-number" data-line-number="493"></td>
        <td id="LC493" class="blob-code js-file-line">   ],</td>
      </tr>
      <tr>
        <td id="L494" class="blob-num js-line-number" data-line-number="494"></td>
        <td id="LC494" class="blob-code js-file-line">   &quot;source&quot;: [</td>
      </tr>
      <tr>
        <td id="L495" class="blob-num js-line-number" data-line-number="495"></td>
        <td id="LC495" class="blob-code js-file-line">    &quot;%pylab inline             \n&quot;,</td>
      </tr>
      <tr>
        <td id="L496" class="blob-num js-line-number" data-line-number="496"></td>
        <td id="LC496" class="blob-code js-file-line">    &quot;import matplotlib.pyplot as plt\n&quot;,</td>
      </tr>
      <tr>
        <td id="L497" class="blob-num js-line-number" data-line-number="497"></td>
        <td id="LC497" class="blob-code js-file-line">    &quot;plt.plot(KTrat,&#39;--g&#39;,label=&#39;capital land ratio&#39;)\n&quot;,</td>
      </tr>
      <tr>
        <td id="L498" class="blob-num js-line-number" data-line-number="498"></td>
        <td id="LC498" class="blob-code js-file-line">    &quot;plt.plot(LTrat,&#39;-b&#39;,label=&#39;labor land ratio&#39;)\n&quot;,</td>
      </tr>
      <tr>
        <td id="L499" class="blob-num js-line-number" data-line-number="499"></td>
        <td id="LC499" class="blob-code js-file-line">    &quot;plt.plot(LKrat,&#39;-r&#39;,label=&#39;labor capital ratio&#39;)\n&quot;,</td>
      </tr>
      <tr>
        <td id="L500" class="blob-num js-line-number" data-line-number="500"></td>
        <td id="LC500" class="blob-code js-file-line">    &quot;plt.xlabel(&#39;level of land-augmenting skill (s1)&#39;)\n&quot;,</td>
      </tr>
      <tr>
        <td id="L501" class="blob-num js-line-number" data-line-number="501"></td>
        <td id="LC501" class="blob-code js-file-line">    &quot;plt.legend()\n&quot;,</td>
      </tr>
      <tr>
        <td id="L502" class="blob-num js-line-number" data-line-number="502"></td>
        <td id="LC502" class="blob-code js-file-line">    &quot;plt.show()&quot;</td>
      </tr>
      <tr>
        <td id="L503" class="blob-num js-line-number" data-line-number="503"></td>
        <td id="LC503" class="blob-code js-file-line">   ]</td>
      </tr>
      <tr>
        <td id="L504" class="blob-num js-line-number" data-line-number="504"></td>
        <td id="LC504" class="blob-code js-file-line">  },</td>
      </tr>
      <tr>
        <td id="L505" class="blob-num js-line-number" data-line-number="505"></td>
        <td id="LC505" class="blob-code js-file-line">  {</td>
      </tr>
      <tr>
        <td id="L506" class="blob-num js-line-number" data-line-number="506"></td>
        <td id="LC506" class="blob-code js-file-line">   &quot;cell_type&quot;: &quot;markdown&quot;,</td>
      </tr>
      <tr>
        <td id="L507" class="blob-num js-line-number" data-line-number="507"></td>
        <td id="LC507" class="blob-code js-file-line">   &quot;metadata&quot;: {},</td>
      </tr>
      <tr>
        <td id="L508" class="blob-num js-line-number" data-line-number="508"></td>
        <td id="LC508" class="blob-code js-file-line">   &quot;source&quot;: [</td>
      </tr>
      <tr>
        <td id="L509" class="blob-num js-line-number" data-line-number="509"></td>
        <td id="LC509" class="blob-code js-file-line">    &quot;It bears mentioning that this graph captures in a rough way basic empirical facts about agriculture - that labor and capital intensity go down as the size of parcel - which is proportionate to skill - increases. We can also describe how input demands work as functions of skill, which might be even more suggestive:&quot;</td>
      </tr>
      <tr>
        <td id="L510" class="blob-num js-line-number" data-line-number="510"></td>
        <td id="LC510" class="blob-code js-file-line">   ]</td>
      </tr>
      <tr>
        <td id="L511" class="blob-num js-line-number" data-line-number="511"></td>
        <td id="LC511" class="blob-code js-file-line">  },</td>
      </tr>
      <tr>
        <td id="L512" class="blob-num js-line-number" data-line-number="512"></td>
        <td id="LC512" class="blob-code js-file-line">  {</td>
      </tr>
      <tr>
        <td id="L513" class="blob-num js-line-number" data-line-number="513"></td>
        <td id="LC513" class="blob-code js-file-line">   &quot;cell_type&quot;: &quot;code&quot;,</td>
      </tr>
      <tr>
        <td id="L514" class="blob-num js-line-number" data-line-number="514"></td>
        <td id="LC514" class="blob-code js-file-line">   &quot;execution_count&quot;: 10,</td>
      </tr>
      <tr>
        <td id="L515" class="blob-num js-line-number" data-line-number="515"></td>
        <td id="LC515" class="blob-code js-file-line">   &quot;metadata&quot;: {</td>
      </tr>
      <tr>
        <td id="L516" class="blob-num js-line-number" data-line-number="516"></td>
        <td id="LC516" class="blob-code js-file-line">    &quot;collapsed&quot;: false</td>
      </tr>
      <tr>
        <td id="L517" class="blob-num js-line-number" data-line-number="517"></td>
        <td id="LC517" class="blob-code js-file-line">   },</td>
      </tr>
      <tr>
        <td id="L518" class="blob-num js-line-number" data-line-number="518"></td>
        <td id="LC518" class="blob-code js-file-line">   &quot;outputs&quot;: [],</td>
      </tr>
      <tr>
        <td id="L519" class="blob-num js-line-number" data-line-number="519"></td>
        <td id="LC519" class="blob-code js-file-line">   &quot;source&quot;: [</td>
      </tr>
      <tr>
        <td id="L520" class="blob-num js-line-number" data-line-number="520"></td>
        <td id="LC520" class="blob-code js-file-line">    &quot;def xDemands(s):\n&quot;,</td>
      </tr>
      <tr>
        <td id="L521" class="blob-num js-line-number" data-line-number="521"></td>
        <td id="LC521" class="blob-code js-file-line">    &quot;    Z=al*(al/w)**(rho/(1-rho))+ak*(ak/r)**(rho/(1-rho))\n&quot;,</td>
      </tr>
      <tr>
        <td id="L522" class="blob-num js-line-number" data-line-number="522"></td>
        <td id="LC522" class="blob-code js-file-line">    &quot;    CommonComponent=(Z**((phi/(1-phi))*((1-rho)/rho))+s*(s/q)**(phi/(1-phi)))\n&quot;,</td>
      </tr>
      <tr>
        <td id="L523" class="blob-num js-line-number" data-line-number="523"></td>
        <td id="LC523" class="blob-code js-file-line">    &quot;    CommonComponentPower=CommonComponent**((gam-phi)/(phi*(1-gam)))\n&quot;,</td>
      </tr>
      <tr>
        <td id="L524" class="blob-num js-line-number" data-line-number="524"></td>
        <td id="LC524" class="blob-code js-file-line">    &quot;    ld=gam**(1/(1-gam))*CommonComponentPower*Z**((phi-rho)/(rho*(1-phi)))*(al/w)**(1/(1-rho))\n&quot;,</td>
      </tr>
      <tr>
        <td id="L525" class="blob-num js-line-number" data-line-number="525"></td>
        <td id="LC525" class="blob-code js-file-line">    &quot;    kd=gam**(1/(1-gam))*CommonComponentPower*Z**((phi-rho)/(rho*(1-phi)))*(ak/r)**(1/(1-rho))\n&quot;,</td>
      </tr>
      <tr>
        <td id="L526" class="blob-num js-line-number" data-line-number="526"></td>
        <td id="LC526" class="blob-code js-file-line">    &quot;    td=gam**(1/(1-gam))*CommonComponentPower*(s/q)**(1/(1-phi))\n&quot;,</td>
      </tr>
      <tr>
        <td id="L527" class="blob-num js-line-number" data-line-number="527"></td>
        <td id="LC527" class="blob-code js-file-line">    &quot;    return (ld,kd,td)&quot;</td>
      </tr>
      <tr>
        <td id="L528" class="blob-num js-line-number" data-line-number="528"></td>
        <td id="LC528" class="blob-code js-file-line">   ]</td>
      </tr>
      <tr>
        <td id="L529" class="blob-num js-line-number" data-line-number="529"></td>
        <td id="LC529" class="blob-code js-file-line">  },</td>
      </tr>
      <tr>
        <td id="L530" class="blob-num js-line-number" data-line-number="530"></td>
        <td id="LC530" class="blob-code js-file-line">  {</td>
      </tr>
      <tr>
        <td id="L531" class="blob-num js-line-number" data-line-number="531"></td>
        <td id="LC531" class="blob-code js-file-line">   &quot;cell_type&quot;: &quot;code&quot;,</td>
      </tr>
      <tr>
        <td id="L532" class="blob-num js-line-number" data-line-number="532"></td>
        <td id="LC532" class="blob-code js-file-line">   &quot;execution_count&quot;: 11,</td>
      </tr>
      <tr>
        <td id="L533" class="blob-num js-line-number" data-line-number="533"></td>
        <td id="LC533" class="blob-code js-file-line">   &quot;metadata&quot;: {</td>
      </tr>
      <tr>
        <td id="L534" class="blob-num js-line-number" data-line-number="534"></td>
        <td id="LC534" class="blob-code js-file-line">    &quot;collapsed&quot;: false</td>
      </tr>
      <tr>
        <td id="L535" class="blob-num js-line-number" data-line-number="535"></td>
        <td id="LC535" class="blob-code js-file-line">   },</td>
      </tr>
      <tr>
        <td id="L536" class="blob-num js-line-number" data-line-number="536"></td>
        <td id="LC536" class="blob-code js-file-line">   &quot;outputs&quot;: [],</td>
      </tr>
      <tr>
        <td id="L537" class="blob-num js-line-number" data-line-number="537"></td>
        <td id="LC537" class="blob-code js-file-line">   &quot;source&quot;: [</td>
      </tr>
      <tr>
        <td id="L538" class="blob-num js-line-number" data-line-number="538"></td>
        <td id="LC538" class="blob-code js-file-line">    &quot;LD=np.zeros((N,1),float)\n&quot;,</td>
      </tr>
      <tr>
        <td id="L539" class="blob-num js-line-number" data-line-number="539"></td>
        <td id="LC539" class="blob-code js-file-line">    &quot;KD=np.zeros((N,1),float)\n&quot;,</td>
      </tr>
      <tr>
        <td id="L540" class="blob-num js-line-number" data-line-number="540"></td>
        <td id="LC540" class="blob-code js-file-line">    &quot;TD=np.zeros((N,1),float)\n&quot;,</td>
      </tr>
      <tr>
        <td id="L541" class="blob-num js-line-number" data-line-number="541"></td>
        <td id="LC541" class="blob-code js-file-line">    &quot;LD,KD,TD=xDemands(si)&quot;</td>
      </tr>
      <tr>
        <td id="L542" class="blob-num js-line-number" data-line-number="542"></td>
        <td id="LC542" class="blob-code js-file-line">   ]</td>
      </tr>
      <tr>
        <td id="L543" class="blob-num js-line-number" data-line-number="543"></td>
        <td id="LC543" class="blob-code js-file-line">  },</td>
      </tr>
      <tr>
        <td id="L544" class="blob-num js-line-number" data-line-number="544"></td>
        <td id="LC544" class="blob-code js-file-line">  {</td>
      </tr>
      <tr>
        <td id="L545" class="blob-num js-line-number" data-line-number="545"></td>
        <td id="LC545" class="blob-code js-file-line">   &quot;cell_type&quot;: &quot;markdown&quot;,</td>
      </tr>
      <tr>
        <td id="L546" class="blob-num js-line-number" data-line-number="546"></td>
        <td id="LC546" class="blob-code js-file-line">   &quot;metadata&quot;: {},</td>
      </tr>
      <tr>
        <td id="L547" class="blob-num js-line-number" data-line-number="547"></td>
        <td id="LC547" class="blob-code js-file-line">   &quot;source&quot;: [</td>
      </tr>
      <tr>
        <td id="L548" class="blob-num js-line-number" data-line-number="548"></td>
        <td id="LC548" class="blob-code js-file-line">    &quot;Armed with these demands, we can now plot them and see how they grow as capital augmenting skill goes.&quot;</td>
      </tr>
      <tr>
        <td id="L549" class="blob-num js-line-number" data-line-number="549"></td>
        <td id="LC549" class="blob-code js-file-line">   ]</td>
      </tr>
      <tr>
        <td id="L550" class="blob-num js-line-number" data-line-number="550"></td>
        <td id="LC550" class="blob-code js-file-line">  },</td>
      </tr>
      <tr>
        <td id="L551" class="blob-num js-line-number" data-line-number="551"></td>
        <td id="LC551" class="blob-code js-file-line">  {</td>
      </tr>
      <tr>
        <td id="L552" class="blob-num js-line-number" data-line-number="552"></td>
        <td id="LC552" class="blob-code js-file-line">   &quot;cell_type&quot;: &quot;code&quot;,</td>
      </tr>
      <tr>
        <td id="L553" class="blob-num js-line-number" data-line-number="553"></td>
        <td id="LC553" class="blob-code js-file-line">   &quot;execution_count&quot;: 12,</td>
      </tr>
      <tr>
        <td id="L554" class="blob-num js-line-number" data-line-number="554"></td>
        <td id="LC554" class="blob-code js-file-line">   &quot;metadata&quot;: {</td>
      </tr>
      <tr>
        <td id="L555" class="blob-num js-line-number" data-line-number="555"></td>
        <td id="LC555" class="blob-code js-file-line">    &quot;collapsed&quot;: false</td>
      </tr>
      <tr>
        <td id="L556" class="blob-num js-line-number" data-line-number="556"></td>
        <td id="LC556" class="blob-code js-file-line">   },</td>
      </tr>
      <tr>
        <td id="L557" class="blob-num js-line-number" data-line-number="557"></td>
        <td id="LC557" class="blob-code js-file-line">   &quot;outputs&quot;: [</td>
      </tr>
      <tr>
        <td id="L558" class="blob-num js-line-number" data-line-number="558"></td>
        <td id="LC558" class="blob-code js-file-line">    {</td>
      </tr>
      <tr>
        <td id="L559" class="blob-num js-line-number" data-line-number="559"></td>
        <td id="LC559" class="blob-code js-file-line">     &quot;data&quot;: {</td>
      </tr>
      <tr>
        <td id="L560" class="blob-num js-line-number" data-line-number="560"></td>
        <td id="LC560" class="blob-code js-file-line">      &quot;image/png&quot;: [</td>
      </tr>
      <tr>
        <td id="L561" class="blob-num js-line-number" data-line-number="561"></td>
        <td id="LC561" class="blob-code js-file-line">       &quot;iVBORw0KGgoAAAANSUhEUgAAAXsAAAEPCAYAAACjjWTcAAAABHNCSVQICAgIfAhkiAAAAAlwSFlz\n&quot;,</td>
      </tr>
      <tr>
        <td id="L562" class="blob-num js-line-number" data-line-number="562"></td>
        <td id="LC562" class="blob-code js-file-line">       &quot;AAALEgAACxIB0t1+/AAAIABJREFUeJzt3Xd8VUX6+PHPQw8lpBAgEEiQIk0FQRRrxIYFdXVF0FVQ\n&quot;,</td>
      </tr>
      <tr>
        <td id="L563" class="blob-num js-line-number" data-line-number="563"></td>
        <td id="LC563" class="blob-code js-file-line">       &quot;v+jq2tZ1V0FZ8afu2taCu7p2EWVXxYpYYJHYQIM0kSqhBAIJLQSSEEh5fn/MvclNJSQ3uTe5z/v1\n&quot;,</td>
      </tr>
      <tr>
        <td id="L564" class="blob-num js-line-number" data-line-number="564"></td>
        <td id="LC564" class="blob-code js-file-line">       &quot;mtdpc8+ZewhPJnPmzIiqYowxpnFrEugCGGOMqXsW7I0xJgRYsDfGmBBgwd4YY0KABXtjjAkBFuyN\n&quot;,</td>
      </tr>
      <tr>
        <td id="L565" class="blob-num js-line-number" data-line-number="565"></td>
        <td id="LC565" class="blob-code js-file-line">       &quot;MSYEVBnsReQ1EckQkRU++54QkdUislxEPhCR9j7HJorIryKyRkTOrcuCG2OMqb7D1exfB0aW2TcH\n&quot;,</td>
      </tr>
      <tr>
        <td id="L566" class="blob-num js-line-number" data-line-number="566"></td>
        <td id="LC566" class="blob-code js-file-line">       &quot;GKCqxwHrgIkAItIfuBLo7/nM8yJifzkYY0wQqDIYq+q3QGaZfXNVtciz+SMQ51m/BPiPquar6iZg\n&quot;,</td>
      </tr>
      <tr>
        <td id="L567" class="blob-num js-line-number" data-line-number="567"></td>
        <td id="LC567" class="blob-code js-file-line">       &quot;PTDMv8U1xhhTE7WteV8PfOZZ7wJs9Tm2Fehay/MbY4zxgxoHexG5DzikqjOqyGZjMRhjTBBoVpMP\n&quot;,</td>
      </tr>
      <tr>
        <td id="L568" class="blob-num js-line-number" data-line-number="568"></td>
        <td id="LC568" class="blob-code js-file-line">       &quot;ich44ALgLJ/daUA3n+04z76yn7VfAMYYUwOqKjX97BHX7EVkJPBn4BJVzfM59AkwRkRaiEgPoDeQ\n&quot;,</td>
      </tr>
      <tr>
        <td id="L569" class="blob-num js-line-number" data-line-number="569"></td>
        <td id="LC569" class="blob-code js-file-line">       &quot;XNE5VNWSKg888EDAyxAsye6F3Qu7F1Wn2qqyZi8i/wHOADqIyBbgAVzvmxbAXBEBWKiqt6jqKhF5\n&quot;,</td>
      </tr>
      <tr>
        <td id="L570" class="blob-num js-line-number" data-line-number="570"></td>
        <td id="LC570" class="blob-code js-file-line">       &quot;F1gFFAC3qD9KaIwxptaqDPaqOraC3a9Vkf9vwN9qWyhjjDH+Zf3gAygxMTHQRQgadi9K2L0oYffC\n&quot;,</td>
      </tr>
      <tr>
        <td id="L571" class="blob-num js-line-number" data-line-number="571"></td>
        <td id="LC571" class="blob-code js-file-line">       &quot;f6S+W1pExFp3jDHmCIkIWosHtDXqjVMXPO3/xlTJKgrG1EzQBHuw/8imalYhMKbmrM3eGGNCgAV7\n&quot;,</td>
      </tr>
      <tr>
        <td id="L572" class="blob-num js-line-number" data-line-number="572"></td>
        <td id="LC572" class="blob-code js-file-line">       &quot;Y4wJARbsjTEmBFiwD6Bvv/2Wvn371vjz48ePZ/LkydXKu2nTJpo0aUJRUdHhMwdQUlIS3bp1O3xG\n&quot;,</td>
      </tr>
      <tr>
        <td id="L573" class="blob-num js-line-number" data-line-number="573"></td>
        <td id="LC573" class="blob-code js-file-line">       &quot;Y8wRsWAfQKeddhpr1qwp3k5ISOCrr76q9udFxB5aGmOqxYJ9EPH0oz2iz1gPJmNMdViwr6YtW7Zw\n&quot;,</td>
      </tr>
      <tr>
        <td id="L574" class="blob-num js-line-number" data-line-number="574"></td>
        <td id="LC574" class="blob-code js-file-line">       &quot;2WWX0bFjRzp06MBtt90GQEpKCiNGjKBDhw7ExMTwu9/9jqysrOLPJSQk8OijjzJgwACioqK4/vrr\n&quot;,</td>
      </tr>
      <tr>
        <td id="L575" class="blob-num js-line-number" data-line-number="575"></td>
        <td id="LC575" class="blob-code js-file-line">       &quot;OXjwIFC6yeKaa64hNTWVUaNG0a5dO5588kkArrjiCmJjY4mIiOCMM85g1apV1SpvUVERd999NzEx\n&quot;,</td>
      </tr>
      <tr>
        <td id="L576" class="blob-num js-line-number" data-line-number="576"></td>
        <td id="LC576" class="blob-code js-file-line">       &quot;MfTs2ZPZs2eXOp6VlcUNN9xAly5diIuLY/LkycVNPG+88QannHIKd911F5GRkfTq1YsFCxbw+uuv\n&quot;,</td>
      </tr>
      <tr>
        <td id="L577" class="blob-num js-line-number" data-line-number="577"></td>
        <td id="LC577" class="blob-code js-file-line">       &quot;0717dzp16sSbb75ZfK7Zs2czePBg2rdvT/fu3XnwwQeLj3mbj958803i4+OJiYnhb38rGVHjwIED\n&quot;,</td>
      </tr>
      <tr>
        <td id="L578" class="blob-num js-line-number" data-line-number="578"></td>
        <td id="LC578" class="blob-code js-file-line">       &quot;jB8/nqioKAYMGMCiRYuq/W9ijKk+C/bVUFhYyEUXXUSPHj3YvHkzaWlpjBkzpvj4fffdx/bt21m9\n&quot;,</td>
      </tr>
      <tr>
        <td id="L579" class="blob-num js-line-number" data-line-number="579"></td>
        <td id="LC579" class="blob-code js-file-line">       &quot;ejVbtmxhypQppT4/Y8YM5syZQ0pKCuvWrePhhx8ud43p06fTvXt3Pv30U/bv38/dd98NwIUXXsj6\n&quot;,</td>
      </tr>
      <tr>
        <td id="L580" class="blob-num js-line-number" data-line-number="580"></td>
        <td id="LC580" class="blob-code js-file-line">       &quot;9evZuXMnxx9/PFdffXW1yvzSSy8xe/Zsli1bxk8//cTMmTNLNfmMHz+eFi1akJKSwtKlS5kzZw6v\n&quot;,</td>
      </tr>
      <tr>
        <td id="L581" class="blob-num js-line-number" data-line-number="581"></td>
        <td id="LC581" class="blob-code js-file-line">       &quot;vPJK8fHk5GSOO+449uzZw9ixYxk9ejRLliwhJSWFt956i1tvvZXc3FwA2rZty1tvvUVWVhazZ8/m\n&quot;,</td>
      </tr>
      <tr>
        <td id="L582" class="blob-num js-line-number" data-line-number="582"></td>
        <td id="LC582" class="blob-code js-file-line">       &quot;hRde4OOPPy5Vnu+//55169Yxb948/t//+3+sXbsWgAcffJCNGzeyYcMGvvzyS6ZNm2ZNU8bUhQAM\n&quot;,</td>
      </tr>
      <tr>
        <td id="L583" class="blob-num js-line-number" data-line-number="583"></td>
        <td id="LC583" class="blob-code js-file-line">       &quot;06kVqWy/rwfmP6BMoVx6YP4D1c5fWd6qLFiwQGNiYrSwsPCweT/88EMdPHhw8XZCQoK++OKLxduf\n&quot;,</td>
      </tr>
      <tr>
        <td id="L584" class="blob-num js-line-number" data-line-number="584"></td>
        <td id="LC584" class="blob-code js-file-line">       &quot;ffaZ9uzZU1VV58+fr3FxcaXyzps3r9JzZ2Zmqojovn37VFV1/Pjxev/991eY98wzzyx13Tlz5qiI\n&quot;,</td>
      </tr>
      <tr>
        <td id="L585" class="blob-num js-line-number" data-line-number="585"></td>
        <td id="LC585" class="blob-code js-file-line">       &quot;aGFhoaanp2vLli31wIEDxcdnzJihZ555pqqqvv7669q7d+/iYz///LOKiO7YsaN4X3R0tC5fvrzC\n&quot;,</td>
      </tr>
      <tr>
        <td id="L586" class="blob-num js-line-number" data-line-number="586"></td>
        <td id="LC586" class="blob-code js-file-line">       &quot;a99xxx36xz/+UVVVN27cqCKiaWlpxceHDRum77zzjqqqHnXUUfrll18WH3vppZdK3RNf1fkZMaax\n&quot;,</td>
      </tr>
      <tr>
        <td id="L587" class="blob-num js-line-number" data-line-number="587"></td>
        <td id="LC587" class="blob-code js-file-line">       &quot;8vz81zj2BtUbtIczJXEKUxKn1Fn+ymzZsoX4+HiaNCn/h1BGRgZ33HEH3333Hfv376eoqIioqKhS\n&quot;,</td>
      </tr>
      <tr>
        <td id="L588" class="blob-num js-line-number" data-line-number="588"></td>
        <td id="LC588" class="blob-code js-file-line">       &quot;eXx7l3Tv3p1t27ZV67pFRUVMmjSJmTNnsnPnzuLr79q1i3bt2lX52e3bt5e7rtfmzZvJz88nNja2\n&quot;,</td>
      </tr>
      <tr>
        <td id="L589" class="blob-num js-line-number" data-line-number="589"></td>
        <td id="LC589" class="blob-code js-file-line">       &quot;1LV883Tq1Kl4PSwsDICYmJhS+7KzswH48ccfuffee1m5ciWHDh3i4MGDjB49ulR5OnfuXLzeunXr\n&quot;,</td>
      </tr>
      <tr>
        <td id="L590" class="blob-num js-line-number" data-line-number="590"></td>
        <td id="LC590" class="blob-code js-file-line">       &quot;4s9u27at0nIaY/zHmnGqoVu3bqSmplJYWFju2KRJk2jatCm//PILWVlZTJ8+vVz3xtTU1FLrXbp0\n&quot;,</td>
      </tr>
      <tr>
        <td id="L591" class="blob-num js-line-number" data-line-number="591"></td>
        <td id="LC591" class="blob-code js-file-line">       &quot;qfA6ZZsv3n77bT755BPmzZtHVlYWGzduBKr3UDY2NrbcdX2/T8uWLdm9ezeZmZlkZmaSlZXFihUr\n&quot;,</td>
      </tr>
      <tr>
        <td id="L592" class="blob-num js-line-number" data-line-number="592"></td>
        <td id="LC592" class="blob-code js-file-line">       &quot;Dnveilx11VVceumlbN26lb179/L73/++2l08qyqnMcZ/LNhXw4knnkhsbCz33nsvubm55OXlsWDB\n&quot;,</td>
      </tr>
      <tr>
        <td id="L593" class="blob-num js-line-number" data-line-number="593"></td>
        <td id="LC593" class="blob-code js-file-line">       &quot;AgCys7Np06YN4eHhpKWl8cQTT5T6rKry/PPPk5aWxp49e3jkkUdKtff76tSpEykpKcXb2dnZtGzZ\n&quot;,</td>
      </tr>
      <tr>
        <td id="L594" class="blob-num js-line-number" data-line-number="594"></td>
        <td id="LC594" class="blob-code js-file-line">       &quot;kqioKHJycpg0aVK5c1dm9OjRTJ06lbS0NDIzM3n00UeLj8XGxnLuuedy1113Ff81kpKSwjfffHPE\n&quot;,</td>
      </tr>
      <tr>
        <td id="L595" class="blob-num js-line-number" data-line-number="595"></td>
        <td id="LC595" class="blob-code js-file-line">       &quot;98ZbzsjISFq0aEFycjIzZsyodrv76NGj+fvf/87evXvZunUrzz33XI3KYIypmgX7amjSpAmzZs1i\n&quot;,</td>
      </tr>
      <tr>
        <td id="L596" class="blob-num js-line-number" data-line-number="596"></td>
        <td id="LC596" class="blob-code js-file-line">       &quot;/fr1dO/enW7duvHuu+8C8MADD7BkyRLat2/PqFGjuPzyy0sFOhHhqquu4txzz6Vnz5707t2b+++/\n&quot;,</td>
      </tr>
      <tr>
        <td id="L597" class="blob-num js-line-number" data-line-number="597"></td>
        <td id="LC597" class="blob-code js-file-line">       &quot;v9Rxr4kTJ/Lwww8TGRnJU089xbXXXkt8fDxdu3Zl4MCBDB8+vNy5KwuqEyZM4LzzzuO4445j6NCh\n&quot;,</td>
      </tr>
      <tr>
        <td id="L598" class="blob-num js-line-number" data-line-number="598"></td>
        <td id="LC598" class="blob-code js-file-line">       &quot;5cr15ptvcujQIfr3709UVBRXXHEF6enplZ63quD9/PPP89e//pXw8HAeeughrrzyymp/9oEHHiA+\n&quot;,</td>
      </tr>
      <tr>
        <td id="L599" class="blob-num js-line-number" data-line-number="599"></td>
        <td id="LC599" class="blob-code js-file-line">       &quot;Pp4ePXowcuRIrr32WntAa0wdCJrx7GvSx7wh6NGjB6+++iojRowIdFEavMb6M2JMddR2PHur2Rtj\n&quot;,</td>
      </tr>
      <tr>
        <td id="L600" class="blob-num js-line-number" data-line-number="600"></td>
        <td id="LC600" class="blob-code js-file-line">       &quot;TAiwYG+MMSHAmnFMg2E/IyaUWTOOMcaYw7Jgb4wxIcCCvTHGhAAL9sYYEwIs2BtjTAiwYF9NCQkJ\n&quot;,</td>
      </tr>
      <tr>
        <td id="L601" class="blob-num js-line-number" data-line-number="601"></td>
        <td id="LC601" class="blob-code js-file-line">       &quot;zJs3r1p5mzRpwoYNG+q4RIG7Xk00lGkRjWmsLNhXk00BaIxpyKoM9iLymohkiMgKn31RIjJXRNaJ\n&quot;,</td>
      </tr>
      <tr>
        <td id="L602" class="blob-num js-line-number" data-line-number="602"></td>
        <td id="LC602" class="blob-code js-file-line">       &quot;yBwRifA5NlFEfhWRNSJybl0WPBQUFBQEugjGmEbicDX714GRZfbdC8xV1T7APM82ItIfuBLo7/nM\n&quot;,</td>
      </tr>
      <tr>
        <td id="L603" class="blob-num js-line-number" data-line-number="603"></td>
        <td id="LC603" class="blob-code js-file-line">       &quot;8yLSKP9ySE5OZvjw4URGRtKlSxduu+028vPzS+WZPXs2PXv2JCYmhr/85S/FLwOpKg8//DAJCQl0\n&quot;,</td>
      </tr>
      <tr>
        <td id="L604" class="blob-num js-line-number" data-line-number="604"></td>
        <td id="LC604" class="blob-code js-file-line">       &quot;6tSJcePGsW/fPqCkqeO1114jPj6es88+u8LrP/HEE8XTCb722muljh08eJC7776b+Ph4OnfuzM03\n&quot;,</td>
      </tr>
      <tr>
        <td id="L605" class="blob-num js-line-number" data-line-number="605"></td>
        <td id="LC605" class="blob-code js-file-line">       &quot;30xeXh7gpkGMi4vjiSeeoGPHjnTp0oWPPvqIzz77jD59+hAdHV1qdMzDfc8mTZrw4osv0qdPHyIj\n&quot;,</td>
      </tr>
      <tr>
        <td id="L606" class="blob-num js-line-number" data-line-number="606"></td>
        <td id="LC606" class="blob-code js-file-line">       &quot;I7n11luLjx1uWkRjTD073OwmQAKwwmd7DdDJs94ZWONZnwjc45PvC+CkCs5X1SwsQct3FqnFixfr\n&quot;,</td>
      </tr>
      <tr>
        <td id="L607" class="blob-num js-line-number" data-line-number="607"></td>
        <td id="LC607" class="blob-code js-file-line">       &quot;jz/+qIWFhbpp0ybt16+fPvPMM8V5RURHjBihmZmZmpqaqn369NFXXnlFVVVfffVV7dWrl27cuFGz\n&quot;,</td>
      </tr>
      <tr>
        <td id="L608" class="blob-num js-line-number" data-line-number="608"></td>
        <td id="LC608" class="blob-code js-file-line">       &quot;s7P1sssu02uuuUZVS2Z1GjdunObm5mpeXl65cnz++efaqVMnXblypebk5OjYsWNVRDQlJUVVVe+8\n&quot;,</td>
      </tr>
      <tr>
        <td id="L609" class="blob-num js-line-number" data-line-number="609"></td>
        <td id="LC609" class="blob-code js-file-line">       &quot;80695JJLNDMzU/fv36+jRo3SiRMnqqqbGatZs2b60EMPaUFBgb788ssaHR2tV111lWZnZ+vKlSs1\n&quot;,</td>
      </tr>
      <tr>
        <td id="L610" class="blob-num js-line-number" data-line-number="610"></td>
        <td id="LC610" class="blob-code js-file-line">       &quot;LCxMN23aVO3vOWrUKM3KytLU1FSNiYnRL774QlVVX3jhBe3bt69u3bpV9+zZo4mJidqkSZNqzfZV\n&quot;,</td>
      </tr>
      <tr>
        <td id="L611" class="blob-num js-line-number" data-line-number="611"></td>
        <td id="LC611" class="blob-code js-file-line">       &quot;mWD/GTHGr1asUPWZHY5azlRVk2Cf6bMu3m3gOeBqn2OvAJdXcL4Kv1d1/iODf1JNVDVl4NNPP62/\n&quot;,</td>
      </tr>
      <tr>
        <td id="L612" class="blob-num js-line-number" data-line-number="612"></td>
        <td id="LC612" class="blob-code js-file-line">       &quot;+c1virdFpNRUe88//7yeddZZqqo6YsQIfeGFF4qPrV27Vps3b66FhYXFwX7jxo2VluO6664rDt6q\n&quot;,</td>
      </tr>
      <tr>
        <td id="L613" class="blob-num js-line-number" data-line-number="613"></td>
        <td id="LC613" class="blob-code js-file-line">       &quot;quvWrSsO9kVFRdqmTZviwK/qplTs0aOHqrpgHxYWpkVFRaqqum/fPhURTU5OLs4/ZMgQ/eijj6r9\n&quot;,</td>
      </tr>
      <tr>
        <td id="L614" class="blob-num js-line-number" data-line-number="614"></td>
        <td id="LC614" class="blob-code js-file-line">       &quot;Pb///vvi7dGjR+tjjz2mqlVPi1hTFuxNyDh0SLV/f9UPPyzeVdtgX6tpCVXdf/iqstTm/OWv58+z\n&quot;,</td>
      </tr>
      <tr>
        <td id="L615" class="blob-num js-line-number" data-line-number="615"></td>
        <td id="LC615" class="blob-code js-file-line">       &quot;1dy6deu46667WLx4Mbm5uRQUFDB06NBSeSqbinD79u3Ex8eXOlZQUEBGRkaFny1r+/btnHDCCaU+\n&quot;,</td>
      </tr>
      <tr>
        <td id="L616" class="blob-num js-line-number" data-line-number="616"></td>
        <td id="LC616" class="blob-code js-file-line">       &quot;77Vz505yc3MZMmRI8T5VLdUDJjo6uvhBs3e6wbJTEObk5FT7e1Y23WBV0yIaYw5j6lTo1g0uucRv\n&quot;,</td>
      </tr>
      <tr>
        <td id="L617" class="blob-num js-line-number" data-line-number="617"></td>
        <td id="LC617" class="blob-code js-file-line">       &quot;p6xJsM8Qkc6qmi4iscAOz/40wDdKxXn2lTNlypTi9cTERBITE2tQjMC5+eabGTJkCO+88w5t2rTh\n&quot;,</td>
      </tr>
      <tr>
        <td id="L618" class="blob-num js-line-number" data-line-number="618"></td>
        <td id="LC618" class="blob-code js-file-line">       &quot;mWee4f333y+VJzU1lX79+hWvd+3aFYAuXbqwadOmUvmaNWtGp06diqfkq6rXT1XT+HXo0IGwsDBW\n&quot;,</td>
      </tr>
      <tr>
        <td id="L619" class="blob-num js-line-number" data-line-number="619"></td>
        <td id="LC619" class="blob-code js-file-line">       &quot;rVpVan7ZuvyeNSmnMaYK27bB3/9O0tNPk/Tgg347bU2C/SfAOOAxz/Ijn/0zROQpoCvQG0iu6AS+\n&quot;,</td>
      </tr>
      <tr>
        <td id="L620" class="blob-num js-line-number" data-line-number="620"></td>
        <td id="LC620" class="blob-code js-file-line">       &quot;wb4hys7Opl27drRu3Zo1a9bwwgsv0LFjx1J5nnzySU488UT279/P1KlT+dOf/gTA2LFjeeyxxzj/\n&quot;,</td>
      </tr>
      <tr>
        <td id="L621" class="blob-num js-line-number" data-line-number="621"></td>
        <td id="LC621" class="blob-code js-file-line">       &quot;/PPp0KEDkyZNYsyYMRVOZl6R0aNHc9111xXPYvWgzw9DkyZNmDBhAnfeeSf//Oc/iYmJIS0tjZUr\n&quot;,</td>
      </tr>
      <tr>
        <td id="L622" class="blob-num js-line-number" data-line-number="622"></td>
        <td id="LC622" class="blob-code js-file-line">       &quot;V3LuuUfeOao639OX989FbzmnTp3KRRddROvWrUs9+DXGVOHPf4YbbyTxmmtI9Nn9YC0D/+G6Xv4H\n&quot;,</td>
      </tr>
      <tr>
        <td id="L623" class="blob-num js-line-number" data-line-number="623"></td>
        <td id="LC623" class="blob-code js-file-line">       &quot;WAAcLSJbROQ64FHgHBFZB4zwbKOqq4B3gVXA58AtqsHS8OJfTz75JDNmzCA8PJwbb7yRMWPGlKuN\n&quot;,</td>
      </tr>
      <tr>
        <td id="L624" class="blob-num js-line-number" data-line-number="624"></td>
        <td id="LC624" class="blob-code js-file-line">       &quot;X3LJJQwZMoTBgwdz0UUXcf311wNw/fXXc80113D66adz1FFH0bp161Lzrh6uL//IkSO58847GTFi\n&quot;,</td>
      </tr>
      <tr>
        <td id="L625" class="blob-num js-line-number" data-line-number="625"></td>
        <td id="LC625" class="blob-code js-file-line">       &quot;BH369OGss84q9ZnHHnuMXr16cdJJJ9G+fXvOOecc1q1bV+n5q7re4b5nRefy7jvctIjGmAp8/TV8\n&quot;,</td>
      </tr>
      <tr>
        <td id="L626" class="blob-num js-line-number" data-line-number="626"></td>
        <td id="LC626" class="blob-code js-file-line">       &quot;9x3cd5/fT23j2ZsGw35GTKOWnw/HHw9TpsDll5c7bOPZG2NMY/Dss9ClC1x2WZ2c3mr2psGwnxHT\n&quot;,</td>
      </tr>
      <tr>
        <td id="L627" class="blob-num js-line-number" data-line-number="627"></td>
        <td id="LC627" class="blob-code js-file-line">       &quot;aG3ZAoMHww8/QK9eFWaxmr0xxjR0d9wBt91WaaD3h1r1szfGGFNLs2fDihUwY0adXsaCvTHGBEpu\n&quot;,</td>
      </tr>
      <tr>
        <td id="L628" class="blob-num js-line-number" data-line-number="628"></td>
        <td id="LC628" class="blob-code js-file-line">       &quot;rqvRv/gitGpVp5eyZhxjjAmUhx+GYcPgnHPq/FJWszfGmEBYsQJeeQV+/rleLmc1e2OMqW9FRXDT\n&quot;,</td>
      </tr>
      <tr>
        <td id="L629" class="blob-num js-line-number" data-line-number="629"></td>
        <td id="LC629" class="blob-code js-file-line">       &quot;TfDQQ+AzvlRdsmBfTUcyLeGRONLp+saPH8/kyZP9Xg5/S0xM5NVXXw10MYwJTi+9BE2awIQJ9XZJ\n&quot;,</td>
      </tr>
      <tr>
        <td id="L630" class="blob-num js-line-number" data-line-number="630"></td>
        <td id="LC630" class="blob-code js-file-line">       &quot;a8appmCZljBYynE4DaWcxtS77dth8mRISnIBv55Yzb4BsheLjGnAbr8dbrwRBgyo18tasK+B+pyu\n&quot;,</td>
      </tr>
      <tr>
        <td id="L631" class="blob-num js-line-number" data-line-number="631"></td>
        <td id="LC631" class="blob-code js-file-line">       &quot;b+nSpRx//PGEh4czZsyY4ikGvT799FMGDRpEZGQkp5xyCitWFE8XTEJCAk8++STHHnss7dq144Yb\n&quot;,</td>
      </tr>
      <tr>
        <td id="L632" class="blob-num js-line-number" data-line-number="632"></td>
        <td id="LC632" class="blob-code js-file-line">       &quot;biAjI4Pzzz+/eJC0vXv3Fue/4ooriI2NJSIigjPOOINVq1YVHxs/fjx/+MMfuOiiiwgPD+ekk05i\n&quot;,</td>
      </tr>
      <tr>
        <td id="L633" class="blob-num js-line-number" data-line-number="633"></td>
        <td id="LC633" class="blob-code js-file-line">       &quot;w4YNxcfnzp1L3759iYiI4Lbbbis1AqYxxuOjj2D5crj//vq/dm1mPqlJIkSmJfTHdH0HDx7U7t27\n&quot;,</td>
      </tr>
      <tr>
        <td id="L634" class="blob-num js-line-number" data-line-number="634"></td>
        <td id="LC634" class="blob-code js-file-line">       &quot;6zPPPKMFBQU6c+ZMbd68uU6ePFlVVZcsWaIdO3bU5ORkLSoq0mnTpmlCQoIeOnSouMzDhw/XHTt2\n&quot;,</td>
      </tr>
      <tr>
        <td id="L635" class="blob-num js-line-number" data-line-number="635"></td>
        <td id="LC635" class="blob-code js-file-line">       &quot;aFpamnbs2FEHDx6sy5Yt07y8PB0xYoQ++OCDxdd7/fXXNTs7Ww8dOqR33nmnDho0qPjYuHHjNDo6\n&quot;,</td>
      </tr>
      <tr>
        <td id="L636" class="blob-num js-line-number" data-line-number="636"></td>
        <td id="LC636" class="blob-code js-file-line">       &quot;WhctWqQFBQV69dVX65gxY1RVdefOndquXTt9//33taCgQJ9++mlt1qyZvvrqq379Nwj2nxFjqpSZ\n&quot;,</td>
      </tr>
      <tr>
        <td id="L637" class="blob-num js-line-number" data-line-number="637"></td>
        <td id="LC637" class="blob-code js-file-line">       &quot;qdq1q+rXX9fo49T1tIT+TrUK9gGcl/BIpyX0x3R9X3/9tXbp0qXUvpNPPrk42P/+978vXvc6+uij\n&quot;,</td>
      </tr>
      <tr>
        <td id="L638" class="blob-num js-line-number" data-line-number="638"></td>
        <td id="LC638" class="blob-code js-file-line">       &quot;9Ztvviku84wZM4qPXX755XrLLbcUbz/33HN66aWXVvidMjMzVUR03759qqo6fvx4nTBhQvHxzz77\n&quot;,</td>
      </tr>
      <tr>
        <td id="L639" class="blob-num js-line-number" data-line-number="639"></td>
        <td id="LC639" class="blob-code js-file-line">       &quot;TPv27auqqtOmTdPhw4eX+nxcXJwFe2N8TZigetNNNf54bYN9w3pAGyTNAvU1Xd+2bduKZ7jy8p3S\n&quot;,</td>
      </tr>
      <tr>
        <td id="L640" class="blob-num js-line-number" data-line-number="640"></td>
        <td id="LC640" class="blob-code js-file-line">       &quot;cPPmzbz55pulxsPPz88vngIRyk856LvdqlWr4nIVFhZy3333MXPmTHbu3Fk8mcquXbto165dhefy\n&quot;,</td>
      </tr>
      <tr>
        <td id="L641" class="blob-num js-line-number" data-line-number="641"></td>
        <td id="LC641" class="blob-code js-file-line">       &quot;fnbbtm3ExcWVKmdVUysaE3KSkuDzz+GXXwJWBGuzr4Gbb76Z/v37s379erKysnjkkUeq3XXySKbr\n&quot;,</td>
      </tr>
      <tr>
        <td id="L642" class="blob-num js-line-number" data-line-number="642"></td>
        <td id="LC642" class="blob-code js-file-line">       &quot;i42NJS2t9MyOmzdvLl7v3r079913H5mZmcUpOzubK6+8stJzaiW/MGfMmMEnn3zCvHnzyMrKYuPG\n&quot;,</td>
      </tr>
      <tr>
        <td id="L643" class="blob-num js-line-number" data-line-number="643"></td>
        <td id="LC643" class="blob-code js-file-line">       &quot;jVXm99WlSxe2bNlS6hq+28aEtNxc18XyX/+C9u0DVgwL9jVQ0XR9VfH+GQUl0/WlpaWRmZlZ5XR9\n&quot;,</td>
      </tr>
      <tr>
        <td id="L644" class="blob-num js-line-number" data-line-number="644"></td>
        <td id="LC644" class="blob-code js-file-line">       &quot;J598Ms2aNWPq1Knk5+fzwQcfsGjRouLjEyZM4N///jfJycmoKjk5OcyePbu4xn2k36lly5ZERUWR\n&quot;,</td>
      </tr>
      <tr>
        <td id="L645" class="blob-num js-line-number" data-line-number="645"></td>
        <td id="LC645" class="blob-code js-file-line">       &quot;k5PDpEmTyn2HylxwwQWsXLmSDz/8kIKCAqZOnUp6evoRl8GYRmnyZBg6FC6+OKDFsGBfA/U1XV/z\n&quot;,</td>
      </tr>
      <tr>
        <td id="L646" class="blob-num js-line-number" data-line-number="646"></td>
        <td id="LC646" class="blob-code js-file-line">       &quot;5s354IMPeOONN4iOjubdd9/lcp8ZbIYMGcLLL7/MrbfeSlRUFL179+bNN9+ssn972XJ6t71z2nbt\n&quot;,</td>
      </tr>
      <tr>
        <td id="L647" class="blob-num js-line-number" data-line-number="647"></td>
        <td id="LC647" class="blob-code js-file-line">       &quot;2pWBAwcyfPjwSvOWPVeHDh147733uPfee+nQoQPr16/n1FNPrfIeGhMSFixwo1n6NLUGik1eYhoM\n&quot;,</td>
      </tr>
      <tr>
        <td id="L648" class="blob-num js-line-number" data-line-number="648"></td>
        <td id="LC648" class="blob-code js-file-line">       &quot;+xkxDcqBA25CkocegiuuqPXpajt5iQV702DYz4hpUO65B1JSYOZMv5yutsG+YfXGMcaYhiA5Gd54\n&quot;,</td>
      </tr>
      <tr>
        <td id="L649" class="blob-num js-line-number" data-line-number="649"></td>
        <td id="LC649" class="blob-code js-file-line">       &quot;o95GtKwOa7M3xhh/OnAAxo1zE4j7dFcONGvGMQ2G/YyYBuHuuyE1Fd5916+ntWYcY4wJFt9+63rf\n&quot;,</td>
      </tr>
      <tr>
        <td id="L650" class="blob-num js-line-number" data-line-number="650"></td>
        <td id="LC650" class="blob-code js-file-line">       &quot;BFHzjZc14xhjjD9kZ8N118G//w0dOgS6NOUEVTOOMYdjzTgmaN1yC+TkwLRpdXL6RtOMY/+JjTEN\n&quot;,</td>
      </tr>
      <tr>
        <td id="L651" class="blob-num js-line-number" data-line-number="651"></td>
        <td id="LC651" class="blob-code js-file-line">       &quot;1uefw+zZbvjiIBU0wd4YYxqk3bvh//4P3noLIiICXZpKBU0zjjHGNDiq7u3Y+Hj4xz/q9FK1bcap\n&quot;,</td>
      </tr>
      <tr>
        <td id="L652" class="blob-num js-line-number" data-line-number="652"></td>
        <td id="LC652" class="blob-code js-file-line">       &quot;8QNaEZkoIitFZIWIzBCRliISJSJzRWSdiMwRkeD9NWeMMbX11luwZg088kigS3JYNarZi0gC8BXQ\n&quot;,</td>
      </tr>
      <tr>
        <td id="L653" class="blob-num js-line-number" data-line-number="653"></td>
        <td id="LC653" class="blob-code js-file-line">       &quot;T1UPisg7wGfAAGCXqj4uIvcAkap6b5nPWs3eGNPwbdoEw4bBnDkwaFCdXy5QNft9QD7QWkSaAa2B\n&quot;,</td>
      </tr>
      <tr>
        <td id="L654" class="blob-num js-line-number" data-line-number="654"></td>
        <td id="LC654" class="blob-code js-file-line">       &quot;bcDFgPdR9DTg0poWzBhjglZBAfzud/CXv9RLoPeHGgV7Vd0D/ANIxQX5vao6F+ikqhmebBlA8Lwr\n&quot;,</td>
      </tr>
      <tr>
        <td id="L655" class="blob-num js-line-number" data-line-number="655"></td>
        <td id="LC655" class="blob-code js-file-line">       &quot;bIwx/vK3v0GrVnDXXYEuSbXVqDeOiPQE7gQSgCzgPRH5nW8eVTcXa0WfnzJlSvF6YmIiiYmJNSmG\n&quot;,</td>
      </tr>
      <tr>
        <td id="L656" class="blob-num js-line-number" data-line-number="656"></td>
        <td id="LC656" class="blob-code js-file-line">       &quot;McbUv4UL3axTS5ZAk7p7LzUpKYmkpCS/na+mbfZXAueo6v95tq8BTgJGAGeqarqIxALzVbVvmc9a\n&quot;,</td>
      </tr>
      <tr>
        <td id="L657" class="blob-num js-line-number" data-line-number="657"></td>
        <td id="LC657" class="blob-code js-file-line">       &quot;m70xpmHat8812zz1FFxav63UgWqzXwOcJCJh4l59PRtYBcwCxnnyjAM+qmnBjDEmqKjCzTfDOefU\n&quot;,</td>
      </tr>
      <tr>
        <td id="L658" class="blob-num js-line-number" data-line-number="658"></td>
        <td id="LC658" class="blob-code js-file-line">       &quot;e6D3hxo146jqchF5E/gJKAKWAC8B7YB3ReQGYBMw2k/lNMaYwJo2zb0hm5wc6JLUiL1UZYwxh7Nm\n&quot;,</td>
      </tr>
      <tr>
        <td id="L659" class="blob-num js-line-number" data-line-number="659"></td>
        <td id="LC659" class="blob-code js-file-line">       &quot;DZx2GsyfDwMHBqQIAXupyhhjQkJeHowZAw8/HLBA7w9WszfGmKrcdhukp7vJSAI4Om+jGfXSGGOC\n&quot;,</td>
      </tr>
      <tr>
        <td id="L660" class="blob-num js-line-number" data-line-number="660"></td>
        <td id="LC660" class="blob-code js-file-line">       &quot;zsyZbjTLJUsCGuj9wWr2xhhTkZQUGD7cBfsTTgh0aazN3hhj/C4vD0aPhsmTgyLQ+4PV7I0xpqxb\n&quot;,</td>
      </tr>
      <tr>
        <td id="L661" class="blob-num js-line-number" data-line-number="661"></td>
        <td id="LC661" class="blob-code js-file-line">       &quot;b3Xt9O+9FzTNN9Zmb4wx/vTf/7qZpxpBO70vq9kbY4zXqlVwxhkwd27QjWZpbfbGGOMP+/fD5ZfD\n&quot;,</td>
      </tr>
      <tr>
        <td id="L662" class="blob-num js-line-number" data-line-number="662"></td>
        <td id="LC662" class="blob-code js-file-line">       &quot;Y48FXaD3B6vZG2OMKowdC23bwiuvBLo0FbI2e2OMqa2pU2HtWliwINAlqTNWszfGhLavv3bdLBcu\n&quot;,</td>
      </tr>
      <tr>
        <td id="L663" class="blob-num js-line-number" data-line-number="663"></td>
        <td id="LC663" class="blob-code js-file-line">       &quot;hKOOCnRpKmVt9sYYU1Nbt7pxb958M6gDvT9YsDfGhKaDB+G3v4Xbb4fzzgt0aeqcNeMYY0KPKtx4\n&quot;,</td>
      </tr>
      <tr>
        <td id="L664" class="blob-num js-line-number" data-line-number="664"></td>
        <td id="LC664" class="blob-code js-file-line">       &quot;I+zZ48a/aQD96e0BrTHGHKkXXnBt9AsXNohA7w9WszfGhJakJLjyStfzpmfPQJem2uwBrTHGVNem\n&quot;,</td>
      </tr>
      <tr>
        <td id="L665" class="blob-num js-line-number" data-line-number="665"></td>
        <td id="LC665" class="blob-code js-file-line">       &quot;Ta4//dtvN6hA7w8W7I0xoSEnx00Ufu+9cPbZgS5NvbNmHGNM41dU5IZCiIyEV19tkO309oDWGGMO\n&quot;,</td>
      </tr>
      <tr>
        <td id="L666" class="blob-num js-line-number" data-line-number="666"></td>
        <td id="LC666" class="blob-code js-file-line">       &quot;5/77YfduN6JlAwz0/mDB3hjTuE2f7oL8jz9Cy5aBLk3AWDOOMabxWrDAtdPPnw8DBgS6NLVivXGM\n&quot;,</td>
      </tr>
      <tr>
        <td id="L667" class="blob-num js-line-number" data-line-number="667"></td>
        <td id="LC667" class="blob-code js-file-line">       &quot;MaYiKSmunX7atAYf6P3Bgr0xpvHZswcuvBD++lc4//xAlyYoWDOOMaZxOXQIzj0XhgyBf/wj0KXx\n&quot;,</td>
      </tr>
      <tr>
        <td id="L668" class="blob-num js-line-number" data-line-number="668"></td>
        <td id="LC668" class="blob-code js-file-line">       &quot;m9o241iwN8Y0Hqowfjzs2+fGvGnaNNAl8hvremmMMV4PPACrV7sHso0o0PtDjdvsRSRCRGaKyGoR\n&quot;,</td>
      </tr>
      <tr>
        <td id="L669" class="blob-num js-line-number" data-line-number="669"></td>
        <td id="LC669" class="blob-code js-file-line">       &quot;WSUiJ4pIlIjMFZF1IjJHRCL8WVhjjKnUyy/DjBnw6afQpk2gSxN0avOA9lngM1XtBxwLrAHuBeaq\n&quot;,</td>
      </tr>
      <tr>
        <td id="L670" class="blob-num js-line-number" data-line-number="670"></td>
        <td id="LC670" class="blob-code js-file-line">       &quot;ah9gnmfbGGPq1uzZMHkyfP45dOwY6NIEpRq12YtIe2Cpqh5VZv8a4AxVzRCRzkCSqvYtk8fa7I0x\n&quot;,</td>
      </tr>
      <tr>
        <td id="L671" class="blob-num js-line-number" data-line-number="671"></td>
        <td id="LC671" class="blob-code js-file-line">       &quot;/rNoEVxwAcyaBSedFOjS1JlA9bPvAewUkddFZImIvCwibYBOqprhyZMBdKppwYwx5rDWroWLL3bj\n&quot;,</td>
      </tr>
      <tr>
        <td id="L672" class="blob-num js-line-number" data-line-number="672"></td>
        <td id="LC672" class="blob-code js-file-line">       &quot;3TTiQO8PNX1A2ww4HrhVVReJyDOUabJRVRWRCqvwU6ZMKV5PTEwkMTGxhsUwxoSsbdtg5Eh45BEX\n&quot;,</td>
      </tr>
      <tr>
        <td id="L673" class="blob-num js-line-number" data-line-number="673"></td>
        <td id="LC673" class="blob-code js-file-line">       &quot;8BuZpKQkkpKS/Ha+mjbjdAYWqmoPz/apwETgKOBMVU0XkVhgvjXjGGP8bu9eOP10Nzb9xImBLk29\n&quot;,</td>
      </tr>
      <tr>
        <td id="L674" class="blob-num js-line-number" data-line-number="674"></td>
        <td id="LC674" class="blob-code js-file-line">       &quot;CEgzjqqmA1tEpI9n19nASmAWMM6zbxzwUU0LZowxFcrNhVGj4Mwz3dj0plpq/FKViBwHvAK0AFKA\n&quot;,</td>
      </tr>
      <tr>
        <td id="L675" class="blob-num js-line-number" data-line-number="675"></td>
        <td id="LC675" class="blob-code js-file-line">       &quot;64CmwLtAd2ATMFpV95b5nNXsjTE1c+iQG9gsOtqNedMkdEZ8sTdojTGhobAQfvc7N+PU++9D8+aB\n&quot;,</td>
      </tr>
      <tr>
        <td id="L676" class="blob-num js-line-number" data-line-number="676"></td>
        <td id="LC676" class="blob-code js-file-line">       &quot;LlG9sjdojTGNnyrceiukp7u+9CEW6P3Bgr0xJripwp//DIsXw//+B61aBbpEDZIFe2NMcJsyBebO\n&quot;,</td>
      </tr>
      <tr>
        <td id="L677" class="blob-num js-line-number" data-line-number="677"></td>
        <td id="LC677" class="blob-code js-file-line">       &quot;dePdhIcHujQNlgV7Y0zweuwxePdd+PpriIoKdGkaNAv2xpjg9Oyz8NJL8M03Nt6NH1iwN8YEn3/9\n&quot;,</td>
      </tr>
      <tr>
        <td id="L678" class="blob-num js-line-number" data-line-number="678"></td>
        <td id="LC678" class="blob-code js-file-line">       &quot;C555BpKSoGvXQJemUbBgb4wJLi++CI8/7gJ9fHygS9NoWLA3xgSPV16Bhx92gb5Hj0CXplGxYG+M\n&quot;,</td>
      </tr>
      <tr>
        <td id="L679" class="blob-num js-line-number" data-line-number="679"></td>
        <td id="LC679" class="blob-code js-file-line">       &quot;CQ4vveQC/VdfQc+egS5No2PB3hgTeC+8AI8+6rpXWqCvExbsjTGB9c9/wj/+YU03dcyCvTEmcJ58\n&quot;,</td>
      </tr>
      <tr>
        <td id="L680" class="blob-num js-line-number" data-line-number="680"></td>
        <td id="LC680" class="blob-code js-file-line">       &quot;Ep5/3tXoExICXZpGzYK9Mab+qcJDD8Hbb7t+9HFxgS5Ro2fB3hhTv1TdhCOzZ7tA38lmL60PFuyN\n&quot;,</td>
      </tr>
      <tr>
        <td id="L681" class="blob-num js-line-number" data-line-number="681"></td>
        <td id="LC681" class="blob-code js-file-line">       &quot;MfWnqAhuvx0WLnRt9NHRgS5RyLBgb4ypH/n5cN11kJrqule2bx/oEoUUC/bGmLp34ABceaWbgOSL\n&quot;,</td>
      </tr>
      <tr>
        <td id="L682" class="blob-num js-line-number" data-line-number="682"></td>
        <td id="LC682" class="blob-code js-file-line">       &quot;L6B160CXKOSEzpxexpjA2LsXRo6ENm3gww8t0AeIBXtjTN3Zvh3OOAOOPdb1vGnRItAlClkW7I0x\n&quot;,</td>
      </tr>
      <tr>
        <td id="L683" class="blob-num js-line-number" data-line-number="683"></td>
        <td id="LC683" class="blob-code js-file-line">       &quot;dePXX+GUU2D0aJg6NaQmBw9G1mZvjPG/5GS45BLXl/7//i/QpTFYsDfG+NusWXD99fDaazBqVKBL\n&quot;,</td>
      </tr>
      <tr>
        <td id="L684" class="blob-num js-line-number" data-line-number="684"></td>
        <td id="LC684" class="blob-code js-file-line">       &quot;Yzzs7ypjjP+8+CLcdJN7YcoCfVCxmr0xpvaKimDSJHj/ffj2Wxu5MghZsDfG1M6BA3DttZCe7t6M\n&quot;,</td>
      </tr>
      <tr>
        <td id="L685" class="blob-num js-line-number" data-line-number="685"></td>
        <td id="LC685" class="blob-code js-file-line">       &quot;7dAh0CUyFbBmHGNMzWVkwJlnui6V//ufBfogZsHeGFMzK1bASSfBeefBW29By5aBLpGpgjXjGGOO\n&quot;,</td>
      </tr>
      <tr>
        <td id="L686" class="blob-num js-line-number" data-line-number="686"></td>
        <td id="LC686" class="blob-code js-file-line">       &quot;3KxZcMMN8OyzMHZsoEtjqqFWNXsRaSoiS0Vklmc7SkTmisg6EZkjIhH+KaYxJiiowuOPw803w6ef\n&quot;,</td>
      </tr>
      <tr>
        <td id="L687" class="blob-num js-line-number" data-line-number="687"></td>
        <td id="LC687" class="blob-code js-file-line">       &quot;WqBvQGrbjHMHsApQz/a9wFxV7QPM82wbYxqDAwfgmmvgnXfghx9g2LBAl8gcgRoHexGJAy4AXgHE\n&quot;,</td>
      </tr>
      <tr>
        <td id="L688" class="blob-num js-line-number" data-line-number="688"></td>
        <td id="LC688" class="blob-code js-file-line">       &quot;s/tiYJpnfRpwaa1KZ4wJDqmpcOqprmb/7bc2s1QDVJua/dPAn4Ein32dVDXDs54B2BQ0xjR033zj\n&quot;,</td>
      </tr>
      <tr>
        <td id="L689" class="blob-num js-line-number" data-line-number="689"></td>
        <td id="LC689" class="blob-code js-file-line">       &quot;HsSOHesexNqolQ1SjR7QishFwA5VXSoiiRXlUVUVEa3o2JQpU4rXExMTSUys8BTGmEBSdQ9g//53\n&quot;,</td>
      </tr>
      <tr>
        <td id="L690" class="blob-num js-line-number" data-line-number="690"></td>
        <td id="LC690" class="blob-code js-file-line">       &quot;mD4dzj030CUKKUlJSSQlJfntfKJaYTyu+kMifwOuAQqAVkA48AFwApCoqukiEgvMV9W+ZT6rNbmm\n&quot;,</td>
      </tr>
      <tr>
        <td id="L691" class="blob-num js-line-number" data-line-number="691"></td>
        <td id="LC691" class="blob-code js-file-line">       &quot;MaYe5eS4AczWroUPPoCEhECXKOSJCKoqh89ZsRo146jqJFXtpqo9gDHAV6p6DfAJMM6TbRzwUU0L\n&quot;,</td>
      </tr>
      <tr>
        <td id="L692" class="blob-num js-line-number" data-line-number="692"></td>
        <td id="LC692" class="blob-code js-file-line">       &quot;ZowJkDVr4MQTXb/577+3QN9I+OulKm9V/VHgHBFZB4zwbBtjGor//hdOOw3uuANefx3CwgJdIuMn\n&quot;,</td>
      </tr>
      <tr>
        <td id="L693" class="blob-num js-line-number" data-line-number="693"></td>
        <td id="LC693" class="blob-code js-file-line">       &quot;NWrGqdUFrRnHmOBz8CDcfTd8/jm89x4MHhzoEpkyAtKMY4xpRNavh5NPhm3b4KefLNA3UhbsjQll\n&quot;,</td>
      </tr>
      <tr>
        <td id="L694" class="blob-num js-line-number" data-line-number="694"></td>
        <td id="LC694" class="blob-code js-file-line">       &quot;//0vDB/uhj6YORMi7KX3xsrGxjEmFOXkuHb5b76BOXOsNh8CrGZvTKhZvBiOPx4KC926BfqgUVQE\n&quot;,</td>
      </tr>
      <tr>
        <td id="L695" class="blob-num js-line-number" data-line-number="695"></td>
        <td id="LC695" class="blob-code js-file-line">       &quot;y5bBk0/CyJFuZAp/sQe0xoSKwkJ46il44gmYOhXGjAl0iUKeKqSkwLx5Ls2fD1FRcNZZcPbZMGJE\n&quot;,</td>
      </tr>
      <tr>
        <td id="L696" class="blob-num js-line-number" data-line-number="696"></td>
        <td id="LC696" class="blob-code js-file-line">       &quot;SctabR/QWrA3JhRs3gzjxrmAP3269Z0PoK1bXVD/6iuX8vNdcPembt0q/pwFe2NM5VTdeDZ33eW6\n&quot;,</td>
      </tr>
      <tr>
        <td id="L697" class="blob-num js-line-number" data-line-number="697"></td>
        <td id="LC697" class="blob-code js-file-line">       &quot;Vt59NzRtGuhShZT0dPj6axfY58+HPXvc5F4jRrjUpw9INUK4BXtjTMV27HDjzq9Z4wK+tc3Xi4wM\n&quot;,</td>
      </tr>
      <tr>
        <td id="L698" class="blob-num js-line-number" data-line-number="698"></td>
        <td id="LC698" class="blob-code js-file-line">       &quot;99x7/nxISoLt2917aiNGuCB/zDHQpAZPS2sb7K03jjGN0QcfwB/+4CYCf/ttaNUq0CVqtLZvdzV3\n&quot;,</td>
      </tr>
      <tr>
        <td id="L699" class="blob-num js-line-number" data-line-number="699"></td>
        <td id="LC699" class="blob-code js-file-line">       &quot;b9q+3Y0GnZjohhc67rjg+GPKavbGNCa7dsHtt8OiRTBtmntZyvjV5s2u5v7NNy6479rlau5nnOEC\n&quot;,</td>
      </tr>
      <tr>
        <td id="L700" class="blob-num js-line-number" data-line-number="700"></td>
        <td id="LC700" class="blob-code js-file-line">       &quot;fF0Fd6vZG2Oc995zgf6qq2D5cht33g9UXSvYt9+69M03kJcHp5/u0q231rxZpr5Zzd6Yhm77dhd1\n&quot;,</td>
      </tr>
      <tr>
        <td id="L701" class="blob-num js-line-number" data-line-number="701"></td>
        <td id="LC701" class="blob-code js-file-line">       &quot;Vq+G115zE42YGsnPh6VL4bvvXHD/7jto06YkuJ92WvUfqPqbPaA1JlQVFcErr8D998ONN7qltc0f\n&quot;,</td>
      </tr>
      <tr>
        <td id="L702" class="blob-num js-line-number" data-line-number="702"></td>
        <td id="LC702" class="blob-code js-file-line">       &quot;kb17YeFCN5Lz99+71q+ePV2b+2mnuWVdz8BYpEWs3bWWvII8BsdW/hDdmnGMCUWrV8Pvf+9Gq5w3\n&quot;,</td>
      </tr>
      <tr>
        <td id="L703" class="blob-num js-line-number" data-line-number="703"></td>
        <td id="LC703" class="blob-code js-file-line">       &quot;z7UlmCqpwsaNJYF9wQLYsAGGDoVTToE//9k94qjr4YEO5B9g4daFLNiygIVbF7Jwy0IiwyK5eejN\n&quot;,</td>
      </tr>
      <tr>
        <td id="L704" class="blob-num js-line-number" data-line-number="704"></td>
        <td id="LC704" class="blob-code js-file-line">       &quot;VQb72rKavTENyYED8Mgj8OKL8Ne/wi23BEdXjyB04IAbDWLhQhfYFy50t+qUU1xQP/lk1xu1efP6\n&quot;,</td>
      </tr>
      <tr>
        <td id="L705" class="blob-num js-line-number" data-line-number="705"></td>
        <td id="LC705" class="blob-code js-file-line">       &quot;LddP237iji/u4OS4kxnebTjD44YT2y72sJ+zZhxjQsXnn7u2+aFD4emnoUuXQJcoaKjCpk3www8u\n&quot;,</td>
      </tr>
      <tr>
        <td id="L706" class="blob-num js-line-number" data-line-number="706"></td>
        <td id="LC706" class="blob-code js-file-line">       &quot;qC9cCKtqktUKAAAcX0lEQVRWwYAB7hHGKae4wT27davb9va9eXtZlLaIH7b+wMa9G3ntktf8dm5r\n&quot;,</td>
      </tr>
      <tr>
        <td id="L707" class="blob-num js-line-number" data-line-number="707"></td>
        <td id="LC707" class="blob-code js-file-line">       &quot;xjGmsdu0Ce68E1auhH/9y42QFeL27XND7//wA/z4o1s2beoC+kknwejRMGRI/Uy0VaRFTPhkAgu3\n&quot;,</td>
      </tr>
      <tr>
        <td id="L708" class="blob-num js-line-number" data-line-number="708"></td>
        <td id="LC708" class="blob-code js-file-line">       &quot;LiQ1K5UhXYZwYtcTuajPRagqEoinuRWwmr0xwerAATf84TPPwB//6IY6CMEHsPn58MsvkJzsAvuP\n&quot;,</td>
      </tr>
      <tr>
        <td id="L709" class="blob-num js-line-number" data-line-number="709"></td>
        <td id="LC709" class="blob-code js-file-line">       &quot;P7q+7oMGucB+4oku1WWtXVXZkLmBuPA4WjZrWe74jBUz6NehHwM7DqR507ppF7JmHGMaG1X48EP4\n&quot;,</td>
      </tr>
      <tr>
        <td id="L710" class="blob-num js-line-number" data-line-number="710"></td>
        <td id="LC710" class="blob-code js-file-line">       &quot;059co/JTT4XMwGWqbuKsRYtcSk52rwzEx8OwYS6oDxvmnkfXZVt7enY6yWnJLEpbxKJtLoU1C2PO\n&quot;,</td>
      </tr>
      <tr>
        <td id="L711" class="blob-num js-line-number" data-line-number="711"></td>
        <td id="LC711" class="blob-code js-file-line">       &quot;NXPoH9O/7i5cBQv2xjQmP//savE7dsCzz7oBVRopVdiyxTXHLFrklj/9BO3auYA+bBiccIJrjgkP\n&quot;,</td>
      </tr>
      <tr>
        <td id="L712" class="blob-num js-line-number" data-line-number="712"></td>
        <td id="LC712" class="blob-code js-file-line">       &quot;r9+yXf/x9Wzbv40TupzA0C5DOaHrCXRpF9hnJBbsjWkM0tNh8mT45BPXy+amm6BZ43mkpuqG9l28\n&quot;,</td>
      </tr>
      <tr>
        <td id="L713" class="blob-num js-line-number" data-line-number="713"></td>
        <td id="LC713" class="blob-code js-file-line">       &quot;2AV077JpU/e8+YQT3HLoUOjUqe7KsSt3F4u3LWbxdpeuHHAloweMrrsL+pE9oDWmIcvJcW3yTz8N\n&quot;,</td>
      </tr>
      <tr>
        <td id="L714" class="blob-num js-line-number" data-line-number="714"></td>
        <td id="LC714" class="blob-code js-file-line">       &quot;110Ha9c2+HlgvT1jliwpncAF8yFD3CsCQ4e6DkX18fzyrZ/f4r6v7mNv3l6Ojz2eIbFD+G2/33Jq\n&quot;,</td>
      </tr>
      <tr>
        <td id="L715" class="blob-num js-line-number" data-line-number="715"></td>
        <td id="LC715" class="blob-code js-file-line">       &quot;91Pr/uJBwmr2xgRCQQG88QY88IB7TfNvf3OvbjYwhYXu99PSpSVpyRI3xMDgwW72wyFD3LJr17oJ\n&quot;,</td>
      </tr>
      <tr>
        <td id="L716" class="blob-num js-line-number" data-line-number="716"></td>
        <td id="LC716" class="blob-code js-file-line">       &quot;7N6Hp0vTlxLWLIwL+1xYLs/WfVs5WHCQHpE9aCINYCCbCljN3piGRBU+/hjuuw86dHAPYocNC3Sp\n&quot;,</td>
      </tr>
      <tr>
        <td id="L717" class="blob-num js-line-number" data-line-number="717"></td>
        <td id="LC717" class="blob-code js-file-line">       &quot;qiUnB1ascHOkLlvmAvsvv0BsrAvmgwe7t1AHD67bphiADZkbePaHZ1mavpTlGctp37I9g2MHc1nf\n&quot;,</td>
      </tr>
      <tr>
        <td id="L718" class="blob-num js-line-number" data-line-number="718"></td>
        <td id="LC718" class="blob-code js-file-line">       &quot;yyrMHxdex2MeNAAW7I2pL/Pnw8SJrkvl44/DBRcEZkStw/C2ry9fXjpt2QL9+rkhfAcPhquvdut1\n&quot;,</td>
      </tr>
      <tr>
        <td id="L719" class="blob-num js-line-number" data-line-number="719"></td>
        <td id="LC719" class="blob-code js-file-line">       &quot;9fB0R84OtmRtYUiXIeWONWvSjG7tu3Hx0RczqPMgoltH100hGhFrxjGmri1Y4B66btoEDz0EV14Z\n&quot;,</td>
      </tr>
      <tr>
        <td id="L720" class="blob-num js-line-number" data-line-number="720"></td>
        <td id="LC720" class="blob-code js-file-line">       &quot;NGPi5uS4d7V+/tnV2pcvd+vNm7tAPmiQWx53HBx9dN11d8wryOO9le+xYscKlmcsZ3n6cg4WHmRE\n&quot;,</td>
      </tr>
      <tr>
        <td id="L721" class="blob-num js-line-number" data-line-number="721"></td>
        <td id="LC721" class="blob-code js-file-line">       &quot;jxG8P/r9urloA2O9cYwJVj/95IL8ypWup824cfU/EItHQYHrv75ihUu//OKWaWnQt6/rt37MMS6o\n&quot;,</td>
      </tr>
      <tr>
        <td id="L722" class="blob-num js-line-number" data-line-number="722"></td>
        <td id="LC722" class="blob-code js-file-line">       &quot;H3ts3TTDFGkRW7K2EB8RX+7YocJDjPtoHMd0PIZjOx3LcZ2OIy48LmjePg0GFuyNCTbJyfDgg66a\n&quot;,</td>
      </tr>
      <tr>
        <td id="L723" class="blob-num js-line-number" data-line-number="723"></td>
        <td id="LC723" class="blob-code js-file-line">       &quot;PHGim5uuZfm3LutCUZF7u3TlShfQvWntWveAdODAksB+zDHQu3fd9fD8etPXLM9YzoqMFfyy8xdW\n&quot;,</td>
      </tr>
      <tr>
        <td id="L724" class="blob-num js-line-number" data-line-number="724"></td>
        <td id="LC724" class="blob-code js-file-line">       &quot;7lhJu5btWP2H1YS3rOeO841AQIK9iHQD3gQ6Agq8pKpTRSQKeAeIBzYBo1V1b5nPWrA3jdP338PD\n&quot;,</td>
      </tr>
      <tr>
        <td id="L725" class="blob-num js-line-number" data-line-number="725"></td>
        <td id="LC725" class="blob-code js-file-line">       &quot;D7voOnEiXH99nQ1v4BvUV61yy5Ur3axKkZFuALCBA10aMAD693c9ZPxtZ85OwluGVziEwLUfXkvb\n&quot;,</td>
      </tr>
      <tr>
        <td id="L726" class="blob-num js-line-number" data-line-number="726"></td>
        <td id="LC726" class="blob-code js-file-line">       &quot;Fm0Z2HEgA2IGcEynY4gKi/J/IUJEoIJ9Z6Czqi4TkbbAYuBS4Dpgl6o+LiL3AJGqem+Zz1qwN42H\n&quot;,</td>
      </tr>
      <tr>
        <td id="L727" class="blob-num js-line-number" data-line-number="727"></td>
        <td id="LC727" class="blob-code js-file-line">       &quot;qhtP/pFHXPS95x4YP95vNfn8fNf8snp1SVq1ytXUo6JKAnn//iXr7dv75dLl/Lj1R5LTklm9azWr\n&quot;,</td>
      </tr>
      <tr>
        <td id="L728" class="blob-num js-line-number" data-line-number="728"></td>
        <td id="LC728" class="blob-code js-file-line">       &quot;dq5i5c6V5Bfm89W4rzg+9vi6uagpFhTNOCLyEfBPTzpDVTM8vxCSVLVvmbwW7E3DV1jouk0+9hhk\n&quot;,</td>
      </tr>
      <tr>
        <td id="L729" class="blob-num js-line-number" data-line-number="729"></td>
        <td id="LC729" class="blob-code js-file-line">       &quot;Z8OkSTB2bI3bRLKyXABfs8YF9DVrXNq40c2U1K9fSRowwLWz+7sXTEFRARszNxIZFkmH1h3KHZ+S\n&quot;,</td>
      </tr>
      <tr>
        <td id="L730" class="blob-num js-line-number" data-line-number="730"></td>
        <td id="LC730" class="blob-code js-file-line">       &quot;NIWM7Az6xfRjQMwA+sf0p3PbztauXk8CHuxFJAH4GhgIpKpqpGe/AHu82z75LdibhuvAAZg+3Y1G\n&quot;,</td>
      </tr>
      <tr>
        <td id="L731" class="blob-num js-line-number" data-line-number="731"></td>
        <td id="LC731" class="blob-code js-file-line">       &quot;GR3tavIXX1yt3jUFBa5Dztq15dP+/a63S9++bukN7L161d1Al99u/pYvU75kza41rNm1hpTMFDq3\n&quot;,</td>
      </tr>
      <tr>
        <td id="L732" class="blob-num js-line-number" data-line-number="732"></td>
        <td id="LC732" class="blob-code js-file-line">       &quot;7czUkVMZdfSourmoqbGAvlTlacJ5H7hDVff7/oZXVRURi+qmcdixA55/Hl54wb0E9fLLbgbqMrXa\n&quot;,</td>
      </tr>
      <tr>
        <td id="L733" class="blob-num js-line-number" data-line-number="733"></td>
        <td id="LC733" class="blob-code js-file-line">       &quot;oiLXw+XXX11at65kuWmTewHp6KPdpNXHHgtXXOG2u3b1b2/MQ4WH2Ji5kXW71xEXHlfhdHcZORk0\n&quot;,</td>
      </tr>
      <tr>
        <td id="L734" class="blob-num js-line-number" data-line-number="734"></td>
        <td id="LC734" class="blob-code js-file-line">       &quot;a9KMK/pfQd8Ofekd3ZvWzVv7rxAmqNQ42ItIc1ygn66qH3l2Z4hIZ1VNF5FYYEdFn50yZUrxemJi\n&quot;,</td>
      </tr>
      <tr>
        <td id="L735" class="blob-num js-line-number" data-line-number="735"></td>
        <td id="LC735" class="blob-code js-file-line">       &quot;IomJiTUthjF1a8UKN/rk+++7yJyURNHR/di2DdZ/7drTvYF9/XpISXGjNvbp43q69O7tRkPo08eN\n&quot;,</td>
      </tr>
      <tr>
        <td id="L736" class="blob-num js-line-number" data-line-number="736"></td>
        <td id="LC736" class="blob-code js-file-line">       &quot;hlCXw9F/uf5LpiZPZd3udWzJ2kJceBx9ovtw/eDrKwz2v+3/W37b/7d1VyBTK0lJSSQlJfntfDV9\n&quot;,</td>
      </tr>
      <tr>
        <td id="L737" class="blob-num js-line-number" data-line-number="737"></td>
        <td id="LC737" class="blob-code js-file-line">       &quot;QCvANGC3qv7RZ//jnn2Pici9QIQ9oDUNTmEh+R9+Sv4/ptJk3WqWDb+FT7vexM/bY0hJce3oERGu\n&quot;,</td>
      </tr>
      <tr>
        <td id="L738" class="blob-num js-line-number" data-line-number="738"></td>
        <td id="LC738" class="blob-code js-file-line">       &quot;icWbevd2y549/duWXlBUwOa9m0nJTGH9nvX8uvtXekX14g/D/lAu75pda1i3ex19ovvQI6JHhT1k\n&quot;,</td>
      </tr>
      <tr>
        <td id="L739" class="blob-num js-line-number" data-line-number="739"></td>
        <td id="LC739" class="blob-code js-file-line">       &quot;TMMVqN44pwLfAD/jul4CTASSgXeB7ljXSxPEVF3LzMaNLm3YADtW76b/wle5YPPzpBXF8k6HW1lz\n&quot;,</td>
      </tr>
      <tr>
        <td id="L740" class="blob-num js-line-number" data-line-number="740"></td>
        <td id="LC740" class="blob-code js-file-line">       &quot;zBXE925Bz54lwfyoo6BtW/+VpaCogGZNyv+R/fmvn3PpO5fSuW1nekX1oldkL3pG9eTkbieH1GiN\n&quot;,</td>
      </tr>
      <tr>
        <td id="L741" class="blob-num js-line-number" data-line-number="741"></td>
        <td id="LC741" class="blob-code js-file-line">       &quot;xgn4A9ojvqAFe1MPVGHPHtcbctMml7yBfeNGtx0WBj0SlPPbL+A3Gf+m/4ZZ7D71UopuuZVOFw71\n&quot;,</td>
      </tr>
      <tr>
        <td id="L742" class="blob-num js-line-number" data-line-number="742"></td>
        <td id="LC742" class="blob-code js-file-line">       &quot;+8uuu3N3M2vdLDZkbmDj3o2k7ElhQ+YG+sf056txX5XLf7DgIIDV0A1gwd6EqKIiN99HaqoL6L5p\n&quot;,</td>
      </tr>
      <tr>
        <td id="L743" class="blob-num js-line-number" data-line-number="743"></td>
        <td id="LC743" class="blob-code js-file-line">       &quot;0ya3bNrUzeYXHw89erj14mVEJuGfvOUetB486AZYHzfOdV4/0rJoERnZGWzau4lNezeRV5DHdYOv\n&quot;,</td>
      </tr>
      <tr>
        <td id="L744" class="blob-num js-line-number" data-line-number="744"></td>
        <td id="LC744" class="blob-code js-file-line">       &quot;K5dvY+ZGHkh6gKMij6JHRA96RvXkqMij6Ny2c4MddtfUHwv2plHKynKjLHpTamrJMjXVjcoYEeEC\n&quot;,</td>
      </tr>
      <tr>
        <td id="L745" class="blob-num js-line-number" data-line-number="745"></td>
        <td id="LC745" class="blob-code js-file-line">       &quot;eXw8dO/ult7gHh9fwRwgqvDNN/Dqq25GqPPPhwkT4Mwzqxx9skiLKgzG6dnpnP766WzZt4XwluEk\n&quot;,</td>
      </tr>
      <tr>
        <td id="L746" class="blob-num js-line-number" data-line-number="746"></td>
        <td id="LC746" class="blob-code js-file-line">       &quot;RCQQ3z6eYzsdy/2n3+/fG2JCngV706Cowt69LlinpbmlN23ZUrIsKoJu3UpSfHz59Wr3bNmyBaZN\n&quot;,</td>
      </tr>
      <tr>
        <td id="L747" class="blob-num js-line-number" data-line-number="747"></td>
        <td id="LC747" class="blob-code js-file-line">       &quot;c5OFtGoFN9wA11zjxpP3kV+YzytLXiE1K5Ut+7awOWszqVmp5BzKYeefd5Z7eaigqIBfd/9K9/bd\n&quot;,</td>
      </tr>
      <tr>
        <td id="L748" class="blob-num js-line-number" data-line-number="748"></td>
        <td id="LC748" class="blob-code js-file-line">       &quot;adOiDsYiMMaHBXsTNPLyYPt22LatJKWllU/Nm7t+5V27lgRw73pcnEsREbUc6j07Gz74gII3XoOl\n&quot;,</td>
      </tr>
      <tr>
        <td id="L749" class="blob-num js-line-number" data-line-number="749"></td>
        <td id="LC749" class="blob-code js-file-line">       &quot;S9l2/qksOX8Qy+KakbZ/Gy+OerFcbb1Ii7hl9i10C+9G9/bd6da+G/Ht44kLj6N508CMVmmMlwV7\n&quot;,</td>
      </tr>
      <tr>
        <td id="L750" class="blob-num js-line-number" data-line-number="750"></td>
        <td id="LC750" class="blob-code js-file-line">       &quot;U6dUXdxMT3eBvKqUne1eGoqNdcG7SxeXvIHdu96uXe3LVVBUwI6cHaTtSyNtfxoX9L6AFtoE/vc/\n&quot;,</td>
      </tr>
      <tr>
        <td id="L751" class="blob-num js-line-number" data-line-number="751"></td>
        <td id="LC751" class="blob-code js-file-line">       &quot;ePtt+PRTOOUUbopewMJBHejUIZ5u4d2IC48jLjyO8YPG06Jpi9oXxJh6YsHeHDFvAN+xAzIyyqf0\n&quot;,</td>
      </tr>
      <tr>
        <td id="L752" class="blob-num js-line-number" data-line-number="752"></td>
        <td id="LC752" class="blob-code js-file-line">       &quot;9JJlerr7TOfOJYE8Nrb8dteu7tlmbd8CLSwqZEfODjq07lBhbfqCty9gWfoydubuJDosmri2XRiR\n&quot;,</td>
      </tr>
      <tr>
        <td id="L753" class="blob-num js-line-number" data-line-number="753"></td>
        <td id="LC753" class="blob-code js-file-line">       &quot;0ZoHM/oT9sEnro3n6qvdBCF1PTeeMfXIgr0BIDcXdu6sOO3YUbL0BngRFws7dnRL39S5s0ve9drW\n&quot;,</td>
      </tr>
      <tr>
        <td id="L754" class="blob-num js-line-number" data-line-number="754"></td>
        <td id="LC754" class="blob-code js-file-line">       &quot;xL3/3hUNmHXfvPtYlrGM9Ox0tu3fxq7cXUS2imTBDQvoFdWrXP4VGSuIbBVB59VbafbBh/DOO27s\n&quot;,</td>
      </tr>
      <tr>
        <td id="L755" class="blob-num js-line-number" data-line-number="755"></td>
        <td id="LC755" class="blob-code js-file-line">       &quot;3rFjYcwY93aTMY2QBftGRtWNtbV7d/m0a1fJ0pu8Ab2oCGJiyqeOHUvWvcG9Y0f/vhTk64VFL7A0\n&quot;,</td>
      </tr>
      <tr>
        <td id="L756" class="blob-num js-line-number" data-line-number="756"></td>
        <td id="LC756" class="blob-code js-file-line">       &quot;fSk7cnaQkZNBRnYGGTkZzB83n2Fdy0+s/fGaj2kiTYhtF0ts21g6tulYcft4UREsWgQzZ7rUvLkb\n&quot;,</td>
      </tr>
      <tr>
        <td id="L757" class="blob-num js-line-number" data-line-number="757"></td>
        <td id="LC757" class="blob-code js-file-line">       &quot;vuDKK90sHDbyomnkLNgHqcJC130wM7N82rOnZOlNu3eXLMENqOibOnRwKTraBe6y223a1E28e2PZ\n&quot;,</td>
      </tr>
      <tr>
        <td id="L758" class="blob-num js-line-number" data-line-number="758"></td>
        <td id="LC758" class="blob-code js-file-line">       &quot;GyzetpiduTtdytnJjpwdvPPbdzgj4Yxy+acvn05Ofg6d2nSiY5uOdGrbic5tO9O2RQ1+u+Tnw7ff\n&quot;,</td>
      </tr>
      <tr>
        <td id="L759" class="blob-num js-line-number" data-line-number="759"></td>
        <td id="LC759" class="blob-code js-file-line">       &quot;uqGEP/zQjUNw2WUuyB97rAV4E1Is2NcBVdcssm+fC9hZWaXX9+4tv753b0nKzHQTObdr52YNKpui\n&quot;,</td>
      </tr>
      <tr>
        <td id="L760" class="blob-num js-line-number" data-line-number="760"></td>
        <td id="LC760" class="blob-code js-file-line">       &quot;olwqu+4N7GFhtYtjBwsOIiIVPoB8efHLLNi6gN25u9mVu4tdubvYfWA3038znQt6X1Au/1s/v8Wu\n&quot;,</td>
      </tr>
      <tr>
        <td id="L761" class="blob-num js-line-number" data-line-number="761"></td>
        <td id="LC761" class="blob-code js-file-line">       &quot;3F3EtI6hY5uOxLRxy45tOlb4in+t7d8PX34JH38Mn33mxia49FIX5Pv18//1jGkgLNjjgvPBg+6h\n&quot;,</td>
      </tr>
      <tr>
        <td id="L762" class="blob-num js-line-number" data-line-number="762"></td>
        <td id="LC762" class="blob-code js-file-line">       &quot;Y06OW3rT/v0ly4rSvn0lS9/1Fi1cRTI83M380769W4+IKNmOiChJ7du7gO3dDg+v3cPKwqJCsg5m\n&quot;,</td>
      </tr>
      <tr>
        <td id="L763" class="blob-num js-line-number" data-line-number="763"></td>
        <td id="LC763" class="blob-code js-file-line">       &quot;sTdvL5kHMunevjsxbWLK5Xv8+8f5Yv0X7Dmwhz0H9rD7wG7yC/N574r3uKTvJeXyz1o7ix05O4hu\n&quot;,</td>
      </tr>
      <tr>
        <td id="L764" class="blob-num js-line-number" data-line-number="764"></td>
        <td id="LC764" class="blob-code js-file-line">       &quot;HU2H1h2IDosmpk0Mka0iadqkac0LXBsbNsDs2TBrFixcCCefDJdc4saJj4sLTJmMCTINMtj/9JNy\n&quot;,</td>
      </tr>
      <tr>
        <td id="L765" class="blob-num js-line-number" data-line-number="765"></td>
        <td id="LC765" class="blob-code js-file-line">       &quot;4IBrm87NpXjddzs3t3TKyak6NW/umjLatXPLtm1dateu9HplyRvMvdst/NQrb9v+bWzdt5WsvCyy\n&quot;,</td>
      </tr>
      <tr>
        <td id="L766" class="blob-num js-line-number" data-line-number="766"></td>
        <td id="LC766" class="blob-code js-file-line">       &quot;DmaRlecC+Dk9z+HYTseWy3/nF3fyxrI3yD6UTbuW7YhsFUlEqwj+ftbfOa/XeeXy/7TtJ7LysogK\n&quot;,</td>
      </tr>
      <tr>
        <td id="L767" class="blob-num js-line-number" data-line-number="767"></td>
        <td id="LC767" class="blob-code js-file-line">       &quot;iyIyLJLosGjatmgb3LMH5eW55pnPP3e197173duso0bBOef4p2+mMY1Mgwz2gwcrYWEUp9atS697\n&quot;,</td>
      </tr>
      <tr>
        <td id="L768" class="blob-num js-line-number" data-line-number="768"></td>
        <td id="LC768" class="blob-code js-file-line">       &quot;t9u0Kdn2rvsuvalt2xrPBlessKiQ3Pxc9h/aT/ahbKLDooluHV0u30drPuKbzd+w/+B+9h/az76D\n&quot;,</td>
      </tr>
      <tr>
        <td id="L769" class="blob-num js-line-number" data-line-number="769"></td>
        <td id="LC769" class="blob-code js-file-line">       &quot;+9h/aD9/POmPXNbvsnL5/zr/r3z262e0b9We9i3b075VeyJaRnDVMVdxQtcTyuXfc2APTaQJ7Vq0\n&quot;,</td>
      </tr>
      <tr>
        <td id="L770" class="blob-num js-line-number" data-line-number="770"></td>
        <td id="LC770" class="blob-code js-file-line">       &quot;C1xN299U3Vx7c+e6Jppvv3UPVUeOhAsvhMGD/TtzhzGNUIMM9jW5ZkFRAQfyD5Cbn8uBggO0b9me\n&quot;,</td>
      </tr>
      <tr>
        <td id="L771" class="blob-num js-line-number" data-line-number="771"></td>
        <td id="LC771" class="blob-code js-file-line">       &quot;yLDIcvm+S/2On7b9RG5+LjmHcsjJzyHnUA6jB4zmnJ7nlMt/z9x7eC75OQ4WHqR189a0bdGWdi3a\n&quot;,</td>
      </tr>
      <tr>
        <td id="L772" class="blob-num js-line-number" data-line-number="772"></td>
        <td id="LC772" class="blob-code js-file-line">       &quot;8WDig4w9Zmy5/J//+jkrd66kXYt2hLcML05Hdziajm06HvH3arTS0mD+fPeS0//+534bn3MOnHce\n&quot;,</td>
      </tr>
      <tr>
        <td id="L773" class="blob-num js-line-number" data-line-number="773"></td>
        <td id="LC773" class="blob-code js-file-line">       &quot;nHWWa/MyxlRbgwz2v5/1e/IK8zhYcJADBQfIK8jjhsE3VDhrzj1z7+GpH55CVQlrHkbr5q0JaxbG\n&quot;,</td>
      </tr>
      <tr>
        <td id="L774" class="blob-num js-line-number" data-line-number="774"></td>
        <td id="LC774" class="blob-code js-file-line">       &quot;lMQpjB80vlz+d1e+y/ep39OmRRtaN29Nm+ZtaNOiDad2P5X+Mf3L5c8+lA1A6+atbeTB2tixA5KS\n&quot;,</td>
      </tr>
      <tr>
        <td id="L775" class="blob-num js-line-number" data-line-number="775"></td>
        <td id="LC775" class="blob-code js-file-line">       &quot;XPrqK9cf9MwzYcQIF+R79bLeM8bUQoMM9v9K/hetmrWiZdOWhDUPo1WzVgyIGUB8RHy5/AcLDtJE\n&quot;,</td>
      </tr>
      <tr>
        <td id="L776" class="blob-num js-line-number" data-line-number="776"></td>
        <td id="LC776" class="blob-code js-file-line">       &quot;mtjYJMEmLc2NIOlN27bBaadBYqJLgwZZ04wxftQgg32wd700ZRQWwqpV8P33Ln33neu2dPrpLp12\n&quot;,</td>
      </tr>
      <tr>
        <td id="L777" class="blob-num js-line-number" data-line-number="777"></td>
        <td id="LC777" class="blob-code js-file-line">       &quot;mgvuTRvJMwZjgpAFe+N/u3fDjz+6tGABJCe7cRNOPtnNnn3KKXD00dYsY0w9smBvaic3F5YudUMR\n&quot;,</td>
      </tr>
      <tr>
        <td id="L778" class="blob-num js-line-number" data-line-number="778"></td>
        <td id="LC778" class="blob-code js-file-line">       &quot;LFrkAvuOHTB0KJx4ogvwJ51Ubux3Y0z9smBvqi87G5YvhyVLYPFil1JSYMAAOOEEl4YNg759rUnG\n&quot;,</td>
      </tr>
      <tr>
        <td id="L779" class="blob-num js-line-number" data-line-number="779"></td>
        <td id="LC779" class="blob-code js-file-line">       &quot;mCBjwd6Up+oGmF++HJYtc8ulS92MTQMHun7tQ4a4NHAgtLQJrY0JdhbsQ92+fbByJfzyi0srVsDP\n&quot;,</td>
      </tr>
      <tr>
        <td id="L780" class="blob-num js-line-number" data-line-number="780"></td>
        <td id="LC780" class="blob-code js-file-line">       &quot;P7v29OOOcw9Ovcu+fd2rxsaYBseCfajYvRvWrHFvoq5a5dLKlW6ozP79XQ19wAA3GuSxx7rxjO0B\n&quot;,</td>
      </tr>
      <tr>
        <td id="L781" class="blob-num js-line-number" data-line-number="781"></td>
        <td id="LC781" class="blob-code js-file-line">       &quot;qjGNhgX7xiQvz7Wh//orrFsHa9eWpEOH3KiPffu64N6/vwvu8fHWn92YEGDBvqHZv9+N8piS4pbr\n&quot;,</td>
      </tr>
      <tr>
        <td id="L782" class="blob-num js-line-number" data-line-number="782"></td>
        <td id="LC782" class="blob-code js-file-line">       &quot;15ek9HQXvPv0cTMuHX10Serc2WrqxoQwC/bBJicHUlNh0ybYvNktN24sSTk5boz2nj3dslcvl3r2\n&quot;,</td>
      </tr>
      <tr>
        <td id="L783" class="blob-num js-line-number" data-line-number="783"></td>
        <td id="LC783" class="blob-code js-file-line">       &quot;hISE2o/oZoxplCzY16eDB90wAVu3urRlS+mUmuqCebduLnAnJLiaeo8eJcna0o0xNWDB3h/y8tws\n&quot;,</td>
      </tr>
      <tr>
        <td id="L784" class="blob-num js-line-number" data-line-number="784"></td>
        <td id="LC784" class="blob-code js-file-line">       &quot;3Nu3u6aU7dvdWC/eZVqaW+7bB126QNeuLnXrVjrFx7s5Ai2YG2P8LOiCvYiMBJ4BmgKvqOpjZY7X\n&quot;,</td>
      </tr>
      <tr>
        <td id="L785" class="blob-num js-line-number" data-line-number="785"></td>
        <td id="LC785" class="blob-code js-file-line">       &quot;fbAvKHC9VHxn5N65070Z6k0ZGSXpwAFX4+7cGWJjXerSpWTdG9w7dLCHocaYgAiqYC8iTYG1wNlA\n&quot;,</td>
      </tr>
      <tr>
        <td id="L786" class="blob-num js-line-number" data-line-number="786"></td>
        <td id="LC786" class="blob-code js-file-line">       &quot;GrAIGKuqq33yVD/Y5+eXTOpa0azd3hm6fdOuXa4GHhHhgnNMTEnq1Ak6dixZ96bIyIDUxpOSkkhM\n&quot;,</td>
      </tr>
      <tr>
        <td id="L787" class="blob-num js-line-number" data-line-number="787"></td>
        <td id="LC787" class="blob-code js-file-line">       &quot;TKz36wYjuxcl7F6UsHtRorbB3t9PA4cB61V1E4CI/Be4BFhdKtczz5RM+upN3hm8fWfxzssrmdTV\n&quot;,</td>
      </tr>
      <tr>
        <td id="L788" class="blob-num js-line-number" data-line-number="788"></td>
        <td id="LC788" class="blob-code js-file-line">       &quot;d7Zu77JrVzfjkXem7uhoF+AjIxvE6/72g1zC7kUJuxcl7F74j7+DfVdgi8/2VuDEcrk2bnQTvnbs\n&quot;,</td>
      </tr>
      <tr>
        <td id="L789" class="blob-num js-line-number" data-line-number="789"></td>
        <td id="LC789" class="blob-code js-file-line">       &quot;6LoYeieA9c7i7Z3Ru21ba/82xhg/8Hewr177zLPP+vmyxhhjquLvNvuTgCmqOtKzPREo8n1IKyJB\n&quot;,</td>
      </tr>
      <tr>
        <td id="L790" class="blob-num js-line-number" data-line-number="790"></td>
        <td id="LC790" class="blob-code js-file-line">       &quot;1hXHGGMahmB6QNsM94D2LGAbkEyZB7TGGGPqn1+bcVS1QERuBb7Edb181QK9McYEXr2/VGWMMab+\n&quot;,</td>
      </tr>
      <tr>
        <td id="L791" class="blob-num js-line-number" data-line-number="791"></td>
        <td id="LC791" class="blob-code js-file-line">       &quot;1esbQiIyUkTWiMivInJPfV470ESkm4jMF5GVIvKLiNzu2R8lInNFZJ2IzBGRiECXtb6ISFMRWSoi\n&quot;,</td>
      </tr>
      <tr>
        <td id="L792" class="blob-num js-line-number" data-line-number="792"></td>
        <td id="LC792" class="blob-code js-file-line">       &quot;szzbIXkvRCRCRGaKyGoRWSUiJ4bwvZjo+T+yQkRmiEjLULkXIvKaiGSIyAqffZV+d8+9+tUTU889\n&quot;,</td>
      </tr>
      <tr>
        <td id="L793" class="blob-num js-line-number" data-line-number="793"></td>
        <td id="LC793" class="blob-code js-file-line">       &quot;3PnrLdh7Xrj6JzAS6A+MFZF+9XX9IJAP/FFVBwAnAX/wfP97gbmq2geY59kOFXcAqyjpxRWq9+JZ\n&quot;,</td>
      </tr>
      <tr>
        <td id="L794" class="blob-num js-line-number" data-line-number="794"></td>
        <td id="LC794" class="blob-code js-file-line">       &quot;4DNV7QccC6whBO+FiCQAE4DjVfUYXFPwGELnXryOi4++KvzuItIfuBIXS0cCz4tIlfG8Pmv2xS9c\n&quot;,</td>
      </tr>
      <tr>
        <td id="L795" class="blob-num js-line-number" data-line-number="795"></td>
        <td id="LC795" class="blob-code js-file-line">       &quot;qWo+4H3hKiSoarqqLvOsZ+NeNOsKXAxM82SbBlwamBLWLxGJAy4AXgG8PQxC7l6ISHvgNFV9Ddxz\n&quot;,</td>
      </tr>
      <tr>
        <td id="L796" class="blob-num js-line-number" data-line-number="796"></td>
        <td id="LC796" class="blob-code js-file-line">       &quot;L1XNIgTvBbAPVylq7ens0RrX0SMk7oWqfgtkltld2Xe/BPiPquZ7XmJdj4uxlarPYF/RC1dd6/H6\n&quot;,</td>
      </tr>
      <tr>
        <td id="L797" class="blob-num js-line-number" data-line-number="797"></td>
        <td id="LC797" class="blob-code js-file-line">       &quot;QcNTgxkM/Ah0UtUMz6EMoFOAilXfngb+DBT57AvFe9ED2Ckir4vIEhF5WUTaEIL3QlX3AP8AUnFB\n&quot;,</td>
      </tr>
      <tr>
        <td id="L798" class="blob-num js-line-number" data-line-number="798"></td>
        <td id="LC798" class="blob-code js-file-line">       &quot;fq+qziUE74WPyr57F1wM9TpsPK3PYG9PggERaQu8D9yhqvt9j3kGDWr090lELgJ2qOpSSmr1pYTK\n&quot;,</td>
      </tr>
      <tr>
        <td id="L799" class="blob-num js-line-number" data-line-number="799"></td>
        <td id="LC799" class="blob-code js-file-line">       &quot;vcD1iDseeF5VjwdyKNNMESr3QkR6AncCCbhg1lZEfuebJ1TuRUWq8d2rvC/1GezTgG4+290o/Zup\n&quot;,</td>
      </tr>
      <tr>
        <td id="L800" class="blob-num js-line-number" data-line-number="800"></td>
        <td id="LC800" class="blob-code js-file-line">       &quot;0ROR5rhAP11VP/LszhCRzp7jscCOQJWvHp0MXCwiG4H/ACNEZDqheS+2AltVdZFneyYu+KeH4L0Y\n&quot;,</td>
      </tr>
      <tr>
        <td id="L801" class="blob-num js-line-number" data-line-number="801"></td>
        <td id="LC801" class="blob-code js-file-line">       &quot;CixQ1d2qWgB8AAwnNO+FV2X/J8rG0zjPvkrVZ7D/CegtIgki0gL3cOGTerx+QImIAK8Cq1T1GZ9D\n&quot;,</td>
      </tr>
      <tr>
        <td id="L802" class="blob-num js-line-number" data-line-number="802"></td>
        <td id="LC802" class="blob-code js-file-line">       &quot;nwDjPOvjgI/KfraxUdVJqtpNVXvgHsB9parXEJr3Ih3YIiJ9PLvOBlYCswixe4F7MH2SiIR5/r+c\n&quot;,</td>
      </tr>
      <tr>
        <td id="L803" class="blob-num js-line-number" data-line-number="803"></td>
        <td id="LC803" class="blob-code js-file-line">       &quot;jXuAH4r3wquy/xOfAGNEpIWI9AB6415irZyq1lsCzse9YbsemFif1w50Ak7FtU8vA5Z60kggCvgf\n&quot;,</td>
      </tr>
      <tr>
        <td id="L804" class="blob-num js-line-number" data-line-number="804"></td>
        <td id="LC804" class="blob-code js-file-line">       &quot;sA6YA0QEuqz1fF/OAD7xrIfkvQCOww0HvhxXm20fwvfiL7hfditwDySbh8q9wP2Vuw04hHu+eV1V\n&quot;,</td>
      </tr>
      <tr>
        <td id="L805" class="blob-num js-line-number" data-line-number="805"></td>
        <td id="LC805" class="blob-code js-file-line">       &quot;3x2Y5Imla4DzDnd+e6nKGGNCgE27ZIwxIcCCvTHGhAAL9sYYEwIs2BtjTAiwYG+MMSHAgr0xxoQA\n&quot;,</td>
      </tr>
      <tr>
        <td id="L806" class="blob-num js-line-number" data-line-number="806"></td>
        <td id="LC806" class="blob-code js-file-line">       &quot;C/aNiIhkB/qcInK7Z5je6WX2J3qHMvZDmcaLyHP+OFcgiMikMtvf1+G1EnyHzPXZP0REnvWsF99P\n&quot;,</td>
      </tr>
      <tr>
        <td id="L807" class="blob-num js-line-number" data-line-number="807"></td>
        <td id="LC807" class="blob-code js-file-line">       &quot;EZkiIn+q5Fy3isj4Kq51sYhM9lPRjZ9ZsG9c6uKliSM9583A2ereiDUVm+i7oaqn1HcBVHWxqt7h\n&quot;,</td>
      </tr>
      <tr>
        <td id="L808" class="blob-num js-line-number" data-line-number="808"></td>
        <td id="LC808" class="blob-code js-file-line">       &quot;3fQ9VFF+zxutNwBvVXHaWcDlnmFBTJCxYN9IicifRSRZRJaLyBTPvkdF5BafPMW1uIryH+b8d3km\n&quot;,</td>
      </tr>
      <tr>
        <td id="L809" class="blob-num js-line-number" data-line-number="809"></td>
        <td id="LC809" class="blob-code js-file-line">       &quot;mFghInd49v0bOAr4QkTurOKzw0RkgWeUx++9QwV4apgfiMjnnskafCeqv05E1orIj7ixdSo79/Mi\n&quot;,</td>
      </tr>
      <tr>
        <td id="L810" class="blob-num js-line-number" data-line-number="810"></td>
        <td id="LC810" class="blob-code js-file-line">       &quot;skjcBDFTfPZvEpEoz/pQEZnvWY/xTA7xi2fEyU2eCSMSPJNCvO657tsicq6nvOtE5ATP59uIm3Ti\n&quot;,</td>
      </tr>
      <tr>
        <td id="L811" class="blob-num js-line-number" data-line-number="811"></td>
        <td id="LC811" class="blob-code js-file-line">       &quot;R8/3ubiq7yIijwJh4iZtme7Zl+1ZJopIkoi8J24ik7d8yn+BZ99PIjK1or+SRGSApxxLPf+OPcsc\n&quot;,</td>
      </tr>
      <tr>
        <td id="L812" class="blob-num js-line-number" data-line-number="812"></td>
        <td id="LC812" class="blob-code js-file-line">       &quot;P8pTxiFl/tKqziTWpwBr1I1Z4/0LbqXnOv+B4oG6FgKHnUjDBECgXxG25NfXrfd7lucCL3rWm+Bq\n&quot;,</td>
      </tr>
      <tr>
        <td id="L813" class="blob-num js-line-number" data-line-number="813"></td>
        <td id="LC813" class="blob-code js-file-line">       &quot;XKcBg4Akn/wrccOils3/KW6M9eJzlrnOEOBnIAxoA/wCHOc5thGIquAzicAsz3o7oKln/Wxgpmd9\n&quot;,</td>
      </tr>
      <tr>
        <td id="L814" class="blob-num js-line-number" data-line-number="814"></td>
        <td id="LC814" class="blob-code js-file-line">       &quot;PJDiOd4S2OQpXyywGYjGvT7/HTC1knsQ6Vk2BeYDA8uWCzfg1nzP+j+Bezzr5+GGtIjCjbyYDwzA\n&quot;,</td>
      </tr>
      <tr>
        <td id="L815" class="blob-num js-line-number" data-line-number="815"></td>
        <td id="LC815" class="blob-code js-file-line">       &quot;BcOfcHMqgxtj/EPP+t+Aqz3rEbjhQFpX9l0quqc+/26JwF7ciI8CLMD9YmuFG/Y33pNvBp4hJsqc\n&quot;,</td>
      </tr>
      <tr>
        <td id="L816" class="blob-num js-line-number" data-line-number="816"></td>
        <td id="LC816" class="blob-code js-file-line">       &quot;ZypwlWe9medzCbihB44GlgDHVPDvMR54zrP+APCnCs59r+9+3KBbzT3r4T77rwMeC/T/BUvlk9Xs\n&quot;,</td>
      </tr>
      <tr>
        <td id="L817" class="blob-num js-line-number" data-line-number="817"></td>
        <td id="LC817" class="blob-code js-file-line">       &quot;G6dzgXNFZCmwGPcfvZe6yVM6ikisiBwHZKpqWgX5+wC9qjj/qcAHqnpAVXNw47mcfgTliwBmetqS\n&quot;,</td>
      </tr>
      <tr>
        <td id="L818" class="blob-num js-line-number" data-line-number="818"></td>
        <td id="LC818" class="blob-code js-file-line">       &quot;n8LNtuM1T1X3q+pB3CBYCcCJuF9Su9VNfPMOlddGrxSRxbjANqDMuStyCm4iHVT1S0pPHrFRVVeq\n&quot;,</td>
      </tr>
      <tr>
        <td id="L819" class="blob-num js-line-number" data-line-number="819"></td>
        <td id="LC819" class="blob-code js-file-line">       &quot;i2IrcWOUgPvlluBZPxe413Pv5uMCe3dcc0jZ7xJ/mLIAJKvqNs81l+HGu+8LbFDVzZ48/6Hi778Q\n&quot;,</td>
      </tr>
      <tr>
        <td id="L820" class="blob-num js-line-number" data-line-number="820"></td>
        <td id="LC820" class="blob-code js-file-line">       &quot;mCQifwESVDXPs78jbgCtq1S1XPt9NXUHtvts/wzMEJGrgUKf/dsouTcmiDQLdAFMnfm7qr5Uwf73\n&quot;,</td>
      </tr>
      <tr>
        <td id="L821" class="blob-num js-line-number" data-line-number="821"></td>
        <td id="LC821" class="blob-code js-file-line">       &quot;gN8CnfEEucPkr4hSOtgIR9a2/xAuEP5GROKBJJ9jB33WC3E/o2XPLQDipmFb4jn+MW7grD8BQ1U1\n&quot;,</td>
      </tr>
      <tr>
        <td id="L822" class="blob-num js-line-number" data-line-number="822"></td>
        <td id="LC822" class="blob-code js-file-line">       &quot;S0Rex9VuAQooabZsVfp0lf7i8C1LEW6AKu+67/+dy1T111InFDmxku9yONX+/mWp6n9E5AfgIuAz\n&quot;,</td>
      </tr>
      <tr>
        <td id="L823" class="blob-num js-line-number" data-line-number="823"></td>
        <td id="LC823" class="blob-code js-file-line">       &quot;EbkJ2ID7a2Ez7q+7NdUoQ2V8r3sh7hf8KOA+ERmoqkW4e2wDbgUhq9k3Tl8C14ub8QgR6SoiMZ5j\n&quot;,</td>
      </tr>
      <tr>
        <td id="L824" class="blob-num js-line-number" data-line-number="824"></td>
        <td id="LC824" class="blob-code js-file-line">       &quot;7wBjcQH/vWrkr8i3wKXihqJtg5sq7dsjKF84rgYI7s/+qihuRq8zPG3pzYErAFS1SFUHqepgVZ3i\n&quot;,</td>
      </tr>
      <tr>
        <td id="L825" class="blob-num js-line-number" data-line-number="825"></td>
        <td id="LC825" class="blob-code js-file-line">       &quot;OW8OsE9EOuFGWfXahGu+AbjcZ//3wGgAcZM2Rx7B9wB37273bojIYO9qFZ/JFzftXnUormnoKM8v\n&quot;,</td>
      </tr>
      <tr>
        <td id="L826" class="blob-num js-line-number" data-line-number="826"></td>
        <td id="LC826" class="blob-code js-file-line">       &quot;RnDDg5cLqCLSQ1U3qupzuF9+x3gOHQIuA64VkbGHuV5l5d6MqyB4H9Z2V9UkXPNOe6CtJ5+3yc0E\n&quot;,</td>
      </tr>
      <tr>
        <td id="L827" class="blob-num js-line-number" data-line-number="827"></td>
        <td id="LC827" class="blob-code js-file-line">       &quot;GavZNy4KoKpzxU1mvtD9v2Q/8Dtgp6quEjdb1lb1THdWQf5s4GpgJxUEFVVdKiJvUDJ+9suquty3\n&quot;,</td>
      </tr>
      <tr>
        <td id="L828" class="blob-num js-line-number" data-line-number="828"></td>
        <td id="LC828" class="blob-code js-file-line">       &quot;DJWUzXvscWCaiNwPzPbZX+FMPKqa7nnYuhBXS11aSb7lnuaUNbghYr/zOfwg8KqI7MP9JaE++/8j\n&quot;,</td>
      </tr>
      <tr>
        <td id="L829" class="blob-num js-line-number" data-line-number="829"></td>
        <td id="LC829" class="blob-code js-file-line">       &quot;Itd4zp+Ou1/hFVyjol4rDwHPiMjPuMrTBlybflWzCr0E/Cwii9X1WqqyN4yq5ol7sP6FiOTghkOu\n&quot;,</td>
      </tr>
      <tr>
        <td id="L830" class="blob-num js-line-number" data-line-number="830"></td>
        <td id="LC830" class="blob-code js-file-line">       &quot;6NyjPd8jH9fk8giuyUxVNVfcDGFzRWS/5ztWdN8rK/d3wK2e9WbAdHHz5wrwrKru8xwbhntGZIKM\n&quot;,</td>
      </tr>
      <tr>
        <td id="L831" class="blob-num js-line-number" data-line-number="831"></td>
        <td id="LC831" class="blob-code js-file-line">       &quot;DXFsQpq4iXQKVbVQRIYD/1I3PWBQEZE2nucjiMi/gHWq+mw9Xl9wTWYnquqhSvJ4m9WGqqfXjgke\n&quot;,</td>
      </tr>
      <tr>
        <td id="L832" class="blob-num js-line-number" data-line-number="832"></td>
        <td id="LC832" class="blob-code js-file-line">       &quot;1oxjQl13YJGILAOeBSYEuDyVmeDpUrkS91fHi/V5cc8D45dxf/FV5iJczyoL9EHIavbGGBMCrGZv\n&quot;,</td>
      </tr>
      <tr>
        <td id="L833" class="blob-num js-line-number" data-line-number="833"></td>
        <td id="LC833" class="blob-code js-file-line">       &quot;jDEhwIK9McaEAAv2xhgTAizYG2NMCLBgb4wxIcCCvTHGhID/D/FSnw+zTGhAAAAAAElFTkSuQmCC\n&quot;</td>
      </tr>
      <tr>
        <td id="L834" class="blob-num js-line-number" data-line-number="834"></td>
        <td id="LC834" class="blob-code js-file-line">      ],</td>
      </tr>
      <tr>
        <td id="L835" class="blob-num js-line-number" data-line-number="835"></td>
        <td id="LC835" class="blob-code js-file-line">      &quot;text/plain&quot;: [</td>
      </tr>
      <tr>
        <td id="L836" class="blob-num js-line-number" data-line-number="836"></td>
        <td id="LC836" class="blob-code js-file-line">       &quot;&lt;matplotlib.figure.Figure at 0x4731cf8&gt;&quot;</td>
      </tr>
      <tr>
        <td id="L837" class="blob-num js-line-number" data-line-number="837"></td>
        <td id="LC837" class="blob-code js-file-line">      ]</td>
      </tr>
      <tr>
        <td id="L838" class="blob-num js-line-number" data-line-number="838"></td>
        <td id="LC838" class="blob-code js-file-line">     },</td>
      </tr>
      <tr>
        <td id="L839" class="blob-num js-line-number" data-line-number="839"></td>
        <td id="LC839" class="blob-code js-file-line">     &quot;metadata&quot;: {},</td>
      </tr>
      <tr>
        <td id="L840" class="blob-num js-line-number" data-line-number="840"></td>
        <td id="LC840" class="blob-code js-file-line">     &quot;output_type&quot;: &quot;display_data&quot;</td>
      </tr>
      <tr>
        <td id="L841" class="blob-num js-line-number" data-line-number="841"></td>
        <td id="LC841" class="blob-code js-file-line">    }</td>
      </tr>
      <tr>
        <td id="L842" class="blob-num js-line-number" data-line-number="842"></td>
        <td id="LC842" class="blob-code js-file-line">   ],</td>
      </tr>
      <tr>
        <td id="L843" class="blob-num js-line-number" data-line-number="843"></td>
        <td id="LC843" class="blob-code js-file-line">   &quot;source&quot;: [</td>
      </tr>
      <tr>
        <td id="L844" class="blob-num js-line-number" data-line-number="844"></td>
        <td id="LC844" class="blob-code js-file-line">    &quot;plt.plot(LD,&#39;--g&#39;,label=&#39;capital demand&#39;)\n&quot;,</td>
      </tr>
      <tr>
        <td id="L845" class="blob-num js-line-number" data-line-number="845"></td>
        <td id="LC845" class="blob-code js-file-line">    &quot;plt.plot(KD,&#39;-b&#39;,label=&#39;labor demand&#39;)\n&quot;,</td>
      </tr>
      <tr>
        <td id="L846" class="blob-num js-line-number" data-line-number="846"></td>
        <td id="LC846" class="blob-code js-file-line">    &quot;plt.plot(TD,&#39;-r&#39;,label=&#39;land demand&#39;)\n&quot;,</td>
      </tr>
      <tr>
        <td id="L847" class="blob-num js-line-number" data-line-number="847"></td>
        <td id="LC847" class="blob-code js-file-line">    &quot;plt.xlabel(&#39;level of land-augmenting skill (s)&#39;)\n&quot;,</td>
      </tr>
      <tr>
        <td id="L848" class="blob-num js-line-number" data-line-number="848"></td>
        <td id="LC848" class="blob-code js-file-line">    &quot;plt.legend(loc=&#39;upper left&#39;)\n&quot;,</td>
      </tr>
      <tr>
        <td id="L849" class="blob-num js-line-number" data-line-number="849"></td>
        <td id="LC849" class="blob-code js-file-line">    &quot;plt.show()\n&quot;</td>
      </tr>
      <tr>
        <td id="L850" class="blob-num js-line-number" data-line-number="850"></td>
        <td id="LC850" class="blob-code js-file-line">   ]</td>
      </tr>
      <tr>
        <td id="L851" class="blob-num js-line-number" data-line-number="851"></td>
        <td id="LC851" class="blob-code js-file-line">  },</td>
      </tr>
      <tr>
        <td id="L852" class="blob-num js-line-number" data-line-number="852"></td>
        <td id="LC852" class="blob-code js-file-line">  {</td>
      </tr>
      <tr>
        <td id="L853" class="blob-num js-line-number" data-line-number="853"></td>
        <td id="LC853" class="blob-code js-file-line">   &quot;cell_type&quot;: &quot;markdown&quot;,</td>
      </tr>
      <tr>
        <td id="L854" class="blob-num js-line-number" data-line-number="854"></td>
        <td id="LC854" class="blob-code js-file-line">   &quot;metadata&quot;: {},</td>
      </tr>
      <tr>
        <td id="L855" class="blob-num js-line-number" data-line-number="855"></td>
        <td id="LC855" class="blob-code js-file-line">   &quot;source&quot;: [</td>
      </tr>
      <tr>
        <td id="L856" class="blob-num js-line-number" data-line-number="856"></td>
        <td id="LC856" class="blob-code js-file-line">    &quot;That seems to be about the way it should look - as farmer skill rises, the farmer demands more of everything, but the demand for land rises faster for land, as opposed to capital and labor. So capital and labor intensity is higher for smaller farms. &quot;</td>
      </tr>
      <tr>
        <td id="L857" class="blob-num js-line-number" data-line-number="857"></td>
        <td id="LC857" class="blob-code js-file-line">   ]</td>
      </tr>
      <tr>
        <td id="L858" class="blob-num js-line-number" data-line-number="858"></td>
        <td id="LC858" class="blob-code js-file-line">  },</td>
      </tr>
      <tr>
        <td id="L859" class="blob-num js-line-number" data-line-number="859"></td>
        <td id="LC859" class="blob-code js-file-line">  {</td>
      </tr>
      <tr>
        <td id="L860" class="blob-num js-line-number" data-line-number="860"></td>
        <td id="LC860" class="blob-code js-file-line">   &quot;cell_type&quot;: &quot;markdown&quot;,</td>
      </tr>
      <tr>
        <td id="L861" class="blob-num js-line-number" data-line-number="861"></td>
        <td id="LC861" class="blob-code js-file-line">   &quot;metadata&quot;: {},</td>
      </tr>
      <tr>
        <td id="L862" class="blob-num js-line-number" data-line-number="862"></td>
        <td id="LC862" class="blob-code js-file-line">   &quot;source&quot;: [</td>
      </tr>
      <tr>
        <td id="L863" class="blob-num js-line-number" data-line-number="863"></td>
        <td id="LC863" class="blob-code js-file-line">    &quot;Finally, let&#39;s look at output per unit input&quot;</td>
      </tr>
      <tr>
        <td id="L864" class="blob-num js-line-number" data-line-number="864"></td>
        <td id="LC864" class="blob-code js-file-line">   ]</td>
      </tr>
      <tr>
        <td id="L865" class="blob-num js-line-number" data-line-number="865"></td>
        <td id="LC865" class="blob-code js-file-line">  },</td>
      </tr>
      <tr>
        <td id="L866" class="blob-num js-line-number" data-line-number="866"></td>
        <td id="LC866" class="blob-code js-file-line">  {</td>
      </tr>
      <tr>
        <td id="L867" class="blob-num js-line-number" data-line-number="867"></td>
        <td id="LC867" class="blob-code js-file-line">   &quot;cell_type&quot;: &quot;code&quot;,</td>
      </tr>
      <tr>
        <td id="L868" class="blob-num js-line-number" data-line-number="868"></td>
        <td id="LC868" class="blob-code js-file-line">   &quot;execution_count&quot;: 13,</td>
      </tr>
      <tr>
        <td id="L869" class="blob-num js-line-number" data-line-number="869"></td>
        <td id="LC869" class="blob-code js-file-line">   &quot;metadata&quot;: {</td>
      </tr>
      <tr>
        <td id="L870" class="blob-num js-line-number" data-line-number="870"></td>
        <td id="LC870" class="blob-code js-file-line">    &quot;collapsed&quot;: false</td>
      </tr>
      <tr>
        <td id="L871" class="blob-num js-line-number" data-line-number="871"></td>
        <td id="LC871" class="blob-code js-file-line">   },</td>
      </tr>
      <tr>
        <td id="L872" class="blob-num js-line-number" data-line-number="872"></td>
        <td id="LC872" class="blob-code js-file-line">   &quot;outputs&quot;: [</td>
      </tr>
      <tr>
        <td id="L873" class="blob-num js-line-number" data-line-number="873"></td>
        <td id="LC873" class="blob-code js-file-line">    {</td>
      </tr>
      <tr>
        <td id="L874" class="blob-num js-line-number" data-line-number="874"></td>
        <td id="LC874" class="blob-code js-file-line">     &quot;data&quot;: {</td>
      </tr>
      <tr>
        <td id="L875" class="blob-num js-line-number" data-line-number="875"></td>
        <td id="LC875" class="blob-code js-file-line">      &quot;text/plain&quot;: [</td>
      </tr>
      <tr>
        <td id="L876" class="blob-num js-line-number" data-line-number="876"></td>
        <td id="LC876" class="blob-code js-file-line">       &quot;&lt;matplotlib.text.Text at 0x13983940&gt;&quot;</td>
      </tr>
      <tr>
        <td id="L877" class="blob-num js-line-number" data-line-number="877"></td>
        <td id="LC877" class="blob-code js-file-line">      ]</td>
      </tr>
      <tr>
        <td id="L878" class="blob-num js-line-number" data-line-number="878"></td>
        <td id="LC878" class="blob-code js-file-line">     },</td>
      </tr>
      <tr>
        <td id="L879" class="blob-num js-line-number" data-line-number="879"></td>
        <td id="LC879" class="blob-code js-file-line">     &quot;execution_count&quot;: 13,</td>
      </tr>
      <tr>
        <td id="L880" class="blob-num js-line-number" data-line-number="880"></td>
        <td id="LC880" class="blob-code js-file-line">     &quot;metadata&quot;: {},</td>
      </tr>
      <tr>
        <td id="L881" class="blob-num js-line-number" data-line-number="881"></td>
        <td id="LC881" class="blob-code js-file-line">     &quot;output_type&quot;: &quot;execute_result&quot;</td>
      </tr>
      <tr>
        <td id="L882" class="blob-num js-line-number" data-line-number="882"></td>
        <td id="LC882" class="blob-code js-file-line">    },</td>
      </tr>
      <tr>
        <td id="L883" class="blob-num js-line-number" data-line-number="883"></td>
        <td id="LC883" class="blob-code js-file-line">    {</td>
      </tr>
      <tr>
        <td id="L884" class="blob-num js-line-number" data-line-number="884"></td>
        <td id="LC884" class="blob-code js-file-line">     &quot;data&quot;: {</td>
      </tr>
      <tr>
        <td id="L885" class="blob-num js-line-number" data-line-number="885"></td>
        <td id="LC885" class="blob-code js-file-line">      &quot;image/png&quot;: [</td>
      </tr>
      <tr>
        <td id="L886" class="blob-num js-line-number" data-line-number="886"></td>
        <td id="LC886" class="blob-code js-file-line">       &quot;iVBORw0KGgoAAAANSUhEUgAAAYQAAAEZCAYAAACXRVJOAAAABHNCSVQICAgIfAhkiAAAAAlwSFlz\n&quot;,</td>
      </tr>
      <tr>
        <td id="L887" class="blob-num js-line-number" data-line-number="887"></td>
        <td id="LC887" class="blob-code js-file-line">       &quot;AAALEgAACxIB0t1+/AAAHopJREFUeJzt3Xm4XFWZ7/HvL/OckIRAEgJBZFRkEEUvqBERURCkpREc\n&quot;,</td>
      </tr>
      <tr>
        <td id="L888" class="blob-num js-line-number" data-line-number="888"></td>
        <td id="LC888" class="blob-code js-file-line">       &quot;AEW9dnMdsK8D0k+TR9vGfhAcWqWvLUME4YoiCLa2RPAIyFUBw9CGGRISJCGEzGQ+7/1jrSKVStVJ\n&quot;,</td>
      </tr>
      <tr>
        <td id="L889" class="blob-num js-line-number" data-line-number="889"></td>
        <td id="LC889" class="blob-code js-file-line">       &quot;5eRU7ao6v8/z7Kf2vN91UtlvrbX2oIjAzMxsQNEBmJlZa3BCMDMzwAnBzMwyJwQzMwOcEMzMLHNC\n&quot;,</td>
      </tr>
      <tr>
        <td id="L890" class="blob-num js-line-number" data-line-number="890"></td>
        <td id="LC890" class="blob-code js-file-line">       &quot;MDMzwAnBWpSkUyQtkLRK0iFFx1Mi6TJJ/1hwDFdJ+spObL9K0vS+i2ib/Z8t6c4elv9S0ocadXzr\n&quot;,</td>
      </tr>
      <tr>
        <td id="L891" class="blob-num js-line-number" data-line-number="891"></td>
        <td id="LC891" class="blob-code js-file-line">       &quot;vUFFB2B9T9I84JyIuK3oWHbC14G/j4hbig6kXET8XdExAJGH7ZLUBVwdEZe/vHHE6AbFVZeIeFeR\n&quot;,</td>
      </tr>
      <tr>
        <td id="L892" class="blob-num js-line-number" data-line-number="892"></td>
        <td id="LC892" class="blob-code js-file-line">       &quot;x7faXEPoTHWfMPqKpD77cSFJwJ7A3F5uP7CvYmk2ZfWsWucufeep1c0JocPl6vtdki6W9KKkpyQd\n&quot;,</td>
      </tr>
      <tr>
        <td id="L893" class="blob-num js-line-number" data-line-number="893"></td>
        <td id="LC893" class="blob-code js-file-line">       &quot;n5e9T9I9FeufJ+nneXyopK9Lmi9pUW4uGZaXzZC0UNLnJT0HXC5pgqRfSFomaamkO0onN0lTJN0g\n&quot;,</td>
      </tr>
      <tr>
        <td id="L894" class="blob-num js-line-number" data-line-number="894"></td>
        <td id="LC894" class="blob-code js-file-line">       &quot;6fkcwydrxDsUWAUMBB6Q9Hie/0VJT0haKekvkt5TUcbfS7pU0gvATElXSvpebp5YJelOSbtL+laO\n&quot;,</td>
      </tr>
      <tr>
        <td id="L895" class="blob-num js-line-number" data-line-number="895"></td>
        <td id="LC895" class="blob-code js-file-line">       &quot;72FJh/bwd/uGpMWSVkh6UNJBef7LzTWSbsn7Lg2bJZ2Zlx0gaXb+Ozwi6W97OFaXpH+W9HtgDbB3\n&quot;,</td>
      </tr>
      <tr>
        <td id="L896" class="blob-num js-line-number" data-line-number="896"></td>
        <td id="LC896" class="blob-code js-file-line">       &quot;vdtL2iX/zZ/P/763SJqal30VeBPwnRzft/P8bkmvyONjJf0wbz9P0gVl/2Y1vztly5/M/yZPSXp/\n&quot;,</td>
      </tr>
      <tr>
        <td id="L897" class="blob-num js-line-number" data-line-number="897"></td>
        <td id="LC897" class="blob-code js-file-line">       &quot;RWy1tuuSdE7Fv92/SVqe/12OqfW3sgaLCA8dNgBPA8fk8bOBDcA5pF+VnwCezctGACuBV5Ztew9w\n&quot;,</td>
      </tr>
      <tr>
        <td id="L898" class="blob-num js-line-number" data-line-number="898"></td>
        <td id="LC898" class="blob-code js-file-line">       &quot;Wh7/BnATMA4YBdwM/EteNgPYCFwEDAaG5fHLSCfzgcBRed0BwH3AP5KaKfcGngSO66EM3cAryqZP\n&quot;,</td>
      </tr>
      <tr>
        <td id="L899" class="blob-num js-line-number" data-line-number="899"></td>
        <td id="LC899" class="blob-code js-file-line">       &quot;BXbP46cBq4Hdysq4ETg3H2sYcBWwBDgMGArcBswDPpj/Dl8Bbq9x7HcA9wJj8vT+Zce+EvhylW3e\n&quot;,</td>
      </tr>
      <tr>
        <td id="L900" class="blob-num js-line-number" data-line-number="900"></td>
        <td id="LC900" class="blob-code js-file-line">       &quot;CSwEpgIjgQXAWTmeQ3MsB9Y4XleO7cC8/tiets8xfCWPjwdOyWUeBVwP3Fi2798CH6n1twV+CNyY\n&quot;,</td>
      </tr>
      <tr>
        <td id="L901" class="blob-num js-line-number" data-line-number="901"></td>
        <td id="LC901" class="blob-code js-file-line">       &quot;Y94LeLS0Pj1/d0YCK4B98/RuwEHb264yprJ/u0/n78xpwHJgl6L/H/XHwTWE/mF+RFwe6X/gD4HJ\n&quot;,</td>
      </tr>
      <tr>
        <td id="L902" class="blob-num js-line-number" data-line-number="902"></td>
        <td id="LC902" class="blob-code js-file-line">       &quot;kiZFxEvAz4EzACTtSzr53Zx/JX4M+GxELI+I1aQT/ull++0GLoyIjRGxjnQSmAxMj4jNEfH7vN7r\n&quot;,</td>
      </tr>
      <tr>
        <td id="L903" class="blob-num js-line-number" data-line-number="903"></td>
        <td id="LC903" class="blob-code js-file-line">       &quot;gIkR8c8RsSkingZ+ULGvHkXETyNiUR6/HngcOLJslb9GxHcjojvHEsDPImJORKwnnfTWRMQ1+e9w\n&quot;,</td>
      </tr>
      <tr>
        <td id="L904" class="blob-num js-line-number" data-line-number="904"></td>
        <td id="LC904" class="blob-code js-file-line">       &quot;PSlZVLMBGA0cKGlARDxaOna2VXONpP1ICei0iHgWOBF4OiJm5XjuB34G1KolBHBVRDwcEd3A8fVu\n&quot;,</td>
      </tr>
      <tr>
        <td id="L905" class="blob-num js-line-number" data-line-number="905"></td>
        <td id="LC905" class="blob-code js-file-line">       &quot;HxEvRsSNEbEu/xv9C/CWitWqNi8pNa29Dzg/ItZExHzgEqC8w7fqdycv6wYOljQ8IhZHxNw6t6v0\n&quot;,</td>
      </tr>
      <tr>
        <td id="L906" class="blob-num js-line-number" data-line-number="906"></td>
        <td id="LC906" class="blob-code js-file-line">       &quot;fER8K39nriclpRNqrGsN5ITQP7x8MstJANKvSYBryQkBeD/p1+U6YFdSDeK+3MSyDPgVMLFsv0si\n&quot;,</td>
      </tr>
      <tr>
        <td id="L907" class="blob-num js-line-number" data-line-number="907"></td>
        <td id="LC907" class="blob-code js-file-line">       &quot;YkPZ9MXAE8CtuSnhC3n+XsCU0n7yvs4HJgFIWp2bNFZK2qNaASSdKWlO2favBiaUrbKgymbPl42v\n&quot;,</td>
      </tr>
      <tr>
        <td id="L908" class="blob-num js-line-number" data-line-number="908"></td>
        <td id="LC908" class="blob-code js-file-line">       &quot;q5heW/Y32EpE/Bb4DvBdYLGk/yOpakespLGkpHpBRNxdVt4jK8r7ftKv6FrK4697e0kjcnzzJK0A\n&quot;,</td>
      </tr>
      <tr>
        <td id="L909" class="blob-num js-line-number" data-line-number="909"></td>
        <td id="LC909" class="blob-code js-file-line">       &quot;fgeMLTX7lIpU45gTSbW7+WXzniHVckqqfnciYg0pmXwC+Gtuttp/e9vViOPZiun5wJQa61oDOSHY\n&quot;,</td>
      </tr>
      <tr>
        <td id="L910" class="blob-num js-line-number" data-line-number="910"></td>
        <td id="LC910" class="blob-code js-file-line">       &quot;b4BdlS7tPJ2UIABeIJ00D4qIXfIwLiLGlG271YkmIlZHxP+OiH2Ak4DP5vbgZ0i/eHcpG8ZExIl5\n&quot;,</td>
      </tr>
      <tr>
        <td id="L911" class="blob-num js-line-number" data-line-number="911"></td>
        <td id="LC911" class="blob-code js-file-line">       &quot;u1ERMTrPW1gZoKS9gO+TmoTGR8QuwH+z9S/fPu08jYh/i4gjgIOA/YDPVYlrAOnvdVtE/KBs0TPA\n&quot;,</td>
      </tr>
      <tr>
        <td id="L912" class="blob-num js-line-number" data-line-number="912"></td>
        <td id="LC912" class="blob-code js-file-line">       &quot;7yrKOzoizu3pkDu4fWn9f8jxvT4ixpJqB2LL36anv8sLpOaa6WXz9iQ1fW1XRNwaEccBuwOPAP9R\n&quot;,</td>
      </tr>
      <tr>
        <td id="L913" class="blob-num js-line-number" data-line-number="913"></td>
        <td id="LC913" class="blob-code js-file-line">       &quot;z3ZVTK2Y3ottk4Q1gRNCPxcRG4GfkC7z3AWYned3k/6Df1PSrgCSpko6rta+JJ0g6ZX51+lKYHMe\n&quot;,</td>
      </tr>
      <tr>
        <td id="L914" class="blob-num js-line-number" data-line-number="914"></td>
        <td id="LC914" class="blob-code js-file-line">       &quot;/gSsUuqAHi5poKRXSzqizjBHkk5sLwADJH2YVEPoSb1X4Wy7oXSEpCMlDQZeItUuNlfZ71dJtajP\n&quot;,</td>
      </tr>
      <tr>
        <td id="L915" class="blob-num js-line-number" data-line-number="915"></td>
        <td id="LC915" class="blob-code js-file-line">       &quot;VOziF8B+kj4oaXAeXifpgDrj3d725Sf8UaTEvULSeODCiv0uBvapdsCI2ExqOvuqpFE58Z4HXNND\n&quot;,</td>
      </tr>
      <tr>
        <td id="L916" class="blob-num js-line-number" data-line-number="916"></td>
        <td id="LC916" class="blob-code js-file-line">       &quot;nCkAaZKkkyWNJCWVNWz5G+2oSZI+lcv5t6Rmy1/2cl+2E5wQOl+1S1Arp68F3gb8JCeCki+QmoD+\n&quot;,</td>
      </tr>
      <tr>
        <td id="L917" class="blob-num js-line-number" data-line-number="917"></td>
        <td id="LC917" class="blob-code js-file-line">       &quot;kJsjZpN+jdbaz755nVXA3cB3I+J3eZ8nkjpHnyJ1kH4fGENtL+87t01fAvw/UlPEq4G76ihj1LFO\n&quot;,</td>
      </tr>
      <tr>
        <td id="L918" class="blob-num js-line-number" data-line-number="918"></td>
        <td id="LC918" class="blob-code js-file-line">       &quot;NWNyfC+SOntfIDWHVe7ndFI/xjJtudLojNyWf1xe/izwHKn/ZUjt4m5V3u1tXx7DN4HhOca7Sc16\n&quot;,</td>
      </tr>
      <tr>
        <td id="L919" class="blob-num js-line-number" data-line-number="919"></td>
        <td id="LC919" class="blob-code js-file-line">       &quot;5eX6FnBqvtrnm1WO+0nSyfwp4E7gR6RO68rjVMY5gJQ8ngWWkq5m+rs6tqvmj6TvzhJSZ/+pEbGs\n&quot;,</td>
      </tr>
      <tr>
        <td id="L920" class="blob-num js-line-number" data-line-number="920"></td>
        <td id="LC920" class="blob-code js-file-line">       &quot;h/WtQZT6fBqwY2kaqTNpEunL8P2I+Hb+FfNjUrVwHqkjbnlDgjCzlibpbNJNlG8qOhZrbA1hI3Be\n&quot;,</td>
      </tr>
      <tr>
        <td id="L921" class="blob-num js-line-number" data-line-number="921"></td>
        <td id="LC921" class="blob-code js-file-line">       &quot;RLwKeANwrqQDgS8CsyNiP9KlgF9sYAxmZlanhiWEiFiUL5crVYEfJnUenQTMyqvNAt5TfQ9m1g80\n&quot;,</td>
      </tr>
      <tr>
        <td id="L922" class="blob-num js-line-number" data-line-number="922"></td>
        <td id="LC922" class="blob-code js-file-line">       &quot;/a56q61hTUZbHSQ9SOt3pLbfZ/JVIqVHFLxYmjYzs+I0vFNZ0ijgBuDTEbGqfFm+acW/DszMWkBD\n&quot;,</td>
      </tr>
      <tr>
        <td id="L923" class="blob-num js-line-number" data-line-number="923"></td>
        <td id="LC923" class="blob-code js-file-line">       &quot;n3aaL9u7gfS0xZvy7MWSdo+IRZIms/XNQqXtnCTMzHohInp9yXXDagi5OehyYG5ElF/udjPpGS3k\n&quot;,</td>
      </tr>
      <tr>
        <td id="L924" class="blob-num js-line-number" data-line-number="924"></td>
        <td id="LC924" class="blob-code js-file-line">       &quot;z5sqt4XOfsbShRdeWHgMLp/L1x/L18lli9j539GNrCEcRXqQ2IOS5uR55wNfA67PTzucR3qYlZmZ\n&quot;,</td>
      </tr>
      <tr>
        <td id="L925" class="blob-num js-line-number" data-line-number="925"></td>
        <td id="LC925" class="blob-code js-file-line">       &quot;FaxhCSEi7qJ2DeTYRh3XzMx6x3cqF2DGjBlFh9BQLl976+TydXLZ+kJTLjvdUZKiFeMyM2tlkohW\n&quot;,</td>
      </tr>
      <tr>
        <td id="L926" class="blob-num js-line-number" data-line-number="926"></td>
        <td id="LC926" class="blob-code js-file-line">       &quot;7FQ2M7P24oRgZmaAE4KZmWVOCGZmBjghmJlZ5oRgZmaAE4KZmWVOCGZmBjghmJlZ5oRgZmaAE4KZ\n&quot;,</td>
      </tr>
      <tr>
        <td id="L927" class="blob-num js-line-number" data-line-number="927"></td>
        <td id="LC927" class="blob-code js-file-line">       &quot;mWVOCGZmBjghmJlZ5oRgZmZAiyeE+fNh4cKiozAz6x9aOiFcdhlcc03RUZiZ9Q8tnRAGDYJNm4qO\n&quot;,</td>
      </tr>
      <tr>
        <td id="L928" class="blob-num js-line-number" data-line-number="928"></td>
        <td id="LC928" class="blob-code js-file-line">       &quot;wsysf3BCMDMzwAnBzMwyJwQzMwOcEMzMLHNCMDMzwAnBzMwyJwQzMwOcEMzMLHNCMDMzwAnBzMyy\n&quot;,</td>
      </tr>
      <tr>
        <td id="L929" class="blob-num js-line-number" data-line-number="929"></td>
        <td id="LC929" class="blob-code js-file-line">       &quot;lk4IAwc6IZiZNUtLJ4RBg2Dz5qKjMDPrH1o+IbiGYGbWHE4IZmYGOCGYmVnW8glh48aiozAz6x9a\n&quot;,</td>
      </tr>
      <tr>
        <td id="L930" class="blob-num js-line-number" data-line-number="930"></td>
        <td id="LC930" class="blob-code js-file-line">       &quot;PiG4hmBm1hwtnRAGD3YNwcysWZwQzMwMaIOE4CYjM7PmaOmE4E5lM7PmaemE4CYjM7PmcUIwMzPA\n&quot;,</td>
      </tr>
      <tr>
        <td id="L931" class="blob-num js-line-number" data-line-number="931"></td>
        <td id="LC931" class="blob-code js-file-line">       &quot;CcHMzLKWTgi+D8HMrHlaOiG4hmBm1jxOCGZmBjghmJlZ1tCEIOkKSYslPVQ2b6akhZLm5OH4Wtv7\n&quot;,</td>
      </tr>
      <tr>
        <td id="L932" class="blob-num js-line-number" data-line-number="932"></td>
        <td id="LC932" class="blob-code js-file-line">       &quot;xjQzs+ZpdA3hSqDyhB/ApRFxWB7+q9bGvjHNzKx5GpoQIuJOYFmVRapn+4ED06dfo2lm1nhF9SF8\n&quot;,</td>
      </tr>
      <tr>
        <td id="L933" class="blob-num js-line-number" data-line-number="933"></td>
        <td id="LC933" class="blob-code js-file-line">       &quot;UtIDki6XNK6nFYcMgQ0bmhWWmVn/NaiAY14GfDmPfwW4BDincqWZM2cC0N0Nt98+gxNOmNGk8MzM\n&quot;,</td>
      </tr>
      <tr>
        <td id="L934" class="blob-num js-line-number" data-line-number="934"></td>
        <td id="LC934" class="blob-code js-file-line">       &quot;2kNXVxddXV19tj9FRJ/trOoBpOnALRFxcL3LJEUprgkT4NFHYeLEhoZpZtb2JBERdTXJV9P0JiNJ\n&quot;,</td>
      </tr>
      <tr>
        <td id="L935" class="blob-num js-line-number" data-line-number="935"></td>
        <td id="LC935" class="blob-code js-file-line">       &quot;k8smTwEeqrUupCYjdyybmTVeQ5uMJF0HvAWYKGkBcCEwQ9KhpKuNngb+Z0/7cB+CmVlzNDQhRMQZ\n&quot;,</td>
      </tr>
      <tr>
        <td id="L936" class="blob-num js-line-number" data-line-number="936"></td>
        <td id="LC936" class="blob-code js-file-line">       &quot;VWZfsSP7cEIwM2uOlr5TGdLNaU4IZmaN1/IJwX0IZmbN0RYJwTUEM7PGc0IwMzOgDRKC+xDMzJqj\n&quot;,</td>
      </tr>
      <tr>
        <td id="L937" class="blob-num js-line-number" data-line-number="937"></td>
        <td id="LC937" class="blob-code js-file-line">       &quot;5ROCawhmZs3RFgnBncpmZo3XFglh/fqiozAz63xOCGZmBrRBQhg61AnBzKwZnBDMzAxwQjAzs8wJ\n&quot;,</td>
      </tr>
      <tr>
        <td id="L938" class="blob-num js-line-number" data-line-number="938"></td>
        <td id="LC938" class="blob-code js-file-line">       &quot;wczMACcEMzPLnBDMzAxwQjAzs8wJwczMACcEMzPLnBDMzAxog4QwbJgTgplZM7R8Qhg+HNatKzoK\n&quot;,</td>
      </tr>
      <tr>
        <td id="L939" class="blob-num js-line-number" data-line-number="939"></td>
        <td id="LC939" class="blob-code js-file-line">       &quot;M7PO1/IJYdgwWLu26CjMzDpfWyQE1xDMzBqv5ROCm4zMzJqj5ROCm4zMzJqj5ROCawhmZs3R8gnB\n&quot;,</td>
      </tr>
      <tr>
        <td id="L940" class="blob-num js-line-number" data-line-number="940"></td>
        <td id="LC940" class="blob-code js-file-line">       &quot;NQQzs+Zoi4TgGoKZWeO1fEIYPtw1BDOzZmj5hFBqMoooOhIzs87W8glh8GAYMAA2biw6EjOzztby\n&quot;,</td>
      </tr>
      <tr>
        <td id="L941" class="blob-num js-line-number" data-line-number="941"></td>
        <td id="LC941" class="blob-code js-file-line">       &quot;CQFgxAg3G5mZNVrbJISXXio6CjOzzuaEYGZmgBOCmZllTghmZga0UUJwp7KZWWNtNyFI+nQ98xrJ\n&quot;,</td>
      </tr>
      <tr>
        <td id="L942" class="blob-num js-line-number" data-line-number="942"></td>
        <td id="LC942" class="blob-code js-file-line">       &quot;NQQzs8arp4ZwdpV5H+7jOHo0YgSsWdPMI5qZ9T+Dai2QdAbwfmBvSbeULRoNLG10YOVGjnRCMDNr\n&quot;,</td>
      </tr>
      <tr>
        <td id="L943" class="blob-num js-line-number" data-line-number="943"></td>
        <td id="LC943" class="blob-code js-file-line">       &quot;tJoJAbgbeA7YFfg6oDx/FfBAg+PaihOCmVnj1UwIETEfmA+8oXnhVDdqFKxeXXQUZmadracaAgCS\n&quot;,</td>
      </tr>
      <tr>
        <td id="L944" class="blob-num js-line-number" data-line-number="944"></td>
        <td id="LC944" class="blob-code js-file-line">       &quot;VpVNDgEGA6sjYkzDoqowcqQTgplZo203IUTE6NK4pAHASTS51jBqFCxc2Mwjmpn1Pzt0H0JEdEfE\n&quot;,</td>
      </tr>
      <tr>
        <td id="L945" class="blob-num js-line-number" data-line-number="945"></td>
        <td id="LC945" class="blob-code js-file-line">       &quot;TcDxDYqnKjcZmZk1Xj1NRu8tmxwAvBZo6m1ibjIyM2u87SYE4N1A6fU0m4B5wMmNCqga1xDMzBqv\n&quot;,</td>
      </tr>
      <tr>
        <td id="L946" class="blob-num js-line-number" data-line-number="946"></td>
        <td id="LC946" class="blob-code js-file-line">       &quot;nj6Es3u7c0lXACcAz0fEwXneeODHwF6k5HJaRCzvaT+jR8OqVT2tYWZmO6ueR1fsI+kWSS9IWiLp\n&quot;,</td>
      </tr>
      <tr>
        <td id="L947" class="blob-num js-line-number" data-line-number="947"></td>
        <td id="LC947" class="blob-code js-file-line">       &quot;55JeUef+r2Tb/oYvArMjYj/gtjzdIycEM7PGq6dT+VrgemAyMAX4CXBdPTuPiDuBZRWzTwJm5fFZ\n&quot;,</td>
      </tr>
      <tr>
        <td id="L948" class="blob-num js-line-number" data-line-number="948"></td>
        <td id="LC948" class="blob-code js-file-line">       &quot;wHu2t58xY2DlynqOaGZmvVVPQhgeEVdHxMY8XAMM24lj7hYRi/P4YmC37W3ghGBm1nj1dCr/StL5\n&quot;,</td>
      </tr>
      <tr>
        <td id="L949" class="blob-num js-line-number" data-line-number="949"></td>
        <td id="LC949" class="blob-code js-file-line">       &quot;bKkVvC/PGw8QES/29uAREZKi2rKZM2e+PH7kkTNYuXJGbw9jZtaRurq66Orq6rP9KaLq+XjLCtI8\n&quot;,</td>
      </tr>
      <tr>
        <td id="L950" class="blob-num js-line-number" data-line-number="950"></td>
        <td id="LC950" class="blob-code js-file-line">       &quot;tlxlVCkiosf+BEnTgVvKOpUfAWZExCJJk4HfRsQBFdtEeVwRMGgQrF+fPs3MbFuSiAhtf83q6jm9\n&quot;,</td>
      </tr>
      <tr>
        <td id="L951" class="blob-num js-line-number" data-line-number="951"></td>
        <td id="LC951" class="blob-code js-file-line">       &quot;HhAR6yoOOqxy3g64GTgL+Nf8edP2NpC2dCzvsksvj2pmZj2qpw/h7jrnbUPSdXnd/SUtkPRh4GvA\n&quot;,</td>
      </tr>
      <tr>
        <td id="L952" class="blob-num js-line-number" data-line-number="952"></td>
        <td id="LC952" class="blob-code js-file-line">       &quot;2yU9BhyTp7dr7FhY3uPFqWZmtjN6eh9C6aqiEZIOJz3+OoAxwIh6dh4RZ9RYdOwOxsm4cbBixY5u\n&quot;,</td>
      </tr>
      <tr>
        <td id="L953" class="blob-num js-line-number" data-line-number="953"></td>
        <td id="LC953" class="blob-code js-file-line">       &quot;ZWZm9eqpyeg40tvSpgKXlM1fBXypgTFVNW6cawhmZo3U0/sQZgGzJL03Im5oYkxVOSGYmTVWPZ3K\n&quot;,</td>
      </tr>
      <tr>
        <td id="L954" class="blob-num js-line-number" data-line-number="954"></td>
        <td id="LC954" class="blob-code js-file-line">       &quot;r5b0KrY0GQEQEV9uWFRVuMnIzKyx6kkIa9iSCIYDJwJzGxZRDa4hmJk1Vj0Pt/t6+bSki4FbGxZR\n&quot;,</td>
      </tr>
      <tr>
        <td id="L955" class="blob-num js-line-number" data-line-number="955"></td>
        <td id="LC955" class="blob-code js-file-line">       &quot;DePGwbLKh2CYmVmf2aEX5GQjSR3NTTV+PLzY63uizcxse+p5Qc5DZZMDgElAU/sPICWEe+5p9lHN\n&quot;,</td>
      </tr>
      <tr>
        <td id="L956" class="blob-num js-line-number" data-line-number="956"></td>
        <td id="LC956" class="blob-code js-file-line">       &quot;zPqPel+QMw54MzAW+FVE3NvQqKqYMAGWLm32Uc3M+o96moxOBq4BJgJDgCslfaqhUVXhhGBm1lj1\n&quot;,</td>
      </tr>
      <tr>
        <td id="L957" class="blob-num js-line-number" data-line-number="957"></td>
        <td id="LC957" class="blob-code js-file-line">       &quot;1BA+ChwZEWsAJH0N+APw7UYGVsl9CGZmjVVvp3J3jfGmcQ3BzKyx6qkhXAn8UdLPSDenvQe4oqFR\n&quot;,</td>
      </tr>
      <tr>
        <td id="L958" class="blob-num js-line-number" data-line-number="958"></td>
        <td id="LC958" class="blob-code js-file-line">       &quot;VTFuHKxeDRs3wuDBzT66mVnn2+77EAAkvRY4mnSD2p0RMaehQVW8D6Fk991hzhyYPLmRRzcza0/N\n&quot;,</td>
      </tr>
      <tr>
        <td id="L959" class="blob-num js-line-number" data-line-number="959"></td>
        <td id="LC959" class="blob-code js-file-line">       &quot;eB8CEXEfcF9vD9JXJk2C5593QjAza4Te3JhWmF13TQnBzMz6XlslhEmTYMmSoqMwM+tMbZcQFi8u\n&quot;,</td>
      </tr>
      <tr>
        <td id="L960" class="blob-num js-line-number" data-line-number="960"></td>
        <td id="LC960" class="blob-code js-file-line">       &quot;Ogozs87UVglh8mR47rmiozAz60xOCGZmBjghmJlZ5oRgZmZAmyWEKVPg2WeLjsLMrDO1VUIYPx42\n&quot;,</td>
      </tr>
      <tr>
        <td id="L961" class="blob-num js-line-number" data-line-number="961"></td>
        <td id="LC961" class="blob-code js-file-line">       &quot;bIBVq4qOxMys87RVQpBg2jRYuLDoSMzMOk9bJQSAPfaABQuKjsLMrPO0XULYc0945pmiozAz6zxt\n&quot;,</td>
      </tr>
      <tr>
        <td id="L962" class="blob-num js-line-number" data-line-number="962"></td>
        <td id="LC962" class="blob-code js-file-line">       &quot;lxCmT4f584uOwsys87RlQnj66aKjMDPrPG2XEPbe2wnBzKwR2jIhPPVU0VGYmXWetksIU6fCihXp\n&quot;,</td>
      </tr>
      <tr>
        <td id="L963" class="blob-num js-line-number" data-line-number="963"></td>
        <td id="LC963" class="blob-code js-file-line">       &quot;dZpmZtZ32i4hDBgA++wDjz9edCRmZp2l7RICwH77OSGYmfW1tkwI++8PjzxSdBRmZp2lLRPCQQfB\n&quot;,</td>
      </tr>
      <tr>
        <td id="L964" class="blob-num js-line-number" data-line-number="964"></td>
        <td id="LC964" class="blob-code js-file-line">       &quot;3LlFR2Fm1lmcEMzMDABFRNExbENS9BTXSy/BhAmwciUMHtzEwMzMWpgkIkK93b4tawgjRsBee7kf\n&quot;,</td>
      </tr>
      <tr>
        <td id="L965" class="blob-num js-line-number" data-line-number="965"></td>
        <td id="LC965" class="blob-code js-file-line">       &quot;wcysL7VlQgA49FC4//6iozAz6xxtmxAOOwz+/OeiozAz6xxtmxCOOALuvbfoKMzMOkdbdipDenzF\n&quot;,</td>
      </tr>
      <tr>
        <td id="L966" class="blob-num js-line-number" data-line-number="966"></td>
        <td id="LC966" class="blob-code js-file-line">       &quot;1KmwbJk7ls3MoJ92KgOMHZtelvPQQ0VHYmbWGdo2IQAcfTTcdVfRUZiZdYa2TghvfjPccUfRUZiZ\n&quot;,</td>
      </tr>
      <tr>
        <td id="L967" class="blob-num js-line-number" data-line-number="967"></td>
        <td id="LC967" class="blob-code js-file-line">       &quot;dYa27UMAWLAADj8cFi9OT0E1M+vP+m0fAsC0aemO5QceKDoSM7P2V1hCkDRP0oOS5kj6U2/38/a3\n&quot;,</td>
      </tr>
      <tr>
        <td id="L968" class="blob-num js-line-number" data-line-number="968"></td>
        <td id="LC968" class="blob-code js-file-line">       &quot;w69/3ZeRmZn1T0XWEAKYERGHRcTre7uTd70LfvGLPozKzKyfKrrJqNdtXSXHHJMuPV2ypC/CMTPr\n&quot;,</td>
      </tr>
      <tr>
        <td id="L969" class="blob-num js-line-number" data-line-number="969"></td>
        <td id="LC969" class="blob-code js-file-line">       &quot;v4quIfxG0r2SPtbbnQwdCu94B9x4Yx9GZmbWDw0q8NhHRcRzknYFZkt6JCLuLC2cOXPmyyvOmDGD\n&quot;,</td>
      </tr>
      <tr>
        <td id="L970" class="blob-num js-line-number" data-line-number="970"></td>
        <td id="LC970" class="blob-code js-file-line">       &quot;GTNm1NzR6afDd78LH/94A6M1M2sxXV1ddHV19dn+WuKyU0kXAqsj4pI8XddlpyVr16bHWDz4IOyx\n&quot;,</td>
      </tr>
      <tr>
        <td id="L971" class="blob-num js-line-number" data-line-number="971"></td>
        <td id="LC971" class="blob-code js-file-line">       &quot;R6OiNDNrbW152amkEZJG5/GRwHFArx9CMXw4nHYazJrVVxGamfU/hdQQJO0NlFr9BwE/ioiLypbv\n&quot;,</td>
      </tr>
      <tr>
        <td id="L972" class="blob-num js-line-number" data-line-number="972"></td>
        <td id="LC972" class="blob-code js-file-line">       &quot;UA0B0pNPTz0VnnwSBg7su1jNzNrFztYQWqLJqFJvEgLAG98In/88nHJKA4IyM2txbdlk1Cif+Qxc\n&quot;,</td>
      </tr>
      <tr>
        <td id="L973" class="blob-num js-line-number" data-line-number="973"></td>
        <td id="LC973" class="blob-code js-file-line">       &quot;fDG0YI4zM2t5HZUQTj0VXngB+rDT3cys3+iohDBwIPzTP8EFF7iWYGa2ozoqIQCccQasWQM33FB0\n&quot;,</td>
      </tr>
      <tr>
        <td id="L974" class="blob-num js-line-number" data-line-number="974"></td>
        <td id="LC974" class="blob-code js-file-line">       &quot;JGZm7aWjOpVLurrgrLNg7lwYObLv4jIza2W+yqiGD34Qdt0VvvGNPgrKzKzFOSHUsHQpHHwwXHNN\n&quot;,</td>
      </tr>
      <tr>
        <td id="L975" class="blob-num js-line-number" data-line-number="975"></td>
        <td id="LC975" class="blob-code js-file-line">       &quot;egCemVmn82WnNUyYAFddBWeeCYsWFR2NmVnr69iEAHDccfDRj6bLUdevLzoaM7PW1rFNRiXd3ek5\n&quot;,</td>
      </tr>
      <tr>
        <td id="L976" class="blob-num js-line-number" data-line-number="976"></td>
        <td id="LC976" class="blob-code js-file-line">       &quot;R4MGwbXX+t3LZta53GS0HQMGpH6ERYvS47G7u4uOyMysNXV8QgAYNiy9ZvPxx1OfwsaNRUdkZtZ6\n&quot;,</td>
      </tr>
      <tr>
        <td id="L977" class="blob-num js-line-number" data-line-number="977"></td>
        <td id="LC977" class="blob-code js-file-line">       &quot;+kVCABg1Cn71K1ixAt75Tli2rOiIzMxaS79JCAAjRsBNN8FrXgNHHAF//nPREZmZtY5+lRAgPe/o\n&quot;,</td>
      </tr>
      <tr>
        <td id="L978" class="blob-num js-line-number" data-line-number="978"></td>
        <td id="LC978" class="blob-code js-file-line">       &quot;0kvhoovSu5gvugg2bSo6KjOz4vW7hFBy2mlw331w++3w+tfDH/9YdERmZsXqtwkBYM894dZb4bzz\n&quot;,</td>
      </tr>
      <tr>
        <td id="L979" class="blob-num js-line-number" data-line-number="979"></td>
        <td id="LC979" class="blob-code js-file-line">       &quot;4G/+Jj3u4qmnio7KzKwY/TohAEjwoQ/BI4/AfvvB614H55wDjz1WdGRmZs3V7xNCyejR6V0Kjz8O\n&quot;,</td>
      </tr>
      <tr>
        <td id="L980" class="blob-num js-line-number" data-line-number="980"></td>
        <td id="LC980" class="blob-code js-file-line">       &quot;06bB0UfDu9+drkzyvQtm1h90/J3KvfXSS+nO5ssuS29hO/NM+MAH4IADCg3LzKwmP+20Ce6/H2bN\n&quot;,</td>
      </tr>
      <tr>
        <td id="L981" class="blob-num js-line-number" data-line-number="981"></td>
        <td id="LC981" class="blob-code js-file-line">       &quot;gh//GCZNglNOgZNPhkMOSU1OZmatwAmhiTZvhrvvhhtvhJtvhnXr0gP0jj0W3vpWmDy56AjNrD9z\n&quot;,</td>
      </tr>
      <tr>
        <td id="L982" class="blob-num js-line-number" data-line-number="982"></td>
        <td id="LC982" class="blob-code js-file-line">       &quot;QijQY4/B7NlpuOMOmDgx9T0cdRQceSQceGC678HMrBmcEFpEdzc89FCqQfz+9/CnP8Fzz6VmpcMP\n&quot;,</td>
      </tr>
      <tr>
        <td id="L983" class="blob-num js-line-number" data-line-number="983"></td>
        <td id="LC983" class="blob-code js-file-line">       &quot;T5+HHAIHHZTumDYz62tOCC1s2bLU/3DfffDgg/DAA6lWMWVKqj0ccADsvz/su28apkxxn4SZ9Z4T\n&quot;,</td>
      </tr>
      <tr>
        <td id="L984" class="blob-num js-line-number" data-line-number="984"></td>
        <td id="LC984" class="blob-code js-file-line">       &quot;QpvZtAmefBLmzoVHH033PzzxRLrcddUq2HvvNEyfDnvtlYZp09JNdLvv7iYoM6vNCaGDrF4NTz+d\n&quot;,</td>
      </tr>
      <tr>
        <td id="L985" class="blob-num js-line-number" data-line-number="985"></td>
        <td id="LC985" class="blob-code js-file-line">       &quot;7paePx/mzYNnnoEFC9Ln0qWw664wdWqqTUyenIbddkvJYrfd0lVQkybByJGubZj1N04I/cjGjelF\n&quot;,</td>
      </tr>
      <tr>
        <td id="L986" class="blob-num js-line-number" data-line-number="986"></td>
        <td id="LC986" class="blob-code js-file-line">       &quot;PwsXpv6J0rB4cRoWLYIlS9J4REoeEyemYcKELcP48bDLLls+x43b8jl8uBOJWbtyQrCq1qxJNYol\n&quot;,</td>
      </tr>
      <tr>
        <td id="L987" class="blob-num js-line-number" data-line-number="987"></td>
        <td id="LC987" class="blob-code js-file-line">       &quot;S9KNdUuXbhmWLYMXX0zjy5en6dLn5s0wdmxKDmPHwpgxaRg7Nt3NPXp0mh49Or1jovJz1KhUOxk5\n&quot;,</td>
      </tr>
      <tr>
        <td id="L988" class="blob-num js-line-number" data-line-number="988"></td>
        <td id="LC988" class="blob-code js-file-line">       &quot;MnWeu4nLrHmcEKxPrV+fXiK0fDmsXJmGFSvS56pVW+atXp2mS59r1qTx0rBmTbrbe+jQrRNEaRg5\n&quot;,</td>
      </tr>
      <tr>
        <td id="L989" class="blob-num js-line-number" data-line-number="989"></td>
        <td id="LC989" class="blob-code js-file-line">       &quot;MtVGStPDh1cfhg3b+nPo0DRePpTmDR0Kgwe7hmP9lxOCtawIWLt2S3IofZbG165N4+Wf5cO6dVt/\n&quot;,</td>
      </tr>
      <tr>
        <td id="L990" class="blob-num js-line-number" data-line-number="990"></td>
        <td id="LC990" class="blob-code js-file-line">       &quot;rl2bEta6dWlYv37LvNL8zZthyJAtCaJ8GDJky2fl+PaGwYO3/aw2DBkCgwZtO798Xmm8/HOAnypm\n&quot;,</td>
      </tr>
      <tr>
        <td id="L991" class="blob-num js-line-number" data-line-number="991"></td>
        <td id="LC991" class="blob-code js-file-line">       &quot;fcAJwazM5s1bEkT5sGHD1p/r16c+mQ0btgyl5ZXzy+dV+ywfNmxIV5JVzt+4Mc0vLStfZ9OmVKsp\n&quot;,</td>
      </tr>
      <tr>
        <td id="L992" class="blob-num js-line-number" data-line-number="992"></td>
        <td id="LC992" class="blob-code js-file-line">       &quot;TxCVQ+X8gQPrHy//rDWvfKg1v6dhwIDa05XLyudV+9yRedWmpf5bS3RCMOsA3d3bJo3Nm7eeV7ls\n&quot;,</td>
      </tr>
      <tr>
        <td id="L993" class="blob-num js-line-number" data-line-number="993"></td>
        <td id="LC993" class="blob-code js-file-line">       &quot;8+Yt80rrVptfPl6+vPyzcqg1v9rQ3V17unJZ+bx6PktDteUR267X3Z3mlyeIyqGUQK68Mj3RuJM4\n&quot;,</td>
      </tr>
      <tr>
        <td id="L994" class="blob-num js-line-number" data-line-number="994"></td>
        <td id="LC994" class="blob-code js-file-line">       &quot;IZiZlSkliohtk0V5Ahk9OjUbdpKdTQiD+jIYM7OilZrfbMe5K8vMzAAnBDMzy5wQzMwMcEIwM7PM\n&quot;,</td>
      </tr>
      <tr>
        <td id="L995" class="blob-num js-line-number" data-line-number="995"></td>
        <td id="LC995" class="blob-code js-file-line">       &quot;CcHMzAAnBDMzy5wQzMwMcEIwM7PMCcHMzAAnBDMzy5wQzMwMKCghSDpe0iOSHpf0hSJiMDOzrTU9\n&quot;,</td>
      </tr>
      <tr>
        <td id="L996" class="blob-num js-line-number" data-line-number="996"></td>
        <td id="LC996" class="blob-code js-file-line">       &quot;IUgaCHwHOB44CDhD0oHNjqNIXV1dRYfQUC5fe+vk8nVy2fpCETWE1wNPRMS8iNgI/F/g5ALiKEyn\n&quot;,</td>
      </tr>
      <tr>
        <td id="L997" class="blob-num js-line-number" data-line-number="997"></td>
        <td id="LC997" class="blob-code js-file-line">       &quot;fyldvvbWyeXr5LL1hSISwlRgQdn0wjzPzMwKVERC8JtvzMxaUNPfmCbpDcDMiDg+T58PdEfEv5at\n&quot;,</td>
      </tr>
      <tr>
        <td id="L998" class="blob-num js-line-number" data-line-number="998"></td>
        <td id="LC998" class="blob-code js-file-line">       &quot;46RhZtYLbfUKTUmDgEeBtwF/Bf4EnBERDzc1EDMz20rTXzQXEZsk/S/g18BA4HInAzOz4jW9hmBm\n&quot;,</td>
      </tr>
      <tr>
        <td id="L999" class="blob-num js-line-number" data-line-number="999"></td>
        <td id="LC999" class="blob-code js-file-line">       &quot;Zq2p5e5U7rSb1iRNk/RbSX+R9N+SPpXnj5c0W9Jjkm6VNK7oWHtL0kBJcyTdkqc7qWzjJP1U0sOS\n&quot;,</td>
      </tr>
      <tr>
        <td id="L1000" class="blob-num js-line-number" data-line-number="1000"></td>
        <td id="LC1000" class="blob-code js-file-line">       &quot;5ko6ssPKd37+bj4k6VpJQ9u5fJKukLRY0kNl82qWJ5f/8XzOOa6YqOtXo3wX5+/nA5J+Jmls2bId\n&quot;,</td>
      </tr>
      <tr>
        <td id="L1001" class="blob-num js-line-number" data-line-number="1001"></td>
        <td id="LC1001" class="blob-code js-file-line">       &quot;Kl9LJYQOvWltI3BeRLwKeANwbi7TF4HZEbEfcFueblefBuay5QqyTirbt4BfRsSBwGuAR+iQ8kma\n&quot;,</td>
      </tr>
      <tr>
        <td id="L1002" class="blob-num js-line-number" data-line-number="1002"></td>
        <td id="LC1002" class="blob-code js-file-line">       &quot;DnwMODwiDiY14Z5Oe5fvStL5o1zV8kg6CHgf6VxzPPA9SS11TqyiWvluBV4VEYcAjwHnQ+/K12qF\n&quot;,</td>
      </tr>
      <tr>
        <td id="L1003" class="blob-num js-line-number" data-line-number="1003"></td>
        <td id="LC1003" class="blob-code js-file-line">       &quot;77ib1iJiUUTcn8dXAw+T7rs4CZiVV5sFvKeYCHeOpD2AdwE/AEpXN3RK2cYCb4qIKyD1f0XECjqk\n&quot;,</td>
      </tr>
      <tr>
        <td id="L1004" class="blob-num js-line-number" data-line-number="1004"></td>
        <td id="LC1004" class="blob-code js-file-line">       &quot;fMBK0g+WEflijxGkCz3atnwRcSewrGJ2rfKcDFwXERsjYh7wBOkc1LKqlS8iZkdEd578I7BHHt/h\n&quot;,</td>
      </tr>
      <tr>
        <td id="L1005" class="blob-num js-line-number" data-line-number="1005"></td>
        <td id="LC1005" class="blob-code js-file-line">       &quot;8rVaQujom9byL7LDSP9ou0XE4rxoMbBbQWHtrG8AnwO6y+Z1Stn2BpZIulLSnyX9h6SRdEj5IuJF\n&quot;,</td>
      </tr>
      <tr>
        <td id="L1006" class="blob-num js-line-number" data-line-number="1006"></td>
        <td id="LC1006" class="blob-code js-file-line">       &quot;4BLgGVIiWB4Rs+mQ8pWpVZ4ppHNMSSecbz4C/DKP73D5Wi0hdGwPt6RRwA3ApyNiVfmySD37bVd2\n&quot;,</td>
      </tr>
      <tr>
        <td id="L1007" class="blob-num js-line-number" data-line-number="1007"></td>
        <td id="LC1007" class="blob-code js-file-line">       &quot;SScCz0fEHLbUDrbSrmXLBgGHA9+LiMOBNVQ0n7Rz+STtA3wGmE46eYyS9MHyddq5fNXUUZ62Lauk\n&quot;,</td>
      </tr>
      <tr>
        <td id="L1008" class="blob-num js-line-number" data-line-number="1008"></td>
        <td id="LC1008" class="blob-code js-file-line">       &quot;C4ANEXFtD6v1WL5WSwjPAtPKpqexdYZrS5IGk5LB1RFxU569WNLueflk4Pmi4tsJ/wM4SdLTwHXA\n&quot;,</td>
      </tr>
      <tr>
        <td id="L1009" class="blob-num js-line-number" data-line-number="1009"></td>
        <td id="LC1009" class="blob-code js-file-line">       &quot;MZKupjPKBum7tzAi7snTPyUliEUdUr4jgLsjYmlEbAJ+BryRzilfSa3vY+X5Zo88r+1IOpvUdPuB\n&quot;,</td>
      </tr>
      <tr>
        <td id="L1010" class="blob-num js-line-number" data-line-number="1010"></td>
        <td id="LC1010" class="blob-code js-file-line">       &quot;stk7XL5WSwj3AvtKmi5pCKlD5OaCY9opkgRcDsyNiG+WLboZOCuPnwXcVLltq4uIL0XEtIjYm9QZ\n&quot;,</td>
      </tr>
      <tr>
        <td id="L1011" class="blob-num js-line-number" data-line-number="1011"></td>
        <td id="LC1011" class="blob-code js-file-line">       &quot;eXtEfIgOKBuk/h9ggaT98qxjgb8At9AB5SN1kL9B0vD8PT2WdHFAp5SvpNb38WbgdElDJO0N7Eu6\n&quot;,</td>
      </tr>
      <tr>
        <td id="L1012" class="blob-num js-line-number" data-line-number="1012"></td>
        <td id="LC1012" class="blob-code js-file-line">       &quot;UbatSDqe1Gx7ckSsK1u04+WLiJYagHeS7mR+Aji/6Hj6oDxHk9rX7wfm5OF4YDzwG9JVAbcC44qO\n&quot;,</td>
      </tr>
      <tr>
        <td id="L1013" class="blob-num js-line-number" data-line-number="1013"></td>
        <td id="LC1013" class="blob-code js-file-line">       &quot;dSfL+Rbg5jzeMWUDDgHuAR4g/YIe22Hl+zwpyT1E6nAd3M7lI9VU/wpsIPVHfrin8gBfyueaR4B3\n&quot;,</td>
      </tr>
      <tr>
        <td id="L1014" class="blob-num js-line-number" data-line-number="1014"></td>
        <td id="LC1014" class="blob-code js-file-line">       &quot;FB1/L8r3EeBxYH7Z+eV7vS2fb0wzMzOg9ZqMzMysIE4IZmYGOCGYmVnmhGBmZoATgpmZZU4IZmYG\n&quot;,</td>
      </tr>
      <tr>
        <td id="L1015" class="blob-num js-line-number" data-line-number="1015"></td>
        <td id="LC1015" class="blob-code js-file-line">       &quot;OCFYh5O0uo/2M738kcN1rP+fksb0xbHNmqXpb0wza7JCbrSJiBOKOK7ZznANwfoFSaMk/UbSfZIe\n&quot;,</td>
      </tr>
      <tr>
        <td id="L1016" class="blob-num js-line-number" data-line-number="1016"></td>
        <td id="LC1016" class="blob-code js-file-line">       &quot;lHRSnj89v1zk+/kFRr+WNCwve21+6cj9wN/X2O9kSXfkFwQ9JOmoPH+epAmSPpGXzZH0tKTb8/Lj\n&quot;,</td>
      </tr>
      <tr>
        <td id="L1017" class="blob-num js-line-number" data-line-number="1017"></td>
        <td id="LC1017" class="blob-code js-file-line">       &quot;JN2d47k+P0XVrFBOCNZfrAVOiYjXAseQHvtc8krgOxHxamA58N48/0rg3Ig4tIf9ngH8V0QcRnrM\n&quot;,</td>
      </tr>
      <tr>
        <td id="L1018" class="blob-num js-line-number" data-line-number="1018"></td>
        <td id="LC1018" class="blob-code js-file-line">       &quot;xQN5fpAervnvednrSI8auETSROAC4G05nvuAz/ZFIc12hpuMrL8YAFwk6U2kZ0tNkTQpL3s6Ih7M\n&quot;,</td>
      </tr>
      <tr>
        <td id="L1019" class="blob-num js-line-number" data-line-number="1019"></td>
        <td id="LC1019" class="blob-code js-file-line">       &quot;4/cB0/PLccZGxF15/tWk52xVuge4Ij/R9qaIeKDKOgDfBm6LiP/Mjw0/CLg7PVOOIcDdO1k+s53m\n&quot;,</td>
      </tr>
      <tr>
        <td id="L1020" class="blob-num js-line-number" data-line-number="1020"></td>
        <td id="LC1020" class="blob-code js-file-line">       &quot;hGD9xQeAiaTXRW7Oj+welpetL1tvMzC8yva13vdwZ04yJwJXSbo0Iq7easP0aOJpEVHe7DQ7It7f\n&quot;,</td>
      </tr>
      <tr>
        <td id="L1021" class="blob-num js-line-number" data-line-number="1021"></td>
        <td id="LC1021" class="blob-code js-file-line">       &quot;u6KYNYabjKy/GEN6mc9mSW8F9upp5Uivylxe6hNg6+fMv0zSnsCSiPgB6THnh1Usfy3wD8CHymb/\n&quot;,</td>
      </tr>
      <tr>
        <td id="L1022" class="blob-num js-line-number" data-line-number="1022"></td>
        <td id="LC1022" class="blob-code js-file-line">       &quot;ATgqv6AGSSMl7duLMpn1KdcQrNOVrjL6EXCLpAdJ7914uMo6ldMfJjUHBemxydWuWJoBfE7SRmAV\n&quot;,</td>
      </tr>
      <tr>
        <td id="L1023" class="blob-num js-line-number" data-line-number="1023"></td>
        <td id="LC1023" class="blob-code js-file-line">       &quot;cGbZPgScC+wC/DY3D90TER/PtYbrJA3N619AeoyxWWH8+GszMwPcZGRmZpkTgpmZAU4IZmaWOSGY\n&quot;,</td>
      </tr>
      <tr>
        <td id="L1024" class="blob-num js-line-number" data-line-number="1024"></td>
        <td id="LC1024" class="blob-code js-file-line">       &quot;mRnghGBmZpkTgpmZAU4IZmaWOSGYmRkA/x8UTW5mCpw9jwAAAABJRU5ErkJggg==\n&quot;</td>
      </tr>
      <tr>
        <td id="L1025" class="blob-num js-line-number" data-line-number="1025"></td>
        <td id="LC1025" class="blob-code js-file-line">      ],</td>
      </tr>
      <tr>
        <td id="L1026" class="blob-num js-line-number" data-line-number="1026"></td>
        <td id="LC1026" class="blob-code js-file-line">      &quot;text/plain&quot;: [</td>
      </tr>
      <tr>
        <td id="L1027" class="blob-num js-line-number" data-line-number="1027"></td>
        <td id="LC1027" class="blob-code js-file-line">       &quot;&lt;matplotlib.figure.Figure at 0x130f34a8&gt;&quot;</td>
      </tr>
      <tr>
        <td id="L1028" class="blob-num js-line-number" data-line-number="1028"></td>
        <td id="LC1028" class="blob-code js-file-line">      ]</td>
      </tr>
      <tr>
        <td id="L1029" class="blob-num js-line-number" data-line-number="1029"></td>
        <td id="LC1029" class="blob-code js-file-line">     },</td>
      </tr>
      <tr>
        <td id="L1030" class="blob-num js-line-number" data-line-number="1030"></td>
        <td id="LC1030" class="blob-code js-file-line">     &quot;metadata&quot;: {},</td>
      </tr>
      <tr>
        <td id="L1031" class="blob-num js-line-number" data-line-number="1031"></td>
        <td id="LC1031" class="blob-code js-file-line">     &quot;output_type&quot;: &quot;display_data&quot;</td>
      </tr>
      <tr>
        <td id="L1032" class="blob-num js-line-number" data-line-number="1032"></td>
        <td id="LC1032" class="blob-code js-file-line">    }</td>
      </tr>
      <tr>
        <td id="L1033" class="blob-num js-line-number" data-line-number="1033"></td>
        <td id="LC1033" class="blob-code js-file-line">   ],</td>
      </tr>
      <tr>
        <td id="L1034" class="blob-num js-line-number" data-line-number="1034"></td>
        <td id="LC1034" class="blob-code js-file-line">   &quot;source&quot;: [</td>
      </tr>
      <tr>
        <td id="L1035" class="blob-num js-line-number" data-line-number="1035"></td>
        <td id="LC1035" class="blob-code js-file-line">    &quot;def prodn(s,T,K,L):\n&quot;,</td>
      </tr>
      <tr>
        <td id="L1036" class="blob-num js-line-number" data-line-number="1036"></td>
        <td id="LC1036" class="blob-code js-file-line">    &quot;    return (( (al*L**rho+ak*K**rho)**phi/rho  + s*T**phi) )**(gam/phi)\n&quot;,</td>
      </tr>
      <tr>
        <td id="L1037" class="blob-num js-line-number" data-line-number="1037"></td>
        <td id="LC1037" class="blob-code js-file-line">    &quot;\n&quot;,</td>
      </tr>
      <tr>
        <td id="L1038" class="blob-num js-line-number" data-line-number="1038"></td>
        <td id="LC1038" class="blob-code js-file-line">    &quot;YO=prodn(si,TD,KD,LD)\n&quot;,</td>
      </tr>
      <tr>
        <td id="L1039" class="blob-num js-line-number" data-line-number="1039"></td>
        <td id="LC1039" class="blob-code js-file-line">    &quot;plt.plot(TD,YO/TD,label=&#39;output per unit land&#39;)\n&quot;,</td>
      </tr>
      <tr>
        <td id="L1040" class="blob-num js-line-number" data-line-number="1040"></td>
        <td id="LC1040" class="blob-code js-file-line">    &quot;xlabel(&#39;land size&#39;)\n&quot;,</td>
      </tr>
      <tr>
        <td id="L1041" class="blob-num js-line-number" data-line-number="1041"></td>
        <td id="LC1041" class="blob-code js-file-line">    &quot;ylabel(&#39;output&#39;)\n&quot;,</td>
      </tr>
      <tr>
        <td id="L1042" class="blob-num js-line-number" data-line-number="1042"></td>
        <td id="LC1042" class="blob-code js-file-line">    &quot;plt.title(\&quot;Inverse-farm size relationship\&quot;)&quot;</td>
      </tr>
      <tr>
        <td id="L1043" class="blob-num js-line-number" data-line-number="1043"></td>
        <td id="LC1043" class="blob-code js-file-line">   ]</td>
      </tr>
      <tr>
        <td id="L1044" class="blob-num js-line-number" data-line-number="1044"></td>
        <td id="LC1044" class="blob-code js-file-line">  },</td>
      </tr>
      <tr>
        <td id="L1045" class="blob-num js-line-number" data-line-number="1045"></td>
        <td id="LC1045" class="blob-code js-file-line">  {</td>
      </tr>
      <tr>
        <td id="L1046" class="blob-num js-line-number" data-line-number="1046"></td>
        <td id="LC1046" class="blob-code js-file-line">   &quot;cell_type&quot;: &quot;markdown&quot;,</td>
      </tr>
      <tr>
        <td id="L1047" class="blob-num js-line-number" data-line-number="1047"></td>
        <td id="LC1047" class="blob-code js-file-line">   &quot;metadata&quot;: {},</td>
      </tr>
      <tr>
        <td id="L1048" class="blob-num js-line-number" data-line-number="1048"></td>
        <td id="LC1048" class="blob-code js-file-line">   &quot;source&quot;: [</td>
      </tr>
      <tr>
        <td id="L1049" class="blob-num js-line-number" data-line-number="1049"></td>
        <td id="LC1049" class="blob-code js-file-line">    &quot;Table 6 of the 2013 USDA&#39;s publication [\&quot;Farm Size and the Organization of U. S. Crop Farming\&quot;](http://www.ers.usda.gov/media/1156726/err152.pdf) gives information on the size distribution (in 6 quantiles), for three types of farms - Corn, Soybean, and Wheat farms. Labor and capital input usage is broken into six size classes are Less than 100, 100-249, 250-499,500-999, 1000-1999, and 2000+.\n&quot;,</td>
      </tr>
      <tr>
        <td id="L1050" class="blob-num js-line-number" data-line-number="1050"></td>
        <td id="LC1050" class="blob-code js-file-line">    &quot;\n&quot;,</td>
      </tr>
      <tr>
        <td id="L1051" class="blob-num js-line-number" data-line-number="1051"></td>
        <td id="LC1051" class="blob-code js-file-line">    &quot;Actual land used is broken into more classes, so we will also input that data. First, the land usage data. The first row is the fraction of firms at each size octile. The second row is the fraction of agricultural land held by those firms. The sizes are Less than 10, 10 to 49, 49-99, 100-249, 250-499,500-999, 1000-1999, and 2000+. Note that the cut points for binning are a little different for labor and capital, where we have 0-100, 100-250, 250-500, 500-999, 1000-1999, and 2000+. So we will also add a term for this:\n&quot;</td>
      </tr>
      <tr>
        <td id="L1052" class="blob-num js-line-number" data-line-number="1052"></td>
        <td id="LC1052" class="blob-code js-file-line">   ]</td>
      </tr>
      <tr>
        <td id="L1053" class="blob-num js-line-number" data-line-number="1053"></td>
        <td id="LC1053" class="blob-code js-file-line">  },</td>
      </tr>
      <tr>
        <td id="L1054" class="blob-num js-line-number" data-line-number="1054"></td>
        <td id="LC1054" class="blob-code js-file-line">  {</td>
      </tr>
      <tr>
        <td id="L1055" class="blob-num js-line-number" data-line-number="1055"></td>
        <td id="LC1055" class="blob-code js-file-line">   &quot;cell_type&quot;: &quot;code&quot;,</td>
      </tr>
      <tr>
        <td id="L1056" class="blob-num js-line-number" data-line-number="1056"></td>
        <td id="LC1056" class="blob-code js-file-line">   &quot;execution_count&quot;: 13,</td>
      </tr>
      <tr>
        <td id="L1057" class="blob-num js-line-number" data-line-number="1057"></td>
        <td id="LC1057" class="blob-code js-file-line">   &quot;metadata&quot;: {</td>
      </tr>
      <tr>
        <td id="L1058" class="blob-num js-line-number" data-line-number="1058"></td>
        <td id="LC1058" class="blob-code js-file-line">    &quot;collapsed&quot;: false</td>
      </tr>
      <tr>
        <td id="L1059" class="blob-num js-line-number" data-line-number="1059"></td>
        <td id="LC1059" class="blob-code js-file-line">   },</td>
      </tr>
      <tr>
        <td id="L1060" class="blob-num js-line-number" data-line-number="1060"></td>
        <td id="LC1060" class="blob-code js-file-line">   &quot;outputs&quot;: [],</td>
      </tr>
      <tr>
        <td id="L1061" class="blob-num js-line-number" data-line-number="1061"></td>
        <td id="LC1061" class="blob-code js-file-line">   &quot;source&quot;: [</td>
      </tr>
      <tr>
        <td id="L1062" class="blob-num js-line-number" data-line-number="1062"></td>
        <td id="LC1062" class="blob-code js-file-line">    &quot;LandOctiles=np.array([[11.2,32.5,16.0,15.1,13.4,6.1,3.9,1.7],[0.2,3.5,4.7,8.8,17.8,18.2,22.7,24.1]]) #Not really octiles - just eight size groups\n&quot;,</td>
      </tr>
      <tr>
        <td id="L1063" class="blob-num js-line-number" data-line-number="1063"></td>
        <td id="LC1063" class="blob-code js-file-line">    &quot;LandSizeCuts=np.array([10,50,100,250,500,1000,2000])\n&quot;,</td>
      </tr>
      <tr>
        <td id="L1064" class="blob-num js-line-number" data-line-number="1064"></td>
        <td id="LC1064" class="blob-code js-file-line">    &quot;LandSizeCutsLK=np.array([100,250,500,1000,2000])&quot;</td>
      </tr>
      <tr>
        <td id="L1065" class="blob-num js-line-number" data-line-number="1065"></td>
        <td id="LC1065" class="blob-code js-file-line">   ]</td>
      </tr>
      <tr>
        <td id="L1066" class="blob-num js-line-number" data-line-number="1066"></td>
        <td id="LC1066" class="blob-code js-file-line">  },</td>
      </tr>
      <tr>
        <td id="L1067" class="blob-num js-line-number" data-line-number="1067"></td>
        <td id="LC1067" class="blob-code js-file-line">  {</td>
      </tr>
      <tr>
        <td id="L1068" class="blob-num js-line-number" data-line-number="1068"></td>
        <td id="LC1068" class="blob-code js-file-line">   &quot;cell_type&quot;: &quot;markdown&quot;,</td>
      </tr>
      <tr>
        <td id="L1069" class="blob-num js-line-number" data-line-number="1069"></td>
        <td id="LC1069" class="blob-code js-file-line">   &quot;metadata&quot;: {},</td>
      </tr>
      <tr>
        <td id="L1070" class="blob-num js-line-number" data-line-number="1070"></td>
        <td id="LC1070" class="blob-code js-file-line">   &quot;source&quot;: [</td>
      </tr>
      <tr>
        <td id="L1071" class="blob-num js-line-number" data-line-number="1071"></td>
        <td id="LC1071" class="blob-code js-file-line">    &quot;The bar plot below essentially reproduces the USDA&#39;s figure describing this data as follows:&quot;</td>
      </tr>
      <tr>
        <td id="L1072" class="blob-num js-line-number" data-line-number="1072"></td>
        <td id="LC1072" class="blob-code js-file-line">   ]</td>
      </tr>
      <tr>
        <td id="L1073" class="blob-num js-line-number" data-line-number="1073"></td>
        <td id="LC1073" class="blob-code js-file-line">  },</td>
      </tr>
      <tr>
        <td id="L1074" class="blob-num js-line-number" data-line-number="1074"></td>
        <td id="LC1074" class="blob-code js-file-line">  {</td>
      </tr>
      <tr>
        <td id="L1075" class="blob-num js-line-number" data-line-number="1075"></td>
        <td id="LC1075" class="blob-code js-file-line">   &quot;cell_type&quot;: &quot;code&quot;,</td>
      </tr>
      <tr>
        <td id="L1076" class="blob-num js-line-number" data-line-number="1076"></td>
        <td id="LC1076" class="blob-code js-file-line">   &quot;execution_count&quot;: 14,</td>
      </tr>
      <tr>
        <td id="L1077" class="blob-num js-line-number" data-line-number="1077"></td>
        <td id="LC1077" class="blob-code js-file-line">   &quot;metadata&quot;: {</td>
      </tr>
      <tr>
        <td id="L1078" class="blob-num js-line-number" data-line-number="1078"></td>
        <td id="LC1078" class="blob-code js-file-line">    &quot;collapsed&quot;: false</td>
      </tr>
      <tr>
        <td id="L1079" class="blob-num js-line-number" data-line-number="1079"></td>
        <td id="LC1079" class="blob-code js-file-line">   },</td>
      </tr>
      <tr>
        <td id="L1080" class="blob-num js-line-number" data-line-number="1080"></td>
        <td id="LC1080" class="blob-code js-file-line">   &quot;outputs&quot;: [</td>
      </tr>
      <tr>
        <td id="L1081" class="blob-num js-line-number" data-line-number="1081"></td>
        <td id="LC1081" class="blob-code js-file-line">    {</td>
      </tr>
      <tr>
        <td id="L1082" class="blob-num js-line-number" data-line-number="1082"></td>
        <td id="LC1082" class="blob-code js-file-line">     &quot;data&quot;: {</td>
      </tr>
      <tr>
        <td id="L1083" class="blob-num js-line-number" data-line-number="1083"></td>
        <td id="LC1083" class="blob-code js-file-line">      &quot;image/png&quot;: [</td>
      </tr>
      <tr>
        <td id="L1084" class="blob-num js-line-number" data-line-number="1084"></td>
        <td id="LC1084" class="blob-code js-file-line">       &quot;iVBORw0KGgoAAAANSUhEUgAAAagAAAEaCAYAAABEsMO+AAAABHNCSVQICAgIfAhkiAAAAAlwSFlz\n&quot;,</td>
      </tr>
      <tr>
        <td id="L1085" class="blob-num js-line-number" data-line-number="1085"></td>
        <td id="LC1085" class="blob-code js-file-line">       &quot;AAALEgAACxIB0t1+/AAAIABJREFUeJzt3Xt8VOW97/HPj7skQQhECAKhrUXlWEUb2aBtHalosGhV\n&quot;,</td>
      </tr>
      <tr>
        <td id="L1086" class="blob-num js-line-number" data-line-number="1086"></td>
        <td id="LC1086" class="blob-code js-file-line">       &quot;thWPl2Ktbc8LrbUXBdpK0rrxcsR66+lpX1q2ypbtkR4V8Aao06Kt9aQbKCYKRQGRa1C0EBS5/M4f\n&quot;,</td>
      </tr>
      <tr>
        <td id="L1087" class="blob-num js-line-number" data-line-number="1087"></td>
        <td id="LC1087" class="blob-code js-file-line">       &quot;szJOQpKZJDPwkHzfr9e8smZdnnmeycp8s561Zj3m7oiIiISm06GugIiISGMUUCIiEiQFlIiIBEkB\n&quot;,</td>
      </tr>
      <tr>
        <td id="L1088" class="blob-num js-line-number" data-line-number="1088"></td>
        <td id="LC1088" class="blob-code js-file-line">       &quot;JSIiQVJAiYhIkBRQIiISpGYDysx6mNlfzWyZmVWb2a3R/HIze9fMlkaPsoNTXRER6Sgs3fegzKyn\n&quot;,</td>
      </tr>
      <tr>
        <td id="L1089" class="blob-num js-line-number" data-line-number="1089"></td>
        <td id="LC1089" class="blob-code js-file-line">       &quot;u+8ysy7Ay8CPga8CO9z9roNQRxER6YDSdvG5+65oshvQGdgePbdcVUpERCRtQJlZJzNbBmwBXnL3\n&quot;,</td>
      </tr>
      <tr>
        <td id="L1090" class="blob-num js-line-number" data-line-number="1090"></td>
        <td id="LC1090" class="blob-code js-file-line">       &quot;qmjRdWa23MweNLPeOa2liIh0OGm7+JIrmh0JPA9MAaqBmmjRL4Fid786JzUUEZEOqUumK7r7h2b2\n&quot;,</td>
      </tr>
      <tr>
        <td id="L1091" class="blob-num js-line-number" data-line-number="1091"></td>
        <td id="LC1091" class="blob-code js-file-line">       &quot;NFDq7vG6+Wb2ADC/4fpmppv8iYhIRtz9gNNG6a7i61fXfWdmRwBjgaVmNiBltQuBFU28YE4e06dP\n&quot;,</td>
      </tr>
      <tr>
        <td id="L1092" class="blob-num js-line-number" data-line-number="1092"></td>
        <td id="LC1092" class="blob-code js-file-line">       &quot;z1nZB+uhNoTzaA/taA9taC/tUBta/mhKuiOoYuAhM+sUhdkj7v6CmT1sZiMAB9YA301TjoiISIs0\n&quot;,</td>
      </tr>
      <tr>
        <td id="L1093" class="blob-num js-line-number" data-line-number="1093"></td>
        <td id="LC1093" class="blob-code js-file-line">       &quot;G1DuvgI4pZH5V+asRiIiIhymd5KIxWKHugptpjaEoz20oz20AdpHO9SG7Mn4Kr4WF2zmuSpbRETa\n&quot;,</td>
      </tr>
      <tr>
        <td id="L1094" class="blob-num js-line-number" data-line-number="1094"></td>
        <td id="LC1094" class="blob-code js-file-line">       &quot;DzPDG7lIIuOr+ESkfTDTd+zl0GnJgYsCSqQDUu+GHAot/efosDwHJSIi7Z8CSkREgqSAEhGRICmg\n&quot;,</td>
      </tr>
      <tr>
        <td id="L1095" class="blob-num js-line-number" data-line-number="1095"></td>
        <td id="LC1095" class="blob-code js-file-line">       &quot;REQOoo8++ojzzjuP3r17c8kllzS6zlVXXUVhYSGjRo06yLULiy6SEBGGDy+ltjZ35eflQXV1ZUbr\n&quot;,</td>
      </tr>
      <tr>
        <td id="L1096" class="blob-num js-line-number" data-line-number="1096"></td>
        <td id="LC1096" class="blob-code js-file-line">       &quot;Dh06lK1bt9K5c2fy8vIYN24c999/P3l5ebmrYAuUl5fz1ltv8cgjj7Rq+7lz57J161bef/99OnU6\n&quot;,</td>
      </tr>
      <tr>
        <td id="L1097" class="blob-num js-line-number" data-line-number="1097"></td>
        <td id="LC1097" class="blob-code js-file-line">       &quot;8BhhyZIlLF68mI0bN9KjR4+2VvewpoASEWproagoswBpjZqa0ozXNTMWLFjAmDFj2LhxI+eccw63\n&quot;,</td>
      </tr>
      <tr>
        <td id="L1098" class="blob-num js-line-number" data-line-number="1098"></td>
        <td id="LC1098" class="blob-code js-file-line">       &quot;3HILt956a8Zl1F2lGOIl9evWrWPYsGGNhlPd8qFDh7YqnEJud2uoi09EgjVw4EDKysp4/fXXAXj1\n&quot;,</td>
      </tr>
      <tr>
        <td id="L1099" class="blob-num js-line-number" data-line-number="1099"></td>
        <td id="LC1099" class="blob-code js-file-line">       &quot;1Vc57bTT6NOnDyNGjOCPf/xjct1YLMbPfvYzTj/9dPLy8lizZg1VVVWMHTuWvn37MmDAgGTI7d+/\n&quot;,</td>
      </tr>
      <tr>
        <td id="L1100" class="blob-num js-line-number" data-line-number="1100"></td>
        <td id="LC1100" class="blob-code js-file-line">       &quot;n9tuu41jjjmGfv36cckll7B9e2Is1rVr19KpUycefvhhSkpKKCoqYsaMGQA899xz3HrrrTz22GMU\n&quot;,</td>
      </tr>
      <tr>
        <td id="L1101" class="blob-num js-line-number" data-line-number="1101"></td>
        <td id="LC1101" class="blob-code js-file-line">       &quot;FBRw8sknN1rvN954g1gsRp8+fTjhhBOYPz8x4MP06dP55S9/mdx+1qxZ9bZ78MEHueaaa/jLX/5C\n&quot;,</td>
      </tr>
      <tr>
        <td id="L1102" class="blob-num js-line-number" data-line-number="1102"></td>
        <td id="LC1102" class="blob-code js-file-line">       &quot;QUEBFRUVfPDBB4wfP56jjjqKwsJCzjvvPDZs2NBou/Pz83n77bfp1KkTv/nNb/j85z9Pr169uPnm\n&quot;,</td>
      </tr>
      <tr>
        <td id="L1103" class="blob-num js-line-number" data-line-number="1103"></td>
        <td id="LC1103" class="blob-code js-file-line">       &quot;m3nrrbcYPXo0vXv3ZuLEiezZsweAbdu2MX78ePr06UPfvn35yle+EszXEHQEJSLBqfuAXL9+Pc8+\n&quot;,</td>
      </tr>
      <tr>
        <td id="L1104" class="blob-num js-line-number" data-line-number="1104"></td>
        <td id="LC1104" class="blob-code js-file-line">       &quot;+ywTJkxgw4YNjB8/ntmzZ1NWVsbixYuZMGECK1eupG/fvgDMnj2bZ599lmOPPZba2lqGDRvGjTfe\n&quot;,</td>
      </tr>
      <tr>
        <td id="L1105" class="blob-num js-line-number" data-line-number="1105"></td>
        <td id="LC1105" class="blob-code js-file-line">       &quot;yNNPP80nn3xCdXU1APfddx/z5s3jT3/6E0VFRVx33XVMnjyZRx99NFmHV155hVWrVrFy5UpGjhzJ\n&quot;,</td>
      </tr>
      <tr>
        <td id="L1106" class="blob-num js-line-number" data-line-number="1106"></td>
        <td id="LC1106" class="blob-code js-file-line">       &quot;hAkTKCsrY9q0abz11ls8/PDDjdZ9z549nHfeeXz7299m8eLFLFmyhK9//etUVlZSUVFBp06dmtz+\n&quot;,</td>
      </tr>
      <tr>
        <td id="L1107" class="blob-num js-line-number" data-line-number="1107"></td>
        <td id="LC1107" class="blob-code js-file-line">       &quot;6quvpkuXLjzwwAMsWbIEgPfff5+rr76auXPnsnfvXr71rW9x7bXX8sQTTyS3S233vn37AFi4cCFL\n&quot;,</td>
      </tr>
      <tr>
        <td id="L1108" class="blob-num js-line-number" data-line-number="1108"></td>
        <td id="LC1108" class="blob-code js-file-line">       &quot;ly7lnXfe4eSTT+bll19mzpw5FBYWMnr0aObMmcOVV17JzJkzGTx4MNu2bQMS/wSEcgSmIygRCYq7\n&quot;,</td>
      </tr>
      <tr>
        <td id="L1109" class="blob-num js-line-number" data-line-number="1109"></td>
        <td id="LC1109" class="blob-code js-file-line">       &quot;c8EFF9CnTx++/OUvE4vFmDp1KrNnz+bcc8+lrKwMgLPOOovS0lKefvppINGtNWnSJI4//ng6derE\n&quot;,</td>
      </tr>
      <tr>
        <td id="L1110" class="blob-num js-line-number" data-line-number="1110"></td>
        <td id="LC1110" class="blob-code js-file-line">       &quot;ggULGDhwIDfccAPdunUjPz+fkSNHAvDb3/6WW265hYEDB9K1a1emT5/O3Llz2b9/f7Ie06dPp3v3\n&quot;,</td>
      </tr>
      <tr>
        <td id="L1111" class="blob-num js-line-number" data-line-number="1111"></td>
        <td id="LC1111" class="blob-code js-file-line">       &quot;7px44omcdNJJLF++PFm/5o4wXn31VWpra5kyZQpdunThzDPPZPz48cyZMyej7RsuKyws5MILL6RH\n&quot;,</td>
      </tr>
      <tr>
        <td id="L1112" class="blob-num js-line-number" data-line-number="1112"></td>
        <td id="LC1112" class="blob-code js-file-line">       &quot;jx7k5+czbdq0ekeODdvdtWtXAG688Uby8/MZPnw4X/jCFxg3bhxDhw6lV69ejBs3jqVLlwLQrVs3\n&quot;,</td>
      </tr>
      <tr>
        <td id="L1113" class="blob-num js-line-number" data-line-number="1113"></td>
        <td id="LC1113" class="blob-code js-file-line">       &quot;Nm3axNq1a+ncuTOnn356Zr+og0BHUCISFDPjqaeeYsyYMfXmr1u3jscffzzZXQawd+/eeusNHjw4\n&quot;,</td>
      </tr>
      <tr>
        <td id="L1114" class="blob-num js-line-number" data-line-number="1114"></td>
        <td id="LC1114" class="blob-code js-file-line">       &quot;Ob1+/Xo++9nPNvoaa9eu5cILL6x3HqhLly5s2bIl+XzAgE+HvevZsyc7d+7MqP4bN26sVw+AkpKS\n&quot;,</td>
      </tr>
      <tr>
        <td id="L1115" class="blob-num js-line-number" data-line-number="1115"></td>
        <td id="LC1115" class="blob-code js-file-line">       &quot;et1yLbFr1y5uuOEGnn/++WQ35M6dO3H35JFOw9cD6N+/f3L6iCOOOOD55s2bAfjJT35CeXk5Z599\n&quot;,</td>
      </tr>
      <tr>
        <td id="L1116" class="blob-num js-line-number" data-line-number="1116"></td>
        <td id="LC1116" class="blob-code js-file-line">       &quot;NgDf+c53uOmmm1pV12xTQKWRq6ubWnJVk4jAkCFDuOKKK/jd737X5DqpXVNDhgzhsccea7KsWbNm\n&quot;,</td>
      </tr>
      <tr>
        <td id="L1117" class="blob-num js-line-number" data-line-number="1117"></td>
        <td id="LC1117" class="blob-code js-file-line">       &quot;MXr06AOWrV27ttl6pOv+GjhwIOvXr68XIOvWreO4445rdrumzJw5k1WrVvHaa69x1FFHsWzZMk45\n&quot;,</td>
      </tr>
      <tr>
        <td id="L1118" class="blob-num js-line-number" data-line-number="1118"></td>
        <td id="LC1118" class="blob-code js-file-line">       &quot;5ZR65belSy4/P58777yTO++8k6qqKsaMGcOpp556wD8Ih4K6+NKou7op249cXtIr0h5dfvnlzJ8/\n&quot;,</td>
      </tr>
      <tr>
        <td id="L1119" class="blob-num js-line-number" data-line-number="1119"></td>
        <td id="LC1119" class="blob-code js-file-line">       &quot;n4ULF7Jv3z4+/vhj4vF4vSOT1O6x8ePHs2nTJu655x52797Njh07eO211wD43ve+x7Rp03jnnXcA\n&quot;,</td>
      </tr>
      <tr>
        <td id="L1120" class="blob-num js-line-number" data-line-number="1120"></td>
        <td id="LC1120" class="blob-code js-file-line">       &quot;qKmpYd68eRnVY8CAAaxdu7bJbrpRo0bRs2dP7rjjDvbs2UM8HmfBggVMnDixVe3euXMnRxxxBEce\n&quot;,</td>
      </tr>
      <tr>
        <td id="L1121" class="blob-num js-line-number" data-line-number="1121"></td>
        <td id="LC1121" class="blob-code js-file-line">       &quot;eSTvv/8+FRUVB6yTyUUNqeukTi9YsIDVq1fj7vTq1YvOnTvTuXPnVtU12xRQInJYGDRoEE899RQz\n&quot;,</td>
      </tr>
      <tr>
        <td id="L1122" class="blob-num js-line-number" data-line-number="1122"></td>
        <td id="LC1122" class="blob-code js-file-line">       &quot;ZszgqKOOYsiQIcycObPeh23qkUR+fj6LFi1i/vz5FBcXM2zYMOLxOADXX389559/PmeffTa9evVi\n&quot;,</td>
      </tr>
      <tr>
        <td id="L1123" class="blob-num js-line-number" data-line-number="1123"></td>
        <td id="LC1123" class="blob-code js-file-line">       &quot;9OjRyfBqWE5DF198MQB9+/altPTAy+e7du3K/PnzefbZZykqKuLaa6/lkUceYdiwYcmymyu/4fIf\n&quot;,</td>
      </tr>
      <tr>
        <td id="L1124" class="blob-num js-line-number" data-line-number="1124"></td>
        <td id="LC1124" class="blob-code js-file-line">       &quot;/OAHfPTRR/Tr14/TTjuNcePGHbB9uucN56W+xurVqxk7diwFBQWcdtppTJ48mTPOOKPJ+h1MGg8q\n&quot;,</td>
      </tr>
      <tr>
        <td id="L1125" class="blob-num js-line-number" data-line-number="1125"></td>
        <td id="LC1125" class="blob-code js-file-line">       &quot;jZKS0px8P6SmppR169TFJwdfNPZOvXkhfVFX2q/G9r2U+RoPSkQOpPCQEKmLT0REgqSAEhGRICmg\n&quot;,</td>
      </tr>
      <tr>
        <td id="L1126" class="blob-num js-line-number" data-line-number="1126"></td>
        <td id="LC1126" class="blob-code js-file-line">       &quot;REQkSAooEREJkgJKRESCpIASEZEgKaBERCRICigRkYMo3ZDv5eXlXHHFFTl57VgsxoMPPpiTsnOh\n&quot;,</td>
      </tr>
      <tr>
        <td id="L1127" class="blob-num js-line-number" data-line-number="1127"></td>
        <td id="LC1127" class="blob-code js-file-line">       &quot;2S/qmlkP4I9Ad6Ab8JS7TzWzQuAxoARYC3zD3T/IcV1FJEdKhw8n17eSqIzGYkqnow/5nsuxmNLd\n&quot;,</td>
      </tr>
      <tr>
        <td id="L1128" class="blob-num js-line-number" data-line-number="1128"></td>
        <td id="LC1128" class="blob-code js-file-line">       &quot;Zik0zQaUu39sZme6+y4z6wK8bGZfAs4HFrn7HWZ2EzAleojI4ai2lsqiopwVX1pTk/G6HX3I9/Zw\n&quot;,</td>
      </tr>
      <tr>
        <td id="L1129" class="blob-num js-line-number" data-line-number="1129"></td>
        <td id="LC1129" class="blob-code js-file-line">       &quot;i7hsSdvF5+67osluQGdgO4mAeiia/xBwQU5qJyIdWkcb8r0xF198McXFxfTu3ZszzjgjOSowwKRJ\n&quot;,</td>
      </tr>
      <tr>
        <td id="L1130" class="blob-num js-line-number" data-line-number="1130"></td>
        <td id="LC1130" class="blob-code js-file-line">       &quot;k5g8eTLjx4+nV69ejBo1irfffju5fNGiRRx33HH07t2b6667rtnBEidNmsTPf/7z5PN4PF5vnKnb\n&quot;,</td>
      </tr>
      <tr>
        <td id="L1131" class="blob-num js-line-number" data-line-number="1131"></td>
        <td id="LC1131" class="blob-code js-file-line">       &quot;b7+dQYMG0atXL4477jhefPFFIBGoTb2XbZU2oMysk5ktA7YAL7l7FdDf3etG9toC9G+yABGRFmo4\n&quot;,</td>
      </tr>
      <tr>
        <td id="L1132" class="blob-num js-line-number" data-line-number="1132"></td>
        <td id="LC1132" class="blob-code js-file-line">       &quot;5Pspp5ySHPL95ptvZvv27dx5551MmDCB9957L7nd7NmzeeCBB9i5cydFRUWcddZZnHvuuWzatInV\n&quot;,</td>
      </tr>
      <tr>
        <td id="L1133" class="blob-num js-line-number" data-line-number="1133"></td>
        <td id="LC1133" class="blob-code js-file-line">       &quot;q1fz1a9+Fag/5PumTZvo06cPkydPrleHuiHfX3jhBX7xi1+wcuXK5JDvEydOZMeOHclRaVPVDfle\n&quot;,</td>
      </tr>
      <tr>
        <td id="L1134" class="blob-num js-line-number" data-line-number="1134"></td>
        <td id="LC1134" class="blob-code js-file-line">       &quot;VlZGTU0N9913H5dddhmrVq2ioqKi3vZXXXVV2vfia1/7GqtXr6ampoZTTjmFyy67rN7yxx57jPLy\n&quot;,</td>
      </tr>
      <tr>
        <td id="L1135" class="blob-num js-line-number" data-line-number="1135"></td>
        <td id="LC1135" class="blob-code js-file-line">       &quot;crZv384xxxzDT3/6UwC2bdvGhAkTmDFjBu+99x6f+9zneOWVV5o8qmyu+2/lypX8+te/prKykn/+\n&quot;,</td>
      </tr>
      <tr>
        <td id="L1136" class="blob-num js-line-number" data-line-number="1136"></td>
        <td id="LC1136" class="blob-code js-file-line">       &quot;858sXLiQoUOHAnDvvfemfS9bK+3NYt19PzDCzI4EnjezMxssdzNrNJLLy8uT07FYjFgs1qbKikj7\n&quot;,</td>
      </tr>
      <tr>
        <td id="L1137" class="blob-num js-line-number" data-line-number="1137"></td>
        <td id="LC1137" class="blob-code js-file-line">       &quot;Vzfke5cuXTjyyCMZP348U6dO5Z577mlyyPcrr7yy3tDnQL0h3yExtHnqkO/3338/AwcOBBJHNiUl\n&quot;,</td>
      </tr>
      <tr>
        <td id="L1138" class="blob-num js-line-number" data-line-number="1138"></td>
        <td id="LC1138" class="blob-code js-file-line">       &quot;JcyePTtZj8aGfD/22GNbNOQ7UG/I9+nTp6fdvqFJkybVq9M999zDjh07KCgowMy46KKLksN+XHbZ\n&quot;,</td>
      </tr>
      <tr>
        <td id="L1139" class="blob-num js-line-number" data-line-number="1139"></td>
        <td id="LC1139" class="blob-code js-file-line">       &quot;Zfzwhz8E4JlnnuGEE07goosuAhLDdsycObPZ12qqXp07d2b37t1UVVXRt29fhgwZklzW3HvZVDdm\n&quot;,</td>
      </tr>
      <tr>
        <td id="L1140" class="blob-num js-line-number" data-line-number="1140"></td>
        <td id="LC1140" class="blob-code js-file-line">       &quot;PB5PDn3SnIzvZu7uH5rZ08AXgS1mNsDdN5tZMbC1sW1SA0pEJBMa8v1T+/bt46c//Slz586lpqYm\n&quot;,</td>
      </tr>
      <tr>
        <td id="L1141" class="blob-num js-line-number" data-line-number="1141"></td>
        <td id="LC1141" class="blob-code js-file-line">       &quot;Wd9t27ZRUFAAHDi0e109N27cyKBBg+qV19jQ8Jk45phjuPvuuykvL6eqqopzzjmHu+66i+Li4mbf\n&quot;,</td>
      </tr>
      <tr>
        <td id="L1142" class="blob-num js-line-number" data-line-number="1142"></td>
        <td id="LC1142" class="blob-code js-file-line">       &quot;y+Li4kbLa3jA0tggjJCmi8/M+plZ72j6CGAssBSYB3wzWu2bwJMZtlNEpFXqhnzfvn178rFjxw5u\n&quot;,</td>
      </tr>
      <tr>
        <td id="L1143" class="blob-num js-line-number" data-line-number="1143"></td>
        <td id="LC1143" class="blob-code js-file-line">       &quot;vPHG5DoNh3xPPR/TsKznnnuuXlm7du1q8gM1VUuGfK+zbt26A8IiE48++ijz5s3jhRde4MMPP2TN\n&quot;,</td>
      </tr>
      <tr>
        <td id="L1144" class="blob-num js-line-number" data-line-number="1144"></td>
        <td id="LC1144" class="blob-code js-file-line">       &quot;mjVAZhdS1NWjjrvXe95QXl4eu3btSj7fvHlzveWXXnopS5YsYd26dZgZN910E9C29zKddOegioEX\n&quot;,</td>
      </tr>
      <tr>
        <td id="L1145" class="blob-num js-line-number" data-line-number="1145"></td>
        <td id="LC1145" class="blob-code js-file-line">       &quot;o3NQfwXmu/sLwG3AWDNbBYyJnouI5ExHHPJ9586ddO/encLCQmpra5k2bVq95c0F1bnnnktVVRVP\n&quot;,</td>
      </tr>
      <tr>
        <td id="L1146" class="blob-num js-line-number" data-line-number="1146"></td>
        <td id="LC1146" class="blob-code js-file-line">       &quot;PPEEe/fu5d577z0gdFKNGDGCZ555hu3bt7N582buvvvu5LJVq1bx4osvsnv3brp3706PHj2Sw8K3\n&quot;,</td>
      </tr>
      <tr>
        <td id="L1147" class="blob-num js-line-number" data-line-number="1147"></td>
        <td id="LC1147" class="blob-code js-file-line">       &quot;5b1Mp9mAcvcV7n6Ku49w9xPd/X9G899397PcfZi7n63vQIlIrnXEId+vvPJKSkpKOProoznhhBMY\n&quot;,</td>
      </tr>
      <tr>
        <td id="L1148" class="blob-num js-line-number" data-line-number="1148"></td>
        <td id="LC1148" class="blob-code js-file-line">       &quot;PXp0k0O3N6x7v379ePzxx5kyZQr9+vVj9erVfOlLX2ryda+44gpOOukkhg4dSllZGRMnTkyWtXv3\n&quot;,</td>
      </tr>
      <tr>
        <td id="L1149" class="blob-num js-line-number" data-line-number="1149"></td>
        <td id="LC1149" class="blob-code js-file-line">       &quot;bqZOnUpRURHFxcVs27YteUVkuveyLTTkexoa8l3am8aG3Q7pi7rSfmnIdxFpMYWHhEj34hMRkSAp\n&quot;,</td>
      </tr>
      <tr>
        <td id="L1150" class="blob-num js-line-number" data-line-number="1150"></td>
        <td id="LC1150" class="blob-code js-file-line">       &quot;oEREJEgKKBERCZICSkREgqSAEhGRICmgREQkSLrMXKQDCnGcJJGGFFAiHUx7+AK9dAzq4hMRkSAp\n&quot;,</td>
      </tr>
      <tr>
        <td id="L1151" class="blob-num js-line-number" data-line-number="1151"></td>
        <td id="LC1151" class="blob-code js-file-line">       &quot;oEREJEgKKBERCZICSkREgqSAEhGRICmgREQkSAooEREJkgJKRESCpIASEZEgKaBERCRICigREQmS\n&quot;,</td>
      </tr>
      <tr>
        <td id="L1152" class="blob-num js-line-number" data-line-number="1152"></td>
        <td id="LC1152" class="blob-code js-file-line">       &quot;AkpERIKkgBIRkSApoEREJEgKKBERCZICSkREgtRsQJnZYDN7ycyqzOx1M/t+NL/czN41s6XRo+zg\n&quot;,</td>
      </tr>
      <tr>
        <td id="L1153" class="blob-num js-line-number" data-line-number="1153"></td>
        <td id="LC1153" class="blob-code js-file-line">       &quot;VFdERDqKdCPq7gFucPdlZpYP/M3MFgEO3OXud+W8hiIi0iE1G1DuvhnYHE3vNLM3gKOjxZbjuomI\n&quot;,</td>
      </tr>
      <tr>
        <td id="L1154" class="blob-num js-line-number" data-line-number="1154"></td>
        <td id="LC1154" class="blob-code js-file-line">       &quot;SAeW8TkoMxsKnAy8Gs26zsyWm9mDZtY7B3UTEZEOLKOAirr35gLXu/tO4DfAZ4ARwCZgZs5qKCIi\n&quot;,</td>
      </tr>
      <tr>
        <td id="L1155" class="blob-num js-line-number" data-line-number="1155"></td>
        <td id="LC1155" class="blob-code js-file-line">       &quot;HVK6c1CYWVfgD8Bsd38SwN23pix/AJjf2Lbl5eXJ6VgsRiwWa1ttRUTksBePx4nH42nXM3dveqGZ\n&quot;,</td>
      </tr>
      <tr>
        <td id="L1156" class="blob-num js-line-number" data-line-number="1156"></td>
        <td id="LC1156" class="blob-code js-file-line">       &quot;AQ8B77n7DSnzi919UzR9A3Cqu//3Btt6c2UfLkpKSikqqsx6uTU1paxbl/1yRUQON2aGux9wXUO6\n&quot;,</td>
      </tr>
      <tr>
        <td id="L1157" class="blob-num js-line-number" data-line-number="1157"></td>
        <td id="LC1157" class="blob-code js-file-line">       &quot;I6jTgcuBv5vZ0mjeNOBSMxtB4mq+NcB3s1lZERGRdFfxvUzj56mezU11REREEnQnCRERCZICSkRE\n&quot;,</td>
      </tr>
      <tr>
        <td id="L1158" class="blob-num js-line-number" data-line-number="1158"></td>
        <td id="LC1158" class="blob-code js-file-line">       &quot;gpT2Kj4REelYSocPh9ra3BSel0dldXVGqyqgRESkvtpaKouKclJ0aU1Nxuuqi09ERIKkgBIRkSAp\n&quot;,</td>
      </tr>
      <tr>
        <td id="L1159" class="blob-num js-line-number" data-line-number="1159"></td>
        <td id="LC1159" class="blob-code js-file-line">       &quot;oEREJEgKKBERCZICSkREgqSAEhGRICmgREQkSAooEREJkr6oKyKSRTm7C0ML7sDQXiigRESyKUd3\n&quot;,</td>
      </tr>
      <tr>
        <td id="L1160" class="blob-num js-line-number" data-line-number="1160"></td>
        <td id="LC1160" class="blob-code js-file-line">       &quot;YWjJHRjaC3XxiYhIkBRQIiISJAWUiIgESQElIiJBUkCJiEiQFFAiIhIkBZSIiARJASUiIkFSQImI\n&quot;,</td>
      </tr>
      <tr>
        <td id="L1161" class="blob-num js-line-number" data-line-number="1161"></td>
        <td id="LC1161" class="blob-code js-file-line">       &quot;SJAUUCIiEiQFlIiIBEkBJSIiQVJAiYhIkJoNKDMbbGYvmVmVmb1uZt+P5hea2SIzW2VmC82s98Gp\n&quot;,</td>
      </tr>
      <tr>
        <td id="L1162" class="blob-num js-line-number" data-line-number="1162"></td>
        <td id="LC1162" class="blob-code js-file-line">       &quot;roiIdBTpjqD2ADe4+38DRgGTzex4YAqwyN2HAS9Ez0VERLKm2YBy983uviya3gm8ARwNnA88FK32\n&quot;,</td>
      </tr>
      <tr>
        <td id="L1163" class="blob-num js-line-number" data-line-number="1163"></td>
        <td id="LC1163" class="blob-code js-file-line">       &quot;EHBBLispIiIdT8bnoMxsKHAy8Fegv7tviRZtAfpnvWYiItKhZRRQZpYP/AG43t13pC5zdwc8B3UT\n&quot;,</td>
      </tr>
      <tr>
        <td id="L1164" class="blob-num js-line-number" data-line-number="1164"></td>
        <td id="LC1164" class="blob-code js-file-line">       &quot;EZEOLO2Q72bWlUQ4PeLuT0azt5jZAHffbGbFwNbGti0vL09Ox2IxYrFYmyssIiKHt3g8TjweT7te\n&quot;,</td>
      </tr>
      <tr>
        <td id="L1165" class="blob-num js-line-number" data-line-number="1165"></td>
        <td id="LC1165" class="blob-code js-file-line">       &quot;swFlZgY8CFS7+90pi+YB3wRuj34+2cjm9QJKREQEDjxgqaioaHS9dEdQpwOXA383s6XRvKnAbcD/\n&quot;,</td>
      </tr>
      <tr>
        <td id="L1166" class="blob-num js-line-number" data-line-number="1166"></td>
        <td id="LC1166" class="blob-code js-file-line">       &quot;MbOrgbXAN9pWXRERkfqaDSh3f5mmz1Odlf3qiIiIJOhOEiIiEiQFlIiIBEkBJSIiQVJAiYhIkBRQ\n&quot;,</td>
      </tr>
      <tr>
        <td id="L1167" class="blob-num js-line-number" data-line-number="1167"></td>
        <td id="LC1167" class="blob-code js-file-line">       &quot;IiISJAWUiIgESQElIiJBUkCJiEiQ0t6LT0TkYCkdPhxqa7NfcF4eldXV2S9XckoBJSLhqK2lsqgo\n&quot;,</td>
      </tr>
      <tr>
        <td id="L1168" class="blob-num js-line-number" data-line-number="1168"></td>
        <td id="LC1168" class="blob-code js-file-line">       &quot;68WW1tRkvUzJPXXxiYhIkHQEJdIOqGtM2iMFlEh7oK4xaYfUxSciIkFSQImISJAUUCIiEiQFlIiI\n&quot;,</td>
      </tr>
      <tr>
        <td id="L1169" class="blob-num js-line-number" data-line-number="1169"></td>
        <td id="LC1169" class="blob-code js-file-line">       &quot;BEkBJSIiQVJAiYhIkBRQIiISJAWUiIgESQElIiJBUkCJiEiQFFAiIhIk3YuvAxg+vDRX9xGluroy\n&quot;,</td>
      </tr>
      <tr>
        <td id="L1170" class="blob-num js-line-number" data-line-number="1170"></td>
        <td id="LC1170" class="blob-code js-file-line">       &quot;+wWLiKCA6hBqa6GoKPtBUlNTmvUyRUTqpO3iM7Pfm9kWM1uRMq/czN41s6XRoyy31RQRkY4mk3NQ\n&quot;,</td>
      </tr>
      <tr>
        <td id="L1171" class="blob-num js-line-number" data-line-number="1171"></td>
        <td id="LC1171" class="blob-code js-file-line">       &quot;s4CGAeTAXe5+cvR4LvtVExGRjixtQLn7EmB7I4ss+9URERFJaMtVfNeZ2XIze9DMemetRiIiIrT+\n&quot;,</td>
      </tr>
      <tr>
        <td id="L1172" class="blob-num js-line-number" data-line-number="1172"></td>
        <td id="LC1172" class="blob-code js-file-line">       &quot;IonfAL+Ipn8JzASuzkqNRJqgqxFFOpZWBZS7b62bNrMHgPmNrVdeXp6cjsVixGKx1rycCKCrEUXa\n&quot;,</td>
      </tr>
      <tr>
        <td id="L1173" class="blob-num js-line-number" data-line-number="1173"></td>
        <td id="LC1173" class="blob-code js-file-line">       &quot;i3g8TjweT7teqwLKzIrdfVP09EJgRWPrpQaUiIgIHHjAUlFR0eh6aQPKzOYAZwD9zGw9MB2ImdkI\n&quot;,</td>
      </tr>
      <tr>
        <td id="L1174" class="blob-num js-line-number" data-line-number="1174"></td>
        <td id="LC1174" class="blob-code js-file-line">       &quot;ElfzrQG+2/Yqi4iIfCptQLn7pY3M/n0O6iIiIpKke/GJiEiQFFAiIhIkBZSIiARJASUiIkFSQImI\n&quot;,</td>
      </tr>
      <tr>
        <td id="L1175" class="blob-num js-line-number" data-line-number="1175"></td>
        <td id="LC1175" class="blob-code js-file-line">       &quot;SJAUUCIiEiQFlIiIBEkBJSIiQdKIuiIHUa5ueLtn42YoKsp+wSKHkAJK5CDK1Q1vN2zonvUyRQ41\n&quot;,</td>
      </tr>
      <tr>
        <td id="L1176" class="blob-num js-line-number" data-line-number="1176"></td>
        <td id="LC1176" class="blob-code js-file-line">       &quot;dfGJiEiQFFAiIhIkBZSIiARJASUiIkFSQImISJAUUCIiEiQFlIiIBEkBJSIiQVJAiYhIkBRQIiIS\n&quot;,</td>
      </tr>
      <tr>
        <td id="L1177" class="blob-num js-line-number" data-line-number="1177"></td>
        <td id="LC1177" class="blob-code js-file-line">       &quot;JAWUiIgESQElIiJBUkCJiEiQcno385KS0pyUm5cH1dXZvyO0iIiEI6cBlYthBQBqanITfCIiEg51\n&quot;,</td>
      </tr>
      <tr>
        <td id="L1178" class="blob-num js-line-number" data-line-number="1178"></td>
        <td id="LC1178" class="blob-code js-file-line">       &quot;8YmISJAUUCIiEqS0AWVmvzezLWa2ImVeoZktMrNVZrbQzHrntpoiItLRZHIENQsoazBvCrDI3YcB\n&quot;,</td>
      </tr>
      <tr>
        <td id="L1179" class="blob-num js-line-number" data-line-number="1179"></td>
        <td id="LC1179" class="blob-code js-file-line">       &quot;L0TPRUREsiZtQLn7EmB7g9nnAw9F0w8BF2S5XiIi0sG19hxUf3ffEk1vAfpnqT4iIiJAFi6ScHcH\n&quot;,</td>
      </tr>
      <tr>
        <td id="L1180" class="blob-num js-line-number" data-line-number="1180"></td>
        <td id="LC1180" class="blob-code js-file-line">       &quot;PAt1ERERSWrt96C2mNkAd99sZsXA1sZW2rixPDldUBCjoCDWypcTEZH2Ih6PE4/H067X2oCaB3wT\n&quot;,</td>
      </tr>
      <tr>
        <td id="L1181" class="blob-num js-line-number" data-line-number="1181"></td>
        <td id="LC1181" class="blob-code js-file-line">       &quot;uD36+WRjKw0cWN7K4kVEpL2KxWLEYrHk84qKikbXy+Qy8znAn4FjzWy9mV0F3AaMNbNVwJjouYiI\n&quot;,</td>
      </tr>
      <tr>
        <td id="L1182" class="blob-num js-line-number" data-line-number="1182"></td>
        <td id="LC1182" class="blob-code js-file-line">       &quot;SNakPYJy90ubWHRWlusiIiKSpDtJiIhIkBRQIiISJAWUiIgESQElIiJByul4UCKHgw82VlFaUpL9\n&quot;,</td>
      </tr>
      <tr>
        <td id="L1183" class="blob-num js-line-number" data-line-number="1183"></td>
        <td id="LC1183" class="blob-code js-file-line">       &quot;gvPyqKyuzn65Ih2EAko6vJ6+n8qioqyXW1pTk/UyRToSdfGJiEiQFFAiIhIkBZSIiARJASUiIkFS\n&quot;,</td>
      </tr>
      <tr>
        <td id="L1184" class="blob-num js-line-number" data-line-number="1184"></td>
        <td id="LC1184" class="blob-code js-file-line">       &quot;QImISJAUUCIiEiQFlIiIBEkBJSIiQVJAiYhIkBRQIiISJAWUiIgESQElIiJBUkCJiEiQFFAiIhIk\n&quot;,</td>
      </tr>
      <tr>
        <td id="L1185" class="blob-num js-line-number" data-line-number="1185"></td>
        <td id="LC1185" class="blob-code js-file-line">       &quot;BZSIiARJASUiIkFSQImISJA0oq6ItMjw4aXU1uam7D0bN0MORjeWw5MCSkRapLYWiooqc1L2hg3d\n&quot;,</td>
      </tr>
      <tr>
        <td id="L1186" class="blob-num js-line-number" data-line-number="1186"></td>
        <td id="LC1186" class="blob-code js-file-line">       &quot;c1KuHJ7UxSciIkFSQImISJDa1MVnZmuBfwL7gD3uPjIblRIREWnrOSgHYu7+fjYqIyIiUicbXXyW\n&quot;,</td>
      </tr>
      <tr>
        <td id="L1187" class="blob-num js-line-number" data-line-number="1187"></td>
        <td id="LC1187" class="blob-code js-file-line">       &quot;hTJERETqaWtAObDYzCrN7JpsVEhERATa3sV3urtvMrMiYJGZvenuS+oWbtxYnlyxoCBGQUGsjS8n\n&quot;,</td>
      </tr>
      <tr>
        <td id="L1188" class="blob-num js-line-number" data-line-number="1188"></td>
        <td id="LC1188" class="blob-code js-file-line">       &quot;IiKHu3g8TjweT7temwLK3TdFP2vM7AlgJJAMqIEDy9tSvIiItEOxWIxYLJZ8XlFR0eh6rQ4oM+sJ\n&quot;,</td>
      </tr>
      <tr>
        <td id="L1189" class="blob-num js-line-number" data-line-number="1189"></td>
        <td id="LC1189" class="blob-code js-file-line">       &quot;dHb3HWaWB5wNNP4q0i59sLGK0pKS3BSel0dldXVuyhaRw0JbjqD6A0+YWV05/+HuC7NSKzks9PT9\n&quot;,</td>
      </tr>
      <tr>
        <td id="L1190" class="blob-num js-line-number" data-line-number="1190"></td>
        <td id="LC1190" class="blob-code js-file-line">       &quot;VObotjSlNTU5KVdEDh+tDih3XwOMyGJdREREknQnCRERCZICSkREgqSAEhGRIGm4DRHpkHI1rpXG\n&quot;,</td>
      </tr>
      <tr>
        <td id="L1191" class="blob-num js-line-number" data-line-number="1191"></td>
        <td id="LC1191" class="blob-code js-file-line">       &quot;tMoeBZSIdEi5GtdKY1plj7r4REQkSDqCOkRy9iVXfcFVRNoJBdQhkqsvueoLriLSXqiLT0REgqSA\n&quot;,</td>
      </tr>
      <tr>
        <td id="L1192" class="blob-num js-line-number" data-line-number="1192"></td>
        <td id="LC1192" class="blob-code js-file-line">       &quot;EhGRICmgREQkSAooEREJkgJKRESCpIASEZEgKaBERCRICigREQmSAkpERIKkgBIRkSApoEREJEi6\n&quot;,</td>
      </tr>
      <tr>
        <td id="L1193" class="blob-num js-line-number" data-line-number="1193"></td>
        <td id="LC1193" class="blob-code js-file-line">       &quot;F5+IyGGqvY9ppYASETlMtfcxrdTFJyIiQVJAiYhIkBRQIiISJAWUiIgESQElIiJBanVAmVmZmb1p\n&quot;,</td>
      </tr>
      <tr>
        <td id="L1194" class="blob-num js-line-number" data-line-number="1194"></td>
        <td id="LC1194" class="blob-code js-file-line">       &quot;Zv8ws5uyWSkREZFWBZSZdQbuB8qA4cClZnZ8NivWnI8/3nGwXipndvv+Q12FNmsPbYD20Y720AZo\n&quot;,</td>
      </tr>
      <tr>
        <td id="L1195" class="blob-num js-line-number" data-line-number="1195"></td>
        <td id="LC1195" class="blob-code js-file-line">       &quot;H+1QG7KntUdQI4HV7r7W3fcA/wl8PXvVal57CKhPAtkB2qI9tAHaRzvaQxugfbRDbcie1n5R92hg\n&quot;,</td>
      </tr>
      <tr>
        <td id="L1196" class="blob-num js-line-number" data-line-number="1196"></td>
        <td id="LC1196" class="blob-code js-file-line">       &quot;fcrzd4F/aXt1MvPxjq2UlpRkv+C8PCqrq7NfroiItFhrA8qzWosW6opTmYPbcJTW1GS9TBERaR1z\n&quot;,</td>
      </tr>
      <tr>
        <td id="L1197" class="blob-num js-line-number" data-line-number="1197"></td>
        <td id="LC1197" class="blob-code js-file-line">       &quot;b3nWmNkooNzdy6LnU4H97n57yjqHNMREROTw4e7WcF5rA6oLsBL4KrAReA241N3faGslRUREoJVd\n&quot;,</td>
      </tr>
      <tr>
        <td id="L1198" class="blob-num js-line-number" data-line-number="1198"></td>
        <td id="LC1198" class="blob-code js-file-line">       &quot;fO6+18yuBZ4HOgMPKpxERCSbWnUEJSIikmuH7Z0kzGyMmf3NzFaY2b9H3806FPX4vZltMbMVKfMK\n&quot;,</td>
      </tr>
      <tr>
        <td id="L1199" class="blob-num js-line-number" data-line-number="1199"></td>
        <td id="LC1199" class="blob-code js-file-line">       &quot;zWyRma0ys4Vm1jtNGT8ys/1mVhg972Zms8zs72a2zMzOyHU7otddG73mUjN7rSVtMbOTzOwv0fbz\n&quot;,</td>
      </tr>
      <tr>
        <td id="L1200" class="blob-num js-line-number" data-line-number="1200"></td>
        <td id="LC1200" class="blob-code js-file-line">       &quot;zKwgV21p6XtuZlOjL5S/aWZnN1FmoZm9ZGY7zOy+BssuMbPlZva6md2WMr/EzF6Ilr1kZke3oA2D\n&quot;,</td>
      </tr>
      <tr>
        <td id="L1201" class="blob-num js-line-number" data-line-number="1201"></td>
        <td id="LC1201" class="blob-code js-file-line">       &quot;o22qonK/n412pKw7xMx2mtmPctyOFu0zGf4umtxn2tKGbO03ZvZFS3zu/MPM7mnmvfk3M3vHzHY0\n&quot;,</td>
      </tr>
      <tr>
        <td id="L1202" class="blob-num js-line-number" data-line-number="1202"></td>
        <td id="LC1202" class="blob-code js-file-line">       &quot;mN9kXc3s9qjsFWb2jZT5Lfq8y+b+lWl7c8LdD5sH0A3oSSJY3wGOieZXAN86RHX6MnAysCJl3h3A\n&quot;,</td>
      </tr>
      <tr>
        <td id="L1203" class="blob-num js-line-number" data-line-number="1203"></td>
        <td id="LC1203" class="blob-code js-file-line">       &quot;jdH0TcBtzWw/GHgOWAMURvMmk+g2BSgCKomOdnPclmQdWtoW4P8BX46mrwJ+kau2tOQ9J/FF8mVA\n&quot;,</td>
      </tr>
      <tr>
        <td id="L1204" class="blob-num js-line-number" data-line-number="1204"></td>
        <td id="LC1204" class="blob-code js-file-line">       &quot;V2AosBro1EiZPYHTge8C96XM7wusA/pGz/8dGBNNPw5cEU2fCTzcgjYMAEZE0/kkzuke39Z2pJQ/\n&quot;,</td>
      </tr>
      <tr>
        <td id="L1205" class="blob-num js-line-number" data-line-number="1205"></td>
        <td id="LC1205" class="blob-code js-file-line">       &quot;F3gM+FGO25HxPtOC38UB+0w22pCF/aaux+k1YGQ0/QxQ1sR7MzL6Pe9oML/RugJfAxaS+HzrGb1O\n&quot;,</td>
      </tr>
      <tr>
        <td id="L1206" class="blob-num js-line-number" data-line-number="1206"></td>
        <td id="LC1206" class="blob-code js-file-line">       &quot;Pq34vMvS/pVxe4E4UNKWv+tG25HtAnPxiN7YmcDbwEnRTru6wY739CGs39AGO/2bQP+UHeXNZrZ9\n&quot;,</td>
      </tr>
      <tr>
        <td id="L1207" class="blob-num js-line-number" data-line-number="1207"></td>
        <td id="LC1207" class="blob-code js-file-line">       &quot;HDiR+gF1P3B5yjqLgVMPQjvW1P3xt7QtwAcp04OBqly2JdP3HJgK3JSy3nPAqGbKnUT9gDoVWJzy\n&quot;,</td>
      </tr>
      <tr>
        <td id="L1208" class="blob-num js-line-number" data-line-number="1208"></td>
        <td id="LC1208" class="blob-code js-file-line">       &quot;/Arg19H068DR0bQBH7ahPU8CZ2WjHcAF0QfRdD4NqJy0oyX7TKZtaGqfyUYb2rrfAMXAGynzJwL/\n&quot;,</td>
      </tr>
      <tr>
        <td id="L1209" class="blob-num js-line-number" data-line-number="1209"></td>
        <td id="LC1209" class="blob-code js-file-line">       &quot;O8171DCgGq0r8GPgZynrPQBcTBY+71q7f2XaXuAlYEhr9/+mHsF28ZlZnpldZWZLgN+R+KV+wd2X\n&quot;,</td>
      </tr>
      <tr>
        <td id="L1210" class="blob-num js-line-number" data-line-number="1210"></td>
        <td id="LC1210" class="blob-code js-file-line">       &quot;A9uALmb2xWj1fyXxoRiK/u6+JZreAvRvbCUz+zrwrrv/vcGi5cD5ZtbZzD4DfBEYlLPafsqBxWZW\n&quot;,</td>
      </tr>
      <tr>
        <td id="L1211" class="blob-num js-line-number" data-line-number="1211"></td>
        <td id="LC1211" class="blob-code js-file-line">       &quot;aWbXRPMyagtQFbUHEn9Udb+Pg9WWpuo5kMQXyeu8S+KL5k3xBs9XA8dG3TJdSHz419V/OTAhmr4Q\n&quot;,</td>
      </tr>
      <tr>
        <td id="L1212" class="blob-num js-line-number" data-line-number="1212"></td>
        <td id="LC1212" class="blob-code js-file-line">       &quot;KDCzPi2tuJkNJfGf/V/b2g4zywduBMoPUjtass9k+rtoap/5Rw7a0NK6Npy/oYk2NKepui4Hyszs\n&quot;,</td>
      </tr>
      <tr>
        <td id="L1213" class="blob-num js-line-number" data-line-number="1213"></td>
        <td id="LC1213" class="blob-code js-file-line">       &quot;CDPrR+LoapC719CGz7s27l8tae8Bl4m3VchDvm8i8Qv7truvTF3g7m5mE4FfmVl3EofF+w5BHdOK\n&quot;,</td>
      </tr>
      <tr>
        <td id="L1214" class="blob-num js-line-number" data-line-number="1214"></td>
        <td id="LC1214" class="blob-code js-file-line">       &quot;6trwQw8z6wlMA8amzo5+/p7EUWMliS6NP3Nw2ne6u28ysyJgkZm9mbqwqbZEvgXca2Y/B+YBn0Tz\n&quot;,</td>
      </tr>
      <tr>
        <td id="L1215" class="blob-num js-line-number" data-line-number="1215"></td>
        <td id="LC1215" class="blob-code js-file-line">       &quot;D3pb0tQTWvBFc3ffbmb/g0R32X4S9f9ctPjHwP1mNgn4E4k/3ha1LQqUPwDXu/sOs0//xlvZjnLg\n&quot;,</td>
      </tr>
      <tr>
        <td id="L1216" class="blob-num js-line-number" data-line-number="1216"></td>
        <td id="LC1216" class="blob-code js-file-line">       &quot;V+6+y1IKy2E72rLPNNWGRvcZd/8gl7+LDOqaLY3W1d0XmdmpJNpVA/yFRDshceTS4s+7Nu5f6cq+\n&quot;,</td>
      </tr>
      <tr>
        <td id="L1217" class="blob-num js-line-number" data-line-number="1217"></td>
        <td id="LC1217" class="blob-code js-file-line">       &quot;Cvh+9PQY4Bkz+wR4290nNL1l5kIOqAnA1cD/NbP/BB5y93fqFrr7q8BXAKITep8/JLVs3BYzG+Du\n&quot;,</td>
      </tr>
      <tr>
        <td id="L1218" class="blob-num js-line-number" data-line-number="1218"></td>
        <td id="LC1218" class="blob-code js-file-line">       &quot;m82sGNgKYGazgBEkdsgpJLoblkc7zSDgb2Y20t23Aj+sK8zMXgFW5brS7r4p+lljZk+Q6ENP2xZ3\n&quot;,</td>
      </tr>
      <tr>
        <td id="L1219" class="blob-num js-line-number" data-line-number="1219"></td>
        <td id="LC1219" class="blob-code js-file-line">       &quot;Hx/9E3FOtGwYif503H3fQWpLo/Uk8V6n/rc5CNhgZheQ6AKDxD9Bf2uqYHdfACwAMLPvAHuj+ZuI\n&quot;,</td>
      </tr>
      <tr>
        <td id="L1220" class="blob-num js-line-number" data-line-number="1220"></td>
        <td id="LC1220" class="blob-code js-file-line">       &quot;/hOOPggmuPs/M62wmXUl8eHxiLs/2cZ2OHANid/ZBDO7A+gN7Dezj9z9f+WiHS3ZZzJoA8DV7v5f\n&quot;,</td>
      </tr>
      <tr>
        <td id="L1221" class="blob-num js-line-number" data-line-number="1221"></td>
        <td id="LC1221" class="blob-code js-file-line">       &quot;NLHP5KANLanru9H8QQ3nm1kn4L9I/B6ecvfypl6wubq6+wxgRrTsP0icO2rV510W9q+m2rshqtMs\n&quot;,</td>
      </tr>
      <tr>
        <td id="L1222" class="blob-num js-line-number" data-line-number="1222"></td>
        <td id="LC1222" class="blob-code js-file-line">       &quot;YFb0Wi8B30z9jM6KbPcZZvsBFJJI6aXAIqITcUBR9LM7iT7q2CGs41AOPPF6UzQ9hWYukkjZJvUc\n&quot;,</td>
      </tr>
      <tr>
        <td id="L1223" class="blob-num js-line-number" data-line-number="1223"></td>
        <td id="LC1223" class="blob-code js-file-line">       &quot;1BFAXjQ9FogfhDb0BAqi6TzgFeDsTNuS8vvoBDwMTMplWzJ9z/n05G834DPAWzRzkQYNzkFF846K\n&quot;,</td>
      </tr>
      <tr>
        <td id="L1224" class="blob-num js-line-number" data-line-number="1224"></td>
        <td id="LC1224" class="blob-code js-file-line">       &quot;fvaJ9sO6k9V9iU7yA/9G4u4qmdbfovfpVw3mZ6Ud0TbTgR/mqh0t3WcybUNz+0xb25CN/YZEV9m/\n&quot;,</td>
      </tr>
      <tr>
        <td id="L1225" class="blob-num js-line-number" data-line-number="1225"></td>
        <td id="LC1225" class="blob-code js-file-line">       &quot;RL/DJi+SSHmNhuegGq0rib+dugtATgRWpKzXos+7bO5fmbSXxDmokmz8bdcrN9sF5vJB4iTpoJQ3\n&quot;,</td>
      </tr>
      <tr>
        <td id="L1226" class="blob-num js-line-number" data-line-number="1226"></td>
        <td id="LC1226" class="blob-code js-file-line">       &quot;uprESb/vH8I6zSFxN41PSNxA9yoSobqYxH99C4HeGZTzNp8G1NCoXdXR9oMPQjs+E+2gy0ic75sa\n&quot;,</td>
      </tr>
      <tr>
        <td id="L1227" class="blob-num js-line-number" data-line-number="1227"></td>
        <td id="LC1227" class="blob-code js-file-line">       &quot;zc+oLST+iVgZPWakzM96W1r6npPoSl0d1eOcZspdC7wH7IjKPS6a/yhQFT2+kbL+hOj1VpI4T9q1\n&quot;,</td>
      </tr>
      <tr>
        <td id="L1228" class="blob-num js-line-number" data-line-number="1228"></td>
        <td id="LC1228" class="blob-code js-file-line">       &quot;BW34Eonum2UkPmiXkhi+ps3tSFm/YUBltR2t2WcyaUNz+0xb2pCt/YbEObEV0bJ7m3l/7oheZ2/0\n&quot;,</td>
      </tr>
      <tr>
        <td id="L1229" class="blob-num js-line-number" data-line-number="1229"></td>
        <td id="LC1229" class="blob-code js-file-line">       &quot;8+Zo/r+kCf/FAAAAVklEQVQ2VlegR0rb/gyc2KCsjD/vsrl/ZdJecnSRhL6oKyIiQQr2Kj4REenY\n&quot;,</td>
      </tr>
      <tr>
        <td id="L1230" class="blob-num js-line-number" data-line-number="1230"></td>
        <td id="LC1230" class="blob-code js-file-line">       &quot;FFAiIhIkBZSIiARJASUiIkFSQImISJAUUCIiEiQFlIiIBEkBJSIiQfr/613VOmVUV4oAAAAASUVO\n&quot;,</td>
      </tr>
      <tr>
        <td id="L1231" class="blob-num js-line-number" data-line-number="1231"></td>
        <td id="LC1231" class="blob-code js-file-line">       &quot;RK5CYII=\n&quot;</td>
      </tr>
      <tr>
        <td id="L1232" class="blob-num js-line-number" data-line-number="1232"></td>
        <td id="LC1232" class="blob-code js-file-line">      ],</td>
      </tr>
      <tr>
        <td id="L1233" class="blob-num js-line-number" data-line-number="1233"></td>
        <td id="LC1233" class="blob-code js-file-line">      &quot;text/plain&quot;: [</td>
      </tr>
      <tr>
        <td id="L1234" class="blob-num js-line-number" data-line-number="1234"></td>
        <td id="LC1234" class="blob-code js-file-line">       &quot;&lt;matplotlib.figure.Figure at 0x3ea4668&gt;&quot;</td>
      </tr>
      <tr>
        <td id="L1235" class="blob-num js-line-number" data-line-number="1235"></td>
        <td id="LC1235" class="blob-code js-file-line">      ]</td>
      </tr>
      <tr>
        <td id="L1236" class="blob-num js-line-number" data-line-number="1236"></td>
        <td id="LC1236" class="blob-code js-file-line">     },</td>
      </tr>
      <tr>
        <td id="L1237" class="blob-num js-line-number" data-line-number="1237"></td>
        <td id="LC1237" class="blob-code js-file-line">     &quot;metadata&quot;: {},</td>
      </tr>
      <tr>
        <td id="L1238" class="blob-num js-line-number" data-line-number="1238"></td>
        <td id="LC1238" class="blob-code js-file-line">     &quot;output_type&quot;: &quot;display_data&quot;</td>
      </tr>
      <tr>
        <td id="L1239" class="blob-num js-line-number" data-line-number="1239"></td>
        <td id="LC1239" class="blob-code js-file-line">    }</td>
      </tr>
      <tr>
        <td id="L1240" class="blob-num js-line-number" data-line-number="1240"></td>
        <td id="LC1240" class="blob-code js-file-line">   ],</td>
      </tr>
      <tr>
        <td id="L1241" class="blob-num js-line-number" data-line-number="1241"></td>
        <td id="LC1241" class="blob-code js-file-line">   &quot;source&quot;: [</td>
      </tr>
      <tr>
        <td id="L1242" class="blob-num js-line-number" data-line-number="1242"></td>
        <td id="LC1242" class="blob-code js-file-line">    &quot;fig, ax = plt.subplots()\n&quot;,</td>
      </tr>
      <tr>
        <td id="L1243" class="blob-num js-line-number" data-line-number="1243"></td>
        <td id="LC1243" class="blob-code js-file-line">    &quot;\n&quot;,</td>
      </tr>
      <tr>
        <td id="L1244" class="blob-num js-line-number" data-line-number="1244"></td>
        <td id="LC1244" class="blob-code js-file-line">    &quot;index = np.arange(8)\n&quot;,</td>
      </tr>
      <tr>
        <td id="L1245" class="blob-num js-line-number" data-line-number="1245"></td>
        <td id="LC1245" class="blob-code js-file-line">    &quot;bar_width = 0.45\n&quot;,</td>
      </tr>
      <tr>
        <td id="L1246" class="blob-num js-line-number" data-line-number="1246"></td>
        <td id="LC1246" class="blob-code js-file-line">    &quot;\n&quot;,</td>
      </tr>
      <tr>
        <td id="L1247" class="blob-num js-line-number" data-line-number="1247"></td>
        <td id="LC1247" class="blob-code js-file-line">    &quot;opacity = 0.8\n&quot;,</td>
      </tr>
      <tr>
        <td id="L1248" class="blob-num js-line-number" data-line-number="1248"></td>
        <td id="LC1248" class="blob-code js-file-line">    &quot;error_config = {&#39;ecolor&#39;: &#39;0.3&#39;}\n&quot;,</td>
      </tr>
      <tr>
        <td id="L1249" class="blob-num js-line-number" data-line-number="1249"></td>
        <td id="LC1249" class="blob-code js-file-line">    &quot;\n&quot;,</td>
      </tr>
      <tr>
        <td id="L1250" class="blob-num js-line-number" data-line-number="1250"></td>
        <td id="LC1250" class="blob-code js-file-line">    &quot;rects1 = plt.bar(index, np.array(LandOctiles[0,:]), bar_width,\n&quot;,</td>
      </tr>
      <tr>
        <td id="L1251" class="blob-num js-line-number" data-line-number="1251"></td>
        <td id="LC1251" class="blob-code js-file-line">    &quot;                 alpha=opacity,\n&quot;,</td>
      </tr>
      <tr>
        <td id="L1252" class="blob-num js-line-number" data-line-number="1252"></td>
        <td id="LC1252" class="blob-code js-file-line">    &quot;                 color=&#39;b&#39;,\n&quot;,</td>
      </tr>
      <tr>
        <td id="L1253" class="blob-num js-line-number" data-line-number="1253"></td>
        <td id="LC1253" class="blob-code js-file-line">    &quot;                 label=&#39;Percent of farms&#39;)\n&quot;,</td>
      </tr>
      <tr>
        <td id="L1254" class="blob-num js-line-number" data-line-number="1254"></td>
        <td id="LC1254" class="blob-code js-file-line">    &quot;\n&quot;,</td>
      </tr>
      <tr>
        <td id="L1255" class="blob-num js-line-number" data-line-number="1255"></td>
        <td id="LC1255" class="blob-code js-file-line">    &quot;rects2 = plt.bar(index + bar_width, np.array(LandOctiles[1,:]), bar_width,\n&quot;,</td>
      </tr>
      <tr>
        <td id="L1256" class="blob-num js-line-number" data-line-number="1256"></td>
        <td id="LC1256" class="blob-code js-file-line">    &quot;                 alpha=opacity,\n&quot;,</td>
      </tr>
      <tr>
        <td id="L1257" class="blob-num js-line-number" data-line-number="1257"></td>
        <td id="LC1257" class="blob-code js-file-line">    &quot;                 color=&#39;r&#39;,\n&quot;,</td>
      </tr>
      <tr>
        <td id="L1258" class="blob-num js-line-number" data-line-number="1258"></td>
        <td id="LC1258" class="blob-code js-file-line">    &quot;                 label=&#39;Percent of land use&#39;)\n&quot;,</td>
      </tr>
      <tr>
        <td id="L1259" class="blob-num js-line-number" data-line-number="1259"></td>
        <td id="LC1259" class="blob-code js-file-line">    &quot;ax.set_xticks(index+bar_width)\n&quot;,</td>
      </tr>
      <tr>
        <td id="L1260" class="blob-num js-line-number" data-line-number="1260"></td>
        <td id="LC1260" class="blob-code js-file-line">    &quot;ax.set_xticklabels( (&#39;&lt;9&#39;, &#39;10-49&#39;, &#39;50-99&#39;, &#39;100-199&#39;, &#39;200-499&#39;,&#39;500-999&#39;,&#39;1000-1999&#39;,&#39;2000+&#39;) )\n&quot;,</td>
      </tr>
      <tr>
        <td id="L1261" class="blob-num js-line-number" data-line-number="1261"></td>
        <td id="LC1261" class="blob-code js-file-line">    &quot;\n&quot;,</td>
      </tr>
      <tr>
        <td id="L1262" class="blob-num js-line-number" data-line-number="1262"></td>
        <td id="LC1262" class="blob-code js-file-line">    &quot;\n&quot;,</td>
      </tr>
      <tr>
        <td id="L1263" class="blob-num js-line-number" data-line-number="1263"></td>
        <td id="LC1263" class="blob-code js-file-line">    &quot;plt.tight_layout()\n&quot;,</td>
      </tr>
      <tr>
        <td id="L1264" class="blob-num js-line-number" data-line-number="1264"></td>
        <td id="LC1264" class="blob-code js-file-line">    &quot;plt.legend()\n&quot;,</td>
      </tr>
      <tr>
        <td id="L1265" class="blob-num js-line-number" data-line-number="1265"></td>
        <td id="LC1265" class="blob-code js-file-line">    &quot;plt.show()&quot;</td>
      </tr>
      <tr>
        <td id="L1266" class="blob-num js-line-number" data-line-number="1266"></td>
        <td id="LC1266" class="blob-code js-file-line">   ]</td>
      </tr>
      <tr>
        <td id="L1267" class="blob-num js-line-number" data-line-number="1267"></td>
        <td id="LC1267" class="blob-code js-file-line">  },</td>
      </tr>
      <tr>
        <td id="L1268" class="blob-num js-line-number" data-line-number="1268"></td>
        <td id="LC1268" class="blob-code js-file-line">  {</td>
      </tr>
      <tr>
        <td id="L1269" class="blob-num js-line-number" data-line-number="1269"></td>
        <td id="LC1269" class="blob-code js-file-line">   &quot;cell_type&quot;: &quot;markdown&quot;,</td>
      </tr>
      <tr>
        <td id="L1270" class="blob-num js-line-number" data-line-number="1270"></td>
        <td id="LC1270" class="blob-code js-file-line">   &quot;metadata&quot;: {},</td>
      </tr>
      <tr>
        <td id="L1271" class="blob-num js-line-number" data-line-number="1271"></td>
        <td id="LC1271" class="blob-code js-file-line">   &quot;source&quot;: [</td>
      </tr>
      <tr>
        <td id="L1272" class="blob-num js-line-number" data-line-number="1272"></td>
        <td id="LC1272" class="blob-code js-file-line">    &quot;Here is the labor - to be precise, mean hour per harvested acre, where the first row is corn, the second is soybeans, and the third wheat:\n&quot;</td>
      </tr>
      <tr>
        <td id="L1273" class="blob-num js-line-number" data-line-number="1273"></td>
        <td id="LC1273" class="blob-code js-file-line">   ]</td>
      </tr>
      <tr>
        <td id="L1274" class="blob-num js-line-number" data-line-number="1274"></td>
        <td id="LC1274" class="blob-code js-file-line">  },</td>
      </tr>
      <tr>
        <td id="L1275" class="blob-num js-line-number" data-line-number="1275"></td>
        <td id="LC1275" class="blob-code js-file-line">  {</td>
      </tr>
      <tr>
        <td id="L1276" class="blob-num js-line-number" data-line-number="1276"></td>
        <td id="LC1276" class="blob-code js-file-line">   &quot;cell_type&quot;: &quot;code&quot;,</td>
      </tr>
      <tr>
        <td id="L1277" class="blob-num js-line-number" data-line-number="1277"></td>
        <td id="LC1277" class="blob-code js-file-line">   &quot;execution_count&quot;: 15,</td>
      </tr>
      <tr>
        <td id="L1278" class="blob-num js-line-number" data-line-number="1278"></td>
        <td id="LC1278" class="blob-code js-file-line">   &quot;metadata&quot;: {</td>
      </tr>
      <tr>
        <td id="L1279" class="blob-num js-line-number" data-line-number="1279"></td>
        <td id="LC1279" class="blob-code js-file-line">    &quot;collapsed&quot;: false</td>
      </tr>
      <tr>
        <td id="L1280" class="blob-num js-line-number" data-line-number="1280"></td>
        <td id="LC1280" class="blob-code js-file-line">   },</td>
      </tr>
      <tr>
        <td id="L1281" class="blob-num js-line-number" data-line-number="1281"></td>
        <td id="LC1281" class="blob-code js-file-line">   &quot;outputs&quot;: [],</td>
      </tr>
      <tr>
        <td id="L1282" class="blob-num js-line-number" data-line-number="1282"></td>
        <td id="LC1282" class="blob-code js-file-line">   &quot;source&quot;: [</td>
      </tr>
      <tr>
        <td id="L1283" class="blob-num js-line-number" data-line-number="1283"></td>
        <td id="LC1283" class="blob-code js-file-line">    &quot;LaborSextiles=np.array([[38.6,12.3,7.8,5.7,3.5,2.7],[45.7,10.4,7.3,5.8,3.8,3.0],[40.4,8.7,5.8,5.3,3.2,2.2]],dtype=float)&quot;</td>
      </tr>
      <tr>
        <td id="L1284" class="blob-num js-line-number" data-line-number="1284"></td>
        <td id="LC1284" class="blob-code js-file-line">   ]</td>
      </tr>
      <tr>
        <td id="L1285" class="blob-num js-line-number" data-line-number="1285"></td>
        <td id="LC1285" class="blob-code js-file-line">  },</td>
      </tr>
      <tr>
        <td id="L1286" class="blob-num js-line-number" data-line-number="1286"></td>
        <td id="LC1286" class="blob-code js-file-line">  {</td>
      </tr>
      <tr>
        <td id="L1287" class="blob-num js-line-number" data-line-number="1287"></td>
        <td id="LC1287" class="blob-code js-file-line">   &quot;cell_type&quot;: &quot;markdown&quot;,</td>
      </tr>
      <tr>
        <td id="L1288" class="blob-num js-line-number" data-line-number="1288"></td>
        <td id="LC1288" class="blob-code js-file-line">   &quot;metadata&quot;: {},</td>
      </tr>
      <tr>
        <td id="L1289" class="blob-num js-line-number" data-line-number="1289"></td>
        <td id="LC1289" class="blob-code js-file-line">   &quot;source&quot;: [</td>
      </tr>
      <tr>
        <td id="L1290" class="blob-num js-line-number" data-line-number="1290"></td>
        <td id="LC1290" class="blob-code js-file-line">    &quot;Next, here is capital:, which is in terms of dollars per harvested acre for each of three crops:&quot;</td>
      </tr>
      <tr>
        <td id="L1291" class="blob-num js-line-number" data-line-number="1291"></td>
        <td id="LC1291" class="blob-code js-file-line">   ]</td>
      </tr>
      <tr>
        <td id="L1292" class="blob-num js-line-number" data-line-number="1292"></td>
        <td id="LC1292" class="blob-code js-file-line">  },</td>
      </tr>
      <tr>
        <td id="L1293" class="blob-num js-line-number" data-line-number="1293"></td>
        <td id="LC1293" class="blob-code js-file-line">  {</td>
      </tr>
      <tr>
        <td id="L1294" class="blob-num js-line-number" data-line-number="1294"></td>
        <td id="LC1294" class="blob-code js-file-line">   &quot;cell_type&quot;: &quot;code&quot;,</td>
      </tr>
      <tr>
        <td id="L1295" class="blob-num js-line-number" data-line-number="1295"></td>
        <td id="LC1295" class="blob-code js-file-line">   &quot;execution_count&quot;: 16,</td>
      </tr>
      <tr>
        <td id="L1296" class="blob-num js-line-number" data-line-number="1296"></td>
        <td id="LC1296" class="blob-code js-file-line">   &quot;metadata&quot;: {</td>
      </tr>
      <tr>
        <td id="L1297" class="blob-num js-line-number" data-line-number="1297"></td>
        <td id="LC1297" class="blob-code js-file-line">    &quot;collapsed&quot;: false</td>
      </tr>
      <tr>
        <td id="L1298" class="blob-num js-line-number" data-line-number="1298"></td>
        <td id="LC1298" class="blob-code js-file-line">   },</td>
      </tr>
      <tr>
        <td id="L1299" class="blob-num js-line-number" data-line-number="1299"></td>
        <td id="LC1299" class="blob-code js-file-line">   &quot;outputs&quot;: [],</td>
      </tr>
      <tr>
        <td id="L1300" class="blob-num js-line-number" data-line-number="1300"></td>
        <td id="LC1300" class="blob-code js-file-line">   &quot;source&quot;: [</td>
      </tr>
      <tr>
        <td id="L1301" class="blob-num js-line-number" data-line-number="1301"></td>
        <td id="LC1301" class="blob-code js-file-line">    &quot;CapitalSextiles=np.array([[2532,847,683,568,505,432],[2880,826,640,535,387,332],[3325,588,396,320,278,242]])&quot;</td>
      </tr>
      <tr>
        <td id="L1302" class="blob-num js-line-number" data-line-number="1302"></td>
        <td id="LC1302" class="blob-code js-file-line">   ]</td>
      </tr>
      <tr>
        <td id="L1303" class="blob-num js-line-number" data-line-number="1303"></td>
        <td id="LC1303" class="blob-code js-file-line">  },</td>
      </tr>
      <tr>
        <td id="L1304" class="blob-num js-line-number" data-line-number="1304"></td>
        <td id="LC1304" class="blob-code js-file-line">  {</td>
      </tr>
      <tr>
        <td id="L1305" class="blob-num js-line-number" data-line-number="1305"></td>
        <td id="LC1305" class="blob-code js-file-line">   &quot;cell_type&quot;: &quot;code&quot;,</td>
      </tr>
      <tr>
        <td id="L1306" class="blob-num js-line-number" data-line-number="1306"></td>
        <td id="LC1306" class="blob-code js-file-line">   &quot;execution_count&quot;: 17,</td>
      </tr>
      <tr>
        <td id="L1307" class="blob-num js-line-number" data-line-number="1307"></td>
        <td id="LC1307" class="blob-code js-file-line">   &quot;metadata&quot;: {</td>
      </tr>
      <tr>
        <td id="L1308" class="blob-num js-line-number" data-line-number="1308"></td>
        <td id="LC1308" class="blob-code js-file-line">    &quot;collapsed&quot;: false</td>
      </tr>
      <tr>
        <td id="L1309" class="blob-num js-line-number" data-line-number="1309"></td>
        <td id="LC1309" class="blob-code js-file-line">   },</td>
      </tr>
      <tr>
        <td id="L1310" class="blob-num js-line-number" data-line-number="1310"></td>
        <td id="LC1310" class="blob-code js-file-line">   &quot;outputs&quot;: [</td>
      </tr>
      <tr>
        <td id="L1311" class="blob-num js-line-number" data-line-number="1311"></td>
        <td id="LC1311" class="blob-code js-file-line">    {</td>
      </tr>
      <tr>
        <td id="L1312" class="blob-num js-line-number" data-line-number="1312"></td>
        <td id="LC1312" class="blob-code js-file-line">     &quot;data&quot;: {</td>
      </tr>
      <tr>
        <td id="L1313" class="blob-num js-line-number" data-line-number="1313"></td>
        <td id="LC1313" class="blob-code js-file-line">      &quot;image/png&quot;: [</td>
      </tr>
      <tr>
        <td id="L1314" class="blob-num js-line-number" data-line-number="1314"></td>
        <td id="LC1314" class="blob-code js-file-line">       &quot;iVBORw0KGgoAAAANSUhEUgAAAagAAAEaCAYAAABEsMO+AAAABHNCSVQICAgIfAhkiAAAAAlwSFlz\n&quot;,</td>
      </tr>
      <tr>
        <td id="L1315" class="blob-num js-line-number" data-line-number="1315"></td>
        <td id="LC1315" class="blob-code js-file-line">       &quot;AAALEgAACxIB0t1+/AAAF/5JREFUeJzt3Xtw1eWdx/HPN0REMBAuNYBKKK2h0pZKS0UKgUMrmBWh\n&quot;,</td>
      </tr>
      <tr>
        <td id="L1316" class="blob-num js-line-number" data-line-number="1316"></td>
        <td id="LC1316" class="blob-code js-file-line">       &quot;9A8QvMW1I9MZu6VY6YJIIS4OIi0629qpaSuTRbxNd0AZO1zr0WRademSeMHCFkugglHaJMhaQJbv\n&quot;,</td>
      </tr>
      <tr>
        <td id="L1317" class="blob-num js-line-number" data-line-number="1317"></td>
        <td id="LC1317" class="blob-code js-file-line">       &quot;/sHhDGBCTnLOyXkO5/2ayeR3z/f8huTD87s8j7m7AAAITV6mCwAAoCUEFAAgSAQUACBIBBQAIEgE\n&quot;,</td>
      </tr>
      <tr>
        <td id="L1318" class="blob-num js-line-number" data-line-number="1318"></td>
        <td id="LC1318" class="blob-code js-file-line">       &quot;FAAgSAQUACBI+YlsZGZ7JB2S9H+SPnb3q82sj6RnJBVL2iNphrs3palOAECOSbQF5ZIi7j7C3a+O\n&quot;,</td>
      </tr>
      <tr>
        <td id="L1319" class="blob-num js-line-number" data-line-number="1319"></td>
        <td id="LC1319" class="blob-code js-file-line">       &quot;LZsvabO7l0jaGpsHACAl2nOJz86anyqpKjZdJWlaSioCAEDta0FtMbNtZnZnbFmRuzfEphskFaW8\n&quot;,</td>
      </tr>
      <tr>
        <td id="L1320" class="blob-num js-line-number" data-line-number="1320"></td>
        <td id="LC1320" class="blob-code js-file-line">       &quot;OgBAzkroHpSkMe5+wMw+JWmzmf3p9JXu7mZGn0kAgJRJKKDc/UDs+wdmtlbS1ZIazKy/u79nZgMk\n&quot;,</td>
      </tr>
      <tr>
        <td id="L1321" class="blob-num js-line-number" data-line-number="1321"></td>
        <td id="LC1321" class="blob-code js-file-line">       &quot;vX/2foQWAKA17n72raMztHmJz8y6m1lBbLqHpEmS3pD0vKTy2Gblkta1UkBOfy1evDjjNYTwxXng\n&quot;,</td>
      </tr>
      <tr>
        <td id="L1322" class="blob-num js-line-number" data-line-number="1322"></td>
        <td id="LC1322" class="blob-code js-file-line">       &quot;HHAOOA+nfyUikRZUkaS1ZnZq+zXuvsnMtkl61sy+rdhj5gn9RAAAEtBmQLn7XyRd1cLyv0u6Nh1F\n&quot;,</td>
      </tr>
      <tr>
        <td id="L1323" class="blob-num js-line-number" data-line-number="1323"></td>
        <td id="LC1323" class="blob-code js-file-line">       &quot;AQBATxJpFolEMl1CEDgPnAOJc3AK5yExlui1wA4d3MzTeXwAQHYyM3kbD0kk+pg5AOSU2H13pEBH\n&quot;,</td>
      </tr>
      <tr>
        <td id="L1324" class="blob-num js-line-number" data-line-number="1324"></td>
        <td id="LC1324" class="blob-code js-file-line">       &quot;GyoEFAC0gitAyUsm6LkHBQAIEgEFAAgSAQUACBIBBQAIEg9JAECCVqyoVFMah2UtLJTmzZud8PZP\n&quot;,</td>
      </tr>
      <tr>
        <td id="L1325" class="blob-num js-line-number" data-line-number="1325"></td>
        <td id="LC1325" class="blob-code js-file-line">       &quot;PvmkVq5cqZ07d6qgoEBXXXWVFi5cqDFjxqSvyE5EQAFAgpqapOLixAOkverrKxPeduXKlVq+fLke\n&quot;,</td>
      </tr>
      <tr>
        <td id="L1326" class="blob-num js-line-number" data-line-number="1326"></td>
        <td id="LC1326" class="blob-code js-file-line">       &quot;e+wxXXfdderatas2bNig559/vl0Bdfz4ceXnhxkFXOIDgCzT3NysxYsX6+c//7mmTZumiy66SF26\n&quot;,</td>
      </tr>
      <tr>
        <td id="L1327" class="blob-num js-line-number" data-line-number="1327"></td>
        <td id="LC1327" class="blob-code js-file-line">       &quot;dNHkyZO1fPlyHT16VN///vd16aWX6tJLL9XcuXN17NgxSVI0GtVll12mhx56SAMGDNAdd9yhiooK\n&quot;,</td>
      </tr>
      <tr>
        <td id="L1328" class="blob-num js-line-number" data-line-number="1328"></td>
        <td id="LC1328" class="blob-code js-file-line">       &quot;zZgxQ+Xl5erZs6e+8IUv6I9//GOGPyUBBQBZ5w9/+IOOHDmib33rWy2uf+CBB/Taa6+prq5OdXV1\n&quot;,</td>
      </tr>
      <tr>
        <td id="L1329" class="blob-num js-line-number" data-line-number="1329"></td>
        <td id="LC1329" class="blob-code js-file-line">       &quot;eu2117R06dL4+oaGBjU2Nmrv3r2qrKyUu2v9+vWaNWuWmpubNXXqVH33u9/trI/TKgIKALLM3/72\n&quot;,</td>
      </tr>
      <tr>
        <td id="L1330" class="blob-num js-line-number" data-line-number="1330"></td>
        <td id="LC1330" class="blob-code js-file-line">       &quot;N/Xr1095eS3/CX/yySf1ox/9SP369VO/fv20ePFirV69Or4+Ly9PFRUVuuCCC9StWzdJUmlpqcrK\n&quot;,</td>
      </tr>
      <tr>
        <td id="L1331" class="blob-num js-line-number" data-line-number="1331"></td>
        <td id="LC1331" class="blob-code js-file-line">       &quot;ymRmuuWWW1RXV9cpn+VcCCgAyDJ9+/bVwYMHdeLEiRbX79+/X8XFxfH5QYMGaf/+/fH5T33qU+ra\n&quot;,</td>
      </tr>
      <tr>
        <td id="L1332" class="blob-num js-line-number" data-line-number="1332"></td>
        <td id="LC1332" class="blob-code js-file-line">       &quot;tesZ+xQVFcWnu3fvriNHjrR6/M5CQAFAlhk9erQuvPBCrV27tsX1AwcO1J49e+Lze/fu1cCBA+Pz\n&quot;,</td>
      </tr>
      <tr>
        <td id="L1333" class="blob-num js-line-number" data-line-number="1333"></td>
        <td id="LC1333" class="blob-code js-file-line">       &quot;Z3c/FGq/g2E+ugEAaFWvXr10//3366677lJ+fr4mTpyoCy64QFu2bFE0GtWsWbO0dOlSffWrX5Uk\n&quot;,</td>
      </tr>
      <tr>
        <td id="L1334" class="blob-num js-line-number" data-line-number="1334"></td>
        <td id="LC1334" class="blob-code js-file-line">       &quot;3X///br11ltbPV6ofQ4SUACQhe6++271799fS5cu1c0336yCggKNHDlSCxcu1IgRI3To0CENHz5c\n&quot;,</td>
      </tr>
      <tr>
        <td id="L1335" class="blob-num js-line-number" data-line-number="1335"></td>
        <td id="LC1335" class="blob-code js-file-line">       &quot;kjRjxgzdd9998X1bakGF2KoKejyoyhUrlNRbcYWFmj1vXsf3B5CzYuMVnbEstBd1s0FL5/G05Vk8\n&quot;,</td>
      </tr>
      <tr>
        <td id="L1336" class="blob-num js-line-number" data-line-number="1336"></td>
        <td id="LC1336" class="blob-code js-file-line">       &quot;HlRTk2afdqOvvSrr61NYDIBcd76FR+h4SAIAECQCCgAQJAIKABAkAgoAECQCCgAQJAIKABAkAgoA\n&quot;,</td>
      </tr>
      <tr>
        <td id="L1337" class="blob-num js-line-number" data-line-number="1337"></td>
        <td id="LC1337" class="blob-code js-file-line">       &quot;ECQCCgAQpLBf1AWAgCTdu01b2tH7TU1NjX74wx9qx44d6tKli6688ko98sgjGjlyZPrq62QEFAAk\n&quot;,</td>
      </tr>
      <tr>
        <td id="L1338" class="blob-num js-line-number" data-line-number="1338"></td>
        <td id="LC1338" class="blob-code js-file-line">       &quot;KsnebdqSaO83hw4d0g033KDHHntMM2bM0NGjR1VdXa0LL7wwbbVlApf4ACDL7Nq1S2amG2+8UWam\n&quot;,</td>
      </tr>
      <tr>
        <td id="L1339" class="blob-num js-line-number" data-line-number="1339"></td>
        <td id="LC1339" class="blob-code js-file-line">       &quot;bt26aeLEifriF78od9fSpUs1ePBgFRUVqby8XIcOHZIkTZ48WT/72c/OONbw4cP13HPPZeJjtImA\n&quot;,</td>
      </tr>
      <tr>
        <td id="L1340" class="blob-num js-line-number" data-line-number="1340"></td>
        <td id="LC1340" class="blob-code js-file-line">       &quot;AoAsM3ToUHXp0kW33367NmzYoMbGxvi6VatWqaqqStFoVO+8844OHz4cH7799ttv1xNPPBHftq6u\n&quot;,</td>
      </tr>
      <tr>
        <td id="L1341" class="blob-num js-line-number" data-line-number="1341"></td>
        <td id="LC1341" class="blob-code js-file-line">       &quot;Tvv379fkyZM7/TMkgoACgCxTUFCgmpoamZnuvPNOXXLJJfrmN7+phoYGrVmzRj/4wQ80ePBg9ejR\n&quot;,</td>
      </tr>
      <tr>
        <td id="L1342" class="blob-num js-line-number" data-line-number="1342"></td>
        <td id="LC1342" class="blob-code js-file-line">       &quot;Q8uWLdPTTz+tEydOaMqUKdq1a5d2794tSVq9erVmzpyp/Pww7/YQUACQhT73uc9p1apV2rdvn958\n&quot;,</td>
      </tr>
      <tr>
        <td id="L1343" class="blob-num js-line-number" data-line-number="1343"></td>
        <td id="LC1343" class="blob-code js-file-line">       &quot;803t379fc+fO1YEDBz4x3Pvx48fV0NCgbt26acaMGVq9erXcXU8//fQ5BzLMNAIKALLc0KFDVV5e\n&quot;,</td>
      </tr>
      <tr>
        <td id="L1344" class="blob-num js-line-number" data-line-number="1344"></td>
        <td id="LC1344" class="blob-code js-file-line">       &quot;rjfffLPF4d7z8/NVVFQkSSovL9eaNWu0ZcsWde/eXaNGjcpQ1W0joAAgy+zcuVMrV67Uu+++K0na\n&quot;,</td>
      </tr>
      <tr>
        <td id="L1345" class="blob-num js-line-number" data-line-number="1345"></td>
        <td id="LC1345" class="blob-code js-file-line">       &quot;t2+fnnrqKY0ePVqzZs3Sww8/rD179ujw4cO69957NXPmTOXlnfxzP3r0aJmZ7rnnHt12222Z/Bht\n&quot;,</td>
      </tr>
      <tr>
        <td id="L1346" class="blob-num js-line-number" data-line-number="1346"></td>
        <td id="LC1346" class="blob-code js-file-line">       &quot;IqAAIMsUFBTo1Vdf1ahRo3TxxRdr9OjRGj58uH7yk5/ojjvu0K233qpx48ZpyJAh6t69u37605+e\n&quot;,</td>
      </tr>
      <tr>
        <td id="L1347" class="blob-num js-line-number" data-line-number="1347"></td>
        <td id="LC1347" class="blob-code js-file-line">       &quot;sf9tt92mN954Q7fcckuGPkFiwrwzBgAhKixM70jdhYUJbTZw4EA988wzra5ftGiRFi1a1Or64uJi\n&quot;,</td>
      </tr>
      <tr>
        <td id="L1348" class="blob-num js-line-number" data-line-number="1348"></td>
        <td id="LC1348" class="blob-code js-file-line">       &quot;jR07VoMHD25vhZ2KgAKABCXay0PIPvroIz366KPxR89DxiU+AMgRGzdu1CWXXKIBAwbopptuynQ5\n&quot;,</td>
      </tr>
      <tr>
        <td id="L1349" class="blob-num js-line-number" data-line-number="1349"></td>
        <td id="LC1349" class="blob-code js-file-line">       &quot;baIFBQA54rrrrtPhw4czXUbCaEEBAIKUUECZWRcz225m62Pzfcxss5ntMrNNZpbYnT0AABKUaAtq\n&quot;,</td>
      </tr>
      <tr>
        <td id="L1350" class="blob-num js-line-number" data-line-number="1350"></td>
        <td id="LC1350" class="blob-code js-file-line">       &quot;jqQdkjw2P1/SZncvkbQ1Ng8AQMq0GVBmdpmk6yX9SpLFFk+VVBWbrpI0LS3VAQByViIPSTwsaZ6k\n&quot;,</td>
      </tr>
      <tr>
        <td id="L1351" class="blob-num js-line-number" data-line-number="1351"></td>
        <td id="LC1351" class="blob-code js-file-line">       &quot;nqctK3L3hth0g6SiVBeWChu3v6L6hxYmdYzCboWa973sf7QUALLNOQPKzG6Q9L67bzezSEvbuLub\n&quot;,</td>
      </tr>
      <tr>
        <td id="L1352" class="blob-num js-line-number" data-line-number="1352"></td>
        <td id="LC1352" class="blob-code js-file-line">       &quot;mbe0LtP+oSMq/kZyg4vVb03jS3kA0Any8vL05z//WUOGDMl0Ke3SVgvqa5Kmmtn1krpJ6mlmqyU1\n&quot;,</td>
      </tr>
      <tr>
        <td id="L1353" class="blob-num js-line-number" data-line-number="1353"></td>
        <td id="LC1353" class="blob-code js-file-line">       &quot;mFl/d3/PzAZIer+1AyxZsiQ+HYlEFIlEki4aADJhxb+vUNOR9A35nugVm2XLlqm6ulq//e1v48uu\n&quot;,</td>
      </tr>
      <tr>
        <td id="L1354" class="blob-num js-line-number" data-line-number="1354"></td>
        <td id="LC1354" class="blob-code js-file-line">       &quot;uOIKXXHFFZ9YtnTp0rTUKp38+757926tXr26zW2j0aii0Wi7jn/OgHL3eyXdK0lmNl7SPe5+q5k9\n&quot;,</td>
      </tr>
      <tr>
        <td id="L1355" class="blob-num js-line-number" data-line-number="1355"></td>
        <td id="LC1355" class="blob-code js-file-line">       &quot;JKlc0vLY93WtHeP0gAKAbNZ0pCnpqzLnkugVm/Hjx2v58uVyd5mZDhw4oOPHj6u2tlYnTpxQXl6e\n&quot;,</td>
      </tr>
      <tr>
        <td id="L1356" class="blob-num js-line-number" data-line-number="1356"></td>
        <td id="LC1356" class="blob-code js-file-line">       &quot;Dhw4oN27d2vcuHFpq7c9zm6gVFRUtLlPe9+DOnUp70FJE81sl6Svx+YBAJ1g5MiR+vjjj1VbWytJ\n&quot;,</td>
      </tr>
      <tr>
        <td id="L1357" class="blob-num js-line-number" data-line-number="1357"></td>
        <td id="LC1357" class="blob-code js-file-line">       &quot;qq6u1oQJE1RSUnLGss9+9rMaMGCAJGnz5s0qKSlR7969P9HN0eOPP65hw4apT58+Kisr0969e+Pr\n&quot;,</td>
      </tr>
      <tr>
        <td id="L1358" class="blob-num js-line-number" data-line-number="1358"></td>
        <td id="LC1358" class="blob-code js-file-line">       &quot;5syZo0GDBqlXr14aOXKkampqJEkbNmzQsmXL9Mwzz6igoEAjRoxI+edMOKDc/SV3nxqb/ru7X+vu\n&quot;,</td>
      </tr>
      <tr>
        <td id="L1359" class="blob-num js-line-number" data-line-number="1359"></td>
        <td id="LC1359" class="blob-code js-file-line">       &quot;Je4+yd3T1+YFAJyha9euGjVqlF566SVJ0ssvv6zS0lKNHTtWL7/8cnzZ6a2nF154Qdu2bdPrr7+u\n&quot;,</td>
      </tr>
      <tr>
        <td id="L1360" class="blob-num js-line-number" data-line-number="1360"></td>
        <td id="LC1360" class="blob-code js-file-line">       &quot;Z599Vhs3bpQkPffcc1q2bJnWrl2rgwcPqrS0VLNmzYrvd/XVV6uurk6NjY266aabNH36dB07dkxl\n&quot;,</td>
      </tr>
      <tr>
        <td id="L1361" class="blob-num js-line-number" data-line-number="1361"></td>
        <td id="LC1361" class="blob-code js-file-line">       &quot;ZWXxoTw+/PBDbd++PeWfk54kACALjR8/Ph5GNTU1GjdunEpLS+PLqqurNX78+Pj28+fPV8+ePXX5\n&quot;,</td>
      </tr>
      <tr>
        <td id="L1362" class="blob-num js-line-number" data-line-number="1362"></td>
        <td id="LC1362" class="blob-code js-file-line">       &quot;5ZdrwoQJqqurkyT94he/0IIFCzR06FDl5eVpwYIFqq2t1b59+yRJN998s3r37q28vDzdfffdOnr0\n&quot;,</td>
      </tr>
      <tr>
        <td id="L1363" class="blob-num js-line-number" data-line-number="1363"></td>
        <td id="LC1363" class="blob-code js-file-line">       &quot;qHbu3ClJcne5p+8ZOQIKALLQuHHjVFNTo8bGRn3wwQf6zGc+o9GjR+v3v/+9Ghsb9dZbb53Rgurf\n&quot;,</td>
      </tr>
      <tr>
        <td id="L1364" class="blob-num js-line-number" data-line-number="1364"></td>
        <td id="LC1364" class="blob-code js-file-line">       &quot;v398unv37vE++err6zVnzhz17t1bvXv3Vt++fSUpPhjij3/8Yw0bNkyFhYXq3bu3mpubdfDgwU75\n&quot;,</td>
      </tr>
      <tr>
        <td id="L1365" class="blob-num js-line-number" data-line-number="1365"></td>
        <td id="LC1365" class="blob-code js-file-line">       &quot;jHQWCwBZ6JprrlFzc7N++ctfasyYMZKknj17auDAgaqsrNTAgQNVXNz2Ax2DBg3SokWLzrisd0p1\n&quot;,</td>
      </tr>
      <tr>
        <td id="L1366" class="blob-num js-line-number" data-line-number="1366"></td>
        <td id="LC1366" class="blob-code js-file-line">       &quot;dbVWrFih3/3ud/r85z8vSerTp0+81WRmn9gnldIeUAsXVnZ43/2vbNfsBE4wAOSaiy66SCNHjtTK\n&quot;,</td>
      </tr>
      <tr>
        <td id="L1367" class="blob-num js-line-number" data-line-number="1367"></td>
        <td id="LC1367" class="blob-code js-file-line">       &quot;lSt13333xZePHTtWK1eu1KRJk1rd9/RLc9/5zne0aNEifelLX9KwYcPU3NysTZs2afr06frwww+V\n&quot;,</td>
      </tr>
      <tr>
        <td id="L1368" class="blob-num js-line-number" data-line-number="1368"></td>
        <td id="LC1368" class="blob-code js-file-line">       &quot;n5+vfv366dixY3rwwQd16NCh+HH69++vLVu2xJ8mTLW0B1Rx8ewO7/tOtNWn1wEg540fP16vvPKK\n&quot;,</td>
      </tr>
      <tr>
        <td id="L1369" class="blob-num js-line-number" data-line-number="1369"></td>
        <td id="LC1369" class="blob-code js-file-line">       &quot;xo4dG19WWlqqRx999IzLe2eHh5nFl02bNk2HDx/WzJkzVV9fr169emnSpEmaPn26ysrKVFZWppKS\n&quot;,</td>
      </tr>
      <tr>
        <td id="L1370" class="blob-num js-line-number" data-line-number="1370"></td>
        <td id="LC1370" class="blob-code js-file-line">       &quot;EvXo0UNz587VoEGD4seZPn26nnjiCfXt21dDhgzRtm3bUvr5LJ03uMzMH3us48d/sep6PVXe8W7+\n&quot;,</td>
      </tr>
      <tr>
        <td id="L1371" class="blob-num js-line-number" data-line-number="1371"></td>
        <td id="LC1371" class="blob-code js-file-line">       &quot;rl9XpWn/Vt7h/aWT7yU88MMHkjoGgOxjZp94ACCUF3WzSUvn8bTl52x2cQ8KABJ0voVH6HiKDwAQ\n&quot;,</td>
      </tr>
      <tr>
        <td id="L1372" class="blob-num js-line-number" data-line-number="1372"></td>
        <td id="LC1372" class="blob-code js-file-line">       &quot;JAIKABAkAgoAECQCCgAQJAIKABAkAgoAECQeMweAVqS7Kx+cGwEFAC1IZycGSAyX+AAAQSKgAABB\n&quot;,</td>
      </tr>
      <tr>
        <td id="L1373" class="blob-num js-line-number" data-line-number="1373"></td>
        <td id="LC1373" class="blob-code js-file-line">       &quot;IqAAAEEioAAAQSKgAABBIqAAAEEioAAAQSKgAABBIqAAAEEioAAAQSKgAABBIqAAAEEioAAAQSKg\n&quot;,</td>
      </tr>
      <tr>
        <td id="L1374" class="blob-num js-line-number" data-line-number="1374"></td>
        <td id="LC1374" class="blob-code js-file-line">       &quot;AABBIqAAAEEioAAAQSKgAABBIqAAAEEioAAAQSKgAABBIqAAAEEioAAAQSKgAABBIqAAAEEioAAA\n&quot;,</td>
      </tr>
      <tr>
        <td id="L1375" class="blob-num js-line-number" data-line-number="1375"></td>
        <td id="LC1375" class="blob-code js-file-line">       &quot;QSKgAABBOmdAmVk3M3vVzGrNbIeZLYst72Nmm81sl5ltMrPCzikXAJArzhlQ7n5E0gR3v0rScEkT\n&quot;,</td>
      </tr>
      <tr>
        <td id="L1376" class="blob-num js-line-number" data-line-number="1376"></td>
        <td id="LC1376" class="blob-code js-file-line">       &quot;zGyspPmSNrt7iaStsXkAAFKmzUt87v5RbLKrpC6SGiVNlVQVW14laVpaqgMA5Kw2A8rM8sysVlKD\n&quot;,</td>
      </tr>
      <tr>
        <td id="L1377" class="blob-num js-line-number" data-line-number="1377"></td>
        <td id="LC1377" class="blob-code js-file-line">       &quot;pBfd/S1JRe7eENukQVJRGmsEAOSg/LY2cPcTkq4ys16SNprZhLPWu5l5a/uvX78kPl1SEtHQoZEO\n&quot;,</td>
      </tr>
      <tr>
        <td id="L1378" class="blob-num js-line-number" data-line-number="1378"></td>
        <td id="LC1378" class="blob-code js-file-line">       &quot;FwsAyE7RaFTRaLRd+7QZUKe4e7OZvSDpK5IazKy/u79nZgMkvd/aflOmLGlXQQCA808kElEkEonP\n&quot;,</td>
      </tr>
      <tr>
        <td id="L1379" class="blob-num js-line-number" data-line-number="1379"></td>
        <td id="LC1379" class="blob-code js-file-line">       &quot;V1RUtLlPW0/x9Tv1hJ6ZXSRpoqTtkp6XVB7brFzSug5VDABAK9pqQQ2QVGVmeToZZqvdfauZbZf0\n&quot;,</td>
      </tr>
      <tr>
        <td id="L1380" class="blob-num js-line-number" data-line-number="1380"></td>
        <td id="LC1380" class="blob-code js-file-line">       &quot;rJl9W9IeSTPSWyYAINecM6Dc/Q1JX25h+d8lXZuuogAAoCcJAECQCCgAQJAIKABAkAgoAECQCCgA\n&quot;,</td>
      </tr>
      <tr>
        <td id="L1381" class="blob-num js-line-number" data-line-number="1381"></td>
        <td id="LC1381" class="blob-code js-file-line">       &quot;QJAIKABAkAgoAECQCCgAQJAIKABAkAgoAECQCCgAQJAIKABAkAgoAECQCCgAQJAIKABAkAgoAECQ\n&quot;,</td>
      </tr>
      <tr>
        <td id="L1382" class="blob-num js-line-number" data-line-number="1382"></td>
        <td id="LC1382" class="blob-code js-file-line">       &quot;CCgAQJAIKABAkAgoAECQCCgAQJAIKABAkAgoAECQCCgAQJAIKABAkAgoAECQCCgAQJAIKABAkAgo\n&quot;,</td>
      </tr>
      <tr>
        <td id="L1383" class="blob-num js-line-number" data-line-number="1383"></td>
        <td id="LC1383" class="blob-code js-file-line">       &quot;AECQCCgAQJAIKABAkAgoAECQCCgAQJAIKABAkAgoAECQCCgAQJAIKABAkAgoAECQCCgAQJAIKABA\n&quot;,</td>
      </tr>
      <tr>
        <td id="L1384" class="blob-num js-line-number" data-line-number="1384"></td>
        <td id="LC1384" class="blob-code js-file-line">       &quot;kAgoAECQCCgAQJDaDCgzu9zMXjSzt8zsTTP7Xmx5HzPbbGa7zGyTmRWmv1wAQK5IpAX1saS57v55\n&quot;,</td>
      </tr>
      <tr>
        <td id="L1385" class="blob-num js-line-number" data-line-number="1385"></td>
        <td id="LC1385" class="blob-code js-file-line">       &quot;SddIusvMrpQ0X9Jmdy+RtDU2DwBASrQZUO7+nrvXxqYPS3pb0qWSpkqqim1WJWlauooEAOSedt2D\n&quot;,</td>
      </tr>
      <tr>
        <td id="L1386" class="blob-num js-line-number" data-line-number="1386"></td>
        <td id="LC1386" class="blob-code js-file-line">       &quot;MrPBkkZIelVSkbs3xFY1SCpKaWUAgJyWn+iGZnaxpP+UNMfdPzSz+Dp3dzPzlvZbv35JfLqkJKKh\n&quot;,</td>
      </tr>
      <tr>
        <td id="L1387" class="blob-num js-line-number" data-line-number="1387"></td>
        <td id="LC1387" class="blob-code js-file-line">       &quot;QyMdrRUAkKWi0aii0Wi79kkooMzsAp0Mp9Xuvi62uMHM+rv7e2Y2QNL7Le07ZcqSdhUEADj/RCIR\n&quot;,</td>
      </tr>
      <tr>
        <td id="L1388" class="blob-num js-line-number" data-line-number="1388"></td>
        <td id="LC1388" class="blob-code js-file-line">       &quot;RSKR+HxFRUWb+yTyFJ9J+rWkHe7+yGmrnpdUHpsul7Tu7H0BAOioRFpQYyTdIul1M9seW7ZA0oOS\n&quot;,</td>
      </tr>
      <tr>
        <td id="L1389" class="blob-num js-line-number" data-line-number="1389"></td>
        <td id="LC1389" class="blob-code js-file-line">       &quot;njWzb0vaI2lGWioEAOSkNgPK3WvUekvr2tSWAwDASfQkAQAIEgEFAAgSAQUACBIBBQAIEgEFAAgS\n&quot;,</td>
      </tr>
      <tr>
        <td id="L1390" class="blob-num js-line-number" data-line-number="1390"></td>
        <td id="LC1390" class="blob-code js-file-line">       &quot;AQUACBIBBQAIEgEFAAgSAQUACBIBBQAIEgEFAAgSAQUACBIBBQAIEgEFAAgSAQUACBIBBQAIEgEF\n&quot;,</td>
      </tr>
      <tr>
        <td id="L1391" class="blob-num js-line-number" data-line-number="1391"></td>
        <td id="LC1391" class="blob-code js-file-line">       &quot;AAgSAQUACBIBBQAIEgEFAAgSAQUACBIBBQAIEgEFAAgSAQUACBIBBQAIEgEFAAgSAQUACBIBBQAI\n&quot;,</td>
      </tr>
      <tr>
        <td id="L1392" class="blob-num js-line-number" data-line-number="1392"></td>
        <td id="LC1392" class="blob-code js-file-line">       &quot;EgEFAAgSAQUACBIBBQAIEgEFAAgSAQUACBIBBQAIUn6mCzjfrVhRqaamju9fWCjNmzc7dQUBQJYg\n&quot;,</td>
      </tr>
      <tr>
        <td id="L1393" class="blob-num js-line-number" data-line-number="1393"></td>
        <td id="LC1393" class="blob-code js-file-line">       &quot;oNKsqUkqLu54wNTXV6awGgDIHlziAwAEiYACAASJgAIABImAAgAEqc2AMrPHzazBzN44bVkfM9ts\n&quot;,</td>
      </tr>
      <tr>
        <td id="L1394" class="blob-num js-line-number" data-line-number="1394"></td>
        <td id="LC1394" class="blob-code js-file-line">       &quot;ZrvMbJOZFaa3TABArkmkBbVKUtlZy+ZL2uzuJZK2xuYBAEiZNgPK3aslNZ61eKqkqth0laRpKa4L\n&quot;,</td>
      </tr>
      <tr>
        <td id="L1395" class="blob-num js-line-number" data-line-number="1395"></td>
        <td id="LC1395" class="blob-code js-file-line">       &quot;AJDjOvoeVJG7N8SmGyQVpagenOXtVzaqcmF9cgcpLNTsefNSUxAAdJKkX9R1dzczT0Ux+KQLj/xD\n&quot;,</td>
      </tr>
      <tr>
        <td id="L1396" class="blob-num js-line-number" data-line-number="1396"></td>
        <td id="LC1396" class="blob-code js-file-line">       &quot;s4uLkzpGZX2SAQcAGdDRgGows/7u/p6ZDZD0fmsbrl+/JD5dUhLR0KGRDv5IAEC2ikajikaj7dqn\n&quot;,</td>
      </tr>
      <tr>
        <td id="L1397" class="blob-num js-line-number" data-line-number="1397"></td>
        <td id="LC1397" class="blob-code js-file-line">       &quot;owH1vKRySctj39e1tuGUKUs6+CMAAOeLSCSiSCQSn6+oqGhzn0QeM39K0u8lDTWzfWb2z5IelDTR\n&quot;,</td>
      </tr>
      <tr>
        <td id="L1398" class="blob-num js-line-number" data-line-number="1398"></td>
        <td id="LC1398" class="blob-code js-file-line">       &quot;zHZJ+npsHgCAlGmzBeXus1pZdW2KawEAII6eJAAAQSKgAABBYjyoHLBx+yuqf2hhh/cv7Faoed/j\n&quot;,</td>
      </tr>
      <tr>
        <td id="L1399" class="blob-num js-line-number" data-line-number="1399"></td>
        <td id="LC1399" class="blob-code js-file-line">       &quot;PSoAnYuAygH/0BEVf6Pj71LVb+U9KgCdj0t8AIAgEVAAgCARUACAIHEPCp1ixYpKNTV1fP/CQmne\n&quot;,</td>
      </tr>
      <tr>
        <td id="L1400" class="blob-num js-line-number" data-line-number="1400"></td>
        <td id="LC1400" class="blob-code js-file-line">       &quot;vNmpKwhA8AgodIqmJqm4uOMBU19fmcJqAGQDAgpZIelhRxhyBMg6BBSyQrLDjjDkCJB9eEgCABAk\n&quot;,</td>
      </tr>
      <tr>
        <td id="L1401" class="blob-num js-line-number" data-line-number="1401"></td>
        <td id="LC1401" class="blob-code js-file-line">       &quot;AgoAECQCCgAQJAIKABAkAgoAECQCCgAQJB4zR05IdsgRKflhR5LtTeMvtRsVuepzHT+AxPtgyCoE\n&quot;,</td>
      </tr>
      <tr>
        <td id="L1402" class="blob-num js-line-number" data-line-number="1402"></td>
        <td id="LC1402" class="blob-code js-file-line">       &quot;FHJCskOOSMkPO5JsbxrvRNcl9S6YxPtgyC4EFJBDGLwS2YSAAnIIg1cim/CQBAAgSAQUACBIBBQA\n&quot;,</td>
      </tr>
      <tr>
        <td id="L1403" class="blob-num js-line-number" data-line-number="1403"></td>
        <td id="LC1403" class="blob-code js-file-line">       &quot;IEgEFAAgSAQUACBIBBQAIEg8Zg4gq1SuWKGkuuSgN42sQUAB6DTJdvckSftfeVGrbpzW4f3pTSN7\n&quot;,</td>
      </tr>
      <tr>
        <td id="L1404" class="blob-num js-line-number" data-line-number="1404"></td>
        <td id="LC1404" class="blob-code js-file-line">       &quot;EFAAOk2y3T1JJ7t8Qm4goADkFLp7yh4EFICccj5095Qr9+EIKADoZMnei8uV+3AEFAB0slQMvZIL\n&quot;,</td>
      </tr>
      <tr>
        <td id="L1405" class="blob-num js-line-number" data-line-number="1405"></td>
        <td id="LC1405" class="blob-code js-file-line">       &quot;eA8KABAkWlAAkGNCGGE6EQQUAOSYEEaYTgSX+AAAQSKgAABBIqAAAEEioAAAQUoqoMyszMz+ZGb/\n&quot;,</td>
      </tr>
      <tr>
        <td id="L1406" class="blob-num js-line-number" data-line-number="1406"></td>
        <td id="LC1406" class="blob-code js-file-line">       &quot;Y2b/mqqiAADocECZWRdJP5NUJmmYpFlmdmWqCjtf1NfvzHQJQeA8cA4kzsEpnIfEJNOCulrSn919\n&quot;,</td>
      </tr>
      <tr>
        <td id="L1407" class="blob-num js-line-number" data-line-number="1407"></td>
        <td id="LC1407" class="blob-code js-file-line">       &quot;j7t/LOlpSd9MTVnnj/r6XZkuIQicB86BxDk4hfOQmGQC6lJJ+06b/2tsGQAASUsmoDxlVQAAcBZz\n&quot;,</td>
      </tr>
      <tr>
        <td id="L1408" class="blob-num js-line-number" data-line-number="1408"></td>
        <td id="LC1408" class="blob-code js-file-line">       &quot;71jOmNk1kpa4e1lsfoGkE+6+/LRtCDEAQIvc3c61PpmAype0U9I3JO2X9JqkWe7+docOCADAaTrc\n&quot;,</td>
      </tr>
      <tr>
        <td id="L1409" class="blob-num js-line-number" data-line-number="1409"></td>
        <td id="LC1409" class="blob-code js-file-line">       &quot;F5+7Hzez70raKKmLpF8TTgCAVOlwCwoAgHRKS08SvMArmdnjZtZgZm9kupZMMbPLzexFM3vLzN40\n&quot;,</td>
      </tr>
      <tr>
        <td id="L1410" class="blob-num js-line-number" data-line-number="1410"></td>
        <td id="LC1410" class="blob-code js-file-line">       &quot;s+9luqZMMLNuZvaqmdWa2Q4zW5bpmjLFzLqY2XYzW5/pWjLBzPaY2euxc/BapuvJFDMrNLPfmNnb\n&quot;,</td>
      </tr>
      <tr>
        <td id="L1411" class="blob-num js-line-number" data-line-number="1411"></td>
        <td id="LC1411" class="blob-code js-file-line">       &quot;sd+Ja1rcLtUtqNgLvDslXSvpXUn/pRy8N2VmpZIOS/oPd/9ipuvJBDPrL6m/u9ea2cWS/ihpWq79\n&quot;,</td>
      </tr>
      <tr>
        <td id="L1412" class="blob-num js-line-number" data-line-number="1412"></td>
        <td id="LC1412" class="blob-code js-file-line">       &quot;W5AkM+vu7h/F7t3WSLrH3WsyXVdnM7O7JX1FUoG7T810PZ3NzP4i6Svu/vdM15JJZlYl6SV3fzz2\n&quot;,</td>
      </tr>
      <tr>
        <td id="L1413" class="blob-num js-line-number" data-line-number="1413"></td>
        <td id="LC1413" class="blob-code js-file-line">       &quot;O9HD3ZvP3i4dLShe4JXk7tWSGjNdRya5+3vuXhubPizpbUkDM1tVZrj7R7HJrjp5zzbn/kCZ2WWS\n&quot;,</td>
      </tr>
      <tr>
        <td id="L1414" class="blob-num js-line-number" data-line-number="1414"></td>
        <td id="LC1414" class="blob-code js-file-line">       &quot;rpf0K0nnfHrrPJfLn11m1ktSqbs/Lp18nqGlcJLSE1C8wItPMLPBkkZIejWzlWSGmeWZWa2kBkkv\n&quot;,</td>
      </tr>
      <tr>
        <td id="L1415" class="blob-num js-line-number" data-line-number="1415"></td>
        <td id="LC1415" class="blob-code js-file-line">       &quot;uvuOTNeUAQ9LmifpRKYLySCXtMXMtpnZnZkuJkM+LekDM1tlZv9tZr80s+4tbZiOgOKpC5whdnnv\n&quot;,</td>
      </tr>
      <tr>
        <td id="L1416" class="blob-num js-line-number" data-line-number="1416"></td>
        <td id="LC1416" class="blob-code js-file-line">       &quot;N5LmxFpSOcfdT7j7VZIukzTOzCIZLqlTmdkNkt539+3K7RbEGHcfIemfJN0VuxWQa/IlfVnSz939\n&quot;,</td>
      </tr>
      <tr>
        <td id="L1417" class="blob-num js-line-number" data-line-number="1417"></td>
        <td id="LC1417" class="blob-code js-file-line">       &quot;y5L+V9L8ljZMR0C9K+ny0+Yv18lWFHKQmV0g6T8lPeHu6zJdT6bFLmW8IGlkpmvpZF+TNDV2D+Yp\n&quot;,</td>
      </tr>
      <tr>
        <td id="L1418" class="blob-num js-line-number" data-line-number="1418"></td>
        <td id="LC1418" class="blob-code js-file-line">       &quot;SV83s//IcE2dzt0PxL5/IGmtTt4SyTV/lfRXd/+v2PxvdDKwPiEdAbVN0hVmNtjMukq6UdLzafg5\n&quot;,</td>
      </tr>
      <tr>
        <td id="L1419" class="blob-num js-line-number" data-line-number="1419"></td>
        <td id="LC1419" class="blob-code js-file-line">       &quot;CJyZmaRfS9rh7o9kup5MMbN+ZlYYm75I0kRJ2zNbVedy93vd/XJ3/7SkmZJ+5+63ZbquzmRm3c2s\n&quot;,</td>
      </tr>
      <tr>
        <td id="L1420" class="blob-num js-line-number" data-line-number="1420"></td>
        <td id="LC1420" class="blob-code js-file-line">       &quot;IDbdQ9IkSTn3lK+7vydpn5mVxBZdK+mtlrbt8Iu65/jhvMArycyekjReUl8z2yfpR+6+KsNldbYx\n&quot;,</td>
      </tr>
      <tr>
        <td id="L1421" class="blob-num js-line-number" data-line-number="1421"></td>
        <td id="LC1421" class="blob-code js-file-line">       &quot;km6R9LqZnfqDvMDdN2SwpkwYIKnKzPJ08j+Fq919a4ZryrRcvBVQJGntyf+3KV/SGnfflNmSMuZf\n&quot;,</td>
      </tr>
      <tr>
        <td id="L1422" class="blob-num js-line-number" data-line-number="1422"></td>
        <td id="LC1422" class="blob-code js-file-line">       &quot;JK2JNWJ2S/rnljbiRV0AQJAY8h0AECQCCgAQJAIKABAkAgoAECQCCgAQJAIKABAkAgoAECQCCgAQ\n&quot;,</td>
      </tr>
      <tr>
        <td id="L1423" class="blob-num js-line-number" data-line-number="1423"></td>
        <td id="LC1423" class="blob-code js-file-line">       &quot;pP8Hvzw5JK1FC8gAAAAASUVORK5CYII=\n&quot;</td>
      </tr>
      <tr>
        <td id="L1424" class="blob-num js-line-number" data-line-number="1424"></td>
        <td id="LC1424" class="blob-code js-file-line">      ],</td>
      </tr>
      <tr>
        <td id="L1425" class="blob-num js-line-number" data-line-number="1425"></td>
        <td id="LC1425" class="blob-code js-file-line">      &quot;text/plain&quot;: [</td>
      </tr>
      <tr>
        <td id="L1426" class="blob-num js-line-number" data-line-number="1426"></td>
        <td id="LC1426" class="blob-code js-file-line">       &quot;&lt;matplotlib.figure.Figure at 0x132640f0&gt;&quot;</td>
      </tr>
      <tr>
        <td id="L1427" class="blob-num js-line-number" data-line-number="1427"></td>
        <td id="LC1427" class="blob-code js-file-line">      ]</td>
      </tr>
      <tr>
        <td id="L1428" class="blob-num js-line-number" data-line-number="1428"></td>
        <td id="LC1428" class="blob-code js-file-line">     },</td>
      </tr>
      <tr>
        <td id="L1429" class="blob-num js-line-number" data-line-number="1429"></td>
        <td id="LC1429" class="blob-code js-file-line">     &quot;metadata&quot;: {},</td>
      </tr>
      <tr>
        <td id="L1430" class="blob-num js-line-number" data-line-number="1430"></td>
        <td id="LC1430" class="blob-code js-file-line">     &quot;output_type&quot;: &quot;display_data&quot;</td>
      </tr>
      <tr>
        <td id="L1431" class="blob-num js-line-number" data-line-number="1431"></td>
        <td id="LC1431" class="blob-code js-file-line">    }</td>
      </tr>
      <tr>
        <td id="L1432" class="blob-num js-line-number" data-line-number="1432"></td>
        <td id="LC1432" class="blob-code js-file-line">   ],</td>
      </tr>
      <tr>
        <td id="L1433" class="blob-num js-line-number" data-line-number="1433"></td>
        <td id="LC1433" class="blob-code js-file-line">   &quot;source&quot;: [</td>
      </tr>
      <tr>
        <td id="L1434" class="blob-num js-line-number" data-line-number="1434"></td>
        <td id="LC1434" class="blob-code js-file-line">    &quot;fig, ax = plt.subplots()\n&quot;,</td>
      </tr>
      <tr>
        <td id="L1435" class="blob-num js-line-number" data-line-number="1435"></td>
        <td id="LC1435" class="blob-code js-file-line">    &quot;\n&quot;,</td>
      </tr>
      <tr>
        <td id="L1436" class="blob-num js-line-number" data-line-number="1436"></td>
        <td id="LC1436" class="blob-code js-file-line">    &quot;index = np.arange(6)\n&quot;,</td>
      </tr>
      <tr>
        <td id="L1437" class="blob-num js-line-number" data-line-number="1437"></td>
        <td id="LC1437" class="blob-code js-file-line">    &quot;bar_width = 0.25\n&quot;,</td>
      </tr>
      <tr>
        <td id="L1438" class="blob-num js-line-number" data-line-number="1438"></td>
        <td id="LC1438" class="blob-code js-file-line">    &quot;\n&quot;,</td>
      </tr>
      <tr>
        <td id="L1439" class="blob-num js-line-number" data-line-number="1439"></td>
        <td id="LC1439" class="blob-code js-file-line">    &quot;opacity = 0.4\n&quot;,</td>
      </tr>
      <tr>
        <td id="L1440" class="blob-num js-line-number" data-line-number="1440"></td>
        <td id="LC1440" class="blob-code js-file-line">    &quot;error_config = {&#39;ecolor&#39;: &#39;0.3&#39;}\n&quot;,</td>
      </tr>
      <tr>
        <td id="L1441" class="blob-num js-line-number" data-line-number="1441"></td>
        <td id="LC1441" class="blob-code js-file-line">    &quot;\n&quot;,</td>
      </tr>
      <tr>
        <td id="L1442" class="blob-num js-line-number" data-line-number="1442"></td>
        <td id="LC1442" class="blob-code js-file-line">    &quot;rects1 = plt.bar(index, np.array(LaborSextiles[0,:]), bar_width,\n&quot;,</td>
      </tr>
      <tr>
        <td id="L1443" class="blob-num js-line-number" data-line-number="1443"></td>
        <td id="LC1443" class="blob-code js-file-line">    &quot;                 alpha=opacity,\n&quot;,</td>
      </tr>
      <tr>
        <td id="L1444" class="blob-num js-line-number" data-line-number="1444"></td>
        <td id="LC1444" class="blob-code js-file-line">    &quot;                 color=&#39;b&#39;,\n&quot;,</td>
      </tr>
      <tr>
        <td id="L1445" class="blob-num js-line-number" data-line-number="1445"></td>
        <td id="LC1445" class="blob-code js-file-line">    &quot;                 label=&#39;Corn&#39;)\n&quot;,</td>
      </tr>
      <tr>
        <td id="L1446" class="blob-num js-line-number" data-line-number="1446"></td>
        <td id="LC1446" class="blob-code js-file-line">    &quot;\n&quot;,</td>
      </tr>
      <tr>
        <td id="L1447" class="blob-num js-line-number" data-line-number="1447"></td>
        <td id="LC1447" class="blob-code js-file-line">    &quot;rects2 = plt.bar(index + bar_width, np.array(LaborSextiles[1,:]), bar_width,\n&quot;,</td>
      </tr>
      <tr>
        <td id="L1448" class="blob-num js-line-number" data-line-number="1448"></td>
        <td id="LC1448" class="blob-code js-file-line">    &quot;                 alpha=opacity,\n&quot;,</td>
      </tr>
      <tr>
        <td id="L1449" class="blob-num js-line-number" data-line-number="1449"></td>
        <td id="LC1449" class="blob-code js-file-line">    &quot;                 color=&#39;r&#39;,\n&quot;,</td>
      </tr>
      <tr>
        <td id="L1450" class="blob-num js-line-number" data-line-number="1450"></td>
        <td id="LC1450" class="blob-code js-file-line">    &quot;                 label=&#39;Soy&#39;)\n&quot;,</td>
      </tr>
      <tr>
        <td id="L1451" class="blob-num js-line-number" data-line-number="1451"></td>
        <td id="LC1451" class="blob-code js-file-line">    &quot;\n&quot;,</td>
      </tr>
      <tr>
        <td id="L1452" class="blob-num js-line-number" data-line-number="1452"></td>
        <td id="LC1452" class="blob-code js-file-line">    &quot;rects3 = plt.bar(index + bar_width*2, np.array(LaborSextiles[2,:]), bar_width,\n&quot;,</td>
      </tr>
      <tr>
        <td id="L1453" class="blob-num js-line-number" data-line-number="1453"></td>
        <td id="LC1453" class="blob-code js-file-line">    &quot;                 alpha=opacity,\n&quot;,</td>
      </tr>
      <tr>
        <td id="L1454" class="blob-num js-line-number" data-line-number="1454"></td>
        <td id="LC1454" class="blob-code js-file-line">    &quot;                 color=&#39;g&#39;,\n&quot;,</td>
      </tr>
      <tr>
        <td id="L1455" class="blob-num js-line-number" data-line-number="1455"></td>
        <td id="LC1455" class="blob-code js-file-line">    &quot;                 label=&#39;Wheat&#39;)\n&quot;,</td>
      </tr>
      <tr>
        <td id="L1456" class="blob-num js-line-number" data-line-number="1456"></td>
        <td id="LC1456" class="blob-code js-file-line">    &quot;\n&quot;,</td>
      </tr>
      <tr>
        <td id="L1457" class="blob-num js-line-number" data-line-number="1457"></td>
        <td id="LC1457" class="blob-code js-file-line">    &quot;plt.tight_layout()\n&quot;,</td>
      </tr>
      <tr>
        <td id="L1458" class="blob-num js-line-number" data-line-number="1458"></td>
        <td id="LC1458" class="blob-code js-file-line">    &quot;plt.legend()\n&quot;,</td>
      </tr>
      <tr>
        <td id="L1459" class="blob-num js-line-number" data-line-number="1459"></td>
        <td id="LC1459" class="blob-code js-file-line">    &quot;plt.show()&quot;</td>
      </tr>
      <tr>
        <td id="L1460" class="blob-num js-line-number" data-line-number="1460"></td>
        <td id="LC1460" class="blob-code js-file-line">   ]</td>
      </tr>
      <tr>
        <td id="L1461" class="blob-num js-line-number" data-line-number="1461"></td>
        <td id="LC1461" class="blob-code js-file-line">  },</td>
      </tr>
      <tr>
        <td id="L1462" class="blob-num js-line-number" data-line-number="1462"></td>
        <td id="LC1462" class="blob-code js-file-line">  {</td>
      </tr>
      <tr>
        <td id="L1463" class="blob-num js-line-number" data-line-number="1463"></td>
        <td id="LC1463" class="blob-code js-file-line">   &quot;cell_type&quot;: &quot;markdown&quot;,</td>
      </tr>
      <tr>
        <td id="L1464" class="blob-num js-line-number" data-line-number="1464"></td>
        <td id="LC1464" class="blob-code js-file-line">   &quot;metadata&quot;: {},</td>
      </tr>
      <tr>
        <td id="L1465" class="blob-num js-line-number" data-line-number="1465"></td>
        <td id="LC1465" class="blob-code js-file-line">   &quot;source&quot;: [</td>
      </tr>
      <tr>
        <td id="L1466" class="blob-num js-line-number" data-line-number="1466"></td>
        <td id="LC1466" class="blob-code js-file-line">    &quot;The above shows how the skill distribution fades as we move along. Note the close similarity across each crop. Next, let&#39;s try capital:&quot;</td>
      </tr>
      <tr>
        <td id="L1467" class="blob-num js-line-number" data-line-number="1467"></td>
        <td id="LC1467" class="blob-code js-file-line">   ]</td>
      </tr>
      <tr>
        <td id="L1468" class="blob-num js-line-number" data-line-number="1468"></td>
        <td id="LC1468" class="blob-code js-file-line">  },</td>
      </tr>
      <tr>
        <td id="L1469" class="blob-num js-line-number" data-line-number="1469"></td>
        <td id="LC1469" class="blob-code js-file-line">  {</td>
      </tr>
      <tr>
        <td id="L1470" class="blob-num js-line-number" data-line-number="1470"></td>
        <td id="LC1470" class="blob-code js-file-line">   &quot;cell_type&quot;: &quot;code&quot;,</td>
      </tr>
      <tr>
        <td id="L1471" class="blob-num js-line-number" data-line-number="1471"></td>
        <td id="LC1471" class="blob-code js-file-line">   &quot;execution_count&quot;: 18,</td>
      </tr>
      <tr>
        <td id="L1472" class="blob-num js-line-number" data-line-number="1472"></td>
        <td id="LC1472" class="blob-code js-file-line">   &quot;metadata&quot;: {</td>
      </tr>
      <tr>
        <td id="L1473" class="blob-num js-line-number" data-line-number="1473"></td>
        <td id="LC1473" class="blob-code js-file-line">    &quot;collapsed&quot;: false</td>
      </tr>
      <tr>
        <td id="L1474" class="blob-num js-line-number" data-line-number="1474"></td>
        <td id="LC1474" class="blob-code js-file-line">   },</td>
      </tr>
      <tr>
        <td id="L1475" class="blob-num js-line-number" data-line-number="1475"></td>
        <td id="LC1475" class="blob-code js-file-line">   &quot;outputs&quot;: [</td>
      </tr>
      <tr>
        <td id="L1476" class="blob-num js-line-number" data-line-number="1476"></td>
        <td id="LC1476" class="blob-code js-file-line">    {</td>
      </tr>
      <tr>
        <td id="L1477" class="blob-num js-line-number" data-line-number="1477"></td>
        <td id="LC1477" class="blob-code js-file-line">     &quot;data&quot;: {</td>
      </tr>
      <tr>
        <td id="L1478" class="blob-num js-line-number" data-line-number="1478"></td>
        <td id="LC1478" class="blob-code js-file-line">      &quot;image/png&quot;: [</td>
      </tr>
      <tr>
        <td id="L1479" class="blob-num js-line-number" data-line-number="1479"></td>
        <td id="LC1479" class="blob-code js-file-line">       &quot;iVBORw0KGgoAAAANSUhEUgAAAagAAAEaCAYAAABEsMO+AAAABHNCSVQICAgIfAhkiAAAAAlwSFlz\n&quot;,</td>
      </tr>
      <tr>
        <td id="L1480" class="blob-num js-line-number" data-line-number="1480"></td>
        <td id="LC1480" class="blob-code js-file-line">       &quot;AAALEgAACxIB0t1+/AAAHetJREFUeJzt3X2UVlX99/H3Z0AECh2U4llwFVAULU2SvOXh8lfalKG0\n&quot;,</td>
      </tr>
      <tr>
        <td id="L1481" class="blob-num js-line-number" data-line-number="1481"></td>
        <td id="LC1481" class="blob-code js-file-line">       &quot;7hVCqXTnylpUmhYlkQL+EEJqKitNKhVJSaqlwsowta6CVTk/vQHJUXwKlOFBLR7k9ofCz+/9xxym\n&quot;,</td>
      </tr>
      <tr>
        <td id="L1482" class="blob-num js-line-number" data-line-number="1482"></td>
        <td id="LC1482" class="blob-code js-file-line">       &quot;Cxxmhnm69sz1ea01i3P2Ofu69gbXfNz7nLOPIgIzM7PUlBW7AWZmZvVxQJmZWZIcUGZmliQHlJmZ\n&quot;,</td>
      </tr>
      <tr>
        <td id="L1483" class="blob-num js-line-number" data-line-number="1483"></td>
        <td id="LC1483" class="blob-code js-file-line">       &quot;JckBZWZmSXJAmZlZkhoMKEndJT0saZ2kakkLsvI5krZIWpv9fLSgzkxJT0t6UtI5BeWnSdqQHftB\n&quot;,</td>
      </tr>
      <tr>
        <td id="L1484" class="blob-num js-line-number" data-line-number="1484"></td>
        <td id="LC1484" class="blob-code js-file-line">       &quot;23XJzMw6AzX2HJSknhHxqqSuwBrga8CHgFciovKwc0cCdwIfAAYCDwLDIiIkVQFfiogqSfcBN0TE\n&quot;,</td>
      </tr>
      <tr>
        <td id="L1485" class="blob-num js-line-number" data-line-number="1485"></td>
        <td id="LC1485" class="blob-code js-file-line">       &quot;qtbvkpmZdQaNTvFFxKvZZjegC7Az21c9p58PLIuI/RGxCXgGGCOpP9ArIqqy824HJrWk4WZm1rk1\n&quot;,</td>
      </tr>
      <tr>
        <td id="L1486" class="blob-num js-line-number" data-line-number="1486"></td>
        <td id="LC1486" class="blob-code js-file-line">       &quot;GlCSyiStA3YAf4yIx7NDX5a0XtLPJZVnZQOALQXVt1A7kjq8vCYrNzMzq1dTRlBvRMQpwCBgvKQc\n&quot;,</td>
      </tr>
      <tr>
        <td id="L1487" class="blob-num js-line-number" data-line-number="1487"></td>
        <td id="LC1487" class="blob-code js-file-line">       &quot;cBNwMnAKsA34bls20szMSk/Xpp4YEbsl/RYYHRH5g+WSfgaszHZrgMEF1QZRO3KqybYLy2sO/w5J\n&quot;,</td>
      </tr>
      <tr>
        <td id="L1488" class="blob-num js-line-number" data-line-number="1488"></td>
        <td id="LC1488" class="blob-code js-file-line">       &quot;XhjQzKxERER9l4rqNHYXX5+D03eSegBnA2sl9Ss47RPAhmx7BTBFUjdJJwPDgKqI2A7skTRGkoCL\n&quot;,</td>
      </tr>
      <tr>
        <td id="L1489" class="blob-num js-line-number" data-line-number="1489"></td>
        <td id="LC1489" class="blob-code js-file-line">       &quot;gHuO0OCS/Zk9e3bR2+C+u+/uu/vfHj9N0dgIqj+wRFIZtWG2NCIeknS7pFOAAP4BfD4Ll2pJy4Fq\n&quot;,</td>
      </tr>
      <tr>
        <td id="L1490" class="blob-num js-line-number" data-line-number="1490"></td>
        <td id="LC1490" class="blob-code js-file-line">       &quot;4AAwPf7dkunAbUAP4L7wHXxmZtaABgMqIjYA76+n/OIG6swH5tdT/igwqhltNDOzEuSVJBKSy+WK\n&quot;,</td>
      </tr>
      <tr>
        <td id="L1491" class="blob-num js-line-number" data-line-number="1491"></td>
        <td id="LC1491" class="blob-code js-file-line">       &quot;3YSicd9LUyn3Hdz/xjT6oG57khQptcfMzNqGJKKRmySafBefmVkpqb2fy1pDcwceDigzsyPwjE7L\n&quot;,</td>
      </tr>
      <tr>
        <td id="L1492" class="blob-num js-line-number" data-line-number="1492"></td>
        <td id="LC1492" class="blob-code js-file-line">       &quot;tSTofQ3KzMyS5IAyM7MkOaDMzCxJDigzM0uSb5IosOiGRezat6vZ9cu7lzPjshmt2CIzS8miRYvZ\n&quot;,</td>
      </tr>
      <tr>
        <td id="L1493" class="blob-num js-line-number" data-line-number="1493"></td>
        <td id="LC1493" class="blob-code js-file-line">       &quot;1fxfEY0qL4cZMy5t8vl33nknlZWVbNy4kV69enHKKacwa9YszjzzzLZrZDtyQBXYtW8XQz40pNn1\n&quot;,</td>
      </tr>
      <tr>
        <td id="L1494" class="blob-num js-line-number" data-line-number="1494"></td>
        <td id="LC1494" class="blob-code js-file-line">       &quot;Nz+0uRVbY2ap2bULhgxpeoAcrc2bFzf53MrKShYuXMjNN9/MRz7yEbp168aqVatYsWLFUQXUgQMH\n&quot;,</td>
      </tr>
      <tr>
        <td id="L1495" class="blob-num js-line-number" data-line-number="1495"></td>
        <td id="LC1495" class="blob-code js-file-line">       &quot;6No1zSjwFJ+ZWQeze/duZs+ezY033sikSZPo0aMHXbp04dxzz2XhwoW89tprfOUrX2HgwIEMHDiQ\n&quot;,</td>
      </tr>
      <tr>
        <td id="L1496" class="blob-num js-line-number" data-line-number="1496"></td>
        <td id="LC1496" class="blob-code js-file-line">       &quot;K664gtdffx2AfD7PoEGDuP766+nfvz+f/exnmTt3LpMnT2batGkcd9xxvPe97+XRRx8tci8dUGZm\n&quot;,</td>
      </tr>
      <tr>
        <td id="L1497" class="blob-num js-line-number" data-line-number="1497"></td>
        <td id="LC1497" class="blob-code js-file-line">       &quot;Hc5f//pX9u3bxyc+8Yl6j1933XVUVVWxfv161q9fT1VVFfPmzas7vmPHDnbu3Mnzzz/P4sWLiQhW\n&quot;,</td>
      </tr>
      <tr>
        <td id="L1498" class="blob-num js-line-number" data-line-number="1498"></td>
        <td id="LC1498" class="blob-code js-file-line">       &quot;rlzJ1KlT2b17N+eddx5f+tKX2qs7R+SAMjPrYP75z3/Sp08fysrq/xV+5513cs0119CnTx/69OnD\n&quot;,</td>
      </tr>
      <tr>
        <td id="L1499" class="blob-num js-line-number" data-line-number="1499"></td>
        <td id="LC1499" class="blob-code js-file-line">       &quot;7NmzWbp0ad3xsrIy5s6dyzHHHEP37t0BGDduHBUVFUjiwgsvZP369e3Sl4Y4oMzMOpgTTzyRl19+\n&quot;,</td>
      </tr>
      <tr>
        <td id="L1500" class="blob-num js-line-number" data-line-number="1500"></td>
        <td id="LC1500" class="blob-code js-file-line">       &quot;mTfeeKPe41u3bmXIkH9fTz/ppJPYunVr3f7b3vY2unXrdkidvn371m337NmTffv2HfHz24sDysys\n&quot;,</td>
      </tr>
      <tr>
        <td id="L1501" class="blob-num js-line-number" data-line-number="1501"></td>
        <td id="LC1501" class="blob-code js-file-line">       &quot;gznjjDM49thjufvuu+s9PmDAADZt2lS3//zzzzNgwIC6/cOXH0p13cE0b90wM7MjOv7447n22mv5\n&quot;,</td>
      </tr>
      <tr>
        <td id="L1502" class="blob-num js-line-number" data-line-number="1502"></td>
        <td id="LC1502" class="blob-code js-file-line">       &quot;4he/SNeuXTn77LM55phjePDBB8nn80ydOpV58+bxgQ98AIBrr72Wiy666Iifl+qagw4oM7MO6Mor\n&quot;,</td>
      </tr>
      <tr>
        <td id="L1503" class="blob-num js-line-number" data-line-number="1503"></td>
        <td id="LC1503" class="blob-code js-file-line">       &quot;r6Rfv37MmzePT3/60/Tq1YvRo0cza9YsTj31VPbs2cP73vc+ACZPnsy3vvWturr1jaBSHFX5fVAF\n&quot;,</td>
      </tr>
      <tr>
        <td id="L1504" class="blob-num js-line-number" data-line-number="1504"></td>
        <td id="LC1504" class="blob-code js-file-line">       &quot;Zl0/q8XPQV339etasUVmVizZ+4oOKUvtQd2OoL6/x4Jyvw/KzKw1dLbwSJ1vkjAzsyQ5oMzMLEkO\n&quot;,</td>
      </tr>
      <tr>
        <td id="L1505" class="blob-num js-line-number" data-line-number="1505"></td>
        <td id="LC1505" class="blob-code js-file-line">       &quot;KDMzS5IDyszMkuSAMjOzJDmgzMwsSQ4oMzNLkgPKzMyS1OCDupK6A38CjgW6AfdGxExJJwB3AUOA\n&quot;,</td>
      </tr>
      <tr>
        <td id="L1506" class="blob-num js-line-number" data-line-number="1506"></td>
        <td id="LC1506" class="blob-code js-file-line">       &quot;TcDkiNiV1ZkJfBb4H+CyiPh9Vn4acBvQHbgvIi5viw6ZmbWVxYsW0dZLSVw6Y0aTTl2zZg1f//rX\n&quot;,</td>
      </tr>
      <tr>
        <td id="L1507" class="blob-num js-line-number" data-line-number="1507"></td>
        <td id="LC1507" class="blob-code js-file-line">       &quot;qa6upkuXLrz73e/m+9//PqNHj2679rWzBgMqIvZJOisiXpXUFVgjaSxwHvBARFwv6RvAVcBVkkYC\n&quot;,</td>
      </tr>
      <tr>
        <td id="L1508" class="blob-num js-line-number" data-line-number="1508"></td>
        <td id="LC1508" class="blob-code js-file-line">       &quot;FwAjgYHAg5KGZesX3QRcEhFVku6TVBERq9q0d2ZmrWnXLi4d0vzl0BqzePPmJp23Z88ePv7xj3Pz\n&quot;,</td>
      </tr>
      <tr>
        <td id="L1509" class="blob-num js-line-number" data-line-number="1509"></td>
        <td id="LC1509" class="blob-code js-file-line">       &quot;zTczefJkXnvtNVavXs2xxx7bZm0rhkan+CLi1WyzG9AF2EltQC3JypcAk7Lt84FlEbE/IjYBzwBj\n&quot;,</td>
      </tr>
      <tr>
        <td id="L1510" class="blob-num js-line-number" data-line-number="1510"></td>
        <td id="LC1510" class="blob-code js-file-line">       &quot;JPUHekVEVXbe7QV1zMzsKDz11FNI4oILLkAS3bt35+yzz2bUqFFEBPPmzWPo0KH07duXadOmsWfP\n&quot;,</td>
      </tr>
      <tr>
        <td id="L1511" class="blob-num js-line-number" data-line-number="1511"></td>
        <td id="LC1511" class="blob-code js-file-line">       &quot;HgDOPfdcfvSjHx3yWe973/u49957i9GNRjUaUJLKJK0DdgB/jIjHgb4RsSM7ZQdw8E1XA4AtBdW3\n&quot;,</td>
      </tr>
      <tr>
        <td id="L1512" class="blob-num js-line-number" data-line-number="1512"></td>
        <td id="LC1512" class="blob-code js-file-line">       &quot;UDuSOry8Jis3M7OjNGLECLp06cJnPvMZVq1axc6dO+uO3XrrrSxZsoR8Ps9zzz3H3r17617f/pnP\n&quot;,</td>
      </tr>
      <tr>
        <td id="L1513" class="blob-num js-line-number" data-line-number="1513"></td>
        <td id="LC1513" class="blob-code js-file-line">       &quot;fIZf/OIXdeeuX7+erVu3cu6557Z7H5qi0cViI+IN4BRJxwP3SzrrsOMhqdWWIJ8zZ07ddi6XI5fL\n&quot;,</td>
      </tr>
      <tr>
        <td id="L1514" class="blob-num js-line-number" data-line-number="1514"></td>
        <td id="LC1514" class="blob-code js-file-line">       &quot;tdZHm5l1Cr169WLNmjUsXLiQz33uc2zfvp2PfexjLF68mDvuuIOvfvWrDB06FIAFCxbw3ve+l9tu\n&quot;,</td>
      </tr>
      <tr>
        <td id="L1515" class="blob-num js-line-number" data-line-number="1515"></td>
        <td id="LC1515" class="blob-code js-file-line">       &quot;u42JEyfy+c9/nmeffZZ3vOMdLF26lClTptC1a9uvG57P58nn80dVp8mtiojdkn4LnAbskNQvIrZn\n&quot;,</td>
      </tr>
      <tr>
        <td id="L1516" class="blob-num js-line-number" data-line-number="1516"></td>
        <td id="LC1516" class="blob-code js-file-line">       &quot;03cvZqfVAIMLqg2iduRUk20XltfU9z2FAWVmZvV717vexa233grAxo0bufDCC7niiivYtm3bm173\n&quot;,</td>
      </tr>
      <tr>
        <td id="L1517" class="blob-num js-line-number" data-line-number="1517"></td>
        <td id="LC1517" class="blob-code js-file-line">       &quot;fuDAAXbs2EH//v2ZPHkyS5cuZfbs2fzyl7/kN7/5Tbu09/ABx9y5cxut0+AUn6Q+ksqz7R7A2cBa\n&quot;,</td>
      </tr>
      <tr>
        <td id="L1518" class="blob-num js-line-number" data-line-number="1518"></td>
        <td id="LC1518" class="blob-code js-file-line">       &quot;YAUwLTttGnBPtr0CmCKpm6STgWFAVURsB/ZIGqPat2BdVFDHzMxaYMSIEUybNo2///3v9b7uvWvX\n&quot;,</td>
      </tr>
      <tr>
        <td id="L1519" class="blob-num js-line-number" data-line-number="1519"></td>
        <td id="LC1519" class="blob-code js-file-line">       &quot;rvTtW3slZtq0adxxxx08+OCD9OzZkzFjxhSp1Y1r7BpUf+AP2TWoh4GVEfEQ8G3gbElPAf+R7RMR\n&quot;,</td>
      </tr>
      <tr>
        <td id="L1520" class="blob-num js-line-number" data-line-number="1520"></td>
        <td id="LC1520" class="blob-code js-file-line">       &quot;1cByoBr4HTC94A2E04GfAU8Dz/gOPjOz5tm4cSOVlZXU1NRORL3wwgssW7aMM844g6lTp/K9732P\n&quot;,</td>
      </tr>
      <tr>
        <td id="L1521" class="blob-num js-line-number" data-line-number="1521"></td>
        <td id="LC1521" class="blob-code js-file-line">       &quot;TZs2sXfvXr75zW8yZcoUyspqf92fccYZSOJrX/saF198cTG70ajGbjPfALy/nvJ/AR8+Qp35wPx6\n&quot;,</td>
      </tr>
      <tr>
        <td id="L1522" class="blob-num js-line-number" data-line-number="1522"></td>
        <td id="LC1522" class="blob-code js-file-line">       &quot;yh8FRjWvmWZmdlCvXr14+OGHqaysZNeuXZSXlzNx4kQWLVrEW97yFrZu3cr48ePZt28fFRUV/PCH\n&quot;,</td>
      </tr>
      <tr>
        <td id="L1523" class="blob-num js-line-number" data-line-number="1523"></td>
        <td id="LC1523" class="blob-code js-file-line">       &quot;Pzyk/sUXX8w111yT7N17B/mNumZmTVVe3uRnlZr7+U0xYMAA7rrrriMev/rqq7n66quPeHzIkCGM\n&quot;,</td>
      </tr>
      <tr>
        <td id="L1524" class="blob-num js-line-number" data-line-number="1524"></td>
        <td id="LC1524" class="blob-code js-file-line">       &quot;HTu27kaKVDmgzMyaqKmrPKTs1Vdf5cc//nHdrecp81p8ZmYl4v777+ftb387/fv351Of+lSxm9Mo\n&quot;,</td>
      </tr>
      <tr>
        <td id="L1525" class="blob-num js-line-number" data-line-number="1525"></td>
        <td id="LC1525" class="blob-code js-file-line">       &quot;j6DMzErERz7yEfbu3VvsZjRZpwqoli7kuPaJvzHkQ223zpaZmTVdpwqoli7keM/afOu1xczMWsTX\n&quot;,</td>
      </tr>
      <tr>
        <td id="L1526" class="blob-num js-line-number" data-line-number="1526"></td>
        <td id="LC1526" class="blob-code js-file-line">       &quot;oMzMLEkOKDMzS5IDyszMkuSAMjPr5MrKynjuueeK3Yyj1rlukjAza0OLbljErn1t98r38u7lzLis\n&quot;,</td>
      </tr>
      <tr>
        <td id="L1527" class="blob-num js-line-number" data-line-number="1527"></td>
        <td id="LC1527" class="blob-code js-file-line">       &quot;8YeBFyxYwOrVq7nvvvvqyoYNG8awYcPeVDZv3rw2aSvUvn3i2WefZenSpW3y+Q4oM7Mm2rVvV5s+\n&quot;,</td>
      </tr>
      <tr>
        <td id="L1528" class="blob-num js-line-number" data-line-number="1528"></td>
        <td id="LC1528" class="blob-code js-file-line">       &quot;irL5oaYtozRhwgQWLlxIRCCJbdu2ceDAAdatW8cbb7xBWVkZ27Zt49lnn2X8+PFt1t625ik+M7MO\n&quot;,</td>
      </tr>
      <tr>
        <td id="L1529" class="blob-num js-line-number" data-line-number="1529"></td>
        <td id="LC1529" class="blob-code js-file-line">       &quot;ZvTo0ezfv59169YBsHr1as466yyGDx9+SNk73/lO+vfvD8ADDzzA8OHD6d2795uWObrlllsYOXIk\n&quot;,</td>
      </tr>
      <tr>
        <td id="L1530" class="blob-num js-line-number" data-line-number="1530"></td>
        <td id="LC1530" class="blob-code js-file-line">       &quot;J5xwAhUVFTz//PN1xy6//HJOOukkjj/+eEaPHs2aNWsAWLVqFQsWLOCuu+6iV69enHrqqa3eTweU\n&quot;,</td>
      </tr>
      <tr>
        <td id="L1531" class="blob-num js-line-number" data-line-number="1531"></td>
        <td id="LC1531" class="blob-code js-file-line">       &quot;mVkH061bN8aMGcOf/vQnAP785z8zbtw4xo4dy5///Oe6ssLR029/+1seeeQRHnvsMZYvX879998P\n&quot;,</td>
      </tr>
      <tr>
        <td id="L1532" class="blob-num js-line-number" data-line-number="1532"></td>
        <td id="LC1532" class="blob-code js-file-line">       &quot;wL333suCBQu4++67efnllxk3bhxTp06tq3f66aezfv16du7cyac+9Sk++clP8vrrr1NRUVH3Ko9X\n&quot;,</td>
      </tr>
      <tr>
        <td id="L1533" class="blob-num js-line-number" data-line-number="1533"></td>
        <td id="LC1533" class="blob-code js-file-line">       &quot;XnmFtWvXtno/HVBmZh3QhAkT6sJozZo1jB8/nnHjxtWVrV69mgkTJtSdf9VVV3HccccxePBgzjrr\n&quot;,</td>
      </tr>
      <tr>
        <td id="L1534" class="blob-num js-line-number" data-line-number="1534"></td>
        <td id="LC1534" class="blob-code js-file-line">       &quot;LNavXw/AT37yE2bOnMmIESMoKytj5syZrFu3jhdeeAGAT3/60/Tu3ZuysjKuvPJKXnvtNTZu3AhA\n&quot;,</td>
      </tr>
      <tr>
        <td id="L1535" class="blob-num js-line-number" data-line-number="1535"></td>
        <td id="LC1535" class="blob-code js-file-line">       &quot;RPDvV/61PgeUmVkHNH78eNasWcPOnTt56aWXeMc73sEZZ5zBX/7yF3bu3Mnjjz9+yAiqX79+dds9\n&quot;,</td>
      </tr>
      <tr>
        <td id="L1536" class="blob-num js-line-number" data-line-number="1536"></td>
        <td id="LC1536" class="blob-code js-file-line">       &quot;e/asW5Nv8+bNXH755fTu3ZvevXtz4oknAtS9DPE73/kOI0eOpLy8nN69e7N7925efvnldumjb5Iw\n&quot;,</td>
      </tr>
      <tr>
        <td id="L1537" class="blob-num js-line-number" data-line-number="1537"></td>
        <td id="LC1537" class="blob-code js-file-line">       &quot;M+uAPvjBD7J7925++tOfcuaZZwJw3HHHMWDAABYvXsyAAQMY0oSl30466SSuvvrqQ6b1Dlq9ejWL\n&quot;,</td>
      </tr>
      <tr>
        <td id="L1538" class="blob-num js-line-number" data-line-number="1538"></td>
        <td id="LC1538" class="blob-code js-file-line">       &quot;Fi3iD3/4A+95z3sAOOGEE+pGTZJasUdv5hGUmVkH1KNHD0aPHk1lZeUhI6WxY8dSWVl5yPTe4Qqn\n&quot;,</td>
      </tr>
      <tr>
        <td id="L1539" class="blob-num js-line-number" data-line-number="1539"></td>
        <td id="LC1539" class="blob-code js-file-line">       &quot;5r7whS8wf/58qqurAdi9eze/+tWvAHjllVfo2rUrffr04fXXX+faa69lz549dZ/Tr18/Nm3a1GbT\n&quot;,</td>
      </tr>
      <tr>
        <td id="L1540" class="blob-num js-line-number" data-line-number="1540"></td>
        <td id="LC1540" class="blob-code js-file-line">       &quot;fA4oM7MOasKECbz00kuMHTu2rmzcuHG8/PLLh4TW4SMdSXVlkyZN4hvf+AZTpkzh+OOPZ9SoUXU3\n&quot;,</td>
      </tr>
      <tr>
        <td id="L1541" class="blob-num js-line-number" data-line-number="1541"></td>
        <td id="LC1541" class="blob-code js-file-line">       &quot;UFRUVFBRUcHw4cMZOnQoPXr04KSTTqr7nE9+8pMAnHjiiYwePbrV+6e2vMB1tCRFS9qzeNasFq1m\n&quot;,</td>
      </tr>
      <tr>
        <td id="L1542" class="blob-num js-line-number" data-line-number="1542"></td>
        <td id="LC1542" class="blob-code js-file-line">       &quot;/rF7ljDpP6c1u/7mhzZz3deva3Z9M0uHpDeNDFJ5ULcjqe/vsaC8wTlCX4MyM2uizhYeqfMUn5mZ\n&quot;,</td>
      </tr>
      <tr>
        <td id="L1543" class="blob-num js-line-number" data-line-number="1543"></td>
        <td id="LC1543" class="blob-code js-file-line">       &quot;JckBZWZmSXJAmZlZkhxQZmaWJAeUmZklqcGAkjRY0h8lPS7p75Iuy8rnSNoiaW3289GCOjMlPS3p\n&quot;,</td>
      </tr>
      <tr>
        <td id="L1544" class="blob-num js-line-number" data-line-number="1544"></td>
        <td id="LC1544" class="blob-code js-file-line">       &quot;SUnnFJSfJmlDduwHbdclMzPrDBq7zXw/cEVErJP0VuBRSQ8AAVRGRGXhyZJGAhcAI4GBwIOShmUP\n&quot;,</td>
      </tr>
      <tr>
        <td id="L1545" class="blob-num js-line-number" data-line-number="1545"></td>
        <td id="LC1545" class="blob-code js-file-line">       &quot;N90EXBIRVZLuk1QREatavUdmZq2krZfysYY1GFARsR3Ynm3vlfQEtcEDUN+/3PnAsojYD2yS9Aww\n&quot;,</td>
      </tr>
      <tr>
        <td id="L1546" class="blob-num js-line-number" data-line-number="1546"></td>
        <td id="LC1546" class="blob-code js-file-line">       &quot;RtJmoFdEVGXn3Q5MAhxQZpaklBYxKFVNflBX0lDgVOBvwJnAlyVdDDwCfDUidgEDsuMHbaE20PZn\n&quot;,</td>
      </tr>
      <tr>
        <td id="L1547" class="blob-num js-line-number" data-line-number="1547"></td>
        <td id="LC1547" class="blob-code js-file-line">       &quot;2wfV8O+gO8SsWYub3vrDbP3b2hatJGFmZuloUkBl03u/Bi7PRlI3Addmh/8T+C5wSWs0aMiQS5td\n&quot;,</td>
      </tr>
      <tr>
        <td id="L1548" class="blob-num js-line-number" data-line-number="1548"></td>
        <td id="LC1548" class="blob-code js-file-line">       &quot;97n8Pa3RBDMzS0CjASXpGOA3wC8i4h6AiHix4PjPgJXZbg0wuKD6IGpHTjXZdmF5TX3ft3LlnLrt\n&quot;,</td>
      </tr>
      <tr>
        <td id="L1549" class="blob-num js-line-number" data-line-number="1549"></td>
        <td id="LC1549" class="blob-code js-file-line">       &quot;4cNzjBiRa7wXZmaWtHw+Tz6fP6o6DQaUaq8Q/hyojojvF5T3j4ht2e4ngA3Z9grgTkmV1E7hDQOq\n&quot;,</td>
      </tr>
      <tr>
        <td id="L1550" class="blob-num js-line-number" data-line-number="1550"></td>
        <td id="LC1550" class="blob-code js-file-line">       &quot;IiIk7ZE0BqgCLgJuqO87J06cc1QdMDOz9OVyOXK5XN3+3LlzG63T2AjqTOBC4DFJB184/01gqqRT\n&quot;,</td>
      </tr>
      <tr>
        <td id="L1551" class="blob-num js-line-number" data-line-number="1551"></td>
        <td id="LC1551" class="blob-code js-file-line">       &quot;qL2b7x/A5wEiolrScqAaOABML1iefDpwG9ADuM938JmZWUMau4tvDfU/K/W7BurMB+bXU/4oMOpo\n&quot;,</td>
      </tr>
      <tr>
        <td id="L1552" class="blob-num js-line-number" data-line-number="1552"></td>
        <td id="LC1552" class="blob-code js-file-line">       &quot;G2hmZqXJK0mYmVmSHFBmZpYkB5SZmSXJAWVmZklyQJmZWZIcUGZmliQHlJmZJckBZWZmSXJAmZlZ\n&quot;,</td>
      </tr>
      <tr>
        <td id="L1553" class="blob-num js-line-number" data-line-number="1553"></td>
        <td id="LC1553" class="blob-code js-file-line">       &quot;khxQZmaWJAeUmZklyQFlZmZJckCZmVmSHFBmZpYkB5SZmSXJAWVmZklyQJmZWZIcUGZmliQHlJmZ\n&quot;,</td>
      </tr>
      <tr>
        <td id="L1554" class="blob-num js-line-number" data-line-number="1554"></td>
        <td id="LC1554" class="blob-code js-file-line">       &quot;JckBZWZmSXJAmZlZkhxQZmaWJAeUmZklyQFlZmZJckCZmVmSHFBmZpYkB5SZmSWpwYCSNFjSHyU9\n&quot;,</td>
      </tr>
      <tr>
        <td id="L1555" class="blob-num js-line-number" data-line-number="1555"></td>
        <td id="LC1555" class="blob-code js-file-line">       &quot;Lunvki7Lyk+Q9ICkpyT9XlJ5QZ2Zkp6W9KSkcwrKT5O0ITv2g7brkpmZdQaNjaD2A1dExHuADwJf\n&quot;,</td>
      </tr>
      <tr>
        <td id="L1556" class="blob-num js-line-number" data-line-number="1556"></td>
        <td id="LC1556" class="blob-code js-file-line">       &quot;lPRu4CrggYgYDjyU7SNpJHABMBKoAG6UpOyzbgIuiYhhwDBJFa3eGzMz6zQaDKiI2B4R67LtvcAT\n&quot;,</td>
      </tr>
      <tr>
        <td id="L1557" class="blob-num js-line-number" data-line-number="1557"></td>
        <td id="LC1557" class="blob-code js-file-line">       &quot;wEDgPGBJdtoSYFK2fT6wLCL2R8Qm4BlgjKT+QK+IqMrOu72gjpmZ2Zs0+RqUpKHAqcDDQN+I2JEd\n&quot;,</td>
      </tr>
      <tr>
        <td id="L1558" class="blob-num js-line-number" data-line-number="1558"></td>
        <td id="LC1558" class="blob-code js-file-line">       &quot;2gH0zbYHAFsKqm2hNtAOL6/Jys3MzOrVpICS9FbgN8DlEfFK4bGICCDaoG1mZlbCujZ2gqRjqA2n\n&quot;,</td>
      </tr>
      <tr>
        <td id="L1559" class="blob-num js-line-number" data-line-number="1559"></td>
        <td id="LC1559" class="blob-code js-file-line">       &quot;pRFxT1a8Q1K/iNieTd+9mJXXAIMLqg+iduRUk20XltfU930rV86p2x4+PMeIEbkmdcTMzNKVz+fJ\n&quot;,</td>
      </tr>
      <tr>
        <td id="L1560" class="blob-num js-line-number" data-line-number="1560"></td>
        <td id="LC1560" class="blob-code js-file-line">       &quot;5/NHVafBgMpucPg5UB0R3y84tAKYBizM/rynoPxOSZXUTuENA6oiIiTtkTQGqAIuAm6o7zsnTpxz\n&quot;,</td>
      </tr>
      <tr>
        <td id="L1561" class="blob-num js-line-number" data-line-number="1561"></td>
        <td id="LC1561" class="blob-code js-file-line">       &quot;VB0wM7P05XI5crlc3f7cuXMbrdPYCOpM4ELgMUlrs7KZwLeB5ZIuATYBkwEiolrScqAaOABMz6YA\n&quot;,</td>
      </tr>
      <tr>
        <td id="L1562" class="blob-num js-line-number" data-line-number="1562"></td>
        <td id="LC1562" class="blob-code js-file-line">       &quot;AaYDtwE9gPsiYlVTOmVmZqWpwYCKiDUc+TrVh49QZz4wv57yR4FRR9tAMzMrTV5JwszMkuSAMjOz\n&quot;,</td>
      </tr>
      <tr>
        <td id="L1563" class="blob-num js-line-number" data-line-number="1563"></td>
        <td id="LC1563" class="blob-code js-file-line">       &quot;JDmgzMwsSQ4oMzNLkgPKzMyS5IAyM7MkOaDMzCxJDigzM0uSA8rMzJLkgDIzsyQ5oMzMLEkOKDMz\n&quot;,</td>
      </tr>
      <tr>
        <td id="L1564" class="blob-num js-line-number" data-line-number="1564"></td>
        <td id="LC1564" class="blob-code js-file-line">       &quot;S5IDyszMkuSAMjOzJDmgzMwsSQ4oMzNLkgPKzMyS5IAyM7MkOaDMzCxJDigzM0uSA8rMzJLkgDIz\n&quot;,</td>
      </tr>
      <tr>
        <td id="L1565" class="blob-num js-line-number" data-line-number="1565"></td>
        <td id="LC1565" class="blob-code js-file-line">       &quot;syQ5oMzMLEkOKDMzS5IDyszMkuSAMjOzJDUaUJJukbRD0oaCsjmStkham/18tODYTElPS3pS0jkF\n&quot;,</td>
      </tr>
      <tr>
        <td id="L1566" class="blob-num js-line-number" data-line-number="1566"></td>
        <td id="LC1566" class="blob-code js-file-line">       &quot;5adJ2pAd+0Hrd8XMzDqTpoygbgUqDisLoDIiTs1+fgcgaSRwATAyq3OjJGV1bgIuiYhhwDBJh3+m\n&quot;,</td>
      </tr>
      <tr>
        <td id="L1567" class="blob-num js-line-number" data-line-number="1567"></td>
        <td id="LC1567" class="blob-code js-file-line">       &quot;mZlZnUYDKiJWAzvrOaR6ys4HlkXE/ojYBDwDjJHUH+gVEVXZebcDk5rXZDMzKwUtuQb1ZUnrJf1c\n&quot;,</td>
      </tr>
      <tr>
        <td id="L1568" class="blob-num js-line-number" data-line-number="1568"></td>
        <td id="LC1568" class="blob-code js-file-line">       &quot;UnlWNgDYUnDOFmBgPeU1WbmZmVm9mhtQNwEnA6cA24DvtlqLzMzMgK7NqRQRLx7clvQzYGW2WwMM\n&quot;,</td>
      </tr>
      <tr>
        <td id="L1569" class="blob-num js-line-number" data-line-number="1569"></td>
        <td id="LC1569" class="blob-code js-file-line">       &quot;Ljh1ELUjp5psu7C8pr7PXrlyTt328OE5RozINaeJZmaWkHw+Tz6fP6o6zQooSf0jYlu2+wng4B1+\n&quot;,</td>
      </tr>
      <tr>
        <td id="L1570" class="blob-num js-line-number" data-line-number="1570"></td>
        <td id="LC1570" class="blob-code js-file-line">       &quot;K4A7JVVSO4U3DKiKiJC0R9IYoAq4CLihvs+eOHFOc5pkZmYJy+Vy5HK5uv25c+c2WqfRgJK0DJgA\n&quot;,</td>
      </tr>
      <tr>
        <td id="L1571" class="blob-num js-line-number" data-line-number="1571"></td>
        <td id="LC1571" class="blob-code js-file-line">       &quot;9JH0AjAbyEk6hdq7+f4BfB4gIqolLQeqgQPA9IiI7KOmA7cBPYD7ImJVUztmZmalp9GAioip9RTf\n&quot;,</td>
      </tr>
      <tr>
        <td id="L1572" class="blob-num js-line-number" data-line-number="1572"></td>
        <td id="LC1572" class="blob-code js-file-line">       &quot;0sD584H59ZQ/Cow6qtaZmVnJ8koSZmaWJAeUmZklyQFlZmZJckCZmVmSHFBmZpYkB5SZmSXJAWVm\n&quot;,</td>
      </tr>
      <tr>
        <td id="L1573" class="blob-num js-line-number" data-line-number="1573"></td>
        <td id="LC1573" class="blob-code js-file-line">       &quot;ZklyQJmZWZIcUGZmliQHlJmZJckBZWZmSXJAmZlZkhxQZmaWJAeUmZklyQFlZmZJckCZmVmSHFBm\n&quot;,</td>
      </tr>
      <tr>
        <td id="L1574" class="blob-num js-line-number" data-line-number="1574"></td>
        <td id="LC1574" class="blob-code js-file-line">       &quot;ZpYkB5SZmSXJAWVmZklyQJmZWZIcUGZmliQHlJmZJckBZWZmSXJAmZlZkhxQZmaWJAeUmZklyQFl\n&quot;,</td>
      </tr>
      <tr>
        <td id="L1575" class="blob-num js-line-number" data-line-number="1575"></td>
        <td id="LC1575" class="blob-code js-file-line">       &quot;ZmZJajSgJN0iaYekDQVlJ0h6QNJTkn4vqbzg2ExJT0t6UtI5BeWnSdqQHftB63fFzMw6k6aMoG4F\n&quot;,</td>
      </tr>
      <tr>
        <td id="L1576" class="blob-num js-line-number" data-line-number="1576"></td>
        <td id="LC1576" class="blob-code js-file-line">       &quot;Kg4ruwp4ICKGAw9l+0gaCVwAjMzq3ChJWZ2bgEsiYhgwTNLhn2lmZlan0YCKiNXAzsOKzwOWZNtL\n&quot;,</td>
      </tr>
      <tr>
        <td id="L1577" class="blob-num js-line-number" data-line-number="1577"></td>
        <td id="LC1577" class="blob-code js-file-line">       &quot;gEnZ9vnAsojYHxGbgGeAMZL6A70ioio77/aCOmZmZm/S3GtQfSNiR7a9A+ibbQ8AthSctwUYWE95\n&quot;,</td>
      </tr>
      <tr>
        <td id="L1578" class="blob-num js-line-number" data-line-number="1578"></td>
        <td id="LC1578" class="blob-code js-file-line">       &quot;TVZuZmZWrxbfJBERAUQrtMXMzKxO12bW2yGpX0Rsz6bvXszKa4DBBecNonbkVJNtF5bX1PfBK1fO\n&quot;,</td>
      </tr>
      <tr>
        <td id="L1579" class="blob-num js-line-number" data-line-number="1579"></td>
        <td id="LC1579" class="blob-code js-file-line">       &quot;qdsePjzHiBG5ZjbRzMxSkc/nyefzR1WnuQG1ApgGLMz+vKeg/E5JldRO4Q0DqiIiJO2RNAaoAi4C\n&quot;,</td>
      </tr>
      <tr>
        <td id="L1580" class="blob-num js-line-number" data-line-number="1580"></td>
        <td id="LC1580" class="blob-code js-file-line">       &quot;bqjvgydOnNPMJpmZWapyuRy5XK5uf+7cuY3WaTSgJC0DJgB9JL0AXAN8G1gu6RJgEzAZICKqJS0H\n&quot;,</td>
      </tr>
      <tr>
        <td id="L1581" class="blob-num js-line-number" data-line-number="1581"></td>
        <td id="LC1581" class="blob-code js-file-line">       &quot;qoEDwPRsChBgOnAb0AO4LyJWNbFfZmZWghoNqIiYeoRDHz7C+fOB+fWUPwqMOqrWmZlZyfJKEmZm\n&quot;,</td>
      </tr>
      <tr>
        <td id="L1582" class="blob-num js-line-number" data-line-number="1582"></td>
        <td id="LC1582" class="blob-code js-file-line">       &quot;liQHlJmZJckBZWZmSXJAmZlZkhxQZmaWJAeUmZklyQFlZmZJau5KEtYGFi1azK5dzatbXg4zZlza\n&quot;,</td>
      </tr>
      <tr>
        <td id="L1583" class="blob-num js-line-number" data-line-number="1583"></td>
        <td id="LC1583" class="blob-code js-file-line">       &quot;ug0yMysiB1RCdu2CIUOaFzKr7vrfLN61uflfXl7OpTNmNL++mVkrc0B1Esfu+28uHTKk2fUXb25B\n&quot;,</td>
      </tr>
      <tr>
        <td id="L1584" class="blob-num js-line-number" data-line-number="1584"></td>
        <td id="LC1584" class="blob-code js-file-line">       &quot;uJmZtQFfgzIzsyQ5oMzMLEkOKDMzS5IDyszMkuSAMjOzJDmgzMwsSQ4oMzNLkgPKzMyS5Ad1LQkt\n&quot;,</td>
      </tr>
      <tr>
        <td id="L1585" class="blob-num js-line-number" data-line-number="1585"></td>
        <td id="LC1585" class="blob-code js-file-line">       &quot;WeYJvNSTWWfkgLIktGSZJ4DNmxe3YmvMLAWe4jMzsyR5BGWdwhN/u5/Fs5q5nqAXyjVLkgPKOoWW\n&quot;,</td>
      </tr>
      <tr>
        <td id="L1586" class="blob-num js-line-number" data-line-number="1586"></td>
        <td id="LC1586" class="blob-code js-file-line">       &quot;LJbrhXLN0uQpPjMzS5IDyszMkuQpPgPg/rV/Y/P1s5pdv7x7OTMu83UcM2s9DigD4L/Zx5APNf+F\n&quot;,</td>
      </tr>
      <tr>
        <td id="L1587" class="blob-num js-line-number" data-line-number="1587"></td>
        <td id="LC1587" class="blob-code js-file-line">       &quot;h5sf8nWc5vIzYGb1a1FASdoE7AH+B9gfEadLOgG4CxgCbAImR8Su7PyZwGez8y+LiN+35PvNOgM/\n&quot;,</td>
      </tr>
      <tr>
        <td id="L1588" class="blob-num js-line-number" data-line-number="1588"></td>
        <td id="LC1588" class="blob-code js-file-line">       &quot;A2ZWv5ZegwogFxGnRsTpWdlVwAMRMRx4KNtH0kjgAmAkUAHcKMnXwMzMrF6tMcWnw/bPAyZk20uA\n&quot;,</td>
      </tr>
      <tr>
        <td id="L1589" class="blob-num js-line-number" data-line-number="1589"></td>
        <td id="LC1589" class="blob-code js-file-line">       &quot;PLUhdT6wLCL2A5skPQOcDvytFdpgVrJa9AwY+DkwS1ZLAyqAByX9D3BzRPwU6BsRO7LjO4C+2fYA\n&quot;,</td>
      </tr>
      <tr>
        <td id="L1590" class="blob-num js-line-number" data-line-number="1590"></td>
        <td id="LC1590" class="blob-code js-file-line">       &quot;Dg2jLcDAFn6/WclryTNg4OfALF0tDagzI2KbpLcBD0h6svBgRISkaKD+m46tXDmnbnv48BwjRuRa\n&quot;,</td>
      </tr>
      <tr>
        <td id="L1591" class="blob-num js-line-number" data-line-number="1591"></td>
        <td id="LC1591" class="blob-code js-file-line">       &quot;2EQzS5VvECkd+XyefD5/VHVaFFARsS378yVJd1M7ZbdDUr+I2C6pP/BidnoNMLig+qCs7BATJ85p\n&quot;,</td>
      </tr>
      <tr>
        <td id="L1592" class="blob-num js-line-number" data-line-number="1592"></td>
        <td id="LC1592" class="blob-code js-file-line">       &quot;SZPMrAPxDSKlI5fLkcvl6vbnzp3baJ1m36QgqaekXtn2W4BzgA3ACmBadto04J5sewUwRVI3SScD\n&quot;,</td>
      </tr>
      <tr>
        <td id="L1593" class="blob-num js-line-number" data-line-number="1593"></td>
        <td id="LC1593" class="blob-code js-file-line">       &quot;w4Cq5n6/mZl1bi0ZQfUF7pZ08HPuiIjfS3oEWC7pErLbzAEiolrScqAaOABMj4iGpv/MzKyENTug\n&quot;,</td>
      </tr>
      <tr>
        <td id="L1594" class="blob-num js-line-number" data-line-number="1594"></td>
        <td id="LC1594" class="blob-code js-file-line">       &quot;IuIfwCn1lP8L+PAR6swH5jf3O83MrHR4JQkzsyJpyU0ipXCDiAPKzKxIWnKTSCncIOKVHMzMLEke\n&quot;,</td>
      </tr>
      <tr>
        <td id="L1595" class="blob-num js-line-number" data-line-number="1595"></td>
        <td id="LC1595" class="blob-code js-file-line">       &quot;QVnJ80ruHZdX0ejcHFBW8rySe8flVTQ6N0/xmZlZkhxQZmaWJE/xmZl1QKVw/c0BZVbifJNIx1QK\n&quot;,</td>
      </tr>
      <tr>
        <td id="L1596" class="blob-num js-line-number" data-line-number="1596"></td>
        <td id="LC1596" class="blob-code js-file-line">       &quot;198cUGYlzjeJWKp8DcrMzJLkEZSZlSxPb6bNAWVmJcvTm2nzFJ+ZmSXJIygzsxLUEaY3HVBmZiWo\n&quot;,</td>
      </tr>
      <tr>
        <td id="L1597" class="blob-num js-line-number" data-line-number="1597"></td>
        <td id="LC1597" class="blob-code js-file-line">       &quot;I0xveorPzMyS5IAyM7MkOaDMzCxJDigzM0uSA8rMzJLkgDIzsyQ5oMzMLEkOKDMzS5IDyszMkuSA\n&quot;,</td>
      </tr>
      <tr>
        <td id="L1598" class="blob-num js-line-number" data-line-number="1598"></td>
        <td id="LC1598" class="blob-code js-file-line">       &quot;MjOzJLVrQEmqkPSkpKclfaM9v9vMzDqWdgsoSV2AHwEVwEhgqqR3t9f3dwSbN28sdhOKxn0vTaXc\n&quot;,</td>
      </tr>
      <tr>
        <td id="L1599" class="blob-num js-line-number" data-line-number="1599"></td>
        <td id="LC1599" class="blob-code js-file-line">       &quot;d3D/G9OeI6jTgWciYlNE7Ad+CZzfjt+fvM2bnyp2E4rGfS9Npdx3cP8b054BNRB4oWB/S1ZmZmb2\n&quot;,</td>
      </tr>
      <tr>
        <td id="L1600" class="blob-num js-line-number" data-line-number="1600"></td>
        <td id="LC1600" class="blob-code js-file-line">       &quot;Ju0ZUNGO32VmZh2cItonNyR9EJgTERXZ/kzgjYhYWHCOQ8zMrEREhBo63p4B1RXYCHwI2ApUAVMj\n&quot;,</td>
      </tr>
      <tr>
        <td id="L1601" class="blob-num js-line-number" data-line-number="1601"></td>
        <td id="LC1601" class="blob-code js-file-line">       &quot;4ol2aYCZmXUo7fZG3Yg4IOlLwP1AF+DnDiczMzuSdhtBmZmZHY1kVpIo1Yd4Jd0iaYekDcVuS3uT\n&quot;,</td>
      </tr>
      <tr>
        <td id="L1602" class="blob-num js-line-number" data-line-number="1602"></td>
        <td id="LC1602" class="blob-code js-file-line">       &quot;NFjSHyU9Lunvki4rdpvak6Tukh6WtE5StaQFxW5Te5PURdJaSSuL3Zb2JGmTpMeyvlcVuz3tSVK5\n&quot;,</td>
      </tr>
      <tr>
        <td id="L1603" class="blob-num js-line-number" data-line-number="1603"></td>
        <td id="LC1603" class="blob-code js-file-line">       &quot;pF9LeiL77/6DRzw3hRFU9hDvRuDDQA3wX5TI9SlJ44C9wO0RMarY7WlPkvoB/SJinaS3Ao8Ck0rh\n&quot;,</td>
      </tr>
      <tr>
        <td id="L1604" class="blob-num js-line-number" data-line-number="1604"></td>
        <td id="LC1604" class="blob-code js-file-line">       &quot;3/0gST0j4tXsGu0a4GsRsabY7Wovkq4ETgN6RcR5xW5Pe5H0D+C0iPhXsdvS3iQtAf4UEbdk/92/\n&quot;,</td>
      </tr>
      <tr>
        <td id="L1605" class="blob-num js-line-number" data-line-number="1605"></td>
        <td id="LC1605" class="blob-code js-file-line">       &quot;JSJ213duKiOokn2INyJWAzuL3Y5iiIjtEbEu294LPAEMKG6r2ldEvJptdqP22mzJ/MKSNAj4GPAz\n&quot;,</td>
      </tr>
      <tr>
        <td id="L1606" class="blob-num js-line-number" data-line-number="1606"></td>
        <td id="LC1606" class="blob-code js-file-line">       &quot;oMG7uTqpkuuzpOOBcRFxC9Tem3CkcIJ0AsoP8ZY4SUOBU4GHi9uS9iWpTNI6YAfwx4ioLnab2tH3\n&quot;,</td>
      </tr>
      <tr>
        <td id="L1607" class="blob-num js-line-number" data-line-number="1607"></td>
        <td id="LC1607" class="blob-code js-file-line">       &quot;gBnAG8VuSBEE8KCkRyR9rtiNaUcnAy9JulXS/5X0U0k9j3RyKgFV/HlGK5pseu/XwOXZSKpkRMQb\n&quot;,</td>
      </tr>
      <tr>
        <td id="L1608" class="blob-num js-line-number" data-line-number="1608"></td>
        <td id="LC1608" class="blob-code js-file-line">       &quot;EXEKMAgYLylX5Ca1C0kfB16MiLWU4EgCODMiTgU+Cnwxm+ovBV2B9wM3RsT7gf8HXHWkk1MJqBpg\n&quot;,</td>
      </tr>
      <tr>
        <td id="L1609" class="blob-num js-line-number" data-line-number="1609"></td>
        <td id="LC1609" class="blob-code js-file-line">       &quot;cMH+YGpHUdbJSToG+A3wi4i4p9jtKZZsmuO3wOhit6Wd/C/gvOxazDLgPyTdXuQ2tZuI2Jb9+RJw\n&quot;,</td>
      </tr>
      <tr>
        <td id="L1610" class="blob-num js-line-number" data-line-number="1610"></td>
        <td id="LC1610" class="blob-code js-file-line">       &quot;N7WXOUrBFmBLRPxXtv9ragOrXqkE1CPAMElDJXUDLgBWFLlN1sYkCfg5UB0R3y92e9qbpD6SyrPt\n&quot;,</td>
      </tr>
      <tr>
        <td id="L1611" class="blob-num js-line-number" data-line-number="1611"></td>
        <td id="LC1611" class="blob-code js-file-line">       &quot;HsDZwNritqp9RMQ3I2JwRJwMTAH+EBEXF7td7UFST0m9su23AOcAJXEXb0RsB16QNDwr+jDw+JHO\n&quot;,</td>
      </tr>
      <tr>
        <td id="L1612" class="blob-num js-line-number" data-line-number="1612"></td>
        <td id="LC1612" class="blob-code js-file-line">       &quot;b7cHdRtSyg/xSloGTABOlPQCcE1E3FrkZrWXM4ELgcckHfzFPDMiVhWxTe2pP7BEUhm1/7O4NCIe\n&quot;,</td>
      </tr>
      <tr>
        <td id="L1613" class="blob-num js-line-number" data-line-number="1613"></td>
        <td id="LC1613" class="blob-code js-file-line">       &quot;KnKbiqWUpvn7AnfX/v8ZXYE7IuL3xW1Su/oycEc2GHkW+D9HOjGJ28zNzMwOl8oUn5mZ2SEcUGZm\n&quot;,</td>
      </tr>
      <tr>
        <td id="L1614" class="blob-num js-line-number" data-line-number="1614"></td>
        <td id="LC1614" class="blob-code js-file-line">       &quot;liQHlJmZJckBZWZmSXJAmZlZkhxQZmaWJAeUmZklyQFlZmZJ+v9Ruo6Qzt2ezwAAAABJRU5ErkJg\n&quot;,</td>
      </tr>
      <tr>
        <td id="L1615" class="blob-num js-line-number" data-line-number="1615"></td>
        <td id="LC1615" class="blob-code js-file-line">       &quot;gg==\n&quot;</td>
      </tr>
      <tr>
        <td id="L1616" class="blob-num js-line-number" data-line-number="1616"></td>
        <td id="LC1616" class="blob-code js-file-line">      ],</td>
      </tr>
      <tr>
        <td id="L1617" class="blob-num js-line-number" data-line-number="1617"></td>
        <td id="LC1617" class="blob-code js-file-line">      &quot;text/plain&quot;: [</td>
      </tr>
      <tr>
        <td id="L1618" class="blob-num js-line-number" data-line-number="1618"></td>
        <td id="LC1618" class="blob-code js-file-line">       &quot;&lt;matplotlib.figure.Figure at 0x4672e80&gt;&quot;</td>
      </tr>
      <tr>
        <td id="L1619" class="blob-num js-line-number" data-line-number="1619"></td>
        <td id="LC1619" class="blob-code js-file-line">      ]</td>
      </tr>
      <tr>
        <td id="L1620" class="blob-num js-line-number" data-line-number="1620"></td>
        <td id="LC1620" class="blob-code js-file-line">     },</td>
      </tr>
      <tr>
        <td id="L1621" class="blob-num js-line-number" data-line-number="1621"></td>
        <td id="LC1621" class="blob-code js-file-line">     &quot;metadata&quot;: {},</td>
      </tr>
      <tr>
        <td id="L1622" class="blob-num js-line-number" data-line-number="1622"></td>
        <td id="LC1622" class="blob-code js-file-line">     &quot;output_type&quot;: &quot;display_data&quot;</td>
      </tr>
      <tr>
        <td id="L1623" class="blob-num js-line-number" data-line-number="1623"></td>
        <td id="LC1623" class="blob-code js-file-line">    }</td>
      </tr>
      <tr>
        <td id="L1624" class="blob-num js-line-number" data-line-number="1624"></td>
        <td id="LC1624" class="blob-code js-file-line">   ],</td>
      </tr>
      <tr>
        <td id="L1625" class="blob-num js-line-number" data-line-number="1625"></td>
        <td id="LC1625" class="blob-code js-file-line">   &quot;source&quot;: [</td>
      </tr>
      <tr>
        <td id="L1626" class="blob-num js-line-number" data-line-number="1626"></td>
        <td id="LC1626" class="blob-code js-file-line">    &quot;fig, ax = plt.subplots()\n&quot;,</td>
      </tr>
      <tr>
        <td id="L1627" class="blob-num js-line-number" data-line-number="1627"></td>
        <td id="LC1627" class="blob-code js-file-line">    &quot;\n&quot;,</td>
      </tr>
      <tr>
        <td id="L1628" class="blob-num js-line-number" data-line-number="1628"></td>
        <td id="LC1628" class="blob-code js-file-line">    &quot;index = np.arange(6)\n&quot;,</td>
      </tr>
      <tr>
        <td id="L1629" class="blob-num js-line-number" data-line-number="1629"></td>
        <td id="LC1629" class="blob-code js-file-line">    &quot;bar_width = 0.25\n&quot;,</td>
      </tr>
      <tr>
        <td id="L1630" class="blob-num js-line-number" data-line-number="1630"></td>
        <td id="LC1630" class="blob-code js-file-line">    &quot;\n&quot;,</td>
      </tr>
      <tr>
        <td id="L1631" class="blob-num js-line-number" data-line-number="1631"></td>
        <td id="LC1631" class="blob-code js-file-line">    &quot;opacity = 0.4\n&quot;,</td>
      </tr>
      <tr>
        <td id="L1632" class="blob-num js-line-number" data-line-number="1632"></td>
        <td id="LC1632" class="blob-code js-file-line">    &quot;error_config = {&#39;ecolor&#39;: &#39;0.3&#39;}\n&quot;,</td>
      </tr>
      <tr>
        <td id="L1633" class="blob-num js-line-number" data-line-number="1633"></td>
        <td id="LC1633" class="blob-code js-file-line">    &quot;\n&quot;,</td>
      </tr>
      <tr>
        <td id="L1634" class="blob-num js-line-number" data-line-number="1634"></td>
        <td id="LC1634" class="blob-code js-file-line">    &quot;rects1 = plt.bar(index, np.array(CapitalSextiles[0,:]), bar_width,\n&quot;,</td>
      </tr>
      <tr>
        <td id="L1635" class="blob-num js-line-number" data-line-number="1635"></td>
        <td id="LC1635" class="blob-code js-file-line">    &quot;                 alpha=opacity,\n&quot;,</td>
      </tr>
      <tr>
        <td id="L1636" class="blob-num js-line-number" data-line-number="1636"></td>
        <td id="LC1636" class="blob-code js-file-line">    &quot;                 color=&#39;b&#39;,\n&quot;,</td>
      </tr>
      <tr>
        <td id="L1637" class="blob-num js-line-number" data-line-number="1637"></td>
        <td id="LC1637" class="blob-code js-file-line">    &quot;                 label=&#39;Corn&#39;)\n&quot;,</td>
      </tr>
      <tr>
        <td id="L1638" class="blob-num js-line-number" data-line-number="1638"></td>
        <td id="LC1638" class="blob-code js-file-line">    &quot;\n&quot;,</td>
      </tr>
      <tr>
        <td id="L1639" class="blob-num js-line-number" data-line-number="1639"></td>
        <td id="LC1639" class="blob-code js-file-line">    &quot;rects2 = plt.bar(index + bar_width, np.array(CapitalSextiles[1,:]), bar_width,\n&quot;,</td>
      </tr>
      <tr>
        <td id="L1640" class="blob-num js-line-number" data-line-number="1640"></td>
        <td id="LC1640" class="blob-code js-file-line">    &quot;                 alpha=opacity,\n&quot;,</td>
      </tr>
      <tr>
        <td id="L1641" class="blob-num js-line-number" data-line-number="1641"></td>
        <td id="LC1641" class="blob-code js-file-line">    &quot;                 color=&#39;r&#39;,\n&quot;,</td>
      </tr>
      <tr>
        <td id="L1642" class="blob-num js-line-number" data-line-number="1642"></td>
        <td id="LC1642" class="blob-code js-file-line">    &quot;                 label=&#39;Soy&#39;)\n&quot;,</td>
      </tr>
      <tr>
        <td id="L1643" class="blob-num js-line-number" data-line-number="1643"></td>
        <td id="LC1643" class="blob-code js-file-line">    &quot;\n&quot;,</td>
      </tr>
      <tr>
        <td id="L1644" class="blob-num js-line-number" data-line-number="1644"></td>
        <td id="LC1644" class="blob-code js-file-line">    &quot;rects3 = plt.bar(index + bar_width*2, np.array(CapitalSextiles[2,:]), bar_width,\n&quot;,</td>
      </tr>
      <tr>
        <td id="L1645" class="blob-num js-line-number" data-line-number="1645"></td>
        <td id="LC1645" class="blob-code js-file-line">    &quot;                 alpha=opacity,\n&quot;,</td>
      </tr>
      <tr>
        <td id="L1646" class="blob-num js-line-number" data-line-number="1646"></td>
        <td id="LC1646" class="blob-code js-file-line">    &quot;                 color=&#39;g&#39;,\n&quot;,</td>
      </tr>
      <tr>
        <td id="L1647" class="blob-num js-line-number" data-line-number="1647"></td>
        <td id="LC1647" class="blob-code js-file-line">    &quot;                 label=&#39;Wheat&#39;)\n&quot;,</td>
      </tr>
      <tr>
        <td id="L1648" class="blob-num js-line-number" data-line-number="1648"></td>
        <td id="LC1648" class="blob-code js-file-line">    &quot;\n&quot;,</td>
      </tr>
      <tr>
        <td id="L1649" class="blob-num js-line-number" data-line-number="1649"></td>
        <td id="LC1649" class="blob-code js-file-line">    &quot;plt.tight_layout()\n&quot;,</td>
      </tr>
      <tr>
        <td id="L1650" class="blob-num js-line-number" data-line-number="1650"></td>
        <td id="LC1650" class="blob-code js-file-line">    &quot;plt.legend()\n&quot;,</td>
      </tr>
      <tr>
        <td id="L1651" class="blob-num js-line-number" data-line-number="1651"></td>
        <td id="LC1651" class="blob-code js-file-line">    &quot;plt.show()&quot;</td>
      </tr>
      <tr>
        <td id="L1652" class="blob-num js-line-number" data-line-number="1652"></td>
        <td id="LC1652" class="blob-code js-file-line">   ]</td>
      </tr>
      <tr>
        <td id="L1653" class="blob-num js-line-number" data-line-number="1653"></td>
        <td id="LC1653" class="blob-code js-file-line">  },</td>
      </tr>
      <tr>
        <td id="L1654" class="blob-num js-line-number" data-line-number="1654"></td>
        <td id="LC1654" class="blob-code js-file-line">  {</td>
      </tr>
      <tr>
        <td id="L1655" class="blob-num js-line-number" data-line-number="1655"></td>
        <td id="LC1655" class="blob-code js-file-line">   &quot;cell_type&quot;: &quot;markdown&quot;,</td>
      </tr>
      <tr>
        <td id="L1656" class="blob-num js-line-number" data-line-number="1656"></td>
        <td id="LC1656" class="blob-code js-file-line">   &quot;metadata&quot;: {},</td>
      </tr>
      <tr>
        <td id="L1657" class="blob-num js-line-number" data-line-number="1657"></td>
        <td id="LC1657" class="blob-code js-file-line">   &quot;source&quot;: [</td>
      </tr>
      <tr>
        <td id="L1658" class="blob-num js-line-number" data-line-number="1658"></td>
        <td id="LC1658" class="blob-code js-file-line">    &quot;Now, a simple empirical exercise we might engage in is to try to get our skill distribution (which means find the parameters of the skill distribution which we shall assume to be lognormal) to generate equilibrium demands that match the sextiles of the capital-land, labor-land, and labor-capital ratios. \n&quot;,</td>
      </tr>
      <tr>
        <td id="L1659" class="blob-num js-line-number" data-line-number="1659"></td>
        <td id="LC1659" class="blob-code js-file-line">    &quot;\n&quot;,</td>
      </tr>
      <tr>
        <td id="L1660" class="blob-num js-line-number" data-line-number="1660"></td>
        <td id="LC1660" class="blob-code js-file-line">    &quot;In so doing, we first have to decide what things we would like to take as given. Moreover, we have to think about how to translate expenditures on things into actual units (Adamopoulos/Restuccia seem to like to leave these things as free variables in the optimization).\n&quot;,</td>
      </tr>
      <tr>
        <td id="L1661" class="blob-num js-line-number" data-line-number="1661"></td>
        <td id="LC1661" class="blob-code js-file-line">    &quot;\n&quot;,</td>
      </tr>
      <tr>
        <td id="L1662" class="blob-num js-line-number" data-line-number="1662"></td>
        <td id="LC1662" class="blob-code js-file-line">    &quot;Along these lines, we need a function that takes in a mean and a variance, creates a skill distribution, bins the resulting factor demands, and then sees how closely the empirical distribution matches the actual one. \n&quot;,</td>
      </tr>
      <tr>
        <td id="L1663" class="blob-num js-line-number" data-line-number="1663"></td>
        <td id="LC1663" class="blob-code js-file-line">    &quot;\n&quot;,</td>
      </tr>
      <tr>
        <td id="L1664" class="blob-num js-line-number" data-line-number="1664"></td>
        <td id="LC1664" class="blob-code js-file-line">    &quot;Before doing this, let&#39;s just get a farm rental rate. I&#39;m setting this at 25\\$, I googled and found a rate of \\$249 a day for some piece of equipment, so dividing this by 10 working hours in a day gives 25\\$. Our targets will be:&quot;</td>
      </tr>
      <tr>
        <td id="L1665" class="blob-num js-line-number" data-line-number="1665"></td>
        <td id="LC1665" class="blob-code js-file-line">   ]</td>
      </tr>
      <tr>
        <td id="L1666" class="blob-num js-line-number" data-line-number="1666"></td>
        <td id="LC1666" class="blob-code js-file-line">  },</td>
      </tr>
      <tr>
        <td id="L1667" class="blob-num js-line-number" data-line-number="1667"></td>
        <td id="LC1667" class="blob-code js-file-line">  {</td>
      </tr>
      <tr>
        <td id="L1668" class="blob-num js-line-number" data-line-number="1668"></td>
        <td id="LC1668" class="blob-code js-file-line">   &quot;cell_type&quot;: &quot;code&quot;,</td>
      </tr>
      <tr>
        <td id="L1669" class="blob-num js-line-number" data-line-number="1669"></td>
        <td id="LC1669" class="blob-code js-file-line">   &quot;execution_count&quot;: 19,</td>
      </tr>
      <tr>
        <td id="L1670" class="blob-num js-line-number" data-line-number="1670"></td>
        <td id="LC1670" class="blob-code js-file-line">   &quot;metadata&quot;: {</td>
      </tr>
      <tr>
        <td id="L1671" class="blob-num js-line-number" data-line-number="1671"></td>
        <td id="LC1671" class="blob-code js-file-line">    &quot;collapsed&quot;: false</td>
      </tr>
      <tr>
        <td id="L1672" class="blob-num js-line-number" data-line-number="1672"></td>
        <td id="LC1672" class="blob-code js-file-line">   },</td>
      </tr>
      <tr>
        <td id="L1673" class="blob-num js-line-number" data-line-number="1673"></td>
        <td id="LC1673" class="blob-code js-file-line">   &quot;outputs&quot;: [],</td>
      </tr>
      <tr>
        <td id="L1674" class="blob-num js-line-number" data-line-number="1674"></td>
        <td id="LC1674" class="blob-code js-file-line">   &quot;source&quot;: [</td>
      </tr>
      <tr>
        <td id="L1675" class="blob-num js-line-number" data-line-number="1675"></td>
        <td id="LC1675" class="blob-code js-file-line">    &quot;LaborTarget=np.mean(LaborSextiles,axis=0)\n&quot;,</td>
      </tr>
      <tr>
        <td id="L1676" class="blob-num js-line-number" data-line-number="1676"></td>
        <td id="LC1676" class="blob-code js-file-line">    &quot;CapitalTarget=np.mean(CapitalSextiles,axis=0)\n&quot;,</td>
      </tr>
      <tr>
        <td id="L1677" class="blob-num js-line-number" data-line-number="1677"></td>
        <td id="LC1677" class="blob-code js-file-line">    &quot;R=25.00\n&quot;,</td>
      </tr>
      <tr>
        <td id="L1678" class="blob-num js-line-number" data-line-number="1678"></td>
        <td id="LC1678" class="blob-code js-file-line">    &quot;CapitalTarget=CapitalTarget/R&quot;</td>
      </tr>
      <tr>
        <td id="L1679" class="blob-num js-line-number" data-line-number="1679"></td>
        <td id="LC1679" class="blob-code js-file-line">   ]</td>
      </tr>
      <tr>
        <td id="L1680" class="blob-num js-line-number" data-line-number="1680"></td>
        <td id="LC1680" class="blob-code js-file-line">  },</td>
      </tr>
      <tr>
        <td id="L1681" class="blob-num js-line-number" data-line-number="1681"></td>
        <td id="LC1681" class="blob-code js-file-line">  {</td>
      </tr>
      <tr>
        <td id="L1682" class="blob-num js-line-number" data-line-number="1682"></td>
        <td id="LC1682" class="blob-code js-file-line">   &quot;cell_type&quot;: &quot;code&quot;,</td>
      </tr>
      <tr>
        <td id="L1683" class="blob-num js-line-number" data-line-number="1683"></td>
        <td id="LC1683" class="blob-code js-file-line">   &quot;execution_count&quot;: 20,</td>
      </tr>
      <tr>
        <td id="L1684" class="blob-num js-line-number" data-line-number="1684"></td>
        <td id="LC1684" class="blob-code js-file-line">   &quot;metadata&quot;: {</td>
      </tr>
      <tr>
        <td id="L1685" class="blob-num js-line-number" data-line-number="1685"></td>
        <td id="LC1685" class="blob-code js-file-line">    &quot;collapsed&quot;: false</td>
      </tr>
      <tr>
        <td id="L1686" class="blob-num js-line-number" data-line-number="1686"></td>
        <td id="LC1686" class="blob-code js-file-line">   },</td>
      </tr>
      <tr>
        <td id="L1687" class="blob-num js-line-number" data-line-number="1687"></td>
        <td id="LC1687" class="blob-code js-file-line">   &quot;outputs&quot;: [</td>
      </tr>
      <tr>
        <td id="L1688" class="blob-num js-line-number" data-line-number="1688"></td>
        <td id="LC1688" class="blob-code js-file-line">    {</td>
      </tr>
      <tr>
        <td id="L1689" class="blob-num js-line-number" data-line-number="1689"></td>
        <td id="LC1689" class="blob-code js-file-line">     &quot;name&quot;: &quot;stdout&quot;,</td>
      </tr>
      <tr>
        <td id="L1690" class="blob-num js-line-number" data-line-number="1690"></td>
        <td id="LC1690" class="blob-code js-file-line">     &quot;output_type&quot;: &quot;stream&quot;,</td>
      </tr>
      <tr>
        <td id="L1691" class="blob-num js-line-number" data-line-number="1691"></td>
        <td id="LC1691" class="blob-code js-file-line">     &quot;text&quot;: [</td>
      </tr>
      <tr>
        <td id="L1692" class="blob-num js-line-number" data-line-number="1692"></td>
        <td id="LC1692" class="blob-code js-file-line">      &quot;[ 116.49333333   30.14666667   22.92         18.97333333   15.6\n&quot;,</td>
      </tr>
      <tr>
        <td id="L1693" class="blob-num js-line-number" data-line-number="1693"></td>
        <td id="LC1693" class="blob-code js-file-line">      &quot;   13.41333333]\n&quot;,</td>
      </tr>
      <tr>
        <td id="L1694" class="blob-num js-line-number" data-line-number="1694"></td>
        <td id="LC1694" class="blob-code js-file-line">      &quot;[ 41.56666667  10.46666667   6.96666667   5.6          3.5          2.63333333]\n&quot;</td>
      </tr>
      <tr>
        <td id="L1695" class="blob-num js-line-number" data-line-number="1695"></td>
        <td id="LC1695" class="blob-code js-file-line">     ]</td>
      </tr>
      <tr>
        <td id="L1696" class="blob-num js-line-number" data-line-number="1696"></td>
        <td id="LC1696" class="blob-code js-file-line">    }</td>
      </tr>
      <tr>
        <td id="L1697" class="blob-num js-line-number" data-line-number="1697"></td>
        <td id="LC1697" class="blob-code js-file-line">   ],</td>
      </tr>
      <tr>
        <td id="L1698" class="blob-num js-line-number" data-line-number="1698"></td>
        <td id="LC1698" class="blob-code js-file-line">   &quot;source&quot;: [</td>
      </tr>
      <tr>
        <td id="L1699" class="blob-num js-line-number" data-line-number="1699"></td>
        <td id="LC1699" class="blob-code js-file-line">    &quot;print CapitalTarget\n&quot;,</td>
      </tr>
      <tr>
        <td id="L1700" class="blob-num js-line-number" data-line-number="1700"></td>
        <td id="LC1700" class="blob-code js-file-line">    &quot;print LaborTarget&quot;</td>
      </tr>
      <tr>
        <td id="L1701" class="blob-num js-line-number" data-line-number="1701"></td>
        <td id="LC1701" class="blob-code js-file-line">   ]</td>
      </tr>
      <tr>
        <td id="L1702" class="blob-num js-line-number" data-line-number="1702"></td>
        <td id="LC1702" class="blob-code js-file-line">  },</td>
      </tr>
      <tr>
        <td id="L1703" class="blob-num js-line-number" data-line-number="1703"></td>
        <td id="LC1703" class="blob-code js-file-line">  {</td>
      </tr>
      <tr>
        <td id="L1704" class="blob-num js-line-number" data-line-number="1704"></td>
        <td id="LC1704" class="blob-code js-file-line">   &quot;cell_type&quot;: &quot;markdown&quot;,</td>
      </tr>
      <tr>
        <td id="L1705" class="blob-num js-line-number" data-line-number="1705"></td>
        <td id="LC1705" class="blob-code js-file-line">   &quot;metadata&quot;: {},</td>
      </tr>
      <tr>
        <td id="L1706" class="blob-num js-line-number" data-line-number="1706"></td>
        <td id="LC1706" class="blob-code js-file-line">   &quot;source&quot;: [</td>
      </tr>
      <tr>
        <td id="L1707" class="blob-num js-line-number" data-line-number="1707"></td>
        <td id="LC1707" class="blob-code js-file-line">    &quot;Now, let&#39;s see if we can calibrate some parameters to match this data, along with the size distribution data on land itself. We will do this to get the basic parameters of the production function along with the skill distribution. So, we will drop those we are trying to match. We will also define stand-alone demand functions, and integrals of these functions:&quot;</td>
      </tr>
      <tr>
        <td id="L1708" class="blob-num js-line-number" data-line-number="1708"></td>
        <td id="LC1708" class="blob-code js-file-line">   ]</td>
      </tr>
      <tr>
        <td id="L1709" class="blob-num js-line-number" data-line-number="1709"></td>
        <td id="LC1709" class="blob-code js-file-line">  },</td>
      </tr>
      <tr>
        <td id="L1710" class="blob-num js-line-number" data-line-number="1710"></td>
        <td id="LC1710" class="blob-code js-file-line">  {</td>
      </tr>
      <tr>
        <td id="L1711" class="blob-num js-line-number" data-line-number="1711"></td>
        <td id="LC1711" class="blob-code js-file-line">   &quot;cell_type&quot;: &quot;code&quot;,</td>
      </tr>
      <tr>
        <td id="L1712" class="blob-num js-line-number" data-line-number="1712"></td>
        <td id="LC1712" class="blob-code js-file-line">   &quot;execution_count&quot;: 21,</td>
      </tr>
      <tr>
        <td id="L1713" class="blob-num js-line-number" data-line-number="1713"></td>
        <td id="LC1713" class="blob-code js-file-line">   &quot;metadata&quot;: {</td>
      </tr>
      <tr>
        <td id="L1714" class="blob-num js-line-number" data-line-number="1714"></td>
        <td id="LC1714" class="blob-code js-file-line">    &quot;collapsed&quot;: false</td>
      </tr>
      <tr>
        <td id="L1715" class="blob-num js-line-number" data-line-number="1715"></td>
        <td id="LC1715" class="blob-code js-file-line">   },</td>
      </tr>
      <tr>
        <td id="L1716" class="blob-num js-line-number" data-line-number="1716"></td>
        <td id="LC1716" class="blob-code js-file-line">   &quot;outputs&quot;: [],</td>
      </tr>
      <tr>
        <td id="L1717" class="blob-num js-line-number" data-line-number="1717"></td>
        <td id="LC1717" class="blob-code js-file-line">   &quot;source&quot;: [</td>
      </tr>
      <tr>
        <td id="L1718" class="blob-num js-line-number" data-line-number="1718"></td>
        <td id="LC1718" class="blob-code js-file-line">    &quot;del al,ak,phi,rho,gam                                     # Drop parameters so we can solve for them instead&quot;</td>
      </tr>
      <tr>
        <td id="L1719" class="blob-num js-line-number" data-line-number="1719"></td>
        <td id="LC1719" class="blob-code js-file-line">   ]</td>
      </tr>
      <tr>
        <td id="L1720" class="blob-num js-line-number" data-line-number="1720"></td>
        <td id="LC1720" class="blob-code js-file-line">  },</td>
      </tr>
      <tr>
        <td id="L1721" class="blob-num js-line-number" data-line-number="1721"></td>
        <td id="LC1721" class="blob-code js-file-line">  {</td>
      </tr>
      <tr>
        <td id="L1722" class="blob-num js-line-number" data-line-number="1722"></td>
        <td id="LC1722" class="blob-code js-file-line">   &quot;cell_type&quot;: &quot;code&quot;,</td>
      </tr>
      <tr>
        <td id="L1723" class="blob-num js-line-number" data-line-number="1723"></td>
        <td id="LC1723" class="blob-code js-file-line">   &quot;execution_count&quot;: 22,</td>
      </tr>
      <tr>
        <td id="L1724" class="blob-num js-line-number" data-line-number="1724"></td>
        <td id="LC1724" class="blob-code js-file-line">   &quot;metadata&quot;: {</td>
      </tr>
      <tr>
        <td id="L1725" class="blob-num js-line-number" data-line-number="1725"></td>
        <td id="LC1725" class="blob-code js-file-line">    &quot;collapsed&quot;: false</td>
      </tr>
      <tr>
        <td id="L1726" class="blob-num js-line-number" data-line-number="1726"></td>
        <td id="LC1726" class="blob-code js-file-line">   },</td>
      </tr>
      <tr>
        <td id="L1727" class="blob-num js-line-number" data-line-number="1727"></td>
        <td id="LC1727" class="blob-code js-file-line">   &quot;outputs&quot;: [],</td>
      </tr>
      <tr>
        <td id="L1728" class="blob-num js-line-number" data-line-number="1728"></td>
        <td id="LC1728" class="blob-code js-file-line">   &quot;source&quot;: [</td>
      </tr>
      <tr>
        <td id="L1729" class="blob-num js-line-number" data-line-number="1729"></td>
        <td id="LC1729" class="blob-code js-file-line">    &quot;from scipy.stats import norm\n&quot;,</td>
      </tr>
      <tr>
        <td id="L1730" class="blob-num js-line-number" data-line-number="1730"></td>
        <td id="LC1730" class="blob-code js-file-line">    &quot;from scipy.stats import lognorm\n&quot;,</td>
      </tr>
      <tr>
        <td id="L1731" class="blob-num js-line-number" data-line-number="1731"></td>
        <td id="LC1731" class="blob-code js-file-line">    &quot;from scipy.integrate import quad\n&quot;,</td>
      </tr>
      <tr>
        <td id="L1732" class="blob-num js-line-number" data-line-number="1732"></td>
        <td id="LC1732" class="blob-code js-file-line">    &quot;from scipy.optimize import newton&quot;</td>
      </tr>
      <tr>
        <td id="L1733" class="blob-num js-line-number" data-line-number="1733"></td>
        <td id="LC1733" class="blob-code js-file-line">   ]</td>
      </tr>
      <tr>
        <td id="L1734" class="blob-num js-line-number" data-line-number="1734"></td>
        <td id="LC1734" class="blob-code js-file-line">  },</td>
      </tr>
      <tr>
        <td id="L1735" class="blob-num js-line-number" data-line-number="1735"></td>
        <td id="LC1735" class="blob-code js-file-line">  {</td>
      </tr>
      <tr>
        <td id="L1736" class="blob-num js-line-number" data-line-number="1736"></td>
        <td id="LC1736" class="blob-code js-file-line">   &quot;cell_type&quot;: &quot;code&quot;,</td>
      </tr>
      <tr>
        <td id="L1737" class="blob-num js-line-number" data-line-number="1737"></td>
        <td id="LC1737" class="blob-code js-file-line">   &quot;execution_count&quot;: 23,</td>
      </tr>
      <tr>
        <td id="L1738" class="blob-num js-line-number" data-line-number="1738"></td>
        <td id="LC1738" class="blob-code js-file-line">   &quot;metadata&quot;: {</td>
      </tr>
      <tr>
        <td id="L1739" class="blob-num js-line-number" data-line-number="1739"></td>
        <td id="LC1739" class="blob-code js-file-line">    &quot;collapsed&quot;: false</td>
      </tr>
      <tr>
        <td id="L1740" class="blob-num js-line-number" data-line-number="1740"></td>
        <td id="LC1740" class="blob-code js-file-line">   },</td>
      </tr>
      <tr>
        <td id="L1741" class="blob-num js-line-number" data-line-number="1741"></td>
        <td id="LC1741" class="blob-code js-file-line">   &quot;outputs&quot;: [],</td>
      </tr>
      <tr>
        <td id="L1742" class="blob-num js-line-number" data-line-number="1742"></td>
        <td id="LC1742" class="blob-code js-file-line">   &quot;source&quot;: [</td>
      </tr>
      <tr>
        <td id="L1743" class="blob-num js-line-number" data-line-number="1743"></td>
        <td id="LC1743" class="blob-code js-file-line">    &quot;def LaborDemand(s,al,ak,phi,rho,gam):\n&quot;,</td>
      </tr>
      <tr>
        <td id="L1744" class="blob-num js-line-number" data-line-number="1744"></td>
        <td id="LC1744" class="blob-code js-file-line">    &quot;    Z=al*(al/w)**(rho/(1-rho))+ak*(ak/r)**(rho/(1-rho))\n&quot;,</td>
      </tr>
      <tr>
        <td id="L1745" class="blob-num js-line-number" data-line-number="1745"></td>
        <td id="LC1745" class="blob-code js-file-line">    &quot;    CommonComponent=(Z**((phi/(1-phi))*((1-rho)/rho))+s*(s/q)**(phi/(1-phi)))\n&quot;,</td>
      </tr>
      <tr>
        <td id="L1746" class="blob-num js-line-number" data-line-number="1746"></td>
        <td id="LC1746" class="blob-code js-file-line">    &quot;    CommonComponentPower=CommonComponent**((gam-phi)/(phi*(1-gam)))\n&quot;,</td>
      </tr>
      <tr>
        <td id="L1747" class="blob-num js-line-number" data-line-number="1747"></td>
        <td id="LC1747" class="blob-code js-file-line">    &quot;    ld=gam**(1/(1-gam))*CommonComponentPower*Z**((phi-rho)/(rho*(1-phi)))*(al/w)**(1/(1-rho))\n&quot;,</td>
      </tr>
      <tr>
        <td id="L1748" class="blob-num js-line-number" data-line-number="1748"></td>
        <td id="LC1748" class="blob-code js-file-line">    &quot;    return ld\n&quot;,</td>
      </tr>
      <tr>
        <td id="L1749" class="blob-num js-line-number" data-line-number="1749"></td>
        <td id="LC1749" class="blob-code js-file-line">    &quot;\n&quot;,</td>
      </tr>
      <tr>
        <td id="L1750" class="blob-num js-line-number" data-line-number="1750"></td>
        <td id="LC1750" class="blob-code js-file-line">    &quot;def CapitalDemand(s,al,ak,phi,rho,gam):\n&quot;,</td>
      </tr>
      <tr>
        <td id="L1751" class="blob-num js-line-number" data-line-number="1751"></td>
        <td id="LC1751" class="blob-code js-file-line">    &quot;    Z=al*(al/w)**(rho/(1-rho))+ak*(ak/r)**(rho/(1-rho))\n&quot;,</td>
      </tr>
      <tr>
        <td id="L1752" class="blob-num js-line-number" data-line-number="1752"></td>
        <td id="LC1752" class="blob-code js-file-line">    &quot;    CommonComponent=(Z**((phi/(1-phi))*((1-rho)/rho))+s*(s/q)**(phi/(1-phi)))\n&quot;,</td>
      </tr>
      <tr>
        <td id="L1753" class="blob-num js-line-number" data-line-number="1753"></td>
        <td id="LC1753" class="blob-code js-file-line">    &quot;    CommonComponentPower=CommonComponent**((gam-phi)/(phi*(1-gam)))\n&quot;,</td>
      </tr>
      <tr>
        <td id="L1754" class="blob-num js-line-number" data-line-number="1754"></td>
        <td id="LC1754" class="blob-code js-file-line">    &quot;    kd=gam**(1/(1-gam))*CommonComponentPower*Z**((phi-rho)/(rho*(1-phi)))*(ak/r)**(1/(1-rho))\n&quot;,</td>
      </tr>
      <tr>
        <td id="L1755" class="blob-num js-line-number" data-line-number="1755"></td>
        <td id="LC1755" class="blob-code js-file-line">    &quot;    return kd\n&quot;,</td>
      </tr>
      <tr>
        <td id="L1756" class="blob-num js-line-number" data-line-number="1756"></td>
        <td id="LC1756" class="blob-code js-file-line">    &quot;\n&quot;,</td>
      </tr>
      <tr>
        <td id="L1757" class="blob-num js-line-number" data-line-number="1757"></td>
        <td id="LC1757" class="blob-code js-file-line">    &quot;def LandDemand(s,al,ak,phi,rho,gam):\n&quot;,</td>
      </tr>
      <tr>
        <td id="L1758" class="blob-num js-line-number" data-line-number="1758"></td>
        <td id="LC1758" class="blob-code js-file-line">    &quot;    Z=al*(al/w)**(rho/(1-rho))+ak*(ak/r)**(rho/(1-rho))\n&quot;,</td>
      </tr>
      <tr>
        <td id="L1759" class="blob-num js-line-number" data-line-number="1759"></td>
        <td id="LC1759" class="blob-code js-file-line">    &quot;    CommonComponent=(Z**((phi/(1-phi))*((1-rho)/rho))+s*(s/q)**(phi/(1-phi)))\n&quot;,</td>
      </tr>
      <tr>
        <td id="L1760" class="blob-num js-line-number" data-line-number="1760"></td>
        <td id="LC1760" class="blob-code js-file-line">    &quot;    CommonComponentPower=CommonComponent**((gam-phi)/(phi*(1-gam)))\n&quot;,</td>
      </tr>
      <tr>
        <td id="L1761" class="blob-num js-line-number" data-line-number="1761"></td>
        <td id="LC1761" class="blob-code js-file-line">    &quot;    td=gam**(1/(1-gam))*CommonComponentPower*(s/q)**(1/(1-phi))\n&quot;,</td>
      </tr>
      <tr>
        <td id="L1762" class="blob-num js-line-number" data-line-number="1762"></td>
        <td id="LC1762" class="blob-code js-file-line">    &quot;    return td\n&quot;,</td>
      </tr>
      <tr>
        <td id="L1763" class="blob-num js-line-number" data-line-number="1763"></td>
        <td id="LC1763" class="blob-code js-file-line">    &quot;\n&quot;,</td>
      </tr>
      <tr>
        <td id="L1764" class="blob-num js-line-number" data-line-number="1764"></td>
        <td id="LC1764" class="blob-code js-file-line">    &quot;def LaborLandRat(s,al,ak,phi,rho,gam):\n&quot;,</td>
      </tr>
      <tr>
        <td id="L1765" class="blob-num js-line-number" data-line-number="1765"></td>
        <td id="LC1765" class="blob-code js-file-line">    &quot;    part1=(al/w)**(1/(1-rho))\n&quot;,</td>
      </tr>
      <tr>
        <td id="L1766" class="blob-num js-line-number" data-line-number="1766"></td>
        <td id="LC1766" class="blob-code js-file-line">    &quot;    part2=(s/q)**(1/(1-phi))\n&quot;,</td>
      </tr>
      <tr>
        <td id="L1767" class="blob-num js-line-number" data-line-number="1767"></td>
        <td id="LC1767" class="blob-code js-file-line">    &quot;    part3=(ak*(ak/r)**(1/(1-rho))+al*(al/w)**(1/(1-rho)))**((phi-rho)/(rho*(1-phi)))\n&quot;,</td>
      </tr>
      <tr>
        <td id="L1768" class="blob-num js-line-number" data-line-number="1768"></td>
        <td id="LC1768" class="blob-code js-file-line">    &quot;    rat=part3*part1/part2\n&quot;,</td>
      </tr>
      <tr>
        <td id="L1769" class="blob-num js-line-number" data-line-number="1769"></td>
        <td id="LC1769" class="blob-code js-file-line">    &quot;    return rat\n&quot;,</td>
      </tr>
      <tr>
        <td id="L1770" class="blob-num js-line-number" data-line-number="1770"></td>
        <td id="LC1770" class="blob-code js-file-line">    &quot;\n&quot;,</td>
      </tr>
      <tr>
        <td id="L1771" class="blob-num js-line-number" data-line-number="1771"></td>
        <td id="LC1771" class="blob-code js-file-line">    &quot;def CapitalLandRat(s,al,ak,phi,rho,gam):\n&quot;,</td>
      </tr>
      <tr>
        <td id="L1772" class="blob-num js-line-number" data-line-number="1772"></td>
        <td id="LC1772" class="blob-code js-file-line">    &quot;    part1=(ak/r)**(1/(1-rho))\n&quot;,</td>
      </tr>
      <tr>
        <td id="L1773" class="blob-num js-line-number" data-line-number="1773"></td>
        <td id="LC1773" class="blob-code js-file-line">    &quot;    part2=(s/q)**(1/(1-phi))\n&quot;,</td>
      </tr>
      <tr>
        <td id="L1774" class="blob-num js-line-number" data-line-number="1774"></td>
        <td id="LC1774" class="blob-code js-file-line">    &quot;    part3=(ak*(ak/r)**(1/(1-rho))+al*(al/w)**(1/(1-rho)))**((phi-rho)/(rho*(1-phi)))\n&quot;,</td>
      </tr>
      <tr>
        <td id="L1775" class="blob-num js-line-number" data-line-number="1775"></td>
        <td id="LC1775" class="blob-code js-file-line">    &quot;    rat=part3*part1/part2\n&quot;,</td>
      </tr>
      <tr>
        <td id="L1776" class="blob-num js-line-number" data-line-number="1776"></td>
        <td id="LC1776" class="blob-code js-file-line">    &quot;    return rat&quot;</td>
      </tr>
      <tr>
        <td id="L1777" class="blob-num js-line-number" data-line-number="1777"></td>
        <td id="LC1777" class="blob-code js-file-line">   ]</td>
      </tr>
      <tr>
        <td id="L1778" class="blob-num js-line-number" data-line-number="1778"></td>
        <td id="LC1778" class="blob-code js-file-line">  },</td>
      </tr>
      <tr>
        <td id="L1779" class="blob-num js-line-number" data-line-number="1779"></td>
        <td id="LC1779" class="blob-code js-file-line">  {</td>
      </tr>
      <tr>
        <td id="L1780" class="blob-num js-line-number" data-line-number="1780"></td>
        <td id="LC1780" class="blob-code js-file-line">   &quot;cell_type&quot;: &quot;code&quot;,</td>
      </tr>
      <tr>
        <td id="L1781" class="blob-num js-line-number" data-line-number="1781"></td>
        <td id="LC1781" class="blob-code js-file-line">   &quot;execution_count&quot;: 24,</td>
      </tr>
      <tr>
        <td id="L1782" class="blob-num js-line-number" data-line-number="1782"></td>
        <td id="LC1782" class="blob-code js-file-line">   &quot;metadata&quot;: {</td>
      </tr>
      <tr>
        <td id="L1783" class="blob-num js-line-number" data-line-number="1783"></td>
        <td id="LC1783" class="blob-code js-file-line">    &quot;collapsed&quot;: false</td>
      </tr>
      <tr>
        <td id="L1784" class="blob-num js-line-number" data-line-number="1784"></td>
        <td id="LC1784" class="blob-code js-file-line">   },</td>
      </tr>
      <tr>
        <td id="L1785" class="blob-num js-line-number" data-line-number="1785"></td>
        <td id="LC1785" class="blob-code js-file-line">   &quot;outputs&quot;: [],</td>
      </tr>
      <tr>
        <td id="L1786" class="blob-num js-line-number" data-line-number="1786"></td>
        <td id="LC1786" class="blob-code js-file-line">   &quot;source&quot;: [</td>
      </tr>
      <tr>
        <td id="L1787" class="blob-num js-line-number" data-line-number="1787"></td>
        <td id="LC1787" class="blob-code js-file-line">    &quot;def intLabor(s,mu,sigma,al,ak,phi,rho,gam):\n&quot;,</td>
      </tr>
      <tr>
        <td id="L1788" class="blob-num js-line-number" data-line-number="1788"></td>
        <td id="LC1788" class="blob-code js-file-line">    &quot;    val1=LaborLandRat(s,al,ak,phi,rho,gam)\n&quot;,</td>
      </tr>
      <tr>
        <td id="L1789" class="blob-num js-line-number" data-line-number="1789"></td>
        <td id="LC1789" class="blob-code js-file-line">    &quot;    val2=lognorm.pdf(s,sigma,mu)\n&quot;,</td>
      </tr>
      <tr>
        <td id="L1790" class="blob-num js-line-number" data-line-number="1790"></td>
        <td id="LC1790" class="blob-code js-file-line">    &quot;    return val1*val2\n&quot;,</td>
      </tr>
      <tr>
        <td id="L1791" class="blob-num js-line-number" data-line-number="1791"></td>
        <td id="LC1791" class="blob-code js-file-line">    &quot;\n&quot;,</td>
      </tr>
      <tr>
        <td id="L1792" class="blob-num js-line-number" data-line-number="1792"></td>
        <td id="LC1792" class="blob-code js-file-line">    &quot;def intCapital(s,mu,sigma,al,ak,phi,rho,gam):\n&quot;,</td>
      </tr>
      <tr>
        <td id="L1793" class="blob-num js-line-number" data-line-number="1793"></td>
        <td id="LC1793" class="blob-code js-file-line">    &quot;    val1=CapitalLandRat(s,al,ak,phi,rho,gam)\n&quot;,</td>
      </tr>
      <tr>
        <td id="L1794" class="blob-num js-line-number" data-line-number="1794"></td>
        <td id="LC1794" class="blob-code js-file-line">    &quot;    val2=lognorm.pdf(s,sigma,mu)\n&quot;,</td>
      </tr>
      <tr>
        <td id="L1795" class="blob-num js-line-number" data-line-number="1795"></td>
        <td id="LC1795" class="blob-code js-file-line">    &quot;    return val1*val2\n&quot;,</td>
      </tr>
      <tr>
        <td id="L1796" class="blob-num js-line-number" data-line-number="1796"></td>
        <td id="LC1796" class="blob-code js-file-line">    &quot;\n&quot;,</td>
      </tr>
      <tr>
        <td id="L1797" class="blob-num js-line-number" data-line-number="1797"></td>
        <td id="LC1797" class="blob-code js-file-line">    &quot;def intLand(s,mu,sigma,al,ak,phi,rho,gam):\n&quot;,</td>
      </tr>
      <tr>
        <td id="L1798" class="blob-num js-line-number" data-line-number="1798"></td>
        <td id="LC1798" class="blob-code js-file-line">    &quot;    val1=LandDemand(s,al,ak,phi,rho,gam)\n&quot;,</td>
      </tr>
      <tr>
        <td id="L1799" class="blob-num js-line-number" data-line-number="1799"></td>
        <td id="LC1799" class="blob-code js-file-line">    &quot;    val2=lognorm.pdf(s,sigma,mu)\n&quot;,</td>
      </tr>
      <tr>
        <td id="L1800" class="blob-num js-line-number" data-line-number="1800"></td>
        <td id="LC1800" class="blob-code js-file-line">    &quot;    return val1*val2&quot;</td>
      </tr>
      <tr>
        <td id="L1801" class="blob-num js-line-number" data-line-number="1801"></td>
        <td id="LC1801" class="blob-code js-file-line">   ]</td>
      </tr>
      <tr>
        <td id="L1802" class="blob-num js-line-number" data-line-number="1802"></td>
        <td id="LC1802" class="blob-code js-file-line">  },</td>
      </tr>
      <tr>
        <td id="L1803" class="blob-num js-line-number" data-line-number="1803"></td>
        <td id="LC1803" class="blob-code js-file-line">  {</td>
      </tr>
      <tr>
        <td id="L1804" class="blob-num js-line-number" data-line-number="1804"></td>
        <td id="LC1804" class="blob-code js-file-line">   &quot;cell_type&quot;: &quot;markdown&quot;,</td>
      </tr>
      <tr>
        <td id="L1805" class="blob-num js-line-number" data-line-number="1805"></td>
        <td id="LC1805" class="blob-code js-file-line">   &quot;metadata&quot;: {},</td>
      </tr>
      <tr>
        <td id="L1806" class="blob-num js-line-number" data-line-number="1806"></td>
        <td id="LC1806" class="blob-code js-file-line">   &quot;source&quot;: [</td>
      </tr>
      <tr>
        <td id="L1807" class="blob-num js-line-number" data-line-number="1807"></td>
        <td id="LC1807" class="blob-code js-file-line">    &quot;Just a check to make sure that we can integrate the labor fuunction for some reasonable values:&quot;</td>
      </tr>
      <tr>
        <td id="L1808" class="blob-num js-line-number" data-line-number="1808"></td>
        <td id="LC1808" class="blob-code js-file-line">   ]</td>
      </tr>
      <tr>
        <td id="L1809" class="blob-num js-line-number" data-line-number="1809"></td>
        <td id="LC1809" class="blob-code js-file-line">  },</td>
      </tr>
      <tr>
        <td id="L1810" class="blob-num js-line-number" data-line-number="1810"></td>
        <td id="LC1810" class="blob-code js-file-line">  {</td>
      </tr>
      <tr>
        <td id="L1811" class="blob-num js-line-number" data-line-number="1811"></td>
        <td id="LC1811" class="blob-code js-file-line">   &quot;cell_type&quot;: &quot;code&quot;,</td>
      </tr>
      <tr>
        <td id="L1812" class="blob-num js-line-number" data-line-number="1812"></td>
        <td id="LC1812" class="blob-code js-file-line">   &quot;execution_count&quot;: 25,</td>
      </tr>
      <tr>
        <td id="L1813" class="blob-num js-line-number" data-line-number="1813"></td>
        <td id="LC1813" class="blob-code js-file-line">   &quot;metadata&quot;: {</td>
      </tr>
      <tr>
        <td id="L1814" class="blob-num js-line-number" data-line-number="1814"></td>
        <td id="LC1814" class="blob-code js-file-line">    &quot;collapsed&quot;: false</td>
      </tr>
      <tr>
        <td id="L1815" class="blob-num js-line-number" data-line-number="1815"></td>
        <td id="LC1815" class="blob-code js-file-line">   },</td>
      </tr>
      <tr>
        <td id="L1816" class="blob-num js-line-number" data-line-number="1816"></td>
        <td id="LC1816" class="blob-code js-file-line">   &quot;outputs&quot;: [</td>
      </tr>
      <tr>
        <td id="L1817" class="blob-num js-line-number" data-line-number="1817"></td>
        <td id="LC1817" class="blob-code js-file-line">    {</td>
      </tr>
      <tr>
        <td id="L1818" class="blob-num js-line-number" data-line-number="1818"></td>
        <td id="LC1818" class="blob-code js-file-line">     &quot;name&quot;: &quot;stdout&quot;,</td>
      </tr>
      <tr>
        <td id="L1819" class="blob-num js-line-number" data-line-number="1819"></td>
        <td id="LC1819" class="blob-code js-file-line">     &quot;output_type&quot;: &quot;stream&quot;,</td>
      </tr>
      <tr>
        <td id="L1820" class="blob-num js-line-number" data-line-number="1820"></td>
        <td id="LC1820" class="blob-code js-file-line">     &quot;text&quot;: [</td>
      </tr>
      <tr>
        <td id="L1821" class="blob-num js-line-number" data-line-number="1821"></td>
        <td id="LC1821" class="blob-code js-file-line">      &quot;(32.000462709838644, 1.6126777579773305e-07)\n&quot;,</td>
      </tr>
      <tr>
        <td id="L1822" class="blob-num js-line-number" data-line-number="1822"></td>
        <td id="LC1822" class="blob-code js-file-line">      &quot;(32.000462709838644, 1.6126777579773305e-07)\n&quot;</td>
      </tr>
      <tr>
        <td id="L1823" class="blob-num js-line-number" data-line-number="1823"></td>
        <td id="LC1823" class="blob-code js-file-line">     ]</td>
      </tr>
      <tr>
        <td id="L1824" class="blob-num js-line-number" data-line-number="1824"></td>
        <td id="LC1824" class="blob-code js-file-line">    }</td>
      </tr>
      <tr>
        <td id="L1825" class="blob-num js-line-number" data-line-number="1825"></td>
        <td id="LC1825" class="blob-code js-file-line">   ],</td>
      </tr>
      <tr>
        <td id="L1826" class="blob-num js-line-number" data-line-number="1826"></td>
        <td id="LC1826" class="blob-code js-file-line">   &quot;source&quot;: [</td>
      </tr>
      <tr>
        <td id="L1827" class="blob-num js-line-number" data-line-number="1827"></td>
        <td id="LC1827" class="blob-code js-file-line">    &quot;M=.1\n&quot;,</td>
      </tr>
      <tr>
        <td id="L1828" class="blob-num js-line-number" data-line-number="1828"></td>
        <td id="LC1828" class="blob-code js-file-line">    &quot;S=1.0\n&quot;,</td>
      </tr>
      <tr>
        <td id="L1829" class="blob-num js-line-number" data-line-number="1829"></td>
        <td id="LC1829" class="blob-code js-file-line">    &quot;AL=1.0\n&quot;,</td>
      </tr>
      <tr>
        <td id="L1830" class="blob-num js-line-number" data-line-number="1830"></td>
        <td id="LC1830" class="blob-code js-file-line">    &quot;AK=1.0\n&quot;,</td>
      </tr>
      <tr>
        <td id="L1831" class="blob-num js-line-number" data-line-number="1831"></td>
        <td id="LC1831" class="blob-code js-file-line">    &quot;PHI=.7\n&quot;,</td>
      </tr>
      <tr>
        <td id="L1832" class="blob-num js-line-number" data-line-number="1832"></td>
        <td id="LC1832" class="blob-code js-file-line">    &quot;RHO=.5\n&quot;,</td>
      </tr>
      <tr>
        <td id="L1833" class="blob-num js-line-number" data-line-number="1833"></td>
        <td id="LC1833" class="blob-code js-file-line">    &quot;GAM=.8\n&quot;,</td>
      </tr>
      <tr>
        <td id="L1834" class="blob-num js-line-number" data-line-number="1834"></td>
        <td id="LC1834" class="blob-code js-file-line">    &quot;I1 = quad(intLabor, 0, np.inf, args=(M,S,AL,AK,PHI,RHO,GAM))\n&quot;,</td>
      </tr>
      <tr>
        <td id="L1835" class="blob-num js-line-number" data-line-number="1835"></td>
        <td id="LC1835" class="blob-code js-file-line">    &quot;I2 = quad(intCapital, 0, np.inf, args=(M,S,AL,AK,PHI,RHO,GAM))\n&quot;,</td>
      </tr>
      <tr>
        <td id="L1836" class="blob-num js-line-number" data-line-number="1836"></td>
        <td id="LC1836" class="blob-code js-file-line">    &quot;del M,S,AL,AK,PHI,RHO,GAM                                        #Just so they aren&#39;t laying around - keep that workspace neat!\n&quot;,</td>
      </tr>
      <tr>
        <td id="L1837" class="blob-num js-line-number" data-line-number="1837"></td>
        <td id="LC1837" class="blob-code js-file-line">    &quot;print I1\n&quot;,</td>
      </tr>
      <tr>
        <td id="L1838" class="blob-num js-line-number" data-line-number="1838"></td>
        <td id="LC1838" class="blob-code js-file-line">    &quot;print I2&quot;</td>
      </tr>
      <tr>
        <td id="L1839" class="blob-num js-line-number" data-line-number="1839"></td>
        <td id="LC1839" class="blob-code js-file-line">   ]</td>
      </tr>
      <tr>
        <td id="L1840" class="blob-num js-line-number" data-line-number="1840"></td>
        <td id="LC1840" class="blob-code js-file-line">  },</td>
      </tr>
      <tr>
        <td id="L1841" class="blob-num js-line-number" data-line-number="1841"></td>
        <td id="LC1841" class="blob-code js-file-line">  {</td>
      </tr>
      <tr>
        <td id="L1842" class="blob-num js-line-number" data-line-number="1842"></td>
        <td id="LC1842" class="blob-code js-file-line">   &quot;cell_type&quot;: &quot;markdown&quot;,</td>
      </tr>
      <tr>
        <td id="L1843" class="blob-num js-line-number" data-line-number="1843"></td>
        <td id="LC1843" class="blob-code js-file-line">   &quot;metadata&quot;: {},</td>
      </tr>
      <tr>
        <td id="L1844" class="blob-num js-line-number" data-line-number="1844"></td>
        <td id="LC1844" class="blob-code js-file-line">   &quot;source&quot;: [</td>
      </tr>
      <tr>
        <td id="L1845" class="blob-num js-line-number" data-line-number="1845"></td>
        <td id="LC1845" class="blob-code js-file-line">    &quot;Next we define an objective function that matches values.  We are going to try to completely use the distributional information we have on labor, capital, and land demand. Recall that the labor and capital demand is in sextile form, while the land demand is in quantile form. Let&#39;s set up the sextiles and octtiles:&quot;</td>
      </tr>
      <tr>
        <td id="L1846" class="blob-num js-line-number" data-line-number="1846"></td>
        <td id="LC1846" class="blob-code js-file-line">   ]</td>
      </tr>
      <tr>
        <td id="L1847" class="blob-num js-line-number" data-line-number="1847"></td>
        <td id="LC1847" class="blob-code js-file-line">  },</td>
      </tr>
      <tr>
        <td id="L1848" class="blob-num js-line-number" data-line-number="1848"></td>
        <td id="LC1848" class="blob-code js-file-line">  {</td>
      </tr>
      <tr>
        <td id="L1849" class="blob-num js-line-number" data-line-number="1849"></td>
        <td id="LC1849" class="blob-code js-file-line">   &quot;cell_type&quot;: &quot;markdown&quot;,</td>
      </tr>
      <tr>
        <td id="L1850" class="blob-num js-line-number" data-line-number="1850"></td>
        <td id="LC1850" class="blob-code js-file-line">   &quot;metadata&quot;: {},</td>
      </tr>
      <tr>
        <td id="L1851" class="blob-num js-line-number" data-line-number="1851"></td>
        <td id="LC1851" class="blob-code js-file-line">   &quot;source&quot;: [</td>
      </tr>
      <tr>
        <td id="L1852" class="blob-num js-line-number" data-line-number="1852"></td>
        <td id="LC1852" class="blob-code js-file-line">    &quot;One last bit of theory in pursuit of the idea of developing things in as closed-form as possible. We shall also want to look at the density of farms between the cut points, (0,10),(10,50), etc. Can we form the density directly from the land demand function? Recall that land demand is:\n&quot;,</td>
      </tr>
      <tr>
        <td id="L1853" class="blob-num js-line-number" data-line-number="1853"></td>
        <td id="LC1853" class="blob-code js-file-line">    &quot;\n&quot;,</td>
      </tr>
      <tr>
        <td id="L1854" class="blob-num js-line-number" data-line-number="1854"></td>
        <td id="LC1854" class="blob-code js-file-line">    &quot;$t=\\gamma^\\frac{1}{1-\\gamma}\\left[Z^{\\frac{\\phi}{1-\\phi}\\frac{1-\\rho}{\\rho}}+s\\left(\\frac{s}{q}\\right)^\\frac{\\phi}{1-\\phi}\\right]^\\frac{\\gamma-\\phi}{\\phi(1-\\gamma)}\\left(\\frac{s}{q}\\right)^\\frac{1}{1-\\phi}$\n&quot;,</td>
      </tr>
      <tr>
        <td id="L1855" class="blob-num js-line-number" data-line-number="1855"></td>
        <td id="LC1855" class="blob-code js-file-line">    &quot;\n&quot;,</td>
      </tr>
      <tr>
        <td id="L1856" class="blob-num js-line-number" data-line-number="1856"></td>
        <td id="LC1856" class="blob-code js-file-line">    &quot;What we want is to find the value of $s$ that corresponds with the given threshold or cut point values of $t=10,50,100,500,1000,2000$. Then, we can integrate demand functions between cut points $s(t_1),s(t_2),...s(t_N)$ and then go on from there. To do so, we will have to be able to find a value of $s$ given a value of $t$. Note we could be more scientific about this given the closed-form (i.e., program in the derivative of the function), but for now this does the job.&quot;</td>
      </tr>
      <tr>
        <td id="L1857" class="blob-num js-line-number" data-line-number="1857"></td>
        <td id="LC1857" class="blob-code js-file-line">   ]</td>
      </tr>
      <tr>
        <td id="L1858" class="blob-num js-line-number" data-line-number="1858"></td>
        <td id="LC1858" class="blob-code js-file-line">  },</td>
      </tr>
      <tr>
        <td id="L1859" class="blob-num js-line-number" data-line-number="1859"></td>
        <td id="LC1859" class="blob-code js-file-line">  {</td>
      </tr>
      <tr>
        <td id="L1860" class="blob-num js-line-number" data-line-number="1860"></td>
        <td id="LC1860" class="blob-code js-file-line">   &quot;cell_type&quot;: &quot;code&quot;,</td>
      </tr>
      <tr>
        <td id="L1861" class="blob-num js-line-number" data-line-number="1861"></td>
        <td id="LC1861" class="blob-code js-file-line">   &quot;execution_count&quot;: 26,</td>
      </tr>
      <tr>
        <td id="L1862" class="blob-num js-line-number" data-line-number="1862"></td>
        <td id="LC1862" class="blob-code js-file-line">   &quot;metadata&quot;: {</td>
      </tr>
      <tr>
        <td id="L1863" class="blob-num js-line-number" data-line-number="1863"></td>
        <td id="LC1863" class="blob-code js-file-line">    &quot;collapsed&quot;: false</td>
      </tr>
      <tr>
        <td id="L1864" class="blob-num js-line-number" data-line-number="1864"></td>
        <td id="LC1864" class="blob-code js-file-line">   },</td>
      </tr>
      <tr>
        <td id="L1865" class="blob-num js-line-number" data-line-number="1865"></td>
        <td id="LC1865" class="blob-code js-file-line">   &quot;outputs&quot;: [</td>
      </tr>
      <tr>
        <td id="L1866" class="blob-num js-line-number" data-line-number="1866"></td>
        <td id="LC1866" class="blob-code js-file-line">    {</td>
      </tr>
      <tr>
        <td id="L1867" class="blob-num js-line-number" data-line-number="1867"></td>
        <td id="LC1867" class="blob-code js-file-line">     &quot;name&quot;: &quot;stdout&quot;,</td>
      </tr>
      <tr>
        <td id="L1868" class="blob-num js-line-number" data-line-number="1868"></td>
        <td id="LC1868" class="blob-code js-file-line">     &quot;output_type&quot;: &quot;stream&quot;,</td>
      </tr>
      <tr>
        <td id="L1869" class="blob-num js-line-number" data-line-number="1869"></td>
        <td id="LC1869" class="blob-code js-file-line">     &quot;text&quot;: [</td>
      </tr>
      <tr>
        <td id="L1870" class="blob-num js-line-number" data-line-number="1870"></td>
        <td id="LC1870" class="blob-code js-file-line">      &quot;[[ 1.13325532]\n&quot;,</td>
      </tr>
      <tr>
        <td id="L1871" class="blob-num js-line-number" data-line-number="1871"></td>
        <td id="LC1871" class="blob-code js-file-line">      &quot; [ 1.39244988]\n&quot;,</td>
      </tr>
      <tr>
        <td id="L1872" class="blob-num js-line-number" data-line-number="1872"></td>
        <td id="LC1872" class="blob-code js-file-line">      &quot; [ 1.52080596]\n&quot;,</td>
      </tr>
      <tr>
        <td id="L1873" class="blob-num js-line-number" data-line-number="1873"></td>
        <td id="LC1873" class="blob-code js-file-line">      &quot; [ 1.70818487]\n&quot;,</td>
      </tr>
      <tr>
        <td id="L1874" class="blob-num js-line-number" data-line-number="1874"></td>
        <td id="LC1874" class="blob-code js-file-line">      &quot; [ 1.86469125]\n&quot;,</td>
      </tr>
      <tr>
        <td id="L1875" class="blob-num js-line-number" data-line-number="1875"></td>
        <td id="LC1875" class="blob-code js-file-line">      &quot; [ 2.03520425]\n&quot;,</td>
      </tr>
      <tr>
        <td id="L1876" class="blob-num js-line-number" data-line-number="1876"></td>
        <td id="LC1876" class="blob-code js-file-line">      &quot; [ 2.22100482]]\n&quot;</td>
      </tr>
      <tr>
        <td id="L1877" class="blob-num js-line-number" data-line-number="1877"></td>
        <td id="LC1877" class="blob-code js-file-line">     ]</td>
      </tr>
      <tr>
        <td id="L1878" class="blob-num js-line-number" data-line-number="1878"></td>
        <td id="LC1878" class="blob-code js-file-line">    }</td>
      </tr>
      <tr>
        <td id="L1879" class="blob-num js-line-number" data-line-number="1879"></td>
        <td id="LC1879" class="blob-code js-file-line">   ],</td>
      </tr>
      <tr>
        <td id="L1880" class="blob-num js-line-number" data-line-number="1880"></td>
        <td id="LC1880" class="blob-code js-file-line">   &quot;source&quot;: [</td>
      </tr>
      <tr>
        <td id="L1881" class="blob-num js-line-number" data-line-number="1881"></td>
        <td id="LC1881" class="blob-code js-file-line">    &quot;def findsGivent(s,t,al,ak,phi,rho,gam):\n&quot;,</td>
      </tr>
      <tr>
        <td id="L1882" class="blob-num js-line-number" data-line-number="1882"></td>
        <td id="LC1882" class="blob-code js-file-line">    &quot;    return t-LandDemand(s,al,ak,phi,rho,gam)\n&quot;,</td>
      </tr>
      <tr>
        <td id="L1883" class="blob-num js-line-number" data-line-number="1883"></td>
        <td id="LC1883" class="blob-code js-file-line">    &quot;\n&quot;,</td>
      </tr>
      <tr>
        <td id="L1884" class="blob-num js-line-number" data-line-number="1884"></td>
        <td id="LC1884" class="blob-code js-file-line">    &quot;AL=.1\n&quot;,</td>
      </tr>
      <tr>
        <td id="L1885" class="blob-num js-line-number" data-line-number="1885"></td>
        <td id="LC1885" class="blob-code js-file-line">    &quot;AK=.1\n&quot;,</td>
      </tr>
      <tr>
        <td id="L1886" class="blob-num js-line-number" data-line-number="1886"></td>
        <td id="LC1886" class="blob-code js-file-line">    &quot;PHI=.5\n&quot;,</td>
      </tr>
      <tr>
        <td id="L1887" class="blob-num js-line-number" data-line-number="1887"></td>
        <td id="LC1887" class="blob-code js-file-line">    &quot;RHO=.7\n&quot;,</td>
      </tr>
      <tr>
        <td id="L1888" class="blob-num js-line-number" data-line-number="1888"></td>
        <td id="LC1888" class="blob-code js-file-line">    &quot;GAM=.8\n&quot;,</td>
      </tr>
      <tr>
        <td id="L1889" class="blob-num js-line-number" data-line-number="1889"></td>
        <td id="LC1889" class="blob-code js-file-line">    &quot;T=1\n&quot;,</td>
      </tr>
      <tr>
        <td id="L1890" class="blob-num js-line-number" data-line-number="1890"></td>
        <td id="LC1890" class="blob-code js-file-line">    &quot;sCuts=np.zeros((7,1))\n&quot;,</td>
      </tr>
      <tr>
        <td id="L1891" class="blob-num js-line-number" data-line-number="1891"></td>
        <td id="LC1891" class="blob-code js-file-line">    &quot;newton(findsGivent,1,fprime=None,args=(T,AL,AK,PHI,RHO,GAM))\n&quot;,</td>
      </tr>
      <tr>
        <td id="L1892" class="blob-num js-line-number" data-line-number="1892"></td>
        <td id="LC1892" class="blob-code js-file-line">    &quot;for i in range(0,7):\n&quot;,</td>
      </tr>
      <tr>
        <td id="L1893" class="blob-num js-line-number" data-line-number="1893"></td>
        <td id="LC1893" class="blob-code js-file-line">    &quot;    sCuts[i]=newton(findsGivent,LandSizeCuts[i],fprime=None,args=(LandSizeCuts[i]/10,AL,AK,PHI,RHO,GAM),tol=1e-10,maxiter=1000)\n&quot;,</td>
      </tr>
      <tr>
        <td id="L1894" class="blob-num js-line-number" data-line-number="1894"></td>
        <td id="LC1894" class="blob-code js-file-line">    &quot;del AL,AK,PHI,RHO,GAM,T\n&quot;,</td>
      </tr>
      <tr>
        <td id="L1895" class="blob-num js-line-number" data-line-number="1895"></td>
        <td id="LC1895" class="blob-code js-file-line">    &quot;print sCuts\n&quot;,</td>
      </tr>
      <tr>
        <td id="L1896" class="blob-num js-line-number" data-line-number="1896"></td>
        <td id="LC1896" class="blob-code js-file-line">    &quot;del sCuts&quot;</td>
      </tr>
      <tr>
        <td id="L1897" class="blob-num js-line-number" data-line-number="1897"></td>
        <td id="LC1897" class="blob-code js-file-line">   ]</td>
      </tr>
      <tr>
        <td id="L1898" class="blob-num js-line-number" data-line-number="1898"></td>
        <td id="LC1898" class="blob-code js-file-line">  },</td>
      </tr>
      <tr>
        <td id="L1899" class="blob-num js-line-number" data-line-number="1899"></td>
        <td id="LC1899" class="blob-code js-file-line">  {</td>
      </tr>
      <tr>
        <td id="L1900" class="blob-num js-line-number" data-line-number="1900"></td>
        <td id="LC1900" class="blob-code js-file-line">   &quot;cell_type&quot;: &quot;markdown&quot;,</td>
      </tr>
      <tr>
        <td id="L1901" class="blob-num js-line-number" data-line-number="1901"></td>
        <td id="LC1901" class="blob-code js-file-line">   &quot;metadata&quot;: {},</td>
      </tr>
      <tr>
        <td id="L1902" class="blob-num js-line-number" data-line-number="1902"></td>
        <td id="LC1902" class="blob-code js-file-line">   &quot;source&quot;: [</td>
      </tr>
      <tr>
        <td id="L1903" class="blob-num js-line-number" data-line-number="1903"></td>
        <td id="LC1903" class="blob-code js-file-line">    &quot;For given parameters our objective tells us how well we match the data, specifically we try to match labor and capital demands for farms of each of the different land size bins as well as get the &quot;</td>
      </tr>
      <tr>
        <td id="L1904" class="blob-num js-line-number" data-line-number="1904"></td>
        <td id="LC1904" class="blob-code js-file-line">   ]</td>
      </tr>
      <tr>
        <td id="L1905" class="blob-num js-line-number" data-line-number="1905"></td>
        <td id="LC1905" class="blob-code js-file-line">  },</td>
      </tr>
      <tr>
        <td id="L1906" class="blob-num js-line-number" data-line-number="1906"></td>
        <td id="LC1906" class="blob-code js-file-line">  {</td>
      </tr>
      <tr>
        <td id="L1907" class="blob-num js-line-number" data-line-number="1907"></td>
        <td id="LC1907" class="blob-code js-file-line">   &quot;cell_type&quot;: &quot;code&quot;,</td>
      </tr>
      <tr>
        <td id="L1908" class="blob-num js-line-number" data-line-number="1908"></td>
        <td id="LC1908" class="blob-code js-file-line">   &quot;execution_count&quot;: 27,</td>
      </tr>
      <tr>
        <td id="L1909" class="blob-num js-line-number" data-line-number="1909"></td>
        <td id="LC1909" class="blob-code js-file-line">   &quot;metadata&quot;: {</td>
      </tr>
      <tr>
        <td id="L1910" class="blob-num js-line-number" data-line-number="1910"></td>
        <td id="LC1910" class="blob-code js-file-line">    &quot;collapsed&quot;: false</td>
      </tr>
      <tr>
        <td id="L1911" class="blob-num js-line-number" data-line-number="1911"></td>
        <td id="LC1911" class="blob-code js-file-line">   },</td>
      </tr>
      <tr>
        <td id="L1912" class="blob-num js-line-number" data-line-number="1912"></td>
        <td id="LC1912" class="blob-code js-file-line">   &quot;outputs&quot;: [],</td>
      </tr>
      <tr>
        <td id="L1913" class="blob-num js-line-number" data-line-number="1913"></td>
        <td id="LC1913" class="blob-code js-file-line">   &quot;source&quot;: [</td>
      </tr>
      <tr>
        <td id="L1914" class="blob-num js-line-number" data-line-number="1914"></td>
        <td id="LC1914" class="blob-code js-file-line">    &quot;def objective(X,disp=True):\n&quot;,</td>
      </tr>
      <tr>
        <td id="L1915" class="blob-num js-line-number" data-line-number="1915"></td>
        <td id="LC1915" class="blob-code js-file-line">    &quot;    mu, sigma = X[0], X[1]\n&quot;,</td>
      </tr>
      <tr>
        <td id="L1916" class="blob-num js-line-number" data-line-number="1916"></td>
        <td id="LC1916" class="blob-code js-file-line">    &quot;    al, ak =exp(X[2]),exp(X[3])\n&quot;,</td>
      </tr>
      <tr>
        <td id="L1917" class="blob-num js-line-number" data-line-number="1917"></td>
        <td id="LC1917" class="blob-code js-file-line">    &quot;    gam=exp(X[6])/(1+exp(X[6]))\n&quot;,</td>
      </tr>
      <tr>
        <td id="L1918" class="blob-num js-line-number" data-line-number="1918"></td>
        <td id="LC1918" class="blob-code js-file-line">    &quot;    phi=exp(X[4])/(1+exp(X[4])) \n&quot;,</td>
      </tr>
      <tr>
        <td id="L1919" class="blob-num js-line-number" data-line-number="1919"></td>
        <td id="LC1919" class="blob-code js-file-line">    &quot;    rho=exp(X[5])/(1+exp(X[5]))\n&quot;,</td>
      </tr>
      <tr>
        <td id="L1920" class="blob-num js-line-number" data-line-number="1920"></td>
        <td id="LC1920" class="blob-code js-file-line">    &quot;    sCuts=np.zeros((7,1))\n&quot;,</td>
      </tr>
      <tr>
        <td id="L1921" class="blob-num js-line-number" data-line-number="1921"></td>
        <td id="LC1921" class="blob-code js-file-line">    &quot;    for i in range(0,7):\n&quot;,</td>
      </tr>
      <tr>
        <td id="L1922" class="blob-num js-line-number" data-line-number="1922"></td>
        <td id="LC1922" class="blob-code js-file-line">    &quot;        sCuts[i]=newton(findsGivent,LandSizeCuts[i],fprime=None,args=(LandSizeCuts[i]/10,al,ak,phi,rho,gam),tol=1e-8,maxiter=10000)\n&quot;,</td>
      </tr>
      <tr>
        <td id="L1923" class="blob-num js-line-number" data-line-number="1923"></td>
        <td id="LC1923" class="blob-code js-file-line">    &quot;    sCutsLK=np.zeros((5,1))\n&quot;,</td>
      </tr>
      <tr>
        <td id="L1924" class="blob-num js-line-number" data-line-number="1924"></td>
        <td id="LC1924" class="blob-code js-file-line">    &quot;    for i in range(0,5):\n&quot;,</td>
      </tr>
      <tr>
        <td id="L1925" class="blob-num js-line-number" data-line-number="1925"></td>
        <td id="LC1925" class="blob-code js-file-line">    &quot;        sCutsLK[i]=newton(findsGivent,LandSizeCutsLK[i],fprime=None,args=(LandSizeCuts[i]/10,al,ak,phi,rho,gam),tol=1e-8,maxiter=10000)\n&quot;,</td>
      </tr>
      <tr>
        <td id="L1926" class="blob-num js-line-number" data-line-number="1926"></td>
        <td id="LC1926" class="blob-code js-file-line">    &quot;    interSmeansL=np.zeros((6,1),dtype=float)\n&quot;,</td>
      </tr>
      <tr>
        <td id="L1927" class="blob-num js-line-number" data-line-number="1927"></td>
        <td id="LC1927" class="blob-code js-file-line">    &quot;    interSmeansK=np.zeros((6,1),dtype=float)\n&quot;,</td>
      </tr>
      <tr>
        <td id="L1928" class="blob-num js-line-number" data-line-number="1928"></td>
        <td id="LC1928" class="blob-code js-file-line">    &quot;    interOmeansT=np.zeros((8,1),dtype=float)\n&quot;,</td>
      </tr>
      <tr>
        <td id="L1929" class="blob-num js-line-number" data-line-number="1929"></td>
        <td id="LC1929" class="blob-code js-file-line">    &quot;    densityOT=np.zeros((8,1),dtype=float)\n&quot;,</td>
      </tr>
      <tr>
        <td id="L1930" class="blob-num js-line-number" data-line-number="1930"></td>
        <td id="LC1930" class="blob-code js-file-line">    &quot;    densityOLK=np.zeros((6,1),dtype=float)\n&quot;,</td>
      </tr>
      <tr>
        <td id="L1931" class="blob-num js-line-number" data-line-number="1931"></td>
        <td id="LC1931" class="blob-code js-file-line">    &quot;    for i in range(0,8):                                               #First compute the lower and upper values of 6 given sextiles\n&quot;,</td>
      </tr>
      <tr>
        <td id="L1932" class="blob-num js-line-number" data-line-number="1932"></td>
        <td id="LC1932" class="blob-code js-file-line">    &quot;        if i==0:\n&quot;,</td>
      </tr>
      <tr>
        <td id="L1933" class="blob-num js-line-number" data-line-number="1933"></td>
        <td id="LC1933" class="blob-code js-file-line">    &quot;            interOmeansT[i]=quad(intLand,0,sCuts[i],args=(mu,sigma,al,ak,phi,rho,gam))[0]\n&quot;,</td>
      </tr>
      <tr>
        <td id="L1934" class="blob-num js-line-number" data-line-number="1934"></td>
        <td id="LC1934" class="blob-code js-file-line">    &quot;            densityOT[i]=lognorm.cdf(sCuts[i],sigma,mu)\n&quot;,</td>
      </tr>
      <tr>
        <td id="L1935" class="blob-num js-line-number" data-line-number="1935"></td>
        <td id="LC1935" class="blob-code js-file-line">    &quot;            interOmeansT[i]=interOmeansT[i]/densityOT[i]\n&quot;,</td>
      </tr>
      <tr>
        <td id="L1936" class="blob-num js-line-number" data-line-number="1936"></td>
        <td id="LC1936" class="blob-code js-file-line">    &quot;        elif i==7:\n&quot;,</td>
      </tr>
      <tr>
        <td id="L1937" class="blob-num js-line-number" data-line-number="1937"></td>
        <td id="LC1937" class="blob-code js-file-line">    &quot;            interOmeansT[i]=quad(intLand,sCuts[i-1],Inf,args=(mu,sigma,al,ak,phi,rho,gam))[0]\n&quot;,</td>
      </tr>
      <tr>
        <td id="L1938" class="blob-num js-line-number" data-line-number="1938"></td>
        <td id="LC1938" class="blob-code js-file-line">    &quot;            densityOT[i]=1-lognorm.cdf(sCuts[i-1],sigma,mu)\n&quot;,</td>
      </tr>
      <tr>
        <td id="L1939" class="blob-num js-line-number" data-line-number="1939"></td>
        <td id="LC1939" class="blob-code js-file-line">    &quot;            interOmeansT[i]=interOmeansT[i]/densityOT[i]\n&quot;,</td>
      </tr>
      <tr>
        <td id="L1940" class="blob-num js-line-number" data-line-number="1940"></td>
        <td id="LC1940" class="blob-code js-file-line">    &quot;        else:\n&quot;,</td>
      </tr>
      <tr>
        <td id="L1941" class="blob-num js-line-number" data-line-number="1941"></td>
        <td id="LC1941" class="blob-code js-file-line">    &quot;            interOmeansT[i]=quad(intLand,sCuts[i-1],sCuts[i],args=(mu,sigma,al,ak,phi,rho,gam))[0]              # We don&#39;t really need this...\n&quot;,</td>
      </tr>
      <tr>
        <td id="L1942" class="blob-num js-line-number" data-line-number="1942"></td>
        <td id="LC1942" class="blob-code js-file-line">    &quot;            densityOT[i]=lognorm.cdf(sCuts[i],sigma,mu)-lognorm.cdf(sCuts[i-1],sigma,mu)\n&quot;,</td>
      </tr>
      <tr>
        <td id="L1943" class="blob-num js-line-number" data-line-number="1943"></td>
        <td id="LC1943" class="blob-code js-file-line">    &quot;            interOmeansT[i]=interOmeansT[i]/densityOT[i]\n&quot;,</td>
      </tr>
      <tr>
        <td id="L1944" class="blob-num js-line-number" data-line-number="1944"></td>
        <td id="LC1944" class="blob-code js-file-line">    &quot;    for i in range(0,6):\n&quot;,</td>
      </tr>
      <tr>
        <td id="L1945" class="blob-num js-line-number" data-line-number="1945"></td>
        <td id="LC1945" class="blob-code js-file-line">    &quot;        if i==0:\n&quot;,</td>
      </tr>
      <tr>
        <td id="L1946" class="blob-num js-line-number" data-line-number="1946"></td>
        <td id="LC1946" class="blob-code js-file-line">    &quot;            interSmeansL[i]=quad(intLabor,0,sCutsLK[i],args=(mu,sigma,al,ak,phi,rho,gam))[0]\n&quot;,</td>
      </tr>
      <tr>
        <td id="L1947" class="blob-num js-line-number" data-line-number="1947"></td>
        <td id="LC1947" class="blob-code js-file-line">    &quot;            interSmeansK[i]=quad(intCapital,0,sCutsLK[i],args=(mu,sigma,al,ak,phi,rho,gam))[0]\n&quot;,</td>
      </tr>
      <tr>
        <td id="L1948" class="blob-num js-line-number" data-line-number="1948"></td>
        <td id="LC1948" class="blob-code js-file-line">    &quot;            densityOLK[i]=lognorm.cdf(sCutsLK[i],sigma,mu)\n&quot;,</td>
      </tr>
      <tr>
        <td id="L1949" class="blob-num js-line-number" data-line-number="1949"></td>
        <td id="LC1949" class="blob-code js-file-line">    &quot;            interSmeansL[i]=interSmeansL[i]/densityOLK[i]\n&quot;,</td>
      </tr>
      <tr>
        <td id="L1950" class="blob-num js-line-number" data-line-number="1950"></td>
        <td id="LC1950" class="blob-code js-file-line">    &quot;            interSmeansK[i]=interSmeansK[i]/densityOLK[i]\n&quot;,</td>
      </tr>
      <tr>
        <td id="L1951" class="blob-num js-line-number" data-line-number="1951"></td>
        <td id="LC1951" class="blob-code js-file-line">    &quot;        elif i==5:\n&quot;,</td>
      </tr>
      <tr>
        <td id="L1952" class="blob-num js-line-number" data-line-number="1952"></td>
        <td id="LC1952" class="blob-code js-file-line">    &quot;            interSmeansL[i]=quad(intLabor,sCutsLK[i-1],Inf,args=(mu,sigma,al,ak,phi,rho,gam))[0]\n&quot;,</td>
      </tr>
      <tr>
        <td id="L1953" class="blob-num js-line-number" data-line-number="1953"></td>
        <td id="LC1953" class="blob-code js-file-line">    &quot;            interSmeansK[i]=quad(intCapital,sCutsLK[i-1],Inf,args=(mu,sigma,al,ak,phi,rho,gam))[0]\n&quot;,</td>
      </tr>
      <tr>
        <td id="L1954" class="blob-num js-line-number" data-line-number="1954"></td>
        <td id="LC1954" class="blob-code js-file-line">    &quot;            densityOLK[i]=1-lognorm.cdf(sCutsLK[i-1],sigma,mu)\n&quot;,</td>
      </tr>
      <tr>
        <td id="L1955" class="blob-num js-line-number" data-line-number="1955"></td>
        <td id="LC1955" class="blob-code js-file-line">    &quot;            interSmeansL[i]=interSmeansL[i]/densityOLK[i]\n&quot;,</td>
      </tr>
      <tr>
        <td id="L1956" class="blob-num js-line-number" data-line-number="1956"></td>
        <td id="LC1956" class="blob-code js-file-line">    &quot;            interSmeansK[i]=interSmeansK[i]/densityOLK[i]\n&quot;,</td>
      </tr>
      <tr>
        <td id="L1957" class="blob-num js-line-number" data-line-number="1957"></td>
        <td id="LC1957" class="blob-code js-file-line">    &quot;        else:\n&quot;,</td>
      </tr>
      <tr>
        <td id="L1958" class="blob-num js-line-number" data-line-number="1958"></td>
        <td id="LC1958" class="blob-code js-file-line">    &quot;            interSmeansL[i]=quad(intLabor,sCutsLK[i-1],sCutsLK[i],args=(mu,sigma,al,ak,phi,rho,gam))[0]\n&quot;,</td>
      </tr>
      <tr>
        <td id="L1959" class="blob-num js-line-number" data-line-number="1959"></td>
        <td id="LC1959" class="blob-code js-file-line">    &quot;            interSmeansK[i]=quad(intCapital,sCutsLK[i-1],sCutsLK[i],args=(mu,sigma,al,ak,phi,rho,gam))[0]\n&quot;,</td>
      </tr>
      <tr>
        <td id="L1960" class="blob-num js-line-number" data-line-number="1960"></td>
        <td id="LC1960" class="blob-code js-file-line">    &quot;            densityOLK[i]=lognorm.cdf(sCutsLK[i],sigma,mu)-lognorm.cdf(sCutsLK[i-1],sigma,mu)\n&quot;,</td>
      </tr>
      <tr>
        <td id="L1961" class="blob-num js-line-number" data-line-number="1961"></td>
        <td id="LC1961" class="blob-code js-file-line">    &quot;            interSmeansL[i]=interSmeansL[i]/densityOLK[i]\n&quot;,</td>
      </tr>
      <tr>
        <td id="L1962" class="blob-num js-line-number" data-line-number="1962"></td>
        <td id="LC1962" class="blob-code js-file-line">    &quot;            interSmeansK[i]=interSmeansK[i]/densityOLK[i]\n&quot;,</td>
      </tr>
      <tr>
        <td id="L1963" class="blob-num js-line-number" data-line-number="1963"></td>
        <td id="LC1963" class="blob-code js-file-line">    &quot;    vals=np.vstack((np.vstack((densityOT,interSmeansL)),interSmeansK))\n&quot;,</td>
      </tr>
      <tr>
        <td id="L1964" class="blob-num js-line-number" data-line-number="1964"></td>
        <td id="LC1964" class="blob-code js-file-line">    &quot;    targs=np.vstack((np.vstack((np.reshape(LandOctiles[0,:]/100,(8,1)),np.reshape(LaborTarget,(6,1)))),np.reshape(CapitalTarget,(6,1))))\n&quot;,</td>
      </tr>
      <tr>
        <td id="L1965" class="blob-num js-line-number" data-line-number="1965"></td>
        <td id="LC1965" class="blob-code js-file-line">    &quot;    errors=vals-targs\n&quot;,</td>
      </tr>
      <tr>
        <td id="L1966" class="blob-num js-line-number" data-line-number="1966"></td>
        <td id="LC1966" class="blob-code js-file-line">    &quot;    objVal=np.dot(np.transpose(errors),errors)\n&quot;,</td>
      </tr>
      <tr>
        <td id="L1967" class="blob-num js-line-number" data-line-number="1967"></td>
        <td id="LC1967" class="blob-code js-file-line">    &quot;    DrawToPrint=np.random.uniform()\n&quot;,</td>
      </tr>
      <tr>
        <td id="L1968" class="blob-num js-line-number" data-line-number="1968"></td>
        <td id="LC1968" class="blob-code js-file-line">    &quot;    if DrawToPrint&gt;.99:\n&quot;,</td>
      </tr>
      <tr>
        <td id="L1969" class="blob-num js-line-number" data-line-number="1969"></td>
        <td id="LC1969" class="blob-code js-file-line">    &quot;        print objVal,X\n&quot;,</td>
      </tr>
      <tr>
        <td id="L1970" class="blob-num js-line-number" data-line-number="1970"></td>
        <td id="LC1970" class="blob-code js-file-line">    &quot;    return objVal&quot;</td>
      </tr>
      <tr>
        <td id="L1971" class="blob-num js-line-number" data-line-number="1971"></td>
        <td id="LC1971" class="blob-code js-file-line">   ]</td>
      </tr>
      <tr>
        <td id="L1972" class="blob-num js-line-number" data-line-number="1972"></td>
        <td id="LC1972" class="blob-code js-file-line">  },</td>
      </tr>
      <tr>
        <td id="L1973" class="blob-num js-line-number" data-line-number="1973"></td>
        <td id="LC1973" class="blob-code js-file-line">  {</td>
      </tr>
      <tr>
        <td id="L1974" class="blob-num js-line-number" data-line-number="1974"></td>
        <td id="LC1974" class="blob-code js-file-line">   &quot;cell_type&quot;: &quot;markdown&quot;,</td>
      </tr>
      <tr>
        <td id="L1975" class="blob-num js-line-number" data-line-number="1975"></td>
        <td id="LC1975" class="blob-code js-file-line">   &quot;metadata&quot;: {},</td>
      </tr>
      <tr>
        <td id="L1976" class="blob-num js-line-number" data-line-number="1976"></td>
        <td id="LC1976" class="blob-code js-file-line">   &quot;source&quot;: [</td>
      </tr>
      <tr>
        <td id="L1977" class="blob-num js-line-number" data-line-number="1977"></td>
        <td id="LC1977" class="blob-code js-file-line">    &quot;Now that we have an objective function defined, let&#39;s see if we can actually minimize it with respect to the parameters. If this works, I&#39;ll shit my britches. Anyways, here goes:&quot;</td>
      </tr>
      <tr>
        <td id="L1978" class="blob-num js-line-number" data-line-number="1978"></td>
        <td id="LC1978" class="blob-code js-file-line">   ]</td>
      </tr>
      <tr>
        <td id="L1979" class="blob-num js-line-number" data-line-number="1979"></td>
        <td id="LC1979" class="blob-code js-file-line">  },</td>
      </tr>
      <tr>
        <td id="L1980" class="blob-num js-line-number" data-line-number="1980"></td>
        <td id="LC1980" class="blob-code js-file-line">  {</td>
      </tr>
      <tr>
        <td id="L1981" class="blob-num js-line-number" data-line-number="1981"></td>
        <td id="LC1981" class="blob-code js-file-line">   &quot;cell_type&quot;: &quot;code&quot;,</td>
      </tr>
      <tr>
        <td id="L1982" class="blob-num js-line-number" data-line-number="1982"></td>
        <td id="LC1982" class="blob-code js-file-line">   &quot;execution_count&quot;: 28,</td>
      </tr>
      <tr>
        <td id="L1983" class="blob-num js-line-number" data-line-number="1983"></td>
        <td id="LC1983" class="blob-code js-file-line">   &quot;metadata&quot;: {</td>
      </tr>
      <tr>
        <td id="L1984" class="blob-num js-line-number" data-line-number="1984"></td>
        <td id="LC1984" class="blob-code js-file-line">    &quot;collapsed&quot;: false</td>
      </tr>
      <tr>
        <td id="L1985" class="blob-num js-line-number" data-line-number="1985"></td>
        <td id="LC1985" class="blob-code js-file-line">   },</td>
      </tr>
      <tr>
        <td id="L1986" class="blob-num js-line-number" data-line-number="1986"></td>
        <td id="LC1986" class="blob-code js-file-line">   &quot;outputs&quot;: [</td>
      </tr>
      <tr>
        <td id="L1987" class="blob-num js-line-number" data-line-number="1987"></td>
        <td id="LC1987" class="blob-code js-file-line">    {</td>
      </tr>
      <tr>
        <td id="L1988" class="blob-num js-line-number" data-line-number="1988"></td>
        <td id="LC1988" class="blob-code js-file-line">     &quot;name&quot;: &quot;stdout&quot;,</td>
      </tr>
      <tr>
        <td id="L1989" class="blob-num js-line-number" data-line-number="1989"></td>
        <td id="LC1989" class="blob-code js-file-line">     &quot;output_type&quot;: &quot;stream&quot;,</td>
      </tr>
      <tr>
        <td id="L1990" class="blob-num js-line-number" data-line-number="1990"></td>
        <td id="LC1990" class="blob-code js-file-line">     &quot;text&quot;: [</td>
      </tr>
      <tr>
        <td id="L1991" class="blob-num js-line-number" data-line-number="1991"></td>
        <td id="LC1991" class="blob-code js-file-line">      &quot;[[  1.05737967e+11]] [-0.1    0.525  3.     3.     0.5    0.3    0.7  ]\n&quot;,</td>
      </tr>
      <tr>
        <td id="L1992" class="blob-num js-line-number" data-line-number="1992"></td>
        <td id="LC1992" class="blob-code js-file-line">      &quot;[[  1.83516968e+10]] [-0.10060528  0.50368238  2.91206725  2.88054103  0.47733622  0.32110156\n&quot;,</td>
      </tr>
      <tr>
        <td id="L1993" class="blob-num js-line-number" data-line-number="1993"></td>
        <td id="LC1993" class="blob-code js-file-line">      &quot;  0.70725446]\n&quot;,</td>
      </tr>
      <tr>
        <td id="L1994" class="blob-num js-line-number" data-line-number="1994"></td>
        <td id="LC1994" class="blob-code js-file-line">      &quot;[[ 662.27702049]] [-0.1532258   0.4773669   1.33123206  1.71603598  0.11866691  0.5225568\n&quot;,</td>
      </tr>
      <tr>
        <td id="L1995" class="blob-num js-line-number" data-line-number="1995"></td>
        <td id="LC1995" class="blob-code js-file-line">      &quot;  0.7951171 ]\n&quot;,</td>
      </tr>
      <tr>
        <td id="L1996" class="blob-num js-line-number" data-line-number="1996"></td>
        <td id="LC1996" class="blob-code js-file-line">      &quot;[[ 622.25475854]] [-0.15193387  0.43650419  1.2233608   1.59231618  0.07850013  0.5431108\n&quot;,</td>
      </tr>
      <tr>
        <td id="L1997" class="blob-num js-line-number" data-line-number="1997"></td>
        <td id="LC1997" class="blob-code js-file-line">      &quot;  0.88244586]\n&quot;,</td>
      </tr>
      <tr>
        <td id="L1998" class="blob-num js-line-number" data-line-number="1998"></td>
        <td id="LC1998" class="blob-code js-file-line">      &quot;[[ 600.86474417]] [-0.15108092  0.423409    1.1849897   1.56746948  0.0652079   0.55053127\n&quot;,</td>
      </tr>
      <tr>
        <td id="L1999" class="blob-num js-line-number" data-line-number="1999"></td>
        <td id="LC1999" class="blob-code js-file-line">      &quot;  0.90972397]\n&quot;,</td>
      </tr>
      <tr>
        <td id="L2000" class="blob-num js-line-number" data-line-number="2000"></td>
        <td id="LC2000" class="blob-code js-file-line">      &quot;[[ 528.17042161]] [-0.13949932  0.37237998  1.05407294  1.42038684  0.01847361  0.58812041\n&quot;,</td>
      </tr>
      <tr>
        <td id="L2001" class="blob-num js-line-number" data-line-number="2001"></td>
        <td id="LC2001" class="blob-code js-file-line">      &quot;  1.0443045 ]\n&quot;,</td>
      </tr>
      <tr>
        <td id="L2002" class="blob-num js-line-number" data-line-number="2002"></td>
        <td id="LC2002" class="blob-code js-file-line">      &quot;[[ 519.70049727]] [-0.13478995  0.35680346  1.0115271   1.37049498  0.00912884  0.60120946\n&quot;,</td>
      </tr>
      <tr>
        <td id="L2003" class="blob-num js-line-number" data-line-number="2003"></td>
        <td id="LC2003" class="blob-code js-file-line">      &quot;  1.08566317]\n&quot;,</td>
      </tr>
      <tr>
        <td id="L2004" class="blob-num js-line-number" data-line-number="2004"></td>
        <td id="LC2004" class="blob-code js-file-line">      &quot;[[ 507.05578946]] [-0.13418693  0.356031    1.0068153   1.37246563  0.00878892  0.60248808\n&quot;,</td>
      </tr>
      <tr>
        <td id="L2005" class="blob-num js-line-number" data-line-number="2005"></td>
        <td id="LC2005" class="blob-code js-file-line">      &quot;  1.08802268]\n&quot;,</td>
      </tr>
      <tr>
        <td id="L2006" class="blob-num js-line-number" data-line-number="2006"></td>
        <td id="LC2006" class="blob-code js-file-line">      &quot;[[ 489.84264733]] [-0.13081571  0.34645645  0.97695892  1.34107166  0.00549386  0.61128963\n&quot;,</td>
      </tr>
      <tr>
        <td id="L2007" class="blob-num js-line-number" data-line-number="2007"></td>
        <td id="LC2007" class="blob-code js-file-line">      &quot;  1.1131191 ]\n&quot;,</td>
      </tr>
      <tr>
        <td id="L2008" class="blob-num js-line-number" data-line-number="2008"></td>
        <td id="LC2008" class="blob-code js-file-line">      &quot;[[ 486.78459164]] [-0.12801191  0.33941542  0.95889028  1.31423383  0.00329544  0.61796752\n&quot;,</td>
      </tr>
      <tr>
        <td id="L2009" class="blob-num js-line-number" data-line-number="2009"></td>
        <td id="LC2009" class="blob-code js-file-line">      &quot;  1.13286803]\n&quot;,</td>
      </tr>
      <tr>
        <td id="L2010" class="blob-num js-line-number" data-line-number="2010"></td>
        <td id="LC2010" class="blob-code js-file-line">      &quot;[[ 462.47755325]] [-0.1238836   0.32736088  0.91586362  1.28138614  0.0014432   0.62940426\n&quot;,</td>
      </tr>
      <tr>
        <td id="L2011" class="blob-num js-line-number" data-line-number="2011"></td>
        <td id="LC2011" class="blob-code js-file-line">      &quot;  1.16113103]\n&quot;,</td>
      </tr>
      <tr>
        <td id="L2012" class="blob-num js-line-number" data-line-number="2012"></td>
        <td id="LC2012" class="blob-code js-file-line">      &quot;[[ 462.07591006]] [-0.1232918   0.32738813  0.91567768  1.28140801  0.00135351  0.63010292\n&quot;,</td>
      </tr>
      <tr>
        <td id="L2013" class="blob-num js-line-number" data-line-number="2013"></td>
        <td id="LC2013" class="blob-code js-file-line">      &quot;  1.16294392]\n&quot;,</td>
      </tr>
      <tr>
        <td id="L2014" class="blob-num js-line-number" data-line-number="2014"></td>
        <td id="LC2014" class="blob-code js-file-line">      &quot;[[ 456.74097495]] [ -1.21513843e-01   3.22887352e-01   9.04210923e-01   1.26498089e+00\n&quot;,</td>
      </tr>
      <tr>
        <td id="L2015" class="blob-num js-line-number" data-line-number="2015"></td>
        <td id="LC2015" class="blob-code js-file-line">      &quot;   9.37141706e-04   6.34454015e-01   1.17452514e+00]\n&quot;,</td>
      </tr>
      <tr>
        <td id="L2016" class="blob-num js-line-number" data-line-number="2016"></td>
        <td id="LC2016" class="blob-code js-file-line">      &quot;[[ 443.7321528]] [ -1.13981384e-01   3.14478915e-01   8.82067387e-01   1.23325309e+00\n&quot;,</td>
      </tr>
      <tr>
        <td id="L2017" class="blob-num js-line-number" data-line-number="2017"></td>
        <td id="LC2017" class="blob-code js-file-line">      &quot;   2.84102977e-04   6.47673474e-01   1.20869776e+00]\n&quot;,</td>
      </tr>
      <tr>
        <td id="L2018" class="blob-num js-line-number" data-line-number="2018"></td>
        <td id="LC2018" class="blob-code js-file-line">      &quot;[[ 442.86171169]] [ -1.13781651e-01   3.14100587e-01   8.80673781e-01   1.23225707e+00\n&quot;,</td>
      </tr>
      <tr>
        <td id="L2019" class="blob-num js-line-number" data-line-number="2019"></td>
        <td id="LC2019" class="blob-code js-file-line">      &quot;   2.69487047e-04   6.48123018e-01   1.20974924e+00]\n&quot;,</td>
      </tr>
      <tr>
        <td id="L2020" class="blob-num js-line-number" data-line-number="2020"></td>
        <td id="LC2020" class="blob-code js-file-line">      &quot;[[ 442.35910221]] [ -1.14161689e-01   3.13461657e-01   8.77615975e-01   1.23150209e+00\n&quot;,</td>
      </tr>
      <tr>
        <td id="L2021" class="blob-num js-line-number" data-line-number="2021"></td>
        <td id="LC2021" class="blob-code js-file-line">      &quot;   2.64481299e-04   6.48059312e-01   1.20925116e+00]\n&quot;,</td>
      </tr>
      <tr>
        <td id="L2022" class="blob-num js-line-number" data-line-number="2022"></td>
        <td id="LC2022" class="blob-code js-file-line">      &quot;[[ 440.70005456]] [ -1.12382500e-01   3.11476930e-01   8.68255684e-01   1.22804799e+00\n&quot;,</td>
      </tr>
      <tr>
        <td id="L2023" class="blob-num js-line-number" data-line-number="2023"></td>
        <td id="LC2023" class="blob-code js-file-line">      &quot;   1.95335651e-04   6.51404139e-01   1.21667682e+00]\n&quot;,</td>
      </tr>
      <tr>
        <td id="L2024" class="blob-num js-line-number" data-line-number="2024"></td>
        <td id="LC2024" class="blob-code js-file-line">      &quot;[[ 438.70221693]] [ -1.11469889e-01   3.09809638e-01   8.65471734e-01   1.22020080e+00\n&quot;,</td>
      </tr>
      <tr>
        <td id="L2025" class="blob-num js-line-number" data-line-number="2025"></td>
        <td id="LC2025" class="blob-code js-file-line">      &quot;   1.57375450e-04   6.53244485e-01   1.22188204e+00]\n&quot;,</td>
      </tr>
      <tr>
        <td id="L2026" class="blob-num js-line-number" data-line-number="2026"></td>
        <td id="LC2026" class="blob-code js-file-line">      &quot;[[ 436.28955497]] [ -1.10663522e-01   3.09014945e-01   8.62382079e-01   1.21811192e+00\n&quot;,</td>
      </tr>
      <tr>
        <td id="L2027" class="blob-num js-line-number" data-line-number="2027"></td>
        <td id="LC2027" class="blob-code js-file-line">      &quot;   1.31839276e-04   6.54661176e-01   1.22523348e+00]\n&quot;,</td>
      </tr>
      <tr>
        <td id="L2028" class="blob-num js-line-number" data-line-number="2028"></td>
        <td id="LC2028" class="blob-code js-file-line">      &quot;[[ 434.25041745]] [ -1.09861143e-01   3.07158736e-01   8.55205038e-01   1.21356604e+00\n&quot;,</td>
      </tr>
      <tr>
        <td id="L2029" class="blob-num js-line-number" data-line-number="2029"></td>
        <td id="LC2029" class="blob-code js-file-line">      &quot;   1.04338174e-04   6.56673118e-01   1.22978240e+00]\n&quot;,</td>
      </tr>
      <tr>
        <td id="L2030" class="blob-num js-line-number" data-line-number="2030"></td>
        <td id="LC2030" class="blob-code js-file-line">      &quot;[[ 430.72582184]] [ -1.07018425e-01   3.03798804e-01   8.49845074e-01   1.19686745e+00\n&quot;,</td>
      </tr>
      <tr>
        <td id="L2031" class="blob-num js-line-number" data-line-number="2031"></td>
        <td id="LC2031" class="blob-code js-file-line">      &quot;   5.80136181e-05   6.61564861e-01   1.24336221e+00]\n&quot;,</td>
      </tr>
      <tr>
        <td id="L2032" class="blob-num js-line-number" data-line-number="2032"></td>
        <td id="LC2032" class="blob-code js-file-line">      &quot;[[ 428.4585081]] [ -1.06571707e-01   3.02205130e-01   8.40981681e-01   1.19562102e+00\n&quot;,</td>
      </tr>
      <tr>
        <td id="L2033" class="blob-num js-line-number" data-line-number="2033"></td>
        <td id="LC2033" class="blob-code js-file-line">      &quot;   4.73032408e-05   6.63141447e-01   1.24616694e+00]\n&quot;,</td>
      </tr>
      <tr>
        <td id="L2034" class="blob-num js-line-number" data-line-number="2034"></td>
        <td id="LC2034" class="blob-code js-file-line">      &quot;[[ 749.96906062]] [ -1.06466687e-01   3.02307477e-01   8.41482809e-01   1.19570673e+00\n&quot;,</td>
      </tr>
      <tr>
        <td id="L2035" class="blob-num js-line-number" data-line-number="2035"></td>
        <td id="LC2035" class="blob-code js-file-line">      &quot;   4.71517430e-05   6.63203631e-01   1.24638388e+00]\n&quot;,</td>
      </tr>
      <tr>
        <td id="L2036" class="blob-num js-line-number" data-line-number="2036"></td>
        <td id="LC2036" class="blob-code js-file-line">      &quot;Optimization terminated successfully.\n&quot;,</td>
      </tr>
      <tr>
        <td id="L2037" class="blob-num js-line-number" data-line-number="2037"></td>
        <td id="LC2037" class="blob-code js-file-line">      &quot;         Current function value: 428.412623\n&quot;,</td>
      </tr>
      <tr>
        <td id="L2038" class="blob-num js-line-number" data-line-number="2038"></td>
        <td id="LC2038" class="blob-code js-file-line">      &quot;         Iterations: 1055\n&quot;,</td>
      </tr>
      <tr>
        <td id="L2039" class="blob-num js-line-number" data-line-number="2039"></td>
        <td id="LC2039" class="blob-code js-file-line">      &quot;         Function evaluations: 1653\n&quot;</td>
      </tr>
      <tr>
        <td id="L2040" class="blob-num js-line-number" data-line-number="2040"></td>
        <td id="LC2040" class="blob-code js-file-line">     ]</td>
      </tr>
      <tr>
        <td id="L2041" class="blob-num js-line-number" data-line-number="2041"></td>
        <td id="LC2041" class="blob-code js-file-line">    },</td>
      </tr>
      <tr>
        <td id="L2042" class="blob-num js-line-number" data-line-number="2042"></td>
        <td id="LC2042" class="blob-code js-file-line">    {</td>
      </tr>
      <tr>
        <td id="L2043" class="blob-num js-line-number" data-line-number="2043"></td>
        <td id="LC2043" class="blob-code js-file-line">     &quot;name&quot;: &quot;stderr&quot;,</td>
      </tr>
      <tr>
        <td id="L2044" class="blob-num js-line-number" data-line-number="2044"></td>
        <td id="LC2044" class="blob-code js-file-line">     &quot;output_type&quot;: &quot;stream&quot;,</td>
      </tr>
      <tr>
        <td id="L2045" class="blob-num js-line-number" data-line-number="2045"></td>
        <td id="LC2045" class="blob-code js-file-line">     &quot;text&quot;: [</td>
      </tr>
      <tr>
        <td id="L2046" class="blob-num js-line-number" data-line-number="2046"></td>
        <td id="LC2046" class="blob-code js-file-line">      &quot;C:\\Users\\Matthew J Baker\\Anaconda\\lib\\site-packages\\scipy\\integrate\\quadpack.py:321: IntegrationWarning: The integral is probably divergent, or slowly convergent.\n&quot;,</td>
      </tr>
      <tr>
        <td id="L2047" class="blob-num js-line-number" data-line-number="2047"></td>
        <td id="LC2047" class="blob-code js-file-line">      &quot;  warnings.warn(msg, IntegrationWarning)\n&quot;</td>
      </tr>
      <tr>
        <td id="L2048" class="blob-num js-line-number" data-line-number="2048"></td>
        <td id="LC2048" class="blob-code js-file-line">     ]</td>
      </tr>
      <tr>
        <td id="L2049" class="blob-num js-line-number" data-line-number="2049"></td>
        <td id="LC2049" class="blob-code js-file-line">    }</td>
      </tr>
      <tr>
        <td id="L2050" class="blob-num js-line-number" data-line-number="2050"></td>
        <td id="LC2050" class="blob-code js-file-line">   ],</td>
      </tr>
      <tr>
        <td id="L2051" class="blob-num js-line-number" data-line-number="2051"></td>
        <td id="LC2051" class="blob-code js-file-line">   &quot;source&quot;: [</td>
      </tr>
      <tr>
        <td id="L2052" class="blob-num js-line-number" data-line-number="2052"></td>
        <td id="LC2052" class="blob-code js-file-line">    &quot;xGuess=-.1,.5,3,3,.5,.3,.7\n&quot;,</td>
      </tr>
      <tr>
        <td id="L2053" class="blob-num js-line-number" data-line-number="2053"></td>
        <td id="LC2053" class="blob-code js-file-line">    &quot;optResult=so.minimize(objective,xGuess,method=&#39;Nelder-Mead&#39;,tol=1e-3,options={&#39;disp&#39;: True, &#39;maxiter&#39;:10000, &#39;maxfev&#39;:5000})&quot;</td>
      </tr>
      <tr>
        <td id="L2054" class="blob-num js-line-number" data-line-number="2054"></td>
        <td id="LC2054" class="blob-code js-file-line">   ]</td>
      </tr>
      <tr>
        <td id="L2055" class="blob-num js-line-number" data-line-number="2055"></td>
        <td id="LC2055" class="blob-code js-file-line">  },</td>
      </tr>
      <tr>
        <td id="L2056" class="blob-num js-line-number" data-line-number="2056"></td>
        <td id="LC2056" class="blob-code js-file-line">  {</td>
      </tr>
      <tr>
        <td id="L2057" class="blob-num js-line-number" data-line-number="2057"></td>
        <td id="LC2057" class="blob-code js-file-line">   &quot;cell_type&quot;: &quot;code&quot;,</td>
      </tr>
      <tr>
        <td id="L2058" class="blob-num js-line-number" data-line-number="2058"></td>
        <td id="LC2058" class="blob-code js-file-line">   &quot;execution_count&quot;: 29,</td>
      </tr>
      <tr>
        <td id="L2059" class="blob-num js-line-number" data-line-number="2059"></td>
        <td id="LC2059" class="blob-code js-file-line">   &quot;metadata&quot;: {</td>
      </tr>
      <tr>
        <td id="L2060" class="blob-num js-line-number" data-line-number="2060"></td>
        <td id="LC2060" class="blob-code js-file-line">    &quot;collapsed&quot;: false</td>
      </tr>
      <tr>
        <td id="L2061" class="blob-num js-line-number" data-line-number="2061"></td>
        <td id="LC2061" class="blob-code js-file-line">   },</td>
      </tr>
      <tr>
        <td id="L2062" class="blob-num js-line-number" data-line-number="2062"></td>
        <td id="LC2062" class="blob-code js-file-line">   &quot;outputs&quot;: [</td>
      </tr>
      <tr>
        <td id="L2063" class="blob-num js-line-number" data-line-number="2063"></td>
        <td id="LC2063" class="blob-code js-file-line">    {</td>
      </tr>
      <tr>
        <td id="L2064" class="blob-num js-line-number" data-line-number="2064"></td>
        <td id="LC2064" class="blob-code js-file-line">     &quot;name&quot;: &quot;stdout&quot;,</td>
      </tr>
      <tr>
        <td id="L2065" class="blob-num js-line-number" data-line-number="2065"></td>
        <td id="LC2065" class="blob-code js-file-line">     &quot;output_type&quot;: &quot;stream&quot;,</td>
      </tr>
      <tr>
        <td id="L2066" class="blob-num js-line-number" data-line-number="2066"></td>
        <td id="LC2066" class="blob-code js-file-line">     &quot;text&quot;: [</td>
      </tr>
      <tr>
        <td id="L2067" class="blob-num js-line-number" data-line-number="2067"></td>
        <td id="LC2067" class="blob-code js-file-line">      &quot;-0.106401973072 0.302392771635\n&quot;,</td>
      </tr>
      <tr>
        <td id="L2068" class="blob-num js-line-number" data-line-number="2068"></td>
        <td id="LC2068" class="blob-code js-file-line">      &quot;2.31991076562 3.30739595444\n&quot;,</td>
      </tr>
      <tr>
        <td id="L2069" class="blob-num js-line-number" data-line-number="2069"></td>
        <td id="LC2069" class="blob-code js-file-line">      &quot;0.776683352379 0.50001181595 0.659989626167\n&quot;</td>
      </tr>
      <tr>
        <td id="L2070" class="blob-num js-line-number" data-line-number="2070"></td>
        <td id="LC2070" class="blob-code js-file-line">     ]</td>
      </tr>
      <tr>
        <td id="L2071" class="blob-num js-line-number" data-line-number="2071"></td>
        <td id="LC2071" class="blob-code js-file-line">    }</td>
      </tr>
      <tr>
        <td id="L2072" class="blob-num js-line-number" data-line-number="2072"></td>
        <td id="LC2072" class="blob-code js-file-line">   ],</td>
      </tr>
      <tr>
        <td id="L2073" class="blob-num js-line-number" data-line-number="2073"></td>
        <td id="LC2073" class="blob-code js-file-line">   &quot;source&quot;: [</td>
      </tr>
      <tr>
        <td id="L2074" class="blob-num js-line-number" data-line-number="2074"></td>
        <td id="LC2074" class="blob-code js-file-line">    &quot;Results=optResult.x\n&quot;,</td>
      </tr>
      <tr>
        <td id="L2075" class="blob-num js-line-number" data-line-number="2075"></td>
        <td id="LC2075" class="blob-code js-file-line">    &quot;MU=Results[0]\n&quot;,</td>
      </tr>
      <tr>
        <td id="L2076" class="blob-num js-line-number" data-line-number="2076"></td>
        <td id="LC2076" class="blob-code js-file-line">    &quot;SIGMA=Results[1]\n&quot;,</td>
      </tr>
      <tr>
        <td id="L2077" class="blob-num js-line-number" data-line-number="2077"></td>
        <td id="LC2077" class="blob-code js-file-line">    &quot;AL=exp(Results[2])\n&quot;,</td>
      </tr>
      <tr>
        <td id="L2078" class="blob-num js-line-number" data-line-number="2078"></td>
        <td id="LC2078" class="blob-code js-file-line">    &quot;AK=exp(Results[3])\n&quot;,</td>
      </tr>
      <tr>
        <td id="L2079" class="blob-num js-line-number" data-line-number="2079"></td>
        <td id="LC2079" class="blob-code js-file-line">    &quot;GAMMA=exp(Results[6])/(1+exp(Results[6]))\n&quot;,</td>
      </tr>
      <tr>
        <td id="L2080" class="blob-num js-line-number" data-line-number="2080"></td>
        <td id="LC2080" class="blob-code js-file-line">    &quot;PHI=exp(Results[4])/(1+exp(Results[4]))\n&quot;,</td>
      </tr>
      <tr>
        <td id="L2081" class="blob-num js-line-number" data-line-number="2081"></td>
        <td id="LC2081" class="blob-code js-file-line">    &quot;RHO=exp(Results[5])/(1+exp(Results[5]))\n&quot;,</td>
      </tr>
      <tr>
        <td id="L2082" class="blob-num js-line-number" data-line-number="2082"></td>
        <td id="LC2082" class="blob-code js-file-line">    &quot;print MU,SIGMA\n&quot;,</td>
      </tr>
      <tr>
        <td id="L2083" class="blob-num js-line-number" data-line-number="2083"></td>
        <td id="LC2083" class="blob-code js-file-line">    &quot;print AL,AK\n&quot;,</td>
      </tr>
      <tr>
        <td id="L2084" class="blob-num js-line-number" data-line-number="2084"></td>
        <td id="LC2084" class="blob-code js-file-line">    &quot;print GAMMA,PHI,RHO&quot;</td>
      </tr>
      <tr>
        <td id="L2085" class="blob-num js-line-number" data-line-number="2085"></td>
        <td id="LC2085" class="blob-code js-file-line">   ]</td>
      </tr>
      <tr>
        <td id="L2086" class="blob-num js-line-number" data-line-number="2086"></td>
        <td id="LC2086" class="blob-code js-file-line">  },</td>
      </tr>
      <tr>
        <td id="L2087" class="blob-num js-line-number" data-line-number="2087"></td>
        <td id="LC2087" class="blob-code js-file-line">  {</td>
      </tr>
      <tr>
        <td id="L2088" class="blob-num js-line-number" data-line-number="2088"></td>
        <td id="LC2088" class="blob-code js-file-line">   &quot;cell_type&quot;: &quot;markdown&quot;,</td>
      </tr>
      <tr>
        <td id="L2089" class="blob-num js-line-number" data-line-number="2089"></td>
        <td id="LC2089" class="blob-code js-file-line">   &quot;metadata&quot;: {},</td>
      </tr>
      <tr>
        <td id="L2090" class="blob-num js-line-number" data-line-number="2090"></td>
        <td id="LC2090" class="blob-code js-file-line">   &quot;source&quot;: [</td>
      </tr>
      <tr>
        <td id="L2091" class="blob-num js-line-number" data-line-number="2091"></td>
        <td id="LC2091" class="blob-code js-file-line">    &quot;Now, that we have some results, let&#39;s see what happens if we look at what they imply. One could do this scientifically (look at the Chi-Square statistic or something from the moment matching problem). But it is probably best to see how close our binned values come to the actual binned values. \n&quot;,</td>
      </tr>
      <tr>
        <td id="L2092" class="blob-num js-line-number" data-line-number="2092"></td>
        <td id="LC2092" class="blob-code js-file-line">    &quot;\n&quot;,</td>
      </tr>
      <tr>
        <td id="L2093" class="blob-num js-line-number" data-line-number="2093"></td>
        <td id="LC2093" class="blob-code js-file-line">    &quot;First, the size distribution of farms:\n&quot;,</td>
      </tr>
      <tr>
        <td id="L2094" class="blob-num js-line-number" data-line-number="2094"></td>
        <td id="LC2094" class="blob-code js-file-line">    &quot;\n&quot;</td>
      </tr>
      <tr>
        <td id="L2095" class="blob-num js-line-number" data-line-number="2095"></td>
        <td id="LC2095" class="blob-code js-file-line">   ]</td>
      </tr>
      <tr>
        <td id="L2096" class="blob-num js-line-number" data-line-number="2096"></td>
        <td id="LC2096" class="blob-code js-file-line">  },</td>
      </tr>
      <tr>
        <td id="L2097" class="blob-num js-line-number" data-line-number="2097"></td>
        <td id="LC2097" class="blob-code js-file-line">  {</td>
      </tr>
      <tr>
        <td id="L2098" class="blob-num js-line-number" data-line-number="2098"></td>
        <td id="LC2098" class="blob-code js-file-line">   &quot;cell_type&quot;: &quot;code&quot;,</td>
      </tr>
      <tr>
        <td id="L2099" class="blob-num js-line-number" data-line-number="2099"></td>
        <td id="LC2099" class="blob-code js-file-line">   &quot;execution_count&quot;: 30,</td>
      </tr>
      <tr>
        <td id="L2100" class="blob-num js-line-number" data-line-number="2100"></td>
        <td id="LC2100" class="blob-code js-file-line">   &quot;metadata&quot;: {</td>
      </tr>
      <tr>
        <td id="L2101" class="blob-num js-line-number" data-line-number="2101"></td>
        <td id="LC2101" class="blob-code js-file-line">    &quot;collapsed&quot;: false</td>
      </tr>
      <tr>
        <td id="L2102" class="blob-num js-line-number" data-line-number="2102"></td>
        <td id="LC2102" class="blob-code js-file-line">   },</td>
      </tr>
      <tr>
        <td id="L2103" class="blob-num js-line-number" data-line-number="2103"></td>
        <td id="LC2103" class="blob-code js-file-line">   &quot;outputs&quot;: [],</td>
      </tr>
      <tr>
        <td id="L2104" class="blob-num js-line-number" data-line-number="2104"></td>
        <td id="LC2104" class="blob-code js-file-line">   &quot;source&quot;: [</td>
      </tr>
      <tr>
        <td id="L2105" class="blob-num js-line-number" data-line-number="2105"></td>
        <td id="LC2105" class="blob-code js-file-line">    &quot;sCutsResults=np.zeros((7,1))\n&quot;,</td>
      </tr>
      <tr>
        <td id="L2106" class="blob-num js-line-number" data-line-number="2106"></td>
        <td id="LC2106" class="blob-code js-file-line">    &quot;for i in range(0,7):\n&quot;,</td>
      </tr>
      <tr>
        <td id="L2107" class="blob-num js-line-number" data-line-number="2107"></td>
        <td id="LC2107" class="blob-code js-file-line">    &quot;    sCutsResults[i]=newton(findsGivent,LandSizeCuts[i],fprime=None,args=(LandSizeCuts[i]/10,AL,AK,PHI,RHO,GAMMA),tol=1e-8,maxiter=10000)\n&quot;,</td>
      </tr>
      <tr>
        <td id="L2108" class="blob-num js-line-number" data-line-number="2108"></td>
        <td id="LC2108" class="blob-code js-file-line">    &quot;interOmeansTResult=np.zeros((8,1),dtype=float)\n&quot;,</td>
      </tr>
      <tr>
        <td id="L2109" class="blob-num js-line-number" data-line-number="2109"></td>
        <td id="LC2109" class="blob-code js-file-line">    &quot;densityOTResult=np.zeros((8,1),dtype=float)\n&quot;,</td>
      </tr>
      <tr>
        <td id="L2110" class="blob-num js-line-number" data-line-number="2110"></td>
        <td id="LC2110" class="blob-code js-file-line">    &quot;for i in range(0,8): \n&quot;,</td>
      </tr>
      <tr>
        <td id="L2111" class="blob-num js-line-number" data-line-number="2111"></td>
        <td id="LC2111" class="blob-code js-file-line">    &quot;    if i==0:\n&quot;,</td>
      </tr>
      <tr>
        <td id="L2112" class="blob-num js-line-number" data-line-number="2112"></td>
        <td id="LC2112" class="blob-code js-file-line">    &quot;        interOmeansTResult[i]=quad(intLand,0,sCutsResults[i],args=(MU,SIGMA,AL,AK,PHI,RHO,GAMMA))[0]\n&quot;,</td>
      </tr>
      <tr>
        <td id="L2113" class="blob-num js-line-number" data-line-number="2113"></td>
        <td id="LC2113" class="blob-code js-file-line">    &quot;        densityOTResult[i]=lognorm.cdf(sCutsResults[i],SIGMA,MU)\n&quot;,</td>
      </tr>
      <tr>
        <td id="L2114" class="blob-num js-line-number" data-line-number="2114"></td>
        <td id="LC2114" class="blob-code js-file-line">    &quot;        interOmeansTResult[i]=interOmeansTResult[i]/densityOTResult[i]\n&quot;,</td>
      </tr>
      <tr>
        <td id="L2115" class="blob-num js-line-number" data-line-number="2115"></td>
        <td id="LC2115" class="blob-code js-file-line">    &quot;    elif i==7:\n&quot;,</td>
      </tr>
      <tr>
        <td id="L2116" class="blob-num js-line-number" data-line-number="2116"></td>
        <td id="LC2116" class="blob-code js-file-line">    &quot;        interOmeansTResult[i]=quad(intLand,sCutsResults[i-1],Inf,args=(MU,SIGMA,AL,AK,PHI,RHO,GAMMA))[0]\n&quot;,</td>
      </tr>
      <tr>
        <td id="L2117" class="blob-num js-line-number" data-line-number="2117"></td>
        <td id="LC2117" class="blob-code js-file-line">    &quot;        densityOTResult[i]=1-lognorm.cdf(sCutsResults[i-1],SIGMA,MU)\n&quot;,</td>
      </tr>
      <tr>
        <td id="L2118" class="blob-num js-line-number" data-line-number="2118"></td>
        <td id="LC2118" class="blob-code js-file-line">    &quot;        interOmeansTResult[i]=interOmeansTResult[i]/densityOTResult[i]\n&quot;,</td>
      </tr>
      <tr>
        <td id="L2119" class="blob-num js-line-number" data-line-number="2119"></td>
        <td id="LC2119" class="blob-code js-file-line">    &quot;    else:\n&quot;,</td>
      </tr>
      <tr>
        <td id="L2120" class="blob-num js-line-number" data-line-number="2120"></td>
        <td id="LC2120" class="blob-code js-file-line">    &quot;        interOmeansTResult[i]=quad(intLand,sCutsResults[i-1],sCutsResults[i],args=(MU,SIGMA,AL,AK,PHI,RHO,GAMMA))[0]              # We don&#39;t really need this...\n&quot;,</td>
      </tr>
      <tr>
        <td id="L2121" class="blob-num js-line-number" data-line-number="2121"></td>
        <td id="LC2121" class="blob-code js-file-line">    &quot;        densityOTResult[i]=lognorm.cdf(sCutsResults[i],SIGMA,MU)-lognorm.cdf(sCutsResults[i-1],SIGMA,MU)\n&quot;,</td>
      </tr>
      <tr>
        <td id="L2122" class="blob-num js-line-number" data-line-number="2122"></td>
        <td id="LC2122" class="blob-code js-file-line">    &quot;        interOmeansTResult[i]=interOmeansTResult[i]/densityOTResult[i]&quot;</td>
      </tr>
      <tr>
        <td id="L2123" class="blob-num js-line-number" data-line-number="2123"></td>
        <td id="LC2123" class="blob-code js-file-line">   ]</td>
      </tr>
      <tr>
        <td id="L2124" class="blob-num js-line-number" data-line-number="2124"></td>
        <td id="LC2124" class="blob-code js-file-line">  },</td>
      </tr>
      <tr>
        <td id="L2125" class="blob-num js-line-number" data-line-number="2125"></td>
        <td id="LC2125" class="blob-code js-file-line">  {</td>
      </tr>
      <tr>
        <td id="L2126" class="blob-num js-line-number" data-line-number="2126"></td>
        <td id="LC2126" class="blob-code js-file-line">   &quot;cell_type&quot;: &quot;code&quot;,</td>
      </tr>
      <tr>
        <td id="L2127" class="blob-num js-line-number" data-line-number="2127"></td>
        <td id="LC2127" class="blob-code js-file-line">   &quot;execution_count&quot;: 31,</td>
      </tr>
      <tr>
        <td id="L2128" class="blob-num js-line-number" data-line-number="2128"></td>
        <td id="LC2128" class="blob-code js-file-line">   &quot;metadata&quot;: {</td>
      </tr>
      <tr>
        <td id="L2129" class="blob-num js-line-number" data-line-number="2129"></td>
        <td id="LC2129" class="blob-code js-file-line">    &quot;collapsed&quot;: false</td>
      </tr>
      <tr>
        <td id="L2130" class="blob-num js-line-number" data-line-number="2130"></td>
        <td id="LC2130" class="blob-code js-file-line">   },</td>
      </tr>
      <tr>
        <td id="L2131" class="blob-num js-line-number" data-line-number="2131"></td>
        <td id="LC2131" class="blob-code js-file-line">   &quot;outputs&quot;: [</td>
      </tr>
      <tr>
        <td id="L2132" class="blob-num js-line-number" data-line-number="2132"></td>
        <td id="LC2132" class="blob-code js-file-line">    {</td>
      </tr>
      <tr>
        <td id="L2133" class="blob-num js-line-number" data-line-number="2133"></td>
        <td id="LC2133" class="blob-code js-file-line">     &quot;data&quot;: {</td>
      </tr>
      <tr>
        <td id="L2134" class="blob-num js-line-number" data-line-number="2134"></td>
        <td id="LC2134" class="blob-code js-file-line">      &quot;text/plain&quot;: [</td>
      </tr>
      <tr>
        <td id="L2135" class="blob-num js-line-number" data-line-number="2135"></td>
        <td id="LC2135" class="blob-code js-file-line">       &quot;array([[  4.09080158e-04],\n&quot;,</td>
      </tr>
      <tr>
        <td id="L2136" class="blob-num js-line-number" data-line-number="2136"></td>
        <td id="LC2136" class="blob-code js-file-line">       &quot;       [  3.58984383e-01],\n&quot;,</td>
      </tr>
      <tr>
        <td id="L2137" class="blob-num js-line-number" data-line-number="2137"></td>
        <td id="LC2137" class="blob-code js-file-line">       &quot;       [  2.99494458e+00],\n&quot;,</td>
      </tr>
      <tr>
        <td id="L2138" class="blob-num js-line-number" data-line-number="2138"></td>
        <td id="LC2138" class="blob-code js-file-line">       &quot;       [  2.13938033e+01],\n&quot;,</td>
      </tr>
      <tr>
        <td id="L2139" class="blob-num js-line-number" data-line-number="2139"></td>
        <td id="LC2139" class="blob-code js-file-line">       &quot;       [  3.13375748e+01],\n&quot;,</td>
      </tr>
      <tr>
        <td id="L2140" class="blob-num js-line-number" data-line-number="2140"></td>
        <td id="LC2140" class="blob-code js-file-line">       &quot;       [  2.62549121e+01],\n&quot;,</td>
      </tr>
      <tr>
        <td id="L2141" class="blob-num js-line-number" data-line-number="2141"></td>
        <td id="LC2141" class="blob-code js-file-line">       &quot;       [  1.25098043e+01],\n&quot;,</td>
      </tr>
      <tr>
        <td id="L2142" class="blob-num js-line-number" data-line-number="2142"></td>
        <td id="LC2142" class="blob-code js-file-line">       &quot;       [  5.14956747e+00]])&quot;</td>
      </tr>
      <tr>
        <td id="L2143" class="blob-num js-line-number" data-line-number="2143"></td>
        <td id="LC2143" class="blob-code js-file-line">      ]</td>
      </tr>
      <tr>
        <td id="L2144" class="blob-num js-line-number" data-line-number="2144"></td>
        <td id="LC2144" class="blob-code js-file-line">     },</td>
      </tr>
      <tr>
        <td id="L2145" class="blob-num js-line-number" data-line-number="2145"></td>
        <td id="LC2145" class="blob-code js-file-line">     &quot;execution_count&quot;: 31,</td>
      </tr>
      <tr>
        <td id="L2146" class="blob-num js-line-number" data-line-number="2146"></td>
        <td id="LC2146" class="blob-code js-file-line">     &quot;metadata&quot;: {},</td>
      </tr>
      <tr>
        <td id="L2147" class="blob-num js-line-number" data-line-number="2147"></td>
        <td id="LC2147" class="blob-code js-file-line">     &quot;output_type&quot;: &quot;execute_result&quot;</td>
      </tr>
      <tr>
        <td id="L2148" class="blob-num js-line-number" data-line-number="2148"></td>
        <td id="LC2148" class="blob-code js-file-line">    }</td>
      </tr>
      <tr>
        <td id="L2149" class="blob-num js-line-number" data-line-number="2149"></td>
        <td id="LC2149" class="blob-code js-file-line">   ],</td>
      </tr>
      <tr>
        <td id="L2150" class="blob-num js-line-number" data-line-number="2150"></td>
        <td id="LC2150" class="blob-code js-file-line">   &quot;source&quot;: [</td>
      </tr>
      <tr>
        <td id="L2151" class="blob-num js-line-number" data-line-number="2151"></td>
        <td id="LC2151" class="blob-code js-file-line">    &quot;densityOTResult*100&quot;</td>
      </tr>
      <tr>
        <td id="L2152" class="blob-num js-line-number" data-line-number="2152"></td>
        <td id="LC2152" class="blob-code js-file-line">   ]</td>
      </tr>
      <tr>
        <td id="L2153" class="blob-num js-line-number" data-line-number="2153"></td>
        <td id="LC2153" class="blob-code js-file-line">  },</td>
      </tr>
      <tr>
        <td id="L2154" class="blob-num js-line-number" data-line-number="2154"></td>
        <td id="LC2154" class="blob-code js-file-line">  {</td>
      </tr>
      <tr>
        <td id="L2155" class="blob-num js-line-number" data-line-number="2155"></td>
        <td id="LC2155" class="blob-code js-file-line">   &quot;cell_type&quot;: &quot;code&quot;,</td>
      </tr>
      <tr>
        <td id="L2156" class="blob-num js-line-number" data-line-number="2156"></td>
        <td id="LC2156" class="blob-code js-file-line">   &quot;execution_count&quot;: 33,</td>
      </tr>
      <tr>
        <td id="L2157" class="blob-num js-line-number" data-line-number="2157"></td>
        <td id="LC2157" class="blob-code js-file-line">   &quot;metadata&quot;: {</td>
      </tr>
      <tr>
        <td id="L2158" class="blob-num js-line-number" data-line-number="2158"></td>
        <td id="LC2158" class="blob-code js-file-line">    &quot;collapsed&quot;: false</td>
      </tr>
      <tr>
        <td id="L2159" class="blob-num js-line-number" data-line-number="2159"></td>
        <td id="LC2159" class="blob-code js-file-line">   },</td>
      </tr>
      <tr>
        <td id="L2160" class="blob-num js-line-number" data-line-number="2160"></td>
        <td id="LC2160" class="blob-code js-file-line">   &quot;outputs&quot;: [</td>
      </tr>
      <tr>
        <td id="L2161" class="blob-num js-line-number" data-line-number="2161"></td>
        <td id="LC2161" class="blob-code js-file-line">    {</td>
      </tr>
      <tr>
        <td id="L2162" class="blob-num js-line-number" data-line-number="2162"></td>
        <td id="LC2162" class="blob-code js-file-line">     &quot;data&quot;: {</td>
      </tr>
      <tr>
        <td id="L2163" class="blob-num js-line-number" data-line-number="2163"></td>
        <td id="LC2163" class="blob-code js-file-line">      &quot;image/png&quot;: [</td>
      </tr>
      <tr>
        <td id="L2164" class="blob-num js-line-number" data-line-number="2164"></td>
        <td id="LC2164" class="blob-code js-file-line">       &quot;iVBORw0KGgoAAAANSUhEUgAAAagAAAEaCAYAAABEsMO+AAAABHNCSVQICAgIfAhkiAAAAAlwSFlz\n&quot;,</td>
      </tr>
      <tr>
        <td id="L2165" class="blob-num js-line-number" data-line-number="2165"></td>
        <td id="LC2165" class="blob-code js-file-line">       &quot;AAALEgAACxIB0t1+/AAAGtdJREFUeJzt3XmQnXWd7/H3NxuQJhBDWkjIZhida7uBNkhVBjyCLFX3\n&quot;,</td>
      </tr>
      <tr>
        <td id="L2166" class="blob-num js-line-number" data-line-number="2166"></td>
        <td id="LC2166" class="blob-code js-file-line">       &quot;4sYYtUwQ5Ip1a2SJUCPLVTpjqailzKhX71UWExy5OHrFJYMQlWYZZ4LRJIYERGMSIEsTnBA67cKS\n&quot;,</td>
      </tr>
      <tr>
        <td id="L2167" class="blob-num js-line-number" data-line-number="2167"></td>
        <td id="LC2167" class="blob-code js-file-line">       &quot;3/3jPGk6TXefc7rP6f6l+/2qOtXP+T3L+f5OP30+/SzneSKlhCRJuRk30gVIktQXA0qSlCUDSpKU\n&quot;,</td>
      </tr>
      <tr>
        <td id="L2168" class="blob-num js-line-number" data-line-number="2168"></td>
        <td id="LC2168" class="blob-code js-file-line">       &quot;JQNKkpQlA0qSlCUDSpKUpQEDKiIOjYhVEbE2IjZGxKeL9raIeDwi1hSPs4enXEnSWBGVvgcVEZNT\n&quot;,</td>
      </tr>
      <tr>
        <td id="L2169" class="blob-num js-line-number" data-line-number="2169"></td>
        <td id="LC2169" class="blob-code js-file-line">       &quot;Sn+MiAnA/cAVwOlAZ0rpC8NQoyRpDKq4iy+l9MdicBIwHthdPI9GFSVJUsWAiohxEbEW6ADuTilt\n&quot;,</td>
      </tr>
      <tr>
        <td id="L2170" class="blob-num js-line-number" data-line-number="2170"></td>
        <td id="LC2170" class="blob-code js-file-line">       &quot;KEZdHBHrIuLGiJja0ColSWNOxV183RNGHAncCVwJbAR2FaM+AcxIKV3YkAolSWPShGonTCntiYgV\n&quot;,</td>
      </tr>
      <tr>
        <td id="L2171" class="blob-num js-line-number" data-line-number="2171"></td>
        <td id="LC2171" class="blob-code js-file-line">       &quot;QGtKqX1/e0TcAPyw9/QR4UX+JElVSSm96LBRpbP4pu/ffRcRhwFnAGsi4pgek70DWN/PC9b0uPba\n&quot;,</td>
      </tr>
      <tr>
        <td id="L2172" class="blob-num js-line-number" data-line-number="2172"></td>
        <td id="LC2172" class="blob-code js-file-line">       &quot;a2ueJ7fHaOjDaOmHfcjnMRr6YR8a9+hPpS2oGcCyiBhXhNktKaWfRsTyiDgeSMBm4EMVliNJUk0G\n&quot;,</td>
      </tr>
      <tr>
        <td id="L2173" class="blob-num js-line-number" data-line-number="2173"></td>
        <td id="LC2173" class="blob-code js-file-line">       &quot;DKiU0nrg9X20n9ewiiRJIrMrSZRKpZEuYchGQx9gdPTDPuRjNPTDPgy/qs/iq3nBEalRy5YkjR4R\n&quot;,</td>
      </tr>
      <tr>
        <td id="L2174" class="blob-num js-line-number" data-line-number="2174"></td>
        <td id="LC2174" class="blob-code js-file-line">       &quot;QerjJImqz+KTJL0gwmsVDEYtGy4GlCQNknuJalNrqGd1DEqSpP0MKElSlgwoSVKWDChJUpY8SUKS\n&quot;,</td>
      </tr>
      <tr>
        <td id="L2175" class="blob-num js-line-number" data-line-number="2175"></td>
        <td id="LC2175" class="blob-code js-file-line">       &quot;6qClpZWursYtv6kJNm5cXXG6efPm8cQTTzBhwgTGjx9PS0sL5513HhdddFHFkxS2bNnC/Pnzee65\n&quot;,</td>
      </tr>
      <tr>
        <td id="L2176" class="blob-num js-line-number" data-line-number="2176"></td>
        <td id="LC2176" class="blob-code js-file-line">       &quot;5xg3buS3XwwoSaqDri5obq4cIIO1a1drVdNFBD/60Y847bTT6OzspL29nUsvvZRVq1Zx0003VbWM\n&quot;,</td>
      </tr>
      <tr>
        <td id="L2177" class="blob-num js-line-number" data-line-number="2177"></td>
        <td id="LC2177" class="blob-code js-file-line">       &quot;XM5OHPmIlCQ1xJQpUzjnnHO47bbbWLZsGRs2bGDFihWccMIJHHnkkcyZM4elS5d2T3/qqacCMHXq\n&quot;,</td>
      </tr>
      <tr>
        <td id="L2178" class="blob-num js-line-number" data-line-number="2178"></td>
        <td id="LC2178" class="blob-code js-file-line">       &quot;VKZMmcKqVavYtGkTp512GtOnT6e5uZlFixaxZ8+eYanfgJKkUe7EE09k1qxZ3HfffRx++OF885vf\n&quot;,</td>
      </tr>
      <tr>
        <td id="L2179" class="blob-num js-line-number" data-line-number="2179"></td>
        <td id="LC2179" class="blob-code js-file-line">       &quot;ZM+ePaxYsYKvfvWrfP/73wfgvvvuA2DPnj10dnbyxje+EYBrrrmGHTt28NBDD/HYY4/R1tY2LHUb\n&quot;,</td>
      </tr>
      <tr>
        <td id="L2180" class="blob-num js-line-number" data-line-number="2180"></td>
        <td id="LC2180" class="blob-code js-file-line">       &quot;UJI0BsycOZPdu3fzpje9iVe96lUAvOY1r+E973kP99xzD9D3rr3jjjuO008/nYkTJzJ9+nSWLFnS\n&quot;,</td>
      </tr>
      <tr>
        <td id="L2181" class="blob-num js-line-number" data-line-number="2181"></td>
        <td id="LC2181" class="blob-code js-file-line">       &quot;PX2jeQxKksaAbdu2MW3aNFatWsWVV17Jhg0beOaZZ/jLX/7CwoUL+52vo6ODSy+9lPvvv5/Ozk72\n&quot;,</td>
      </tr>
      <tr>
        <td id="L2182" class="blob-num js-line-number" data-line-number="2182"></td>
        <td id="LC2182" class="blob-code js-file-line">       &quot;7dvHtGnThqVmA6qCWs/MqfZMG0kaLr/4xS/Ytm0bCxYs4G1vexuXXHIJd955J5MmTWLJkiU8+eST\n&quot;,</td>
      </tr>
      <tr>
        <td id="L2183" class="blob-num js-line-number" data-line-number="2183"></td>
        <td id="LC2183" class="blob-code js-file-line">       &quot;QN+XIrr66qsZP348Dz74IFOnTuX222/n4osvHpa6DagKaj0zp9ozbSSpUfbvqnv66ae59957ueyy\n&quot;,</td>
      </tr>
      <tr>
        <td id="L2184" class="blob-num js-line-number" data-line-number="2184"></td>
        <td id="LC2184" class="blob-code js-file-line">       &quot;y1i8eDGvfvWr2bt3Ly95yUuYNGkSDzzwAN/61rc466yzAGhubmbcuHFs2rSJl7/85QDs3buXI488\n&quot;,</td>
      </tr>
      <tr>
        <td id="L2185" class="blob-num js-line-number" data-line-number="2185"></td>
        <td id="LC2185" class="blob-code js-file-line">       &quot;kiOOOIJt27bxuc99btj64TEoSRplzjnnHI444gjmzJnDpz/9aS6//HJuvvlmAL7yla/w8Y9/nCOO\n&quot;,</td>
      </tr>
      <tr>
        <td id="L2186" class="blob-num js-line-number" data-line-number="2186"></td>
        <td id="LC2186" class="blob-code js-file-line">       &quot;OIJPfOITvPvd7+6eb/LkyVxzzTUsWLCAadOm8cADD3Dttdfyq1/9iiOPPJJzzjmHc889d9iu5O79\n&quot;,</td>
      </tr>
      <tr>
        <td id="L2187" class="blob-num js-line-number" data-line-number="2187"></td>
        <td id="LC2187" class="blob-code js-file-line">       &quot;oCqYO7e15i2orVvdxSeNdsU9jLqf5/JF3Zz1fs96tXs/KElqhIM9PHLkLj5JUpYMKElSlgwoSVKW\n&quot;,</td>
      </tr>
      <tr>
        <td id="L2188" class="blob-num js-line-number" data-line-number="2188"></td>
        <td id="LC2188" class="blob-code js-file-line">       &quot;PAYlZay1pYWaj7w3NbF648bGFCQNIwNKyllXF6ubm2uapXXXrgYVIw0vd/FJkrJkQEmSsmRASZL6\n&quot;,</td>
      </tr>
      <tr>
        <td id="L2189" class="blob-num js-line-number" data-line-number="2189"></td>
        <td id="LC2189" class="blob-code js-file-line">       &quot;tWXLFsaNG8e+ffsqTvuNb3yDU045pW6vPeAxqIg4FLgHOASYBHw/pXRVREwDbgPmAluAhSmlp+pW\n&quot;,</td>
      </tr>
      <tr>
        <td id="L2190" class="blob-num js-line-number" data-line-number="2190"></td>
        <td id="LC2190" class="blob-code js-file-line">       &quot;lSQdZAZ1Qkstqjz5Zd68eezYsYPt27dz1FFHdbefcMIJrFu3ji1btjBnzpzG1VlHAwZUSunPEfHm\n&quot;,</td>
      </tr>
      <tr>
        <td id="L2191" class="blob-num js-line-number" data-line-number="2191"></td>
        <td id="LC2191" class="blob-code js-file-line">       &quot;lNIfI2ICcH9E/A3wVmBlSumzEfFR4MriIUlj0yBOaKlFtSe/RATz58/n1ltv5cMf/jAA69ev509/\n&quot;,</td>
      </tr>
      <tr>
        <td id="L2192" class="blob-num js-line-number" data-line-number="2192"></td>
        <td id="LC2192" class="blob-code js-file-line">       &quot;+tOwXUOvXiru4ksp/bEYnASMB3ZTDqhlRfsy4O0NqU6SVLNFixaxfPny7ufLli3jvPPO674O3p49\n&quot;,</td>
      </tr>
      <tr>
        <td id="L2193" class="blob-num js-line-number" data-line-number="2193"></td>
        <td id="LC2193" class="blob-code js-file-line">       &quot;ezjvvPN46Utfyrx58/jkJz/ZPW7fvn1cccUVNDc3c9xxx7FixYoDlr1nzx4uvPBCZs6cyaxZs/jY\n&quot;,</td>
      </tr>
      <tr>
        <td id="L2194" class="blob-num js-line-number" data-line-number="2194"></td>
        <td id="LC2194" class="blob-code js-file-line">       &quot;xz5W1e6/wagYUBExLiLWAh3A3SmlDcDRKaWOYpIO4OiGVCdJqtnJJ5/M008/zcMPP8zzzz/Pbbfd\n&quot;,</td>
      </tr>
      <tr>
        <td id="L2195" class="blob-num js-line-number" data-line-number="2195"></td>
        <td id="LC2195" class="blob-code js-file-line">       &quot;xqJFi4DyrTguvvhiOjs72bx5M/fccw/Lly/vvtr51772NVasWMHatWtZvXo13/nOdw7Y8jr//POZ\n&quot;,</td>
      </tr>
      <tr>
        <td id="L2196" class="blob-num js-line-number" data-line-number="2196"></td>
        <td id="LC2196" class="blob-code js-file-line">       &quot;NGkSmzZtYs2aNdx1113ccMMNDelHxe9BpZT2AcdHxJHAnRHx5l7jU0T0ednynvetL5VKlEqlIRUr\n&quot;,</td>
      </tr>
      <tr>
        <td id="L2197" class="blob-num js-line-number" data-line-number="2197"></td>
        <td id="LC2197" class="blob-code js-file-line">       &quot;SarO4sWLWb58OaeeeiotLS0ce+yxAN2BtW7dOpqammhqauLyyy/nlltu4QMf+ADf/va3WbJkSff0\n&quot;,</td>
      </tr>
      <tr>
        <td id="L2198" class="blob-num js-line-number" data-line-number="2198"></td>
        <td id="LC2198" class="blob-code js-file-line">       &quot;V199dfct3js6Orjjjjt46qmnOPTQQznssMO47LLL+PrXv85FF11UdW3t7e20t7dXnK7qL+qmlPZE\n&quot;,</td>
      </tr>
      <tr>
        <td id="L2199" class="blob-num js-line-number" data-line-number="2199"></td>
        <td id="LC2199" class="blob-code js-file-line">       &quot;xArgDUBHRByTUtoZETOAJ/qap2dASZKGR0SwePFiTjnlFDZv3nzA7r0nn3ySZ599lrlz53ZPP2fO\n&quot;,</td>
      </tr>
      <tr>
        <td id="L2200" class="blob-num js-line-number" data-line-number="2200"></td>
        <td id="LC2200" class="blob-code js-file-line">       &quot;HLZt2wbAjh07mD179gHj9tu6dSvPPvssM2bM6G7bt29fzSdd9N5gWbp0aZ/TDbiLLyKmR8TUYvgw\n&quot;,</td>
      </tr>
      <tr>
        <td id="L2201" class="blob-num js-line-number" data-line-number="2201"></td>
        <td id="LC2201" class="blob-code js-file-line">       &quot;4AxgDfAD4P3FZO8Hbq+pOklSQ82ZM4f58+dzxx138M53vrO7ffr06UycOJEtW7Z0tz366KPMmjUL\n&quot;,</td>
      </tr>
      <tr>
        <td id="L2202" class="blob-num js-line-number" data-line-number="2202"></td>
        <td id="LC2202" class="blob-code js-file-line">       &quot;gBkzZvDoo48eMG6/2bNnc8ghh/CHP/yB3bt3s3v3bvbs2cP69esb0odKx6BmAD8rjkGtAn6YUvop\n&quot;,</td>
      </tr>
      <tr>
        <td id="L2203" class="blob-num js-line-number" data-line-number="2203"></td>
        <td id="LC2203" class="blob-code js-file-line">       &quot;cB1wRkQ8ApxWPJckZeTGG2/kZz/7GYcddlh32/jx41m4cCHXXHMNe/fuZevWrVx//fXdx6gWLlzI\n&quot;,</td>
      </tr>
      <tr>
        <td id="L2204" class="blob-num js-line-number" data-line-number="2204"></td>
        <td id="LC2204" class="blob-code js-file-line">       &quot;F7/4RbZt28bu3bu57roXPt5nzJjBmWeeyUc+8hE6OzvZt28fmzZt4t57721I/QMGVEppfUrp9Sml\n&quot;,</td>
      </tr>
      <tr>
        <td id="L2205" class="blob-num js-line-number" data-line-number="2205"></td>
        <td id="LC2205" class="blob-code js-file-line">       &quot;41NKr00pfa5o/8+U0ltSSq9IKZ3pd6AkKT/z58/n9a9/fffziCAi+NKXvkRTUxPz58/nlFNO4X3v\n&quot;,</td>
      </tr>
      <tr>
        <td id="L2206" class="blob-num js-line-number" data-line-number="2206"></td>
        <td id="LC2206" class="blob-code js-file-line">       &quot;ex8XXHABAB/84Ac566yzeN3rXkdra+uLbvG+fPlynnnmGVpaWpg2bRrvete72Llz5wHLrxdv+V6B\n&quot;,</td>
      </tr>
      <tr>
        <td id="L2207" class="blob-num js-line-number" data-line-number="2207"></td>
        <td id="LC2207" class="blob-code js-file-line">       &quot;t3zXSGqdO3dQF4tdvXVrgyrSfr1vX57LF3Vz5i3fJWkEHOzhkSOvxSdJypIBJUnKkgElScqSASVJ\n&quot;,</td>
      </tr>
      <tr>
        <td id="L2208" class="blob-num js-line-number" data-line-number="2208"></td>
        <td id="LC2208" class="blob-code js-file-line">       &quot;ypIBJUnKkgElScqSp5lL0iAdbPdXOtgYUJI0CKPhQgS5cxefJClLBpQkKUsGlCQpSwaUJClLBpQk\n&quot;,</td>
      </tr>
      <tr>
        <td id="L2209" class="blob-num js-line-number" data-line-number="2209"></td>
        <td id="LC2209" class="blob-code js-file-line">       &quot;KUsGlCQpSwaUJClLBpQkKUsGlCQpSwaUJClLBpQkKUsGlCQpS14sVlLDtba0QFdX9TM0NbF648bG\n&quot;,</td>
      </tr>
      <tr>
        <td id="L2210" class="blob-num js-line-number" data-line-number="2210"></td>
        <td id="LC2210" class="blob-code js-file-line">       &quot;FaSDggElqfG6uljd3Fz15K27djWwGB0s3MUnScqSASVJytKAARURsyPi7ojYEBEPRsQlRXtbRDwe\n&quot;,</td>
      </tr>
      <tr>
        <td id="L2211" class="blob-num js-line-number" data-line-number="2211"></td>
        <td id="LC2211" class="blob-code js-file-line">       &quot;EWuKx9nDU64kaayodAzqWWBJSmltRBwO/DIiVgIJ+EJK6QsNr1CSNCYNGFAppZ3AzmJ4b0Q8BBxb\n&quot;,</td>
      </tr>
      <tr>
        <td id="L2212" class="blob-num js-line-number" data-line-number="2212"></td>
        <td id="LC2212" class="blob-code js-file-line">       &quot;jI4G1yZJGsOqPgYVEfOAE4D/KJoujoh1EXFjRExtQG2SpDGsqoAqdu99B7g0pbQX+CrwMuB4YAfw\n&quot;,</td>
      </tr>
      <tr>
        <td id="L2213" class="blob-num js-line-number" data-line-number="2213"></td>
        <td id="LC2213" class="blob-code js-file-line">       &quot;+YZVKEkakyp+DyoiJgLfBb6ZUrodIKX0RI/xNwA/7Gvetra27uFSqUSpVBpatZKkg157ezvt7e0V\n&quot;,</td>
      </tr>
      <tr>
        <td id="L2214" class="blob-num js-line-number" data-line-number="2214"></td>
        <td id="LC2214" class="blob-code js-file-line">       &quot;pxswoCIigBuBjSmlf+zRPiOltKN4+g5gfV/z9wwoSZLgxRssS5cu7XO6SltQC4BFwK8jYk3RdjXw\n&quot;,</td>
      </tr>
      <tr>
        <td id="L2215" class="blob-num js-line-number" data-line-number="2215"></td>
        <td id="LC2215" class="blob-code js-file-line">       &quot;3og4nvLZfJuBDw2xXkmSDlDpLL776fs41R2NKUeSpDKvJCFJypIBJUnKkgElScqSASVJypIBJUnK\n&quot;,</td>
      </tr>
      <tr>
        <td id="L2216" class="blob-num js-line-number" data-line-number="2216"></td>
        <td id="LC2216" class="blob-code js-file-line">       &quot;kgElScqSASVJypIBJUnKkgElScqSASVJypIBJUnKkgElScqSASVJypIBJUnKkgElScqSASVJypIB\n&quot;,</td>
      </tr>
      <tr>
        <td id="L2217" class="blob-num js-line-number" data-line-number="2217"></td>
        <td id="LC2217" class="blob-code js-file-line">       &quot;JUnKkgElScqSASVJypIBJUnKkgElScqSASVJytKEkS5AapTWlhbo6qp+hqYmVm/c2LiCJNXEgNLo\n&quot;,</td>
      </tr>
      <tr>
        <td id="L2218" class="blob-num js-line-number" data-line-number="2218"></td>
        <td id="LC2218" class="blob-code js-file-line">       &quot;1dXF6ubmqidv3bWrgcVIqpW7+CRJWTKgJElZMqAkSVkaMKAiYnZE3B0RGyLiwYi4pGifFhErI+KR\n&quot;,</td>
      </tr>
      <tr>
        <td id="L2219" class="blob-num js-line-number" data-line-number="2219"></td>
        <td id="LC2219" class="blob-code js-file-line">       &quot;iLgrIqYOT7mSpLGi0hbUs8CSlNKrgJOBv4uIVwJXAitTSq8Aflo8lySpbgYMqJTSzpTS2mJ4L/AQ\n&quot;,</td>
      </tr>
      <tr>
        <td id="L2220" class="blob-num js-line-number" data-line-number="2220"></td>
        <td id="LC2220" class="blob-code js-file-line">       &quot;cCzwVmBZMdky4O2NLFKSNPZUfQwqIuYBJwCrgKNTSh3FqA7g6LpXJkka06oKqIg4HPgucGlKqbPn\n&quot;,</td>
      </tr>
      <tr>
        <td id="L2221" class="blob-num js-line-number" data-line-number="2221"></td>
        <td id="LC2221" class="blob-code js-file-line">       &quot;uJRSAlIDapMkjWEVv6gbERMph9MtKaXbi+aOiDgmpbQzImYAT/Q1b1tbW/dwqVSiVCoNuWBJ0sGt\n&quot;,</td>
      </tr>
      <tr>
        <td id="L2222" class="blob-num js-line-number" data-line-number="2222"></td>
        <td id="LC2222" class="blob-code js-file-line">       &quot;vb2d9vb2itMNGFAREcCNwMaU0j/2GPUD4P3AZ4qft/cx+wEBJUkSvHiDZenSpX1OV2kLagGwCPh1\n&quot;,</td>
      </tr>
      <tr>
        <td id="L2223" class="blob-num js-line-number" data-line-number="2223"></td>
        <td id="LC2223" class="blob-code js-file-line">       &quot;RKwp2q4CrgO+HREXAluAhUMrV5KkAw0YUCml++n/ONVb6l+OJEllXklCkpQlA0qSlCUDSpKUJQNK\n&quot;,</td>
      </tr>
      <tr>
        <td id="L2224" class="blob-num js-line-number" data-line-number="2224"></td>
        <td id="LC2224" class="blob-code js-file-line">       &quot;kpQlA0qSlCUDSpKUJQNKkpQlA0qSlCUDSpKUJQNKkpQlA0qSlCUDSpKUJQNKkpQlA0qSlCUDSpKU\n&quot;,</td>
      </tr>
      <tr>
        <td id="L2225" class="blob-num js-line-number" data-line-number="2225"></td>
        <td id="LC2225" class="blob-code js-file-line">       &quot;JQNKkpQlA0qSlCUDSpKUJQNKkpQlA0qSlCUDSpKUJQNKkpQlA0qSlCUDSpKUpQkjXYAar6Wlla6u\n&quot;,</td>
      </tr>
      <tr>
        <td id="L2226" class="blob-num js-line-number" data-line-number="2226"></td>
        <td id="LC2226" class="blob-code js-file-line">       &quot;2uZpaoKNG1c3piBJqoIBNQZ0dUFzc21hs2tXa4OqkaTqVNzFFxE3RURHRKzv0dYWEY9HxJricXZj\n&quot;,</td>
      </tr>
      <tr>
        <td id="L2227" class="blob-num js-line-number" data-line-number="2227"></td>
        <td id="LC2227" class="blob-code js-file-line">       &quot;y5QkjTXVHIO6GegdQAn4QkrphOLx4/qXJkkayyoGVErpPmB3H6Oi/uVIklQ2lLP4Lo6IdRFxY0RM\n&quot;,</td>
      </tr>
      <tr>
        <td id="L2228" class="blob-num js-line-number" data-line-number="2228"></td>
        <td id="LC2228" class="blob-code js-file-line">       &quot;rVtFkiQx+JMkvgr8QzH8CeDzwIV1qUjqR61nIz67fSc0NzeuIEkNNaiASik9sX84Im4AftjXdG1t\n&quot;,</td>
      </tr>
      <tr>
        <td id="L2229" class="blob-num js-line-number" data-line-number="2229"></td>
        <td id="LC2229" class="blob-code js-file-line">       &quot;bd3DpVKJUqk0mJeTgNrPRty27ZAGViNpsNrb22lvb6843aACKiJmpJR2FE/fAazva7qeASVJErx4\n&quot;,</td>
      </tr>
      <tr>
        <td id="L2230" class="blob-num js-line-number" data-line-number="2230"></td>
        <td id="LC2230" class="blob-code js-file-line">       &quot;g2Xp0qV9TlcxoCLiVuBNwPSIeAy4FihFxPGUz+bbDHxo6CVLkvSCigGVUnpvH803NaAWSZK6eS0+\n&quot;,</td>
      </tr>
      <tr>
        <td id="L2231" class="blob-num js-line-number" data-line-number="2231"></td>
        <td id="LC2231" class="blob-code js-file-line">       &quot;SVKWDChJUpYMKElSlgwoSVKWDChJUpYMKElSlgwoSVKWDChJUpa8o640jLzgrVQ9A0oaRl7wVqqe\n&quot;,</td>
      </tr>
      <tr>
        <td id="L2232" class="blob-num js-line-number" data-line-number="2232"></td>
        <td id="LC2232" class="blob-code js-file-line">       &quot;u/gkSVkyoCRJWTKgJElZMqAkSVnyJAlJqkJrSws1nYLZ1MTqjRsbV9AYYEBJUjW6ulhdwyn/rbt2\n&quot;,</td>
      </tr>
      <tr>
        <td id="L2233" class="blob-num js-line-number" data-line-number="2233"></td>
        <td id="LC2233" class="blob-code js-file-line">       &quot;NbCYscFdfJKkLBlQkqQsGVCSpCwZUJKkLBlQkqQsGVCSpCwZUJKkLDX0e1Bz57bWNH1TE2zcWP2V\n&quot;,</td>
      </tr>
      <tr>
        <td id="L2234" class="blob-num js-line-number" data-line-number="2234"></td>
        <td id="LC2234" class="blob-code js-file-line">       &quot;niVJo1dDA6qW2woA7NpVW6BJkkYvd/FJkrJkQEmSslQxoCLipojoiIj1PdqmRcTKiHgkIu6KiKmN\n&quot;,</td>
      </tr>
      <tr>
        <td id="L2235" class="blob-num js-line-number" data-line-number="2235"></td>
        <td id="LC2235" class="blob-code js-file-line">       &quot;LVOSNNZUswV1M3B2r7YrgZUppVcAPy2eS5JUNxUDKqV0H7C7V/NbgWXF8DLg7XWuS5I0xg32GNTR\n&quot;,</td>
      </tr>
      <tr>
        <td id="L2236" class="blob-num js-line-number" data-line-number="2236"></td>
        <td id="LC2236" class="blob-code js-file-line">       &quot;KaWOYrgDOLpO9UiSBNThJImUUgJSHWqRJKnbYL8H1RERx6SUdkbEDOCJvibavr2te3jKlBJTppQG\n&quot;,</td>
      </tr>
      <tr>
        <td id="L2237" class="blob-num js-line-number" data-line-number="2237"></td>
        <td id="LC2237" class="blob-code js-file-line">       &quot;+XKSpNGivb2d9vb2itMNNqB+ALwf+Ezx8/a+Jpo5s22Qi5ckjValUolSqdT9fOnSpX1OV81p5rcC\n&quot;,</td>
      </tr>
      <tr>
        <td id="L2238" class="blob-num js-line-number" data-line-number="2238"></td>
        <td id="LC2238" class="blob-code js-file-line">       &quot;Pwf+OiIei4gLgOuAMyLiEeC04rkkSXVTcQsqpfTefka9pc61SJLUzStJSJKyZEBJkrJkQEmSsmRA\n&quot;,</td>
      </tr>
      <tr>
        <td id="L2239" class="blob-num js-line-number" data-line-number="2239"></td>
        <td id="LC2239" class="blob-code js-file-line">       &quot;SZKyZEBJkrJkQEmSsmRASZKyZEBJkrJkQEmSsmRASZKyZEBJkrJkQEmSsmRASZKyZEBJkrJkQEmS\n&quot;,</td>
      </tr>
      <tr>
        <td id="L2240" class="blob-num js-line-number" data-line-number="2240"></td>
        <td id="LC2240" class="blob-code js-file-line">       &quot;smRASZKyZEBJkrJkQEmSsmRASZKyZEBJkrJkQEmSsmRASZKyZEBJkrI0YaQLkHRwaWlppaurtnme\n&quot;,</td>
      </tr>
      <tr>
        <td id="L2241" class="blob-num js-line-number" data-line-number="2241"></td>
        <td id="LC2241" class="blob-code js-file-line">       &quot;3b4TmpsbU5BGLQNKUk26uqC5eXVN82zbdkiDqtFo5i4+SVKWDChJUpaGtIsvIrYATwPPA8+mlE6q\n&quot;,</td>
      </tr>
      <tr>
        <td id="L2242" class="blob-num js-line-number" data-line-number="2242"></td>
        <td id="LC2242" class="blob-code js-file-line">       &quot;R1GSJA31GFQCSiml/6xHMZIk7VePXXxRh2VIknSAemxB/SQingf+T0rp63WoSZLUAK0tLdT8HYGm\n&quot;,</td>
      </tr>
      <tr>
        <td id="L2243" class="blob-num js-line-number" data-line-number="2243"></td>
        <td id="LC2243" class="blob-code js-file-line">       &quot;JlZv3NiYgioYakAtSCntiIhmYGVEPJxSum//yO3b27onnDKlxJQppSG+nCRp0Lq6WF3j99Fad+2q\n&quot;,</td>
      </tr>
      <tr>
        <td id="L2244" class="blob-num js-line-number" data-line-number="2244"></td>
        <td id="LC2244" class="blob-code js-file-line">       &quot;exnt7e20t7dXnG5IAZVS2lH83BUR3wNOAroDaubMtqEsXpI0CpVKJUqlUvfzpUuX9jndoI9BRcTk\n&quot;,</td>
      </tr>
      <tr>
        <td id="L2245" class="blob-num js-line-number" data-line-number="2245"></td>
        <td id="LC2245" class="blob-code js-file-line">       &quot;iJhSDDcBZwLrB7s8SZJ6GsoW1NHA9yJi/3L+OaV0V12qkiSNeYMOqJTSZuD4OtYiSVI3ryQhScqS\n&quot;,</td>
      </tr>
      <tr>
        <td id="L2246" class="blob-num js-line-number" data-line-number="2246"></td>
        <td id="LC2246" class="blob-code js-file-line">       &quot;ASVJypIBJUnKkrfbkDQm1XpfK+9pNfwMKEljUq33tfKeVsPPXXySpCwZUJKkLBlQkqQsGVCSpCwZ\n&quot;,</td>
      </tr>
      <tr>
        <td id="L2247" class="blob-num js-line-number" data-line-number="2247"></td>
        <td id="LC2247" class="blob-code js-file-line">       &quot;UJKkLHkWn/r01PYNtM6dW/0MI3jPGEmjkwGlPk1O+2q6b0wj7hkjaWxzF58kKUsGlCQpSwaUJClL\n&quot;,</td>
      </tr>
      <tr>
        <td id="L2248" class="blob-num js-line-number" data-line-number="2248"></td>
        <td id="LC2248" class="blob-code js-file-line">       &quot;BpQkKUsGlCQpSwaUJClLBpQkKUt+D0qSDlKj/Z5WBpQkHaRG+z2t3MUnScqSASVJypIBJUnKkgEl\n&quot;,</td>
      </tr>
      <tr>
        <td id="L2249" class="blob-num js-line-number" data-line-number="2249"></td>
        <td id="LC2249" class="blob-code js-file-line">       &quot;ScqSASVJytKgAyoizo6IhyPitxHx0XoWJUnSoAIqIsYDXwbOBlqA90bEK4dazJ//3DnURYy40dAH\n&quot;,</td>
      </tr>
      <tr>
        <td id="L2250" class="blob-num js-line-number" data-line-number="2250"></td>
        <td id="LC2250" class="blob-code js-file-line">       &quot;gL+kfSNdwpDZh3yMhn7Yh+E32O9BnQT8LqW0BSAi/i/wNuChoRQzGj7cn9q1qbY70UKWd6N95iBb\n&quot;,</td>
      </tr>
      <tr>
        <td id="L2251" class="blob-num js-line-number" data-line-number="2251"></td>
        <td id="LC2251" class="blob-code js-file-line">       &quot;kftiH/IxGvphH4bfYAPqWOCxHs8fB9449HIOfhNJNd2JFrwbrST1ZbDHoFJdq5AkqZdIqfasiYiT\n&quot;,</td>
      </tr>
      <tr>
        <td id="L2252" class="blob-num js-line-number" data-line-number="2252"></td>
        <td id="LC2252" class="blob-code js-file-line">       &quot;gbaU0tnF86uAfSmlz/SYxhCTJFUlpRS92wYbUBOA3wCnA9uBB4D3ppSGdAxKkqT9BnUMKqX0XER8\n&quot;,</td>
      </tr>
      <tr>
        <td id="L2253" class="blob-num js-line-number" data-line-number="2253"></td>
        <td id="LC2253" class="blob-code js-file-line">       &quot;GLgTGA/caDhJkuppUFtQkiQ1WnZXkoiI0yLilxGxPiK+UXznaqRquSkiOiJifY+2aRGxMiIeiYi7\n&quot;,</td>
      </tr>
      <tr>
        <td id="L2254" class="blob-num js-line-number" data-line-number="2254"></td>
        <td id="LC2254" class="blob-code js-file-line">       &quot;ImJqhWVcHhH7ImJa8XxSRNwcEb+OiLUR8aZh6MeW4vXWRMQDtfQjIl4XEf9ezP+DiJjSqH7U+n5H\n&quot;,</td>
      </tr>
      <tr>
        <td id="L2255" class="blob-num js-line-number" data-line-number="2255"></td>
        <td id="LC2255" class="blob-code js-file-line">       &quot;xFXFF8Ufjogz+1nmtIi4OyI6I+JLvca9OyLWRcSDEXFdj/a5EfHTYtzdEXFsDX2YXcyzoVjuJfXo\n&quot;,</td>
      </tr>
      <tr>
        <td id="L2256" class="blob-num js-line-number" data-line-number="2256"></td>
        <td id="LC2256" class="blob-code js-file-line">       &quot;R49p50TE3oi4vJH9KOavab2p8vfR73oz2H7Ua72JiDdE+XPntxHxTwO8L5+MiEcjorNXe791RsRn\n&quot;,</td>
      </tr>
      <tr>
        <td id="L2257" class="blob-num js-line-number" data-line-number="2257"></td>
        <td id="LC2257" class="blob-code js-file-line">       &quot;imWvj4iFPdpr+ryr5/pVbX9HVEppxB/AJGAy5cB8FPiron0p8IERrOsU4ARgfY+2zwJ/Xwx/FLhu\n&quot;,</td>
      </tr>
      <tr>
        <td id="L2258" class="blob-num js-line-number" data-line-number="2258"></td>
        <td id="LC2258" class="blob-code js-file-line">       &quot;gPlnAz8GNgPTira/o7xLFKAZWE2xJdvAfnS/fq39AH4BnFIMXwD8Q6P6Ucv7TfkL4muBicA84HfA\n&quot;,</td>
      </tr>
      <tr>
        <td id="L2259" class="blob-num js-line-number" data-line-number="2259"></td>
        <td id="LC2259" class="blob-code js-file-line">       &quot;uD6WORlYAHwI+FKP9qOArcBRxfNvAKcVw/8CLC6G3wwsr6EPxwDHF8OHUz5W+8qh9qPH8r8D3AZc\n&quot;,</td>
      </tr>
      <tr>
        <td id="L2260" class="blob-num js-line-number" data-line-number="2260"></td>
        <td id="LC2260" class="blob-code js-file-line">       &quot;3sh+1Lre1PD7eNF6M9R+1GG92b8n6QHgpGL4X4Gz+3lfTip+z5292vusE/ivwF2UP98mF69zOIP4\n&quot;,</td>
      </tr>
      <tr>
        <td id="L2261" class="blob-num js-line-number" data-line-number="2261"></td>
        <td id="LC2261" class="blob-code js-file-line">       &quot;vKvT+lV1f4F2YO5Q/q6H9JkwUi9cdP6VwOeB3wOvK1bY3/Va8VaMcI3zeq34DwNH91hZHh5g3n8B\n&quot;,</td>
      </tr>
      <tr>
        <td id="L2262" class="blob-num js-line-number" data-line-number="2262"></td>
        <td id="LC2262" class="blob-code js-file-line">       &quot;XsuBAfVlYFGPaX4CnNjgPmze/4dfaz+Ap3oMzwY2NLIf1b7fwFXAR3tM92Pg5AGWez4HBtSJwE96\n&quot;,</td>
      </tr>
      <tr>
        <td id="L2263" class="blob-num js-line-number" data-line-number="2263"></td>
        <td id="LC2263" class="blob-code js-file-line">       &quot;PF8M/K9i+EHg2GI4gD1D6M/twFvq0Q/g7cUH0bW8EFAN60ct6021/ehvvRlqP4a63gAzgId6tL8H\n&quot;,</td>
      </tr>
      <tr>
        <td id="L2264" class="blob-num js-line-number" data-line-number="2264"></td>
        <td id="LC2264" class="blob-code js-file-line">       &quot;+N8V3p/eAdVnncAVwP/sMd0NwLuow+fdYNevavsL3A3MGez6P9THsO/ii4imiLggIu4Dvkb5l/qa\n&quot;,</td>
      </tr>
      <tr>
        <td id="L2265" class="blob-num js-line-number" data-line-number="2265"></td>
        <td id="LC2265" class="blob-code js-file-line">       &quot;lNI64ElgQkS8oZj8byl/KObk6JRSRzHcARzd10QR8Tbg8ZTSr3uNWge8NSLGR8TLgDcAsxpWbVkC\n&quot;,</td>
      </tr>
      <tr>
        <td id="L2266" class="blob-num js-line-number" data-line-number="2266"></td>
        <td id="LC2266" class="blob-code js-file-line">       &quot;fhIRqyPig0VbVf0ANhR9gfIf1f7fx3D1o786Z1L+gvh+j1P+Anl/Uq/nvwP+utgtM4Hyh//++tcB\n&quot;,</td>
      </tr>
      <tr>
        <td id="L2267" class="blob-num js-line-number" data-line-number="2267"></td>
        <td id="LC2267" class="blob-code js-file-line">       &quot;5xbD7wCmRMRLai08IuZR/s9+1VD7ERGHA38PtA1jP2pZb6r9ffS33vy2zv2otc7e7dv6qX8g/dW5\n&quot;,</td>
      </tr>
      <tr>
        <td id="L2268" class="blob-num js-line-number" data-line-number="2268"></td>
        <td id="LC2268" class="blob-code js-file-line">       &quot;Djg7Ig6LiOmUt65mpZR2MYTPuyGuX7X090Wnfw+Xkbjl+w7Kv7D/nlL6Tc8RKaUUEe8Bro+IQyhv\n&quot;,</td>
      </tr>
      <tr>
        <td id="L2269" class="blob-num js-line-number" data-line-number="2269"></td>
        <td id="LC2269" class="blob-code js-file-line">       &quot;Fj8/AjVWpai39wcfETEZuBo4o2dz8fMmyluOqynv0vg5je/jgpTSjohoBlZGxMM9R/bXj8IHgC9G\n&quot;,</td>
      </tr>
      <tr>
        <td id="L2270" class="blob-num js-line-number" data-line-number="2270"></td>
        <td id="LC2270" class="blob-code js-file-line">       &quot;xMeAHwDPFO3D3o8KdUINXyBPKe2OiP9BeXfZPsr1H1eMvgL4ckScD9xL+Y+3pr4VgfJd4NKUUmfE\n&quot;,</td>
      </tr>
      <tr>
        <td id="L2271" class="blob-num js-line-number" data-line-number="2271"></td>
        <td id="LC2271" class="blob-code js-file-line">       &quot;C3/jg+xHG3B9SumP0WNhDe7HUNab/vrR53qTUnqqUf2oos566bPOlNLKiDiRcp92Af9OuY9Q3nKp\n&quot;,</td>
      </tr>
      <tr>
        <td id="L2272" class="blob-num js-line-number" data-line-number="2272"></td>
        <td id="LC2272" class="blob-code js-file-line">       &quot;+fNuiOtXpWVfAFxSPP0r4F8j4hng9ymlc/ufs/5GIqDOBS4E/l+Ur+G3LKX06P6RKaX/AE4FKA7o\n&quot;,</td>
      </tr>
      <tr>
        <td id="L2273" class="blob-num js-line-number" data-line-number="2273"></td>
        <td id="LC2273" class="blob-code js-file-line">       &quot;vXwEahxIR0Qck1LaGREzgCcAIuJm4HjKK+WVlHc5rCtWnFnALyPipJTSE8BH9i8sIv4NeKSRBaeU\n&quot;,</td>
      </tr>
      <tr>
        <td id="L2274" class="blob-num js-line-number" data-line-number="2274"></td>
        <td id="LC2274" class="blob-code js-file-line">       &quot;dhQ/d0XE9yjvQ6/Yj5TSfyv+iTirGPcKyvvTSSk9P0z96LNOyu9zz/82ZwHbIuLtlHeBQfmfoF/2\n&quot;,</td>
      </tr>
      <tr>
        <td id="L2275" class="blob-num js-line-number" data-line-number="2275"></td>
        <td id="LC2275" class="blob-code js-file-line">       &quot;t+CU0o+AHwFExEXAc0X7Dor/hIsPgnNTSk9XW3BETKT84XFLSun2IfYjAR+k/Ds7NyI+C0wF9kXE\n&quot;,</td>
      </tr>
      <tr>
        <td id="L2276" class="blob-num js-line-number" data-line-number="2276"></td>
        <td id="LC2276" class="blob-code js-file-line">       &quot;n1JKX2lUP2pZb6roB8CFKaVf0c96U+d+1FLn40X7rN7tETEO+BXl38P3U0pt/b3gQHWmlD4FfKoY\n&quot;,</td>
      </tr>
      <tr>
        <td id="L2277" class="blob-num js-line-number" data-line-number="2277"></td>
        <td id="LC2277" class="blob-code js-file-line">       &quot;98+Ujx0N6vOuDutXf/3dVtR0M3Bz8Vp3A+/v+Rk9rEZq3yIwjXJKrwFWUhyIA5qLn4dQ3j9dGqka\n&quot;,</td>
      </tr>
      <tr>
        <td id="L2278" class="blob-num js-line-number" data-line-number="2278"></td>
        <td id="LC2278" class="blob-code js-file-line">       &quot;izrm8eKDrx8thq9kgJMkeszT8xjUYUBTMXwG0N7g+icDU4rhJuDfgDOr7UeP38c4YDlwfiP7Ue37\n&quot;,</td>
      </tr>
      <tr>
        <td id="L2279" class="blob-num js-line-number" data-line-number="2279"></td>
        <td id="LC2279" class="blob-code js-file-line">       &quot;zQsHfycBLwM2McBJGvQ6BlW0vbT4+ZJiPdx/sPooigP8wCcpXzWl2vqjeJ+u79Vel34U81wLfKTB\n&quot;,</td>
      </tr>
      <tr>
        <td id="L2280" class="blob-num js-line-number" data-line-number="2280"></td>
        <td id="LC2280" class="blob-code js-file-line">       &quot;/ahpvam2HwOtN0PpRz3WG8q7yt5Y/A77PUmix2v0PgbVZ52U/3b2n/zxWmB9j+lq+ryr5/pVTX8p\n&quot;,</td>
      </tr>
      <tr>
        <td id="L2281" class="blob-num js-line-number" data-line-number="2281"></td>
        <td id="LC2281" class="blob-code js-file-line">       &quot;H4OaW4+/7cE8RuRF+3gTTqS8T3b/G72R8kG/S0a4rlspXynjGcoXx72AcrD+hPJ/fXcBU6tYzu95\n&quot;,</td>
      </tr>
      <tr>
        <td id="L2282" class="blob-num js-line-number" data-line-number="2282"></td>
        <td id="LC2282" class="blob-code js-file-line">       &quot;IaDmFX3bWMw/u8F9eFmxgq6lfLzvqqK9qn5Q/ifiN8XjUz3a696PWt9vyrtRf1fUcdYAy90C/AHo\n&quot;,</td>
      </tr>
      <tr>
        <td id="L2283" class="blob-num js-line-number" data-line-number="2283"></td>
        <td id="LC2283" class="blob-code js-file-line">       &quot;LJb7X4r2bwEbisfCHtOfW7zebygfJ51YQx/+hvLum7WUP2TXUL4tzZD70WP63gHViH7UvN5U04+B\n&quot;,</td>
      </tr>
      <tr>
        <td id="L2284" class="blob-num js-line-number" data-line-number="2284"></td>
        <td id="LC2284" class="blob-code js-file-line">       &quot;1pvB9qNe6w3l42Hri3FfHOC9+WzxOs8VPz9etP9tX3UCh/bo18+B1/ZaVtWfd/Vcv6rpLyN8koRf\n&quot;,</td>
      </tr>
      <tr>
        <td id="L2285" class="blob-num js-line-number" data-line-number="2285"></td>
        <td id="LC2285" class="blob-code js-file-line">       &quot;1JUkZSm7L+pKkgQGlCQpUwaUJClLBpQkKUsGlCQpSwaUJClLBpQkKUsGlCQpS/8fuexvM0QOC3kA\n&quot;,</td>
      </tr>
      <tr>
        <td id="L2286" class="blob-num js-line-number" data-line-number="2286"></td>
        <td id="LC2286" class="blob-code js-file-line">       &quot;AAAASUVORK5CYII=\n&quot;</td>
      </tr>
      <tr>
        <td id="L2287" class="blob-num js-line-number" data-line-number="2287"></td>
        <td id="LC2287" class="blob-code js-file-line">      ],</td>
      </tr>
      <tr>
        <td id="L2288" class="blob-num js-line-number" data-line-number="2288"></td>
        <td id="LC2288" class="blob-code js-file-line">      &quot;text/plain&quot;: [</td>
      </tr>
      <tr>
        <td id="L2289" class="blob-num js-line-number" data-line-number="2289"></td>
        <td id="LC2289" class="blob-code js-file-line">       &quot;&lt;matplotlib.figure.Figure at 0x12ecadd8&gt;&quot;</td>
      </tr>
      <tr>
        <td id="L2290" class="blob-num js-line-number" data-line-number="2290"></td>
        <td id="LC2290" class="blob-code js-file-line">      ]</td>
      </tr>
      <tr>
        <td id="L2291" class="blob-num js-line-number" data-line-number="2291"></td>
        <td id="LC2291" class="blob-code js-file-line">     },</td>
      </tr>
      <tr>
        <td id="L2292" class="blob-num js-line-number" data-line-number="2292"></td>
        <td id="LC2292" class="blob-code js-file-line">     &quot;metadata&quot;: {},</td>
      </tr>
      <tr>
        <td id="L2293" class="blob-num js-line-number" data-line-number="2293"></td>
        <td id="LC2293" class="blob-code js-file-line">     &quot;output_type&quot;: &quot;display_data&quot;</td>
      </tr>
      <tr>
        <td id="L2294" class="blob-num js-line-number" data-line-number="2294"></td>
        <td id="LC2294" class="blob-code js-file-line">    }</td>
      </tr>
      <tr>
        <td id="L2295" class="blob-num js-line-number" data-line-number="2295"></td>
        <td id="LC2295" class="blob-code js-file-line">   ],</td>
      </tr>
      <tr>
        <td id="L2296" class="blob-num js-line-number" data-line-number="2296"></td>
        <td id="LC2296" class="blob-code js-file-line">   &quot;source&quot;: [</td>
      </tr>
      <tr>
        <td id="L2297" class="blob-num js-line-number" data-line-number="2297"></td>
        <td id="LC2297" class="blob-code js-file-line">    &quot;fig, ax = plt.subplots()\n&quot;,</td>
      </tr>
      <tr>
        <td id="L2298" class="blob-num js-line-number" data-line-number="2298"></td>
        <td id="LC2298" class="blob-code js-file-line">    &quot;\n&quot;,</td>
      </tr>
      <tr>
        <td id="L2299" class="blob-num js-line-number" data-line-number="2299"></td>
        <td id="LC2299" class="blob-code js-file-line">    &quot;index = np.arange(8)\n&quot;,</td>
      </tr>
      <tr>
        <td id="L2300" class="blob-num js-line-number" data-line-number="2300"></td>
        <td id="LC2300" class="blob-code js-file-line">    &quot;bar_width = 0.25\n&quot;,</td>
      </tr>
      <tr>
        <td id="L2301" class="blob-num js-line-number" data-line-number="2301"></td>
        <td id="LC2301" class="blob-code js-file-line">    &quot;\n&quot;,</td>
      </tr>
      <tr>
        <td id="L2302" class="blob-num js-line-number" data-line-number="2302"></td>
        <td id="LC2302" class="blob-code js-file-line">    &quot;opacity = 0.8\n&quot;,</td>
      </tr>
      <tr>
        <td id="L2303" class="blob-num js-line-number" data-line-number="2303"></td>
        <td id="LC2303" class="blob-code js-file-line">    &quot;error_config = {&#39;ecolor&#39;: &#39;0.3&#39;}\n&quot;,</td>
      </tr>
      <tr>
        <td id="L2304" class="blob-num js-line-number" data-line-number="2304"></td>
        <td id="LC2304" class="blob-code js-file-line">    &quot;\n&quot;,</td>
      </tr>
      <tr>
        <td id="L2305" class="blob-num js-line-number" data-line-number="2305"></td>
        <td id="LC2305" class="blob-code js-file-line">    &quot;rects1 = plt.bar(index, np.array(LandOctiles[0,:]), bar_width,\n&quot;,</td>
      </tr>
      <tr>
        <td id="L2306" class="blob-num js-line-number" data-line-number="2306"></td>
        <td id="LC2306" class="blob-code js-file-line">    &quot;                 alpha=opacity,\n&quot;,</td>
      </tr>
      <tr>
        <td id="L2307" class="blob-num js-line-number" data-line-number="2307"></td>
        <td id="LC2307" class="blob-code js-file-line">    &quot;                 color=&#39;b&#39;,\n&quot;,</td>
      </tr>
      <tr>
        <td id="L2308" class="blob-num js-line-number" data-line-number="2308"></td>
        <td id="LC2308" class="blob-code js-file-line">    &quot;                 label=&#39;Data&#39;)\n&quot;,</td>
      </tr>
      <tr>
        <td id="L2309" class="blob-num js-line-number" data-line-number="2309"></td>
        <td id="LC2309" class="blob-code js-file-line">    &quot;\n&quot;,</td>
      </tr>
      <tr>
        <td id="L2310" class="blob-num js-line-number" data-line-number="2310"></td>
        <td id="LC2310" class="blob-code js-file-line">    &quot;rects2 = plt.bar(index + bar_width, np.array(densityOTResult*100), bar_width,\n&quot;,</td>
      </tr>
      <tr>
        <td id="L2311" class="blob-num js-line-number" data-line-number="2311"></td>
        <td id="LC2311" class="blob-code js-file-line">    &quot;                 alpha=opacity,\n&quot;,</td>
      </tr>
      <tr>
        <td id="L2312" class="blob-num js-line-number" data-line-number="2312"></td>
        <td id="LC2312" class="blob-code js-file-line">    &quot;                 color=&#39;r&#39;,\n&quot;,</td>
      </tr>
      <tr>
        <td id="L2313" class="blob-num js-line-number" data-line-number="2313"></td>
        <td id="LC2313" class="blob-code js-file-line">    &quot;                 label=&#39;Model&#39;)\n&quot;,</td>
      </tr>
      <tr>
        <td id="L2314" class="blob-num js-line-number" data-line-number="2314"></td>
        <td id="LC2314" class="blob-code js-file-line">    &quot;ax.set_xticks(index+bar_width)\n&quot;,</td>
      </tr>
      <tr>
        <td id="L2315" class="blob-num js-line-number" data-line-number="2315"></td>
        <td id="LC2315" class="blob-code js-file-line">    &quot;ax.set_xticklabels( (&#39;&lt;9&#39;, &#39;10-49&#39;, &#39;50-99&#39;, &#39;100-199&#39;, &#39;200-499&#39;,&#39;500-999&#39;,&#39;1000-1999&#39;,&#39;2000+&#39;) )\n&quot;,</td>
      </tr>
      <tr>
        <td id="L2316" class="blob-num js-line-number" data-line-number="2316"></td>
        <td id="LC2316" class="blob-code js-file-line">    &quot;\n&quot;,</td>
      </tr>
      <tr>
        <td id="L2317" class="blob-num js-line-number" data-line-number="2317"></td>
        <td id="LC2317" class="blob-code js-file-line">    &quot;\n&quot;,</td>
      </tr>
      <tr>
        <td id="L2318" class="blob-num js-line-number" data-line-number="2318"></td>
        <td id="LC2318" class="blob-code js-file-line">    &quot;plt.tight_layout()\n&quot;,</td>
      </tr>
      <tr>
        <td id="L2319" class="blob-num js-line-number" data-line-number="2319"></td>
        <td id="LC2319" class="blob-code js-file-line">    &quot;plt.legend()\n&quot;,</td>
      </tr>
      <tr>
        <td id="L2320" class="blob-num js-line-number" data-line-number="2320"></td>
        <td id="LC2320" class="blob-code js-file-line">    &quot;plt.show()&quot;</td>
      </tr>
      <tr>
        <td id="L2321" class="blob-num js-line-number" data-line-number="2321"></td>
        <td id="LC2321" class="blob-code js-file-line">   ]</td>
      </tr>
      <tr>
        <td id="L2322" class="blob-num js-line-number" data-line-number="2322"></td>
        <td id="LC2322" class="blob-code js-file-line">  },</td>
      </tr>
      <tr>
        <td id="L2323" class="blob-num js-line-number" data-line-number="2323"></td>
        <td id="LC2323" class="blob-code js-file-line">  {</td>
      </tr>
      <tr>
        <td id="L2324" class="blob-num js-line-number" data-line-number="2324"></td>
        <td id="LC2324" class="blob-code js-file-line">   &quot;cell_type&quot;: &quot;markdown&quot;,</td>
      </tr>
      <tr>
        <td id="L2325" class="blob-num js-line-number" data-line-number="2325"></td>
        <td id="LC2325" class="blob-code js-file-line">   &quot;metadata&quot;: {},</td>
      </tr>
      <tr>
        <td id="L2326" class="blob-num js-line-number" data-line-number="2326"></td>
        <td id="LC2326" class="blob-code js-file-line">   &quot;source&quot;: [</td>
      </tr>
      <tr>
        <td id="L2327" class="blob-num js-line-number" data-line-number="2327"></td>
        <td id="LC2327" class="blob-code js-file-line">    &quot;So, we can see that our model is not perfect in that it misses the data a bit. This suggests we may want to scale things differently in the minimization problem - give more weight, perhaps, to matching the density. What about the group-by-group mean factor demands?&quot;</td>
      </tr>
      <tr>
        <td id="L2328" class="blob-num js-line-number" data-line-number="2328"></td>
        <td id="LC2328" class="blob-code js-file-line">   ]</td>
      </tr>
      <tr>
        <td id="L2329" class="blob-num js-line-number" data-line-number="2329"></td>
        <td id="LC2329" class="blob-code js-file-line">  },</td>
      </tr>
      <tr>
        <td id="L2330" class="blob-num js-line-number" data-line-number="2330"></td>
        <td id="LC2330" class="blob-code js-file-line">  {</td>
      </tr>
      <tr>
        <td id="L2331" class="blob-num js-line-number" data-line-number="2331"></td>
        <td id="LC2331" class="blob-code js-file-line">   &quot;cell_type&quot;: &quot;code&quot;,</td>
      </tr>
      <tr>
        <td id="L2332" class="blob-num js-line-number" data-line-number="2332"></td>
        <td id="LC2332" class="blob-code js-file-line">   &quot;execution_count&quot;: 34,</td>
      </tr>
      <tr>
        <td id="L2333" class="blob-num js-line-number" data-line-number="2333"></td>
        <td id="LC2333" class="blob-code js-file-line">   &quot;metadata&quot;: {</td>
      </tr>
      <tr>
        <td id="L2334" class="blob-num js-line-number" data-line-number="2334"></td>
        <td id="LC2334" class="blob-code js-file-line">    &quot;collapsed&quot;: false</td>
      </tr>
      <tr>
        <td id="L2335" class="blob-num js-line-number" data-line-number="2335"></td>
        <td id="LC2335" class="blob-code js-file-line">   },</td>
      </tr>
      <tr>
        <td id="L2336" class="blob-num js-line-number" data-line-number="2336"></td>
        <td id="LC2336" class="blob-code js-file-line">   &quot;outputs&quot;: [],</td>
      </tr>
      <tr>
        <td id="L2337" class="blob-num js-line-number" data-line-number="2337"></td>
        <td id="LC2337" class="blob-code js-file-line">   &quot;source&quot;: [</td>
      </tr>
      <tr>
        <td id="L2338" class="blob-num js-line-number" data-line-number="2338"></td>
        <td id="LC2338" class="blob-code js-file-line">    &quot;sCutsLKResult=np.zeros((5,1))\n&quot;,</td>
      </tr>
      <tr>
        <td id="L2339" class="blob-num js-line-number" data-line-number="2339"></td>
        <td id="LC2339" class="blob-code js-file-line">    &quot;for i in range(0,5):\n&quot;,</td>
      </tr>
      <tr>
        <td id="L2340" class="blob-num js-line-number" data-line-number="2340"></td>
        <td id="LC2340" class="blob-code js-file-line">    &quot;    sCutsLKResult[i]=newton(findsGivent,LandSizeCutsLK[i],fprime=None,args=(LandSizeCuts[i]/10,AL,AK,PHI,RHO,GAMMA),tol=1e-8,maxiter=10000)\n&quot;,</td>
      </tr>
      <tr>
        <td id="L2341" class="blob-num js-line-number" data-line-number="2341"></td>
        <td id="LC2341" class="blob-code js-file-line">    &quot;interSmeansLResult=np.zeros((6,1),dtype=float)\n&quot;,</td>
      </tr>
      <tr>
        <td id="L2342" class="blob-num js-line-number" data-line-number="2342"></td>
        <td id="LC2342" class="blob-code js-file-line">    &quot;interSmeansKResult=np.zeros((6,1),dtype=float)\n&quot;,</td>
      </tr>
      <tr>
        <td id="L2343" class="blob-num js-line-number" data-line-number="2343"></td>
        <td id="LC2343" class="blob-code js-file-line">    &quot;densityOTResult=np.zeros((8,1),dtype=float)\n&quot;,</td>
      </tr>
      <tr>
        <td id="L2344" class="blob-num js-line-number" data-line-number="2344"></td>
        <td id="LC2344" class="blob-code js-file-line">    &quot;densityOLKResult=np.zeros((6,1),dtype=float)\n&quot;,</td>
      </tr>
      <tr>
        <td id="L2345" class="blob-num js-line-number" data-line-number="2345"></td>
        <td id="LC2345" class="blob-code js-file-line">    &quot;for i in range(0,6):\n&quot;,</td>
      </tr>
      <tr>
        <td id="L2346" class="blob-num js-line-number" data-line-number="2346"></td>
        <td id="LC2346" class="blob-code js-file-line">    &quot;    if i==0:\n&quot;,</td>
      </tr>
      <tr>
        <td id="L2347" class="blob-num js-line-number" data-line-number="2347"></td>
        <td id="LC2347" class="blob-code js-file-line">    &quot;        interSmeansLResult[i]=quad(intLabor,0,sCutsLKResult[i],args=(MU,SIGMA,AL,AK,PHI,RHO,GAMMA))[0]\n&quot;,</td>
      </tr>
      <tr>
        <td id="L2348" class="blob-num js-line-number" data-line-number="2348"></td>
        <td id="LC2348" class="blob-code js-file-line">    &quot;        interSmeansKResult[i]=quad(intCapital,0,sCutsLKResult[i],args=(MU,SIGMA,AL,AK,PHI,RHO,GAMMA))[0]\n&quot;,</td>
      </tr>
      <tr>
        <td id="L2349" class="blob-num js-line-number" data-line-number="2349"></td>
        <td id="LC2349" class="blob-code js-file-line">    &quot;        densityOLKResult[i]=lognorm.cdf(sCutsLKResult[i],SIGMA,MU)\n&quot;,</td>
      </tr>
      <tr>
        <td id="L2350" class="blob-num js-line-number" data-line-number="2350"></td>
        <td id="LC2350" class="blob-code js-file-line">    &quot;        interSmeansLResult[i]=interSmeansLResult[i]/densityOLKResult[i]\n&quot;,</td>
      </tr>
      <tr>
        <td id="L2351" class="blob-num js-line-number" data-line-number="2351"></td>
        <td id="LC2351" class="blob-code js-file-line">    &quot;        interSmeansKResult[i]=interSmeansKResult[i]/densityOLKResult[i]\n&quot;,</td>
      </tr>
      <tr>
        <td id="L2352" class="blob-num js-line-number" data-line-number="2352"></td>
        <td id="LC2352" class="blob-code js-file-line">    &quot;    elif i==5:\n&quot;,</td>
      </tr>
      <tr>
        <td id="L2353" class="blob-num js-line-number" data-line-number="2353"></td>
        <td id="LC2353" class="blob-code js-file-line">    &quot;        interSmeansLResult[i]=quad(intLabor,sCutsLKResult[i-1],Inf,args=(MU,SIGMA,AL,AK,PHI,RHO,GAMMA))[0]\n&quot;,</td>
      </tr>
      <tr>
        <td id="L2354" class="blob-num js-line-number" data-line-number="2354"></td>
        <td id="LC2354" class="blob-code js-file-line">    &quot;        interSmeansKResult[i]=quad(intCapital,sCutsLKResult[i-1],Inf,args=(MU,SIGMA,AL,AK,PHI,RHO,GAMMA))[0]\n&quot;,</td>
      </tr>
      <tr>
        <td id="L2355" class="blob-num js-line-number" data-line-number="2355"></td>
        <td id="LC2355" class="blob-code js-file-line">    &quot;        densityOLKResult[i]=1-lognorm.cdf(sCutsLKResult[i-1],SIGMA,MU)\n&quot;,</td>
      </tr>
      <tr>
        <td id="L2356" class="blob-num js-line-number" data-line-number="2356"></td>
        <td id="LC2356" class="blob-code js-file-line">    &quot;        interSmeansLResult[i]=interSmeansLResult[i]/densityOLKResult[i]\n&quot;,</td>
      </tr>
      <tr>
        <td id="L2357" class="blob-num js-line-number" data-line-number="2357"></td>
        <td id="LC2357" class="blob-code js-file-line">    &quot;        interSmeansKResult[i]=interSmeansKResult[i]/densityOLKResult[i]\n&quot;,</td>
      </tr>
      <tr>
        <td id="L2358" class="blob-num js-line-number" data-line-number="2358"></td>
        <td id="LC2358" class="blob-code js-file-line">    &quot;    else:\n&quot;,</td>
      </tr>
      <tr>
        <td id="L2359" class="blob-num js-line-number" data-line-number="2359"></td>
        <td id="LC2359" class="blob-code js-file-line">    &quot;        interSmeansLResult[i]=quad(intLabor,sCutsLKResult[i-1],sCutsLKResult[i],args=(MU,SIGMA,AL,AK,PHI,RHO,GAMMA))[0]\n&quot;,</td>
      </tr>
      <tr>
        <td id="L2360" class="blob-num js-line-number" data-line-number="2360"></td>
        <td id="LC2360" class="blob-code js-file-line">    &quot;        interSmeansKResult[i]=quad(intCapital,sCutsLKResult[i-1],sCutsLKResult[i],args=(MU,SIGMA,AL,AK,PHI,RHO,GAMMA))[0]\n&quot;,</td>
      </tr>
      <tr>
        <td id="L2361" class="blob-num js-line-number" data-line-number="2361"></td>
        <td id="LC2361" class="blob-code js-file-line">    &quot;        densityOLKResult[i]=lognorm.cdf(sCutsLKResult[i],SIGMA,MU)-lognorm.cdf(sCutsLKResult[i-1],SIGMA,MU)\n&quot;,</td>
      </tr>
      <tr>
        <td id="L2362" class="blob-num js-line-number" data-line-number="2362"></td>
        <td id="LC2362" class="blob-code js-file-line">    &quot;        interSmeansLResult[i]=interSmeansLResult[i]/densityOLKResult[i]\n&quot;,</td>
      </tr>
      <tr>
        <td id="L2363" class="blob-num js-line-number" data-line-number="2363"></td>
        <td id="LC2363" class="blob-code js-file-line">    &quot;        interSmeansKResult[i]=interSmeansKResult[i]/densityOLKResult[i]&quot;</td>
      </tr>
      <tr>
        <td id="L2364" class="blob-num js-line-number" data-line-number="2364"></td>
        <td id="LC2364" class="blob-code js-file-line">   ]</td>
      </tr>
      <tr>
        <td id="L2365" class="blob-num js-line-number" data-line-number="2365"></td>
        <td id="LC2365" class="blob-code js-file-line">  },</td>
      </tr>
      <tr>
        <td id="L2366" class="blob-num js-line-number" data-line-number="2366"></td>
        <td id="LC2366" class="blob-code js-file-line">  {</td>
      </tr>
      <tr>
        <td id="L2367" class="blob-num js-line-number" data-line-number="2367"></td>
        <td id="LC2367" class="blob-code js-file-line">   &quot;cell_type&quot;: &quot;markdown&quot;,</td>
      </tr>
      <tr>
        <td id="L2368" class="blob-num js-line-number" data-line-number="2368"></td>
        <td id="LC2368" class="blob-code js-file-line">   &quot;metadata&quot;: {},</td>
      </tr>
      <tr>
        <td id="L2369" class="blob-num js-line-number" data-line-number="2369"></td>
        <td id="LC2369" class="blob-code js-file-line">   &quot;source&quot;: [</td>
      </tr>
      <tr>
        <td id="L2370" class="blob-num js-line-number" data-line-number="2370"></td>
        <td id="LC2370" class="blob-code js-file-line">    &quot;Let&#39;s graph these by bin and see how close they come to the data. First, labor demand by size grouping:&quot;</td>
      </tr>
      <tr>
        <td id="L2371" class="blob-num js-line-number" data-line-number="2371"></td>
        <td id="LC2371" class="blob-code js-file-line">   ]</td>
      </tr>
      <tr>
        <td id="L2372" class="blob-num js-line-number" data-line-number="2372"></td>
        <td id="LC2372" class="blob-code js-file-line">  },</td>
      </tr>
      <tr>
        <td id="L2373" class="blob-num js-line-number" data-line-number="2373"></td>
        <td id="LC2373" class="blob-code js-file-line">  {</td>
      </tr>
      <tr>
        <td id="L2374" class="blob-num js-line-number" data-line-number="2374"></td>
        <td id="LC2374" class="blob-code js-file-line">   &quot;cell_type&quot;: &quot;code&quot;,</td>
      </tr>
      <tr>
        <td id="L2375" class="blob-num js-line-number" data-line-number="2375"></td>
        <td id="LC2375" class="blob-code js-file-line">   &quot;execution_count&quot;: 42,</td>
      </tr>
      <tr>
        <td id="L2376" class="blob-num js-line-number" data-line-number="2376"></td>
        <td id="LC2376" class="blob-code js-file-line">   &quot;metadata&quot;: {</td>
      </tr>
      <tr>
        <td id="L2377" class="blob-num js-line-number" data-line-number="2377"></td>
        <td id="LC2377" class="blob-code js-file-line">    &quot;collapsed&quot;: false</td>
      </tr>
      <tr>
        <td id="L2378" class="blob-num js-line-number" data-line-number="2378"></td>
        <td id="LC2378" class="blob-code js-file-line">   },</td>
      </tr>
      <tr>
        <td id="L2379" class="blob-num js-line-number" data-line-number="2379"></td>
        <td id="LC2379" class="blob-code js-file-line">   &quot;outputs&quot;: [</td>
      </tr>
      <tr>
        <td id="L2380" class="blob-num js-line-number" data-line-number="2380"></td>
        <td id="LC2380" class="blob-code js-file-line">    {</td>
      </tr>
      <tr>
        <td id="L2381" class="blob-num js-line-number" data-line-number="2381"></td>
        <td id="LC2381" class="blob-code js-file-line">     &quot;data&quot;: {</td>
      </tr>
      <tr>
        <td id="L2382" class="blob-num js-line-number" data-line-number="2382"></td>
        <td id="LC2382" class="blob-code js-file-line">      &quot;image/png&quot;: [</td>
      </tr>
      <tr>
        <td id="L2383" class="blob-num js-line-number" data-line-number="2383"></td>
        <td id="LC2383" class="blob-code js-file-line">       &quot;iVBORw0KGgoAAAANSUhEUgAAAagAAAEaCAYAAABEsMO+AAAABHNCSVQICAgIfAhkiAAAAAlwSFlz\n&quot;,</td>
      </tr>
      <tr>
        <td id="L2384" class="blob-num js-line-number" data-line-number="2384"></td>
        <td id="LC2384" class="blob-code js-file-line">       &quot;AAALEgAACxIB0t1+/AAAF/RJREFUeJzt3X+MVeW97/HPB5AiKIwUimz5JeZ6UlpvoaWtORzrrlUP\n&quot;,</td>
      </tr>
      <tr>
        <td id="L2385" class="blob-num js-line-number" data-line-number="2385"></td>
        <td id="LC2385" class="blob-code js-file-line">       &quot;14jHpgliA1hjqk1OKbVqLtW0zlzTqz1NpWlPatoD0gFb0WhqVa6t1OMmmJuLzilQRD3echgUhKFV\n&quot;,</td>
      </tr>
      <tr>
        <td id="L2386" class="blob-num js-line-number" data-line-number="2386"></td>
        <td id="LC2386" class="blob-code js-file-line">       &quot;Z4RrbdH53j9ms8+AA3vPzNqzn5n9fiUT1lp7rWd/Z0X88Kz1rGc5IgQAQGqG1boAAAB6QkABAJJE\n&quot;,</td>
      </tr>
      <tr>
        <td id="L2387" class="blob-num js-line-number" data-line-number="2387"></td>
        <td id="LC2387" class="blob-code js-file-line">       &quot;QAEAkkRAAQCSREABAJJEQAEAklRRQNkebnur7ceK64229xa3bbU9v7plAgDqzYgK91su6QVJpxfX\n&quot;,</td>
      </tr>
      <tr>
        <td id="L2388" class="blob-num js-line-number" data-line-number="2388"></td>
        <td id="LC2388" class="blob-code js-file-line">       &quot;Q9LdEXF3VaoCANS9sj0o21MkXSZplSQf3dxtGQCAzFVyiW+lpFskdXbbFpKW2d5ue7XthqpUBwCo\n&quot;,</td>
      </tr>
      <tr>
        <td id="L2389" class="blob-num js-line-number" data-line-number="2389"></td>
        <td id="LC2389" class="blob-code js-file-line">       &quot;WycNKNuXSzoYEVt1bI/pHklnS5otab+k71etQgBAXfLJ5uKz/T8lLZH0rqRRksZKejgilnbbZ4ak\n&quot;,</td>
      </tr>
      <tr>
        <td id="L2390" class="blob-num js-line-number" data-line-number="2390"></td>
        <td id="LC2390" class="blob-code js-file-line">       &quot;xyLivB6OZ6I/AECPIuKkt4pO2oOKiFsjYmpEnC1pkaR/jYiltid32+3zknacpI26/rn99ttrXkMK\n&quot;,</td>
      </tr>
      <tr>
        <td id="L2391" class="blob-num js-line-number" data-line-number="2391"></td>
        <td id="LC2391" class="blob-code js-file-line">       &quot;P5wHzgHngPPQ/acSlY7ik7ou8R1t9Z9sf6y4vlvSDb1oBwCAsioOqIgoSCoUl5dUqR4AACQxk0TV\n&quot;,</td>
      </tr>
      <tr>
        <td id="L2392" class="blob-num js-line-number" data-line-number="2392"></td>
        <td id="LC2392" class="blob-code js-file-line">       &quot;5fP5WpeQBM4D50DiHBzFeajMSQdJ9LtxO6rZPgBgcLKtKDNIojf3oACgrtnMT9AXfe2oEFAA0Atc\n&quot;,</td>
      </tr>
      <tr>
        <td id="L2393" class="blob-num js-line-number" data-line-number="2393"></td>
        <td id="LC2393" class="blob-code js-file-line">       &quot;Feqd/oQ696AAAEkioAAASSKgAABJIqAAAO/T2tqqYcOGqbOzs+y+P/vZz3TBBRdkXgODJACgHxYt\n&quot;,</td>
      </tr>
      <tr>
        <td id="L2394" class="blob-num js-line-number" data-line-number="2394"></td>
        <td id="LC2394" class="blob-code js-file-line">       &quot;ukHt7dVrv6FBWr/+J2X3mzFjhvbv36/XXntNH/zgB0vb58yZo+3bt6u1tVXTpk2rXqFVQEABQD+0\n&quot;,</td>
      </tr>
      <tr>
        <td id="L2395" class="blob-num js-line-number" data-line-number="2395"></td>
        <td id="LC2395" class="blob-code js-file-line">       &quot;t0vTp5cPkL7as6eymeRsa+bMmbr//vv11a9+VZK0Y8cO/fnPfx60w+O5xAcAQ8TixYu1du3a0npz\n&quot;,</td>
      </tr>
      <tr>
        <td id="L2396" class="blob-num js-line-number" data-line-number="2396"></td>
        <td id="LC2396" class="blob-code js-file-line">       &quot;c7OWLl1aGhrf0dGhpUuX6kMf+pBmzJih73znO6XPOjs7dfPNN2vixIk655xztGHDhmPa7ujo0HXX\n&quot;,</td>
      </tr>
      <tr>
        <td id="L2397" class="blob-num js-line-number" data-line-number="2397"></td>
        <td id="LC2397" class="blob-code js-file-line">       &quot;XadcLqcpU6boW9/6VkWX//qDgAKAIeL888/XW2+9pZdeeknvvfeeHnjgAS1evFhS1/Nby5Yt06FD\n&quot;,</td>
      </tr>
      <tr>
        <td id="L2398" class="blob-num js-line-number" data-line-number="2398"></td>
        <td id="LC2398" class="blob-code js-file-line">       &quot;h7R7925t2rRJa9eu1Zo1ayRJP/3pT7VhwwZt27ZNLS0teuihh47peX3pS1/SyJEjtWvXLm3dulVP\n&quot;,</td>
      </tr>
      <tr>
        <td id="L2399" class="blob-num js-line-number" data-line-number="2399"></td>
        <td id="LC2399" class="blob-code js-file-line">       &quot;PvmkVq1aVdXfh4ACgCFkyZIlWrt2rTZu3KhZs2bprLPOkqRSYN15550aM2aMpk+frptuuknr1q2T\n&quot;,</td>
      </tr>
      <tr>
        <td id="L2400" class="blob-num js-line-number" data-line-number="2400"></td>
        <td id="LC2400" class="blob-code js-file-line">       &quot;JD344IO68cYbddZZZ+mMM87QrbfeWupdtbW16YknntDKlSt16qmnauLEifr617+u9evXV/V34R4U\n&quot;,</td>
      </tr>
      <tr>
        <td id="L2401" class="blob-num js-line-number" data-line-number="2401"></td>
        <td id="LC2401" class="blob-code js-file-line">       &quot;AAwRtrVkyRJdcMEF2r179zGX9/70pz/pyJEjmj59emn/adOmad++fZKk/fv3a+rUqcd8dtSePXt0\n&quot;,</td>
      </tr>
      <tr>
        <td id="L2402" class="blob-num js-line-number" data-line-number="2402"></td>
        <td id="LC2402" class="blob-code js-file-line">       &quot;5MgRTZ78n68C7OzsrPqgCwIKAIaQadOmaebMmXriiSd07733lrZPmDBBp5xyilpbW/XhD39YkvTK\n&quot;,</td>
      </tr>
      <tr>
        <td id="L2403" class="blob-num js-line-number" data-line-number="2403"></td>
        <td id="LC2403" class="blob-code js-file-line">       &quot;K69oypQpkqTJkyfrlVdeKe3ffXnq1Kn6wAc+oNdff13Dhg3chbdBE1CLrlmk9neyG8vZMKpB65ur\n&quot;,</td>
      </tr>
      <tr>
        <td id="L2404" class="blob-num js-line-number" data-line-number="2404"></td>
        <td id="LC2404" class="blob-code js-file-line">       &quot;2z0FgFpYvXq12tvbdeqpp+rdd9+VJA0fPlwLFy7UbbfdprVr1+r111/XypUrdcstt0iSFi5cqB/+\n&quot;,</td>
      </tr>
      <tr>
        <td id="L2405" class="blob-num js-line-number" data-line-number="2405"></td>
        <td id="LC2405" class="blob-code js-file-line">       &quot;8Ie6/PLLNXr0aN11112l9iZPnqxLL71U3/jGN3THHXdozJgx2r17t/bt26fPfOYzVfs9Bk1Atb/T\n&quot;,</td>
      </tr>
      <tr>
        <td id="L2406" class="blob-num js-line-number" data-line-number="2406"></td>
        <td id="LC2406" class="blob-code js-file-line">       &quot;rumLp5ffsUJ77tuTWVsAkJKZM2ces25btvWjH/1Iy5Yt08yZMzVq1Chdf/31uvbaayVJX/7yl/Xy\n&quot;,</td>
      </tr>
      <tr>
        <td id="L2407" class="blob-num js-line-number" data-line-number="2407"></td>
        <td id="LC2407" class="blob-code js-file-line">       &quot;yy/rYx/7mMaNG6ebbrpJhUKh1MbatWu1YsUKzZo1S4cOHdLMmTO1YsWKY9rPWtXfB/X3f399Jm1t\n&quot;,</td>
      </tr>
      <tr>
        <td id="L2408" class="blob-num js-line-number" data-line-number="2408"></td>
        <td id="LC2408" class="blob-code js-file-line">       &quot;b/1fuuJ7l2XSltQVUL9+4NeZtQdg6Cu+w+iYbak8qJuqns5Zt+21fR9UVg+wtfxhavmdAGCADebw\n&quot;,</td>
      </tr>
      <tr>
        <td id="L2409" class="blob-num js-line-number" data-line-number="2409"></td>
        <td id="LC2409" class="blob-code js-file-line">       &quot;SF1Fd7tsD7e91fZjxfXxtjfaftn2k7YbqlsmAKDeVDocY7mkFyQd7aetkLQxIs6V9FRxHQCAzJQN\n&quot;,</td>
      </tr>
      <tr>
        <td id="L2410" class="blob-num js-line-number" data-line-number="2410"></td>
        <td id="LC2410" class="blob-code js-file-line">       &quot;KNtTJF0maZWko9cLr5DUXFxulnRlVaoDANStSnpQKyXdIqn7pEuTIqKtuNwmaVLWhQEA6ttJA8r2\n&quot;,</td>
      </tr>
      <tr>
        <td id="L2411" class="blob-num js-line-number" data-line-number="2411"></td>
        <td id="LC2411" class="blob-code js-file-line">       &quot;5ZIORsRW/Wfv6RjRNTyjekMBAQB1qdwovr+VdIXtyySNkjTW9jpJbbbPjIgDtidLOniiBlpaGkvL\n&quot;,</td>
      </tr>
      <tr>
        <td id="L2412" class="blob-num js-line-number" data-line-number="2412"></td>
        <td id="LC2412" class="blob-code js-file-line">       &quot;uVxeuVy+30UDAAaXQqFwzHNVlaj4OSjbF0q6OSIW2P4nSa9HxHdtr5DUEBHvGyhhO66/PpvO1cNP\n&quot;,</td>
      </tr>
      <tr>
        <td id="L2413" class="blob-num js-line-number" data-line-number="2413"></td>
        <td id="LC2413" class="blob-code js-file-line">       &quot;TdUXVvIcFIDaOdEzPTix/jwH1dtJlY5+y12SLrH9sqSLiusAAGSm4gd1I2KTpE3F5TckXVytogBg\n&quot;,</td>
      </tr>
      <tr>
        <td id="L2414" class="blob-num js-line-number" data-line-number="2414"></td>
        <td id="LC2414" class="blob-code js-file-line">       &quot;sMh6ntDjVTpv6IwZM3Tw4EGNGDFCw4cP16xZs7R06VJdf/31Zacham1t1cyZM/Xuu+8O6GSw5Qya\n&quot;,</td>
      </tr>
      <tr>
        <td id="L2415" class="blob-num js-line-number" data-line-number="2415"></td>
        <td id="LC2415" class="blob-code js-file-line">       &quot;ufgAIEVZzxN6vErnDbWtxx9/XBdddJEOHTqkQqGg5cuXa8uWLcfMan4yqV2+TCcqAQCZOP3007Vg\n&quot;,</td>
      </tr>
      <tr>
        <td id="L2416" class="blob-num js-line-number" data-line-number="2416"></td>
        <td id="LC2416" class="blob-code js-file-line">       &quot;wQI98MADam5u1s6dO7VhwwbNmTNH48aN07Rp09TU1FTa/+iM5A0NDTr99NO1ZcsW7dq1SxdddJEm\n&quot;,</td>
      </tr>
      <tr>
        <td id="L2417" class="blob-num js-line-number" data-line-number="2417"></td>
        <td id="LC2417" class="blob-code js-file-line">       &quot;TJigiRMnavHixero6BjQ34OAAoAh6pOf/KSmTJmizZs367TTTtN9992njo4ObdiwQffcc49+9atf\n&quot;,</td>
      </tr>
      <tr>
        <td id="L2418" class="blob-num js-line-number" data-line-number="2418"></td>
        <td id="LC2418" class="blob-code js-file-line">       &quot;SZI2b94sSero6NChQ4f06U9/WpJ02223af/+/XrxxRf16quvqrGxcUDrJ6AAYAjL5XJ68803deGF\n&quot;,</td>
      </tr>
      <tr>
        <td id="L2419" class="blob-num js-line-number" data-line-number="2419"></td>
        <td id="LC2419" class="blob-code js-file-line">       &quot;F+ojH/mIJOm8887TokWLtGnTJkk9X9o755xz9LnPfU6nnHKKJkyYoBtvvLG0/0DhHhQADGH79u3T\n&quot;,</td>
      </tr>
      <tr>
        <td id="L2420" class="blob-num js-line-number" data-line-number="2420"></td>
        <td id="LC2420" class="blob-code js-file-line">       &quot;+PHjtWXLFq1YsUI7d+7UX//6V/3lL3/RwoULT3hcW1ubli9frmeeeUaHDh1SZ2enxo8fP4CV04MC\n&quot;,</td>
      </tr>
      <tr>
        <td id="L2421" class="blob-num js-line-number" data-line-number="2421"></td>
        <td id="LC2421" class="blob-code js-file-line">       &quot;gCHrueee0759+zRv3jx98Ytf1JVXXqm9e/eqvb1dX/nKV9TZ2TWDXU+j/G699VYNHz5czz//vDo6\n&quot;,</td>
      </tr>
      <tr>
        <td id="L2422" class="blob-num js-line-number" data-line-number="2422"></td>
        <td id="LC2422" class="blob-code js-file-line">       &quot;OrRu3brS/gOFgAKAIeLopbq33npLjz/+uK6++motWbJEH/3oR3X48GGdccYZGjlypJ599ln94he/\n&quot;,</td>
      </tr>
      <tr>
        <td id="L2423" class="blob-num js-line-number" data-line-number="2423"></td>
        <td id="LC2423" class="blob-code js-file-line">       &quot;KAXTxIkTNWzYMO3atavU1uHDhzVmzBiNHTtW+/bt0/e+970B/30IKAAYIhYsWKCxY8dq2rRpuvPO\n&quot;,</td>
      </tr>
      <tr>
        <td id="L2424" class="blob-num js-line-number" data-line-number="2424"></td>
        <td id="LC2424" class="blob-code js-file-line">       &quot;O3XTTTdpzZo1kqQf//jH+va3v62xY8fqjjvu0FVXXVU6bvTo0brttts0b948jR8/Xs8++6xuv/12\n&quot;,</td>
      </tr>
      <tr>
        <td id="L2425" class="blob-num js-line-number" data-line-number="2425"></td>
        <td id="LC2425" class="blob-code js-file-line">       &quot;/e53v9O4ceO0YMECfeELX6jKa91PpuqvfGeqIwBDRY+vfE/kQd1UJf3KdwAYygZzeKSOS3wAgCQR\n&quot;,</td>
      </tr>
      <tr>
        <td id="L2426" class="blob-num js-line-number" data-line-number="2426"></td>
        <td id="LC2426" class="blob-code js-file-line">       &quot;UACAJBFQAIAkEVAAgCQRUACAJBFQAIAkMcwcAHphoB9WrWcEFABUKLUX+g11XOIDACSpbEDZHmV7\n&quot;,</td>
      </tr>
      <tr>
        <td id="L2427" class="blob-num js-line-number" data-line-number="2427"></td>
        <td id="LC2427" class="blob-code js-file-line">       &quot;i+1ttl+wfWdxe6Ptvba3Fn/mV79cAEC9KHuJLyLesf3ZiHjb9ghJz9j+O0kh6e6IuLvqVQIA6k5F\n&quot;,</td>
      </tr>
      <tr>
        <td id="L2428" class="blob-num js-line-number" data-line-number="2428"></td>
        <td id="LC2428" class="blob-code js-file-line">       &quot;l/gi4u3i4khJwyW9WVznbiEAoCoqCijbw2xvk9Qm6emI2Fn8aJnt7bZX226oWpUAgLpT0Si+iOiU\n&quot;,</td>
      </tr>
      <tr>
        <td id="L2429" class="blob-num js-line-number" data-line-number="2429"></td>
        <td id="LC2429" class="blob-code js-file-line">       &quot;NNv2OEm/sZ2XdI+k/1Hc5Q5J35d03fHHtrQ0lpZzubxyuXy/CgYADD6FQkGFQqFXx/RqmHlEdNje\n&quot;,</td>
      </tr>
      <tr>
        <td id="L2430" class="blob-num js-line-number" data-line-number="2430"></td>
        <td id="LC2430" class="blob-code js-file-line">       &quot;IGluRJS+yfYqSY/1dMzcuY29KggAMPTk83nl8/nSelNTU9ljKhnFN+Ho5Tvbp0q6RNJW22d22+3z\n&quot;,</td>
      </tr>
      <tr>
        <td id="L2431" class="blob-num js-line-number" data-line-number="2431"></td>
        <td id="LC2431" class="blob-code js-file-line">       &quot;knb0sl4AAE6okh7UZEnNtoepK9DWRcRTttfanq2u0Xy7Jd1QxToBAHWmkmHmOyR9vIftS6tSEQAA\n&quot;,</td>
      </tr>
      <tr>
        <td id="L2432" class="blob-num js-line-number" data-line-number="2432"></td>
        <td id="LC2432" class="blob-code js-file-line">       &quot;YiYJAECiCCgAQJIIKABAkggoAECSCCgAQJIIKABAkggoAECSCCgAQJIIKABAkggoAECSCCgAQJII\n&quot;,</td>
      </tr>
      <tr>
        <td id="L2433" class="blob-num js-line-number" data-line-number="2433"></td>
        <td id="LC2433" class="blob-code js-file-line">       &quot;KABAkggoAECSCCgAQJIIKABAkggoAECSCCgAQJIIKABAkk4aULZH2d5ie5vtF2zfWdw+3vZG2y/b\n&quot;,</td>
      </tr>
      <tr>
        <td id="L2434" class="blob-num js-line-number" data-line-number="2434"></td>
        <td id="LC2434" class="blob-code js-file-line">       &quot;ftJ2w8CUCwCoFycNqIh4R9JnI2K2pP8q6bO2/07SCkkbI+JcSU8V1wEAyEzZS3wR8XZxcaSk4ZLe\n&quot;,</td>
      </tr>
      <tr>
        <td id="L2435" class="blob-num js-line-number" data-line-number="2435"></td>
        <td id="LC2435" class="blob-code js-file-line">       &quot;lHSFpObi9mZJV1alOgBA3SobULaH2d4mqU3S0xGxU9KkiGgr7tImaVIVawQA1KER5XaIiE5Js22P\n&quot;,</td>
      </tr>
      <tr>
        <td id="L2436" class="blob-num js-line-number" data-line-number="2436"></td>
        <td id="LC2436" class="blob-code js-file-line">       &quot;k/Qb25897vOwHdUqEABQn8oG1FER0WF7g6RPSGqzfWZEHLA9WdLBEx3X0tJYWs7l8srl8n2vFgAw\n&quot;,</td>
      </tr>
      <tr>
        <td id="L2437" class="blob-num js-line-number" data-line-number="2437"></td>
        <td id="LC2437" class="blob-code js-file-line">       &quot;KBUKBRUKhV4dc9KAsj1B0rsR0W77VEmXSGqS9KikayR9t/jnIydqY+7cxl4VBAAYevL5vPL5fGm9\n&quot;,</td>
      </tr>
      <tr>
        <td id="L2438" class="blob-num js-line-number" data-line-number="2438"></td>
        <td id="LC2438" class="blob-code js-file-line">       &quot;qamp7DHlelCTJTXbHqau+1XrIuIp21slPWj7Okmtkhb2sWYAAHp00oCKiB2SPt7D9jckXVytogAA\n&quot;,</td>
      </tr>
      <tr>
        <td id="L2439" class="blob-num js-line-number" data-line-number="2439"></td>
        <td id="LC2439" class="blob-code js-file-line">       &quot;YCYJAECSCCgAQJIIKABAkggoAECSCCgAQJIIKABAkggoAECSCCgAQJIIKABAkggoAECSCCgAQJII\n&quot;,</td>
      </tr>
      <tr>
        <td id="L2440" class="blob-num js-line-number" data-line-number="2440"></td>
        <td id="LC2440" class="blob-code js-file-line">       &quot;KABAkggoAECSCCgAQJIIKABAkggoAECSCCgAQJIIKABAkggoAECSygaU7am2n7a90/bztr9W3N5o\n&quot;,</td>
      </tr>
      <tr>
        <td id="L2441" class="blob-num js-line-number" data-line-number="2441"></td>
        <td id="LC2441" class="blob-code js-file-line">       &quot;e6/trcWf+dUvFwBQL0ZUsM8RSTdGxDbbp0n6N9sbJYWkuyPi7qpWCACoS2UDKiIOSDpQXD5s+0VJ\n&quot;,</td>
      </tr>
      <tr>
        <td id="L2442" class="blob-num js-line-number" data-line-number="2442"></td>
        <td id="LC2442" class="blob-code js-file-line">       &quot;ZxU/dhVrAwDUsV7dg7I9Q9IcSf+nuGmZ7e22V9tuyLg2AEAdqzigipf3HpK0PCIOS7pH0tmSZkva\n&quot;,</td>
      </tr>
      <tr>
        <td id="L2443" class="blob-num js-line-number" data-line-number="2443"></td>
        <td id="LC2443" class="blob-code js-file-line">       &quot;L+n7VakQAFCXKrkHJdunSHpY0n0R8YgkRcTBbp+vkvRYT8e2tDSWlnO5vHK5fN+rBQAMSoVCQYVC\n&quot;,</td>
      </tr>
      <tr>
        <td id="L2444" class="blob-num js-line-number" data-line-number="2444"></td>
        <td id="LC2444" class="blob-code js-file-line">       &quot;oVfHlA0o25a0WtILEfGDbtsnR8T+4urnJe3o6fi5cxt7VRAAYOjJ5/PK5/Ol9aamprLHVNKDmidp\n&quot;,</td>
      </tr>
      <tr>
        <td id="L2445" class="blob-num js-line-number" data-line-number="2445"></td>
        <td id="LC2445" class="blob-code js-file-line">       &quot;saTf295a3HarpKttz1bXaL7dkm7oZb0AAJxQJaP4nlHP96qeyL4cAAC6MJMEACBJBBQAIEkEFAAg\n&quot;,</td>
      </tr>
      <tr>
        <td id="L2446" class="blob-num js-line-number" data-line-number="2446"></td>
        <td id="LC2446" class="blob-code js-file-line">       &quot;SQQUACBJBBQAIEkEFAAgSQQUACBJBBQAIEkEFAAgSQQUACBJBBQAIEkEFAAgSQQUACBJBBQAIEkE\n&quot;,</td>
      </tr>
      <tr>
        <td id="L2447" class="blob-num js-line-number" data-line-number="2447"></td>
        <td id="LC2447" class="blob-code js-file-line">       &quot;FAAgSQQUACBJBBQAIEkEFAAgSWUDyvZU20/b3mn7edtfK24fb3uj7ZdtP2m7ofrlAgDqRSU9qCOS\n&quot;,</td>
      </tr>
      <tr>
        <td id="L2448" class="blob-num js-line-number" data-line-number="2448"></td>
        <td id="LC2448" class="blob-code js-file-line">       &quot;boyIj0g6X9I/2v6wpBWSNkbEuZKeKq4DAJCJsgEVEQciYltx+bCkFyWdJekKSc3F3ZolXVmtIgEA\n&quot;,</td>
      </tr>
      <tr>
        <td id="L2449" class="blob-num js-line-number" data-line-number="2449"></td>
        <td id="LC2449" class="blob-code js-file-line">       &quot;9adX96Bsz5A0R9IWSZMioq34UZukSZlWBgCoaxUHlO3TJD0saXlEHOr+WUSEpMi4NgBAHRtRyU62\n&quot;,</td>
      </tr>
      <tr>
        <td id="L2450" class="blob-num js-line-number" data-line-number="2450"></td>
        <td id="LC2450" class="blob-code js-file-line">       &quot;T1FXOK2LiEeKm9tsnxkRB2xPlnSwp2NbWhpLy7lcXrlcvl8FAwAGn0KhoEKh0KtjygaUbUtaLemF\n&quot;,</td>
      </tr>
      <tr>
        <td id="L2451" class="blob-num js-line-number" data-line-number="2451"></td>
        <td id="LC2451" class="blob-code js-file-line">       &quot;iPhBt48elXSNpO8W/3ykh8M1d25jrwoCAAw9+Xxe+Xy+tN7U1FT2mEp6UPMkLZb0e9tbi9u+Keku\n&quot;,</td>
      </tr>
      <tr>
        <td id="L2452" class="blob-num js-line-number" data-line-number="2452"></td>
        <td id="LC2452" class="blob-code js-file-line">       &quot;SQ/avk5Sq6SFvSsXAIATKxtQEfGMTnyv6uJsywEAoAszSQAAkkRAAQCSREABAJJEQAEAkkRAAQCS\n&quot;,</td>
      </tr>
      <tr>
        <td id="L2453" class="blob-num js-line-number" data-line-number="2453"></td>
        <td id="LC2453" class="blob-code js-file-line">       &quot;REABAJJEQAEAkkRAAQCSREABAJJEQAEAkkRAAQCSREABAJJEQAEAkkRAAQCSREABAJJEQAEAkkRA\n&quot;,</td>
      </tr>
      <tr>
        <td id="L2454" class="blob-num js-line-number" data-line-number="2454"></td>
        <td id="LC2454" class="blob-code js-file-line">       &quot;AQCSREABAJJEQAEAklQ2oGzfa7vN9o5u2xpt77W9tfgzv7plAgDqTSU9qDWSjg+gkHR3RMwp/vw6\n&quot;,</td>
      </tr>
      <tr>
        <td id="L2455" class="blob-num js-line-number" data-line-number="2455"></td>
        <td id="LC2455" class="blob-code js-file-line">       &quot;+9IAAPWsbEBFxGZJb/bwkbMvBwCALv25B7XM9nbbq203ZFYRAADqe0DdI+lsSbMl7Zf0/cwqAgBA\n&quot;,</td>
      </tr>
      <tr>
        <td id="L2456" class="blob-num js-line-number" data-line-number="2456"></td>
        <td id="LC2456" class="blob-code js-file-line">       &quot;0oi+HBQRB48u214l6bET7dvS0lhazuXyyuXyfflKAMAgVigUVCgUenVMnwLK9uSI2F9c/bykHSfa\n&quot;,</td>
      </tr>
      <tr>
        <td id="L2457" class="blob-num js-line-number" data-line-number="2457"></td>
        <td id="LC2457" class="blob-code js-file-line">       &quot;d+7cxr58BQBgCMnn88rn86X1pqamsseUDSjb90u6UNIE269Kul1S3vZsdY3m2y3phr6VDABAz8oG\n&quot;,</td>
      </tr>
      <tr>
        <td id="L2458" class="blob-num js-line-number" data-line-number="2458"></td>
        <td id="LC2458" class="blob-code js-file-line">       &quot;VERc3cPme6tQCwAAJcwkAQBIEgEFAEgSAQUASBIBBQBIEgEFAEgSAQUASBIBBQBIEgEFAEgSAQUA\n&quot;,</td>
      </tr>
      <tr>
        <td id="L2459" class="blob-num js-line-number" data-line-number="2459"></td>
        <td id="LC2459" class="blob-code js-file-line">       &quot;SFKf5uJD5RYtukHt7dm119AgrV//k+waBIBEEVBV1t4uTZ+eXaDs2cO0hwDqA5f4AABJIqAAAEki\n&quot;,</td>
      </tr>
      <tr>
        <td id="L2460" class="blob-num js-line-number" data-line-number="2460"></td>
        <td id="LC2460" class="blob-code js-file-line">       &quot;oAAASSKgAABJIqAAAEkioAAASSKgAABJIqAAAEkqG1C277XdZntHt23jbW+0/bLtJ203VLdMAEC9\n&quot;,</td>
      </tr>
      <tr>
        <td id="L2461" class="blob-num js-line-number" data-line-number="2461"></td>
        <td id="LC2461" class="blob-code js-file-line">       &quot;qaQHtUbS/OO2rZC0MSLOlfRUcR0AgMyUneooIjbbnnHc5iskXVhcbpZUECE1ILa/9FvNv+r4fy/0\n&quot;,</td>
      </tr>
      <tr>
        <td id="L2462" class="blob-num js-line-number" data-line-number="2462"></td>
        <td id="LC2462" class="blob-code js-file-line">       &quot;TcOoBq1vXp9JWwCQtb7OxTcpItqKy22SJmVUD8o4MuKvmr54eiZt7blvTybtAEA19Huy2IgI23Gi\n&quot;,</td>
      </tr>
      <tr>
        <td id="L2463" class="blob-num js-line-number" data-line-number="2463"></td>
        <td id="LC2463" class="blob-code js-file-line">       &quot;z1taGkvLuVxeuVy+v18JABhkCoWCCoVCr47pa0C12T4zIg7Ynizp4Il2nDu3sY9fAQAYKvL5vPL5\n&quot;,</td>
      </tr>
      <tr>
        <td id="L2464" class="blob-num js-line-number" data-line-number="2464"></td>
        <td id="LC2464" class="blob-code js-file-line">       &quot;fGm9qamp7DF9HWb+qKRrisvXSHqkj+0AANCjSoaZ3y/pf0v6G9uv2r5W0l2SLrH9sqSLiusAAGSm\n&quot;,</td>
      </tr>
      <tr>
        <td id="L2465" class="blob-num js-line-number" data-line-number="2465"></td>
        <td id="LC2465" class="blob-code js-file-line">       &quot;klF8V5/go4szrgUAgBJmkgAAJImAAgAkiYACACSJgAIAJImAAgAkiYACACSJgAIAJImAAgAkiYAC\n&quot;,</td>
      </tr>
      <tr>
        <td id="L2466" class="blob-num js-line-number" data-line-number="2466"></td>
        <td id="LC2466" class="blob-code js-file-line">       &quot;ACSJgAIAJImAAgAkiYACACSp3y8sBAbaomsWqf2d9szaaxjVoPXN6zNrD0A2CCgMOu3vtGf22ntJ\n&quot;,</td>
      </tr>
      <tr>
        <td id="L2467" class="blob-num js-line-number" data-line-number="2467"></td>
        <td id="LC2467" class="blob-code js-file-line">       &quot;2nPfnszaApAdLvEBAJJEQAEAksQlPgyIRYtuUHtGt422t+7M9BIfgDQRUBgQ7e3S9Ok/yaStlj9M\n&quot;,</td>
      </tr>
      <tr>
        <td id="L2468" class="blob-num js-line-number" data-line-number="2468"></td>
        <td id="LC2468" class="blob-code js-file-line">       &quot;zaQdAGnrV0DZbpX0lqT3JB2JiE9lURQAAP3tQYWkfES8kUUxAAAclcUlPmfQBoBeyvJ5MJ4FQ4qy\n&quot;,</td>
      </tr>
      <tr>
        <td id="L2469" class="blob-num js-line-number" data-line-number="2469"></td>
        <td id="LC2469" class="blob-code js-file-line">       &quot;6EH91vZ7kn4SEf+SQU0AKpDl82A8C4YU9Teg5kXEftsTJW20/VJEbM6iMABAfetXQEXE/uKff7T9\n&quot;,</td>
      </tr>
      <tr>
        <td id="L2470" class="blob-num js-line-number" data-line-number="2470"></td>
        <td id="LC2470" class="blob-code js-file-line">       &quot;S0mfknRMQLW0NJaWc7m8crl8f74SADAIFQoFFQqFXh3T54CyPVrS8Ig4ZHuMpEslNR2/39y5jX39\n&quot;,</td>
      </tr>
      <tr>
        <td id="L2471" class="blob-num js-line-number" data-line-number="2471"></td>
        <td id="LC2471" class="blob-code js-file-line">       &quot;CgDAEJHP55XP50vrTU3vi4v36U8PapKkX9o+2s7PI+LJfrQHAEBJnwMqInZLmp1hLQAAlDAXHwAg\n&quot;,</td>
      </tr>
      <tr>
        <td id="L2472" class="blob-num js-line-number" data-line-number="2472"></td>
        <td id="LC2472" class="blob-code js-file-line">       &quot;SQQUACBJBBQAIEkEFAAgScxmDmDQynK6J4kpn1JDQAEYtLKc7kliyqfUcIkPAJAkelDAAMnyrcIS\n&quot;,</td>
      </tr>
      <tr>
        <td id="L2473" class="blob-num js-line-number" data-line-number="2473"></td>
        <td id="LC2473" class="blob-code js-file-line">       &quot;bxbG0EdAAQMky7cKS7xZGEMfAQUAg9hQHihCQAHAIDaUB4owSAIAkCQCCgCQJAIKAJAkAgoAkCQG\n&quot;,</td>
      </tr>
      <tr>
        <td id="L2474" class="blob-num js-line-number" data-line-number="2474"></td>
        <td id="LC2474" class="blob-code js-file-line">       &quot;SQAYMDwLht4goAAMGJ4FQ29wiQ8AkCQCCgCQpH5d4rM9X9IPJA2XtCoivptJVQAwhGV5L24o34fr\n&quot;,</td>
      </tr>
      <tr>
        <td id="L2475" class="blob-num js-line-number" data-line-number="2475"></td>
        <td id="LC2475" class="blob-code js-file-line">       &quot;c0DZHi7pnyVdLGmfpOdsPxoRL2ZV3FDwxhuvafrQ/G+nVzgPnAOJc3DUf/zHa5oz57FM2hrK9+H6\n&quot;,</td>
      </tr>
      <tr>
        <td id="L2476" class="blob-num js-line-number" data-line-number="2476"></td>
        <td id="LC2476" class="blob-code js-file-line">       &quot;c4nvU5L+EBGtEXFE0npJ/5BNWUPHG2+8VusSksB54BxInIOjOA+V6U9AnSXp1W7re4vbAADot/4E\n&quot;,</td>
      </tr>
      <tr>
        <td id="L2477" class="blob-num js-line-number" data-line-number="2477"></td>
        <td id="LC2477" class="blob-code js-file-line">       &quot;VGRWBQAAx3FE33LG9vmSGiNifnH9m5I6uw+UsE2IAQB6FBE+2ef9CagRkv5d0uckvSbpWUlXM0gC\n&quot;,</td>
      </tr>
      <tr>
        <td id="L2478" class="blob-num js-line-number" data-line-number="2478"></td>
        <td id="LC2478" class="blob-code js-file-line">       &quot;AJCFPo/ii4h3bX9V0m/UNcx8NeEEAMhKn3tQAABUU1VmkrA93/ZLtv+v7f9eje9Ine17bbfZ3lHr\n&quot;,</td>
      </tr>
      <tr>
        <td id="L2479" class="blob-num js-line-number" data-line-number="2479"></td>
        <td id="LC2479" class="blob-code js-file-line">       &quot;WmrF9lTbT9veaft521+rdU21YHuU7S22t9l+wfadta6pVmwPt73VdjYPAQ0ytltt/754Dp6tdT21\n&quot;,</td>
      </tr>
      <tr>
        <td id="L2480" class="blob-num js-line-number" data-line-number="2480"></td>
        <td id="LC2480" class="blob-code js-file-line">       &quot;YrvB9kO2Xyz+nTi/x/2y7kEVH+D9d3V7gFd1eG/K9gWSDktaGxHn1bqeWrB9pqQzI2Kb7dMk/Zuk\n&quot;,</td>
      </tr>
      <tr>
        <td id="L2481" class="blob-num js-line-number" data-line-number="2481"></td>
        <td id="LC2481" class="blob-code js-file-line">       &quot;K+vtvwVJsj06It4u3rt9RtLNEfFMresaaLa/IekTkk6PiCtqXc9As71b0ici4o1a11JLtpslbYqI\n&quot;,</td>
      </tr>
      <tr>
        <td id="L2482" class="blob-num js-line-number" data-line-number="2482"></td>
        <td id="LC2482" class="blob-code js-file-line">       &quot;e4t/J8ZERMfx+1WjB8UDvJIiYrOkN2tdRy1FxIGI2FZcPizpRUm52lZVGxHxdnFxpLru2dbd/6Bs\n&quot;,</td>
      </tr>
      <tr>
        <td id="L2483" class="blob-num js-line-number" data-line-number="2483"></td>
        <td id="LC2483" class="blob-code js-file-line">       &quot;T5F0maRVkk46emuIq+ffXbbHSbogIu6VusYz9BROUnUCigd48T62Z0iaI2lLbSupDdvDbG+T1Cbp\n&quot;,</td>
      </tr>
      <tr>
        <td id="L2484" class="blob-num js-line-number" data-line-number="2484"></td>
        <td id="LC2484" class="blob-code js-file-line">       &quot;6Yh4odY11cBKSbdI6qx1ITUUkn5ru8X2l2tdTI2cLemPttfY/p3tf7E9uqcdqxFQjLrAMYqX9x6S\n&quot;,</td>
      </tr>
      <tr>
        <td id="L2485" class="blob-num js-line-number" data-line-number="2485"></td>
        <td id="LC2485" class="blob-code js-file-line">       &quot;tLzYk6o7EdEZEbMlTZH0Gdv5Gpc0oGxfLulgRGxVffcg5kXEHEn/TdI/Fm8F1JsRkj4u6ccR8XFJ\n&quot;,</td>
      </tr>
      <tr>
        <td id="L2486" class="blob-num js-line-number" data-line-number="2486"></td>
        <td id="LC2486" class="blob-code js-file-line">       &quot;/0/Sip52rEZA7ZPUffbCqerqRaEO2T5F0sOS7ouIR2pdT60VL2VskDS31rUMsL+VdEXxHsz9ki6y\n&quot;,</td>
      </tr>
      <tr>
        <td id="L2487" class="blob-num js-line-number" data-line-number="2487"></td>
        <td id="LC2487" class="blob-code js-file-line">       &quot;vbbGNQ24iNhf/POPkn6prlsi9WavpL0R8Vxx/SF1Bdb7VCOgWiT9F9szbI+UdJWkR6vwPUicbUta\n&quot;,</td>
      </tr>
      <tr>
        <td id="L2488" class="blob-num js-line-number" data-line-number="2488"></td>
        <td id="LC2488" class="blob-code js-file-line">       &quot;LemFiPhBreupFdsTbDcUl0+VdImkrbWtamBFxK0RMTUizpa0SNK/RsTSWtc1kGyPtn16cXmMpEsl\n&quot;,</td>
      </tr>
      <tr>
        <td id="L2489" class="blob-num js-line-number" data-line-number="2489"></td>
        <td id="LC2489" class="blob-code js-file-line">       &quot;1d0o34g4IOlV2+cWN10saWdP+2b+ynce4O1i+35JF0r6oO1XJX07ItbUuKyBNk/SYkm/t330f8jf\n&quot;,</td>
      </tr>
      <tr>
        <td id="L2490" class="blob-num js-line-number" data-line-number="2490"></td>
        <td id="LC2490" class="blob-code js-file-line">       &quot;jIhf17CmWpgsqdn2MHX9o3BdRDxV45pqrR5vBUyS9Muuf7dphKSfR8STtS2pZpZJ+nmxE7NL0rU9\n&quot;,</td>
      </tr>
      <tr>
        <td id="L2491" class="blob-num js-line-number" data-line-number="2491"></td>
        <td id="LC2491" class="blob-code js-file-line">       &quot;7cSDugCAJPHKdwBAkggoAECSCCgAQJIIKABAkggoAECSCCgAQJIIKABAkggoAECS/j/ZfEr7iTBm\n&quot;,</td>
      </tr>
      <tr>
        <td id="L2492" class="blob-num js-line-number" data-line-number="2492"></td>
        <td id="LC2492" class="blob-code js-file-line">       &quot;NwAAAABJRU5ErkJggg==\n&quot;</td>
      </tr>
      <tr>
        <td id="L2493" class="blob-num js-line-number" data-line-number="2493"></td>
        <td id="LC2493" class="blob-code js-file-line">      ],</td>
      </tr>
      <tr>
        <td id="L2494" class="blob-num js-line-number" data-line-number="2494"></td>
        <td id="LC2494" class="blob-code js-file-line">      &quot;text/plain&quot;: [</td>
      </tr>
      <tr>
        <td id="L2495" class="blob-num js-line-number" data-line-number="2495"></td>
        <td id="LC2495" class="blob-code js-file-line">       &quot;&lt;matplotlib.figure.Figure at 0x14f84160&gt;&quot;</td>
      </tr>
      <tr>
        <td id="L2496" class="blob-num js-line-number" data-line-number="2496"></td>
        <td id="LC2496" class="blob-code js-file-line">      ]</td>
      </tr>
      <tr>
        <td id="L2497" class="blob-num js-line-number" data-line-number="2497"></td>
        <td id="LC2497" class="blob-code js-file-line">     },</td>
      </tr>
      <tr>
        <td id="L2498" class="blob-num js-line-number" data-line-number="2498"></td>
        <td id="LC2498" class="blob-code js-file-line">     &quot;metadata&quot;: {},</td>
      </tr>
      <tr>
        <td id="L2499" class="blob-num js-line-number" data-line-number="2499"></td>
        <td id="LC2499" class="blob-code js-file-line">     &quot;output_type&quot;: &quot;display_data&quot;</td>
      </tr>
      <tr>
        <td id="L2500" class="blob-num js-line-number" data-line-number="2500"></td>
        <td id="LC2500" class="blob-code js-file-line">    }</td>
      </tr>
      <tr>
        <td id="L2501" class="blob-num js-line-number" data-line-number="2501"></td>
        <td id="LC2501" class="blob-code js-file-line">   ],</td>
      </tr>
      <tr>
        <td id="L2502" class="blob-num js-line-number" data-line-number="2502"></td>
        <td id="LC2502" class="blob-code js-file-line">   &quot;source&quot;: [</td>
      </tr>
      <tr>
        <td id="L2503" class="blob-num js-line-number" data-line-number="2503"></td>
        <td id="LC2503" class="blob-code js-file-line">    &quot;fig, ax = plt.subplots()\n&quot;,</td>
      </tr>
      <tr>
        <td id="L2504" class="blob-num js-line-number" data-line-number="2504"></td>
        <td id="LC2504" class="blob-code js-file-line">    &quot;\n&quot;,</td>
      </tr>
      <tr>
        <td id="L2505" class="blob-num js-line-number" data-line-number="2505"></td>
        <td id="LC2505" class="blob-code js-file-line">    &quot;index = np.arange(6)\n&quot;,</td>
      </tr>
      <tr>
        <td id="L2506" class="blob-num js-line-number" data-line-number="2506"></td>
        <td id="LC2506" class="blob-code js-file-line">    &quot;bar_width = 0.3\n&quot;,</td>
      </tr>
      <tr>
        <td id="L2507" class="blob-num js-line-number" data-line-number="2507"></td>
        <td id="LC2507" class="blob-code js-file-line">    &quot;\n&quot;,</td>
      </tr>
      <tr>
        <td id="L2508" class="blob-num js-line-number" data-line-number="2508"></td>
        <td id="LC2508" class="blob-code js-file-line">    &quot;opacity = 0.6\n&quot;,</td>
      </tr>
      <tr>
        <td id="L2509" class="blob-num js-line-number" data-line-number="2509"></td>
        <td id="LC2509" class="blob-code js-file-line">    &quot;error_config = {&#39;ecolor&#39;: &#39;0.3&#39;}\n&quot;,</td>
      </tr>
      <tr>
        <td id="L2510" class="blob-num js-line-number" data-line-number="2510"></td>
        <td id="LC2510" class="blob-code js-file-line">    &quot;\n&quot;,</td>
      </tr>
      <tr>
        <td id="L2511" class="blob-num js-line-number" data-line-number="2511"></td>
        <td id="LC2511" class="blob-code js-file-line">    &quot;rects1 = plt.bar(index, np.array(np.squeeze(interSmeansLResult)), bar_width,\n&quot;,</td>
      </tr>
      <tr>
        <td id="L2512" class="blob-num js-line-number" data-line-number="2512"></td>
        <td id="LC2512" class="blob-code js-file-line">    &quot;                 alpha=opacity,\n&quot;,</td>
      </tr>
      <tr>
        <td id="L2513" class="blob-num js-line-number" data-line-number="2513"></td>
        <td id="LC2513" class="blob-code js-file-line">    &quot;                 color=&#39;b&#39;,\n&quot;,</td>
      </tr>
      <tr>
        <td id="L2514" class="blob-num js-line-number" data-line-number="2514"></td>
        <td id="LC2514" class="blob-code js-file-line">    &quot;                 label=&#39;Model&#39;)\n&quot;,</td>
      </tr>
      <tr>
        <td id="L2515" class="blob-num js-line-number" data-line-number="2515"></td>
        <td id="LC2515" class="blob-code js-file-line">    &quot;\n&quot;,</td>
      </tr>
      <tr>
        <td id="L2516" class="blob-num js-line-number" data-line-number="2516"></td>
        <td id="LC2516" class="blob-code js-file-line">    &quot;rects3 = plt.bar(index + bar_width, np.array(LaborTarget), bar_width,\n&quot;,</td>
      </tr>
      <tr>
        <td id="L2517" class="blob-num js-line-number" data-line-number="2517"></td>
        <td id="LC2517" class="blob-code js-file-line">    &quot;                 alpha=opacity,\n&quot;,</td>
      </tr>
      <tr>
        <td id="L2518" class="blob-num js-line-number" data-line-number="2518"></td>
        <td id="LC2518" class="blob-code js-file-line">    &quot;                 color=&#39;g&#39;,\n&quot;,</td>
      </tr>
      <tr>
        <td id="L2519" class="blob-num js-line-number" data-line-number="2519"></td>
        <td id="LC2519" class="blob-code js-file-line">    &quot;                 label=&#39;Data&#39;)\n&quot;,</td>
      </tr>
      <tr>
        <td id="L2520" class="blob-num js-line-number" data-line-number="2520"></td>
        <td id="LC2520" class="blob-code js-file-line">    &quot;\n&quot;,</td>
      </tr>
      <tr>
        <td id="L2521" class="blob-num js-line-number" data-line-number="2521"></td>
        <td id="LC2521" class="blob-code js-file-line">    &quot;plt.tight_layout()\n&quot;,</td>
      </tr>
      <tr>
        <td id="L2522" class="blob-num js-line-number" data-line-number="2522"></td>
        <td id="LC2522" class="blob-code js-file-line">    &quot;plt.legend()\n&quot;,</td>
      </tr>
      <tr>
        <td id="L2523" class="blob-num js-line-number" data-line-number="2523"></td>
        <td id="LC2523" class="blob-code js-file-line">    &quot;plt.show()&quot;</td>
      </tr>
      <tr>
        <td id="L2524" class="blob-num js-line-number" data-line-number="2524"></td>
        <td id="LC2524" class="blob-code js-file-line">   ]</td>
      </tr>
      <tr>
        <td id="L2525" class="blob-num js-line-number" data-line-number="2525"></td>
        <td id="LC2525" class="blob-code js-file-line">  },</td>
      </tr>
      <tr>
        <td id="L2526" class="blob-num js-line-number" data-line-number="2526"></td>
        <td id="LC2526" class="blob-code js-file-line">  {</td>
      </tr>
      <tr>
        <td id="L2527" class="blob-num js-line-number" data-line-number="2527"></td>
        <td id="LC2527" class="blob-code js-file-line">   &quot;cell_type&quot;: &quot;markdown&quot;,</td>
      </tr>
      <tr>
        <td id="L2528" class="blob-num js-line-number" data-line-number="2528"></td>
        <td id="LC2528" class="blob-code js-file-line">   &quot;metadata&quot;: {},</td>
      </tr>
      <tr>
        <td id="L2529" class="blob-num js-line-number" data-line-number="2529"></td>
        <td id="LC2529" class="blob-code js-file-line">   &quot;source&quot;: [</td>
      </tr>
      <tr>
        <td id="L2530" class="blob-num js-line-number" data-line-number="2530"></td>
        <td id="LC2530" class="blob-code js-file-line">    &quot;The labor fit looks pretty good (even though the bins don&#39;t seem to be lining up correctly (why is that?). What about Capital?&quot;</td>
      </tr>
      <tr>
        <td id="L2531" class="blob-num js-line-number" data-line-number="2531"></td>
        <td id="LC2531" class="blob-code js-file-line">   ]</td>
      </tr>
      <tr>
        <td id="L2532" class="blob-num js-line-number" data-line-number="2532"></td>
        <td id="LC2532" class="blob-code js-file-line">  },</td>
      </tr>
      <tr>
        <td id="L2533" class="blob-num js-line-number" data-line-number="2533"></td>
        <td id="LC2533" class="blob-code js-file-line">  {</td>
      </tr>
      <tr>
        <td id="L2534" class="blob-num js-line-number" data-line-number="2534"></td>
        <td id="LC2534" class="blob-code js-file-line">   &quot;cell_type&quot;: &quot;code&quot;,</td>
      </tr>
      <tr>
        <td id="L2535" class="blob-num js-line-number" data-line-number="2535"></td>
        <td id="LC2535" class="blob-code js-file-line">   &quot;execution_count&quot;: 44,</td>
      </tr>
      <tr>
        <td id="L2536" class="blob-num js-line-number" data-line-number="2536"></td>
        <td id="LC2536" class="blob-code js-file-line">   &quot;metadata&quot;: {</td>
      </tr>
      <tr>
        <td id="L2537" class="blob-num js-line-number" data-line-number="2537"></td>
        <td id="LC2537" class="blob-code js-file-line">    &quot;collapsed&quot;: false</td>
      </tr>
      <tr>
        <td id="L2538" class="blob-num js-line-number" data-line-number="2538"></td>
        <td id="LC2538" class="blob-code js-file-line">   },</td>
      </tr>
      <tr>
        <td id="L2539" class="blob-num js-line-number" data-line-number="2539"></td>
        <td id="LC2539" class="blob-code js-file-line">   &quot;outputs&quot;: [</td>
      </tr>
      <tr>
        <td id="L2540" class="blob-num js-line-number" data-line-number="2540"></td>
        <td id="LC2540" class="blob-code js-file-line">    {</td>
      </tr>
      <tr>
        <td id="L2541" class="blob-num js-line-number" data-line-number="2541"></td>
        <td id="LC2541" class="blob-code js-file-line">     &quot;data&quot;: {</td>
      </tr>
      <tr>
        <td id="L2542" class="blob-num js-line-number" data-line-number="2542"></td>
        <td id="LC2542" class="blob-code js-file-line">      &quot;image/png&quot;: [</td>
      </tr>
      <tr>
        <td id="L2543" class="blob-num js-line-number" data-line-number="2543"></td>
        <td id="LC2543" class="blob-code js-file-line">       &quot;iVBORw0KGgoAAAANSUhEUgAAAagAAAEaCAYAAABEsMO+AAAABHNCSVQICAgIfAhkiAAAAAlwSFlz\n&quot;,</td>
      </tr>
      <tr>
        <td id="L2544" class="blob-num js-line-number" data-line-number="2544"></td>
        <td id="LC2544" class="blob-code js-file-line">       &quot;AAALEgAACxIB0t1+/AAAFl1JREFUeJzt3XuQ1eWd5/H3F5CoeGkJBGm5iRWrxLhZHJK4YxG71DGs\n&quot;,</td>
      </tr>
      <tr>
        <td id="L2545" class="blob-num js-line-number" data-line-number="2545"></td>
        <td id="LC2545" class="blob-code js-file-line">       &quot;NRirqCAmiHEtNZXRMV5Si1pRqFSiSWrLTLJlKhmVNBpFy8wYI6MLMWmjtbtgr5co6BiJjYLQJGoj\n&quot;,</td>
      </tr>
      <tr>
        <td id="L2546" class="blob-num js-line-number" data-line-number="2546"></td>
        <td id="LC2546" class="blob-code js-file-line">       &quot;zMSI6e/+0ccOMFxPH855uvv9qqL4XZ/z/XUBH57nPL/fLzITSZJKM6TRBUiStCsGlCSpSAaUJKlI\n&quot;,</td>
      </tr>
      <tr>
        <td id="L2547" class="blob-num js-line-number" data-line-number="2547"></td>
        <td id="LC2547" class="blob-code js-file-line">       &quot;BpQkqUgGlCSpSAaUJKlIewyoiLgzIjoj4vnttn0nIl6MiOci4p8i4sjt9l0XEb+NiJci4qwDWbgk\n&quot;,</td>
      </tr>
      <tr>
        <td id="L2548" class="blob-num js-line-number" data-line-number="2548"></td>
        <td id="LC2548" class="blob-code js-file-line">       &quot;aWDbWw9qETBjp23LgBMz8+PAy8B1ABExBTgPmFI557aIsIcmSarKHgMkM58A3t5p2/LM7K6srgDG\n&quot;,</td>
      </tr>
      <tr>
        <td id="L2549" class="blob-num js-line-number" data-line-number="2549"></td>
        <td id="LC2549" class="blob-code js-file-line">       &quot;VZY/C9ybmdsyswN4BfhkbcuVJA0Wfe3h/DfgXyrLzcC67fatA47pY/uSpEGq6oCKiBuA9zLznj0c\n&quot;,</td>
      </tr>
      <tr>
        <td id="L2550" class="blob-num js-line-number" data-line-number="2550"></td>
        <td id="LC2550" class="blob-code js-file-line">       &quot;5nOUJElVGVbNSRHxReBs4IztNq8Hxm+3Pq6ybedzDS1JEpkZe9q/3z2oiJgBfBX4bGa+u92uh4A5\n&quot;,</td>
      </tr>
      <tr>
        <td id="L2551" class="blob-num js-line-number" data-line-number="2551"></td>
        <td id="LC2551" class="blob-code js-file-line">       &quot;ETE8Io4FPgqs3E1Rg/rXTTfd1PAavH5/Bl6/19/IX/tijz2oiLgXOA0YFRGvAzfRM2tvOLA8IgD+\n&quot;,</td>
      </tr>
      <tr>
        <td id="L2552" class="blob-num js-line-number" data-line-number="2552"></td>
        <td id="LC2552" class="blob-code js-file-line">       &quot;T2Z+OTNXR8T9wGrgfeDLua9VSJK0kz0GVGaev4vNd+7h+G8C3+xrUZIkeZ9SA7S0tDS6hIYa7NcP\n&quot;,</td>
      </tr>
      <tr>
        <td id="L2553" class="blob-num js-line-number" data-line-number="2553"></td>
        <td id="LC2553" class="blob-code js-file-line">       &quot;/gy8/pZGl9AvRL1H4SLCkT9JGuQigtzLJImqZvFJ0mBU+d5d+6naTklDAmrGjMtq1tbq3/2CKVM/\n&quot;,</td>
      </tr>
      <tr>
        <td id="L2554" class="blob-num js-line-number" data-line-number="2554"></td>
        <td id="LC2554" class="blob-code js-file-line">       &quot;WpO2mg5uYknrkpq0JWlgcgRo//Ql1BsSUBMn/rBmbbW/Mp6JcyfWpK21d6+tSTuSpL5zkoQkqUgG\n&quot;,</td>
      </tr>
      <tr>
        <td id="L2555" class="blob-num js-line-number" data-line-number="2555"></td>
        <td id="LC2555" class="blob-code js-file-line">       &quot;lCSpSAaUJGkHHR0dDBkyhO7u7r0e++Mf/5jp06cfkDqcxSdJfTBnzmV0dR249puaYMmSPX9vP2nS\n&quot;,</td>
      </tr>
      <tr>
        <td id="L2556" class="blob-num js-line-number" data-line-number="2556"></td>
        <td id="LC2556" class="blob-code js-file-line">       &quot;JDZs2MAbb7zBhz/84d7tU6dO5bnnnqOjo4MJEyYcuCIPEANKkvqgq6u2E792tnbt3mc9RwSTJ0/m\n&quot;,</td>
      </tr>
      <tr>
        <td id="L2557" class="blob-num js-line-number" data-line-number="2557"></td>
        <td id="LC2557" class="blob-code js-file-line">       &quot;3nvv5fLLLwfg+eef549//GO/nhrvEJ8kDQBz585l8eLFveutra3Mmzevd1r85s2bmTdvHh/5yEeY\n&quot;,</td>
      </tr>
      <tr>
        <td id="L2558" class="blob-num js-line-number" data-line-number="2558"></td>
        <td id="LC2558" class="blob-code js-file-line">       &quot;NGkS3/jGN3r3dXd3c+211zJ69GiOO+44li5dukPbmzdv5uKLL6a5uZlx48bxta99bZ+G//rKgJKk\n&quot;,</td>
      </tr>
      <tr>
        <td id="L2559" class="blob-num js-line-number" data-line-number="2559"></td>
        <td id="LC2559" class="blob-code js-file-line">       &quot;AeCUU07hnXfe4aWXXuLPf/4z9913H3PnzgV67t264oor2LJlC6+++iqPP/44ixcvZtGiRQD86Ec/\n&quot;,</td>
      </tr>
      <tr>
        <td id="L2560" class="blob-num js-line-number" data-line-number="2560"></td>
        <td id="LC2560" class="blob-code js-file-line">       &quot;YunSpTz77LO0t7fzwAMP7NDz+uIXv8jw4cNZs2YNzzzzDMuWLeP2228/4NdkQEnSAHHBBRewePFi\n&quot;,</td>
      </tr>
      <tr>
        <td id="L2561" class="blob-num js-line-number" data-line-number="2561"></td>
        <td id="LC2561" class="blob-code js-file-line">       &quot;li9fzpQpUzjmmJ6Xmn8QWDfffDMjRoxg4sSJXHPNNdx1110A3H///Vx11VUcc8wxHHXUUVx//fW9\n&quot;,</td>
      </tr>
      <tr>
        <td id="L2562" class="blob-num js-line-number" data-line-number="2562"></td>
        <td id="LC2562" class="blob-code js-file-line">       &quot;vavOzk4eeeQRbr31Vg455BBGjx7NV77yFZYsOfAPNfA7KEkaACKCCy64gOnTp/Pqq6/uMLz3hz/8\n&quot;,</td>
      </tr>
      <tr>
        <td id="L2563" class="blob-num js-line-number" data-line-number="2563"></td>
        <td id="LC2563" class="blob-code js-file-line">       &quot;gW3btjFx4l8eajBhwgTWr+95p+yGDRsYP378Dvs+sHbtWrZt28bYsWN7t3V3d9dl0oUBJUkDxIQJ\n&quot;,</td>
      </tr>
      <tr>
        <td id="L2564" class="blob-num js-line-number" data-line-number="2564"></td>
        <td id="LC2564" class="blob-code js-file-line">       &quot;E5g8eTKPPPIId975lzcjjRo1ioMOOoiOjg5OOOEEAF577TXGjRsHwNixY3nttdd6j99+efz48Xzo\n&quot;,</td>
      </tr>
      <tr>
        <td id="L2565" class="blob-num js-line-number" data-line-number="2565"></td>
        <td id="LC2565" class="blob-code js-file-line">       &quot;Qx/izTffZMiQ+g66OcQnSQPIHXfcwS9/+UsOOeSQ3m1Dhw5l9uzZ3HDDDWzdupW1a9dy66239n5H\n&quot;,</td>
      </tr>
      <tr>
        <td id="L2566" class="blob-num js-line-number" data-line-number="2566"></td>
        <td id="LC2566" class="blob-code js-file-line">       &quot;NXv2bL73ve+xfv163n77bW655Zbec8eOHctZZ53F1VdfzZYtW+ju7mbNmjX8+te/PuDXYkBJ0gAy\n&quot;,</td>
      </tr>
      <tr>
        <td id="L2567" class="blob-num js-line-number" data-line-number="2567"></td>
        <td id="LC2567" class="blob-code js-file-line">       &quot;efJkTj755N71iCAi+P73v8+IESOYPHky06dP5wtf+AIXXXQRAJdccgmf+cxn+PjHP860adOYNWvW\n&quot;,</td>
      </tr>
      <tr>
        <td id="L2568" class="blob-num js-line-number" data-line-number="2568"></td>
        <td id="LC2568" class="blob-code js-file-line">       &quot;DpMkFi9ezHvvvceUKVMYOXIkn/vc59i4ceMO7R8IDXkf1KWX1u4zf/rYeGbdenZN2lp791oeve/R\n&quot;,</td>
      </tr>
      <tr>
        <td id="L2569" class="blob-num js-line-number" data-line-number="2569"></td>
        <td id="LC2569" class="blob-code js-file-line">       &quot;mrQlaeCpvMNoh20l3Khbsl39zLbb7vugJOlA6c/hUTqH+CRJRTKgJElFMqAkSUUyoCRJRTKgJElF\n&quot;,</td>
      </tr>
      <tr>
        <td id="L2570" class="blob-num js-line-number" data-line-number="2570"></td>
        <td id="LC2570" class="blob-code js-file-line">       &quot;MqAkSUUyoCRJRTKgJElF8kZdSeqDORfOoevdA/coiaaDm1jSuudXW0yaNIlNmzYxbNgwhg4dypQp\n&quot;,</td>
      </tr>
      <tr>
        <td id="L2571" class="blob-num js-line-number" data-line-number="2571"></td>
        <td id="LC2571" class="blob-code js-file-line">       &quot;U5g3bx6XXnrpXh9D1NHRweTJk3n//ffr/jDYvTGgJKkPut7tYuLciXs/sEpr716712MigocffpjT\n&quot;,</td>
      </tr>
      <tr>
        <td id="L2572" class="blob-num js-line-number" data-line-number="2572"></td>
        <td id="LC2572" class="blob-code js-file-line">       &quot;Tz+dLVu20NbWxpVXXsmKFSt2eKr5ntT7sXf7oqy4lCT1yeGHH87MmTO57777aG1tZdWqVSxdupSp\n&quot;,</td>
      </tr>
      <tr>
        <td id="L2573" class="blob-num js-line-number" data-line-number="2573"></td>
        <td id="LC2573" class="blob-code js-file-line">       &quot;U6dy5JFHMmHCBBYuXNh7/Kc//WkAmpqaOPzww1mxYgVr1qzh9NNPZ9SoUYwePZq5c+eyefPmul+L\n&quot;,</td>
      </tr>
      <tr>
        <td id="L2574" class="blob-num js-line-number" data-line-number="2574"></td>
        <td id="LC2574" class="blob-code js-file-line">       &quot;ASVJA9AnPvEJxo0bxxNPPMFhhx3G3XffzebNm1m6dCk/+MEP+NnPfgbAE088AcDmzZvZsmULn/rU\n&quot;,</td>
      </tr>
      <tr>
        <td id="L2575" class="blob-num js-line-number" data-line-number="2575"></td>
        <td id="LC2575" class="blob-code js-file-line">       &quot;pwC44YYb2LBhAy+++CKvv/46CxYsqPs1GFCSNEA1Nzfz9ttvc9ppp3HiiScCcNJJJzFnzhwef/xx\n&quot;,</td>
      </tr>
      <tr>
        <td id="L2576" class="blob-num js-line-number" data-line-number="2576"></td>
        <td id="LC2576" class="blob-code js-file-line">       &quot;YNdDe8cddxxnnHEGBx10EKNGjeKqq67qPb6e/A5Kkgao9evXM3LkSFasWMH8+fNZtWoV7733Hn/6\n&quot;,</td>
      </tr>
      <tr>
        <td id="L2577" class="blob-num js-line-number" data-line-number="2577"></td>
        <td id="LC2577" class="blob-code js-file-line">       &quot;05+YPXv2bs/r7Ozkyiuv5Mknn+x9SeHIkSPrWHmPPfagIuLOiOiMiOe32zYyIpZHxMsRsSwimrbb\n&quot;,</td>
      </tr>
      <tr>
        <td id="L2578" class="blob-num js-line-number" data-line-number="2578"></td>
        <td id="LC2578" class="blob-code js-file-line">       &quot;d11E/DYiXoqIsw5k4ZKk3XvqqadYv349p556Kp///Oc599xzWbduHV1dXXzpS1+iu7sbYJez/K6/\n&quot;,</td>
      </tr>
      <tr>
        <td id="L2579" class="blob-num js-line-number" data-line-number="2579"></td>
        <td id="LC2579" class="blob-code js-file-line">       &quot;/nqGDh3KCy+8wObNm7nrrrt6j6+nvQ3xLQJm7LRtPrA8M48HHqusExFTgPOAKZVzbosIhxAlqQ4+\n&quot;,</td>
      </tr>
      <tr>
        <td id="L2580" class="blob-num js-line-number" data-line-number="2580"></td>
        <td id="LC2580" class="blob-code js-file-line">       &quot;GKp75513ePjhhzn//PO54IIL+NjHPsbWrVs56qijGD58OCtXruSee+7pDabRo0czZMgQ1qxZ09vW\n&quot;,</td>
      </tr>
      <tr>
        <td id="L2581" class="blob-num js-line-number" data-line-number="2581"></td>
        <td id="LC2581" class="blob-code js-file-line">       &quot;1q1bGTFiBEcccQTr16/nO9/5TkOuaY8BkplPAG/vtPkcoLWy3AqcW1n+LHBvZm7LzA7gFeCTtStV\n&quot;,</td>
      </tr>
      <tr>
        <td id="L2582" class="blob-num js-line-number" data-line-number="2582"></td>
        <td id="LC2582" class="blob-code js-file-line">       &quot;krQ7M2fO5IgjjmDChAncfPPNXHPNNSxatAiA2267jRtvvJEjjjiCr3/965x33nm95x166KHccMMN\n&quot;,</td>
      </tr>
      <tr>
        <td id="L2583" class="blob-num js-line-number" data-line-number="2583"></td>
        <td id="LC2583" class="blob-code js-file-line">       &quot;nHrqqYwcOZKVK1dy00038fTTT3PkkUcyc+bM//AK+Hqp5juoMZnZWVnuBMZUlpuB/7vdceuAY/pQ\n&quot;,</td>
      </tr>
      <tr>
        <td id="L2584" class="blob-num js-line-number" data-line-number="2584"></td>
        <td id="LC2584" class="blob-code js-file-line">       &quot;myQVr+ngpn26V6kv7e/Nq6++usf9s2bNYtasWbvdv3Dhwh2mngO0t7fvsH711VfvtY5a69MkiczM\n&quot;,</td>
      </tr>
      <tr>
        <td id="L2585" class="blob-num js-line-number" data-line-number="2585"></td>
        <td id="LC2585" class="blob-code js-file-line">       &quot;iNjT3V273NfevqB3ubm5hebmlr6UIUkNs7enPKhHW1sbbW1t+3VONQHVGRFHZ+bGiBgLbKpsXw+M\n&quot;,</td>
      </tr>
      <tr>
        <td id="L2586" class="blob-num js-line-number" data-line-number="2586"></td>
        <td id="LC2586" class="blob-code js-file-line">       &quot;3+64cZVt/8G0aQuq+FhJUn/V0tJCS0tL7/rOPbZdqWYSw0PAhZXlC4EHt9s+JyKGR8SxwEeBlVW0\n&quot;,</td>
      </tr>
      <tr>
        <td id="L2587" class="blob-num js-line-number" data-line-number="2587"></td>
        <td id="LC2587" class="blob-code js-file-line">       &quot;L0nSnntQEXEvcBowKiJeB24EbgHuj4iLgQ5gNkBmro6I+4HVwPvAl7PEhztJkvqFPQZUZp6/m11n\n&quot;,</td>
      </tr>
      <tr>
        <td id="L2588" class="blob-num js-line-number" data-line-number="2588"></td>
        <td id="LC2588" class="blob-code js-file-line">       &quot;7ub4bwLf7GtRkiR5n5IkqUgGlCSpSD6LT5L2QyNuWB2sDChJ2kfO+6ovh/gkSUUyoCRJRTKgJElF\n&quot;,</td>
      </tr>
      <tr>
        <td id="L2589" class="blob-num js-line-number" data-line-number="2589"></td>
        <td id="LC2589" class="blob-code js-file-line">       &quot;MqAkSUUyoCRJRTKgJElFMqAkSUUyoCRJRTKgJElFMqAkSUUyoCRJRTKgJElFMqAkSUUyoCRJRTKg\n&quot;,</td>
      </tr>
      <tr>
        <td id="L2590" class="blob-num js-line-number" data-line-number="2590"></td>
        <td id="LC2590" class="blob-code js-file-line">       &quot;JElFMqAkSUUyoCRJRTKgJElFMqAkSUUyoCRJRTKgJElFMqAkSUUyoCRJRTKgJElFMqAkSUUyoCRJ\n&quot;,</td>
      </tr>
      <tr>
        <td id="L2591" class="blob-num js-line-number" data-line-number="2591"></td>
        <td id="LC2591" class="blob-code js-file-line">       &quot;RTKgJElFMqAkSUWqOqAi4rqIWBURz0fEPRHxoYgYGRHLI+LliFgWEU21LFaSNHhUFVARMQm4BDg5\n&quot;,</td>
      </tr>
      <tr>
        <td id="L2592" class="blob-num js-line-number" data-line-number="2592"></td>
        <td id="LC2592" class="blob-code js-file-line">       &quot;M08ChgJzgPnA8sw8Hnissi5J0n6rtgf1DrANODQihgGHAm8A5wCtlWNagXP7XKEkaVCqKqAy8y3g\n&quot;,</td>
      </tr>
      <tr>
        <td id="L2593" class="blob-num js-line-number" data-line-number="2593"></td>
        <td id="LC2593" class="blob-code js-file-line">       &quot;fwCv0RNMXZm5HBiTmZ2VwzqBMTWpUpI06FQ7xHcc8BVgEtAMHBYRc7c/JjMTyL4WKEkanIZVed40\n&quot;,</td>
      </tr>
      <tr>
        <td id="L2594" class="blob-num js-line-number" data-line-number="2594"></td>
        <td id="LC2594" class="blob-code js-file-line">       &quot;4H9n5psAEfFPwH8BNkbE0Zm5MSLGApt2dXJ7+4Le5ebmFpqbW6osQ5LUH7S1tdHW1rZf51QbUC8B\n&quot;,</td>
      </tr>
      <tr>
        <td id="L2595" class="blob-num js-line-number" data-line-number="2595"></td>
        <td id="LC2595" class="blob-code js-file-line">       &quot;X4uIQ4B3gTOBlcC/ARcC36r8/uCuTp42bUGVHytJ6o9aWlpoaWnpXV+4cOFez6kqoDLzuYhYDLQD\n&quot;,</td>
      </tr>
      <tr>
        <td id="L2596" class="blob-num js-line-number" data-line-number="2596"></td>
        <td id="LC2596" class="blob-code js-file-line">       &quot;3cDTwI+Aw4H7I+JioAOYXU37kiRV24MiM78NfHunzW/R05uSJKlPfJKEJKlIBpQkqUgGlCSpSAaU\n&quot;,</td>
      </tr>
      <tr>
        <td id="L2597" class="blob-num js-line-number" data-line-number="2597"></td>
        <td id="LC2597" class="blob-code js-file-line">       &quot;JKlIBpQkqUgGlCSpSAaUJKlIBpQkqUgGlCSpSAaUJKlIBpQkqUgGlCSpSAaUJKlIBpQkqUgGlCSp\n&quot;,</td>
      </tr>
      <tr>
        <td id="L2598" class="blob-num js-line-number" data-line-number="2598"></td>
        <td id="LC2598" class="blob-code js-file-line">       &quot;SAaUJKlIBpQkqUgGlCSpSAaUJKlIBpQkqUgGlCSpSAaUJKlIBpQkqUgGlCSpSAaUJKlIBpQkqUgG\n&quot;,</td>
      </tr>
      <tr>
        <td id="L2599" class="blob-num js-line-number" data-line-number="2599"></td>
        <td id="LC2599" class="blob-code js-file-line">       &quot;lCSpSAaUJKlIBpQkqUgGlCSpSAaUJKlIBpQkqUgGlCSpSFUHVEQ0RcQDEfFiRKyOiE9FxMiIWB4R\n&quot;,</td>
      </tr>
      <tr>
        <td id="L2600" class="blob-num js-line-number" data-line-number="2600"></td>
        <td id="LC2600" class="blob-code js-file-line">       &quot;L0fEsohoqmWxkqTBoy89qH8A/iUzTwD+E/ASMB9YnpnHA49V1iVJ2m9VBVREHAlMz8w7ATLz/czc\n&quot;,</td>
      </tr>
      <tr>
        <td id="L2601" class="blob-num js-line-number" data-line-number="2601"></td>
        <td id="LC2601" class="blob-code js-file-line">       &quot;DJwDtFYOawXOrUmVkqRBp9oe1LHA7yNiUUQ8HRH/GBEjgDGZ2Vk5phMYU5MqJUmDzrA+nHcycHlm\n&quot;,</td>
      </tr>
      <tr>
        <td id="L2602" class="blob-num js-line-number" data-line-number="2602"></td>
        <td id="LC2602" class="blob-code js-file-line">       &quot;PhUR32Wn4bzMzIjIXZ3c3r6gd7m5uYXm5pYqy5Ak9QdtbW20tbXt1znVBtQ6YF1mPlVZfwC4DtgY\n&quot;,</td>
      </tr>
      <tr>
        <td id="L2603" class="blob-num js-line-number" data-line-number="2603"></td>
        <td id="LC2603" class="blob-code js-file-line">       &quot;EUdn5saIGAts2tXJ06YtqPJjJUn9UUtLCy0tLb3rCxcu3Os5VQ3xZeZG4PWIOL6y6UxgFfBz4MLK\n&quot;,</td>
      </tr>
      <tr>
        <td id="L2604" class="blob-num js-line-number" data-line-number="2604"></td>
        <td id="LC2604" class="blob-code js-file-line">       &quot;tguBB6tpX5KkantQAFcAP4mI4cAa4CJgKHB/RFwMdACz+1yhJGlQqjqgMvM54BO72HVm9eVIktTD\n&quot;,</td>
      </tr>
      <tr>
        <td id="L2605" class="blob-num js-line-number" data-line-number="2605"></td>
        <td id="LC2605" class="blob-code js-file-line">       &quot;J0lIkopkQEmSimRASZKKZEBJkopkQEmSimRASZKKZEBJkopkQEmSimRASZKKZEBJkopkQEmSimRA\n&quot;,</td>
      </tr>
      <tr>
        <td id="L2606" class="blob-num js-line-number" data-line-number="2606"></td>
        <td id="LC2606" class="blob-code js-file-line">       &quot;SZKKZEBJkopkQEmSimRASZKKZEBJkopkQEmSimRASZKKZEBJkopkQEmSimRASZKKZEBJkopkQEmS\n&quot;,</td>
      </tr>
      <tr>
        <td id="L2607" class="blob-num js-line-number" data-line-number="2607"></td>
        <td id="LC2607" class="blob-code js-file-line">       &quot;imRASZKKZEBJkopkQEmSimRASZKKZEBJkopkQEmSimRASZKKZEBJkopkQEmSitSngIqIoRHxTET8\n&quot;,</td>
      </tr>
      <tr>
        <td id="L2608" class="blob-num js-line-number" data-line-number="2608"></td>
        <td id="LC2608" class="blob-code js-file-line">       &quot;vLI+MiKWR8TLEbEsIppqU6YkabDpaw/qSmA1kJX1+cDyzDweeKyyLknSfqs6oCJiHHA2cDsQlc3n\n&quot;,</td>
      </tr>
      <tr>
        <td id="L2609" class="blob-num js-line-number" data-line-number="2609"></td>
        <td id="LC2609" class="blob-code js-file-line">       &quot;AK2V5Vbg3D5VJ0katPrSg7oV+CrQvd22MZnZWVnuBMb0oX1J0iBWVUBFxN8CmzLzGf7Se9pBZiZ/\n&quot;,</td>
      </tr>
      <tr>
        <td id="L2610" class="blob-num js-line-number" data-line-number="2610"></td>
        <td id="LC2610" class="blob-code js-file-line">       &quot;GfqTJGm/DKvyvL8GzomIs4GDgSMi4i6gMyKOzsyNETEW2LSrk9vbF/QuNze30NzcUmUZkqT+oK2t\n&quot;,</td>
      </tr>
      <tr>
        <td id="L2611" class="blob-num js-line-number" data-line-number="2611"></td>
        <td id="LC2611" class="blob-code js-file-line">       &quot;jba2tv06J3o6OtWLiNOAazNzZkR8G3gzM78VEfOBpsycv9PxeemltetY/fSx8cy69eyatLX27rU8\n&quot;,</td>
      </tr>
      <tr>
        <td id="L2612" class="blob-num js-line-number" data-line-number="2612"></td>
        <td id="LC2612" class="blob-code js-file-line">       &quot;et+jNWlLkrR7EUFm7nIE7gO1ug/qg8S5BfibiHgZOL2yLknSfqt2iK9XZj4OPF5Zfgs4s69tSpLk\n&quot;,</td>
      </tr>
      <tr>
        <td id="L2613" class="blob-num js-line-number" data-line-number="2613"></td>
        <td id="LC2613" class="blob-code js-file-line">       &quot;kyQkSUUyoCRJRTKgJElFMqAkSUXq8yQJ7b85cy6jq6s2bTU1wZIlP6xNY5JUEAOqAbq6YOLE2oTK\n&quot;,</td>
      </tr>
      <tr>
        <td id="L2614" class="blob-num js-line-number" data-line-number="2614"></td>
        <td id="LC2614" class="blob-code js-file-line">       &quot;2rWX1aQdSSqNQ3ySpCIZUJKkIhlQkqQiGVCSpCIZUJKkIhlQkqQiGVCSpCIZUJKkIhlQkqQiGVCS\n&quot;,</td>
      </tr>
      <tr>
        <td id="L2615" class="blob-num js-line-number" data-line-number="2615"></td>
        <td id="LC2615" class="blob-code js-file-line">       &quot;pCL5qKN+7rmXfsGM82bUrL2mg5tY0rqkZu1JUrUMqH5u27D3mDh3Ys3aW3v32pq1JUl94RCfJKlI\n&quot;,</td>
      </tr>
      <tr>
        <td id="L2616" class="blob-num js-line-number" data-line-number="2616"></td>
        <td id="LC2616" class="blob-code js-file-line">       &quot;BpQkqUgGlCSpSAaUJKlIBpQkqUgGlCSpSAaUJKlIBpQkqUgGlCSpSAaUJKlIBpQkqUgGlCSpSAaU\n&quot;,</td>
      </tr>
      <tr>
        <td id="L2617" class="blob-num js-line-number" data-line-number="2617"></td>
        <td id="LC2617" class="blob-code js-file-line">       &quot;JKlIPs1c/d6cC+fQ9W5XTdrydSNSOQwo9Xtd73bV7JUjvm5EKkdVQ3wRMT4ifhURqyLihYj4+8r2\n&quot;,</td>
      </tr>
      <tr>
        <td id="L2618" class="blob-num js-line-number" data-line-number="2618"></td>
        <td id="LC2618" class="blob-code js-file-line">       &quot;kRGxPCJejohlEdFU23IlSYNFtd9BbQOuyswTgVOAv4uIE4D5wPLMPB54rLIuSdJ+qyqgMnNjZj5b\n&quot;,</td>
      </tr>
      <tr>
        <td id="L2619" class="blob-num js-line-number" data-line-number="2619"></td>
        <td id="LC2619" class="blob-code js-file-line">       &quot;Wd4KvAgcA5wDtFYOawXOrUWRkqTBp8+z+CJiEjAVWAGMyczOyq5OYExf25ckDU59miQREYcBPwWu\n&quot;,</td>
      </tr>
      <tr>
        <td id="L2620" class="blob-num js-line-number" data-line-number="2620"></td>
        <td id="LC2620" class="blob-code js-file-line">       &quot;zMwtEdG7LzMzInJX57W3L+hdbm5uobm5pS9lSJIK19bWRltb236dU3VARcRB9ITTXZn5YGVzZ0Qc\n&quot;,</td>
      </tr>
      <tr>
        <td id="L2621" class="blob-num js-line-number" data-line-number="2621"></td>
        <td id="LC2621" class="blob-code js-file-line">       &quot;nZkbI2IssGlX506btqDaj5Uk9UMtLS20tLT0ri9cuHCv51QVUNHTVboDWJ2Z391u10PAhcC3Kr8/\n&quot;,</td>
      </tr>
      <tr>
        <td id="L2622" class="blob-num js-line-number" data-line-number="2622"></td>
        <td id="LC2622" class="blob-code js-file-line">       &quot;uIvTJdWQ94FpoKq2B3UqMBf4TUQ8U9l2HXALcH9EXAx0ALP7XKGkPfI+MA1UVQVUZj7J7idYnFl9\n&quot;,</td>
      </tr>
      <tr>
        <td id="L2623" class="blob-num js-line-number" data-line-number="2623"></td>
        <td id="LC2623" class="blob-code js-file-line">       &quot;OZIk9fBJEqq7OXMuo6s2I1IAPNexqmY9CEnlMKBUd11dMHHiD2vWXvsr42vWlqRy+DRzSVKRDChJ\n&quot;,</td>
      </tr>
      <tr>
        <td id="L2624" class="blob-num js-line-number" data-line-number="2624"></td>
        <td id="LC2624" class="blob-code js-file-line">       &quot;UpEc4pPUr9Vymj041b4kBpSkfq2W0+zBqfYlcYhPklQkA0qSVCQDSpJUJL+DkqR+bqA+j9GAkqR+\n&quot;,</td>
      </tr>
      <tr>
        <td id="L2625" class="blob-num js-line-number" data-line-number="2625"></td>
        <td id="LC2625" class="blob-code js-file-line">       &quot;bqA+j9EhPklSkQwoSVKRDChJUpEMKElSkQwoSVKRDChJUpEMKElSkQwoSVKRvFFXaoBavvbeV95r\n&quot;,</td>
      </tr>
      <tr>
        <td id="L2626" class="blob-num js-line-number" data-line-number="2626"></td>
        <td id="LC2626" class="blob-code js-file-line">       &quot;oDKgpAao5WvvfeW9BiqH+CRJRTKgJElFMqAkSUUyoCRJRTKgJElFMqAkSUVymrmkuvM+MO0LA0pS\n&quot;,</td>
      </tr>
      <tr>
        <td id="L2627" class="blob-num js-line-number" data-line-number="2627"></td>
        <td id="LC2627" class="blob-code js-file-line">       &quot;3XkfmPaFQ3ySpCIZUJKkIhlQkqQi1fw7qIiYAXwXGArcnpnfqvVnSFJ/VstJIjBwJ4rUNKAiYijw\n&quot;,</td>
      </tr>
      <tr>
        <td id="L2628" class="blob-num js-line-number" data-line-number="2628"></td>
        <td id="LC2628" class="blob-code js-file-line">       &quot;P4EzgfXAUxHxUGa+WMvP6e/eeusNJg68P0v7bLBfP/gzGOzX/7vfvcHUqT+vWXsDdaJIrYf4Pgm8\n&quot;,</td>
      </tr>
      <tr>
        <td id="L2629" class="blob-num js-line-number" data-line-number="2629"></td>
        <td id="LC2629" class="blob-code js-file-line">       &quot;kpkdmbkNWAJ8tsaf0e+99dYbjS6hoQb79YM/A69/cF//vqp1QB0DvL7d+rrKNkmS9kutAypr3J4k\n&quot;,</td>
      </tr>
      <tr>
        <td id="L2630" class="blob-num js-line-number" data-line-number="2630"></td>
        <td id="LC2630" class="blob-code js-file-line">       &quot;aZCKzNplSkScAizIzBmV9euA7u0nSkSEISZJIjNjT/trHVDDgH8FzgDeAFYC5ztJQpK0v2o6iy8z\n&quot;,</td>
      </tr>
      <tr>
        <td id="L2631" class="blob-num js-line-number" data-line-number="2631"></td>
        <td id="LC2631" class="blob-code js-file-line">       &quot;34+Iy4H/Rc808zsMJ0lSNWrag5IkqVbq+iSJiJgRES9FxG8j4r/X87NLEBF3RkRnRDzf6FoaISLG\n&quot;,</td>
      </tr>
      <tr>
        <td id="L2632" class="blob-num js-line-number" data-line-number="2632"></td>
        <td id="LC2632" class="blob-code js-file-line">       &quot;R8SvImJVRLwQEX/f6JrqKSIOjogVEfFsRKyOiJsbXVMjRMTQiHgmImp3I1A/EhEdEfGbys9gZaPr\n&quot;,</td>
      </tr>
      <tr>
        <td id="L2633" class="blob-num js-line-number" data-line-number="2633"></td>
        <td id="LC2633" class="blob-code js-file-line">       &quot;qbeIaIqIByLixcrfg1N2e2y9elCVm3j/le1u4mWQfT8VEdOBrcDizDyp0fXUW0QcDRydmc9GxGHA\n&quot;,</td>
      </tr>
      <tr>
        <td id="L2634" class="blob-num js-line-number" data-line-number="2634"></td>
        <td id="LC2634" class="blob-code js-file-line">       &quot;/wPOHWR/Bg7NzH+vfF/7JHBtZj7Z6LrqKSKuBv4KODwzz2l0PfUWEa8Cf5WZbzW6lkaIiFbg8cy8\n&quot;,</td>
      </tr>
      <tr>
        <td id="L2635" class="blob-num js-line-number" data-line-number="2635"></td>
        <td id="LC2635" class="blob-code js-file-line">       &quot;s/L3YERmbt7VsfXsQQ36m3gz8wng7UbX0SiZuTEzn60sbwVeBJobW1V9Zea/VxaH0/M97aD6Ryoi\n&quot;,</td>
      </tr>
      <tr>
        <td id="L2636" class="blob-num js-line-number" data-line-number="2636"></td>
        <td id="LC2636" class="blob-code js-file-line">       &quot;xgFnA7cDe5zBNcANymuPiCOB6Zl5J/TMW9hdOEF9A8qbeNUrIiYBU4EVja2kviJiSEQ8C3QCv8rM\n&quot;,</td>
      </tr>
      <tr>
        <td id="L2637" class="blob-num js-line-number" data-line-number="2637"></td>
        <td id="LC2637" class="blob-code js-file-line">       &quot;1Y2uqc5uBb4KdDe6kAZK4BcR0R4RlzS6mDo7Fvh9RCyKiKcj4h8j4tDdHVzPgHI2hgCoDO89AFxZ\n&quot;,</td>
      </tr>
      <tr>
        <td id="L2638" class="blob-num js-line-number" data-line-number="2638"></td>
        <td id="LC2638" class="blob-code js-file-line">       &quot;6UkNGpnZnZn/GRgHfDoiWhpcUt1ExN8CmzLzGQZpD6Li1MycCvxX4O8qQ/+DxTDgZOC2zDwZ+Ddg\n&quot;,</td>
      </tr>
      <tr>
        <td id="L2639" class="blob-num js-line-number" data-line-number="2639"></td>
        <td id="LC2639" class="blob-code js-file-line">       &quot;/u4OrmdArQe2f6LheHp6URpEIuIg4KfA3Zn5YKPraZTKsMZSYFqja6mjvwbOqXwHcy9wekQsbnBN\n&quot;,</td>
      </tr>
      <tr>
        <td id="L2640" class="blob-num js-line-number" data-line-number="2640"></td>
        <td id="LC2640" class="blob-code js-file-line">       &quot;dZeZGyq//x74Z3q+/hgs1gHrMvOpyvoD9ATWLtUzoNqBj0bEpIgYDpwHPFTHz1eDRUQAdwCrM/O7\n&quot;,</td>
      </tr>
      <tr>
        <td id="L2641" class="blob-num js-line-number" data-line-number="2641"></td>
        <td id="LC2641" class="blob-code js-file-line">       &quot;ja6n3iJiVEQ0VZYPAf4GeKaxVdVPZl6fmeMz81hgDvDLzJzX6LrqKSIOjYjDK8sjgLOAQTOrNzM3\n&quot;,</td>
      </tr>
      <tr>
        <td id="L2642" class="blob-num js-line-number" data-line-number="2642"></td>
        <td id="LC2642" class="blob-code js-file-line">       &quot;Aq9HxPGVTWcCq3Z3fM3fB7U73sQLEXEvcBrw4Yh4HbgxMxc1uKx6OhWYC/wmIj74h/m6zHy0gTXV\n&quot;,</td>
      </tr>
      <tr>
        <td id="L2643" class="blob-num js-line-number" data-line-number="2643"></td>
        <td id="LC2643" class="blob-code js-file-line">       &quot;01igNSKG0POfw7sy87EG19RIg3HYfwzwzz3/V2MY8JPMXNbYkuruCuAnlY7KGuCi3R3ojbqSpCL5\n&quot;,</td>
      </tr>
      <tr>
        <td id="L2644" class="blob-num js-line-number" data-line-number="2644"></td>
        <td id="LC2644" class="blob-code js-file-line">       &quot;yndJUpEMKElSkQwoSVKRDChJUpEMKElSkQwoSVKRDChJUpEMKElSkf4/IJCUrNIaN6UAAAAASUVO\n&quot;,</td>
      </tr>
      <tr>
        <td id="L2645" class="blob-num js-line-number" data-line-number="2645"></td>
        <td id="LC2645" class="blob-code js-file-line">       &quot;RK5CYII=\n&quot;</td>
      </tr>
      <tr>
        <td id="L2646" class="blob-num js-line-number" data-line-number="2646"></td>
        <td id="LC2646" class="blob-code js-file-line">      ],</td>
      </tr>
      <tr>
        <td id="L2647" class="blob-num js-line-number" data-line-number="2647"></td>
        <td id="LC2647" class="blob-code js-file-line">      &quot;text/plain&quot;: [</td>
      </tr>
      <tr>
        <td id="L2648" class="blob-num js-line-number" data-line-number="2648"></td>
        <td id="LC2648" class="blob-code js-file-line">       &quot;&lt;matplotlib.figure.Figure at 0x14bb5160&gt;&quot;</td>
      </tr>
      <tr>
        <td id="L2649" class="blob-num js-line-number" data-line-number="2649"></td>
        <td id="LC2649" class="blob-code js-file-line">      ]</td>
      </tr>
      <tr>
        <td id="L2650" class="blob-num js-line-number" data-line-number="2650"></td>
        <td id="LC2650" class="blob-code js-file-line">     },</td>
      </tr>
      <tr>
        <td id="L2651" class="blob-num js-line-number" data-line-number="2651"></td>
        <td id="LC2651" class="blob-code js-file-line">     &quot;metadata&quot;: {},</td>
      </tr>
      <tr>
        <td id="L2652" class="blob-num js-line-number" data-line-number="2652"></td>
        <td id="LC2652" class="blob-code js-file-line">     &quot;output_type&quot;: &quot;display_data&quot;</td>
      </tr>
      <tr>
        <td id="L2653" class="blob-num js-line-number" data-line-number="2653"></td>
        <td id="LC2653" class="blob-code js-file-line">    }</td>
      </tr>
      <tr>
        <td id="L2654" class="blob-num js-line-number" data-line-number="2654"></td>
        <td id="LC2654" class="blob-code js-file-line">   ],</td>
      </tr>
      <tr>
        <td id="L2655" class="blob-num js-line-number" data-line-number="2655"></td>
        <td id="LC2655" class="blob-code js-file-line">   &quot;source&quot;: [</td>
      </tr>
      <tr>
        <td id="L2656" class="blob-num js-line-number" data-line-number="2656"></td>
        <td id="LC2656" class="blob-code js-file-line">    &quot;fig, ax = plt.subplots()\n&quot;,</td>
      </tr>
      <tr>
        <td id="L2657" class="blob-num js-line-number" data-line-number="2657"></td>
        <td id="LC2657" class="blob-code js-file-line">    &quot;\n&quot;,</td>
      </tr>
      <tr>
        <td id="L2658" class="blob-num js-line-number" data-line-number="2658"></td>
        <td id="LC2658" class="blob-code js-file-line">    &quot;index = np.arange(6)\n&quot;,</td>
      </tr>
      <tr>
        <td id="L2659" class="blob-num js-line-number" data-line-number="2659"></td>
        <td id="LC2659" class="blob-code js-file-line">    &quot;bar_width = 0.3\n&quot;,</td>
      </tr>
      <tr>
        <td id="L2660" class="blob-num js-line-number" data-line-number="2660"></td>
        <td id="LC2660" class="blob-code js-file-line">    &quot;\n&quot;,</td>
      </tr>
      <tr>
        <td id="L2661" class="blob-num js-line-number" data-line-number="2661"></td>
        <td id="LC2661" class="blob-code js-file-line">    &quot;opacity = 0.6\n&quot;,</td>
      </tr>
      <tr>
        <td id="L2662" class="blob-num js-line-number" data-line-number="2662"></td>
        <td id="LC2662" class="blob-code js-file-line">    &quot;error_config = {&#39;ecolor&#39;: &#39;0.3&#39;}\n&quot;,</td>
      </tr>
      <tr>
        <td id="L2663" class="blob-num js-line-number" data-line-number="2663"></td>
        <td id="LC2663" class="blob-code js-file-line">    &quot;\n&quot;,</td>
      </tr>
      <tr>
        <td id="L2664" class="blob-num js-line-number" data-line-number="2664"></td>
        <td id="LC2664" class="blob-code js-file-line">    &quot;rects1 = plt.bar(index, np.array(np.squeeze(interSmeansKResult)), bar_width,\n&quot;,</td>
      </tr>
      <tr>
        <td id="L2665" class="blob-num js-line-number" data-line-number="2665"></td>
        <td id="LC2665" class="blob-code js-file-line">    &quot;                 alpha=opacity,\n&quot;,</td>
      </tr>
      <tr>
        <td id="L2666" class="blob-num js-line-number" data-line-number="2666"></td>
        <td id="LC2666" class="blob-code js-file-line">    &quot;                 color=&#39;b&#39;,\n&quot;,</td>
      </tr>
      <tr>
        <td id="L2667" class="blob-num js-line-number" data-line-number="2667"></td>
        <td id="LC2667" class="blob-code js-file-line">    &quot;                 label=&#39;Model&#39;)\n&quot;,</td>
      </tr>
      <tr>
        <td id="L2668" class="blob-num js-line-number" data-line-number="2668"></td>
        <td id="LC2668" class="blob-code js-file-line">    &quot;\n&quot;,</td>
      </tr>
      <tr>
        <td id="L2669" class="blob-num js-line-number" data-line-number="2669"></td>
        <td id="LC2669" class="blob-code js-file-line">    &quot;rects3 = plt.bar(index + bar_width, np.array(CapitalTarget), bar_width,\n&quot;,</td>
      </tr>
      <tr>
        <td id="L2670" class="blob-num js-line-number" data-line-number="2670"></td>
        <td id="LC2670" class="blob-code js-file-line">    &quot;                 alpha=opacity,\n&quot;,</td>
      </tr>
      <tr>
        <td id="L2671" class="blob-num js-line-number" data-line-number="2671"></td>
        <td id="LC2671" class="blob-code js-file-line">    &quot;                 color=&#39;g&#39;,\n&quot;,</td>
      </tr>
      <tr>
        <td id="L2672" class="blob-num js-line-number" data-line-number="2672"></td>
        <td id="LC2672" class="blob-code js-file-line">    &quot;                 label=&#39;Data&#39;)\n&quot;,</td>
      </tr>
      <tr>
        <td id="L2673" class="blob-num js-line-number" data-line-number="2673"></td>
        <td id="LC2673" class="blob-code js-file-line">    &quot;\n&quot;,</td>
      </tr>
      <tr>
        <td id="L2674" class="blob-num js-line-number" data-line-number="2674"></td>
        <td id="LC2674" class="blob-code js-file-line">    &quot;plt.tight_layout()\n&quot;,</td>
      </tr>
      <tr>
        <td id="L2675" class="blob-num js-line-number" data-line-number="2675"></td>
        <td id="LC2675" class="blob-code js-file-line">    &quot;plt.legend()\n&quot;,</td>
      </tr>
      <tr>
        <td id="L2676" class="blob-num js-line-number" data-line-number="2676"></td>
        <td id="LC2676" class="blob-code js-file-line">    &quot;plt.show()&quot;</td>
      </tr>
      <tr>
        <td id="L2677" class="blob-num js-line-number" data-line-number="2677"></td>
        <td id="LC2677" class="blob-code js-file-line">   ]</td>
      </tr>
      <tr>
        <td id="L2678" class="blob-num js-line-number" data-line-number="2678"></td>
        <td id="LC2678" class="blob-code js-file-line">  },</td>
      </tr>
      <tr>
        <td id="L2679" class="blob-num js-line-number" data-line-number="2679"></td>
        <td id="LC2679" class="blob-code js-file-line">  {</td>
      </tr>
      <tr>
        <td id="L2680" class="blob-num js-line-number" data-line-number="2680"></td>
        <td id="LC2680" class="blob-code js-file-line">   &quot;cell_type&quot;: &quot;markdown&quot;,</td>
      </tr>
      <tr>
        <td id="L2681" class="blob-num js-line-number" data-line-number="2681"></td>
        <td id="LC2681" class="blob-code js-file-line">   &quot;metadata&quot;: {},</td>
      </tr>
      <tr>
        <td id="L2682" class="blob-num js-line-number" data-line-number="2682"></td>
        <td id="LC2682" class="blob-code js-file-line">   &quot;source&quot;: [</td>
      </tr>
      <tr>
        <td id="L2683" class="blob-num js-line-number" data-line-number="2683"></td>
        <td id="LC2683" class="blob-code js-file-line">    &quot;Close. While the model very roughly matches the data, the point is really that this sort of thing\n&quot;,</td>
      </tr>
      <tr>
        <td id="L2684" class="blob-num js-line-number" data-line-number="2684"></td>
        <td id="LC2684" class="blob-code js-file-line">    &quot;can be done. Moreover, the basic idea can be extended to solve for some of the things that we have taken for given, such as wages, capital rates, etc. \n&quot;,</td>
      </tr>
      <tr>
        <td id="L2685" class="blob-num js-line-number" data-line-number="2685"></td>
        <td id="LC2685" class="blob-code js-file-line">    &quot;\n&quot;,</td>
      </tr>
      <tr>
        <td id="L2686" class="blob-num js-line-number" data-line-number="2686"></td>
        <td id="LC2686" class="blob-code js-file-line">    &quot;We have worked up an example here where we match binned data from the United States. These results can be extended to other parts of the world in several complementary ways. One idea, following Adamopolous and Restuccia, is to use the skill distribution from the United States data (which we have essentially estimated) as \&quot;the frontier\&quot; in a model that can then be used to document departures from efficiency elsewhere in the world. \n&quot;,</td>
      </tr>
      <tr>
        <td id="L2687" class="blob-num js-line-number" data-line-number="2687"></td>
        <td id="LC2687" class="blob-code js-file-line">    &quot;\n&quot;,</td>
      </tr>
      <tr>
        <td id="L2688" class="blob-num js-line-number" data-line-number="2688"></td>
        <td id="LC2688" class="blob-code js-file-line">    &quot;Another idea would be to fit a model like the above to specific regions or areas of a country with comparison of the distribution of \&quot;unobserved factors\&quot; across regions. If anomalies were observed, one could then explain them. \n&quot;,</td>
      </tr>
      <tr>
        <td id="L2689" class="blob-num js-line-number" data-line-number="2689"></td>
        <td id="LC2689" class="blob-code js-file-line">    &quot;\n&quot;,</td>
      </tr>
      <tr>
        <td id="L2690" class="blob-num js-line-number" data-line-number="2690"></td>
        <td id="LC2690" class="blob-code js-file-line">    &quot;A final idea would be to bring additional information to bear on the problem and build sources of inefficiency directly into the model. Adamopolous and Restuccia do this for different parts of the world. Our gold standard would be including strategic behavior on the part of  \&quot;large interests\&quot; in the model.&quot;</td>
      </tr>
      <tr>
        <td id="L2691" class="blob-num js-line-number" data-line-number="2691"></td>
        <td id="LC2691" class="blob-code js-file-line">   ]</td>
      </tr>
      <tr>
        <td id="L2692" class="blob-num js-line-number" data-line-number="2692"></td>
        <td id="LC2692" class="blob-code js-file-line">  },</td>
      </tr>
      <tr>
        <td id="L2693" class="blob-num js-line-number" data-line-number="2693"></td>
        <td id="LC2693" class="blob-code js-file-line">  {</td>
      </tr>
      <tr>
        <td id="L2694" class="blob-num js-line-number" data-line-number="2694"></td>
        <td id="LC2694" class="blob-code js-file-line">   &quot;cell_type&quot;: &quot;code&quot;,</td>
      </tr>
      <tr>
        <td id="L2695" class="blob-num js-line-number" data-line-number="2695"></td>
        <td id="LC2695" class="blob-code js-file-line">   &quot;execution_count&quot;: null,</td>
      </tr>
      <tr>
        <td id="L2696" class="blob-num js-line-number" data-line-number="2696"></td>
        <td id="LC2696" class="blob-code js-file-line">   &quot;metadata&quot;: {</td>
      </tr>
      <tr>
        <td id="L2697" class="blob-num js-line-number" data-line-number="2697"></td>
        <td id="LC2697" class="blob-code js-file-line">    &quot;collapsed&quot;: false</td>
      </tr>
      <tr>
        <td id="L2698" class="blob-num js-line-number" data-line-number="2698"></td>
        <td id="LC2698" class="blob-code js-file-line">   },</td>
      </tr>
      <tr>
        <td id="L2699" class="blob-num js-line-number" data-line-number="2699"></td>
        <td id="LC2699" class="blob-code js-file-line">   &quot;outputs&quot;: [],</td>
      </tr>
      <tr>
        <td id="L2700" class="blob-num js-line-number" data-line-number="2700"></td>
        <td id="LC2700" class="blob-code js-file-line">   &quot;source&quot;: []</td>
      </tr>
      <tr>
        <td id="L2701" class="blob-num js-line-number" data-line-number="2701"></td>
        <td id="LC2701" class="blob-code js-file-line">  }</td>
      </tr>
      <tr>
        <td id="L2702" class="blob-num js-line-number" data-line-number="2702"></td>
        <td id="LC2702" class="blob-code js-file-line"> ],</td>
      </tr>
      <tr>
        <td id="L2703" class="blob-num js-line-number" data-line-number="2703"></td>
        <td id="LC2703" class="blob-code js-file-line"> &quot;metadata&quot;: {</td>
      </tr>
      <tr>
        <td id="L2704" class="blob-num js-line-number" data-line-number="2704"></td>
        <td id="LC2704" class="blob-code js-file-line">  &quot;kernelspec&quot;: {</td>
      </tr>
      <tr>
        <td id="L2705" class="blob-num js-line-number" data-line-number="2705"></td>
        <td id="LC2705" class="blob-code js-file-line">   &quot;display_name&quot;: &quot;Python 2&quot;,</td>
      </tr>
      <tr>
        <td id="L2706" class="blob-num js-line-number" data-line-number="2706"></td>
        <td id="LC2706" class="blob-code js-file-line">   &quot;language&quot;: &quot;python&quot;,</td>
      </tr>
      <tr>
        <td id="L2707" class="blob-num js-line-number" data-line-number="2707"></td>
        <td id="LC2707" class="blob-code js-file-line">   &quot;name&quot;: &quot;python2&quot;</td>
      </tr>
      <tr>
        <td id="L2708" class="blob-num js-line-number" data-line-number="2708"></td>
        <td id="LC2708" class="blob-code js-file-line">  },</td>
      </tr>
      <tr>
        <td id="L2709" class="blob-num js-line-number" data-line-number="2709"></td>
        <td id="LC2709" class="blob-code js-file-line">  &quot;language_info&quot;: {</td>
      </tr>
      <tr>
        <td id="L2710" class="blob-num js-line-number" data-line-number="2710"></td>
        <td id="LC2710" class="blob-code js-file-line">   &quot;codemirror_mode&quot;: {</td>
      </tr>
      <tr>
        <td id="L2711" class="blob-num js-line-number" data-line-number="2711"></td>
        <td id="LC2711" class="blob-code js-file-line">    &quot;name&quot;: &quot;ipython&quot;,</td>
      </tr>
      <tr>
        <td id="L2712" class="blob-num js-line-number" data-line-number="2712"></td>
        <td id="LC2712" class="blob-code js-file-line">    &quot;version&quot;: 2</td>
      </tr>
      <tr>
        <td id="L2713" class="blob-num js-line-number" data-line-number="2713"></td>
        <td id="LC2713" class="blob-code js-file-line">   },</td>
      </tr>
      <tr>
        <td id="L2714" class="blob-num js-line-number" data-line-number="2714"></td>
        <td id="LC2714" class="blob-code js-file-line">   &quot;file_extension&quot;: &quot;.py&quot;,</td>
      </tr>
      <tr>
        <td id="L2715" class="blob-num js-line-number" data-line-number="2715"></td>
        <td id="LC2715" class="blob-code js-file-line">   &quot;mimetype&quot;: &quot;text/x-python&quot;,</td>
      </tr>
      <tr>
        <td id="L2716" class="blob-num js-line-number" data-line-number="2716"></td>
        <td id="LC2716" class="blob-code js-file-line">   &quot;name&quot;: &quot;python&quot;,</td>
      </tr>
      <tr>
        <td id="L2717" class="blob-num js-line-number" data-line-number="2717"></td>
        <td id="LC2717" class="blob-code js-file-line">   &quot;nbconvert_exporter&quot;: &quot;python&quot;,</td>
      </tr>
      <tr>
        <td id="L2718" class="blob-num js-line-number" data-line-number="2718"></td>
        <td id="LC2718" class="blob-code js-file-line">   &quot;pygments_lexer&quot;: &quot;ipython2&quot;,</td>
      </tr>
      <tr>
        <td id="L2719" class="blob-num js-line-number" data-line-number="2719"></td>
        <td id="LC2719" class="blob-code js-file-line">   &quot;version&quot;: &quot;2.7.8&quot;</td>
      </tr>
      <tr>
        <td id="L2720" class="blob-num js-line-number" data-line-number="2720"></td>
        <td id="LC2720" class="blob-code js-file-line">  }</td>
      </tr>
      <tr>
        <td id="L2721" class="blob-num js-line-number" data-line-number="2721"></td>
        <td id="LC2721" class="blob-code js-file-line"> },</td>
      </tr>
      <tr>
        <td id="L2722" class="blob-num js-line-number" data-line-number="2722"></td>
        <td id="LC2722" class="blob-code js-file-line"> &quot;nbformat&quot;: 4,</td>
      </tr>
      <tr>
        <td id="L2723" class="blob-num js-line-number" data-line-number="2723"></td>
        <td id="LC2723" class="blob-code js-file-line"> &quot;nbformat_minor&quot;: 0</td>
      </tr>
      <tr>
        <td id="L2724" class="blob-num js-line-number" data-line-number="2724"></td>
        <td id="LC2724" class="blob-code js-file-line">}</td>
      </tr>
</table>

  </div>

</div>

<a href="#jump-to-line" rel="facebox[.linejump]" data-hotkey="l" style="display:none">Jump to Line</a>
<div id="jump-to-line" style="display:none">
  <form accept-charset="UTF-8" class="js-jump-to-line-form">
    <input class="linejump-input js-jump-to-line-field" type="text" placeholder="Jump to line&hellip;" autofocus>
    <button type="submit" class="button">Go</button>
  </form>
</div>

        </div>

      </div><!-- /.repo-container -->
      <div class="modal-backdrop"></div>
    </div><!-- /.container -->
  </div><!-- /.site -->


    </div><!-- /.wrapper -->

      <div class="container">
  <div class="site-footer" role="contentinfo">
    <ul class="site-footer-links right">
        <li><a href="https://status.github.com/" data-ga-click="Footer, go to status, text:status">Status</a></li>
      <li><a href="https://developer.github.com" data-ga-click="Footer, go to api, text:api">API</a></li>
      <li><a href="http://training.github.com" data-ga-click="Footer, go to training, text:training">Training</a></li>
      <li><a href="http://shop.github.com" data-ga-click="Footer, go to shop, text:shop">Shop</a></li>
        <li><a href="https://github.com/blog" data-ga-click="Footer, go to blog, text:blog">Blog</a></li>
        <li><a href="https://github.com/about" data-ga-click="Footer, go to about, text:about">About</a></li>

    </ul>

    <a href="https://github.com" arial-label="Homepage">
      <span class="mega-octicon octicon-mark-github" title="GitHub"></span>
</a>
    <ul class="site-footer-links">
      <li>&copy; 2015 <span title="0.18618s from github-fe116-cp1-prd.iad.github.net">GitHub</span>, Inc.</li>
        <li><a href="https://github.com/site/terms" data-ga-click="Footer, go to terms, text:terms">Terms</a></li>
        <li><a href="https://github.com/site/privacy" data-ga-click="Footer, go to privacy, text:privacy">Privacy</a></li>
        <li><a href="https://github.com/security" data-ga-click="Footer, go to security, text:security">Security</a></li>
        <li><a href="https://github.com/contact" data-ga-click="Footer, go to contact, text:contact">Contact</a></li>
    </ul>
  </div>
</div>


    <div class="fullscreen-overlay js-fullscreen-overlay" id="fullscreen_overlay">
  <div class="fullscreen-container js-suggester-container">
    <div class="textarea-wrap">
      <textarea name="fullscreen-contents" id="fullscreen-contents" class="fullscreen-contents js-fullscreen-contents" placeholder=""></textarea>
      <div class="suggester-container">
        <div class="suggester fullscreen-suggester js-suggester js-navigation-container"></div>
      </div>
    </div>
  </div>
  <div class="fullscreen-sidebar">
    <a href="#" class="exit-fullscreen js-exit-fullscreen tooltipped tooltipped-w" aria-label="Exit Zen Mode">
      <span class="mega-octicon octicon-screen-normal"></span>
    </a>
    <a href="#" class="theme-switcher js-theme-switcher tooltipped tooltipped-w"
      aria-label="Switch themes">
      <span class="octicon octicon-color-mode"></span>
    </a>
  </div>
</div>



    

    <div id="ajax-error-message" class="flash flash-error">
      <span class="octicon octicon-alert"></span>
      <a href="#" class="octicon octicon-x flash-close js-ajax-error-dismiss" aria-label="Dismiss error"></a>
      Something went wrong with that request. Please try again.
    </div>


      <script crossorigin="anonymous" src="https://assets-cdn.github.com/assets/frameworks-fd3bd2d0c854fa5baa64e8b390de48b1eff4b59e1f38d1b1d695c4b5d835ab04.js"></script>
      <script async="async" crossorigin="anonymous" src="https://assets-cdn.github.com/assets/github-46628ff6533b28dfda2aeef282f8a3502316e88499a52a67ae0dd60479e3b950.js"></script>
      
      

  </body>
</html>

