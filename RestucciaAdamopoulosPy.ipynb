{
 "cells": [
  {
   "cell_type": "markdown",
   "metadata": {},
   "source": [
    "## Adamopoulos and Restuccia AER 2014  (port from MATLAB)"
   ]
  },
  {
   "cell_type": "markdown",
   "metadata": {},
   "source": [
    "Our first Ipython effort. Matt Baker did most of the heavy lifting of porting the A&R model from MATLAB. \n",
    "Their MATLAB code was not very readable (and at times downright cryptic) nor very efficient so we've cleaned things up a bit along the way."
   ]
  },
  {
   "cell_type": "code",
   "execution_count": 3,
   "metadata": {
    "collapsed": false
   },
   "outputs": [
    {
     "name": "stdout",
     "output_type": "stream",
     "text": [
      "Populating the interactive namespace from numpy and matplotlib\n"
     ]
    }
   ],
   "source": [
    "%pylab inline     \n",
    "from __future__ import division"
   ]
  },
  {
   "cell_type": "markdown",
   "metadata": {},
   "source": [
    "The model starts with a description as to how the  works. \n",
    "\n",
    "But first output in the non-agricultural sector is modeled this way:"
   ]
  },
  {
   "cell_type": "markdown",
   "metadata": {},
   "source": [
    "Production is Cobb-Douglas: $Y_n=AK_n^\\alpha N_n^{1-\\alpha}$"
   ]
  },
  {
   "cell_type": "markdown",
   "metadata": {},
   "source": [
    "This implies that we have simple expressions for the economy-wide wage $w$ and rental rate on capital $r$:\n",
    "\n",
    "$r=MPK=\\alpha A K^\\alpha_n N^{1-\\alpha}_n$\n",
    "\n",
    "which becomes:\n",
    "\n",
    "$r=\\alpha A \\left(\\frac{K_n}{N_n}\\right)^{\\alpha-1}$\n",
    "\n",
    "while we also have:\n",
    "\n",
    "$w=MPL=(1-\\alpha) A \\left(\\frac{K_n}{N_n}\\right)^{1-\\alpha}$"
   ]
  },
  {
   "cell_type": "markdown",
   "metadata": {},
   "source": [
    "The next part of the model is the agricultural sector. Here, we have heterogeneity in farm managers characterized by a \"skill\" variable $s$. The farm production function is:\n",
    "\n",
    "$y_a=A\\kappa \\left[\\theta k^\\rho+(1-\\theta)(sl)^\\rho \\right]^\\frac{\\gamma}{\\rho}$\n",
    "\n",
    "As Jonathan notes, this is a little different than Lucas's (1978) span of control, as $s$ here is augmenting $l$ - land - not overall production. That is, $s$ is not outside the brackets."
   ]
  },
  {
   "cell_type": "markdown",
   "metadata": {},
   "source": [
    "Before getting into solution, we can start the process of coding things up in Julia. Some simple aspects of the calibration involve normalization of $\\kappa$ and $A$ at unity. We also have values of $\\alpha$ and $\\gamma$ set from outside sources:"
   ]
  },
  {
   "cell_type": "code",
   "execution_count": 4,
   "metadata": {
    "collapsed": false
   },
   "outputs": [],
   "source": [
    "KAPPA_US=1\n",
    "A_US=1\n",
    "ALPHA=0.33\n",
    "GAMMA=0.54"
   ]
  },
  {
   "cell_type": "markdown",
   "metadata": {},
   "source": [
    "Some additional information that is required are distribution of the size of farms.  This information comes in two pieces. First, there is the fraction of each farm in each size class. Then, there is the distribution of land by size class. These two pieces of information are as follows (duly noting that I'm not exactly sure how these interact in the model at this point):"
   ]
  },
  {
   "cell_type": "code",
   "execution_count": 5,
   "metadata": {
    "collapsed": false
   },
   "outputs": [],
   "source": [
    "farm_pdf_data=[.1056, .2813, .0698, .0871, .0794, .0633, .0397, .0310, .0964, .0679, .0420, .0365]"
   ]
  },
  {
   "cell_type": "markdown",
   "metadata": {},
   "source": [
    "As alluded to above, the actual size of the bins are as follows:"
   ]
  },
  {
   "cell_type": "code",
   "execution_count": 6,
   "metadata": {
    "collapsed": false
   },
   "outputs": [],
   "source": [
    "land_pdf_data=[.0012, .0173, .0097, .0171, .0220, .0238, .0187, .0176, .0823, .01129, .01384, .05389 ]"
   ]
  },
  {
   "cell_type": "markdown",
   "metadata": {},
   "source": [
    "Some additional calibrated variables include: \n",
    "The average farm size (in the United States), \n",
    "The share of labor in agriculture in the United States, \n",
    "The United States capital labor ratio,\n",
    "The ratio of capital land ratio between smallest and largest farms,\n",
    "The ratio of agricultural to non-agricultural labor productivity, \n",
    "The long-run share of labor in agriculture, \n",
    "And the agricultural land income share. \n",
    "\n",
    "Respectively, these variables are:"
   ]
  },
  {
   "cell_type": "code",
   "execution_count": 7,
   "metadata": {
    "collapsed": false
   },
   "outputs": [],
   "source": [
    "AFS_US=169.249\n",
    "Na_US=.025\n",
    "KY_US=2.5\n",
    "kl_min_max_data=84.85\n",
    "paYNan_ratio=1.0/2.0\n",
    "PHI=0.010\n",
    "L_inc_sh=0.18"
   ]
  },
  {
   "cell_type": "markdown",
   "metadata": {},
   "source": [
    "The calibrated variables are then used to determine many of the quantities that are actually used in modeling. For one, we have the mysterious quantity:"
   ]
  },
  {
   "cell_type": "code",
   "execution_count": 8,
   "metadata": {
    "collapsed": false
   },
   "outputs": [],
   "source": [
    "rKa_qL_US=GAMMA/L_inc_sh-1"
   ]
  },
  {
   "cell_type": "markdown",
   "metadata": {},
   "source": [
    "Jonathan has pointed out that this is funny little equation results from Euler's Theorem: total factor payments add up to $\\gamma$ of output, with profits being what is left after this. Accordingly:\n",
    "\n",
    "$rK+qL=\\gamma F_KK+\\gamma F_LN=\\gamma Y_a$\n",
    "\n",
    "This implies:\n",
    "\n",
    "$\\frac{rK}{qL}+1=\\frac{\\gamma Y_a}{qL}$.\n",
    "\n",
    "We then have the above rKa_ql_US as the term $\\frac{rK}{qL}$ in the previous equation:\n",
    "\n",
    "$\\frac{rK}{qL}=\\frac{\\gamma Y_a}{qL}-1$.\n"
   ]
  },
  {
   "cell_type": "markdown",
   "metadata": {},
   "source": [
    "A next equation that is a little fishy is the following \"derived calibration\":"
   ]
  },
  {
   "cell_type": "code",
   "execution_count": 9,
   "metadata": {
    "collapsed": false
   },
   "outputs": [],
   "source": [
    "YN_US=(A_US**(1/(1-ALPHA)))*KY_US**(ALPHA/(1-ALPHA))"
   ]
  },
  {
   "cell_type": "markdown",
   "metadata": {},
   "source": [
    "In terms of nice formatting, I'm thinking this is worker productivity. That is, we have: \n",
    "\n",
    "$\\frac{Y_n}{N_n}=A^{\\frac{1}{1-\\alpha}}\\left(\\frac{K_n}{Y_n}\\right)^\\frac{\\alpha}{1-\\alpha}$"
   ]
  },
  {
   "cell_type": "markdown",
   "metadata": {},
   "source": [
    "The last expression is aggregate labor productivity, but it is hard to see where an expression like this could come from. But first, let's think about the goal, which is to write labor productivity as a function of the capital-output ratio. If we started with a function like:\n",
    "\n",
    "$Y_n=AK_n^\\alpha N_n^{1-\\alpha}$\n",
    "\n",
    "Now \"solve\" this for $N_n$ and write this as:\n",
    "\n",
    "$Y_n^{\\frac{1}{1-\\alpha}}=A^{\\frac{1}{1-\\alpha}}N_nK_n^{\\frac{\\alpha}{1-\\alpha}}$\n",
    "\n",
    "Now, we note that we can write this as follows:\n",
    "\n",
    "$Y_nY_n^\\frac{\\alpha}{1-\\alpha}=A^\\frac{1}{1-\\alpha}N_nK_n^\\frac{\\alpha}{1-\\alpha}$\n",
    "\n",
    "Now divide through by $Y_n^\\frac{\\alpha}{1-\\alpha}N_n$ to get the desired result.\n",
    "\n",
    "The few quantities of interest are calibrated as follows:"
   ]
  },
  {
   "cell_type": "code",
   "execution_count": 10,
   "metadata": {
    "collapsed": false
   },
   "outputs": [],
   "source": [
    "K_US=KY_US*YN_US\n",
    "LN_US=AFS_US*Na_US\n",
    "one_minus_XI=(1-GAMMA)/(1-ALPHA)*paYNan_ratio\n",
    "XI=1-one_minus_XI"
   ]
  },
  {
   "cell_type": "code",
   "execution_count": 11,
   "metadata": {
    "collapsed": false
   },
   "outputs": [
    {
     "data": {
      "text/plain": [
       "0.34328358208955223"
      ]
     },
     "execution_count": 11,
     "metadata": {},
     "output_type": "execute_result"
    }
   ],
   "source": [
    "one_minus_XI"
   ]
  },
  {
   "cell_type": "markdown",
   "metadata": {},
   "source": [
    "What is this variable $\\xi$? It is called the \"value productivity ratio\" in the paper. The operative assumption is that working in nonagriculture is subject to a tax. So non-agricultural worker $w(1-\\xi)$. "
   ]
  },
  {
   "cell_type": "markdown",
   "metadata": {},
   "source": [
    "It is a little hard for me to see why this is needed or where it is coming from at the moment. Anyways, we start out with a grid of guesses for $\\mu$ and $\\sigma$, and also provide some other details of the search for the mean and variance:"
   ]
  },
  {
   "cell_type": "code",
   "execution_count": 12,
   "metadata": {
    "collapsed": false
   },
   "outputs": [],
   "source": [
    "import numpy as np\n",
    "mean=np.linspace(-1.836,-1.8,20)\n",
    "var=np.linspace(4.6553,4.75,20)\n",
    "DIFF=1000\n",
    "C=np.zeros((12,1))\n",
    "MU_min=0.0\n",
    "SIGMA_min=0.0\n",
    "\n",
    "MU=mean[1]\n",
    "SIGMA=var[1]"
   ]
  },
  {
   "cell_type": "markdown",
   "metadata": {},
   "source": [
    "Actually, the above entries should be looped over, but aren't in the code, which is presumably operating from the optimum values of $\\mu$ and $\\sigma$. Now, we make a grid of points and approximate a log-normal. First, we need a couple of functions that create a discretized log-normal distribution. While there are probably better ways to do this than following exactly what R/A did,let's in fact just follow along. First, let's get the package we need:"
   ]
  },
  {
   "cell_type": "code",
   "execution_count": 13,
   "metadata": {
    "collapsed": false
   },
   "outputs": [],
   "source": [
    "from scipy.integrate import quad \n",
    "import math"
   ]
  },
  {
   "cell_type": "markdown",
   "metadata": {},
   "source": [
    "We now build two functions. The first gives a log-normal pdf, while the second gives an approximate value for the cdf at the given point. Not how it might be beneficial to bring in stuff like \"log\" right off the bat, rather than having to use the \"np\" handle every time. Also note how ^ (squared) is instead **. "
   ]
  },
  {
   "cell_type": "code",
   "execution_count": 14,
   "metadata": {
    "collapsed": false
   },
   "outputs": [],
   "source": [
    "def lognorm_pdf(x,m,v):\n",
    "    s=np.sqrt(v)\n",
    "    out1=np.divide(1.,np.multiply(x,s*np.sqrt(2.*math.pi)))\n",
    "    out2=np.exp(np.divide((-(np.log(x)-m)**2),(2*v)))\n",
    "    return out1*out2"
   ]
  },
  {
   "cell_type": "markdown",
   "metadata": {},
   "source": [
    "The above might be viewed as a more efficient coding of the lognormal pdf than R/A use. We also need a function that gives an approximation to the integrated lognormal:"
   ]
  },
  {
   "cell_type": "code",
   "execution_count": 15,
   "metadata": {
    "collapsed": false
   },
   "outputs": [],
   "source": [
    "def lognorm_discrete(x1,x2,m,v):\n",
    "    out=quad(lognorm_pdf,x1,x2,(m,v))\n",
    "    return out"
   ]
  },
  {
   "cell_type": "markdown",
   "metadata": {},
   "source": [
    "Now, we make a little loop that approximates the log normal we programmed above"
   ]
  },
  {
   "cell_type": "code",
   "execution_count": 16,
   "metadata": {
    "collapsed": false
   },
   "outputs": [],
   "source": [
    "s_n=6000\n",
    "s_grid=np.logspace(-5.5,2.,s_n)\n",
    "s_prob=np.zeros((s_n,1))\n",
    "VAR_s=SIGMA**2"
   ]
  },
  {
   "cell_type": "markdown",
   "metadata": {},
   "source": [
    "We do have to endulge a few shenanigans here, mainly because s_grid above is not really a matrix as we would like it to be, but really just an array filled full of a list of numbers. Accordingly, let's convert it into the same form as the variables we are deriving from it:"
   ]
  },
  {
   "cell_type": "code",
   "execution_count": 17,
   "metadata": {
    "collapsed": false
   },
   "outputs": [
    {
     "data": {
      "text/plain": [
       "(6000L, 1L)"
      ]
     },
     "execution_count": 17,
     "metadata": {},
     "output_type": "execute_result"
    }
   ],
   "source": [
    "s_grid=np.asmatrix(s_grid)\n",
    "s_grid=s_grid.T\n",
    "np.shape(s_grid)"
   ]
  },
  {
   "cell_type": "code",
   "execution_count": 18,
   "metadata": {
    "collapsed": false
   },
   "outputs": [
    {
     "data": {
      "text/plain": [
       "matrix([[  3.16227766e-06]])"
      ]
     },
     "execution_count": 18,
     "metadata": {},
     "output_type": "execute_result"
    }
   ],
   "source": [
    "s_grid[0]"
   ]
  },
  {
   "cell_type": "markdown",
   "metadata": {},
   "source": [
    "Now, we loop over the above and \"fill in\" the probability grid so that we have a whole probability distribution:\n"
   ]
  },
  {
   "cell_type": "code",
   "execution_count": 19,
   "metadata": {
    "collapsed": false
   },
   "outputs": [],
   "source": [
    "for i in range(0,s_n-1):\n",
    "    if i==0:\n",
    "        d=(s_grid[1]-s_grid[0])/2\n",
    "        s_prob[i]=lognorm_discrete(s_grid[i]-d,s_grid[i]+d,MU,VAR_s)[0]\n",
    "    else:\n",
    "        d=(s_grid[i]-s_grid[i-1])/2\n",
    "        s_prob[i]=lognorm_discrete(s_grid[i]-d,s_grid[i]+d,MU,VAR_s)[0]"
   ]
  },
  {
   "cell_type": "markdown",
   "metadata": {},
   "source": [
    "Let's see what this looks like once we have approximated it. First, we import the plot library, and then just plot the numbers:"
   ]
  },
  {
   "cell_type": "code",
   "execution_count": 20,
   "metadata": {
    "collapsed": false
   },
   "outputs": [
    {
     "data": {
      "image/png": "[encoded data removed]",
      "text/plain": [
       "<matplotlib.figure.Figure at 0xaa78fd0>"
      ]
     },
     "metadata": {},
     "output_type": "display_data"
    }
   ],
   "source": [
    "import matplotlib.pyplot as plt\n",
    "plt.plot(s_prob)\n",
    "plt.show()"
   ]
  },
  {
   "cell_type": "markdown",
   "metadata": {},
   "source": [
    "I can't see where I've made a mistake, so perhaps that is correct, even though it looks a little goofy. Continuing on, we now get the sum of all the probabilities and see if they sum to unity:"
   ]
  },
  {
   "cell_type": "code",
   "execution_count": 21,
   "metadata": {
    "collapsed": false
   },
   "outputs": [
    {
     "data": {
      "text/plain": [
       "0.90506654100125528"
      ]
     },
     "execution_count": 21,
     "metadata": {},
     "output_type": "execute_result"
    }
   ],
   "source": [
    "np.sum(s_prob)"
   ]
  },
  {
   "cell_type": "markdown",
   "metadata": {},
   "source": [
    "Thus, we have to renormalize, even though this is starting to seem a little sketchy...\n",
    "\n",
    "**JC:** XX in the MATLAB code is 0.90539 so ever so slightly off.."
   ]
  },
  {
   "cell_type": "code",
   "execution_count": 22,
   "metadata": {
    "collapsed": false
   },
   "outputs": [],
   "source": [
    "XX=sum(s_prob)\n",
    "if XX<1:\n",
    "    s_prob=s_prob+(1-XX)/s_n"
   ]
  },
  {
   "cell_type": "code",
   "execution_count": 23,
   "metadata": {
    "collapsed": false
   },
   "outputs": [
    {
     "data": {
      "image/png": "[encoded data removed]",
      "text/plain": [
       "<matplotlib.figure.Figure at 0xaa78e80>"
      ]
     },
     "metadata": {},
     "output_type": "display_data"
    }
   ],
   "source": [
    "plt.plot(s_prob)\n",
    "plt.show()"
   ]
  },
  {
   "cell_type": "markdown",
   "metadata": {},
   "source": [
    "Because I find it perplexing that there is such a large truncation region of the graph, let's see if we can replicate the results with actual functions. "
   ]
  },
  {
   "cell_type": "code",
   "execution_count": 24,
   "metadata": {
    "collapsed": false
   },
   "outputs": [],
   "source": [
    "import scipy.stats as sps"
   ]
  },
  {
   "cell_type": "markdown",
   "metadata": {},
   "source": [
    "Now, in Python, the log-normal is denoted a bit differently than R/A denote it. The python function uses parameters sc, sh, and lo together as follows:\n",
    "\n",
    "$f(x|sh,lo,sc)=\\frac{1}{(x-lo)sh\\sqrt{2\\pi}}e^{\\frac{-(\\ln(x-lo)-ln(sc))^2}{2sh^2}}$\n",
    "\n",
    "So, if the Python function is to correspond with R/A's function, we need $lo=0$. Moreover, since $\\mu=ln(sc)$, we need $sc=e^\\mu$. Finally, R/A parameterize the variance, where $v=sh^2$. Therefore, we need $sh=\\sqrt{v}$. To check this out:"
   ]
  },
  {
   "cell_type": "code",
   "execution_count": 25,
   "metadata": {
    "collapsed": false
   },
   "outputs": [
    {
     "name": "stdout",
     "output_type": "stream",
     "text": [
      "0.13776596115\n",
      "0.13776596115\n",
      "0.414112858205\n"
     ]
    }
   ],
   "source": [
    "print sps.lognorm.pdf(2,np.sqrt(2),0,np.exp(1))\n",
    "print lognorm_pdf(2,1,2)\n",
    "print sps.lognorm.cdf(2,np.sqrt(2),0,np.exp(1))"
   ]
  },
  {
   "cell_type": "markdown",
   "metadata": {},
   "source": [
    "We can also use the lognorm CDF function to perhaps do a bit better than R/A, or at least check their work. We want the mass between the \"slices,\" so:"
   ]
  },
  {
   "cell_type": "code",
   "execution_count": 26,
   "metadata": {
    "collapsed": false
   },
   "outputs": [],
   "source": [
    "s_prob2=np.zeros((s_n,1))\n",
    "for i in range(0,s_n-1):\n",
    "    if i==0:\n",
    "        d=(s_grid[1]-s_grid[0])/2\n",
    "        s_prob2[i]=sps.lognorm.cdf(s_grid[i]+d,np.sqrt(VAR_s),0,np.exp(MU))-sps.lognorm.cdf(s_grid[i]-d,np.sqrt(VAR_s),0,np.exp(MU))\n",
    "    else:\n",
    "        d=(s_grid[i]-s_grid[i-1])/2\n",
    "        s_prob2[i]=sps.lognorm.cdf(s_grid[i]+d,np.sqrt(VAR_s),0,np.exp(MU))-sps.lognorm.cdf(s_grid[i]-d,np.sqrt(VAR_s),0,np.exp(MU))\n"
   ]
  },
  {
   "cell_type": "markdown",
   "metadata": {},
   "source": [
    "While we are at it... let's try something even simpler"
   ]
  },
  {
   "cell_type": "code",
   "execution_count": 27,
   "metadata": {
    "collapsed": false
   },
   "outputs": [
    {
     "data": {
      "text/plain": [
       "0.1597563777573214"
      ]
     },
     "execution_count": 27,
     "metadata": {},
     "output_type": "execute_result"
    }
   ],
   "source": [
    "np.exp(MU)"
   ]
  },
  {
   "cell_type": "code",
   "execution_count": 28,
   "metadata": {
    "collapsed": false
   },
   "outputs": [],
   "source": [
    "s_prob3=np.zeros((s_n,1))\n",
    "d = s_grid[1:]-s_grid[:-1]\n",
    "C_top = sps.lognorm.cdf(s_grid[1:],np.sqrt(VAR_s),0,np.exp(MU))\n",
    "C_low = sps.lognorm.cdf(s_grid[:-1],np.sqrt(VAR_s),0,np.exp(MU))\n",
    "s_prob3 = C_top - C_low\n",
    "s_prob3 =  np.append(s_prob2[0],s_prob3)\n"
   ]
  },
  {
   "cell_type": "code",
   "execution_count": 29,
   "metadata": {
    "collapsed": false
   },
   "outputs": [
    {
     "data": {
      "text/plain": [
       "array([  1.65805164e-05,   1.65685468e-05,   1.65923419e-05, ...,\n",
       "         9.50706677e-05,   9.49896307e-05,   9.49086266e-05])"
      ]
     },
     "execution_count": 29,
     "metadata": {},
     "output_type": "execute_result"
    }
   ],
   "source": [
    "len(s_prob3)\n",
    "s_prob3"
   ]
  },
  {
   "cell_type": "code",
   "execution_count": 30,
   "metadata": {
    "collapsed": false
   },
   "outputs": [
    {
     "data": {
      "text/plain": [
       "(array([  1.65805164e-05]),\n",
       " array([  1.65566015e-05]),\n",
       " array([  1.65803762e-05]),\n",
       " 1.6580516426216441e-05,\n",
       " 1.6568546826193492e-05)"
      ]
     },
     "execution_count": 30,
     "metadata": {},
     "output_type": "execute_result"
    }
   ],
   "source": [
    "s_prob2[0],s_prob2[1],s_prob2[2],s_prob3[0],s_prob3[1]"
   ]
  },
  {
   "cell_type": "code",
   "execution_count": 59,
   "metadata": {
    "collapsed": false
   },
   "outputs": [
    {
     "data": {
      "text/plain": [
       "numpy.ndarray"
      ]
     },
     "execution_count": 59,
     "metadata": {},
     "output_type": "execute_result"
    }
   ],
   "source": [
    "type(s_prob3)"
   ]
  },
  {
   "cell_type": "code",
   "execution_count": 31,
   "metadata": {
    "collapsed": false
   },
   "outputs": [
    {
     "data": {
      "image/png": "[encoded data removed]",
      "text/plain": [
       "<matplotlib.figure.Figure at 0xed72d30>"
      ]
     },
     "metadata": {},
     "output_type": "display_data"
    }
   ],
   "source": [
    "difference=abs(s_prob-s_prob2)\n",
    "plt.plot(difference)\n",
    "plt.show()"
   ]
  },
  {
   "cell_type": "code",
   "execution_count": 32,
   "metadata": {
    "collapsed": false
   },
   "outputs": [
    {
     "data": {
      "text/plain": [
       "0.00024643122452328026"
      ]
     },
     "execution_count": 32,
     "metadata": {},
     "output_type": "execute_result"
    }
   ],
   "source": [
    "difference=abs(s_prob2-s_prob3)\n",
    "#plt.plot(difference)\n",
    "#plt.show()\n",
    "difference.max()"
   ]
  },
  {
   "cell_type": "markdown",
   "metadata": {},
   "source": [
    "So they are very close, a couple of thousandths off. It is also encouraging to know we got the programming correct.  Let's now try to code in the calibration_eval function that R/A use. We also need some guesses for other stuff, such as $\\rho$"
   ]
  },
  {
   "cell_type": "code",
   "execution_count": 33,
   "metadata": {
    "collapsed": false
   },
   "outputs": [],
   "source": [
    "RHO=.24"
   ]
  },
  {
   "cell_type": "markdown",
   "metadata": {},
   "source": [
    "Because one has to be very careful with certain types of objects (particularly matrices), I'm going to break up the calibration_eval function a little bit more than R/A do. "
   ]
  },
  {
   "cell_type": "code",
   "execution_count": 34,
   "metadata": {
    "collapsed": false
   },
   "outputs": [],
   "source": [
    "def calibration_eval(x,rKa_qL_US,Na_US):    \n",
    "    \n",
    "    KNn_US=x[0]                             # non-ag capital-labor\n",
    "    THETA=x[1]                              # parameter in Ag production       \n",
    "    pa_US=x[2]                              # relative price of agricultural goods\n",
    "    \n",
    "    w_US=(1-ALPHA)*A_US*KNn_US**ALPHA       # w = MPLNa     \n",
    "    r_US=ALPHA*A_US*KNn_US**(ALPHA-1)\n",
    "    Ka_US=K_US-(KNn_US*(1-Na_US))\n",
    "    KNa_US=Ka_US/Na_US\n",
    "    YNn_US=A_US*(KNn_US**ALPHA)                                                        #not used?                  \n",
    "    q_r_US=(rKa_qL_US**(-1))*Ka_US/LN_US\n",
    "    q_US=q_r_US*r_US\n",
    "    aBAR=(1/(pa_US*(1-PHI)))*((w_US*(1-XI)*Na_US/((1-GAMMA)))-PHI*(w_US*(1-XI)+q_US*LN_US+r_US*K_US))  #not used?\n",
    "    psi_s_vec1=THETA*((THETA*q_r_US/(1-THETA))**(RHO/(1-RHO)))*np.ones((s_n,1))\n",
    "    psi_s_vec2=(1-THETA)*np.power(s_grid,(RHO/(1-RHO)))\n",
    "    psi_s_vec=psi_s_vec1+psi_s_vec2\n",
    "    l_vec1=((pa_US*GAMMA*(1-THETA)*KAPPA_US*A_US/q_US)**(1/(1-GAMMA)))\n",
    "    l_vec2=(np.power(psi_s_vec,((GAMMA-RHO)/(RHO*(1-GAMMA)))))\n",
    "    l_vec3=(np.power(s_grid,(RHO/(1-RHO))))\n",
    "    l_vec=l_vec1*np.multiply(l_vec2,l_vec3)\n",
    "    k_l_vec=((THETA*q_r_US/(1-THETA))**(1/(1-RHO)))*((np.power(s_grid,(-RHO/(1-RHO)))))\n",
    "    k_vec = np.multiply(k_l_vec , l_vec)\n",
    "    ya_vec=KAPPA_US*A_US*np.power((THETA*np.power(k_vec,RHO)+(1-THETA)*np.power(np.multiply(s_grid,l_vec),RHO)),GAMMA/RHO)\n",
    "    PI_vec=(1-GAMMA)*pa_US*ya_vec\n",
    "    f1=(1-XI)*w_US-np.sum(np.multiply(s_prob,PI_vec))\n",
    "    f2=KNa_US - np.sum(np.multiply(s_prob,k_vec))\n",
    "    f3=LN_US - Na_US*(np.sum(np.multiply(s_prob,l_vec)))\n",
    "    f=f1,f2,f3\n",
    "    g=np.dot(f,f)\n",
    "    return g"
   ]
  },
  {
   "cell_type": "markdown",
   "metadata": {},
   "source": [
    "**JC:**  As of 1/21 it is reproducing the matlab evaluation call exactly."
   ]
  },
  {
   "cell_type": "code",
   "execution_count": 35,
   "metadata": {
    "collapsed": false
   },
   "outputs": [
    {
     "data": {
      "text/plain": [
       "949.4260053043738"
      ]
     },
     "execution_count": 35,
     "metadata": {},
     "output_type": "execute_result"
    }
   ],
   "source": [
    "guess = array([3.2,0.9,0.4])\n",
    "calibration_eval(guess,rKa_qL_US,Na_US)"
   ]
  },
  {
   "cell_type": "markdown",
   "metadata": {},
   "source": [
    "**JC:** MATLAB calibration_eval gives (when  RHO=0.24):\n",
    "\n",
    ">> calibration_eval(guess,rKa_qL_US,Na_US)\n",
    "\n",
    "ans =\n",
    "\n",
    "      0.26683       39.719       4.1983\n",
    "     "
   ]
  },
  {
   "cell_type": "code",
   "execution_count": 36,
   "metadata": {
    "collapsed": false
   },
   "outputs": [],
   "source": [
    "import scipy.optimize as so"
   ]
  },
  {
   "cell_type": "code",
   "execution_count": 37,
   "metadata": {
    "collapsed": false
   },
   "outputs": [
    {
     "name": "stderr",
     "output_type": "stream",
     "text": [
      "-c:15: RuntimeWarning: invalid value encountered in double_scalars\n",
      "-c:18: RuntimeWarning: invalid value encountered in double_scalars\n",
      "-c:19: RuntimeWarning: invalid value encountered in power\n",
      "-c:22: RuntimeWarning: invalid value encountered in double_scalars\n",
      "-c:24: RuntimeWarning: invalid value encountered in power\n"
     ]
    }
   ],
   "source": [
    "x0=np.array([3.2,.84,.27])\n",
    "a=rKa_qL_US,Na_US\n",
    "result=so.minimize(calibration_eval,x0,args=a,method='Nelder-Mead')"
   ]
  },
  {
   "cell_type": "code",
   "execution_count": 38,
   "metadata": {
    "collapsed": false
   },
   "outputs": [
    {
     "data": {
      "text/plain": [
       "  status: 0\n",
       "    nfev: 210\n",
       " success: True\n",
       "     fun: 5.8793619412223842e-08\n",
       "       x: array([ 3.97104018,  0.8886881 ,  0.31545382])\n",
       " message: 'Optimization terminated successfully.'\n",
       "     nit: 118"
      ]
     },
     "execution_count": 38,
     "metadata": {},
     "output_type": "execute_result"
    }
   ],
   "source": [
    "result"
   ]
  },
  {
   "cell_type": "markdown",
   "metadata": {},
   "source": [
    "It seems then that we are able to reproduce results as obtained by A/R. The next thing we might like to do is see how the rest of the project goes. What we are now going to do is try to get a function that does what the rest of the calibration exercise does, but have this actually be a function, and not just an external loop. So, in essence, the function should work as follows:\n",
    "\n",
    "1. Arguments taken in by the function should be $\\rho, \\mu, $ and $\\sigma$.\n",
    "2. The first order of business is then simulating a $\\mu$, $\\sigma$ log-normal distribution as done in the paper.\n",
    "3. I don't see any reason why rKa_qL_US and Na_US should be afforded special status as arguments. Can't they be globals as well?\n",
    "4. Given a simulated distribution, and the fixed values of rKa_qL_US and Na_US, the next thing to be done is to solve for the x-vector given these values (using a nested optimization routine, as above)\n",
    "5. Given the results, we then run the rest of A/R's code and \"match moments.\" \n",
    "\n",
    "Before getting started, we will first define bins ahead of time, exploiting Python's nice way of working with scope. I am also going to try and improve the code a bit where I think it needs it. Here are the bins: "
   ]
  },
  {
   "cell_type": "code",
   "execution_count": 39,
   "metadata": {
    "collapsed": false
   },
   "outputs": [
    {
     "data": {
      "text/plain": [
       "(11L,)"
      ]
     },
     "execution_count": 39,
     "metadata": {},
     "output_type": "execute_result"
    }
   ],
   "source": [
    "bins=3.64,19.82,27.92,40.06,56.25,72.44,88.63,104.81,201.94,404.28,808.97\n",
    "np.shape(bins)"
   ]
  },
  {
   "cell_type": "code",
   "execution_count": 40,
   "metadata": {
    "collapsed": false
   },
   "outputs": [
    {
     "data": {
      "text/plain": [
       "(3.64,\n",
       " 19.82,\n",
       " 27.92,\n",
       " 40.06,\n",
       " 56.25,\n",
       " 72.44,\n",
       " 88.63,\n",
       " 104.81,\n",
       " 201.94,\n",
       " 404.28,\n",
       " 808.97)"
      ]
     },
     "execution_count": 40,
     "metadata": {},
     "output_type": "execute_result"
    }
   ],
   "source": [
    "bins"
   ]
  },
  {
   "cell_type": "code",
   "execution_count": 40,
   "metadata": {
    "collapsed": false
   },
   "outputs": [],
   "source": []
  },
  {
   "cell_type": "code",
   "execution_count": 41,
   "metadata": {
    "collapsed": false
   },
   "outputs": [
    {
     "data": {
      "text/plain": [
       "0.00026189928029478283"
      ]
     },
     "execution_count": 41,
     "metadata": {},
     "output_type": "execute_result"
    }
   ],
   "source": [
    "np.max(s_prob)"
   ]
  },
  {
   "cell_type": "code",
   "execution_count": 42,
   "metadata": {
    "collapsed": false
   },
   "outputs": [],
   "source": [
    "checker=1,2,4,5,6,7,98,100,1257,2000"
   ]
  },
  {
   "cell_type": "code",
   "execution_count": 43,
   "metadata": {
    "collapsed": false
   },
   "outputs": [
    {
     "data": {
      "text/plain": [
       "6"
      ]
     },
     "execution_count": 43,
     "metadata": {},
     "output_type": "execute_result"
    }
   ],
   "source": [
    "np.searchsorted(checker,7,'rightsided')"
   ]
  },
  {
   "cell_type": "code",
   "execution_count": 44,
   "metadata": {
    "collapsed": false
   },
   "outputs": [],
   "source": [
    "def globalCalibrator(x):\n",
    "    MU=x[0]\n",
    "    SIGMA=x[1]\n",
    "    RHO=x[2]\n",
    "    VAR_s=SIGMA**2\n",
    "    s_prob=np.zeros((s_n,1))                                                # Redefine this every time\n",
    "    for i in range(0,s_n):\n",
    "        if i==0:\n",
    "            d=(s_grid[1]-s_grid[0])/2\n",
    "            s_prob[i]=lognorm_discrete(s_grid[i]-d,s_grid[i]+d,MU,VAR_s)[0]\n",
    "        else:\n",
    "            d=(s_grid[i]-s_grid[i-1])/2\n",
    "            s_prob[i]=lognorm_discrete(s_grid[i]-d,s_grid[i]+d,MU,VAR_s)[0] \n",
    "    XX=sum(s_prob)\n",
    "    if XX<1:\n",
    "        s_prob=s_prob+(1-XX)/s_n  \n",
    "    Xresult=so.minimize(calibration_eval,x0,args=a,method='Nelder-Mead')   #Sloppy - relying on global definitions being just what want them to be\n",
    "    KNn_US=Xresult.x[0]\n",
    "    THETA=Xresult.x[1]\n",
    "    pa_US=Xresult.x[2]\n",
    "    w_US=(1-ALPHA)*A_US*KNn_US**ALPHA           # I'm not sure any of this is necessary given how Python's local/global definitions are so fluid\n",
    "    r_US=ALPHA*A_US*KNn_US**(ALPHA-1)\n",
    "    Ka_US=K_US-(KNn_US*(1-Na_US))\n",
    "    KNa_US=Ka_US/Na_US\n",
    "    YNn_US=A_US*(KNn_US**ALPHA)                                                                          \n",
    "    q_r_US=(rKa_qL_US**(-1))*Ka_US/LN_US\n",
    "    q_US=q_r_US*r_US\n",
    "    aBAR=(1/(pa_US*(1-PHI)))*((w_US*(1-XI)*Na_US/((1-GAMMA)))-PHI*(w_US*(1-XI)+q_US*LN_US+r_US*K_US))  \n",
    "    psi_s_vec1=THETA*((THETA*q_r_US/(1-THETA))**(RHO/(1-RHO)))*np.ones((s_n,1))\n",
    "    psi_s_vec2=(1-THETA)*np.power(s_grid,(RHO/(1-RHO)))\n",
    "    psi_s_vec=psi_s_vec1+psi_s_vec2\n",
    "    l_vec1=((pa_US*GAMMA*(1-THETA)*KAPPA_US*A_US/q_US)**(1/(1-GAMMA)))\n",
    "    l_vec2=(np.power(psi_s_vec,((GAMMA-RHO)/(RHO*(1-GAMMA)))))\n",
    "    l_vec3=(np.power(s_grid,(RHO/(1-RHO))))\n",
    "    l_vec=l_vec1*np.multiply(l_vec2,l_vec3)\n",
    "    k_l_vec=((THETA*q_r_US/(1-THETA))**(1/(1-RHO)))*((np.power(s_grid,(-RHO/(1-RHO)))))\n",
    "    k_vec = np.multiply(k_l_vec , l_vec)\n",
    "    ya_vec=KAPPA_US*A_US*np.power((THETA*np.power(k_vec,RHO)+(1-THETA)*np.power(np.multiply(s_grid,l_vec),RHO)),GAMMA/RHO)\n",
    "    PI_vec=(1-GAMMA)*pa_US*ya_vec\n",
    "    l_value = sum(np.multiply(s_prob,l_vec))           # Average farm size\n",
    "    YNa_value = sum(np.multiply(s_prob,ya_vec))        # Agricultural Labor Productivity\n",
    "    YN_value = Na_US*pa_US*YNa_value+(1-Na_US)*YNn_US  # Aggregate Labor Productivity\n",
    "    binIndices=np.zeros((12,1))\n",
    "    farms=np.zeros((12,1))\n",
    "    lands=np.zeros((12,1))\n",
    "    Capital=np.zeros((12,1))\n",
    "    Output=np.zeros((12,1))\n",
    "    ss=np.zeros((12,1))\n",
    "    startIndex=0\n",
    "    l_vec=np.array(l_vec)\n",
    "    for i in range(0,11):\n",
    "        binIndices[i]=(np.searchsorted(l_vec[:,0],bins[i],'rightsided'))\n",
    "        indexToUse=int(binIndices[i])\n",
    "        farms[i]=np.sum(s_prob[startIndex:indexToUse])\n",
    "        lands[i]=np.sum(np.multiply(l_vec[startIndex:indexToUse],s_prob[startIndex:indexToUse]))/l_value\n",
    "        Capital[i]=np.sum(np.multiply(k_vec[startIndex:indexToUse],s_prob[startIndex:indexToUse]))\n",
    "        Output[i]=np.sum(np.multiply(ya_vec[startIndex:indexToUse],s_prob[startIndex:indexToUse]))\n",
    "        ss[i]=np.sum(np.multiply(s_grid[startIndex:indexToUse],s_prob[startIndex:indexToUse]))\n",
    "        startIndex=indexToUse+1\n",
    "    farms[11]=np.sum(s_prob[startIndex:s_n])\n",
    "    lands[11]=np.sum(np.multiply(l_vec[startIndex:s_n],s_prob[startIndex:s_n]))\n",
    "    Capital[11]=np.sum(np.multiply(k_vec[startIndex:s_n],s_prob[startIndex:s_n]))\n",
    "    Output[11]=np.sum(np.multiply(ya_vec[startIndex:s_n],s_prob[startIndex:s_n]))\n",
    "    ss[11]=np.sum(np.multiply(s_grid[startIndex:s_n],s_prob[startIndex:s_n]))\n",
    "    kl_min_max_model=Capital[0]/(lands[0]*l_value)/(Capital[11]/(lands[11]*l_value))\n",
    "    farmdata=np.asmatrix(farm_pdf_data).T\n",
    "    diff1=farms-farmdata\n",
    "    diff2=np.asmatrix((kl_min_max_model-kl_min_max_data)/kl_min_max_data)\n",
    "    diff=np.vstack((diff1,diff2))\n",
    "    print diff.T\n",
    "    val=np.dot(diff1.T,diff1)\n",
    "    print MU,SIGMA,RHO,val\n",
    "    return val\n"
   ]
  },
  {
   "cell_type": "code",
   "execution_count": 45,
   "metadata": {
    "collapsed": false
   },
   "outputs": [
    {
     "name": "stdout",
     "output_type": "stream",
     "text": [
      "[[ -2.67480427e-03   3.84390340e-03   6.76023481e-03  -5.19314851e-03\n",
      "   -5.32757878e-03  -1.10751810e-02  -1.06718861e-03  -7.12350429e-04\n",
      "    3.73819514e-03   3.66626832e-03  -1.80007770e-04   2.73850591e-03\n",
      "    2.29730701e+03]]\n",
      "-2.7889030987 1.69147901341 0.502734963506 [[ 0.00028224]]\n",
      "[[  1.28039788e-02   2.02097517e-02   7.66724328e-03  -5.59007806e-03\n",
      "   -6.88791732e-03  -1.28769938e-02  -2.79074878e-03  -2.30828490e-03\n",
      "   -3.22831841e-03  -3.27133730e-03  -5.35342055e-03  -3.71165991e-03\n",
      "    1.98646181e+03]]\n",
      "-2.92834825364 1.69147901341 0.502734963506 [[ 0.00095235]]\n",
      "[[  8.51199004e-03  -2.15877141e-03   3.24167164e-03  -9.07794597e-03\n",
      "   -8.68851772e-03  -1.32134975e-02  -2.45211047e-03  -1.64030628e-03\n",
      "    2.15940732e-03   4.99623475e-03   2.64350357e-03   1.03397908e-02\n",
      "    3.09420168e+03]]\n",
      "-2.7889030987 1.77605296408 0.502734963506 [[ 0.00057235]]\n",
      "[[  1.74356401e-02  -1.04329818e-02   2.06763283e-04  -1.26062494e-02\n",
      "   -1.02222042e-02  -1.41478541e-02  -2.58867361e-03  -2.04190435e-03\n",
      "    3.35470371e-03   7.28845785e-03   5.40520020e-03   1.26685322e-02\n",
      "    3.97606171e+03]]\n",
      "-2.7889030987 1.69147901341 0.527871711681 [[ 0.00114142]]\n",
      "[[ -5.56005968e-03   2.50463152e-02   1.13911518e-02  -9.15635009e-04\n",
      "   -3.39307658e-03  -1.03578531e-02  -1.33576518e-03  -1.35476023e-03\n",
      "   -2.01228587e-03  -4.55399384e-03  -6.60341493e-03  -5.44941013e-03\n",
      "    1.46494821e+03]]\n",
      "-2.88186653532 1.74786164719 0.477598215331 [[ 0.00100934]]\n",
      "[[  2.63380878e-04   1.64893719e-02   8.67469864e-03  -4.04649180e-03\n",
      "   -5.41948248e-03  -1.09941947e-02  -1.93496542e-03  -1.38962763e-03\n",
      "   -1.61699495e-04  -1.47396844e-03  -3.79923260e-03  -1.45182539e-03\n",
      "    1.87824878e+03]]\n",
      "-2.85862567617 1.73376598875 0.490166589418 [[ 0.00053825]]\n",
      "[[ -7.51518164e-03  -7.88603395e-03   4.95517361e-03  -7.17703643e-03\n",
      "   -6.21327179e-03  -1.13029364e-02  -6.49194674e-04  -5.17485603e-04\n",
      "    6.37094641e-03   8.02486210e-03   4.57841271e-03   1.19770977e-02\n",
      "    2.84688198e+03]]\n",
      "-2.69593966208 1.77605296408 0.494356047448 [[ 0.00063118]]\n",
      "[[ -2.72616237e-03  -1.00699095e-03   5.71943040e-03  -6.82901696e-03\n",
      "   -6.40617548e-03  -1.12855926e-02  -1.39313447e-03  -7.57279852e-04\n",
      "    4.18855905e-03   5.25252012e-03   2.07944360e-03   7.80616770e-03\n",
      "    2.58878122e+03]]\n",
      "-2.75404180997 1.75490947641 0.496450776462 [[ 0.0003691]]\n",
      "[[ -1.18923479e-02   1.48399066e-02   1.08871457e-02  -1.15554058e-03\n",
      "   -2.57337177e-03  -8.93610528e-03  -4.76391386e-04  -2.88927979e-04\n",
      "    2.84343911e-03  -4.98623825e-04  -4.20202154e-03  -3.92751060e-03\n",
      "    1.63830416e+03]]\n",
      "-2.81214395786 1.67738335496 0.490166589418 [[ 0.00060972]]\n",
      "[[  3.43408790e-03   2.10188373e-03   4.90945747e-03  -7.33814706e-03\n",
      "   -6.56579660e-03  -1.27630450e-02  -1.64976646e-03  -1.01694025e-03\n",
      "    2.11524244e-03   3.81497152e-03   1.03894624e-03   6.56809631e-03\n",
      "    2.62345209e+03]]\n",
      "-2.79471331349 1.7513855618 0.499592869984 [[ 0.00036717]]\n",
      "[[ -1.88280579e-03  -1.21192319e-02   2.38576263e-03  -9.09197609e-03\n",
      "   -7.48109293e-03  -1.22657070e-02  -1.17677132e-03  -5.92923309e-04\n",
      "    7.03108548e-03   9.58721863e-03   6.23724438e-03   1.38275685e-02\n",
      "    3.35097656e+03]]\n",
      "-2.6998131386 1.73141671234 0.50901915055 [[ 0.00081838]]\n",
      "[[ -4.94388741e-05   8.57703606e-03   7.78625182e-03  -5.88535705e-03\n",
      "   -4.87562428e-03  -1.21322326e-02  -1.23868536e-03  -1.26629079e-03\n",
      "    1.63317573e-03   1.58190024e-03  -1.50623699e-03   2.05307004e-03\n",
      "    2.16002052e+03]]\n",
      "-2.81892254178 1.73317866964 0.494879729701 [[ 0.00035459]]\n",
      "[[  3.29037340e-03   1.14627467e-02   7.01405970e-03  -5.49952120e-03\n",
      "   -5.46575346e-03  -1.19435931e-02  -1.31045361e-03  -1.47943765e-03\n",
      "    4.77182599e-04   5.18419907e-04  -2.33334917e-03  -1.38645892e-04\n",
      "    2.14495681e+03]]\n",
      "-2.84765082601 1.69578602016 0.501687598999 [[ 0.00040405]]\n",
      "[[ -1.35806931e-03   2.42236155e-03   5.24099317e-03  -6.15611009e-03\n",
      "   -5.98891777e-03  -1.17278910e-02  -7.74760171e-04  -1.33810923e-03\n",
      "    3.65064148e-03   3.91354186e-03   1.03072828e-03   5.71413082e-03\n",
      "    2.47090239e+03]]\n",
      "-2.77744406398 1.74012861235 0.497759982096 [[ 0.00031124]]\n",
      "[[ -6.14728396e-03   7.52671472e-03   8.10406028e-03  -3.86978446e-03\n",
      "   -4.17247692e-03  -1.00856142e-02  -7.82256439e-04  -4.73854230e-04\n",
      "    3.44930501e-03   1.99394571e-03  -1.46185935e-03   4.86989418e-04\n",
      "    2.03312092e+03]]\n",
      "-2.79546648948 1.6918053018 0.497323580218 [[ 0.0003133]]\n",
      "[[ -6.74763290e-03   4.46394235e-04   6.20922984e-03  -5.41967736e-03\n",
      "   -4.61650491e-03  -1.04109697e-02  -4.91849419e-04  -2.12056711e-04\n",
      "    5.28277416e-03   5.23073020e-03   1.28248400e-03   3.90811627e-03\n",
      "    2.35940244e+03]]\n",
      "-2.755619893 1.68242994873 0.503665954179 [[ 0.00031583]]\n",
      "[[ -4.91706325e-03   2.39011966e-03   6.45373900e-03  -5.35750632e-03\n",
      "   -4.67089363e-03  -1.09999989e-02  -3.80943932e-04  -6.24949058e-04\n",
      "    4.65351625e-03   3.92118998e-03   5.48907885e-04   3.49996742e-03\n",
      "    2.30340136e+03]]\n",
      "-2.77144555519 1.69511712896 0.50146939806 [[ 0.00029318]]\n",
      "[[  1.00345312e-04  -1.84054616e-03   4.43631050e-03  -7.47416832e-03\n",
      "   -6.48897309e-03  -1.16515978e-02  -1.32740212e-03  -1.34110010e-03\n",
      "    4.60322089e-03   5.55722893e-03   2.35125278e-03   7.61892765e-03\n",
      "    2.74101948e+03]]\n",
      "-2.7630619891 1.72601120134 0.503985982223 [[ 0.00037602]]\n",
      "[[ -4.66269114e-03   5.41173990e-03   7.01097256e-03  -4.94789359e-03\n",
      "   -4.42302486e-03  -1.07833673e-02  -7.58767956e-04  -4.10911723e-04\n",
      "    3.21195385e-03   3.15021724e-03  -4.02239698e-04   2.16496242e-03\n",
      "    2.19123729e+03]]\n",
      "-2.78736536438 1.70035677669 0.498989180719 [[ 0.00028634]]\n",
      "[[ -7.01181674e-03   5.91810926e-03   7.87954154e-03  -3.89101078e-03\n",
      "   -3.57272960e-03  -1.05705378e-02  -2.94822997e-04  -1.81487436e-04\n",
      "    4.36643817e-03   3.10996411e-03  -1.17826725e-03  -1.41962904e-04\n",
      "    2.08088107e+03]]\n",
      "-2.78769861487 1.65117333369 0.504369046094 [[ 0.00031618]]\n",
      "[[ -2.81275722e-03   3.03735474e-03   6.19594937e-03  -5.77746320e-03\n",
      "   -5.08147656e-03  -1.17571801e-02  -3.63574458e-04  -1.06281769e-03\n",
      "    3.80657014e-03   3.58076190e-03   6.10905360e-04   4.20485264e-03\n",
      "    2.36827863e+03]]\n",
      "-2.7800077017 1.71788979268 0.499412248096 [[ 0.00029959]]\n",
      "[[ -5.48931145e-03   4.62691033e-03   7.52281906e-03  -4.30948575e-03\n",
      "   -4.53215372e-03  -1.05512685e-02  -7.16556762e-04  -4.68740258e-04\n",
      "    4.23628583e-03   3.50807391e-03  -6.92277003e-04   1.34726141e-03\n",
      "    2.16782683e+03]]\n",
      "-2.78513497715 1.67341215335 0.502716780094 [[ 0.00029186]]\n",
      "[[ -3.42631818e-03   7.13294401e-03   7.30332247e-03  -4.73468171e-03\n",
      "   -4.40927450e-03  -1.10229570e-02  -5.28069967e-04  -8.25279798e-04\n",
      "    3.31640270e-03   2.08067353e-03  -1.15206869e-03   7.88784101e-04\n",
      "    2.12999296e+03]]\n",
      "-2.80282340497 1.68171483334 0.501491218154 [[ 0.00029756]]\n",
      "[[ -4.54810775e-03   3.56755772e-03   6.66653020e-03  -5.20001435e-03\n",
      "   -4.60265201e-03  -1.10031140e-02  -4.15445010e-04  -6.73118134e-04\n",
      "    4.32604356e-03   3.46490528e-03   1.23633440e-04   2.81154024e-03\n",
      "    2.25845894e+03]]\n",
      "-2.77929001763 1.69176655505 0.501474853083 [[ 0.00028641]]\n",
      "[[ -2.56388082e-03   3.81051576e-03   6.33418176e-03  -5.67569005e-03\n",
      "   -5.03788845e-03  -1.17597047e-02  -3.86537838e-04  -1.09417916e-03\n",
      "    3.59351975e-03   3.28370868e-03   3.32629546e-04   3.74557284e-03\n",
      "    2.33712104e+03]]\n",
      "-2.78523734333 1.71565607675 0.499415884778 [[ 0.00029628]]\n",
      "[[ -4.67494421e-03   4.51254339e-03   7.05687612e-03  -4.82654478e-03\n",
      "   -4.32970605e-03  -1.08671913e-02  -9.30527287e-04  -6.19335092e-04\n",
      "    4.31229706e-03   3.16599021e-03  -2.75318850e-04   1.98217308e-03\n",
      "    2.20602005e+03]]\n",
      "-2.78516056869 1.6839731342 0.501891556265 [[ 0.00028603]]\n",
      "[[ -3.46484420e-03   6.05444467e-03   6.78311609e-03  -5.22916690e-03\n",
      "   -4.76733012e-03  -1.05893930e-02  -6.42650222e-04  -8.82176648e-04\n",
      "    3.39779193e-03   2.78915543e-03  -6.92518942e-04   1.78291201e-03\n",
      "    2.20427142e+03]]\n",
      "-2.79499600355 1.69210606114 0.500935613911 [[ 0.00028105]]\n",
      "[[ -2.61678768e-03   6.99380174e-03   6.83897053e-03  -4.57416262e-03\n",
      "   -4.88066260e-03  -1.13328241e-02  -7.40055639e-04  -9.71400770e-04\n",
      "    3.00437079e-03   2.39723651e-03  -9.86975505e-04   1.41635496e-03\n",
      "    2.16731136e+03]]\n",
      "-2.80284899651 1.69227581419 0.500665994324 [[ 0.00029495]]\n",
      "[[ -2.62849992e-03   4.28682501e-03   6.72058283e-03  -5.22018824e-03\n",
      "   -5.41645859e-03  -1.06876107e-02  -8.08300013e-04  -1.08094721e-03\n",
      "    3.84285525e-03   3.58176651e-03  -2.30070173e-04   2.11993136e-03\n",
      "    2.28304151e+03]]\n",
      "-2.79200774958 1.67801536248 0.504718908402 [[ 0.00027523]]\n",
      "[[ -1.73470314e-03   3.85741078e-03   6.57226729e-03  -6.04228591e-03\n",
      "   -4.91262767e-03  -1.09661948e-02  -1.12613540e-03  -8.55141991e-04\n",
      "    4.09276506e-03   3.47017088e-03   5.85285232e-05   2.02506076e-03\n",
      "    2.33443666e+03]]\n",
      "-2.79432894218 1.66684465538 0.507583772243 [[ 0.00027688]]\n",
      "[[ -8.50405970e-04   4.83724517e-03   6.23388563e-03  -5.82563168e-03\n",
      "   -5.35107591e-03  -1.11311994e-02  -1.13176614e-03  -7.78052942e-04\n",
      "    3.00964015e-03   3.18306711e-03  -2.65607681e-04   2.58564620e-03\n",
      "    2.30684453e+03]]\n",
      "-2.79877733253 1.69042715716 0.50370143428 [[ 0.00027729]]\n",
      "[[ -1.95911057e-03   6.07612596e-03   6.61464338e-03  -5.43414494e-03\n",
      "   -5.03694664e-03  -1.09506794e-02  -1.02849250e-03  -7.19748350e-04\n",
      "    3.40514183e-03   2.73505884e-03  -7.83862086e-04   1.58870962e-03\n",
      "    2.23217421e+03]]\n",
      "-2.80161762507 1.68222004045 0.503502340889 [[ 0.00028312]]\n",
      "[[ -2.34460455e-03   4.08357286e-03   6.88765423e-03  -5.08428956e-03\n",
      "   -5.26169601e-03  -1.10523691e-02  -1.06565322e-03  -7.21838853e-04\n",
      "    3.62078980e-03   3.20646884e-03  -2.74877030e-04   2.52107365e-03\n",
      "    2.27527230e+03]]\n",
      "-2.79208173029 1.68916427017 0.502926807852 [[ 0.00027678]]\n",
      "[[ -7.00699298e-04   3.47477687e-03   6.00578237e-03  -5.97808593e-03\n",
      "   -5.47153754e-03  -1.13303833e-02  -1.36747528e-03  -4.71938812e-04\n",
      "    3.61806052e-03   3.71542876e-03   7.23776326e-05   2.90316547e-03\n",
      "    2.38622820e+03]]\n",
      "-2.79358187138 1.67963179873 0.506629153112 [[ 0.00028011]]\n",
      "[[ -1.47764254e-03   3.87779143e-03   6.52907186e-03  -5.45143200e-03\n",
      "   -5.63249473e-03  -1.14506186e-02  -8.77393075e-04  -5.75153662e-04\n",
      "    3.66504494e-03   3.31750312e-03  -2.04304568e-05   2.58311744e-03\n",
      "    2.34260840e+03]]\n",
      "-2.79393540442 1.68275036433 0.505205768312 [[ 0.00028462]]\n",
      "[[ -2.48615761e-03   4.51232139e-03   6.47684474e-03  -5.49017940e-03\n",
      "   -5.00069804e-03  -1.08706182e-02  -9.37403903e-04  -6.27635641e-04\n",
      "    3.45859930e-03   3.39364533e-03  -2.52270660e-04   2.32074763e-03\n",
      "    2.27918119e+03]]\n",
      "-2.79204473994 1.68358981633 0.503822858127 [[ 0.00027201]]\n",
      "[[ -1.73896131e-03   4.56532689e-03   6.47673940e-03  -5.52388021e-03\n",
      "   -5.05957149e-03  -1.15406016e-02  -9.53619438e-04  -6.39883849e-04\n",
      "    3.42454357e-03   3.38189856e-03  -2.47548569e-04   2.35307956e-03\n",
      "    2.29488660e+03]]\n",
      "-2.79539254105 1.68422125982 0.504210171341 [[ 0.00028519]]\n",
      "[[ -3.04904409e-03   4.84774104e-03   7.07931751e-03  -4.88682603e-03\n",
      "   -5.10428521e-03  -1.09616829e-02  -1.01360644e-03  -6.92311845e-04\n",
      "    3.61969893e-03   3.05605965e-03  -3.35919851e-04   1.95043695e-03\n",
      "    2.24356398e+03]]\n",
      "-2.79350187657 1.68506071181 0.502827261156 [[ 0.00028087]]\n",
      "[[ -3.49729373e-03   4.76177767e-03   6.60407297e-03  -5.32519321e-03\n",
      "   -4.83601645e-03  -1.07524979e-02  -8.51908185e-04  -5.63283009e-04\n",
      "    4.03835723e-03   3.30445328e-03  -3.93474438e-04   2.00234861e-03\n",
      "    2.23531214e+03]]\n",
      "-2.789643703 1.68022266726 0.503369180449 [[ 0.00027832]]\n",
      "[[ -2.89638172e-03   3.73974630e-03   6.77666283e-03  -5.12713897e-03\n",
      "   -5.30938295e-03  -1.12180537e-02  -7.05969832e-04  -4.45440625e-04\n",
      "    4.02734891e-03   3.44499108e-03  -6.65816553e-05   2.25102424e-03\n",
      "    2.29540731e+03]]\n",
      "-2.78896225178 1.67615785223 0.505113370162 [[ 0.00028248]]\n",
      "[[ -2.85867556e-03   4.91037777e-03   6.51246139e-03  -5.45402751e-03\n",
      "   -4.97214870e-03  -1.08545572e-02  -9.28484899e-04  -6.22844760e-04\n",
      "    3.85759687e-03   3.21655463e-03  -4.03853669e-04   2.09620366e-03\n",
      "    2.25100203e+03]]\n",
      "-2.79236697037 1.68283499692 0.503398788408 [[ 0.00027802]]\n",
      "[[ -1.71223417e-03   4.27149050e-03   6.53538346e-03  -5.45149790e-03\n",
      "   -5.63868079e-03  -1.08446259e-02  -9.19598333e-04  -6.14948776e-04\n",
      "    3.48741995e-03   3.13600745e-03  -1.60231266e-04   2.40363311e-03\n",
      "    2.30361849e+03]]\n",
      "-2.79463593692 1.68273744989 0.504591189509 [[ 0.00027203]]\n",
      "[[ -1.58708075e-03   3.69837006e-03   6.64263192e-03  -5.99853543e-03\n",
      "   -4.83788918e-03  -1.13740480e-02  -8.25656136e-04  -5.39346068e-04\n",
      "    3.33288606e-03   3.43860926e-03   1.39906876e-05   2.51562621e-03\n",
      "    2.32293268e+03]]\n",
      "-2.79342531392 1.68006008888 0.505356515617 [[ 0.00027931]]\n",
      "[[ -2.61864772e-03   4.68539503e-03   6.54496327e-03  -5.42074664e-03\n",
      "   -4.94559069e-03  -1.08394131e-02  -9.19916529e-04  -6.18095349e-04\n",
      "    3.45408082e-03   3.33600910e-03  -3.27731217e-04   2.16493104e-03\n",
      "    2.27157134e+03]]\n",
      "-2.79263155626 1.68214126991 0.50388822021 [[ 0.00027207]]\n",
      "[[ -2.02042854e-03   4.79408459e-03   6.31850380e-03  -5.68677570e-03\n",
      "   -5.19045916e-03  -1.10029883e-02  -1.03094656e-03  -6.96444352e-04\n",
      "    3.68464653e-03   3.21569738e-03  -3.00879805e-04   2.42476783e-03\n",
      "    2.29016188e+03]]\n",
      "-2.79420040583 1.68763032827 0.503482603495 [[ 0.00027877]]\n",
      "[[ -2.55260060e-03   4.49103071e-03   6.61970634e-03  -5.33732434e-03\n",
      "   -4.87247690e-03  -1.14074427e-02  -8.55638793e-04  -5.65851745e-04\n",
      "    3.63054609e-03   3.45321780e-03  -2.75712117e-04   2.16060054e-03\n",
      "    2.28762023e+03]]\n",
      "-2.79255591364 1.68041910393 0.504409832175 [[ 0.00028377]]\n",
      "[[ -2.09982206e-03   4.39243888e-03   6.50612345e-03  -5.47081882e-03\n",
      "   -4.99535427e-03  -1.14885764e-02  -9.11436892e-04  -6.05231256e-04\n",
      "    3.54450535e-03   3.46593508e-03  -2.06280470e-04   2.36216215e-03\n",
      "    2.29137408e+03]]\n",
      "-2.79334033843 1.68316363311 0.504207023818 [[ 0.0002843]]\n",
      "[[ -2.55238983e-03   4.59883631e-03   6.51088918e-03  -5.45547641e-03\n",
      "   -4.97315176e-03  -1.08550168e-02  -9.28658340e-04  -6.22862166e-04\n",
      "    3.45636419e-03   3.36485686e-03  -2.89983405e-04   2.24280852e-03\n",
      "    2.27537135e+03]]\n",
      "-2.7923381481 1.68286554312 0.503855539168 [[ 0.00027201]]\n",
      "[[ -2.55722967e-03   4.39976487e-03   6.59852344e-03  -5.35540649e-03\n",
      "   -4.88346749e-03  -1.14111635e-02  -8.55846590e-04  -5.64206636e-04\n",
      "    3.65036796e-03   3.48758742e-03  -2.41119220e-04   2.22040064e-03\n",
      "    2.28111717e+03]]\n",
      "-2.79202624476 1.68080258941 0.504270883264 [[ 0.00028371]]\n",
      "[[ -2.86139747e-03   4.51189671e-03   6.55127860e-03  -5.39664239e-03\n",
      "   -4.90956976e-03  -1.08065609e-02  -8.91837001e-04  -5.93903326e-04\n",
      "    3.54657095e-03   3.41346962e-03  -2.78725005e-04   2.20816498e-03\n",
      "    2.26214038e+03]]\n",
      "-2.79093241676 1.68167499946 0.503759163222 [[ 0.00027181]]\n",
      "[[ -3.39327385e-03   4.72273369e-03   6.57380125e-03  -5.35956488e-03\n",
      "   -4.86664812e-03  -1.07723091e-02  -8.64922000e-04  -5.72135953e-04\n",
      "    4.02200730e-03   3.31386578e-03  -3.70914426e-04   2.06002810e-03\n",
      "    2.25315303e+03]]\n",
      "-2.78972845593 1.68093068263 0.503535232924 [[ 0.0002781]]\n",
      "[[ -2.70922680e-03   4.68208491e-03   6.42766633e-03  -5.53928095e-03\n",
      "   -5.03869588e-03  -1.08914202e-02  -3.70093376e-04  -1.21103277e-03\n",
      "    3.86957224e-03   3.29399145e-03  -3.06134589e-04   2.29401770e-03\n",
      "    2.26333296e+03]]\n",
      "-2.79151729177 1.68461764986 0.503354157081 [[ 0.00027806]]\n",
      "[[ -2.82380580e-03   4.76446752e-03   6.47030908e-03  -5.49338894e-03\n",
      "   -4.99994476e-03  -1.08677571e-02  -9.33910122e-04  -6.23994539e-04\n",
      "    3.87953811e-03   3.26922347e-03  -3.45704006e-04   2.20430726e-03\n",
      "    2.27329749e+03]]\n",
      "-2.79164453002 1.68366388475 0.503583338626 [[ 0.0002778]]\n",
      "[[ -2.74806231e-03   4.62356345e-03   6.55573756e-03  -5.40145179e-03\n",
      "   -4.92233061e-03  -1.14346211e-02  -2.90946472e-04  -1.15244048e-03\n",
      "    4.04327190e-03   3.36585191e-03  -3.13310182e-04   2.16747425e-03\n",
      "    2.28222366e+03]]\n",
      "-2.79189900651 1.68175635452 0.504041701718 [[ 0.00028995]]\n",
      "[[ -2.88110882e-03   4.80565918e-03   6.49164831e-03  -5.47042381e-03\n",
      "   -4.98055522e-03  -1.08559195e-02  -9.26609986e-04  -6.19400444e-04\n",
      "    3.48219061e-03   3.40303494e-03  -1.10741922e-04   2.15947791e-03\n",
      "    2.27829926e+03]]\n",
      "-2.79170814914 1.68318700219 0.503697929399 [[ 0.00027574]]\n",
      "[[ -2.69069422e-03   4.58233338e-03   6.53436254e-03  -5.42445524e-03\n",
      "   -4.94174815e-03  -1.08322322e-02  -9.12006428e-04  -6.10213802e-04\n",
      "    3.49212615e-03   3.37826667e-03  -2.93472530e-04   2.21234730e-03\n",
      "    2.27721394e+03]]\n",
      "-2.79183538739 1.68223323708 0.503927110945 [[ 0.00027191]]\n",
      "[[ -2.80640693e-03   4.47222452e-03   6.53073663e-03  -5.41874651e-03\n",
      "   -4.92822528e-03  -1.08179432e-02  -8.98850281e-04  -5.98311560e-04\n",
      "    3.54184139e-03   3.42543572e-03  -2.59625530e-04   2.25135774e-03\n",
      "    2.27029265e+03]]\n",
      "-2.79087021463 1.68213315879 0.503817215694 [[ 0.00027179]]\n",
      "[[ -2.93332629e-03   4.40874543e-03   6.54063747e-03  -5.40039200e-03\n",
      "   -4.90575936e-03  -1.07993979e-02  -8.83936788e-04  -5.86027101e-04\n",
      "    3.58461854e-03   3.45575589e-03  -2.44431893e-04   2.25563568e-03\n",
      "    2.26775848e+03]]\n",
      "-2.7901362479 1.68176696663 0.503798053957 [[ 0.00027174]]\n",
      "[[ -3.17069107e-03   4.48896514e-03   6.60741254e-03  -5.32399965e-03\n",
      "   -4.83718313e-03  -1.07547176e-02  -8.54362405e-04  -5.65732487e-04\n",
      "    3.62372907e-03   3.43796027e-03  -2.92266730e-04   2.13000593e-03\n",
      "    2.25893333e+03]]\n",
      "-2.78989129476 1.68019365245 0.503833360623 [[ 0.00027189]]\n",
      "[[ -3.59011763e-03   4.66164444e-03   6.59845498e-03  -5.32292710e-03\n",
      "   -4.82657642e-03  -1.07415180e-02  -8.41381702e-04  -5.53527399e-04\n",
      "    3.67795937e-03   3.49329758e-03  -1.07104629e-04   2.04093425e-03\n",
      "    2.25974734e+03]]\n",
      "-2.78880458556 1.68019050861 0.503666607589 [[ 0.00027609]]\n",
      "[[ -2.83962059e-03   4.52620597e-03   6.55040583e-03  -5.39907263e-03\n",
      "   -4.91297133e-03  -1.08095730e-02  -8.94367967e-04  -5.96057660e-04\n",
      "    3.53852948e-03   3.40699146e-03  -2.82637355e-04   2.20513937e-03\n",
      "    2.27006446e+03]]\n",
      "-2.79107768693 1.68172255496 0.503861985106 [[ 0.00027182]]\n",
      "[[ -2.58547231e-03   4.47506745e-03   6.48753286e-03  -5.47328218e-03\n",
      "   -4.98154606e-03  -1.08555381e-02  -9.25664433e-04  -6.18212930e-04\n",
      "    3.48949789e-03   3.41279259e-03  -2.45030876e-04   2.31595760e-03\n",
      "    2.27440653e+03]]\n",
      "-2.7915396063 1.68324936158 0.503779440901 [[ 0.0002719]]\n",
      "[[ -3.02441606e-03   4.48569190e-03   6.57742008e-03  -5.36136453e-03\n",
      "   -4.87332381e-03  -1.07799586e-02  -8.72212483e-04  -5.78869515e-04\n",
      "    3.59014218e-03   3.43169001e-03  -2.80420965e-04   2.17648857e-03\n",
      "    2.26278799e+03]]\n",
      "-2.79030337265 1.68095757973 0.503819880692 [[ 0.00027181]]\n"
     ]
    }
   ],
   "source": [
    "xGuess=-5,1.9,.25\n",
    "xGuess =-2.7889030987, 1.69147901341, 0.502734963506\n",
    "optResult=so.minimize(globalCalibrator,xGuess,method='Nelder-Mead',tol=1e-3)"
   ]
  },
  {
   "cell_type": "code",
   "execution_count": 45,
   "metadata": {
    "collapsed": false
   },
   "outputs": [],
   "source": []
  },
  {
   "cell_type": "code",
   "execution_count": 46,
   "metadata": {
    "collapsed": false
   },
   "outputs": [
    {
     "data": {
      "text/plain": [
       "  status: 0\n",
       "    nfev: 63\n",
       " success: True\n",
       "     fun: 0.00027174323130965163\n",
       "       x: array([-2.79013625,  1.68176697,  0.50379805])\n",
       " message: 'Optimization terminated successfully.'\n",
       "     nit: 31"
      ]
     },
     "execution_count": 46,
     "metadata": {},
     "output_type": "execute_result"
    }
   ],
   "source": [
    "optResult"
   ]
  },
  {
   "cell_type": "code",
   "execution_count": 47,
   "metadata": {
    "collapsed": false
   },
   "outputs": [
    {
     "data": {
      "text/plain": [
       "(0.50379805395728861, -2.7901362478963154, 1.6817669666255064)"
      ]
     },
     "execution_count": 47,
     "metadata": {},
     "output_type": "execute_result"
    }
   ],
   "source": [
    "MUHat=optResult.x[0]\n",
    "SIGMAHat=optResult.x[1]\n",
    "RHOHat=optResult.x[2]\n",
    "RHOHat,MUHat,SIGMAHat"
   ]
  },
  {
   "cell_type": "code",
   "execution_count": 48,
   "metadata": {
    "collapsed": false
   },
   "outputs": [],
   "source": [
    "s_probHat=np.zeros((s_n,1))\n",
    "for i in range(0,s_n-1):\n",
    "    if i==0:\n",
    "        d=(s_grid[1]-s_grid[0])/2\n",
    "        s_probHat[i]=lognorm_discrete(s_grid[i]-d,s_grid[i]+d,MUHat,SIGMAHat)[0]\n",
    "    else:\n",
    "        d=(s_grid[i]-s_grid[i-1])/2\n",
    "        s_probHat[i]=lognorm_discrete(s_grid[i]-d,s_grid[i]+d,MUHat,SIGMAHat)[0]"
   ]
  },
  {
   "cell_type": "code",
   "execution_count": 49,
   "metadata": {
    "collapsed": false
   },
   "outputs": [
    {
     "data": {
      "image/png": "[encoded data removed]",
      "text/plain": [
       "<matplotlib.figure.Figure at 0xab9d4a8>"
      ]
     },
     "metadata": {},
     "output_type": "display_data"
    }
   ],
   "source": [
    "plt.plot(s_probHat)\n",
    "plt.show()"
   ]
  },
  {
   "cell_type": "code",
   "execution_count": 50,
   "metadata": {
    "collapsed": false
   },
   "outputs": [],
   "source": [
    "XX=sum(s_probHat)\n",
    "if XX<1:\n",
    "    s_probHat=s_probHat+(1-XX)/s_n"
   ]
  },
  {
   "cell_type": "code",
   "execution_count": 51,
   "metadata": {
    "collapsed": false
   },
   "outputs": [
    {
     "data": {
      "image/png": "[encoded data removed]",
      "text/plain": [
       "<matplotlib.figure.Figure at 0xeded438>"
      ]
     },
     "metadata": {},
     "output_type": "display_data"
    },
    {
     "name": "stdout",
     "output_type": "stream",
     "text": [
      "0.998562706272\n"
     ]
    }
   ],
   "source": [
    "plt.plot(s_probHat)\n",
    "plt.show()\n",
    "print XX"
   ]
  },
  {
   "cell_type": "markdown",
   "metadata": {},
   "source": [
    "It seems like a good idea to make a little code that can generate quantities of interest based on this. So, here goes:"
   ]
  },
  {
   "cell_type": "code",
   "execution_count": 52,
   "metadata": {
    "collapsed": false
   },
   "outputs": [],
   "source": [
    "    VAR_sHAT=SIGMA**2\n",
    "    XresultHat=so.minimize(calibration_eval,x0,args=a,method='Nelder-Mead')   #Sloppy - relying on global definitions being just what want them to be\n",
    "    KNn_US=XresultHat.x[0]\n",
    "    THETA=XresultHat.x[1]\n",
    "    pa_US=XresultHat.x[2]\n",
    "    w_US=(1-ALPHA)*A_US*KNn_US**ALPHA           # I'm not sure any of this is necessary given how Python's local/global definitions are so fluid\n",
    "    r_US=ALPHA*A_US*KNn_US**(ALPHA-1)\n",
    "    Ka_US=K_US-(KNn_US*(1-Na_US))\n",
    "    KNa_US=Ka_US/Na_US\n",
    "    YNn_US=A_US*(KNn_US**ALPHA)                                                                          \n",
    "    q_r_US=(rKa_qL_US**(-1))*Ka_US/LN_US\n",
    "    q_US=q_r_US*r_US\n",
    "    aBAR=(1/(pa_US*(1-PHI)))*((w_US*(1-XI)*Na_US/((1-GAMMA)))-PHI*(w_US*(1-XI)+q_US*LN_US+r_US*K_US))  \n",
    "    psi_s_vec1=THETA*((THETA*q_r_US/(1-THETA))**(RHO/(1-RHO)))*np.ones((s_n,1))\n",
    "    psi_s_vec2=(1-THETA)*np.power(s_grid,(RHO/(1-RHO)))\n",
    "    psi_s_vec=psi_s_vec1+psi_s_vec2\n",
    "    l_vec1=((pa_US*GAMMA*(1-THETA)*KAPPA_US*A_US/q_US)**(1/(1-GAMMA)))\n",
    "    l_vec2=(np.power(psi_s_vec,((GAMMA-RHO)/(RHO*(1-GAMMA)))))\n",
    "    l_vec3=(np.power(s_grid,(RHO/(1-RHO))))\n",
    "    l_vec=l_vec1*np.multiply(l_vec2,l_vec3)\n",
    "    k_l_vec=((THETA*q_r_US/(1-THETA))**(1/(1-RHO)))*((np.power(s_grid,(-RHO/(1-RHO)))))\n",
    "    k_vec = np.multiply(k_l_vec , l_vec)\n",
    "    ya_vec=KAPPA_US*A_US*np.power((THETA*np.power(k_vec,RHO)+(1-THETA)*np.power(np.multiply(s_grid,l_vec),RHO)),GAMMA/RHO)\n",
    "    PI_vec=(1-GAMMA)*pa_US*ya_vec\n",
    "    l_value = sum(np.multiply(s_probHat,l_vec))           # Average farm size\n",
    "    YNa_value = sum(np.multiply(s_probHat,ya_vec))        # Agricultural Labor Productivity\n",
    "    YN_value = Na_US*pa_US*YNa_value+(1-Na_US)*YNn_US  # Aggregate Labor Productivity\n",
    "    binIndices=np.zeros((12,1))\n",
    "    farms=np.zeros((12,1))\n",
    "    lands=np.zeros((12,1))\n",
    "    Capital=np.zeros((12,1))\n",
    "    Output=np.zeros((12,1))\n",
    "    ss=np.zeros((12,1))\n",
    "    startIndex=0\n",
    "    l_vec=np.array(l_vec)\n",
    "    for i in range(0,11):\n",
    "        binIndices[i]=(np.searchsorted(l_vec[:,0],bins[i],'rightsided'))\n",
    "        indexToUse=int(binIndices[i])\n",
    "        farms[i]=np.sum(s_prob[startIndex:indexToUse])\n",
    "        lands[i]=np.sum(np.multiply(l_vec[startIndex:indexToUse],s_prob[startIndex:indexToUse]))/l_value\n",
    "        Capital[i]=np.sum(np.multiply(k_vec[startIndex:indexToUse],s_prob[startIndex:indexToUse]))\n",
    "        Output[i]=np.sum(np.multiply(ya_vec[startIndex:indexToUse],s_prob[startIndex:indexToUse]))\n",
    "        ss[i]=np.sum(np.multiply(s_grid[startIndex:indexToUse],s_prob[startIndex:indexToUse]))\n",
    "        startIndex=indexToUse+1\n",
    "    farms[11]=np.sum(s_prob[startIndex:s_n])\n",
    "    lands[11]=np.sum(np.multiply(l_vec[startIndex:s_n],s_prob[startIndex:s_n]))\n",
    "    Capital[11]=np.sum(np.multiply(k_vec[startIndex:s_n],s_prob[startIndex:s_n]))\n",
    "    Output[11]=np.sum(np.multiply(ya_vec[startIndex:s_n],s_prob[startIndex:s_n]))\n",
    "    ss[11]=np.sum(np.multiply(s_grid[startIndex:s_n],s_prob[startIndex:s_n]))\n",
    "    kl_min_max_model=Capital[0]/(lands[0]*l_value)/(Capital[11]/(lands[11]*l_value))"
   ]
  },
  {
   "cell_type": "code",
   "execution_count": 53,
   "metadata": {
    "collapsed": false
   },
   "outputs": [
    {
     "name": "stdout",
     "output_type": "stream",
     "text": [
      "[ 2855.81567799]\n",
      "[[ 0.09009124  0.29068376  0.07367146  0.07601274  0.06771613  0.04721292\n",
      "   0.03536576  0.02764707  0.09460149  0.07721176  0.05791016  0.05945275]]\n",
      "[0.1056, 0.2813, 0.0698, 0.0871, 0.0794, 0.0633, 0.0397, 0.031, 0.0964, 0.0679, 0.042, 0.0365]\n"
     ]
    }
   ],
   "source": [
    "print kl_min_max_model\n",
    "print farms.T\n",
    "print farm_pdf_data"
   ]
  },
  {
   "cell_type": "code",
   "execution_count": 54,
   "metadata": {
    "collapsed": false
   },
   "outputs": [
    {
     "data": {
      "image/png": "[encoded data removed]",
      "text/plain": [
       "<matplotlib.figure.Figure at 0xaf27dd8>"
      ]
     },
     "metadata": {},
     "output_type": "display_data"
    }
   ],
   "source": [
    "n_groups = 12\n",
    "\n",
    "fig, ax = plt.subplots()\n",
    "\n",
    "index = np.arange(n_groups)\n",
    "bar_width = 0.35\n",
    "\n",
    "opacity = 0.4\n",
    "error_config = {'ecolor': '0.3'}\n",
    "\n",
    "rects1 = plt.bar(index, np.array(farms), bar_width,\n",
    "                 alpha=opacity,\n",
    "                 color='b',\n",
    "                 label='Model')\n",
    "\n",
    "rects2 = plt.bar(index + bar_width, np.array(farm_pdf_data), bar_width,\n",
    "                 alpha=opacity,\n",
    "                 color='r',\n",
    "                 label='Data')\n",
    "\n",
    "plt.tight_layout()\n",
    "plt.show()"
   ]
  },
  {
   "cell_type": "markdown",
   "metadata": {},
   "source": [
    "That is a pretty close fit. What about the other stuff?"
   ]
  },
  {
   "cell_type": "code",
   "execution_count": 55,
   "metadata": {
    "collapsed": false
   },
   "outputs": [
    {
     "data": {
      "image/png": "[encoded data removed]",
      "text/plain": [
       "<matplotlib.figure.Figure at 0xab5afd0>"
      ]
     },
     "metadata": {},
     "output_type": "display_data"
    }
   ],
   "source": [
    "fig, ax = plt.subplots()\n",
    "rects1 = plt.bar(index, np.array(Capital), bar_width,\n",
    "                 alpha=opacity,\n",
    "                 color='b',\n",
    "                 label='Model')\n",
    "plt.show()"
   ]
  },
  {
   "cell_type": "code",
   "execution_count": 55,
   "metadata": {
    "collapsed": false
   },
   "outputs": [],
   "source": []
  }
 ],
 "metadata": {
  "kernelspec": {
   "display_name": "Python 2",
   "language": "python",
   "name": "python2"
  },
  "language_info": {
   "codemirror_mode": {
    "name": "ipython",
    "version": 2
   },
   "file_extension": ".py",
   "mimetype": "text/x-python",
   "name": "python",
   "nbconvert_exporter": "python",
   "pygments_lexer": "ipython2",
   "version": "2.7.8"
  }
 },
 "nbformat": 4,
 "nbformat_minor": 0
}
